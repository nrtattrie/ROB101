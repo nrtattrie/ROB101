{
 "cells": [
  {
   "cell_type": "markdown",
   "metadata": {
    "id": "unef-r0X9qBG"
   },
   "source": [
    "# Recitation 5"
   ]
  },
  {
   "cell_type": "markdown",
   "metadata": {
    "id": "GL7QOmld9qBO"
   },
   "source": [
    "## Least Squares"
   ]
  },
  {
   "cell_type": "markdown",
   "metadata": {
    "id": "m-nIoU_g9qBP"
   },
   "source": [
    "Suppose we have a scattered set of $(x,y)$ points, and we want to draw a line of best fit for them. We can use least squares to do this pretty easily."
   ]
  },
  {
   "cell_type": "code",
   "execution_count": 1,
   "metadata": {
    "colab": {
     "base_uri": "https://localhost:8080/",
     "height": 135
    },
    "executionInfo": {
     "elapsed": 26,
     "status": "error",
     "timestamp": 1635257879561,
     "user": {
      "displayName": "Margaret Eva Mungai",
      "photoUrl": "https://lh3.googleusercontent.com/a/default-user=s64",
      "userId": "05695771792837769313"
     },
     "user_tz": 240
    },
    "id": "bhvngwQk9qBR",
    "outputId": "42dd3b5b-994a-4e4f-825b-bb1f4437c1d5"
   },
   "outputs": [
    {
     "data": {
      "image/svg+xml": [
       "<?xml version=\"1.0\" encoding=\"utf-8\"?>\n",
       "<svg xmlns=\"http://www.w3.org/2000/svg\" xmlns:xlink=\"http://www.w3.org/1999/xlink\" width=\"600\" height=\"400\" viewBox=\"0 0 2400 1600\">\n",
       "<defs>\n",
       "  <clipPath id=\"clip590\">\n",
       "    <rect x=\"0\" y=\"0\" width=\"2400\" height=\"1600\"/>\n",
       "  </clipPath>\n",
       "</defs>\n",
       "<path clip-path=\"url(#clip590)\" d=\"\n",
       "M0 1600 L2400 1600 L2400 0 L0 0  Z\n",
       "  \" fill=\"#ffffff\" fill-rule=\"evenodd\" fill-opacity=\"1\"/>\n",
       "<defs>\n",
       "  <clipPath id=\"clip591\">\n",
       "    <rect x=\"480\" y=\"0\" width=\"1681\" height=\"1600\"/>\n",
       "  </clipPath>\n",
       "</defs>\n",
       "<path clip-path=\"url(#clip590)\" d=\"\n",
       "M247.459 1423.18 L2352.76 1423.18 L2352.76 47.2441 L247.459 47.2441  Z\n",
       "  \" fill=\"#ffffff\" fill-rule=\"evenodd\" fill-opacity=\"1\"/>\n",
       "<defs>\n",
       "  <clipPath id=\"clip592\">\n",
       "    <rect x=\"247\" y=\"47\" width=\"2106\" height=\"1377\"/>\n",
       "  </clipPath>\n",
       "</defs>\n",
       "<polyline clip-path=\"url(#clip592)\" style=\"stroke:#000000; stroke-linecap:butt; stroke-linejoin:round; stroke-width:2; stroke-opacity:0.1; fill:none\" points=\"\n",
       "  516.109,1423.18 516.109,47.2441 \n",
       "  \"/>\n",
       "<polyline clip-path=\"url(#clip592)\" style=\"stroke:#000000; stroke-linecap:butt; stroke-linejoin:round; stroke-width:2; stroke-opacity:0.1; fill:none\" points=\"\n",
       "  934.241,1423.18 934.241,47.2441 \n",
       "  \"/>\n",
       "<polyline clip-path=\"url(#clip592)\" style=\"stroke:#000000; stroke-linecap:butt; stroke-linejoin:round; stroke-width:2; stroke-opacity:0.1; fill:none\" points=\"\n",
       "  1352.37,1423.18 1352.37,47.2441 \n",
       "  \"/>\n",
       "<polyline clip-path=\"url(#clip592)\" style=\"stroke:#000000; stroke-linecap:butt; stroke-linejoin:round; stroke-width:2; stroke-opacity:0.1; fill:none\" points=\"\n",
       "  1770.51,1423.18 1770.51,47.2441 \n",
       "  \"/>\n",
       "<polyline clip-path=\"url(#clip592)\" style=\"stroke:#000000; stroke-linecap:butt; stroke-linejoin:round; stroke-width:2; stroke-opacity:0.1; fill:none\" points=\"\n",
       "  2188.64,1423.18 2188.64,47.2441 \n",
       "  \"/>\n",
       "<polyline clip-path=\"url(#clip590)\" style=\"stroke:#000000; stroke-linecap:butt; stroke-linejoin:round; stroke-width:4; stroke-opacity:1; fill:none\" points=\"\n",
       "  247.459,1423.18 2352.76,1423.18 \n",
       "  \"/>\n",
       "<polyline clip-path=\"url(#clip590)\" style=\"stroke:#000000; stroke-linecap:butt; stroke-linejoin:round; stroke-width:4; stroke-opacity:1; fill:none\" points=\"\n",
       "  516.109,1423.18 516.109,1404.28 \n",
       "  \"/>\n",
       "<polyline clip-path=\"url(#clip590)\" style=\"stroke:#000000; stroke-linecap:butt; stroke-linejoin:round; stroke-width:4; stroke-opacity:1; fill:none\" points=\"\n",
       "  934.241,1423.18 934.241,1404.28 \n",
       "  \"/>\n",
       "<polyline clip-path=\"url(#clip590)\" style=\"stroke:#000000; stroke-linecap:butt; stroke-linejoin:round; stroke-width:4; stroke-opacity:1; fill:none\" points=\"\n",
       "  1352.37,1423.18 1352.37,1404.28 \n",
       "  \"/>\n",
       "<polyline clip-path=\"url(#clip590)\" style=\"stroke:#000000; stroke-linecap:butt; stroke-linejoin:round; stroke-width:4; stroke-opacity:1; fill:none\" points=\"\n",
       "  1770.51,1423.18 1770.51,1404.28 \n",
       "  \"/>\n",
       "<polyline clip-path=\"url(#clip590)\" style=\"stroke:#000000; stroke-linecap:butt; stroke-linejoin:round; stroke-width:4; stroke-opacity:1; fill:none\" points=\"\n",
       "  2188.64,1423.18 2188.64,1404.28 \n",
       "  \"/>\n",
       "<path clip-path=\"url(#clip590)\" d=\"M510.762 1479.92 L527.081 1479.92 L527.081 1483.85 L505.137 1483.85 L505.137 1479.92 Q507.799 1477.16 512.382 1472.53 Q516.988 1467.88 518.169 1466.54 Q520.414 1464.01 521.294 1462.28 Q522.197 1460.52 522.197 1458.83 Q522.197 1456.07 520.252 1454.34 Q518.331 1452.6 515.229 1452.6 Q513.03 1452.6 510.576 1453.37 Q508.146 1454.13 505.368 1455.68 L505.368 1450.96 Q508.192 1449.82 510.646 1449.25 Q513.1 1448.67 515.137 1448.67 Q520.507 1448.67 523.701 1451.35 Q526.896 1454.04 526.896 1458.53 Q526.896 1460.66 526.086 1462.58 Q525.299 1464.48 523.192 1467.07 Q522.613 1467.74 519.512 1470.96 Q516.41 1474.15 510.762 1479.92 Z\" fill=\"#000000\" fill-rule=\"evenodd\" fill-opacity=\"1\" /><path clip-path=\"url(#clip590)\" d=\"M937.251 1453.37 L925.445 1471.81 L937.251 1471.81 L937.251 1453.37 M936.024 1449.29 L941.903 1449.29 L941.903 1471.81 L946.834 1471.81 L946.834 1475.7 L941.903 1475.7 L941.903 1483.85 L937.251 1483.85 L937.251 1475.7 L921.649 1475.7 L921.649 1471.19 L936.024 1449.29 Z\" fill=\"#000000\" fill-rule=\"evenodd\" fill-opacity=\"1\" /><path clip-path=\"url(#clip590)\" d=\"M1352.78 1464.71 Q1349.63 1464.71 1347.78 1466.86 Q1345.95 1469.01 1345.95 1472.76 Q1345.95 1476.49 1347.78 1478.67 Q1349.63 1480.82 1352.78 1480.82 Q1355.93 1480.82 1357.76 1478.67 Q1359.61 1476.49 1359.61 1472.76 Q1359.61 1469.01 1357.76 1466.86 Q1355.93 1464.71 1352.78 1464.71 M1362.06 1450.06 L1362.06 1454.31 Q1360.3 1453.48 1358.5 1453.04 Q1356.71 1452.6 1354.95 1452.6 Q1350.33 1452.6 1347.87 1455.73 Q1345.44 1458.85 1345.09 1465.17 Q1346.46 1463.16 1348.52 1462.09 Q1350.58 1461 1353.06 1461 Q1358.27 1461 1361.27 1464.18 Q1364.31 1467.32 1364.31 1472.76 Q1364.31 1478.09 1361.16 1481.31 Q1358.01 1484.52 1352.78 1484.52 Q1346.78 1484.52 1343.61 1479.94 Q1340.44 1475.33 1340.44 1466.61 Q1340.44 1458.41 1344.33 1453.55 Q1348.22 1448.67 1354.77 1448.67 Q1356.53 1448.67 1358.31 1449.01 Q1360.12 1449.36 1362.06 1450.06 Z\" fill=\"#000000\" fill-rule=\"evenodd\" fill-opacity=\"1\" /><path clip-path=\"url(#clip590)\" d=\"M1770.51 1467.44 Q1767.17 1467.44 1765.25 1469.22 Q1763.35 1471 1763.35 1474.13 Q1763.35 1477.25 1765.25 1479.04 Q1767.17 1480.82 1770.51 1480.82 Q1773.84 1480.82 1775.76 1479.04 Q1777.68 1477.23 1777.68 1474.13 Q1777.68 1471 1775.76 1469.22 Q1773.86 1467.44 1770.51 1467.44 M1765.83 1465.45 Q1762.82 1464.71 1761.13 1462.65 Q1759.46 1460.59 1759.46 1457.63 Q1759.46 1453.48 1762.4 1451.07 Q1765.37 1448.67 1770.51 1448.67 Q1775.67 1448.67 1778.61 1451.07 Q1781.55 1453.48 1781.55 1457.63 Q1781.55 1460.59 1779.86 1462.65 Q1778.19 1464.71 1775.21 1465.45 Q1778.59 1466.24 1780.46 1468.53 Q1782.36 1470.82 1782.36 1474.13 Q1782.36 1479.15 1779.28 1481.84 Q1776.22 1484.52 1770.51 1484.52 Q1764.79 1484.52 1761.71 1481.84 Q1758.65 1479.15 1758.65 1474.13 Q1758.65 1470.82 1760.55 1468.53 Q1762.45 1466.24 1765.83 1465.45 M1764.12 1458.06 Q1764.12 1460.75 1765.78 1462.25 Q1767.47 1463.76 1770.51 1463.76 Q1773.52 1463.76 1775.21 1462.25 Q1776.92 1460.75 1776.92 1458.06 Q1776.92 1455.38 1775.21 1453.88 Q1773.52 1452.37 1770.51 1452.37 Q1767.47 1452.37 1765.78 1453.88 Q1764.12 1455.38 1764.12 1458.06 Z\" fill=\"#000000\" fill-rule=\"evenodd\" fill-opacity=\"1\" /><path clip-path=\"url(#clip590)\" d=\"M2163.33 1479.92 L2170.97 1479.92 L2170.97 1453.55 L2162.66 1455.22 L2162.66 1450.96 L2170.92 1449.29 L2175.59 1449.29 L2175.59 1479.92 L2183.23 1479.92 L2183.23 1483.85 L2163.33 1483.85 L2163.33 1479.92 Z\" fill=\"#000000\" fill-rule=\"evenodd\" fill-opacity=\"1\" /><path clip-path=\"url(#clip590)\" d=\"M2202.68 1452.37 Q2199.07 1452.37 2197.24 1455.94 Q2195.43 1459.48 2195.43 1466.61 Q2195.43 1473.71 2197.24 1477.28 Q2199.07 1480.82 2202.68 1480.82 Q2206.31 1480.82 2208.12 1477.28 Q2209.95 1473.71 2209.95 1466.61 Q2209.95 1459.48 2208.12 1455.94 Q2206.31 1452.37 2202.68 1452.37 M2202.68 1448.67 Q2208.49 1448.67 2211.54 1453.27 Q2214.62 1457.86 2214.62 1466.61 Q2214.62 1475.33 2211.54 1479.94 Q2208.49 1484.52 2202.68 1484.52 Q2196.87 1484.52 2193.79 1479.94 Q2190.73 1475.33 2190.73 1466.61 Q2190.73 1457.86 2193.79 1453.27 Q2196.87 1448.67 2202.68 1448.67 Z\" fill=\"#000000\" fill-rule=\"evenodd\" fill-opacity=\"1\" /><path clip-path=\"url(#clip590)\" d=\"M1281.93 1520.52 L1288.84 1520.52 L1300.65 1538.19 L1312.52 1520.52 L1319.43 1520.52 L1304.15 1543.34 L1320.45 1568.04 L1313.54 1568.04 L1300.17 1547.83 L1286.71 1568.04 L1279.77 1568.04 L1296.73 1542.68 L1281.93 1520.52 Z\" fill=\"#000000\" fill-rule=\"evenodd\" fill-opacity=\"1\" /><polyline clip-path=\"url(#clip592)\" style=\"stroke:#000000; stroke-linecap:butt; stroke-linejoin:round; stroke-width:2; stroke-opacity:0.1; fill:none\" points=\"\n",
       "  247.459,1209.5 2352.76,1209.5 \n",
       "  \"/>\n",
       "<polyline clip-path=\"url(#clip592)\" style=\"stroke:#000000; stroke-linecap:butt; stroke-linejoin:round; stroke-width:2; stroke-opacity:0.1; fill:none\" points=\"\n",
       "  247.459,897.469 2352.76,897.469 \n",
       "  \"/>\n",
       "<polyline clip-path=\"url(#clip592)\" style=\"stroke:#000000; stroke-linecap:butt; stroke-linejoin:round; stroke-width:2; stroke-opacity:0.1; fill:none\" points=\"\n",
       "  247.459,585.437 2352.76,585.437 \n",
       "  \"/>\n",
       "<polyline clip-path=\"url(#clip592)\" style=\"stroke:#000000; stroke-linecap:butt; stroke-linejoin:round; stroke-width:2; stroke-opacity:0.1; fill:none\" points=\"\n",
       "  247.459,273.405 2352.76,273.405 \n",
       "  \"/>\n",
       "<polyline clip-path=\"url(#clip590)\" style=\"stroke:#000000; stroke-linecap:butt; stroke-linejoin:round; stroke-width:4; stroke-opacity:1; fill:none\" points=\"\n",
       "  247.459,1423.18 247.459,47.2441 \n",
       "  \"/>\n",
       "<polyline clip-path=\"url(#clip590)\" style=\"stroke:#000000; stroke-linecap:butt; stroke-linejoin:round; stroke-width:4; stroke-opacity:1; fill:none\" points=\"\n",
       "  247.459,1209.5 266.356,1209.5 \n",
       "  \"/>\n",
       "<polyline clip-path=\"url(#clip590)\" style=\"stroke:#000000; stroke-linecap:butt; stroke-linejoin:round; stroke-width:4; stroke-opacity:1; fill:none\" points=\"\n",
       "  247.459,897.469 266.356,897.469 \n",
       "  \"/>\n",
       "<polyline clip-path=\"url(#clip590)\" style=\"stroke:#000000; stroke-linecap:butt; stroke-linejoin:round; stroke-width:4; stroke-opacity:1; fill:none\" points=\"\n",
       "  247.459,585.437 266.356,585.437 \n",
       "  \"/>\n",
       "<polyline clip-path=\"url(#clip590)\" style=\"stroke:#000000; stroke-linecap:butt; stroke-linejoin:round; stroke-width:4; stroke-opacity:1; fill:none\" points=\"\n",
       "  247.459,273.405 266.356,273.405 \n",
       "  \"/>\n",
       "<path clip-path=\"url(#clip590)\" d=\"M144.329 1192.22 L162.686 1192.22 L162.686 1196.16 L148.612 1196.16 L148.612 1204.63 Q149.63 1204.28 150.649 1204.12 Q151.667 1203.93 152.686 1203.93 Q158.473 1203.93 161.852 1207.1 Q165.232 1210.28 165.232 1215.69 Q165.232 1221.27 161.76 1224.37 Q158.288 1227.45 151.968 1227.45 Q149.792 1227.45 147.524 1227.08 Q145.279 1226.71 142.871 1225.97 L142.871 1221.27 Q144.954 1222.41 147.177 1222.96 Q149.399 1223.52 151.876 1223.52 Q155.88 1223.52 158.218 1221.41 Q160.556 1219.3 160.556 1215.69 Q160.556 1212.08 158.218 1209.97 Q155.88 1207.87 151.876 1207.87 Q150.001 1207.87 148.126 1208.29 Q146.274 1208.7 144.329 1209.58 L144.329 1192.22 Z\" fill=\"#000000\" fill-rule=\"evenodd\" fill-opacity=\"1\" /><path clip-path=\"url(#clip590)\" d=\"M174.445 1220.9 L179.329 1220.9 L179.329 1226.78 L174.445 1226.78 L174.445 1220.9 Z\" fill=\"#000000\" fill-rule=\"evenodd\" fill-opacity=\"1\" /><path clip-path=\"url(#clip590)\" d=\"M199.514 1195.3 Q195.903 1195.3 194.075 1198.86 Q192.269 1202.41 192.269 1209.54 Q192.269 1216.64 194.075 1220.21 Q195.903 1223.75 199.514 1223.75 Q203.149 1223.75 204.954 1220.21 Q206.783 1216.64 206.783 1209.54 Q206.783 1202.41 204.954 1198.86 Q203.149 1195.3 199.514 1195.3 M199.514 1191.6 Q205.324 1191.6 208.38 1196.2 Q211.459 1200.79 211.459 1209.54 Q211.459 1218.26 208.38 1222.87 Q205.324 1227.45 199.514 1227.45 Q193.704 1227.45 190.625 1222.87 Q187.57 1218.26 187.57 1209.54 Q187.57 1200.79 190.625 1196.2 Q193.704 1191.6 199.514 1191.6 Z\" fill=\"#000000\" fill-rule=\"evenodd\" fill-opacity=\"1\" /><path clip-path=\"url(#clip590)\" d=\"M144.098 880.189 L166.32 880.189 L166.32 882.179 L153.774 914.749 L148.89 914.749 L160.695 884.124 L144.098 884.124 L144.098 880.189 Z\" fill=\"#000000\" fill-rule=\"evenodd\" fill-opacity=\"1\" /><path clip-path=\"url(#clip590)\" d=\"M175.44 908.869 L180.325 908.869 L180.325 914.749 L175.44 914.749 L175.44 908.869 Z\" fill=\"#000000\" fill-rule=\"evenodd\" fill-opacity=\"1\" /><path clip-path=\"url(#clip590)\" d=\"M190.556 880.189 L208.912 880.189 L208.912 884.124 L194.838 884.124 L194.838 892.596 Q195.857 892.249 196.875 892.087 Q197.894 891.901 198.912 891.901 Q204.699 891.901 208.079 895.073 Q211.459 898.244 211.459 903.661 Q211.459 909.239 207.987 912.341 Q204.514 915.42 198.195 915.42 Q196.019 915.42 193.75 915.049 Q191.505 914.679 189.098 913.938 L189.098 909.239 Q191.181 910.374 193.403 910.929 Q195.625 911.485 198.102 911.485 Q202.107 911.485 204.445 909.378 Q206.783 907.272 206.783 903.661 Q206.783 900.05 204.445 897.943 Q202.107 895.837 198.102 895.837 Q196.227 895.837 194.352 896.253 Q192.5 896.67 190.556 897.55 L190.556 880.189 Z\" fill=\"#000000\" fill-rule=\"evenodd\" fill-opacity=\"1\" /><path clip-path=\"url(#clip590)\" d=\"M114.931 598.782 L122.57 598.782 L122.57 572.416 L114.26 574.083 L114.26 569.823 L122.524 568.157 L127.2 568.157 L127.2 598.782 L134.839 598.782 L134.839 602.717 L114.931 602.717 L114.931 598.782 Z\" fill=\"#000000\" fill-rule=\"evenodd\" fill-opacity=\"1\" /><path clip-path=\"url(#clip590)\" d=\"M154.283 571.235 Q150.672 571.235 148.843 574.8 Q147.038 578.342 147.038 585.471 Q147.038 592.578 148.843 596.143 Q150.672 599.684 154.283 599.684 Q157.917 599.684 159.723 596.143 Q161.552 592.578 161.552 585.471 Q161.552 578.342 159.723 574.8 Q157.917 571.235 154.283 571.235 M154.283 567.532 Q160.093 567.532 163.149 572.138 Q166.227 576.721 166.227 585.471 Q166.227 594.198 163.149 598.805 Q160.093 603.388 154.283 603.388 Q148.473 603.388 145.394 598.805 Q142.339 594.198 142.339 585.471 Q142.339 576.721 145.394 572.138 Q148.473 567.532 154.283 567.532 Z\" fill=\"#000000\" fill-rule=\"evenodd\" fill-opacity=\"1\" /><path clip-path=\"url(#clip590)\" d=\"M174.445 596.837 L179.329 596.837 L179.329 602.717 L174.445 602.717 L174.445 596.837 Z\" fill=\"#000000\" fill-rule=\"evenodd\" fill-opacity=\"1\" /><path clip-path=\"url(#clip590)\" d=\"M199.514 571.235 Q195.903 571.235 194.075 574.8 Q192.269 578.342 192.269 585.471 Q192.269 592.578 194.075 596.143 Q195.903 599.684 199.514 599.684 Q203.149 599.684 204.954 596.143 Q206.783 592.578 206.783 585.471 Q206.783 578.342 204.954 574.8 Q203.149 571.235 199.514 571.235 M199.514 567.532 Q205.324 567.532 208.38 572.138 Q211.459 576.721 211.459 585.471 Q211.459 594.198 208.38 598.805 Q205.324 603.388 199.514 603.388 Q193.704 603.388 190.625 598.805 Q187.57 594.198 187.57 585.471 Q187.57 576.721 190.625 572.138 Q193.704 567.532 199.514 567.532 Z\" fill=\"#000000\" fill-rule=\"evenodd\" fill-opacity=\"1\" /><path clip-path=\"url(#clip590)\" d=\"M115.927 286.75 L123.566 286.75 L123.566 260.384 L115.256 262.051 L115.256 257.791 L123.519 256.125 L128.195 256.125 L128.195 286.75 L135.834 286.75 L135.834 290.685 L115.927 290.685 L115.927 286.75 Z\" fill=\"#000000\" fill-rule=\"evenodd\" fill-opacity=\"1\" /><path clip-path=\"url(#clip590)\" d=\"M149.306 286.75 L165.626 286.75 L165.626 290.685 L143.681 290.685 L143.681 286.75 Q146.343 283.995 150.927 279.365 Q155.533 274.713 156.714 273.37 Q158.959 270.847 159.839 269.111 Q160.741 267.352 160.741 265.662 Q160.741 262.907 158.797 261.171 Q156.876 259.435 153.774 259.435 Q151.575 259.435 149.121 260.199 Q146.691 260.963 143.913 262.514 L143.913 257.791 Q146.737 256.657 149.191 256.079 Q151.644 255.5 153.681 255.5 Q159.052 255.5 162.246 258.185 Q165.44 260.87 165.44 265.361 Q165.44 267.49 164.63 269.412 Q163.843 271.31 161.737 273.902 Q161.158 274.574 158.056 277.791 Q154.954 280.986 149.306 286.75 Z\" fill=\"#000000\" fill-rule=\"evenodd\" fill-opacity=\"1\" /><path clip-path=\"url(#clip590)\" d=\"M175.44 284.805 L180.325 284.805 L180.325 290.685 L175.44 290.685 L175.44 284.805 Z\" fill=\"#000000\" fill-rule=\"evenodd\" fill-opacity=\"1\" /><path clip-path=\"url(#clip590)\" d=\"M190.556 256.125 L208.912 256.125 L208.912 260.06 L194.838 260.06 L194.838 268.532 Q195.857 268.185 196.875 268.023 Q197.894 267.838 198.912 267.838 Q204.699 267.838 208.079 271.009 Q211.459 274.18 211.459 279.597 Q211.459 285.176 207.987 288.277 Q204.514 291.356 198.195 291.356 Q196.019 291.356 193.75 290.986 Q191.505 290.615 189.098 289.875 L189.098 285.176 Q191.181 286.31 193.403 286.865 Q195.625 287.421 198.102 287.421 Q202.107 287.421 204.445 285.314 Q206.783 283.208 206.783 279.597 Q206.783 275.986 204.445 273.879 Q202.107 271.773 198.102 271.773 Q196.227 271.773 194.352 272.19 Q192.5 272.606 190.556 273.486 L190.556 256.125 Z\" fill=\"#000000\" fill-rule=\"evenodd\" fill-opacity=\"1\" /><path clip-path=\"url(#clip590)\" d=\"M16.4842 755.248 L16.4842 748.341 L36.0269 735.164 L16.4842 722.083 L16.4842 715.176 L41.3741 731.981 L64.0042 731.981 L64.0042 738.443 L41.3741 738.443 L16.4842 755.248 Z\" fill=\"#000000\" fill-rule=\"evenodd\" fill-opacity=\"1\" /><circle clip-path=\"url(#clip592)\" cx=\"307.043\" cy=\"1384.24\" r=\"14\" fill=\"#009af9\" fill-rule=\"evenodd\" fill-opacity=\"1\" stroke=\"#000000\" stroke-opacity=\"1\" stroke-width=\"3.2\"/>\n",
       "<circle clip-path=\"url(#clip592)\" cx=\"516.109\" cy=\"1209.5\" r=\"14\" fill=\"#009af9\" fill-rule=\"evenodd\" fill-opacity=\"1\" stroke=\"#000000\" stroke-opacity=\"1\" stroke-width=\"3.2\"/>\n",
       "<circle clip-path=\"url(#clip592)\" cx=\"725.175\" cy=\"1097.17\" r=\"14\" fill=\"#009af9\" fill-rule=\"evenodd\" fill-opacity=\"1\" stroke=\"#000000\" stroke-opacity=\"1\" stroke-width=\"3.2\"/>\n",
       "<circle clip-path=\"url(#clip592)\" cx=\"516.109\" cy=\"835.062\" r=\"14\" fill=\"#009af9\" fill-rule=\"evenodd\" fill-opacity=\"1\" stroke=\"#000000\" stroke-opacity=\"1\" stroke-width=\"3.2\"/>\n",
       "<circle clip-path=\"url(#clip592)\" cx=\"1352.37\" cy=\"1084.69\" r=\"14\" fill=\"#009af9\" fill-rule=\"evenodd\" fill-opacity=\"1\" stroke=\"#000000\" stroke-opacity=\"1\" stroke-width=\"3.2\"/>\n",
       "<circle clip-path=\"url(#clip592)\" cx=\"1561.44\" cy=\"835.062\" r=\"14\" fill=\"#009af9\" fill-rule=\"evenodd\" fill-opacity=\"1\" stroke=\"#000000\" stroke-opacity=\"1\" stroke-width=\"3.2\"/>\n",
       "<circle clip-path=\"url(#clip592)\" cx=\"2293.17\" cy=\"997.319\" r=\"14\" fill=\"#009af9\" fill-rule=\"evenodd\" fill-opacity=\"1\" stroke=\"#000000\" stroke-opacity=\"1\" stroke-width=\"3.2\"/>\n",
       "<circle clip-path=\"url(#clip592)\" cx=\"1143.31\" cy=\"1084.69\" r=\"14\" fill=\"#009af9\" fill-rule=\"evenodd\" fill-opacity=\"1\" stroke=\"#000000\" stroke-opacity=\"1\" stroke-width=\"3.2\"/>\n",
       "<circle clip-path=\"url(#clip592)\" cx=\"1143.31\" cy=\"822.581\" r=\"14\" fill=\"#009af9\" fill-rule=\"evenodd\" fill-opacity=\"1\" stroke=\"#000000\" stroke-opacity=\"1\" stroke-width=\"3.2\"/>\n",
       "<circle clip-path=\"url(#clip592)\" cx=\"1770.51\" cy=\"585.437\" r=\"14\" fill=\"#009af9\" fill-rule=\"evenodd\" fill-opacity=\"1\" stroke=\"#000000\" stroke-opacity=\"1\" stroke-width=\"3.2\"/>\n",
       "<circle clip-path=\"url(#clip592)\" cx=\"1561.44\" cy=\"1084.69\" r=\"14\" fill=\"#009af9\" fill-rule=\"evenodd\" fill-opacity=\"1\" stroke=\"#000000\" stroke-opacity=\"1\" stroke-width=\"3.2\"/>\n",
       "<circle clip-path=\"url(#clip592)\" cx=\"1979.57\" cy=\"173.555\" r=\"14\" fill=\"#009af9\" fill-rule=\"evenodd\" fill-opacity=\"1\" stroke=\"#000000\" stroke-opacity=\"1\" stroke-width=\"3.2\"/>\n",
       "<circle clip-path=\"url(#clip592)\" cx=\"2188.64\" cy=\"86.1857\" r=\"14\" fill=\"#009af9\" fill-rule=\"evenodd\" fill-opacity=\"1\" stroke=\"#000000\" stroke-opacity=\"1\" stroke-width=\"3.2\"/>\n",
       "</svg>\n"
      ]
     },
     "execution_count": 1,
     "metadata": {},
     "output_type": "execute_result"
    }
   ],
   "source": [
    "using Plots, LinearAlgebra\n",
    "gr()\n",
    "\n",
    "# data\n",
    "x_data = [1, 2, 3, 2, 6, 7, 10.5, 5, 5, 8, 7, 9, 10]\n",
    "y_data = [3.6, 5, 5.9, 8, 6, 8, 6.7, 6, 8.1, 10, 6, 13.3, 14]\n",
    "\n",
    "# plot data\n",
    "scatter(x_data, y_data)\n",
    "plot!(xlabel=\"X\", ylabel=\"Y\", leg=false)"
   ]
  },
  {
   "cell_type": "markdown",
   "metadata": {
    "id": "QRAzNMAP9qBY"
   },
   "source": [
    "In a least squares problem, we are trying to find the best solution to $Ax=b$, where \"best\" means the solution provides the least squared error, i.e $\\|Ax-b\\|$ is minimized. In this case we can't solve $Ax=b$ normally, since our dataset clearly has no exact solution (you can't draw a single straight line that goes through every point)."
   ]
  },
  {
   "cell_type": "markdown",
   "metadata": {
    "id": "5WSyiOpL9qBa"
   },
   "source": [
    "To find the solution with least squared error, we first need to set up the problem in the correct form. We should put our $x$ values in a column of our $A$ matrix and our $y$ values in our $b$ vector, since we are trying to find a relation between the x and y values. If this is all we did, we would only have a single variable to change in order to find the best fit line, which would correspond to our line's slope. This would make our best fit very innacurate if any offset from the origin was needed."
   ]
  },
  {
   "cell_type": "markdown",
   "metadata": {
    "id": "9nssAcOS9qBb"
   },
   "source": [
    "To account for this, we need to add a second column to our $A$ matrix, which will just be ones. this will provide an offset for our best fit line."
   ]
  },
  {
   "cell_type": "code",
   "execution_count": 23,
   "metadata": {
    "id": "xcvPjjMc9qBd",
    "outputId": "e4040b4e-e12c-47a4-96ce-c821cc35d7db"
   },
   "outputs": [
    {
     "data": {
      "text/plain": [
       "13×2 Matrix{Float64}:\n",
       "  1.0  1.0\n",
       "  2.0  1.0\n",
       "  3.0  1.0\n",
       "  2.0  1.0\n",
       "  6.0  1.0\n",
       "  7.0  1.0\n",
       " 10.5  1.0\n",
       "  5.0  1.0\n",
       "  5.0  1.0\n",
       "  8.0  1.0\n",
       "  7.0  1.0\n",
       "  9.0  1.0\n",
       " 10.0  1.0"
      ]
     },
     "execution_count": 23,
     "metadata": {},
     "output_type": "execute_result"
    }
   ],
   "source": [
    "A = [x_data ones(size(x_data))]"
   ]
  },
  {
   "cell_type": "markdown",
   "metadata": {
    "id": "yQiLOEiT9qBe"
   },
   "source": [
    "We will solve our least squares problem by first multiplying both sides of our equation by $A^T$, giving us $A^TAx=A^Tb$, then solving the equation."
   ]
  },
  {
   "cell_type": "code",
   "execution_count": 36,
   "metadata": {
    "id": "yDdTHtIR9qBg",
    "outputId": "fd8f0248-4d9e-4282-c89c-afeb5bdd2609"
   },
   "outputs": [
    {
     "data": {
      "text/plain": [
       "2-element Vector{Int64}:\n",
       " 0\n",
       " 0"
      ]
     },
     "execution_count": 36,
     "metadata": {},
     "output_type": "execute_result"
    }
   ],
   "source": [
    "# setup equation\n",
    "b = y_data\n",
    "A_T = A'\n",
    "A_T_A = A_T * A\n",
    "A_T_b = A_T * b\n",
    "\n",
    "# empty x vector to put solution in\n",
    "x = [0, 0]"
   ]
  },
  {
   "cell_type": "markdown",
   "metadata": {
    "id": "I481jxhj9qBh"
   },
   "source": [
    "First, try solving with LU factorization. Don't forget to take permutations into account!"
   ]
  },
  {
   "cell_type": "code",
   "execution_count": 38,
   "metadata": {
    "id": "tGVnR0UY9qBi",
    "outputId": "b4ac5f54-2ad7-4ccb-d3b0-98de14bb791f"
   },
   "outputs": [
    {
     "data": {
      "text/plain": [
       "backwardsub (generic function with 1 method)"
      ]
     },
     "execution_count": 38,
     "metadata": {},
     "output_type": "execute_result"
    }
   ],
   "source": [
    "# Given forward and backward substitution functions\n",
    "function forwardsub(L, b)\n",
    "    # Assert no entries in the diagonal of U\n",
    "    # are 0 (or very close to 0)\n",
    "    @assert minimum(abs.(diag(U))) > 1e-6\n",
    "    # START of our computations\n",
    "    n = length(b)\n",
    "    x = Vector{Float64}(undef, n); #initialize an x vector of the correct size\n",
    "    x[1] = b[1]/L[1,1] #find the first entry of x\n",
    "    for i = 2:n #find every entry from the 2nd to the end\n",
    "        x[i]=(b[i]- (L[i,1:i-1])'*x[1:i-1] )/L[i,i] \n",
    "        #notice that we used the transpose operator to get the row of L\n",
    "    end\n",
    "    # END of our computations. \n",
    "    return x\n",
    "end\n",
    "\n",
    "function backwardsub(U, b)\n",
    "    \n",
    "    # Assert no entries in the diagonal of U\n",
    "    # are 0 (or very close to 0)\n",
    "    @assert minimum(abs.(diag(U))) > 1e-6\n",
    "    \n",
    "    n = length(b)\n",
    "    x = Vector{Float64}(undef, n)\n",
    "\n",
    "    x[n] = b[n] / U[n,n]\n",
    "    for i in n-1:-1:1\n",
    "        x[i]=(b[i] - (U[i,(i+1):n])' * x[(i+1):n]) ./ U[i,i]\n",
    "    end\n",
    "    \n",
    "    return x    \n",
    "end"
   ]
  },
  {
   "cell_type": "code",
   "execution_count": null,
   "metadata": {
    "id": "J-hvdloi9qBl",
    "outputId": "81348e91-293c-4a6f-d3dd-411ffe42c59d"
   },
   "outputs": [
    {
     "data": {
      "text/plain": [
       "2-element Array{Float64,1}:\n",
       " 0.6533354922279799\n",
       " 3.9440900259067315"
      ]
     },
     "execution_count": 31,
     "metadata": {},
     "output_type": "execute_result"
    }
   ],
   "source": [
    "# solve A_T_A * x = A_T_b\n",
    "F = lu(A_T_A)\n",
    "L = F.L\n",
    "U = F.U\n",
    "P = F.P\n",
    "\n",
    "# Your solution here\n"
   ]
  },
  {
   "cell_type": "code",
   "execution_count": null,
   "metadata": {
    "id": "cbUDltiS9qBm",
    "outputId": "e4a9bec2-a1c1-4abb-835e-17bb66c0c55c"
   },
   "outputs": [
    {
     "data": {
      "image/svg+xml": [
       "<?xml version=\"1.0\" encoding=\"utf-8\"?>\n",
       "<svg xmlns=\"http://www.w3.org/2000/svg\" xmlns:xlink=\"http://www.w3.org/1999/xlink\" width=\"600\" height=\"400\" viewBox=\"0 0 2400 1600\">\n",
       "<defs>\n",
       "  <clipPath id=\"clip720\">\n",
       "    <rect x=\"0\" y=\"0\" width=\"2400\" height=\"1600\"/>\n",
       "  </clipPath>\n",
       "</defs>\n",
       "<path clip-path=\"url(#clip720)\" d=\"\n",
       "M0 1600 L2400 1600 L2400 0 L0 0  Z\n",
       "  \" fill=\"#ffffff\" fill-rule=\"evenodd\" fill-opacity=\"1\"/>\n",
       "<defs>\n",
       "  <clipPath id=\"clip721\">\n",
       "    <rect x=\"480\" y=\"0\" width=\"1681\" height=\"1600\"/>\n",
       "  </clipPath>\n",
       "</defs>\n",
       "<path clip-path=\"url(#clip720)\" d=\"\n",
       "M234.82 1423.18 L2352.76 1423.18 L2352.76 47.2441 L234.82 47.2441  Z\n",
       "  \" fill=\"#ffffff\" fill-rule=\"evenodd\" fill-opacity=\"1\"/>\n",
       "<defs>\n",
       "  <clipPath id=\"clip722\">\n",
       "    <rect x=\"234\" y=\"47\" width=\"2119\" height=\"1377\"/>\n",
       "  </clipPath>\n",
       "</defs>\n",
       "<polyline clip-path=\"url(#clip722)\" style=\"stroke:#000000; stroke-width:2; stroke-opacity:0.1; fill:none\" points=\"\n",
       "  505.083,1423.18 505.083,47.2441 \n",
       "  \"/>\n",
       "<polyline clip-path=\"url(#clip722)\" style=\"stroke:#000000; stroke-width:2; stroke-opacity:0.1; fill:none\" points=\"\n",
       "  925.726,1423.18 925.726,47.2441 \n",
       "  \"/>\n",
       "<polyline clip-path=\"url(#clip722)\" style=\"stroke:#000000; stroke-width:2; stroke-opacity:0.1; fill:none\" points=\"\n",
       "  1346.37,1423.18 1346.37,47.2441 \n",
       "  \"/>\n",
       "<polyline clip-path=\"url(#clip722)\" style=\"stroke:#000000; stroke-width:2; stroke-opacity:0.1; fill:none\" points=\"\n",
       "  1767.01,1423.18 1767.01,47.2441 \n",
       "  \"/>\n",
       "<polyline clip-path=\"url(#clip722)\" style=\"stroke:#000000; stroke-width:2; stroke-opacity:0.1; fill:none\" points=\"\n",
       "  2187.65,1423.18 2187.65,47.2441 \n",
       "  \"/>\n",
       "<polyline clip-path=\"url(#clip720)\" style=\"stroke:#000000; stroke-width:4; stroke-opacity:1; fill:none\" points=\"\n",
       "  234.82,1423.18 2352.76,1423.18 \n",
       "  \"/>\n",
       "<polyline clip-path=\"url(#clip720)\" style=\"stroke:#000000; stroke-width:4; stroke-opacity:1; fill:none\" points=\"\n",
       "  505.083,1423.18 505.083,1406.67 \n",
       "  \"/>\n",
       "<polyline clip-path=\"url(#clip720)\" style=\"stroke:#000000; stroke-width:4; stroke-opacity:1; fill:none\" points=\"\n",
       "  925.726,1423.18 925.726,1406.67 \n",
       "  \"/>\n",
       "<polyline clip-path=\"url(#clip720)\" style=\"stroke:#000000; stroke-width:4; stroke-opacity:1; fill:none\" points=\"\n",
       "  1346.37,1423.18 1346.37,1406.67 \n",
       "  \"/>\n",
       "<polyline clip-path=\"url(#clip720)\" style=\"stroke:#000000; stroke-width:4; stroke-opacity:1; fill:none\" points=\"\n",
       "  1767.01,1423.18 1767.01,1406.67 \n",
       "  \"/>\n",
       "<polyline clip-path=\"url(#clip720)\" style=\"stroke:#000000; stroke-width:4; stroke-opacity:1; fill:none\" points=\"\n",
       "  2187.65,1423.18 2187.65,1406.67 \n",
       "  \"/>\n",
       "<path clip-path=\"url(#clip720)\" d=\"M 0 0 M499.736 1479.92 L516.055 1479.92 L516.055 1483.85 L494.111 1483.85 L494.111 1479.92 Q496.773 1477.16 501.356 1472.53 Q505.962 1467.88 507.143 1466.54 Q509.388 1464.01 510.268 1462.28 Q511.171 1460.52 511.171 1458.83 Q511.171 1456.07 509.226 1454.34 Q507.305 1452.6 504.203 1452.6 Q502.004 1452.6 499.55 1453.37 Q497.12 1454.13 494.342 1455.68 L494.342 1450.96 Q497.166 1449.82 499.62 1449.25 Q502.074 1448.67 504.111 1448.67 Q509.481 1448.67 512.675 1451.35 Q515.87 1454.04 515.87 1458.53 Q515.87 1460.66 515.06 1462.58 Q514.273 1464.48 512.166 1467.07 Q511.587 1467.74 508.486 1470.96 Q505.384 1474.15 499.736 1479.92 Z\" fill=\"#000000\" fill-rule=\"evenodd\" fill-opacity=\"1\" /><path clip-path=\"url(#clip720)\" d=\"M 0 0 M928.735 1453.37 L916.929 1471.81 L928.735 1471.81 L928.735 1453.37 M927.508 1449.29 L933.388 1449.29 L933.388 1471.81 L938.318 1471.81 L938.318 1475.7 L933.388 1475.7 L933.388 1483.85 L928.735 1483.85 L928.735 1475.7 L913.133 1475.7 L913.133 1471.19 L927.508 1449.29 Z\" fill=\"#000000\" fill-rule=\"evenodd\" fill-opacity=\"1\" /><path clip-path=\"url(#clip720)\" d=\"M 0 0 M1346.77 1464.71 Q1343.63 1464.71 1341.77 1466.86 Q1339.94 1469.01 1339.94 1472.76 Q1339.94 1476.49 1341.77 1478.67 Q1343.63 1480.82 1346.77 1480.82 Q1349.92 1480.82 1351.75 1478.67 Q1353.6 1476.49 1353.6 1472.76 Q1353.6 1469.01 1351.75 1466.86 Q1349.92 1464.71 1346.77 1464.71 M1356.06 1450.06 L1356.06 1454.31 Q1354.3 1453.48 1352.49 1453.04 Q1350.71 1452.6 1348.95 1452.6 Q1344.32 1452.6 1341.87 1455.73 Q1339.44 1458.85 1339.09 1465.17 Q1340.45 1463.16 1342.51 1462.09 Q1344.57 1461 1347.05 1461 Q1352.26 1461 1355.27 1464.18 Q1358.3 1467.32 1358.3 1472.76 Q1358.3 1478.09 1355.15 1481.31 Q1352 1484.52 1346.77 1484.52 Q1340.78 1484.52 1337.61 1479.94 Q1334.44 1475.33 1334.44 1466.61 Q1334.44 1458.41 1338.32 1453.55 Q1342.21 1448.67 1348.76 1448.67 Q1350.52 1448.67 1352.31 1449.01 Q1354.11 1449.36 1356.06 1450.06 Z\" fill=\"#000000\" fill-rule=\"evenodd\" fill-opacity=\"1\" /><path clip-path=\"url(#clip720)\" d=\"M 0 0 M1767.01 1467.44 Q1763.68 1467.44 1761.76 1469.22 Q1759.86 1471 1759.86 1474.13 Q1759.86 1477.25 1761.76 1479.04 Q1763.68 1480.82 1767.01 1480.82 Q1770.34 1480.82 1772.27 1479.04 Q1774.19 1477.23 1774.19 1474.13 Q1774.19 1471 1772.27 1469.22 Q1770.37 1467.44 1767.01 1467.44 M1762.34 1465.45 Q1759.33 1464.71 1757.64 1462.65 Q1755.97 1460.59 1755.97 1457.63 Q1755.97 1453.48 1758.91 1451.07 Q1761.87 1448.67 1767.01 1448.67 Q1772.17 1448.67 1775.11 1451.07 Q1778.05 1453.48 1778.05 1457.63 Q1778.05 1460.59 1776.36 1462.65 Q1774.7 1464.71 1771.71 1465.45 Q1775.09 1466.24 1776.96 1468.53 Q1778.86 1470.82 1778.86 1474.13 Q1778.86 1479.15 1775.78 1481.84 Q1772.73 1484.52 1767.01 1484.52 Q1761.29 1484.52 1758.21 1481.84 Q1755.16 1479.15 1755.16 1474.13 Q1755.16 1470.82 1757.06 1468.53 Q1758.96 1466.24 1762.34 1465.45 M1760.62 1458.06 Q1760.62 1460.75 1762.29 1462.25 Q1763.98 1463.76 1767.01 1463.76 Q1770.02 1463.76 1771.71 1462.25 Q1773.42 1460.75 1773.42 1458.06 Q1773.42 1455.38 1771.71 1453.88 Q1770.02 1452.37 1767.01 1452.37 Q1763.98 1452.37 1762.29 1453.88 Q1760.62 1455.38 1760.62 1458.06 Z\" fill=\"#000000\" fill-rule=\"evenodd\" fill-opacity=\"1\" /><path clip-path=\"url(#clip720)\" d=\"M 0 0 M2164.53 1479.92 L2172.17 1479.92 L2172.17 1453.55 L2163.86 1455.22 L2163.86 1450.96 L2172.12 1449.29 L2176.8 1449.29 L2176.8 1479.92 L2184.44 1479.92 L2184.44 1483.85 L2164.53 1483.85 L2164.53 1479.92 Z\" fill=\"#000000\" fill-rule=\"evenodd\" fill-opacity=\"1\" /><path clip-path=\"url(#clip720)\" d=\"M 0 0 M2199.51 1452.37 Q2195.89 1452.37 2194.07 1455.94 Q2192.26 1459.48 2192.26 1466.61 Q2192.26 1473.71 2194.07 1477.28 Q2195.89 1480.82 2199.51 1480.82 Q2203.14 1480.82 2204.95 1477.28 Q2206.77 1473.71 2206.77 1466.61 Q2206.77 1459.48 2204.95 1455.94 Q2203.14 1452.37 2199.51 1452.37 M2199.51 1448.67 Q2205.32 1448.67 2208.37 1453.27 Q2211.45 1457.86 2211.45 1466.61 Q2211.45 1475.33 2208.37 1479.94 Q2205.32 1484.52 2199.51 1484.52 Q2193.7 1484.52 2190.62 1479.94 Q2187.56 1475.33 2187.56 1466.61 Q2187.56 1457.86 2190.62 1453.27 Q2193.7 1448.67 2199.51 1448.67 Z\" fill=\"#000000\" fill-rule=\"evenodd\" fill-opacity=\"1\" /><path clip-path=\"url(#clip720)\" d=\"M 0 0 M1275.61 1508.52 L1282.52 1508.52 L1294.33 1526.19 L1306.2 1508.52 L1313.11 1508.52 L1297.83 1531.34 L1314.13 1556.04 L1307.22 1556.04 L1293.85 1535.83 L1280.39 1556.04 L1273.45 1556.04 L1290.41 1530.68 L1275.61 1508.52 Z\" fill=\"#000000\" fill-rule=\"evenodd\" fill-opacity=\"1\" /><polyline clip-path=\"url(#clip722)\" style=\"stroke:#000000; stroke-width:2; stroke-opacity:0.1; fill:none\" points=\"\n",
       "  234.82,1209.5 2352.76,1209.5 \n",
       "  \"/>\n",
       "<polyline clip-path=\"url(#clip722)\" style=\"stroke:#000000; stroke-width:2; stroke-opacity:0.1; fill:none\" points=\"\n",
       "  234.82,897.469 2352.76,897.469 \n",
       "  \"/>\n",
       "<polyline clip-path=\"url(#clip722)\" style=\"stroke:#000000; stroke-width:2; stroke-opacity:0.1; fill:none\" points=\"\n",
       "  234.82,585.437 2352.76,585.437 \n",
       "  \"/>\n",
       "<polyline clip-path=\"url(#clip722)\" style=\"stroke:#000000; stroke-width:2; stroke-opacity:0.1; fill:none\" points=\"\n",
       "  234.82,273.405 2352.76,273.405 \n",
       "  \"/>\n",
       "<polyline clip-path=\"url(#clip720)\" style=\"stroke:#000000; stroke-width:4; stroke-opacity:1; fill:none\" points=\"\n",
       "  234.82,1423.18 234.82,47.2441 \n",
       "  \"/>\n",
       "<polyline clip-path=\"url(#clip720)\" style=\"stroke:#000000; stroke-width:4; stroke-opacity:1; fill:none\" points=\"\n",
       "  234.82,1209.5 260.235,1209.5 \n",
       "  \"/>\n",
       "<polyline clip-path=\"url(#clip720)\" style=\"stroke:#000000; stroke-width:4; stroke-opacity:1; fill:none\" points=\"\n",
       "  234.82,897.469 260.235,897.469 \n",
       "  \"/>\n",
       "<polyline clip-path=\"url(#clip720)\" style=\"stroke:#000000; stroke-width:4; stroke-opacity:1; fill:none\" points=\"\n",
       "  234.82,585.437 260.235,585.437 \n",
       "  \"/>\n",
       "<polyline clip-path=\"url(#clip720)\" style=\"stroke:#000000; stroke-width:4; stroke-opacity:1; fill:none\" points=\"\n",
       "  234.82,273.405 260.235,273.405 \n",
       "  \"/>\n",
       "<path clip-path=\"url(#clip720)\" d=\"M 0 0 M140.95 1192.22 L159.306 1192.22 L159.306 1196.16 L145.232 1196.16 L145.232 1204.63 Q146.251 1204.28 147.269 1204.12 Q148.288 1203.93 149.306 1203.93 Q155.093 1203.93 158.473 1207.1 Q161.852 1210.28 161.852 1215.69 Q161.852 1221.27 158.38 1224.37 Q154.908 1227.45 148.589 1227.45 Q146.413 1227.45 144.144 1227.08 Q141.899 1226.71 139.492 1225.97 L139.492 1221.27 Q141.575 1222.41 143.797 1222.96 Q146.019 1223.52 148.496 1223.52 Q152.501 1223.52 154.839 1221.41 Q157.177 1219.3 157.177 1215.69 Q157.177 1212.08 154.839 1209.97 Q152.501 1207.87 148.496 1207.87 Q146.621 1207.87 144.746 1208.29 Q142.894 1208.7 140.95 1209.58 L140.95 1192.22 Z\" fill=\"#000000\" fill-rule=\"evenodd\" fill-opacity=\"1\" /><path clip-path=\"url(#clip720)\" d=\"M 0 0 M166.922 1220.9 L171.806 1220.9 L171.806 1226.78 L166.922 1226.78 L166.922 1220.9 Z\" fill=\"#000000\" fill-rule=\"evenodd\" fill-opacity=\"1\" /><path clip-path=\"url(#clip720)\" d=\"M 0 0 M186.876 1195.3 Q183.264 1195.3 181.436 1198.86 Q179.63 1202.41 179.63 1209.54 Q179.63 1216.64 181.436 1220.21 Q183.264 1223.75 186.876 1223.75 Q190.51 1223.75 192.315 1220.21 Q194.144 1216.64 194.144 1209.54 Q194.144 1202.41 192.315 1198.86 Q190.51 1195.3 186.876 1195.3 M186.876 1191.6 Q192.686 1191.6 195.741 1196.2 Q198.82 1200.79 198.82 1209.54 Q198.82 1218.26 195.741 1222.87 Q192.686 1227.45 186.876 1227.45 Q181.065 1227.45 177.987 1222.87 Q174.931 1218.26 174.931 1209.54 Q174.931 1200.79 177.987 1196.2 Q181.065 1191.6 186.876 1191.6 Z\" fill=\"#000000\" fill-rule=\"evenodd\" fill-opacity=\"1\" /><path clip-path=\"url(#clip720)\" d=\"M 0 0 M140.626 880.189 L162.848 880.189 L162.848 882.179 L150.302 914.749 L145.417 914.749 L157.223 884.124 L140.626 884.124 L140.626 880.189 Z\" fill=\"#000000\" fill-rule=\"evenodd\" fill-opacity=\"1\" /><path clip-path=\"url(#clip720)\" d=\"M 0 0 M167.917 908.869 L172.802 908.869 L172.802 914.749 L167.917 914.749 L167.917 908.869 Z\" fill=\"#000000\" fill-rule=\"evenodd\" fill-opacity=\"1\" /><path clip-path=\"url(#clip720)\" d=\"M 0 0 M177.917 880.189 L196.274 880.189 L196.274 884.124 L182.2 884.124 L182.2 892.596 Q183.218 892.249 184.237 892.087 Q185.255 891.901 186.274 891.901 Q192.061 891.901 195.44 895.073 Q198.82 898.244 198.82 903.661 Q198.82 909.239 195.348 912.341 Q191.875 915.42 185.556 915.42 Q183.38 915.42 181.112 915.049 Q178.866 914.679 176.459 913.938 L176.459 909.239 Q178.542 910.374 180.764 910.929 Q182.987 911.485 185.463 911.485 Q189.468 911.485 191.806 909.378 Q194.144 907.272 194.144 903.661 Q194.144 900.05 191.806 897.943 Q189.468 895.837 185.463 895.837 Q183.588 895.837 181.713 896.253 Q179.862 896.67 177.917 897.55 L177.917 880.189 Z\" fill=\"#000000\" fill-rule=\"evenodd\" fill-opacity=\"1\" /><path clip-path=\"url(#clip720)\" d=\"M 0 0 M114.931 598.782 L122.57 598.782 L122.57 572.416 L114.26 574.083 L114.26 569.823 L122.524 568.157 L127.2 568.157 L127.2 598.782 L134.839 598.782 L134.839 602.717 L114.931 602.717 L114.931 598.782 Z\" fill=\"#000000\" fill-rule=\"evenodd\" fill-opacity=\"1\" /><path clip-path=\"url(#clip720)\" d=\"M 0 0 M149.908 571.235 Q146.297 571.235 144.468 574.8 Q142.663 578.342 142.663 585.471 Q142.663 592.578 144.468 596.143 Q146.297 599.684 149.908 599.684 Q153.542 599.684 155.348 596.143 Q157.177 592.578 157.177 585.471 Q157.177 578.342 155.348 574.8 Q153.542 571.235 149.908 571.235 M149.908 567.532 Q155.718 567.532 158.774 572.138 Q161.852 576.721 161.852 585.471 Q161.852 594.198 158.774 598.805 Q155.718 603.388 149.908 603.388 Q144.098 603.388 141.019 598.805 Q137.964 594.198 137.964 585.471 Q137.964 576.721 141.019 572.138 Q144.098 567.532 149.908 567.532 Z\" fill=\"#000000\" fill-rule=\"evenodd\" fill-opacity=\"1\" /><path clip-path=\"url(#clip720)\" d=\"M 0 0 M166.922 596.837 L171.806 596.837 L171.806 602.717 L166.922 602.717 L166.922 596.837 Z\" fill=\"#000000\" fill-rule=\"evenodd\" fill-opacity=\"1\" /><path clip-path=\"url(#clip720)\" d=\"M 0 0 M186.876 571.235 Q183.264 571.235 181.436 574.8 Q179.63 578.342 179.63 585.471 Q179.63 592.578 181.436 596.143 Q183.264 599.684 186.876 599.684 Q190.51 599.684 192.315 596.143 Q194.144 592.578 194.144 585.471 Q194.144 578.342 192.315 574.8 Q190.51 571.235 186.876 571.235 M186.876 567.532 Q192.686 567.532 195.741 572.138 Q198.82 576.721 198.82 585.471 Q198.82 594.198 195.741 598.805 Q192.686 603.388 186.876 603.388 Q181.065 603.388 177.987 598.805 Q174.931 594.198 174.931 585.471 Q174.931 576.721 177.987 572.138 Q181.065 567.532 186.876 567.532 Z\" fill=\"#000000\" fill-rule=\"evenodd\" fill-opacity=\"1\" /><path clip-path=\"url(#clip720)\" d=\"M 0 0 M117.524 286.75 L125.163 286.75 L125.163 260.384 L116.853 262.051 L116.853 257.791 L125.117 256.125 L129.792 256.125 L129.792 286.75 L137.431 286.75 L137.431 290.685 L117.524 290.685 L117.524 286.75 Z\" fill=\"#000000\" fill-rule=\"evenodd\" fill-opacity=\"1\" /><path clip-path=\"url(#clip720)\" d=\"M 0 0 M146.529 286.75 L162.848 286.75 L162.848 290.685 L140.904 290.685 L140.904 286.75 Q143.566 283.995 148.149 279.365 Q152.755 274.713 153.936 273.37 Q156.181 270.847 157.061 269.111 Q157.964 267.352 157.964 265.662 Q157.964 262.907 156.019 261.171 Q154.098 259.435 150.996 259.435 Q148.797 259.435 146.343 260.199 Q143.913 260.963 141.135 262.514 L141.135 257.791 Q143.959 256.657 146.413 256.079 Q148.866 255.5 150.903 255.5 Q156.274 255.5 159.468 258.185 Q162.663 260.87 162.663 265.361 Q162.663 267.49 161.852 269.412 Q161.065 271.31 158.959 273.902 Q158.38 274.574 155.278 277.791 Q152.177 280.986 146.529 286.75 Z\" fill=\"#000000\" fill-rule=\"evenodd\" fill-opacity=\"1\" /><path clip-path=\"url(#clip720)\" d=\"M 0 0 M167.917 284.805 L172.802 284.805 L172.802 290.685 L167.917 290.685 L167.917 284.805 Z\" fill=\"#000000\" fill-rule=\"evenodd\" fill-opacity=\"1\" /><path clip-path=\"url(#clip720)\" d=\"M 0 0 M177.917 256.125 L196.274 256.125 L196.274 260.06 L182.2 260.06 L182.2 268.532 Q183.218 268.185 184.237 268.023 Q185.255 267.838 186.274 267.838 Q192.061 267.838 195.44 271.009 Q198.82 274.18 198.82 279.597 Q198.82 285.176 195.348 288.277 Q191.875 291.356 185.556 291.356 Q183.38 291.356 181.112 290.986 Q178.866 290.615 176.459 289.875 L176.459 285.176 Q178.542 286.31 180.764 286.865 Q182.987 287.421 185.463 287.421 Q189.468 287.421 191.806 285.314 Q194.144 283.208 194.144 279.597 Q194.144 275.986 191.806 273.879 Q189.468 271.773 185.463 271.773 Q183.588 271.773 181.713 272.19 Q179.862 272.606 177.917 273.486 L177.917 256.125 Z\" fill=\"#000000\" fill-rule=\"evenodd\" fill-opacity=\"1\" /><path clip-path=\"url(#clip720)\" d=\"M 0 0 M40.4842 755.248 L40.4842 748.341 L60.0269 735.164 L40.4842 722.083 L40.4842 715.176 L65.3741 731.981 L88.0042 731.981 L88.0042 738.443 L65.3741 738.443 L40.4842 755.248 Z\" fill=\"#000000\" fill-rule=\"evenodd\" fill-opacity=\"1\" /><circle clip-path=\"url(#clip722)\" cx=\"294.761\" cy=\"1384.24\" r=\"14\" fill=\"#009af9\" fill-rule=\"evenodd\" fill-opacity=\"1\" stroke=\"#000000\" stroke-opacity=\"1\" stroke-width=\"3.2\"/>\n",
       "<circle clip-path=\"url(#clip722)\" cx=\"505.083\" cy=\"1209.5\" r=\"14\" fill=\"#009af9\" fill-rule=\"evenodd\" fill-opacity=\"1\" stroke=\"#000000\" stroke-opacity=\"1\" stroke-width=\"3.2\"/>\n",
       "<circle clip-path=\"url(#clip722)\" cx=\"715.404\" cy=\"1097.17\" r=\"14\" fill=\"#009af9\" fill-rule=\"evenodd\" fill-opacity=\"1\" stroke=\"#000000\" stroke-opacity=\"1\" stroke-width=\"3.2\"/>\n",
       "<circle clip-path=\"url(#clip722)\" cx=\"505.083\" cy=\"835.062\" r=\"14\" fill=\"#009af9\" fill-rule=\"evenodd\" fill-opacity=\"1\" stroke=\"#000000\" stroke-opacity=\"1\" stroke-width=\"3.2\"/>\n",
       "<circle clip-path=\"url(#clip722)\" cx=\"1346.37\" cy=\"1084.69\" r=\"14\" fill=\"#009af9\" fill-rule=\"evenodd\" fill-opacity=\"1\" stroke=\"#000000\" stroke-opacity=\"1\" stroke-width=\"3.2\"/>\n",
       "<circle clip-path=\"url(#clip722)\" cx=\"1556.69\" cy=\"835.062\" r=\"14\" fill=\"#009af9\" fill-rule=\"evenodd\" fill-opacity=\"1\" stroke=\"#000000\" stroke-opacity=\"1\" stroke-width=\"3.2\"/>\n",
       "<circle clip-path=\"url(#clip722)\" cx=\"2292.81\" cy=\"997.319\" r=\"14\" fill=\"#009af9\" fill-rule=\"evenodd\" fill-opacity=\"1\" stroke=\"#000000\" stroke-opacity=\"1\" stroke-width=\"3.2\"/>\n",
       "<circle clip-path=\"url(#clip722)\" cx=\"1136.05\" cy=\"1084.69\" r=\"14\" fill=\"#009af9\" fill-rule=\"evenodd\" fill-opacity=\"1\" stroke=\"#000000\" stroke-opacity=\"1\" stroke-width=\"3.2\"/>\n",
       "<circle clip-path=\"url(#clip722)\" cx=\"1136.05\" cy=\"822.581\" r=\"14\" fill=\"#009af9\" fill-rule=\"evenodd\" fill-opacity=\"1\" stroke=\"#000000\" stroke-opacity=\"1\" stroke-width=\"3.2\"/>\n",
       "<circle clip-path=\"url(#clip722)\" cx=\"1767.01\" cy=\"585.437\" r=\"14\" fill=\"#009af9\" fill-rule=\"evenodd\" fill-opacity=\"1\" stroke=\"#000000\" stroke-opacity=\"1\" stroke-width=\"3.2\"/>\n",
       "<circle clip-path=\"url(#clip722)\" cx=\"1556.69\" cy=\"1084.69\" r=\"14\" fill=\"#009af9\" fill-rule=\"evenodd\" fill-opacity=\"1\" stroke=\"#000000\" stroke-opacity=\"1\" stroke-width=\"3.2\"/>\n",
       "<circle clip-path=\"url(#clip722)\" cx=\"1977.33\" cy=\"173.555\" r=\"14\" fill=\"#009af9\" fill-rule=\"evenodd\" fill-opacity=\"1\" stroke=\"#000000\" stroke-opacity=\"1\" stroke-width=\"3.2\"/>\n",
       "<circle clip-path=\"url(#clip722)\" cx=\"2187.65\" cy=\"86.1857\" r=\"14\" fill=\"#009af9\" fill-rule=\"evenodd\" fill-opacity=\"1\" stroke=\"#000000\" stroke-opacity=\"1\" stroke-width=\"3.2\"/>\n",
       "<polyline clip-path=\"url(#clip722)\" style=\"stroke:#e26f46; stroke-width:4; stroke-opacity:1; fill:none\" points=\"\n",
       "  294.761,1259.75 2292.81,485.073 \n",
       "  \"/>\n",
       "</svg>\n"
      ]
     },
     "execution_count": 35,
     "metadata": {},
     "output_type": "execute_result"
    }
   ],
   "source": [
    "# plot best fit line\n",
    "m = x[1]\n",
    "b = x[2]\n",
    "x_line = [1, 10.5]\n",
    "y_line = m * x_line .+ b\n",
    "scatter(x_data, y_data)\n",
    "plot!(xlabel=\"X\", ylabel=\"Y\", leg=false)\n",
    "plot!(x_line, y_line)"
   ]
  },
  {
   "cell_type": "markdown",
   "metadata": {},
   "source": [
    "## QR Factorization and Gram-Schmidt"
   ]
  },
  {
   "cell_type": "markdown",
   "metadata": {},
   "source": [
    "We can also solve the problem above using QR factorization."
   ]
  },
  {
   "cell_type": "markdown",
   "metadata": {},
   "source": [
    "<img src = \"https://i.postimg.cc/hGLpSYG9/QR.jpg\" width = \"800\" >"
   ]
  },
  {
   "cell_type": "markdown",
   "metadata": {},
   "source": [
    " Recall that in QR factorization we find the orhtonormal matrix $Q$ and the upper triangular matrix $R$ such that $A=QR$. Using the QR factorization, we now have:<br>\n",
    "$\\begin{align*}\n",
    "     A^TAx&=A^Tb\\\\\n",
    "     A^TA&=R^TQ^TQR=R^TR\\\\\n",
    "     A^Tb&=R^TQ^Tb\\\\\n",
    "     R^TRx&=R^TQ^Tb \\rightarrow Rx=Q^Tb\n",
    "\\end{align*}$\n",
    "\n",
    "Since $R$ is an upper triangular matrix, we can use back substitution to solve for x"
   ]
  },
  {
   "cell_type": "markdown",
   "metadata": {},
   "source": [
    "To find $Q$, we use Gram Schmidt.The Gram Schmidt process is as follows:\n",
    "\\begin{align*}\n",
    "        v_1 &= u_1\\\\\n",
    "        v_2 &= u_2-\\left( \\frac{u_2\\cdot v_1}{v_1\\cdot v_1} \\right)v_1\\\\\n",
    "        v_3 &= u_3-\\left( \\frac{u_3\\cdot v_1}{v_1\\cdot v_1} \\right)v_1-\\left( \\frac{u_3\\cdot v_2}{v_2\\cdot v_2} \\right)v_2\\\\\n",
    "        &\\vdots\\\\\n",
    "        v_k &= u_k-\\sum_{i=1}^{k-1} \\left(\\frac{u_k\\cdot v_i}{v_i\\cdot v_i} \\right)v_i\\\\\n",
    "    \\end{align*}"
   ]
  },
  {
   "cell_type": "markdown",
   "metadata": {},
   "source": [
    "In words, given a matrix $A$ with linearly independent columns$\\{u_1,u_2,...,u_m\\}$, Gram Schmidt finds a set of orthogonal vectors $\\{v_1,v_2,...,v_m\\}$. From this $Q := \\left[\\frac{v_1}{||v_1||}\\frac{v_2}{||v_2||}\\ldots\\frac{v_m}{||v_m||}\\right]=\\{q_1, ...,q_m\\}$. Because $Q^TQ = I_m$, it follows that $A = Q \\cdot R \\leftrightarrow R = Q^T A.$"
   ]
  },
  {
   "cell_type": "markdown",
   "metadata": {},
   "source": [
    "Let's take a look at how we would write a function that computes Q using the Gram Schmidt process. If we let $S=\\sum_{i=1}^{k-1} \\left(\\frac{u_k\\cdot v_i}{v_i\\cdot v_i} \\right)v_i$, the pseudo code is as follows: <br>\n",
    "For k=1:m <br>\n",
    "    &emsp;$u_k$= $A_k$ <br>\n",
    "    &emsp;For $j$=1:$k$-1 <br>\n",
    "        &emsp; &emsp; $v_k$=uk-S <br>\n",
    "    &emsp;end <br>\n",
    "    &emsp;$q_k$=$\\frac{v_k}{||v_k||}$ <br>\n",
    "   end"
   ]
  },
  {
   "cell_type": "code",
   "execution_count": 19,
   "metadata": {
    "id": "oVd7poFw9qBn"
   },
   "outputs": [
    {
     "data": {
      "text/plain": [
       "4×3 Matrix{Float64}:\n",
       " 0.0776151   0.833052   0.80649\n",
       " 0.31046     0.451237   0.50058\n",
       " 0.543305    0.069421   0.22248\n",
       " 0.776151   -0.312395  -0.22248"
      ]
     },
     "metadata": {},
     "output_type": "display_data"
    },
    {
     "data": {
      "text/plain": [
       "3×3 Matrix{Float64}:\n",
       " 12.8841       14.5916   16.2992\n",
       " -1.19904e-14   1.04132   2.08263\n",
       "  2.14137       3.44844   4.75551"
      ]
     },
     "metadata": {},
     "output_type": "display_data"
    }
   ],
   "source": [
    "\n",
    "function gramSchmidt(A)\n",
    "    r,c=size(A)\n",
    "    v=zeros(r,c)\n",
    "    vNorm=zeros(r,c)\n",
    "    for k=1:c\n",
    "        S=zeros(r,1)\n",
    "        uk=A[:,k]\n",
    "        for j =1:k-1\n",
    "            vj=v[:,j]\n",
    "            S=(dot(vj,uk)/dot(vj,vj))*vj+S\n",
    "        end\n",
    "        v[:,k]=uk-S\n",
    "        vNorm[:,k]=v[:,k]/norm(v[:,k])\n",
    "    end\n",
    "    return v, vNorm\n",
    "end\n"
   ]
  },
  {
   "cell_type": "markdown",
   "metadata": {},
   "source": [
    "Now that we have our Gram Schmidt function, let's use it to find Q. Recall we are trying to solve $A^TAx=A^Tb$. <br>\n",
    "Before using the Gram Schmidt function, we need to check to see if $A$ has linearly independent columns."
   ]
  },
  {
   "cell_type": "code",
   "execution_count": 27,
   "metadata": {},
   "outputs": [],
   "source": [
    "#check if A has linearly independent columns\n",
    "\n",
    "#your solution here\n",
    "\n"
   ]
  },
  {
   "cell_type": "markdown",
   "metadata": {},
   "source": [
    "Next use the gramSchmidt function to find Q and then using that find R. Finally solve for x using back substitution"
   ]
  },
  {
   "cell_type": "code",
   "execution_count": 31,
   "metadata": {},
   "outputs": [
    {
     "data": {
      "text/plain": [
       "13×2 Matrix{Float64}:\n",
       " 0.0423619   0.519365\n",
       " 0.0847237   0.43797\n",
       " 0.127086    0.356575\n",
       " 0.0847237   0.43797\n",
       " 0.254171    0.11239\n",
       " 0.296533    0.0309948\n",
       " 0.444799   -0.253888\n",
       " 0.211809    0.193785\n",
       " 0.211809    0.193785\n",
       " 0.338895   -0.0504003\n",
       " 0.296533    0.0309948\n",
       " 0.381257   -0.131795\n",
       " 0.423619   -0.21319"
      ]
     },
     "metadata": {},
     "output_type": "display_data"
    }
   ],
   "source": [
    "#Find the Q matrix\n",
    "v,Q=gramSchmidt(A)\n",
    "display(Q)\n",
    "\n"
   ]
  },
  {
   "cell_type": "code",
   "execution_count": 33,
   "metadata": {},
   "outputs": [
    {
     "data": {
      "text/plain": [
       "2×2 Matrix{Float64}:\n",
       " 1.0          3.66067e-17\n",
       " 3.66067e-17  1.0"
      ]
     },
     "metadata": {},
     "output_type": "display_data"
    }
   ],
   "source": [
    "#checking to see if Q is orthonormal\n",
    "display(Q'*Q)\n",
    "\n"
   ]
  },
  {
   "cell_type": "code",
   "execution_count": 34,
   "metadata": {},
   "outputs": [
    {
     "data": {
      "text/plain": [
       "2×2 Matrix{Float64}:\n",
       " 23.6061       3.19832\n",
       "  1.44329e-15  1.66456"
      ]
     },
     "metadata": {},
     "output_type": "display_data"
    }
   ],
   "source": [
    "#Find R\n",
    "R=  #your solution here\n",
    "display(R)\n",
    "\n"
   ]
  },
  {
   "cell_type": "code",
   "execution_count": 40,
   "metadata": {},
   "outputs": [
    {
     "data": {
      "text/plain": [
       "2-element Vector{Float64}:\n",
       " 0.6533354922279794\n",
       " 3.9440900259067364"
      ]
     },
     "execution_count": 40,
     "metadata": {},
     "output_type": "execute_result"
    }
   ],
   "source": [
    "#Find x using backsubstitution\n",
    "x_qr=backwardsub()"
   ]
  },
  {
   "cell_type": "code",
   "execution_count": 42,
   "metadata": {},
   "outputs": [
    {
     "data": {
      "image/svg+xml": [
       "<?xml version=\"1.0\" encoding=\"utf-8\"?>\n",
       "<svg xmlns=\"http://www.w3.org/2000/svg\" xmlns:xlink=\"http://www.w3.org/1999/xlink\" width=\"600\" height=\"400\" viewBox=\"0 0 2400 1600\">\n",
       "<defs>\n",
       "  <clipPath id=\"clip630\">\n",
       "    <rect x=\"0\" y=\"0\" width=\"2400\" height=\"1600\"/>\n",
       "  </clipPath>\n",
       "</defs>\n",
       "<path clip-path=\"url(#clip630)\" d=\"\n",
       "M0 1600 L2400 1600 L2400 0 L0 0  Z\n",
       "  \" fill=\"#ffffff\" fill-rule=\"evenodd\" fill-opacity=\"1\"/>\n",
       "<defs>\n",
       "  <clipPath id=\"clip631\">\n",
       "    <rect x=\"480\" y=\"0\" width=\"1681\" height=\"1600\"/>\n",
       "  </clipPath>\n",
       "</defs>\n",
       "<path clip-path=\"url(#clip630)\" d=\"\n",
       "M247.459 1423.18 L2352.76 1423.18 L2352.76 47.2441 L247.459 47.2441  Z\n",
       "  \" fill=\"#ffffff\" fill-rule=\"evenodd\" fill-opacity=\"1\"/>\n",
       "<defs>\n",
       "  <clipPath id=\"clip632\">\n",
       "    <rect x=\"247\" y=\"47\" width=\"2106\" height=\"1377\"/>\n",
       "  </clipPath>\n",
       "</defs>\n",
       "<polyline clip-path=\"url(#clip632)\" style=\"stroke:#000000; stroke-linecap:butt; stroke-linejoin:round; stroke-width:2; stroke-opacity:0.1; fill:none\" points=\"\n",
       "  516.109,1423.18 516.109,47.2441 \n",
       "  \"/>\n",
       "<polyline clip-path=\"url(#clip632)\" style=\"stroke:#000000; stroke-linecap:butt; stroke-linejoin:round; stroke-width:2; stroke-opacity:0.1; fill:none\" points=\"\n",
       "  934.241,1423.18 934.241,47.2441 \n",
       "  \"/>\n",
       "<polyline clip-path=\"url(#clip632)\" style=\"stroke:#000000; stroke-linecap:butt; stroke-linejoin:round; stroke-width:2; stroke-opacity:0.1; fill:none\" points=\"\n",
       "  1352.37,1423.18 1352.37,47.2441 \n",
       "  \"/>\n",
       "<polyline clip-path=\"url(#clip632)\" style=\"stroke:#000000; stroke-linecap:butt; stroke-linejoin:round; stroke-width:2; stroke-opacity:0.1; fill:none\" points=\"\n",
       "  1770.51,1423.18 1770.51,47.2441 \n",
       "  \"/>\n",
       "<polyline clip-path=\"url(#clip632)\" style=\"stroke:#000000; stroke-linecap:butt; stroke-linejoin:round; stroke-width:2; stroke-opacity:0.1; fill:none\" points=\"\n",
       "  2188.64,1423.18 2188.64,47.2441 \n",
       "  \"/>\n",
       "<polyline clip-path=\"url(#clip630)\" style=\"stroke:#000000; stroke-linecap:butt; stroke-linejoin:round; stroke-width:4; stroke-opacity:1; fill:none\" points=\"\n",
       "  247.459,1423.18 2352.76,1423.18 \n",
       "  \"/>\n",
       "<polyline clip-path=\"url(#clip630)\" style=\"stroke:#000000; stroke-linecap:butt; stroke-linejoin:round; stroke-width:4; stroke-opacity:1; fill:none\" points=\"\n",
       "  516.109,1423.18 516.109,1404.28 \n",
       "  \"/>\n",
       "<polyline clip-path=\"url(#clip630)\" style=\"stroke:#000000; stroke-linecap:butt; stroke-linejoin:round; stroke-width:4; stroke-opacity:1; fill:none\" points=\"\n",
       "  934.241,1423.18 934.241,1404.28 \n",
       "  \"/>\n",
       "<polyline clip-path=\"url(#clip630)\" style=\"stroke:#000000; stroke-linecap:butt; stroke-linejoin:round; stroke-width:4; stroke-opacity:1; fill:none\" points=\"\n",
       "  1352.37,1423.18 1352.37,1404.28 \n",
       "  \"/>\n",
       "<polyline clip-path=\"url(#clip630)\" style=\"stroke:#000000; stroke-linecap:butt; stroke-linejoin:round; stroke-width:4; stroke-opacity:1; fill:none\" points=\"\n",
       "  1770.51,1423.18 1770.51,1404.28 \n",
       "  \"/>\n",
       "<polyline clip-path=\"url(#clip630)\" style=\"stroke:#000000; stroke-linecap:butt; stroke-linejoin:round; stroke-width:4; stroke-opacity:1; fill:none\" points=\"\n",
       "  2188.64,1423.18 2188.64,1404.28 \n",
       "  \"/>\n",
       "<path clip-path=\"url(#clip630)\" d=\"M510.762 1479.92 L527.081 1479.92 L527.081 1483.85 L505.137 1483.85 L505.137 1479.92 Q507.799 1477.16 512.382 1472.53 Q516.988 1467.88 518.169 1466.54 Q520.414 1464.01 521.294 1462.28 Q522.197 1460.52 522.197 1458.83 Q522.197 1456.07 520.252 1454.34 Q518.331 1452.6 515.229 1452.6 Q513.03 1452.6 510.576 1453.37 Q508.146 1454.13 505.368 1455.68 L505.368 1450.96 Q508.192 1449.82 510.646 1449.25 Q513.1 1448.67 515.137 1448.67 Q520.507 1448.67 523.701 1451.35 Q526.896 1454.04 526.896 1458.53 Q526.896 1460.66 526.086 1462.58 Q525.299 1464.48 523.192 1467.07 Q522.613 1467.74 519.512 1470.96 Q516.41 1474.15 510.762 1479.92 Z\" fill=\"#000000\" fill-rule=\"evenodd\" fill-opacity=\"1\" /><path clip-path=\"url(#clip630)\" d=\"M937.251 1453.37 L925.445 1471.81 L937.251 1471.81 L937.251 1453.37 M936.024 1449.29 L941.903 1449.29 L941.903 1471.81 L946.834 1471.81 L946.834 1475.7 L941.903 1475.7 L941.903 1483.85 L937.251 1483.85 L937.251 1475.7 L921.649 1475.7 L921.649 1471.19 L936.024 1449.29 Z\" fill=\"#000000\" fill-rule=\"evenodd\" fill-opacity=\"1\" /><path clip-path=\"url(#clip630)\" d=\"M1352.78 1464.71 Q1349.63 1464.71 1347.78 1466.86 Q1345.95 1469.01 1345.95 1472.76 Q1345.95 1476.49 1347.78 1478.67 Q1349.63 1480.82 1352.78 1480.82 Q1355.93 1480.82 1357.76 1478.67 Q1359.61 1476.49 1359.61 1472.76 Q1359.61 1469.01 1357.76 1466.86 Q1355.93 1464.71 1352.78 1464.71 M1362.06 1450.06 L1362.06 1454.31 Q1360.3 1453.48 1358.5 1453.04 Q1356.71 1452.6 1354.95 1452.6 Q1350.33 1452.6 1347.87 1455.73 Q1345.44 1458.85 1345.09 1465.17 Q1346.46 1463.16 1348.52 1462.09 Q1350.58 1461 1353.06 1461 Q1358.27 1461 1361.27 1464.18 Q1364.31 1467.32 1364.31 1472.76 Q1364.31 1478.09 1361.16 1481.31 Q1358.01 1484.52 1352.78 1484.52 Q1346.78 1484.52 1343.61 1479.94 Q1340.44 1475.33 1340.44 1466.61 Q1340.44 1458.41 1344.33 1453.55 Q1348.22 1448.67 1354.77 1448.67 Q1356.53 1448.67 1358.31 1449.01 Q1360.12 1449.36 1362.06 1450.06 Z\" fill=\"#000000\" fill-rule=\"evenodd\" fill-opacity=\"1\" /><path clip-path=\"url(#clip630)\" d=\"M1770.51 1467.44 Q1767.17 1467.44 1765.25 1469.22 Q1763.35 1471 1763.35 1474.13 Q1763.35 1477.25 1765.25 1479.04 Q1767.17 1480.82 1770.51 1480.82 Q1773.84 1480.82 1775.76 1479.04 Q1777.68 1477.23 1777.68 1474.13 Q1777.68 1471 1775.76 1469.22 Q1773.86 1467.44 1770.51 1467.44 M1765.83 1465.45 Q1762.82 1464.71 1761.13 1462.65 Q1759.46 1460.59 1759.46 1457.63 Q1759.46 1453.48 1762.4 1451.07 Q1765.37 1448.67 1770.51 1448.67 Q1775.67 1448.67 1778.61 1451.07 Q1781.55 1453.48 1781.55 1457.63 Q1781.55 1460.59 1779.86 1462.65 Q1778.19 1464.71 1775.21 1465.45 Q1778.59 1466.24 1780.46 1468.53 Q1782.36 1470.82 1782.36 1474.13 Q1782.36 1479.15 1779.28 1481.84 Q1776.22 1484.52 1770.51 1484.52 Q1764.79 1484.52 1761.71 1481.84 Q1758.65 1479.15 1758.65 1474.13 Q1758.65 1470.82 1760.55 1468.53 Q1762.45 1466.24 1765.83 1465.45 M1764.12 1458.06 Q1764.12 1460.75 1765.78 1462.25 Q1767.47 1463.76 1770.51 1463.76 Q1773.52 1463.76 1775.21 1462.25 Q1776.92 1460.75 1776.92 1458.06 Q1776.92 1455.38 1775.21 1453.88 Q1773.52 1452.37 1770.51 1452.37 Q1767.47 1452.37 1765.78 1453.88 Q1764.12 1455.38 1764.12 1458.06 Z\" fill=\"#000000\" fill-rule=\"evenodd\" fill-opacity=\"1\" /><path clip-path=\"url(#clip630)\" d=\"M2163.33 1479.92 L2170.97 1479.92 L2170.97 1453.55 L2162.66 1455.22 L2162.66 1450.96 L2170.92 1449.29 L2175.59 1449.29 L2175.59 1479.92 L2183.23 1479.92 L2183.23 1483.85 L2163.33 1483.85 L2163.33 1479.92 Z\" fill=\"#000000\" fill-rule=\"evenodd\" fill-opacity=\"1\" /><path clip-path=\"url(#clip630)\" d=\"M2202.68 1452.37 Q2199.07 1452.37 2197.24 1455.94 Q2195.43 1459.48 2195.43 1466.61 Q2195.43 1473.71 2197.24 1477.28 Q2199.07 1480.82 2202.68 1480.82 Q2206.31 1480.82 2208.12 1477.28 Q2209.95 1473.71 2209.95 1466.61 Q2209.95 1459.48 2208.12 1455.94 Q2206.31 1452.37 2202.68 1452.37 M2202.68 1448.67 Q2208.49 1448.67 2211.54 1453.27 Q2214.62 1457.86 2214.62 1466.61 Q2214.62 1475.33 2211.54 1479.94 Q2208.49 1484.52 2202.68 1484.52 Q2196.87 1484.52 2193.79 1479.94 Q2190.73 1475.33 2190.73 1466.61 Q2190.73 1457.86 2193.79 1453.27 Q2196.87 1448.67 2202.68 1448.67 Z\" fill=\"#000000\" fill-rule=\"evenodd\" fill-opacity=\"1\" /><path clip-path=\"url(#clip630)\" d=\"M1281.93 1520.52 L1288.84 1520.52 L1300.65 1538.19 L1312.52 1520.52 L1319.43 1520.52 L1304.15 1543.34 L1320.45 1568.04 L1313.54 1568.04 L1300.17 1547.83 L1286.71 1568.04 L1279.77 1568.04 L1296.73 1542.68 L1281.93 1520.52 Z\" fill=\"#000000\" fill-rule=\"evenodd\" fill-opacity=\"1\" /><polyline clip-path=\"url(#clip632)\" style=\"stroke:#000000; stroke-linecap:butt; stroke-linejoin:round; stroke-width:2; stroke-opacity:0.1; fill:none\" points=\"\n",
       "  247.459,1209.5 2352.76,1209.5 \n",
       "  \"/>\n",
       "<polyline clip-path=\"url(#clip632)\" style=\"stroke:#000000; stroke-linecap:butt; stroke-linejoin:round; stroke-width:2; stroke-opacity:0.1; fill:none\" points=\"\n",
       "  247.459,897.469 2352.76,897.469 \n",
       "  \"/>\n",
       "<polyline clip-path=\"url(#clip632)\" style=\"stroke:#000000; stroke-linecap:butt; stroke-linejoin:round; stroke-width:2; stroke-opacity:0.1; fill:none\" points=\"\n",
       "  247.459,585.437 2352.76,585.437 \n",
       "  \"/>\n",
       "<polyline clip-path=\"url(#clip632)\" style=\"stroke:#000000; stroke-linecap:butt; stroke-linejoin:round; stroke-width:2; stroke-opacity:0.1; fill:none\" points=\"\n",
       "  247.459,273.405 2352.76,273.405 \n",
       "  \"/>\n",
       "<polyline clip-path=\"url(#clip630)\" style=\"stroke:#000000; stroke-linecap:butt; stroke-linejoin:round; stroke-width:4; stroke-opacity:1; fill:none\" points=\"\n",
       "  247.459,1423.18 247.459,47.2441 \n",
       "  \"/>\n",
       "<polyline clip-path=\"url(#clip630)\" style=\"stroke:#000000; stroke-linecap:butt; stroke-linejoin:round; stroke-width:4; stroke-opacity:1; fill:none\" points=\"\n",
       "  247.459,1209.5 266.356,1209.5 \n",
       "  \"/>\n",
       "<polyline clip-path=\"url(#clip630)\" style=\"stroke:#000000; stroke-linecap:butt; stroke-linejoin:round; stroke-width:4; stroke-opacity:1; fill:none\" points=\"\n",
       "  247.459,897.469 266.356,897.469 \n",
       "  \"/>\n",
       "<polyline clip-path=\"url(#clip630)\" style=\"stroke:#000000; stroke-linecap:butt; stroke-linejoin:round; stroke-width:4; stroke-opacity:1; fill:none\" points=\"\n",
       "  247.459,585.437 266.356,585.437 \n",
       "  \"/>\n",
       "<polyline clip-path=\"url(#clip630)\" style=\"stroke:#000000; stroke-linecap:butt; stroke-linejoin:round; stroke-width:4; stroke-opacity:1; fill:none\" points=\"\n",
       "  247.459,273.405 266.356,273.405 \n",
       "  \"/>\n",
       "<path clip-path=\"url(#clip630)\" d=\"M144.329 1192.22 L162.686 1192.22 L162.686 1196.16 L148.612 1196.16 L148.612 1204.63 Q149.63 1204.28 150.649 1204.12 Q151.667 1203.93 152.686 1203.93 Q158.473 1203.93 161.852 1207.1 Q165.232 1210.28 165.232 1215.69 Q165.232 1221.27 161.76 1224.37 Q158.288 1227.45 151.968 1227.45 Q149.792 1227.45 147.524 1227.08 Q145.279 1226.71 142.871 1225.97 L142.871 1221.27 Q144.954 1222.41 147.177 1222.96 Q149.399 1223.52 151.876 1223.52 Q155.88 1223.52 158.218 1221.41 Q160.556 1219.3 160.556 1215.69 Q160.556 1212.08 158.218 1209.97 Q155.88 1207.87 151.876 1207.87 Q150.001 1207.87 148.126 1208.29 Q146.274 1208.7 144.329 1209.58 L144.329 1192.22 Z\" fill=\"#000000\" fill-rule=\"evenodd\" fill-opacity=\"1\" /><path clip-path=\"url(#clip630)\" d=\"M174.445 1220.9 L179.329 1220.9 L179.329 1226.78 L174.445 1226.78 L174.445 1220.9 Z\" fill=\"#000000\" fill-rule=\"evenodd\" fill-opacity=\"1\" /><path clip-path=\"url(#clip630)\" d=\"M199.514 1195.3 Q195.903 1195.3 194.075 1198.86 Q192.269 1202.41 192.269 1209.54 Q192.269 1216.64 194.075 1220.21 Q195.903 1223.75 199.514 1223.75 Q203.149 1223.75 204.954 1220.21 Q206.783 1216.64 206.783 1209.54 Q206.783 1202.41 204.954 1198.86 Q203.149 1195.3 199.514 1195.3 M199.514 1191.6 Q205.324 1191.6 208.38 1196.2 Q211.459 1200.79 211.459 1209.54 Q211.459 1218.26 208.38 1222.87 Q205.324 1227.45 199.514 1227.45 Q193.704 1227.45 190.625 1222.87 Q187.57 1218.26 187.57 1209.54 Q187.57 1200.79 190.625 1196.2 Q193.704 1191.6 199.514 1191.6 Z\" fill=\"#000000\" fill-rule=\"evenodd\" fill-opacity=\"1\" /><path clip-path=\"url(#clip630)\" d=\"M144.098 880.189 L166.32 880.189 L166.32 882.179 L153.774 914.749 L148.89 914.749 L160.695 884.124 L144.098 884.124 L144.098 880.189 Z\" fill=\"#000000\" fill-rule=\"evenodd\" fill-opacity=\"1\" /><path clip-path=\"url(#clip630)\" d=\"M175.44 908.869 L180.325 908.869 L180.325 914.749 L175.44 914.749 L175.44 908.869 Z\" fill=\"#000000\" fill-rule=\"evenodd\" fill-opacity=\"1\" /><path clip-path=\"url(#clip630)\" d=\"M190.556 880.189 L208.912 880.189 L208.912 884.124 L194.838 884.124 L194.838 892.596 Q195.857 892.249 196.875 892.087 Q197.894 891.901 198.912 891.901 Q204.699 891.901 208.079 895.073 Q211.459 898.244 211.459 903.661 Q211.459 909.239 207.987 912.341 Q204.514 915.42 198.195 915.42 Q196.019 915.42 193.75 915.049 Q191.505 914.679 189.098 913.938 L189.098 909.239 Q191.181 910.374 193.403 910.929 Q195.625 911.485 198.102 911.485 Q202.107 911.485 204.445 909.378 Q206.783 907.272 206.783 903.661 Q206.783 900.05 204.445 897.943 Q202.107 895.837 198.102 895.837 Q196.227 895.837 194.352 896.253 Q192.5 896.67 190.556 897.55 L190.556 880.189 Z\" fill=\"#000000\" fill-rule=\"evenodd\" fill-opacity=\"1\" /><path clip-path=\"url(#clip630)\" d=\"M114.931 598.782 L122.57 598.782 L122.57 572.416 L114.26 574.083 L114.26 569.823 L122.524 568.157 L127.2 568.157 L127.2 598.782 L134.839 598.782 L134.839 602.717 L114.931 602.717 L114.931 598.782 Z\" fill=\"#000000\" fill-rule=\"evenodd\" fill-opacity=\"1\" /><path clip-path=\"url(#clip630)\" d=\"M154.283 571.235 Q150.672 571.235 148.843 574.8 Q147.038 578.342 147.038 585.471 Q147.038 592.578 148.843 596.143 Q150.672 599.684 154.283 599.684 Q157.917 599.684 159.723 596.143 Q161.552 592.578 161.552 585.471 Q161.552 578.342 159.723 574.8 Q157.917 571.235 154.283 571.235 M154.283 567.532 Q160.093 567.532 163.149 572.138 Q166.227 576.721 166.227 585.471 Q166.227 594.198 163.149 598.805 Q160.093 603.388 154.283 603.388 Q148.473 603.388 145.394 598.805 Q142.339 594.198 142.339 585.471 Q142.339 576.721 145.394 572.138 Q148.473 567.532 154.283 567.532 Z\" fill=\"#000000\" fill-rule=\"evenodd\" fill-opacity=\"1\" /><path clip-path=\"url(#clip630)\" d=\"M174.445 596.837 L179.329 596.837 L179.329 602.717 L174.445 602.717 L174.445 596.837 Z\" fill=\"#000000\" fill-rule=\"evenodd\" fill-opacity=\"1\" /><path clip-path=\"url(#clip630)\" d=\"M199.514 571.235 Q195.903 571.235 194.075 574.8 Q192.269 578.342 192.269 585.471 Q192.269 592.578 194.075 596.143 Q195.903 599.684 199.514 599.684 Q203.149 599.684 204.954 596.143 Q206.783 592.578 206.783 585.471 Q206.783 578.342 204.954 574.8 Q203.149 571.235 199.514 571.235 M199.514 567.532 Q205.324 567.532 208.38 572.138 Q211.459 576.721 211.459 585.471 Q211.459 594.198 208.38 598.805 Q205.324 603.388 199.514 603.388 Q193.704 603.388 190.625 598.805 Q187.57 594.198 187.57 585.471 Q187.57 576.721 190.625 572.138 Q193.704 567.532 199.514 567.532 Z\" fill=\"#000000\" fill-rule=\"evenodd\" fill-opacity=\"1\" /><path clip-path=\"url(#clip630)\" d=\"M115.927 286.75 L123.566 286.75 L123.566 260.384 L115.256 262.051 L115.256 257.791 L123.519 256.125 L128.195 256.125 L128.195 286.75 L135.834 286.75 L135.834 290.685 L115.927 290.685 L115.927 286.75 Z\" fill=\"#000000\" fill-rule=\"evenodd\" fill-opacity=\"1\" /><path clip-path=\"url(#clip630)\" d=\"M149.306 286.75 L165.626 286.75 L165.626 290.685 L143.681 290.685 L143.681 286.75 Q146.343 283.995 150.927 279.365 Q155.533 274.713 156.714 273.37 Q158.959 270.847 159.839 269.111 Q160.741 267.352 160.741 265.662 Q160.741 262.907 158.797 261.171 Q156.876 259.435 153.774 259.435 Q151.575 259.435 149.121 260.199 Q146.691 260.963 143.913 262.514 L143.913 257.791 Q146.737 256.657 149.191 256.079 Q151.644 255.5 153.681 255.5 Q159.052 255.5 162.246 258.185 Q165.44 260.87 165.44 265.361 Q165.44 267.49 164.63 269.412 Q163.843 271.31 161.737 273.902 Q161.158 274.574 158.056 277.791 Q154.954 280.986 149.306 286.75 Z\" fill=\"#000000\" fill-rule=\"evenodd\" fill-opacity=\"1\" /><path clip-path=\"url(#clip630)\" d=\"M175.44 284.805 L180.325 284.805 L180.325 290.685 L175.44 290.685 L175.44 284.805 Z\" fill=\"#000000\" fill-rule=\"evenodd\" fill-opacity=\"1\" /><path clip-path=\"url(#clip630)\" d=\"M190.556 256.125 L208.912 256.125 L208.912 260.06 L194.838 260.06 L194.838 268.532 Q195.857 268.185 196.875 268.023 Q197.894 267.838 198.912 267.838 Q204.699 267.838 208.079 271.009 Q211.459 274.18 211.459 279.597 Q211.459 285.176 207.987 288.277 Q204.514 291.356 198.195 291.356 Q196.019 291.356 193.75 290.986 Q191.505 290.615 189.098 289.875 L189.098 285.176 Q191.181 286.31 193.403 286.865 Q195.625 287.421 198.102 287.421 Q202.107 287.421 204.445 285.314 Q206.783 283.208 206.783 279.597 Q206.783 275.986 204.445 273.879 Q202.107 271.773 198.102 271.773 Q196.227 271.773 194.352 272.19 Q192.5 272.606 190.556 273.486 L190.556 256.125 Z\" fill=\"#000000\" fill-rule=\"evenodd\" fill-opacity=\"1\" /><path clip-path=\"url(#clip630)\" d=\"M16.4842 755.248 L16.4842 748.341 L36.0269 735.164 L16.4842 722.083 L16.4842 715.176 L41.3741 731.981 L64.0042 731.981 L64.0042 738.443 L41.3741 738.443 L16.4842 755.248 Z\" fill=\"#000000\" fill-rule=\"evenodd\" fill-opacity=\"1\" /><circle clip-path=\"url(#clip632)\" cx=\"307.043\" cy=\"1384.24\" r=\"14\" fill=\"#009af9\" fill-rule=\"evenodd\" fill-opacity=\"1\" stroke=\"#000000\" stroke-opacity=\"1\" stroke-width=\"3.2\"/>\n",
       "<circle clip-path=\"url(#clip632)\" cx=\"516.109\" cy=\"1209.5\" r=\"14\" fill=\"#009af9\" fill-rule=\"evenodd\" fill-opacity=\"1\" stroke=\"#000000\" stroke-opacity=\"1\" stroke-width=\"3.2\"/>\n",
       "<circle clip-path=\"url(#clip632)\" cx=\"725.175\" cy=\"1097.17\" r=\"14\" fill=\"#009af9\" fill-rule=\"evenodd\" fill-opacity=\"1\" stroke=\"#000000\" stroke-opacity=\"1\" stroke-width=\"3.2\"/>\n",
       "<circle clip-path=\"url(#clip632)\" cx=\"516.109\" cy=\"835.062\" r=\"14\" fill=\"#009af9\" fill-rule=\"evenodd\" fill-opacity=\"1\" stroke=\"#000000\" stroke-opacity=\"1\" stroke-width=\"3.2\"/>\n",
       "<circle clip-path=\"url(#clip632)\" cx=\"1352.37\" cy=\"1084.69\" r=\"14\" fill=\"#009af9\" fill-rule=\"evenodd\" fill-opacity=\"1\" stroke=\"#000000\" stroke-opacity=\"1\" stroke-width=\"3.2\"/>\n",
       "<circle clip-path=\"url(#clip632)\" cx=\"1561.44\" cy=\"835.062\" r=\"14\" fill=\"#009af9\" fill-rule=\"evenodd\" fill-opacity=\"1\" stroke=\"#000000\" stroke-opacity=\"1\" stroke-width=\"3.2\"/>\n",
       "<circle clip-path=\"url(#clip632)\" cx=\"2293.17\" cy=\"997.319\" r=\"14\" fill=\"#009af9\" fill-rule=\"evenodd\" fill-opacity=\"1\" stroke=\"#000000\" stroke-opacity=\"1\" stroke-width=\"3.2\"/>\n",
       "<circle clip-path=\"url(#clip632)\" cx=\"1143.31\" cy=\"1084.69\" r=\"14\" fill=\"#009af9\" fill-rule=\"evenodd\" fill-opacity=\"1\" stroke=\"#000000\" stroke-opacity=\"1\" stroke-width=\"3.2\"/>\n",
       "<circle clip-path=\"url(#clip632)\" cx=\"1143.31\" cy=\"822.581\" r=\"14\" fill=\"#009af9\" fill-rule=\"evenodd\" fill-opacity=\"1\" stroke=\"#000000\" stroke-opacity=\"1\" stroke-width=\"3.2\"/>\n",
       "<circle clip-path=\"url(#clip632)\" cx=\"1770.51\" cy=\"585.437\" r=\"14\" fill=\"#009af9\" fill-rule=\"evenodd\" fill-opacity=\"1\" stroke=\"#000000\" stroke-opacity=\"1\" stroke-width=\"3.2\"/>\n",
       "<circle clip-path=\"url(#clip632)\" cx=\"1561.44\" cy=\"1084.69\" r=\"14\" fill=\"#009af9\" fill-rule=\"evenodd\" fill-opacity=\"1\" stroke=\"#000000\" stroke-opacity=\"1\" stroke-width=\"3.2\"/>\n",
       "<circle clip-path=\"url(#clip632)\" cx=\"1979.57\" cy=\"173.555\" r=\"14\" fill=\"#009af9\" fill-rule=\"evenodd\" fill-opacity=\"1\" stroke=\"#000000\" stroke-opacity=\"1\" stroke-width=\"3.2\"/>\n",
       "<circle clip-path=\"url(#clip632)\" cx=\"2188.64\" cy=\"86.1857\" r=\"14\" fill=\"#009af9\" fill-rule=\"evenodd\" fill-opacity=\"1\" stroke=\"#000000\" stroke-opacity=\"1\" stroke-width=\"3.2\"/>\n",
       "<polyline clip-path=\"url(#clip632)\" style=\"stroke:#e26f46; stroke-linecap:butt; stroke-linejoin:round; stroke-width:4; stroke-opacity:1; fill:none\" points=\"\n",
       "  307.043,1259.75 2293.17,485.073 \n",
       "  \"/>\n",
       "</svg>\n"
      ]
     },
     "execution_count": 42,
     "metadata": {},
     "output_type": "execute_result"
    }
   ],
   "source": [
    "# plot best fit line\n",
    "m = x[1]\n",
    "b = x[2]\n",
    "m_qr=x_qr[1]\n",
    "b_qr=x_qr[2]\n",
    "x_line = [1, 10.5]\n",
    "y_line = m * x_line .+ b\n",
    "yqr_line=m_qr * x_line .+ b_qr\n",
    "scatter(x_data, y_data)\n",
    "plot!(xlabel=\"X\", ylabel=\"Y\", leg=false)\n",
    "plot!(x_line, y_line)\n",
    "plot!(x_line, yqr_line)"
   ]
  },
  {
   "cell_type": "code",
   "execution_count": null,
   "metadata": {},
   "outputs": [],
   "source": []
  }
 ],
 "metadata": {
  "colab": {
   "name": "recitation_5_2021.ipynb",
   "provenance": []
  },
  "kernelspec": {
   "display_name": "Julia 1.6.1",
   "language": "julia",
   "name": "julia-1.6"
  },
  "language_info": {
   "file_extension": ".jl",
   "mimetype": "application/julia",
   "name": "julia",
   "version": "1.6.1"
  }
 },
 "nbformat": 4,
 "nbformat_minor": 1
}
