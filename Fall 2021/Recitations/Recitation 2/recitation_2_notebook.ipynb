{
 "cells": [
  {
   "cell_type": "markdown",
   "metadata": {},
   "source": [
    "# Recitation 2\n",
    "## LU Factorization"
   ]
  },
  {
   "cell_type": "markdown",
   "metadata": {},
   "source": [
    "![](transform_diagram.png)"
   ]
  },
  {
   "cell_type": "markdown",
   "metadata": {},
   "source": [
    "In the above diagram, a transformation was applied to the blue square which resulted in the red square. This is clearly a rotation, so we can write the this as a rotation matrix, where $(x,y)$ is a point on the blue square and $(x_t, y_t)$ is a point on the red square:"
   ]
  },
  {
   "cell_type": "markdown",
   "metadata": {},
   "source": [
    "$$ \\begin{bmatrix} a & c & 0 \\\\ c & d & 0 \\\\ 0 & 0 & 1 \\end{bmatrix} \n",
    "\\begin{bmatrix} x \\\\ y \\\\ 1 \\end{bmatrix}\n",
    "= \\begin{bmatrix} x_t \\\\ y_t \\\\ 1 \\end{bmatrix} \\\\\\\\\n",
    "= \\begin{bmatrix} a & b \\\\ c & d \\end{bmatrix} \n",
    "\\begin{bmatrix} x \\\\ y \\end{bmatrix}\n",
    "= \\begin{bmatrix} x_t \\\\ y_t \\end{bmatrix}\n",
    "$$"
   ]
  },
  {
   "cell_type": "markdown",
   "metadata": {},
   "source": [
    "Suppose we want to find the values $a$, $b$, $c$, and $d$ of this rotation matrix. First we will need to define two points from each square, then we can rearrange the equation into a different $Ax=b$ form so that $x$ contains $a$, $b$, $c$, and $d$. "
   ]
  },
  {
   "cell_type": "markdown",
   "metadata": {},
   "source": [
    "$$\n",
    "(x_1, y_1) =  (2,2) \\\\\n",
    "(x_2, y_2) =  (2, -2)\\\\\n",
    "(x_{1t}, y_{1t}) = (0, 2\\sqrt{2})\\\\\n",
    "(x_{2t}, y_{2t}) =  (2\\sqrt{2}, 0)\\\\\n",
    "$$"
   ]
  },
  {
   "cell_type": "markdown",
   "metadata": {},
   "source": [
    "$$\n",
    "ax_1 + by_1 = x_{1t} \\\\\n",
    "cx_1 + dy_1 = y_{1t} \\\\\\\\\n",
    "ax_2 + by_2 = x_{2t} \\\\\n",
    "cx_2 + dy_2 = y_{2t} \\\\\n",
    "$$"
   ]
  },
  {
   "cell_type": "markdown",
   "metadata": {},
   "source": [
    "$$\n",
    "\\begin{bmatrix} x_1 & y_1 & 0 & 0 \\\\ 0 & 0 & x_1 & y_1 \\\\ x_2 & y_2 & 0 & 0 \\\\ 0 & 0 & x_2 & y_2\\end{bmatrix}\n",
    "\\begin{bmatrix} a \\\\ b \\\\ c \\\\ d\\end{bmatrix}\n",
    "= \\begin{bmatrix} x_{1t} \\\\ y_{1t} \\\\ x_{2t} \\\\ y_{2t} \\end{bmatrix}\n",
    "$$"
   ]
  },
  {
   "cell_type": "markdown",
   "metadata": {},
   "source": [
    "Plugging in the values, we finally get a system of equations that we can solve:"
   ]
  },
  {
   "cell_type": "markdown",
   "metadata": {},
   "source": [
    "$$\n",
    "\\begin{bmatrix} 2 & 2 & 0 & 0 \\\\ 0 & 0 & 2 & 2 \\\\ 2 & -2 & 0 & 0 \\\\ 0 & 0 & 2 & -2\\end{bmatrix}\n",
    "\\begin{bmatrix} a \\\\ b \\\\ c \\\\ d\\end{bmatrix}\n",
    "= \\begin{bmatrix} 0 \\\\ 2\\sqrt(2) \\\\ 2\\sqrt(2) \\\\ 0 \\end{bmatrix}\n",
    "$$"
   ]
  },
  {
   "cell_type": "markdown",
   "metadata": {},
   "source": [
    "To solve, we will use LU factorization on the A matrix. since $A_{1,1} = 0$, we will have to use permutations."
   ]
  },
  {
   "cell_type": "markdown",
   "metadata": {},
   "source": [
    "<img src=\"LU_with_permutations.png\" width=\"700\">"
   ]
  },
  {
   "cell_type": "markdown",
   "metadata": {},
   "source": [
    "Implement the algorithm above, taken from 5.6 in the course booklet, to perform LU factorization on matrix $A$."
   ]
  },
  {
   "cell_type": "code",
   "execution_count": 7,
   "metadata": {},
   "outputs": [
    {
     "name": "stdout",
     "output_type": "stream",
     "text": [
      "L = Matrix{Float64}(undef, 4, 0)\n",
      "U = Matrix{Float64}(undef, 0, 4)\n",
      "P = [1 0 0 0; 0 1 0 0; 0 0 1 0; 0 0 0 1]\n"
     ]
    },
    {
     "data": {
      "text/plain": [
       "4×4 Matrix{Int64}:\n",
       " 1  0  0  0\n",
       " 0  1  0  0\n",
       " 0  0  1  0\n",
       " 0  0  0  1"
      ]
     },
     "execution_count": 7,
     "metadata": {},
     "output_type": "execute_result"
    }
   ],
   "source": [
    "using LinearAlgebra\n",
    "\n",
    "# declare A\n",
    "A = [2 2 0 0; 0 0 2 2; 2 -2 0 0; 0 0 2 -2];\n",
    "b = [0; 2sqrt(2); 2sqrt(2);0]\n",
    "# initialization\n",
    "n, m = size(A)\n",
    "temp = copy(A)\n",
    "L = Array{Float64, 2}(undef, n, 0)\n",
    "U = Array{Float64, 2}(undef, 0, n)\n",
    "eps = 1e-16\n",
    "Kappa = 10\n",
    "\n",
    "# P starts as the identity matrix\n",
    "P = [1 0 0 0;\n",
    "     0 1 0 0; \n",
    "     0 0 1 0; \n",
    "     0 0 0 1]\n",
    "\n",
    "for k = 1:n\n",
    "    # Your code here\n",
    "end\n",
    "\n",
    "@show L\n",
    "@show U\n",
    "@show P"
   ]
  },
  {
   "cell_type": "markdown",
   "metadata": {},
   "source": [
    "Now you can use Julia's builtin `lu()` function to check your answer:"
   ]
  },
  {
   "cell_type": "code",
   "execution_count": 8,
   "metadata": {},
   "outputs": [
    {
     "data": {
      "text/plain": [
       "4×4 Matrix{Float64}:\n",
       " 1.0   0.0  0.0  0.0\n",
       " 1.0   1.0  0.0  0.0\n",
       " 0.0  -0.0  1.0  0.0\n",
       " 0.0  -0.0  1.0  1.0"
      ]
     },
     "metadata": {},
     "output_type": "display_data"
    },
    {
     "data": {
      "text/plain": [
       "4×4 Matrix{Float64}:\n",
       " 2.0   2.0  0.0   0.0\n",
       " 0.0  -4.0  0.0   0.0\n",
       " 0.0   0.0  2.0   2.0\n",
       " 0.0   0.0  0.0  -4.0"
      ]
     },
     "metadata": {},
     "output_type": "display_data"
    },
    {
     "data": {
      "text/plain": [
       "4×4 Matrix{Float64}:\n",
       " 1.0  0.0  0.0  0.0\n",
       " 0.0  0.0  1.0  0.0\n",
       " 0.0  1.0  0.0  0.0\n",
       " 0.0  0.0  0.0  1.0"
      ]
     },
     "metadata": {},
     "output_type": "display_data"
    },
    {
     "name": "stdout",
     "output_type": "stream",
     "text": [
      "A = [2 2 0 0; 0 0 2 2; 2 -2 0 0; 0 0 2 -2]\n"
     ]
    }
   ],
   "source": [
    "@show A\n",
    "F2 = lu(A)\n",
    "L2 = F2.L\n",
    "U2 = F2.U\n",
    "P2 = F2.P\n",
    "\n",
    "display(L2)\n",
    "display(U2)\n",
    "display(P2)"
   ]
  },
  {
   "cell_type": "code",
   "execution_count": 21,
   "metadata": {
    "scrolled": true
   },
   "outputs": [
    {
     "name": "stdout",
     "output_type": "stream",
     "text": [
      "y = [0.0, 2.8284271247461903, 2.8284271247461903, -2.8284271247461903]\n"
     ]
    },
    {
     "data": {
      "text/plain": [
       "4-element Vector{Float64}:\n",
       "  0.0\n",
       "  2.8284271247461903\n",
       "  2.8284271247461903\n",
       " -2.8284271247461903"
      ]
     },
     "execution_count": 21,
     "metadata": {},
     "output_type": "execute_result"
    }
   ],
   "source": [
    "# Forward substitution, for L, Pb\n",
    "n = 4\n",
    "y = zeros(n)\n",
    "\n",
    "\n",
    "@show y"
   ]
  },
  {
   "cell_type": "code",
   "execution_count": 28,
   "metadata": {},
   "outputs": [
    {
     "data": {
      "text/plain": [
       "4-element Vector{Float64}:\n",
       "  0.7071067811865476\n",
       " -0.7071067811865476\n",
       "  0.7071067811865476\n",
       "  0.7071067811865476"
      ]
     },
     "execution_count": 28,
     "metadata": {},
     "output_type": "execute_result"
    }
   ],
   "source": [
    "# Backward Substitution, for U, y\n",
    "n = 4\n",
    "x = zeros(n)\n",
    "\n",
    "\n",
    "\n",
    "@show x"
   ]
  },
  {
   "cell_type": "markdown",
   "metadata": {},
   "source": [
    "# Lets check what we have!"
   ]
  },
  {
   "cell_type": "code",
   "execution_count": 29,
   "metadata": {},
   "outputs": [
    {
     "data": {
      "text/plain": [
       "2×2 Matrix{Float64}:\n",
       " 0.707107  -0.707107\n",
       " 0.707107   0.707107"
      ]
     },
     "execution_count": 29,
     "metadata": {},
     "output_type": "execute_result"
    }
   ],
   "source": [
    "T = [x[1] x[2]; x[3] x[4]]"
   ]
  },
  {
   "cell_type": "code",
   "execution_count": 30,
   "metadata": {},
   "outputs": [
    {
     "data": {
      "text/plain": [
       "2-element Vector{Float64}:\n",
       " 0.0\n",
       " 2.8284271247461903"
      ]
     },
     "execution_count": 30,
     "metadata": {},
     "output_type": "execute_result"
    }
   ],
   "source": [
    "T*[2;2]"
   ]
  },
  {
   "cell_type": "code",
   "execution_count": null,
   "metadata": {},
   "outputs": [],
   "source": []
  }
 ],
 "metadata": {
  "kernelspec": {
   "display_name": "Julia 1.6.1",
   "language": "julia",
   "name": "julia-1.6"
  },
  "language_info": {
   "file_extension": ".jl",
   "mimetype": "application/julia",
   "name": "julia",
   "version": "1.6.1"
  }
 },
 "nbformat": 4,
 "nbformat_minor": 4
}
