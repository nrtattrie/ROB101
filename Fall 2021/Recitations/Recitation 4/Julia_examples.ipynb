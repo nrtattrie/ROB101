{
 "cells": [
  {
   "cell_type": "markdown",
   "metadata": {
    "id": "DYy5v76Vbopn"
   },
   "source": [
    "# Recitation 4"
   ]
  },
  {
   "cell_type": "markdown",
   "metadata": {
    "id": "nXTjak0Obopq"
   },
   "source": [
    "## Functions in Julia\n",
    "In Julia, you can write functions that execute a block of code when called. They can take in a set of variables and output a variable, but they don't have to. Functions are really useful when we want to generalize a formula or algorithm so we can apply it to many different inputs, and so we don't have to copy and paste our code everytime we want to do the same operation. A function is defined using this syntax:\n",
    "\n",
    "`function function_name(input1, input2, input3, ...)`\n",
    "\n",
    "inside a function, you can return an output value using the `return` keyword. Once you return an output value, your function will be done executing.\n",
    "\n",
    "Here's a simple example of a function that takes in a number `n`, squares it and adds one, then returns the new value:"
   ]
  },
  {
   "cell_type": "code",
   "execution_count": null,
   "metadata": {
    "id": "l_JB3ekLbopr",
    "outputId": "4e51e282-ec0e-4a75-c7ea-734a6f7d67ab"
   },
   "outputs": [
    {
     "data": {
      "text/plain": [
       "squared_plus_one (generic function with 1 method)"
      ]
     },
     "execution_count": 6,
     "metadata": {},
     "output_type": "execute_result"
    }
   ],
   "source": [
    "function squared_plus_one(n)\n",
    "    new_n = (n^2) + 1\n",
    "    return new_n\n",
    "end"
   ]
  },
  {
   "cell_type": "markdown",
   "metadata": {
    "id": "RXA7kYnXbopt"
   },
   "source": [
    "Now we can demonstrate this function by calling it on a few different numbers:"
   ]
  },
  {
   "cell_type": "code",
   "execution_count": null,
   "metadata": {
    "id": "XIsTOnGMbopu",
    "outputId": "82082eb9-c68b-4b79-cfd9-7d47e5517698"
   },
   "outputs": [
    {
     "name": "stdout",
     "output_type": "stream",
     "text": [
      "a_new = 101\n",
      "b_new = 3276.2728999999995\n"
     ]
    },
    {
     "data": {
      "text/plain": [
       "3276.2728999999995"
      ]
     },
     "execution_count": 7,
     "metadata": {},
     "output_type": "execute_result"
    }
   ],
   "source": [
    "a = 10\n",
    "a_new = squared_plus_one(a)\n",
    "@show a_new\n",
    "\n",
    "b = 57.23\n",
    "b_new = squared_plus_one(b)\n",
    "@show b_new"
   ]
  },
  {
   "cell_type": "markdown",
   "metadata": {
    "id": "mBBjBGU9bopw"
   },
   "source": [
    "## Matrix Inverses\n",
    "The inverse of a 2x2 matrix $A=\\begin{bmatrix}a & b \\\\ c & d\\end{bmatrix}$ can be found using this simple formula: $$ A^{-1} = \\frac{1}{ad-bc} \\begin{bmatrix} d & -b \\\\ -c & a \\end{bmatrix}  = \\frac{1}{\\det(A)} \\begin{bmatrix} d & -b \\\\ -c & a \\end{bmatrix}$$\n",
    "Let's implement this formula as a Julia function called `inverse_2x2`, so we can test it out on any matrix we want:"
   ]
  },
  {
   "cell_type": "code",
   "execution_count": 7,
   "metadata": {
    "id": "cWSWBcBDbopx",
    "outputId": "45d60224-808b-45b1-b044-8a98f85d2404"
   },
   "outputs": [
    {
     "data": {
      "text/plain": [
       "inverse_2x2 (generic function with 1 method)"
      ]
     },
     "execution_count": 7,
     "metadata": {},
     "output_type": "execute_result"
    }
   ],
   "source": [
    "using LinearAlgebra\n",
    "\n",
    "# function to calculate the inverse of a 2x2 matrix A\n",
    "function inverse_2x2(A)\n",
    "    # YOUR CODE HERE\n",
    "\n",
    "    return 0 # replace 0 with your matrix inverse\n",
    "end"
   ]
  },
  {
   "cell_type": "markdown",
   "metadata": {
    "id": "gRyptXcubopy"
   },
   "source": [
    "Now we can try out our function by passing it a few 2x2 matrices. We know that given an nxn matrix $A$, $$A \\cdot A^{-1} = I_n$$\n",
    "So we can test our matrix inverses by multiplying them by our original 2x2 matrices. If our implementation is correct, the following code should print out 2 2x2 identity matrices:"
   ]
  },
  {
   "cell_type": "code",
   "execution_count": 8,
   "metadata": {
    "id": "wvfcK3-Qbopy",
    "outputId": "6de27440-04a1-4ce1-c547-66e13f59a9c7"
   },
   "outputs": [
    {
     "data": {
      "text/plain": [
       "2×2 Matrix{Int64}:\n",
       " 0  0\n",
       " 0  0"
      ]
     },
     "metadata": {},
     "output_type": "display_data"
    },
    {
     "data": {
      "text/plain": [
       "2×2 Matrix{Int64}:\n",
       " 0  0\n",
       " 0  0"
      ]
     },
     "metadata": {},
     "output_type": "display_data"
    }
   ],
   "source": [
    "A1 = [1 2; 3 4]\n",
    "A1_inverse = inverse_2x2(A1)\n",
    "display(A1 * A1_inverse)\n",
    "\n",
    "A2 = [5 3; 1 0]\n",
    "A2_inverse = inverse_2x2(A2)\n",
    "display(A2 * A2_inverse)"
   ]
  },
  {
   "cell_type": "markdown",
   "metadata": {},
   "source": [
    "## Time analysis: Calculating matrix inverse using LU "
   ]
  },
  {
   "cell_type": "code",
   "execution_count": 12,
   "metadata": {},
   "outputs": [
    {
     "data": {
      "text/plain": [
       "7.040487051010132"
      ]
     },
     "execution_count": 12,
     "metadata": {},
     "output_type": "execute_result"
    }
   ],
   "source": [
    "A = randn(5000,5000);\n",
    "start = time()\n",
    "inv(A);\n",
    "elapsed = time()-start"
   ]
  },
  {
   "cell_type": "code",
   "execution_count": 13,
   "metadata": {},
   "outputs": [],
   "source": [
    "F = lu(A)\n",
    "U = UpperTriangular(F.U);\n",
    "L = LowerTriangular(F.L);"
   ]
  },
  {
   "cell_type": "code",
   "execution_count": 14,
   "metadata": {},
   "outputs": [
    {
     "data": {
      "text/plain": [
       "4.455511808395386"
      ]
     },
     "execution_count": 14,
     "metadata": {},
     "output_type": "execute_result"
    }
   ],
   "source": [
    "start = time()\n",
    "A_inv = inv(U)*inv(L)\n",
    "elapsed = time()-start"
   ]
  },
  {
   "cell_type": "markdown",
   "metadata": {
    "id": "UuHqOJ21bop0"
   },
   "source": [
    "## Matrix Determinant using LU Decomposition\n",
    "Computing the determinant of large square matrices by hand quickly becomes very tedious, but we can use a property of determinants to help us make it easier. We know that \n",
    "\n",
    "$$\\det(A \\cdot B) = \\det(A) \\cdot \\det(B)$$\n",
    "\n",
    "We also know that a square matrix $A$ can be factorized into two matrices $L$ and $U$ such that $A = L \\cdot U$.\n",
    "We can combine these two properties to give us \n",
    "\n",
    "$$ \\det(A) = \\det(L) \\cdot \\det(U) $$\n",
    "\n",
    "Since the determinants of $L$ and $U$ are just the products of their diagonals, and since we can easily compute $L$ and $U$ for an arbitrarily large square matrix, we use this formula to effectively compute the determinant of an arbitrarily large square matrix. \n",
    "\n",
    "Lets implement this as a function called `lu_determinant`. we can use Julia's built in `lu` function to factorize $A$."
   ]
  },
  {
   "cell_type": "code",
   "execution_count": 15,
   "metadata": {
    "id": "zRKMJpsQbop0",
    "outputId": "1b9e4f50-e8a7-44e8-b0ac-0ba990a3838c"
   },
   "outputs": [
    {
     "data": {
      "text/plain": [
       "lu_determinant (generic function with 1 method)"
      ]
     },
     "execution_count": 15,
     "metadata": {},
     "output_type": "execute_result"
    }
   ],
   "source": [
    "function lu_determinant(A)\n",
    "    # YOUR CODE HERE\n",
    "    \n",
    "    return 0 # replace 0 with your determinant\n",
    "end"
   ]
  },
  {
   "cell_type": "markdown",
   "metadata": {},
   "source": [
    "## Time analysis: Is LU really faster?! "
   ]
  },
  {
   "cell_type": "code",
   "execution_count": 16,
   "metadata": {
    "id": "j7XTdmdsbop2"
   },
   "outputs": [
    {
     "data": {
      "text/plain": [
       "1.2524869441986084"
      ]
     },
     "execution_count": 16,
     "metadata": {},
     "output_type": "execute_result"
    }
   ],
   "source": [
    "start = time()\n",
    "det(A);\n",
    "elapsed = time()-start"
   ]
  },
  {
   "cell_type": "code",
   "execution_count": 17,
   "metadata": {},
   "outputs": [
    {
     "data": {
      "text/plain": [
       "0.015604972839355469"
      ]
     },
     "execution_count": 17,
     "metadata": {},
     "output_type": "execute_result"
    }
   ],
   "source": [
    "start = time()\n",
    "A_det = det(U)*det(L)\n",
    "elapsed = time()-start"
   ]
  },
  {
   "cell_type": "markdown",
   "metadata": {},
   "source": [
    "## Permutation Matrices: Building Intuition "
   ]
  },
  {
   "cell_type": "code",
   "execution_count": 19,
   "metadata": {},
   "outputs": [
    {
     "data": {
      "image/png": "[encoded data removed]"
     },
     "execution_count": 19,
     "metadata": {},
     "output_type": "execute_result"
    }
   ],
   "source": [
    "## Let's take a sequence of points that form a rectangle \n",
    "using Plots\n",
    "default(fmt = :png)\n",
    "\n",
    "points = [-1. -1.5; 1. -1.5;1. 1.5; -1. 1.5; -1. -1.5]';\n",
    "\n",
    "# x coordinates extracted from the array\n",
    "x = points[1,:];\n",
    "\n",
    "# y coordinates extracted from the array\n",
    "y = points[2,:];\n",
    "\n",
    "# plotting the array of points in the same plot as a coordinate frame \n",
    "plot(x,y, seriescolor = :green, aspect_ratio=:equal, xlims = (-2,2), ylims = (-2,2), \n",
    "    grid = true, framestyle = :origin, legend = false, linewidth=3)"
   ]
  },
  {
   "cell_type": "code",
   "execution_count": 22,
   "metadata": {},
   "outputs": [
    {
     "data": {
      "text/plain": [
       "10-element Vector{Float64}:\n",
       " -1.0\n",
       " -1.5\n",
       "  1.0\n",
       " -1.5\n",
       "  1.0\n",
       "  1.5\n",
       " -1.0\n",
       "  1.5\n",
       " -1.0\n",
       " -1.5"
      ]
     },
     "execution_count": 22,
     "metadata": {},
     "output_type": "execute_result"
    }
   ],
   "source": [
    "b = [x[1], y[1], x[2], y[2], x[3], y[3], x[4], y[4], x[5], y[5]]"
   ]
  },
  {
   "cell_type": "markdown",
   "metadata": {},
   "source": [
    "### Build a P to get a hour glass like shape "
   ]
  },
  {
   "cell_type": "code",
   "execution_count": 23,
   "metadata": {},
   "outputs": [
    {
     "data": {
      "text/plain": [
       "10-element Vector{Float64}:\n",
       " -1.0\n",
       " -1.5\n",
       "  1.0\n",
       "  1.5\n",
       " -1.0\n",
       "  1.5\n",
       "  1.0\n",
       " -1.5\n",
       " -1.0\n",
       " -1.5"
      ]
     },
     "execution_count": 23,
     "metadata": {},
     "output_type": "execute_result"
    }
   ],
   "source": [
    "ideal_b = [x[1], y[1], x[3], y[3], x[4], y[4], x[2], y[2], x[5], y[5]]"
   ]
  },
  {
   "cell_type": "code",
   "execution_count": 28,
   "metadata": {},
   "outputs": [
    {
     "data": {
      "text/plain": [
       "2×5 Matrix{Float64}:\n",
       " -1.0  1.0  -1.0   1.0  -1.0\n",
       " -1.5  1.5   1.5  -1.5  -1.5"
      ]
     },
     "execution_count": 28,
     "metadata": {},
     "output_type": "execute_result"
    }
   ],
   "source": [
    "points = reshape(ideal_b, (2,5))"
   ]
  },
  {
   "cell_type": "code",
   "execution_count": 29,
   "metadata": {},
   "outputs": [
    {
     "data": {
      "image/png": "[encoded data removed]"
     },
     "execution_count": 29,
     "metadata": {},
     "output_type": "execute_result"
    }
   ],
   "source": [
    "# x coordinates extracted from the array\n",
    "x = points[1,:];\n",
    "\n",
    "# y coordinates extracted from the array\n",
    "y = points[2,:];\n",
    "\n",
    "# plotting the array of points in the same plot as a coordinate frame \n",
    "plot(x,y, seriescolor = :green, aspect_ratio=:equal, xlims = (-2,2), ylims = (-2,2), \n",
    "    grid = true, framestyle = :origin, legend = false, linewidth=3)"
   ]
  },
  {
   "cell_type": "code",
   "execution_count": null,
   "metadata": {},
   "outputs": [],
   "source": []
  }
 ],
 "metadata": {
  "colab": {
   "name": "recitation_4_2021.ipynb",
   "provenance": []
  },
  "kernelspec": {
   "display_name": "Julia 1.6.1",
   "language": "julia",
   "name": "julia-1.6"
  },
  "language_info": {
   "file_extension": ".jl",
   "mimetype": "application/julia",
   "name": "julia",
   "version": "1.6.1"
  }
 },
 "nbformat": 4,
 "nbformat_minor": 1
}
