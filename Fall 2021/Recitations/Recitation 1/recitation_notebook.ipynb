{
 "cells": [
  {
   "cell_type": "markdown",
   "metadata": {},
   "source": [
    "# Recitation 1"
   ]
  },
  {
   "cell_type": "markdown",
   "metadata": {},
   "source": [
    "# Basics of Julia programming"
   ]
  },
  {
   "cell_type": "markdown",
   "metadata": {
    "slideshow": {
     "slide_type": "slide"
    }
   },
   "source": [
    "# Using Packages \n",
    "\n",
    "Packages are predefined functionalities in Julia that you can use in your code instead of having to reinvent the wheel! \n",
    "\n",
    "Any Package that you will need in your code must be loaded in your notebook by using the Julia command ```using $Your_Package_Name```\n"
   ]
  },
  {
   "cell_type": "code",
   "execution_count": 1,
   "metadata": {},
   "outputs": [
    {
     "data": {
      "image/svg+xml": [
       "<?xml version=\"1.0\" encoding=\"utf-8\"?>\n",
       "<svg xmlns=\"http://www.w3.org/2000/svg\" xmlns:xlink=\"http://www.w3.org/1999/xlink\" width=\"600\" height=\"400\" viewBox=\"0 0 2400 1600\">\n",
       "<defs>\n",
       "  <clipPath id=\"clip860\">\n",
       "    <rect x=\"0\" y=\"0\" width=\"2400\" height=\"1600\"/>\n",
       "  </clipPath>\n",
       "</defs>\n",
       "<path clip-path=\"url(#clip860)\" d=\"\n",
       "M0 1600 L2400 1600 L2400 0 L0 0  Z\n",
       "  \" fill=\"#ffffff\" fill-rule=\"evenodd\" fill-opacity=\"1\"/>\n",
       "<defs>\n",
       "  <clipPath id=\"clip861\">\n",
       "    <rect x=\"480\" y=\"0\" width=\"1681\" height=\"1600\"/>\n",
       "  </clipPath>\n",
       "</defs>\n",
       "<path clip-path=\"url(#clip860)\" d=\"\n",
       "M162.455 1486.45 L2352.76 1486.45 L2352.76 47.2441 L162.455 47.2441  Z\n",
       "  \" fill=\"#ffffff\" fill-rule=\"evenodd\" fill-opacity=\"1\"/>\n",
       "<defs>\n",
       "  <clipPath id=\"clip862\">\n",
       "    <rect x=\"162\" y=\"47\" width=\"2191\" height=\"1440\"/>\n",
       "  </clipPath>\n",
       "</defs>\n",
       "<polyline clip-path=\"url(#clip862)\" style=\"stroke:#000000; stroke-width:2; stroke-opacity:0.1; fill:none\" points=\"\n",
       "  271.009,1486.45 271.009,47.2441 \n",
       "  \"/>\n",
       "<polyline clip-path=\"url(#clip862)\" style=\"stroke:#000000; stroke-width:2; stroke-opacity:0.1; fill:none\" points=\"\n",
       "  599.875,1486.45 599.875,47.2441 \n",
       "  \"/>\n",
       "<polyline clip-path=\"url(#clip862)\" style=\"stroke:#000000; stroke-width:2; stroke-opacity:0.1; fill:none\" points=\"\n",
       "  928.74,1486.45 928.74,47.2441 \n",
       "  \"/>\n",
       "<polyline clip-path=\"url(#clip862)\" style=\"stroke:#000000; stroke-width:2; stroke-opacity:0.1; fill:none\" points=\"\n",
       "  1257.61,1486.45 1257.61,47.2441 \n",
       "  \"/>\n",
       "<polyline clip-path=\"url(#clip862)\" style=\"stroke:#000000; stroke-width:2; stroke-opacity:0.1; fill:none\" points=\"\n",
       "  1586.47,1486.45 1586.47,47.2441 \n",
       "  \"/>\n",
       "<polyline clip-path=\"url(#clip862)\" style=\"stroke:#000000; stroke-width:2; stroke-opacity:0.1; fill:none\" points=\"\n",
       "  1915.34,1486.45 1915.34,47.2441 \n",
       "  \"/>\n",
       "<polyline clip-path=\"url(#clip862)\" style=\"stroke:#000000; stroke-width:2; stroke-opacity:0.1; fill:none\" points=\"\n",
       "  2244.2,1486.45 2244.2,47.2441 \n",
       "  \"/>\n",
       "<polyline clip-path=\"url(#clip862)\" style=\"stroke:#000000; stroke-width:2; stroke-opacity:0.1; fill:none\" points=\"\n",
       "  162.455,1445.72 2352.76,1445.72 \n",
       "  \"/>\n",
       "<polyline clip-path=\"url(#clip862)\" style=\"stroke:#000000; stroke-width:2; stroke-opacity:0.1; fill:none\" points=\"\n",
       "  162.455,1106.24 2352.76,1106.24 \n",
       "  \"/>\n",
       "<polyline clip-path=\"url(#clip862)\" style=\"stroke:#000000; stroke-width:2; stroke-opacity:0.1; fill:none\" points=\"\n",
       "  162.455,766.768 2352.76,766.768 \n",
       "  \"/>\n",
       "<polyline clip-path=\"url(#clip862)\" style=\"stroke:#000000; stroke-width:2; stroke-opacity:0.1; fill:none\" points=\"\n",
       "  162.455,427.294 2352.76,427.294 \n",
       "  \"/>\n",
       "<polyline clip-path=\"url(#clip862)\" style=\"stroke:#000000; stroke-width:2; stroke-opacity:0.1; fill:none\" points=\"\n",
       "  162.455,87.8204 2352.76,87.8204 \n",
       "  \"/>\n",
       "<polyline clip-path=\"url(#clip860)\" style=\"stroke:#000000; stroke-width:4; stroke-opacity:1; fill:none\" points=\"\n",
       "  162.455,1486.45 2352.76,1486.45 \n",
       "  \"/>\n",
       "<polyline clip-path=\"url(#clip860)\" style=\"stroke:#000000; stroke-width:4; stroke-opacity:1; fill:none\" points=\"\n",
       "  162.455,1486.45 162.455,47.2441 \n",
       "  \"/>\n",
       "<polyline clip-path=\"url(#clip860)\" style=\"stroke:#000000; stroke-width:4; stroke-opacity:1; fill:none\" points=\"\n",
       "  271.009,1486.45 271.009,1469.18 \n",
       "  \"/>\n",
       "<polyline clip-path=\"url(#clip860)\" style=\"stroke:#000000; stroke-width:4; stroke-opacity:1; fill:none\" points=\"\n",
       "  599.875,1486.45 599.875,1469.18 \n",
       "  \"/>\n",
       "<polyline clip-path=\"url(#clip860)\" style=\"stroke:#000000; stroke-width:4; stroke-opacity:1; fill:none\" points=\"\n",
       "  928.74,1486.45 928.74,1469.18 \n",
       "  \"/>\n",
       "<polyline clip-path=\"url(#clip860)\" style=\"stroke:#000000; stroke-width:4; stroke-opacity:1; fill:none\" points=\"\n",
       "  1257.61,1486.45 1257.61,1469.18 \n",
       "  \"/>\n",
       "<polyline clip-path=\"url(#clip860)\" style=\"stroke:#000000; stroke-width:4; stroke-opacity:1; fill:none\" points=\"\n",
       "  1586.47,1486.45 1586.47,1469.18 \n",
       "  \"/>\n",
       "<polyline clip-path=\"url(#clip860)\" style=\"stroke:#000000; stroke-width:4; stroke-opacity:1; fill:none\" points=\"\n",
       "  1915.34,1486.45 1915.34,1469.18 \n",
       "  \"/>\n",
       "<polyline clip-path=\"url(#clip860)\" style=\"stroke:#000000; stroke-width:4; stroke-opacity:1; fill:none\" points=\"\n",
       "  2244.2,1486.45 2244.2,1469.18 \n",
       "  \"/>\n",
       "<polyline clip-path=\"url(#clip860)\" style=\"stroke:#000000; stroke-width:4; stroke-opacity:1; fill:none\" points=\"\n",
       "  162.455,1445.72 188.738,1445.72 \n",
       "  \"/>\n",
       "<polyline clip-path=\"url(#clip860)\" style=\"stroke:#000000; stroke-width:4; stroke-opacity:1; fill:none\" points=\"\n",
       "  162.455,1106.24 188.738,1106.24 \n",
       "  \"/>\n",
       "<polyline clip-path=\"url(#clip860)\" style=\"stroke:#000000; stroke-width:4; stroke-opacity:1; fill:none\" points=\"\n",
       "  162.455,766.768 188.738,766.768 \n",
       "  \"/>\n",
       "<polyline clip-path=\"url(#clip860)\" style=\"stroke:#000000; stroke-width:4; stroke-opacity:1; fill:none\" points=\"\n",
       "  162.455,427.294 188.738,427.294 \n",
       "  \"/>\n",
       "<polyline clip-path=\"url(#clip860)\" style=\"stroke:#000000; stroke-width:4; stroke-opacity:1; fill:none\" points=\"\n",
       "  162.455,87.8204 188.738,87.8204 \n",
       "  \"/>\n",
       "<path clip-path=\"url(#clip860)\" d=\"M 0 0 M251.588 1525.04 L264.065 1525.04 L264.065 1528.83 L251.588 1528.83 L251.588 1525.04 Z\" fill=\"#000000\" fill-rule=\"evenodd\" fill-opacity=\"1\" /><path clip-path=\"url(#clip860)\" d=\"M 0 0 M283.301 1521.29 Q286.657 1522 288.532 1524.27 Q290.43 1526.54 290.43 1529.87 Q290.43 1534.99 286.912 1537.79 Q283.393 1540.59 276.912 1540.59 Q274.736 1540.59 272.421 1540.15 Q270.13 1539.73 267.676 1538.88 L267.676 1534.36 Q269.62 1535.5 271.935 1536.08 Q274.25 1536.66 276.773 1536.66 Q281.171 1536.66 283.463 1534.92 Q285.778 1533.18 285.778 1529.87 Q285.778 1526.82 283.625 1525.11 Q281.495 1523.37 277.676 1523.37 L273.648 1523.37 L273.648 1519.53 L277.861 1519.53 Q281.31 1519.53 283.139 1518.16 Q284.968 1516.77 284.968 1514.18 Q284.968 1511.52 283.069 1510.11 Q281.194 1508.67 277.676 1508.67 Q275.755 1508.67 273.556 1509.09 Q271.356 1509.5 268.718 1510.38 L268.718 1506.22 Q271.38 1505.48 273.694 1505.11 Q276.032 1504.73 278.093 1504.73 Q283.417 1504.73 286.518 1507.17 Q289.62 1509.57 289.62 1513.69 Q289.62 1516.56 287.977 1518.55 Q286.333 1520.52 283.301 1521.29 Z\" fill=\"#000000\" fill-rule=\"evenodd\" fill-opacity=\"1\" /><path clip-path=\"url(#clip860)\" d=\"M 0 0 M580.928 1525.04 L593.405 1525.04 L593.405 1528.83 L580.928 1528.83 L580.928 1525.04 Z\" fill=\"#000000\" fill-rule=\"evenodd\" fill-opacity=\"1\" /><path clip-path=\"url(#clip860)\" d=\"M 0 0 M602.502 1535.98 L618.821 1535.98 L618.821 1539.92 L596.877 1539.92 L596.877 1535.98 Q599.539 1533.23 604.122 1528.6 Q608.729 1523.95 609.909 1522.61 Q612.155 1520.08 613.034 1518.35 Q613.937 1516.59 613.937 1514.9 Q613.937 1512.14 611.993 1510.41 Q610.071 1508.67 606.969 1508.67 Q604.77 1508.67 602.317 1509.43 Q599.886 1510.2 597.108 1511.75 L597.108 1507.03 Q599.932 1505.89 602.386 1505.31 Q604.84 1504.73 606.877 1504.73 Q612.247 1504.73 615.442 1507.42 Q618.636 1510.11 618.636 1514.6 Q618.636 1516.73 617.826 1518.65 Q617.039 1520.54 614.932 1523.14 Q614.354 1523.81 611.252 1527.03 Q608.15 1530.22 602.502 1535.98 Z\" fill=\"#000000\" fill-rule=\"evenodd\" fill-opacity=\"1\" /><path clip-path=\"url(#clip860)\" d=\"M 0 0 M909.608 1525.04 L922.085 1525.04 L922.085 1528.83 L909.608 1528.83 L909.608 1525.04 Z\" fill=\"#000000\" fill-rule=\"evenodd\" fill-opacity=\"1\" /><path clip-path=\"url(#clip860)\" d=\"M 0 0 M927.964 1535.98 L935.603 1535.98 L935.603 1509.62 L927.293 1511.29 L927.293 1507.03 L935.557 1505.36 L940.233 1505.36 L940.233 1535.98 L947.872 1535.98 L947.872 1539.92 L927.964 1539.92 L927.964 1535.98 Z\" fill=\"#000000\" fill-rule=\"evenodd\" fill-opacity=\"1\" /><path clip-path=\"url(#clip860)\" d=\"M 0 0 M1257.61 1508.44 Q1253.99 1508.44 1252.17 1512 Q1250.36 1515.55 1250.36 1522.67 Q1250.36 1529.78 1252.17 1533.35 Q1253.99 1536.89 1257.61 1536.89 Q1261.24 1536.89 1263.05 1533.35 Q1264.87 1529.78 1264.87 1522.67 Q1264.87 1515.55 1263.05 1512 Q1261.24 1508.44 1257.61 1508.44 M1257.61 1504.73 Q1263.42 1504.73 1266.47 1509.34 Q1269.55 1513.92 1269.55 1522.67 Q1269.55 1531.4 1266.47 1536.01 Q1263.42 1540.59 1257.61 1540.59 Q1251.8 1540.59 1248.72 1536.01 Q1245.66 1531.4 1245.66 1522.67 Q1245.66 1513.92 1248.72 1509.34 Q1251.8 1504.73 1257.61 1504.73 Z\" fill=\"#000000\" fill-rule=\"evenodd\" fill-opacity=\"1\" /><path clip-path=\"url(#clip860)\" d=\"M 0 0 M1576.85 1535.98 L1584.49 1535.98 L1584.49 1509.62 L1576.18 1511.29 L1576.18 1507.03 L1584.45 1505.36 L1589.12 1505.36 L1589.12 1535.98 L1596.76 1535.98 L1596.76 1539.92 L1576.85 1539.92 L1576.85 1535.98 Z\" fill=\"#000000\" fill-rule=\"evenodd\" fill-opacity=\"1\" /><path clip-path=\"url(#clip860)\" d=\"M 0 0 M1909.99 1535.98 L1926.31 1535.98 L1926.31 1539.92 L1904.36 1539.92 L1904.36 1535.98 Q1907.03 1533.23 1911.61 1528.6 Q1916.22 1523.95 1917.4 1522.61 Q1919.64 1520.08 1920.52 1518.35 Q1921.42 1516.59 1921.42 1514.9 Q1921.42 1512.14 1919.48 1510.41 Q1917.56 1508.67 1914.46 1508.67 Q1912.26 1508.67 1909.8 1509.43 Q1907.37 1510.2 1904.6 1511.75 L1904.6 1507.03 Q1907.42 1505.89 1909.87 1505.31 Q1912.33 1504.73 1914.36 1504.73 Q1919.73 1504.73 1922.93 1507.42 Q1926.12 1510.11 1926.12 1514.6 Q1926.12 1516.73 1925.31 1518.65 Q1924.53 1520.54 1922.42 1523.14 Q1921.84 1523.81 1918.74 1527.03 Q1915.64 1530.22 1909.99 1535.98 Z\" fill=\"#000000\" fill-rule=\"evenodd\" fill-opacity=\"1\" /><path clip-path=\"url(#clip860)\" d=\"M 0 0 M2248.45 1521.29 Q2251.81 1522 2253.68 1524.27 Q2255.58 1526.54 2255.58 1529.87 Q2255.58 1534.99 2252.06 1537.79 Q2248.54 1540.59 2242.06 1540.59 Q2239.88 1540.59 2237.57 1540.15 Q2235.28 1539.73 2232.82 1538.88 L2232.82 1534.36 Q2234.77 1535.5 2237.08 1536.08 Q2239.4 1536.66 2241.92 1536.66 Q2246.32 1536.66 2248.61 1534.92 Q2250.93 1533.18 2250.93 1529.87 Q2250.93 1526.82 2248.77 1525.11 Q2246.64 1523.37 2242.82 1523.37 L2238.8 1523.37 L2238.8 1519.53 L2243.01 1519.53 Q2246.46 1519.53 2248.29 1518.16 Q2250.12 1516.77 2250.12 1514.18 Q2250.12 1511.52 2248.22 1510.11 Q2246.34 1508.67 2242.82 1508.67 Q2240.9 1508.67 2238.7 1509.09 Q2236.5 1509.5 2233.87 1510.38 L2233.87 1506.22 Q2236.53 1505.48 2238.84 1505.11 Q2241.18 1504.73 2243.24 1504.73 Q2248.56 1504.73 2251.67 1507.17 Q2254.77 1509.57 2254.77 1513.69 Q2254.77 1516.56 2253.12 1518.55 Q2251.48 1520.52 2248.45 1521.29 Z\" fill=\"#000000\" fill-rule=\"evenodd\" fill-opacity=\"1\" /><path clip-path=\"url(#clip860)\" d=\"M 0 0 M63.2236 1448.11 L75.7004 1448.11 L75.7004 1451.91 L63.2236 1451.91 L63.2236 1448.11 Z\" fill=\"#000000\" fill-rule=\"evenodd\" fill-opacity=\"1\" /><path clip-path=\"url(#clip860)\" d=\"M 0 0 M81.58 1459.06 L89.2188 1459.06 L89.2188 1432.69 L80.9087 1434.36 L80.9087 1430.1 L89.1725 1428.44 L93.8484 1428.44 L93.8484 1459.06 L101.487 1459.06 L101.487 1463 L81.58 1463 L81.58 1459.06 Z\" fill=\"#000000\" fill-rule=\"evenodd\" fill-opacity=\"1\" /><path clip-path=\"url(#clip860)\" d=\"M 0 0 M106.557 1457.12 L111.441 1457.12 L111.441 1463 L106.557 1463 L106.557 1457.12 Z\" fill=\"#000000\" fill-rule=\"evenodd\" fill-opacity=\"1\" /><path clip-path=\"url(#clip860)\" d=\"M 0 0 M126.51 1431.51 Q122.899 1431.51 121.071 1435.08 Q119.265 1438.62 119.265 1445.75 Q119.265 1452.86 121.071 1456.42 Q122.899 1459.96 126.51 1459.96 Q130.145 1459.96 131.95 1456.42 Q133.779 1452.86 133.779 1445.75 Q133.779 1438.62 131.95 1435.08 Q130.145 1431.51 126.51 1431.51 M126.51 1427.81 Q132.32 1427.81 135.376 1432.42 Q138.455 1437 138.455 1445.75 Q138.455 1454.48 135.376 1459.08 Q132.32 1463.67 126.51 1463.67 Q120.7 1463.67 117.621 1459.08 Q114.566 1454.48 114.566 1445.75 Q114.566 1437 117.621 1432.42 Q120.7 1427.81 126.51 1427.81 Z\" fill=\"#000000\" fill-rule=\"evenodd\" fill-opacity=\"1\" /><path clip-path=\"url(#clip860)\" d=\"M 0 0 M62.9921 1108.64 L75.4689 1108.64 L75.4689 1112.43 L62.9921 1112.43 L62.9921 1108.64 Z\" fill=\"#000000\" fill-rule=\"evenodd\" fill-opacity=\"1\" /><path clip-path=\"url(#clip860)\" d=\"M 0 0 M90.5383 1092.04 Q86.9272 1092.04 85.0985 1095.61 Q83.2929 1099.15 83.2929 1106.28 Q83.2929 1113.38 85.0985 1116.95 Q86.9272 1120.49 90.5383 1120.49 Q94.1725 1120.49 95.9781 1116.95 Q97.8068 1113.38 97.8068 1106.28 Q97.8068 1099.15 95.9781 1095.61 Q94.1725 1092.04 90.5383 1092.04 M90.5383 1088.34 Q96.3484 1088.34 99.404 1092.94 Q102.483 1097.53 102.483 1106.28 Q102.483 1115 99.404 1119.61 Q96.3484 1124.19 90.5383 1124.19 Q84.7281 1124.19 81.6494 1119.61 Q78.5939 1115 78.5939 1106.28 Q78.5939 1097.53 81.6494 1092.94 Q84.7281 1088.34 90.5383 1088.34 Z\" fill=\"#000000\" fill-rule=\"evenodd\" fill-opacity=\"1\" /><path clip-path=\"url(#clip860)\" d=\"M 0 0 M107.552 1117.64 L112.436 1117.64 L112.436 1123.52 L107.552 1123.52 L107.552 1117.64 Z\" fill=\"#000000\" fill-rule=\"evenodd\" fill-opacity=\"1\" /><path clip-path=\"url(#clip860)\" d=\"M 0 0 M117.552 1088.96 L135.908 1088.96 L135.908 1092.9 L121.834 1092.9 L121.834 1101.37 Q122.853 1101.02 123.871 1100.86 Q124.89 1100.67 125.908 1100.67 Q131.695 1100.67 135.075 1103.85 Q138.455 1107.02 138.455 1112.43 Q138.455 1118.01 134.982 1121.11 Q131.51 1124.19 125.191 1124.19 Q123.015 1124.19 120.746 1123.82 Q118.501 1123.45 116.094 1122.71 L116.094 1118.01 Q118.177 1119.15 120.399 1119.7 Q122.621 1120.26 125.098 1120.26 Q129.103 1120.26 131.441 1118.15 Q133.779 1116.05 133.779 1112.43 Q133.779 1108.82 131.441 1106.72 Q129.103 1104.61 125.098 1104.61 Q123.223 1104.61 121.348 1105.03 Q119.496 1105.44 117.552 1106.32 L117.552 1088.96 Z\" fill=\"#000000\" fill-rule=\"evenodd\" fill-opacity=\"1\" /><path clip-path=\"url(#clip860)\" d=\"M 0 0 M89.5429 752.567 Q85.9318 752.567 84.1031 756.132 Q82.2976 759.673 82.2976 766.803 Q82.2976 773.909 84.1031 777.474 Q85.9318 781.016 89.5429 781.016 Q93.1771 781.016 94.9827 777.474 Q96.8114 773.909 96.8114 766.803 Q96.8114 759.673 94.9827 756.132 Q93.1771 752.567 89.5429 752.567 M89.5429 748.863 Q95.3531 748.863 98.4086 753.47 Q101.487 758.053 101.487 766.803 Q101.487 775.53 98.4086 780.136 Q95.3531 784.719 89.5429 784.719 Q83.7328 784.719 80.6541 780.136 Q77.5985 775.53 77.5985 766.803 Q77.5985 758.053 80.6541 753.47 Q83.7328 748.863 89.5429 748.863 Z\" fill=\"#000000\" fill-rule=\"evenodd\" fill-opacity=\"1\" /><path clip-path=\"url(#clip860)\" d=\"M 0 0 M106.557 778.168 L111.441 778.168 L111.441 784.048 L106.557 784.048 L106.557 778.168 Z\" fill=\"#000000\" fill-rule=\"evenodd\" fill-opacity=\"1\" /><path clip-path=\"url(#clip860)\" d=\"M 0 0 M126.51 752.567 Q122.899 752.567 121.071 756.132 Q119.265 759.673 119.265 766.803 Q119.265 773.909 121.071 777.474 Q122.899 781.016 126.51 781.016 Q130.145 781.016 131.95 777.474 Q133.779 773.909 133.779 766.803 Q133.779 759.673 131.95 756.132 Q130.145 752.567 126.51 752.567 M126.51 748.863 Q132.32 748.863 135.376 753.47 Q138.455 758.053 138.455 766.803 Q138.455 775.53 135.376 780.136 Q132.32 784.719 126.51 784.719 Q120.7 784.719 117.621 780.136 Q114.566 775.53 114.566 766.803 Q114.566 758.053 117.621 753.47 Q120.7 748.863 126.51 748.863 Z\" fill=\"#000000\" fill-rule=\"evenodd\" fill-opacity=\"1\" /><path clip-path=\"url(#clip860)\" d=\"M 0 0 M90.5383 413.093 Q86.9272 413.093 85.0985 416.658 Q83.2929 420.199 83.2929 427.329 Q83.2929 434.435 85.0985 438 Q86.9272 441.542 90.5383 441.542 Q94.1725 441.542 95.9781 438 Q97.8068 434.435 97.8068 427.329 Q97.8068 420.199 95.9781 416.658 Q94.1725 413.093 90.5383 413.093 M90.5383 409.389 Q96.3484 409.389 99.404 413.996 Q102.483 418.579 102.483 427.329 Q102.483 436.056 99.404 440.662 Q96.3484 445.246 90.5383 445.246 Q84.7281 445.246 81.6494 440.662 Q78.5939 436.056 78.5939 427.329 Q78.5939 418.579 81.6494 413.996 Q84.7281 409.389 90.5383 409.389 Z\" fill=\"#000000\" fill-rule=\"evenodd\" fill-opacity=\"1\" /><path clip-path=\"url(#clip860)\" d=\"M 0 0 M107.552 438.695 L112.436 438.695 L112.436 444.574 L107.552 444.574 L107.552 438.695 Z\" fill=\"#000000\" fill-rule=\"evenodd\" fill-opacity=\"1\" /><path clip-path=\"url(#clip860)\" d=\"M 0 0 M117.552 410.014 L135.908 410.014 L135.908 413.949 L121.834 413.949 L121.834 422.422 Q122.853 422.074 123.871 421.912 Q124.89 421.727 125.908 421.727 Q131.695 421.727 135.075 424.898 Q138.455 428.07 138.455 433.486 Q138.455 439.065 134.982 442.167 Q131.51 445.246 125.191 445.246 Q123.015 445.246 120.746 444.875 Q118.501 444.505 116.094 443.764 L116.094 439.065 Q118.177 440.199 120.399 440.755 Q122.621 441.31 125.098 441.31 Q129.103 441.31 131.441 439.204 Q133.779 437.097 133.779 433.486 Q133.779 429.875 131.441 427.769 Q129.103 425.662 125.098 425.662 Q123.223 425.662 121.348 426.079 Q119.496 426.496 117.552 427.375 L117.552 410.014 Z\" fill=\"#000000\" fill-rule=\"evenodd\" fill-opacity=\"1\" /><path clip-path=\"url(#clip860)\" d=\"M 0 0 M81.58 101.165 L89.2188 101.165 L89.2188 74.7997 L80.9087 76.4663 L80.9087 72.2071 L89.1725 70.5404 L93.8484 70.5404 L93.8484 101.165 L101.487 101.165 L101.487 105.1 L81.58 105.1 L81.58 101.165 Z\" fill=\"#000000\" fill-rule=\"evenodd\" fill-opacity=\"1\" /><path clip-path=\"url(#clip860)\" d=\"M 0 0 M106.557 99.2209 L111.441 99.2209 L111.441 105.1 L106.557 105.1 L106.557 99.2209 Z\" fill=\"#000000\" fill-rule=\"evenodd\" fill-opacity=\"1\" /><path clip-path=\"url(#clip860)\" d=\"M 0 0 M126.51 73.6191 Q122.899 73.6191 121.071 77.1839 Q119.265 80.7256 119.265 87.8552 Q119.265 94.9616 121.071 98.5264 Q122.899 102.068 126.51 102.068 Q130.145 102.068 131.95 98.5264 Q133.779 94.9616 133.779 87.8552 Q133.779 80.7256 131.95 77.1839 Q130.145 73.6191 126.51 73.6191 M126.51 69.9155 Q132.32 69.9155 135.376 74.5219 Q138.455 79.1052 138.455 87.8552 Q138.455 96.582 135.376 101.188 Q132.32 105.772 126.51 105.772 Q120.7 105.772 117.621 101.188 Q114.566 96.582 114.566 87.8552 Q114.566 79.1052 117.621 74.5219 Q120.7 69.9155 126.51 69.9155 Z\" fill=\"#000000\" fill-rule=\"evenodd\" fill-opacity=\"1\" /><polyline clip-path=\"url(#clip862)\" style=\"stroke:#009af9; stroke-width:4; stroke-opacity:1; fill:none\" points=\"\n",
       "  224.444,766.768 234.534,787.595 244.624,808.402 337.917,996.414 431.211,1166.07 487.276,1253.44 543.342,1326.7 567.043,1352.9 590.744,1376.05 614.446,1396.04 \n",
       "  638.147,1412.76 689.64,1437.44 741.132,1445.72 788.604,1438.62 836.075,1417.55 886.97,1379.95 937.865,1327.69 996.831,1250.47 1055.8,1157.74 1108.2,1064.72 \n",
       "  1160.6,964.141 1206.55,871.741 1252.51,777.295 1302.61,674.152 1352.71,573.155 1403.1,476.087 1453.5,385.832 1509.22,296.517 1564.95,220.67 1617.96,162.996 \n",
       "  1670.98,120.98 1698.54,105.701 1726.11,95.0635 1753.67,89.1413 1781.23,87.9763 1827.64,96.7682 1874.04,118.878 1930.69,163.266 1987.35,225.521 2040.61,298.693 \n",
       "  2093.86,384.113 2179.18,540.799 2264.51,712.609 2277.64,739.667 2290.77,766.768 \n",
       "  \"/>\n",
       "<path clip-path=\"url(#clip860)\" d=\"\n",
       "M1985.36 216.178 L2279.75 216.178 L2279.75 95.2176 L1985.36 95.2176  Z\n",
       "  \" fill=\"#ffffff\" fill-rule=\"evenodd\" fill-opacity=\"1\"/>\n",
       "<polyline clip-path=\"url(#clip860)\" style=\"stroke:#000000; stroke-width:4; stroke-opacity:1; fill:none\" points=\"\n",
       "  1985.36,216.178 2279.75,216.178 2279.75,95.2176 1985.36,95.2176 1985.36,216.178 \n",
       "  \"/>\n",
       "<polyline clip-path=\"url(#clip860)\" style=\"stroke:#009af9; stroke-width:4; stroke-opacity:1; fill:none\" points=\"\n",
       "  2009.7,155.698 2155.72,155.698 \n",
       "  \"/>\n",
       "<path clip-path=\"url(#clip860)\" d=\"M 0 0 M2193.9 175.385 Q2192.09 180.015 2190.38 181.427 Q2188.67 182.839 2185.79 182.839 L2182.39 182.839 L2182.39 179.274 L2184.89 179.274 Q2186.65 179.274 2187.62 178.44 Q2188.6 177.607 2189.78 174.505 L2190.54 172.561 L2180.05 147.052 L2184.57 147.052 L2192.67 167.329 L2200.77 147.052 L2205.29 147.052 L2193.9 175.385 Z\" fill=\"#000000\" fill-rule=\"evenodd\" fill-opacity=\"1\" /><path clip-path=\"url(#clip860)\" d=\"M 0 0 M2211.17 169.042 L2218.8 169.042 L2218.8 142.677 L2210.49 144.343 L2210.49 140.084 L2218.76 138.418 L2223.43 138.418 L2223.43 169.042 L2231.07 169.042 L2231.07 172.978 L2211.17 172.978 L2211.17 169.042 Z\" fill=\"#000000\" fill-rule=\"evenodd\" fill-opacity=\"1\" /></svg>\n"
      ]
     },
     "execution_count": 1,
     "metadata": {},
     "output_type": "execute_result"
    }
   ],
   "source": [
    "using Plots\n",
    "plot(sin,-pi,pi)"
   ]
  },
  {
   "cell_type": "markdown",
   "metadata": {
    "slideshow": {
     "slide_type": "slide"
    }
   },
   "source": [
    "## Comments \n",
    "\n",
    "It is very important to write code that is readable. This makes sure that your code is reusable and sharable. Commenting parts of code to describe its functionality is the easiest way to do it. \n",
    "\n",
    "In julia you can add Comments to your code using ```#``` followed by the text. \n",
    "\n",
    "Multiline Comments start with ```#=``` and end with ```=#```\n",
    "\n",
    "Lets try this out!"
   ]
  },
  {
   "cell_type": "code",
   "execution_count": 2,
   "metadata": {
    "slideshow": {
     "slide_type": "subslide"
    }
   },
   "outputs": [
    {
     "data": {
      "text/plain": [
       "3"
      ]
     },
     "execution_count": 2,
     "metadata": {},
     "output_type": "execute_result"
    }
   ],
   "source": [
    "# This is a comment \n",
    "\n",
    "1+2\n",
    "\n",
    "# The compiler ignores the comment, so your doesnt behave unexpectedly "
   ]
  },
  {
   "cell_type": "code",
   "execution_count": 3,
   "metadata": {
    "slideshow": {
     "slide_type": "fragment"
    }
   },
   "outputs": [
    {
     "data": {
      "text/plain": [
       "4"
      ]
     },
     "execution_count": 3,
     "metadata": {},
     "output_type": "execute_result"
    }
   ],
   "source": [
    "#= This\n",
    "is \n",
    "a \n",
    "multiline \n",
    "comment \n",
    "=#\n",
    "\n",
    "2+2 "
   ]
  },
  {
   "cell_type": "markdown",
   "metadata": {
    "slideshow": {
     "slide_type": "slide"
    }
   },
   "source": [
    "## Arithmetic Operators\n",
    "\n",
    "Simple Arithmetic expressions can be evaluated in Julia with ease, lets see some examples of using Julia simply as a calculator!"
   ]
  },
  {
   "cell_type": "code",
   "execution_count": 4,
   "metadata": {
    "slideshow": {
     "slide_type": "subslide"
    }
   },
   "outputs": [
    {
     "data": {
      "text/plain": [
       "3"
      ]
     },
     "execution_count": 4,
     "metadata": {},
     "output_type": "execute_result"
    }
   ],
   "source": [
    "# Addition\n",
    "1+2"
   ]
  },
  {
   "cell_type": "code",
   "execution_count": 5,
   "metadata": {
    "slideshow": {
     "slide_type": "fragment"
    }
   },
   "outputs": [
    {
     "data": {
      "text/plain": [
       "-5.5"
      ]
     },
     "execution_count": 5,
     "metadata": {},
     "output_type": "execute_result"
    }
   ],
   "source": [
    "# Subtraction\n",
    "4.5-10"
   ]
  },
  {
   "cell_type": "code",
   "execution_count": 6,
   "metadata": {
    "slideshow": {
     "slide_type": "fragment"
    }
   },
   "outputs": [
    {
     "data": {
      "text/plain": [
       "40"
      ]
     },
     "execution_count": 6,
     "metadata": {},
     "output_type": "execute_result"
    }
   ],
   "source": [
    "# Multiplication\n",
    "4*10"
   ]
  },
  {
   "cell_type": "code",
   "execution_count": 7,
   "metadata": {
    "slideshow": {
     "slide_type": "fragment"
    }
   },
   "outputs": [
    {
     "data": {
      "text/plain": [
       "0.5"
      ]
     },
     "execution_count": 7,
     "metadata": {},
     "output_type": "execute_result"
    }
   ],
   "source": [
    "# Division\n",
    "2/4"
   ]
  },
  {
   "cell_type": "code",
   "execution_count": 8,
   "metadata": {
    "slideshow": {
     "slide_type": "fragment"
    }
   },
   "outputs": [
    {
     "data": {
      "text/plain": [
       "1.0"
      ]
     },
     "execution_count": 8,
     "metadata": {},
     "output_type": "execute_result"
    }
   ],
   "source": [
    "# You can also, recall the previous answer, like a calculator!\n",
    "ans+0.5"
   ]
  },
  {
   "cell_type": "code",
   "execution_count": 9,
   "metadata": {
    "slideshow": {
     "slide_type": "subslide"
    }
   },
   "outputs": [
    {
     "data": {
      "text/plain": [
       "3.143"
      ]
     },
     "execution_count": 9,
     "metadata": {},
     "output_type": "execute_result"
    }
   ],
   "source": [
    "# Rounding \n",
    "round(22/7, digits = 3)"
   ]
  },
  {
   "cell_type": "code",
   "execution_count": 10,
   "metadata": {
    "slideshow": {
     "slide_type": "fragment"
    }
   },
   "outputs": [
    {
     "data": {
      "text/plain": [
       "32"
      ]
     },
     "execution_count": 10,
     "metadata": {},
     "output_type": "execute_result"
    }
   ],
   "source": [
    "# Exponential\n",
    "2^5"
   ]
  },
  {
   "cell_type": "code",
   "execution_count": 11,
   "metadata": {
    "slideshow": {
     "slide_type": "fragment"
    }
   },
   "outputs": [
    {
     "data": {
      "text/plain": [
       "5.0"
      ]
     },
     "execution_count": 11,
     "metadata": {},
     "output_type": "execute_result"
    }
   ],
   "source": [
    "# Square Root\n",
    "sqrt(25)"
   ]
  },
  {
   "cell_type": "code",
   "execution_count": 12,
   "metadata": {
    "slideshow": {
     "slide_type": "subslide"
    }
   },
   "outputs": [
    {
     "data": {
      "text/plain": [
       "2"
      ]
     },
     "execution_count": 12,
     "metadata": {},
     "output_type": "execute_result"
    }
   ],
   "source": [
    "# Find a remainder\n",
    "5%3"
   ]
  },
  {
   "cell_type": "code",
   "execution_count": 13,
   "metadata": {
    "slideshow": {
     "slide_type": "-"
    }
   },
   "outputs": [
    {
     "data": {
      "text/plain": [
       "2.34"
      ]
     },
     "execution_count": 13,
     "metadata": {},
     "output_type": "execute_result"
    }
   ],
   "source": [
    "5.34%3"
   ]
  },
  {
   "cell_type": "code",
   "execution_count": 14,
   "metadata": {
    "slideshow": {
     "slide_type": "subslide"
    }
   },
   "outputs": [
    {
     "data": {
      "text/plain": [
       "2"
      ]
     },
     "execution_count": 14,
     "metadata": {},
     "output_type": "execute_result"
    }
   ],
   "source": [
    "mod(5,3)"
   ]
  },
  {
   "cell_type": "code",
   "execution_count": 15,
   "metadata": {},
   "outputs": [
    {
     "data": {
      "text/plain": [
       "2.34"
      ]
     },
     "execution_count": 15,
     "metadata": {},
     "output_type": "execute_result"
    }
   ],
   "source": [
    "mod(5.34,3)"
   ]
  },
  {
   "cell_type": "code",
   "execution_count": 16,
   "metadata": {
    "slideshow": {
     "slide_type": "fragment"
    }
   },
   "outputs": [
    {
     "data": {
      "text/plain": [
       "2"
      ]
     },
     "execution_count": 16,
     "metadata": {},
     "output_type": "execute_result"
    }
   ],
   "source": [
    "# Integer Divide \n",
    "4÷2"
   ]
  },
  {
   "cell_type": "markdown",
   "metadata": {
    "slideshow": {
     "slide_type": "subslide"
    }
   },
   "source": [
    "Julia also keeps variables as fractions. We define such values with ```//```"
   ]
  },
  {
   "cell_type": "code",
   "execution_count": 17,
   "metadata": {
    "slideshow": {
     "slide_type": "fragment"
    }
   },
   "outputs": [
    {
     "data": {
      "text/plain": [
       "1//2"
      ]
     },
     "execution_count": 17,
     "metadata": {},
     "output_type": "execute_result"
    }
   ],
   "source": [
    "1//2"
   ]
  },
  {
   "cell_type": "markdown",
   "metadata": {
    "slideshow": {
     "slide_type": "subslide"
    }
   },
   "source": [
    "We should be careful of the order of precedence when evaluating longer expressions.\n",
    "```* / % & \\ ÷``` have a greater precedence than ```+ -```\n",
    "\n",
    "The Trick is to use () in your code to make sure there is no unpredictable behaviour"
   ]
  },
  {
   "cell_type": "code",
   "execution_count": 18,
   "metadata": {
    "slideshow": {
     "slide_type": "fragment"
    }
   },
   "outputs": [
    {
     "data": {
      "text/plain": [
       "1.5"
      ]
     },
     "execution_count": 18,
     "metadata": {},
     "output_type": "execute_result"
    }
   ],
   "source": [
    "1+2/4"
   ]
  },
  {
   "cell_type": "code",
   "execution_count": 19,
   "metadata": {
    "slideshow": {
     "slide_type": "fragment"
    }
   },
   "outputs": [
    {
     "data": {
      "text/plain": [
       "0.75"
      ]
     },
     "execution_count": 19,
     "metadata": {},
     "output_type": "execute_result"
    }
   ],
   "source": [
    "(1+2)/4"
   ]
  },
  {
   "cell_type": "markdown",
   "metadata": {
    "slideshow": {
     "slide_type": "slide"
    }
   },
   "source": [
    "## Numerical Comparisons\n",
    "\n",
    "Another set of operators in Julia are used for doing Comparisons. Lets see them in action!"
   ]
  },
  {
   "cell_type": "code",
   "execution_count": 20,
   "metadata": {
    "slideshow": {
     "slide_type": "fragment"
    }
   },
   "outputs": [
    {
     "data": {
      "text/plain": [
       "true"
      ]
     },
     "execution_count": 20,
     "metadata": {},
     "output_type": "execute_result"
    }
   ],
   "source": [
    "# Equality \n",
    "2 == 2"
   ]
  },
  {
   "cell_type": "code",
   "execution_count": 21,
   "metadata": {
    "slideshow": {
     "slide_type": "fragment"
    }
   },
   "outputs": [
    {
     "data": {
      "text/plain": [
       "false"
      ]
     },
     "execution_count": 21,
     "metadata": {},
     "output_type": "execute_result"
    }
   ],
   "source": [
    "# Inequality \n",
    "2 != 2"
   ]
  },
  {
   "cell_type": "code",
   "execution_count": 22,
   "metadata": {
    "slideshow": {
     "slide_type": "fragment"
    }
   },
   "outputs": [
    {
     "data": {
      "text/plain": [
       "true"
      ]
     },
     "execution_count": 22,
     "metadata": {},
     "output_type": "execute_result"
    }
   ],
   "source": [
    "# Greater than\n",
    "3.5>2"
   ]
  },
  {
   "cell_type": "code",
   "execution_count": 23,
   "metadata": {
    "slideshow": {
     "slide_type": "subslide"
    }
   },
   "outputs": [
    {
     "data": {
      "text/plain": [
       "true"
      ]
     },
     "execution_count": 23,
     "metadata": {},
     "output_type": "execute_result"
    }
   ],
   "source": [
    "# Greater than or Equal to \n",
    "-1 >= -1"
   ]
  },
  {
   "cell_type": "code",
   "execution_count": 24,
   "metadata": {
    "slideshow": {
     "slide_type": "fragment"
    }
   },
   "outputs": [
    {
     "data": {
      "text/plain": [
       "false"
      ]
     },
     "execution_count": 24,
     "metadata": {},
     "output_type": "execute_result"
    }
   ],
   "source": [
    "# Less Than \n",
    "-1.0 < -1"
   ]
  },
  {
   "cell_type": "code",
   "execution_count": 25,
   "metadata": {
    "slideshow": {
     "slide_type": "fragment"
    }
   },
   "outputs": [
    {
     "data": {
      "text/plain": [
       "true"
      ]
     },
     "execution_count": 25,
     "metadata": {},
     "output_type": "execute_result"
    }
   ],
   "source": [
    "# Less than or equal to \n",
    "-1.0 <= -1"
   ]
  },
  {
   "cell_type": "markdown",
   "metadata": {
    "slideshow": {
     "slide_type": "slide"
    }
   },
   "source": [
    "Some other notable operators and functions in Julia are listed at: https://docs.julialang.org/en/v1/manual/mathematical-operations/#Operator-Precedence-and-Associativity\n"
   ]
  },
  {
   "cell_type": "markdown",
   "metadata": {
    "slideshow": {
     "slide_type": "slide"
    }
   },
   "source": [
    "# Getting Help\n",
    "\n",
    "One of the more useful Julia functionalities is being able to get help for any funtion simply by writing ```?``` followed by the name of function you want to query. \n",
    "This should turn out to be pretty handy, specially if you are new to Julia"
   ]
  },
  {
   "cell_type": "code",
   "execution_count": 26,
   "metadata": {
    "slideshow": {
     "slide_type": "subslide"
    }
   },
   "outputs": [
    {
     "name": "stdout",
     "output_type": "stream",
     "text": [
      "search: \u001b[0m\u001b[1mr\u001b[22m\u001b[0m\u001b[1ma\u001b[22m\u001b[0m\u001b[1md\u001b[22m\u001b[0m\u001b[1m2\u001b[22m\u001b[0m\u001b[1md\u001b[22m\u001b[0m\u001b[1me\u001b[22m\u001b[0m\u001b[1mg\u001b[22m\n",
      "\n"
     ]
    },
    {
     "data": {
      "text/latex": [
       "\\begin{verbatim}\n",
       "rad2deg(x)\n",
       "\\end{verbatim}\n",
       "Convert \\texttt{x} from radians to degrees.\n",
       "\n",
       "\\section{Examples}\n",
       "\\begin{verbatim}\n",
       "julia> rad2deg(pi)\n",
       "180.0\n",
       "\\end{verbatim}\n"
      ],
      "text/markdown": [
       "```\n",
       "rad2deg(x)\n",
       "```\n",
       "\n",
       "Convert `x` from radians to degrees.\n",
       "\n",
       "# Examples\n",
       "\n",
       "```jldoctest\n",
       "julia> rad2deg(pi)\n",
       "180.0\n",
       "```\n"
      ],
      "text/plain": [
       "\u001b[36m  rad2deg(x)\u001b[39m\n",
       "\n",
       "  Convert \u001b[36mx\u001b[39m from radians to degrees.\n",
       "\n",
       "\u001b[1m  Examples\u001b[22m\n",
       "\u001b[1m  ≡≡≡≡≡≡≡≡≡≡\u001b[22m\n",
       "\n",
       "\u001b[36m  julia> rad2deg(pi)\u001b[39m\n",
       "\u001b[36m  180.0\u001b[39m"
      ]
     },
     "execution_count": 26,
     "metadata": {},
     "output_type": "execute_result"
    }
   ],
   "source": [
    "? rad2deg"
   ]
  },
  {
   "cell_type": "code",
   "execution_count": 27,
   "metadata": {
    "slideshow": {
     "slide_type": "subslide"
    }
   },
   "outputs": [
    {
     "name": "stdout",
     "output_type": "stream",
     "text": [
      "search: \u001b[0m\u001b[1mg\u001b[22m\u001b[0m\u001b[1mc\u001b[22m\u001b[0m\u001b[1md\u001b[22m \u001b[0m\u001b[1mg\u001b[22m\u001b[0m\u001b[1mc\u001b[22m\u001b[0m\u001b[1md\u001b[22mx si\u001b[0m\u001b[1mg\u001b[22mnifi\u001b[0m\u001b[1mc\u001b[22man\u001b[0m\u001b[1md\u001b[22m \u001b[0m\u001b[1mg\u001b[22met_\u001b[0m\u001b[1mc\u001b[22molor_palette\n",
      "\n"
     ]
    },
    {
     "data": {
      "text/latex": [
       "\\begin{verbatim}\n",
       "gcd(x,y)\n",
       "\\end{verbatim}\n",
       "Greatest common (positive) divisor (or zero if \\texttt{x} and \\texttt{y} are both zero). The arguments may be integer and rational numbers.\n",
       "\n",
       "\\begin{quote}\n",
       "\\textbf{compat}\n",
       "\n",
       "Julia 1.4\n",
       "\n",
       "Rational arguments require Julia 1.4 or later.\n",
       "\n",
       "\\end{quote}\n",
       "\\section{Examples}\n",
       "\\begin{verbatim}\n",
       "julia> gcd(6,9)\n",
       "3\n",
       "\n",
       "julia> gcd(6,-9)\n",
       "3\n",
       "\n",
       "julia> gcd(6,0)\n",
       "6\n",
       "\n",
       "julia> gcd(0,0)\n",
       "0\n",
       "\n",
       "julia> gcd(1//3,2//3)\n",
       "1//3\n",
       "\n",
       "julia> gcd(1//3,-2//3)\n",
       "1//3\n",
       "\n",
       "julia> gcd(1//3,2)\n",
       "1//3\n",
       "\\end{verbatim}\n"
      ],
      "text/markdown": [
       "```\n",
       "gcd(x,y)\n",
       "```\n",
       "\n",
       "Greatest common (positive) divisor (or zero if `x` and `y` are both zero). The arguments may be integer and rational numbers.\n",
       "\n",
       "!!! compat \"Julia 1.4\"\n",
       "    Rational arguments require Julia 1.4 or later.\n",
       "\n",
       "\n",
       "# Examples\n",
       "\n",
       "```jldoctest\n",
       "julia> gcd(6,9)\n",
       "3\n",
       "\n",
       "julia> gcd(6,-9)\n",
       "3\n",
       "\n",
       "julia> gcd(6,0)\n",
       "6\n",
       "\n",
       "julia> gcd(0,0)\n",
       "0\n",
       "\n",
       "julia> gcd(1//3,2//3)\n",
       "1//3\n",
       "\n",
       "julia> gcd(1//3,-2//3)\n",
       "1//3\n",
       "\n",
       "julia> gcd(1//3,2)\n",
       "1//3\n",
       "```\n"
      ],
      "text/plain": [
       "\u001b[36m  gcd(x,y)\u001b[39m\n",
       "\n",
       "  Greatest common (positive) divisor (or zero if \u001b[36mx\u001b[39m and \u001b[36my\u001b[39m are both zero). The\n",
       "  arguments may be integer and rational numbers.\n",
       "\n",
       "\u001b[39m\u001b[1m  │ \u001b[22m\u001b[39m\u001b[1mJulia 1.4\u001b[22m\n",
       "\u001b[39m\u001b[1m  │\u001b[22m\n",
       "\u001b[39m\u001b[1m  │\u001b[22m  Rational arguments require Julia 1.4 or later.\n",
       "\n",
       "\u001b[1m  Examples\u001b[22m\n",
       "\u001b[1m  ≡≡≡≡≡≡≡≡≡≡\u001b[22m\n",
       "\n",
       "\u001b[36m  julia> gcd(6,9)\u001b[39m\n",
       "\u001b[36m  3\u001b[39m\n",
       "\u001b[36m  \u001b[39m\n",
       "\u001b[36m  julia> gcd(6,-9)\u001b[39m\n",
       "\u001b[36m  3\u001b[39m\n",
       "\u001b[36m  \u001b[39m\n",
       "\u001b[36m  julia> gcd(6,0)\u001b[39m\n",
       "\u001b[36m  6\u001b[39m\n",
       "\u001b[36m  \u001b[39m\n",
       "\u001b[36m  julia> gcd(0,0)\u001b[39m\n",
       "\u001b[36m  0\u001b[39m\n",
       "\u001b[36m  \u001b[39m\n",
       "\u001b[36m  julia> gcd(1//3,2//3)\u001b[39m\n",
       "\u001b[36m  1//3\u001b[39m\n",
       "\u001b[36m  \u001b[39m\n",
       "\u001b[36m  julia> gcd(1//3,-2//3)\u001b[39m\n",
       "\u001b[36m  1//3\u001b[39m\n",
       "\u001b[36m  \u001b[39m\n",
       "\u001b[36m  julia> gcd(1//3,2)\u001b[39m\n",
       "\u001b[36m  1//3\u001b[39m"
      ]
     },
     "execution_count": 27,
     "metadata": {},
     "output_type": "execute_result"
    }
   ],
   "source": [
    "? gcd"
   ]
  },
  {
   "cell_type": "markdown",
   "metadata": {
    "slideshow": {
     "slide_type": "slide"
    }
   },
   "source": [
    "# Variables in Julia\n",
    "\n",
    "Variable is simply something that you can assign a value to. \n",
    "\n",
    "Variable names can be alphanumeric. Must start with a letter or an underscore. Numbers can follow later in the name. \n",
    "\n",
    "All variable names are Case Sensitive.\n"
   ]
  },
  {
   "cell_type": "code",
   "execution_count": 32,
   "metadata": {
    "slideshow": {
     "slide_type": "subslide"
    }
   },
   "outputs": [
    {
     "data": {
      "text/plain": [
       "10.0"
      ]
     },
     "execution_count": 32,
     "metadata": {},
     "output_type": "execute_result"
    }
   ],
   "source": [
    "a = 10.0"
   ]
  },
  {
   "cell_type": "code",
   "execution_count": 33,
   "metadata": {
    "slideshow": {
     "slide_type": "fragment"
    }
   },
   "outputs": [
    {
     "name": "stdout",
     "output_type": "stream",
     "text": [
      "10.0\n"
     ]
    },
    {
     "data": {
      "text/plain": [
       "11.0"
      ]
     },
     "execution_count": 33,
     "metadata": {},
     "output_type": "execute_result"
    }
   ],
   "source": [
    "println(a)\n",
    "A = 11.0"
   ]
  },
  {
   "cell_type": "code",
   "execution_count": 34,
   "metadata": {
    "slideshow": {
     "slide_type": "fragment"
    }
   },
   "outputs": [
    {
     "ename": "LoadError",
     "evalue": "syntax: \"1\" is not a valid function argument name around In[34]:1",
     "output_type": "error",
     "traceback": [
      "syntax: \"1\" is not a valid function argument name around In[34]:1",
      "",
      "Stacktrace:",
      " [1] top-level scope at In[34]:1",
      " [2] include_string(::Function, ::Module, ::String, ::String) at .\\loading.jl:1091"
     ]
    }
   ],
   "source": [
    "1ao = 0;"
   ]
  },
  {
   "cell_type": "code",
   "execution_count": 35,
   "metadata": {
    "slideshow": {
     "slide_type": "fragment"
    }
   },
   "outputs": [
    {
     "data": {
      "text/plain": [
       "10"
      ]
     },
     "execution_count": 35,
     "metadata": {},
     "output_type": "execute_result"
    }
   ],
   "source": [
    "_a = 10"
   ]
  },
  {
   "cell_type": "markdown",
   "metadata": {
    "slideshow": {
     "slide_type": "slide"
    }
   },
   "source": [
    "# Displaying Results in Julia\n",
    "\n",
    "We have been receiving an instantaneous display of what the expression evaluates to in Julia in the exaples we have dicussed so far. Let consider this now:"
   ]
  },
  {
   "cell_type": "code",
   "execution_count": 28,
   "metadata": {},
   "outputs": [],
   "source": [
    "1+2;"
   ]
  },
  {
   "cell_type": "markdown",
   "metadata": {
    "slideshow": {
     "slide_type": "fragment"
    }
   },
   "source": [
    "As you can see, there was no output from the cell. \n",
    "\n",
    "This is because of ```;``` at the end of the expression tells Julia to not display the output of the evaluated expression. This comes in handy when we are working with longer segments of code and don't need to see all outputs at all times. \n",
    "\n",
    "Now, results of such singular impressions are easy enough to display, just remove the semicolon, right? \n",
    "\n",
    "Well how about if we want to see multiple expressions? "
   ]
  },
  {
   "cell_type": "code",
   "execution_count": 29,
   "metadata": {
    "slideshow": {
     "slide_type": "subslide"
    }
   },
   "outputs": [
    {
     "data": {
      "text/plain": [
       "7"
      ]
     },
     "execution_count": 29,
     "metadata": {},
     "output_type": "execute_result"
    }
   ],
   "source": [
    "1+2\n",
    "3+4"
   ]
  },
  {
   "cell_type": "markdown",
   "metadata": {
    "slideshow": {
     "slide_type": "fragment"
    }
   },
   "source": [
    "Here we only got the output for the last expression. \n",
    "\n",
    "Now you could put it in a separate cell and eget an output but, when we write longer codes such a solution is infeasible. Specially for when you want to see evaluations in functions and other specialized code blocks. \n",
    "\n",
    "To help us here we can use the ```println``` function or ```display```"
   ]
  },
  {
   "cell_type": "code",
   "execution_count": 30,
   "metadata": {},
   "outputs": [
    {
     "name": "stdout",
     "output_type": "stream",
     "text": [
      "3\n",
      "7\n"
     ]
    }
   ],
   "source": [
    "println(1+2)\n",
    "println(3+4)"
   ]
  },
  {
   "cell_type": "code",
   "execution_count": 31,
   "metadata": {},
   "outputs": [
    {
     "data": {
      "text/plain": [
       "3"
      ]
     },
     "metadata": {},
     "output_type": "display_data"
    },
    {
     "data": {
      "text/plain": [
       "7"
      ]
     },
     "metadata": {},
     "output_type": "display_data"
    }
   ],
   "source": [
    "display(1+2)\n",
    "display(3+4)"
   ]
  },
  {
   "cell_type": "markdown",
   "metadata": {},
   "source": [
    "```println``` and ```display``` also work for displaying variables:"
   ]
  },
  {
   "cell_type": "code",
   "execution_count": 9,
   "metadata": {},
   "outputs": [
    {
     "data": {
      "text/plain": [
       "45"
      ]
     },
     "metadata": {},
     "output_type": "display_data"
    },
    {
     "name": "stdout",
     "output_type": "stream",
     "text": [
      "45\n"
     ]
    }
   ],
   "source": [
    "my_number = 45;\n",
    "println(my_number)\n",
    "display(my_number)"
   ]
  },
  {
   "cell_type": "markdown",
   "metadata": {},
   "source": [
    "Another way to display a variable or value in Julia is to use the ```@show``` command. This displays the variable/value name along with the variable value and is very useful when debugging."
   ]
  },
  {
   "cell_type": "code",
   "execution_count": 13,
   "metadata": {},
   "outputs": [
    {
     "name": "stdout",
     "output_type": "stream",
     "text": [
      "x = 10\n",
      "67 + 4 = 71\n"
     ]
    },
    {
     "data": {
      "text/plain": [
       "71"
      ]
     },
     "execution_count": 13,
     "metadata": {},
     "output_type": "execute_result"
    }
   ],
   "source": [
    "x = 10\n",
    "@show x\n",
    "@show 67 + 4"
   ]
  },
  {
   "cell_type": "markdown",
   "metadata": {
    "slideshow": {
     "slide_type": "slide"
    }
   },
   "source": [
    "# Strings\n",
    "\n",
    "Strings in Julia are enclosed in \"\", and are different data type in itself.\n"
   ]
  },
  {
   "cell_type": "code",
   "execution_count": 49,
   "metadata": {
    "slideshow": {
     "slide_type": "fragment"
    }
   },
   "outputs": [
    {
     "data": {
      "text/plain": [
       "\"Hello World!\""
      ]
     },
     "execution_count": 49,
     "metadata": {},
     "output_type": "execute_result"
    }
   ],
   "source": [
    "c = \"Hello World!\""
   ]
  },
  {
   "cell_type": "code",
   "execution_count": 50,
   "metadata": {
    "slideshow": {
     "slide_type": "fragment"
    }
   },
   "outputs": [
    {
     "data": {
      "text/plain": [
       "String"
      ]
     },
     "execution_count": 50,
     "metadata": {},
     "output_type": "execute_result"
    }
   ],
   "source": [
    "typeof(c)"
   ]
  },
  {
   "cell_type": "markdown",
   "metadata": {
    "slideshow": {
     "slide_type": "slide"
    }
   },
   "source": [
    "You can concatenate strings by using * operator. "
   ]
  },
  {
   "cell_type": "code",
   "execution_count": 51,
   "metadata": {
    "slideshow": {
     "slide_type": "fragment"
    }
   },
   "outputs": [
    {
     "data": {
      "text/plain": [
       "\"Hello World!\""
      ]
     },
     "execution_count": 51,
     "metadata": {},
     "output_type": "execute_result"
    }
   ],
   "source": [
    "c1 = \"Hello \";\n",
    "c2 = \"World!\";\n",
    "c1*c2"
   ]
  },
  {
   "cell_type": "markdown",
   "metadata": {
    "slideshow": {
     "slide_type": "fragment"
    }
   },
   "source": [
    "Or using the ```string``` function "
   ]
  },
  {
   "cell_type": "code",
   "execution_count": 52,
   "metadata": {
    "slideshow": {
     "slide_type": "fragment"
    }
   },
   "outputs": [
    {
     "data": {
      "text/plain": [
       "\"Hello World!\""
      ]
     },
     "execution_count": 52,
     "metadata": {},
     "output_type": "execute_result"
    }
   ],
   "source": [
    "string(\"Hello \", \"World!\")"
   ]
  },
  {
   "cell_type": "code",
   "execution_count": 53,
   "metadata": {
    "slideshow": {
     "slide_type": "fragment"
    }
   },
   "outputs": [
    {
     "data": {
      "text/plain": [
       "\"a1false\""
      ]
     },
     "execution_count": 53,
     "metadata": {},
     "output_type": "execute_result"
    }
   ],
   "source": [
    "c = false;\n",
    "string(\"a\",1,c)"
   ]
  },
  {
   "cell_type": "markdown",
   "metadata": {},
   "source": [
    "# Vectors and Matrices in Julia\n",
    "\n",
    "You are beginning to see the power of using matrices and vectors in our computations, especially when scaling up from our drill problems in class or HW to solving a big system of linear equations in juliahw2. \n",
    "\n",
    "The purpose of this notebook is to go over these concepts in Julia. \n",
    "\n",
    "Note: Vectors and Matrices in Julia are called **Arrays**, and that is what we will call through the rest of this notebook "
   ]
  },
  {
   "cell_type": "markdown",
   "metadata": {},
   "source": [
    "# Arrays\n",
    "\n",
    "An array is a collection of objects (usually numerical) stored sequentially in memory and arranged as a grid.\n",
    "\n",
    "Arrays are used to store a collection of data, but it is also useful to think of an array as a collection of variables of the SAME TYPE. "
   ]
  },
  {
   "cell_type": "markdown",
   "metadata": {},
   "source": [
    "## Vectors\n",
    "\n",
    "From our understanding of Math, we know that Vectors are one dimensional Matrices, i.e., they can have either just a row (Row Vectors) or just a column (Column Vector). \n",
    "\n",
    "Julia understands vectors as lists of numbers or characters or .... \n",
    "\n",
    "Vectors in Julia are just one dimensional Arrays. \n"
   ]
  },
  {
   "cell_type": "code",
   "execution_count": 1,
   "metadata": {
    "scrolled": true
   },
   "outputs": [
    {
     "data": {
      "text/plain": [
       "Array{Int64,1}"
      ]
     },
     "execution_count": 1,
     "metadata": {},
     "output_type": "execute_result"
    }
   ],
   "source": [
    "array = Vector{Int64}"
   ]
  },
  {
   "cell_type": "code",
   "execution_count": 2,
   "metadata": {
    "scrolled": true
   },
   "outputs": [
    {
     "data": {
      "text/plain": [
       "10-element Array{Int64,1}:\n",
       " 38654705667\n",
       " 47244640266\n",
       " 68719476750\n",
       " 77309411345\n",
       " 81604378626\n",
       "  8589934612\n",
       "  8589934594\n",
       "  4294967298\n",
       "           1\n",
       "   359969856"
      ]
     },
     "execution_count": 2,
     "metadata": {},
     "output_type": "execute_result"
    }
   ],
   "source": [
    "a = Vector{Int64}(undef,10)"
   ]
  },
  {
   "cell_type": "code",
   "execution_count": 3,
   "metadata": {},
   "outputs": [
    {
     "data": {
      "text/plain": [
       "5-element Array{String,1}:\n",
       " #undef\n",
       " #undef\n",
       " #undef\n",
       " #undef\n",
       " #undef"
      ]
     },
     "execution_count": 3,
     "metadata": {},
     "output_type": "execute_result"
    }
   ],
   "source": [
    "b = Vector{String}(undef,5)"
   ]
  },
  {
   "cell_type": "markdown",
   "metadata": {},
   "source": [
    "This may look complicated: having to write sizes, specifying type, and initializing the values as undef! The extra benefit is one of error checking. At our current level of programming, this benefit is not apparent. Patience!\n",
    "\n",
    "\n",
    "The most commonly used methods for initializing an array are given below. You only need to know these for now and for most of ROB 101."
   ]
  },
  {
   "cell_type": "code",
   "execution_count": 4,
   "metadata": {
    "scrolled": true
   },
   "outputs": [
    {
     "data": {
      "text/plain": [
       "5-element Array{Int64,1}:\n",
       " 1\n",
       " 2\n",
       " 3\n",
       " 4\n",
       " 5"
      ]
     },
     "execution_count": 4,
     "metadata": {},
     "output_type": "execute_result"
    }
   ],
   "source": [
    "# Return a vector in Julia, vectors are in general, column vectors\n",
    "a = [1,2,3,4,5]"
   ]
  },
  {
   "cell_type": "markdown",
   "metadata": {},
   "source": [
    "To separate the columns, we can either use the ```,``` or the ```;``` operators. "
   ]
  },
  {
   "cell_type": "code",
   "execution_count": 6,
   "metadata": {
    "scrolled": true
   },
   "outputs": [
    {
     "data": {
      "text/plain": [
       "5-element Array{Int64,1}:\n",
       " 1\n",
       " 2\n",
       " 3\n",
       " 4\n",
       " 5"
      ]
     },
     "execution_count": 6,
     "metadata": {},
     "output_type": "execute_result"
    }
   ],
   "source": [
    "# Another way to get a vector in Julia, \n",
    "b = [1;2;3;4;5]"
   ]
  },
  {
   "cell_type": "markdown",
   "metadata": {},
   "source": [
    "### By default, vectors in Julia are column vectors. So, what if we really did want a row vector? \n",
    "\n",
    "### You simply remove the commas or semicolons and put a space between the elements, like this "
   ]
  },
  {
   "cell_type": "code",
   "execution_count": 7,
   "metadata": {
    "scrolled": false
   },
   "outputs": [
    {
     "data": {
      "text/plain": [
       "1×5 Array{Int64,2}:\n",
       " 1  2  3  4  5"
      ]
     },
     "execution_count": 7,
     "metadata": {},
     "output_type": "execute_result"
    }
   ],
   "source": [
    "c = [1 2 3 4 5]"
   ]
  },
  {
   "cell_type": "markdown",
   "metadata": {},
   "source": [
    "Let's compare these now"
   ]
  },
  {
   "cell_type": "code",
   "execution_count": 8,
   "metadata": {},
   "outputs": [
    {
     "data": {
      "text/plain": [
       "true"
      ]
     },
     "execution_count": 8,
     "metadata": {},
     "output_type": "execute_result"
    }
   ],
   "source": [
    "a == b"
   ]
  },
  {
   "cell_type": "code",
   "execution_count": 9,
   "metadata": {},
   "outputs": [
    {
     "data": {
      "text/plain": [
       "false"
      ]
     },
     "execution_count": 9,
     "metadata": {},
     "output_type": "execute_result"
    }
   ],
   "source": [
    "a == c"
   ]
  },
  {
   "cell_type": "markdown",
   "metadata": {},
   "source": [
    "Which is expected because even though the elements in the two are exactly the same, one is a column vector and the other is a row vector. These are different objects. "
   ]
  },
  {
   "cell_type": "markdown",
   "metadata": {},
   "source": [
    "# Matrices\n",
    "\n",
    "Matrices in Julia invariably translate to Arrays! No ambiguity, infact as we say for all Julia cares, Vectors are Arrays too. \n",
    "We've already learned how to create vectors (Arrays of one dimension). Now let's learn how to create Matrices (Arrays of any dimension)"
   ]
  },
  {
   "cell_type": "code",
   "execution_count": 10,
   "metadata": {
    "scrolled": true
   },
   "outputs": [
    {
     "data": {
      "text/plain": [
       "2×3 Array{Int64,2}:\n",
       " 1  2  3\n",
       " 4  5  6"
      ]
     },
     "execution_count": 10,
     "metadata": {},
     "output_type": "execute_result"
    }
   ],
   "source": [
    "Matrix = [1 2 3;4 5 6]"
   ]
  },
  {
   "cell_type": "code",
   "execution_count": 11,
   "metadata": {},
   "outputs": [
    {
     "ename": "LoadError",
     "evalue": "syntax: unexpected semicolon in array expression around In[11]:2",
     "output_type": "error",
     "traceback": [
      "syntax: unexpected semicolon in array expression around In[11]:2",
      "",
      "Stacktrace:",
      " [1] top-level scope at In[11]:2",
      " [2] include_string(::Function, ::Module, ::String, ::String) at .\\loading.jl:1091"
     ]
    }
   ],
   "source": [
    "# careful not to use \",\" between your row elemnets, which maybe an instinct for people with previous exposure to MATLAB\n",
    "Array = [1,2,3;4,5,6]"
   ]
  },
  {
   "cell_type": "markdown",
   "metadata": {},
   "source": [
    "Remember that we said, it is often more useful to think of an array as a collection of variables of the SAME TYPE.\n",
    "\n",
    "Lucky for us, we don't have to worry about types in Julia, this will be counterintutive to people that know C or Python! "
   ]
  },
  {
   "cell_type": "code",
   "execution_count": 12,
   "metadata": {
    "scrolled": true
   },
   "outputs": [
    {
     "data": {
      "text/plain": [
       "2×3 Array{Any,2}:\n",
       " 1  2  \"Hello\"\n",
       " 3  4  \"Geeks\""
      ]
     },
     "execution_count": 12,
     "metadata": {},
     "output_type": "execute_result"
    }
   ],
   "source": [
    "A = [1 2 \"Hello\"; 3 4 \"Geeks\"] "
   ]
  },
  {
   "cell_type": "markdown",
   "metadata": {},
   "source": [
    "Let us now look at some common operations that we may want to carry out on our Arrays"
   ]
  },
  {
   "cell_type": "code",
   "execution_count": 13,
   "metadata": {
    "scrolled": true
   },
   "outputs": [
    {
     "name": "stdout",
     "output_type": "stream",
     "text": [
      "size(A) = (2, 3)\n",
      "size(A, 1) = 2\n",
      "size(A, 2) = 3\n",
      "length(A) = 6\n",
      "ndims(A) = 2\n"
     ]
    }
   ],
   "source": [
    "@show size(A)\n",
    "\n",
    "@show size(A, 1)\n",
    "\n",
    "@show size(A, 2)\n",
    "\n",
    "@show length(A)\n",
    "\n",
    "@show ndims(A);"
   ]
  },
  {
   "cell_type": "markdown",
   "metadata": {},
   "source": [
    "### *Alert, Optional Content*:\n",
    "\n",
    "\n",
    "Usually in programming, we have to specify the Array size and type to be able use it anywhere in our code. Julia let's us get away with it and has the compiler figure it out. Sometimes it can be in our benefit to specify sizes, like giving a cheat sheet to our compiler that helps it allocate the appropriate amount of space beforehand and speeing up our code. This will however only be significant when the data you are storing is huge and also has a fixed type and dimension.\n",
    "\n",
    "Which explains why we don't want you to worry about it much, but in general to understand code you might find online or in reading Julia documentation, this method of specifying Arrays can be useful. \n",
    "\n",
    "So to create an empty array of with ```N``` dimensions, Type ```T``` and size ```dims```, we create it using \n",
    "\n",
    "```Array{T,N}(undef,dims)```"
   ]
  },
  {
   "cell_type": "code",
   "execution_count": 14,
   "metadata": {},
   "outputs": [
    {
     "data": {
      "text/plain": [
       "2-element Array{Number,1}:\n",
       " #undef\n",
       " #undef"
      ]
     },
     "execution_count": 14,
     "metadata": {},
     "output_type": "execute_result"
    }
   ],
   "source": [
    "# An empty vector \n",
    "Empty_Vector = Array{Number, 1}(undef,(2))"
   ]
  },
  {
   "cell_type": "code",
   "execution_count": 15,
   "metadata": {},
   "outputs": [
    {
     "data": {
      "text/plain": [
       "2×2 Array{Number,2}:\n",
       " #undef  #undef\n",
       " #undef  #undef"
      ]
     },
     "execution_count": 15,
     "metadata": {},
     "output_type": "execute_result"
    }
   ],
   "source": [
    "# An empty 2 dimensional Array or Matrix \n",
    "Empty_Matrix = Array{Number, 2}(undef,(2,2))"
   ]
  },
  {
   "cell_type": "markdown",
   "metadata": {},
   "source": [
    "An Array of two dimensions, has the type alias Matrix. "
   ]
  },
  {
   "cell_type": "code",
   "execution_count": 16,
   "metadata": {
    "scrolled": true
   },
   "outputs": [
    {
     "ename": "LoadError",
     "evalue": "TypeError: in Type{...} expression, expected UnionAll, got a value of type Array{Int64,2}",
     "output_type": "error",
     "traceback": [
      "TypeError: in Type{...} expression, expected UnionAll, got a value of type Array{Int64,2}",
      "",
      "Stacktrace:",
      " [1] top-level scope at In[16]:1",
      " [2] include_string(::Function, ::Module, ::String, ::String) at .\\loading.jl:1091"
     ]
    }
   ],
   "source": [
    "B = Matrix{Int}"
   ]
  },
  {
   "cell_type": "code",
   "execution_count": 17,
   "metadata": {
    "scrolled": true
   },
   "outputs": [
    {
     "ename": "LoadError",
     "evalue": "TypeError: in Type{...} expression, expected UnionAll, got a value of type Array{Int64,2}",
     "output_type": "error",
     "traceback": [
      "TypeError: in Type{...} expression, expected UnionAll, got a value of type Array{Int64,2}",
      "",
      "Stacktrace:",
      " [1] top-level scope at In[17]:1",
      " [2] include_string(::Function, ::Module, ::String, ::String) at .\\loading.jl:1091"
     ]
    }
   ],
   "source": [
    "C = Matrix{Int}(undef,2,3)"
   ]
  },
  {
   "cell_type": "markdown",
   "metadata": {},
   "source": [
    "Can we have a higher dimension of an Array. Think a collection of points in 3D. (x,y,z)"
   ]
  },
  {
   "cell_type": "code",
   "execution_count": 18,
   "metadata": {},
   "outputs": [
    {
     "data": {
      "text/plain": [
       "2×2×2 Array{Number,3}:\n",
       "[:, :, 1] =\n",
       " #undef  #undef\n",
       " #undef  #undef\n",
       "\n",
       "[:, :, 2] =\n",
       " #undef  #undef\n",
       " #undef  #undef"
      ]
     },
     "execution_count": 18,
     "metadata": {},
     "output_type": "execute_result"
    }
   ],
   "source": [
    "A = Array{Number,3}(undef, (2, 2, 2))"
   ]
  },
  {
   "cell_type": "markdown",
   "metadata": {},
   "source": [
    "Now, we will focus on Just Matrices, So 2 Dimensional Arrays are enough for us for now! \n",
    "\n",
    "### Functions that can be used to initialize Arrays\n",
    "\n",
    "There are several functions that can be used to create Arrays for us with special features. Lets have a look"
   ]
  },
  {
   "cell_type": "code",
   "execution_count": 19,
   "metadata": {},
   "outputs": [
    {
     "data": {
      "text/plain": [
       "2×2 Array{Float64,2}:\n",
       " 0.0  0.0\n",
       " 0.0  0.0"
      ]
     },
     "execution_count": 19,
     "metadata": {},
     "output_type": "execute_result"
    }
   ],
   "source": [
    "zeros(2,2)"
   ]
  },
  {
   "cell_type": "code",
   "execution_count": 20,
   "metadata": {},
   "outputs": [
    {
     "data": {
      "text/plain": [
       "3×3 Array{Float64,2}:\n",
       " 1.0  1.0  1.0\n",
       " 1.0  1.0  1.0\n",
       " 1.0  1.0  1.0"
      ]
     },
     "execution_count": 20,
     "metadata": {},
     "output_type": "execute_result"
    }
   ],
   "source": [
    "ones(3,3)"
   ]
  },
  {
   "cell_type": "code",
   "execution_count": 21,
   "metadata": {},
   "outputs": [
    {
     "data": {
      "text/plain": [
       "1×2 Array{Float64,2}:\n",
       " 0.546177  0.157204"
      ]
     },
     "execution_count": 21,
     "metadata": {},
     "output_type": "execute_result"
    }
   ],
   "source": [
    "rand(1,2)"
   ]
  },
  {
   "cell_type": "code",
   "execution_count": 22,
   "metadata": {},
   "outputs": [
    {
     "data": {
      "text/plain": [
       "1×2 Array{Float64,2}:\n",
       " -0.375508  0.22337"
      ]
     },
     "execution_count": 22,
     "metadata": {},
     "output_type": "execute_result"
    }
   ],
   "source": [
    "randn(1,2)"
   ]
  },
  {
   "cell_type": "code",
   "execution_count": 24,
   "metadata": {
    "scrolled": true
   },
   "outputs": [
    {
     "name": "stdout",
     "output_type": "stream",
     "text": [
      "a_matrix = [1 0 0 0 0; 0 2 0 0 0; 0 0 3 0 0; 0 0 0 4 0; 0 0 0 0 5]\n"
     ]
    }
   ],
   "source": [
    "using LinearAlgebra\n",
    "a_matrix = Diagonal(a);\n",
    "@show a_matrix;"
   ]
  },
  {
   "cell_type": "markdown",
   "metadata": {},
   "source": [
    "## Indexing and slicing\n",
    "\n",
    "When working with our Arrays we need to constantly manipulate them, one way or another, the way to do access these elments is aclled indexing an array. \n",
    "\n",
    "When getting a range of elements from an array we need to slicing, specifying ranges using ```:``` operator.\n",
    "\n",
    "Let's see some examples:\n"
   ]
  },
  {
   "cell_type": "code",
   "execution_count": 27,
   "metadata": {},
   "outputs": [
    {
     "data": {
      "text/plain": [
       "2×4 Array{Int64,2}:\n",
       " 1  2  3  4\n",
       " 5  6  7  8"
      ]
     },
     "execution_count": 27,
     "metadata": {},
     "output_type": "execute_result"
    }
   ],
   "source": [
    "New_Array = [1 2 3 4;5 6 7 8]"
   ]
  },
  {
   "cell_type": "code",
   "execution_count": 28,
   "metadata": {},
   "outputs": [
    {
     "name": "stdout",
     "output_type": "stream",
     "text": [
      "New_Array[1, 1] = 1\n",
      "New_Array[1, 2] = 2\n"
     ]
    },
    {
     "ename": "LoadError",
     "evalue": "BoundsError: attempt to access 2×4 Array{Int64,2} at index [3, 3]",
     "output_type": "error",
     "traceback": [
      "BoundsError: attempt to access 2×4 Array{Int64,2} at index [3, 3]",
      "",
      "Stacktrace:",
      " [1] getindex(::Array{Int64,2}, ::Int64, ::Int64) at .\\array.jl:810",
      " [2] top-level scope at show.jl:641",
      " [3] include_string(::Function, ::Module, ::String, ::String) at .\\loading.jl:1091"
     ]
    }
   ],
   "source": [
    "@show New_Array[1,1]\n",
    "\n",
    "@show New_Array[1,2]\n",
    "\n",
    "@show New_Array[3,3]"
   ]
  },
  {
   "cell_type": "code",
   "execution_count": 29,
   "metadata": {},
   "outputs": [
    {
     "name": "stdout",
     "output_type": "stream",
     "text": [
      "New_Array[1, :] = [1, 2, 3, 4]\n",
      "New_Array[1:2, 3] = [3, 7]\n",
      "New_Array[1:2, :] = [1 2 3 4; 5 6 7 8]\n"
     ]
    }
   ],
   "source": [
    "@show New_Array[1,:]\n",
    "\n",
    "@show New_Array[1:2,3]\n",
    "\n",
    "@show New_Array[1:2,:];"
   ]
  },
  {
   "cell_type": "markdown",
   "metadata": {},
   "source": [
    "Some other operations that can used to index these Arrays meaningfully are:\n"
   ]
  },
  {
   "cell_type": "code",
   "execution_count": 30,
   "metadata": {},
   "outputs": [
    {
     "data": {
      "text/plain": [
       "8"
      ]
     },
     "execution_count": 30,
     "metadata": {},
     "output_type": "execute_result"
    }
   ],
   "source": [
    "maximum(New_Array)"
   ]
  },
  {
   "cell_type": "code",
   "execution_count": 31,
   "metadata": {},
   "outputs": [
    {
     "data": {
      "text/plain": [
       "1"
      ]
     },
     "execution_count": 31,
     "metadata": {},
     "output_type": "execute_result"
    }
   ],
   "source": [
    "minimum(New_Array)"
   ]
  },
  {
   "cell_type": "markdown",
   "metadata": {},
   "source": [
    "## Getting a row or column vector from a matrix\n",
    "using matrix slicing, it's easy to extract an entire row or column from a matrix:"
   ]
  },
  {
   "cell_type": "code",
   "execution_count": 19,
   "metadata": {},
   "outputs": [
    {
     "data": {
      "text/plain": [
       "3×4 Array{Int64,2}:\n",
       " 1   2   3   4\n",
       " 5   6   7   8\n",
       " 9  10  11  12"
      ]
     },
     "metadata": {},
     "output_type": "display_data"
    },
    {
     "data": {
      "text/plain": [
       "4-element Array{Int64,1}:\n",
       " 1\n",
       " 2\n",
       " 3\n",
       " 4"
      ]
     },
     "metadata": {},
     "output_type": "display_data"
    },
    {
     "data": {
      "text/plain": [
       "3-element Array{Int64,1}:\n",
       "  3\n",
       "  7\n",
       " 11"
      ]
     },
     "metadata": {},
     "output_type": "display_data"
    }
   ],
   "source": [
    "array = [1 2 3 4; 5 6 7 8; 9 10 11 12]\n",
    "display(array)\n",
    "\n",
    "first_row = array[1, :]\n",
    "third_col = array[:, 3]\n",
    "\n",
    "display(first_row)\n",
    "display(third_col)"
   ]
  },
  {
   "cell_type": "markdown",
   "metadata": {},
   "source": [
    "# Practice solving triangular matrices"
   ]
  },
  {
   "cell_type": "markdown",
   "metadata": {},
   "source": [
    "Here is a 3x3 set of linear equations that can be solved using forward substitution.\n",
    "\n",
    "$$ 2x_1  = 1 $$\n",
    "$$  3x_1 -7x_2 = -2 $$\n",
    "$$ x_1 + 3x_2 - x_3 = 8 $$\n",
    "\n",
    "First, put the equations into Ax=b form:"
   ]
  },
  {
   "cell_type": "code",
   "execution_count": 4,
   "metadata": {},
   "outputs": [],
   "source": [
    "x = zeros(3)\n",
    "\n",
    "# Fill A and b:\n",
    "A = [2 0 0; 3 -7 0; 1 3 -1];\n",
    "b = [1; -2; 8];"
   ]
  },
  {
   "cell_type": "code",
   "execution_count": 6,
   "metadata": {},
   "outputs": [
    {
     "name": "stdout",
     "output_type": "stream",
     "text": [
      "x[1] = 0.5\n",
      "x[2] = 0.5\n",
      "x[3] = -6.0\n"
     ]
    },
    {
     "data": {
      "text/plain": [
       "-6.0"
      ]
     },
     "execution_count": 6,
     "metadata": {},
     "output_type": "execute_result"
    }
   ],
   "source": [
    "# Now, the system of equations can be solved using this forward substitution algorithm:\n",
    "\n",
    "x[1]=b[1]/A[1,1]\n",
    "x[2]=(b[2]-A[2,1]*x[1])/A[2,2]\n",
    "x[3]=(b[3]-A[3,1]*x[1]-A[3,2]*x[2])/A[3,3]\n",
    "\n",
    "@show x[1]\n",
    "@show x[2]\n",
    "@show x[3]"
   ]
  },
  {
   "cell_type": "markdown",
   "metadata": {},
   "source": [
    "Now try extending that forward substitution algorithm so it works on a 4x4 system of equations:"
   ]
  },
  {
   "cell_type": "markdown",
   "metadata": {},
   "source": [
    "# Forward Substitution\n",
    "\n",
    "$\\begin{align*}\n",
    "        2x_1 &= 4\\\\\n",
    "        8x_1 + 3x_2 &= 28\\\\\n",
    "        2x_1 + 3x_2 + x_3 &= 22\\\\\n",
    "       2x_1 + 2x_2 + 3x_3 + 2x_4 &= 46\n",
    "    \\end{align*}$"
   ]
  },
  {
   "cell_type": "code",
   "execution_count": null,
   "metadata": {},
   "outputs": [],
   "source": [
    "x = zeros(4);\n",
    "A = [];\n",
    "b = [];\n",
    "\n",
    "# Put your algorithm here:\n"
   ]
  },
  {
   "cell_type": "markdown",
   "metadata": {},
   "source": [
    "Now see if you can change that algorithm to do back substitution instead of forward substitution:"
   ]
  },
  {
   "cell_type": "markdown",
   "metadata": {},
   "source": [
    "# Backward Substitution\n",
    "\n",
    "$\\begin{align*}\n",
    "        2x_1 + 2x_2 + 3x_3 + 4x_4 &= 20\\\\\n",
    "        5x_2 + 6x_3 + 7x_4 &= 34\\\\\n",
    "       8x_3 + 9x_4 &= 25\\\\\n",
    "       10x_4 &= 10\n",
    "    \\end{align*}$"
   ]
  },
  {
   "cell_type": "code",
   "execution_count": 8,
   "metadata": {},
   "outputs": [],
   "source": [
    "x = zeros(4);\n",
    "A = [];\n",
    "b = [];\n",
    "\n"
   ]
  },
  {
   "cell_type": "markdown",
   "metadata": {},
   "source": [
    "In the homework, you'll find out that you can use for loops to make forward and backward substitution much easier."
   ]
  },
  {
   "cell_type": "markdown",
   "metadata": {},
   "source": [
    "# For Loops\n",
    "for loops allow you to iterate through a range of values and repeat some set of operations. You can iterate through a range of numbers, elements in an array/vector, or even characters in a string:"
   ]
  },
  {
   "cell_type": "code",
   "execution_count": 10,
   "metadata": {},
   "outputs": [
    {
     "name": "stdout",
     "output_type": "stream",
     "text": [
      "1\n",
      "2\n",
      "3\n",
      "4\n",
      "5\n",
      "6\n",
      "7\n",
      "8\n",
      "9\n",
      "10\n",
      "sum = 107\n",
      "J u l i a   i s   s o   a w e s o m e "
     ]
    }
   ],
   "source": [
    "# for loop that counts from 1 to 10\n",
    "for i = 1:10\n",
    "    println(i)\n",
    "end\n",
    "\n",
    "# for loop that adds up the elements of a vector\n",
    "v = [1, 19, 76, 8, 3]\n",
    "\n",
    "sum = 0\n",
    "for num in v\n",
    "    sum += num\n",
    "end\n",
    "@show sum\n",
    "\n",
    "# for loop that prints a string with spaces between each letter\n",
    "string = \"Julia is so awesome\"\n",
    "for char in string\n",
    "    print(\"$(char) \")\n",
    "end"
   ]
  },
  {
   "cell_type": "markdown",
   "metadata": {},
   "source": [
    "You can also nest for loops inside of each other:"
   ]
  },
  {
   "cell_type": "code",
   "execution_count": 16,
   "metadata": {},
   "outputs": [
    {
     "name": "stdout",
     "output_type": "stream",
     "text": [
      "1 1\n",
      "1 2\n",
      "1 3\n",
      "2 1\n",
      "2 2\n",
      "2 3\n",
      "3 1\n",
      "3 2\n",
      "3 3\n"
     ]
    },
    {
     "ename": "BoundsError",
     "evalue": "\u001b[91mBoundsError: attempt to access 3×3 Array{Int64,2} at index [1, 6]\u001b[39m",
     "output_type": "error",
     "traceback": [
      "\u001b[91mBoundsError: attempt to access 3×3 Array{Int64,2} at index [1, 6]\u001b[39m",
      "",
      "Stacktrace:",
      " [1] getindex(::Array{Int64,2}, ::Int64, ::Int64) at ./array.jl:789",
      " [2] top-level scope at ./In[16]:13"
     ]
    }
   ],
   "source": [
    "# nested for loop that lists combinations of the numbers 1-3\n",
    "for i = 1:3\n",
    "    for j = 1:3\n",
    "        println(\"$(i) $(j)\")\n",
    "    end\n",
    "end"
   ]
  },
  {
   "cell_type": "markdown",
   "metadata": {},
   "source": [
    "This is useful for working with matrices, since you can iterate through each row in the outer for loop, then iterate through each element in that row in the inner loop:"
   ]
  },
  {
   "cell_type": "code",
   "execution_count": 8,
   "metadata": {},
   "outputs": [
    {
     "data": {
      "text/plain": [
       "3×3 Array{Float64,2}:\n",
       " 1.43861   2.5394   1.32497\n",
       " 5.43417   5.92822  6.12149\n",
       " 0.357122  0.26537  9.5856"
      ]
     },
     "execution_count": 8,
     "metadata": {},
     "output_type": "execute_result"
    }
   ],
   "source": [
    "m = [1.1 2.1 1.0; 4.6 5.902 6.1; 0.0 0.05 8.9]\n",
    "\n",
    "# nested for loop that adds a random number to each element of a matrix\n",
    "for i = 1:size(m, 1)\n",
    "    for j = 1:size(m, 2)\n",
    "        m[i, j] += rand()\n",
    "    end\n",
    "end\n",
    "\n",
    "m"
   ]
  },
  {
   "cell_type": "markdown",
   "metadata": {},
   "source": [
    "# Determinant of a Matrix\n",
    "Calculating the determinant of a large matrix by hand can be very annoying. In Julia, you can use the `det()` function (part of the LinearAlgebra package) to calculate determinants for you."
   ]
  },
  {
   "cell_type": "code",
   "execution_count": 5,
   "metadata": {},
   "outputs": [
    {
     "data": {
      "text/plain": [
       "82.0"
      ]
     },
     "execution_count": 5,
     "metadata": {},
     "output_type": "execute_result"
    }
   ],
   "source": [
    "using LinearAlgebra\n",
    "\n",
    "# Determinant of a 3x3 matrix\n",
    "m = [ 6 6 2; 1 0 7; 5 2 8]\n",
    "det(m)"
   ]
  },
  {
   "cell_type": "markdown",
   "metadata": {},
   "source": [
    "# Summary\n",
    "- Display results using ```println```, ```display```, and ```@show```.\n",
    "- Arrays are collections of elements, can be used to represent vectors and matrices. \n",
    "- Index from an array using ```[]``` and get an entire column/row using ```:``` as an index.\n",
    "- Initialize arrays with ```zeros(i, j)``` and ```ones(i, j)```.\n",
    "- Forward and backward Substitution to solve Ax = b when A is a triangular matrix"
   ]
  },
  {
   "cell_type": "code",
   "execution_count": null,
   "metadata": {},
   "outputs": [],
   "source": []
  }
 ],
 "metadata": {
  "kernelspec": {
   "display_name": "Julia 1.6.1",
   "language": "julia",
   "name": "julia-1.6"
  },
  "language_info": {
   "file_extension": ".jl",
   "mimetype": "application/julia",
   "name": "julia",
   "version": "1.6.1"
  }
 },
 "nbformat": 4,
 "nbformat_minor": 4
}
