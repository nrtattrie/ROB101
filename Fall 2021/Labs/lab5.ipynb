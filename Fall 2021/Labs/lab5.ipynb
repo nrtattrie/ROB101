{
 "cells": [
  {
   "cell_type": "markdown",
   "id": "53e82026-c090-452a-a276-1331a5f5c30c",
   "metadata": {},
   "source": [
    "University of Michigan - ROB 101 Computational Linear Algebra"
   ]
  },
  {
   "cell_type": "markdown",
   "id": "c88e02eb-a018-4dde-95a2-66496fe39e0a",
   "metadata": {},
   "source": [
    "# Lab 5: Linear independence, Linear Combinations, and Existence and Uniqueness of Solutions to Ax=b\n",
    "\n",
    "#### Purpose:  Learn to use Julia to better undersand linear independence and linear combinations\n",
    "- Skills: \n",
    "    - More practice writing functions\n",
    "    - LU vs LDLT\n",
    "- Knowledge:\n",
    "    - Working with Matrix Factorizations\n",
    "    - Building confidence with complex functions"
   ]
  },
  {
   "cell_type": "markdown",
   "id": "1d0c60dd-fd4b-44b2-8b75-ccfa41cc07e7",
   "metadata": {},
   "source": [
    "## Example 1: Finding the Number of Linearly Independent Vectors with LU and LDLT Methods"
   ]
  },
  {
   "cell_type": "markdown",
   "id": "26660a4f-3198-41f3-9f8d-367412686042",
   "metadata": {},
   "source": [
    "<img src = \"https://i.postimg.cc/g2tJSmPY/ldlt.png\" width = 700>"
   ]
  },
  {
   "cell_type": "markdown",
   "id": "de34aa61-0559-4491-9fb1-f2d5df3c105d",
   "metadata": {},
   "source": [
    "### LDLT Factorization vs LU Factorization\n",
    "\n",
    "Why do we need to use \"enhanced\" LU factorization above? Let's explore a (not so uncommon) example of where LU breaks down for the purposes of counting the number of linearly independent vectors."
   ]
  },
  {
   "cell_type": "code",
   "execution_count": null,
   "id": "ebd6f543-4070-4bea-bc63-e60689a3414d",
   "metadata": {},
   "outputs": [],
   "source": [
    "# Run me, don't change me\n",
    "using LinearAlgebra\n",
    "n=4\n",
    "A=zeros(n,n)\n",
    "for i=1:n\n",
    "    if i<n\n",
    "        A[i,i+1]=1.0\n",
    "    end\n",
    "end\n",
    "@show A"
   ]
  },
  {
   "cell_type": "markdown",
   "id": "8958f209-34dd-40a9-8d01-b7b91279c42f",
   "metadata": {},
   "source": [
    "We see above that A has 3 independent columns, right? Well, let's try and factorize A using LU, and run our \"foolproof\" method to find how many linearly independent columns there are."
   ]
  },
  {
   "cell_type": "code",
   "execution_count": null,
   "id": "b3f83904-8ed1-4c36-a39e-6bd18beffd90",
   "metadata": {},
   "outputs": [],
   "source": [
    "# Run me, don't change me\n",
    "# A is already upper triangular, but we run LU nevertheless\n",
    "F=lu(A,check=false)\n",
    "@show diag(F.U)\n",
    "U=F.U"
   ]
  },
  {
   "cell_type": "markdown",
   "id": "ac901b76-5dd1-40eb-bd48-4b84756c82a1",
   "metadata": {},
   "source": [
    "Oh no! The diagonal of U is all zeros, so we would be misled into thinking that A has no linearly independent columns, which we know is wrong. How can we fix this?"
   ]
  },
  {
   "cell_type": "markdown",
   "id": "857b82b7-181c-4ba0-9e8d-66eb8048aac9",
   "metadata": {},
   "source": [
    "### The LDLT method \n",
    "Let's try to consider $A^\\top \\cdot A$ instead of just A."
   ]
  },
  {
   "cell_type": "code",
   "execution_count": null,
   "id": "afdadb03-e36c-4a76-be06-936a1873724f",
   "metadata": {},
   "outputs": [],
   "source": [
    "# Run me, don't change me\n",
    "# A is already upper triangular, but we run LU nevertheless\n",
    "F=lu(A'*A,check=false)\n",
    "@show diag(F.U)\n",
    "U=F.U"
   ]
  },
  {
   "cell_type": "markdown",
   "id": "8c496e54-dd8f-4b4c-8acf-c5a0d8d3d806",
   "metadata": {},
   "source": [
    "We now see that the diagonal of U is what we would expect it to be - three nonzero elements, indicating three independent columns. But wait, that was still run only using LU factorization! So what's the point of LDLT factorization?"
   ]
  },
  {
   "cell_type": "markdown",
   "id": "6dfa0a38-c6e1-46f9-ac23-37be0427445b",
   "metadata": {},
   "source": [
    "### Let's hunt for a counter example\n",
    "\n",
    "Below is our implementation of the LDLT algorithm:"
   ]
  },
  {
   "cell_type": "code",
   "execution_count": null,
   "id": "dd1d79fc-aef1-4427-a1c7-7184f039efb2",
   "metadata": {},
   "outputs": [],
   "source": [
    "# Run me, don't change me!\n",
    "function ldltROB101(A)\n",
    "    epsilon = 1e-12\n",
    "    M = A'*A\n",
    "    n,m = size(A)\n",
    "    Areduced = M\n",
    "    L = Array{Float64,2}(undef,m,0)\n",
    "    Id = zeros(m,m) + I\n",
    "    P = Id    \n",
    "    D=zeros(m,m)\n",
    "    for i=1:m\n",
    "        ii=argmax(diag(Areduced[i:m,i:m]))\n",
    "        mrow=ii[1]+(i-1)\n",
    "        if !(i==mrow)\n",
    "            P[[i,mrow],:]=P[[mrow,i],:]\n",
    "            Areduced[[i,mrow],:]=Areduced[[mrow,i],:]\n",
    "            Areduced[:,[i,mrow]]=Areduced[:,[mrow,i]]\n",
    "        end\n",
    "        if (i>1)\n",
    "            L[[i,mrow],:] = L[[mrow,i],:]\n",
    "        end\n",
    "        pivot=Areduced[i,i]\n",
    "        if !isapprox(pivot,0,atol=epsilon)\n",
    "            D[i,i]=pivot\n",
    "            C=Areduced[:,i]/pivot\n",
    "            L=[L C]\n",
    "            Areduced=Areduced-(C*pivot*C')\n",
    "        else\n",
    "            L=[L Id[:,i:m]]\n",
    "            break\n",
    "        end\n",
    "    end\n",
    "    diagD=diag(D)\n",
    "    return L,P,D,diagD\n",
    "end"
   ]
  },
  {
   "cell_type": "markdown",
   "id": "e19d94b3-96f7-4c40-b77d-ac053951079b",
   "metadata": {},
   "source": [
    "We'll run a loop until we find an example where LU--> diag(U) and LDLT --> diag(D) give different \"predictions\" for the number of linearly independent columns of A.\n",
    "\n",
    "*For the record, LDLT is always correct. We are doing this to show that if you try (incorrectly) to use LU for determining the number of linearly independent columns of a matrix, it will sometimes mess up. Hence, we really did need to learn LDLT*"
   ]
  },
  {
   "cell_type": "code",
   "execution_count": null,
   "id": "40ac0c23-2b71-4bcf-9c14-ce55dbbcfbdd",
   "metadata": {},
   "outputs": [],
   "source": [
    "# Run me don't change me\n",
    "using Random\n",
    "function CounterExample()\n",
    "    Random.seed!(4356)\n",
    "    flag = 1\n",
    "    N=5\n",
    "    n=floor(Int,N/2)\n",
    "    k=0\n",
    "    while flag > 0\n",
    "        k=k+1\n",
    "        # Build a matrix A\n",
    "        B=randn(N,N-1)\n",
    "        C=randn(n,n)\n",
    "        A=[B[:,1:n] B[:,1:n]*C B[:,n+n:end]]\n",
    "        # Apply LU to A'A\n",
    "        F=lu(A'*A, check=false)\n",
    "        diagU=diag(F.U)\n",
    "        indicesLU=findall(x->x<1e-10, abs.(diagU))\n",
    "        NumLinIndepLU=N-length(indicesLU)\n",
    "        # Apply LDLT to A'A\n",
    "        L,P,D,diagD = ldltROB101(A)\n",
    "        indicesLDLT=findall(x->x<1e-10, diagD)\n",
    "        NumLinIndepLDLT=N-length(indicesLDLT)\n",
    "        # Check for a discrepancy in their reported number of linearly indep columns\n",
    "        if (NumLinIndepLDLT > NumLinIndepLU)||(k>1e5)\n",
    "            return k, A, F, L, P, D, diagD\n",
    "            flag=0\n",
    "        end        \n",
    "    end\n",
    "end\n",
    "\n",
    "function cleanUp(A,tol=1e-10)\n",
    "    # Zero out small entries of a matrix or vector\n",
    "    B=copy(A)\n",
    "    indicesSmall=findall(x->x<tol, abs.(B))\n",
    "    B[indicesSmall]=0.0*B[indicesSmall]\n",
    "return B\n",
    "end"
   ]
  },
  {
   "cell_type": "code",
   "execution_count": null,
   "id": "d76459c0-265c-445e-9a7e-f62a938779b9",
   "metadata": {},
   "outputs": [],
   "source": [
    "k, A, F, L, P, D, diagD = CounterExample()"
   ]
  },
  {
   "cell_type": "code",
   "execution_count": null,
   "id": "da5dee78-14c3-4863-8778-3fe33264f339",
   "metadata": {},
   "outputs": [],
   "source": [
    "# The diagonoal of F.U, showing which elements are nonzero\n",
    "# run me don't change me\n",
    "cleanUp(diag(F.U))\n"
   ]
  },
  {
   "cell_type": "code",
   "execution_count": null,
   "id": "068134c4-5a61-4390-badb-264212849332",
   "metadata": {},
   "outputs": [],
   "source": [
    "# The diagonoal of diagD, showing which elements are nonzero\n",
    "# run me don't change me\n",
    "cleanUp(diagD)"
   ]
  },
  {
   "cell_type": "code",
   "execution_count": null,
   "id": "354634fe-ed9c-4227-9a1c-94164145d5af",
   "metadata": {},
   "outputs": [],
   "source": [
    "# run me don't change me\n",
    "\n",
    "# Gives the LDLT factorized upper triangular matrix\n",
    "\n",
    "cleanUp(D*L')"
   ]
  },
  {
   "cell_type": "code",
   "execution_count": null,
   "id": "137d8000-54fb-46ab-9b2e-64acfdf8df76",
   "metadata": {},
   "outputs": [],
   "source": [
    "# Run me don't change me\n",
    "\n",
    "# Multiplying by transpose(P) on the right of A puts\n",
    "#   the independent columns to the front of the matrix\n",
    "\n",
    "# This is very convenient\n",
    "barA=A*P'"
   ]
  },
  {
   "cell_type": "markdown",
   "id": "1b84d9bf-aceb-4246-9f30-9a5f251f54c8",
   "metadata": {},
   "source": [
    "We see that the first two columns of A are linearly independent, but the first three columns are not:"
   ]
  },
  {
   "cell_type": "code",
   "execution_count": null,
   "id": "84c98d54-63e6-4948-92d9-e2f3de1263b3",
   "metadata": {},
   "outputs": [],
   "source": [
    "# Run me don't change me\n",
    "\n",
    "newA01=A[:,1:3]\n",
    "L,P,D,diagD=ldltROB101(newA01)\n",
    "diagD"
   ]
  },
  {
   "cell_type": "markdown",
   "id": "e7a9a51d-2437-4b3d-b1c8-a3ef203ad027",
   "metadata": {},
   "source": [
    "We see now that the first three columns of A\\*P' are linearly independent"
   ]
  },
  {
   "cell_type": "code",
   "execution_count": null,
   "id": "3bf77d02-1bf2-4712-9121-946900a505f1",
   "metadata": {},
   "outputs": [],
   "source": [
    "# Run me don't change me\n",
    "\n",
    "newA02=barA[:,1:3]\n",
    "L,P,D,diagD=ldltROB101(newA02)\n",
    "diagD"
   ]
  },
  {
   "cell_type": "markdown",
   "id": "3caedfa5-c845-4863-a76a-4eb1bd2549de",
   "metadata": {},
   "source": [
    "### Bottom line, we can use the LDLT factorization applied to $A^\\top \\cdot A$ to determine the number of linearly independent columns in A and we form $\\bar{A} = A \\cdot P^\\top$ to move the independent columns to the front of the matrix."
   ]
  },
  {
   "cell_type": "markdown",
   "id": "c9afa18e-1b85-4b73-b953-41c311fe4011",
   "metadata": {},
   "source": [
    "## Problem 1. Number of Linearly Independent Vectors"
   ]
  },
  {
   "cell_type": "markdown",
   "id": "7dd91319-bdf8-407f-b421-fb4d82a606a2",
   "metadata": {},
   "source": [
    "Using the provided ```ldltROB101``` function, and the above method of determing the number of linearly independent vectors in a matrix, complete the function ```num_independent_vectors``` which takes in a matrix and returns the number of linearly independent vectors."
   ]
  },
  {
   "cell_type": "code",
   "execution_count": null,
   "id": "de02bc79",
   "metadata": {},
   "outputs": [],
   "source": [
    "function num_independent_vectors(A)\n",
    "    # Your code here!\n",
    "    \n",
    "    \n",
    "end"
   ]
  },
  {
   "cell_type": "code",
   "execution_count": null,
   "id": "466d7f55-f8df-48da-b501-fd29c7c8c190",
   "metadata": {},
   "outputs": [],
   "source": [
    "# public autograder cell, yay!\n",
    "\n",
    "A = [1 2 3; 4 5 6; 7 8 10]\n",
    "a = num_independent_vectors(A)\n",
    "@show a\n",
    "T1 = @assert a == 3\n",
    "\n",
    "B = [1 2 3; 4 5 6; 2 4 6]\n",
    "b = num_independent_vectors(B)\n",
    "@show b\n",
    "T2 = @assert b == 2\n",
    "\n",
    "@show [T1 T2]"
   ]
  },
  {
   "cell_type": "markdown",
   "id": "884345e4-512a-444c-b7ab-53e07a48712d",
   "metadata": {},
   "source": [
    "## Problem 2. Testing for linear combinations"
   ]
  },
  {
   "cell_type": "markdown",
   "id": "2207f00b-da0c-4a0e-ad19-303e61a7515d",
   "metadata": {},
   "source": [
    "<img src = \"https://i.postimg.cc/2j9KStm1/lin-com-testing.png\" width = 700>"
   ]
  },
  {
   "cell_type": "markdown",
   "id": "1500869d-c05d-4826-82d4-86b9cb87e290",
   "metadata": {},
   "source": [
    "You will now use the function you just wrote in order to determine whether a vector is a linear combination of a matrix. Complete the function ```is_linear_combo``` with takes in a vector v and a matrix A and returns true if v is a linear combination of A and false otherwise"
   ]
  },
  {
   "cell_type": "code",
   "execution_count": null,
   "id": "1e6ecf75-9c9b-4b62-8fc4-7c83d58df059",
   "metadata": {},
   "outputs": [],
   "source": [
    "function is_linear_combo(A, v)\n",
    "    \n",
    "end"
   ]
  },
  {
   "cell_type": "code",
   "execution_count": null,
   "id": "1426babb-4e19-497f-bd90-ed37697a9506",
   "metadata": {},
   "outputs": [],
   "source": [
    "# public autograder cell, yay!\n",
    "\n",
    "A = [3.5 1.0 5.0; 5.0 2.0 6.0; 6.5 3.0 7.0; 8.0 4.0 8.0]\n",
    "v = [4; 4; 4; 4]\n",
    "T1 = @assert is_linear_combo(A, v)\n",
    "\n",
    "A = [3.5 1.0 5.0; 5.0 2.0 6.0; 6.5 3.0 7.0; 8.0 4.0 8.0]\n",
    "v = [20; 11; 12; 14]\n",
    "T2 = @assert !is_linear_combo(A, v)\n",
    "\n",
    "@show [T1 T2]"
   ]
  },
  {
   "cell_type": "markdown",
   "id": "abf09de0-a29c-4f2a-b4b6-60c9cd6a010d",
   "metadata": {},
   "source": [
    "## Problem 3. Putting it all Together"
   ]
  },
  {
   "cell_type": "markdown",
   "id": "4f0d9518-1f7a-432a-ac02-b5272ef9ee27",
   "metadata": {},
   "source": [
    "<img src = \"https://i.postimg.cc/MKPM4y72/existence-and-uniqueness.png\" width = 700>"
   ]
  },
  {
   "cell_type": "markdown",
   "id": "02572e59-1c3c-480f-9d6d-1916a7692fe2",
   "metadata": {},
   "source": [
    "You have written a function to find out how many linearly independent vectors are in a matrix. You have written a second function to determine is a vector is a linear combination of a matrix, or set of vectors. Now, finally, you will utilize these two functions to complete the ```exists_and_unique``` function below, which takes in a matrix A and vector b, and returns whether the system Ax = b has a unique solution."
   ]
  },
  {
   "cell_type": "code",
   "execution_count": null,
   "id": "dfb12019-7aa6-4151-b837-d14a6fe9c94e",
   "metadata": {},
   "outputs": [],
   "source": [
    "function exists_and_unique(A,b)\n",
    "    \n",
    "end"
   ]
  },
  {
   "cell_type": "code",
   "execution_count": null,
   "id": "f6109316-1bd0-4606-94ba-a00eccd1f61b",
   "metadata": {},
   "outputs": [],
   "source": [
    "# public autograder cell, yay!\n",
    "\n",
    "A = [1 2 3; 4 5 6; 7 8 10]\n",
    "v = [12; 15; 19]\n",
    "T1 = @assert exists_and_unique(A,v)\n",
    "\n",
    "@show [T1]\n",
    "\n",
    "# Test some other matrices!\n",
    "\n"
   ]
  },
  {
   "cell_type": "code",
   "execution_count": null,
   "id": "0cb1cca1-ed59-453a-8c19-4e41f0e477c8",
   "metadata": {},
   "outputs": [],
   "source": []
  }
 ],
 "metadata": {
  "kernelspec": {
   "display_name": "Julia 1.6.1",
   "language": "julia",
   "name": "julia-1.6"
  },
  "language_info": {
   "file_extension": ".jl",
   "mimetype": "application/julia",
   "name": "julia",
   "version": "1.6.1"
  }
 },
 "nbformat": 4,
 "nbformat_minor": 5
}
