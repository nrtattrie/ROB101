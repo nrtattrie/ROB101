{
 "cells": [
  {
   "cell_type": "markdown",
   "id": "9bee5385",
   "metadata": {},
   "source": [
    "University of Michigan - ROB 101 Computational Linear Algebra"
   ]
  },
  {
   "cell_type": "markdown",
   "id": "a1df4a51",
   "metadata": {},
   "source": [
    "# Lab 4: Introduction to Functions\n",
    "\n",
    "### Purpose: Learn ways to define and call functions\n",
    "- Skills:\n",
    "    - Using if statements to regulate code execution\n",
    "    - Grouping operations into functions for repetitive usage\n",
    "- Knowledge:\n",
    "    - Introduction to LU factorization"
   ]
  },
  {
   "cell_type": "markdown",
   "id": "52b2106d",
   "metadata": {},
   "source": [
    "### Example 1. If Statements\n",
    "\n",
    "Julia provides a variety of control flow constructs. Control flow regulates the order of statements to be executed. `if-else` is a common control flow in Julia and other programming languages, and is widely used in functions. The syntax is as follows:\n",
    "<code>\n",
    "if **condition**\n",
    "    **statement1**\n",
    "else\n",
    "    **statement2**\n",
    "end\n",
    "</code>"
   ]
  },
  {
   "cell_type": "code",
   "execution_count": 1,
   "id": "580b397c",
   "metadata": {},
   "outputs": [
    {
     "name": "stdout",
     "output_type": "stream",
     "text": [
      "x is no less than y\n"
     ]
    }
   ],
   "source": [
    "# If the condition is evaluated to be true, execute statement1, otherwise, execute statement2\n",
    "x = 1\n",
    "y = 1\n",
    "if x < y\n",
    "    println(\"x is less than y\")\n",
    "else\n",
    "    println(\"x is no less than y\")\n",
    "end"
   ]
  },
  {
   "cell_type": "markdown",
   "id": "46a0e3e8",
   "metadata": {},
   "source": [
    "More conditions can be evaluated using `if-elseif-else` control flow with multiple `elseif` keywords. The syntax is as follows:\n",
    "<code>\n",
    "if **condition1**\n",
    "    **statement1**\n",
    "elseif **condition2**\n",
    "    **statement2**\n",
    "elseif **condition3**\n",
    "    **statement3**\n",
    "...\n",
    "else **conditionN**\n",
    "    **statementN**\n",
    "end\n",
    "</code>"
   ]
  },
  {
   "cell_type": "code",
   "execution_count": 2,
   "id": "f7167c6f",
   "metadata": {},
   "outputs": [
    {
     "name": "stdout",
     "output_type": "stream",
     "text": [
      "x is equal to y\n"
     ]
    }
   ],
   "source": [
    "# More conditions can be evaluated using elseif\n",
    "x = 1\n",
    "y = 1\n",
    "if x < y\n",
    "    println(\"x is less than y\")\n",
    "elseif x > y\n",
    "    println(\"x is greater than y\")\n",
    "else\n",
    "    println(\"x is equal to y\")\n",
    "end"
   ]
  },
  {
   "cell_type": "markdown",
   "id": "1825af8b",
   "metadata": {},
   "source": [
    "### [To read on your own]\n",
    "A simple `if-else` control flow can also be replaced by an inline `?:` ternary operator for convenience. The syntax is as follows:\n",
    "\n",
    "<code>**condition** ? **statement1** : **statement2**</code>"
   ]
  },
  {
   "cell_type": "code",
   "execution_count": 3,
   "id": "a5972c3d",
   "metadata": {},
   "outputs": [
    {
     "name": "stdout",
     "output_type": "stream",
     "text": [
      "x is no less than y\n"
     ]
    }
   ],
   "source": [
    "# If the condition is evaluated to be true, execute statement1, otherwise, execute statement2\n",
    "x = 1\n",
    "y = 1\n",
    "x < y ? println(\"x is less than y\") : println(\"x is no less than y\")"
   ]
  },
  {
   "cell_type": "markdown",
   "id": "301d20b6",
   "metadata": {},
   "source": [
    "### [Back to the lecture]\n",
    "For more complex conditions, a nested-`if` statement can be used to split the conditions, e.g.:"
   ]
  },
  {
   "cell_type": "code",
   "execution_count": 4,
   "id": "d44fcc02",
   "metadata": {},
   "outputs": [
    {
     "name": "stdout",
     "output_type": "stream",
     "text": [
      "We only know x is not less than y.\n",
      "Now we know x is equal to y.\n"
     ]
    }
   ],
   "source": [
    "# Nested-if control flow\n",
    "x = 1\n",
    "y = 1\n",
    "if x < y\n",
    "    println(\"We know x is less than y.\")\n",
    "else\n",
    "    println(\"We only know x is not less than y.\")\n",
    "    if x > y\n",
    "        println(\"Now we know x is greater than y.\")\n",
    "    else\n",
    "        println(\"Now we know x is equal to y.\")\n",
    "    end\n",
    "end"
   ]
  },
  {
   "cell_type": "markdown",
   "id": "c297b8a9",
   "metadata": {},
   "source": [
    "### Practice 1. "
   ]
  },
  {
   "cell_type": "code",
   "execution_count": 9,
   "id": "14946ec1",
   "metadata": {},
   "outputs": [
    {
     "name": "stdout",
     "output_type": "stream",
     "text": [
      "f(-3) = -1.5\n"
     ]
    },
    {
     "data": {
      "text/plain": [
       "-1.5"
      ]
     },
     "metadata": {},
     "output_type": "display_data"
    }
   ],
   "source": [
    "# Implement a function f(x) which \n",
    "#   adds one to x if x is an odd and positive number, \n",
    "#   divides x by 2 if x is odd and negative, \n",
    "#   negates x if x is even\n",
    "# x is even can be evaluated by x % 2 == 0\n",
    "function f(x)\n",
    "    # BEGIN YOUR IMPLEMENTATION\n",
    "    if x % 2 == 0\n",
    "        x = -x\n",
    "    else \n",
    "        if x > 0\n",
    "            x = x + 1\n",
    "        else\n",
    "            x = x / 2\n",
    "        end\n",
    "    end\n",
    "\n",
    "    # END YOUR IMPLEMENTATION\n",
    "    return x\n",
    "end\n",
    "\n",
    "@show f(-3)"
   ]
  },
  {
   "cell_type": "code",
   "execution_count": 10,
   "id": "7bf12440",
   "metadata": {},
   "outputs": [
    {
     "name": "stdout",
     "output_type": "stream",
     "text": [
      "all nothings means likely correct\n"
     ]
    },
    {
     "data": {
      "text/plain": [
       "1×4 Matrix{Nothing}:\n",
       " nothing  nothing  nothing  nothing"
      ]
     },
     "metadata": {},
     "output_type": "display_data"
    }
   ],
   "source": [
    "# Self-check\n",
    "println(\"all nothings means likely correct\")\n",
    "TF1 = @assert (f(-3) == -1.5)\n",
    "TF2 = @assert (f(2) == -2)\n",
    "TF3 = @assert (f(0) == 0)\n",
    "TF4 = @assert (f(3) == 4)\n",
    "[TF1 TF2 TF3 TF4]"
   ]
  },
  {
   "cell_type": "markdown",
   "id": "0d7c2e17",
   "metadata": {},
   "source": [
    "### Example 2. Introduction to Functions\n",
    "\n",
    "In Julia, functions can be defined using the `function` keyword and the `return` keyword. The default value returned by a function is the last expression executed in the body of the function definition.\n",
    "\n",
    "However, it is a GOOD PROGRAMMING PRACTICE to use `return` to specify what is being returned by the function. The function will be terminated immediately after the `return` statement is executed."
   ]
  },
  {
   "cell_type": "code",
   "execution_count": 11,
   "id": "668574d4",
   "metadata": {},
   "outputs": [
    {
     "data": {
      "text/plain": [
       "2"
      ]
     },
     "metadata": {},
     "output_type": "display_data"
    }
   ],
   "source": [
    "# Specify a returned value using the return keyword\n",
    "function f(x)\n",
    "    return x + 1\n",
    "end\n",
    "# Call a function using parentheses and argument\n",
    "f(1)"
   ]
  },
  {
   "cell_type": "markdown",
   "id": "3bfa7aa6",
   "metadata": {},
   "source": [
    "The `return` keyword can be used more than once in a function definition in conjunction with other control flow constructs, e.g.:"
   ]
  },
  {
   "cell_type": "code",
   "execution_count": 12,
   "id": "e94122ee",
   "metadata": {},
   "outputs": [
    {
     "data": {
      "text/plain": [
       "2"
      ]
     },
     "metadata": {},
     "output_type": "display_data"
    }
   ],
   "source": [
    "# Define a function returning different value on different conditions\n",
    "function abs(a)\n",
    "    if a >= 0\n",
    "        return a\n",
    "    else\n",
    "        return -a\n",
    "    end\n",
    "end\n",
    "# You can assign the returned value to a variable\n",
    "b = abs(-2)"
   ]
  },
  {
   "cell_type": "markdown",
   "id": "9e395202",
   "metadata": {},
   "source": [
    "Functions can be defined to take multiple **arguments** (inputs)."
   ]
  },
  {
   "cell_type": "code",
   "execution_count": 13,
   "id": "e16da0a3",
   "metadata": {},
   "outputs": [
    {
     "data": {
      "text/plain": [
       "2"
      ]
     },
     "metadata": {},
     "output_type": "display_data"
    }
   ],
   "source": [
    "# Define a function with multiple arguments\n",
    "function sum(a, b)\n",
    "    return a + b\n",
    "end\n",
    "sum(1, 1)"
   ]
  },
  {
   "cell_type": "markdown",
   "id": "3cb1ac2c",
   "metadata": {},
   "source": [
    "### [To read on your own]\n",
    "Some arguments of a function can be defined as optional by providing a defult value., e.g.:"
   ]
  },
  {
   "cell_type": "code",
   "execution_count": 14,
   "id": "4c5b44e0",
   "metadata": {},
   "outputs": [
    {
     "name": "stdout",
     "output_type": "stream",
     "text": [
      "The robot is at position (1, 2, 0).\n"
     ]
    }
   ],
   "source": [
    "# Define a function with optional argument. Here a default value for z is given.\n",
    "# If you just call this function with two arguments, it will assume z=0.\n",
    "# You can also call it with three arguments by providing your own z value.\n",
    "function xyzpos(x, y, z=0)\n",
    "    println(\"The robot is at position ($x, $y, $z).\")\n",
    "end\n",
    "xyzpos(1, 2)"
   ]
  },
  {
   "cell_type": "markdown",
   "id": "f767f296",
   "metadata": {},
   "source": [
    "### [Back to the lecture]\n",
    "Functions can be defined to return multiple values."
   ]
  },
  {
   "cell_type": "code",
   "execution_count": 15,
   "id": "f8e08477",
   "metadata": {},
   "outputs": [
    {
     "data": {
      "text/plain": [
       "(5, 3)"
      ]
     },
     "metadata": {},
     "output_type": "display_data"
    }
   ],
   "source": [
    "# Define a function with multiple returned values\n",
    "# This function takes a vector as input, and returns the maximum value and the corresponding index\n",
    "function max(input_vector)\n",
    "    # Initialize max to the first element of the vector\n",
    "    # Then update when we find a greater element\n",
    "    maximum_value = input_vector[1]\n",
    "    maximum_index = 1\n",
    "    for i in 1:length(input_vector)\n",
    "        if input_vector[i] > maximum_value\n",
    "            maximum_value = input_vector[i]\n",
    "            maximum_index = i\n",
    "        end\n",
    "    end\n",
    "    return maximum_value, maximum_index\n",
    "end\n",
    "\n",
    "a = [0, 1, 5, 3]\n",
    "maximum_value, maximum_index = max(a)"
   ]
  },
  {
   "cell_type": "markdown",
   "id": "317a9337",
   "metadata": {},
   "source": [
    "### Practice 2.\n",
    "\n",
    "<img align=left src=\"https://miro.medium.com/max/1280/1*C7KdIsgmKq2EHFBHG1irtw.png\" width=\"500\"/>"
   ]
  },
  {
   "cell_type": "code",
   "execution_count": 17,
   "id": "4d555ca3",
   "metadata": {},
   "outputs": [
    {
     "data": {
      "text/plain": [
       "f (generic function with 1 method)"
      ]
     },
     "metadata": {},
     "output_type": "display_data"
    }
   ],
   "source": [
    "# Implement a function f() as shown in the above figure\n",
    "function f(x)\n",
    "    ### START YOUR IMPLEMENTATION\n",
    "    if x < 0\n",
    "        return 0\n",
    "    elseif x < 6\n",
    "        return x\n",
    "    else \n",
    "        return 6\n",
    "    end\n",
    "    ### END YOUR IMPLEMENTATION\n",
    "end"
   ]
  },
  {
   "cell_type": "code",
   "execution_count": 18,
   "id": "e8b66f59",
   "metadata": {},
   "outputs": [
    {
     "name": "stdout",
     "output_type": "stream",
     "text": [
      "all nothings means likely correct\n"
     ]
    },
    {
     "data": {
      "text/plain": [
       "1×4 Matrix{Nothing}:\n",
       " nothing  nothing  nothing  nothing"
      ]
     },
     "metadata": {},
     "output_type": "display_data"
    }
   ],
   "source": [
    "# Self-check\n",
    "println(\"all nothings means likely correct\")\n",
    "TF1 = @assert(f(1.3) == 1.3)\n",
    "TF2 = @assert(f(6) == 6)\n",
    "TF3 = @assert(f(-10) == 0)\n",
    "TF4 = @assert(f(100) == 6)\n",
    "[TF1 TF2 TF3 TF4]"
   ]
  },
  {
   "cell_type": "markdown",
   "id": "232ec2cd",
   "metadata": {},
   "source": [
    "### [To read on your own] Below is a function that you will want to have. It is based on JuliaHW4.\n",
    "### Suggestion: build on your own function called backwardsub(U, b)"
   ]
  },
  {
   "cell_type": "code",
   "execution_count": 19,
   "id": "a0fa6d0f",
   "metadata": {},
   "outputs": [
    {
     "data": {
      "text/plain": [
       "forwardsub (generic function with 1 method)"
      ]
     },
     "metadata": {},
     "output_type": "display_data"
    }
   ],
   "source": [
    "using LinearAlgebra\n",
    "function forwardsub(L, b)\n",
    "    # Assert no entries in the diagonal of U\n",
    "    # are 0 (or very close to 0)\n",
    "    @assert minimum(abs.(diag(L))) > 1e-6\n",
    "    # START of our computations\n",
    "    n = length(b)\n",
    "    x = Vector{Float64}(undef, n); #initialize an x vector of the correct size\n",
    "    x[1] = b[1]/L[1,1] #find the first entry of x\n",
    "    for i = 2:n #find every entry from the 2nd to the end\n",
    "        x[i]=(b[i]- (L[i,1:i-1])' *x[1:i-1] )./L[i,i] \n",
    "        #notice that we used a transpose operator to get the row of L\n",
    "    end\n",
    "    # END of our computations. \n",
    "    return x\n",
    "end"
   ]
  },
  {
   "cell_type": "code",
   "execution_count": 20,
   "id": "62c24d4f",
   "metadata": {},
   "outputs": [
    {
     "data": {
      "text/plain": [
       "10-element Vector{Float64}:\n",
       "      1.249603441094941\n",
       "      3.60776161854255\n",
       "     -4.7574170709020605\n",
       "    -27.128392070566274\n",
       "      8.878964666373436\n",
       "   -206.06378551142276\n",
       "    802.4598271525821\n",
       "   1840.763377053363\n",
       " -18004.877212483552\n",
       "  -1545.383020802248"
      ]
     },
     "metadata": {},
     "output_type": "display_data"
    }
   ],
   "source": [
    "# Let's use our code function \n",
    "using Random\n",
    "Random.seed!(09182021)\n",
    "N=10\n",
    "# Try N = 100 or 1000\n",
    "L=randn(N,N)\n",
    "# Make entries above the diagonal zero\n",
    "for i=1:N\n",
    "    for j=i+1:N\n",
    "        L[i,j]=0.0\n",
    "    end\n",
    "end\n",
    "b=randn(N,1)\n",
    "\n",
    "## Solve Lx = b\n",
    "x = forwardsub(L, b)"
   ]
  },
  {
   "cell_type": "markdown",
   "id": "07d2bc0c",
   "metadata": {},
   "source": [
    "### Example 3. Peeling the Onion\n",
    "\n",
    "Given a generic square matrix, can we factor it as the product of a lower-triangular matrix and an upper-triangular matrix?\n",
    "\n",
    "As introduced in the textbook, we can do this by <span style=\"color:red\">**peeling the onion**</span>: **working from the top left corner and working down the diagonal, it successively eliminates columns and rows from a matrix!**\n",
    "\n",
    "This example will teach you how to use a function to solve the problem more easily.\n",
    "\n",
    "<img align=\"left\" src=\"https://content.presentermedia.com/content/animsp/00021000/21530/onion_layers_300_wht.gif\"/>"
   ]
  },
  {
   "cell_type": "code",
   "execution_count": 21,
   "id": "b14f175b",
   "metadata": {},
   "outputs": [
    {
     "data": {
      "text/plain": [
       "5×5 Matrix{Float64}:\n",
       "  0.445483  -0.58363     0.0510714   1.41242    0.58848\n",
       "  0.379078  -0.742294   -0.515765   -1.45693   -0.132947\n",
       "  1.01567   -0.030604    0.095956   -1.16411    0.482316\n",
       "  1.7163    -0.0245906   1.08093    -1.35588    0.614603\n",
       " -1.30546   -0.949575   -0.710368    0.198131  -0.504122"
      ]
     },
     "metadata": {},
     "output_type": "display_data"
    }
   ],
   "source": [
    "using Random\n",
    "using LinearAlgebra\n",
    "Random.seed!(09182021)\n",
    "A = randn(5, 5)"
   ]
  },
  {
   "cell_type": "code",
   "execution_count": 22,
   "id": "0fcd8fbe",
   "metadata": {},
   "outputs": [
    {
     "data": {
      "text/plain": [
       "peel_one_layer (generic function with 1 method)"
      ]
     },
     "metadata": {},
     "output_type": "display_data"
    }
   ],
   "source": [
    "function peel_one_layer(Temp, k)\n",
    "    # We boldly assume pivot is never zero\n",
    "    # A good programmer would use an if statement to \n",
    "    # test for pivot being almost zero\n",
    "    pivot = Temp[k, k]\n",
    "    C = Temp[:, k] / pivot\n",
    "    R = Temp[k:k, :]\n",
    "    Temp = Temp - C*R\n",
    "    return C, R, Temp\n",
    "end"
   ]
  },
  {
   "cell_type": "code",
   "execution_count": 23,
   "id": "1867294a",
   "metadata": {},
   "outputs": [
    {
     "data": {
      "text/plain": [
       "5×5 Matrix{Float64}:\n",
       " 0.0   0.0        0.0         0.0       0.0\n",
       " 0.0  -0.245661  -0.559224   -2.65881  -0.633707\n",
       " 0.0   1.30003   -0.0204827  -4.38431  -0.859372\n",
       " 0.0   2.22394    0.884164   -6.79745  -1.65262\n",
       " 0.0  -2.65986   -0.560707    4.33712   1.22038"
      ]
     },
     "metadata": {},
     "output_type": "display_data"
    }
   ],
   "source": [
    "# Exercise 1\n",
    "# Remove 1st row and column of A\n",
    "(C, R, PeeledMatrix) = peel_one_layer(A, 1)\n",
    "PeeledMatrix"
   ]
  },
  {
   "cell_type": "code",
   "execution_count": 24,
   "id": "1b5bae9c",
   "metadata": {},
   "outputs": [
    {
     "data": {
      "text/plain": [
       "5×5 Matrix{Float64}:\n",
       " -0.0950926  -0.567342  0.0   2.032     0.331773\n",
       "  5.8383     -0.906791  0.0  -7.71405   2.45951\n",
       "  0.0         0.0       0.0   0.0       0.0\n",
       " -9.72497     0.320157  0.0  11.7576   -4.81859\n",
       "  6.21357    -1.17614   0.0  -8.41985   3.06649"
      ]
     },
     "metadata": {},
     "output_type": "display_data"
    }
   ],
   "source": [
    "# Exercise 2\n",
    "# Just for fun, remove thrid row and column of the orignal A matrix\n",
    "# This is not super useful, but it shows that you can remove any column-row pair.\n",
    "# To make LU work, you have to remove the column-row pairs in the correct order\n",
    "(C, R, PeeledMatrix) = peel_one_layer(A, 3)\n",
    "PeeledMatrix"
   ]
  },
  {
   "cell_type": "code",
   "execution_count": 25,
   "id": "b56c948b",
   "metadata": {},
   "outputs": [],
   "source": [
    "Temp = copy(A) # Initialize Temp matrix by copying the original matrix A\n",
    "nRows, nCols = size(Temp) # Get the size of the input matrix\n",
    "\n",
    "# Initialize the lower and upper triangular matrices L and U to zero\n",
    "# We show two different ways to accomplish this\n",
    "L = zeros(Float64, (nRows, nCols)) # Using zeros function by specifying the type and size\n",
    "U = zero(Temp) # Or using the zero function by providing a 'similar' matrix (means same size)\n",
    "\n",
    "# Successively peel away columns and rows from Temp\n",
    "for k = 1 : nRows\n",
    "    C, R, Temp = peel_one_layer(Temp, k)\n",
    "    L[:, k] = C\n",
    "    U[k:k, :] = R\n",
    "end"
   ]
  },
  {
   "cell_type": "code",
   "execution_count": 26,
   "id": "edd54c4d",
   "metadata": {},
   "outputs": [
    {
     "data": {
      "text/plain": [
       "5×5 Matrix{Float64}:\n",
       "  1.0       -0.0      -0.0      -0.0       0.0\n",
       "  0.850938   1.0      -0.0      -0.0       0.0\n",
       "  2.27992   -5.29196   1.0      -0.0       0.0\n",
       "  3.85267   -9.0529    1.40222   1.0       0.0\n",
       " -2.93043   10.8274   -1.84378   0.180593  1.0"
      ]
     },
     "metadata": {},
     "output_type": "display_data"
    }
   ],
   "source": [
    "L"
   ]
  },
  {
   "cell_type": "code",
   "execution_count": 27,
   "id": "5dcba509",
   "metadata": {},
   "outputs": [
    {
     "data": {
      "text/plain": [
       "5×5 Matrix{Float64}:\n",
       " 0.445483  -0.58363    0.0510714    1.41242   0.58848\n",
       " 0.0       -0.245661  -0.559224    -2.65881  -0.633707\n",
       " 0.0        0.0       -2.97987    -18.4546   -4.21292\n",
       " 0.0        0.0        0.0         -4.98997  -1.48206\n",
       " 0.0        0.0        0.0          0.0       0.58172"
      ]
     },
     "metadata": {},
     "output_type": "display_data"
    }
   ],
   "source": [
    "U"
   ]
  },
  {
   "cell_type": "code",
   "execution_count": 28,
   "id": "589b0d82",
   "metadata": {},
   "outputs": [
    {
     "data": {
      "text/plain": [
       "5×5 Matrix{Float64}:\n",
       " 0.0  0.0           0.0           0.0           0.0\n",
       " 0.0  0.0           0.0           0.0           2.77556e-17\n",
       " 0.0  1.42247e-16  -1.38778e-17  -4.44089e-16  -4.44089e-16\n",
       " 0.0  3.53884e-16  -2.22045e-16  -1.77636e-15   1.11022e-16\n",
       " 0.0  0.0          -2.22045e-16  -2.30371e-15   1.33227e-15"
      ]
     },
     "metadata": {},
     "output_type": "display_data"
    }
   ],
   "source": [
    "A - L*U"
   ]
  },
  {
   "cell_type": "markdown",
   "id": "23970310",
   "metadata": {},
   "source": [
    "### Practice 3."
   ]
  },
  {
   "cell_type": "code",
   "execution_count": null,
   "id": "4e83eee1",
   "metadata": {},
   "outputs": [
    {
     "ename": "UndefVarError",
     "evalue": "UndefVarError: `backwardsub` not defined in `Main`\nSuggestion: check for spelling errors or missing imports.",
     "output_type": "error",
     "traceback": [
      "UndefVarError: `backwardsub` not defined in `Main`\n",
      "Suggestion: check for spelling errors or missing imports.\n",
      "\n",
      "Stacktrace:\n",
      " [1] top-level scope\n",
      "   @ ~/Documents/GitHub/ROB101/Fall 2021/Labs/jl_notebook_cell_df34fa98e69747e1a8f8a730347b8e2f_X54sZmlsZQ==.jl:10"
     ]
    }
   ],
   "source": [
    "# Using Julia built-in function lu() for LU decomposition and solve Ax=b\n",
    "using Random\n",
    "using LinearAlgebra\n",
    "Random.seed!(123456)\n",
    "b = randn(5, 1)\n",
    "\n",
    "### START YOUR IMPLEMENTATION\n",
    "\n",
    "### END YOUR IMPLEMENTATION\n",
    "y = forwardsub(L, b)\n",
    "x = backwardsub(U, y)"
   ]
  },
  {
   "cell_type": "code",
   "execution_count": null,
   "id": "d16cffdf",
   "metadata": {},
   "outputs": [],
   "source": [
    "# Self-check\n",
    "invSol = inv(A) * b\n",
    "print(@assert isapprox(invSol, x))"
   ]
  },
  {
   "cell_type": "markdown",
   "id": "33e506ac",
   "metadata": {},
   "source": [
    "### Something for Fun: Plot a Clock!\n",
    "\n",
    "<img align=left src=\"https://c.tenor.com/mFAI-RYiVAQAAAAC/anime-wow.gif\" width=\"300\" />"
   ]
  },
  {
   "cell_type": "code",
   "execution_count": 30,
   "id": "3b390c01",
   "metadata": {},
   "outputs": [
    {
     "data": {
      "text/plain": [
       "plot_current_time (generic function with 1 method)"
      ]
     },
     "metadata": {},
     "output_type": "display_data"
    }
   ],
   "source": [
    "using Dates\n",
    "using Plots\n",
    "function plot_current_time()\n",
    "    th = 0:0.1:2*pi\n",
    "    X = cos.(th)\n",
    "    Y = sin.(th)\n",
    "    plt = plot(X, Y, aspect_ratio=1, axis=([], false), legend=false)\n",
    "    add_numbers(plt)\n",
    "    t = Dates.now()\n",
    "    th_h = -((Dates.hour(t) - 4) % 12 / 12 * 2*pi - pi/2)\n",
    "    plot!(plt, [0, 0.6*cos(th_h)], [0, 0.6*sin(th_h)], arrow=true)\n",
    "    th_m = -(Dates.minute(t) / 60 * 2*pi - pi/2)\n",
    "    plot!(plt, [0, 0.8*cos(th_m)], [0, 0.8*sin(th_m)], arrow=true)\n",
    "    th_s = -(Dates.second(t) / 60 * 2*pi - pi/2)\n",
    "    plot!(plt, [0, cos(th_s)], [0, sin(th_s)], arrow=true)\n",
    "end"
   ]
  },
  {
   "cell_type": "code",
   "execution_count": 31,
   "id": "7fc2aef7",
   "metadata": {},
   "outputs": [
    {
     "data": {
      "text/plain": [
       "add_numbers (generic function with 1 method)"
      ]
     },
     "metadata": {},
     "output_type": "display_data"
    }
   ],
   "source": [
    "function add_numbers(plt)\n",
    "    for n = 1:12\n",
    "        theta = -(n / 12 * 2*pi - pi/2)\n",
    "        annotate!(cos(theta), sin(theta), n)\n",
    "    end\n",
    "end"
   ]
  },
  {
   "cell_type": "code",
   "execution_count": 32,
   "id": "4b612f0e",
   "metadata": {},
   "outputs": [
    {
     "name": "stderr",
     "output_type": "stream",
     "text": [
      "┌ Info: Saved animation to /Users/nathantattrie/Documents/GitHub/ROB101/Fall 2021/Labs/clock.gif\n",
      "└ @ Plots /Users/nathantattrie/.julia/packages/Plots/Ec1L1/src/animation.jl:156\n"
     ]
    },
    {
     "data": {
      "text/html": [
       "<img src=\"data:image/gif;base64,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\" />"
      ],
      "text/plain": [
       "Plots.AnimatedGif(\"/Users/nathantattrie/Documents/GitHub/ROB101/Fall 2021/Labs/clock.gif\")"
      ]
     },
     "metadata": {},
     "output_type": "display_data"
    }
   ],
   "source": [
    "anim = @animate for i in 1:1000\n",
    "    plot_current_time()\n",
    "end\n",
    "gif(anim, \"clock.gif\", fps=30)"
   ]
  }
 ],
 "metadata": {
  "kernelspec": {
   "display_name": "Julia 1.11.1",
   "language": "julia",
   "name": "julia-1.11"
  },
  "language_info": {
   "file_extension": ".jl",
   "mimetype": "application/julia",
   "name": "julia",
   "version": "1.11.1"
  }
 },
 "nbformat": 4,
 "nbformat_minor": 5
}
