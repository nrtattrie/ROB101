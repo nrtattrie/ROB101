{
 "cells": [
  {
   "cell_type": "markdown",
   "id": "ff771ab6-d664-4278-a9ef-8dc5a1913848",
   "metadata": {},
   "source": [
    "University of Michigan - ROB 101 Computational Linear Algebra"
   ]
  },
  {
   "cell_type": "markdown",
   "id": "b607b60b-8b7a-4303-8b91-7dc80f12c591",
   "metadata": {},
   "source": [
    "# Lab 2: Vectors, Matrices and Systems of Linear Equations\n",
    "\n",
    "### Welcome to the world of Julia!"
   ]
  },
  {
   "cell_type": "markdown",
   "id": "bc44fd14-b2c8-4b36-a5eb-4268d945f3e4",
   "metadata": {},
   "source": [
    "### Vectors and Matrices\n",
    "\n",
    "Vectors and matrices are extensively used in this course. In Julia, vectors are a specific kind of matrix. For instance, a column vector is a matrix that only has one collumn. Let's first learn how to create a vector in Julia."
   ]
  },
  {
   "cell_type": "markdown",
   "id": "ecaf50e7-07ae-423e-8220-91017b6356af",
   "metadata": {},
   "source": [
    "### Example 1. (Review on your own) Create Vectors and Matrices"
   ]
  },
  {
   "cell_type": "code",
   "execution_count": 1,
   "id": "0494b906-1002-47bf-a582-9a320e1e5cf8",
   "metadata": {},
   "outputs": [
    {
     "data": {
      "text/plain": [
       "1×5 Matrix{Int64}:\n",
       " 1  3  5  7  9"
      ]
     },
     "metadata": {},
     "output_type": "display_data"
    }
   ],
   "source": [
    "# Create a row vector of all odd numbers from 0 to 9 \n",
    "row_vec = [1 3 5 7 9]\n",
    "# Note: the numbers in a row vector should be included in '[]' and seperated by spaces"
   ]
  },
  {
   "cell_type": "code",
   "execution_count": 2,
   "id": "1f4aba5c-54bf-4507-9d3c-2d80b76e5279",
   "metadata": {},
   "outputs": [
    {
     "data": {
      "text/plain": [
       "5-element Vector{Int64}:\n",
       " 0\n",
       " 2\n",
       " 4\n",
       " 6\n",
       " 8"
      ]
     },
     "metadata": {},
     "output_type": "display_data"
    }
   ],
   "source": [
    "# Create a column vector of all even numbers from 0 to 9\n",
    "col_vec = [0; 2; 4; 6; 8]\n",
    "# Note: the numbers in a column vector should be seperated by ';'"
   ]
  },
  {
   "cell_type": "markdown",
   "id": "9de2f0a7-aa43-4b7b-b61d-851b4a73e107",
   "metadata": {},
   "source": [
    "We created row and column vectors of integers. Let's create vector of real numbers."
   ]
  },
  {
   "cell_type": "code",
   "execution_count": 3,
   "id": "d7701fb4-ed02-453d-9e3c-8d85f9c6e725",
   "metadata": {},
   "outputs": [
    {
     "data": {
      "text/plain": [
       "3-element Vector{Float64}:\n",
       " 1.2\n",
       " 2.4\n",
       " 4.8"
      ]
     },
     "metadata": {},
     "output_type": "display_data"
    }
   ],
   "source": [
    "# Create a column vector which has 1.2, 2.4, and 4.8\n",
    "real_vec = [1.2; 2.4; 4.8]\n",
    "# Note: Float64 is a primitive data type in Julia for real numbers (floating-point values).\n",
    "# Int64 shown in previous cells is the type for integers. You don't need to worry about other types for now."
   ]
  },
  {
   "cell_type": "markdown",
   "id": "af599d28-d630-4bf3-8283-1fb6ca40eed1",
   "metadata": {},
   "source": [
    "We learned the syntax for creating vectors. Creating a matrix is as easy as creating multiple row vectors and using `;` to seperate each row. Make sure the number of entries in each row is the same, otherwise you will get an error."
   ]
  },
  {
   "cell_type": "code",
   "execution_count": 4,
   "id": "1f16a22c-bb1e-4a6c-a44c-5be8ea6f262e",
   "metadata": {},
   "outputs": [
    {
     "data": {
      "text/plain": [
       "2×5 Matrix{Int64}:\n",
       " 1  3  5  7  9\n",
       " 0  2  4  6  8"
      ]
     },
     "metadata": {},
     "output_type": "display_data"
    }
   ],
   "source": [
    "# Create a 2-by-5 matrix where the 1st row are odd numbers and the 2nd row are even numbers from 0 to 9\n",
    "A = [1 3 5 7 9; 0 2 4 6 8]"
   ]
  },
  {
   "cell_type": "markdown",
   "id": "bd54986f-3f2e-4e4a-a3dc-c35de4359601",
   "metadata": {},
   "source": [
    "### Practice 1."
   ]
  },
  {
   "cell_type": "code",
   "execution_count": 6,
   "id": "1d3e192e-687d-4ecc-8be5-8b26f7d94a83",
   "metadata": {
    "deletable": false,
    "nbgrader": {
     "cell_type": "code",
     "checksum": "e2e903f2239152dcf30b55e1b1aa34b5",
     "grade": false,
     "grade_id": "cell-637e6ccb9572e1c4",
     "locked": false,
     "schema_version": 3,
     "solution": true,
     "task": false
    }
   },
   "outputs": [
    {
     "data": {
      "text/plain": [
       "5-element Vector{Float64}:\n",
       "  0.0\n",
       "  0.0\n",
       " -1.5\n",
       "  0.0\n",
       "  0.0"
      ]
     },
     "metadata": {},
     "output_type": "display_data"
    }
   ],
   "source": [
    "# Create a column vector (called almost_zero_vec) of 5 entries: the 3rd entry is -1.5, and others are zeros\n",
    "almost_zero_vec = [0, 0, -1.5, 0, 0]\n",
    "# your code here\n",
    "#throw(ErrorException())"
   ]
  },
  {
   "cell_type": "code",
   "execution_count": 7,
   "id": "b63b138e-fa5e-426f-8ee7-d7a4879f6df2",
   "metadata": {},
   "outputs": [
    {
     "name": "stdout",
     "output_type": "stream",
     "text": [
      "all nothings means likely correct\n"
     ]
    },
    {
     "data": {
      "text/plain": [
       "1×3 Matrix{Nothing}:\n",
       " nothing  nothing  nothing"
      ]
     },
     "metadata": {},
     "output_type": "display_data"
    }
   ],
   "source": [
    "# Autograder cell\n",
    "using LinearAlgebra\n",
    "test1 = norm(almost_zero_vec)\n",
    "test2 = sum(abs.(almost_zero_vec[1:2]))\n",
    "test3 = size(almost_zero_vec)[1]\n",
    "println(\"all nothings means likely correct\")\n",
    "TF1 = @assert test1 == 1.5\n",
    "TF2 = @assert test2 == 0.0\n",
    "TF3 = @assert test3 == 5\n",
    "[TF1 TF2 TF3]"
   ]
  },
  {
   "cell_type": "code",
   "execution_count": 8,
   "id": "46bd8f89",
   "metadata": {
    "deletable": false,
    "editable": false,
    "nbgrader": {
     "cell_type": "code",
     "checksum": "f9a37c51fb8c313f23d92118645882ae",
     "grade": true,
     "grade_id": "cell-9c75a04cfb908a37",
     "locked": true,
     "points": 2,
     "schema_version": 3,
     "solution": false,
     "task": false
    }
   },
   "outputs": [],
   "source": [
    "# Autograder cell"
   ]
  },
  {
   "cell_type": "code",
   "execution_count": 10,
   "id": "2b340732-e878-4d44-9908-c46c891462b6",
   "metadata": {
    "deletable": false,
    "nbgrader": {
     "cell_type": "code",
     "checksum": "29455d1a944bdf4971b9d16eaace588d",
     "grade": false,
     "grade_id": "cell-bba15ab7f8fc341b",
     "locked": false,
     "schema_version": 3,
     "solution": true,
     "task": false
    }
   },
   "outputs": [
    {
     "data": {
      "text/plain": [
       "3×4 Matrix{Int64}:\n",
       " 0  0  0  0\n",
       " 0  0  0  0\n",
       " 0  0  0  0"
      ]
     },
     "metadata": {},
     "output_type": "display_data"
    }
   ],
   "source": [
    "# Create a 3-by-4 matrix called zero_matrix with all zeros\n",
    "zero_matrix = [0 0 0 0; 0 0 0 0; 0 0 0 0]\n",
    "# your code here\n",
    "#throw(ErrorException())"
   ]
  },
  {
   "cell_type": "code",
   "execution_count": 11,
   "id": "bfa25c48-7876-4895-add2-79f7dbace90e",
   "metadata": {},
   "outputs": [
    {
     "name": "stdout",
     "output_type": "stream",
     "text": [
      "all nothings means likely correct\n"
     ]
    },
    {
     "data": {
      "text/plain": [
       "1×3 Matrix{Nothing}:\n",
       " nothing  nothing  nothing"
      ]
     },
     "metadata": {},
     "output_type": "display_data"
    }
   ],
   "source": [
    "# Autograder cell\n",
    "using LinearAlgebra\n",
    "test1 = sum(zero_matrix)\n",
    "test2 = size(zero_matrix)[1]\n",
    "test3 = size(zero_matrix)[2]\n",
    "println(\"all nothings means likely correct\")\n",
    "TF1 = @assert test1 == 0\n",
    "TF2 = @assert test2 == 3\n",
    "TF3 = @assert test3 == 4\n",
    "[TF1 TF2 TF3]"
   ]
  },
  {
   "cell_type": "code",
   "execution_count": 12,
   "id": "4480caf9",
   "metadata": {
    "deletable": false,
    "editable": false,
    "nbgrader": {
     "cell_type": "code",
     "checksum": "2266e86eeca11666241ac2a8709ff5f6",
     "grade": true,
     "grade_id": "cell-68930aa21b7d4919",
     "locked": true,
     "points": 2,
     "schema_version": 3,
     "solution": false,
     "task": false
    }
   },
   "outputs": [],
   "source": [
    "# Autograder cell"
   ]
  },
  {
   "cell_type": "markdown",
   "id": "f84df465-1f99-4564-b244-afbe1eb9b46f",
   "metadata": {},
   "source": [
    "There are other convenient ways to create a vector/matrix with all zeros or the same numbers by using built-in functions (We will discuss more about functions in Lab4)."
   ]
  },
  {
   "cell_type": "code",
   "execution_count": 13,
   "id": "2528ce44-be87-4803-86f3-bbb11c7ed86f",
   "metadata": {},
   "outputs": [
    {
     "data": {
      "text/plain": [
       "3×4 Matrix{Float64}:\n",
       " 2.0  2.0  2.0  2.0\n",
       " 2.0  2.0  2.0  2.0\n",
       " 2.0  2.0  2.0  2.0"
      ]
     },
     "metadata": {},
     "output_type": "display_data"
    }
   ],
   "source": [
    "# Create a 3-by-4 matrix called two_matrix with all twos\n",
    "two_matrix = ones(3, 4) .+ 1\n",
    "# Note: ones() is a function returning a vector/matrix with all one, 3 and 4 specify the size, specifically, \n",
    "# 3 is the number of rows and 4 is the number of columns"
   ]
  },
  {
   "cell_type": "markdown",
   "id": "03c126d7-b2f2-4af7-b0a4-4e03de7f5687",
   "metadata": {},
   "source": [
    "We can also create a random vector/matrix by using functions in the Random pacakge."
   ]
  },
  {
   "cell_type": "code",
   "execution_count": 14,
   "id": "5fb4e29a-0f30-4098-800f-2a1157d9f2ef",
   "metadata": {},
   "outputs": [
    {
     "data": {
      "text/plain": [
       "3×4 Matrix{Float64}:\n",
       " 0.579862  0.0149088  0.839622  0.946453\n",
       " 0.411294  0.520355   0.967143  0.574323\n",
       " 0.972136  0.639562   0.131026  0.67765"
      ]
     },
     "metadata": {},
     "output_type": "display_data"
    }
   ],
   "source": [
    "# Create a 3-by-4 matrix called rand_matrix with random numbers\n",
    "using Random # Using an external pacakge called Random which provides functions\n",
    "Random.seed!(1234) # Set the seed so that each of you get the same results. \n",
    "rand_matrix = rand(3, 4)"
   ]
  },
  {
   "cell_type": "markdown",
   "id": "8516b8de-403f-4678-8aa1-235979be21c3",
   "metadata": {},
   "source": [
    "### Example 2. (We will start here) Vector and Matrix Indexing\n",
    "\n",
    "Indexing is used to select entries in vectors and matrices. Julia uses **1-based indexing** which means that the index starts at 1. Be aware that there is also 0-based indexing in some other programming languages, such as C++."
   ]
  },
  {
   "cell_type": "code",
   "execution_count": 15,
   "id": "e67f5af7",
   "metadata": {},
   "outputs": [
    {
     "data": {
      "text/plain": [
       "3×4 Matrix{Float64}:\n",
       " 0.579862  0.0149088  0.839622  0.946453\n",
       " 0.411294  0.520355   0.967143  0.574323\n",
       " 0.972136  0.639562   0.131026  0.67765"
      ]
     },
     "metadata": {},
     "output_type": "display_data"
    }
   ],
   "source": [
    "# We define some vectors and matrices\n",
    "row_vec = [1 3 5 7 9]\n",
    "almost_zero_vec=[0; 0; -pi; 0; 0; 0; 0]\n",
    "using Random # Using an external pacakge called Random which provides functions\n",
    "Random.seed!(1234) # Set the seed so that each of you get the same results. \n",
    "rand_matrix = rand(3, 4)"
   ]
  },
  {
   "cell_type": "code",
   "execution_count": 16,
   "id": "f87cb597-1469-4526-8d04-5dea2eabfc63",
   "metadata": {},
   "outputs": [
    {
     "data": {
      "text/plain": [
       "1"
      ]
     },
     "metadata": {},
     "output_type": "display_data"
    }
   ],
   "source": [
    "# Select the 1st number from a row_vector\n",
    "num = row_vec[1]"
   ]
  },
  {
   "cell_type": "code",
   "execution_count": 17,
   "id": "5a574c5c-d9f2-4bc8-a6b3-7aa2b9cb3987",
   "metadata": {},
   "outputs": [
    {
     "data": {
      "text/plain": [
       "-3.141592653589793"
      ]
     },
     "metadata": {},
     "output_type": "display_data"
    }
   ],
   "source": [
    "# Select the non-zero number from our previous almost_zero_vec\n",
    "num = almost_zero_vec[3]\n",
    "# Note: because a vector has only one dimension, only one index is needed and it corresponds to \n",
    "# the location where the number is stored"
   ]
  },
  {
   "cell_type": "code",
   "execution_count": 25,
   "id": "b5a3ba84-fb03-48b1-8854-c35225731b09",
   "metadata": {},
   "outputs": [
    {
     "data": {
      "text/plain": [
       "0.014908849285099945"
      ]
     },
     "metadata": {},
     "output_type": "display_data"
    }
   ],
   "source": [
    "# Select the entry in the 1st row and 2nd column of rand_matrix\n",
    "num = rand_matrix[1,2]\n",
    "# Note: 1 is the index for the row, and 2 is the index for the column"
   ]
  },
  {
   "cell_type": "markdown",
   "id": "eb29793a-c160-4dc5-b16d-6a6cee1b408f",
   "metadata": {},
   "source": [
    "We learned how to select one entry from vectors and matrices. We can also select the whole row or column from a matrix, which will be a vector."
   ]
  },
  {
   "cell_type": "code",
   "execution_count": 26,
   "id": "8c7fe81e-95dd-44af-9323-0d45b388bf70",
   "metadata": {},
   "outputs": [
    {
     "data": {
      "text/plain": [
       "3-element Vector{Float64}:\n",
       " 0.9464532262313834\n",
       " 0.5743234852783174\n",
       " 0.6776499075995779"
      ]
     },
     "metadata": {},
     "output_type": "display_data"
    }
   ],
   "source": [
    "# Select the 4th column of rand_matrix\n",
    "vect = rand_matrix[:, 4]\n",
    "# Note: when we want to select the whole column, we use `:` as the index for row, and vice versa."
   ]
  },
  {
   "cell_type": "code",
   "execution_count": 27,
   "id": "93e4f874-6528-4557-b4b3-db7a00f85d81",
   "metadata": {},
   "outputs": [
    {
     "data": {
      "text/plain": [
       "4-element Vector{Float64}:\n",
       " 0.5798621201341324\n",
       " 0.014908849285099945\n",
       " 0.8396219340580711\n",
       " 0.9464532262313834"
      ]
     },
     "metadata": {},
     "output_type": "display_data"
    }
   ],
   "source": [
    "# Select the 1st row of rand_matrix\n",
    "vect = rand_matrix[1, :]"
   ]
  },
  {
   "cell_type": "markdown",
   "id": "d77a1ff8-b69d-4e2f-9655-296b5b0d125a",
   "metadata": {},
   "source": [
    "As you might notice, we did select the 1st row of the matrix. **However, Julia returned to us a column vector.** What if we want a row vector?"
   ]
  },
  {
   "cell_type": "code",
   "execution_count": 30,
   "id": "bb5ed287-bf86-46a1-a141-a673a7d9b2ee",
   "metadata": {},
   "outputs": [
    {
     "data": {
      "text/plain": [
       "1×4 Matrix{Float64}:\n",
       " 0.579862  0.0149088  0.839622  0.946453"
      ]
     },
     "metadata": {},
     "output_type": "display_data"
    }
   ],
   "source": [
    "# Select the 1st row of rand_matrix as a row vector\n",
    "row_vec = rand_matrix[1:1, 1:end]"
   ]
  },
  {
   "cell_type": "code",
   "execution_count": 31,
   "id": "7045fe84",
   "metadata": {},
   "outputs": [
    {
     "data": {
      "text/plain": [
       "1×4 Matrix{Float64}:\n",
       " 0.579862  0.0149088  0.839622  0.946453"
      ]
     },
     "metadata": {},
     "output_type": "display_data"
    }
   ],
   "source": [
    "# Select the 1st row of rand_matrix as a row vector\n",
    "# This will give the same result as the previous cell\n",
    "row_vec = rand_matrix[1:1, :]"
   ]
  },
  {
   "cell_type": "markdown",
   "id": "1991fe6d-86a4-4864-b6d9-63c4893661bd",
   "metadata": {},
   "source": [
    "### The indexing looks strange, doesn't it? Actually, this is what's going on: we are selecting a block of a matrix. The `1:1` means that from the 1st row to the 1st row, and `:` is short for `1:end`, where `1` and `end` are omitted for convenience."
   ]
  },
  {
   "cell_type": "code",
   "execution_count": 32,
   "id": "7c9557e4-7ba6-430a-93a8-8eb0cf3d52d9",
   "metadata": {},
   "outputs": [
    {
     "data": {
      "text/plain": [
       "4×4 Matrix{Int64}:\n",
       " 1  2  3  0\n",
       " 4  5  6  0\n",
       " 7  8  9  0\n",
       " 0  0  0  0"
      ]
     },
     "metadata": {},
     "output_type": "display_data"
    }
   ],
   "source": [
    "# Declare a matrix\n",
    "A = [1 2 3 0; 4 5 6 0; 7 8 9 0; 0 0 0 0]"
   ]
  },
  {
   "cell_type": "code",
   "execution_count": 34,
   "id": "8a1546f7-dcae-412d-a223-8b75bfa9ed1b",
   "metadata": {},
   "outputs": [
    {
     "data": {
      "text/plain": [
       "3×3 Matrix{Int64}:\n",
       " 1  2  3\n",
       " 4  5  6\n",
       " 7  8  9"
      ]
     },
     "metadata": {},
     "output_type": "display_data"
    }
   ],
   "source": [
    "# Select the block of non-zero entries of the matrix\n",
    "block = A[1:3, 1:3]"
   ]
  },
  {
   "cell_type": "code",
   "execution_count": 35,
   "id": "26dce1db-0777-4d17-b25d-ad0beea6d726",
   "metadata": {},
   "outputs": [
    {
     "data": {
      "text/plain": [
       "1×1 Matrix{Int64}:\n",
       " 5"
      ]
     },
     "metadata": {},
     "output_type": "display_data"
    }
   ],
   "source": [
    "# Select another small block of the matrix block with only entries in the middle\n",
    "small_block = block[2:2, 2:2]"
   ]
  },
  {
   "cell_type": "markdown",
   "id": "9d6e5e74-13b1-446e-8e7f-3edf8a03c54a",
   "metadata": {},
   "source": [
    "As you observe, selecting a block of a matrix will return a matrix, even though this block only has a single number! **The 1-by-1 matrix is different than a scalar.** But, we can extract the number from the 1-by-1 matrix by indexing."
   ]
  },
  {
   "cell_type": "code",
   "execution_count": 36,
   "id": "a999dbe0-6400-41b7-84d5-639d9617665a",
   "metadata": {},
   "outputs": [
    {
     "data": {
      "text/plain": [
       "5"
      ]
     },
     "metadata": {},
     "output_type": "display_data"
    }
   ],
   "source": [
    "# Extract the number in small_block\n",
    "num = small_block[1]"
   ]
  },
  {
   "cell_type": "code",
   "execution_count": 37,
   "id": "f19777f2",
   "metadata": {},
   "outputs": [
    {
     "ename": "MethodError",
     "evalue": "MethodError: no method matching /(::Irrational{:π}, ::Matrix{Int64})\nThe function `/` exists, but no method is defined for this combination of argument types.\n\nYou might have used a 2d row vector where a 1d column vector was required.\nNote the difference between 1d column vector [1,2,3] and 2d row vector [1 2 3].\nYou can convert to a column vector with the vec() function.\n\nClosest candidates are:\n  /(!Matched::Transpose{T, <:AbstractVector} where T, ::AbstractMatrix)\n   @ LinearAlgebra /Applications/Julia-1.11.app/Contents/Resources/julia/share/julia/stdlib/v1.11/LinearAlgebra/src/adjtrans.jl:504\n  /(!Matched::Adjoint{T, <:AbstractVector} where T, ::AbstractMatrix)\n   @ LinearAlgebra /Applications/Julia-1.11.app/Contents/Resources/julia/share/julia/stdlib/v1.11/LinearAlgebra/src/adjtrans.jl:503\n  /(!Matched::UniformScaling, ::AbstractMatrix)\n   @ LinearAlgebra /Applications/Julia-1.11.app/Contents/Resources/julia/share/julia/stdlib/v1.11/LinearAlgebra/src/uniformscaling.jl:267\n  ...\n",
     "output_type": "error",
     "traceback": [
      "MethodError: no method matching /(::Irrational{:π}, ::Matrix{Int64})\n",
      "The function `/` exists, but no method is defined for this combination of argument types.\n",
      "\n",
      "You might have used a 2d row vector where a 1d column vector was required.\n",
      "Note the difference between 1d column vector [1,2,3] and 2d row vector [1 2 3].\n",
      "You can convert to a column vector with the vec() function.\n",
      "\n",
      "Closest candidates are:\n",
      "  /(!Matched::Transpose{T, <:AbstractVector} where T, ::AbstractMatrix)\n",
      "   @ LinearAlgebra /Applications/Julia-1.11.app/Contents/Resources/julia/share/julia/stdlib/v1.11/LinearAlgebra/src/adjtrans.jl:504\n",
      "  /(!Matched::Adjoint{T, <:AbstractVector} where T, ::AbstractMatrix)\n",
      "   @ LinearAlgebra /Applications/Julia-1.11.app/Contents/Resources/julia/share/julia/stdlib/v1.11/LinearAlgebra/src/adjtrans.jl:503\n",
      "  /(!Matched::UniformScaling, ::AbstractMatrix)\n",
      "   @ LinearAlgebra /Applications/Julia-1.11.app/Contents/Resources/julia/share/julia/stdlib/v1.11/LinearAlgebra/src/uniformscaling.jl:267\n",
      "  ...\n",
      "\n",
      "\n",
      "Stacktrace:\n",
      " [1] top-level scope\n",
      "   @ ~/Documents!/Robotics_Curriculum/rob101/Fall 2021/Labs/jl_notebook_cell_df34fa98e69747e1a8f8a730347b8e2f_X53sZmlsZQ==.jl:2"
     ]
    }
   ],
   "source": [
    "# Let's compare\n",
    "pi/small_block"
   ]
  },
  {
   "cell_type": "code",
   "execution_count": 38,
   "id": "1712b281",
   "metadata": {},
   "outputs": [
    {
     "data": {
      "text/plain": [
       "0.6283185307179586"
      ]
     },
     "metadata": {},
     "output_type": "display_data"
    }
   ],
   "source": [
    "# Versus\n",
    "pi/small_block[1]"
   ]
  },
  {
   "cell_type": "markdown",
   "id": "e7a88651-ac5b-41cf-83d6-55b494ccd20f",
   "metadata": {},
   "source": [
    "When we index as 'rand_matrix[n:m,p:q]' we will get a block matrix. Going back to our previous example, `row_vec = rand_matrix[1:1, 1:end]`, the returned block was a matrix with all selected numbers in order. That's why `row_vec = rand_matrix[1:1, 1:end]` returns a 1-by-4 matrix, i.e., a row vector!\n",
    "\n",
    "In addition, we can also use **matrix transpose operator** `'` to get a row vector when we select a row of a matrix."
   ]
  },
  {
   "cell_type": "code",
   "execution_count": 40,
   "id": "cca48f19-684d-45c2-bd30-f0549e3b67ed",
   "metadata": {},
   "outputs": [
    {
     "data": {
      "text/plain": [
       "1×5 adjoint(::Vector{Int64}) with eltype Int64:\n",
       " 0  2  4  6  8"
      ]
     },
     "metadata": {},
     "output_type": "display_data"
    }
   ],
   "source": [
    "# Transpose the col_vec to get a row vector\n",
    "col_vec_trans = col_vec'"
   ]
  },
  {
   "cell_type": "code",
   "execution_count": 41,
   "id": "ada166e7-61fe-48d4-bb67-cdf0b1bb4859",
   "metadata": {},
   "outputs": [
    {
     "data": {
      "text/plain": [
       "1×4 adjoint(::Vector{Float64}) with eltype Float64:\n",
       " 0.579862  0.0149088  0.839622  0.946453"
      ]
     },
     "metadata": {},
     "output_type": "display_data"
    }
   ],
   "source": [
    "# Select the 1st row of rand_matrix as a row vector\n",
    "row_vec = rand_matrix[1, 1:end]'"
   ]
  },
  {
   "cell_type": "markdown",
   "id": "3468746c-fe12-42e2-955f-408f39e24ae0",
   "metadata": {},
   "source": [
    "### Practice 2."
   ]
  },
  {
   "cell_type": "code",
   "execution_count": 42,
   "id": "64d01222",
   "metadata": {},
   "outputs": [
    {
     "data": {
      "text/plain": [
       "3×4 Matrix{Float64}:\n",
       " 0.579862  0.0149088  0.839622  0.946453\n",
       " 0.411294  0.520355   0.967143  0.574323\n",
       " 0.972136  0.639562   0.131026  0.67765"
      ]
     },
     "metadata": {},
     "output_type": "display_data"
    }
   ],
   "source": [
    "# Let's recall what we placed into rand_matrix\n",
    "rand_matrix"
   ]
  },
  {
   "cell_type": "code",
   "execution_count": 45,
   "id": "0d588d1e-224a-4813-b644-8077fec6811a",
   "metadata": {
    "deletable": false,
    "nbgrader": {
     "cell_type": "code",
     "checksum": "e3737d0804ffc20d485549035481e2c3",
     "grade": false,
     "grade_id": "cell-1fbe846131f0aead",
     "locked": false,
     "schema_version": 3,
     "solution": true,
     "task": false
    }
   },
   "outputs": [
    {
     "data": {
      "text/plain": [
       "0.014908849285099945"
      ]
     },
     "metadata": {},
     "output_type": "display_data"
    }
   ],
   "source": [
    "# Select the smallest number of rand_matrix and call it small_num\n",
    "small_num = rand_matrix[1,2]\n",
    "# your code here"
   ]
  },
  {
   "cell_type": "code",
   "execution_count": 46,
   "id": "66a0f5a3-332f-4cc3-9c3e-f6726a447d65",
   "metadata": {},
   "outputs": [
    {
     "name": "stdout",
     "output_type": "stream",
     "text": [
      "all nothings means likely correct\n"
     ]
    },
    {
     "data": {
      "text/plain": [
       "1×2 Matrix{Nothing}:\n",
       " nothing  nothing"
      ]
     },
     "metadata": {},
     "output_type": "display_data"
    }
   ],
   "source": [
    "# Autograder cell\n",
    "println(\"all nothings means likely correct\")\n",
    "TF1 = @assert small_num < 0.02\n",
    "TF2 = @assert small_num > 0.01\n",
    "[TF1 TF2]"
   ]
  },
  {
   "cell_type": "code",
   "execution_count": 47,
   "id": "020e5dae",
   "metadata": {
    "deletable": false,
    "editable": false,
    "nbgrader": {
     "cell_type": "code",
     "checksum": "429c2d598986bd35209cc3b55789f178",
     "grade": true,
     "grade_id": "cell-18f9fdafc5981df7",
     "locked": true,
     "points": 2,
     "schema_version": 3,
     "solution": false,
     "task": false
    }
   },
   "outputs": [],
   "source": [
    "# Autograder cell"
   ]
  },
  {
   "cell_type": "code",
   "execution_count": 51,
   "id": "747ef637-c82b-497e-8670-a5ed1f4e9ebf",
   "metadata": {
    "deletable": false,
    "nbgrader": {
     "cell_type": "code",
     "checksum": "e0f0b5719e7d38831247d73f469ade20",
     "grade": false,
     "grade_id": "cell-f0f9508d66749faa",
     "locked": false,
     "schema_version": 3,
     "solution": true,
     "task": false
    }
   },
   "outputs": [
    {
     "data": {
      "text/plain": [
       "1×3 adjoint(::Vector{Float64}) with eltype Float64:\n",
       " 0.0149088  0.520355  0.639562"
      ]
     },
     "metadata": {},
     "output_type": "display_data"
    }
   ],
   "source": [
    "# Select the column containing the smallest number of rand_matrix and return it as a row vector called row_vec\n",
    "row_vec = rand_matrix[:,2]'\n",
    "# your code here"
   ]
  },
  {
   "cell_type": "code",
   "execution_count": 52,
   "id": "c6b0b94e-ac8f-4099-86a4-6e417a2af2fe",
   "metadata": {},
   "outputs": [
    {
     "name": "stdout",
     "output_type": "stream",
     "text": [
      "all nothings means likely correct\n"
     ]
    },
    {
     "data": {
      "text/plain": [
       "1×3 Matrix{Nothing}:\n",
       " nothing  nothing  nothing"
      ]
     },
     "metadata": {},
     "output_type": "display_data"
    }
   ],
   "source": [
    "# Autograder cell\n",
    "using LinearAlgebra\n",
    "test1 = norm(row_vec)\n",
    "println(\"all nothings means likely correct\")\n",
    "#TF1 = @assert test1 == 0.8701647096241493\n",
    "TF2 = @assert size(row_vec)[1] == 1\n",
    "TF3 = @assert size(row_vec)[2] == 3\n",
    "[TF1 TF2 TF3]"
   ]
  },
  {
   "cell_type": "code",
   "execution_count": 53,
   "id": "b824866b",
   "metadata": {
    "deletable": false,
    "editable": false,
    "nbgrader": {
     "cell_type": "code",
     "checksum": "f9110a073239199d08cc5ade0ce57822",
     "grade": true,
     "grade_id": "cell-6f4d4229eadf2d99",
     "locked": true,
     "points": 2,
     "schema_version": 3,
     "solution": false,
     "task": false
    }
   },
   "outputs": [],
   "source": [
    "# Autograder cell"
   ]
  },
  {
   "cell_type": "markdown",
   "id": "c05c7b1b-db33-42b3-bd40-8d63470b1d4c",
   "metadata": {},
   "source": [
    "### Example 3. For Loops"
   ]
  },
  {
   "cell_type": "code",
   "execution_count": 54,
   "id": "4b7c724d-9dab-43ad-b70a-082fe37141a3",
   "metadata": {},
   "outputs": [
    {
     "data": {
      "text/plain": [
       "3×3 Matrix{Int64}:\n",
       " 1  8  2\n",
       " 0  3  7\n",
       " 6  2  9"
      ]
     },
     "metadata": {},
     "output_type": "display_data"
    }
   ],
   "source": [
    "# Declare a 3-by-3 matrix\n",
    "A = [1 8 2; 0 3 7; 6 2 9]"
   ]
  },
  {
   "cell_type": "markdown",
   "id": "936d011b",
   "metadata": {},
   "source": [
    "### The terms A[k,k] of a matrix A, where the row number and column number are the same,  are called the  ***primary diagonal of the matrix*** "
   ]
  },
  {
   "cell_type": "code",
   "execution_count": 55,
   "id": "bee9a70b-10ec-454e-bf7d-0d5d5638e4d8",
   "metadata": {},
   "outputs": [
    {
     "data": {
      "text/plain": [
       "13"
      ]
     },
     "metadata": {},
     "output_type": "display_data"
    }
   ],
   "source": [
    "# Compute the sum of the entries on the primary diagonal of A\n",
    "sums = A[1, 1] + A[2, 2] + A[3, 3]"
   ]
  },
  {
   "cell_type": "code",
   "execution_count": 56,
   "id": "20df22c2-b3fb-4328-a580-0c709fdb2e2c",
   "metadata": {},
   "outputs": [
    {
     "data": {
      "text/plain": [
       "5×5 Matrix{Int64}:\n",
       " 2  7  3  4  1\n",
       " 9  1  0  3  2\n",
       " 7  4  9  2  0\n",
       " 1  7  6  4  2\n",
       " 7  4  9  5  8"
      ]
     },
     "metadata": {},
     "output_type": "display_data"
    }
   ],
   "source": [
    "# Declare a 5-by-5 matrix\n",
    "A = [2 7 3 4 1; 9 1 0 3 2; 7 4 9 2 0; 1 7 6 4 2; 7 4 9 5 8]"
   ]
  },
  {
   "cell_type": "code",
   "execution_count": 18,
   "id": "c35bf27e-e763-4dfa-a900-187d9653a96d",
   "metadata": {},
   "outputs": [
    {
     "data": {
      "text/plain": [
       "24"
      ]
     },
     "execution_count": 18,
     "metadata": {},
     "output_type": "execute_result"
    }
   ],
   "source": [
    "#  Compute the sum of the entries on the primary diagonal of A\n",
    "sums = A[1, 1] + A[2, 2] + A[3, 3] + A[4, 4] + A[5, 5]"
   ]
  },
  {
   "cell_type": "markdown",
   "id": "2cbb9723-bd18-435b-aecd-77a71f8702cd",
   "metadata": {},
   "source": [
    "You may have noticed that the way we compute the sum of matrix diagonals can work for a small matrix. But what about a large matrix, say 100-by-100? It will be exhausting to index them manually. We program for a reason: to automate the computations! So what we can do?\n",
    "\n",
    "To compute the sum of the entries on the primary diagonal, we need to index each element one by one. I am sure that you also noticed that there is a pattern in the indices: For a 3-by-3 matrix, the index starts from 1 and goes to 3; For a 5-by-5 matrix, the index is from 1 to 5, which is the size of the matrix.\n",
    "\n",
    "**We can use a for loop to automate this process.**"
   ]
  },
  {
   "cell_type": "markdown",
   "id": "970c74e5",
   "metadata": {},
   "source": [
    "For loops are used to iterate over a set of values and perform a set of operations that are given in the body of the loop. The syntax of foor loop in Julia is as follows:\n",
    "\n",
    "```\n",
    "for iterator in range\n",
    "    statements to do stuff\n",
    "end\n",
    "```\n",
    "\n",
    "Here, ```for``` is the keyword starting the for loop, the keyword ```in```  is used to define a range in which to iterate, the keyword ```end``` is used to denote the end of the for loop.\n",
    "\n",
    "Let's see a few examples."
   ]
  },
  {
   "cell_type": "code",
   "execution_count": 57,
   "id": "b2f09a6c-2111-4fba-b6ef-82f8525a8786",
   "metadata": {},
   "outputs": [
    {
     "name": "stdout",
     "output_type": "stream",
     "text": [
      "1\n",
      "2\n",
      "3\n",
      "4\n",
      "5\n",
      "6\n",
      "7\n",
      "8\n",
      "9\n",
      "10\n"
     ]
    }
   ],
   "source": [
    "# Print the numbers from 1 to 10\n",
    "for k in 1:10\n",
    "    println(k)\n",
    "end"
   ]
  },
  {
   "cell_type": "markdown",
   "id": "cf0c3ca1-b6ab-43de-83e2-d075b7e89b4d",
   "metadata": {},
   "source": [
    "If the range is defined as a set of numbers, the following syntax is also valid:\n",
    "\n",
    "```\n",
    "for iterator = start:step:stop\n",
    "    statements to do stuff\n",
    "end\n",
    "```\n",
    "\n",
    "Here, ```start:step:stop``` will return a list of numbers from ```start``` to ```stop``` with a step size of ```step```. Note the ```start``` and ```stop``` are inclusively considered....which simply that the iterator is always between or equal to the upper and lower bounds."
   ]
  },
  {
   "cell_type": "code",
   "execution_count": 58,
   "id": "3e7ae599",
   "metadata": {},
   "outputs": [
    {
     "name": "stdout",
     "output_type": "stream",
     "text": [
      "2\n",
      "4\n",
      "6\n",
      "8\n",
      "10\n",
      "12\n",
      "14\n",
      "16\n",
      "18\n",
      "20\n"
     ]
    }
   ],
   "source": [
    "# Print the even numbers from 2 to 20\n",
    "for k = 2:2:20\n",
    "    println(k)\n",
    "end"
   ]
  },
  {
   "cell_type": "markdown",
   "id": "7ceb3050-9ac8-400a-aea1-6ec06cbcaf87",
   "metadata": {},
   "source": [
    "**Another thing worth noting is that the ```step``` can be negative.** It just means that the iterator is decreasing."
   ]
  },
  {
   "cell_type": "code",
   "execution_count": 59,
   "id": "6a921c88-d7b2-4a3a-a135-0b34b88c9c25",
   "metadata": {},
   "outputs": [
    {
     "name": "stdout",
     "output_type": "stream",
     "text": [
      "5\n",
      "4\n",
      "3\n",
      "2\n",
      "1\n"
     ]
    }
   ],
   "source": [
    "# Print the numbers from 5 to 1\n",
    "for k = 5:-1:1\n",
    "    println(k)\n",
    "end"
   ]
  },
  {
   "cell_type": "markdown",
   "id": "6a9f2910-a568-4f33-b7b2-dd4bb29f952d",
   "metadata": {},
   "source": [
    "Okay, let's re-think of the previous problem of matrix diagonals summation."
   ]
  },
  {
   "cell_type": "code",
   "execution_count": 60,
   "id": "f0248549-e5c1-45cc-a291-534ecde2ef30",
   "metadata": {},
   "outputs": [
    {
     "data": {
      "text/plain": [
       "30×30 Matrix{Float64}:\n",
       " 0.579862   0.00543656  0.126386  …  0.571334   0.328323   0.673974\n",
       " 0.411294   0.698478    0.965243     0.124163   0.349247   0.245734\n",
       " 0.972136   0.349231    0.515818     0.587931   0.793972   0.316147\n",
       " 0.0149088  0.91097     0.488476     0.321161   0.0952038  0.585489\n",
       " 0.520355   0.973653    0.527837     0.531414   0.665992   0.852246\n",
       " 0.639562   0.76066     0.917137  …  0.59433    0.799811   0.580852\n",
       " 0.839622   0.488912    0.706951     0.290677   0.171014   0.183946\n",
       " 0.967143   0.362643    0.753203     0.855815   0.689584   0.202328\n",
       " 0.789764   0.708738    0.573645     0.555287   0.270649   0.488165\n",
       " 0.696041   0.656694    0.731872     0.861586   0.480495   0.988048\n",
       " ⋮                                ⋱                        \n",
       " 0.0779683  0.514119    0.381363     0.566666   0.606252   0.808455\n",
       " 0.966197   0.652465    0.42562      0.22972    0.706679   0.901708\n",
       " 0.666558   0.895855    0.661096     0.175631   0.104724   0.130924\n",
       " 0.333859   0.688344    0.195737     0.796953   0.578079   0.550256\n",
       " 0.802199   0.661561    0.811324  …  0.351131   0.889768   0.819181\n",
       " 0.156458   0.752155    0.594965     0.0457602  0.488776   0.131026\n",
       " 0.380799   0.869142    0.270995     0.807679   0.486645   0.946453\n",
       " 0.0687591  0.679021    0.566878     0.926269   0.209923   0.574323\n",
       " 0.861725   0.999183    0.607905     0.319058   0.928159   0.67765"
      ]
     },
     "metadata": {},
     "output_type": "display_data"
    }
   ],
   "source": [
    "# Declare a 30-by-30 random matrix\n",
    "using Random # Using an external pacakge called Random which provides functions\n",
    "Random.seed!(1234) # Set the seed to make sure each time you run the cell you get the same results \n",
    "# so that we can grade them\n",
    "A = rand(30, 30)"
   ]
  },
  {
   "cell_type": "code",
   "execution_count": 61,
   "id": "2ab2cbe2-1fa6-424d-bbfe-2cafa60c8d86",
   "metadata": {},
   "outputs": [
    {
     "name": "stdout",
     "output_type": "stream",
     "text": [
      "15.828121297692357\n"
     ]
    }
   ],
   "source": [
    "# Compute the sum of the entries on the primary diagonal\n",
    "sums = 0 # Initialize sum as 0\n",
    "for k = 1:30\n",
    "    sums = sums + A[k, k]\n",
    "end\n",
    "println(sums)"
   ]
  },
  {
   "cell_type": "markdown",
   "id": "86c47404-9919-450e-96dd-f03f63dcc76d",
   "metadata": {},
   "source": [
    "For loops can be nested when more than one for loop is needed."
   ]
  },
  {
   "cell_type": "code",
   "execution_count": 62,
   "id": "5c11b693-9968-4afe-81ff-10549c3660f3",
   "metadata": {},
   "outputs": [
    {
     "data": {
      "text/plain": [
       "3×3 Matrix{Int64}:\n",
       " 1  2  3\n",
       " 4  5  6\n",
       " 7  8  9"
      ]
     },
     "metadata": {},
     "output_type": "display_data"
    }
   ],
   "source": [
    "# Declare a 3-by-3 matrix\n",
    "A = [1 2 3; 4 5 6; 7 8 9]"
   ]
  },
  {
   "cell_type": "code",
   "execution_count": 63,
   "id": "d455413e-35a9-45fc-9b9e-8f21cd297b32",
   "metadata": {},
   "outputs": [
    {
     "name": "stdout",
     "output_type": "stream",
     "text": [
      "1\n",
      "4\n",
      "5\n",
      "7\n",
      "8\n",
      "9\n"
     ]
    }
   ],
   "source": [
    "# Print all the numbers on and below the matrix primary diagonal\n",
    "for i = 1:3\n",
    "    for j = 1:i\n",
    "        println(A[i,j])\n",
    "    end\n",
    "end"
   ]
  },
  {
   "cell_type": "markdown",
   "id": "a4c8a09a-037a-4fb6-ae33-f47ac4f88d36",
   "metadata": {},
   "source": [
    "### Practice 3."
   ]
  },
  {
   "cell_type": "code",
   "execution_count": 64,
   "id": "9ff2a58d",
   "metadata": {},
   "outputs": [
    {
     "data": {
      "text/plain": [
       "10×10 Matrix{Float64}:\n",
       " 0.579862   0.566704  0.526344   0.00543656  …  0.829076  0.587688  0.850302\n",
       " 0.411294   0.536369  0.0779683  0.698478       0.892646  0.381363  0.124847\n",
       " 0.972136   0.711389  0.966197   0.349231       0.806471  0.42562   0.993609\n",
       " 0.0149088  0.103929  0.666558   0.91097        0.011625  0.661096  0.0686571\n",
       " 0.520355   0.806704  0.333859   0.973653       0.249676  0.195737  0.953362\n",
       " 0.639562   0.870539  0.802199   0.76066     …  0.139687  0.811324  0.484337\n",
       " 0.839622   0.962715  0.156458   0.488912       0.180998  0.594965  0.131026\n",
       " 0.967143   0.15118   0.380799   0.362643       0.813512  0.270995  0.946453\n",
       " 0.789764   0.715355  0.0687591  0.708738       0.994935  0.566878  0.574323\n",
       " 0.696041   0.939548  0.861725   0.656694       0.77916   0.607905  0.67765"
      ]
     },
     "metadata": {},
     "output_type": "display_data"
    }
   ],
   "source": [
    "# Declare a 10-by-10 random matrix\n",
    "using Random # Using an external pacakge called Random which provides functions\n",
    "Random.seed!(1234) # Set the seed to make sure each time you get the same results\n",
    "A = rand(10, 10)"
   ]
  },
  {
   "cell_type": "code",
   "execution_count": 65,
   "id": "a8b2b904",
   "metadata": {
    "deletable": false,
    "nbgrader": {
     "cell_type": "code",
     "checksum": "a766f61f9913b9304656dd7cf0575f8c",
     "grade": false,
     "grade_id": "cell-fa7895b2bfbf59fd",
     "locked": false,
     "schema_version": 3,
     "solution": true,
     "task": false
    }
   },
   "outputs": [
    {
     "data": {
      "text/plain": [
       "6.84133867975218"
      ]
     },
     "metadata": {},
     "output_type": "display_data"
    }
   ],
   "source": [
    "# Compute the sum of the numbers on the matrix primary diagonal\n",
    "sums = 0\n",
    "# your code here\n",
    "for i = 1:10\n",
    "    sums += A[i,i]\n",
    "end\n",
    "sums"
   ]
  },
  {
   "cell_type": "code",
   "execution_count": 66,
   "id": "6734a409",
   "metadata": {},
   "outputs": [
    {
     "name": "stdout",
     "output_type": "stream",
     "text": [
      "all nothings means likely correct\n"
     ]
    },
    {
     "ename": "AssertionError",
     "evalue": "AssertionError: sums < 3.7",
     "output_type": "error",
     "traceback": [
      "AssertionError: sums < 3.7\n",
      "\n",
      "Stacktrace:\n",
      " [1] top-level scope\n",
      "   @ ~/Documents!/Robotics_Curriculum/rob101/Fall 2021/Labs/jl_notebook_cell_df34fa98e69747e1a8f8a730347b8e2f_Y133sZmlsZQ==.jl:3"
     ]
    }
   ],
   "source": [
    "# Autograder cell\n",
    "println(\"all nothings means likely correct\")\n",
    "TF1 = @assert sums < 3.7\n",
    "TF2 = @assert sums > 3.6\n",
    "[TF1 TF2]"
   ]
  },
  {
   "cell_type": "code",
   "execution_count": 67,
   "id": "31475127",
   "metadata": {
    "deletable": false,
    "editable": false,
    "nbgrader": {
     "cell_type": "code",
     "checksum": "d2e2a0440288299c405061ff426e15e4",
     "grade": true,
     "grade_id": "cell-3d610786bede312d",
     "locked": true,
     "points": 3,
     "schema_version": 3,
     "solution": false,
     "task": false
    }
   },
   "outputs": [],
   "source": [
    "# Autograder cell"
   ]
  },
  {
   "cell_type": "code",
   "execution_count": 68,
   "id": "5e0581e6-b4a1-40b1-976f-008e37bb9fb5",
   "metadata": {
    "deletable": false,
    "nbgrader": {
     "cell_type": "code",
     "checksum": "b45b28b7e478a5d8789dc1ac4556f8df",
     "grade": false,
     "grade_id": "cell-e6d95090b1803e50",
     "locked": false,
     "schema_version": 3,
     "solution": true,
     "task": false
    }
   },
   "outputs": [
    {
     "data": {
      "text/plain": [
       "28.902991362437746"
      ]
     },
     "metadata": {},
     "output_type": "display_data"
    }
   ],
   "source": [
    "# Compute the sum of the numbers on and above the matrix primary diagonal\n",
    "sums = 0\n",
    "# your code here\n",
    "for i in 1:10\n",
    "    for j in i:10\n",
    "        sums += A[i,j]\n",
    "    end\n",
    "end\n",
    "sums"
   ]
  },
  {
   "cell_type": "code",
   "execution_count": 69,
   "id": "7ad91d5e-613d-4e1c-94f4-8137c3e9d4e6",
   "metadata": {},
   "outputs": [
    {
     "name": "stdout",
     "output_type": "stream",
     "text": [
      "all nothings means likely correct\n"
     ]
    },
    {
     "ename": "AssertionError",
     "evalue": "AssertionError: sums < 25",
     "output_type": "error",
     "traceback": [
      "AssertionError: sums < 25\n",
      "\n",
      "Stacktrace:\n",
      " [1] top-level scope\n",
      "   @ ~/Documents!/Robotics_Curriculum/rob101/Fall 2021/Labs/jl_notebook_cell_df34fa98e69747e1a8f8a730347b8e2f_Y136sZmlsZQ==.jl:3"
     ]
    }
   ],
   "source": [
    "# Autograder cell\n",
    "println(\"all nothings means likely correct\")\n",
    "TF1 = @assert sums < 25\n",
    "TF2 = @assert sums > 24\n",
    "[TF1 TF2]"
   ]
  },
  {
   "cell_type": "code",
   "execution_count": 70,
   "id": "b29e8bdb",
   "metadata": {
    "deletable": false,
    "editable": false,
    "nbgrader": {
     "cell_type": "code",
     "checksum": "9fcc668d05a204763d10706451849760",
     "grade": true,
     "grade_id": "cell-3e23bbbd1623f529",
     "locked": true,
     "points": 3,
     "schema_version": 3,
     "solution": false,
     "task": false
    }
   },
   "outputs": [],
   "source": [
    "# Autograder cell"
   ]
  },
  {
   "cell_type": "markdown",
   "id": "713439ac-9bb7-48fe-8551-ff29de48f01a",
   "metadata": {},
   "source": [
    "### Example 4. How to solve a system of linear equations when it's not too big\n",
    "\n",
    "** We will study the matrix inverse in Chapter 6...that's a long ways off. To give you a head start and to show you \n",
    "how to check answers to systems of linear equations, we introduce the matrix inverse function, ```inv()```, a function in the Linear Algebra pacakge. It is only defined for square matrices and even then, not for all square matrices. We'll get the details in Chapter 6.** "
   ]
  },
  {
   "cell_type": "code",
   "execution_count": 71,
   "id": "38233ac9-4dec-49b1-b668-97278e4355ed",
   "metadata": {},
   "outputs": [
    {
     "data": {
      "text/plain": [
       "3-element Vector{Float64}:\n",
       " -1.069603524229075\n",
       "  2.028193832599119\n",
       " -1.1691629955947136"
      ]
     },
     "metadata": {},
     "output_type": "display_data"
    }
   ],
   "source": [
    "# Declare a 3-by-3 matrix\n",
    "A = [1 3 6; 0 6 1; 7 8 2]\n",
    "# Declare a 3-by-1 vector\n",
    "b=[-2; 11; 6.4]\n",
    "# Compute the solution of Ax = b\n",
    "using LinearAlgebra\n",
    "x = inv(A)*b"
   ]
  },
  {
   "cell_type": "markdown",
   "id": "f76b5371-9177-4d44-92ea-9074bc95330d",
   "metadata": {},
   "source": [
    "**For debugging your code, you can use ```assert``` operator to check if two values are equal.**"
   ]
  },
  {
   "cell_type": "code",
   "execution_count": 72,
   "id": "edfb2eeb-6b8f-4319-8f63-3f180336d481",
   "metadata": {},
   "outputs": [],
   "source": [
    "# Check if inv_A is the correct inversion\n",
    "@assert isapprox(vec(A*x-b), vec([0; 0; 0]))\n",
    "# Note: Ax=b if, and only if, Ax-b = 0."
   ]
  },
  {
   "cell_type": "markdown",
   "id": "9f508f3f-99b7-47ab-927c-a1c0fb81ade5",
   "metadata": {},
   "source": [
    "## What can we do using for loops?\n",
    "\n",
    "<img align=\"left\" src=\"https://c.tenor.com/TSfv9OumbmsAAAAC/boueibu-yumoto-hakone.gif\"/>"
   ]
  },
  {
   "cell_type": "markdown",
   "id": "23faba80-2aa6-4a6c-966e-48c9eb115c6d",
   "metadata": {},
   "source": [
    "## Area of a Shape via Triangles\n",
    "\n",
    "#### The method is to divide the shape into triangles and add up the area of each triangle.\n",
    "#### Warning: We are using a fast way to compute the area of triangle that is NOT taught in High School.\n",
    "\n",
    "### Example. Area of a Circle"
   ]
  },
  {
   "cell_type": "code",
   "execution_count": 73,
   "id": "45e7d7f1-fb62-4f65-86bc-1868a203ea84",
   "metadata": {},
   "outputs": [
    {
     "data": {
      "image/png": "[encoded data removed]",
      "image/svg+xml": [
       "<?xml version=\"1.0\" encoding=\"utf-8\"?>\n",
       "<svg xmlns=\"http://www.w3.org/2000/svg\" xmlns:xlink=\"http://www.w3.org/1999/xlink\" width=\"600\" height=\"400\" viewBox=\"0 0 2400 1600\">\n",
       "<defs>\n",
       "  <clipPath id=\"clip330\">\n",
       "    <rect x=\"0\" y=\"0\" width=\"2400\" height=\"1600\"/>\n",
       "  </clipPath>\n",
       "</defs>\n",
       "<path clip-path=\"url(#clip330)\" d=\"M0 1600 L2400 1600 L2400 8.88178e-14 L0 8.88178e-14  Z\" fill=\"#ffffff\" fill-rule=\"evenodd\" fill-opacity=\"1\"/>\n",
       "<defs>\n",
       "  <clipPath id=\"clip331\">\n",
       "    <rect x=\"480\" y=\"0\" width=\"1681\" height=\"1600\"/>\n",
       "  </clipPath>\n",
       "</defs>\n",
       "<path clip-path=\"url(#clip330)\" d=\"M193.936 1486.45 L2352.76 1486.45 L2352.76 47.2441 L193.936 47.2441  Z\" fill=\"#ffffff\" fill-rule=\"evenodd\" fill-opacity=\"1\"/>\n",
       "<defs>\n",
       "  <clipPath id=\"clip332\">\n",
       "    <rect x=\"193\" y=\"47\" width=\"2160\" height=\"1440\"/>\n",
       "  </clipPath>\n",
       "</defs>\n",
       "<polyline clip-path=\"url(#clip332)\" style=\"stroke:#000000; stroke-linecap:round; stroke-linejoin:round; stroke-width:2; stroke-opacity:0.1; fill:none\" points=\"255.04,1486.45 255.04,47.2441 \"/>\n",
       "<polyline clip-path=\"url(#clip332)\" style=\"stroke:#000000; stroke-linecap:round; stroke-linejoin:round; stroke-width:2; stroke-opacity:0.1; fill:none\" points=\"594.476,1486.45 594.476,47.2441 \"/>\n",
       "<polyline clip-path=\"url(#clip332)\" style=\"stroke:#000000; stroke-linecap:round; stroke-linejoin:round; stroke-width:2; stroke-opacity:0.1; fill:none\" points=\"933.911,1486.45 933.911,47.2441 \"/>\n",
       "<polyline clip-path=\"url(#clip332)\" style=\"stroke:#000000; stroke-linecap:round; stroke-linejoin:round; stroke-width:2; stroke-opacity:0.1; fill:none\" points=\"1273.35,1486.45 1273.35,47.2441 \"/>\n",
       "<polyline clip-path=\"url(#clip332)\" style=\"stroke:#000000; stroke-linecap:round; stroke-linejoin:round; stroke-width:2; stroke-opacity:0.1; fill:none\" points=\"1612.78,1486.45 1612.78,47.2441 \"/>\n",
       "<polyline clip-path=\"url(#clip332)\" style=\"stroke:#000000; stroke-linecap:round; stroke-linejoin:round; stroke-width:2; stroke-opacity:0.1; fill:none\" points=\"1952.22,1486.45 1952.22,47.2441 \"/>\n",
       "<polyline clip-path=\"url(#clip332)\" style=\"stroke:#000000; stroke-linecap:round; stroke-linejoin:round; stroke-width:2; stroke-opacity:0.1; fill:none\" points=\"2291.65,1486.45 2291.65,47.2441 \"/>\n",
       "<polyline clip-path=\"url(#clip332)\" style=\"stroke:#000000; stroke-linecap:round; stroke-linejoin:round; stroke-width:2; stroke-opacity:0.1; fill:none\" points=\"193.936,1445.72 2352.76,1445.72 \"/>\n",
       "<polyline clip-path=\"url(#clip332)\" style=\"stroke:#000000; stroke-linecap:round; stroke-linejoin:round; stroke-width:2; stroke-opacity:0.1; fill:none\" points=\"193.936,1106.28 2352.76,1106.28 \"/>\n",
       "<polyline clip-path=\"url(#clip332)\" style=\"stroke:#000000; stroke-linecap:round; stroke-linejoin:round; stroke-width:2; stroke-opacity:0.1; fill:none\" points=\"193.936,766.845 2352.76,766.845 \"/>\n",
       "<polyline clip-path=\"url(#clip332)\" style=\"stroke:#000000; stroke-linecap:round; stroke-linejoin:round; stroke-width:2; stroke-opacity:0.1; fill:none\" points=\"193.936,427.41 2352.76,427.41 \"/>\n",
       "<polyline clip-path=\"url(#clip332)\" style=\"stroke:#000000; stroke-linecap:round; stroke-linejoin:round; stroke-width:2; stroke-opacity:0.1; fill:none\" points=\"193.936,87.9743 2352.76,87.9743 \"/>\n",
       "<polyline clip-path=\"url(#clip330)\" style=\"stroke:#000000; stroke-linecap:round; stroke-linejoin:round; stroke-width:4; stroke-opacity:1; fill:none\" points=\"193.936,1486.45 2352.76,1486.45 \"/>\n",
       "<polyline clip-path=\"url(#clip330)\" style=\"stroke:#000000; stroke-linecap:round; stroke-linejoin:round; stroke-width:4; stroke-opacity:1; fill:none\" points=\"255.04,1486.45 255.04,1467.55 \"/>\n",
       "<polyline clip-path=\"url(#clip330)\" style=\"stroke:#000000; stroke-linecap:round; stroke-linejoin:round; stroke-width:4; stroke-opacity:1; fill:none\" points=\"594.476,1486.45 594.476,1467.55 \"/>\n",
       "<polyline clip-path=\"url(#clip330)\" style=\"stroke:#000000; stroke-linecap:round; stroke-linejoin:round; stroke-width:4; stroke-opacity:1; fill:none\" points=\"933.911,1486.45 933.911,1467.55 \"/>\n",
       "<polyline clip-path=\"url(#clip330)\" style=\"stroke:#000000; stroke-linecap:round; stroke-linejoin:round; stroke-width:4; stroke-opacity:1; fill:none\" points=\"1273.35,1486.45 1273.35,1467.55 \"/>\n",
       "<polyline clip-path=\"url(#clip330)\" style=\"stroke:#000000; stroke-linecap:round; stroke-linejoin:round; stroke-width:4; stroke-opacity:1; fill:none\" points=\"1612.78,1486.45 1612.78,1467.55 \"/>\n",
       "<polyline clip-path=\"url(#clip330)\" style=\"stroke:#000000; stroke-linecap:round; stroke-linejoin:round; stroke-width:4; stroke-opacity:1; fill:none\" points=\"1952.22,1486.45 1952.22,1467.55 \"/>\n",
       "<polyline clip-path=\"url(#clip330)\" style=\"stroke:#000000; stroke-linecap:round; stroke-linejoin:round; stroke-width:4; stroke-opacity:1; fill:none\" points=\"2291.65,1486.45 2291.65,1467.55 \"/>\n",
       "<path clip-path=\"url(#clip330)\" d=\"M202.066 1532.02 L231.742 1532.02 L231.742 1535.95 L202.066 1535.95 L202.066 1532.02 Z\" fill=\"#000000\" fill-rule=\"nonzero\" fill-opacity=\"1\" /><path clip-path=\"url(#clip330)\" d=\"M242.644 1544.91 L250.283 1544.91 L250.283 1518.55 L241.973 1520.21 L241.973 1515.95 L250.237 1514.29 L254.913 1514.29 L254.913 1544.91 L262.552 1544.91 L262.552 1548.85 L242.644 1548.85 L242.644 1544.91 Z\" fill=\"#000000\" fill-rule=\"nonzero\" fill-opacity=\"1\" /><path clip-path=\"url(#clip330)\" d=\"M271.996 1542.97 L276.88 1542.97 L276.88 1548.85 L271.996 1548.85 L271.996 1542.97 Z\" fill=\"#000000\" fill-rule=\"nonzero\" fill-opacity=\"1\" /><path clip-path=\"url(#clip330)\" d=\"M287.112 1514.29 L305.468 1514.29 L305.468 1518.22 L291.394 1518.22 L291.394 1526.7 Q292.413 1526.35 293.431 1526.19 Q294.45 1526 295.468 1526 Q301.255 1526 304.635 1529.17 Q308.014 1532.34 308.014 1537.76 Q308.014 1543.34 304.542 1546.44 Q301.07 1549.52 294.751 1549.52 Q292.575 1549.52 290.306 1549.15 Q288.061 1548.78 285.653 1548.04 L285.653 1543.34 Q287.737 1544.47 289.959 1545.03 Q292.181 1545.58 294.658 1545.58 Q298.663 1545.58 301.001 1543.48 Q303.339 1541.37 303.339 1537.76 Q303.339 1534.15 301.001 1532.04 Q298.663 1529.94 294.658 1529.94 Q292.783 1529.94 290.908 1530.35 Q289.056 1530.77 287.112 1531.65 L287.112 1514.29 Z\" fill=\"#000000\" fill-rule=\"nonzero\" fill-opacity=\"1\" /><path clip-path=\"url(#clip330)\" d=\"M541.004 1532.02 L570.679 1532.02 L570.679 1535.95 L541.004 1535.95 L541.004 1532.02 Z\" fill=\"#000000\" fill-rule=\"nonzero\" fill-opacity=\"1\" /><path clip-path=\"url(#clip330)\" d=\"M581.582 1544.91 L589.221 1544.91 L589.221 1518.55 L580.911 1520.21 L580.911 1515.95 L589.175 1514.29 L593.851 1514.29 L593.851 1544.91 L601.489 1544.91 L601.489 1548.85 L581.582 1548.85 L581.582 1544.91 Z\" fill=\"#000000\" fill-rule=\"nonzero\" fill-opacity=\"1\" /><path clip-path=\"url(#clip330)\" d=\"M610.934 1542.97 L615.818 1542.97 L615.818 1548.85 L610.934 1548.85 L610.934 1542.97 Z\" fill=\"#000000\" fill-rule=\"nonzero\" fill-opacity=\"1\" /><path clip-path=\"url(#clip330)\" d=\"M636.003 1517.37 Q632.392 1517.37 630.563 1520.93 Q628.758 1524.47 628.758 1531.6 Q628.758 1538.71 630.563 1542.27 Q632.392 1545.82 636.003 1545.82 Q639.637 1545.82 641.443 1542.27 Q643.272 1538.71 643.272 1531.6 Q643.272 1524.47 641.443 1520.93 Q639.637 1517.37 636.003 1517.37 M636.003 1513.66 Q641.813 1513.66 644.869 1518.27 Q647.948 1522.85 647.948 1531.6 Q647.948 1540.33 644.869 1544.94 Q641.813 1549.52 636.003 1549.52 Q630.193 1549.52 627.114 1544.94 Q624.059 1540.33 624.059 1531.6 Q624.059 1522.85 627.114 1518.27 Q630.193 1513.66 636.003 1513.66 Z\" fill=\"#000000\" fill-rule=\"nonzero\" fill-opacity=\"1\" /><path clip-path=\"url(#clip330)\" d=\"M880.937 1532.02 L910.613 1532.02 L910.613 1535.95 L880.937 1535.95 L880.937 1532.02 Z\" fill=\"#000000\" fill-rule=\"nonzero\" fill-opacity=\"1\" /><path clip-path=\"url(#clip330)\" d=\"M930.705 1517.37 Q927.094 1517.37 925.265 1520.93 Q923.46 1524.47 923.46 1531.6 Q923.46 1538.71 925.265 1542.27 Q927.094 1545.82 930.705 1545.82 Q934.339 1545.82 936.145 1542.27 Q937.973 1538.71 937.973 1531.6 Q937.973 1524.47 936.145 1520.93 Q934.339 1517.37 930.705 1517.37 M930.705 1513.66 Q936.515 1513.66 939.571 1518.27 Q942.649 1522.85 942.649 1531.6 Q942.649 1540.33 939.571 1544.94 Q936.515 1549.52 930.705 1549.52 Q924.895 1549.52 921.816 1544.94 Q918.761 1540.33 918.761 1531.6 Q918.761 1522.85 921.816 1518.27 Q924.895 1513.66 930.705 1513.66 Z\" fill=\"#000000\" fill-rule=\"nonzero\" fill-opacity=\"1\" /><path clip-path=\"url(#clip330)\" d=\"M950.867 1542.97 L955.751 1542.97 L955.751 1548.85 L950.867 1548.85 L950.867 1542.97 Z\" fill=\"#000000\" fill-rule=\"nonzero\" fill-opacity=\"1\" /><path clip-path=\"url(#clip330)\" d=\"M965.983 1514.29 L984.339 1514.29 L984.339 1518.22 L970.265 1518.22 L970.265 1526.7 Q971.283 1526.35 972.302 1526.19 Q973.321 1526 974.339 1526 Q980.126 1526 983.506 1529.17 Q986.885 1532.34 986.885 1537.76 Q986.885 1543.34 983.413 1546.44 Q979.941 1549.52 973.621 1549.52 Q971.446 1549.52 969.177 1549.15 Q966.932 1548.78 964.524 1548.04 L964.524 1543.34 Q966.608 1544.47 968.83 1545.03 Q971.052 1545.58 973.529 1545.58 Q977.533 1545.58 979.871 1543.48 Q982.209 1541.37 982.209 1537.76 Q982.209 1534.15 979.871 1532.04 Q977.533 1529.94 973.529 1529.94 Q971.654 1529.94 969.779 1530.35 Q967.927 1530.77 965.983 1531.65 L965.983 1514.29 Z\" fill=\"#000000\" fill-rule=\"nonzero\" fill-opacity=\"1\" /><path clip-path=\"url(#clip330)\" d=\"M1250.73 1517.37 Q1247.12 1517.37 1245.29 1520.93 Q1243.49 1524.47 1243.49 1531.6 Q1243.49 1538.71 1245.29 1542.27 Q1247.12 1545.82 1250.73 1545.82 Q1254.37 1545.82 1256.17 1542.27 Q1258 1538.71 1258 1531.6 Q1258 1524.47 1256.17 1520.93 Q1254.37 1517.37 1250.73 1517.37 M1250.73 1513.66 Q1256.54 1513.66 1259.6 1518.27 Q1262.68 1522.85 1262.68 1531.6 Q1262.68 1540.33 1259.6 1544.94 Q1256.54 1549.52 1250.73 1549.52 Q1244.92 1549.52 1241.84 1544.94 Q1238.79 1540.33 1238.79 1531.6 Q1238.79 1522.85 1241.84 1518.27 Q1244.92 1513.66 1250.73 1513.66 Z\" fill=\"#000000\" fill-rule=\"nonzero\" fill-opacity=\"1\" /><path clip-path=\"url(#clip330)\" d=\"M1270.89 1542.97 L1275.78 1542.97 L1275.78 1548.85 L1270.89 1548.85 L1270.89 1542.97 Z\" fill=\"#000000\" fill-rule=\"nonzero\" fill-opacity=\"1\" /><path clip-path=\"url(#clip330)\" d=\"M1295.96 1517.37 Q1292.35 1517.37 1290.52 1520.93 Q1288.72 1524.47 1288.72 1531.6 Q1288.72 1538.71 1290.52 1542.27 Q1292.35 1545.82 1295.96 1545.82 Q1299.6 1545.82 1301.4 1542.27 Q1303.23 1538.71 1303.23 1531.6 Q1303.23 1524.47 1301.4 1520.93 Q1299.6 1517.37 1295.96 1517.37 M1295.96 1513.66 Q1301.77 1513.66 1304.83 1518.27 Q1307.91 1522.85 1307.91 1531.6 Q1307.91 1540.33 1304.83 1544.94 Q1301.77 1549.52 1295.96 1549.52 Q1290.15 1549.52 1287.07 1544.94 Q1284.02 1540.33 1284.02 1531.6 Q1284.02 1522.85 1287.07 1518.27 Q1290.15 1513.66 1295.96 1513.66 Z\" fill=\"#000000\" fill-rule=\"nonzero\" fill-opacity=\"1\" /><path clip-path=\"url(#clip330)\" d=\"M1590.66 1517.37 Q1587.05 1517.37 1585.22 1520.93 Q1583.42 1524.47 1583.42 1531.6 Q1583.42 1538.71 1585.22 1542.27 Q1587.05 1545.82 1590.66 1545.82 Q1594.3 1545.82 1596.1 1542.27 Q1597.93 1538.71 1597.93 1531.6 Q1597.93 1524.47 1596.1 1520.93 Q1594.3 1517.37 1590.66 1517.37 M1590.66 1513.66 Q1596.47 1513.66 1599.53 1518.27 Q1602.61 1522.85 1602.61 1531.6 Q1602.61 1540.33 1599.53 1544.94 Q1596.47 1549.52 1590.66 1549.52 Q1584.85 1549.52 1581.77 1544.94 Q1578.72 1540.33 1578.72 1531.6 Q1578.72 1522.85 1581.77 1518.27 Q1584.85 1513.66 1590.66 1513.66 Z\" fill=\"#000000\" fill-rule=\"nonzero\" fill-opacity=\"1\" /><path clip-path=\"url(#clip330)\" d=\"M1610.83 1542.97 L1615.71 1542.97 L1615.71 1548.85 L1610.83 1548.85 L1610.83 1542.97 Z\" fill=\"#000000\" fill-rule=\"nonzero\" fill-opacity=\"1\" /><path clip-path=\"url(#clip330)\" d=\"M1625.94 1514.29 L1644.3 1514.29 L1644.3 1518.22 L1630.22 1518.22 L1630.22 1526.7 Q1631.24 1526.35 1632.26 1526.19 Q1633.28 1526 1634.3 1526 Q1640.08 1526 1643.46 1529.17 Q1646.84 1532.34 1646.84 1537.76 Q1646.84 1543.34 1643.37 1546.44 Q1639.9 1549.52 1633.58 1549.52 Q1631.4 1549.52 1629.14 1549.15 Q1626.89 1548.78 1624.48 1548.04 L1624.48 1543.34 Q1626.57 1544.47 1628.79 1545.03 Q1631.01 1545.58 1633.49 1545.58 Q1637.49 1545.58 1639.83 1543.48 Q1642.17 1541.37 1642.17 1537.76 Q1642.17 1534.15 1639.83 1532.04 Q1637.49 1529.94 1633.49 1529.94 Q1631.61 1529.94 1629.74 1530.35 Q1627.89 1530.77 1625.94 1531.65 L1625.94 1514.29 Z\" fill=\"#000000\" fill-rule=\"nonzero\" fill-opacity=\"1\" /><path clip-path=\"url(#clip330)\" d=\"M1919.37 1544.91 L1927.01 1544.91 L1927.01 1518.55 L1918.7 1520.21 L1918.7 1515.95 L1926.96 1514.29 L1931.64 1514.29 L1931.64 1544.91 L1939.28 1544.91 L1939.28 1548.85 L1919.37 1548.85 L1919.37 1544.91 Z\" fill=\"#000000\" fill-rule=\"nonzero\" fill-opacity=\"1\" /><path clip-path=\"url(#clip330)\" d=\"M1948.72 1542.97 L1953.61 1542.97 L1953.61 1548.85 L1948.72 1548.85 L1948.72 1542.97 Z\" fill=\"#000000\" fill-rule=\"nonzero\" fill-opacity=\"1\" /><path clip-path=\"url(#clip330)\" d=\"M1973.79 1517.37 Q1970.18 1517.37 1968.35 1520.93 Q1966.55 1524.47 1966.55 1531.6 Q1966.55 1538.71 1968.35 1542.27 Q1970.18 1545.82 1973.79 1545.82 Q1977.43 1545.82 1979.23 1542.27 Q1981.06 1538.71 1981.06 1531.6 Q1981.06 1524.47 1979.23 1520.93 Q1977.43 1517.37 1973.79 1517.37 M1973.79 1513.66 Q1979.6 1513.66 1982.66 1518.27 Q1985.74 1522.85 1985.74 1531.6 Q1985.74 1540.33 1982.66 1544.94 Q1979.6 1549.52 1973.79 1549.52 Q1967.98 1549.52 1964.9 1544.94 Q1961.85 1540.33 1961.85 1531.6 Q1961.85 1522.85 1964.9 1518.27 Q1967.98 1513.66 1973.79 1513.66 Z\" fill=\"#000000\" fill-rule=\"nonzero\" fill-opacity=\"1\" /><path clip-path=\"url(#clip330)\" d=\"M2259.3 1544.91 L2266.94 1544.91 L2266.94 1518.55 L2258.63 1520.21 L2258.63 1515.95 L2266.9 1514.29 L2271.57 1514.29 L2271.57 1544.91 L2279.21 1544.91 L2279.21 1548.85 L2259.3 1548.85 L2259.3 1544.91 Z\" fill=\"#000000\" fill-rule=\"nonzero\" fill-opacity=\"1\" /><path clip-path=\"url(#clip330)\" d=\"M2288.65 1542.97 L2293.54 1542.97 L2293.54 1548.85 L2288.65 1548.85 L2288.65 1542.97 Z\" fill=\"#000000\" fill-rule=\"nonzero\" fill-opacity=\"1\" /><path clip-path=\"url(#clip330)\" d=\"M2303.77 1514.29 L2322.13 1514.29 L2322.13 1518.22 L2308.05 1518.22 L2308.05 1526.7 Q2309.07 1526.35 2310.09 1526.19 Q2311.11 1526 2312.13 1526 Q2317.91 1526 2321.29 1529.17 Q2324.67 1532.34 2324.67 1537.76 Q2324.67 1543.34 2321.2 1546.44 Q2317.73 1549.52 2311.41 1549.52 Q2309.23 1549.52 2306.96 1549.15 Q2304.72 1548.78 2302.31 1548.04 L2302.31 1543.34 Q2304.4 1544.47 2306.62 1545.03 Q2308.84 1545.58 2311.32 1545.58 Q2315.32 1545.58 2317.66 1543.48 Q2320 1541.37 2320 1537.76 Q2320 1534.15 2317.66 1532.04 Q2315.32 1529.94 2311.32 1529.94 Q2309.44 1529.94 2307.57 1530.35 Q2305.71 1530.77 2303.77 1531.65 L2303.77 1514.29 Z\" fill=\"#000000\" fill-rule=\"nonzero\" fill-opacity=\"1\" /><polyline clip-path=\"url(#clip330)\" style=\"stroke:#000000; stroke-linecap:round; stroke-linejoin:round; stroke-width:4; stroke-opacity:1; fill:none\" points=\"193.936,1486.45 193.936,47.2441 \"/>\n",
       "<polyline clip-path=\"url(#clip330)\" style=\"stroke:#000000; stroke-linecap:round; stroke-linejoin:round; stroke-width:4; stroke-opacity:1; fill:none\" points=\"193.936,1445.72 212.834,1445.72 \"/>\n",
       "<polyline clip-path=\"url(#clip330)\" style=\"stroke:#000000; stroke-linecap:round; stroke-linejoin:round; stroke-width:4; stroke-opacity:1; fill:none\" points=\"193.936,1106.28 212.834,1106.28 \"/>\n",
       "<polyline clip-path=\"url(#clip330)\" style=\"stroke:#000000; stroke-linecap:round; stroke-linejoin:round; stroke-width:4; stroke-opacity:1; fill:none\" points=\"193.936,766.845 212.834,766.845 \"/>\n",
       "<polyline clip-path=\"url(#clip330)\" style=\"stroke:#000000; stroke-linecap:round; stroke-linejoin:round; stroke-width:4; stroke-opacity:1; fill:none\" points=\"193.936,427.41 212.834,427.41 \"/>\n",
       "<polyline clip-path=\"url(#clip330)\" style=\"stroke:#000000; stroke-linecap:round; stroke-linejoin:round; stroke-width:4; stroke-opacity:1; fill:none\" points=\"193.936,87.9743 212.834,87.9743 \"/>\n",
       "<path clip-path=\"url(#clip330)\" d=\"M50.9921 1446.17 L80.6679 1446.17 L80.6679 1450.1 L50.9921 1450.1 L50.9921 1446.17 Z\" fill=\"#000000\" fill-rule=\"nonzero\" fill-opacity=\"1\" /><path clip-path=\"url(#clip330)\" d=\"M91.5706 1459.06 L99.2095 1459.06 L99.2095 1432.7 L90.8993 1434.36 L90.8993 1430.1 L99.1632 1428.44 L103.839 1428.44 L103.839 1459.06 L111.478 1459.06 L111.478 1463 L91.5706 1463 L91.5706 1459.06 Z\" fill=\"#000000\" fill-rule=\"nonzero\" fill-opacity=\"1\" /><path clip-path=\"url(#clip330)\" d=\"M120.922 1457.12 L125.807 1457.12 L125.807 1463 L120.922 1463 L120.922 1457.12 Z\" fill=\"#000000\" fill-rule=\"nonzero\" fill-opacity=\"1\" /><path clip-path=\"url(#clip330)\" d=\"M145.992 1431.51 Q142.381 1431.51 140.552 1435.08 Q138.746 1438.62 138.746 1445.75 Q138.746 1452.86 140.552 1456.42 Q142.381 1459.96 145.992 1459.96 Q149.626 1459.96 151.431 1456.42 Q153.26 1452.86 153.26 1445.75 Q153.26 1438.62 151.431 1435.08 Q149.626 1431.51 145.992 1431.51 M145.992 1427.81 Q151.802 1427.81 154.857 1432.42 Q157.936 1437 157.936 1445.75 Q157.936 1454.48 154.857 1459.08 Q151.802 1463.67 145.992 1463.67 Q140.181 1463.67 137.103 1459.08 Q134.047 1454.48 134.047 1445.75 Q134.047 1437 137.103 1432.42 Q140.181 1427.81 145.992 1427.81 Z\" fill=\"#000000\" fill-rule=\"nonzero\" fill-opacity=\"1\" /><path clip-path=\"url(#clip330)\" d=\"M51.9875 1106.73 L81.6633 1106.73 L81.6633 1110.67 L51.9875 1110.67 L51.9875 1106.73 Z\" fill=\"#000000\" fill-rule=\"nonzero\" fill-opacity=\"1\" /><path clip-path=\"url(#clip330)\" d=\"M101.756 1092.08 Q98.1447 1092.08 96.316 1095.64 Q94.5104 1099.19 94.5104 1106.32 Q94.5104 1113.42 96.316 1116.99 Q98.1447 1120.53 101.756 1120.53 Q105.39 1120.53 107.196 1116.99 Q109.024 1113.42 109.024 1106.32 Q109.024 1099.19 107.196 1095.64 Q105.39 1092.08 101.756 1092.08 M101.756 1088.38 Q107.566 1088.38 110.621 1092.98 Q113.7 1097.57 113.7 1106.32 Q113.7 1115.04 110.621 1119.65 Q107.566 1124.23 101.756 1124.23 Q95.9456 1124.23 92.8669 1119.65 Q89.8114 1115.04 89.8114 1106.32 Q89.8114 1097.57 92.8669 1092.98 Q95.9456 1088.38 101.756 1088.38 Z\" fill=\"#000000\" fill-rule=\"nonzero\" fill-opacity=\"1\" /><path clip-path=\"url(#clip330)\" d=\"M121.918 1117.68 L126.802 1117.68 L126.802 1123.56 L121.918 1123.56 L121.918 1117.68 Z\" fill=\"#000000\" fill-rule=\"nonzero\" fill-opacity=\"1\" /><path clip-path=\"url(#clip330)\" d=\"M137.033 1089 L155.39 1089 L155.39 1092.94 L141.316 1092.94 L141.316 1101.41 Q142.334 1101.06 143.353 1100.9 Q144.371 1100.71 145.39 1100.71 Q151.177 1100.71 154.556 1103.88 Q157.936 1107.06 157.936 1112.47 Q157.936 1118.05 154.464 1121.15 Q150.992 1124.23 144.672 1124.23 Q142.496 1124.23 140.228 1123.86 Q137.982 1123.49 135.575 1122.75 L135.575 1118.05 Q137.658 1119.19 139.881 1119.74 Q142.103 1120.3 144.58 1120.3 Q148.584 1120.3 150.922 1118.19 Q153.26 1116.08 153.26 1112.47 Q153.26 1108.86 150.922 1106.76 Q148.584 1104.65 144.58 1104.65 Q142.705 1104.65 140.83 1105.07 Q138.978 1105.48 137.033 1106.36 L137.033 1089 Z\" fill=\"#000000\" fill-rule=\"nonzero\" fill-opacity=\"1\" /><path clip-path=\"url(#clip330)\" d=\"M100.76 752.644 Q97.1493 752.644 95.3206 756.209 Q93.515 759.75 93.515 766.88 Q93.515 773.986 95.3206 777.551 Q97.1493 781.093 100.76 781.093 Q104.395 781.093 106.2 777.551 Q108.029 773.986 108.029 766.88 Q108.029 759.75 106.2 756.209 Q104.395 752.644 100.76 752.644 M100.76 748.94 Q106.571 748.94 109.626 753.547 Q112.705 758.13 112.705 766.88 Q112.705 775.607 109.626 780.213 Q106.571 784.796 100.76 784.796 Q94.9502 784.796 91.8715 780.213 Q88.816 775.607 88.816 766.88 Q88.816 758.13 91.8715 753.547 Q94.9502 748.94 100.76 748.94 Z\" fill=\"#000000\" fill-rule=\"nonzero\" fill-opacity=\"1\" /><path clip-path=\"url(#clip330)\" d=\"M120.922 778.246 L125.807 778.246 L125.807 784.125 L120.922 784.125 L120.922 778.246 Z\" fill=\"#000000\" fill-rule=\"nonzero\" fill-opacity=\"1\" /><path clip-path=\"url(#clip330)\" d=\"M145.992 752.644 Q142.381 752.644 140.552 756.209 Q138.746 759.75 138.746 766.88 Q138.746 773.986 140.552 777.551 Q142.381 781.093 145.992 781.093 Q149.626 781.093 151.431 777.551 Q153.26 773.986 153.26 766.88 Q153.26 759.75 151.431 756.209 Q149.626 752.644 145.992 752.644 M145.992 748.94 Q151.802 748.94 154.857 753.547 Q157.936 758.13 157.936 766.88 Q157.936 775.607 154.857 780.213 Q151.802 784.796 145.992 784.796 Q140.181 784.796 137.103 780.213 Q134.047 775.607 134.047 766.88 Q134.047 758.13 137.103 753.547 Q140.181 748.94 145.992 748.94 Z\" fill=\"#000000\" fill-rule=\"nonzero\" fill-opacity=\"1\" /><path clip-path=\"url(#clip330)\" d=\"M101.756 413.208 Q98.1447 413.208 96.316 416.773 Q94.5104 420.315 94.5104 427.444 Q94.5104 434.551 96.316 438.116 Q98.1447 441.657 101.756 441.657 Q105.39 441.657 107.196 438.116 Q109.024 434.551 109.024 427.444 Q109.024 420.315 107.196 416.773 Q105.39 413.208 101.756 413.208 M101.756 409.505 Q107.566 409.505 110.621 414.111 Q113.7 418.695 113.7 427.444 Q113.7 436.171 110.621 440.778 Q107.566 445.361 101.756 445.361 Q95.9456 445.361 92.8669 440.778 Q89.8114 436.171 89.8114 427.444 Q89.8114 418.695 92.8669 414.111 Q95.9456 409.505 101.756 409.505 Z\" fill=\"#000000\" fill-rule=\"nonzero\" fill-opacity=\"1\" /><path clip-path=\"url(#clip330)\" d=\"M121.918 438.81 L126.802 438.81 L126.802 444.69 L121.918 444.69 L121.918 438.81 Z\" fill=\"#000000\" fill-rule=\"nonzero\" fill-opacity=\"1\" /><path clip-path=\"url(#clip330)\" d=\"M137.033 410.13 L155.39 410.13 L155.39 414.065 L141.316 414.065 L141.316 422.537 Q142.334 422.19 143.353 422.028 Q144.371 421.843 145.39 421.843 Q151.177 421.843 154.556 425.014 Q157.936 428.185 157.936 433.602 Q157.936 439.181 154.464 442.282 Q150.992 445.361 144.672 445.361 Q142.496 445.361 140.228 444.991 Q137.982 444.62 135.575 443.88 L135.575 439.181 Q137.658 440.315 139.881 440.87 Q142.103 441.426 144.58 441.426 Q148.584 441.426 150.922 439.319 Q153.26 437.213 153.26 433.602 Q153.26 429.991 150.922 427.884 Q148.584 425.778 144.58 425.778 Q142.705 425.778 140.83 426.194 Q138.978 426.611 137.033 427.491 L137.033 410.13 Z\" fill=\"#000000\" fill-rule=\"nonzero\" fill-opacity=\"1\" /><path clip-path=\"url(#clip330)\" d=\"M91.5706 101.319 L99.2095 101.319 L99.2095 74.9536 L90.8993 76.6202 L90.8993 72.361 L99.1632 70.6943 L103.839 70.6943 L103.839 101.319 L111.478 101.319 L111.478 105.254 L91.5706 105.254 L91.5706 101.319 Z\" fill=\"#000000\" fill-rule=\"nonzero\" fill-opacity=\"1\" /><path clip-path=\"url(#clip330)\" d=\"M120.922 99.3747 L125.807 99.3747 L125.807 105.254 L120.922 105.254 L120.922 99.3747 Z\" fill=\"#000000\" fill-rule=\"nonzero\" fill-opacity=\"1\" /><path clip-path=\"url(#clip330)\" d=\"M145.992 73.773 Q142.381 73.773 140.552 77.3378 Q138.746 80.8795 138.746 88.0091 Q138.746 95.1155 140.552 98.6803 Q142.381 102.222 145.992 102.222 Q149.626 102.222 151.431 98.6803 Q153.26 95.1155 153.26 88.0091 Q153.26 80.8795 151.431 77.3378 Q149.626 73.773 145.992 73.773 M145.992 70.0693 Q151.802 70.0693 154.857 74.6758 Q157.936 79.2591 157.936 88.0091 Q157.936 96.7359 154.857 101.342 Q151.802 105.926 145.992 105.926 Q140.181 105.926 137.103 101.342 Q134.047 96.7359 134.047 88.0091 Q134.047 79.2591 137.103 74.6758 Q140.181 70.0693 145.992 70.0693 Z\" fill=\"#000000\" fill-rule=\"nonzero\" fill-opacity=\"1\" /><polyline clip-path=\"url(#clip332)\" style=\"stroke:#009af9; stroke-linecap:round; stroke-linejoin:round; stroke-width:4; stroke-opacity:1; fill:none\" points=\"594.476,766.845 594.51,773.634 594.611,780.422 594.781,787.208 595.019,793.993 595.324,800.775 595.697,807.553 596.138,814.327 596.647,821.097 597.223,827.861 597.867,834.619 598.579,841.37 599.358,848.114 600.204,854.85 601.118,861.577 602.099,868.294 603.147,875.002 604.262,881.698 605.444,888.383 606.692,895.056 608.008,901.716 609.39,908.362 610.838,914.995 612.353,921.612 613.933,928.214 615.58,934.8 617.292,941.37 619.07,947.921 620.914,954.455 622.823,960.97 624.796,967.465 626.835,973.941 628.938,980.395 631.106,986.828 633.338,993.24 635.634,999.628 637.993,1005.99 640.417,1012.34 642.903,1018.65 645.453,1024.94 648.065,1031.21 650.74,1037.45 653.477,1043.66 656.276,1049.85 659.137,1056 662.059,1062.13 665.043,1068.23 668.087,1074.3 671.191,1080.33 674.356,1086.34 677.581,1092.31 680.866,1098.25 684.209,1104.16 687.612,1110.04 691.073,1115.88 694.592,1121.68 698.17,1127.45 701.804,1133.19 705.496,1138.88 709.245,1144.54 713.05,1150.16 716.911,1155.75 720.828,1161.29 724.8,1166.8 728.827,1172.26 732.908,1177.69 737.044,1183.07 741.233,1188.41 745.475,1193.71 749.77,1198.97 754.117,1204.19 758.517,1209.36 762.967,1214.48 767.469,1219.56 772.022,1224.6 776.624,1229.59 781.276,1234.53 785.978,1239.43 790.728,1244.28 795.526,1249.08 800.373,1253.84 805.266,1258.54 810.206,1263.2 815.193,1267.81 820.225,1272.36 825.303,1276.87 830.426,1281.32 835.592,1285.73 840.803,1290.08 846.057,1294.38 851.354,1298.62 856.692,1302.82 862.073,1306.96 867.494,1311.04 872.957,1315.07 878.459,1319.05 884,1322.97 889.581,1326.84 895.2,1330.65 900.857,1334.4 906.551,1338.1 912.282,1341.73 918.049,1345.32 923.851,1348.84 929.688,1352.31 935.56,1355.71 941.465,1359.06 947.404,1362.35 953.375,1365.58 959.379,1368.75 965.413,1371.86 971.479,1374.91 977.574,1377.9 983.7,1380.82 989.854,1383.69 996.036,1386.49 1002.25,1389.24 1008.48,1391.92 1014.75,1394.53 1021.04,1397.09 1027.35,1399.58 1033.69,1402.01 1040.06,1404.37 1046.44,1406.67 1052.85,1408.91 1059.28,1411.08 1065.74,1413.19 1072.21,1415.24 1078.7,1417.21 1085.22,1419.13 1091.75,1420.98 1098.3,1422.76 1104.87,1424.48 1111.45,1426.13 1118.05,1427.72 1124.67,1429.24 1131.3,1430.69 1137.95,1432.08 1144.6,1433.4 1151.28,1434.65 1157.96,1435.84 1164.66,1436.96 1171.36,1438.01 1178.08,1439 1184.81,1439.92 1191.54,1440.77 1198.28,1441.55 1205.03,1442.27 1211.79,1442.92 1218.56,1443.5 1225.32,1444.02 1232.1,1444.46 1238.88,1444.84 1245.66,1445.15 1252.44,1445.39 1259.23,1445.57 1266.02,1445.68 1272.81,1445.72 1279.59,1445.69 1286.38,1445.59 1293.17,1445.43 1299.95,1445.19 1306.74,1444.89 1313.51,1444.53 1320.29,1444.09 1327.06,1443.59 1333.82,1443.02 1340.58,1442.38 1347.33,1441.67 1354.08,1440.9 1360.82,1440.06 1367.54,1439.15 1374.26,1438.17 1380.97,1437.13 1387.67,1436.02 1394.35,1434.84 1401.03,1433.6 1407.69,1432.29 1414.33,1430.91 1420.97,1429.47 1427.59,1427.96 1434.19,1426.39 1440.78,1424.74 1447.35,1423.04 1453.9,1421.27 1460.44,1419.43 1466.95,1417.52 1473.45,1415.55 1479.93,1413.52 1486.38,1411.42 1492.82,1409.26 1499.23,1407.03 1505.62,1404.74 1511.99,1402.39 1518.33,1399.97 1524.65,1397.49 1530.95,1394.94 1537.21,1392.34 1543.45,1389.67 1549.67,1386.93 1555.86,1384.14 1562.02,1381.28 1568.14,1378.37 1574.25,1375.39 1580.32,1372.35 1586.36,1369.25 1592.36,1366.09 1598.34,1362.87 1604.28,1359.59 1610.19,1356.25 1616.07,1352.85 1621.91,1349.4 1627.72,1345.88 1633.5,1342.31 1639.23,1338.68 1644.93,1334.99 1650.59,1331.25 1656.22,1327.45 1661.81,1323.59 1667.35,1319.68 1672.86,1315.71 1678.33,1311.69 1683.76,1307.61 1689.15,1303.48 1694.49,1299.29 1699.8,1295.06 1705.06,1290.77 1710.27,1286.42 1715.45,1282.03 1720.58,1277.58 1725.66,1273.08 1730.7,1268.53 1735.7,1263.94 1740.64,1259.29 1745.54,1254.59 1750.4,1249.84 1755.2,1245.05 1759.96,1240.21 1764.67,1235.32 1769.33,1230.38 1773.94,1225.4 1778.5,1220.37 1783.01,1215.29 1787.47,1210.18 1791.88,1205.01 1796.23,1199.8 1800.54,1194.55 1804.79,1189.26 1808.99,1183.93 1813.13,1178.55 1817.22,1173.13 1821.25,1167.67 1825.24,1162.17 1829.16,1156.63 1833.03,1151.06 1836.85,1145.44 1840.6,1139.79 1844.3,1134.1 1847.95,1128.37 1851.53,1122.6 1855.06,1116.8 1858.53,1110.97 1861.95,1105.1 1865.3,1099.2 1868.59,1093.26 1871.83,1087.29 1875,1081.29 1878.12,1075.26 1881.17,1069.2 1884.16,1063.1 1887.09,1056.98 1889.97,1050.83 1892.77,1044.65 1895.52,1038.44 1898.21,1032.21 1900.83,1025.94 1903.39,1019.66 1905.88,1013.34 1908.32,1007.01 1910.69,1000.64 1912.99,994.259 1915.24,987.851 1917.41,981.421 1919.53,974.97 1921.58,968.498 1923.56,962.006 1925.48,955.494 1927.33,948.963 1929.12,942.414 1930.84,935.848 1932.5,929.265 1934.09,922.665 1935.62,916.05 1937.08,909.42 1938.47,902.775 1939.8,896.117 1941.05,889.447 1942.25,882.764 1943.37,876.069 1944.43,869.363 1945.42,862.647 1946.35,855.922 1947.2,849.188 1947.99,842.445 1948.72,835.695 1949.37,828.938 1949.96,822.175 1950.48,815.406 1950.93,808.632 1951.31,801.854 1951.63,795.073 1951.88,788.289 1952.06,781.503 1952.17,774.715 1952.22,767.926 1952.19,761.138 1952.1,754.35 1951.94,747.563 1951.72,740.778 1951.42,733.996 1951.06,727.217 1950.63,720.442 1950.13,713.671 1949.57,706.906 1948.93,700.147 1948.23,693.395 1947.46,686.65 1946.63,679.912 1945.73,673.184 1944.75,666.465 1943.72,659.756 1942.61,653.058 1941.44,646.371 1940.2,639.696 1938.9,633.034 1937.53,626.385 1936.09,619.751 1934.59,613.131 1933.02,606.526 1931.38,599.938 1929.68,593.366 1927.91,586.811 1926.08,580.275 1924.18,573.757 1922.22,567.258 1920.19,560.78 1918.09,554.322 1915.94,547.885 1913.71,541.47 1911.43,535.078 1909.08,528.709 1906.67,522.363 1904.19,516.042 1901.65,509.747 1899.05,503.477 1896.38,497.233 1893.66,491.016 1890.87,484.827 1888.02,478.666 1885.1,472.534 1882.13,466.431 1879.09,460.358 1876,454.316 1872.84,448.305 1869.63,442.326 1866.35,436.38 1863.02,430.466 1859.63,424.587 1856.17,418.741 1852.66,412.93 1849.1,407.155 1845.47,401.415 1841.79,395.713 1838.05,390.047 1834.25,384.419 1830.4,378.829 1826.49,373.278 1822.53,367.766 1818.51,362.294 1814.44,356.863 1810.31,351.473 1806.13,346.124 1801.9,340.817 1797.61,335.553 1793.27,330.332 1788.88,325.155 1784.44,320.022 1779.94,314.933 1775.4,309.89 1770.8,304.892 1766.16,299.941 1761.47,295.036 1756.72,290.179 1751.93,285.369 1747.1,280.607 1742.21,275.894 1737.28,271.23 1732.3,266.615 1727.27,262.051 1722.2,257.537 1717.09,253.074 1711.93,248.662 1706.72,244.303 1701.48,239.995 1696.19,235.74 1690.85,231.538 1685.48,227.39 1680.06,223.296 1674.61,219.256 1669.11,215.271 1663.58,211.341 1658,207.466 1652.39,203.648 1646.74,199.885 1641.05,196.18 1635.33,192.532 1629.57,188.94 1623.77,185.407 1617.94,181.932 1612.07,178.516 1606.17,175.158 1600.24,171.859 1594.27,168.62 1588.27,165.441 1582.24,162.322 1576.18,159.263 1570.09,156.265 1563.97,153.328 1557.82,150.453 1551.64,147.639 1545.44,144.887 1539.2,142.197 1532.94,139.57 1526.66,137.005 1520.35,134.504 1514.01,132.065 1507.65,129.69 1501.27,127.379 1494.86,125.132 1488.44,122.949 1481.99,120.83 1475.52,118.776 1469.02,116.787 1462.51,114.863 1455.99,113.004 1449.44,111.21 1442.87,109.482 1436.29,107.82 1429.69,106.223 1423.08,104.693 1416.45,103.228 1409.81,101.831 1403.15,100.499 1396.48,99.2346 1389.8,98.0367 1383.1,96.9057 1376.4,95.8416 1369.68,94.8446 1362.96,93.9149 1356.23,93.0524 1349.48,92.2573 1342.73,91.5297 1335.98,90.8696 1329.21,90.2771 1322.45,89.7523 1315.67,89.2951 1308.9,88.9057 1302.11,88.5842 1295.33,88.3304 1288.54,88.1445 1281.76,88.0264 1274.97,87.9763 1268.18,87.994 1261.39,88.0796 1254.6,88.2331 1247.82,88.4544 1241.04,88.7436 1234.26,89.1006 1227.48,89.5254 1220.71,90.0179 1213.95,90.5781 1207.19,91.2059 1200.43,91.9013 1193.69,92.6641 1186.95,93.4944 1180.22,94.392 1173.5,95.3569 1166.79,96.3889 1160.09,97.4879 1153.4,98.6539 1146.73,99.8867 1140.07,101.186 1133.42,102.552 1126.78,103.985 1120.16,105.484 1113.55,107.049 1106.96,108.679 1100.39,110.376 1093.83,112.138 1087.3,113.966 1080.78,115.859 1074.28,117.818 1067.8,119.841 1061.34,121.929 1054.9,124.081 1048.48,126.297 1042.09,128.578 1035.72,130.923 1029.37,133.331 1023.05,135.802 1016.75,138.337 1010.48,140.934 1004.23,143.594 998.011,146.316 991.82,149.101 985.657,151.947 979.522,154.854 973.417,157.823 967.342,160.853 961.297,163.943 955.284,167.094 949.303,170.304 943.353,173.574 937.437,176.904 931.555,180.292 925.707,183.74 919.893,187.245 914.115,190.809 908.372,194.43 902.667,198.108 896.998,201.843 891.367,205.635 885.774,209.483 880.22,213.386 874.705,217.345 869.23,221.359 863.795,225.427 858.402,229.55 853.05,233.726 847.739,237.955 842.472,242.238 837.247,246.573 832.067,250.96 826.93,255.398 821.838,259.888 816.791,264.428 811.79,269.019 806.835,273.659 801.926,278.349 797.065,283.087 792.251,287.874 787.486,292.709 782.769,297.591 778.101,302.521 773.482,307.496 768.914,312.518 764.396,317.585 759.929,322.697 755.513,327.853 751.149,333.053 746.837,338.297 742.578,343.583 738.372,348.912 734.22,354.282 730.121,359.694 726.077,365.147 722.087,370.639 718.153,376.172 714.274,381.743 710.451,387.353 706.684,393.001 702.974,398.686 699.321,404.408 695.726,410.166 692.188,415.96 688.708,421.789 685.287,427.653 681.924,433.55 678.621,439.481 675.377,445.445 672.193,451.44 669.069,457.467 666.006,463.526 663.003,469.614 660.061,475.732 657.181,481.88 654.362,488.055 651.605,494.259 648.91,500.49 646.278,506.748 643.708,513.031 641.202,519.34 638.758,525.674 636.378,532.032 634.062,538.413 631.81,544.817 629.622,551.244 627.498,557.691 625.439,564.16 623.444,570.649 621.515,577.158 619.651,583.686 617.852,590.232 616.118,596.795 614.451,603.376 612.849,609.973 611.313,616.586 609.844,623.214 608.441,629.856 607.104,636.511 605.834,643.18 604.631,649.862 603.495,656.554 602.425,663.258 601.423,669.973 600.488,676.697 599.62,683.43 598.819,690.171 598.086,696.92 597.421,703.676 596.823,710.438 596.293,717.206 595.83,723.979 595.436,730.756 595.109,737.537 594.849,744.321 594.658,751.107 594.535,757.894 594.479,764.683 \"/>\n",
       "</svg>\n"
      ],
      "text/html": [
       "<?xml version=\"1.0\" encoding=\"utf-8\"?>\n",
       "<svg xmlns=\"http://www.w3.org/2000/svg\" xmlns:xlink=\"http://www.w3.org/1999/xlink\" width=\"600\" height=\"400\" viewBox=\"0 0 2400 1600\">\n",
       "<defs>\n",
       "  <clipPath id=\"clip380\">\n",
       "    <rect x=\"0\" y=\"0\" width=\"2400\" height=\"1600\"/>\n",
       "  </clipPath>\n",
       "</defs>\n",
       "<path clip-path=\"url(#clip380)\" d=\"M0 1600 L2400 1600 L2400 8.88178e-14 L0 8.88178e-14  Z\" fill=\"#ffffff\" fill-rule=\"evenodd\" fill-opacity=\"1\"/>\n",
       "<defs>\n",
       "  <clipPath id=\"clip381\">\n",
       "    <rect x=\"480\" y=\"0\" width=\"1681\" height=\"1600\"/>\n",
       "  </clipPath>\n",
       "</defs>\n",
       "<path clip-path=\"url(#clip380)\" d=\"M193.936 1486.45 L2352.76 1486.45 L2352.76 47.2441 L193.936 47.2441  Z\" fill=\"#ffffff\" fill-rule=\"evenodd\" fill-opacity=\"1\"/>\n",
       "<defs>\n",
       "  <clipPath id=\"clip382\">\n",
       "    <rect x=\"193\" y=\"47\" width=\"2160\" height=\"1440\"/>\n",
       "  </clipPath>\n",
       "</defs>\n",
       "<polyline clip-path=\"url(#clip382)\" style=\"stroke:#000000; stroke-linecap:round; stroke-linejoin:round; stroke-width:2; stroke-opacity:0.1; fill:none\" points=\"255.04,1486.45 255.04,47.2441 \"/>\n",
       "<polyline clip-path=\"url(#clip382)\" style=\"stroke:#000000; stroke-linecap:round; stroke-linejoin:round; stroke-width:2; stroke-opacity:0.1; fill:none\" points=\"594.476,1486.45 594.476,47.2441 \"/>\n",
       "<polyline clip-path=\"url(#clip382)\" style=\"stroke:#000000; stroke-linecap:round; stroke-linejoin:round; stroke-width:2; stroke-opacity:0.1; fill:none\" points=\"933.911,1486.45 933.911,47.2441 \"/>\n",
       "<polyline clip-path=\"url(#clip382)\" style=\"stroke:#000000; stroke-linecap:round; stroke-linejoin:round; stroke-width:2; stroke-opacity:0.1; fill:none\" points=\"1273.35,1486.45 1273.35,47.2441 \"/>\n",
       "<polyline clip-path=\"url(#clip382)\" style=\"stroke:#000000; stroke-linecap:round; stroke-linejoin:round; stroke-width:2; stroke-opacity:0.1; fill:none\" points=\"1612.78,1486.45 1612.78,47.2441 \"/>\n",
       "<polyline clip-path=\"url(#clip382)\" style=\"stroke:#000000; stroke-linecap:round; stroke-linejoin:round; stroke-width:2; stroke-opacity:0.1; fill:none\" points=\"1952.22,1486.45 1952.22,47.2441 \"/>\n",
       "<polyline clip-path=\"url(#clip382)\" style=\"stroke:#000000; stroke-linecap:round; stroke-linejoin:round; stroke-width:2; stroke-opacity:0.1; fill:none\" points=\"2291.65,1486.45 2291.65,47.2441 \"/>\n",
       "<polyline clip-path=\"url(#clip382)\" style=\"stroke:#000000; stroke-linecap:round; stroke-linejoin:round; stroke-width:2; stroke-opacity:0.1; fill:none\" points=\"193.936,1445.72 2352.76,1445.72 \"/>\n",
       "<polyline clip-path=\"url(#clip382)\" style=\"stroke:#000000; stroke-linecap:round; stroke-linejoin:round; stroke-width:2; stroke-opacity:0.1; fill:none\" points=\"193.936,1106.28 2352.76,1106.28 \"/>\n",
       "<polyline clip-path=\"url(#clip382)\" style=\"stroke:#000000; stroke-linecap:round; stroke-linejoin:round; stroke-width:2; stroke-opacity:0.1; fill:none\" points=\"193.936,766.845 2352.76,766.845 \"/>\n",
       "<polyline clip-path=\"url(#clip382)\" style=\"stroke:#000000; stroke-linecap:round; stroke-linejoin:round; stroke-width:2; stroke-opacity:0.1; fill:none\" points=\"193.936,427.41 2352.76,427.41 \"/>\n",
       "<polyline clip-path=\"url(#clip382)\" style=\"stroke:#000000; stroke-linecap:round; stroke-linejoin:round; stroke-width:2; stroke-opacity:0.1; fill:none\" points=\"193.936,87.9743 2352.76,87.9743 \"/>\n",
       "<polyline clip-path=\"url(#clip380)\" style=\"stroke:#000000; stroke-linecap:round; stroke-linejoin:round; stroke-width:4; stroke-opacity:1; fill:none\" points=\"193.936,1486.45 2352.76,1486.45 \"/>\n",
       "<polyline clip-path=\"url(#clip380)\" style=\"stroke:#000000; stroke-linecap:round; stroke-linejoin:round; stroke-width:4; stroke-opacity:1; fill:none\" points=\"255.04,1486.45 255.04,1467.55 \"/>\n",
       "<polyline clip-path=\"url(#clip380)\" style=\"stroke:#000000; stroke-linecap:round; stroke-linejoin:round; stroke-width:4; stroke-opacity:1; fill:none\" points=\"594.476,1486.45 594.476,1467.55 \"/>\n",
       "<polyline clip-path=\"url(#clip380)\" style=\"stroke:#000000; stroke-linecap:round; stroke-linejoin:round; stroke-width:4; stroke-opacity:1; fill:none\" points=\"933.911,1486.45 933.911,1467.55 \"/>\n",
       "<polyline clip-path=\"url(#clip380)\" style=\"stroke:#000000; stroke-linecap:round; stroke-linejoin:round; stroke-width:4; stroke-opacity:1; fill:none\" points=\"1273.35,1486.45 1273.35,1467.55 \"/>\n",
       "<polyline clip-path=\"url(#clip380)\" style=\"stroke:#000000; stroke-linecap:round; stroke-linejoin:round; stroke-width:4; stroke-opacity:1; fill:none\" points=\"1612.78,1486.45 1612.78,1467.55 \"/>\n",
       "<polyline clip-path=\"url(#clip380)\" style=\"stroke:#000000; stroke-linecap:round; stroke-linejoin:round; stroke-width:4; stroke-opacity:1; fill:none\" points=\"1952.22,1486.45 1952.22,1467.55 \"/>\n",
       "<polyline clip-path=\"url(#clip380)\" style=\"stroke:#000000; stroke-linecap:round; stroke-linejoin:round; stroke-width:4; stroke-opacity:1; fill:none\" points=\"2291.65,1486.45 2291.65,1467.55 \"/>\n",
       "<path clip-path=\"url(#clip380)\" d=\"M202.066 1532.02 L231.742 1532.02 L231.742 1535.95 L202.066 1535.95 L202.066 1532.02 Z\" fill=\"#000000\" fill-rule=\"nonzero\" fill-opacity=\"1\" /><path clip-path=\"url(#clip380)\" d=\"M242.644 1544.91 L250.283 1544.91 L250.283 1518.55 L241.973 1520.21 L241.973 1515.95 L250.237 1514.29 L254.913 1514.29 L254.913 1544.91 L262.552 1544.91 L262.552 1548.85 L242.644 1548.85 L242.644 1544.91 Z\" fill=\"#000000\" fill-rule=\"nonzero\" fill-opacity=\"1\" /><path clip-path=\"url(#clip380)\" d=\"M271.996 1542.97 L276.88 1542.97 L276.88 1548.85 L271.996 1548.85 L271.996 1542.97 Z\" fill=\"#000000\" fill-rule=\"nonzero\" fill-opacity=\"1\" /><path clip-path=\"url(#clip380)\" d=\"M287.112 1514.29 L305.468 1514.29 L305.468 1518.22 L291.394 1518.22 L291.394 1526.7 Q292.413 1526.35 293.431 1526.19 Q294.45 1526 295.468 1526 Q301.255 1526 304.635 1529.17 Q308.014 1532.34 308.014 1537.76 Q308.014 1543.34 304.542 1546.44 Q301.07 1549.52 294.751 1549.52 Q292.575 1549.52 290.306 1549.15 Q288.061 1548.78 285.653 1548.04 L285.653 1543.34 Q287.737 1544.47 289.959 1545.03 Q292.181 1545.58 294.658 1545.58 Q298.663 1545.58 301.001 1543.48 Q303.339 1541.37 303.339 1537.76 Q303.339 1534.15 301.001 1532.04 Q298.663 1529.94 294.658 1529.94 Q292.783 1529.94 290.908 1530.35 Q289.056 1530.77 287.112 1531.65 L287.112 1514.29 Z\" fill=\"#000000\" fill-rule=\"nonzero\" fill-opacity=\"1\" /><path clip-path=\"url(#clip380)\" d=\"M541.004 1532.02 L570.679 1532.02 L570.679 1535.95 L541.004 1535.95 L541.004 1532.02 Z\" fill=\"#000000\" fill-rule=\"nonzero\" fill-opacity=\"1\" /><path clip-path=\"url(#clip380)\" d=\"M581.582 1544.91 L589.221 1544.91 L589.221 1518.55 L580.911 1520.21 L580.911 1515.95 L589.175 1514.29 L593.851 1514.29 L593.851 1544.91 L601.489 1544.91 L601.489 1548.85 L581.582 1548.85 L581.582 1544.91 Z\" fill=\"#000000\" fill-rule=\"nonzero\" fill-opacity=\"1\" /><path clip-path=\"url(#clip380)\" d=\"M610.934 1542.97 L615.818 1542.97 L615.818 1548.85 L610.934 1548.85 L610.934 1542.97 Z\" fill=\"#000000\" fill-rule=\"nonzero\" fill-opacity=\"1\" /><path clip-path=\"url(#clip380)\" d=\"M636.003 1517.37 Q632.392 1517.37 630.563 1520.93 Q628.758 1524.47 628.758 1531.6 Q628.758 1538.71 630.563 1542.27 Q632.392 1545.82 636.003 1545.82 Q639.637 1545.82 641.443 1542.27 Q643.272 1538.71 643.272 1531.6 Q643.272 1524.47 641.443 1520.93 Q639.637 1517.37 636.003 1517.37 M636.003 1513.66 Q641.813 1513.66 644.869 1518.27 Q647.948 1522.85 647.948 1531.6 Q647.948 1540.33 644.869 1544.94 Q641.813 1549.52 636.003 1549.52 Q630.193 1549.52 627.114 1544.94 Q624.059 1540.33 624.059 1531.6 Q624.059 1522.85 627.114 1518.27 Q630.193 1513.66 636.003 1513.66 Z\" fill=\"#000000\" fill-rule=\"nonzero\" fill-opacity=\"1\" /><path clip-path=\"url(#clip380)\" d=\"M880.937 1532.02 L910.613 1532.02 L910.613 1535.95 L880.937 1535.95 L880.937 1532.02 Z\" fill=\"#000000\" fill-rule=\"nonzero\" fill-opacity=\"1\" /><path clip-path=\"url(#clip380)\" d=\"M930.705 1517.37 Q927.094 1517.37 925.265 1520.93 Q923.46 1524.47 923.46 1531.6 Q923.46 1538.71 925.265 1542.27 Q927.094 1545.82 930.705 1545.82 Q934.339 1545.82 936.145 1542.27 Q937.973 1538.71 937.973 1531.6 Q937.973 1524.47 936.145 1520.93 Q934.339 1517.37 930.705 1517.37 M930.705 1513.66 Q936.515 1513.66 939.571 1518.27 Q942.649 1522.85 942.649 1531.6 Q942.649 1540.33 939.571 1544.94 Q936.515 1549.52 930.705 1549.52 Q924.895 1549.52 921.816 1544.94 Q918.761 1540.33 918.761 1531.6 Q918.761 1522.85 921.816 1518.27 Q924.895 1513.66 930.705 1513.66 Z\" fill=\"#000000\" fill-rule=\"nonzero\" fill-opacity=\"1\" /><path clip-path=\"url(#clip380)\" d=\"M950.867 1542.97 L955.751 1542.97 L955.751 1548.85 L950.867 1548.85 L950.867 1542.97 Z\" fill=\"#000000\" fill-rule=\"nonzero\" fill-opacity=\"1\" /><path clip-path=\"url(#clip380)\" d=\"M965.983 1514.29 L984.339 1514.29 L984.339 1518.22 L970.265 1518.22 L970.265 1526.7 Q971.283 1526.35 972.302 1526.19 Q973.321 1526 974.339 1526 Q980.126 1526 983.506 1529.17 Q986.885 1532.34 986.885 1537.76 Q986.885 1543.34 983.413 1546.44 Q979.941 1549.52 973.621 1549.52 Q971.446 1549.52 969.177 1549.15 Q966.932 1548.78 964.524 1548.04 L964.524 1543.34 Q966.608 1544.47 968.83 1545.03 Q971.052 1545.58 973.529 1545.58 Q977.533 1545.58 979.871 1543.48 Q982.209 1541.37 982.209 1537.76 Q982.209 1534.15 979.871 1532.04 Q977.533 1529.94 973.529 1529.94 Q971.654 1529.94 969.779 1530.35 Q967.927 1530.77 965.983 1531.65 L965.983 1514.29 Z\" fill=\"#000000\" fill-rule=\"nonzero\" fill-opacity=\"1\" /><path clip-path=\"url(#clip380)\" d=\"M1250.73 1517.37 Q1247.12 1517.37 1245.29 1520.93 Q1243.49 1524.47 1243.49 1531.6 Q1243.49 1538.71 1245.29 1542.27 Q1247.12 1545.82 1250.73 1545.82 Q1254.37 1545.82 1256.17 1542.27 Q1258 1538.71 1258 1531.6 Q1258 1524.47 1256.17 1520.93 Q1254.37 1517.37 1250.73 1517.37 M1250.73 1513.66 Q1256.54 1513.66 1259.6 1518.27 Q1262.68 1522.85 1262.68 1531.6 Q1262.68 1540.33 1259.6 1544.94 Q1256.54 1549.52 1250.73 1549.52 Q1244.92 1549.52 1241.84 1544.94 Q1238.79 1540.33 1238.79 1531.6 Q1238.79 1522.85 1241.84 1518.27 Q1244.92 1513.66 1250.73 1513.66 Z\" fill=\"#000000\" fill-rule=\"nonzero\" fill-opacity=\"1\" /><path clip-path=\"url(#clip380)\" d=\"M1270.89 1542.97 L1275.78 1542.97 L1275.78 1548.85 L1270.89 1548.85 L1270.89 1542.97 Z\" fill=\"#000000\" fill-rule=\"nonzero\" fill-opacity=\"1\" /><path clip-path=\"url(#clip380)\" d=\"M1295.96 1517.37 Q1292.35 1517.37 1290.52 1520.93 Q1288.72 1524.47 1288.72 1531.6 Q1288.72 1538.71 1290.52 1542.27 Q1292.35 1545.82 1295.96 1545.82 Q1299.6 1545.82 1301.4 1542.27 Q1303.23 1538.71 1303.23 1531.6 Q1303.23 1524.47 1301.4 1520.93 Q1299.6 1517.37 1295.96 1517.37 M1295.96 1513.66 Q1301.77 1513.66 1304.83 1518.27 Q1307.91 1522.85 1307.91 1531.6 Q1307.91 1540.33 1304.83 1544.94 Q1301.77 1549.52 1295.96 1549.52 Q1290.15 1549.52 1287.07 1544.94 Q1284.02 1540.33 1284.02 1531.6 Q1284.02 1522.85 1287.07 1518.27 Q1290.15 1513.66 1295.96 1513.66 Z\" fill=\"#000000\" fill-rule=\"nonzero\" fill-opacity=\"1\" /><path clip-path=\"url(#clip380)\" d=\"M1590.66 1517.37 Q1587.05 1517.37 1585.22 1520.93 Q1583.42 1524.47 1583.42 1531.6 Q1583.42 1538.71 1585.22 1542.27 Q1587.05 1545.82 1590.66 1545.82 Q1594.3 1545.82 1596.1 1542.27 Q1597.93 1538.71 1597.93 1531.6 Q1597.93 1524.47 1596.1 1520.93 Q1594.3 1517.37 1590.66 1517.37 M1590.66 1513.66 Q1596.47 1513.66 1599.53 1518.27 Q1602.61 1522.85 1602.61 1531.6 Q1602.61 1540.33 1599.53 1544.94 Q1596.47 1549.52 1590.66 1549.52 Q1584.85 1549.52 1581.77 1544.94 Q1578.72 1540.33 1578.72 1531.6 Q1578.72 1522.85 1581.77 1518.27 Q1584.85 1513.66 1590.66 1513.66 Z\" fill=\"#000000\" fill-rule=\"nonzero\" fill-opacity=\"1\" /><path clip-path=\"url(#clip380)\" d=\"M1610.83 1542.97 L1615.71 1542.97 L1615.71 1548.85 L1610.83 1548.85 L1610.83 1542.97 Z\" fill=\"#000000\" fill-rule=\"nonzero\" fill-opacity=\"1\" /><path clip-path=\"url(#clip380)\" d=\"M1625.94 1514.29 L1644.3 1514.29 L1644.3 1518.22 L1630.22 1518.22 L1630.22 1526.7 Q1631.24 1526.35 1632.26 1526.19 Q1633.28 1526 1634.3 1526 Q1640.08 1526 1643.46 1529.17 Q1646.84 1532.34 1646.84 1537.76 Q1646.84 1543.34 1643.37 1546.44 Q1639.9 1549.52 1633.58 1549.52 Q1631.4 1549.52 1629.14 1549.15 Q1626.89 1548.78 1624.48 1548.04 L1624.48 1543.34 Q1626.57 1544.47 1628.79 1545.03 Q1631.01 1545.58 1633.49 1545.58 Q1637.49 1545.58 1639.83 1543.48 Q1642.17 1541.37 1642.17 1537.76 Q1642.17 1534.15 1639.83 1532.04 Q1637.49 1529.94 1633.49 1529.94 Q1631.61 1529.94 1629.74 1530.35 Q1627.89 1530.77 1625.94 1531.65 L1625.94 1514.29 Z\" fill=\"#000000\" fill-rule=\"nonzero\" fill-opacity=\"1\" /><path clip-path=\"url(#clip380)\" d=\"M1919.37 1544.91 L1927.01 1544.91 L1927.01 1518.55 L1918.7 1520.21 L1918.7 1515.95 L1926.96 1514.29 L1931.64 1514.29 L1931.64 1544.91 L1939.28 1544.91 L1939.28 1548.85 L1919.37 1548.85 L1919.37 1544.91 Z\" fill=\"#000000\" fill-rule=\"nonzero\" fill-opacity=\"1\" /><path clip-path=\"url(#clip380)\" d=\"M1948.72 1542.97 L1953.61 1542.97 L1953.61 1548.85 L1948.72 1548.85 L1948.72 1542.97 Z\" fill=\"#000000\" fill-rule=\"nonzero\" fill-opacity=\"1\" /><path clip-path=\"url(#clip380)\" d=\"M1973.79 1517.37 Q1970.18 1517.37 1968.35 1520.93 Q1966.55 1524.47 1966.55 1531.6 Q1966.55 1538.71 1968.35 1542.27 Q1970.18 1545.82 1973.79 1545.82 Q1977.43 1545.82 1979.23 1542.27 Q1981.06 1538.71 1981.06 1531.6 Q1981.06 1524.47 1979.23 1520.93 Q1977.43 1517.37 1973.79 1517.37 M1973.79 1513.66 Q1979.6 1513.66 1982.66 1518.27 Q1985.74 1522.85 1985.74 1531.6 Q1985.74 1540.33 1982.66 1544.94 Q1979.6 1549.52 1973.79 1549.52 Q1967.98 1549.52 1964.9 1544.94 Q1961.85 1540.33 1961.85 1531.6 Q1961.85 1522.85 1964.9 1518.27 Q1967.98 1513.66 1973.79 1513.66 Z\" fill=\"#000000\" fill-rule=\"nonzero\" fill-opacity=\"1\" /><path clip-path=\"url(#clip380)\" d=\"M2259.3 1544.91 L2266.94 1544.91 L2266.94 1518.55 L2258.63 1520.21 L2258.63 1515.95 L2266.9 1514.29 L2271.57 1514.29 L2271.57 1544.91 L2279.21 1544.91 L2279.21 1548.85 L2259.3 1548.85 L2259.3 1544.91 Z\" fill=\"#000000\" fill-rule=\"nonzero\" fill-opacity=\"1\" /><path clip-path=\"url(#clip380)\" d=\"M2288.65 1542.97 L2293.54 1542.97 L2293.54 1548.85 L2288.65 1548.85 L2288.65 1542.97 Z\" fill=\"#000000\" fill-rule=\"nonzero\" fill-opacity=\"1\" /><path clip-path=\"url(#clip380)\" d=\"M2303.77 1514.29 L2322.13 1514.29 L2322.13 1518.22 L2308.05 1518.22 L2308.05 1526.7 Q2309.07 1526.35 2310.09 1526.19 Q2311.11 1526 2312.13 1526 Q2317.91 1526 2321.29 1529.17 Q2324.67 1532.34 2324.67 1537.76 Q2324.67 1543.34 2321.2 1546.44 Q2317.73 1549.52 2311.41 1549.52 Q2309.23 1549.52 2306.96 1549.15 Q2304.72 1548.78 2302.31 1548.04 L2302.31 1543.34 Q2304.4 1544.47 2306.62 1545.03 Q2308.84 1545.58 2311.32 1545.58 Q2315.32 1545.58 2317.66 1543.48 Q2320 1541.37 2320 1537.76 Q2320 1534.15 2317.66 1532.04 Q2315.32 1529.94 2311.32 1529.94 Q2309.44 1529.94 2307.57 1530.35 Q2305.71 1530.77 2303.77 1531.65 L2303.77 1514.29 Z\" fill=\"#000000\" fill-rule=\"nonzero\" fill-opacity=\"1\" /><polyline clip-path=\"url(#clip380)\" style=\"stroke:#000000; stroke-linecap:round; stroke-linejoin:round; stroke-width:4; stroke-opacity:1; fill:none\" points=\"193.936,1486.45 193.936,47.2441 \"/>\n",
       "<polyline clip-path=\"url(#clip380)\" style=\"stroke:#000000; stroke-linecap:round; stroke-linejoin:round; stroke-width:4; stroke-opacity:1; fill:none\" points=\"193.936,1445.72 212.834,1445.72 \"/>\n",
       "<polyline clip-path=\"url(#clip380)\" style=\"stroke:#000000; stroke-linecap:round; stroke-linejoin:round; stroke-width:4; stroke-opacity:1; fill:none\" points=\"193.936,1106.28 212.834,1106.28 \"/>\n",
       "<polyline clip-path=\"url(#clip380)\" style=\"stroke:#000000; stroke-linecap:round; stroke-linejoin:round; stroke-width:4; stroke-opacity:1; fill:none\" points=\"193.936,766.845 212.834,766.845 \"/>\n",
       "<polyline clip-path=\"url(#clip380)\" style=\"stroke:#000000; stroke-linecap:round; stroke-linejoin:round; stroke-width:4; stroke-opacity:1; fill:none\" points=\"193.936,427.41 212.834,427.41 \"/>\n",
       "<polyline clip-path=\"url(#clip380)\" style=\"stroke:#000000; stroke-linecap:round; stroke-linejoin:round; stroke-width:4; stroke-opacity:1; fill:none\" points=\"193.936,87.9743 212.834,87.9743 \"/>\n",
       "<path clip-path=\"url(#clip380)\" d=\"M50.9921 1446.17 L80.6679 1446.17 L80.6679 1450.1 L50.9921 1450.1 L50.9921 1446.17 Z\" fill=\"#000000\" fill-rule=\"nonzero\" fill-opacity=\"1\" /><path clip-path=\"url(#clip380)\" d=\"M91.5706 1459.06 L99.2095 1459.06 L99.2095 1432.7 L90.8993 1434.36 L90.8993 1430.1 L99.1632 1428.44 L103.839 1428.44 L103.839 1459.06 L111.478 1459.06 L111.478 1463 L91.5706 1463 L91.5706 1459.06 Z\" fill=\"#000000\" fill-rule=\"nonzero\" fill-opacity=\"1\" /><path clip-path=\"url(#clip380)\" d=\"M120.922 1457.12 L125.807 1457.12 L125.807 1463 L120.922 1463 L120.922 1457.12 Z\" fill=\"#000000\" fill-rule=\"nonzero\" fill-opacity=\"1\" /><path clip-path=\"url(#clip380)\" d=\"M145.992 1431.51 Q142.381 1431.51 140.552 1435.08 Q138.746 1438.62 138.746 1445.75 Q138.746 1452.86 140.552 1456.42 Q142.381 1459.96 145.992 1459.96 Q149.626 1459.96 151.431 1456.42 Q153.26 1452.86 153.26 1445.75 Q153.26 1438.62 151.431 1435.08 Q149.626 1431.51 145.992 1431.51 M145.992 1427.81 Q151.802 1427.81 154.857 1432.42 Q157.936 1437 157.936 1445.75 Q157.936 1454.48 154.857 1459.08 Q151.802 1463.67 145.992 1463.67 Q140.181 1463.67 137.103 1459.08 Q134.047 1454.48 134.047 1445.75 Q134.047 1437 137.103 1432.42 Q140.181 1427.81 145.992 1427.81 Z\" fill=\"#000000\" fill-rule=\"nonzero\" fill-opacity=\"1\" /><path clip-path=\"url(#clip380)\" d=\"M51.9875 1106.73 L81.6633 1106.73 L81.6633 1110.67 L51.9875 1110.67 L51.9875 1106.73 Z\" fill=\"#000000\" fill-rule=\"nonzero\" fill-opacity=\"1\" /><path clip-path=\"url(#clip380)\" d=\"M101.756 1092.08 Q98.1447 1092.08 96.316 1095.64 Q94.5104 1099.19 94.5104 1106.32 Q94.5104 1113.42 96.316 1116.99 Q98.1447 1120.53 101.756 1120.53 Q105.39 1120.53 107.196 1116.99 Q109.024 1113.42 109.024 1106.32 Q109.024 1099.19 107.196 1095.64 Q105.39 1092.08 101.756 1092.08 M101.756 1088.38 Q107.566 1088.38 110.621 1092.98 Q113.7 1097.57 113.7 1106.32 Q113.7 1115.04 110.621 1119.65 Q107.566 1124.23 101.756 1124.23 Q95.9456 1124.23 92.8669 1119.65 Q89.8114 1115.04 89.8114 1106.32 Q89.8114 1097.57 92.8669 1092.98 Q95.9456 1088.38 101.756 1088.38 Z\" fill=\"#000000\" fill-rule=\"nonzero\" fill-opacity=\"1\" /><path clip-path=\"url(#clip380)\" d=\"M121.918 1117.68 L126.802 1117.68 L126.802 1123.56 L121.918 1123.56 L121.918 1117.68 Z\" fill=\"#000000\" fill-rule=\"nonzero\" fill-opacity=\"1\" /><path clip-path=\"url(#clip380)\" d=\"M137.033 1089 L155.39 1089 L155.39 1092.94 L141.316 1092.94 L141.316 1101.41 Q142.334 1101.06 143.353 1100.9 Q144.371 1100.71 145.39 1100.71 Q151.177 1100.71 154.556 1103.88 Q157.936 1107.06 157.936 1112.47 Q157.936 1118.05 154.464 1121.15 Q150.992 1124.23 144.672 1124.23 Q142.496 1124.23 140.228 1123.86 Q137.982 1123.49 135.575 1122.75 L135.575 1118.05 Q137.658 1119.19 139.881 1119.74 Q142.103 1120.3 144.58 1120.3 Q148.584 1120.3 150.922 1118.19 Q153.26 1116.08 153.26 1112.47 Q153.26 1108.86 150.922 1106.76 Q148.584 1104.65 144.58 1104.65 Q142.705 1104.65 140.83 1105.07 Q138.978 1105.48 137.033 1106.36 L137.033 1089 Z\" fill=\"#000000\" fill-rule=\"nonzero\" fill-opacity=\"1\" /><path clip-path=\"url(#clip380)\" d=\"M100.76 752.644 Q97.1493 752.644 95.3206 756.209 Q93.515 759.75 93.515 766.88 Q93.515 773.986 95.3206 777.551 Q97.1493 781.093 100.76 781.093 Q104.395 781.093 106.2 777.551 Q108.029 773.986 108.029 766.88 Q108.029 759.75 106.2 756.209 Q104.395 752.644 100.76 752.644 M100.76 748.94 Q106.571 748.94 109.626 753.547 Q112.705 758.13 112.705 766.88 Q112.705 775.607 109.626 780.213 Q106.571 784.796 100.76 784.796 Q94.9502 784.796 91.8715 780.213 Q88.816 775.607 88.816 766.88 Q88.816 758.13 91.8715 753.547 Q94.9502 748.94 100.76 748.94 Z\" fill=\"#000000\" fill-rule=\"nonzero\" fill-opacity=\"1\" /><path clip-path=\"url(#clip380)\" d=\"M120.922 778.246 L125.807 778.246 L125.807 784.125 L120.922 784.125 L120.922 778.246 Z\" fill=\"#000000\" fill-rule=\"nonzero\" fill-opacity=\"1\" /><path clip-path=\"url(#clip380)\" d=\"M145.992 752.644 Q142.381 752.644 140.552 756.209 Q138.746 759.75 138.746 766.88 Q138.746 773.986 140.552 777.551 Q142.381 781.093 145.992 781.093 Q149.626 781.093 151.431 777.551 Q153.26 773.986 153.26 766.88 Q153.26 759.75 151.431 756.209 Q149.626 752.644 145.992 752.644 M145.992 748.94 Q151.802 748.94 154.857 753.547 Q157.936 758.13 157.936 766.88 Q157.936 775.607 154.857 780.213 Q151.802 784.796 145.992 784.796 Q140.181 784.796 137.103 780.213 Q134.047 775.607 134.047 766.88 Q134.047 758.13 137.103 753.547 Q140.181 748.94 145.992 748.94 Z\" fill=\"#000000\" fill-rule=\"nonzero\" fill-opacity=\"1\" /><path clip-path=\"url(#clip380)\" d=\"M101.756 413.208 Q98.1447 413.208 96.316 416.773 Q94.5104 420.315 94.5104 427.444 Q94.5104 434.551 96.316 438.116 Q98.1447 441.657 101.756 441.657 Q105.39 441.657 107.196 438.116 Q109.024 434.551 109.024 427.444 Q109.024 420.315 107.196 416.773 Q105.39 413.208 101.756 413.208 M101.756 409.505 Q107.566 409.505 110.621 414.111 Q113.7 418.695 113.7 427.444 Q113.7 436.171 110.621 440.778 Q107.566 445.361 101.756 445.361 Q95.9456 445.361 92.8669 440.778 Q89.8114 436.171 89.8114 427.444 Q89.8114 418.695 92.8669 414.111 Q95.9456 409.505 101.756 409.505 Z\" fill=\"#000000\" fill-rule=\"nonzero\" fill-opacity=\"1\" /><path clip-path=\"url(#clip380)\" d=\"M121.918 438.81 L126.802 438.81 L126.802 444.69 L121.918 444.69 L121.918 438.81 Z\" fill=\"#000000\" fill-rule=\"nonzero\" fill-opacity=\"1\" /><path clip-path=\"url(#clip380)\" d=\"M137.033 410.13 L155.39 410.13 L155.39 414.065 L141.316 414.065 L141.316 422.537 Q142.334 422.19 143.353 422.028 Q144.371 421.843 145.39 421.843 Q151.177 421.843 154.556 425.014 Q157.936 428.185 157.936 433.602 Q157.936 439.181 154.464 442.282 Q150.992 445.361 144.672 445.361 Q142.496 445.361 140.228 444.991 Q137.982 444.62 135.575 443.88 L135.575 439.181 Q137.658 440.315 139.881 440.87 Q142.103 441.426 144.58 441.426 Q148.584 441.426 150.922 439.319 Q153.26 437.213 153.26 433.602 Q153.26 429.991 150.922 427.884 Q148.584 425.778 144.58 425.778 Q142.705 425.778 140.83 426.194 Q138.978 426.611 137.033 427.491 L137.033 410.13 Z\" fill=\"#000000\" fill-rule=\"nonzero\" fill-opacity=\"1\" /><path clip-path=\"url(#clip380)\" d=\"M91.5706 101.319 L99.2095 101.319 L99.2095 74.9536 L90.8993 76.6202 L90.8993 72.361 L99.1632 70.6943 L103.839 70.6943 L103.839 101.319 L111.478 101.319 L111.478 105.254 L91.5706 105.254 L91.5706 101.319 Z\" fill=\"#000000\" fill-rule=\"nonzero\" fill-opacity=\"1\" /><path clip-path=\"url(#clip380)\" d=\"M120.922 99.3747 L125.807 99.3747 L125.807 105.254 L120.922 105.254 L120.922 99.3747 Z\" fill=\"#000000\" fill-rule=\"nonzero\" fill-opacity=\"1\" /><path clip-path=\"url(#clip380)\" d=\"M145.992 73.773 Q142.381 73.773 140.552 77.3378 Q138.746 80.8795 138.746 88.0091 Q138.746 95.1155 140.552 98.6803 Q142.381 102.222 145.992 102.222 Q149.626 102.222 151.431 98.6803 Q153.26 95.1155 153.26 88.0091 Q153.26 80.8795 151.431 77.3378 Q149.626 73.773 145.992 73.773 M145.992 70.0693 Q151.802 70.0693 154.857 74.6758 Q157.936 79.2591 157.936 88.0091 Q157.936 96.7359 154.857 101.342 Q151.802 105.926 145.992 105.926 Q140.181 105.926 137.103 101.342 Q134.047 96.7359 134.047 88.0091 Q134.047 79.2591 137.103 74.6758 Q140.181 70.0693 145.992 70.0693 Z\" fill=\"#000000\" fill-rule=\"nonzero\" fill-opacity=\"1\" /><polyline clip-path=\"url(#clip382)\" style=\"stroke:#009af9; stroke-linecap:round; stroke-linejoin:round; stroke-width:4; stroke-opacity:1; fill:none\" points=\"594.476,766.845 594.51,773.634 594.611,780.422 594.781,787.208 595.019,793.993 595.324,800.775 595.697,807.553 596.138,814.327 596.647,821.097 597.223,827.861 597.867,834.619 598.579,841.37 599.358,848.114 600.204,854.85 601.118,861.577 602.099,868.294 603.147,875.002 604.262,881.698 605.444,888.383 606.692,895.056 608.008,901.716 609.39,908.362 610.838,914.995 612.353,921.612 613.933,928.214 615.58,934.8 617.292,941.37 619.07,947.921 620.914,954.455 622.823,960.97 624.796,967.465 626.835,973.941 628.938,980.395 631.106,986.828 633.338,993.24 635.634,999.628 637.993,1005.99 640.417,1012.34 642.903,1018.65 645.453,1024.94 648.065,1031.21 650.74,1037.45 653.477,1043.66 656.276,1049.85 659.137,1056 662.059,1062.13 665.043,1068.23 668.087,1074.3 671.191,1080.33 674.356,1086.34 677.581,1092.31 680.866,1098.25 684.209,1104.16 687.612,1110.04 691.073,1115.88 694.592,1121.68 698.17,1127.45 701.804,1133.19 705.496,1138.88 709.245,1144.54 713.05,1150.16 716.911,1155.75 720.828,1161.29 724.8,1166.8 728.827,1172.26 732.908,1177.69 737.044,1183.07 741.233,1188.41 745.475,1193.71 749.77,1198.97 754.117,1204.19 758.517,1209.36 762.967,1214.48 767.469,1219.56 772.022,1224.6 776.624,1229.59 781.276,1234.53 785.978,1239.43 790.728,1244.28 795.526,1249.08 800.373,1253.84 805.266,1258.54 810.206,1263.2 815.193,1267.81 820.225,1272.36 825.303,1276.87 830.426,1281.32 835.592,1285.73 840.803,1290.08 846.057,1294.38 851.354,1298.62 856.692,1302.82 862.073,1306.96 867.494,1311.04 872.957,1315.07 878.459,1319.05 884,1322.97 889.581,1326.84 895.2,1330.65 900.857,1334.4 906.551,1338.1 912.282,1341.73 918.049,1345.32 923.851,1348.84 929.688,1352.31 935.56,1355.71 941.465,1359.06 947.404,1362.35 953.375,1365.58 959.379,1368.75 965.413,1371.86 971.479,1374.91 977.574,1377.9 983.7,1380.82 989.854,1383.69 996.036,1386.49 1002.25,1389.24 1008.48,1391.92 1014.75,1394.53 1021.04,1397.09 1027.35,1399.58 1033.69,1402.01 1040.06,1404.37 1046.44,1406.67 1052.85,1408.91 1059.28,1411.08 1065.74,1413.19 1072.21,1415.24 1078.7,1417.21 1085.22,1419.13 1091.75,1420.98 1098.3,1422.76 1104.87,1424.48 1111.45,1426.13 1118.05,1427.72 1124.67,1429.24 1131.3,1430.69 1137.95,1432.08 1144.6,1433.4 1151.28,1434.65 1157.96,1435.84 1164.66,1436.96 1171.36,1438.01 1178.08,1439 1184.81,1439.92 1191.54,1440.77 1198.28,1441.55 1205.03,1442.27 1211.79,1442.92 1218.56,1443.5 1225.32,1444.02 1232.1,1444.46 1238.88,1444.84 1245.66,1445.15 1252.44,1445.39 1259.23,1445.57 1266.02,1445.68 1272.81,1445.72 1279.59,1445.69 1286.38,1445.59 1293.17,1445.43 1299.95,1445.19 1306.74,1444.89 1313.51,1444.53 1320.29,1444.09 1327.06,1443.59 1333.82,1443.02 1340.58,1442.38 1347.33,1441.67 1354.08,1440.9 1360.82,1440.06 1367.54,1439.15 1374.26,1438.17 1380.97,1437.13 1387.67,1436.02 1394.35,1434.84 1401.03,1433.6 1407.69,1432.29 1414.33,1430.91 1420.97,1429.47 1427.59,1427.96 1434.19,1426.39 1440.78,1424.74 1447.35,1423.04 1453.9,1421.27 1460.44,1419.43 1466.95,1417.52 1473.45,1415.55 1479.93,1413.52 1486.38,1411.42 1492.82,1409.26 1499.23,1407.03 1505.62,1404.74 1511.99,1402.39 1518.33,1399.97 1524.65,1397.49 1530.95,1394.94 1537.21,1392.34 1543.45,1389.67 1549.67,1386.93 1555.86,1384.14 1562.02,1381.28 1568.14,1378.37 1574.25,1375.39 1580.32,1372.35 1586.36,1369.25 1592.36,1366.09 1598.34,1362.87 1604.28,1359.59 1610.19,1356.25 1616.07,1352.85 1621.91,1349.4 1627.72,1345.88 1633.5,1342.31 1639.23,1338.68 1644.93,1334.99 1650.59,1331.25 1656.22,1327.45 1661.81,1323.59 1667.35,1319.68 1672.86,1315.71 1678.33,1311.69 1683.76,1307.61 1689.15,1303.48 1694.49,1299.29 1699.8,1295.06 1705.06,1290.77 1710.27,1286.42 1715.45,1282.03 1720.58,1277.58 1725.66,1273.08 1730.7,1268.53 1735.7,1263.94 1740.64,1259.29 1745.54,1254.59 1750.4,1249.84 1755.2,1245.05 1759.96,1240.21 1764.67,1235.32 1769.33,1230.38 1773.94,1225.4 1778.5,1220.37 1783.01,1215.29 1787.47,1210.18 1791.88,1205.01 1796.23,1199.8 1800.54,1194.55 1804.79,1189.26 1808.99,1183.93 1813.13,1178.55 1817.22,1173.13 1821.25,1167.67 1825.24,1162.17 1829.16,1156.63 1833.03,1151.06 1836.85,1145.44 1840.6,1139.79 1844.3,1134.1 1847.95,1128.37 1851.53,1122.6 1855.06,1116.8 1858.53,1110.97 1861.95,1105.1 1865.3,1099.2 1868.59,1093.26 1871.83,1087.29 1875,1081.29 1878.12,1075.26 1881.17,1069.2 1884.16,1063.1 1887.09,1056.98 1889.97,1050.83 1892.77,1044.65 1895.52,1038.44 1898.21,1032.21 1900.83,1025.94 1903.39,1019.66 1905.88,1013.34 1908.32,1007.01 1910.69,1000.64 1912.99,994.259 1915.24,987.851 1917.41,981.421 1919.53,974.97 1921.58,968.498 1923.56,962.006 1925.48,955.494 1927.33,948.963 1929.12,942.414 1930.84,935.848 1932.5,929.265 1934.09,922.665 1935.62,916.05 1937.08,909.42 1938.47,902.775 1939.8,896.117 1941.05,889.447 1942.25,882.764 1943.37,876.069 1944.43,869.363 1945.42,862.647 1946.35,855.922 1947.2,849.188 1947.99,842.445 1948.72,835.695 1949.37,828.938 1949.96,822.175 1950.48,815.406 1950.93,808.632 1951.31,801.854 1951.63,795.073 1951.88,788.289 1952.06,781.503 1952.17,774.715 1952.22,767.926 1952.19,761.138 1952.1,754.35 1951.94,747.563 1951.72,740.778 1951.42,733.996 1951.06,727.217 1950.63,720.442 1950.13,713.671 1949.57,706.906 1948.93,700.147 1948.23,693.395 1947.46,686.65 1946.63,679.912 1945.73,673.184 1944.75,666.465 1943.72,659.756 1942.61,653.058 1941.44,646.371 1940.2,639.696 1938.9,633.034 1937.53,626.385 1936.09,619.751 1934.59,613.131 1933.02,606.526 1931.38,599.938 1929.68,593.366 1927.91,586.811 1926.08,580.275 1924.18,573.757 1922.22,567.258 1920.19,560.78 1918.09,554.322 1915.94,547.885 1913.71,541.47 1911.43,535.078 1909.08,528.709 1906.67,522.363 1904.19,516.042 1901.65,509.747 1899.05,503.477 1896.38,497.233 1893.66,491.016 1890.87,484.827 1888.02,478.666 1885.1,472.534 1882.13,466.431 1879.09,460.358 1876,454.316 1872.84,448.305 1869.63,442.326 1866.35,436.38 1863.02,430.466 1859.63,424.587 1856.17,418.741 1852.66,412.93 1849.1,407.155 1845.47,401.415 1841.79,395.713 1838.05,390.047 1834.25,384.419 1830.4,378.829 1826.49,373.278 1822.53,367.766 1818.51,362.294 1814.44,356.863 1810.31,351.473 1806.13,346.124 1801.9,340.817 1797.61,335.553 1793.27,330.332 1788.88,325.155 1784.44,320.022 1779.94,314.933 1775.4,309.89 1770.8,304.892 1766.16,299.941 1761.47,295.036 1756.72,290.179 1751.93,285.369 1747.1,280.607 1742.21,275.894 1737.28,271.23 1732.3,266.615 1727.27,262.051 1722.2,257.537 1717.09,253.074 1711.93,248.662 1706.72,244.303 1701.48,239.995 1696.19,235.74 1690.85,231.538 1685.48,227.39 1680.06,223.296 1674.61,219.256 1669.11,215.271 1663.58,211.341 1658,207.466 1652.39,203.648 1646.74,199.885 1641.05,196.18 1635.33,192.532 1629.57,188.94 1623.77,185.407 1617.94,181.932 1612.07,178.516 1606.17,175.158 1600.24,171.859 1594.27,168.62 1588.27,165.441 1582.24,162.322 1576.18,159.263 1570.09,156.265 1563.97,153.328 1557.82,150.453 1551.64,147.639 1545.44,144.887 1539.2,142.197 1532.94,139.57 1526.66,137.005 1520.35,134.504 1514.01,132.065 1507.65,129.69 1501.27,127.379 1494.86,125.132 1488.44,122.949 1481.99,120.83 1475.52,118.776 1469.02,116.787 1462.51,114.863 1455.99,113.004 1449.44,111.21 1442.87,109.482 1436.29,107.82 1429.69,106.223 1423.08,104.693 1416.45,103.228 1409.81,101.831 1403.15,100.499 1396.48,99.2346 1389.8,98.0367 1383.1,96.9057 1376.4,95.8416 1369.68,94.8446 1362.96,93.9149 1356.23,93.0524 1349.48,92.2573 1342.73,91.5297 1335.98,90.8696 1329.21,90.2771 1322.45,89.7523 1315.67,89.2951 1308.9,88.9057 1302.11,88.5842 1295.33,88.3304 1288.54,88.1445 1281.76,88.0264 1274.97,87.9763 1268.18,87.994 1261.39,88.0796 1254.6,88.2331 1247.82,88.4544 1241.04,88.7436 1234.26,89.1006 1227.48,89.5254 1220.71,90.0179 1213.95,90.5781 1207.19,91.2059 1200.43,91.9013 1193.69,92.6641 1186.95,93.4944 1180.22,94.392 1173.5,95.3569 1166.79,96.3889 1160.09,97.4879 1153.4,98.6539 1146.73,99.8867 1140.07,101.186 1133.42,102.552 1126.78,103.985 1120.16,105.484 1113.55,107.049 1106.96,108.679 1100.39,110.376 1093.83,112.138 1087.3,113.966 1080.78,115.859 1074.28,117.818 1067.8,119.841 1061.34,121.929 1054.9,124.081 1048.48,126.297 1042.09,128.578 1035.72,130.923 1029.37,133.331 1023.05,135.802 1016.75,138.337 1010.48,140.934 1004.23,143.594 998.011,146.316 991.82,149.101 985.657,151.947 979.522,154.854 973.417,157.823 967.342,160.853 961.297,163.943 955.284,167.094 949.303,170.304 943.353,173.574 937.437,176.904 931.555,180.292 925.707,183.74 919.893,187.245 914.115,190.809 908.372,194.43 902.667,198.108 896.998,201.843 891.367,205.635 885.774,209.483 880.22,213.386 874.705,217.345 869.23,221.359 863.795,225.427 858.402,229.55 853.05,233.726 847.739,237.955 842.472,242.238 837.247,246.573 832.067,250.96 826.93,255.398 821.838,259.888 816.791,264.428 811.79,269.019 806.835,273.659 801.926,278.349 797.065,283.087 792.251,287.874 787.486,292.709 782.769,297.591 778.101,302.521 773.482,307.496 768.914,312.518 764.396,317.585 759.929,322.697 755.513,327.853 751.149,333.053 746.837,338.297 742.578,343.583 738.372,348.912 734.22,354.282 730.121,359.694 726.077,365.147 722.087,370.639 718.153,376.172 714.274,381.743 710.451,387.353 706.684,393.001 702.974,398.686 699.321,404.408 695.726,410.166 692.188,415.96 688.708,421.789 685.287,427.653 681.924,433.55 678.621,439.481 675.377,445.445 672.193,451.44 669.069,457.467 666.006,463.526 663.003,469.614 660.061,475.732 657.181,481.88 654.362,488.055 651.605,494.259 648.91,500.49 646.278,506.748 643.708,513.031 641.202,519.34 638.758,525.674 636.378,532.032 634.062,538.413 631.81,544.817 629.622,551.244 627.498,557.691 625.439,564.16 623.444,570.649 621.515,577.158 619.651,583.686 617.852,590.232 616.118,596.795 614.451,603.376 612.849,609.973 611.313,616.586 609.844,623.214 608.441,629.856 607.104,636.511 605.834,643.18 604.631,649.862 603.495,656.554 602.425,663.258 601.423,669.973 600.488,676.697 599.62,683.43 598.819,690.171 598.086,696.92 597.421,703.676 596.823,710.438 596.293,717.206 595.83,723.979 595.436,730.756 595.109,737.537 594.849,744.321 594.658,751.107 594.535,757.894 594.479,764.683 \"/>\n",
       "</svg>\n"
      ]
     },
     "metadata": {},
     "output_type": "display_data"
    }
   ],
   "source": [
    "# Plot a circle\n",
    "using LinearAlgebra\n",
    "using Plots\n",
    "th=[-pi:0.01:pi;]\n",
    "X=cos.(th)\n",
    "Y=sin.(th)\n",
    "plot(X, Y, legend=false, aspectratio=:equal)"
   ]
  },
  {
   "cell_type": "markdown",
   "id": "72e6c7e7-d341-4a2c-8302-693889e8243a",
   "metadata": {},
   "source": [
    "#### Area of a  unit circle should be $\\pi$. How close can we come?"
   ]
  },
  {
   "cell_type": "code",
   "execution_count": 74,
   "id": "45885713-167f-4392-810d-5a2cc79606be",
   "metadata": {},
   "outputs": [
    {
     "data": {
      "image/png": "[encoded data removed]",
      "image/svg+xml": [
       "<?xml version=\"1.0\" encoding=\"utf-8\"?>\n",
       "<svg xmlns=\"http://www.w3.org/2000/svg\" xmlns:xlink=\"http://www.w3.org/1999/xlink\" width=\"600\" height=\"400\" viewBox=\"0 0 2400 1600\">\n",
       "<defs>\n",
       "  <clipPath id=\"clip420\">\n",
       "    <rect x=\"0\" y=\"0\" width=\"2400\" height=\"1600\"/>\n",
       "  </clipPath>\n",
       "</defs>\n",
       "<path clip-path=\"url(#clip420)\" d=\"M0 1600 L2400 1600 L2400 8.88178e-14 L0 8.88178e-14  Z\" fill=\"#ffffff\" fill-rule=\"evenodd\" fill-opacity=\"1\"/>\n",
       "<defs>\n",
       "  <clipPath id=\"clip421\">\n",
       "    <rect x=\"480\" y=\"0\" width=\"1681\" height=\"1600\"/>\n",
       "  </clipPath>\n",
       "</defs>\n",
       "<path clip-path=\"url(#clip420)\" d=\"M193.936 1486.45 L2352.76 1486.45 L2352.76 47.2441 L193.936 47.2441  Z\" fill=\"#ffffff\" fill-rule=\"evenodd\" fill-opacity=\"1\"/>\n",
       "<defs>\n",
       "  <clipPath id=\"clip422\">\n",
       "    <rect x=\"193\" y=\"47\" width=\"2160\" height=\"1440\"/>\n",
       "  </clipPath>\n",
       "</defs>\n",
       "<polyline clip-path=\"url(#clip422)\" style=\"stroke:#000000; stroke-linecap:round; stroke-linejoin:round; stroke-width:2; stroke-opacity:0.1; fill:none\" points=\"255.041,1486.45 255.041,47.2441 \"/>\n",
       "<polyline clip-path=\"url(#clip422)\" style=\"stroke:#000000; stroke-linecap:round; stroke-linejoin:round; stroke-width:2; stroke-opacity:0.1; fill:none\" points=\"594.476,1486.45 594.476,47.2441 \"/>\n",
       "<polyline clip-path=\"url(#clip422)\" style=\"stroke:#000000; stroke-linecap:round; stroke-linejoin:round; stroke-width:2; stroke-opacity:0.1; fill:none\" points=\"933.911,1486.45 933.911,47.2441 \"/>\n",
       "<polyline clip-path=\"url(#clip422)\" style=\"stroke:#000000; stroke-linecap:round; stroke-linejoin:round; stroke-width:2; stroke-opacity:0.1; fill:none\" points=\"1273.35,1486.45 1273.35,47.2441 \"/>\n",
       "<polyline clip-path=\"url(#clip422)\" style=\"stroke:#000000; stroke-linecap:round; stroke-linejoin:round; stroke-width:2; stroke-opacity:0.1; fill:none\" points=\"1612.78,1486.45 1612.78,47.2441 \"/>\n",
       "<polyline clip-path=\"url(#clip422)\" style=\"stroke:#000000; stroke-linecap:round; stroke-linejoin:round; stroke-width:2; stroke-opacity:0.1; fill:none\" points=\"1952.22,1486.45 1952.22,47.2441 \"/>\n",
       "<polyline clip-path=\"url(#clip422)\" style=\"stroke:#000000; stroke-linecap:round; stroke-linejoin:round; stroke-width:2; stroke-opacity:0.1; fill:none\" points=\"2291.65,1486.45 2291.65,47.2441 \"/>\n",
       "<polyline clip-path=\"url(#clip422)\" style=\"stroke:#000000; stroke-linecap:round; stroke-linejoin:round; stroke-width:2; stroke-opacity:0.1; fill:none\" points=\"193.936,1445.72 2352.76,1445.72 \"/>\n",
       "<polyline clip-path=\"url(#clip422)\" style=\"stroke:#000000; stroke-linecap:round; stroke-linejoin:round; stroke-width:2; stroke-opacity:0.1; fill:none\" points=\"193.936,1106.28 2352.76,1106.28 \"/>\n",
       "<polyline clip-path=\"url(#clip422)\" style=\"stroke:#000000; stroke-linecap:round; stroke-linejoin:round; stroke-width:2; stroke-opacity:0.1; fill:none\" points=\"193.936,766.846 2352.76,766.846 \"/>\n",
       "<polyline clip-path=\"url(#clip422)\" style=\"stroke:#000000; stroke-linecap:round; stroke-linejoin:round; stroke-width:2; stroke-opacity:0.1; fill:none\" points=\"193.936,427.411 2352.76,427.411 \"/>\n",
       "<polyline clip-path=\"url(#clip422)\" style=\"stroke:#000000; stroke-linecap:round; stroke-linejoin:round; stroke-width:2; stroke-opacity:0.1; fill:none\" points=\"193.936,87.9763 2352.76,87.9763 \"/>\n",
       "<polyline clip-path=\"url(#clip420)\" style=\"stroke:#000000; stroke-linecap:round; stroke-linejoin:round; stroke-width:4; stroke-opacity:1; fill:none\" points=\"193.936,1486.45 2352.76,1486.45 \"/>\n",
       "<polyline clip-path=\"url(#clip420)\" style=\"stroke:#000000; stroke-linecap:round; stroke-linejoin:round; stroke-width:4; stroke-opacity:1; fill:none\" points=\"255.041,1486.45 255.041,1467.55 \"/>\n",
       "<polyline clip-path=\"url(#clip420)\" style=\"stroke:#000000; stroke-linecap:round; stroke-linejoin:round; stroke-width:4; stroke-opacity:1; fill:none\" points=\"594.476,1486.45 594.476,1467.55 \"/>\n",
       "<polyline clip-path=\"url(#clip420)\" style=\"stroke:#000000; stroke-linecap:round; stroke-linejoin:round; stroke-width:4; stroke-opacity:1; fill:none\" points=\"933.911,1486.45 933.911,1467.55 \"/>\n",
       "<polyline clip-path=\"url(#clip420)\" style=\"stroke:#000000; stroke-linecap:round; stroke-linejoin:round; stroke-width:4; stroke-opacity:1; fill:none\" points=\"1273.35,1486.45 1273.35,1467.55 \"/>\n",
       "<polyline clip-path=\"url(#clip420)\" style=\"stroke:#000000; stroke-linecap:round; stroke-linejoin:round; stroke-width:4; stroke-opacity:1; fill:none\" points=\"1612.78,1486.45 1612.78,1467.55 \"/>\n",
       "<polyline clip-path=\"url(#clip420)\" style=\"stroke:#000000; stroke-linecap:round; stroke-linejoin:round; stroke-width:4; stroke-opacity:1; fill:none\" points=\"1952.22,1486.45 1952.22,1467.55 \"/>\n",
       "<polyline clip-path=\"url(#clip420)\" style=\"stroke:#000000; stroke-linecap:round; stroke-linejoin:round; stroke-width:4; stroke-opacity:1; fill:none\" points=\"2291.65,1486.45 2291.65,1467.55 \"/>\n",
       "<path clip-path=\"url(#clip420)\" d=\"M202.067 1532.02 L231.743 1532.02 L231.743 1535.95 L202.067 1535.95 L202.067 1532.02 Z\" fill=\"#000000\" fill-rule=\"nonzero\" fill-opacity=\"1\" /><path clip-path=\"url(#clip420)\" d=\"M242.646 1544.91 L250.284 1544.91 L250.284 1518.55 L241.974 1520.21 L241.974 1515.95 L250.238 1514.29 L254.914 1514.29 L254.914 1544.91 L262.553 1544.91 L262.553 1548.85 L242.646 1548.85 L242.646 1544.91 Z\" fill=\"#000000\" fill-rule=\"nonzero\" fill-opacity=\"1\" /><path clip-path=\"url(#clip420)\" d=\"M271.997 1542.97 L276.882 1542.97 L276.882 1548.85 L271.997 1548.85 L271.997 1542.97 Z\" fill=\"#000000\" fill-rule=\"nonzero\" fill-opacity=\"1\" /><path clip-path=\"url(#clip420)\" d=\"M287.113 1514.29 L305.469 1514.29 L305.469 1518.22 L291.395 1518.22 L291.395 1526.7 Q292.414 1526.35 293.432 1526.19 Q294.451 1526 295.469 1526 Q301.256 1526 304.636 1529.17 Q308.016 1532.34 308.016 1537.76 Q308.016 1543.34 304.543 1546.44 Q301.071 1549.52 294.752 1549.52 Q292.576 1549.52 290.307 1549.15 Q288.062 1548.78 285.655 1548.04 L285.655 1543.34 Q287.738 1544.47 289.96 1545.03 Q292.182 1545.58 294.659 1545.58 Q298.664 1545.58 301.002 1543.48 Q303.34 1541.37 303.34 1537.76 Q303.34 1534.15 301.002 1532.04 Q298.664 1529.94 294.659 1529.94 Q292.784 1529.94 290.909 1530.35 Q289.057 1530.77 287.113 1531.65 L287.113 1514.29 Z\" fill=\"#000000\" fill-rule=\"nonzero\" fill-opacity=\"1\" /><path clip-path=\"url(#clip420)\" d=\"M541.004 1532.02 L570.68 1532.02 L570.68 1535.95 L541.004 1535.95 L541.004 1532.02 Z\" fill=\"#000000\" fill-rule=\"nonzero\" fill-opacity=\"1\" /><path clip-path=\"url(#clip420)\" d=\"M581.583 1544.91 L589.222 1544.91 L589.222 1518.55 L580.912 1520.21 L580.912 1515.95 L589.175 1514.29 L593.851 1514.29 L593.851 1544.91 L601.49 1544.91 L601.49 1548.85 L581.583 1548.85 L581.583 1544.91 Z\" fill=\"#000000\" fill-rule=\"nonzero\" fill-opacity=\"1\" /><path clip-path=\"url(#clip420)\" d=\"M610.934 1542.97 L615.819 1542.97 L615.819 1548.85 L610.934 1548.85 L610.934 1542.97 Z\" fill=\"#000000\" fill-rule=\"nonzero\" fill-opacity=\"1\" /><path clip-path=\"url(#clip420)\" d=\"M636.004 1517.37 Q632.393 1517.37 630.564 1520.93 Q628.758 1524.47 628.758 1531.6 Q628.758 1538.71 630.564 1542.27 Q632.393 1545.82 636.004 1545.82 Q639.638 1545.82 641.444 1542.27 Q643.272 1538.71 643.272 1531.6 Q643.272 1524.47 641.444 1520.93 Q639.638 1517.37 636.004 1517.37 M636.004 1513.66 Q641.814 1513.66 644.869 1518.27 Q647.948 1522.85 647.948 1531.6 Q647.948 1540.33 644.869 1544.94 Q641.814 1549.52 636.004 1549.52 Q630.194 1549.52 627.115 1544.94 Q624.059 1540.33 624.059 1531.6 Q624.059 1522.85 627.115 1518.27 Q630.194 1513.66 636.004 1513.66 Z\" fill=\"#000000\" fill-rule=\"nonzero\" fill-opacity=\"1\" /><path clip-path=\"url(#clip420)\" d=\"M880.937 1532.02 L910.613 1532.02 L910.613 1535.95 L880.937 1535.95 L880.937 1532.02 Z\" fill=\"#000000\" fill-rule=\"nonzero\" fill-opacity=\"1\" /><path clip-path=\"url(#clip420)\" d=\"M930.705 1517.37 Q927.094 1517.37 925.265 1520.93 Q923.46 1524.47 923.46 1531.6 Q923.46 1538.71 925.265 1542.27 Q927.094 1545.82 930.705 1545.82 Q934.339 1545.82 936.145 1542.27 Q937.974 1538.71 937.974 1531.6 Q937.974 1524.47 936.145 1520.93 Q934.339 1517.37 930.705 1517.37 M930.705 1513.66 Q936.515 1513.66 939.571 1518.27 Q942.649 1522.85 942.649 1531.6 Q942.649 1540.33 939.571 1544.94 Q936.515 1549.52 930.705 1549.52 Q924.895 1549.52 921.816 1544.94 Q918.761 1540.33 918.761 1531.6 Q918.761 1522.85 921.816 1518.27 Q924.895 1513.66 930.705 1513.66 Z\" fill=\"#000000\" fill-rule=\"nonzero\" fill-opacity=\"1\" /><path clip-path=\"url(#clip420)\" d=\"M950.867 1542.97 L955.751 1542.97 L955.751 1548.85 L950.867 1548.85 L950.867 1542.97 Z\" fill=\"#000000\" fill-rule=\"nonzero\" fill-opacity=\"1\" /><path clip-path=\"url(#clip420)\" d=\"M965.983 1514.29 L984.339 1514.29 L984.339 1518.22 L970.265 1518.22 L970.265 1526.7 Q971.284 1526.35 972.302 1526.19 Q973.321 1526 974.339 1526 Q980.126 1526 983.506 1529.17 Q986.885 1532.34 986.885 1537.76 Q986.885 1543.34 983.413 1546.44 Q979.941 1549.52 973.622 1549.52 Q971.446 1549.52 969.177 1549.15 Q966.932 1548.78 964.524 1548.04 L964.524 1543.34 Q966.608 1544.47 968.83 1545.03 Q971.052 1545.58 973.529 1545.58 Q977.534 1545.58 979.871 1543.48 Q982.209 1541.37 982.209 1537.76 Q982.209 1534.15 979.871 1532.04 Q977.534 1529.94 973.529 1529.94 Q971.654 1529.94 969.779 1530.35 Q967.927 1530.77 965.983 1531.65 L965.983 1514.29 Z\" fill=\"#000000\" fill-rule=\"nonzero\" fill-opacity=\"1\" /><path clip-path=\"url(#clip420)\" d=\"M1250.73 1517.37 Q1247.12 1517.37 1245.29 1520.93 Q1243.49 1524.47 1243.49 1531.6 Q1243.49 1538.71 1245.29 1542.27 Q1247.12 1545.82 1250.73 1545.82 Q1254.36 1545.82 1256.17 1542.27 Q1258 1538.71 1258 1531.6 Q1258 1524.47 1256.17 1520.93 Q1254.36 1517.37 1250.73 1517.37 M1250.73 1513.66 Q1256.54 1513.66 1259.6 1518.27 Q1262.67 1522.85 1262.67 1531.6 Q1262.67 1540.33 1259.6 1544.94 Q1256.54 1549.52 1250.73 1549.52 Q1244.92 1549.52 1241.84 1544.94 Q1238.79 1540.33 1238.79 1531.6 Q1238.79 1522.85 1241.84 1518.27 Q1244.92 1513.66 1250.73 1513.66 Z\" fill=\"#000000\" fill-rule=\"nonzero\" fill-opacity=\"1\" /><path clip-path=\"url(#clip420)\" d=\"M1270.89 1542.97 L1275.78 1542.97 L1275.78 1548.85 L1270.89 1548.85 L1270.89 1542.97 Z\" fill=\"#000000\" fill-rule=\"nonzero\" fill-opacity=\"1\" /><path clip-path=\"url(#clip420)\" d=\"M1295.96 1517.37 Q1292.35 1517.37 1290.52 1520.93 Q1288.72 1524.47 1288.72 1531.6 Q1288.72 1538.71 1290.52 1542.27 Q1292.35 1545.82 1295.96 1545.82 Q1299.6 1545.82 1301.4 1542.27 Q1303.23 1538.71 1303.23 1531.6 Q1303.23 1524.47 1301.4 1520.93 Q1299.6 1517.37 1295.96 1517.37 M1295.96 1513.66 Q1301.77 1513.66 1304.83 1518.27 Q1307.91 1522.85 1307.91 1531.6 Q1307.91 1540.33 1304.83 1544.94 Q1301.77 1549.52 1295.96 1549.52 Q1290.15 1549.52 1287.07 1544.94 Q1284.02 1540.33 1284.02 1531.6 Q1284.02 1522.85 1287.07 1518.27 Q1290.15 1513.66 1295.96 1513.66 Z\" fill=\"#000000\" fill-rule=\"nonzero\" fill-opacity=\"1\" /><path clip-path=\"url(#clip420)\" d=\"M1590.66 1517.37 Q1587.05 1517.37 1585.22 1520.93 Q1583.42 1524.47 1583.42 1531.6 Q1583.42 1538.71 1585.22 1542.27 Q1587.05 1545.82 1590.66 1545.82 Q1594.3 1545.82 1596.1 1542.27 Q1597.93 1538.71 1597.93 1531.6 Q1597.93 1524.47 1596.1 1520.93 Q1594.3 1517.37 1590.66 1517.37 M1590.66 1513.66 Q1596.47 1513.66 1599.53 1518.27 Q1602.61 1522.85 1602.61 1531.6 Q1602.61 1540.33 1599.53 1544.94 Q1596.47 1549.52 1590.66 1549.52 Q1584.85 1549.52 1581.77 1544.94 Q1578.72 1540.33 1578.72 1531.6 Q1578.72 1522.85 1581.77 1518.27 Q1584.85 1513.66 1590.66 1513.66 Z\" fill=\"#000000\" fill-rule=\"nonzero\" fill-opacity=\"1\" /><path clip-path=\"url(#clip420)\" d=\"M1610.82 1542.97 L1615.71 1542.97 L1615.71 1548.85 L1610.82 1548.85 L1610.82 1542.97 Z\" fill=\"#000000\" fill-rule=\"nonzero\" fill-opacity=\"1\" /><path clip-path=\"url(#clip420)\" d=\"M1625.94 1514.29 L1644.3 1514.29 L1644.3 1518.22 L1630.22 1518.22 L1630.22 1526.7 Q1631.24 1526.35 1632.26 1526.19 Q1633.28 1526 1634.3 1526 Q1640.08 1526 1643.46 1529.17 Q1646.84 1532.34 1646.84 1537.76 Q1646.84 1543.34 1643.37 1546.44 Q1639.9 1549.52 1633.58 1549.52 Q1631.4 1549.52 1629.13 1549.15 Q1626.89 1548.78 1624.48 1548.04 L1624.48 1543.34 Q1626.57 1544.47 1628.79 1545.03 Q1631.01 1545.58 1633.49 1545.58 Q1637.49 1545.58 1639.83 1543.48 Q1642.17 1541.37 1642.17 1537.76 Q1642.17 1534.15 1639.83 1532.04 Q1637.49 1529.94 1633.49 1529.94 Q1631.61 1529.94 1629.74 1530.35 Q1627.88 1530.77 1625.94 1531.65 L1625.94 1514.29 Z\" fill=\"#000000\" fill-rule=\"nonzero\" fill-opacity=\"1\" /><path clip-path=\"url(#clip420)\" d=\"M1919.37 1544.91 L1927.01 1544.91 L1927.01 1518.55 L1918.7 1520.21 L1918.7 1515.95 L1926.96 1514.29 L1931.64 1514.29 L1931.64 1544.91 L1939.28 1544.91 L1939.28 1548.85 L1919.37 1548.85 L1919.37 1544.91 Z\" fill=\"#000000\" fill-rule=\"nonzero\" fill-opacity=\"1\" /><path clip-path=\"url(#clip420)\" d=\"M1948.72 1542.97 L1953.6 1542.97 L1953.6 1548.85 L1948.72 1548.85 L1948.72 1542.97 Z\" fill=\"#000000\" fill-rule=\"nonzero\" fill-opacity=\"1\" /><path clip-path=\"url(#clip420)\" d=\"M1973.79 1517.37 Q1970.18 1517.37 1968.35 1520.93 Q1966.54 1524.47 1966.54 1531.6 Q1966.54 1538.71 1968.35 1542.27 Q1970.18 1545.82 1973.79 1545.82 Q1977.42 1545.82 1979.23 1542.27 Q1981.06 1538.71 1981.06 1531.6 Q1981.06 1524.47 1979.23 1520.93 Q1977.42 1517.37 1973.79 1517.37 M1973.79 1513.66 Q1979.6 1513.66 1982.66 1518.27 Q1985.73 1522.85 1985.73 1531.6 Q1985.73 1540.33 1982.66 1544.94 Q1979.6 1549.52 1973.79 1549.52 Q1967.98 1549.52 1964.9 1544.94 Q1961.85 1540.33 1961.85 1531.6 Q1961.85 1522.85 1964.9 1518.27 Q1967.98 1513.66 1973.79 1513.66 Z\" fill=\"#000000\" fill-rule=\"nonzero\" fill-opacity=\"1\" /><path clip-path=\"url(#clip420)\" d=\"M2259.3 1544.91 L2266.94 1544.91 L2266.94 1518.55 L2258.63 1520.21 L2258.63 1515.95 L2266.89 1514.29 L2271.57 1514.29 L2271.57 1544.91 L2279.21 1544.91 L2279.21 1548.85 L2259.3 1548.85 L2259.3 1544.91 Z\" fill=\"#000000\" fill-rule=\"nonzero\" fill-opacity=\"1\" /><path clip-path=\"url(#clip420)\" d=\"M2288.65 1542.97 L2293.54 1542.97 L2293.54 1548.85 L2288.65 1548.85 L2288.65 1542.97 Z\" fill=\"#000000\" fill-rule=\"nonzero\" fill-opacity=\"1\" /><path clip-path=\"url(#clip420)\" d=\"M2303.77 1514.29 L2322.12 1514.29 L2322.12 1518.22 L2308.05 1518.22 L2308.05 1526.7 Q2309.07 1526.35 2310.09 1526.19 Q2311.11 1526 2312.12 1526 Q2317.91 1526 2321.29 1529.17 Q2324.67 1532.34 2324.67 1537.76 Q2324.67 1543.34 2321.2 1546.44 Q2317.73 1549.52 2311.41 1549.52 Q2309.23 1549.52 2306.96 1549.15 Q2304.72 1548.78 2302.31 1548.04 L2302.31 1543.34 Q2304.39 1544.47 2306.62 1545.03 Q2308.84 1545.58 2311.31 1545.58 Q2315.32 1545.58 2317.66 1543.48 Q2320 1541.37 2320 1537.76 Q2320 1534.15 2317.66 1532.04 Q2315.32 1529.94 2311.31 1529.94 Q2309.44 1529.94 2307.56 1530.35 Q2305.71 1530.77 2303.77 1531.65 L2303.77 1514.29 Z\" fill=\"#000000\" fill-rule=\"nonzero\" fill-opacity=\"1\" /><polyline clip-path=\"url(#clip420)\" style=\"stroke:#000000; stroke-linecap:round; stroke-linejoin:round; stroke-width:4; stroke-opacity:1; fill:none\" points=\"193.936,1486.45 193.936,47.2441 \"/>\n",
       "<polyline clip-path=\"url(#clip420)\" style=\"stroke:#000000; stroke-linecap:round; stroke-linejoin:round; stroke-width:4; stroke-opacity:1; fill:none\" points=\"193.936,1445.72 212.834,1445.72 \"/>\n",
       "<polyline clip-path=\"url(#clip420)\" style=\"stroke:#000000; stroke-linecap:round; stroke-linejoin:round; stroke-width:4; stroke-opacity:1; fill:none\" points=\"193.936,1106.28 212.834,1106.28 \"/>\n",
       "<polyline clip-path=\"url(#clip420)\" style=\"stroke:#000000; stroke-linecap:round; stroke-linejoin:round; stroke-width:4; stroke-opacity:1; fill:none\" points=\"193.936,766.846 212.834,766.846 \"/>\n",
       "<polyline clip-path=\"url(#clip420)\" style=\"stroke:#000000; stroke-linecap:round; stroke-linejoin:round; stroke-width:4; stroke-opacity:1; fill:none\" points=\"193.936,427.411 212.834,427.411 \"/>\n",
       "<polyline clip-path=\"url(#clip420)\" style=\"stroke:#000000; stroke-linecap:round; stroke-linejoin:round; stroke-width:4; stroke-opacity:1; fill:none\" points=\"193.936,87.9763 212.834,87.9763 \"/>\n",
       "<path clip-path=\"url(#clip420)\" d=\"M50.9921 1446.17 L80.6679 1446.17 L80.6679 1450.1 L50.9921 1450.1 L50.9921 1446.17 Z\" fill=\"#000000\" fill-rule=\"nonzero\" fill-opacity=\"1\" /><path clip-path=\"url(#clip420)\" d=\"M91.5706 1459.06 L99.2095 1459.06 L99.2095 1432.69 L90.8993 1434.36 L90.8993 1430.1 L99.1632 1428.44 L103.839 1428.44 L103.839 1459.06 L111.478 1459.06 L111.478 1463 L91.5706 1463 L91.5706 1459.06 Z\" fill=\"#000000\" fill-rule=\"nonzero\" fill-opacity=\"1\" /><path clip-path=\"url(#clip420)\" d=\"M120.922 1457.12 L125.807 1457.12 L125.807 1463 L120.922 1463 L120.922 1457.12 Z\" fill=\"#000000\" fill-rule=\"nonzero\" fill-opacity=\"1\" /><path clip-path=\"url(#clip420)\" d=\"M145.992 1431.51 Q142.381 1431.51 140.552 1435.08 Q138.746 1438.62 138.746 1445.75 Q138.746 1452.86 140.552 1456.42 Q142.381 1459.96 145.992 1459.96 Q149.626 1459.96 151.431 1456.42 Q153.26 1452.86 153.26 1445.75 Q153.26 1438.62 151.431 1435.08 Q149.626 1431.51 145.992 1431.51 M145.992 1427.81 Q151.802 1427.81 154.857 1432.42 Q157.936 1437 157.936 1445.75 Q157.936 1454.48 154.857 1459.08 Q151.802 1463.67 145.992 1463.67 Q140.181 1463.67 137.103 1459.08 Q134.047 1454.48 134.047 1445.75 Q134.047 1437 137.103 1432.42 Q140.181 1427.81 145.992 1427.81 Z\" fill=\"#000000\" fill-rule=\"nonzero\" fill-opacity=\"1\" /><path clip-path=\"url(#clip420)\" d=\"M51.9875 1106.73 L81.6633 1106.73 L81.6633 1110.67 L51.9875 1110.67 L51.9875 1106.73 Z\" fill=\"#000000\" fill-rule=\"nonzero\" fill-opacity=\"1\" /><path clip-path=\"url(#clip420)\" d=\"M101.756 1092.08 Q98.1447 1092.08 96.316 1095.64 Q94.5104 1099.19 94.5104 1106.32 Q94.5104 1113.42 96.316 1116.99 Q98.1447 1120.53 101.756 1120.53 Q105.39 1120.53 107.196 1116.99 Q109.024 1113.42 109.024 1106.32 Q109.024 1099.19 107.196 1095.64 Q105.39 1092.08 101.756 1092.08 M101.756 1088.38 Q107.566 1088.38 110.621 1092.98 Q113.7 1097.57 113.7 1106.32 Q113.7 1115.04 110.621 1119.65 Q107.566 1124.23 101.756 1124.23 Q95.9456 1124.23 92.8669 1119.65 Q89.8114 1115.04 89.8114 1106.32 Q89.8114 1097.57 92.8669 1092.98 Q95.9456 1088.38 101.756 1088.38 Z\" fill=\"#000000\" fill-rule=\"nonzero\" fill-opacity=\"1\" /><path clip-path=\"url(#clip420)\" d=\"M121.918 1117.68 L126.802 1117.68 L126.802 1123.56 L121.918 1123.56 L121.918 1117.68 Z\" fill=\"#000000\" fill-rule=\"nonzero\" fill-opacity=\"1\" /><path clip-path=\"url(#clip420)\" d=\"M137.033 1089 L155.39 1089 L155.39 1092.94 L141.316 1092.94 L141.316 1101.41 Q142.334 1101.06 143.353 1100.9 Q144.371 1100.71 145.39 1100.71 Q151.177 1100.71 154.556 1103.89 Q157.936 1107.06 157.936 1112.47 Q157.936 1118.05 154.464 1121.15 Q150.992 1124.23 144.672 1124.23 Q142.496 1124.23 140.228 1123.86 Q137.982 1123.49 135.575 1122.75 L135.575 1118.05 Q137.658 1119.19 139.881 1119.74 Q142.103 1120.3 144.58 1120.3 Q148.584 1120.3 150.922 1118.19 Q153.26 1116.08 153.26 1112.47 Q153.26 1108.86 150.922 1106.76 Q148.584 1104.65 144.58 1104.65 Q142.705 1104.65 140.83 1105.07 Q138.978 1105.48 137.033 1106.36 L137.033 1089 Z\" fill=\"#000000\" fill-rule=\"nonzero\" fill-opacity=\"1\" /><path clip-path=\"url(#clip420)\" d=\"M100.76 752.645 Q97.1493 752.645 95.3206 756.209 Q93.515 759.751 93.515 766.881 Q93.515 773.987 95.3206 777.552 Q97.1493 781.094 100.76 781.094 Q104.395 781.094 106.2 777.552 Q108.029 773.987 108.029 766.881 Q108.029 759.751 106.2 756.209 Q104.395 752.645 100.76 752.645 M100.76 748.941 Q106.571 748.941 109.626 753.547 Q112.705 758.131 112.705 766.881 Q112.705 775.608 109.626 780.214 Q106.571 784.797 100.76 784.797 Q94.9502 784.797 91.8715 780.214 Q88.816 775.608 88.816 766.881 Q88.816 758.131 91.8715 753.547 Q94.9502 748.941 100.76 748.941 Z\" fill=\"#000000\" fill-rule=\"nonzero\" fill-opacity=\"1\" /><path clip-path=\"url(#clip420)\" d=\"M120.922 778.246 L125.807 778.246 L125.807 784.126 L120.922 784.126 L120.922 778.246 Z\" fill=\"#000000\" fill-rule=\"nonzero\" fill-opacity=\"1\" /><path clip-path=\"url(#clip420)\" d=\"M145.992 752.645 Q142.381 752.645 140.552 756.209 Q138.746 759.751 138.746 766.881 Q138.746 773.987 140.552 777.552 Q142.381 781.094 145.992 781.094 Q149.626 781.094 151.431 777.552 Q153.26 773.987 153.26 766.881 Q153.26 759.751 151.431 756.209 Q149.626 752.645 145.992 752.645 M145.992 748.941 Q151.802 748.941 154.857 753.547 Q157.936 758.131 157.936 766.881 Q157.936 775.608 154.857 780.214 Q151.802 784.797 145.992 784.797 Q140.181 784.797 137.103 780.214 Q134.047 775.608 134.047 766.881 Q134.047 758.131 137.103 753.547 Q140.181 748.941 145.992 748.941 Z\" fill=\"#000000\" fill-rule=\"nonzero\" fill-opacity=\"1\" /><path clip-path=\"url(#clip420)\" d=\"M101.756 413.21 Q98.1447 413.21 96.316 416.775 Q94.5104 420.316 94.5104 427.446 Q94.5104 434.552 96.316 438.117 Q98.1447 441.659 101.756 441.659 Q105.39 441.659 107.196 438.117 Q109.024 434.552 109.024 427.446 Q109.024 420.316 107.196 416.775 Q105.39 413.21 101.756 413.21 M101.756 409.506 Q107.566 409.506 110.621 414.113 Q113.7 418.696 113.7 427.446 Q113.7 436.173 110.621 440.779 Q107.566 445.362 101.756 445.362 Q95.9456 445.362 92.8669 440.779 Q89.8114 436.173 89.8114 427.446 Q89.8114 418.696 92.8669 414.113 Q95.9456 409.506 101.756 409.506 Z\" fill=\"#000000\" fill-rule=\"nonzero\" fill-opacity=\"1\" /><path clip-path=\"url(#clip420)\" d=\"M121.918 438.812 L126.802 438.812 L126.802 444.691 L121.918 444.691 L121.918 438.812 Z\" fill=\"#000000\" fill-rule=\"nonzero\" fill-opacity=\"1\" /><path clip-path=\"url(#clip420)\" d=\"M137.033 410.131 L155.39 410.131 L155.39 414.066 L141.316 414.066 L141.316 422.538 Q142.334 422.191 143.353 422.029 Q144.371 421.844 145.39 421.844 Q151.177 421.844 154.556 425.015 Q157.936 428.187 157.936 433.603 Q157.936 439.182 154.464 442.284 Q150.992 445.362 144.672 445.362 Q142.496 445.362 140.228 444.992 Q137.982 444.622 135.575 443.881 L135.575 439.182 Q137.658 440.316 139.881 440.872 Q142.103 441.427 144.58 441.427 Q148.584 441.427 150.922 439.321 Q153.26 437.214 153.26 433.603 Q153.26 429.992 150.922 427.886 Q148.584 425.779 144.58 425.779 Q142.705 425.779 140.83 426.196 Q138.978 426.613 137.033 427.492 L137.033 410.131 Z\" fill=\"#000000\" fill-rule=\"nonzero\" fill-opacity=\"1\" /><path clip-path=\"url(#clip420)\" d=\"M91.5706 101.321 L99.2095 101.321 L99.2095 74.9555 L90.8993 76.6222 L90.8993 72.3629 L99.1632 70.6963 L103.839 70.6963 L103.839 101.321 L111.478 101.321 L111.478 105.256 L91.5706 105.256 L91.5706 101.321 Z\" fill=\"#000000\" fill-rule=\"nonzero\" fill-opacity=\"1\" /><path clip-path=\"url(#clip420)\" d=\"M120.922 99.3767 L125.807 99.3767 L125.807 105.256 L120.922 105.256 L120.922 99.3767 Z\" fill=\"#000000\" fill-rule=\"nonzero\" fill-opacity=\"1\" /><path clip-path=\"url(#clip420)\" d=\"M145.992 73.775 Q142.381 73.775 140.552 77.3398 Q138.746 80.8814 138.746 88.011 Q138.746 95.1174 140.552 98.6822 Q142.381 102.224 145.992 102.224 Q149.626 102.224 151.431 98.6822 Q153.26 95.1174 153.26 88.011 Q153.26 80.8814 151.431 77.3398 Q149.626 73.775 145.992 73.775 M145.992 70.0713 Q151.802 70.0713 154.857 74.6777 Q157.936 79.261 157.936 88.011 Q157.936 96.7378 154.857 101.344 Q151.802 105.928 145.992 105.928 Q140.181 105.928 137.103 101.344 Q134.047 96.7378 134.047 88.011 Q134.047 79.261 137.103 74.6777 Q140.181 70.0713 145.992 70.0713 Z\" fill=\"#000000\" fill-rule=\"nonzero\" fill-opacity=\"1\" /><polyline clip-path=\"url(#clip422)\" style=\"stroke:#ff0000; stroke-linecap:round; stroke-linejoin:round; stroke-width:24; stroke-opacity:1; fill:none\" points=\"594.476,766.846 594.51,773.635 594.612,780.422 594.782,787.209 595.019,793.994 595.325,800.775 595.698,807.554 596.139,814.328 596.647,821.098 597.224,827.862 597.868,834.62 598.579,841.371 599.358,848.115 600.205,854.851 601.118,861.578 602.099,868.295 603.147,875.002 604.262,881.699 605.444,888.384 606.693,895.057 608.008,901.717 609.39,908.363 610.839,914.995 612.353,921.613 613.934,928.215 615.581,934.801 617.293,941.37 619.071,947.922 620.915,954.455 622.823,960.97 624.797,967.466 626.836,973.941 628.939,980.396 631.106,986.829 633.338,993.24 635.634,999.629 637.994,1005.99 640.417,1012.34 642.904,1018.65 645.453,1024.94 648.066,1031.21 650.74,1037.45 653.478,1043.66 656.277,1049.85 659.137,1056 662.06,1062.13 665.043,1068.23 668.087,1074.3 671.192,1080.33 674.357,1086.34 677.582,1092.31 680.866,1098.25 684.21,1104.16 687.612,1110.04 691.074,1115.88 694.593,1121.68 698.17,1127.45 701.805,1133.19 705.497,1138.88 709.245,1144.54 713.051,1150.16 716.912,1155.75 720.829,1161.29 724.801,1166.8 728.827,1172.26 732.909,1177.69 737.044,1183.07 741.233,1188.41 745.475,1193.71 749.77,1198.97 754.118,1204.19 758.517,1209.36 762.968,1214.48 767.47,1219.56 772.022,1224.6 776.625,1229.59 781.277,1234.53 785.978,1239.43 790.728,1244.28 795.527,1249.08 800.373,1253.84 805.266,1258.54 810.207,1263.2 815.193,1267.81 820.226,1272.36 825.303,1276.87 830.426,1281.32 835.593,1285.73 840.803,1290.08 846.057,1294.38 851.354,1298.62 856.693,1302.82 862.073,1306.96 867.495,1311.04 872.957,1315.07 878.459,1319.05 884.001,1322.97 889.581,1326.84 895.2,1330.65 900.857,1334.4 906.551,1338.1 912.282,1341.73 918.049,1345.32 923.851,1348.84 929.688,1352.31 935.56,1355.71 941.466,1359.06 947.404,1362.35 953.375,1365.58 959.379,1368.75 965.413,1371.86 971.479,1374.91 977.574,1377.9 983.7,1380.82 989.854,1383.69 996.036,1386.49 1002.25,1389.24 1008.48,1391.92 1014.75,1394.53 1021.04,1397.09 1027.35,1399.58 1033.69,1402.01 1040.06,1404.37 1046.44,1406.67 1052.85,1408.91 1059.28,1411.08 1065.74,1413.19 1072.21,1415.24 1078.7,1417.21 1085.22,1419.13 1091.75,1420.98 1098.3,1422.76 1104.87,1424.48 1111.45,1426.13 1118.05,1427.72 1124.67,1429.24 1131.3,1430.69 1137.95,1432.08 1144.6,1433.4 1151.28,1434.65 1157.96,1435.84 1164.66,1436.96 1171.36,1438.01 1178.08,1439 1184.81,1439.92 1191.54,1440.77 1198.28,1441.55 1205.03,1442.27 1211.79,1442.92 1218.56,1443.5 1225.32,1444.02 1232.1,1444.46 1238.88,1444.84 1245.66,1445.15 1252.44,1445.39 1259.23,1445.57 1266.02,1445.68 1272.81,1445.72 1279.59,1445.69 1286.38,1445.59 1293.17,1445.43 1299.95,1445.19 1306.74,1444.89 1313.51,1444.53 1320.29,1444.09 1327.06,1443.59 1333.82,1443.02 1340.58,1442.38 1347.33,1441.67 1354.08,1440.9 1360.81,1440.06 1367.54,1439.15 1374.26,1438.17 1380.97,1437.13 1387.67,1436.02 1394.35,1434.84 1401.03,1433.6 1407.69,1432.29 1414.33,1430.91 1420.97,1429.47 1427.59,1427.96 1434.19,1426.39 1440.78,1424.74 1447.35,1423.04 1453.9,1421.26 1460.44,1419.43 1466.95,1417.52 1473.45,1415.55 1479.93,1413.52 1486.38,1411.42 1492.82,1409.26 1499.23,1407.03 1505.62,1404.74 1511.99,1402.39 1518.33,1399.97 1524.65,1397.49 1530.94,1394.94 1537.21,1392.34 1543.45,1389.67 1549.67,1386.93 1555.86,1384.14 1562.01,1381.28 1568.14,1378.37 1574.24,1375.39 1580.31,1372.35 1586.35,1369.25 1592.36,1366.09 1598.34,1362.87 1604.28,1359.59 1610.19,1356.25 1616.07,1352.85 1621.91,1349.4 1627.72,1345.88 1633.49,1342.31 1639.23,1338.68 1644.93,1334.99 1650.59,1331.25 1656.22,1327.45 1661.81,1323.59 1667.35,1319.68 1672.86,1315.71 1678.33,1311.69 1683.76,1307.61 1689.15,1303.48 1694.49,1299.29 1699.79,1295.06 1705.05,1290.77 1710.27,1286.42 1715.45,1282.03 1720.58,1277.58 1725.66,1273.08 1730.7,1268.53 1735.69,1263.94 1740.64,1259.29 1745.54,1254.59 1750.4,1249.84 1755.2,1245.05 1759.96,1240.21 1764.67,1235.32 1769.33,1230.38 1773.94,1225.4 1778.5,1220.37 1783.01,1215.29 1787.47,1210.18 1791.88,1205.01 1796.23,1199.81 1800.54,1194.55 1804.79,1189.26 1808.98,1183.93 1813.13,1178.55 1817.22,1173.13 1821.25,1167.67 1825.23,1162.17 1829.16,1156.63 1833.03,1151.06 1836.84,1145.44 1840.6,1139.79 1844.3,1134.1 1847.95,1128.37 1851.53,1122.6 1855.06,1116.8 1858.53,1110.97 1861.94,1105.1 1865.3,1099.2 1868.59,1093.26 1871.83,1087.29 1875,1081.29 1878.11,1075.26 1881.17,1069.2 1884.16,1063.1 1887.09,1056.98 1889.96,1050.83 1892.77,1044.65 1895.52,1038.44 1898.2,1032.21 1900.83,1025.94 1903.39,1019.66 1905.88,1013.34 1908.32,1007.01 1910.69,1000.64 1912.99,994.259 1915.23,987.852 1917.41,981.422 1919.53,974.97 1921.57,968.498 1923.56,962.006 1925.48,955.494 1927.33,948.964 1929.12,942.415 1930.84,935.848 1932.5,929.265 1934.09,922.666 1935.62,916.05 1937.08,909.42 1938.47,902.776 1939.79,896.118 1941.05,889.447 1942.25,882.764 1943.37,876.07 1944.43,869.364 1945.42,862.648 1946.35,855.923 1947.2,849.188 1947.99,842.446 1948.72,835.696 1949.37,828.939 1949.96,822.175 1950.48,815.407 1950.93,808.633 1951.31,801.855 1951.63,795.074 1951.88,788.29 1952.06,781.503 1952.17,774.716 1952.21,767.927 1952.19,761.139 1952.1,754.351 1951.94,747.564 1951.72,740.779 1951.42,733.997 1951.06,727.218 1950.63,720.443 1950.13,713.672 1949.56,706.907 1948.93,700.148 1948.23,693.396 1947.46,686.651 1946.63,679.913 1945.72,673.185 1944.75,666.466 1943.72,659.757 1942.61,653.059 1941.44,646.372 1940.2,639.697 1938.9,633.035 1937.53,626.387 1936.09,619.752 1934.58,613.132 1933.01,606.527 1931.38,599.939 1929.68,593.367 1927.91,586.812 1926.08,580.276 1924.18,573.758 1922.21,567.259 1920.19,560.781 1918.09,554.323 1915.93,547.886 1913.71,541.471 1911.43,535.079 1909.08,528.71 1906.66,522.365 1904.19,516.044 1901.65,509.748 1899.05,503.478 1896.38,497.234 1893.65,491.017 1890.87,484.828 1888.01,478.667 1885.1,472.535 1882.13,466.432 1879.09,460.36 1876,454.318 1872.84,448.307 1869.63,442.328 1866.35,436.381 1863.02,430.468 1859.63,424.588 1856.17,418.742 1852.66,412.932 1849.1,407.156 1845.47,401.417 1841.79,395.714 1838.05,390.048 1834.25,384.42 1830.4,378.83 1826.49,373.279 1822.53,367.768 1818.51,362.296 1814.44,356.865 1810.31,351.474 1806.13,346.125 1801.9,340.819 1797.61,335.555 1793.27,330.334 1788.88,325.156 1784.44,320.023 1779.94,314.935 1775.4,309.891 1770.8,304.894 1766.16,299.942 1761.47,295.038 1756.72,290.18 1751.93,285.37 1747.09,280.609 1742.21,275.895 1737.28,271.231 1732.3,266.617 1727.27,262.053 1722.2,257.539 1717.08,253.076 1711.93,248.664 1706.72,244.304 1701.47,239.997 1696.18,235.742 1690.85,231.54 1685.48,227.392 1680.06,223.298 1674.61,219.258 1669.11,215.272 1663.58,211.342 1658,207.468 1652.39,203.649 1646.74,199.887 1641.05,196.182 1635.33,192.533 1629.56,188.942 1623.77,185.409 1617.94,181.934 1612.07,178.517 1606.17,175.16 1600.24,171.861 1594.27,168.622 1588.27,165.443 1582.24,162.324 1576.18,159.265 1570.09,156.267 1563.97,153.33 1557.82,150.455 1551.64,147.641 1545.44,144.889 1539.2,142.199 1532.94,139.572 1526.66,137.007 1520.35,134.505 1514.01,132.067 1507.65,129.692 1501.27,127.381 1494.86,125.134 1488.43,122.951 1481.98,120.832 1475.51,118.778 1469.02,116.789 1462.51,114.865 1455.98,113.006 1449.44,111.212 1442.87,109.484 1436.29,107.821 1429.69,106.225 1423.08,104.695 1416.45,103.23 1409.81,101.833 1403.15,100.501 1396.48,99.2366 1389.8,98.0386 1383.1,96.9076 1376.4,95.8435 1369.68,94.8466 1362.96,93.9168 1356.22,93.0543 1349.48,92.2593 1342.73,91.5316 1335.98,90.8715 1329.21,90.279 1322.45,89.7542 1315.67,89.2971 1308.89,88.9077 1302.11,88.5861 1295.33,88.3323 1288.54,88.1464 1281.76,88.0284 1274.97,87.9782 1268.18,87.9959 1261.39,88.0815 1254.6,88.235 1247.82,88.4564 1241.04,88.7456 1234.26,89.1026 1227.48,89.5273 1220.71,90.0198 1213.95,90.58 1207.19,91.2078 1200.43,91.9032 1193.69,92.666 1186.95,93.4963 1180.22,94.3939 1173.5,95.3588 1166.79,96.3908 1160.09,97.4899 1153.4,98.6559 1146.73,99.8887 1140.07,101.188 1133.42,102.554 1126.78,103.987 1120.16,105.486 1113.55,107.05 1106.96,108.681 1100.39,110.378 1093.83,112.14 1087.3,113.968 1080.78,115.861 1074.28,117.82 1067.8,119.843 1061.34,121.93 1054.9,124.083 1048.48,126.299 1042.09,128.58 1035.72,130.924 1029.37,133.333 1023.05,135.804 1016.75,138.338 1010.48,140.936 1004.23,143.596 998.011,146.318 991.82,149.102 985.657,151.948 979.522,154.856 973.417,157.825 967.342,160.855 961.297,163.945 955.284,167.095 949.303,170.306 943.354,173.576 937.437,176.906 931.555,180.294 925.707,183.741 919.893,187.247 914.115,190.81 908.373,194.431 902.667,198.11 896.998,201.845 891.367,205.636 885.774,209.484 880.22,213.388 874.705,217.347 869.23,221.36 863.795,225.429 858.402,229.551 853.05,233.728 847.74,237.957 842.472,242.24 837.248,246.574 832.067,250.961 826.93,255.4 821.838,259.89 816.791,264.43 811.79,269.021 806.835,273.661 801.926,278.351 797.065,283.089 792.252,287.876 787.486,292.711 782.769,297.593 778.101,302.522 773.483,307.498 768.914,312.519 764.396,317.586 759.929,322.698 755.513,327.854 751.15,333.055 746.838,338.298 742.579,343.585 738.373,348.913 734.22,354.284 730.122,359.696 726.077,365.148 722.088,370.641 718.153,376.173 714.274,381.745 710.451,387.354 706.685,393.002 702.975,398.687 699.322,404.409 695.726,410.168 692.188,415.962 688.709,421.791 685.287,427.654 681.925,433.552 678.621,439.482 675.378,445.446 672.194,451.442 669.07,457.469 666.006,463.527 663.003,469.615 660.062,475.734 657.181,481.881 654.362,488.057 651.606,494.26 648.911,500.491 646.279,506.749 643.709,513.032 641.202,519.341 638.759,525.675 636.379,532.033 634.063,538.414 631.81,544.818 629.622,551.245 627.498,557.693 625.439,564.161 623.445,570.651 621.515,577.159 619.651,583.687 617.852,590.233 616.119,596.797 614.451,603.377 612.85,609.974 611.314,616.587 609.845,623.215 608.441,629.857 607.105,636.513 605.835,643.181 604.632,649.863 603.495,656.555 602.426,663.259 601.423,669.974 600.488,676.698 599.621,683.431 598.82,690.172 598.087,696.921 597.422,703.677 596.824,710.439 596.293,717.207 595.831,723.98 595.436,730.757 595.109,737.538 594.85,744.322 594.659,751.108 594.535,757.895 594.48,764.684 \"/>\n",
       "<polyline clip-path=\"url(#clip422)\" style=\"stroke:#000000; stroke-linecap:round; stroke-linejoin:round; stroke-width:16; stroke-opacity:1; fill:none\" points=\"594.476,766.846 627.702,976.628 724.129,1165.88 874.316,1316.06 1063.56,1412.49 1273.35,1445.72 1483.13,1412.49 1672.38,1316.06 1822.56,1165.88 1918.99,976.628 1952.22,766.846 1918.99,557.064 1822.56,367.816 1672.38,217.629 1483.13,121.203 1273.35,87.9763 1063.56,121.203 874.316,217.629 724.129,367.816 627.702,557.064 594.476,766.846 \"/>\n",
       "<polyline clip-path=\"url(#clip422)\" style=\"stroke:#3da44d; stroke-linecap:round; stroke-linejoin:round; stroke-width:4; stroke-opacity:1; fill:none\" points=\"1273.35,766.846 594.476,766.846 \"/>\n",
       "<polyline clip-path=\"url(#clip422)\" style=\"stroke:#c271d2; stroke-linecap:round; stroke-linejoin:round; stroke-width:4; stroke-opacity:1; fill:none\" points=\"1273.35,766.846 627.702,976.628 \"/>\n",
       "<polyline clip-path=\"url(#clip422)\" style=\"stroke:#ac8d18; stroke-linecap:round; stroke-linejoin:round; stroke-width:4; stroke-opacity:1; fill:none\" points=\"1273.35,766.846 724.129,1165.88 \"/>\n",
       "<polyline clip-path=\"url(#clip422)\" style=\"stroke:#00a9ad; stroke-linecap:round; stroke-linejoin:round; stroke-width:4; stroke-opacity:1; fill:none\" points=\"1273.35,766.846 874.316,1316.06 \"/>\n",
       "<polyline clip-path=\"url(#clip422)\" style=\"stroke:#ed5d92; stroke-linecap:round; stroke-linejoin:round; stroke-width:4; stroke-opacity:1; fill:none\" points=\"1273.35,766.846 1063.56,1412.49 \"/>\n",
       "<polyline clip-path=\"url(#clip422)\" style=\"stroke:#c68125; stroke-linecap:round; stroke-linejoin:round; stroke-width:4; stroke-opacity:1; fill:none\" points=\"1273.35,766.846 1273.35,1445.72 \"/>\n",
       "<polyline clip-path=\"url(#clip422)\" style=\"stroke:#00a98d; stroke-linecap:round; stroke-linejoin:round; stroke-width:4; stroke-opacity:1; fill:none\" points=\"1273.35,766.846 1483.13,1412.49 \"/>\n",
       "<polyline clip-path=\"url(#clip422)\" style=\"stroke:#8e971d; stroke-linecap:round; stroke-linejoin:round; stroke-width:4; stroke-opacity:1; fill:none\" points=\"1273.35,766.846 1672.38,1316.06 \"/>\n",
       "<polyline clip-path=\"url(#clip422)\" style=\"stroke:#00a8cb; stroke-linecap:round; stroke-linejoin:round; stroke-width:4; stroke-opacity:1; fill:none\" points=\"1273.35,766.846 1822.56,1165.88 \"/>\n",
       "<polyline clip-path=\"url(#clip422)\" style=\"stroke:#9b7fe8; stroke-linecap:round; stroke-linejoin:round; stroke-width:4; stroke-opacity:1; fill:none\" points=\"1273.35,766.846 1918.99,976.628 \"/>\n",
       "<polyline clip-path=\"url(#clip422)\" style=\"stroke:#608cf6; stroke-linecap:round; stroke-linejoin:round; stroke-width:4; stroke-opacity:1; fill:none\" points=\"1273.35,766.846 1952.22,766.846 \"/>\n",
       "<polyline clip-path=\"url(#clip422)\" style=\"stroke:#f05f73; stroke-linecap:round; stroke-linejoin:round; stroke-width:4; stroke-opacity:1; fill:none\" points=\"1273.35,766.846 1918.99,557.064 \"/>\n",
       "<polyline clip-path=\"url(#clip422)\" style=\"stroke:#dd64b5; stroke-linecap:round; stroke-linejoin:round; stroke-width:4; stroke-opacity:1; fill:none\" points=\"1273.35,766.846 1822.56,367.816 \"/>\n",
       "<polyline clip-path=\"url(#clip422)\" style=\"stroke:#6b9e32; stroke-linecap:round; stroke-linejoin:round; stroke-width:4; stroke-opacity:1; fill:none\" points=\"1273.35,766.846 1672.38,217.629 \"/>\n",
       "<polyline clip-path=\"url(#clip422)\" style=\"stroke:#009af9; stroke-linecap:round; stroke-linejoin:round; stroke-width:4; stroke-opacity:1; fill:none\" points=\"1273.35,766.846 1483.13,121.203 \"/>\n",
       "<polyline clip-path=\"url(#clip422)\" style=\"stroke:#e26f46; stroke-linecap:round; stroke-linejoin:round; stroke-width:4; stroke-opacity:1; fill:none\" points=\"1273.35,766.846 1273.35,87.9763 \"/>\n",
       "<polyline clip-path=\"url(#clip422)\" style=\"stroke:#3da44d; stroke-linecap:round; stroke-linejoin:round; stroke-width:4; stroke-opacity:1; fill:none\" points=\"1273.35,766.846 1063.56,121.203 \"/>\n",
       "<polyline clip-path=\"url(#clip422)\" style=\"stroke:#c271d2; stroke-linecap:round; stroke-linejoin:round; stroke-width:4; stroke-opacity:1; fill:none\" points=\"1273.35,766.846 874.316,217.629 \"/>\n",
       "<polyline clip-path=\"url(#clip422)\" style=\"stroke:#ac8d18; stroke-linecap:round; stroke-linejoin:round; stroke-width:4; stroke-opacity:1; fill:none\" points=\"1273.35,766.846 724.129,367.816 \"/>\n",
       "<polyline clip-path=\"url(#clip422)\" style=\"stroke:#00a9ad; stroke-linecap:round; stroke-linejoin:round; stroke-width:4; stroke-opacity:1; fill:none\" points=\"1273.35,766.846 627.702,557.064 \"/>\n",
       "<polyline clip-path=\"url(#clip422)\" style=\"stroke:#ed5d92; stroke-linecap:round; stroke-linejoin:round; stroke-width:4; stroke-opacity:1; fill:none\" points=\"1273.35,766.846 594.476,766.846 \"/>\n",
       "</svg>\n"
      ],
      "text/html": [
       "<?xml version=\"1.0\" encoding=\"utf-8\"?>\n",
       "<svg xmlns=\"http://www.w3.org/2000/svg\" xmlns:xlink=\"http://www.w3.org/1999/xlink\" width=\"600\" height=\"400\" viewBox=\"0 0 2400 1600\">\n",
       "<defs>\n",
       "  <clipPath id=\"clip470\">\n",
       "    <rect x=\"0\" y=\"0\" width=\"2400\" height=\"1600\"/>\n",
       "  </clipPath>\n",
       "</defs>\n",
       "<path clip-path=\"url(#clip470)\" d=\"M0 1600 L2400 1600 L2400 8.88178e-14 L0 8.88178e-14  Z\" fill=\"#ffffff\" fill-rule=\"evenodd\" fill-opacity=\"1\"/>\n",
       "<defs>\n",
       "  <clipPath id=\"clip471\">\n",
       "    <rect x=\"480\" y=\"0\" width=\"1681\" height=\"1600\"/>\n",
       "  </clipPath>\n",
       "</defs>\n",
       "<path clip-path=\"url(#clip470)\" d=\"M193.936 1486.45 L2352.76 1486.45 L2352.76 47.2441 L193.936 47.2441  Z\" fill=\"#ffffff\" fill-rule=\"evenodd\" fill-opacity=\"1\"/>\n",
       "<defs>\n",
       "  <clipPath id=\"clip472\">\n",
       "    <rect x=\"193\" y=\"47\" width=\"2160\" height=\"1440\"/>\n",
       "  </clipPath>\n",
       "</defs>\n",
       "<polyline clip-path=\"url(#clip472)\" style=\"stroke:#000000; stroke-linecap:round; stroke-linejoin:round; stroke-width:2; stroke-opacity:0.1; fill:none\" points=\"255.041,1486.45 255.041,47.2441 \"/>\n",
       "<polyline clip-path=\"url(#clip472)\" style=\"stroke:#000000; stroke-linecap:round; stroke-linejoin:round; stroke-width:2; stroke-opacity:0.1; fill:none\" points=\"594.476,1486.45 594.476,47.2441 \"/>\n",
       "<polyline clip-path=\"url(#clip472)\" style=\"stroke:#000000; stroke-linecap:round; stroke-linejoin:round; stroke-width:2; stroke-opacity:0.1; fill:none\" points=\"933.911,1486.45 933.911,47.2441 \"/>\n",
       "<polyline clip-path=\"url(#clip472)\" style=\"stroke:#000000; stroke-linecap:round; stroke-linejoin:round; stroke-width:2; stroke-opacity:0.1; fill:none\" points=\"1273.35,1486.45 1273.35,47.2441 \"/>\n",
       "<polyline clip-path=\"url(#clip472)\" style=\"stroke:#000000; stroke-linecap:round; stroke-linejoin:round; stroke-width:2; stroke-opacity:0.1; fill:none\" points=\"1612.78,1486.45 1612.78,47.2441 \"/>\n",
       "<polyline clip-path=\"url(#clip472)\" style=\"stroke:#000000; stroke-linecap:round; stroke-linejoin:round; stroke-width:2; stroke-opacity:0.1; fill:none\" points=\"1952.22,1486.45 1952.22,47.2441 \"/>\n",
       "<polyline clip-path=\"url(#clip472)\" style=\"stroke:#000000; stroke-linecap:round; stroke-linejoin:round; stroke-width:2; stroke-opacity:0.1; fill:none\" points=\"2291.65,1486.45 2291.65,47.2441 \"/>\n",
       "<polyline clip-path=\"url(#clip472)\" style=\"stroke:#000000; stroke-linecap:round; stroke-linejoin:round; stroke-width:2; stroke-opacity:0.1; fill:none\" points=\"193.936,1445.72 2352.76,1445.72 \"/>\n",
       "<polyline clip-path=\"url(#clip472)\" style=\"stroke:#000000; stroke-linecap:round; stroke-linejoin:round; stroke-width:2; stroke-opacity:0.1; fill:none\" points=\"193.936,1106.28 2352.76,1106.28 \"/>\n",
       "<polyline clip-path=\"url(#clip472)\" style=\"stroke:#000000; stroke-linecap:round; stroke-linejoin:round; stroke-width:2; stroke-opacity:0.1; fill:none\" points=\"193.936,766.846 2352.76,766.846 \"/>\n",
       "<polyline clip-path=\"url(#clip472)\" style=\"stroke:#000000; stroke-linecap:round; stroke-linejoin:round; stroke-width:2; stroke-opacity:0.1; fill:none\" points=\"193.936,427.411 2352.76,427.411 \"/>\n",
       "<polyline clip-path=\"url(#clip472)\" style=\"stroke:#000000; stroke-linecap:round; stroke-linejoin:round; stroke-width:2; stroke-opacity:0.1; fill:none\" points=\"193.936,87.9763 2352.76,87.9763 \"/>\n",
       "<polyline clip-path=\"url(#clip470)\" style=\"stroke:#000000; stroke-linecap:round; stroke-linejoin:round; stroke-width:4; stroke-opacity:1; fill:none\" points=\"193.936,1486.45 2352.76,1486.45 \"/>\n",
       "<polyline clip-path=\"url(#clip470)\" style=\"stroke:#000000; stroke-linecap:round; stroke-linejoin:round; stroke-width:4; stroke-opacity:1; fill:none\" points=\"255.041,1486.45 255.041,1467.55 \"/>\n",
       "<polyline clip-path=\"url(#clip470)\" style=\"stroke:#000000; stroke-linecap:round; stroke-linejoin:round; stroke-width:4; stroke-opacity:1; fill:none\" points=\"594.476,1486.45 594.476,1467.55 \"/>\n",
       "<polyline clip-path=\"url(#clip470)\" style=\"stroke:#000000; stroke-linecap:round; stroke-linejoin:round; stroke-width:4; stroke-opacity:1; fill:none\" points=\"933.911,1486.45 933.911,1467.55 \"/>\n",
       "<polyline clip-path=\"url(#clip470)\" style=\"stroke:#000000; stroke-linecap:round; stroke-linejoin:round; stroke-width:4; stroke-opacity:1; fill:none\" points=\"1273.35,1486.45 1273.35,1467.55 \"/>\n",
       "<polyline clip-path=\"url(#clip470)\" style=\"stroke:#000000; stroke-linecap:round; stroke-linejoin:round; stroke-width:4; stroke-opacity:1; fill:none\" points=\"1612.78,1486.45 1612.78,1467.55 \"/>\n",
       "<polyline clip-path=\"url(#clip470)\" style=\"stroke:#000000; stroke-linecap:round; stroke-linejoin:round; stroke-width:4; stroke-opacity:1; fill:none\" points=\"1952.22,1486.45 1952.22,1467.55 \"/>\n",
       "<polyline clip-path=\"url(#clip470)\" style=\"stroke:#000000; stroke-linecap:round; stroke-linejoin:round; stroke-width:4; stroke-opacity:1; fill:none\" points=\"2291.65,1486.45 2291.65,1467.55 \"/>\n",
       "<path clip-path=\"url(#clip470)\" d=\"M202.067 1532.02 L231.743 1532.02 L231.743 1535.95 L202.067 1535.95 L202.067 1532.02 Z\" fill=\"#000000\" fill-rule=\"nonzero\" fill-opacity=\"1\" /><path clip-path=\"url(#clip470)\" d=\"M242.646 1544.91 L250.284 1544.91 L250.284 1518.55 L241.974 1520.21 L241.974 1515.95 L250.238 1514.29 L254.914 1514.29 L254.914 1544.91 L262.553 1544.91 L262.553 1548.85 L242.646 1548.85 L242.646 1544.91 Z\" fill=\"#000000\" fill-rule=\"nonzero\" fill-opacity=\"1\" /><path clip-path=\"url(#clip470)\" d=\"M271.997 1542.97 L276.882 1542.97 L276.882 1548.85 L271.997 1548.85 L271.997 1542.97 Z\" fill=\"#000000\" fill-rule=\"nonzero\" fill-opacity=\"1\" /><path clip-path=\"url(#clip470)\" d=\"M287.113 1514.29 L305.469 1514.29 L305.469 1518.22 L291.395 1518.22 L291.395 1526.7 Q292.414 1526.35 293.432 1526.19 Q294.451 1526 295.469 1526 Q301.256 1526 304.636 1529.17 Q308.016 1532.34 308.016 1537.76 Q308.016 1543.34 304.543 1546.44 Q301.071 1549.52 294.752 1549.52 Q292.576 1549.52 290.307 1549.15 Q288.062 1548.78 285.655 1548.04 L285.655 1543.34 Q287.738 1544.47 289.96 1545.03 Q292.182 1545.58 294.659 1545.58 Q298.664 1545.58 301.002 1543.48 Q303.34 1541.37 303.34 1537.76 Q303.34 1534.15 301.002 1532.04 Q298.664 1529.94 294.659 1529.94 Q292.784 1529.94 290.909 1530.35 Q289.057 1530.77 287.113 1531.65 L287.113 1514.29 Z\" fill=\"#000000\" fill-rule=\"nonzero\" fill-opacity=\"1\" /><path clip-path=\"url(#clip470)\" d=\"M541.004 1532.02 L570.68 1532.02 L570.68 1535.95 L541.004 1535.95 L541.004 1532.02 Z\" fill=\"#000000\" fill-rule=\"nonzero\" fill-opacity=\"1\" /><path clip-path=\"url(#clip470)\" d=\"M581.583 1544.91 L589.222 1544.91 L589.222 1518.55 L580.912 1520.21 L580.912 1515.95 L589.175 1514.29 L593.851 1514.29 L593.851 1544.91 L601.49 1544.91 L601.49 1548.85 L581.583 1548.85 L581.583 1544.91 Z\" fill=\"#000000\" fill-rule=\"nonzero\" fill-opacity=\"1\" /><path clip-path=\"url(#clip470)\" d=\"M610.934 1542.97 L615.819 1542.97 L615.819 1548.85 L610.934 1548.85 L610.934 1542.97 Z\" fill=\"#000000\" fill-rule=\"nonzero\" fill-opacity=\"1\" /><path clip-path=\"url(#clip470)\" d=\"M636.004 1517.37 Q632.393 1517.37 630.564 1520.93 Q628.758 1524.47 628.758 1531.6 Q628.758 1538.71 630.564 1542.27 Q632.393 1545.82 636.004 1545.82 Q639.638 1545.82 641.444 1542.27 Q643.272 1538.71 643.272 1531.6 Q643.272 1524.47 641.444 1520.93 Q639.638 1517.37 636.004 1517.37 M636.004 1513.66 Q641.814 1513.66 644.869 1518.27 Q647.948 1522.85 647.948 1531.6 Q647.948 1540.33 644.869 1544.94 Q641.814 1549.52 636.004 1549.52 Q630.194 1549.52 627.115 1544.94 Q624.059 1540.33 624.059 1531.6 Q624.059 1522.85 627.115 1518.27 Q630.194 1513.66 636.004 1513.66 Z\" fill=\"#000000\" fill-rule=\"nonzero\" fill-opacity=\"1\" /><path clip-path=\"url(#clip470)\" d=\"M880.937 1532.02 L910.613 1532.02 L910.613 1535.95 L880.937 1535.95 L880.937 1532.02 Z\" fill=\"#000000\" fill-rule=\"nonzero\" fill-opacity=\"1\" /><path clip-path=\"url(#clip470)\" d=\"M930.705 1517.37 Q927.094 1517.37 925.265 1520.93 Q923.46 1524.47 923.46 1531.6 Q923.46 1538.71 925.265 1542.27 Q927.094 1545.82 930.705 1545.82 Q934.339 1545.82 936.145 1542.27 Q937.974 1538.71 937.974 1531.6 Q937.974 1524.47 936.145 1520.93 Q934.339 1517.37 930.705 1517.37 M930.705 1513.66 Q936.515 1513.66 939.571 1518.27 Q942.649 1522.85 942.649 1531.6 Q942.649 1540.33 939.571 1544.94 Q936.515 1549.52 930.705 1549.52 Q924.895 1549.52 921.816 1544.94 Q918.761 1540.33 918.761 1531.6 Q918.761 1522.85 921.816 1518.27 Q924.895 1513.66 930.705 1513.66 Z\" fill=\"#000000\" fill-rule=\"nonzero\" fill-opacity=\"1\" /><path clip-path=\"url(#clip470)\" d=\"M950.867 1542.97 L955.751 1542.97 L955.751 1548.85 L950.867 1548.85 L950.867 1542.97 Z\" fill=\"#000000\" fill-rule=\"nonzero\" fill-opacity=\"1\" /><path clip-path=\"url(#clip470)\" d=\"M965.983 1514.29 L984.339 1514.29 L984.339 1518.22 L970.265 1518.22 L970.265 1526.7 Q971.284 1526.35 972.302 1526.19 Q973.321 1526 974.339 1526 Q980.126 1526 983.506 1529.17 Q986.885 1532.34 986.885 1537.76 Q986.885 1543.34 983.413 1546.44 Q979.941 1549.52 973.622 1549.52 Q971.446 1549.52 969.177 1549.15 Q966.932 1548.78 964.524 1548.04 L964.524 1543.34 Q966.608 1544.47 968.83 1545.03 Q971.052 1545.58 973.529 1545.58 Q977.534 1545.58 979.871 1543.48 Q982.209 1541.37 982.209 1537.76 Q982.209 1534.15 979.871 1532.04 Q977.534 1529.94 973.529 1529.94 Q971.654 1529.94 969.779 1530.35 Q967.927 1530.77 965.983 1531.65 L965.983 1514.29 Z\" fill=\"#000000\" fill-rule=\"nonzero\" fill-opacity=\"1\" /><path clip-path=\"url(#clip470)\" d=\"M1250.73 1517.37 Q1247.12 1517.37 1245.29 1520.93 Q1243.49 1524.47 1243.49 1531.6 Q1243.49 1538.71 1245.29 1542.27 Q1247.12 1545.82 1250.73 1545.82 Q1254.36 1545.82 1256.17 1542.27 Q1258 1538.71 1258 1531.6 Q1258 1524.47 1256.17 1520.93 Q1254.36 1517.37 1250.73 1517.37 M1250.73 1513.66 Q1256.54 1513.66 1259.6 1518.27 Q1262.67 1522.85 1262.67 1531.6 Q1262.67 1540.33 1259.6 1544.94 Q1256.54 1549.52 1250.73 1549.52 Q1244.92 1549.52 1241.84 1544.94 Q1238.79 1540.33 1238.79 1531.6 Q1238.79 1522.85 1241.84 1518.27 Q1244.92 1513.66 1250.73 1513.66 Z\" fill=\"#000000\" fill-rule=\"nonzero\" fill-opacity=\"1\" /><path clip-path=\"url(#clip470)\" d=\"M1270.89 1542.97 L1275.78 1542.97 L1275.78 1548.85 L1270.89 1548.85 L1270.89 1542.97 Z\" fill=\"#000000\" fill-rule=\"nonzero\" fill-opacity=\"1\" /><path clip-path=\"url(#clip470)\" d=\"M1295.96 1517.37 Q1292.35 1517.37 1290.52 1520.93 Q1288.72 1524.47 1288.72 1531.6 Q1288.72 1538.71 1290.52 1542.27 Q1292.35 1545.82 1295.96 1545.82 Q1299.6 1545.82 1301.4 1542.27 Q1303.23 1538.71 1303.23 1531.6 Q1303.23 1524.47 1301.4 1520.93 Q1299.6 1517.37 1295.96 1517.37 M1295.96 1513.66 Q1301.77 1513.66 1304.83 1518.27 Q1307.91 1522.85 1307.91 1531.6 Q1307.91 1540.33 1304.83 1544.94 Q1301.77 1549.52 1295.96 1549.52 Q1290.15 1549.52 1287.07 1544.94 Q1284.02 1540.33 1284.02 1531.6 Q1284.02 1522.85 1287.07 1518.27 Q1290.15 1513.66 1295.96 1513.66 Z\" fill=\"#000000\" fill-rule=\"nonzero\" fill-opacity=\"1\" /><path clip-path=\"url(#clip470)\" d=\"M1590.66 1517.37 Q1587.05 1517.37 1585.22 1520.93 Q1583.42 1524.47 1583.42 1531.6 Q1583.42 1538.71 1585.22 1542.27 Q1587.05 1545.82 1590.66 1545.82 Q1594.3 1545.82 1596.1 1542.27 Q1597.93 1538.71 1597.93 1531.6 Q1597.93 1524.47 1596.1 1520.93 Q1594.3 1517.37 1590.66 1517.37 M1590.66 1513.66 Q1596.47 1513.66 1599.53 1518.27 Q1602.61 1522.85 1602.61 1531.6 Q1602.61 1540.33 1599.53 1544.94 Q1596.47 1549.52 1590.66 1549.52 Q1584.85 1549.52 1581.77 1544.94 Q1578.72 1540.33 1578.72 1531.6 Q1578.72 1522.85 1581.77 1518.27 Q1584.85 1513.66 1590.66 1513.66 Z\" fill=\"#000000\" fill-rule=\"nonzero\" fill-opacity=\"1\" /><path clip-path=\"url(#clip470)\" d=\"M1610.82 1542.97 L1615.71 1542.97 L1615.71 1548.85 L1610.82 1548.85 L1610.82 1542.97 Z\" fill=\"#000000\" fill-rule=\"nonzero\" fill-opacity=\"1\" /><path clip-path=\"url(#clip470)\" d=\"M1625.94 1514.29 L1644.3 1514.29 L1644.3 1518.22 L1630.22 1518.22 L1630.22 1526.7 Q1631.24 1526.35 1632.26 1526.19 Q1633.28 1526 1634.3 1526 Q1640.08 1526 1643.46 1529.17 Q1646.84 1532.34 1646.84 1537.76 Q1646.84 1543.34 1643.37 1546.44 Q1639.9 1549.52 1633.58 1549.52 Q1631.4 1549.52 1629.13 1549.15 Q1626.89 1548.78 1624.48 1548.04 L1624.48 1543.34 Q1626.57 1544.47 1628.79 1545.03 Q1631.01 1545.58 1633.49 1545.58 Q1637.49 1545.58 1639.83 1543.48 Q1642.17 1541.37 1642.17 1537.76 Q1642.17 1534.15 1639.83 1532.04 Q1637.49 1529.94 1633.49 1529.94 Q1631.61 1529.94 1629.74 1530.35 Q1627.88 1530.77 1625.94 1531.65 L1625.94 1514.29 Z\" fill=\"#000000\" fill-rule=\"nonzero\" fill-opacity=\"1\" /><path clip-path=\"url(#clip470)\" d=\"M1919.37 1544.91 L1927.01 1544.91 L1927.01 1518.55 L1918.7 1520.21 L1918.7 1515.95 L1926.96 1514.29 L1931.64 1514.29 L1931.64 1544.91 L1939.28 1544.91 L1939.28 1548.85 L1919.37 1548.85 L1919.37 1544.91 Z\" fill=\"#000000\" fill-rule=\"nonzero\" fill-opacity=\"1\" /><path clip-path=\"url(#clip470)\" d=\"M1948.72 1542.97 L1953.6 1542.97 L1953.6 1548.85 L1948.72 1548.85 L1948.72 1542.97 Z\" fill=\"#000000\" fill-rule=\"nonzero\" fill-opacity=\"1\" /><path clip-path=\"url(#clip470)\" d=\"M1973.79 1517.37 Q1970.18 1517.37 1968.35 1520.93 Q1966.54 1524.47 1966.54 1531.6 Q1966.54 1538.71 1968.35 1542.27 Q1970.18 1545.82 1973.79 1545.82 Q1977.42 1545.82 1979.23 1542.27 Q1981.06 1538.71 1981.06 1531.6 Q1981.06 1524.47 1979.23 1520.93 Q1977.42 1517.37 1973.79 1517.37 M1973.79 1513.66 Q1979.6 1513.66 1982.66 1518.27 Q1985.73 1522.85 1985.73 1531.6 Q1985.73 1540.33 1982.66 1544.94 Q1979.6 1549.52 1973.79 1549.52 Q1967.98 1549.52 1964.9 1544.94 Q1961.85 1540.33 1961.85 1531.6 Q1961.85 1522.85 1964.9 1518.27 Q1967.98 1513.66 1973.79 1513.66 Z\" fill=\"#000000\" fill-rule=\"nonzero\" fill-opacity=\"1\" /><path clip-path=\"url(#clip470)\" d=\"M2259.3 1544.91 L2266.94 1544.91 L2266.94 1518.55 L2258.63 1520.21 L2258.63 1515.95 L2266.89 1514.29 L2271.57 1514.29 L2271.57 1544.91 L2279.21 1544.91 L2279.21 1548.85 L2259.3 1548.85 L2259.3 1544.91 Z\" fill=\"#000000\" fill-rule=\"nonzero\" fill-opacity=\"1\" /><path clip-path=\"url(#clip470)\" d=\"M2288.65 1542.97 L2293.54 1542.97 L2293.54 1548.85 L2288.65 1548.85 L2288.65 1542.97 Z\" fill=\"#000000\" fill-rule=\"nonzero\" fill-opacity=\"1\" /><path clip-path=\"url(#clip470)\" d=\"M2303.77 1514.29 L2322.12 1514.29 L2322.12 1518.22 L2308.05 1518.22 L2308.05 1526.7 Q2309.07 1526.35 2310.09 1526.19 Q2311.11 1526 2312.12 1526 Q2317.91 1526 2321.29 1529.17 Q2324.67 1532.34 2324.67 1537.76 Q2324.67 1543.34 2321.2 1546.44 Q2317.73 1549.52 2311.41 1549.52 Q2309.23 1549.52 2306.96 1549.15 Q2304.72 1548.78 2302.31 1548.04 L2302.31 1543.34 Q2304.39 1544.47 2306.62 1545.03 Q2308.84 1545.58 2311.31 1545.58 Q2315.32 1545.58 2317.66 1543.48 Q2320 1541.37 2320 1537.76 Q2320 1534.15 2317.66 1532.04 Q2315.32 1529.94 2311.31 1529.94 Q2309.44 1529.94 2307.56 1530.35 Q2305.71 1530.77 2303.77 1531.65 L2303.77 1514.29 Z\" fill=\"#000000\" fill-rule=\"nonzero\" fill-opacity=\"1\" /><polyline clip-path=\"url(#clip470)\" style=\"stroke:#000000; stroke-linecap:round; stroke-linejoin:round; stroke-width:4; stroke-opacity:1; fill:none\" points=\"193.936,1486.45 193.936,47.2441 \"/>\n",
       "<polyline clip-path=\"url(#clip470)\" style=\"stroke:#000000; stroke-linecap:round; stroke-linejoin:round; stroke-width:4; stroke-opacity:1; fill:none\" points=\"193.936,1445.72 212.834,1445.72 \"/>\n",
       "<polyline clip-path=\"url(#clip470)\" style=\"stroke:#000000; stroke-linecap:round; stroke-linejoin:round; stroke-width:4; stroke-opacity:1; fill:none\" points=\"193.936,1106.28 212.834,1106.28 \"/>\n",
       "<polyline clip-path=\"url(#clip470)\" style=\"stroke:#000000; stroke-linecap:round; stroke-linejoin:round; stroke-width:4; stroke-opacity:1; fill:none\" points=\"193.936,766.846 212.834,766.846 \"/>\n",
       "<polyline clip-path=\"url(#clip470)\" style=\"stroke:#000000; stroke-linecap:round; stroke-linejoin:round; stroke-width:4; stroke-opacity:1; fill:none\" points=\"193.936,427.411 212.834,427.411 \"/>\n",
       "<polyline clip-path=\"url(#clip470)\" style=\"stroke:#000000; stroke-linecap:round; stroke-linejoin:round; stroke-width:4; stroke-opacity:1; fill:none\" points=\"193.936,87.9763 212.834,87.9763 \"/>\n",
       "<path clip-path=\"url(#clip470)\" d=\"M50.9921 1446.17 L80.6679 1446.17 L80.6679 1450.1 L50.9921 1450.1 L50.9921 1446.17 Z\" fill=\"#000000\" fill-rule=\"nonzero\" fill-opacity=\"1\" /><path clip-path=\"url(#clip470)\" d=\"M91.5706 1459.06 L99.2095 1459.06 L99.2095 1432.69 L90.8993 1434.36 L90.8993 1430.1 L99.1632 1428.44 L103.839 1428.44 L103.839 1459.06 L111.478 1459.06 L111.478 1463 L91.5706 1463 L91.5706 1459.06 Z\" fill=\"#000000\" fill-rule=\"nonzero\" fill-opacity=\"1\" /><path clip-path=\"url(#clip470)\" d=\"M120.922 1457.12 L125.807 1457.12 L125.807 1463 L120.922 1463 L120.922 1457.12 Z\" fill=\"#000000\" fill-rule=\"nonzero\" fill-opacity=\"1\" /><path clip-path=\"url(#clip470)\" d=\"M145.992 1431.51 Q142.381 1431.51 140.552 1435.08 Q138.746 1438.62 138.746 1445.75 Q138.746 1452.86 140.552 1456.42 Q142.381 1459.96 145.992 1459.96 Q149.626 1459.96 151.431 1456.42 Q153.26 1452.86 153.26 1445.75 Q153.26 1438.62 151.431 1435.08 Q149.626 1431.51 145.992 1431.51 M145.992 1427.81 Q151.802 1427.81 154.857 1432.42 Q157.936 1437 157.936 1445.75 Q157.936 1454.48 154.857 1459.08 Q151.802 1463.67 145.992 1463.67 Q140.181 1463.67 137.103 1459.08 Q134.047 1454.48 134.047 1445.75 Q134.047 1437 137.103 1432.42 Q140.181 1427.81 145.992 1427.81 Z\" fill=\"#000000\" fill-rule=\"nonzero\" fill-opacity=\"1\" /><path clip-path=\"url(#clip470)\" d=\"M51.9875 1106.73 L81.6633 1106.73 L81.6633 1110.67 L51.9875 1110.67 L51.9875 1106.73 Z\" fill=\"#000000\" fill-rule=\"nonzero\" fill-opacity=\"1\" /><path clip-path=\"url(#clip470)\" d=\"M101.756 1092.08 Q98.1447 1092.08 96.316 1095.64 Q94.5104 1099.19 94.5104 1106.32 Q94.5104 1113.42 96.316 1116.99 Q98.1447 1120.53 101.756 1120.53 Q105.39 1120.53 107.196 1116.99 Q109.024 1113.42 109.024 1106.32 Q109.024 1099.19 107.196 1095.64 Q105.39 1092.08 101.756 1092.08 M101.756 1088.38 Q107.566 1088.38 110.621 1092.98 Q113.7 1097.57 113.7 1106.32 Q113.7 1115.04 110.621 1119.65 Q107.566 1124.23 101.756 1124.23 Q95.9456 1124.23 92.8669 1119.65 Q89.8114 1115.04 89.8114 1106.32 Q89.8114 1097.57 92.8669 1092.98 Q95.9456 1088.38 101.756 1088.38 Z\" fill=\"#000000\" fill-rule=\"nonzero\" fill-opacity=\"1\" /><path clip-path=\"url(#clip470)\" d=\"M121.918 1117.68 L126.802 1117.68 L126.802 1123.56 L121.918 1123.56 L121.918 1117.68 Z\" fill=\"#000000\" fill-rule=\"nonzero\" fill-opacity=\"1\" /><path clip-path=\"url(#clip470)\" d=\"M137.033 1089 L155.39 1089 L155.39 1092.94 L141.316 1092.94 L141.316 1101.41 Q142.334 1101.06 143.353 1100.9 Q144.371 1100.71 145.39 1100.71 Q151.177 1100.71 154.556 1103.89 Q157.936 1107.06 157.936 1112.47 Q157.936 1118.05 154.464 1121.15 Q150.992 1124.23 144.672 1124.23 Q142.496 1124.23 140.228 1123.86 Q137.982 1123.49 135.575 1122.75 L135.575 1118.05 Q137.658 1119.19 139.881 1119.74 Q142.103 1120.3 144.58 1120.3 Q148.584 1120.3 150.922 1118.19 Q153.26 1116.08 153.26 1112.47 Q153.26 1108.86 150.922 1106.76 Q148.584 1104.65 144.58 1104.65 Q142.705 1104.65 140.83 1105.07 Q138.978 1105.48 137.033 1106.36 L137.033 1089 Z\" fill=\"#000000\" fill-rule=\"nonzero\" fill-opacity=\"1\" /><path clip-path=\"url(#clip470)\" d=\"M100.76 752.645 Q97.1493 752.645 95.3206 756.209 Q93.515 759.751 93.515 766.881 Q93.515 773.987 95.3206 777.552 Q97.1493 781.094 100.76 781.094 Q104.395 781.094 106.2 777.552 Q108.029 773.987 108.029 766.881 Q108.029 759.751 106.2 756.209 Q104.395 752.645 100.76 752.645 M100.76 748.941 Q106.571 748.941 109.626 753.547 Q112.705 758.131 112.705 766.881 Q112.705 775.608 109.626 780.214 Q106.571 784.797 100.76 784.797 Q94.9502 784.797 91.8715 780.214 Q88.816 775.608 88.816 766.881 Q88.816 758.131 91.8715 753.547 Q94.9502 748.941 100.76 748.941 Z\" fill=\"#000000\" fill-rule=\"nonzero\" fill-opacity=\"1\" /><path clip-path=\"url(#clip470)\" d=\"M120.922 778.246 L125.807 778.246 L125.807 784.126 L120.922 784.126 L120.922 778.246 Z\" fill=\"#000000\" fill-rule=\"nonzero\" fill-opacity=\"1\" /><path clip-path=\"url(#clip470)\" d=\"M145.992 752.645 Q142.381 752.645 140.552 756.209 Q138.746 759.751 138.746 766.881 Q138.746 773.987 140.552 777.552 Q142.381 781.094 145.992 781.094 Q149.626 781.094 151.431 777.552 Q153.26 773.987 153.26 766.881 Q153.26 759.751 151.431 756.209 Q149.626 752.645 145.992 752.645 M145.992 748.941 Q151.802 748.941 154.857 753.547 Q157.936 758.131 157.936 766.881 Q157.936 775.608 154.857 780.214 Q151.802 784.797 145.992 784.797 Q140.181 784.797 137.103 780.214 Q134.047 775.608 134.047 766.881 Q134.047 758.131 137.103 753.547 Q140.181 748.941 145.992 748.941 Z\" fill=\"#000000\" fill-rule=\"nonzero\" fill-opacity=\"1\" /><path clip-path=\"url(#clip470)\" d=\"M101.756 413.21 Q98.1447 413.21 96.316 416.775 Q94.5104 420.316 94.5104 427.446 Q94.5104 434.552 96.316 438.117 Q98.1447 441.659 101.756 441.659 Q105.39 441.659 107.196 438.117 Q109.024 434.552 109.024 427.446 Q109.024 420.316 107.196 416.775 Q105.39 413.21 101.756 413.21 M101.756 409.506 Q107.566 409.506 110.621 414.113 Q113.7 418.696 113.7 427.446 Q113.7 436.173 110.621 440.779 Q107.566 445.362 101.756 445.362 Q95.9456 445.362 92.8669 440.779 Q89.8114 436.173 89.8114 427.446 Q89.8114 418.696 92.8669 414.113 Q95.9456 409.506 101.756 409.506 Z\" fill=\"#000000\" fill-rule=\"nonzero\" fill-opacity=\"1\" /><path clip-path=\"url(#clip470)\" d=\"M121.918 438.812 L126.802 438.812 L126.802 444.691 L121.918 444.691 L121.918 438.812 Z\" fill=\"#000000\" fill-rule=\"nonzero\" fill-opacity=\"1\" /><path clip-path=\"url(#clip470)\" d=\"M137.033 410.131 L155.39 410.131 L155.39 414.066 L141.316 414.066 L141.316 422.538 Q142.334 422.191 143.353 422.029 Q144.371 421.844 145.39 421.844 Q151.177 421.844 154.556 425.015 Q157.936 428.187 157.936 433.603 Q157.936 439.182 154.464 442.284 Q150.992 445.362 144.672 445.362 Q142.496 445.362 140.228 444.992 Q137.982 444.622 135.575 443.881 L135.575 439.182 Q137.658 440.316 139.881 440.872 Q142.103 441.427 144.58 441.427 Q148.584 441.427 150.922 439.321 Q153.26 437.214 153.26 433.603 Q153.26 429.992 150.922 427.886 Q148.584 425.779 144.58 425.779 Q142.705 425.779 140.83 426.196 Q138.978 426.613 137.033 427.492 L137.033 410.131 Z\" fill=\"#000000\" fill-rule=\"nonzero\" fill-opacity=\"1\" /><path clip-path=\"url(#clip470)\" d=\"M91.5706 101.321 L99.2095 101.321 L99.2095 74.9555 L90.8993 76.6222 L90.8993 72.3629 L99.1632 70.6963 L103.839 70.6963 L103.839 101.321 L111.478 101.321 L111.478 105.256 L91.5706 105.256 L91.5706 101.321 Z\" fill=\"#000000\" fill-rule=\"nonzero\" fill-opacity=\"1\" /><path clip-path=\"url(#clip470)\" d=\"M120.922 99.3767 L125.807 99.3767 L125.807 105.256 L120.922 105.256 L120.922 99.3767 Z\" fill=\"#000000\" fill-rule=\"nonzero\" fill-opacity=\"1\" /><path clip-path=\"url(#clip470)\" d=\"M145.992 73.775 Q142.381 73.775 140.552 77.3398 Q138.746 80.8814 138.746 88.011 Q138.746 95.1174 140.552 98.6822 Q142.381 102.224 145.992 102.224 Q149.626 102.224 151.431 98.6822 Q153.26 95.1174 153.26 88.011 Q153.26 80.8814 151.431 77.3398 Q149.626 73.775 145.992 73.775 M145.992 70.0713 Q151.802 70.0713 154.857 74.6777 Q157.936 79.261 157.936 88.011 Q157.936 96.7378 154.857 101.344 Q151.802 105.928 145.992 105.928 Q140.181 105.928 137.103 101.344 Q134.047 96.7378 134.047 88.011 Q134.047 79.261 137.103 74.6777 Q140.181 70.0713 145.992 70.0713 Z\" fill=\"#000000\" fill-rule=\"nonzero\" fill-opacity=\"1\" /><polyline clip-path=\"url(#clip472)\" style=\"stroke:#ff0000; stroke-linecap:round; stroke-linejoin:round; stroke-width:24; stroke-opacity:1; fill:none\" points=\"594.476,766.846 594.51,773.635 594.612,780.422 594.782,787.209 595.019,793.994 595.325,800.775 595.698,807.554 596.139,814.328 596.647,821.098 597.224,827.862 597.868,834.62 598.579,841.371 599.358,848.115 600.205,854.851 601.118,861.578 602.099,868.295 603.147,875.002 604.262,881.699 605.444,888.384 606.693,895.057 608.008,901.717 609.39,908.363 610.839,914.995 612.353,921.613 613.934,928.215 615.581,934.801 617.293,941.37 619.071,947.922 620.915,954.455 622.823,960.97 624.797,967.466 626.836,973.941 628.939,980.396 631.106,986.829 633.338,993.24 635.634,999.629 637.994,1005.99 640.417,1012.34 642.904,1018.65 645.453,1024.94 648.066,1031.21 650.74,1037.45 653.478,1043.66 656.277,1049.85 659.137,1056 662.06,1062.13 665.043,1068.23 668.087,1074.3 671.192,1080.33 674.357,1086.34 677.582,1092.31 680.866,1098.25 684.21,1104.16 687.612,1110.04 691.074,1115.88 694.593,1121.68 698.17,1127.45 701.805,1133.19 705.497,1138.88 709.245,1144.54 713.051,1150.16 716.912,1155.75 720.829,1161.29 724.801,1166.8 728.827,1172.26 732.909,1177.69 737.044,1183.07 741.233,1188.41 745.475,1193.71 749.77,1198.97 754.118,1204.19 758.517,1209.36 762.968,1214.48 767.47,1219.56 772.022,1224.6 776.625,1229.59 781.277,1234.53 785.978,1239.43 790.728,1244.28 795.527,1249.08 800.373,1253.84 805.266,1258.54 810.207,1263.2 815.193,1267.81 820.226,1272.36 825.303,1276.87 830.426,1281.32 835.593,1285.73 840.803,1290.08 846.057,1294.38 851.354,1298.62 856.693,1302.82 862.073,1306.96 867.495,1311.04 872.957,1315.07 878.459,1319.05 884.001,1322.97 889.581,1326.84 895.2,1330.65 900.857,1334.4 906.551,1338.1 912.282,1341.73 918.049,1345.32 923.851,1348.84 929.688,1352.31 935.56,1355.71 941.466,1359.06 947.404,1362.35 953.375,1365.58 959.379,1368.75 965.413,1371.86 971.479,1374.91 977.574,1377.9 983.7,1380.82 989.854,1383.69 996.036,1386.49 1002.25,1389.24 1008.48,1391.92 1014.75,1394.53 1021.04,1397.09 1027.35,1399.58 1033.69,1402.01 1040.06,1404.37 1046.44,1406.67 1052.85,1408.91 1059.28,1411.08 1065.74,1413.19 1072.21,1415.24 1078.7,1417.21 1085.22,1419.13 1091.75,1420.98 1098.3,1422.76 1104.87,1424.48 1111.45,1426.13 1118.05,1427.72 1124.67,1429.24 1131.3,1430.69 1137.95,1432.08 1144.6,1433.4 1151.28,1434.65 1157.96,1435.84 1164.66,1436.96 1171.36,1438.01 1178.08,1439 1184.81,1439.92 1191.54,1440.77 1198.28,1441.55 1205.03,1442.27 1211.79,1442.92 1218.56,1443.5 1225.32,1444.02 1232.1,1444.46 1238.88,1444.84 1245.66,1445.15 1252.44,1445.39 1259.23,1445.57 1266.02,1445.68 1272.81,1445.72 1279.59,1445.69 1286.38,1445.59 1293.17,1445.43 1299.95,1445.19 1306.74,1444.89 1313.51,1444.53 1320.29,1444.09 1327.06,1443.59 1333.82,1443.02 1340.58,1442.38 1347.33,1441.67 1354.08,1440.9 1360.81,1440.06 1367.54,1439.15 1374.26,1438.17 1380.97,1437.13 1387.67,1436.02 1394.35,1434.84 1401.03,1433.6 1407.69,1432.29 1414.33,1430.91 1420.97,1429.47 1427.59,1427.96 1434.19,1426.39 1440.78,1424.74 1447.35,1423.04 1453.9,1421.26 1460.44,1419.43 1466.95,1417.52 1473.45,1415.55 1479.93,1413.52 1486.38,1411.42 1492.82,1409.26 1499.23,1407.03 1505.62,1404.74 1511.99,1402.39 1518.33,1399.97 1524.65,1397.49 1530.94,1394.94 1537.21,1392.34 1543.45,1389.67 1549.67,1386.93 1555.86,1384.14 1562.01,1381.28 1568.14,1378.37 1574.24,1375.39 1580.31,1372.35 1586.35,1369.25 1592.36,1366.09 1598.34,1362.87 1604.28,1359.59 1610.19,1356.25 1616.07,1352.85 1621.91,1349.4 1627.72,1345.88 1633.49,1342.31 1639.23,1338.68 1644.93,1334.99 1650.59,1331.25 1656.22,1327.45 1661.81,1323.59 1667.35,1319.68 1672.86,1315.71 1678.33,1311.69 1683.76,1307.61 1689.15,1303.48 1694.49,1299.29 1699.79,1295.06 1705.05,1290.77 1710.27,1286.42 1715.45,1282.03 1720.58,1277.58 1725.66,1273.08 1730.7,1268.53 1735.69,1263.94 1740.64,1259.29 1745.54,1254.59 1750.4,1249.84 1755.2,1245.05 1759.96,1240.21 1764.67,1235.32 1769.33,1230.38 1773.94,1225.4 1778.5,1220.37 1783.01,1215.29 1787.47,1210.18 1791.88,1205.01 1796.23,1199.81 1800.54,1194.55 1804.79,1189.26 1808.98,1183.93 1813.13,1178.55 1817.22,1173.13 1821.25,1167.67 1825.23,1162.17 1829.16,1156.63 1833.03,1151.06 1836.84,1145.44 1840.6,1139.79 1844.3,1134.1 1847.95,1128.37 1851.53,1122.6 1855.06,1116.8 1858.53,1110.97 1861.94,1105.1 1865.3,1099.2 1868.59,1093.26 1871.83,1087.29 1875,1081.29 1878.11,1075.26 1881.17,1069.2 1884.16,1063.1 1887.09,1056.98 1889.96,1050.83 1892.77,1044.65 1895.52,1038.44 1898.2,1032.21 1900.83,1025.94 1903.39,1019.66 1905.88,1013.34 1908.32,1007.01 1910.69,1000.64 1912.99,994.259 1915.23,987.852 1917.41,981.422 1919.53,974.97 1921.57,968.498 1923.56,962.006 1925.48,955.494 1927.33,948.964 1929.12,942.415 1930.84,935.848 1932.5,929.265 1934.09,922.666 1935.62,916.05 1937.08,909.42 1938.47,902.776 1939.79,896.118 1941.05,889.447 1942.25,882.764 1943.37,876.07 1944.43,869.364 1945.42,862.648 1946.35,855.923 1947.2,849.188 1947.99,842.446 1948.72,835.696 1949.37,828.939 1949.96,822.175 1950.48,815.407 1950.93,808.633 1951.31,801.855 1951.63,795.074 1951.88,788.29 1952.06,781.503 1952.17,774.716 1952.21,767.927 1952.19,761.139 1952.1,754.351 1951.94,747.564 1951.72,740.779 1951.42,733.997 1951.06,727.218 1950.63,720.443 1950.13,713.672 1949.56,706.907 1948.93,700.148 1948.23,693.396 1947.46,686.651 1946.63,679.913 1945.72,673.185 1944.75,666.466 1943.72,659.757 1942.61,653.059 1941.44,646.372 1940.2,639.697 1938.9,633.035 1937.53,626.387 1936.09,619.752 1934.58,613.132 1933.01,606.527 1931.38,599.939 1929.68,593.367 1927.91,586.812 1926.08,580.276 1924.18,573.758 1922.21,567.259 1920.19,560.781 1918.09,554.323 1915.93,547.886 1913.71,541.471 1911.43,535.079 1909.08,528.71 1906.66,522.365 1904.19,516.044 1901.65,509.748 1899.05,503.478 1896.38,497.234 1893.65,491.017 1890.87,484.828 1888.01,478.667 1885.1,472.535 1882.13,466.432 1879.09,460.36 1876,454.318 1872.84,448.307 1869.63,442.328 1866.35,436.381 1863.02,430.468 1859.63,424.588 1856.17,418.742 1852.66,412.932 1849.1,407.156 1845.47,401.417 1841.79,395.714 1838.05,390.048 1834.25,384.42 1830.4,378.83 1826.49,373.279 1822.53,367.768 1818.51,362.296 1814.44,356.865 1810.31,351.474 1806.13,346.125 1801.9,340.819 1797.61,335.555 1793.27,330.334 1788.88,325.156 1784.44,320.023 1779.94,314.935 1775.4,309.891 1770.8,304.894 1766.16,299.942 1761.47,295.038 1756.72,290.18 1751.93,285.37 1747.09,280.609 1742.21,275.895 1737.28,271.231 1732.3,266.617 1727.27,262.053 1722.2,257.539 1717.08,253.076 1711.93,248.664 1706.72,244.304 1701.47,239.997 1696.18,235.742 1690.85,231.54 1685.48,227.392 1680.06,223.298 1674.61,219.258 1669.11,215.272 1663.58,211.342 1658,207.468 1652.39,203.649 1646.74,199.887 1641.05,196.182 1635.33,192.533 1629.56,188.942 1623.77,185.409 1617.94,181.934 1612.07,178.517 1606.17,175.16 1600.24,171.861 1594.27,168.622 1588.27,165.443 1582.24,162.324 1576.18,159.265 1570.09,156.267 1563.97,153.33 1557.82,150.455 1551.64,147.641 1545.44,144.889 1539.2,142.199 1532.94,139.572 1526.66,137.007 1520.35,134.505 1514.01,132.067 1507.65,129.692 1501.27,127.381 1494.86,125.134 1488.43,122.951 1481.98,120.832 1475.51,118.778 1469.02,116.789 1462.51,114.865 1455.98,113.006 1449.44,111.212 1442.87,109.484 1436.29,107.821 1429.69,106.225 1423.08,104.695 1416.45,103.23 1409.81,101.833 1403.15,100.501 1396.48,99.2366 1389.8,98.0386 1383.1,96.9076 1376.4,95.8435 1369.68,94.8466 1362.96,93.9168 1356.22,93.0543 1349.48,92.2593 1342.73,91.5316 1335.98,90.8715 1329.21,90.279 1322.45,89.7542 1315.67,89.2971 1308.89,88.9077 1302.11,88.5861 1295.33,88.3323 1288.54,88.1464 1281.76,88.0284 1274.97,87.9782 1268.18,87.9959 1261.39,88.0815 1254.6,88.235 1247.82,88.4564 1241.04,88.7456 1234.26,89.1026 1227.48,89.5273 1220.71,90.0198 1213.95,90.58 1207.19,91.2078 1200.43,91.9032 1193.69,92.666 1186.95,93.4963 1180.22,94.3939 1173.5,95.3588 1166.79,96.3908 1160.09,97.4899 1153.4,98.6559 1146.73,99.8887 1140.07,101.188 1133.42,102.554 1126.78,103.987 1120.16,105.486 1113.55,107.05 1106.96,108.681 1100.39,110.378 1093.83,112.14 1087.3,113.968 1080.78,115.861 1074.28,117.82 1067.8,119.843 1061.34,121.93 1054.9,124.083 1048.48,126.299 1042.09,128.58 1035.72,130.924 1029.37,133.333 1023.05,135.804 1016.75,138.338 1010.48,140.936 1004.23,143.596 998.011,146.318 991.82,149.102 985.657,151.948 979.522,154.856 973.417,157.825 967.342,160.855 961.297,163.945 955.284,167.095 949.303,170.306 943.354,173.576 937.437,176.906 931.555,180.294 925.707,183.741 919.893,187.247 914.115,190.81 908.373,194.431 902.667,198.11 896.998,201.845 891.367,205.636 885.774,209.484 880.22,213.388 874.705,217.347 869.23,221.36 863.795,225.429 858.402,229.551 853.05,233.728 847.74,237.957 842.472,242.24 837.248,246.574 832.067,250.961 826.93,255.4 821.838,259.89 816.791,264.43 811.79,269.021 806.835,273.661 801.926,278.351 797.065,283.089 792.252,287.876 787.486,292.711 782.769,297.593 778.101,302.522 773.483,307.498 768.914,312.519 764.396,317.586 759.929,322.698 755.513,327.854 751.15,333.055 746.838,338.298 742.579,343.585 738.373,348.913 734.22,354.284 730.122,359.696 726.077,365.148 722.088,370.641 718.153,376.173 714.274,381.745 710.451,387.354 706.685,393.002 702.975,398.687 699.322,404.409 695.726,410.168 692.188,415.962 688.709,421.791 685.287,427.654 681.925,433.552 678.621,439.482 675.378,445.446 672.194,451.442 669.07,457.469 666.006,463.527 663.003,469.615 660.062,475.734 657.181,481.881 654.362,488.057 651.606,494.26 648.911,500.491 646.279,506.749 643.709,513.032 641.202,519.341 638.759,525.675 636.379,532.033 634.063,538.414 631.81,544.818 629.622,551.245 627.498,557.693 625.439,564.161 623.445,570.651 621.515,577.159 619.651,583.687 617.852,590.233 616.119,596.797 614.451,603.377 612.85,609.974 611.314,616.587 609.845,623.215 608.441,629.857 607.105,636.513 605.835,643.181 604.632,649.863 603.495,656.555 602.426,663.259 601.423,669.974 600.488,676.698 599.621,683.431 598.82,690.172 598.087,696.921 597.422,703.677 596.824,710.439 596.293,717.207 595.831,723.98 595.436,730.757 595.109,737.538 594.85,744.322 594.659,751.108 594.535,757.895 594.48,764.684 \"/>\n",
       "<polyline clip-path=\"url(#clip472)\" style=\"stroke:#000000; stroke-linecap:round; stroke-linejoin:round; stroke-width:16; stroke-opacity:1; fill:none\" points=\"594.476,766.846 627.702,976.628 724.129,1165.88 874.316,1316.06 1063.56,1412.49 1273.35,1445.72 1483.13,1412.49 1672.38,1316.06 1822.56,1165.88 1918.99,976.628 1952.22,766.846 1918.99,557.064 1822.56,367.816 1672.38,217.629 1483.13,121.203 1273.35,87.9763 1063.56,121.203 874.316,217.629 724.129,367.816 627.702,557.064 594.476,766.846 \"/>\n",
       "<polyline clip-path=\"url(#clip472)\" style=\"stroke:#3da44d; stroke-linecap:round; stroke-linejoin:round; stroke-width:4; stroke-opacity:1; fill:none\" points=\"1273.35,766.846 594.476,766.846 \"/>\n",
       "<polyline clip-path=\"url(#clip472)\" style=\"stroke:#c271d2; stroke-linecap:round; stroke-linejoin:round; stroke-width:4; stroke-opacity:1; fill:none\" points=\"1273.35,766.846 627.702,976.628 \"/>\n",
       "<polyline clip-path=\"url(#clip472)\" style=\"stroke:#ac8d18; stroke-linecap:round; stroke-linejoin:round; stroke-width:4; stroke-opacity:1; fill:none\" points=\"1273.35,766.846 724.129,1165.88 \"/>\n",
       "<polyline clip-path=\"url(#clip472)\" style=\"stroke:#00a9ad; stroke-linecap:round; stroke-linejoin:round; stroke-width:4; stroke-opacity:1; fill:none\" points=\"1273.35,766.846 874.316,1316.06 \"/>\n",
       "<polyline clip-path=\"url(#clip472)\" style=\"stroke:#ed5d92; stroke-linecap:round; stroke-linejoin:round; stroke-width:4; stroke-opacity:1; fill:none\" points=\"1273.35,766.846 1063.56,1412.49 \"/>\n",
       "<polyline clip-path=\"url(#clip472)\" style=\"stroke:#c68125; stroke-linecap:round; stroke-linejoin:round; stroke-width:4; stroke-opacity:1; fill:none\" points=\"1273.35,766.846 1273.35,1445.72 \"/>\n",
       "<polyline clip-path=\"url(#clip472)\" style=\"stroke:#00a98d; stroke-linecap:round; stroke-linejoin:round; stroke-width:4; stroke-opacity:1; fill:none\" points=\"1273.35,766.846 1483.13,1412.49 \"/>\n",
       "<polyline clip-path=\"url(#clip472)\" style=\"stroke:#8e971d; stroke-linecap:round; stroke-linejoin:round; stroke-width:4; stroke-opacity:1; fill:none\" points=\"1273.35,766.846 1672.38,1316.06 \"/>\n",
       "<polyline clip-path=\"url(#clip472)\" style=\"stroke:#00a8cb; stroke-linecap:round; stroke-linejoin:round; stroke-width:4; stroke-opacity:1; fill:none\" points=\"1273.35,766.846 1822.56,1165.88 \"/>\n",
       "<polyline clip-path=\"url(#clip472)\" style=\"stroke:#9b7fe8; stroke-linecap:round; stroke-linejoin:round; stroke-width:4; stroke-opacity:1; fill:none\" points=\"1273.35,766.846 1918.99,976.628 \"/>\n",
       "<polyline clip-path=\"url(#clip472)\" style=\"stroke:#608cf6; stroke-linecap:round; stroke-linejoin:round; stroke-width:4; stroke-opacity:1; fill:none\" points=\"1273.35,766.846 1952.22,766.846 \"/>\n",
       "<polyline clip-path=\"url(#clip472)\" style=\"stroke:#f05f73; stroke-linecap:round; stroke-linejoin:round; stroke-width:4; stroke-opacity:1; fill:none\" points=\"1273.35,766.846 1918.99,557.064 \"/>\n",
       "<polyline clip-path=\"url(#clip472)\" style=\"stroke:#dd64b5; stroke-linecap:round; stroke-linejoin:round; stroke-width:4; stroke-opacity:1; fill:none\" points=\"1273.35,766.846 1822.56,367.816 \"/>\n",
       "<polyline clip-path=\"url(#clip472)\" style=\"stroke:#6b9e32; stroke-linecap:round; stroke-linejoin:round; stroke-width:4; stroke-opacity:1; fill:none\" points=\"1273.35,766.846 1672.38,217.629 \"/>\n",
       "<polyline clip-path=\"url(#clip472)\" style=\"stroke:#009af9; stroke-linecap:round; stroke-linejoin:round; stroke-width:4; stroke-opacity:1; fill:none\" points=\"1273.35,766.846 1483.13,121.203 \"/>\n",
       "<polyline clip-path=\"url(#clip472)\" style=\"stroke:#e26f46; stroke-linecap:round; stroke-linejoin:round; stroke-width:4; stroke-opacity:1; fill:none\" points=\"1273.35,766.846 1273.35,87.9763 \"/>\n",
       "<polyline clip-path=\"url(#clip472)\" style=\"stroke:#3da44d; stroke-linecap:round; stroke-linejoin:round; stroke-width:4; stroke-opacity:1; fill:none\" points=\"1273.35,766.846 1063.56,121.203 \"/>\n",
       "<polyline clip-path=\"url(#clip472)\" style=\"stroke:#c271d2; stroke-linecap:round; stroke-linejoin:round; stroke-width:4; stroke-opacity:1; fill:none\" points=\"1273.35,766.846 874.316,217.629 \"/>\n",
       "<polyline clip-path=\"url(#clip472)\" style=\"stroke:#ac8d18; stroke-linecap:round; stroke-linejoin:round; stroke-width:4; stroke-opacity:1; fill:none\" points=\"1273.35,766.846 724.129,367.816 \"/>\n",
       "<polyline clip-path=\"url(#clip472)\" style=\"stroke:#00a9ad; stroke-linecap:round; stroke-linejoin:round; stroke-width:4; stroke-opacity:1; fill:none\" points=\"1273.35,766.846 627.702,557.064 \"/>\n",
       "<polyline clip-path=\"url(#clip472)\" style=\"stroke:#ed5d92; stroke-linecap:round; stroke-linejoin:round; stroke-width:4; stroke-opacity:1; fill:none\" points=\"1273.35,766.846 594.476,766.846 \"/>\n",
       "</svg>\n"
      ]
     },
     "metadata": {},
     "output_type": "display_data"
    },
    {
     "data": {
      "text/plain": [
       "-0.05142270984031905"
      ]
     },
     "metadata": {},
     "output_type": "display_data"
    }
   ],
   "source": [
    "# Approximate the area of a unit circle via triangles\n",
    "N=20 # Number of triangles\n",
    "ths=[-pi:(2*pi/N):pi;]\n",
    "n=length(ths)\n",
    "Xs=cos.(ths)\n",
    "Ys=sin.(ths)\n",
    "p1=plot(X,Y,linewidth=6, color=:red)\n",
    "p1=plot!(Xs, Ys, legend=false, aspectratio=:equal,linewidth=4, color=:black)\n",
    "for k=1:n\n",
    "    plot!([0;Xs[k]],[0;Ys[k]])\n",
    "end\n",
    "display(p1)\n",
    "Area=0.0\n",
    "n=length(ths)\n",
    "Xs=[Xs;Xs[1]]\n",
    "Ys=[Ys;Ys[1]]\n",
    "for k=1:n\n",
    "    u=[Xs[k];Ys[k];0.0]\n",
    "    v=[Xs[k+1];Ys[k+1];0.0]\n",
    "    AreaTriangle=0.5*norm(cross(u,v))\n",
    "    Area = Area+AreaTriangle\n",
    "end\n",
    "Area-pi"
   ]
  },
  {
   "cell_type": "markdown",
   "id": "0ef1f726-2c14-4b01-9a55-102c84439432",
   "metadata": {},
   "source": [
    "### Problem. Area of a Heart!"
   ]
  },
  {
   "cell_type": "code",
   "execution_count": 75,
   "id": "120f6b59-fd3b-4133-843e-ec39e68f8f50",
   "metadata": {},
   "outputs": [
    {
     "data": {
      "image/png": "[encoded data removed]",
      "image/svg+xml": [
       "<?xml version=\"1.0\" encoding=\"utf-8\"?>\n",
       "<svg xmlns=\"http://www.w3.org/2000/svg\" xmlns:xlink=\"http://www.w3.org/1999/xlink\" width=\"600\" height=\"400\" viewBox=\"0 0 2400 1600\">\n",
       "<defs>\n",
       "  <clipPath id=\"clip510\">\n",
       "    <rect x=\"0\" y=\"0\" width=\"2400\" height=\"1600\"/>\n",
       "  </clipPath>\n",
       "</defs>\n",
       "<path clip-path=\"url(#clip510)\" d=\"M0 1600 L2400 1600 L2400 8.88178e-14 L0 8.88178e-14  Z\" fill=\"#ffffff\" fill-rule=\"evenodd\" fill-opacity=\"1\"/>\n",
       "<defs>\n",
       "  <clipPath id=\"clip511\">\n",
       "    <rect x=\"480\" y=\"0\" width=\"1681\" height=\"1600\"/>\n",
       "  </clipPath>\n",
       "</defs>\n",
       "<path clip-path=\"url(#clip510)\" d=\"M178.867 1486.45 L2352.76 1486.45 L2352.76 47.2441 L178.867 47.2441  Z\" fill=\"#ffffff\" fill-rule=\"evenodd\" fill-opacity=\"1\"/>\n",
       "<defs>\n",
       "  <clipPath id=\"clip512\">\n",
       "    <rect x=\"178\" y=\"47\" width=\"2175\" height=\"1440\"/>\n",
       "  </clipPath>\n",
       "</defs>\n",
       "<polyline clip-path=\"url(#clip512)\" style=\"stroke:#000000; stroke-linecap:round; stroke-linejoin:round; stroke-width:2; stroke-opacity:0.1; fill:none\" points=\"304.48,1486.45 304.48,47.2441 \"/>\n",
       "<polyline clip-path=\"url(#clip512)\" style=\"stroke:#000000; stroke-linecap:round; stroke-linejoin:round; stroke-width:2; stroke-opacity:0.1; fill:none\" points=\"624.925,1486.45 624.925,47.2441 \"/>\n",
       "<polyline clip-path=\"url(#clip512)\" style=\"stroke:#000000; stroke-linecap:round; stroke-linejoin:round; stroke-width:2; stroke-opacity:0.1; fill:none\" points=\"945.37,1486.45 945.37,47.2441 \"/>\n",
       "<polyline clip-path=\"url(#clip512)\" style=\"stroke:#000000; stroke-linecap:round; stroke-linejoin:round; stroke-width:2; stroke-opacity:0.1; fill:none\" points=\"1265.82,1486.45 1265.82,47.2441 \"/>\n",
       "<polyline clip-path=\"url(#clip512)\" style=\"stroke:#000000; stroke-linecap:round; stroke-linejoin:round; stroke-width:2; stroke-opacity:0.1; fill:none\" points=\"1586.26,1486.45 1586.26,47.2441 \"/>\n",
       "<polyline clip-path=\"url(#clip512)\" style=\"stroke:#000000; stroke-linecap:round; stroke-linejoin:round; stroke-width:2; stroke-opacity:0.1; fill:none\" points=\"1906.71,1486.45 1906.71,47.2441 \"/>\n",
       "<polyline clip-path=\"url(#clip512)\" style=\"stroke:#000000; stroke-linecap:round; stroke-linejoin:round; stroke-width:2; stroke-opacity:0.1; fill:none\" points=\"2227.15,1486.45 2227.15,47.2441 \"/>\n",
       "<polyline clip-path=\"url(#clip512)\" style=\"stroke:#000000; stroke-linecap:round; stroke-linejoin:round; stroke-width:2; stroke-opacity:0.1; fill:none\" points=\"178.867,1351.83 2352.76,1351.83 \"/>\n",
       "<polyline clip-path=\"url(#clip512)\" style=\"stroke:#000000; stroke-linecap:round; stroke-linejoin:round; stroke-width:2; stroke-opacity:0.1; fill:none\" points=\"178.867,1117.12 2352.76,1117.12 \"/>\n",
       "<polyline clip-path=\"url(#clip512)\" style=\"stroke:#000000; stroke-linecap:round; stroke-linejoin:round; stroke-width:2; stroke-opacity:0.1; fill:none\" points=\"178.867,882.402 2352.76,882.402 \"/>\n",
       "<polyline clip-path=\"url(#clip512)\" style=\"stroke:#000000; stroke-linecap:round; stroke-linejoin:round; stroke-width:2; stroke-opacity:0.1; fill:none\" points=\"178.867,647.687 2352.76,647.687 \"/>\n",
       "<polyline clip-path=\"url(#clip512)\" style=\"stroke:#000000; stroke-linecap:round; stroke-linejoin:round; stroke-width:2; stroke-opacity:0.1; fill:none\" points=\"178.867,412.973 2352.76,412.973 \"/>\n",
       "<polyline clip-path=\"url(#clip512)\" style=\"stroke:#000000; stroke-linecap:round; stroke-linejoin:round; stroke-width:2; stroke-opacity:0.1; fill:none\" points=\"178.867,178.259 2352.76,178.259 \"/>\n",
       "<polyline clip-path=\"url(#clip510)\" style=\"stroke:#000000; stroke-linecap:round; stroke-linejoin:round; stroke-width:4; stroke-opacity:1; fill:none\" points=\"178.867,1486.45 2352.76,1486.45 \"/>\n",
       "<polyline clip-path=\"url(#clip510)\" style=\"stroke:#000000; stroke-linecap:round; stroke-linejoin:round; stroke-width:4; stroke-opacity:1; fill:none\" points=\"304.48,1486.45 304.48,1467.55 \"/>\n",
       "<polyline clip-path=\"url(#clip510)\" style=\"stroke:#000000; stroke-linecap:round; stroke-linejoin:round; stroke-width:4; stroke-opacity:1; fill:none\" points=\"624.925,1486.45 624.925,1467.55 \"/>\n",
       "<polyline clip-path=\"url(#clip510)\" style=\"stroke:#000000; stroke-linecap:round; stroke-linejoin:round; stroke-width:4; stroke-opacity:1; fill:none\" points=\"945.37,1486.45 945.37,1467.55 \"/>\n",
       "<polyline clip-path=\"url(#clip510)\" style=\"stroke:#000000; stroke-linecap:round; stroke-linejoin:round; stroke-width:4; stroke-opacity:1; fill:none\" points=\"1265.82,1486.45 1265.82,1467.55 \"/>\n",
       "<polyline clip-path=\"url(#clip510)\" style=\"stroke:#000000; stroke-linecap:round; stroke-linejoin:round; stroke-width:4; stroke-opacity:1; fill:none\" points=\"1586.26,1486.45 1586.26,1467.55 \"/>\n",
       "<polyline clip-path=\"url(#clip510)\" style=\"stroke:#000000; stroke-linecap:round; stroke-linejoin:round; stroke-width:4; stroke-opacity:1; fill:none\" points=\"1906.71,1486.45 1906.71,1467.55 \"/>\n",
       "<polyline clip-path=\"url(#clip510)\" style=\"stroke:#000000; stroke-linecap:round; stroke-linejoin:round; stroke-width:4; stroke-opacity:1; fill:none\" points=\"2227.15,1486.45 2227.15,1467.55 \"/>\n",
       "<path clip-path=\"url(#clip510)\" d=\"M259.04 1532.02 L288.716 1532.02 L288.716 1535.95 L259.04 1535.95 L259.04 1532.02 Z\" fill=\"#000000\" fill-rule=\"nonzero\" fill-opacity=\"1\" /><path clip-path=\"url(#clip510)\" d=\"M299.619 1544.91 L307.258 1544.91 L307.258 1518.55 L298.947 1520.21 L298.947 1515.95 L307.211 1514.29 L311.887 1514.29 L311.887 1544.91 L319.526 1544.91 L319.526 1548.85 L299.619 1548.85 L299.619 1544.91 Z\" fill=\"#000000\" fill-rule=\"nonzero\" fill-opacity=\"1\" /><path clip-path=\"url(#clip510)\" d=\"M329.017 1514.29 L347.373 1514.29 L347.373 1518.22 L333.299 1518.22 L333.299 1526.7 Q334.318 1526.35 335.336 1526.19 Q336.355 1526 337.373 1526 Q343.16 1526 346.54 1529.17 Q349.919 1532.34 349.919 1537.76 Q349.919 1543.34 346.447 1546.44 Q342.975 1549.52 336.656 1549.52 Q334.48 1549.52 332.211 1549.15 Q329.966 1548.78 327.558 1548.04 L327.558 1543.34 Q329.642 1544.47 331.864 1545.03 Q334.086 1545.58 336.563 1545.58 Q340.568 1545.58 342.906 1543.48 Q345.244 1541.37 345.244 1537.76 Q345.244 1534.15 342.906 1532.04 Q340.568 1529.94 336.563 1529.94 Q334.688 1529.94 332.813 1530.35 Q330.961 1530.77 329.017 1531.65 L329.017 1514.29 Z\" fill=\"#000000\" fill-rule=\"nonzero\" fill-opacity=\"1\" /><path clip-path=\"url(#clip510)\" d=\"M578.988 1532.02 L608.663 1532.02 L608.663 1535.95 L578.988 1535.95 L578.988 1532.02 Z\" fill=\"#000000\" fill-rule=\"nonzero\" fill-opacity=\"1\" /><path clip-path=\"url(#clip510)\" d=\"M619.566 1544.91 L627.205 1544.91 L627.205 1518.55 L618.895 1520.21 L618.895 1515.95 L627.159 1514.29 L631.835 1514.29 L631.835 1544.91 L639.473 1544.91 L639.473 1548.85 L619.566 1548.85 L619.566 1544.91 Z\" fill=\"#000000\" fill-rule=\"nonzero\" fill-opacity=\"1\" /><path clip-path=\"url(#clip510)\" d=\"M658.918 1517.37 Q655.307 1517.37 653.478 1520.93 Q651.672 1524.47 651.672 1531.6 Q651.672 1538.71 653.478 1542.27 Q655.307 1545.82 658.918 1545.82 Q662.552 1545.82 664.358 1542.27 Q666.186 1538.71 666.186 1531.6 Q666.186 1524.47 664.358 1520.93 Q662.552 1517.37 658.918 1517.37 M658.918 1513.66 Q664.728 1513.66 667.784 1518.27 Q670.862 1522.85 670.862 1531.6 Q670.862 1540.33 667.784 1544.94 Q664.728 1549.52 658.918 1549.52 Q653.108 1549.52 650.029 1544.94 Q646.973 1540.33 646.973 1531.6 Q646.973 1522.85 650.029 1518.27 Q653.108 1513.66 658.918 1513.66 Z\" fill=\"#000000\" fill-rule=\"nonzero\" fill-opacity=\"1\" /><path clip-path=\"url(#clip510)\" d=\"M915.011 1532.02 L944.687 1532.02 L944.687 1535.95 L915.011 1535.95 L915.011 1532.02 Z\" fill=\"#000000\" fill-rule=\"nonzero\" fill-opacity=\"1\" /><path clip-path=\"url(#clip510)\" d=\"M954.826 1514.29 L973.182 1514.29 L973.182 1518.22 L959.108 1518.22 L959.108 1526.7 Q960.127 1526.35 961.145 1526.19 Q962.164 1526 963.182 1526 Q968.969 1526 972.349 1529.17 Q975.729 1532.34 975.729 1537.76 Q975.729 1543.34 972.256 1546.44 Q968.784 1549.52 962.465 1549.52 Q960.289 1549.52 958.02 1549.15 Q955.775 1548.78 953.368 1548.04 L953.368 1543.34 Q955.451 1544.47 957.673 1545.03 Q959.895 1545.58 962.372 1545.58 Q966.377 1545.58 968.715 1543.48 Q971.053 1541.37 971.053 1537.76 Q971.053 1534.15 968.715 1532.04 Q966.377 1529.94 962.372 1529.94 Q960.497 1529.94 958.622 1530.35 Q956.77 1530.77 954.826 1531.65 L954.826 1514.29 Z\" fill=\"#000000\" fill-rule=\"nonzero\" fill-opacity=\"1\" /><path clip-path=\"url(#clip510)\" d=\"M1265.82 1517.37 Q1262.2 1517.37 1260.38 1520.93 Q1258.57 1524.47 1258.57 1531.6 Q1258.57 1538.71 1260.38 1542.27 Q1262.2 1545.82 1265.82 1545.82 Q1269.45 1545.82 1271.25 1542.27 Q1273.08 1538.71 1273.08 1531.6 Q1273.08 1524.47 1271.25 1520.93 Q1269.45 1517.37 1265.82 1517.37 M1265.82 1513.66 Q1271.63 1513.66 1274.68 1518.27 Q1277.76 1522.85 1277.76 1531.6 Q1277.76 1540.33 1274.68 1544.94 Q1271.63 1549.52 1265.82 1549.52 Q1260.01 1549.52 1256.93 1544.94 Q1253.87 1540.33 1253.87 1531.6 Q1253.87 1522.85 1256.93 1518.27 Q1260.01 1513.66 1265.82 1513.66 Z\" fill=\"#000000\" fill-rule=\"nonzero\" fill-opacity=\"1\" /><path clip-path=\"url(#clip510)\" d=\"M1576.54 1514.29 L1594.89 1514.29 L1594.89 1518.22 L1580.82 1518.22 L1580.82 1526.7 Q1581.84 1526.35 1582.86 1526.19 Q1583.88 1526 1584.89 1526 Q1590.68 1526 1594.06 1529.17 Q1597.44 1532.34 1597.44 1537.76 Q1597.44 1543.34 1593.97 1546.44 Q1590.5 1549.52 1584.18 1549.52 Q1582 1549.52 1579.73 1549.15 Q1577.49 1548.78 1575.08 1548.04 L1575.08 1543.34 Q1577.16 1544.47 1579.39 1545.03 Q1581.61 1545.58 1584.08 1545.58 Q1588.09 1545.58 1590.43 1543.48 Q1592.76 1541.37 1592.76 1537.76 Q1592.76 1534.15 1590.43 1532.04 Q1588.09 1529.94 1584.08 1529.94 Q1582.21 1529.94 1580.33 1530.35 Q1578.48 1530.77 1576.54 1531.65 L1576.54 1514.29 Z\" fill=\"#000000\" fill-rule=\"nonzero\" fill-opacity=\"1\" /><path clip-path=\"url(#clip510)\" d=\"M1881.39 1544.91 L1889.03 1544.91 L1889.03 1518.55 L1880.72 1520.21 L1880.72 1515.95 L1888.99 1514.29 L1893.66 1514.29 L1893.66 1544.91 L1901.3 1544.91 L1901.3 1548.85 L1881.39 1548.85 L1881.39 1544.91 Z\" fill=\"#000000\" fill-rule=\"nonzero\" fill-opacity=\"1\" /><path clip-path=\"url(#clip510)\" d=\"M1920.74 1517.37 Q1917.13 1517.37 1915.3 1520.93 Q1913.5 1524.47 1913.5 1531.6 Q1913.5 1538.71 1915.3 1542.27 Q1917.13 1545.82 1920.74 1545.82 Q1924.38 1545.82 1926.18 1542.27 Q1928.01 1538.71 1928.01 1531.6 Q1928.01 1524.47 1926.18 1520.93 Q1924.38 1517.37 1920.74 1517.37 M1920.74 1513.66 Q1926.55 1513.66 1929.61 1518.27 Q1932.69 1522.85 1932.69 1531.6 Q1932.69 1540.33 1929.61 1544.94 Q1926.55 1549.52 1920.74 1549.52 Q1914.93 1549.52 1911.86 1544.94 Q1908.8 1540.33 1908.8 1531.6 Q1908.8 1522.85 1911.86 1518.27 Q1914.93 1513.66 1920.74 1513.66 Z\" fill=\"#000000\" fill-rule=\"nonzero\" fill-opacity=\"1\" /><path clip-path=\"url(#clip510)\" d=\"M2202.34 1544.91 L2209.97 1544.91 L2209.97 1518.55 L2201.66 1520.21 L2201.66 1515.95 L2209.93 1514.29 L2214.6 1514.29 L2214.6 1544.91 L2222.24 1544.91 L2222.24 1548.85 L2202.34 1548.85 L2202.34 1544.91 Z\" fill=\"#000000\" fill-rule=\"nonzero\" fill-opacity=\"1\" /><path clip-path=\"url(#clip510)\" d=\"M2231.73 1514.29 L2250.09 1514.29 L2250.09 1518.22 L2236.02 1518.22 L2236.02 1526.7 Q2237.03 1526.35 2238.05 1526.19 Q2239.07 1526 2240.09 1526 Q2245.88 1526 2249.26 1529.17 Q2252.64 1532.34 2252.64 1537.76 Q2252.64 1543.34 2249.16 1546.44 Q2245.69 1549.52 2239.37 1549.52 Q2237.2 1549.52 2234.93 1549.15 Q2232.68 1548.78 2230.28 1548.04 L2230.28 1543.34 Q2232.36 1544.47 2234.58 1545.03 Q2236.8 1545.58 2239.28 1545.58 Q2243.28 1545.58 2245.62 1543.48 Q2247.96 1541.37 2247.96 1537.76 Q2247.96 1534.15 2245.62 1532.04 Q2243.28 1529.94 2239.28 1529.94 Q2237.41 1529.94 2235.53 1530.35 Q2233.68 1530.77 2231.73 1531.65 L2231.73 1514.29 Z\" fill=\"#000000\" fill-rule=\"nonzero\" fill-opacity=\"1\" /><polyline clip-path=\"url(#clip510)\" style=\"stroke:#000000; stroke-linecap:round; stroke-linejoin:round; stroke-width:4; stroke-opacity:1; fill:none\" points=\"178.867,1486.45 178.867,47.2441 \"/>\n",
       "<polyline clip-path=\"url(#clip510)\" style=\"stroke:#000000; stroke-linecap:round; stroke-linejoin:round; stroke-width:4; stroke-opacity:1; fill:none\" points=\"178.867,1351.83 197.764,1351.83 \"/>\n",
       "<polyline clip-path=\"url(#clip510)\" style=\"stroke:#000000; stroke-linecap:round; stroke-linejoin:round; stroke-width:4; stroke-opacity:1; fill:none\" points=\"178.867,1117.12 197.764,1117.12 \"/>\n",
       "<polyline clip-path=\"url(#clip510)\" style=\"stroke:#000000; stroke-linecap:round; stroke-linejoin:round; stroke-width:4; stroke-opacity:1; fill:none\" points=\"178.867,882.402 197.764,882.402 \"/>\n",
       "<polyline clip-path=\"url(#clip510)\" style=\"stroke:#000000; stroke-linecap:round; stroke-linejoin:round; stroke-width:4; stroke-opacity:1; fill:none\" points=\"178.867,647.687 197.764,647.687 \"/>\n",
       "<polyline clip-path=\"url(#clip510)\" style=\"stroke:#000000; stroke-linecap:round; stroke-linejoin:round; stroke-width:4; stroke-opacity:1; fill:none\" points=\"178.867,412.973 197.764,412.973 \"/>\n",
       "<polyline clip-path=\"url(#clip510)\" style=\"stroke:#000000; stroke-linecap:round; stroke-linejoin:round; stroke-width:4; stroke-opacity:1; fill:none\" points=\"178.867,178.259 197.764,178.259 \"/>\n",
       "<path clip-path=\"url(#clip510)\" d=\"M51.9875 1352.28 L81.6633 1352.28 L81.6633 1356.22 L51.9875 1356.22 L51.9875 1352.28 Z\" fill=\"#000000\" fill-rule=\"nonzero\" fill-opacity=\"1\" /><path clip-path=\"url(#clip510)\" d=\"M92.566 1365.17 L100.205 1365.17 L100.205 1338.81 L91.8947 1340.48 L91.8947 1336.22 L100.159 1334.55 L104.834 1334.55 L104.834 1365.17 L112.473 1365.17 L112.473 1369.11 L92.566 1369.11 L92.566 1365.17 Z\" fill=\"#000000\" fill-rule=\"nonzero\" fill-opacity=\"1\" /><path clip-path=\"url(#clip510)\" d=\"M121.964 1334.55 L140.32 1334.55 L140.32 1338.49 L126.246 1338.49 L126.246 1346.96 Q127.265 1346.61 128.283 1346.45 Q129.302 1346.26 130.32 1346.26 Q136.107 1346.26 139.487 1349.43 Q142.867 1352.61 142.867 1358.02 Q142.867 1363.6 139.394 1366.7 Q135.922 1369.78 129.603 1369.78 Q127.427 1369.78 125.158 1369.41 Q122.913 1369.04 120.506 1368.3 L120.506 1363.6 Q122.589 1364.74 124.811 1365.29 Q127.033 1365.85 129.51 1365.85 Q133.515 1365.85 135.853 1363.74 Q138.191 1361.63 138.191 1358.02 Q138.191 1354.41 135.853 1352.3 Q133.515 1350.2 129.51 1350.2 Q127.635 1350.2 125.76 1350.61 Q123.908 1351.03 121.964 1351.91 L121.964 1334.55 Z\" fill=\"#000000\" fill-rule=\"nonzero\" fill-opacity=\"1\" /><path clip-path=\"url(#clip510)\" d=\"M50.9921 1117.57 L80.6679 1117.57 L80.6679 1121.5 L50.9921 1121.5 L50.9921 1117.57 Z\" fill=\"#000000\" fill-rule=\"nonzero\" fill-opacity=\"1\" /><path clip-path=\"url(#clip510)\" d=\"M91.5706 1130.46 L99.2095 1130.46 L99.2095 1104.1 L90.8993 1105.76 L90.8993 1101.5 L99.1632 1099.84 L103.839 1099.84 L103.839 1130.46 L111.478 1130.46 L111.478 1134.4 L91.5706 1134.4 L91.5706 1130.46 Z\" fill=\"#000000\" fill-rule=\"nonzero\" fill-opacity=\"1\" /><path clip-path=\"url(#clip510)\" d=\"M130.922 1102.91 Q127.311 1102.91 125.482 1106.48 Q123.677 1110.02 123.677 1117.15 Q123.677 1124.26 125.482 1127.82 Q127.311 1131.36 130.922 1131.36 Q134.556 1131.36 136.362 1127.82 Q138.191 1124.26 138.191 1117.15 Q138.191 1110.02 136.362 1106.48 Q134.556 1102.91 130.922 1102.91 M130.922 1099.21 Q136.732 1099.21 139.788 1103.82 Q142.867 1108.4 142.867 1117.15 Q142.867 1125.88 139.788 1130.48 Q136.732 1135.07 130.922 1135.07 Q125.112 1135.07 122.033 1130.48 Q118.978 1125.88 118.978 1117.15 Q118.978 1108.4 122.033 1103.82 Q125.112 1099.21 130.922 1099.21 Z\" fill=\"#000000\" fill-rule=\"nonzero\" fill-opacity=\"1\" /><path clip-path=\"url(#clip510)\" d=\"M82.1494 882.853 L111.825 882.853 L111.825 886.788 L82.1494 886.788 L82.1494 882.853 Z\" fill=\"#000000\" fill-rule=\"nonzero\" fill-opacity=\"1\" /><path clip-path=\"url(#clip510)\" d=\"M121.964 865.122 L140.32 865.122 L140.32 869.057 L126.246 869.057 L126.246 877.529 Q127.265 877.182 128.283 877.02 Q129.302 876.835 130.32 876.835 Q136.107 876.835 139.487 880.006 Q142.867 883.177 142.867 888.594 Q142.867 894.172 139.394 897.274 Q135.922 900.353 129.603 900.353 Q127.427 900.353 125.158 899.983 Q122.913 899.612 120.506 898.871 L120.506 894.172 Q122.589 895.307 124.811 895.862 Q127.033 896.418 129.51 896.418 Q133.515 896.418 135.853 894.311 Q138.191 892.205 138.191 888.594 Q138.191 884.983 135.853 882.876 Q133.515 880.77 129.51 880.77 Q127.635 880.77 125.76 881.186 Q123.908 881.603 121.964 882.483 L121.964 865.122 Z\" fill=\"#000000\" fill-rule=\"nonzero\" fill-opacity=\"1\" /><path clip-path=\"url(#clip510)\" d=\"M130.922 633.486 Q127.311 633.486 125.482 637.051 Q123.677 640.593 123.677 647.722 Q123.677 654.829 125.482 658.393 Q127.311 661.935 130.922 661.935 Q134.556 661.935 136.362 658.393 Q138.191 654.829 138.191 647.722 Q138.191 640.593 136.362 637.051 Q134.556 633.486 130.922 633.486 M130.922 629.782 Q136.732 629.782 139.788 634.389 Q142.867 638.972 142.867 647.722 Q142.867 656.449 139.788 661.055 Q136.732 665.639 130.922 665.639 Q125.112 665.639 122.033 661.055 Q118.978 656.449 118.978 647.722 Q118.978 638.972 122.033 634.389 Q125.112 629.782 130.922 629.782 Z\" fill=\"#000000\" fill-rule=\"nonzero\" fill-opacity=\"1\" /><path clip-path=\"url(#clip510)\" d=\"M121.964 395.693 L140.32 395.693 L140.32 399.628 L126.246 399.628 L126.246 408.101 Q127.265 407.753 128.283 407.591 Q129.302 407.406 130.32 407.406 Q136.107 407.406 139.487 410.577 Q142.867 413.749 142.867 419.165 Q142.867 424.744 139.394 427.846 Q135.922 430.925 129.603 430.925 Q127.427 430.925 125.158 430.554 Q122.913 430.184 120.506 429.443 L120.506 424.744 Q122.589 425.878 124.811 426.434 Q127.033 426.989 129.51 426.989 Q133.515 426.989 135.853 424.883 Q138.191 422.776 138.191 419.165 Q138.191 415.554 135.853 413.448 Q133.515 411.341 129.51 411.341 Q127.635 411.341 125.76 411.758 Q123.908 412.175 121.964 413.054 L121.964 395.693 Z\" fill=\"#000000\" fill-rule=\"nonzero\" fill-opacity=\"1\" /><path clip-path=\"url(#clip510)\" d=\"M91.5706 191.604 L99.2095 191.604 L99.2095 165.238 L90.8993 166.905 L90.8993 162.646 L99.1632 160.979 L103.839 160.979 L103.839 191.604 L111.478 191.604 L111.478 195.539 L91.5706 195.539 L91.5706 191.604 Z\" fill=\"#000000\" fill-rule=\"nonzero\" fill-opacity=\"1\" /><path clip-path=\"url(#clip510)\" d=\"M130.922 164.058 Q127.311 164.058 125.482 167.623 Q123.677 171.164 123.677 178.294 Q123.677 185.4 125.482 188.965 Q127.311 192.507 130.922 192.507 Q134.556 192.507 136.362 188.965 Q138.191 185.4 138.191 178.294 Q138.191 171.164 136.362 167.623 Q134.556 164.058 130.922 164.058 M130.922 160.354 Q136.732 160.354 139.788 164.961 Q142.867 169.544 142.867 178.294 Q142.867 187.021 139.788 191.627 Q136.732 196.21 130.922 196.21 Q125.112 196.21 122.033 191.627 Q118.978 187.021 118.978 178.294 Q118.978 169.544 122.033 164.961 Q125.112 160.354 130.922 160.354 Z\" fill=\"#000000\" fill-rule=\"nonzero\" fill-opacity=\"1\" /><polyline clip-path=\"url(#clip512)\" style=\"stroke:#009af9; stroke-linecap:round; stroke-linejoin:round; stroke-width:4; stroke-opacity:1; fill:none\" points=\"1265.82,1445.72 1265.81,1445.64 1265.81,1445.42 1265.79,1445.06 1265.75,1444.55 1265.69,1443.9 1265.59,1443.1 1265.46,1442.16 1265.29,1441.07 1265.07,1439.85 1264.79,1438.48 1264.46,1436.96 1264.06,1435.31 1263.58,1433.52 1263.03,1431.59 1262.39,1429.53 1261.67,1427.33 1260.85,1424.99 1259.93,1422.52 1258.91,1419.92 1257.77,1417.18 1256.53,1414.32 1255.16,1411.33 1253.67,1408.22 1252.04,1404.98 1250.29,1401.62 1248.39,1398.14 1246.36,1394.54 1244.17,1390.83 1241.84,1387 1239.35,1383.06 1236.7,1379 1233.9,1374.84 1230.92,1370.57 1227.78,1366.2 1224.47,1361.73 1220.99,1357.16 1217.33,1352.48 1213.49,1347.72 1209.46,1342.86 1205.26,1337.91 1200.87,1332.87 1196.29,1327.74 1191.53,1322.53 1186.57,1317.24 1181.43,1311.87 1176.09,1306.41 1170.56,1300.89 1164.84,1295.29 1158.93,1289.62 1152.82,1283.88 1146.52,1278.07 1140.02,1272.2 1133.33,1266.26 1126.46,1260.27 1119.39,1254.21 1112.13,1248.1 1104.68,1241.94 1097.04,1235.71 1089.22,1229.44 1081.22,1223.12 1073.03,1216.75 1064.67,1210.33 1056.13,1203.87 1047.41,1197.37 1038.53,1190.82 1029.48,1184.23 1020.26,1177.6 1010.88,1170.94 1001.35,1164.24 991.657,1157.5 981.818,1150.73 971.834,1143.92 961.708,1137.08 951.446,1130.21 941.052,1123.31 930.531,1116.38 919.888,1109.42 909.128,1102.43 898.256,1095.42 887.278,1088.37 876.2,1081.3 865.026,1074.2 853.764,1067.08 842.418,1059.93 830.995,1052.75 819.501,1045.55 807.943,1038.32 796.326,1031.07 784.658,1023.79 772.945,1016.48 761.193,1009.15 749.41,1001.8 737.602,994.417 725.776,987.009 713.94,979.575 702.1,972.114 690.263,964.626 678.436,957.111 666.627,949.568 654.844,941.997 643.092,934.398 631.38,926.77 619.714,919.112 608.102,911.425 596.552,903.707 585.071,895.959 573.665,888.18 562.343,880.369 551.111,872.526 539.977,864.651 528.948,856.743 518.031,848.802 507.233,840.828 496.561,832.819 486.023,824.777 475.625,816.699 465.374,808.588 455.276,800.441 445.34,792.259 435.571,784.042 425.975,775.79 416.56,767.503 407.331,759.18 398.295,750.823 389.458,742.43 380.826,734.003 372.404,725.541 364.199,717.046 356.216,708.517 348.46,699.955 340.937,691.36 333.652,682.734 326.61,674.077 319.816,665.39 313.274,656.673 306.989,647.929 300.966,639.158 295.207,630.36 289.719,621.539 284.503,612.694 279.565,603.828 274.906,594.941 270.532,586.037 266.443,577.115 262.645,568.18 259.138,559.231 255.926,550.272 253.01,541.305 250.394,532.331 248.078,523.354 246.064,514.375 244.354,505.398 242.948,496.425 241.849,487.458 241.056,478.501 240.57,469.556 240.392,460.626 240.521,451.716 240.958,442.826 241.702,433.962 242.753,425.126 244.109,416.322 245.771,407.553 247.737,398.823 250.005,390.136 252.574,381.494 255.442,372.902 258.607,364.364 262.067,355.883 265.819,347.463 269.861,339.109 274.191,330.824 278.804,322.612 283.698,314.478 288.87,306.425 294.315,298.457 300.031,290.579 306.012,282.795 312.256,275.108 318.757,267.523 325.511,260.044 332.514,252.676 339.761,245.421 347.246,238.285 354.965,231.271 362.912,224.383 371.083,217.626 379.47,211.002 388.069,204.517 396.874,198.174 405.879,191.976 415.077,185.928 424.463,180.032 434.031,174.293 443.773,168.715 453.683,163.299 463.755,158.05 473.982,152.971 484.357,148.065 494.874,143.335 505.524,138.784 516.303,134.414 527.201,130.229 538.213,126.23 549.331,122.42 560.548,118.802 571.856,115.377 583.249,112.147 594.719,109.115 606.259,106.281 617.861,103.648 629.518,101.216 641.224,98.9874 652.97,96.9623 664.749,95.142 676.554,93.5269 688.378,92.1177 700.214,90.9145 712.054,89.9177 723.892,89.127 735.72,88.5423 747.531,88.1631 759.318,87.9889 771.076,88.0188 782.795,88.2519 794.471,88.687 806.096,89.3227 817.664,90.1575 829.169,91.1897 840.604,92.4173 851.962,93.8382 863.238,95.4502 874.427,97.2507 885.521,99.237 896.515,101.406 907.404,103.756 918.182,106.282 928.844,108.981 939.385,111.85 949.799,114.886 960.083,118.083 970.23,121.438 980.237,124.948 990.1,128.606 999.813,132.41 1009.37,136.354 1018.78,140.433 1028.02,144.642 1037.1,148.977 1046.01,153.431 1054.75,158 1063.32,162.678 1071.71,167.46 1079.93,172.339 1087.96,177.31 1095.81,182.367 1103.47,187.504 1110.95,192.715 1118.24,197.993 1125.34,203.333 1132.25,208.727 1138.97,214.171 1145.49,219.656 1151.83,225.177 1157.97,230.727 1163.91,236.3 1169.67,241.889 1175.23,247.487 1180.59,253.088 1185.77,258.686 1190.75,264.272 1195.55,269.842 1200.15,275.389 1204.57,280.905 1208.81,286.384 1212.86,291.821 1216.73,297.208 1220.42,302.539 1223.93,307.809 1227.27,313.009 1230.44,318.136 1233.43,323.182 1236.27,328.142 1238.94,333.009 1241.45,337.778 1243.81,342.444 1246.02,347 1248.08,351.442 1249.99,355.764 1251.77,359.962 1253.42,364.029 1254.93,367.962 1256.32,371.756 1257.58,375.406 1258.73,378.908 1259.78,382.258 1260.71,385.451 1261.54,388.485 1262.28,391.355 1262.93,394.058 1263.5,396.591 1263.99,398.952 1264.4,401.136 1264.75,403.142 1265.03,404.967 1265.26,406.609 1265.44,408.066 1265.58,409.336 1265.67,410.418 1265.74,411.311 1265.78,412.014 1265.8,412.525 1265.81,412.844 1265.82,412.971 1265.82,412.905 1265.82,412.647 1265.84,412.197 1265.87,411.556 1265.93,410.723 1266.02,409.701 1266.14,408.491 1266.31,407.093 1266.52,405.51 1266.79,403.743 1267.11,401.794 1267.51,399.667 1267.97,397.362 1268.51,394.884 1269.13,392.234 1269.84,389.417 1270.64,386.435 1271.55,383.292 1272.55,379.992 1273.67,376.538 1274.9,372.934 1276.25,369.186 1277.72,365.297 1279.32,361.272 1281.05,357.115 1282.93,352.832 1284.94,348.428 1287.1,343.907 1289.41,339.276 1291.87,334.539 1294.49,329.702 1297.28,324.771 1300.22,319.752 1303.33,314.651 1306.62,309.473 1310.08,304.225 1313.71,298.913 1317.52,293.543 1321.51,288.121 1325.69,282.654 1330.05,277.149 1334.6,271.612 1339.33,266.049 1344.25,260.467 1349.37,254.872 1354.67,249.271 1360.17,243.672 1365.86,238.079 1371.75,232.5 1377.83,226.942 1384.1,221.411 1390.56,215.914 1397.22,210.456 1404.07,205.046 1411.11,199.688 1418.34,194.389 1425.75,189.156 1433.36,183.995 1441.15,178.912 1449.13,173.913 1457.28,169.004 1465.62,164.19 1474.13,159.479 1482.82,154.874 1491.67,150.383 1500.7,146.009 1509.89,141.76 1519.24,137.638 1528.76,133.651 1538.42,129.802 1548.24,126.097 1558.2,122.54 1568.3,119.135 1578.54,115.887 1588.91,112.799 1599.42,109.877 1610.04,107.123 1620.78,104.541 1631.64,102.135 1642.6,99.9083 1653.66,97.8634 1664.82,96.0034 1676.07,94.3311 1687.4,92.849 1698.81,91.5596 1710.29,90.465 1721.84,89.5671 1733.45,88.8677 1745.11,88.3686 1756.82,88.071 1768.56,87.9763 1780.34,88.0854 1792.15,88.3992 1803.97,88.9184 1815.8,89.6434 1827.65,90.5746 1839.48,91.712 1851.31,93.0557 1863.12,94.6052 1874.91,96.3602 1886.67,98.3202 1898.39,100.484 1910.06,102.851 1921.68,105.421 1933.24,108.191 1944.74,111.16 1956.15,114.327 1967.49,117.69 1978.74,121.247 1989.89,124.996 2000.93,128.935 2011.87,133.061 2022.69,137.372 2033.38,141.866 2043.94,146.539 2054.36,151.39 2064.63,156.414 2074.76,161.609 2084.72,166.972 2094.52,172.499 2104.14,178.187 2113.58,184.033 2122.84,190.033 2131.91,196.184 2140.78,202.481 2149.44,208.921 2157.9,215.501 2166.14,222.216 2174.16,229.063 2181.95,236.037 2189.51,243.135 2196.83,250.352 2203.92,257.685 2210.75,265.129 2217.33,272.681 2223.66,280.335 2229.72,288.089 2235.52,295.938 2241.06,303.877 2246.31,311.904 2251.3,320.013 2256,328.2 2260.42,336.462 2264.56,344.795 2268.4,353.194 2271.95,361.656 2275.21,370.176 2278.18,378.751 2280.84,387.378 2283.2,396.051 2285.27,404.768 2287.02,413.525 2288.48,422.318 2289.63,431.145 2290.47,440 2291,448.882 2291.23,457.786 2291.15,466.71 2290.76,475.65 2290.07,484.604 2289.07,493.568 2287.76,502.539 2286.14,511.515 2284.23,520.494 2282.01,529.472 2279.49,538.447 2276.67,547.417 2273.55,556.378 2270.13,565.33 2266.43,574.271 2262.43,583.197 2258.15,592.107 2253.58,600.999 2248.73,609.872 2243.6,618.724 2238.2,627.553 2232.53,636.358 2226.59,645.138 2220.39,653.891 2213.93,662.616 2207.21,671.313 2200.25,679.98 2193.04,688.616 2185.59,697.221 2177.91,705.793 2170,714.333 2161.86,722.839 2153.51,731.311 2144.94,739.749 2136.17,748.153 2127.2,756.522 2118.03,764.856 2108.67,773.154 2099.14,781.417 2089.42,789.646 2079.54,797.839 2069.49,805.996 2059.29,814.119 2048.94,822.207 2038.44,830.261 2027.81,838.28 2017.05,846.266 2006.17,854.217 1995.18,862.136 1984.08,870.021 1972.88,877.874 1961.58,885.695 1950.2,893.484 1938.74,901.243 1927.21,908.97 1915.62,916.667 1903.97,924.334 1892.27,931.971 1880.53,939.58 1868.76,947.16 1856.96,954.712 1845.14,962.236 1833.3,969.732 1821.46,977.202 1809.62,984.644 1797.79,992.06 1785.98,999.45 1774.19,1006.81 1762.43,1014.15 1750.7,1021.47 1739.02,1028.75 1727.38,1036.01 1715.8,1043.25 1704.29,1050.46 1692.84,1057.64 1681.47,1064.8 1670.18,1071.94 1658.98,1079.04 1647.87,1086.12 1636.86,1093.18 1625.95,1100.2 1615.16,1107.2 1604.48,1114.17 1593.92,1121.11 1583.48,1128.02 1573.18,1134.9 1563.01,1141.75 1552.98,1148.56 1543.09,1155.35 1533.35,1162.09 1523.77,1168.81 1514.34,1175.48 1505.07,1182.12 1495.97,1188.72 1487.03,1195.29 1478.26,1201.8 1469.66,1208.28 1461.24,1214.71 1453,1221.1 1444.94,1227.43 1437.06,1233.72 1429.36,1239.96 1421.86,1246.14 1414.54,1252.27 1407.41,1258.35 1400.47,1264.36 1393.72,1270.32 1387.16,1276.21 1380.8,1282.04 1374.63,1287.8 1368.65,1293.49 1362.87,1299.11 1357.28,1304.66 1351.88,1310.14 1346.67,1315.54 1341.66,1320.85 1336.83,1326.09 1332.2,1331.24 1327.75,1336.31 1323.49,1341.29 1319.41,1346.18 1315.51,1350.98 1311.79,1355.68 1308.25,1360.28 1304.88,1364.79 1301.69,1369.19 1298.66,1373.49 1295.8,1377.69 1293.11,1381.78 1290.57,1385.75 1288.18,1389.62 1285.95,1393.37 1283.87,1397.01 1281.93,1400.53 1280.13,1403.93 1278.47,1407.2 1276.93,1410.36 1275.53,1413.38 1274.24,1416.29 1273.07,1419.06 1272.01,1421.7 1271.06,1424.22 1270.21,1426.6 1269.46,1428.84 1268.79,1430.95 1268.22,1432.92 1267.72,1434.76 1267.29,1436.45 1266.94,1438.01 1266.64,1439.42 1266.4,1440.7 1266.22,1441.83 1266.07,1442.82 1265.97,1443.66 1265.9,1444.36 1265.85,1444.91 1265.83,1445.32 1265.82,1445.59 1265.82,1445.71 \"/>\n",
       "</svg>\n"
      ],
      "text/html": [
       "<?xml version=\"1.0\" encoding=\"utf-8\"?>\n",
       "<svg xmlns=\"http://www.w3.org/2000/svg\" xmlns:xlink=\"http://www.w3.org/1999/xlink\" width=\"600\" height=\"400\" viewBox=\"0 0 2400 1600\">\n",
       "<defs>\n",
       "  <clipPath id=\"clip560\">\n",
       "    <rect x=\"0\" y=\"0\" width=\"2400\" height=\"1600\"/>\n",
       "  </clipPath>\n",
       "</defs>\n",
       "<path clip-path=\"url(#clip560)\" d=\"M0 1600 L2400 1600 L2400 8.88178e-14 L0 8.88178e-14  Z\" fill=\"#ffffff\" fill-rule=\"evenodd\" fill-opacity=\"1\"/>\n",
       "<defs>\n",
       "  <clipPath id=\"clip561\">\n",
       "    <rect x=\"480\" y=\"0\" width=\"1681\" height=\"1600\"/>\n",
       "  </clipPath>\n",
       "</defs>\n",
       "<path clip-path=\"url(#clip560)\" d=\"M178.867 1486.45 L2352.76 1486.45 L2352.76 47.2441 L178.867 47.2441  Z\" fill=\"#ffffff\" fill-rule=\"evenodd\" fill-opacity=\"1\"/>\n",
       "<defs>\n",
       "  <clipPath id=\"clip562\">\n",
       "    <rect x=\"178\" y=\"47\" width=\"2175\" height=\"1440\"/>\n",
       "  </clipPath>\n",
       "</defs>\n",
       "<polyline clip-path=\"url(#clip562)\" style=\"stroke:#000000; stroke-linecap:round; stroke-linejoin:round; stroke-width:2; stroke-opacity:0.1; fill:none\" points=\"304.48,1486.45 304.48,47.2441 \"/>\n",
       "<polyline clip-path=\"url(#clip562)\" style=\"stroke:#000000; stroke-linecap:round; stroke-linejoin:round; stroke-width:2; stroke-opacity:0.1; fill:none\" points=\"624.925,1486.45 624.925,47.2441 \"/>\n",
       "<polyline clip-path=\"url(#clip562)\" style=\"stroke:#000000; stroke-linecap:round; stroke-linejoin:round; stroke-width:2; stroke-opacity:0.1; fill:none\" points=\"945.37,1486.45 945.37,47.2441 \"/>\n",
       "<polyline clip-path=\"url(#clip562)\" style=\"stroke:#000000; stroke-linecap:round; stroke-linejoin:round; stroke-width:2; stroke-opacity:0.1; fill:none\" points=\"1265.82,1486.45 1265.82,47.2441 \"/>\n",
       "<polyline clip-path=\"url(#clip562)\" style=\"stroke:#000000; stroke-linecap:round; stroke-linejoin:round; stroke-width:2; stroke-opacity:0.1; fill:none\" points=\"1586.26,1486.45 1586.26,47.2441 \"/>\n",
       "<polyline clip-path=\"url(#clip562)\" style=\"stroke:#000000; stroke-linecap:round; stroke-linejoin:round; stroke-width:2; stroke-opacity:0.1; fill:none\" points=\"1906.71,1486.45 1906.71,47.2441 \"/>\n",
       "<polyline clip-path=\"url(#clip562)\" style=\"stroke:#000000; stroke-linecap:round; stroke-linejoin:round; stroke-width:2; stroke-opacity:0.1; fill:none\" points=\"2227.15,1486.45 2227.15,47.2441 \"/>\n",
       "<polyline clip-path=\"url(#clip562)\" style=\"stroke:#000000; stroke-linecap:round; stroke-linejoin:round; stroke-width:2; stroke-opacity:0.1; fill:none\" points=\"178.867,1351.83 2352.76,1351.83 \"/>\n",
       "<polyline clip-path=\"url(#clip562)\" style=\"stroke:#000000; stroke-linecap:round; stroke-linejoin:round; stroke-width:2; stroke-opacity:0.1; fill:none\" points=\"178.867,1117.12 2352.76,1117.12 \"/>\n",
       "<polyline clip-path=\"url(#clip562)\" style=\"stroke:#000000; stroke-linecap:round; stroke-linejoin:round; stroke-width:2; stroke-opacity:0.1; fill:none\" points=\"178.867,882.402 2352.76,882.402 \"/>\n",
       "<polyline clip-path=\"url(#clip562)\" style=\"stroke:#000000; stroke-linecap:round; stroke-linejoin:round; stroke-width:2; stroke-opacity:0.1; fill:none\" points=\"178.867,647.687 2352.76,647.687 \"/>\n",
       "<polyline clip-path=\"url(#clip562)\" style=\"stroke:#000000; stroke-linecap:round; stroke-linejoin:round; stroke-width:2; stroke-opacity:0.1; fill:none\" points=\"178.867,412.973 2352.76,412.973 \"/>\n",
       "<polyline clip-path=\"url(#clip562)\" style=\"stroke:#000000; stroke-linecap:round; stroke-linejoin:round; stroke-width:2; stroke-opacity:0.1; fill:none\" points=\"178.867,178.259 2352.76,178.259 \"/>\n",
       "<polyline clip-path=\"url(#clip560)\" style=\"stroke:#000000; stroke-linecap:round; stroke-linejoin:round; stroke-width:4; stroke-opacity:1; fill:none\" points=\"178.867,1486.45 2352.76,1486.45 \"/>\n",
       "<polyline clip-path=\"url(#clip560)\" style=\"stroke:#000000; stroke-linecap:round; stroke-linejoin:round; stroke-width:4; stroke-opacity:1; fill:none\" points=\"304.48,1486.45 304.48,1467.55 \"/>\n",
       "<polyline clip-path=\"url(#clip560)\" style=\"stroke:#000000; stroke-linecap:round; stroke-linejoin:round; stroke-width:4; stroke-opacity:1; fill:none\" points=\"624.925,1486.45 624.925,1467.55 \"/>\n",
       "<polyline clip-path=\"url(#clip560)\" style=\"stroke:#000000; stroke-linecap:round; stroke-linejoin:round; stroke-width:4; stroke-opacity:1; fill:none\" points=\"945.37,1486.45 945.37,1467.55 \"/>\n",
       "<polyline clip-path=\"url(#clip560)\" style=\"stroke:#000000; stroke-linecap:round; stroke-linejoin:round; stroke-width:4; stroke-opacity:1; fill:none\" points=\"1265.82,1486.45 1265.82,1467.55 \"/>\n",
       "<polyline clip-path=\"url(#clip560)\" style=\"stroke:#000000; stroke-linecap:round; stroke-linejoin:round; stroke-width:4; stroke-opacity:1; fill:none\" points=\"1586.26,1486.45 1586.26,1467.55 \"/>\n",
       "<polyline clip-path=\"url(#clip560)\" style=\"stroke:#000000; stroke-linecap:round; stroke-linejoin:round; stroke-width:4; stroke-opacity:1; fill:none\" points=\"1906.71,1486.45 1906.71,1467.55 \"/>\n",
       "<polyline clip-path=\"url(#clip560)\" style=\"stroke:#000000; stroke-linecap:round; stroke-linejoin:round; stroke-width:4; stroke-opacity:1; fill:none\" points=\"2227.15,1486.45 2227.15,1467.55 \"/>\n",
       "<path clip-path=\"url(#clip560)\" d=\"M259.04 1532.02 L288.716 1532.02 L288.716 1535.95 L259.04 1535.95 L259.04 1532.02 Z\" fill=\"#000000\" fill-rule=\"nonzero\" fill-opacity=\"1\" /><path clip-path=\"url(#clip560)\" d=\"M299.619 1544.91 L307.258 1544.91 L307.258 1518.55 L298.947 1520.21 L298.947 1515.95 L307.211 1514.29 L311.887 1514.29 L311.887 1544.91 L319.526 1544.91 L319.526 1548.85 L299.619 1548.85 L299.619 1544.91 Z\" fill=\"#000000\" fill-rule=\"nonzero\" fill-opacity=\"1\" /><path clip-path=\"url(#clip560)\" d=\"M329.017 1514.29 L347.373 1514.29 L347.373 1518.22 L333.299 1518.22 L333.299 1526.7 Q334.318 1526.35 335.336 1526.19 Q336.355 1526 337.373 1526 Q343.16 1526 346.54 1529.17 Q349.919 1532.34 349.919 1537.76 Q349.919 1543.34 346.447 1546.44 Q342.975 1549.52 336.656 1549.52 Q334.48 1549.52 332.211 1549.15 Q329.966 1548.78 327.558 1548.04 L327.558 1543.34 Q329.642 1544.47 331.864 1545.03 Q334.086 1545.58 336.563 1545.58 Q340.568 1545.58 342.906 1543.48 Q345.244 1541.37 345.244 1537.76 Q345.244 1534.15 342.906 1532.04 Q340.568 1529.94 336.563 1529.94 Q334.688 1529.94 332.813 1530.35 Q330.961 1530.77 329.017 1531.65 L329.017 1514.29 Z\" fill=\"#000000\" fill-rule=\"nonzero\" fill-opacity=\"1\" /><path clip-path=\"url(#clip560)\" d=\"M578.988 1532.02 L608.663 1532.02 L608.663 1535.95 L578.988 1535.95 L578.988 1532.02 Z\" fill=\"#000000\" fill-rule=\"nonzero\" fill-opacity=\"1\" /><path clip-path=\"url(#clip560)\" d=\"M619.566 1544.91 L627.205 1544.91 L627.205 1518.55 L618.895 1520.21 L618.895 1515.95 L627.159 1514.29 L631.835 1514.29 L631.835 1544.91 L639.473 1544.91 L639.473 1548.85 L619.566 1548.85 L619.566 1544.91 Z\" fill=\"#000000\" fill-rule=\"nonzero\" fill-opacity=\"1\" /><path clip-path=\"url(#clip560)\" d=\"M658.918 1517.37 Q655.307 1517.37 653.478 1520.93 Q651.672 1524.47 651.672 1531.6 Q651.672 1538.71 653.478 1542.27 Q655.307 1545.82 658.918 1545.82 Q662.552 1545.82 664.358 1542.27 Q666.186 1538.71 666.186 1531.6 Q666.186 1524.47 664.358 1520.93 Q662.552 1517.37 658.918 1517.37 M658.918 1513.66 Q664.728 1513.66 667.784 1518.27 Q670.862 1522.85 670.862 1531.6 Q670.862 1540.33 667.784 1544.94 Q664.728 1549.52 658.918 1549.52 Q653.108 1549.52 650.029 1544.94 Q646.973 1540.33 646.973 1531.6 Q646.973 1522.85 650.029 1518.27 Q653.108 1513.66 658.918 1513.66 Z\" fill=\"#000000\" fill-rule=\"nonzero\" fill-opacity=\"1\" /><path clip-path=\"url(#clip560)\" d=\"M915.011 1532.02 L944.687 1532.02 L944.687 1535.95 L915.011 1535.95 L915.011 1532.02 Z\" fill=\"#000000\" fill-rule=\"nonzero\" fill-opacity=\"1\" /><path clip-path=\"url(#clip560)\" d=\"M954.826 1514.29 L973.182 1514.29 L973.182 1518.22 L959.108 1518.22 L959.108 1526.7 Q960.127 1526.35 961.145 1526.19 Q962.164 1526 963.182 1526 Q968.969 1526 972.349 1529.17 Q975.729 1532.34 975.729 1537.76 Q975.729 1543.34 972.256 1546.44 Q968.784 1549.52 962.465 1549.52 Q960.289 1549.52 958.02 1549.15 Q955.775 1548.78 953.368 1548.04 L953.368 1543.34 Q955.451 1544.47 957.673 1545.03 Q959.895 1545.58 962.372 1545.58 Q966.377 1545.58 968.715 1543.48 Q971.053 1541.37 971.053 1537.76 Q971.053 1534.15 968.715 1532.04 Q966.377 1529.94 962.372 1529.94 Q960.497 1529.94 958.622 1530.35 Q956.77 1530.77 954.826 1531.65 L954.826 1514.29 Z\" fill=\"#000000\" fill-rule=\"nonzero\" fill-opacity=\"1\" /><path clip-path=\"url(#clip560)\" d=\"M1265.82 1517.37 Q1262.2 1517.37 1260.38 1520.93 Q1258.57 1524.47 1258.57 1531.6 Q1258.57 1538.71 1260.38 1542.27 Q1262.2 1545.82 1265.82 1545.82 Q1269.45 1545.82 1271.25 1542.27 Q1273.08 1538.71 1273.08 1531.6 Q1273.08 1524.47 1271.25 1520.93 Q1269.45 1517.37 1265.82 1517.37 M1265.82 1513.66 Q1271.63 1513.66 1274.68 1518.27 Q1277.76 1522.85 1277.76 1531.6 Q1277.76 1540.33 1274.68 1544.94 Q1271.63 1549.52 1265.82 1549.52 Q1260.01 1549.52 1256.93 1544.94 Q1253.87 1540.33 1253.87 1531.6 Q1253.87 1522.85 1256.93 1518.27 Q1260.01 1513.66 1265.82 1513.66 Z\" fill=\"#000000\" fill-rule=\"nonzero\" fill-opacity=\"1\" /><path clip-path=\"url(#clip560)\" d=\"M1576.54 1514.29 L1594.89 1514.29 L1594.89 1518.22 L1580.82 1518.22 L1580.82 1526.7 Q1581.84 1526.35 1582.86 1526.19 Q1583.88 1526 1584.89 1526 Q1590.68 1526 1594.06 1529.17 Q1597.44 1532.34 1597.44 1537.76 Q1597.44 1543.34 1593.97 1546.44 Q1590.5 1549.52 1584.18 1549.52 Q1582 1549.52 1579.73 1549.15 Q1577.49 1548.78 1575.08 1548.04 L1575.08 1543.34 Q1577.16 1544.47 1579.39 1545.03 Q1581.61 1545.58 1584.08 1545.58 Q1588.09 1545.58 1590.43 1543.48 Q1592.76 1541.37 1592.76 1537.76 Q1592.76 1534.15 1590.43 1532.04 Q1588.09 1529.94 1584.08 1529.94 Q1582.21 1529.94 1580.33 1530.35 Q1578.48 1530.77 1576.54 1531.65 L1576.54 1514.29 Z\" fill=\"#000000\" fill-rule=\"nonzero\" fill-opacity=\"1\" /><path clip-path=\"url(#clip560)\" d=\"M1881.39 1544.91 L1889.03 1544.91 L1889.03 1518.55 L1880.72 1520.21 L1880.72 1515.95 L1888.99 1514.29 L1893.66 1514.29 L1893.66 1544.91 L1901.3 1544.91 L1901.3 1548.85 L1881.39 1548.85 L1881.39 1544.91 Z\" fill=\"#000000\" fill-rule=\"nonzero\" fill-opacity=\"1\" /><path clip-path=\"url(#clip560)\" d=\"M1920.74 1517.37 Q1917.13 1517.37 1915.3 1520.93 Q1913.5 1524.47 1913.5 1531.6 Q1913.5 1538.71 1915.3 1542.27 Q1917.13 1545.82 1920.74 1545.82 Q1924.38 1545.82 1926.18 1542.27 Q1928.01 1538.71 1928.01 1531.6 Q1928.01 1524.47 1926.18 1520.93 Q1924.38 1517.37 1920.74 1517.37 M1920.74 1513.66 Q1926.55 1513.66 1929.61 1518.27 Q1932.69 1522.85 1932.69 1531.6 Q1932.69 1540.33 1929.61 1544.94 Q1926.55 1549.52 1920.74 1549.52 Q1914.93 1549.52 1911.86 1544.94 Q1908.8 1540.33 1908.8 1531.6 Q1908.8 1522.85 1911.86 1518.27 Q1914.93 1513.66 1920.74 1513.66 Z\" fill=\"#000000\" fill-rule=\"nonzero\" fill-opacity=\"1\" /><path clip-path=\"url(#clip560)\" d=\"M2202.34 1544.91 L2209.97 1544.91 L2209.97 1518.55 L2201.66 1520.21 L2201.66 1515.95 L2209.93 1514.29 L2214.6 1514.29 L2214.6 1544.91 L2222.24 1544.91 L2222.24 1548.85 L2202.34 1548.85 L2202.34 1544.91 Z\" fill=\"#000000\" fill-rule=\"nonzero\" fill-opacity=\"1\" /><path clip-path=\"url(#clip560)\" d=\"M2231.73 1514.29 L2250.09 1514.29 L2250.09 1518.22 L2236.02 1518.22 L2236.02 1526.7 Q2237.03 1526.35 2238.05 1526.19 Q2239.07 1526 2240.09 1526 Q2245.88 1526 2249.26 1529.17 Q2252.64 1532.34 2252.64 1537.76 Q2252.64 1543.34 2249.16 1546.44 Q2245.69 1549.52 2239.37 1549.52 Q2237.2 1549.52 2234.93 1549.15 Q2232.68 1548.78 2230.28 1548.04 L2230.28 1543.34 Q2232.36 1544.47 2234.58 1545.03 Q2236.8 1545.58 2239.28 1545.58 Q2243.28 1545.58 2245.62 1543.48 Q2247.96 1541.37 2247.96 1537.76 Q2247.96 1534.15 2245.62 1532.04 Q2243.28 1529.94 2239.28 1529.94 Q2237.41 1529.94 2235.53 1530.35 Q2233.68 1530.77 2231.73 1531.65 L2231.73 1514.29 Z\" fill=\"#000000\" fill-rule=\"nonzero\" fill-opacity=\"1\" /><polyline clip-path=\"url(#clip560)\" style=\"stroke:#000000; stroke-linecap:round; stroke-linejoin:round; stroke-width:4; stroke-opacity:1; fill:none\" points=\"178.867,1486.45 178.867,47.2441 \"/>\n",
       "<polyline clip-path=\"url(#clip560)\" style=\"stroke:#000000; stroke-linecap:round; stroke-linejoin:round; stroke-width:4; stroke-opacity:1; fill:none\" points=\"178.867,1351.83 197.764,1351.83 \"/>\n",
       "<polyline clip-path=\"url(#clip560)\" style=\"stroke:#000000; stroke-linecap:round; stroke-linejoin:round; stroke-width:4; stroke-opacity:1; fill:none\" points=\"178.867,1117.12 197.764,1117.12 \"/>\n",
       "<polyline clip-path=\"url(#clip560)\" style=\"stroke:#000000; stroke-linecap:round; stroke-linejoin:round; stroke-width:4; stroke-opacity:1; fill:none\" points=\"178.867,882.402 197.764,882.402 \"/>\n",
       "<polyline clip-path=\"url(#clip560)\" style=\"stroke:#000000; stroke-linecap:round; stroke-linejoin:round; stroke-width:4; stroke-opacity:1; fill:none\" points=\"178.867,647.687 197.764,647.687 \"/>\n",
       "<polyline clip-path=\"url(#clip560)\" style=\"stroke:#000000; stroke-linecap:round; stroke-linejoin:round; stroke-width:4; stroke-opacity:1; fill:none\" points=\"178.867,412.973 197.764,412.973 \"/>\n",
       "<polyline clip-path=\"url(#clip560)\" style=\"stroke:#000000; stroke-linecap:round; stroke-linejoin:round; stroke-width:4; stroke-opacity:1; fill:none\" points=\"178.867,178.259 197.764,178.259 \"/>\n",
       "<path clip-path=\"url(#clip560)\" d=\"M51.9875 1352.28 L81.6633 1352.28 L81.6633 1356.22 L51.9875 1356.22 L51.9875 1352.28 Z\" fill=\"#000000\" fill-rule=\"nonzero\" fill-opacity=\"1\" /><path clip-path=\"url(#clip560)\" d=\"M92.566 1365.17 L100.205 1365.17 L100.205 1338.81 L91.8947 1340.48 L91.8947 1336.22 L100.159 1334.55 L104.834 1334.55 L104.834 1365.17 L112.473 1365.17 L112.473 1369.11 L92.566 1369.11 L92.566 1365.17 Z\" fill=\"#000000\" fill-rule=\"nonzero\" fill-opacity=\"1\" /><path clip-path=\"url(#clip560)\" d=\"M121.964 1334.55 L140.32 1334.55 L140.32 1338.49 L126.246 1338.49 L126.246 1346.96 Q127.265 1346.61 128.283 1346.45 Q129.302 1346.26 130.32 1346.26 Q136.107 1346.26 139.487 1349.43 Q142.867 1352.61 142.867 1358.02 Q142.867 1363.6 139.394 1366.7 Q135.922 1369.78 129.603 1369.78 Q127.427 1369.78 125.158 1369.41 Q122.913 1369.04 120.506 1368.3 L120.506 1363.6 Q122.589 1364.74 124.811 1365.29 Q127.033 1365.85 129.51 1365.85 Q133.515 1365.85 135.853 1363.74 Q138.191 1361.63 138.191 1358.02 Q138.191 1354.41 135.853 1352.3 Q133.515 1350.2 129.51 1350.2 Q127.635 1350.2 125.76 1350.61 Q123.908 1351.03 121.964 1351.91 L121.964 1334.55 Z\" fill=\"#000000\" fill-rule=\"nonzero\" fill-opacity=\"1\" /><path clip-path=\"url(#clip560)\" d=\"M50.9921 1117.57 L80.6679 1117.57 L80.6679 1121.5 L50.9921 1121.5 L50.9921 1117.57 Z\" fill=\"#000000\" fill-rule=\"nonzero\" fill-opacity=\"1\" /><path clip-path=\"url(#clip560)\" d=\"M91.5706 1130.46 L99.2095 1130.46 L99.2095 1104.1 L90.8993 1105.76 L90.8993 1101.5 L99.1632 1099.84 L103.839 1099.84 L103.839 1130.46 L111.478 1130.46 L111.478 1134.4 L91.5706 1134.4 L91.5706 1130.46 Z\" fill=\"#000000\" fill-rule=\"nonzero\" fill-opacity=\"1\" /><path clip-path=\"url(#clip560)\" d=\"M130.922 1102.91 Q127.311 1102.91 125.482 1106.48 Q123.677 1110.02 123.677 1117.15 Q123.677 1124.26 125.482 1127.82 Q127.311 1131.36 130.922 1131.36 Q134.556 1131.36 136.362 1127.82 Q138.191 1124.26 138.191 1117.15 Q138.191 1110.02 136.362 1106.48 Q134.556 1102.91 130.922 1102.91 M130.922 1099.21 Q136.732 1099.21 139.788 1103.82 Q142.867 1108.4 142.867 1117.15 Q142.867 1125.88 139.788 1130.48 Q136.732 1135.07 130.922 1135.07 Q125.112 1135.07 122.033 1130.48 Q118.978 1125.88 118.978 1117.15 Q118.978 1108.4 122.033 1103.82 Q125.112 1099.21 130.922 1099.21 Z\" fill=\"#000000\" fill-rule=\"nonzero\" fill-opacity=\"1\" /><path clip-path=\"url(#clip560)\" d=\"M82.1494 882.853 L111.825 882.853 L111.825 886.788 L82.1494 886.788 L82.1494 882.853 Z\" fill=\"#000000\" fill-rule=\"nonzero\" fill-opacity=\"1\" /><path clip-path=\"url(#clip560)\" d=\"M121.964 865.122 L140.32 865.122 L140.32 869.057 L126.246 869.057 L126.246 877.529 Q127.265 877.182 128.283 877.02 Q129.302 876.835 130.32 876.835 Q136.107 876.835 139.487 880.006 Q142.867 883.177 142.867 888.594 Q142.867 894.172 139.394 897.274 Q135.922 900.353 129.603 900.353 Q127.427 900.353 125.158 899.983 Q122.913 899.612 120.506 898.871 L120.506 894.172 Q122.589 895.307 124.811 895.862 Q127.033 896.418 129.51 896.418 Q133.515 896.418 135.853 894.311 Q138.191 892.205 138.191 888.594 Q138.191 884.983 135.853 882.876 Q133.515 880.77 129.51 880.77 Q127.635 880.77 125.76 881.186 Q123.908 881.603 121.964 882.483 L121.964 865.122 Z\" fill=\"#000000\" fill-rule=\"nonzero\" fill-opacity=\"1\" /><path clip-path=\"url(#clip560)\" d=\"M130.922 633.486 Q127.311 633.486 125.482 637.051 Q123.677 640.593 123.677 647.722 Q123.677 654.829 125.482 658.393 Q127.311 661.935 130.922 661.935 Q134.556 661.935 136.362 658.393 Q138.191 654.829 138.191 647.722 Q138.191 640.593 136.362 637.051 Q134.556 633.486 130.922 633.486 M130.922 629.782 Q136.732 629.782 139.788 634.389 Q142.867 638.972 142.867 647.722 Q142.867 656.449 139.788 661.055 Q136.732 665.639 130.922 665.639 Q125.112 665.639 122.033 661.055 Q118.978 656.449 118.978 647.722 Q118.978 638.972 122.033 634.389 Q125.112 629.782 130.922 629.782 Z\" fill=\"#000000\" fill-rule=\"nonzero\" fill-opacity=\"1\" /><path clip-path=\"url(#clip560)\" d=\"M121.964 395.693 L140.32 395.693 L140.32 399.628 L126.246 399.628 L126.246 408.101 Q127.265 407.753 128.283 407.591 Q129.302 407.406 130.32 407.406 Q136.107 407.406 139.487 410.577 Q142.867 413.749 142.867 419.165 Q142.867 424.744 139.394 427.846 Q135.922 430.925 129.603 430.925 Q127.427 430.925 125.158 430.554 Q122.913 430.184 120.506 429.443 L120.506 424.744 Q122.589 425.878 124.811 426.434 Q127.033 426.989 129.51 426.989 Q133.515 426.989 135.853 424.883 Q138.191 422.776 138.191 419.165 Q138.191 415.554 135.853 413.448 Q133.515 411.341 129.51 411.341 Q127.635 411.341 125.76 411.758 Q123.908 412.175 121.964 413.054 L121.964 395.693 Z\" fill=\"#000000\" fill-rule=\"nonzero\" fill-opacity=\"1\" /><path clip-path=\"url(#clip560)\" d=\"M91.5706 191.604 L99.2095 191.604 L99.2095 165.238 L90.8993 166.905 L90.8993 162.646 L99.1632 160.979 L103.839 160.979 L103.839 191.604 L111.478 191.604 L111.478 195.539 L91.5706 195.539 L91.5706 191.604 Z\" fill=\"#000000\" fill-rule=\"nonzero\" fill-opacity=\"1\" /><path clip-path=\"url(#clip560)\" d=\"M130.922 164.058 Q127.311 164.058 125.482 167.623 Q123.677 171.164 123.677 178.294 Q123.677 185.4 125.482 188.965 Q127.311 192.507 130.922 192.507 Q134.556 192.507 136.362 188.965 Q138.191 185.4 138.191 178.294 Q138.191 171.164 136.362 167.623 Q134.556 164.058 130.922 164.058 M130.922 160.354 Q136.732 160.354 139.788 164.961 Q142.867 169.544 142.867 178.294 Q142.867 187.021 139.788 191.627 Q136.732 196.21 130.922 196.21 Q125.112 196.21 122.033 191.627 Q118.978 187.021 118.978 178.294 Q118.978 169.544 122.033 164.961 Q125.112 160.354 130.922 160.354 Z\" fill=\"#000000\" fill-rule=\"nonzero\" fill-opacity=\"1\" /><polyline clip-path=\"url(#clip562)\" style=\"stroke:#009af9; stroke-linecap:round; stroke-linejoin:round; stroke-width:4; stroke-opacity:1; fill:none\" points=\"1265.82,1445.72 1265.81,1445.64 1265.81,1445.42 1265.79,1445.06 1265.75,1444.55 1265.69,1443.9 1265.59,1443.1 1265.46,1442.16 1265.29,1441.07 1265.07,1439.85 1264.79,1438.48 1264.46,1436.96 1264.06,1435.31 1263.58,1433.52 1263.03,1431.59 1262.39,1429.53 1261.67,1427.33 1260.85,1424.99 1259.93,1422.52 1258.91,1419.92 1257.77,1417.18 1256.53,1414.32 1255.16,1411.33 1253.67,1408.22 1252.04,1404.98 1250.29,1401.62 1248.39,1398.14 1246.36,1394.54 1244.17,1390.83 1241.84,1387 1239.35,1383.06 1236.7,1379 1233.9,1374.84 1230.92,1370.57 1227.78,1366.2 1224.47,1361.73 1220.99,1357.16 1217.33,1352.48 1213.49,1347.72 1209.46,1342.86 1205.26,1337.91 1200.87,1332.87 1196.29,1327.74 1191.53,1322.53 1186.57,1317.24 1181.43,1311.87 1176.09,1306.41 1170.56,1300.89 1164.84,1295.29 1158.93,1289.62 1152.82,1283.88 1146.52,1278.07 1140.02,1272.2 1133.33,1266.26 1126.46,1260.27 1119.39,1254.21 1112.13,1248.1 1104.68,1241.94 1097.04,1235.71 1089.22,1229.44 1081.22,1223.12 1073.03,1216.75 1064.67,1210.33 1056.13,1203.87 1047.41,1197.37 1038.53,1190.82 1029.48,1184.23 1020.26,1177.6 1010.88,1170.94 1001.35,1164.24 991.657,1157.5 981.818,1150.73 971.834,1143.92 961.708,1137.08 951.446,1130.21 941.052,1123.31 930.531,1116.38 919.888,1109.42 909.128,1102.43 898.256,1095.42 887.278,1088.37 876.2,1081.3 865.026,1074.2 853.764,1067.08 842.418,1059.93 830.995,1052.75 819.501,1045.55 807.943,1038.32 796.326,1031.07 784.658,1023.79 772.945,1016.48 761.193,1009.15 749.41,1001.8 737.602,994.417 725.776,987.009 713.94,979.575 702.1,972.114 690.263,964.626 678.436,957.111 666.627,949.568 654.844,941.997 643.092,934.398 631.38,926.77 619.714,919.112 608.102,911.425 596.552,903.707 585.071,895.959 573.665,888.18 562.343,880.369 551.111,872.526 539.977,864.651 528.948,856.743 518.031,848.802 507.233,840.828 496.561,832.819 486.023,824.777 475.625,816.699 465.374,808.588 455.276,800.441 445.34,792.259 435.571,784.042 425.975,775.79 416.56,767.503 407.331,759.18 398.295,750.823 389.458,742.43 380.826,734.003 372.404,725.541 364.199,717.046 356.216,708.517 348.46,699.955 340.937,691.36 333.652,682.734 326.61,674.077 319.816,665.39 313.274,656.673 306.989,647.929 300.966,639.158 295.207,630.36 289.719,621.539 284.503,612.694 279.565,603.828 274.906,594.941 270.532,586.037 266.443,577.115 262.645,568.18 259.138,559.231 255.926,550.272 253.01,541.305 250.394,532.331 248.078,523.354 246.064,514.375 244.354,505.398 242.948,496.425 241.849,487.458 241.056,478.501 240.57,469.556 240.392,460.626 240.521,451.716 240.958,442.826 241.702,433.962 242.753,425.126 244.109,416.322 245.771,407.553 247.737,398.823 250.005,390.136 252.574,381.494 255.442,372.902 258.607,364.364 262.067,355.883 265.819,347.463 269.861,339.109 274.191,330.824 278.804,322.612 283.698,314.478 288.87,306.425 294.315,298.457 300.031,290.579 306.012,282.795 312.256,275.108 318.757,267.523 325.511,260.044 332.514,252.676 339.761,245.421 347.246,238.285 354.965,231.271 362.912,224.383 371.083,217.626 379.47,211.002 388.069,204.517 396.874,198.174 405.879,191.976 415.077,185.928 424.463,180.032 434.031,174.293 443.773,168.715 453.683,163.299 463.755,158.05 473.982,152.971 484.357,148.065 494.874,143.335 505.524,138.784 516.303,134.414 527.201,130.229 538.213,126.23 549.331,122.42 560.548,118.802 571.856,115.377 583.249,112.147 594.719,109.115 606.259,106.281 617.861,103.648 629.518,101.216 641.224,98.9874 652.97,96.9623 664.749,95.142 676.554,93.5269 688.378,92.1177 700.214,90.9145 712.054,89.9177 723.892,89.127 735.72,88.5423 747.531,88.1631 759.318,87.9889 771.076,88.0188 782.795,88.2519 794.471,88.687 806.096,89.3227 817.664,90.1575 829.169,91.1897 840.604,92.4173 851.962,93.8382 863.238,95.4502 874.427,97.2507 885.521,99.237 896.515,101.406 907.404,103.756 918.182,106.282 928.844,108.981 939.385,111.85 949.799,114.886 960.083,118.083 970.23,121.438 980.237,124.948 990.1,128.606 999.813,132.41 1009.37,136.354 1018.78,140.433 1028.02,144.642 1037.1,148.977 1046.01,153.431 1054.75,158 1063.32,162.678 1071.71,167.46 1079.93,172.339 1087.96,177.31 1095.81,182.367 1103.47,187.504 1110.95,192.715 1118.24,197.993 1125.34,203.333 1132.25,208.727 1138.97,214.171 1145.49,219.656 1151.83,225.177 1157.97,230.727 1163.91,236.3 1169.67,241.889 1175.23,247.487 1180.59,253.088 1185.77,258.686 1190.75,264.272 1195.55,269.842 1200.15,275.389 1204.57,280.905 1208.81,286.384 1212.86,291.821 1216.73,297.208 1220.42,302.539 1223.93,307.809 1227.27,313.009 1230.44,318.136 1233.43,323.182 1236.27,328.142 1238.94,333.009 1241.45,337.778 1243.81,342.444 1246.02,347 1248.08,351.442 1249.99,355.764 1251.77,359.962 1253.42,364.029 1254.93,367.962 1256.32,371.756 1257.58,375.406 1258.73,378.908 1259.78,382.258 1260.71,385.451 1261.54,388.485 1262.28,391.355 1262.93,394.058 1263.5,396.591 1263.99,398.952 1264.4,401.136 1264.75,403.142 1265.03,404.967 1265.26,406.609 1265.44,408.066 1265.58,409.336 1265.67,410.418 1265.74,411.311 1265.78,412.014 1265.8,412.525 1265.81,412.844 1265.82,412.971 1265.82,412.905 1265.82,412.647 1265.84,412.197 1265.87,411.556 1265.93,410.723 1266.02,409.701 1266.14,408.491 1266.31,407.093 1266.52,405.51 1266.79,403.743 1267.11,401.794 1267.51,399.667 1267.97,397.362 1268.51,394.884 1269.13,392.234 1269.84,389.417 1270.64,386.435 1271.55,383.292 1272.55,379.992 1273.67,376.538 1274.9,372.934 1276.25,369.186 1277.72,365.297 1279.32,361.272 1281.05,357.115 1282.93,352.832 1284.94,348.428 1287.1,343.907 1289.41,339.276 1291.87,334.539 1294.49,329.702 1297.28,324.771 1300.22,319.752 1303.33,314.651 1306.62,309.473 1310.08,304.225 1313.71,298.913 1317.52,293.543 1321.51,288.121 1325.69,282.654 1330.05,277.149 1334.6,271.612 1339.33,266.049 1344.25,260.467 1349.37,254.872 1354.67,249.271 1360.17,243.672 1365.86,238.079 1371.75,232.5 1377.83,226.942 1384.1,221.411 1390.56,215.914 1397.22,210.456 1404.07,205.046 1411.11,199.688 1418.34,194.389 1425.75,189.156 1433.36,183.995 1441.15,178.912 1449.13,173.913 1457.28,169.004 1465.62,164.19 1474.13,159.479 1482.82,154.874 1491.67,150.383 1500.7,146.009 1509.89,141.76 1519.24,137.638 1528.76,133.651 1538.42,129.802 1548.24,126.097 1558.2,122.54 1568.3,119.135 1578.54,115.887 1588.91,112.799 1599.42,109.877 1610.04,107.123 1620.78,104.541 1631.64,102.135 1642.6,99.9083 1653.66,97.8634 1664.82,96.0034 1676.07,94.3311 1687.4,92.849 1698.81,91.5596 1710.29,90.465 1721.84,89.5671 1733.45,88.8677 1745.11,88.3686 1756.82,88.071 1768.56,87.9763 1780.34,88.0854 1792.15,88.3992 1803.97,88.9184 1815.8,89.6434 1827.65,90.5746 1839.48,91.712 1851.31,93.0557 1863.12,94.6052 1874.91,96.3602 1886.67,98.3202 1898.39,100.484 1910.06,102.851 1921.68,105.421 1933.24,108.191 1944.74,111.16 1956.15,114.327 1967.49,117.69 1978.74,121.247 1989.89,124.996 2000.93,128.935 2011.87,133.061 2022.69,137.372 2033.38,141.866 2043.94,146.539 2054.36,151.39 2064.63,156.414 2074.76,161.609 2084.72,166.972 2094.52,172.499 2104.14,178.187 2113.58,184.033 2122.84,190.033 2131.91,196.184 2140.78,202.481 2149.44,208.921 2157.9,215.501 2166.14,222.216 2174.16,229.063 2181.95,236.037 2189.51,243.135 2196.83,250.352 2203.92,257.685 2210.75,265.129 2217.33,272.681 2223.66,280.335 2229.72,288.089 2235.52,295.938 2241.06,303.877 2246.31,311.904 2251.3,320.013 2256,328.2 2260.42,336.462 2264.56,344.795 2268.4,353.194 2271.95,361.656 2275.21,370.176 2278.18,378.751 2280.84,387.378 2283.2,396.051 2285.27,404.768 2287.02,413.525 2288.48,422.318 2289.63,431.145 2290.47,440 2291,448.882 2291.23,457.786 2291.15,466.71 2290.76,475.65 2290.07,484.604 2289.07,493.568 2287.76,502.539 2286.14,511.515 2284.23,520.494 2282.01,529.472 2279.49,538.447 2276.67,547.417 2273.55,556.378 2270.13,565.33 2266.43,574.271 2262.43,583.197 2258.15,592.107 2253.58,600.999 2248.73,609.872 2243.6,618.724 2238.2,627.553 2232.53,636.358 2226.59,645.138 2220.39,653.891 2213.93,662.616 2207.21,671.313 2200.25,679.98 2193.04,688.616 2185.59,697.221 2177.91,705.793 2170,714.333 2161.86,722.839 2153.51,731.311 2144.94,739.749 2136.17,748.153 2127.2,756.522 2118.03,764.856 2108.67,773.154 2099.14,781.417 2089.42,789.646 2079.54,797.839 2069.49,805.996 2059.29,814.119 2048.94,822.207 2038.44,830.261 2027.81,838.28 2017.05,846.266 2006.17,854.217 1995.18,862.136 1984.08,870.021 1972.88,877.874 1961.58,885.695 1950.2,893.484 1938.74,901.243 1927.21,908.97 1915.62,916.667 1903.97,924.334 1892.27,931.971 1880.53,939.58 1868.76,947.16 1856.96,954.712 1845.14,962.236 1833.3,969.732 1821.46,977.202 1809.62,984.644 1797.79,992.06 1785.98,999.45 1774.19,1006.81 1762.43,1014.15 1750.7,1021.47 1739.02,1028.75 1727.38,1036.01 1715.8,1043.25 1704.29,1050.46 1692.84,1057.64 1681.47,1064.8 1670.18,1071.94 1658.98,1079.04 1647.87,1086.12 1636.86,1093.18 1625.95,1100.2 1615.16,1107.2 1604.48,1114.17 1593.92,1121.11 1583.48,1128.02 1573.18,1134.9 1563.01,1141.75 1552.98,1148.56 1543.09,1155.35 1533.35,1162.09 1523.77,1168.81 1514.34,1175.48 1505.07,1182.12 1495.97,1188.72 1487.03,1195.29 1478.26,1201.8 1469.66,1208.28 1461.24,1214.71 1453,1221.1 1444.94,1227.43 1437.06,1233.72 1429.36,1239.96 1421.86,1246.14 1414.54,1252.27 1407.41,1258.35 1400.47,1264.36 1393.72,1270.32 1387.16,1276.21 1380.8,1282.04 1374.63,1287.8 1368.65,1293.49 1362.87,1299.11 1357.28,1304.66 1351.88,1310.14 1346.67,1315.54 1341.66,1320.85 1336.83,1326.09 1332.2,1331.24 1327.75,1336.31 1323.49,1341.29 1319.41,1346.18 1315.51,1350.98 1311.79,1355.68 1308.25,1360.28 1304.88,1364.79 1301.69,1369.19 1298.66,1373.49 1295.8,1377.69 1293.11,1381.78 1290.57,1385.75 1288.18,1389.62 1285.95,1393.37 1283.87,1397.01 1281.93,1400.53 1280.13,1403.93 1278.47,1407.2 1276.93,1410.36 1275.53,1413.38 1274.24,1416.29 1273.07,1419.06 1272.01,1421.7 1271.06,1424.22 1270.21,1426.6 1269.46,1428.84 1268.79,1430.95 1268.22,1432.92 1267.72,1434.76 1267.29,1436.45 1266.94,1438.01 1266.64,1439.42 1266.4,1440.7 1266.22,1441.83 1266.07,1442.82 1265.97,1443.66 1265.9,1444.36 1265.85,1444.91 1265.83,1445.32 1265.82,1445.59 1265.82,1445.71 \"/>\n",
       "</svg>\n"
      ]
     },
     "metadata": {},
     "output_type": "display_data"
    }
   ],
   "source": [
    "# Plot a heart shape\n",
    "using LinearAlgebra\n",
    "using Plots\n",
    "th=[-pi:0.01:pi;]\n",
    "X=16*(sin.(th)).^3\n",
    "Y=13.0*cos.(th)-5.0*cos.(2.0*th)-2.0*cos.(3.0*th)-1.0cos.(4.0*th)\n",
    "plot(X, Y, legend = false)"
   ]
  },
  {
   "cell_type": "code",
   "execution_count": 76,
   "id": "767a1302-21c5-4677-834b-97d1d83c74fd",
   "metadata": {},
   "outputs": [
    {
     "data": {
      "text/plain": [
       "565.4672003218795"
      ]
     },
     "metadata": {},
     "output_type": "display_data"
    }
   ],
   "source": [
    "# Compute the actual area of the heart shape\n",
    "Area=0.0\n",
    "n=length(th)\n",
    "X=[X;X[1]]\n",
    "Y=[Y;Y[1]]\n",
    "for k=1:n\n",
    "    u=[X[k];Y[k];0.0]\n",
    "    v=[X[k+1];Y[k+1];0.0]\n",
    "    AreaTriangle=0.5*norm(cross(u,v))\n",
    "    Area = Area+AreaTriangle\n",
    "end\n",
    "Area"
   ]
  },
  {
   "cell_type": "code",
   "execution_count": 77,
   "id": "71a24829-9102-499d-a637-a5d0d2093d53",
   "metadata": {},
   "outputs": [
    {
     "data": {
      "image/png": "[encoded data removed]",
      "image/svg+xml": [
       "<?xml version=\"1.0\" encoding=\"utf-8\"?>\n",
       "<svg xmlns=\"http://www.w3.org/2000/svg\" xmlns:xlink=\"http://www.w3.org/1999/xlink\" width=\"600\" height=\"400\" viewBox=\"0 0 2400 1600\">\n",
       "<defs>\n",
       "  <clipPath id=\"clip600\">\n",
       "    <rect x=\"0\" y=\"0\" width=\"2400\" height=\"1600\"/>\n",
       "  </clipPath>\n",
       "</defs>\n",
       "<path clip-path=\"url(#clip600)\" d=\"M0 1600 L2400 1600 L2400 8.88178e-14 L0 8.88178e-14  Z\" fill=\"#ffffff\" fill-rule=\"evenodd\" fill-opacity=\"1\"/>\n",
       "<defs>\n",
       "  <clipPath id=\"clip601\">\n",
       "    <rect x=\"480\" y=\"0\" width=\"1681\" height=\"1600\"/>\n",
       "  </clipPath>\n",
       "</defs>\n",
       "<path clip-path=\"url(#clip600)\" d=\"M178.867 1486.45 L2352.76 1486.45 L2352.76 47.2441 L178.867 47.2441  Z\" fill=\"#ffffff\" fill-rule=\"evenodd\" fill-opacity=\"1\"/>\n",
       "<defs>\n",
       "  <clipPath id=\"clip602\">\n",
       "    <rect x=\"178\" y=\"47\" width=\"2175\" height=\"1440\"/>\n",
       "  </clipPath>\n",
       "</defs>\n",
       "<polyline clip-path=\"url(#clip602)\" style=\"stroke:#000000; stroke-linecap:round; stroke-linejoin:round; stroke-width:2; stroke-opacity:0.1; fill:none\" points=\"304.481,1486.45 304.481,47.2441 \"/>\n",
       "<polyline clip-path=\"url(#clip602)\" style=\"stroke:#000000; stroke-linecap:round; stroke-linejoin:round; stroke-width:2; stroke-opacity:0.1; fill:none\" points=\"624.924,1486.45 624.924,47.2441 \"/>\n",
       "<polyline clip-path=\"url(#clip602)\" style=\"stroke:#000000; stroke-linecap:round; stroke-linejoin:round; stroke-width:2; stroke-opacity:0.1; fill:none\" points=\"945.368,1486.45 945.368,47.2441 \"/>\n",
       "<polyline clip-path=\"url(#clip602)\" style=\"stroke:#000000; stroke-linecap:round; stroke-linejoin:round; stroke-width:2; stroke-opacity:0.1; fill:none\" points=\"1265.81,1486.45 1265.81,47.2441 \"/>\n",
       "<polyline clip-path=\"url(#clip602)\" style=\"stroke:#000000; stroke-linecap:round; stroke-linejoin:round; stroke-width:2; stroke-opacity:0.1; fill:none\" points=\"1586.25,1486.45 1586.25,47.2441 \"/>\n",
       "<polyline clip-path=\"url(#clip602)\" style=\"stroke:#000000; stroke-linecap:round; stroke-linejoin:round; stroke-width:2; stroke-opacity:0.1; fill:none\" points=\"1906.7,1486.45 1906.7,47.2441 \"/>\n",
       "<polyline clip-path=\"url(#clip602)\" style=\"stroke:#000000; stroke-linecap:round; stroke-linejoin:round; stroke-width:2; stroke-opacity:0.1; fill:none\" points=\"2227.14,1486.45 2227.14,47.2441 \"/>\n",
       "<polyline clip-path=\"url(#clip602)\" style=\"stroke:#000000; stroke-linecap:round; stroke-linejoin:round; stroke-width:2; stroke-opacity:0.1; fill:none\" points=\"178.867,1351.83 2352.76,1351.83 \"/>\n",
       "<polyline clip-path=\"url(#clip602)\" style=\"stroke:#000000; stroke-linecap:round; stroke-linejoin:round; stroke-width:2; stroke-opacity:0.1; fill:none\" points=\"178.867,1117.12 2352.76,1117.12 \"/>\n",
       "<polyline clip-path=\"url(#clip602)\" style=\"stroke:#000000; stroke-linecap:round; stroke-linejoin:round; stroke-width:2; stroke-opacity:0.1; fill:none\" points=\"178.867,882.402 2352.76,882.402 \"/>\n",
       "<polyline clip-path=\"url(#clip602)\" style=\"stroke:#000000; stroke-linecap:round; stroke-linejoin:round; stroke-width:2; stroke-opacity:0.1; fill:none\" points=\"178.867,647.687 2352.76,647.687 \"/>\n",
       "<polyline clip-path=\"url(#clip602)\" style=\"stroke:#000000; stroke-linecap:round; stroke-linejoin:round; stroke-width:2; stroke-opacity:0.1; fill:none\" points=\"178.867,412.973 2352.76,412.973 \"/>\n",
       "<polyline clip-path=\"url(#clip602)\" style=\"stroke:#000000; stroke-linecap:round; stroke-linejoin:round; stroke-width:2; stroke-opacity:0.1; fill:none\" points=\"178.867,178.259 2352.76,178.259 \"/>\n",
       "<polyline clip-path=\"url(#clip600)\" style=\"stroke:#000000; stroke-linecap:round; stroke-linejoin:round; stroke-width:4; stroke-opacity:1; fill:none\" points=\"178.867,1486.45 2352.76,1486.45 \"/>\n",
       "<polyline clip-path=\"url(#clip600)\" style=\"stroke:#000000; stroke-linecap:round; stroke-linejoin:round; stroke-width:4; stroke-opacity:1; fill:none\" points=\"304.481,1486.45 304.481,1467.55 \"/>\n",
       "<polyline clip-path=\"url(#clip600)\" style=\"stroke:#000000; stroke-linecap:round; stroke-linejoin:round; stroke-width:4; stroke-opacity:1; fill:none\" points=\"624.924,1486.45 624.924,1467.55 \"/>\n",
       "<polyline clip-path=\"url(#clip600)\" style=\"stroke:#000000; stroke-linecap:round; stroke-linejoin:round; stroke-width:4; stroke-opacity:1; fill:none\" points=\"945.368,1486.45 945.368,1467.55 \"/>\n",
       "<polyline clip-path=\"url(#clip600)\" style=\"stroke:#000000; stroke-linecap:round; stroke-linejoin:round; stroke-width:4; stroke-opacity:1; fill:none\" points=\"1265.81,1486.45 1265.81,1467.55 \"/>\n",
       "<polyline clip-path=\"url(#clip600)\" style=\"stroke:#000000; stroke-linecap:round; stroke-linejoin:round; stroke-width:4; stroke-opacity:1; fill:none\" points=\"1586.25,1486.45 1586.25,1467.55 \"/>\n",
       "<polyline clip-path=\"url(#clip600)\" style=\"stroke:#000000; stroke-linecap:round; stroke-linejoin:round; stroke-width:4; stroke-opacity:1; fill:none\" points=\"1906.7,1486.45 1906.7,1467.55 \"/>\n",
       "<polyline clip-path=\"url(#clip600)\" style=\"stroke:#000000; stroke-linecap:round; stroke-linejoin:round; stroke-width:4; stroke-opacity:1; fill:none\" points=\"2227.14,1486.45 2227.14,1467.55 \"/>\n",
       "<path clip-path=\"url(#clip600)\" d=\"M259.041 1532.02 L288.717 1532.02 L288.717 1535.95 L259.041 1535.95 L259.041 1532.02 Z\" fill=\"#000000\" fill-rule=\"nonzero\" fill-opacity=\"1\" /><path clip-path=\"url(#clip600)\" d=\"M299.619 1544.91 L307.258 1544.91 L307.258 1518.55 L298.948 1520.21 L298.948 1515.95 L307.212 1514.29 L311.888 1514.29 L311.888 1544.91 L319.527 1544.91 L319.527 1548.85 L299.619 1548.85 L299.619 1544.91 Z\" fill=\"#000000\" fill-rule=\"nonzero\" fill-opacity=\"1\" /><path clip-path=\"url(#clip600)\" d=\"M329.017 1514.29 L347.374 1514.29 L347.374 1518.22 L333.3 1518.22 L333.3 1526.7 Q334.318 1526.35 335.337 1526.19 Q336.355 1526 337.374 1526 Q343.161 1526 346.54 1529.17 Q349.92 1532.34 349.92 1537.76 Q349.92 1543.34 346.448 1546.44 Q342.976 1549.52 336.656 1549.52 Q334.48 1549.52 332.212 1549.15 Q329.966 1548.78 327.559 1548.04 L327.559 1543.34 Q329.642 1544.47 331.865 1545.03 Q334.087 1545.58 336.564 1545.58 Q340.568 1545.58 342.906 1543.48 Q345.244 1541.37 345.244 1537.76 Q345.244 1534.15 342.906 1532.04 Q340.568 1529.94 336.564 1529.94 Q334.689 1529.94 332.814 1530.35 Q330.962 1530.77 329.017 1531.65 L329.017 1514.29 Z\" fill=\"#000000\" fill-rule=\"nonzero\" fill-opacity=\"1\" /><path clip-path=\"url(#clip600)\" d=\"M578.987 1532.02 L608.663 1532.02 L608.663 1535.95 L578.987 1535.95 L578.987 1532.02 Z\" fill=\"#000000\" fill-rule=\"nonzero\" fill-opacity=\"1\" /><path clip-path=\"url(#clip600)\" d=\"M619.565 1544.91 L627.204 1544.91 L627.204 1518.55 L618.894 1520.21 L618.894 1515.95 L627.158 1514.29 L631.834 1514.29 L631.834 1544.91 L639.473 1544.91 L639.473 1548.85 L619.565 1548.85 L619.565 1544.91 Z\" fill=\"#000000\" fill-rule=\"nonzero\" fill-opacity=\"1\" /><path clip-path=\"url(#clip600)\" d=\"M658.917 1517.37 Q655.306 1517.37 653.477 1520.93 Q651.672 1524.47 651.672 1531.6 Q651.672 1538.71 653.477 1542.27 Q655.306 1545.82 658.917 1545.82 Q662.551 1545.82 664.357 1542.27 Q666.185 1538.71 666.185 1531.6 Q666.185 1524.47 664.357 1520.93 Q662.551 1517.37 658.917 1517.37 M658.917 1513.66 Q664.727 1513.66 667.783 1518.27 Q670.861 1522.85 670.861 1531.6 Q670.861 1540.33 667.783 1544.94 Q664.727 1549.52 658.917 1549.52 Q653.107 1549.52 650.028 1544.94 Q646.973 1540.33 646.973 1531.6 Q646.973 1522.85 650.028 1518.27 Q653.107 1513.66 658.917 1513.66 Z\" fill=\"#000000\" fill-rule=\"nonzero\" fill-opacity=\"1\" /><path clip-path=\"url(#clip600)\" d=\"M915.009 1532.02 L944.685 1532.02 L944.685 1535.95 L915.009 1535.95 L915.009 1532.02 Z\" fill=\"#000000\" fill-rule=\"nonzero\" fill-opacity=\"1\" /><path clip-path=\"url(#clip600)\" d=\"M954.824 1514.29 L973.18 1514.29 L973.18 1518.22 L959.106 1518.22 L959.106 1526.7 Q960.125 1526.35 961.143 1526.19 Q962.162 1526 963.18 1526 Q968.967 1526 972.347 1529.17 Q975.726 1532.34 975.726 1537.76 Q975.726 1543.34 972.254 1546.44 Q968.782 1549.52 962.463 1549.52 Q960.287 1549.52 958.018 1549.15 Q955.773 1548.78 953.365 1548.04 L953.365 1543.34 Q955.449 1544.47 957.671 1545.03 Q959.893 1545.58 962.37 1545.58 Q966.375 1545.58 968.712 1543.48 Q971.05 1541.37 971.05 1537.76 Q971.05 1534.15 968.712 1532.04 Q966.375 1529.94 962.37 1529.94 Q960.495 1529.94 958.62 1530.35 Q956.768 1530.77 954.824 1531.65 L954.824 1514.29 Z\" fill=\"#000000\" fill-rule=\"nonzero\" fill-opacity=\"1\" /><path clip-path=\"url(#clip600)\" d=\"M1265.81 1517.37 Q1262.2 1517.37 1260.37 1520.93 Q1258.57 1524.47 1258.57 1531.6 Q1258.57 1538.71 1260.37 1542.27 Q1262.2 1545.82 1265.81 1545.82 Q1269.45 1545.82 1271.25 1542.27 Q1273.08 1538.71 1273.08 1531.6 Q1273.08 1524.47 1271.25 1520.93 Q1269.45 1517.37 1265.81 1517.37 M1265.81 1513.66 Q1271.62 1513.66 1274.68 1518.27 Q1277.76 1522.85 1277.76 1531.6 Q1277.76 1540.33 1274.68 1544.94 Q1271.62 1549.52 1265.81 1549.52 Q1260 1549.52 1256.92 1544.94 Q1253.87 1540.33 1253.87 1531.6 Q1253.87 1522.85 1256.92 1518.27 Q1260 1513.66 1265.81 1513.66 Z\" fill=\"#000000\" fill-rule=\"nonzero\" fill-opacity=\"1\" /><path clip-path=\"url(#clip600)\" d=\"M1576.53 1514.29 L1594.89 1514.29 L1594.89 1518.22 L1580.82 1518.22 L1580.82 1526.7 Q1581.83 1526.35 1582.85 1526.19 Q1583.87 1526 1584.89 1526 Q1590.68 1526 1594.06 1529.17 Q1597.44 1532.34 1597.44 1537.76 Q1597.44 1543.34 1593.96 1546.44 Q1590.49 1549.52 1584.17 1549.52 Q1582 1549.52 1579.73 1549.15 Q1577.48 1548.78 1575.07 1548.04 L1575.07 1543.34 Q1577.16 1544.47 1579.38 1545.03 Q1581.6 1545.58 1584.08 1545.58 Q1588.08 1545.58 1590.42 1543.48 Q1592.76 1541.37 1592.76 1537.76 Q1592.76 1534.15 1590.42 1532.04 Q1588.08 1529.94 1584.08 1529.94 Q1582.2 1529.94 1580.33 1530.35 Q1578.48 1530.77 1576.53 1531.65 L1576.53 1514.29 Z\" fill=\"#000000\" fill-rule=\"nonzero\" fill-opacity=\"1\" /><path clip-path=\"url(#clip600)\" d=\"M1881.39 1544.91 L1889.02 1544.91 L1889.02 1518.55 L1880.71 1520.21 L1880.71 1515.95 L1888.98 1514.29 L1893.65 1514.29 L1893.65 1544.91 L1901.29 1544.91 L1901.29 1548.85 L1881.39 1548.85 L1881.39 1544.91 Z\" fill=\"#000000\" fill-rule=\"nonzero\" fill-opacity=\"1\" /><path clip-path=\"url(#clip600)\" d=\"M1920.74 1517.37 Q1917.13 1517.37 1915.3 1520.93 Q1913.49 1524.47 1913.49 1531.6 Q1913.49 1538.71 1915.3 1542.27 Q1917.13 1545.82 1920.74 1545.82 Q1924.37 1545.82 1926.18 1542.27 Q1928.01 1538.71 1928.01 1531.6 Q1928.01 1524.47 1926.18 1520.93 Q1924.37 1517.37 1920.74 1517.37 M1920.74 1513.66 Q1926.55 1513.66 1929.6 1518.27 Q1932.68 1522.85 1932.68 1531.6 Q1932.68 1540.33 1929.6 1544.94 Q1926.55 1549.52 1920.74 1549.52 Q1914.93 1549.52 1911.85 1544.94 Q1908.79 1540.33 1908.79 1531.6 Q1908.79 1522.85 1911.85 1518.27 Q1914.93 1513.66 1920.74 1513.66 Z\" fill=\"#000000\" fill-rule=\"nonzero\" fill-opacity=\"1\" /><path clip-path=\"url(#clip600)\" d=\"M2202.33 1544.91 L2209.97 1544.91 L2209.97 1518.55 L2201.66 1520.21 L2201.66 1515.95 L2209.92 1514.29 L2214.6 1514.29 L2214.6 1544.91 L2222.23 1544.91 L2222.23 1548.85 L2202.33 1548.85 L2202.33 1544.91 Z\" fill=\"#000000\" fill-rule=\"nonzero\" fill-opacity=\"1\" /><path clip-path=\"url(#clip600)\" d=\"M2231.73 1514.29 L2250.08 1514.29 L2250.08 1518.22 L2236.01 1518.22 L2236.01 1526.7 Q2237.03 1526.35 2238.04 1526.19 Q2239.06 1526 2240.08 1526 Q2245.87 1526 2249.25 1529.17 Q2252.63 1532.34 2252.63 1537.76 Q2252.63 1543.34 2249.16 1546.44 Q2245.68 1549.52 2239.36 1549.52 Q2237.19 1549.52 2234.92 1549.15 Q2232.67 1548.78 2230.27 1548.04 L2230.27 1543.34 Q2232.35 1544.47 2234.57 1545.03 Q2236.79 1545.58 2239.27 1545.58 Q2243.28 1545.58 2245.61 1543.48 Q2247.95 1541.37 2247.95 1537.76 Q2247.95 1534.15 2245.61 1532.04 Q2243.28 1529.94 2239.27 1529.94 Q2237.4 1529.94 2235.52 1530.35 Q2233.67 1530.77 2231.73 1531.65 L2231.73 1514.29 Z\" fill=\"#000000\" fill-rule=\"nonzero\" fill-opacity=\"1\" /><polyline clip-path=\"url(#clip600)\" style=\"stroke:#000000; stroke-linecap:round; stroke-linejoin:round; stroke-width:4; stroke-opacity:1; fill:none\" points=\"178.867,1486.45 178.867,47.2441 \"/>\n",
       "<polyline clip-path=\"url(#clip600)\" style=\"stroke:#000000; stroke-linecap:round; stroke-linejoin:round; stroke-width:4; stroke-opacity:1; fill:none\" points=\"178.867,1351.83 197.764,1351.83 \"/>\n",
       "<polyline clip-path=\"url(#clip600)\" style=\"stroke:#000000; stroke-linecap:round; stroke-linejoin:round; stroke-width:4; stroke-opacity:1; fill:none\" points=\"178.867,1117.12 197.764,1117.12 \"/>\n",
       "<polyline clip-path=\"url(#clip600)\" style=\"stroke:#000000; stroke-linecap:round; stroke-linejoin:round; stroke-width:4; stroke-opacity:1; fill:none\" points=\"178.867,882.402 197.764,882.402 \"/>\n",
       "<polyline clip-path=\"url(#clip600)\" style=\"stroke:#000000; stroke-linecap:round; stroke-linejoin:round; stroke-width:4; stroke-opacity:1; fill:none\" points=\"178.867,647.687 197.764,647.687 \"/>\n",
       "<polyline clip-path=\"url(#clip600)\" style=\"stroke:#000000; stroke-linecap:round; stroke-linejoin:round; stroke-width:4; stroke-opacity:1; fill:none\" points=\"178.867,412.973 197.764,412.973 \"/>\n",
       "<polyline clip-path=\"url(#clip600)\" style=\"stroke:#000000; stroke-linecap:round; stroke-linejoin:round; stroke-width:4; stroke-opacity:1; fill:none\" points=\"178.867,178.259 197.764,178.259 \"/>\n",
       "<path clip-path=\"url(#clip600)\" d=\"M51.9875 1352.28 L81.6633 1352.28 L81.6633 1356.22 L51.9875 1356.22 L51.9875 1352.28 Z\" fill=\"#000000\" fill-rule=\"nonzero\" fill-opacity=\"1\" /><path clip-path=\"url(#clip600)\" d=\"M92.566 1365.17 L100.205 1365.17 L100.205 1338.81 L91.8947 1340.48 L91.8947 1336.22 L100.159 1334.55 L104.834 1334.55 L104.834 1365.17 L112.473 1365.17 L112.473 1369.11 L92.566 1369.11 L92.566 1365.17 Z\" fill=\"#000000\" fill-rule=\"nonzero\" fill-opacity=\"1\" /><path clip-path=\"url(#clip600)\" d=\"M121.964 1334.55 L140.32 1334.55 L140.32 1338.49 L126.246 1338.49 L126.246 1346.96 Q127.265 1346.61 128.283 1346.45 Q129.302 1346.26 130.32 1346.26 Q136.107 1346.26 139.487 1349.43 Q142.867 1352.61 142.867 1358.02 Q142.867 1363.6 139.394 1366.7 Q135.922 1369.78 129.603 1369.78 Q127.427 1369.78 125.158 1369.41 Q122.913 1369.04 120.506 1368.3 L120.506 1363.6 Q122.589 1364.74 124.811 1365.29 Q127.033 1365.85 129.51 1365.85 Q133.515 1365.85 135.853 1363.74 Q138.191 1361.63 138.191 1358.02 Q138.191 1354.41 135.853 1352.3 Q133.515 1350.2 129.51 1350.2 Q127.635 1350.2 125.76 1350.61 Q123.908 1351.03 121.964 1351.91 L121.964 1334.55 Z\" fill=\"#000000\" fill-rule=\"nonzero\" fill-opacity=\"1\" /><path clip-path=\"url(#clip600)\" d=\"M50.9921 1117.57 L80.6679 1117.57 L80.6679 1121.5 L50.9921 1121.5 L50.9921 1117.57 Z\" fill=\"#000000\" fill-rule=\"nonzero\" fill-opacity=\"1\" /><path clip-path=\"url(#clip600)\" d=\"M91.5706 1130.46 L99.2095 1130.46 L99.2095 1104.1 L90.8993 1105.76 L90.8993 1101.5 L99.1632 1099.84 L103.839 1099.84 L103.839 1130.46 L111.478 1130.46 L111.478 1134.4 L91.5706 1134.4 L91.5706 1130.46 Z\" fill=\"#000000\" fill-rule=\"nonzero\" fill-opacity=\"1\" /><path clip-path=\"url(#clip600)\" d=\"M130.922 1102.91 Q127.311 1102.91 125.482 1106.48 Q123.677 1110.02 123.677 1117.15 Q123.677 1124.26 125.482 1127.82 Q127.311 1131.36 130.922 1131.36 Q134.556 1131.36 136.362 1127.82 Q138.191 1124.26 138.191 1117.15 Q138.191 1110.02 136.362 1106.48 Q134.556 1102.91 130.922 1102.91 M130.922 1099.21 Q136.732 1099.21 139.788 1103.82 Q142.867 1108.4 142.867 1117.15 Q142.867 1125.88 139.788 1130.48 Q136.732 1135.07 130.922 1135.07 Q125.112 1135.07 122.033 1130.48 Q118.978 1125.88 118.978 1117.15 Q118.978 1108.4 122.033 1103.82 Q125.112 1099.21 130.922 1099.21 Z\" fill=\"#000000\" fill-rule=\"nonzero\" fill-opacity=\"1\" /><path clip-path=\"url(#clip600)\" d=\"M82.1494 882.853 L111.825 882.853 L111.825 886.788 L82.1494 886.788 L82.1494 882.853 Z\" fill=\"#000000\" fill-rule=\"nonzero\" fill-opacity=\"1\" /><path clip-path=\"url(#clip600)\" d=\"M121.964 865.122 L140.32 865.122 L140.32 869.057 L126.246 869.057 L126.246 877.529 Q127.265 877.182 128.283 877.02 Q129.302 876.835 130.32 876.835 Q136.107 876.835 139.487 880.006 Q142.867 883.177 142.867 888.594 Q142.867 894.172 139.394 897.274 Q135.922 900.353 129.603 900.353 Q127.427 900.353 125.158 899.983 Q122.913 899.612 120.506 898.871 L120.506 894.172 Q122.589 895.307 124.811 895.862 Q127.033 896.418 129.51 896.418 Q133.515 896.418 135.853 894.311 Q138.191 892.205 138.191 888.594 Q138.191 884.983 135.853 882.876 Q133.515 880.77 129.51 880.77 Q127.635 880.77 125.76 881.186 Q123.908 881.603 121.964 882.483 L121.964 865.122 Z\" fill=\"#000000\" fill-rule=\"nonzero\" fill-opacity=\"1\" /><path clip-path=\"url(#clip600)\" d=\"M130.922 633.486 Q127.311 633.486 125.482 637.051 Q123.677 640.593 123.677 647.722 Q123.677 654.829 125.482 658.393 Q127.311 661.935 130.922 661.935 Q134.556 661.935 136.362 658.393 Q138.191 654.829 138.191 647.722 Q138.191 640.593 136.362 637.051 Q134.556 633.486 130.922 633.486 M130.922 629.782 Q136.732 629.782 139.788 634.389 Q142.867 638.972 142.867 647.722 Q142.867 656.449 139.788 661.055 Q136.732 665.639 130.922 665.639 Q125.112 665.639 122.033 661.055 Q118.978 656.449 118.978 647.722 Q118.978 638.972 122.033 634.389 Q125.112 629.782 130.922 629.782 Z\" fill=\"#000000\" fill-rule=\"nonzero\" fill-opacity=\"1\" /><path clip-path=\"url(#clip600)\" d=\"M121.964 395.693 L140.32 395.693 L140.32 399.628 L126.246 399.628 L126.246 408.101 Q127.265 407.753 128.283 407.591 Q129.302 407.406 130.32 407.406 Q136.107 407.406 139.487 410.577 Q142.867 413.749 142.867 419.165 Q142.867 424.744 139.394 427.846 Q135.922 430.925 129.603 430.925 Q127.427 430.925 125.158 430.554 Q122.913 430.184 120.506 429.443 L120.506 424.744 Q122.589 425.878 124.811 426.434 Q127.033 426.989 129.51 426.989 Q133.515 426.989 135.853 424.883 Q138.191 422.776 138.191 419.165 Q138.191 415.554 135.853 413.448 Q133.515 411.341 129.51 411.341 Q127.635 411.341 125.76 411.758 Q123.908 412.175 121.964 413.054 L121.964 395.693 Z\" fill=\"#000000\" fill-rule=\"nonzero\" fill-opacity=\"1\" /><path clip-path=\"url(#clip600)\" d=\"M91.5706 191.604 L99.2095 191.604 L99.2095 165.238 L90.8993 166.905 L90.8993 162.646 L99.1632 160.979 L103.839 160.979 L103.839 191.604 L111.478 191.604 L111.478 195.539 L91.5706 195.539 L91.5706 191.604 Z\" fill=\"#000000\" fill-rule=\"nonzero\" fill-opacity=\"1\" /><path clip-path=\"url(#clip600)\" d=\"M130.922 164.058 Q127.311 164.058 125.482 167.623 Q123.677 171.164 123.677 178.294 Q123.677 185.4 125.482 188.965 Q127.311 192.507 130.922 192.507 Q134.556 192.507 136.362 188.965 Q138.191 185.4 138.191 178.294 Q138.191 171.164 136.362 167.623 Q134.556 164.058 130.922 164.058 M130.922 160.354 Q136.732 160.354 139.788 164.961 Q142.867 169.544 142.867 178.294 Q142.867 187.021 139.788 191.627 Q136.732 196.21 130.922 196.21 Q125.112 196.21 122.033 191.627 Q118.978 187.021 118.978 178.294 Q118.978 169.544 122.033 164.961 Q125.112 160.354 130.922 160.354 Z\" fill=\"#000000\" fill-rule=\"nonzero\" fill-opacity=\"1\" /><polyline clip-path=\"url(#clip602)\" style=\"stroke:#009af9; stroke-linecap:round; stroke-linejoin:round; stroke-width:4; stroke-opacity:1; fill:none\" points=\"1265.81,1445.72 1235.55,1377.29 1057.57,1204.96 722.843,985.17 383.706,736.841 240.392,459.916 383.706,207.771 722.843,89.1886 1057.57,159.52 1235.55,326.877 1265.81,412.973 1296.07,326.877 1474.05,159.52 1808.78,89.1886 2147.92,207.771 2291.23,459.916 2147.92,736.841 1808.78,985.17 1474.05,1204.96 1296.07,1377.29 1265.81,1445.72 \"/>\n",
       "<polyline clip-path=\"url(#clip602)\" style=\"stroke:#e26f46; stroke-linecap:round; stroke-linejoin:round; stroke-width:4; stroke-opacity:1; fill:none\" points=\"1265.81,647.687 1265.81,1445.72 \"/>\n",
       "<polyline clip-path=\"url(#clip602)\" style=\"stroke:#3da44d; stroke-linecap:round; stroke-linejoin:round; stroke-width:4; stroke-opacity:1; fill:none\" points=\"1265.81,647.687 1235.55,1377.29 \"/>\n",
       "<polyline clip-path=\"url(#clip602)\" style=\"stroke:#c271d2; stroke-linecap:round; stroke-linejoin:round; stroke-width:4; stroke-opacity:1; fill:none\" points=\"1265.81,647.687 1057.57,1204.96 \"/>\n",
       "<polyline clip-path=\"url(#clip602)\" style=\"stroke:#ac8d18; stroke-linecap:round; stroke-linejoin:round; stroke-width:4; stroke-opacity:1; fill:none\" points=\"1265.81,647.687 722.843,985.17 \"/>\n",
       "<polyline clip-path=\"url(#clip602)\" style=\"stroke:#00a9ad; stroke-linecap:round; stroke-linejoin:round; stroke-width:4; stroke-opacity:1; fill:none\" points=\"1265.81,647.687 383.706,736.841 \"/>\n",
       "<polyline clip-path=\"url(#clip602)\" style=\"stroke:#ed5d92; stroke-linecap:round; stroke-linejoin:round; stroke-width:4; stroke-opacity:1; fill:none\" points=\"1265.81,647.687 240.392,459.916 \"/>\n",
       "<polyline clip-path=\"url(#clip602)\" style=\"stroke:#c68125; stroke-linecap:round; stroke-linejoin:round; stroke-width:4; stroke-opacity:1; fill:none\" points=\"1265.81,647.687 383.706,207.771 \"/>\n",
       "<polyline clip-path=\"url(#clip602)\" style=\"stroke:#00a98d; stroke-linecap:round; stroke-linejoin:round; stroke-width:4; stroke-opacity:1; fill:none\" points=\"1265.81,647.687 722.843,89.1886 \"/>\n",
       "<polyline clip-path=\"url(#clip602)\" style=\"stroke:#8e971d; stroke-linecap:round; stroke-linejoin:round; stroke-width:4; stroke-opacity:1; fill:none\" points=\"1265.81,647.687 1057.57,159.52 \"/>\n",
       "<polyline clip-path=\"url(#clip602)\" style=\"stroke:#00a8cb; stroke-linecap:round; stroke-linejoin:round; stroke-width:4; stroke-opacity:1; fill:none\" points=\"1265.81,647.687 1235.55,326.877 \"/>\n",
       "<polyline clip-path=\"url(#clip602)\" style=\"stroke:#9b7fe8; stroke-linecap:round; stroke-linejoin:round; stroke-width:4; stroke-opacity:1; fill:none\" points=\"1265.81,647.687 1265.81,412.973 \"/>\n",
       "<polyline clip-path=\"url(#clip602)\" style=\"stroke:#608cf6; stroke-linecap:round; stroke-linejoin:round; stroke-width:4; stroke-opacity:1; fill:none\" points=\"1265.81,647.687 1296.07,326.877 \"/>\n",
       "<polyline clip-path=\"url(#clip602)\" style=\"stroke:#f05f73; stroke-linecap:round; stroke-linejoin:round; stroke-width:4; stroke-opacity:1; fill:none\" points=\"1265.81,647.687 1474.05,159.52 \"/>\n",
       "<polyline clip-path=\"url(#clip602)\" style=\"stroke:#dd64b5; stroke-linecap:round; stroke-linejoin:round; stroke-width:4; stroke-opacity:1; fill:none\" points=\"1265.81,647.687 1808.78,89.1886 \"/>\n",
       "<polyline clip-path=\"url(#clip602)\" style=\"stroke:#6b9e32; stroke-linecap:round; stroke-linejoin:round; stroke-width:4; stroke-opacity:1; fill:none\" points=\"1265.81,647.687 2147.92,207.771 \"/>\n",
       "<polyline clip-path=\"url(#clip602)\" style=\"stroke:#009af9; stroke-linecap:round; stroke-linejoin:round; stroke-width:4; stroke-opacity:1; fill:none\" points=\"1265.81,647.687 2291.23,459.916 \"/>\n",
       "<polyline clip-path=\"url(#clip602)\" style=\"stroke:#e26f46; stroke-linecap:round; stroke-linejoin:round; stroke-width:4; stroke-opacity:1; fill:none\" points=\"1265.81,647.687 2147.92,736.841 \"/>\n",
       "<polyline clip-path=\"url(#clip602)\" style=\"stroke:#3da44d; stroke-linecap:round; stroke-linejoin:round; stroke-width:4; stroke-opacity:1; fill:none\" points=\"1265.81,647.687 1808.78,985.17 \"/>\n",
       "<polyline clip-path=\"url(#clip602)\" style=\"stroke:#c271d2; stroke-linecap:round; stroke-linejoin:round; stroke-width:4; stroke-opacity:1; fill:none\" points=\"1265.81,647.687 1474.05,1204.96 \"/>\n",
       "<polyline clip-path=\"url(#clip602)\" style=\"stroke:#ac8d18; stroke-linecap:round; stroke-linejoin:round; stroke-width:4; stroke-opacity:1; fill:none\" points=\"1265.81,647.687 1296.07,1377.29 \"/>\n",
       "<polyline clip-path=\"url(#clip602)\" style=\"stroke:#00a9ad; stroke-linecap:round; stroke-linejoin:round; stroke-width:4; stroke-opacity:1; fill:none\" points=\"1265.81,647.687 1265.81,1445.72 \"/>\n",
       "<polyline clip-path=\"url(#clip602)\" style=\"stroke:#ff0000; stroke-linecap:round; stroke-linejoin:round; stroke-width:16; stroke-opacity:1; fill:none\" points=\"1265.81,1445.72 1265.81,1445.64 1265.8,1445.42 1265.78,1445.06 1265.75,1444.55 1265.68,1443.9 1265.59,1443.1 1265.46,1442.16 1265.29,1441.07 1265.07,1439.85 1264.79,1438.48 1264.45,1436.96 1264.05,1435.31 1263.58,1433.52 1263.02,1431.59 1262.39,1429.53 1261.66,1427.33 1260.85,1424.99 1259.93,1422.52 1258.9,1419.92 1257.77,1417.18 1256.52,1414.32 1255.15,1411.33 1253.66,1408.22 1252.04,1404.98 1250.28,1401.62 1248.39,1398.14 1246.35,1394.54 1244.17,1390.83 1241.83,1387 1239.35,1383.06 1236.7,1379 1233.89,1374.84 1230.92,1370.57 1227.78,1366.2 1224.47,1361.73 1220.98,1357.16 1217.32,1352.48 1213.48,1347.72 1209.46,1342.86 1205.26,1337.91 1200.87,1332.87 1196.29,1327.74 1191.53,1322.53 1186.57,1317.24 1181.43,1311.87 1176.09,1306.41 1170.56,1300.89 1164.84,1295.29 1158.92,1289.62 1152.81,1283.88 1146.51,1278.07 1140.02,1272.2 1133.33,1266.26 1126.45,1260.27 1119.38,1254.21 1112.12,1248.1 1104.67,1241.94 1097.04,1235.71 1089.22,1229.44 1081.22,1223.12 1073.03,1216.75 1064.67,1210.33 1056.13,1203.87 1047.41,1197.37 1038.53,1190.82 1029.47,1184.23 1020.26,1177.6 1010.88,1170.94 1001.34,1164.24 991.654,1157.5 981.815,1150.73 971.831,1143.92 961.706,1137.08 951.444,1130.21 941.05,1123.31 930.529,1116.38 919.886,1109.42 909.126,1102.43 898.254,1095.42 887.276,1088.37 876.198,1081.3 865.024,1074.2 853.762,1067.08 842.416,1059.93 830.993,1052.75 819.499,1045.55 807.941,1038.32 796.324,1031.07 784.656,1023.79 772.943,1016.48 761.192,1009.15 749.409,1001.8 737.601,994.417 725.775,987.009 713.939,979.575 702.098,972.114 690.261,964.626 678.435,957.111 666.626,949.568 654.843,941.997 643.091,934.398 631.379,926.77 619.713,919.112 608.102,911.425 596.552,903.707 585.07,895.959 573.665,888.18 562.342,880.369 551.11,872.526 539.976,864.651 528.947,856.743 518.03,848.802 507.232,840.828 496.561,832.819 486.022,824.777 475.624,816.699 465.373,808.588 455.276,800.441 445.34,792.259 435.571,784.042 425.975,775.79 416.56,767.503 407.331,759.18 398.295,750.823 389.458,742.43 380.826,734.003 372.404,725.541 364.199,717.046 356.216,708.517 348.461,699.955 340.938,691.36 333.653,682.734 326.611,674.077 319.816,665.39 313.275,656.673 306.99,647.929 300.966,639.158 295.208,630.36 289.719,621.539 284.504,612.694 279.566,603.828 274.907,594.941 270.532,586.037 266.444,577.115 262.646,568.18 259.139,559.231 255.927,550.272 253.011,541.305 250.395,532.331 248.079,523.354 246.065,514.375 244.355,505.398 242.949,496.425 241.85,487.458 241.057,478.501 240.571,469.556 240.393,460.626 240.522,451.716 240.959,442.826 241.703,433.962 242.754,425.126 244.11,416.322 245.772,407.553 247.738,398.823 250.006,390.136 252.574,381.494 255.442,372.902 258.608,364.364 262.067,355.883 265.82,347.463 269.862,339.109 274.191,330.824 278.805,322.612 283.699,314.478 288.87,306.425 294.316,298.457 300.031,290.579 306.013,282.795 312.256,275.108 318.758,267.523 325.512,260.044 332.515,252.676 339.761,245.421 347.247,238.285 354.966,231.271 362.913,224.383 371.083,217.626 379.47,211.002 388.07,204.517 396.874,198.174 405.879,191.976 415.078,185.928 424.464,180.032 434.031,174.293 443.773,168.715 453.683,163.299 463.755,158.05 473.982,152.971 484.357,148.065 494.873,143.335 505.524,138.784 516.302,134.414 527.201,130.229 538.213,126.23 549.33,122.42 560.547,118.802 571.856,115.377 583.248,112.147 594.718,109.115 606.258,106.281 617.86,103.648 629.517,101.216 641.223,98.9874 652.969,96.9623 664.748,95.142 676.553,93.5269 688.377,92.1177 700.213,90.9145 712.053,89.9177 723.89,89.127 735.718,88.5423 747.529,88.1631 759.317,87.9889 771.074,88.0188 782.794,88.2519 794.469,88.687 806.095,89.3227 817.663,90.1575 829.167,91.1897 840.602,92.4173 851.96,93.8382 863.236,95.4502 874.424,97.2507 885.519,99.237 896.513,101.406 907.402,103.756 918.18,106.282 928.842,108.981 939.383,111.85 949.797,114.886 960.08,118.083 970.228,121.438 980.235,124.948 990.097,128.606 999.81,132.41 1009.37,136.354 1018.77,140.433 1028.02,144.642 1037.1,148.977 1046.01,153.431 1054.75,158 1063.32,162.678 1071.71,167.46 1079.92,172.339 1087.96,177.31 1095.81,182.367 1103.47,187.504 1110.95,192.715 1118.24,197.993 1125.34,203.333 1132.25,208.727 1138.97,214.171 1145.49,219.656 1151.82,225.177 1157.96,230.727 1163.91,236.3 1169.66,241.889 1175.22,247.487 1180.59,253.088 1185.76,258.686 1190.75,264.272 1195.54,269.842 1200.15,275.389 1204.57,280.905 1208.8,286.384 1212.85,291.821 1216.72,297.208 1220.41,302.539 1223.93,307.809 1227.26,313.009 1230.43,318.136 1233.43,323.182 1236.26,328.142 1238.94,333.009 1241.45,337.778 1243.81,342.444 1246.01,347 1248.07,351.442 1249.99,355.764 1251.77,359.962 1253.41,364.029 1254.92,367.962 1256.31,371.756 1257.58,375.406 1258.73,378.908 1259.77,382.258 1260.71,385.451 1261.54,388.485 1262.28,391.355 1262.93,394.058 1263.49,396.591 1263.98,398.952 1264.4,401.136 1264.74,403.142 1265.03,404.967 1265.26,406.609 1265.44,408.066 1265.57,409.336 1265.67,410.418 1265.74,411.311 1265.78,412.014 1265.8,412.525 1265.81,412.844 1265.81,412.971 1265.81,412.905 1265.82,412.647 1265.83,412.197 1265.87,411.556 1265.93,410.723 1266.02,409.701 1266.14,408.491 1266.3,407.093 1266.52,405.51 1266.78,403.743 1267.11,401.794 1267.5,399.667 1267.96,397.362 1268.5,394.884 1269.13,392.234 1269.84,389.417 1270.64,386.435 1271.54,383.292 1272.55,379.992 1273.66,376.538 1274.89,372.934 1276.24,369.186 1277.72,365.297 1279.32,361.272 1281.05,357.115 1282.92,352.832 1284.94,348.428 1287.1,343.907 1289.41,339.276 1291.87,334.539 1294.49,329.702 1297.27,324.771 1300.22,319.752 1303.33,314.651 1306.61,309.473 1310.07,304.225 1313.71,298.913 1317.52,293.543 1321.51,288.121 1325.68,282.654 1330.04,277.149 1334.59,271.612 1339.33,266.049 1344.25,260.467 1349.36,254.872 1354.67,249.271 1360.17,243.672 1365.86,238.079 1371.74,232.5 1377.82,226.942 1384.09,221.411 1390.56,215.914 1397.21,210.456 1404.06,205.046 1411.1,199.688 1418.33,194.389 1425.75,189.156 1433.35,183.995 1441.15,178.912 1449.12,173.913 1457.28,169.004 1465.61,164.19 1474.12,159.479 1482.81,154.874 1491.67,150.383 1500.7,146.009 1509.89,141.76 1519.24,137.638 1528.75,133.651 1538.42,129.802 1548.23,126.097 1558.19,122.54 1568.29,119.135 1578.54,115.887 1588.91,112.799 1599.41,109.877 1610.03,107.123 1620.78,104.541 1631.63,102.135 1642.59,99.9083 1653.65,97.8634 1664.81,96.0034 1676.06,94.3311 1687.39,92.849 1698.81,91.5596 1710.29,90.465 1721.84,89.5671 1733.44,88.8677 1745.1,88.3686 1756.81,88.071 1768.56,87.9763 1780.34,88.0854 1792.14,88.3992 1803.96,88.9184 1815.8,89.6434 1827.64,90.5746 1839.48,91.712 1851.3,93.0557 1863.12,94.6052 1874.91,96.3602 1886.66,98.3202 1898.38,100.484 1910.05,102.851 1921.68,105.421 1933.24,108.191 1944.73,111.16 1956.15,114.327 1967.48,117.69 1978.73,121.247 1989.88,124.996 2000.93,128.935 2011.86,133.061 2022.68,137.372 2033.37,141.866 2043.93,146.539 2054.35,151.39 2064.63,156.414 2074.75,161.609 2084.71,166.972 2094.51,172.499 2104.13,178.187 2113.58,184.033 2122.83,190.033 2131.9,196.184 2140.77,202.481 2149.44,208.921 2157.89,215.501 2166.13,222.216 2174.15,229.063 2181.94,236.037 2189.5,243.135 2196.83,250.352 2203.91,257.685 2210.74,265.129 2217.32,272.681 2223.65,280.335 2229.71,288.089 2235.52,295.938 2241.05,303.877 2246.31,311.904 2251.29,320.013 2255.99,328.2 2260.41,336.462 2264.55,344.795 2268.39,353.194 2271.94,361.656 2275.2,370.176 2278.17,378.751 2280.83,387.378 2283.2,396.051 2285.26,404.768 2287.02,413.525 2288.47,422.318 2289.62,431.145 2290.46,440 2290.99,448.882 2291.22,457.786 2291.14,466.71 2290.75,475.65 2290.06,484.604 2289.06,493.568 2287.75,502.539 2286.14,511.515 2284.22,520.494 2282,529.472 2279.48,538.447 2276.66,547.417 2273.54,556.378 2270.13,565.33 2266.42,574.271 2262.42,583.197 2258.14,592.107 2253.57,600.999 2248.72,609.872 2243.59,618.724 2238.19,627.553 2232.52,636.358 2226.58,645.138 2220.38,653.891 2213.92,662.616 2207.2,671.313 2200.24,679.98 2193.03,688.616 2185.58,697.221 2177.9,705.793 2169.99,714.333 2161.86,722.839 2153.5,731.311 2144.94,739.749 2136.16,748.153 2127.19,756.522 2118.02,764.856 2108.67,773.154 2099.13,781.417 2089.41,789.646 2079.53,797.839 2069.48,805.996 2059.28,814.119 2048.93,822.207 2038.43,830.261 2027.8,838.28 2017.05,846.266 2006.17,854.217 1995.17,862.136 1984.07,870.021 1972.87,877.874 1961.57,885.695 1950.19,893.484 1938.74,901.243 1927.21,908.97 1915.61,916.667 1903.97,924.334 1892.27,931.971 1880.53,939.58 1868.75,947.16 1856.95,954.712 1845.13,962.236 1833.3,969.732 1821.46,977.202 1809.62,984.644 1797.79,992.06 1785.97,999.45 1774.18,1006.81 1762.42,1014.15 1750.69,1021.47 1739.01,1028.75 1727.38,1036.01 1715.8,1043.25 1704.28,1050.46 1692.84,1057.64 1681.47,1064.8 1670.18,1071.94 1658.97,1079.04 1647.86,1086.12 1636.85,1093.18 1625.95,1100.2 1615.15,1107.2 1604.47,1114.17 1593.91,1121.11 1583.48,1128.02 1573.17,1134.9 1563,1141.75 1552.97,1148.56 1543.09,1155.35 1533.35,1162.09 1523.76,1168.81 1514.34,1175.48 1505.07,1182.12 1495.96,1188.72 1487.02,1195.29 1478.25,1201.8 1469.66,1208.28 1461.24,1214.71 1452.99,1221.1 1444.93,1227.43 1437.05,1233.72 1429.36,1239.96 1421.85,1246.14 1414.53,1252.27 1407.4,1258.35 1400.46,1264.36 1393.71,1270.32 1387.16,1276.21 1380.79,1282.04 1374.62,1287.8 1368.65,1293.49 1362.86,1299.11 1357.27,1304.66 1351.88,1310.14 1346.67,1315.54 1341.65,1320.85 1336.83,1326.09 1332.19,1331.24 1327.74,1336.31 1323.48,1341.29 1319.4,1346.18 1315.5,1350.98 1311.79,1355.68 1308.24,1360.28 1304.88,1364.79 1301.68,1369.19 1298.66,1373.49 1295.8,1377.69 1293.1,1381.78 1290.56,1385.75 1288.18,1389.62 1285.95,1393.37 1283.87,1397.01 1281.93,1400.53 1280.13,1403.93 1278.46,1407.2 1276.93,1410.36 1275.52,1413.38 1274.24,1416.29 1273.07,1419.06 1272.01,1421.7 1271.06,1424.22 1270.21,1426.6 1269.45,1428.84 1268.79,1430.95 1268.21,1432.92 1267.71,1434.76 1267.29,1436.45 1266.93,1438.01 1266.64,1439.42 1266.4,1440.7 1266.21,1441.83 1266.07,1442.82 1265.97,1443.66 1265.89,1444.36 1265.85,1444.91 1265.82,1445.32 1265.81,1445.59 1265.81,1445.71 1265.81,1445.72 \"/>\n",
       "</svg>\n"
      ],
      "text/html": [
       "<?xml version=\"1.0\" encoding=\"utf-8\"?>\n",
       "<svg xmlns=\"http://www.w3.org/2000/svg\" xmlns:xlink=\"http://www.w3.org/1999/xlink\" width=\"600\" height=\"400\" viewBox=\"0 0 2400 1600\">\n",
       "<defs>\n",
       "  <clipPath id=\"clip650\">\n",
       "    <rect x=\"0\" y=\"0\" width=\"2400\" height=\"1600\"/>\n",
       "  </clipPath>\n",
       "</defs>\n",
       "<path clip-path=\"url(#clip650)\" d=\"M0 1600 L2400 1600 L2400 8.88178e-14 L0 8.88178e-14  Z\" fill=\"#ffffff\" fill-rule=\"evenodd\" fill-opacity=\"1\"/>\n",
       "<defs>\n",
       "  <clipPath id=\"clip651\">\n",
       "    <rect x=\"480\" y=\"0\" width=\"1681\" height=\"1600\"/>\n",
       "  </clipPath>\n",
       "</defs>\n",
       "<path clip-path=\"url(#clip650)\" d=\"M178.867 1486.45 L2352.76 1486.45 L2352.76 47.2441 L178.867 47.2441  Z\" fill=\"#ffffff\" fill-rule=\"evenodd\" fill-opacity=\"1\"/>\n",
       "<defs>\n",
       "  <clipPath id=\"clip652\">\n",
       "    <rect x=\"178\" y=\"47\" width=\"2175\" height=\"1440\"/>\n",
       "  </clipPath>\n",
       "</defs>\n",
       "<polyline clip-path=\"url(#clip652)\" style=\"stroke:#000000; stroke-linecap:round; stroke-linejoin:round; stroke-width:2; stroke-opacity:0.1; fill:none\" points=\"304.481,1486.45 304.481,47.2441 \"/>\n",
       "<polyline clip-path=\"url(#clip652)\" style=\"stroke:#000000; stroke-linecap:round; stroke-linejoin:round; stroke-width:2; stroke-opacity:0.1; fill:none\" points=\"624.924,1486.45 624.924,47.2441 \"/>\n",
       "<polyline clip-path=\"url(#clip652)\" style=\"stroke:#000000; stroke-linecap:round; stroke-linejoin:round; stroke-width:2; stroke-opacity:0.1; fill:none\" points=\"945.368,1486.45 945.368,47.2441 \"/>\n",
       "<polyline clip-path=\"url(#clip652)\" style=\"stroke:#000000; stroke-linecap:round; stroke-linejoin:round; stroke-width:2; stroke-opacity:0.1; fill:none\" points=\"1265.81,1486.45 1265.81,47.2441 \"/>\n",
       "<polyline clip-path=\"url(#clip652)\" style=\"stroke:#000000; stroke-linecap:round; stroke-linejoin:round; stroke-width:2; stroke-opacity:0.1; fill:none\" points=\"1586.25,1486.45 1586.25,47.2441 \"/>\n",
       "<polyline clip-path=\"url(#clip652)\" style=\"stroke:#000000; stroke-linecap:round; stroke-linejoin:round; stroke-width:2; stroke-opacity:0.1; fill:none\" points=\"1906.7,1486.45 1906.7,47.2441 \"/>\n",
       "<polyline clip-path=\"url(#clip652)\" style=\"stroke:#000000; stroke-linecap:round; stroke-linejoin:round; stroke-width:2; stroke-opacity:0.1; fill:none\" points=\"2227.14,1486.45 2227.14,47.2441 \"/>\n",
       "<polyline clip-path=\"url(#clip652)\" style=\"stroke:#000000; stroke-linecap:round; stroke-linejoin:round; stroke-width:2; stroke-opacity:0.1; fill:none\" points=\"178.867,1351.83 2352.76,1351.83 \"/>\n",
       "<polyline clip-path=\"url(#clip652)\" style=\"stroke:#000000; stroke-linecap:round; stroke-linejoin:round; stroke-width:2; stroke-opacity:0.1; fill:none\" points=\"178.867,1117.12 2352.76,1117.12 \"/>\n",
       "<polyline clip-path=\"url(#clip652)\" style=\"stroke:#000000; stroke-linecap:round; stroke-linejoin:round; stroke-width:2; stroke-opacity:0.1; fill:none\" points=\"178.867,882.402 2352.76,882.402 \"/>\n",
       "<polyline clip-path=\"url(#clip652)\" style=\"stroke:#000000; stroke-linecap:round; stroke-linejoin:round; stroke-width:2; stroke-opacity:0.1; fill:none\" points=\"178.867,647.687 2352.76,647.687 \"/>\n",
       "<polyline clip-path=\"url(#clip652)\" style=\"stroke:#000000; stroke-linecap:round; stroke-linejoin:round; stroke-width:2; stroke-opacity:0.1; fill:none\" points=\"178.867,412.973 2352.76,412.973 \"/>\n",
       "<polyline clip-path=\"url(#clip652)\" style=\"stroke:#000000; stroke-linecap:round; stroke-linejoin:round; stroke-width:2; stroke-opacity:0.1; fill:none\" points=\"178.867,178.259 2352.76,178.259 \"/>\n",
       "<polyline clip-path=\"url(#clip650)\" style=\"stroke:#000000; stroke-linecap:round; stroke-linejoin:round; stroke-width:4; stroke-opacity:1; fill:none\" points=\"178.867,1486.45 2352.76,1486.45 \"/>\n",
       "<polyline clip-path=\"url(#clip650)\" style=\"stroke:#000000; stroke-linecap:round; stroke-linejoin:round; stroke-width:4; stroke-opacity:1; fill:none\" points=\"304.481,1486.45 304.481,1467.55 \"/>\n",
       "<polyline clip-path=\"url(#clip650)\" style=\"stroke:#000000; stroke-linecap:round; stroke-linejoin:round; stroke-width:4; stroke-opacity:1; fill:none\" points=\"624.924,1486.45 624.924,1467.55 \"/>\n",
       "<polyline clip-path=\"url(#clip650)\" style=\"stroke:#000000; stroke-linecap:round; stroke-linejoin:round; stroke-width:4; stroke-opacity:1; fill:none\" points=\"945.368,1486.45 945.368,1467.55 \"/>\n",
       "<polyline clip-path=\"url(#clip650)\" style=\"stroke:#000000; stroke-linecap:round; stroke-linejoin:round; stroke-width:4; stroke-opacity:1; fill:none\" points=\"1265.81,1486.45 1265.81,1467.55 \"/>\n",
       "<polyline clip-path=\"url(#clip650)\" style=\"stroke:#000000; stroke-linecap:round; stroke-linejoin:round; stroke-width:4; stroke-opacity:1; fill:none\" points=\"1586.25,1486.45 1586.25,1467.55 \"/>\n",
       "<polyline clip-path=\"url(#clip650)\" style=\"stroke:#000000; stroke-linecap:round; stroke-linejoin:round; stroke-width:4; stroke-opacity:1; fill:none\" points=\"1906.7,1486.45 1906.7,1467.55 \"/>\n",
       "<polyline clip-path=\"url(#clip650)\" style=\"stroke:#000000; stroke-linecap:round; stroke-linejoin:round; stroke-width:4; stroke-opacity:1; fill:none\" points=\"2227.14,1486.45 2227.14,1467.55 \"/>\n",
       "<path clip-path=\"url(#clip650)\" d=\"M259.041 1532.02 L288.717 1532.02 L288.717 1535.95 L259.041 1535.95 L259.041 1532.02 Z\" fill=\"#000000\" fill-rule=\"nonzero\" fill-opacity=\"1\" /><path clip-path=\"url(#clip650)\" d=\"M299.619 1544.91 L307.258 1544.91 L307.258 1518.55 L298.948 1520.21 L298.948 1515.95 L307.212 1514.29 L311.888 1514.29 L311.888 1544.91 L319.527 1544.91 L319.527 1548.85 L299.619 1548.85 L299.619 1544.91 Z\" fill=\"#000000\" fill-rule=\"nonzero\" fill-opacity=\"1\" /><path clip-path=\"url(#clip650)\" d=\"M329.017 1514.29 L347.374 1514.29 L347.374 1518.22 L333.3 1518.22 L333.3 1526.7 Q334.318 1526.35 335.337 1526.19 Q336.355 1526 337.374 1526 Q343.161 1526 346.54 1529.17 Q349.92 1532.34 349.92 1537.76 Q349.92 1543.34 346.448 1546.44 Q342.976 1549.52 336.656 1549.52 Q334.48 1549.52 332.212 1549.15 Q329.966 1548.78 327.559 1548.04 L327.559 1543.34 Q329.642 1544.47 331.865 1545.03 Q334.087 1545.58 336.564 1545.58 Q340.568 1545.58 342.906 1543.48 Q345.244 1541.37 345.244 1537.76 Q345.244 1534.15 342.906 1532.04 Q340.568 1529.94 336.564 1529.94 Q334.689 1529.94 332.814 1530.35 Q330.962 1530.77 329.017 1531.65 L329.017 1514.29 Z\" fill=\"#000000\" fill-rule=\"nonzero\" fill-opacity=\"1\" /><path clip-path=\"url(#clip650)\" d=\"M578.987 1532.02 L608.663 1532.02 L608.663 1535.95 L578.987 1535.95 L578.987 1532.02 Z\" fill=\"#000000\" fill-rule=\"nonzero\" fill-opacity=\"1\" /><path clip-path=\"url(#clip650)\" d=\"M619.565 1544.91 L627.204 1544.91 L627.204 1518.55 L618.894 1520.21 L618.894 1515.95 L627.158 1514.29 L631.834 1514.29 L631.834 1544.91 L639.473 1544.91 L639.473 1548.85 L619.565 1548.85 L619.565 1544.91 Z\" fill=\"#000000\" fill-rule=\"nonzero\" fill-opacity=\"1\" /><path clip-path=\"url(#clip650)\" d=\"M658.917 1517.37 Q655.306 1517.37 653.477 1520.93 Q651.672 1524.47 651.672 1531.6 Q651.672 1538.71 653.477 1542.27 Q655.306 1545.82 658.917 1545.82 Q662.551 1545.82 664.357 1542.27 Q666.185 1538.71 666.185 1531.6 Q666.185 1524.47 664.357 1520.93 Q662.551 1517.37 658.917 1517.37 M658.917 1513.66 Q664.727 1513.66 667.783 1518.27 Q670.861 1522.85 670.861 1531.6 Q670.861 1540.33 667.783 1544.94 Q664.727 1549.52 658.917 1549.52 Q653.107 1549.52 650.028 1544.94 Q646.973 1540.33 646.973 1531.6 Q646.973 1522.85 650.028 1518.27 Q653.107 1513.66 658.917 1513.66 Z\" fill=\"#000000\" fill-rule=\"nonzero\" fill-opacity=\"1\" /><path clip-path=\"url(#clip650)\" d=\"M915.009 1532.02 L944.685 1532.02 L944.685 1535.95 L915.009 1535.95 L915.009 1532.02 Z\" fill=\"#000000\" fill-rule=\"nonzero\" fill-opacity=\"1\" /><path clip-path=\"url(#clip650)\" d=\"M954.824 1514.29 L973.18 1514.29 L973.18 1518.22 L959.106 1518.22 L959.106 1526.7 Q960.125 1526.35 961.143 1526.19 Q962.162 1526 963.18 1526 Q968.967 1526 972.347 1529.17 Q975.726 1532.34 975.726 1537.76 Q975.726 1543.34 972.254 1546.44 Q968.782 1549.52 962.463 1549.52 Q960.287 1549.52 958.018 1549.15 Q955.773 1548.78 953.365 1548.04 L953.365 1543.34 Q955.449 1544.47 957.671 1545.03 Q959.893 1545.58 962.37 1545.58 Q966.375 1545.58 968.712 1543.48 Q971.05 1541.37 971.05 1537.76 Q971.05 1534.15 968.712 1532.04 Q966.375 1529.94 962.37 1529.94 Q960.495 1529.94 958.62 1530.35 Q956.768 1530.77 954.824 1531.65 L954.824 1514.29 Z\" fill=\"#000000\" fill-rule=\"nonzero\" fill-opacity=\"1\" /><path clip-path=\"url(#clip650)\" d=\"M1265.81 1517.37 Q1262.2 1517.37 1260.37 1520.93 Q1258.57 1524.47 1258.57 1531.6 Q1258.57 1538.71 1260.37 1542.27 Q1262.2 1545.82 1265.81 1545.82 Q1269.45 1545.82 1271.25 1542.27 Q1273.08 1538.71 1273.08 1531.6 Q1273.08 1524.47 1271.25 1520.93 Q1269.45 1517.37 1265.81 1517.37 M1265.81 1513.66 Q1271.62 1513.66 1274.68 1518.27 Q1277.76 1522.85 1277.76 1531.6 Q1277.76 1540.33 1274.68 1544.94 Q1271.62 1549.52 1265.81 1549.52 Q1260 1549.52 1256.92 1544.94 Q1253.87 1540.33 1253.87 1531.6 Q1253.87 1522.85 1256.92 1518.27 Q1260 1513.66 1265.81 1513.66 Z\" fill=\"#000000\" fill-rule=\"nonzero\" fill-opacity=\"1\" /><path clip-path=\"url(#clip650)\" d=\"M1576.53 1514.29 L1594.89 1514.29 L1594.89 1518.22 L1580.82 1518.22 L1580.82 1526.7 Q1581.83 1526.35 1582.85 1526.19 Q1583.87 1526 1584.89 1526 Q1590.68 1526 1594.06 1529.17 Q1597.44 1532.34 1597.44 1537.76 Q1597.44 1543.34 1593.96 1546.44 Q1590.49 1549.52 1584.17 1549.52 Q1582 1549.52 1579.73 1549.15 Q1577.48 1548.78 1575.07 1548.04 L1575.07 1543.34 Q1577.16 1544.47 1579.38 1545.03 Q1581.6 1545.58 1584.08 1545.58 Q1588.08 1545.58 1590.42 1543.48 Q1592.76 1541.37 1592.76 1537.76 Q1592.76 1534.15 1590.42 1532.04 Q1588.08 1529.94 1584.08 1529.94 Q1582.2 1529.94 1580.33 1530.35 Q1578.48 1530.77 1576.53 1531.65 L1576.53 1514.29 Z\" fill=\"#000000\" fill-rule=\"nonzero\" fill-opacity=\"1\" /><path clip-path=\"url(#clip650)\" d=\"M1881.39 1544.91 L1889.02 1544.91 L1889.02 1518.55 L1880.71 1520.21 L1880.71 1515.95 L1888.98 1514.29 L1893.65 1514.29 L1893.65 1544.91 L1901.29 1544.91 L1901.29 1548.85 L1881.39 1548.85 L1881.39 1544.91 Z\" fill=\"#000000\" fill-rule=\"nonzero\" fill-opacity=\"1\" /><path clip-path=\"url(#clip650)\" d=\"M1920.74 1517.37 Q1917.13 1517.37 1915.3 1520.93 Q1913.49 1524.47 1913.49 1531.6 Q1913.49 1538.71 1915.3 1542.27 Q1917.13 1545.82 1920.74 1545.82 Q1924.37 1545.82 1926.18 1542.27 Q1928.01 1538.71 1928.01 1531.6 Q1928.01 1524.47 1926.18 1520.93 Q1924.37 1517.37 1920.74 1517.37 M1920.74 1513.66 Q1926.55 1513.66 1929.6 1518.27 Q1932.68 1522.85 1932.68 1531.6 Q1932.68 1540.33 1929.6 1544.94 Q1926.55 1549.52 1920.74 1549.52 Q1914.93 1549.52 1911.85 1544.94 Q1908.79 1540.33 1908.79 1531.6 Q1908.79 1522.85 1911.85 1518.27 Q1914.93 1513.66 1920.74 1513.66 Z\" fill=\"#000000\" fill-rule=\"nonzero\" fill-opacity=\"1\" /><path clip-path=\"url(#clip650)\" d=\"M2202.33 1544.91 L2209.97 1544.91 L2209.97 1518.55 L2201.66 1520.21 L2201.66 1515.95 L2209.92 1514.29 L2214.6 1514.29 L2214.6 1544.91 L2222.23 1544.91 L2222.23 1548.85 L2202.33 1548.85 L2202.33 1544.91 Z\" fill=\"#000000\" fill-rule=\"nonzero\" fill-opacity=\"1\" /><path clip-path=\"url(#clip650)\" d=\"M2231.73 1514.29 L2250.08 1514.29 L2250.08 1518.22 L2236.01 1518.22 L2236.01 1526.7 Q2237.03 1526.35 2238.04 1526.19 Q2239.06 1526 2240.08 1526 Q2245.87 1526 2249.25 1529.17 Q2252.63 1532.34 2252.63 1537.76 Q2252.63 1543.34 2249.16 1546.44 Q2245.68 1549.52 2239.36 1549.52 Q2237.19 1549.52 2234.92 1549.15 Q2232.67 1548.78 2230.27 1548.04 L2230.27 1543.34 Q2232.35 1544.47 2234.57 1545.03 Q2236.79 1545.58 2239.27 1545.58 Q2243.28 1545.58 2245.61 1543.48 Q2247.95 1541.37 2247.95 1537.76 Q2247.95 1534.15 2245.61 1532.04 Q2243.28 1529.94 2239.27 1529.94 Q2237.4 1529.94 2235.52 1530.35 Q2233.67 1530.77 2231.73 1531.65 L2231.73 1514.29 Z\" fill=\"#000000\" fill-rule=\"nonzero\" fill-opacity=\"1\" /><polyline clip-path=\"url(#clip650)\" style=\"stroke:#000000; stroke-linecap:round; stroke-linejoin:round; stroke-width:4; stroke-opacity:1; fill:none\" points=\"178.867,1486.45 178.867,47.2441 \"/>\n",
       "<polyline clip-path=\"url(#clip650)\" style=\"stroke:#000000; stroke-linecap:round; stroke-linejoin:round; stroke-width:4; stroke-opacity:1; fill:none\" points=\"178.867,1351.83 197.764,1351.83 \"/>\n",
       "<polyline clip-path=\"url(#clip650)\" style=\"stroke:#000000; stroke-linecap:round; stroke-linejoin:round; stroke-width:4; stroke-opacity:1; fill:none\" points=\"178.867,1117.12 197.764,1117.12 \"/>\n",
       "<polyline clip-path=\"url(#clip650)\" style=\"stroke:#000000; stroke-linecap:round; stroke-linejoin:round; stroke-width:4; stroke-opacity:1; fill:none\" points=\"178.867,882.402 197.764,882.402 \"/>\n",
       "<polyline clip-path=\"url(#clip650)\" style=\"stroke:#000000; stroke-linecap:round; stroke-linejoin:round; stroke-width:4; stroke-opacity:1; fill:none\" points=\"178.867,647.687 197.764,647.687 \"/>\n",
       "<polyline clip-path=\"url(#clip650)\" style=\"stroke:#000000; stroke-linecap:round; stroke-linejoin:round; stroke-width:4; stroke-opacity:1; fill:none\" points=\"178.867,412.973 197.764,412.973 \"/>\n",
       "<polyline clip-path=\"url(#clip650)\" style=\"stroke:#000000; stroke-linecap:round; stroke-linejoin:round; stroke-width:4; stroke-opacity:1; fill:none\" points=\"178.867,178.259 197.764,178.259 \"/>\n",
       "<path clip-path=\"url(#clip650)\" d=\"M51.9875 1352.28 L81.6633 1352.28 L81.6633 1356.22 L51.9875 1356.22 L51.9875 1352.28 Z\" fill=\"#000000\" fill-rule=\"nonzero\" fill-opacity=\"1\" /><path clip-path=\"url(#clip650)\" d=\"M92.566 1365.17 L100.205 1365.17 L100.205 1338.81 L91.8947 1340.48 L91.8947 1336.22 L100.159 1334.55 L104.834 1334.55 L104.834 1365.17 L112.473 1365.17 L112.473 1369.11 L92.566 1369.11 L92.566 1365.17 Z\" fill=\"#000000\" fill-rule=\"nonzero\" fill-opacity=\"1\" /><path clip-path=\"url(#clip650)\" d=\"M121.964 1334.55 L140.32 1334.55 L140.32 1338.49 L126.246 1338.49 L126.246 1346.96 Q127.265 1346.61 128.283 1346.45 Q129.302 1346.26 130.32 1346.26 Q136.107 1346.26 139.487 1349.43 Q142.867 1352.61 142.867 1358.02 Q142.867 1363.6 139.394 1366.7 Q135.922 1369.78 129.603 1369.78 Q127.427 1369.78 125.158 1369.41 Q122.913 1369.04 120.506 1368.3 L120.506 1363.6 Q122.589 1364.74 124.811 1365.29 Q127.033 1365.85 129.51 1365.85 Q133.515 1365.85 135.853 1363.74 Q138.191 1361.63 138.191 1358.02 Q138.191 1354.41 135.853 1352.3 Q133.515 1350.2 129.51 1350.2 Q127.635 1350.2 125.76 1350.61 Q123.908 1351.03 121.964 1351.91 L121.964 1334.55 Z\" fill=\"#000000\" fill-rule=\"nonzero\" fill-opacity=\"1\" /><path clip-path=\"url(#clip650)\" d=\"M50.9921 1117.57 L80.6679 1117.57 L80.6679 1121.5 L50.9921 1121.5 L50.9921 1117.57 Z\" fill=\"#000000\" fill-rule=\"nonzero\" fill-opacity=\"1\" /><path clip-path=\"url(#clip650)\" d=\"M91.5706 1130.46 L99.2095 1130.46 L99.2095 1104.1 L90.8993 1105.76 L90.8993 1101.5 L99.1632 1099.84 L103.839 1099.84 L103.839 1130.46 L111.478 1130.46 L111.478 1134.4 L91.5706 1134.4 L91.5706 1130.46 Z\" fill=\"#000000\" fill-rule=\"nonzero\" fill-opacity=\"1\" /><path clip-path=\"url(#clip650)\" d=\"M130.922 1102.91 Q127.311 1102.91 125.482 1106.48 Q123.677 1110.02 123.677 1117.15 Q123.677 1124.26 125.482 1127.82 Q127.311 1131.36 130.922 1131.36 Q134.556 1131.36 136.362 1127.82 Q138.191 1124.26 138.191 1117.15 Q138.191 1110.02 136.362 1106.48 Q134.556 1102.91 130.922 1102.91 M130.922 1099.21 Q136.732 1099.21 139.788 1103.82 Q142.867 1108.4 142.867 1117.15 Q142.867 1125.88 139.788 1130.48 Q136.732 1135.07 130.922 1135.07 Q125.112 1135.07 122.033 1130.48 Q118.978 1125.88 118.978 1117.15 Q118.978 1108.4 122.033 1103.82 Q125.112 1099.21 130.922 1099.21 Z\" fill=\"#000000\" fill-rule=\"nonzero\" fill-opacity=\"1\" /><path clip-path=\"url(#clip650)\" d=\"M82.1494 882.853 L111.825 882.853 L111.825 886.788 L82.1494 886.788 L82.1494 882.853 Z\" fill=\"#000000\" fill-rule=\"nonzero\" fill-opacity=\"1\" /><path clip-path=\"url(#clip650)\" d=\"M121.964 865.122 L140.32 865.122 L140.32 869.057 L126.246 869.057 L126.246 877.529 Q127.265 877.182 128.283 877.02 Q129.302 876.835 130.32 876.835 Q136.107 876.835 139.487 880.006 Q142.867 883.177 142.867 888.594 Q142.867 894.172 139.394 897.274 Q135.922 900.353 129.603 900.353 Q127.427 900.353 125.158 899.983 Q122.913 899.612 120.506 898.871 L120.506 894.172 Q122.589 895.307 124.811 895.862 Q127.033 896.418 129.51 896.418 Q133.515 896.418 135.853 894.311 Q138.191 892.205 138.191 888.594 Q138.191 884.983 135.853 882.876 Q133.515 880.77 129.51 880.77 Q127.635 880.77 125.76 881.186 Q123.908 881.603 121.964 882.483 L121.964 865.122 Z\" fill=\"#000000\" fill-rule=\"nonzero\" fill-opacity=\"1\" /><path clip-path=\"url(#clip650)\" d=\"M130.922 633.486 Q127.311 633.486 125.482 637.051 Q123.677 640.593 123.677 647.722 Q123.677 654.829 125.482 658.393 Q127.311 661.935 130.922 661.935 Q134.556 661.935 136.362 658.393 Q138.191 654.829 138.191 647.722 Q138.191 640.593 136.362 637.051 Q134.556 633.486 130.922 633.486 M130.922 629.782 Q136.732 629.782 139.788 634.389 Q142.867 638.972 142.867 647.722 Q142.867 656.449 139.788 661.055 Q136.732 665.639 130.922 665.639 Q125.112 665.639 122.033 661.055 Q118.978 656.449 118.978 647.722 Q118.978 638.972 122.033 634.389 Q125.112 629.782 130.922 629.782 Z\" fill=\"#000000\" fill-rule=\"nonzero\" fill-opacity=\"1\" /><path clip-path=\"url(#clip650)\" d=\"M121.964 395.693 L140.32 395.693 L140.32 399.628 L126.246 399.628 L126.246 408.101 Q127.265 407.753 128.283 407.591 Q129.302 407.406 130.32 407.406 Q136.107 407.406 139.487 410.577 Q142.867 413.749 142.867 419.165 Q142.867 424.744 139.394 427.846 Q135.922 430.925 129.603 430.925 Q127.427 430.925 125.158 430.554 Q122.913 430.184 120.506 429.443 L120.506 424.744 Q122.589 425.878 124.811 426.434 Q127.033 426.989 129.51 426.989 Q133.515 426.989 135.853 424.883 Q138.191 422.776 138.191 419.165 Q138.191 415.554 135.853 413.448 Q133.515 411.341 129.51 411.341 Q127.635 411.341 125.76 411.758 Q123.908 412.175 121.964 413.054 L121.964 395.693 Z\" fill=\"#000000\" fill-rule=\"nonzero\" fill-opacity=\"1\" /><path clip-path=\"url(#clip650)\" d=\"M91.5706 191.604 L99.2095 191.604 L99.2095 165.238 L90.8993 166.905 L90.8993 162.646 L99.1632 160.979 L103.839 160.979 L103.839 191.604 L111.478 191.604 L111.478 195.539 L91.5706 195.539 L91.5706 191.604 Z\" fill=\"#000000\" fill-rule=\"nonzero\" fill-opacity=\"1\" /><path clip-path=\"url(#clip650)\" d=\"M130.922 164.058 Q127.311 164.058 125.482 167.623 Q123.677 171.164 123.677 178.294 Q123.677 185.4 125.482 188.965 Q127.311 192.507 130.922 192.507 Q134.556 192.507 136.362 188.965 Q138.191 185.4 138.191 178.294 Q138.191 171.164 136.362 167.623 Q134.556 164.058 130.922 164.058 M130.922 160.354 Q136.732 160.354 139.788 164.961 Q142.867 169.544 142.867 178.294 Q142.867 187.021 139.788 191.627 Q136.732 196.21 130.922 196.21 Q125.112 196.21 122.033 191.627 Q118.978 187.021 118.978 178.294 Q118.978 169.544 122.033 164.961 Q125.112 160.354 130.922 160.354 Z\" fill=\"#000000\" fill-rule=\"nonzero\" fill-opacity=\"1\" /><polyline clip-path=\"url(#clip652)\" style=\"stroke:#009af9; stroke-linecap:round; stroke-linejoin:round; stroke-width:4; stroke-opacity:1; fill:none\" points=\"1265.81,1445.72 1235.55,1377.29 1057.57,1204.96 722.843,985.17 383.706,736.841 240.392,459.916 383.706,207.771 722.843,89.1886 1057.57,159.52 1235.55,326.877 1265.81,412.973 1296.07,326.877 1474.05,159.52 1808.78,89.1886 2147.92,207.771 2291.23,459.916 2147.92,736.841 1808.78,985.17 1474.05,1204.96 1296.07,1377.29 1265.81,1445.72 \"/>\n",
       "<polyline clip-path=\"url(#clip652)\" style=\"stroke:#e26f46; stroke-linecap:round; stroke-linejoin:round; stroke-width:4; stroke-opacity:1; fill:none\" points=\"1265.81,647.687 1265.81,1445.72 \"/>\n",
       "<polyline clip-path=\"url(#clip652)\" style=\"stroke:#3da44d; stroke-linecap:round; stroke-linejoin:round; stroke-width:4; stroke-opacity:1; fill:none\" points=\"1265.81,647.687 1235.55,1377.29 \"/>\n",
       "<polyline clip-path=\"url(#clip652)\" style=\"stroke:#c271d2; stroke-linecap:round; stroke-linejoin:round; stroke-width:4; stroke-opacity:1; fill:none\" points=\"1265.81,647.687 1057.57,1204.96 \"/>\n",
       "<polyline clip-path=\"url(#clip652)\" style=\"stroke:#ac8d18; stroke-linecap:round; stroke-linejoin:round; stroke-width:4; stroke-opacity:1; fill:none\" points=\"1265.81,647.687 722.843,985.17 \"/>\n",
       "<polyline clip-path=\"url(#clip652)\" style=\"stroke:#00a9ad; stroke-linecap:round; stroke-linejoin:round; stroke-width:4; stroke-opacity:1; fill:none\" points=\"1265.81,647.687 383.706,736.841 \"/>\n",
       "<polyline clip-path=\"url(#clip652)\" style=\"stroke:#ed5d92; stroke-linecap:round; stroke-linejoin:round; stroke-width:4; stroke-opacity:1; fill:none\" points=\"1265.81,647.687 240.392,459.916 \"/>\n",
       "<polyline clip-path=\"url(#clip652)\" style=\"stroke:#c68125; stroke-linecap:round; stroke-linejoin:round; stroke-width:4; stroke-opacity:1; fill:none\" points=\"1265.81,647.687 383.706,207.771 \"/>\n",
       "<polyline clip-path=\"url(#clip652)\" style=\"stroke:#00a98d; stroke-linecap:round; stroke-linejoin:round; stroke-width:4; stroke-opacity:1; fill:none\" points=\"1265.81,647.687 722.843,89.1886 \"/>\n",
       "<polyline clip-path=\"url(#clip652)\" style=\"stroke:#8e971d; stroke-linecap:round; stroke-linejoin:round; stroke-width:4; stroke-opacity:1; fill:none\" points=\"1265.81,647.687 1057.57,159.52 \"/>\n",
       "<polyline clip-path=\"url(#clip652)\" style=\"stroke:#00a8cb; stroke-linecap:round; stroke-linejoin:round; stroke-width:4; stroke-opacity:1; fill:none\" points=\"1265.81,647.687 1235.55,326.877 \"/>\n",
       "<polyline clip-path=\"url(#clip652)\" style=\"stroke:#9b7fe8; stroke-linecap:round; stroke-linejoin:round; stroke-width:4; stroke-opacity:1; fill:none\" points=\"1265.81,647.687 1265.81,412.973 \"/>\n",
       "<polyline clip-path=\"url(#clip652)\" style=\"stroke:#608cf6; stroke-linecap:round; stroke-linejoin:round; stroke-width:4; stroke-opacity:1; fill:none\" points=\"1265.81,647.687 1296.07,326.877 \"/>\n",
       "<polyline clip-path=\"url(#clip652)\" style=\"stroke:#f05f73; stroke-linecap:round; stroke-linejoin:round; stroke-width:4; stroke-opacity:1; fill:none\" points=\"1265.81,647.687 1474.05,159.52 \"/>\n",
       "<polyline clip-path=\"url(#clip652)\" style=\"stroke:#dd64b5; stroke-linecap:round; stroke-linejoin:round; stroke-width:4; stroke-opacity:1; fill:none\" points=\"1265.81,647.687 1808.78,89.1886 \"/>\n",
       "<polyline clip-path=\"url(#clip652)\" style=\"stroke:#6b9e32; stroke-linecap:round; stroke-linejoin:round; stroke-width:4; stroke-opacity:1; fill:none\" points=\"1265.81,647.687 2147.92,207.771 \"/>\n",
       "<polyline clip-path=\"url(#clip652)\" style=\"stroke:#009af9; stroke-linecap:round; stroke-linejoin:round; stroke-width:4; stroke-opacity:1; fill:none\" points=\"1265.81,647.687 2291.23,459.916 \"/>\n",
       "<polyline clip-path=\"url(#clip652)\" style=\"stroke:#e26f46; stroke-linecap:round; stroke-linejoin:round; stroke-width:4; stroke-opacity:1; fill:none\" points=\"1265.81,647.687 2147.92,736.841 \"/>\n",
       "<polyline clip-path=\"url(#clip652)\" style=\"stroke:#3da44d; stroke-linecap:round; stroke-linejoin:round; stroke-width:4; stroke-opacity:1; fill:none\" points=\"1265.81,647.687 1808.78,985.17 \"/>\n",
       "<polyline clip-path=\"url(#clip652)\" style=\"stroke:#c271d2; stroke-linecap:round; stroke-linejoin:round; stroke-width:4; stroke-opacity:1; fill:none\" points=\"1265.81,647.687 1474.05,1204.96 \"/>\n",
       "<polyline clip-path=\"url(#clip652)\" style=\"stroke:#ac8d18; stroke-linecap:round; stroke-linejoin:round; stroke-width:4; stroke-opacity:1; fill:none\" points=\"1265.81,647.687 1296.07,1377.29 \"/>\n",
       "<polyline clip-path=\"url(#clip652)\" style=\"stroke:#00a9ad; stroke-linecap:round; stroke-linejoin:round; stroke-width:4; stroke-opacity:1; fill:none\" points=\"1265.81,647.687 1265.81,1445.72 \"/>\n",
       "<polyline clip-path=\"url(#clip652)\" style=\"stroke:#ff0000; stroke-linecap:round; stroke-linejoin:round; stroke-width:16; stroke-opacity:1; fill:none\" points=\"1265.81,1445.72 1265.81,1445.64 1265.8,1445.42 1265.78,1445.06 1265.75,1444.55 1265.68,1443.9 1265.59,1443.1 1265.46,1442.16 1265.29,1441.07 1265.07,1439.85 1264.79,1438.48 1264.45,1436.96 1264.05,1435.31 1263.58,1433.52 1263.02,1431.59 1262.39,1429.53 1261.66,1427.33 1260.85,1424.99 1259.93,1422.52 1258.9,1419.92 1257.77,1417.18 1256.52,1414.32 1255.15,1411.33 1253.66,1408.22 1252.04,1404.98 1250.28,1401.62 1248.39,1398.14 1246.35,1394.54 1244.17,1390.83 1241.83,1387 1239.35,1383.06 1236.7,1379 1233.89,1374.84 1230.92,1370.57 1227.78,1366.2 1224.47,1361.73 1220.98,1357.16 1217.32,1352.48 1213.48,1347.72 1209.46,1342.86 1205.26,1337.91 1200.87,1332.87 1196.29,1327.74 1191.53,1322.53 1186.57,1317.24 1181.43,1311.87 1176.09,1306.41 1170.56,1300.89 1164.84,1295.29 1158.92,1289.62 1152.81,1283.88 1146.51,1278.07 1140.02,1272.2 1133.33,1266.26 1126.45,1260.27 1119.38,1254.21 1112.12,1248.1 1104.67,1241.94 1097.04,1235.71 1089.22,1229.44 1081.22,1223.12 1073.03,1216.75 1064.67,1210.33 1056.13,1203.87 1047.41,1197.37 1038.53,1190.82 1029.47,1184.23 1020.26,1177.6 1010.88,1170.94 1001.34,1164.24 991.654,1157.5 981.815,1150.73 971.831,1143.92 961.706,1137.08 951.444,1130.21 941.05,1123.31 930.529,1116.38 919.886,1109.42 909.126,1102.43 898.254,1095.42 887.276,1088.37 876.198,1081.3 865.024,1074.2 853.762,1067.08 842.416,1059.93 830.993,1052.75 819.499,1045.55 807.941,1038.32 796.324,1031.07 784.656,1023.79 772.943,1016.48 761.192,1009.15 749.409,1001.8 737.601,994.417 725.775,987.009 713.939,979.575 702.098,972.114 690.261,964.626 678.435,957.111 666.626,949.568 654.843,941.997 643.091,934.398 631.379,926.77 619.713,919.112 608.102,911.425 596.552,903.707 585.07,895.959 573.665,888.18 562.342,880.369 551.11,872.526 539.976,864.651 528.947,856.743 518.03,848.802 507.232,840.828 496.561,832.819 486.022,824.777 475.624,816.699 465.373,808.588 455.276,800.441 445.34,792.259 435.571,784.042 425.975,775.79 416.56,767.503 407.331,759.18 398.295,750.823 389.458,742.43 380.826,734.003 372.404,725.541 364.199,717.046 356.216,708.517 348.461,699.955 340.938,691.36 333.653,682.734 326.611,674.077 319.816,665.39 313.275,656.673 306.99,647.929 300.966,639.158 295.208,630.36 289.719,621.539 284.504,612.694 279.566,603.828 274.907,594.941 270.532,586.037 266.444,577.115 262.646,568.18 259.139,559.231 255.927,550.272 253.011,541.305 250.395,532.331 248.079,523.354 246.065,514.375 244.355,505.398 242.949,496.425 241.85,487.458 241.057,478.501 240.571,469.556 240.393,460.626 240.522,451.716 240.959,442.826 241.703,433.962 242.754,425.126 244.11,416.322 245.772,407.553 247.738,398.823 250.006,390.136 252.574,381.494 255.442,372.902 258.608,364.364 262.067,355.883 265.82,347.463 269.862,339.109 274.191,330.824 278.805,322.612 283.699,314.478 288.87,306.425 294.316,298.457 300.031,290.579 306.013,282.795 312.256,275.108 318.758,267.523 325.512,260.044 332.515,252.676 339.761,245.421 347.247,238.285 354.966,231.271 362.913,224.383 371.083,217.626 379.47,211.002 388.07,204.517 396.874,198.174 405.879,191.976 415.078,185.928 424.464,180.032 434.031,174.293 443.773,168.715 453.683,163.299 463.755,158.05 473.982,152.971 484.357,148.065 494.873,143.335 505.524,138.784 516.302,134.414 527.201,130.229 538.213,126.23 549.33,122.42 560.547,118.802 571.856,115.377 583.248,112.147 594.718,109.115 606.258,106.281 617.86,103.648 629.517,101.216 641.223,98.9874 652.969,96.9623 664.748,95.142 676.553,93.5269 688.377,92.1177 700.213,90.9145 712.053,89.9177 723.89,89.127 735.718,88.5423 747.529,88.1631 759.317,87.9889 771.074,88.0188 782.794,88.2519 794.469,88.687 806.095,89.3227 817.663,90.1575 829.167,91.1897 840.602,92.4173 851.96,93.8382 863.236,95.4502 874.424,97.2507 885.519,99.237 896.513,101.406 907.402,103.756 918.18,106.282 928.842,108.981 939.383,111.85 949.797,114.886 960.08,118.083 970.228,121.438 980.235,124.948 990.097,128.606 999.81,132.41 1009.37,136.354 1018.77,140.433 1028.02,144.642 1037.1,148.977 1046.01,153.431 1054.75,158 1063.32,162.678 1071.71,167.46 1079.92,172.339 1087.96,177.31 1095.81,182.367 1103.47,187.504 1110.95,192.715 1118.24,197.993 1125.34,203.333 1132.25,208.727 1138.97,214.171 1145.49,219.656 1151.82,225.177 1157.96,230.727 1163.91,236.3 1169.66,241.889 1175.22,247.487 1180.59,253.088 1185.76,258.686 1190.75,264.272 1195.54,269.842 1200.15,275.389 1204.57,280.905 1208.8,286.384 1212.85,291.821 1216.72,297.208 1220.41,302.539 1223.93,307.809 1227.26,313.009 1230.43,318.136 1233.43,323.182 1236.26,328.142 1238.94,333.009 1241.45,337.778 1243.81,342.444 1246.01,347 1248.07,351.442 1249.99,355.764 1251.77,359.962 1253.41,364.029 1254.92,367.962 1256.31,371.756 1257.58,375.406 1258.73,378.908 1259.77,382.258 1260.71,385.451 1261.54,388.485 1262.28,391.355 1262.93,394.058 1263.49,396.591 1263.98,398.952 1264.4,401.136 1264.74,403.142 1265.03,404.967 1265.26,406.609 1265.44,408.066 1265.57,409.336 1265.67,410.418 1265.74,411.311 1265.78,412.014 1265.8,412.525 1265.81,412.844 1265.81,412.971 1265.81,412.905 1265.82,412.647 1265.83,412.197 1265.87,411.556 1265.93,410.723 1266.02,409.701 1266.14,408.491 1266.3,407.093 1266.52,405.51 1266.78,403.743 1267.11,401.794 1267.5,399.667 1267.96,397.362 1268.5,394.884 1269.13,392.234 1269.84,389.417 1270.64,386.435 1271.54,383.292 1272.55,379.992 1273.66,376.538 1274.89,372.934 1276.24,369.186 1277.72,365.297 1279.32,361.272 1281.05,357.115 1282.92,352.832 1284.94,348.428 1287.1,343.907 1289.41,339.276 1291.87,334.539 1294.49,329.702 1297.27,324.771 1300.22,319.752 1303.33,314.651 1306.61,309.473 1310.07,304.225 1313.71,298.913 1317.52,293.543 1321.51,288.121 1325.68,282.654 1330.04,277.149 1334.59,271.612 1339.33,266.049 1344.25,260.467 1349.36,254.872 1354.67,249.271 1360.17,243.672 1365.86,238.079 1371.74,232.5 1377.82,226.942 1384.09,221.411 1390.56,215.914 1397.21,210.456 1404.06,205.046 1411.1,199.688 1418.33,194.389 1425.75,189.156 1433.35,183.995 1441.15,178.912 1449.12,173.913 1457.28,169.004 1465.61,164.19 1474.12,159.479 1482.81,154.874 1491.67,150.383 1500.7,146.009 1509.89,141.76 1519.24,137.638 1528.75,133.651 1538.42,129.802 1548.23,126.097 1558.19,122.54 1568.29,119.135 1578.54,115.887 1588.91,112.799 1599.41,109.877 1610.03,107.123 1620.78,104.541 1631.63,102.135 1642.59,99.9083 1653.65,97.8634 1664.81,96.0034 1676.06,94.3311 1687.39,92.849 1698.81,91.5596 1710.29,90.465 1721.84,89.5671 1733.44,88.8677 1745.1,88.3686 1756.81,88.071 1768.56,87.9763 1780.34,88.0854 1792.14,88.3992 1803.96,88.9184 1815.8,89.6434 1827.64,90.5746 1839.48,91.712 1851.3,93.0557 1863.12,94.6052 1874.91,96.3602 1886.66,98.3202 1898.38,100.484 1910.05,102.851 1921.68,105.421 1933.24,108.191 1944.73,111.16 1956.15,114.327 1967.48,117.69 1978.73,121.247 1989.88,124.996 2000.93,128.935 2011.86,133.061 2022.68,137.372 2033.37,141.866 2043.93,146.539 2054.35,151.39 2064.63,156.414 2074.75,161.609 2084.71,166.972 2094.51,172.499 2104.13,178.187 2113.58,184.033 2122.83,190.033 2131.9,196.184 2140.77,202.481 2149.44,208.921 2157.89,215.501 2166.13,222.216 2174.15,229.063 2181.94,236.037 2189.5,243.135 2196.83,250.352 2203.91,257.685 2210.74,265.129 2217.32,272.681 2223.65,280.335 2229.71,288.089 2235.52,295.938 2241.05,303.877 2246.31,311.904 2251.29,320.013 2255.99,328.2 2260.41,336.462 2264.55,344.795 2268.39,353.194 2271.94,361.656 2275.2,370.176 2278.17,378.751 2280.83,387.378 2283.2,396.051 2285.26,404.768 2287.02,413.525 2288.47,422.318 2289.62,431.145 2290.46,440 2290.99,448.882 2291.22,457.786 2291.14,466.71 2290.75,475.65 2290.06,484.604 2289.06,493.568 2287.75,502.539 2286.14,511.515 2284.22,520.494 2282,529.472 2279.48,538.447 2276.66,547.417 2273.54,556.378 2270.13,565.33 2266.42,574.271 2262.42,583.197 2258.14,592.107 2253.57,600.999 2248.72,609.872 2243.59,618.724 2238.19,627.553 2232.52,636.358 2226.58,645.138 2220.38,653.891 2213.92,662.616 2207.2,671.313 2200.24,679.98 2193.03,688.616 2185.58,697.221 2177.9,705.793 2169.99,714.333 2161.86,722.839 2153.5,731.311 2144.94,739.749 2136.16,748.153 2127.19,756.522 2118.02,764.856 2108.67,773.154 2099.13,781.417 2089.41,789.646 2079.53,797.839 2069.48,805.996 2059.28,814.119 2048.93,822.207 2038.43,830.261 2027.8,838.28 2017.05,846.266 2006.17,854.217 1995.17,862.136 1984.07,870.021 1972.87,877.874 1961.57,885.695 1950.19,893.484 1938.74,901.243 1927.21,908.97 1915.61,916.667 1903.97,924.334 1892.27,931.971 1880.53,939.58 1868.75,947.16 1856.95,954.712 1845.13,962.236 1833.3,969.732 1821.46,977.202 1809.62,984.644 1797.79,992.06 1785.97,999.45 1774.18,1006.81 1762.42,1014.15 1750.69,1021.47 1739.01,1028.75 1727.38,1036.01 1715.8,1043.25 1704.28,1050.46 1692.84,1057.64 1681.47,1064.8 1670.18,1071.94 1658.97,1079.04 1647.86,1086.12 1636.85,1093.18 1625.95,1100.2 1615.15,1107.2 1604.47,1114.17 1593.91,1121.11 1583.48,1128.02 1573.17,1134.9 1563,1141.75 1552.97,1148.56 1543.09,1155.35 1533.35,1162.09 1523.76,1168.81 1514.34,1175.48 1505.07,1182.12 1495.96,1188.72 1487.02,1195.29 1478.25,1201.8 1469.66,1208.28 1461.24,1214.71 1452.99,1221.1 1444.93,1227.43 1437.05,1233.72 1429.36,1239.96 1421.85,1246.14 1414.53,1252.27 1407.4,1258.35 1400.46,1264.36 1393.71,1270.32 1387.16,1276.21 1380.79,1282.04 1374.62,1287.8 1368.65,1293.49 1362.86,1299.11 1357.27,1304.66 1351.88,1310.14 1346.67,1315.54 1341.65,1320.85 1336.83,1326.09 1332.19,1331.24 1327.74,1336.31 1323.48,1341.29 1319.4,1346.18 1315.5,1350.98 1311.79,1355.68 1308.24,1360.28 1304.88,1364.79 1301.68,1369.19 1298.66,1373.49 1295.8,1377.69 1293.1,1381.78 1290.56,1385.75 1288.18,1389.62 1285.95,1393.37 1283.87,1397.01 1281.93,1400.53 1280.13,1403.93 1278.46,1407.2 1276.93,1410.36 1275.52,1413.38 1274.24,1416.29 1273.07,1419.06 1272.01,1421.7 1271.06,1424.22 1270.21,1426.6 1269.45,1428.84 1268.79,1430.95 1268.21,1432.92 1267.71,1434.76 1267.29,1436.45 1266.93,1438.01 1266.64,1439.42 1266.4,1440.7 1266.21,1441.83 1266.07,1442.82 1265.97,1443.66 1265.89,1444.36 1265.85,1444.91 1265.82,1445.32 1265.81,1445.59 1265.81,1445.71 1265.81,1445.72 \"/>\n",
       "</svg>\n"
      ]
     },
     "metadata": {},
     "output_type": "display_data"
    }
   ],
   "source": [
    "# Divide the heart shape into triangles\n",
    "N=20 # Number of triangles\n",
    "ths=[-pi:(2*pi/N):pi;]\n",
    "n=length(ths)\n",
    "Xs=16*(sin.(ths)).^3\n",
    "Ys=13.0*cos.(ths)-5.0*cos.(2.0*ths)-2.0*cos.(3.0*ths)-1.0cos.(4.0*ths)\n",
    "p1=plot(Xs, Ys, legend=false)\n",
    "for k=1:n\n",
    "    plot!([0;Xs[k]],[0;Ys[k]])\n",
    "end\n",
    "plot!(X,Y,linewidth=4, color=:red)\n",
    "p1"
   ]
  },
  {
   "cell_type": "code",
   "execution_count": 79,
   "id": "e3a713f2-7c3f-4a33-a8f8-e6b7aa3a449a",
   "metadata": {
    "deletable": false,
    "nbgrader": {
     "cell_type": "code",
     "checksum": "665c986928f8ec78683e6b5bf8e0ae7b",
     "grade": false,
     "grade_id": "cell-f6783aa8fb9f0fe5",
     "locked": false,
     "schema_version": 3,
     "solution": true,
     "task": false
    }
   },
   "outputs": [
    {
     "data": {
      "text/plain": [
       "0.0"
      ]
     },
     "metadata": {},
     "output_type": "display_data"
    }
   ],
   "source": [
    "# Approximate the area of the heart shape via triangles\n",
    "Area=0.0\n",
    "n=length(ths)\n",
    "Xs=[Xs;Xs[1]]\n",
    "Ys=[Ys;Ys[1]]\n",
    "# your code here\n",
    "#throw(ErrorException())\n",
    "Area"
   ]
  },
  {
   "cell_type": "code",
   "execution_count": null,
   "id": "b1a2c0c5-4444-4b0c-b9de-7c6d5a75107e",
   "metadata": {},
   "outputs": [],
   "source": [
    "# Autograder cell\n",
    "@assert abs(Area-565.4672003218795) < 19"
   ]
  },
  {
   "cell_type": "code",
   "execution_count": null,
   "id": "54efbd61",
   "metadata": {
    "deletable": false,
    "editable": false,
    "nbgrader": {
     "cell_type": "code",
     "checksum": "a3c90d1b80e56dbfbf7e77ace94b20a6",
     "grade": true,
     "grade_id": "cell-2a02b5cbf3bb668b",
     "locked": true,
     "points": 4,
     "schema_version": 3,
     "solution": false,
     "task": false
    }
   },
   "outputs": [],
   "source": [
    "# Autograder cell"
   ]
  },
  {
   "cell_type": "markdown",
   "id": "7a18006a",
   "metadata": {},
   "source": [
    "Reference: https://www.stumblingrobot.com/2016/05/09/give-vector-based-proof-herons-formula-computing-area-triangle/"
   ]
  }
 ],
 "metadata": {
  "kernelspec": {
   "display_name": "Julia 1.11.1",
   "language": "julia",
   "name": "julia-1.11"
  },
  "language_info": {
   "file_extension": ".jl",
   "mimetype": "application/julia",
   "name": "julia",
   "version": "1.11.1"
  }
 },
 "nbformat": 4,
 "nbformat_minor": 5
}
