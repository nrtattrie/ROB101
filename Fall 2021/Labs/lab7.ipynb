{
 "cells": [
  {
   "cell_type": "markdown",
   "id": "a038d649-917a-4b44-8118-16c130982061",
   "metadata": {},
   "source": [
    "University of Michigan - ROB 101 Computational Linear Algebra"
   ]
  },
  {
   "cell_type": "markdown",
   "id": "3290ef73-bf86-4b62-a8fc-cdf40899c62a",
   "metadata": {},
   "source": [
    "# Lab 7. Grahm-Schmidt Algorithm Continued, Subspaces, and Solutions to Ax=b with A a Tall Matrix! \n"
   ]
  },
  {
   "cell_type": "markdown",
   "id": "178cd01d-43b4-4296-828c-7ba249a553f1",
   "metadata": {
    "deletable": false,
    "editable": false,
    "nbgrader": {
     "cell_type": "markdown",
     "checksum": "0e702e26756ff1a07dc22f03d190d692",
     "grade": false,
     "grade_id": "cell-bbf9eefae6ee7d61",
     "locked": true,
     "schema_version": 3,
     "solution": false,
     "task": false
    }
   },
   "source": [
    "### Problem 1.  Build a Grahm-Schmidt function that produces an orthonormal basis\n",
    "Hint: Check out the General step shown in the Grahm-Schmidt algorithm taken from the ROB 101 booklet.  Think about how you can use code to repeat that step in order to find the orthogonal basis.  Remember to normalize as we did above!\n",
    "\n",
    "<img src = \"https://i.postimg.cc/Wz9BtyRb/grahm-schmidt.png\" width = 700>\n",
    "\n",
    "For simplicity, your function will take the vectors stacked as the columns of a matrix U and output the orthonormal vectors as the columns of a matrix V, just as we did above."
   ]
  },
  {
   "cell_type": "code",
   "execution_count": null,
   "id": "14d43cdd-554c-44a2-b888-33121e57db66",
   "metadata": {
    "deletable": false,
    "nbgrader": {
     "cell_type": "code",
     "checksum": "0ccf56cff4069c85c86fc226f96d921d",
     "grade": false,
     "grade_id": "2a",
     "locked": false,
     "schema_version": 3,
     "solution": true,
     "task": false
    }
   },
   "outputs": [],
   "source": [
    "using LinearAlgebra\n",
    "\n",
    "#Build your function here! We will give you a shell that you are to complete\n",
    "function grahm_schmidt(U)\n",
    "    # We assume the columns of U are linearly independent. Why?\n",
    "    # Because, with this assumption, norm(vk) will never be zero\n",
    "    # start a blank matrix V which will hold all of the output vectors\n",
    "    (rows, cols) = size(U)\n",
    "    V = Array{Float64,2}(undef, rows, 0)\n",
    "    # Start a for loop that runs the number of times that there are columns in U\n",
    "    for k in 1:cols\n",
    "        # Insert the general step of Gram-Schmidt here. You will need another for loop to evaluate the summation\n",
    "        # your code here\n",
    "        throw(ErrorException())\n",
    "        V = [V vk/norm(vk)] # We do the normalization for you!\n",
    "    end\n",
    "    return V\n",
    "end     "
   ]
  },
  {
   "cell_type": "code",
   "execution_count": null,
   "id": "f7780f32-94a0-40d4-b465-07677661a387",
   "metadata": {},
   "outputs": [],
   "source": [
    "# Friendly self test\n",
    "using Random\n",
    "Random.seed!(2021)\n",
    "U = rand(12, 12)\n",
    "solTest = grahm_schmidt(U)\n",
    "T1 = @assert(norm(solTest'*solTest - I) < 1e-10 )\n",
    "println(\"all nothings means likely correct\")\n",
    "[T1]"
   ]
  },
  {
   "cell_type": "code",
   "execution_count": null,
   "id": "72a761e1-a431-4bd6-af5f-2ac34ada7b15",
   "metadata": {
    "deletable": false,
    "editable": false,
    "nbgrader": {
     "cell_type": "code",
     "checksum": "602391d3ab64c16acb01749cc9423bd7",
     "grade": true,
     "grade_id": "2aTest2",
     "locked": true,
     "points": 1,
     "schema_version": 3,
     "solution": false,
     "task": false
    }
   },
   "outputs": [],
   "source": [
    "# Friendly self test\n",
    "Random.seed!(1999)\n",
    "Ubig = rand(100, 27)\n",
    "sol2a = grahm_schmidt(Ubig)\n",
    "T1=@assert isapprox(sol2a[1, 1], 0.0834795, atol = 1E-6)\n",
    "T2=@assert isapprox(sol2a[100, 27], 0.0523471, atol = 1E-6)\n",
    "println(\"all nothings means likely correct\")\n",
    "[T1 T2]"
   ]
  },
  {
   "cell_type": "markdown",
   "id": "9eb1f1ff",
   "metadata": {},
   "source": [
    "### Problem 2. Finding the Basis\n",
    "\n",
    "#### a) Gram-Schmidt with linearly dependent vectors \n",
    "\n",
    "Use your Gram-Schmidt code from above (that is, copy it!) to complete this version of Gram-Schmidt that removes the requirement that the vectors be linearly indepenent. We will then apply our new-and-improved function to the problem of existence and uniqueness.\n"
   ]
  },
  {
   "cell_type": "code",
   "execution_count": null,
   "id": "b3851ee7",
   "metadata": {
    "deletable": false,
    "nbgrader": {
     "cell_type": "code",
     "checksum": "c783ad9a92da2c0ee868f1339e0f46e7",
     "grade": false,
     "grade_id": "cell-03c9fb8593c3207d",
     "locked": false,
     "schema_version": 3,
     "solution": true,
     "task": false
    }
   },
   "outputs": [],
   "source": [
    "\n",
    "#Build your function here! We give you a shell that we all complete together\n",
    "function grahm_schmidt2(U)\n",
    "    # start a blank matrix V which will hold all of the output vectors\n",
    "    (rows, cols) = size(U)\n",
    "    V = Array{Float64,2}(undef, rows, 0)\n",
    "    aTol=1e-8\n",
    "    #start a for loop that runs the number of times that there are columns in U\n",
    "    for k in 1:cols\n",
    "        #insert the general step of Gram-Schmidt here from your work in part a)\n",
    "        # your code here\n",
    "        throw(ErrorException())\n",
    "        if norm(vk) > aTol  # Trick? Not really. We only add a normalized vk \n",
    "           V = [V vk/norm(vk)]   # if vk is not approximately the zero vector. Make sense?\n",
    "        end  # And we ignore the vector if it is dependent on the previous vectors\n",
    "    end\n",
    "    return V\n",
    "end"
   ]
  },
  {
   "cell_type": "markdown",
   "id": "0dfe0955",
   "metadata": {},
   "source": [
    "#### b) Find a set of linearly independet vectors that span the columns of a wide matrix (more columns than rows). In Chapter 10, we will call such vectors a basis.\n",
    "\n",
    "There are many solutions to this, but we'll use Gram-Schmidt and build and orthonormal set of vectors because they are guaranteed to be linearly independent, AND we know that GS is span preserving (after we discard the dependent vectors)!"
   ]
  },
  {
   "cell_type": "code",
   "execution_count": null,
   "id": "e44dccfd",
   "metadata": {
    "deletable": false,
    "nbgrader": {
     "cell_type": "code",
     "checksum": "f27b129885fc5f0a1bb940a14a259476",
     "grade": false,
     "grade_id": "cell-b6ca63c8f91646b3",
     "locked": false,
     "schema_version": 3,
     "solution": true,
     "task": false
    }
   },
   "outputs": [],
   "source": [
    "# Run me don't change me\n",
    "A=randn(5, 50)\n",
    "\n",
    "# your code here\n",
    "throw(ErrorException())"
   ]
  },
  {
   "cell_type": "code",
   "execution_count": null,
   "id": "fc2722f1",
   "metadata": {},
   "outputs": [],
   "source": [
    "# Run me don't change me\n",
    "# Check that V'*A expresses each column of A as a linear combination of the columns of V \n",
    "\n",
    "Acol13=A[:,13]\n",
    "@show alpha=V'*Acol13\n",
    "@show norm(Acol13-V*alpha)"
   ]
  },
  {
   "cell_type": "markdown",
   "id": "4dd03f6b-92b4-498c-ab30-e3cceb8a0752",
   "metadata": {},
   "source": [
    "Observe that $V * alpha = v1 * alpha1 + v2 *alpha2 + .... + vm * alpham$, where vi are the columns of V."
   ]
  },
  {
   "cell_type": "markdown",
   "id": "6cb6a2d9-750e-46fa-845c-780630f74442",
   "metadata": {
    "deletable": false,
    "editable": false,
    "nbgrader": {
     "cell_type": "markdown",
     "checksum": "dd5b6966cc9db79818ff6c27ef5adc47",
     "grade": false,
     "grade_id": "cell-3104b7730e8863f5",
     "locked": true,
     "schema_version": 3,
     "solution": false,
     "task": false
    },
    "tags": []
   },
   "source": [
    "### Grahm-Schmidt for determining existence of solutions.\n",
    "\n",
    "We know that a solution to $Ax = b$ exists **IF AND ONLY IF** $b \\in \\operatorname {col~span} \\{A\\} $. Once we have a Gram-Schmidt algorithm that removes dependent vectors, then we can say that\n",
    "$b \\in \\operatorname {col~span} \\{A\\} $ **IF AND ONLY IF** $ \\operatorname{grahm-schmidt}(A)$ and $\\operatorname {grahm-schmidt}([A, b]) $ return the same **number of orthonormal vectors**, because if b were **linearly independent** of the columns of A, then [A b] would have one more linearly independent vector than A!\n",
    "\n",
    "### Problem 3.  Checking for existence of solutions to $Ax = b$ \n",
    "Use your grahm-schmidt function to check for existence of solutions. The return statement is completed for you. "
   ]
  },
  {
   "cell_type": "code",
   "execution_count": null,
   "id": "140d59ea-70bb-49c6-9432-1ea03ecd9528",
   "metadata": {
    "deletable": false,
    "nbgrader": {
     "cell_type": "code",
     "checksum": "f1bd643d98bee15a3df1e4064fccce72",
     "grade": false,
     "grade_id": "7a",
     "locked": false,
     "schema_version": 3,
     "solution": true,
     "task": false
    }
   },
   "outputs": [],
   "source": [
    "#use your grahm_schmidt function inside this function\n",
    "#Assume that A and b are size compatible\n",
    "function sol_exist(A, b)\n",
    "    #fill in the missing part of the function. You must let \n",
    "    # nColsGS_A be the number of orthonormal vectors returned by grahm_schmidt applied to the matrix A\n",
    "    # and let nColsGS_Ab be the number of orthonormal vectors returned by grahm_schmidt applied to the matrix [A b]\n",
    "    # your code here\n",
    "    throw(ErrorException())\n",
    "    if nColsGS_A==nColsGS_Ab\n",
    "        return true\n",
    "    else\n",
    "        return false\n",
    "    end\n",
    "end"
   ]
  },
  {
   "cell_type": "code",
   "execution_count": null,
   "id": "5fd460ad-4401-407b-bedc-6fd1a83c435f",
   "metadata": {
    "deletable": false,
    "editable": false,
    "nbgrader": {
     "cell_type": "code",
     "checksum": "1e1abf018a7da8c54ad60fda5c789297",
     "grade": true,
     "grade_id": "7aTest",
     "locked": true,
     "points": 1,
     "schema_version": 3,
     "solution": false,
     "task": false
    }
   },
   "outputs": [],
   "source": [
    "# Friendly self test\n",
    "A1= [1 4 6; 2 3 3; 4 5 6]\n",
    "b1= [1; 5; 4]\n",
    "Exist1=sol_exist(A1, b1)\n",
    "A2= [1 4; 2 3; 4 5]\n",
    "b2= [1; 11; pi]\n",
    "Exist2=sol_exist(A2, b2)\n",
    "@show [Exist1 Exist2]\n",
    "T1=@assert(Exist1==true)\n",
    "T2=@assert(Exist2==false)\n",
    "println(\"all nothings means likely correct\")\n",
    "[T1, T2]"
   ]
  },
  {
   "cell_type": "markdown",
   "id": "efb812a7",
   "metadata": {},
   "source": [
    "### Problem 4. Another way to think about least squares to find solution to Ax=b when A is a tall matrix\n",
    "\n",
    "We know from our work on regression and least squares solutions to linear equations, that if the columns of A are linearly independent, then the solution to $A^\\top \\cdot A x = A^\\top b$ **exists and is uniuqe**. We can use this to determine if a solution to $Ax=b$ exists when $A$ is a tall matrix (more rows than columns).\n",
    "\n",
    "**Fact:** Suppose the columns of A are linearly independent. Then \n",
    "$ Ax=b$ has a solution if, and only if, the unique solution to $A^\\top \\cdot A x^* = A^\\top b$ satisfies $Ax^*-b=0$\n",
    "\n",
    "Hence, our **pipeline** is: we **first solve the auxiliary problem** $A^\\top \\cdot A x^* = A^\\top b$ and **then CHECK** if it also solves the original problem, $Ax=b$"
   ]
  },
  {
   "cell_type": "code",
   "execution_count": null,
   "id": "ffd9ac21",
   "metadata": {
    "deletable": false,
    "nbgrader": {
     "cell_type": "code",
     "checksum": "08d2a0b58f10b5ec5c97c3152afb0d3e",
     "grade": false,
     "grade_id": "cell-2cc27156c264806a",
     "locked": false,
     "schema_version": 3,
     "solution": true,
     "task": false
    }
   },
   "outputs": [],
   "source": [
    "# We will walk through this example function together\n",
    "function solveTallAxEqb(A,b,aTol=1e-8)\n",
    "    # your code here\n",
    "    throw(ErrorException())\n",
    "end"
   ]
  },
  {
   "cell_type": "code",
   "execution_count": null,
   "id": "77c827bb",
   "metadata": {
    "deletable": false,
    "editable": false,
    "nbgrader": {
     "cell_type": "code",
     "checksum": "05c28028d977a4336b6d4d7013bbbb6d",
     "grade": true,
     "grade_id": "cell-59ee99d606a5a58e",
     "locked": true,
     "points": 0,
     "schema_version": 3,
     "solution": false,
     "task": false
    }
   },
   "outputs": [],
   "source": [
    "# Handy public autograder cell\n",
    "A3= [1 4; 2 3; 4 5]\n",
    "b3= pi*A3[:,1]-sqrt(17)*A3[:,2]\n",
    "x3=solveTallAxEqb(A3,b3)\n",
    "T1 = @assert norm(x3 - [3.141592653589792; -4.123105625617659]) < 1e-6\n",
    "A4=A3\n",
    "b4=[1;1;1]\n",
    "x4=solveTallAxEqb(A4,b4)\n",
    "T2 = @assert size(x4,1) == 0\n",
    "println(\"all nothings means likely correct\")\n",
    "[T1 T2]"
   ]
  },
  {
   "cell_type": "markdown",
   "id": "0e3b4995",
   "metadata": {},
   "source": [
    "### Problem 5. Testing if $v \\in V$ where $V = {\\rm span}\\{v_1, v_2, \\cdots, v_k\\}$ and we know that $ \\{v_1, v_2, \\cdots, v_k\\}$ are linearly independent. \n",
    "\n",
    "We note that $v \\in V \\iff \\text{we can find}~~~ \\alpha_1, \\alpha_2, \\ldots, \\alpha_k$ such that \n",
    "$v=\\alpha_1 v_1 +  \\alpha_2 v_2 + \\cdots+  \\alpha_k v_k$\n",
    "\n",
    "Hence, we can define $A=\\left[v_1 ~~~ v_2 ~~~ \\cdots ~~~ v_k  \\right]$, $\\alpha=\\begin{bmatrix} \\alpha_1\\\\ \\alpha_2\\\\ \\vdots \\\\ \\alpha_k \\end{bmatrix} $ and check if $A \\alpha = v$ has an exact solution or not! "
   ]
  },
  {
   "cell_type": "code",
   "execution_count": null,
   "id": "ac1ad38a",
   "metadata": {
    "deletable": false,
    "nbgrader": {
     "cell_type": "code",
     "checksum": "a57acc263665410296ab4e71a98c72b8",
     "grade": false,
     "grade_id": "cell-d24ba67559f44afb",
     "locked": false,
     "schema_version": 3,
     "solution": true,
     "task": false
    }
   },
   "outputs": [],
   "source": [
    "# check whether the v and w are elements of span{v1, v2, v3, v4} where\n",
    "Random.seed!(1984)\n",
    "v1= randn(5,1)\n",
    "v2= rand(5,1)\n",
    "v3= rand(5,1)\n",
    "v4= randn(5,1)\n",
    "\n",
    "# and if so, find the coefficients such that v or w = a1 v1 + a2 v2 + a3 v3 + a4 v4\n",
    "\n",
    "# Check separately\n",
    "v= [ -1.2022572669353286\n",
    "  0.3086799784045685\n",
    " -0.4601293761546652\n",
    " -0.25138545639836174\n",
    " -0.8894044975050598]\n",
    "w= [ -0.7053977806057057\n",
    "  0.5913041494333285\n",
    " -0.25576107276531757\n",
    " -1.1972897199751336\n",
    "  1.0962030000908147]\n",
    "\n",
    "## Your solution starts here\n",
    "# your code here\n",
    "throw(ErrorException())"
   ]
  },
  {
   "cell_type": "markdown",
   "id": "afe74a51-bdae-48ef-9267-a941ee976928",
   "metadata": {},
   "source": [
    "We conclude that v is in span{v1, v2, v3, v4} and w is not! Moreover, we see that v = v1+0v2+v3+v4"
   ]
  },
  {
   "cell_type": "code",
   "execution_count": null,
   "id": "298c4134-ed19-4980-8bc6-4c52e0ffc936",
   "metadata": {},
   "outputs": [],
   "source": []
  }
 ],
 "metadata": {
  "kernelspec": {
   "display_name": "Julia 1.6.1",
   "language": "julia",
   "name": "julia-1.6"
  },
  "language_info": {
   "file_extension": ".jl",
   "mimetype": "application/julia",
   "name": "julia",
   "version": "1.6.1"
  }
 },
 "nbformat": 4,
 "nbformat_minor": 5
}
