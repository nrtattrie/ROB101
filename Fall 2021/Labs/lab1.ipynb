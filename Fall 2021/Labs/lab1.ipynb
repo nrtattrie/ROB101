{
 "cells": [
  {
   "cell_type": "markdown",
   "metadata": {
    "deletable": false,
    "editable": false,
    "nbgrader": {
     "cell_type": "markdown",
     "checksum": "e1219b4f78c155605f762d99604b3f84",
     "grade": false,
     "grade_id": "cell-cce1441e92a92e59",
     "locked": true,
     "schema_version": 3,
     "solution": false,
     "task": false
    }
   },
   "source": [
    "University of Michigan - ROB 101 Computational Linear Algebra"
   ]
  },
  {
   "cell_type": "markdown",
   "metadata": {
    "deletable": false,
    "editable": false,
    "nbgrader": {
     "cell_type": "markdown",
     "checksum": "0522140526c3bdf633efcb348b9f47e5",
     "grade": false,
     "grade_id": "cell-42df9f51415be180",
     "locked": true,
     "schema_version": 3,
     "solution": false,
     "task": false
    }
   },
   "source": [
    "# Julia Lab 01: How to use Julia as a Calculator\n",
    "\n",
    "#### Pupose:  Use Julia Programming to solve mathematical problems\n",
    "- Skills:\n",
    "    - Writing and reading code\n",
    "    - Simplifying tasks with computer programs\n",
    "- Knowledge to be gained:\n",
    "    - Basic math commands\n",
    "    - Types of variables in Julia\n",
    "    - Declaring and plotting functions\n",
    "    \n",
    "#### Task:\n",
    "Welcome to your first jupyter notebook experience! We will complete this assignmnet together.  \n",
    "\n",
    "Anywhere you see a \"throw(ErrorException())\", delete that line, and replace it with your own code.\n",
    "\n",
    "Sometimes, you will have to complete tasks which don't have the \"throw(ErrorException())\".  In that case, follow the instructions in the cell, and email your teachers if you have questions.  Some cells do not have any tasks for you, but are either there for you to play with, or necessary structures for some of the programming.  "
   ]
  },
  {
   "cell_type": "markdown",
   "metadata": {},
   "source": [
    "### Enable Line Numbering\n",
    "\n",
    "In labs and on homework assignments, you may come accross instructions which tell you to alter certain lines of your code. You will also need to debug your code at times based on the errors reported by Julia, which will tell you the line number at which your program failed. In order to easily alter your code, enable line numbering by clicking View > Show Line Numbers in the Jupyter Lab/Notebook toolbar. "
   ]
  },
  {
   "cell_type": "markdown",
   "metadata": {
    "deletable": false,
    "editable": false,
    "nbgrader": {
     "cell_type": "markdown",
     "checksum": "2a0fa9efca2a3897e6222a3feca2232b",
     "grade": false,
     "grade_id": "cell-42df9f51415be181",
     "locked": true,
     "schema_version": 3,
     "solution": false,
     "task": false
    }
   },
   "source": [
    "## Julia can be even more powerful than a graphing calculator if you know how to use it!\n",
    "\n",
    "\n",
    "The Basics:\n",
    "Arithmetic Operations!"
   ]
  },
  {
   "cell_type": "code",
   "execution_count": 1,
   "metadata": {},
   "outputs": [
    {
     "data": {
      "text/plain": [
       "11.620000000000001"
      ]
     },
     "metadata": {},
     "output_type": "display_data"
    }
   ],
   "source": [
    "#in a code cell, julia will compute and return operations you do inside it\n",
    "4+7.62\n",
    "#here is some basic addition"
   ]
  },
  {
   "cell_type": "code",
   "execution_count": 2,
   "metadata": {},
   "outputs": [
    {
     "data": {
      "text/plain": [
       "0.666666666666667"
      ]
     },
     "metadata": {},
     "output_type": "display_data"
    }
   ],
   "source": [
    "#this works the same way for addition(+), subtraction(-), multiplication(*), division(/) and exponentials(^)\n",
    "\n",
    "4+2/3-1*4\n",
    "\n",
    "#Julia also has a backwards division operator (\\) to divide the left by the right\n",
    "#and a (%) modulo operator, which returns the remainder from a division operation"
   ]
  },
  {
   "cell_type": "markdown",
   "metadata": {
    "deletable": false,
    "editable": false,
    "nbgrader": {
     "cell_type": "markdown",
     "checksum": "74c30cc9af488b1dcbc4265bf33dbe23",
     "grade": false,
     "grade_id": "cell-47de29a639e5f315",
     "locked": true,
     "schema_version": 3,
     "solution": false,
     "task": false
    }
   },
   "source": [
    "**Notice: Julia will do arithmetic operations in an order that follows PEMDAS**\n",
    "1. Parenthesis\n",
    "2. Exponentials (right to left)\n",
    "3. Multiplication and Division (left to right)\n",
    "4. Addition and Subrtraction(left to right)\n",
    "\n",
    "Order of operations is extremely important, and can cause errors in your code so PAY ATTENTION!\n",
    "\n",
    "### Problem 1.  Place two sets of parentheses in the below expression to make x equal to 49"
   ]
  },
  {
   "cell_type": "code",
   "execution_count": 11,
   "metadata": {},
   "outputs": [
    {
     "data": {
      "text/plain": [
       "31.0"
      ]
     },
     "execution_count": 11,
     "metadata": {},
     "output_type": "execute_result"
    }
   ],
   "source": [
    "#place your parenthesis here\n",
    "x = 3 + 5 * 3 + 4 / 2 * 4 + 5\n",
    "#x = 49"
   ]
  },
  {
   "cell_type": "code",
   "execution_count": 13,
   "metadata": {
    "deletable": false,
    "editable": false,
    "nbgrader": {
     "cell_type": "code",
     "checksum": "bb5dac6a4e12d563ea86f7c61b299c73",
     "grade": true,
     "grade_id": "problem1test",
     "locked": true,
     "points": 2,
     "schema_version": 3,
     "solution": false,
     "task": false
    }
   },
   "outputs": [
    {
     "ename": "LoadError",
     "evalue": "AssertionError: x == 49",
     "output_type": "error",
     "traceback": [
      "AssertionError: x == 49",
      "",
      "Stacktrace:",
      " [1] top-level scope",
      "   @ In[13]:2"
     ]
    }
   ],
   "source": [
    "#This is your first introduction to an autograder cell\n",
    "@assert x == 49"
   ]
  },
  {
   "cell_type": "code",
   "execution_count": 15,
   "metadata": {
    "deletable": false,
    "editable": false,
    "nbgrader": {
     "cell_type": "code",
     "checksum": "74155bbd986fb4e6b051d5f1b2d8e92d",
     "grade": true,
     "grade_id": "problem1test_fail",
     "locked": true,
     "points": 0,
     "schema_version": 3,
     "solution": false,
     "task": false
    }
   },
   "outputs": [
    {
     "ename": "LoadError",
     "evalue": "AssertionError: x == 5",
     "output_type": "error",
     "traceback": [
      "AssertionError: x == 5",
      "",
      "Stacktrace:",
      " [1] top-level scope",
      "   @ In[15]:3"
     ]
    }
   ],
   "source": [
    "#This is your first introduction to an autograder cell that FAILS!\n",
    "#Notice that the assert statement is wrong... Julia won't be happy!\n",
    "@assert x == 5"
   ]
  },
  {
   "cell_type": "markdown",
   "metadata": {
    "deletable": false,
    "editable": false,
    "nbgrader": {
     "cell_type": "markdown",
     "checksum": "d9491149cb7043440fdaef2c237c0aa0",
     "grade": false,
     "grade_id": "cell-e700f01bf29416a2",
     "locked": true,
     "schema_version": 3,
     "solution": false,
     "task": false
    }
   },
   "source": [
    "**Julia also has many built in functions:**\n",
    "\n",
    "- round() #rounds to nearest integer\n",
    "- ceil() #rounds up\n",
    "- floor() #rounds down\n",
    "- trunc() #chops off anything beyond decimal point\n",
    "- abs() #absolute value\n",
    "- sin(), cos(), tan()  and asin(), acos(), atan()  #many more trigonometric functions\n",
    "- sqrt() #square root\n",
    "- exp()  #natural exponential e^x\n",
    "- log() #natural logarithm\n",
    "\n",
    "and so many more: https://docs.julialang.org/en/v1/manual/mathematical-operations/\n",
    "\n",
    "Remember, Julia is a mathematical programming language - it can do many of the mathematical programming operations that you are used to.\n",
    "\n",
    "Note: These operations will only work on numbers! In each cell, hit shift return"
   ]
  },
  {
   "cell_type": "code",
   "execution_count": 17,
   "metadata": {
    "deletable": false,
    "editable": false,
    "nbgrader": {
     "cell_type": "code",
     "checksum": "87bf272173c194744f0c65e337298cb6",
     "grade": false,
     "grade_id": "cell-c956c50b93815794",
     "locked": true,
     "schema_version": 3,
     "solution": false,
     "task": false
    }
   },
   "outputs": [
    {
     "data": {
      "text/plain": [
       "1.0"
      ]
     },
     "execution_count": 17,
     "metadata": {},
     "output_type": "execute_result"
    }
   ],
   "source": [
    "cos(2*pi)  #It assumes radians and not degrees"
   ]
  },
  {
   "cell_type": "code",
   "execution_count": 19,
   "metadata": {
    "deletable": false,
    "editable": false,
    "nbgrader": {
     "cell_type": "code",
     "checksum": "c68e8ed5a53c465076cac3c82bb415d7",
     "grade": false,
     "grade_id": "cell-202ddea9fa3b84e7",
     "locked": true,
     "schema_version": 3,
     "solution": false,
     "task": false
    }
   },
   "outputs": [
    {
     "data": {
      "text/plain": [
       "2.0"
      ]
     },
     "execution_count": 19,
     "metadata": {},
     "output_type": "execute_result"
    }
   ],
   "source": [
    "exp(log(2))  #looks correct - remember e ^ log(x) = x"
   ]
  },
  {
   "cell_type": "code",
   "execution_count": 21,
   "metadata": {},
   "outputs": [
    {
     "data": {
      "text/plain": [
       "2.0"
      ]
     },
     "execution_count": 21,
     "metadata": {},
     "output_type": "execute_result"
    }
   ],
   "source": [
    "ceil(1.5)    #note that ceil and floor always round \"predictably\""
   ]
  },
  {
   "cell_type": "code",
   "execution_count": 23,
   "metadata": {},
   "outputs": [
    {
     "data": {
      "text/plain": [
       "1.0"
      ]
     },
     "execution_count": 23,
     "metadata": {},
     "output_type": "execute_result"
    }
   ],
   "source": [
    "floor(1.5)    #for instance, floor always returns a number less than or equa to the input argument"
   ]
  },
  {
   "cell_type": "code",
   "execution_count": 25,
   "metadata": {
    "deletable": false,
    "editable": false,
    "nbgrader": {
     "cell_type": "code",
     "checksum": "fc0e6aef485da6318b27167cc054929d",
     "grade": false,
     "grade_id": "cell-fe6b0151ea814f70",
     "locked": true,
     "schema_version": 3,
     "solution": false,
     "task": false
    }
   },
   "outputs": [
    {
     "ename": "LoadError",
     "evalue": "MethodError: no method matching abs(::String)\nThe function `abs` exists, but no method is defined for this combination of argument types.\n\n\u001b[0mClosest candidates are:\n\u001b[0m  abs(\u001b[91m::Bool\u001b[39m)\n\u001b[0m\u001b[90m   @\u001b[39m \u001b[90mBase\u001b[39m \u001b[90m\u001b[4mbool.jl:153\u001b[24m\u001b[39m\n\u001b[0m  abs(\u001b[91m::Pkg.Resolve.VersionWeight\u001b[39m)\n\u001b[0m\u001b[90m   @\u001b[39m \u001b[35mPkg\u001b[39m \u001b[90m/Applications/Julia-1.11.app/Contents/Resources/julia/share/julia/stdlib/v1.11/Pkg/src/Resolve/\u001b[39m\u001b[90m\u001b[4mversionweights.jl:32\u001b[24m\u001b[39m\n\u001b[0m  abs(\u001b[91m::Pkg.Resolve.FieldValue\u001b[39m)\n\u001b[0m\u001b[90m   @\u001b[39m \u001b[35mPkg\u001b[39m \u001b[90m/Applications/Julia-1.11.app/Contents/Resources/julia/share/julia/stdlib/v1.11/Pkg/src/Resolve/\u001b[39m\u001b[90m\u001b[4mfieldvalues.jl:51\u001b[24m\u001b[39m\n\u001b[0m  ...\n",
     "output_type": "error",
     "traceback": [
      "MethodError: no method matching abs(::String)\nThe function `abs` exists, but no method is defined for this combination of argument types.\n\n\u001b[0mClosest candidates are:\n\u001b[0m  abs(\u001b[91m::Bool\u001b[39m)\n\u001b[0m\u001b[90m   @\u001b[39m \u001b[90mBase\u001b[39m \u001b[90m\u001b[4mbool.jl:153\u001b[24m\u001b[39m\n\u001b[0m  abs(\u001b[91m::Pkg.Resolve.VersionWeight\u001b[39m)\n\u001b[0m\u001b[90m   @\u001b[39m \u001b[35mPkg\u001b[39m \u001b[90m/Applications/Julia-1.11.app/Contents/Resources/julia/share/julia/stdlib/v1.11/Pkg/src/Resolve/\u001b[39m\u001b[90m\u001b[4mversionweights.jl:32\u001b[24m\u001b[39m\n\u001b[0m  abs(\u001b[91m::Pkg.Resolve.FieldValue\u001b[39m)\n\u001b[0m\u001b[90m   @\u001b[39m \u001b[35mPkg\u001b[39m \u001b[90m/Applications/Julia-1.11.app/Contents/Resources/julia/share/julia/stdlib/v1.11/Pkg/src/Resolve/\u001b[39m\u001b[90m\u001b[4mfieldvalues.jl:51\u001b[24m\u001b[39m\n\u001b[0m  ...\n",
      "",
      "Stacktrace:",
      " [1] top-level scope",
      "   @ In[25]:1"
     ]
    }
   ],
   "source": [
    "abs(\"hello\")  #be prepared for an error!"
   ]
  },
  {
   "cell_type": "markdown",
   "metadata": {
    "deletable": false,
    "editable": false,
    "nbgrader": {
     "cell_type": "markdown",
     "checksum": "db0f628032c2577b18ca881e9de7f69a",
     "grade": false,
     "grade_id": "cell-339b058b2acfbcad",
     "locked": true,
     "schema_version": 3,
     "solution": false,
     "task": false
    }
   },
   "source": [
    "Note: This doesn't work because \"hello\" is the wrong type of data. We can see this evidenced in the error message: it tells us \"no method matching abs(::String) because we are trying to use a function names \"abs\" that takes an argument of type \"String\" (a word, or a bunch of letters/characters). Of course, we know that you obviously can not take the absolute value of a word or letter, but Julia does not. Thus, when creating a function, checking the type of the argument (the thing we pass in to the function) helps to make sure the function works correctly."
   ]
  },
  {
   "cell_type": "markdown",
   "metadata": {},
   "source": [
    "Where did the error occur? Let us look at a slightly different cell:"
   ]
  },
  {
   "cell_type": "code",
   "execution_count": 27,
   "metadata": {},
   "outputs": [
    {
     "ename": "LoadError",
     "evalue": "MethodError: no method matching abs(::String)\nThe function `abs` exists, but no method is defined for this combination of argument types.\n\n\u001b[0mClosest candidates are:\n\u001b[0m  abs(\u001b[91m::Bool\u001b[39m)\n\u001b[0m\u001b[90m   @\u001b[39m \u001b[90mBase\u001b[39m \u001b[90m\u001b[4mbool.jl:153\u001b[24m\u001b[39m\n\u001b[0m  abs(\u001b[91m::Pkg.Resolve.VersionWeight\u001b[39m)\n\u001b[0m\u001b[90m   @\u001b[39m \u001b[35mPkg\u001b[39m \u001b[90m/Applications/Julia-1.11.app/Contents/Resources/julia/share/julia/stdlib/v1.11/Pkg/src/Resolve/\u001b[39m\u001b[90m\u001b[4mversionweights.jl:32\u001b[24m\u001b[39m\n\u001b[0m  abs(\u001b[91m::Pkg.Resolve.FieldValue\u001b[39m)\n\u001b[0m\u001b[90m   @\u001b[39m \u001b[35mPkg\u001b[39m \u001b[90m/Applications/Julia-1.11.app/Contents/Resources/julia/share/julia/stdlib/v1.11/Pkg/src/Resolve/\u001b[39m\u001b[90m\u001b[4mfieldvalues.jl:51\u001b[24m\u001b[39m\n\u001b[0m  ...\n",
     "output_type": "error",
     "traceback": [
      "MethodError: no method matching abs(::String)\nThe function `abs` exists, but no method is defined for this combination of argument types.\n\n\u001b[0mClosest candidates are:\n\u001b[0m  abs(\u001b[91m::Bool\u001b[39m)\n\u001b[0m\u001b[90m   @\u001b[39m \u001b[90mBase\u001b[39m \u001b[90m\u001b[4mbool.jl:153\u001b[24m\u001b[39m\n\u001b[0m  abs(\u001b[91m::Pkg.Resolve.VersionWeight\u001b[39m)\n\u001b[0m\u001b[90m   @\u001b[39m \u001b[35mPkg\u001b[39m \u001b[90m/Applications/Julia-1.11.app/Contents/Resources/julia/share/julia/stdlib/v1.11/Pkg/src/Resolve/\u001b[39m\u001b[90m\u001b[4mversionweights.jl:32\u001b[24m\u001b[39m\n\u001b[0m  abs(\u001b[91m::Pkg.Resolve.FieldValue\u001b[39m)\n\u001b[0m\u001b[90m   @\u001b[39m \u001b[35mPkg\u001b[39m \u001b[90m/Applications/Julia-1.11.app/Contents/Resources/julia/share/julia/stdlib/v1.11/Pkg/src/Resolve/\u001b[39m\u001b[90m\u001b[4mfieldvalues.jl:51\u001b[24m\u001b[39m\n\u001b[0m  ...\n",
      "",
      "Stacktrace:",
      " [1] top-level scope",
      "   @ In[27]:2"
     ]
    }
   ],
   "source": [
    "x = abs(sin(2))\n",
    "abs(\"hello\")  #be prepared for an error!\n",
    "x = x + 2"
   ]
  },
  {
   "cell_type": "markdown",
   "metadata": {},
   "source": [
    "We have three lines in the above cell (by the way, this would be a good time to enable line numbering in View > Show Line Numbers). On the first line, we assign the variable x the absolute value of the sin of 2. On the second line, we take the absolute value of the string \"hello\". FInally, on the third line, we increment x by 2. When we run the above cell, we see that Julia is angry with us, as it tells us <code>MethodError: no method matching abs(::String)MethodError: no method matching abs(::String)</code>. But, where did this error occur? Julia tells us this if we look under the <code>Stacktrace</code> section of the error message. The top-level scope (AKA where train came off the tracks) is <code>In[some number]:2</code>. Or, in some numbered cell (the number of the cell is determined when you run the cell: if this is the first cell run in the notebook, it will be cell 1) on line 2. This is what we expected - after all, you can't take the absolute value of a string, how can a word have a sign!"
   ]
  },
  {
   "cell_type": "markdown",
   "metadata": {
    "deletable": false,
    "editable": false,
    "nbgrader": {
     "cell_type": "markdown",
     "checksum": "bd1587f688de3b02527ab5ec57bb8ddf",
     "grade": false,
     "grade_id": "cell-339b058b2acfbcae",
     "locked": true,
     "schema_version": 3,
     "solution": false,
     "task": false
    }
   },
   "source": [
    "**Every piece of data in Julia has a \"Type\"**\n",
    "\n",
    "What is a data type? I think you would be comfortable saying that numbers are different from letters. So, they should be treated differently when you work with them. Similary, a single letter is different than a sentence. \n",
    "\n",
    "So far, so good? \n",
    "\n",
    "Here is where programming languages are different than calculators: you may not have to think about numbers such as 1, 2, 3, 4, .... differently than 0.7, sqrt(2), pi, but Julia does have to handle them differently. \n",
    "\n",
    "Why? Just to make your life miserable? Not really. It's actually to make your life easier! \n",
    "\n",
    "Computers have a limited amount of memory (zeros and ones) available to represent a number. If the computer knows that the number does not require a decimal point (as in -7, 0, 1, 45, etc,) then it can store it very compactly and hence store enormously large numbers of the non-decimal TYPE. If the number requires a decimal to express it properly (such as pi, sqrt(2), 0.6) then Julia will store it in a different format. Thus, Julia is able to handle the memory needs of our code without our help, because we essentially tell Julia in advance the memory needs of our code. In Julia, formats are determined by TYPES.\n",
    "\n",
    "We will mostly use 4 of these TYPES:\n",
    "- Int64:  Integers (numbers without decimal points in them). The 64 refers to the number of 'bits', 0s and 1s, that will represent the number.\n",
    "- Float64: Floating point numbers (numbers that require decimal points)\n",
    "- Char:  Any character you can type on a keyboard, or fancy characters like 复, 制, ¤, Ð, or ϐ (declared inside ' ')\n",
    "- String: A bunch of characters in a line.  (This could be a word, or a sentence, or even a number that is in \" \")\n",
    "\n",
    "You don't usually have to worry about types because Julia will automatically choose a type that works best.  But, should you get a MethodError like the one above, check which type you are using.\n",
    "\n",
    "If you want to know more about types in Julia: https://docs.julialang.org/en/v1/manual/types/"
   ]
  },
  {
   "cell_type": "markdown",
   "metadata": {
    "deletable": false,
    "editable": false,
    "nbgrader": {
     "cell_type": "markdown",
     "checksum": "e3de312f5e9ae38dec632cd22ec4e4b4",
     "grade": false,
     "grade_id": "cell-84ec179c1fa584c3",
     "locked": true,
     "schema_version": 3,
     "solution": false,
     "task": false
    }
   },
   "source": [
    "**Solving and graphing your own functions**\n",
    "\n",
    "Julia can also help solve any equation that you input.  There are two main ways to declare a function in Julia.\n",
    "\n",
    "Let's practice with the basic linear function:  \n",
    "                                                $$y = 5x + 2$$\n",
    "\n",
    "The first one is the most simple:"
   ]
  },
  {
   "cell_type": "code",
   "execution_count": 29,
   "metadata": {},
   "outputs": [
    {
     "data": {
      "text/plain": [
       "17"
      ]
     },
     "execution_count": 29,
     "metadata": {},
     "output_type": "execute_result"
    }
   ],
   "source": [
    "f(x) = 5x + 2\n",
    "\n",
    "#now that we have it declared, we can plug in values of x\n",
    "f(3)\n",
    "\n",
    "#See that we return 17: (5 * 3) + 2"
   ]
  },
  {
   "cell_type": "markdown",
   "metadata": {
    "deletable": false,
    "editable": false,
    "nbgrader": {
     "cell_type": "markdown",
     "checksum": "ba20c4e3f5f9b0f52776efe7c6e7acf8",
     "grade": false,
     "grade_id": "cell-554847fe6f346f7d",
     "locked": true,
     "schema_version": 3,
     "solution": false,
     "task": false
    }
   },
   "source": [
    "Now, we want to plot this function, to see where it's solutions are. To do this, we will use the \"Plots\" package. Julia is a fairly lightweight programming language - it does not naturally do more than the bare essentials. We then add functionalities that we need by \"importing\", or downloading, packages of code that add functionalities which do useful things, like we are about to see."
   ]
  },
  {
   "cell_type": "code",
   "execution_count": 31,
   "metadata": {
    "deletable": false,
    "editable": false,
    "nbgrader": {
     "cell_type": "code",
     "checksum": "e8f300459a73b71aa26b8209dd47a84f",
     "grade": false,
     "grade_id": "cell-dd48daa9716b336c",
     "locked": true,
     "schema_version": 3,
     "solution": false,
     "task": false
    }
   },
   "outputs": [
    {
     "name": "stderr",
     "output_type": "stream",
     "text": [
      "\u001b[32m\u001b[1m    Updating\u001b[22m\u001b[39m registry at `~/.julia/registries/General.toml`\n",
      "\u001b[32m\u001b[1m   Resolving\u001b[22m\u001b[39m package versions...\n",
      "\u001b[32m\u001b[1m   Installed\u001b[22m\u001b[39m Libmount_jll ───────────────── v2.40.2+0\n",
      "\u001b[32m\u001b[1m   Installed\u001b[22m\u001b[39m GR_jll ─────────────────────── v0.73.8+0\n",
      "\u001b[32m\u001b[1m   Installed\u001b[22m\u001b[39m x265_jll ───────────────────── v3.5.0+0\n",
      "\u001b[32m\u001b[1m   Installed\u001b[22m\u001b[39m LERC_jll ───────────────────── v4.0.0+0\n",
      "\u001b[32m\u001b[1m   Installed\u001b[22m\u001b[39m JpegTurbo_jll ──────────────── v3.0.4+0\n",
      "\u001b[32m\u001b[1m   Installed\u001b[22m\u001b[39m libdecor_jll ───────────────── v0.2.2+0\n",
      "\u001b[32m\u001b[1m   Installed\u001b[22m\u001b[39m libfdk_aac_jll ─────────────── v2.0.3+0\n",
      "\u001b[32m\u001b[1m   Installed\u001b[22m\u001b[39m LoggingExtras ──────────────── v1.1.0\n",
      "\u001b[32m\u001b[1m   Installed\u001b[22m\u001b[39m Opus_jll ───────────────────── v1.3.3+0\n",
      "\u001b[32m\u001b[1m   Installed\u001b[22m\u001b[39m Xorg_xkbcomp_jll ───────────── v1.4.6+0\n",
      "\u001b[32m\u001b[1m   Installed\u001b[22m\u001b[39m Measures ───────────────────── v0.3.2\n",
      "\u001b[32m\u001b[1m   Installed\u001b[22m\u001b[39m RelocatableFolders ─────────── v1.0.1\n",
      "\u001b[32m\u001b[1m   Installed\u001b[22m\u001b[39m Unitful ────────────────────── v1.21.0\n",
      "\u001b[32m\u001b[1m   Installed\u001b[22m\u001b[39m Contour ────────────────────── v0.6.3\n",
      "\u001b[32m\u001b[1m   Installed\u001b[22m\u001b[39m ConcurrentUtilities ────────── v2.4.2\n",
      "\u001b[32m\u001b[1m   Installed\u001b[22m\u001b[39m Grisu ──────────────────────── v1.0.2\n",
      "\u001b[32m\u001b[1m   Installed\u001b[22m\u001b[39m Xorg_xcb_util_image_jll ────── v0.4.0+1\n",
      "\u001b[32m\u001b[1m   Installed\u001b[22m\u001b[39m Xorg_xcb_util_wm_jll ───────── v0.4.1+1\n",
      "\u001b[32m\u001b[1m   Installed\u001b[22m\u001b[39m PlotUtils ──────────────────── v1.4.3\n",
      "\u001b[32m\u001b[1m   Installed\u001b[22m\u001b[39m RecipesPipeline ────────────── v0.6.12\n",
      "\u001b[32m\u001b[1m   Installed\u001b[22m\u001b[39m OpenSSL ────────────────────── v1.4.3\n",
      "\u001b[32m\u001b[1m   Installed\u001b[22m\u001b[39m Xorg_libpthread_stubs_jll ──── v0.1.1+0\n",
      "\u001b[32m\u001b[1m   Installed\u001b[22m\u001b[39m Xorg_libSM_jll ─────────────── v1.2.4+0\n",
      "\u001b[32m\u001b[1m   Installed\u001b[22m\u001b[39m DelimitedFiles ─────────────── v1.9.1\n",
      "\u001b[32m\u001b[1m   Installed\u001b[22m\u001b[39m HTTP ───────────────────────── v1.10.10\n",
      "\u001b[32m\u001b[1m   Installed\u001b[22m\u001b[39m Cairo_jll ──────────────────── v1.18.2+1\n",
      "\u001b[32m\u001b[1m   Installed\u001b[22m\u001b[39m Xorg_xcb_util_jll ──────────── v0.4.0+1\n",
      "\u001b[32m\u001b[1m   Installed\u001b[22m\u001b[39m ColorSchemes ───────────────── v3.27.1\n",
      "\u001b[32m\u001b[1m   Installed\u001b[22m\u001b[39m Fontconfig_jll ─────────────── v2.13.96+0\n",
      "\u001b[32m\u001b[1m   Installed\u001b[22m\u001b[39m Xorg_libxkbfile_jll ────────── v1.1.2+0\n",
      "\u001b[32m\u001b[1m   Installed\u001b[22m\u001b[39m Xorg_libXau_jll ────────────── v1.0.11+0\n",
      "\u001b[32m\u001b[1m   Installed\u001b[22m\u001b[39m Xorg_libXinerama_jll ───────── v1.1.4+4\n",
      "\u001b[32m\u001b[1m   Installed\u001b[22m\u001b[39m Statistics ─────────────────── v1.11.1\n",
      "\u001b[32m\u001b[1m   Installed\u001b[22m\u001b[39m Libgpg_error_jll ───────────── v1.50.0+0\n",
      "\u001b[32m\u001b[1m   Installed\u001b[22m\u001b[39m EpollShim_jll ──────────────── v0.0.20230411+0\n",
      "\u001b[32m\u001b[1m   Installed\u001b[22m\u001b[39m Missings ───────────────────── v1.2.0\n",
      "\u001b[32m\u001b[1m   Installed\u001b[22m\u001b[39m IrrationalConstants ────────── v0.2.2\n",
      "\u001b[32m\u001b[1m   Installed\u001b[22m\u001b[39m FFMPEG ─────────────────────── v0.4.2\n",
      "\u001b[32m\u001b[1m   Installed\u001b[22m\u001b[39m Pango_jll ──────────────────── v1.54.1+0\n",
      "\u001b[32m\u001b[1m   Installed\u001b[22m\u001b[39m Xorg_xcb_util_keysyms_jll ──── v0.4.0+1\n",
      "\u001b[32m\u001b[1m   Installed\u001b[22m\u001b[39m Showoff ────────────────────── v1.0.3\n",
      "\u001b[32m\u001b[1m   Installed\u001b[22m\u001b[39m GR ─────────────────────────── v0.73.8\n",
      "\u001b[32m\u001b[1m   Installed\u001b[22m\u001b[39m xkbcommon_jll ──────────────── v1.4.1+1\n",
      "\u001b[32m\u001b[1m   Installed\u001b[22m\u001b[39m SimpleBufferStream ─────────── v1.2.0\n",
      "\u001b[32m\u001b[1m   Installed\u001b[22m\u001b[39m HarfBuzz_jll ───────────────── v8.3.1+0\n",
      "\u001b[32m\u001b[1m   Installed\u001b[22m\u001b[39m PlotThemes ─────────────────── v3.3.0\n",
      "\u001b[32m\u001b[1m   Installed\u001b[22m\u001b[39m Pipe ───────────────────────── v1.3.0\n",
      "\u001b[32m\u001b[1m   Installed\u001b[22m\u001b[39m XZ_jll ─────────────────────── v5.6.3+0\n",
      "\u001b[32m\u001b[1m   Installed\u001b[22m\u001b[39m NaNMath ────────────────────── v1.0.2\n",
      "\u001b[32m\u001b[1m   Installed\u001b[22m\u001b[39m Bzip2_jll ──────────────────── v1.0.8+2\n",
      "\u001b[32m\u001b[1m   Installed\u001b[22m\u001b[39m LZO_jll ────────────────────── v2.10.2+1\n",
      "\u001b[32m\u001b[1m   Installed\u001b[22m\u001b[39m TranscodingStreams ─────────── v0.11.3\n",
      "\u001b[32m\u001b[1m   Installed\u001b[22m\u001b[39m fzf_jll ────────────────────── v0.53.0+0\n",
      "\u001b[32m\u001b[1m   Installed\u001b[22m\u001b[39m GLFW_jll ───────────────────── v3.4.0+1\n",
      "\u001b[32m\u001b[1m   Installed\u001b[22m\u001b[39m FriBidi_jll ────────────────── v1.0.14+0\n",
      "\u001b[32m\u001b[1m   Installed\u001b[22m\u001b[39m UnicodeFun ─────────────────── v0.4.1\n",
      "\u001b[32m\u001b[1m   Installed\u001b[22m\u001b[39m x264_jll ───────────────────── v2021.5.5+0\n",
      "\u001b[32m\u001b[1m   Installed\u001b[22m\u001b[39m Colors ─────────────────────── v0.13.0\n",
      "\u001b[32m\u001b[1m   Installed\u001b[22m\u001b[39m FreeType2_jll ──────────────── v2.13.3+0\n",
      "\u001b[32m\u001b[1m   Installed\u001b[22m\u001b[39m DataStructures ─────────────── v0.18.20\n",
      "\u001b[32m\u001b[1m   Installed\u001b[22m\u001b[39m JLFzf ──────────────────────── v0.1.8\n",
      "\u001b[32m\u001b[1m   Installed\u001b[22m\u001b[39m StatsAPI ───────────────────── v1.7.0\n",
      "\u001b[32m\u001b[1m   Installed\u001b[22m\u001b[39m Compat ─────────────────────── v4.16.0\n",
      "\u001b[32m\u001b[1m   Installed\u001b[22m\u001b[39m CodecZlib ──────────────────── v0.7.6\n",
      "\u001b[32m\u001b[1m   Installed\u001b[22m\u001b[39m StatsBase ──────────────────── v0.34.3\n",
      "\u001b[32m\u001b[1m   Installed\u001b[22m\u001b[39m Xorg_libxcb_jll ────────────── v1.17.0+0\n",
      "\u001b[32m\u001b[1m   Installed\u001b[22m\u001b[39m libpng_jll ─────────────────── v1.6.44+0\n",
      "\u001b[32m\u001b[1m   Installed\u001b[22m\u001b[39m mtdev_jll ──────────────────── v1.1.6+0\n",
      "\u001b[32m\u001b[1m   Installed\u001b[22m\u001b[39m libaom_jll ─────────────────── v3.9.0+0\n",
      "\u001b[32m\u001b[1m   Installed\u001b[22m\u001b[39m Scratch ────────────────────── v1.2.1\n",
      "\u001b[32m\u001b[1m   Installed\u001b[22m\u001b[39m ExceptionUnwrapping ────────── v0.1.11\n",
      "\u001b[32m\u001b[1m   Installed\u001b[22m\u001b[39m ColorTypes ─────────────────── v0.12.0\n",
      "\u001b[32m\u001b[1m   Installed\u001b[22m\u001b[39m gperf_jll ──────────────────── v3.1.1+0\n",
      "\u001b[32m\u001b[1m   Installed\u001b[22m\u001b[39m Dbus_jll ───────────────────── v1.14.10+0\n",
      "\u001b[32m\u001b[1m   Installed\u001b[22m\u001b[39m eudev_jll ──────────────────── v3.2.9+0\n",
      "\u001b[32m\u001b[1m   Installed\u001b[22m\u001b[39m Plots ──────────────────────── v1.40.9\n",
      "\u001b[32m\u001b[1m   Installed\u001b[22m\u001b[39m Zstd_jll ───────────────────── v1.5.6+1\n",
      "\u001b[32m\u001b[1m   Installed\u001b[22m\u001b[39m TensorCore ─────────────────── v0.1.1\n",
      "\u001b[32m\u001b[1m   Installed\u001b[22m\u001b[39m Expat_jll ──────────────────── v2.6.4+0\n",
      "\u001b[32m\u001b[1m   Installed\u001b[22m\u001b[39m Xorg_xcb_util_cursor_jll ───── v0.1.4+0\n",
      "\u001b[32m\u001b[1m   Installed\u001b[22m\u001b[39m Xorg_libXext_jll ───────────── v1.3.6+0\n",
      "\u001b[32m\u001b[1m   Installed\u001b[22m\u001b[39m Libtiff_jll ────────────────── v4.7.0+0\n",
      "\u001b[32m\u001b[1m   Installed\u001b[22m\u001b[39m Format ─────────────────────── v1.3.7\n",
      "\u001b[32m\u001b[1m   Installed\u001b[22m\u001b[39m Libffi_jll ─────────────────── v3.2.2+1\n",
      "\u001b[32m\u001b[1m   Installed\u001b[22m\u001b[39m Xorg_libXrender_jll ────────── v0.9.11+0\n",
      "\u001b[32m\u001b[1m   Installed\u001b[22m\u001b[39m libevdev_jll ───────────────── v1.11.0+0\n",
      "\u001b[32m\u001b[1m   Installed\u001b[22m\u001b[39m libinput_jll ───────────────── v1.18.0+0\n",
      "\u001b[32m\u001b[1m   Installed\u001b[22m\u001b[39m OrderedCollections ─────────── v1.6.3\n",
      "\u001b[32m\u001b[1m   Installed\u001b[22m\u001b[39m Ogg_jll ────────────────────── v1.3.5+1\n",
      "\u001b[32m\u001b[1m   Installed\u001b[22m\u001b[39m Xorg_libXi_jll ─────────────── v1.7.10+4\n",
      "\u001b[32m\u001b[1m   Installed\u001b[22m\u001b[39m XSLT_jll ───────────────────── v1.1.41+0\n",
      "\u001b[32m\u001b[1m   Installed\u001b[22m\u001b[39m Vulkan_Loader_jll ──────────── v1.3.243+0\n",
      "\u001b[32m\u001b[1m   Installed\u001b[22m\u001b[39m Qt6ShaderTools_jll ─────────── v6.7.1+1\n",
      "\u001b[32m\u001b[1m   Installed\u001b[22m\u001b[39m Qt6Declarative_jll ─────────── v6.7.1+2\n",
      "\u001b[32m\u001b[1m   Installed\u001b[22m\u001b[39m Reexport ───────────────────── v1.2.2\n",
      "\u001b[32m\u001b[1m   Installed\u001b[22m\u001b[39m LogExpFunctions ────────────── v0.3.28\n",
      "\u001b[32m\u001b[1m   Installed\u001b[22m\u001b[39m MacroTools ─────────────────── v0.5.13\n",
      "\u001b[32m\u001b[1m   Installed\u001b[22m\u001b[39m ColorVectorSpace ───────────── v0.11.0\n",
      "\u001b[32m\u001b[1m   Installed\u001b[22m\u001b[39m Xorg_libXcursor_jll ────────── v1.2.0+4\n",
      "\u001b[32m\u001b[1m   Installed\u001b[22m\u001b[39m DocStringExtensions ────────── v0.9.3\n",
      "\u001b[32m\u001b[1m   Installed\u001b[22m\u001b[39m Xorg_xcb_util_renderutil_jll ─ v0.3.9+1\n",
      "\u001b[32m\u001b[1m   Installed\u001b[22m\u001b[39m Wayland_protocols_jll ──────── v1.31.0+0\n",
      "\u001b[32m\u001b[1m   Installed\u001b[22m\u001b[39m Xorg_libICE_jll ────────────── v1.1.1+0\n",
      "\u001b[32m\u001b[1m   Installed\u001b[22m\u001b[39m StableRNGs ─────────────────── v1.0.2\n",
      "\u001b[32m\u001b[1m   Installed\u001b[22m\u001b[39m Graphite2_jll ──────────────── v1.3.14+1\n",
      "\u001b[32m\u001b[1m   Installed\u001b[22m\u001b[39m libass_jll ─────────────────── v0.15.2+0\n",
      "\u001b[32m\u001b[1m   Installed\u001b[22m\u001b[39m Pixman_jll ─────────────────── v0.43.4+0\n",
      "\u001b[32m\u001b[1m   Installed\u001b[22m\u001b[39m Gettext_jll ────────────────── v0.21.0+0\n",
      "\u001b[32m\u001b[1m   Installed\u001b[22m\u001b[39m Wayland_jll ────────────────── v1.21.0+1\n",
      "\u001b[32m\u001b[1m   Installed\u001b[22m\u001b[39m Xorg_xtrans_jll ────────────── v1.5.0+0\n",
      "\u001b[32m\u001b[1m   Installed\u001b[22m\u001b[39m Libuuid_jll ────────────────── v2.40.2+0\n",
      "\u001b[32m\u001b[1m   Installed\u001b[22m\u001b[39m Latexify ───────────────────── v0.16.5\n",
      "\u001b[32m\u001b[1m   Installed\u001b[22m\u001b[39m OpenSSL_jll ────────────────── v3.0.15+1\n",
      "\u001b[32m\u001b[1m   Installed\u001b[22m\u001b[39m BitFlags ───────────────────── v0.1.9\n",
      "\u001b[32m\u001b[1m   Installed\u001b[22m\u001b[39m FFMPEG_jll ─────────────────── v4.4.4+1\n",
      "\u001b[32m\u001b[1m   Installed\u001b[22m\u001b[39m Libgcrypt_jll ──────────────── v1.11.0+0\n",
      "\u001b[32m\u001b[1m   Installed\u001b[22m\u001b[39m Xorg_xkeyboard_config_jll ──── v2.39.0+0\n",
      "\u001b[32m\u001b[1m   Installed\u001b[22m\u001b[39m DataAPI ────────────────────── v1.16.0\n",
      "\u001b[32m\u001b[1m   Installed\u001b[22m\u001b[39m LLVMOpenMP_jll ─────────────── v18.1.7+0\n",
      "\u001b[32m\u001b[1m   Installed\u001b[22m\u001b[39m FixedPointNumbers ──────────── v0.8.5\n",
      "\u001b[32m\u001b[1m   Installed\u001b[22m\u001b[39m XML2_jll ───────────────────── v2.13.5+0\n",
      "\u001b[32m\u001b[1m   Installed\u001b[22m\u001b[39m Xorg_libXrandr_jll ─────────── v1.5.2+4\n",
      "\u001b[32m\u001b[1m   Installed\u001b[22m\u001b[39m RecipesBase ────────────────── v1.3.4\n",
      "\u001b[32m\u001b[1m   Installed\u001b[22m\u001b[39m Xorg_libXfixes_jll ─────────── v5.0.3+4\n",
      "\u001b[32m\u001b[1m   Installed\u001b[22m\u001b[39m LAME_jll ───────────────────── v3.100.2+0\n",
      "\u001b[32m\u001b[1m   Installed\u001b[22m\u001b[39m Qt6Wayland_jll ─────────────── v6.7.1+1\n",
      "\u001b[32m\u001b[1m   Installed\u001b[22m\u001b[39m Libiconv_jll ───────────────── v1.17.0+1\n",
      "\u001b[32m\u001b[1m   Installed\u001b[22m\u001b[39m Qt6Base_jll ────────────────── v6.7.1+1\n",
      "\u001b[32m\u001b[1m   Installed\u001b[22m\u001b[39m URIs ───────────────────────── v1.5.1\n",
      "\u001b[32m\u001b[1m   Installed\u001b[22m\u001b[39m Glib_jll ───────────────────── v2.80.5+0\n",
      "\u001b[32m\u001b[1m   Installed\u001b[22m\u001b[39m LaTeXStrings ───────────────── v1.4.0\n",
      "\u001b[32m\u001b[1m   Installed\u001b[22m\u001b[39m libvorbis_jll ──────────────── v1.3.7+2\n",
      "\u001b[32m\u001b[1m   Installed\u001b[22m\u001b[39m Requires ───────────────────── v1.3.0\n",
      "\u001b[32m\u001b[1m   Installed\u001b[22m\u001b[39m Libglvnd_jll ───────────────── v1.6.0+0\n",
      "\u001b[32m\u001b[1m   Installed\u001b[22m\u001b[39m Xorg_libXdmcp_jll ──────────── v1.1.4+0\n",
      "\u001b[32m\u001b[1m   Installed\u001b[22m\u001b[39m Xorg_libX11_jll ────────────── v1.8.6+0\n",
      "\u001b[32m\u001b[1m   Installed\u001b[22m\u001b[39m UnitfulLatexify ────────────── v1.6.4\n",
      "\u001b[32m\u001b[1m   Installed\u001b[22m\u001b[39m Unzip ──────────────────────── v0.2.0\n",
      "\u001b[32m\u001b[1m   Installed\u001b[22m\u001b[39m SortingAlgorithms ──────────── v1.2.1\n",
      "\u001b[32m\u001b[1m    Updating\u001b[22m\u001b[39m `~/.julia/environments/v1.11/Project.toml`\n",
      "  \u001b[90m[91a5bcdd] \u001b[39m\u001b[92m+ Plots v1.40.9\u001b[39m\n",
      "\u001b[32m\u001b[1m    Updating\u001b[22m\u001b[39m `~/.julia/environments/v1.11/Manifest.toml`\n",
      "  \u001b[90m[d1d4a3ce] \u001b[39m\u001b[92m+ BitFlags v0.1.9\u001b[39m\n",
      "  \u001b[90m[944b1d66] \u001b[39m\u001b[92m+ CodecZlib v0.7.6\u001b[39m\n",
      "  \u001b[90m[35d6a980] \u001b[39m\u001b[92m+ ColorSchemes v3.27.1\u001b[39m\n",
      "  \u001b[90m[3da002f7] \u001b[39m\u001b[92m+ ColorTypes v0.12.0\u001b[39m\n",
      "  \u001b[90m[c3611d14] \u001b[39m\u001b[92m+ ColorVectorSpace v0.11.0\u001b[39m\n",
      "  \u001b[90m[5ae59095] \u001b[39m\u001b[92m+ Colors v0.13.0\u001b[39m\n",
      "  \u001b[90m[34da2185] \u001b[39m\u001b[92m+ Compat v4.16.0\u001b[39m\n",
      "  \u001b[90m[f0e56b4a] \u001b[39m\u001b[92m+ ConcurrentUtilities v2.4.2\u001b[39m\n",
      "  \u001b[90m[d38c429a] \u001b[39m\u001b[92m+ Contour v0.6.3\u001b[39m\n",
      "  \u001b[90m[9a962f9c] \u001b[39m\u001b[92m+ DataAPI v1.16.0\u001b[39m\n",
      "  \u001b[90m[864edb3b] \u001b[39m\u001b[92m+ DataStructures v0.18.20\u001b[39m\n",
      "  \u001b[90m[8bb1440f] \u001b[39m\u001b[92m+ DelimitedFiles v1.9.1\u001b[39m\n",
      "  \u001b[90m[ffbed154] \u001b[39m\u001b[92m+ DocStringExtensions v0.9.3\u001b[39m\n",
      "  \u001b[90m[460bff9d] \u001b[39m\u001b[92m+ ExceptionUnwrapping v0.1.11\u001b[39m\n",
      "  \u001b[90m[c87230d0] \u001b[39m\u001b[92m+ FFMPEG v0.4.2\u001b[39m\n",
      "  \u001b[90m[53c48c17] \u001b[39m\u001b[92m+ FixedPointNumbers v0.8.5\u001b[39m\n",
      "  \u001b[90m[1fa38f19] \u001b[39m\u001b[92m+ Format v1.3.7\u001b[39m\n",
      "  \u001b[90m[28b8d3ca] \u001b[39m\u001b[92m+ GR v0.73.8\u001b[39m\n",
      "  \u001b[90m[42e2da0e] \u001b[39m\u001b[92m+ Grisu v1.0.2\u001b[39m\n",
      "  \u001b[90m[cd3eb016] \u001b[39m\u001b[92m+ HTTP v1.10.10\u001b[39m\n",
      "  \u001b[90m[92d709cd] \u001b[39m\u001b[92m+ IrrationalConstants v0.2.2\u001b[39m\n",
      "  \u001b[90m[1019f520] \u001b[39m\u001b[92m+ JLFzf v0.1.8\u001b[39m\n",
      "  \u001b[90m[b964fa9f] \u001b[39m\u001b[92m+ LaTeXStrings v1.4.0\u001b[39m\n",
      "  \u001b[90m[23fbe1c1] \u001b[39m\u001b[92m+ Latexify v0.16.5\u001b[39m\n",
      "  \u001b[90m[2ab3a3ac] \u001b[39m\u001b[92m+ LogExpFunctions v0.3.28\u001b[39m\n",
      "  \u001b[90m[e6f89c97] \u001b[39m\u001b[92m+ LoggingExtras v1.1.0\u001b[39m\n",
      "  \u001b[90m[1914dd2f] \u001b[39m\u001b[92m+ MacroTools v0.5.13\u001b[39m\n",
      "  \u001b[90m[442fdcdd] \u001b[39m\u001b[92m+ Measures v0.3.2\u001b[39m\n",
      "  \u001b[90m[e1d29d7a] \u001b[39m\u001b[92m+ Missings v1.2.0\u001b[39m\n",
      "  \u001b[90m[77ba4419] \u001b[39m\u001b[92m+ NaNMath v1.0.2\u001b[39m\n",
      "  \u001b[90m[4d8831e6] \u001b[39m\u001b[92m+ OpenSSL v1.4.3\u001b[39m\n",
      "  \u001b[90m[bac558e1] \u001b[39m\u001b[92m+ OrderedCollections v1.6.3\u001b[39m\n",
      "  \u001b[90m[b98c9c47] \u001b[39m\u001b[92m+ Pipe v1.3.0\u001b[39m\n",
      "  \u001b[90m[ccf2f8ad] \u001b[39m\u001b[92m+ PlotThemes v3.3.0\u001b[39m\n",
      "  \u001b[90m[995b91a9] \u001b[39m\u001b[92m+ PlotUtils v1.4.3\u001b[39m\n",
      "  \u001b[90m[91a5bcdd] \u001b[39m\u001b[92m+ Plots v1.40.9\u001b[39m\n",
      "  \u001b[90m[3cdcf5f2] \u001b[39m\u001b[92m+ RecipesBase v1.3.4\u001b[39m\n",
      "  \u001b[90m[01d81517] \u001b[39m\u001b[92m+ RecipesPipeline v0.6.12\u001b[39m\n",
      "  \u001b[90m[189a3867] \u001b[39m\u001b[92m+ Reexport v1.2.2\u001b[39m\n",
      "  \u001b[90m[05181044] \u001b[39m\u001b[92m+ RelocatableFolders v1.0.1\u001b[39m\n",
      "  \u001b[90m[ae029012] \u001b[39m\u001b[92m+ Requires v1.3.0\u001b[39m\n",
      "  \u001b[90m[6c6a2e73] \u001b[39m\u001b[92m+ Scratch v1.2.1\u001b[39m\n",
      "  \u001b[90m[992d4aef] \u001b[39m\u001b[92m+ Showoff v1.0.3\u001b[39m\n",
      "  \u001b[90m[777ac1f9] \u001b[39m\u001b[92m+ SimpleBufferStream v1.2.0\u001b[39m\n",
      "  \u001b[90m[a2af1166] \u001b[39m\u001b[92m+ SortingAlgorithms v1.2.1\u001b[39m\n",
      "  \u001b[90m[860ef19b] \u001b[39m\u001b[92m+ StableRNGs v1.0.2\u001b[39m\n",
      "  \u001b[90m[10745b16] \u001b[39m\u001b[92m+ Statistics v1.11.1\u001b[39m\n",
      "  \u001b[90m[82ae8749] \u001b[39m\u001b[92m+ StatsAPI v1.7.0\u001b[39m\n",
      "  \u001b[90m[2913bbd2] \u001b[39m\u001b[92m+ StatsBase v0.34.3\u001b[39m\n",
      "  \u001b[90m[62fd8b95] \u001b[39m\u001b[92m+ TensorCore v0.1.1\u001b[39m\n",
      "  \u001b[90m[3bb67fe8] \u001b[39m\u001b[92m+ TranscodingStreams v0.11.3\u001b[39m\n",
      "  \u001b[90m[5c2747f8] \u001b[39m\u001b[92m+ URIs v1.5.1\u001b[39m\n",
      "  \u001b[90m[1cfade01] \u001b[39m\u001b[92m+ UnicodeFun v0.4.1\u001b[39m\n",
      "  \u001b[90m[1986cc42] \u001b[39m\u001b[92m+ Unitful v1.21.0\u001b[39m\n",
      "  \u001b[90m[45397f5d] \u001b[39m\u001b[92m+ UnitfulLatexify v1.6.4\u001b[39m\n",
      "  \u001b[90m[41fe7b60] \u001b[39m\u001b[92m+ Unzip v0.2.0\u001b[39m\n",
      "  \u001b[90m[6e34b625] \u001b[39m\u001b[92m+ Bzip2_jll v1.0.8+2\u001b[39m\n",
      "  \u001b[90m[83423d85] \u001b[39m\u001b[92m+ Cairo_jll v1.18.2+1\u001b[39m\n",
      "  \u001b[90m[ee1fde0b] \u001b[39m\u001b[92m+ Dbus_jll v1.14.10+0\u001b[39m\n",
      "  \u001b[90m[2702e6a9] \u001b[39m\u001b[92m+ EpollShim_jll v0.0.20230411+0\u001b[39m\n",
      "  \u001b[90m[2e619515] \u001b[39m\u001b[92m+ Expat_jll v2.6.4+0\u001b[39m\n",
      "\u001b[33m⌅\u001b[39m \u001b[90m[b22a6f82] \u001b[39m\u001b[92m+ FFMPEG_jll v4.4.4+1\u001b[39m\n",
      "  \u001b[90m[a3f928ae] \u001b[39m\u001b[92m+ Fontconfig_jll v2.13.96+0\u001b[39m\n",
      "  \u001b[90m[d7e528f0] \u001b[39m\u001b[92m+ FreeType2_jll v2.13.3+0\u001b[39m\n",
      "  \u001b[90m[559328eb] \u001b[39m\u001b[92m+ FriBidi_jll v1.0.14+0\u001b[39m\n",
      "  \u001b[90m[0656b61e] \u001b[39m\u001b[92m+ GLFW_jll v3.4.0+1\u001b[39m\n",
      "  \u001b[90m[d2c73de3] \u001b[39m\u001b[92m+ GR_jll v0.73.8+0\u001b[39m\n",
      "  \u001b[90m[78b55507] \u001b[39m\u001b[92m+ Gettext_jll v0.21.0+0\u001b[39m\n",
      "  \u001b[90m[7746bdde] \u001b[39m\u001b[92m+ Glib_jll v2.80.5+0\u001b[39m\n",
      "  \u001b[90m[3b182d85] \u001b[39m\u001b[92m+ Graphite2_jll v1.3.14+1\u001b[39m\n",
      "  \u001b[90m[2e76f6c2] \u001b[39m\u001b[92m+ HarfBuzz_jll v8.3.1+0\u001b[39m\n",
      "  \u001b[90m[aacddb02] \u001b[39m\u001b[92m+ JpegTurbo_jll v3.0.4+0\u001b[39m\n",
      "  \u001b[90m[c1c5ebd0] \u001b[39m\u001b[92m+ LAME_jll v3.100.2+0\u001b[39m\n",
      "  \u001b[90m[88015f11] \u001b[39m\u001b[92m+ LERC_jll v4.0.0+0\u001b[39m\n",
      "  \u001b[90m[1d63c593] \u001b[39m\u001b[92m+ LLVMOpenMP_jll v18.1.7+0\u001b[39m\n",
      "  \u001b[90m[dd4b983a] \u001b[39m\u001b[92m+ LZO_jll v2.10.2+1\u001b[39m\n",
      "\u001b[33m⌅\u001b[39m \u001b[90m[e9f186c6] \u001b[39m\u001b[92m+ Libffi_jll v3.2.2+1\u001b[39m\n",
      "  \u001b[90m[d4300ac3] \u001b[39m\u001b[92m+ Libgcrypt_jll v1.11.0+0\u001b[39m\n",
      "  \u001b[90m[7e76a0d4] \u001b[39m\u001b[92m+ Libglvnd_jll v1.6.0+0\u001b[39m\n",
      "  \u001b[90m[7add5ba3] \u001b[39m\u001b[92m+ Libgpg_error_jll v1.50.0+0\u001b[39m\n",
      "  \u001b[90m[94ce4f54] \u001b[39m\u001b[92m+ Libiconv_jll v1.17.0+1\u001b[39m\n",
      "  \u001b[90m[4b2f31a3] \u001b[39m\u001b[92m+ Libmount_jll v2.40.2+0\u001b[39m\n",
      "  \u001b[90m[89763e89] \u001b[39m\u001b[92m+ Libtiff_jll v4.7.0+0\u001b[39m\n",
      "  \u001b[90m[38a345b3] \u001b[39m\u001b[92m+ Libuuid_jll v2.40.2+0\u001b[39m\n",
      "  \u001b[90m[e7412a2a] \u001b[39m\u001b[92m+ Ogg_jll v1.3.5+1\u001b[39m\n",
      "  \u001b[90m[458c3c95] \u001b[39m\u001b[92m+ OpenSSL_jll v3.0.15+1\u001b[39m\n",
      "  \u001b[90m[91d4177d] \u001b[39m\u001b[92m+ Opus_jll v1.3.3+0\u001b[39m\n",
      "  \u001b[90m[36c8627f] \u001b[39m\u001b[92m+ Pango_jll v1.54.1+0\u001b[39m\n",
      "\u001b[33m⌅\u001b[39m \u001b[90m[30392449] \u001b[39m\u001b[92m+ Pixman_jll v0.43.4+0\u001b[39m\n",
      "  \u001b[90m[c0090381] \u001b[39m\u001b[92m+ Qt6Base_jll v6.7.1+1\u001b[39m\n",
      "  \u001b[90m[629bc702] \u001b[39m\u001b[92m+ Qt6Declarative_jll v6.7.1+2\u001b[39m\n",
      "  \u001b[90m[ce943373] \u001b[39m\u001b[92m+ Qt6ShaderTools_jll v6.7.1+1\u001b[39m\n",
      "  \u001b[90m[e99dba38] \u001b[39m\u001b[92m+ Qt6Wayland_jll v6.7.1+1\u001b[39m\n",
      "  \u001b[90m[a44049a8] \u001b[39m\u001b[92m+ Vulkan_Loader_jll v1.3.243+0\u001b[39m\n",
      "  \u001b[90m[a2964d1f] \u001b[39m\u001b[92m+ Wayland_jll v1.21.0+1\u001b[39m\n",
      "  \u001b[90m[2381bf8a] \u001b[39m\u001b[92m+ Wayland_protocols_jll v1.31.0+0\u001b[39m\n",
      "  \u001b[90m[02c8fc9c] \u001b[39m\u001b[92m+ XML2_jll v2.13.5+0\u001b[39m\n",
      "  \u001b[90m[aed1982a] \u001b[39m\u001b[92m+ XSLT_jll v1.1.41+0\u001b[39m\n",
      "  \u001b[90m[ffd25f8a] \u001b[39m\u001b[92m+ XZ_jll v5.6.3+0\u001b[39m\n",
      "  \u001b[90m[f67eecfb] \u001b[39m\u001b[92m+ Xorg_libICE_jll v1.1.1+0\u001b[39m\n",
      "  \u001b[90m[c834827a] \u001b[39m\u001b[92m+ Xorg_libSM_jll v1.2.4+0\u001b[39m\n",
      "  \u001b[90m[4f6342f7] \u001b[39m\u001b[92m+ Xorg_libX11_jll v1.8.6+0\u001b[39m\n",
      "  \u001b[90m[0c0b7dd1] \u001b[39m\u001b[92m+ Xorg_libXau_jll v1.0.11+0\u001b[39m\n",
      "  \u001b[90m[935fb764] \u001b[39m\u001b[92m+ Xorg_libXcursor_jll v1.2.0+4\u001b[39m\n",
      "  \u001b[90m[a3789734] \u001b[39m\u001b[92m+ Xorg_libXdmcp_jll v1.1.4+0\u001b[39m\n",
      "  \u001b[90m[1082639a] \u001b[39m\u001b[92m+ Xorg_libXext_jll v1.3.6+0\u001b[39m\n",
      "  \u001b[90m[d091e8ba] \u001b[39m\u001b[92m+ Xorg_libXfixes_jll v5.0.3+4\u001b[39m\n",
      "  \u001b[90m[a51aa0fd] \u001b[39m\u001b[92m+ Xorg_libXi_jll v1.7.10+4\u001b[39m\n",
      "  \u001b[90m[d1454406] \u001b[39m\u001b[92m+ Xorg_libXinerama_jll v1.1.4+4\u001b[39m\n",
      "  \u001b[90m[ec84b674] \u001b[39m\u001b[92m+ Xorg_libXrandr_jll v1.5.2+4\u001b[39m\n",
      "  \u001b[90m[ea2f1a96] \u001b[39m\u001b[92m+ Xorg_libXrender_jll v0.9.11+0\u001b[39m\n",
      "  \u001b[90m[14d82f49] \u001b[39m\u001b[92m+ Xorg_libpthread_stubs_jll v0.1.1+0\u001b[39m\n",
      "  \u001b[90m[c7cfdc94] \u001b[39m\u001b[92m+ Xorg_libxcb_jll v1.17.0+0\u001b[39m\n",
      "  \u001b[90m[cc61e674] \u001b[39m\u001b[92m+ Xorg_libxkbfile_jll v1.1.2+0\u001b[39m\n",
      "  \u001b[90m[e920d4aa] \u001b[39m\u001b[92m+ Xorg_xcb_util_cursor_jll v0.1.4+0\u001b[39m\n",
      "  \u001b[90m[12413925] \u001b[39m\u001b[92m+ Xorg_xcb_util_image_jll v0.4.0+1\u001b[39m\n",
      "  \u001b[90m[2def613f] \u001b[39m\u001b[92m+ Xorg_xcb_util_jll v0.4.0+1\u001b[39m\n",
      "  \u001b[90m[975044d2] \u001b[39m\u001b[92m+ Xorg_xcb_util_keysyms_jll v0.4.0+1\u001b[39m\n",
      "  \u001b[90m[0d47668e] \u001b[39m\u001b[92m+ Xorg_xcb_util_renderutil_jll v0.3.9+1\u001b[39m\n",
      "  \u001b[90m[c22f9ab0] \u001b[39m\u001b[92m+ Xorg_xcb_util_wm_jll v0.4.1+1\u001b[39m\n",
      "  \u001b[90m[35661453] \u001b[39m\u001b[92m+ Xorg_xkbcomp_jll v1.4.6+0\u001b[39m\n",
      "  \u001b[90m[33bec58e] \u001b[39m\u001b[92m+ Xorg_xkeyboard_config_jll v2.39.0+0\u001b[39m\n",
      "  \u001b[90m[c5fb5394] \u001b[39m\u001b[92m+ Xorg_xtrans_jll v1.5.0+0\u001b[39m\n",
      "  \u001b[90m[3161d3a3] \u001b[39m\u001b[92m+ Zstd_jll v1.5.6+1\u001b[39m\n",
      "  \u001b[90m[35ca27e7] \u001b[39m\u001b[92m+ eudev_jll v3.2.9+0\u001b[39m\n",
      "\u001b[33m⌅\u001b[39m \u001b[90m[214eeab7] \u001b[39m\u001b[92m+ fzf_jll v0.53.0+0\u001b[39m\n",
      "  \u001b[90m[1a1c6b14] \u001b[39m\u001b[92m+ gperf_jll v3.1.1+0\u001b[39m\n",
      "  \u001b[90m[a4ae2306] \u001b[39m\u001b[92m+ libaom_jll v3.9.0+0\u001b[39m\n",
      "  \u001b[90m[0ac62f75] \u001b[39m\u001b[92m+ libass_jll v0.15.2+0\u001b[39m\n",
      "  \u001b[90m[1183f4f0] \u001b[39m\u001b[92m+ libdecor_jll v0.2.2+0\u001b[39m\n",
      "  \u001b[90m[2db6ffa8] \u001b[39m\u001b[92m+ libevdev_jll v1.11.0+0\u001b[39m\n",
      "  \u001b[90m[f638f0a6] \u001b[39m\u001b[92m+ libfdk_aac_jll v2.0.3+0\u001b[39m\n",
      "  \u001b[90m[36db933b] \u001b[39m\u001b[92m+ libinput_jll v1.18.0+0\u001b[39m\n",
      "  \u001b[90m[b53b4c65] \u001b[39m\u001b[92m+ libpng_jll v1.6.44+0\u001b[39m\n",
      "  \u001b[90m[f27f6e37] \u001b[39m\u001b[92m+ libvorbis_jll v1.3.7+2\u001b[39m\n",
      "  \u001b[90m[009596ad] \u001b[39m\u001b[92m+ mtdev_jll v1.1.6+0\u001b[39m\n",
      "\u001b[33m⌅\u001b[39m \u001b[90m[1270edf5] \u001b[39m\u001b[92m+ x264_jll v2021.5.5+0\u001b[39m\n",
      "\u001b[33m⌅\u001b[39m \u001b[90m[dfaa095f] \u001b[39m\u001b[92m+ x265_jll v3.5.0+0\u001b[39m\n",
      "  \u001b[90m[d8fb68d0] \u001b[39m\u001b[92m+ xkbcommon_jll v1.4.1+1\u001b[39m\n",
      "  \u001b[90m[37e2e46d] \u001b[39m\u001b[92m+ LinearAlgebra v1.11.0\u001b[39m\n",
      "  \u001b[90m[2f01184e] \u001b[39m\u001b[92m+ SparseArrays v1.11.0\u001b[39m\n",
      "  \u001b[90m[e66e0078] \u001b[39m\u001b[92m+ CompilerSupportLibraries_jll v1.1.1+0\u001b[39m\n",
      "  \u001b[90m[4536629a] \u001b[39m\u001b[92m+ OpenBLAS_jll v0.3.27+1\u001b[39m\n",
      "  \u001b[90m[05823500] \u001b[39m\u001b[92m+ OpenLibm_jll v0.8.1+2\u001b[39m\n",
      "  \u001b[90m[efcefdf7] \u001b[39m\u001b[92m+ PCRE2_jll v10.42.0+1\u001b[39m\n",
      "  \u001b[90m[bea87d4a] \u001b[39m\u001b[92m+ SuiteSparse_jll v7.7.0+0\u001b[39m\n",
      "  \u001b[90m[8e850b90] \u001b[39m\u001b[92m+ libblastrampoline_jll v5.11.0+0\u001b[39m\n",
      "\u001b[36m\u001b[1m        Info\u001b[22m\u001b[39m Packages marked with \u001b[33m⌅\u001b[39m have new versions available but compatibility constraints restrict them from upgrading. To see why use `status --outdated -m`\n",
      "\u001b[92m\u001b[1mPrecompiling\u001b[22m\u001b[39m project...\n",
      "    590.1 ms\u001b[32m  ✓ \u001b[39m\u001b[90mTensorCore\u001b[39m\n",
      "    726.5 ms\u001b[32m  ✓ \u001b[39m\u001b[90mLaTeXStrings\u001b[39m\n",
      "    592.6 ms\u001b[32m  ✓ \u001b[39m\u001b[90mStatsAPI\u001b[39m\n",
      "    590.0 ms\u001b[32m  ✓ \u001b[39m\u001b[90mPipe\u001b[39m\n",
      "    592.0 ms\u001b[32m  ✓ \u001b[39m\u001b[90mContour\u001b[39m\n",
      "    588.0 ms\u001b[32m  ✓ \u001b[39m\u001b[90mMeasures\u001b[39m\n",
      "    435.4 ms\u001b[32m  ✓ \u001b[39m\u001b[90mStableRNGs\u001b[39m\n",
      "   1044.6 ms\u001b[32m  ✓ \u001b[39m\u001b[90mFormat\u001b[39m\n",
      "    480.1 ms\u001b[32m  ✓ \u001b[39m\u001b[90mRequires\u001b[39m\n",
      "    506.8 ms\u001b[32m  ✓ \u001b[39m\u001b[90mOrderedCollections\u001b[39m\n",
      "    510.8 ms\u001b[32m  ✓ \u001b[39m\u001b[90mStatistics\u001b[39m\n",
      "    523.7 ms\u001b[32m  ✓ \u001b[39m\u001b[90mUnzip\u001b[39m\n",
      "    724.6 ms\u001b[32m  ✓ \u001b[39m\u001b[90mGrisu\u001b[39m\n",
      "    537.9 ms\u001b[32m  ✓ \u001b[39m\u001b[90mReexport\u001b[39m\n",
      "    567.7 ms\u001b[32m  ✓ \u001b[39m\u001b[90mSimpleBufferStream\u001b[39m\n",
      "    696.9 ms\u001b[32m  ✓ \u001b[39m\u001b[90mNaNMath\u001b[39m\n",
      "    758.4 ms\u001b[32m  ✓ \u001b[39m\u001b[90mTranscodingStreams\u001b[39m\n",
      "    847.5 ms\u001b[32m  ✓ \u001b[39m\u001b[90mURIs\u001b[39m\n",
      "    754.5 ms\u001b[32m  ✓ \u001b[39m\u001b[90mDelimitedFiles\u001b[39m\n",
      "   1051.3 ms\u001b[32m  ✓ \u001b[39m\u001b[90mIrrationalConstants\u001b[39m\n",
      "    586.5 ms\u001b[32m  ✓ \u001b[39m\u001b[90mDataAPI\u001b[39m\n",
      "    594.8 ms\u001b[32m  ✓ \u001b[39m\u001b[90mBitFlags\u001b[39m\n",
      "    656.1 ms\u001b[32m  ✓ \u001b[39m\u001b[90mScratch\u001b[39m\n",
      "    934.0 ms\u001b[32m  ✓ \u001b[39m\u001b[90mConcurrentUtilities\u001b[39m\n",
      "    761.9 ms\u001b[32m  ✓ \u001b[39m\u001b[90mLoggingExtras\u001b[39m\n",
      "    818.2 ms\u001b[32m  ✓ \u001b[39m\u001b[90mCompat\u001b[39m\n",
      "    770.6 ms\u001b[32m  ✓ \u001b[39m\u001b[90mDocStringExtensions\u001b[39m\n",
      "    706.6 ms\u001b[32m  ✓ \u001b[39m\u001b[90mExceptionUnwrapping\u001b[39m\n",
      "    705.8 ms\u001b[32m  ✓ \u001b[39m\u001b[90mOpenSSL_jll\u001b[39m\n",
      "    703.0 ms\u001b[32m  ✓ \u001b[39m\u001b[90mLibmount_jll\u001b[39m\n",
      "    716.7 ms\u001b[32m  ✓ \u001b[39m\u001b[90mEpollShim_jll\u001b[39m\n",
      "   1679.3 ms\u001b[32m  ✓ \u001b[39m\u001b[90mUnicodeFun\u001b[39m\n",
      "    827.2 ms\u001b[32m  ✓ \u001b[39m\u001b[90mLLVMOpenMP_jll\u001b[39m\n",
      "    815.8 ms\u001b[32m  ✓ \u001b[39m\u001b[90mXorg_libICE_jll\u001b[39m\n",
      "    753.0 ms\u001b[32m  ✓ \u001b[39m\u001b[90mXorg_libXau_jll\u001b[39m\n",
      "    751.0 ms\u001b[32m  ✓ \u001b[39m\u001b[90mlibpng_jll\u001b[39m\n",
      "   2409.3 ms\u001b[32m  ✓ \u001b[39m\u001b[90mMacroTools\u001b[39m\n",
      "    506.7 ms\u001b[32m  ✓ \u001b[39m\u001b[90mlibfdk_aac_jll\u001b[39m\n",
      "    466.7 ms\u001b[32m  ✓ \u001b[39m\u001b[90mLERC_jll\u001b[39m\n",
      "    536.1 ms\u001b[32m  ✓ \u001b[39m\u001b[90mLAME_jll\u001b[39m\n",
      "    491.4 ms\u001b[32m  ✓ \u001b[39m\u001b[90mfzf_jll\u001b[39m\n",
      "    504.0 ms\u001b[32m  ✓ \u001b[39m\u001b[90mJpegTurbo_jll\u001b[39m\n",
      "    508.3 ms\u001b[32m  ✓ \u001b[39m\u001b[90mXZ_jll\u001b[39m\n",
      "    442.3 ms\u001b[32m  ✓ \u001b[39m\u001b[90mXorg_libXdmcp_jll\u001b[39m\n",
      "    526.9 ms\u001b[32m  ✓ \u001b[39m\u001b[90mlibaom_jll\u001b[39m\n",
      "    549.5 ms\u001b[32m  ✓ \u001b[39m\u001b[90mZstd_jll\u001b[39m\n",
      "    511.5 ms\u001b[32m  ✓ \u001b[39m\u001b[90mExpat_jll\u001b[39m\n",
      "    479.0 ms\u001b[32m  ✓ \u001b[39m\u001b[90mLZO_jll\u001b[39m\n",
      "    502.0 ms\u001b[32m  ✓ \u001b[39m\u001b[90mOpus_jll\u001b[39m\n",
      "    488.8 ms\u001b[32m  ✓ \u001b[39m\u001b[90mXorg_xtrans_jll\u001b[39m\n",
      "    475.7 ms\u001b[32m  ✓ \u001b[39m\u001b[90mLibgpg_error_jll\u001b[39m\n",
      "    522.3 ms\u001b[32m  ✓ \u001b[39m\u001b[90mLibiconv_jll\u001b[39m\n",
      "    461.7 ms\u001b[32m  ✓ \u001b[39m\u001b[90mXorg_libpthread_stubs_jll\u001b[39m\n",
      "    478.7 ms\u001b[32m  ✓ \u001b[39m\u001b[90mLibuuid_jll\u001b[39m\n",
      "    546.7 ms\u001b[32m  ✓ \u001b[39m\u001b[90mFriBidi_jll\u001b[39m\n",
      "    503.5 ms\u001b[32m  ✓ \u001b[39m\u001b[90mGraphite2_jll\u001b[39m\n",
      "    508.1 ms\u001b[32m  ✓ \u001b[39m\u001b[90mBzip2_jll\u001b[39m\n",
      "    525.8 ms\u001b[32m  ✓ \u001b[39m\u001b[90mOgg_jll\u001b[39m\n",
      "    482.6 ms\u001b[32m  ✓ \u001b[39m\u001b[90mmtdev_jll\u001b[39m\n",
      "    486.1 ms\u001b[32m  ✓ \u001b[39m\u001b[90mgperf_jll\u001b[39m\n",
      "   1141.5 ms\u001b[32m  ✓ \u001b[39m\u001b[90mRecipesBase\u001b[39m\n",
      "    516.7 ms\u001b[32m  ✓ \u001b[39m\u001b[90mx265_jll\u001b[39m\n",
      "    460.5 ms\u001b[32m  ✓ \u001b[39m\u001b[90mlibevdev_jll\u001b[39m\n",
      "    500.7 ms\u001b[32m  ✓ \u001b[39m\u001b[90mLibffi_jll\u001b[39m\n",
      "    573.1 ms\u001b[32m  ✓ \u001b[39m\u001b[90mx264_jll\u001b[39m\n",
      "    465.9 ms\u001b[32m  ✓ \u001b[39m\u001b[90mWayland_protocols_jll\u001b[39m\n",
      "    396.9 ms\u001b[32m  ✓ \u001b[39m\u001b[90mShowoff\u001b[39m\n",
      "    614.4 ms\u001b[32m  ✓ \u001b[39m\u001b[90mCodecZlib\u001b[39m\n",
      "    754.8 ms\u001b[32m  ✓ \u001b[39m\u001b[90mMissings\u001b[39m\n",
      "    928.3 ms\u001b[32m  ✓ \u001b[39m\u001b[90mRelocatableFolders\u001b[39m\n",
      "   1031.1 ms\u001b[32m  ✓ \u001b[39m\u001b[90mCompat → CompatLinearAlgebraExt\u001b[39m\n",
      "   1393.0 ms\u001b[32m  ✓ \u001b[39m\u001b[90mStatistics → SparseArraysExt\u001b[39m\n",
      "    380.4 ms\u001b[32m  ✓ \u001b[39m\u001b[90mXorg_libSM_jll\u001b[39m\n",
      "   1973.7 ms\u001b[32m  ✓ \u001b[39m\u001b[90mLogExpFunctions\u001b[39m\n",
      "    361.3 ms\u001b[32m  ✓ \u001b[39m\u001b[90mDbus_jll\u001b[39m\n",
      "   2255.4 ms\u001b[32m  ✓ \u001b[39m\u001b[90mPixman_jll\u001b[39m\n",
      "   2397.7 ms\u001b[32m  ✓ \u001b[39m\u001b[90mJLFzf\u001b[39m\n",
      "   2420.8 ms\u001b[32m  ✓ \u001b[39m\u001b[90mLibgcrypt_jll\u001b[39m\n",
      "   5080.9 ms\u001b[32m  ✓ \u001b[39m\u001b[90mOpenSSL\u001b[39m\n",
      "   2306.1 ms\u001b[32m  ✓ \u001b[39m\u001b[90mFreeType2_jll\u001b[39m\n",
      "    395.8 ms\u001b[32m  ✓ \u001b[39m\u001b[90meudev_jll\u001b[39m\n",
      "   3530.8 ms\u001b[32m  ✓ \u001b[39m\u001b[90mXML2_jll\u001b[39m\n",
      "   5635.2 ms\u001b[32m  ✓ \u001b[39m\u001b[90mLatexify\u001b[39m\n",
      "  11858.4 ms\u001b[32m  ✓ \u001b[39m\u001b[90mUnitful\u001b[39m\n",
      "   1851.6 ms\u001b[32m  ✓ \u001b[39m\u001b[90mlibvorbis_jll\u001b[39m\n",
      "    451.5 ms\u001b[32m  ✓ \u001b[39m\u001b[90mlibinput_jll\u001b[39m\n",
      "   1405.6 ms\u001b[32m  ✓ \u001b[39m\u001b[90mDataStructures\u001b[39m\n",
      "   1518.7 ms\u001b[32m  ✓ \u001b[39m\u001b[90mFixedPointNumbers\u001b[39m\n",
      "    400.6 ms\u001b[32m  ✓ \u001b[39m\u001b[90mWayland_jll\u001b[39m\n",
      "   1366.6 ms\u001b[32m  ✓ \u001b[39m\u001b[90mLatexify → SparseArraysExt\u001b[39m\n",
      "   1585.6 ms\u001b[32m  ✓ \u001b[39m\u001b[90mSortingAlgorithms\u001b[39m\n",
      "   8082.9 ms\u001b[32m  ✓ \u001b[39m\u001b[90mLibtiff_jll\u001b[39m\n",
      "   2714.3 ms\u001b[32m  ✓ \u001b[39m\u001b[90mGettext_jll\u001b[39m\n",
      "   2735.8 ms\u001b[32m  ✓ \u001b[39m\u001b[90mXSLT_jll\u001b[39m\n",
      "    414.4 ms\u001b[32m  ✓ \u001b[39m\u001b[90mXorg_libxcb_jll\u001b[39m\n",
      "    369.1 ms\u001b[32m  ✓ \u001b[39m\u001b[90mXorg_xcb_util_jll\u001b[39m\n",
      "   2208.2 ms\u001b[32m  ✓ \u001b[39m\u001b[90mColorTypes\u001b[39m\n",
      "    388.2 ms\u001b[32m  ✓ \u001b[39m\u001b[90mXorg_libX11_jll\u001b[39m\n",
      "   2239.2 ms\u001b[32m  ✓ \u001b[39m\u001b[90mUnitfulLatexify\u001b[39m\n",
      "    413.5 ms\u001b[32m  ✓ \u001b[39m\u001b[90mXorg_xcb_util_image_jll\u001b[39m\n",
      "    505.4 ms\u001b[32m  ✓ \u001b[39m\u001b[90mXorg_xcb_util_keysyms_jll\u001b[39m\n",
      "    554.3 ms\u001b[32m  ✓ \u001b[39m\u001b[90mXorg_xcb_util_renderutil_jll\u001b[39m\n",
      "    603.4 ms\u001b[32m  ✓ \u001b[39m\u001b[90mXorg_xcb_util_wm_jll\u001b[39m\n",
      "   5415.0 ms\u001b[32m  ✓ \u001b[39m\u001b[90mFontconfig_jll\u001b[39m\n",
      "    643.5 ms\u001b[32m  ✓ \u001b[39m\u001b[90mXorg_libXrender_jll\u001b[39m\n",
      "    554.6 ms\u001b[32m  ✓ \u001b[39m\u001b[90mXorg_libXfixes_jll\u001b[39m\n",
      "    559.6 ms\u001b[32m  ✓ \u001b[39m\u001b[90mXorg_libXext_jll\u001b[39m\n",
      "    528.1 ms\u001b[32m  ✓ \u001b[39m\u001b[90mXorg_libxkbfile_jll\u001b[39m\n",
      "   1347.5 ms\u001b[32m  ✓ \u001b[39m\u001b[90mColorTypes → StyledStringsExt\u001b[39m\n",
      "    484.1 ms\u001b[32m  ✓ \u001b[39m\u001b[90mXorg_libXcursor_jll\u001b[39m\n",
      "    507.0 ms\u001b[32m  ✓ \u001b[39m\u001b[90mXorg_xcb_util_cursor_jll\u001b[39m\n",
      "    598.8 ms\u001b[32m  ✓ \u001b[39m\u001b[90mXorg_libXi_jll\u001b[39m\n",
      "    598.3 ms\u001b[32m  ✓ \u001b[39m\u001b[90mXorg_libXinerama_jll\u001b[39m\n",
      "    601.3 ms\u001b[32m  ✓ \u001b[39m\u001b[90mLibglvnd_jll\u001b[39m\n",
      "    633.3 ms\u001b[32m  ✓ \u001b[39m\u001b[90mXorg_libXrandr_jll\u001b[39m\n",
      "    429.4 ms\u001b[32m  ✓ \u001b[39m\u001b[90mXorg_xkbcomp_jll\u001b[39m\n",
      "   7816.2 ms\u001b[32m  ✓ \u001b[39m\u001b[90mHTTP\u001b[39m\n",
      "   4817.4 ms\u001b[32m  ✓ \u001b[39m\u001b[90mGlib_jll\u001b[39m\n",
      "    953.1 ms\u001b[32m  ✓ \u001b[39m\u001b[90mXorg_xkeyboard_config_jll\u001b[39m\n",
      "    402.3 ms\u001b[32m  ✓ \u001b[39m\u001b[90mxkbcommon_jll\u001b[39m\n",
      "   6307.7 ms\u001b[32m  ✓ \u001b[39m\u001b[90mStatsBase\u001b[39m\n",
      "   2037.2 ms\u001b[32m  ✓ \u001b[39m\u001b[90mColorVectorSpace\u001b[39m\n",
      "    440.8 ms\u001b[32m  ✓ \u001b[39m\u001b[90mVulkan_Loader_jll\u001b[39m\n",
      "   2709.6 ms\u001b[32m  ✓ \u001b[39m\u001b[90mColors\u001b[39m\n",
      "   4929.7 ms\u001b[32m  ✓ \u001b[39m\u001b[90mCairo_jll\u001b[39m\n",
      "   3456.4 ms\u001b[32m  ✓ \u001b[39m\u001b[90mColorSchemes\u001b[39m\n",
      "   6372.0 ms\u001b[32m  ✓ \u001b[39m\u001b[90mQt6Base_jll\u001b[39m\n",
      "   3096.8 ms\u001b[32m  ✓ \u001b[39m\u001b[90mHarfBuzz_jll\u001b[39m\n",
      "   3043.2 ms\u001b[32m  ✓ \u001b[39m\u001b[90mlibass_jll\u001b[39m\n",
      "   3079.1 ms\u001b[32m  ✓ \u001b[39m\u001b[90mPango_jll\u001b[39m\n",
      "    491.6 ms\u001b[32m  ✓ \u001b[39m\u001b[90mlibdecor_jll\u001b[39m\n",
      "   6130.8 ms\u001b[32m  ✓ \u001b[39m\u001b[90mPlotUtils\u001b[39m\n",
      "    425.6 ms\u001b[32m  ✓ \u001b[39m\u001b[90mGLFW_jll\u001b[39m\n",
      "   5800.6 ms\u001b[32m  ✓ \u001b[39m\u001b[90mQt6ShaderTools_jll\u001b[39m\n",
      "   2394.1 ms\u001b[32m  ✓ \u001b[39m\u001b[90mPlotThemes\u001b[39m\n",
      "   3539.5 ms\u001b[32m  ✓ \u001b[39m\u001b[90mRecipesPipeline\u001b[39m\n",
      "   1662.2 ms\u001b[32m  ✓ \u001b[39m\u001b[90mQt6Declarative_jll\u001b[39m\n",
      "    393.3 ms\u001b[32m  ✓ \u001b[39m\u001b[90mQt6Wayland_jll\u001b[39m\n",
      "   6436.0 ms\u001b[32m  ✓ \u001b[39m\u001b[90mFFMPEG_jll\u001b[39m\n",
      "   2750.0 ms\u001b[32m  ✓ \u001b[39m\u001b[90mFFMPEG\u001b[39m\n",
      "   3661.1 ms\u001b[32m  ✓ \u001b[39m\u001b[90mGR_jll\u001b[39m\n",
      "   2267.5 ms\u001b[32m  ✓ \u001b[39m\u001b[90mGR\u001b[39m\n",
      "  35952.6 ms\u001b[32m  ✓ \u001b[39mPlots\n",
      "   2884.0 ms\u001b[32m  ✓ \u001b[39mPlots → IJuliaExt\n",
      "   3028.5 ms\u001b[32m  ✓ \u001b[39mPlots → UnitfulExt\n",
      "  145 dependencies successfully precompiled in 85 seconds. 48 already precompiled.\n"
     ]
    },
    {
     "data": {
      "text/plain": [
       "Plots.GRBackend()"
      ]
     },
     "execution_count": 31,
     "metadata": {},
     "output_type": "execute_result"
    }
   ],
   "source": [
    "#These lines give Julia the ability to plot functions.  This may take a while, but it is necessary.\n",
    "# When you see [*], that means Julia is working hard to do what you told it. Your commands may take just a few \n",
    "# lines, but Julia is probably dealing with multiple megabytes of files and code, all of which is hidden from us. \n",
    "\n",
    "import Pkg\n",
    "Pkg.add(\"Plots\")\n",
    "using Plots\n",
    "\n",
    "gr()"
   ]
  },
  {
   "cell_type": "code",
   "execution_count": 33,
   "metadata": {},
   "outputs": [
    {
     "data": {
      "image/png": "[encoded data removed]",
      "image/svg+xml": [
       "<?xml version=\"1.0\" encoding=\"utf-8\"?>\n",
       "<svg xmlns=\"http://www.w3.org/2000/svg\" xmlns:xlink=\"http://www.w3.org/1999/xlink\" width=\"600\" height=\"400\" viewBox=\"0 0 2400 1600\">\n",
       "<defs>\n",
       "  <clipPath id=\"clip400\">\n",
       "    <rect x=\"0\" y=\"0\" width=\"2400\" height=\"1600\"/>\n",
       "  </clipPath>\n",
       "</defs>\n",
       "<path clip-path=\"url(#clip400)\" d=\"M0 1600 L2400 1600 L2400 8.88178e-14 L0 8.88178e-14  Z\" fill=\"#ffffff\" fill-rule=\"evenodd\" fill-opacity=\"1\"/>\n",
       "<defs>\n",
       "  <clipPath id=\"clip401\">\n",
       "    <rect x=\"480\" y=\"0\" width=\"1681\" height=\"1600\"/>\n",
       "  </clipPath>\n",
       "</defs>\n",
       "<path clip-path=\"url(#clip400)\" d=\"M178.867 1486.45 L2352.76 1486.45 L2352.76 47.2441 L178.867 47.2441  Z\" fill=\"#ffffff\" fill-rule=\"evenodd\" fill-opacity=\"1\"/>\n",
       "<defs>\n",
       "  <clipPath id=\"clip402\">\n",
       "    <rect x=\"178\" y=\"47\" width=\"2175\" height=\"1440\"/>\n",
       "  </clipPath>\n",
       "</defs>\n",
       "<polyline clip-path=\"url(#clip402)\" style=\"stroke:#000000; stroke-linecap:round; stroke-linejoin:round; stroke-width:2; stroke-opacity:0.1; fill:none\" points=\"445.476,1486.45 445.476,47.2441 \"/>\n",
       "<polyline clip-path=\"url(#clip402)\" style=\"stroke:#000000; stroke-linecap:round; stroke-linejoin:round; stroke-width:2; stroke-opacity:0.1; fill:none\" points=\"855.643,1486.45 855.643,47.2441 \"/>\n",
       "<polyline clip-path=\"url(#clip402)\" style=\"stroke:#000000; stroke-linecap:round; stroke-linejoin:round; stroke-width:2; stroke-opacity:0.1; fill:none\" points=\"1265.81,1486.45 1265.81,47.2441 \"/>\n",
       "<polyline clip-path=\"url(#clip402)\" style=\"stroke:#000000; stroke-linecap:round; stroke-linejoin:round; stroke-width:2; stroke-opacity:0.1; fill:none\" points=\"1675.98,1486.45 1675.98,47.2441 \"/>\n",
       "<polyline clip-path=\"url(#clip402)\" style=\"stroke:#000000; stroke-linecap:round; stroke-linejoin:round; stroke-width:2; stroke-opacity:0.1; fill:none\" points=\"2086.15,1486.45 2086.15,47.2441 \"/>\n",
       "<polyline clip-path=\"url(#clip402)\" style=\"stroke:#000000; stroke-linecap:round; stroke-linejoin:round; stroke-width:2; stroke-opacity:0.1; fill:none\" points=\"178.867,1364.25 2352.76,1364.25 \"/>\n",
       "<polyline clip-path=\"url(#clip402)\" style=\"stroke:#000000; stroke-linecap:round; stroke-linejoin:round; stroke-width:2; stroke-opacity:0.1; fill:none\" points=\"178.867,1092.7 2352.76,1092.7 \"/>\n",
       "<polyline clip-path=\"url(#clip402)\" style=\"stroke:#000000; stroke-linecap:round; stroke-linejoin:round; stroke-width:2; stroke-opacity:0.1; fill:none\" points=\"178.867,821.156 2352.76,821.156 \"/>\n",
       "<polyline clip-path=\"url(#clip402)\" style=\"stroke:#000000; stroke-linecap:round; stroke-linejoin:round; stroke-width:2; stroke-opacity:0.1; fill:none\" points=\"178.867,549.608 2352.76,549.608 \"/>\n",
       "<polyline clip-path=\"url(#clip402)\" style=\"stroke:#000000; stroke-linecap:round; stroke-linejoin:round; stroke-width:2; stroke-opacity:0.1; fill:none\" points=\"178.867,278.06 2352.76,278.06 \"/>\n",
       "<polyline clip-path=\"url(#clip400)\" style=\"stroke:#000000; stroke-linecap:round; stroke-linejoin:round; stroke-width:4; stroke-opacity:1; fill:none\" points=\"178.867,1486.45 2352.76,1486.45 \"/>\n",
       "<polyline clip-path=\"url(#clip400)\" style=\"stroke:#000000; stroke-linecap:round; stroke-linejoin:round; stroke-width:4; stroke-opacity:1; fill:none\" points=\"445.476,1486.45 445.476,1467.55 \"/>\n",
       "<polyline clip-path=\"url(#clip400)\" style=\"stroke:#000000; stroke-linecap:round; stroke-linejoin:round; stroke-width:4; stroke-opacity:1; fill:none\" points=\"855.643,1486.45 855.643,1467.55 \"/>\n",
       "<polyline clip-path=\"url(#clip400)\" style=\"stroke:#000000; stroke-linecap:round; stroke-linejoin:round; stroke-width:4; stroke-opacity:1; fill:none\" points=\"1265.81,1486.45 1265.81,1467.55 \"/>\n",
       "<polyline clip-path=\"url(#clip400)\" style=\"stroke:#000000; stroke-linecap:round; stroke-linejoin:round; stroke-width:4; stroke-opacity:1; fill:none\" points=\"1675.98,1486.45 1675.98,1467.55 \"/>\n",
       "<polyline clip-path=\"url(#clip400)\" style=\"stroke:#000000; stroke-linecap:round; stroke-linejoin:round; stroke-width:4; stroke-opacity:1; fill:none\" points=\"2086.15,1486.45 2086.15,1467.55 \"/>\n",
       "<path clip-path=\"url(#clip400)\" d=\"M414.376 1532.02 L444.052 1532.02 L444.052 1535.95 L414.376 1535.95 L414.376 1532.02 Z\" fill=\"#000000\" fill-rule=\"nonzero\" fill-opacity=\"1\" /><path clip-path=\"url(#clip400)\" d=\"M466.992 1518.36 L455.186 1536.81 L466.992 1536.81 L466.992 1518.36 M465.765 1514.29 L471.645 1514.29 L471.645 1536.81 L476.575 1536.81 L476.575 1540.7 L471.645 1540.7 L471.645 1548.85 L466.992 1548.85 L466.992 1540.7 L451.39 1540.7 L451.39 1536.19 L465.765 1514.29 Z\" fill=\"#000000\" fill-rule=\"nonzero\" fill-opacity=\"1\" /><path clip-path=\"url(#clip400)\" d=\"M825.586 1532.02 L855.262 1532.02 L855.262 1535.95 L825.586 1535.95 L825.586 1532.02 Z\" fill=\"#000000\" fill-rule=\"nonzero\" fill-opacity=\"1\" /><path clip-path=\"url(#clip400)\" d=\"M869.382 1544.91 L885.701 1544.91 L885.701 1548.85 L863.757 1548.85 L863.757 1544.91 Q866.419 1542.16 871.002 1537.53 Q875.609 1532.88 876.789 1531.53 Q879.035 1529.01 879.914 1527.27 Q880.817 1525.51 880.817 1523.82 Q880.817 1521.07 878.873 1519.33 Q876.951 1517.6 873.849 1517.6 Q871.65 1517.6 869.197 1518.36 Q866.766 1519.13 863.988 1520.68 L863.988 1515.95 Q866.812 1514.82 869.266 1514.24 Q871.72 1513.66 873.757 1513.66 Q879.127 1513.66 882.322 1516.35 Q885.516 1519.03 885.516 1523.52 Q885.516 1525.65 884.706 1527.57 Q883.919 1529.47 881.812 1532.07 Q881.234 1532.74 878.132 1535.95 Q875.03 1539.15 869.382 1544.91 Z\" fill=\"#000000\" fill-rule=\"nonzero\" fill-opacity=\"1\" /><path clip-path=\"url(#clip400)\" d=\"M1265.81 1517.37 Q1262.2 1517.37 1260.37 1520.93 Q1258.57 1524.47 1258.57 1531.6 Q1258.57 1538.71 1260.37 1542.27 Q1262.2 1545.82 1265.81 1545.82 Q1269.45 1545.82 1271.25 1542.27 Q1273.08 1538.71 1273.08 1531.6 Q1273.08 1524.47 1271.25 1520.93 Q1269.45 1517.37 1265.81 1517.37 M1265.81 1513.66 Q1271.62 1513.66 1274.68 1518.27 Q1277.76 1522.85 1277.76 1531.6 Q1277.76 1540.33 1274.68 1544.94 Q1271.62 1549.52 1265.81 1549.52 Q1260 1549.52 1256.92 1544.94 Q1253.87 1540.33 1253.87 1531.6 Q1253.87 1522.85 1256.92 1518.27 Q1260 1513.66 1265.81 1513.66 Z\" fill=\"#000000\" fill-rule=\"nonzero\" fill-opacity=\"1\" /><path clip-path=\"url(#clip400)\" d=\"M1670.63 1544.91 L1686.95 1544.91 L1686.95 1548.85 L1665.01 1548.85 L1665.01 1544.91 Q1667.67 1542.16 1672.25 1537.53 Q1676.86 1532.88 1678.04 1531.53 Q1680.28 1529.01 1681.16 1527.27 Q1682.07 1525.51 1682.07 1523.82 Q1682.07 1521.07 1680.12 1519.33 Q1678.2 1517.6 1675.1 1517.6 Q1672.9 1517.6 1670.45 1518.36 Q1668.02 1519.13 1665.24 1520.68 L1665.24 1515.95 Q1668.06 1514.82 1670.52 1514.24 Q1672.97 1513.66 1675.01 1513.66 Q1680.38 1513.66 1683.57 1516.35 Q1686.77 1519.03 1686.77 1523.52 Q1686.77 1525.65 1685.96 1527.57 Q1685.17 1529.47 1683.06 1532.07 Q1682.48 1532.74 1679.38 1535.95 Q1676.28 1539.15 1670.63 1544.91 Z\" fill=\"#000000\" fill-rule=\"nonzero\" fill-opacity=\"1\" /><path clip-path=\"url(#clip400)\" d=\"M2089.16 1518.36 L2077.35 1536.81 L2089.16 1536.81 L2089.16 1518.36 M2087.93 1514.29 L2093.81 1514.29 L2093.81 1536.81 L2098.74 1536.81 L2098.74 1540.7 L2093.81 1540.7 L2093.81 1548.85 L2089.16 1548.85 L2089.16 1540.7 L2073.55 1540.7 L2073.55 1536.19 L2087.93 1514.29 Z\" fill=\"#000000\" fill-rule=\"nonzero\" fill-opacity=\"1\" /><polyline clip-path=\"url(#clip400)\" style=\"stroke:#000000; stroke-linecap:round; stroke-linejoin:round; stroke-width:4; stroke-opacity:1; fill:none\" points=\"178.867,1486.45 178.867,47.2441 \"/>\n",
       "<polyline clip-path=\"url(#clip400)\" style=\"stroke:#000000; stroke-linecap:round; stroke-linejoin:round; stroke-width:4; stroke-opacity:1; fill:none\" points=\"178.867,1364.25 197.764,1364.25 \"/>\n",
       "<polyline clip-path=\"url(#clip400)\" style=\"stroke:#000000; stroke-linecap:round; stroke-linejoin:round; stroke-width:4; stroke-opacity:1; fill:none\" points=\"178.867,1092.7 197.764,1092.7 \"/>\n",
       "<polyline clip-path=\"url(#clip400)\" style=\"stroke:#000000; stroke-linecap:round; stroke-linejoin:round; stroke-width:4; stroke-opacity:1; fill:none\" points=\"178.867,821.156 197.764,821.156 \"/>\n",
       "<polyline clip-path=\"url(#clip400)\" style=\"stroke:#000000; stroke-linecap:round; stroke-linejoin:round; stroke-width:4; stroke-opacity:1; fill:none\" points=\"178.867,549.608 197.764,549.608 \"/>\n",
       "<polyline clip-path=\"url(#clip400)\" style=\"stroke:#000000; stroke-linecap:round; stroke-linejoin:round; stroke-width:4; stroke-opacity:1; fill:none\" points=\"178.867,278.06 197.764,278.06 \"/>\n",
       "<path clip-path=\"url(#clip400)\" d=\"M50.9921 1364.7 L80.6679 1364.7 L80.6679 1368.64 L50.9921 1368.64 L50.9921 1364.7 Z\" fill=\"#000000\" fill-rule=\"nonzero\" fill-opacity=\"1\" /><path clip-path=\"url(#clip400)\" d=\"M94.7882 1377.6 L111.108 1377.6 L111.108 1381.53 L89.1632 1381.53 L89.1632 1377.6 Q91.8252 1374.84 96.4085 1370.21 Q101.015 1365.56 102.196 1364.22 Q104.441 1361.69 105.321 1359.96 Q106.223 1358.2 106.223 1356.51 Q106.223 1353.75 104.279 1352.02 Q102.358 1350.28 99.2558 1350.28 Q97.0567 1350.28 94.603 1351.05 Q92.1725 1351.81 89.3947 1353.36 L89.3947 1348.64 Q92.2188 1347.5 94.6724 1346.93 Q97.1261 1346.35 99.1632 1346.35 Q104.534 1346.35 107.728 1349.03 Q110.922 1351.72 110.922 1356.21 Q110.922 1358.34 110.112 1360.26 Q109.325 1362.16 107.219 1364.75 Q106.64 1365.42 103.538 1368.64 Q100.436 1371.83 94.7882 1377.6 Z\" fill=\"#000000\" fill-rule=\"nonzero\" fill-opacity=\"1\" /><path clip-path=\"url(#clip400)\" d=\"M130.922 1350.05 Q127.311 1350.05 125.482 1353.61 Q123.677 1357.16 123.677 1364.29 Q123.677 1371.39 125.482 1374.96 Q127.311 1378.5 130.922 1378.5 Q134.556 1378.5 136.362 1374.96 Q138.191 1371.39 138.191 1364.29 Q138.191 1357.16 136.362 1353.61 Q134.556 1350.05 130.922 1350.05 M130.922 1346.35 Q136.732 1346.35 139.788 1350.95 Q142.867 1355.54 142.867 1364.29 Q142.867 1373.01 139.788 1377.62 Q136.732 1382.2 130.922 1382.2 Q125.112 1382.2 122.033 1377.62 Q118.978 1373.01 118.978 1364.29 Q118.978 1355.54 122.033 1350.95 Q125.112 1346.35 130.922 1346.35 Z\" fill=\"#000000\" fill-rule=\"nonzero\" fill-opacity=\"1\" /><path clip-path=\"url(#clip400)\" d=\"M50.9921 1093.15 L80.6679 1093.15 L80.6679 1097.09 L50.9921 1097.09 L50.9921 1093.15 Z\" fill=\"#000000\" fill-rule=\"nonzero\" fill-opacity=\"1\" /><path clip-path=\"url(#clip400)\" d=\"M91.5706 1106.05 L99.2095 1106.05 L99.2095 1079.68 L90.8993 1081.35 L90.8993 1077.09 L99.1632 1075.42 L103.839 1075.42 L103.839 1106.05 L111.478 1106.05 L111.478 1109.98 L91.5706 1109.98 L91.5706 1106.05 Z\" fill=\"#000000\" fill-rule=\"nonzero\" fill-opacity=\"1\" /><path clip-path=\"url(#clip400)\" d=\"M130.922 1078.5 Q127.311 1078.5 125.482 1082.07 Q123.677 1085.61 123.677 1092.74 Q123.677 1099.84 125.482 1103.41 Q127.311 1106.95 130.922 1106.95 Q134.556 1106.95 136.362 1103.41 Q138.191 1099.84 138.191 1092.74 Q138.191 1085.61 136.362 1082.07 Q134.556 1078.5 130.922 1078.5 M130.922 1074.8 Q136.732 1074.8 139.788 1079.4 Q142.867 1083.99 142.867 1092.74 Q142.867 1101.46 139.788 1106.07 Q136.732 1110.65 130.922 1110.65 Q125.112 1110.65 122.033 1106.07 Q118.978 1101.46 118.978 1092.74 Q118.978 1083.99 122.033 1079.4 Q125.112 1074.8 130.922 1074.8 Z\" fill=\"#000000\" fill-rule=\"nonzero\" fill-opacity=\"1\" /><path clip-path=\"url(#clip400)\" d=\"M130.922 806.954 Q127.311 806.954 125.482 810.519 Q123.677 814.061 123.677 821.19 Q123.677 828.297 125.482 831.862 Q127.311 835.403 130.922 835.403 Q134.556 835.403 136.362 831.862 Q138.191 828.297 138.191 821.19 Q138.191 814.061 136.362 810.519 Q134.556 806.954 130.922 806.954 M130.922 803.251 Q136.732 803.251 139.788 807.857 Q142.867 812.44 142.867 821.19 Q142.867 829.917 139.788 834.524 Q136.732 839.107 130.922 839.107 Q125.112 839.107 122.033 834.524 Q118.978 829.917 118.978 821.19 Q118.978 812.44 122.033 807.857 Q125.112 803.251 130.922 803.251 Z\" fill=\"#000000\" fill-rule=\"nonzero\" fill-opacity=\"1\" /><path clip-path=\"url(#clip400)\" d=\"M91.5706 562.953 L99.2095 562.953 L99.2095 536.587 L90.8993 538.254 L90.8993 533.994 L99.1632 532.328 L103.839 532.328 L103.839 562.953 L111.478 562.953 L111.478 566.888 L91.5706 566.888 L91.5706 562.953 Z\" fill=\"#000000\" fill-rule=\"nonzero\" fill-opacity=\"1\" /><path clip-path=\"url(#clip400)\" d=\"M130.922 535.406 Q127.311 535.406 125.482 538.971 Q123.677 542.513 123.677 549.642 Q123.677 556.749 125.482 560.314 Q127.311 563.855 130.922 563.855 Q134.556 563.855 136.362 560.314 Q138.191 556.749 138.191 549.642 Q138.191 542.513 136.362 538.971 Q134.556 535.406 130.922 535.406 M130.922 531.703 Q136.732 531.703 139.788 536.309 Q142.867 540.892 142.867 549.642 Q142.867 558.369 139.788 562.976 Q136.732 567.559 130.922 567.559 Q125.112 567.559 122.033 562.976 Q118.978 558.369 118.978 549.642 Q118.978 540.892 122.033 536.309 Q125.112 531.703 130.922 531.703 Z\" fill=\"#000000\" fill-rule=\"nonzero\" fill-opacity=\"1\" /><path clip-path=\"url(#clip400)\" d=\"M94.7882 291.405 L111.108 291.405 L111.108 295.34 L89.1632 295.34 L89.1632 291.405 Q91.8252 288.65 96.4085 284.02 Q101.015 279.368 102.196 278.025 Q104.441 275.502 105.321 273.766 Q106.223 272.007 106.223 270.317 Q106.223 267.562 104.279 265.826 Q102.358 264.09 99.2558 264.09 Q97.0567 264.09 94.603 264.854 Q92.1725 265.618 89.3947 267.169 L89.3947 262.446 Q92.2188 261.312 94.6724 260.733 Q97.1261 260.155 99.1632 260.155 Q104.534 260.155 107.728 262.84 Q110.922 265.525 110.922 270.016 Q110.922 272.145 110.112 274.067 Q109.325 275.965 107.219 278.557 Q106.64 279.229 103.538 282.446 Q100.436 285.641 94.7882 291.405 Z\" fill=\"#000000\" fill-rule=\"nonzero\" fill-opacity=\"1\" /><path clip-path=\"url(#clip400)\" d=\"M130.922 263.858 Q127.311 263.858 125.482 267.423 Q123.677 270.965 123.677 278.095 Q123.677 285.201 125.482 288.766 Q127.311 292.307 130.922 292.307 Q134.556 292.307 136.362 288.766 Q138.191 285.201 138.191 278.095 Q138.191 270.965 136.362 267.423 Q134.556 263.858 130.922 263.858 M130.922 260.155 Q136.732 260.155 139.788 264.761 Q142.867 269.345 142.867 278.095 Q142.867 286.821 139.788 291.428 Q136.732 296.011 130.922 296.011 Q125.112 296.011 122.033 291.428 Q118.978 286.821 118.978 278.095 Q118.978 269.345 122.033 264.761 Q125.112 260.155 130.922 260.155 Z\" fill=\"#000000\" fill-rule=\"nonzero\" fill-opacity=\"1\" /><polyline clip-path=\"url(#clip402)\" style=\"stroke:#009af9; stroke-linecap:round; stroke-linejoin:round; stroke-width:4; stroke-opacity:1; fill:none\" points=\"240.392,1445.72 261.564,1431.7 385.568,1349.6 443.255,1311.41 520.576,1260.22 584.468,1217.92 643.881,1178.59 718.464,1129.21 785.366,1084.92 861.944,1034.22 919.186,996.326 992.4,947.856 1059.22,903.617 1135.27,853.267 1195.56,813.354 1270.46,763.766 1327.82,725.791 1408.7,672.25 1469.13,632.24 1537.86,586.74 1605.92,541.68 1680.8,492.105 1738,454.238 1810.18,406.453 1876.93,362.257 1945.78,316.677 2015.57,270.476 2088.44,222.234 2145.84,184.231 2276.56,97.6863 2291.23,87.9763 \"/>\n",
       "<path clip-path=\"url(#clip400)\" d=\"M251.33 198.898 L521.149 198.898 L521.149 95.2176 L251.33 95.2176  Z\" fill=\"#ffffff\" fill-rule=\"evenodd\" fill-opacity=\"1\"/>\n",
       "<polyline clip-path=\"url(#clip400)\" style=\"stroke:#000000; stroke-linecap:round; stroke-linejoin:round; stroke-width:4; stroke-opacity:1; fill:none\" points=\"251.33,198.898 521.149,198.898 521.149,95.2176 251.33,95.2176 251.33,198.898 \"/>\n",
       "<polyline clip-path=\"url(#clip400)\" style=\"stroke:#009af9; stroke-linecap:round; stroke-linejoin:round; stroke-width:4; stroke-opacity:1; fill:none\" points=\"275.484,147.058 420.41,147.058 \"/>\n",
       "<path clip-path=\"url(#clip400)\" d=\"M458.407 166.745 Q456.601 171.375 454.888 172.787 Q453.175 174.199 450.305 174.199 L446.902 174.199 L446.902 170.634 L449.402 170.634 Q451.161 170.634 452.134 169.8 Q453.106 168.967 454.286 165.865 L455.05 163.921 L444.564 138.412 L449.078 138.412 L457.18 158.689 L465.282 138.412 L469.796 138.412 L458.407 166.745 Z\" fill=\"#000000\" fill-rule=\"nonzero\" fill-opacity=\"1\" /><path clip-path=\"url(#clip400)\" d=\"M477.087 160.402 L484.726 160.402 L484.726 134.037 L476.416 135.703 L476.416 131.444 L484.68 129.778 L489.356 129.778 L489.356 160.402 L496.994 160.402 L496.994 164.338 L477.087 164.338 L477.087 160.402 Z\" fill=\"#000000\" fill-rule=\"nonzero\" fill-opacity=\"1\" /></svg>\n"
      ],
      "text/html": [
       "<?xml version=\"1.0\" encoding=\"utf-8\"?>\n",
       "<svg xmlns=\"http://www.w3.org/2000/svg\" xmlns:xlink=\"http://www.w3.org/1999/xlink\" width=\"600\" height=\"400\" viewBox=\"0 0 2400 1600\">\n",
       "<defs>\n",
       "  <clipPath id=\"clip450\">\n",
       "    <rect x=\"0\" y=\"0\" width=\"2400\" height=\"1600\"/>\n",
       "  </clipPath>\n",
       "</defs>\n",
       "<path clip-path=\"url(#clip450)\" d=\"M0 1600 L2400 1600 L2400 8.88178e-14 L0 8.88178e-14  Z\" fill=\"#ffffff\" fill-rule=\"evenodd\" fill-opacity=\"1\"/>\n",
       "<defs>\n",
       "  <clipPath id=\"clip451\">\n",
       "    <rect x=\"480\" y=\"0\" width=\"1681\" height=\"1600\"/>\n",
       "  </clipPath>\n",
       "</defs>\n",
       "<path clip-path=\"url(#clip450)\" d=\"M178.867 1486.45 L2352.76 1486.45 L2352.76 47.2441 L178.867 47.2441  Z\" fill=\"#ffffff\" fill-rule=\"evenodd\" fill-opacity=\"1\"/>\n",
       "<defs>\n",
       "  <clipPath id=\"clip452\">\n",
       "    <rect x=\"178\" y=\"47\" width=\"2175\" height=\"1440\"/>\n",
       "  </clipPath>\n",
       "</defs>\n",
       "<polyline clip-path=\"url(#clip452)\" style=\"stroke:#000000; stroke-linecap:round; stroke-linejoin:round; stroke-width:2; stroke-opacity:0.1; fill:none\" points=\"445.476,1486.45 445.476,47.2441 \"/>\n",
       "<polyline clip-path=\"url(#clip452)\" style=\"stroke:#000000; stroke-linecap:round; stroke-linejoin:round; stroke-width:2; stroke-opacity:0.1; fill:none\" points=\"855.643,1486.45 855.643,47.2441 \"/>\n",
       "<polyline clip-path=\"url(#clip452)\" style=\"stroke:#000000; stroke-linecap:round; stroke-linejoin:round; stroke-width:2; stroke-opacity:0.1; fill:none\" points=\"1265.81,1486.45 1265.81,47.2441 \"/>\n",
       "<polyline clip-path=\"url(#clip452)\" style=\"stroke:#000000; stroke-linecap:round; stroke-linejoin:round; stroke-width:2; stroke-opacity:0.1; fill:none\" points=\"1675.98,1486.45 1675.98,47.2441 \"/>\n",
       "<polyline clip-path=\"url(#clip452)\" style=\"stroke:#000000; stroke-linecap:round; stroke-linejoin:round; stroke-width:2; stroke-opacity:0.1; fill:none\" points=\"2086.15,1486.45 2086.15,47.2441 \"/>\n",
       "<polyline clip-path=\"url(#clip452)\" style=\"stroke:#000000; stroke-linecap:round; stroke-linejoin:round; stroke-width:2; stroke-opacity:0.1; fill:none\" points=\"178.867,1364.25 2352.76,1364.25 \"/>\n",
       "<polyline clip-path=\"url(#clip452)\" style=\"stroke:#000000; stroke-linecap:round; stroke-linejoin:round; stroke-width:2; stroke-opacity:0.1; fill:none\" points=\"178.867,1092.7 2352.76,1092.7 \"/>\n",
       "<polyline clip-path=\"url(#clip452)\" style=\"stroke:#000000; stroke-linecap:round; stroke-linejoin:round; stroke-width:2; stroke-opacity:0.1; fill:none\" points=\"178.867,821.156 2352.76,821.156 \"/>\n",
       "<polyline clip-path=\"url(#clip452)\" style=\"stroke:#000000; stroke-linecap:round; stroke-linejoin:round; stroke-width:2; stroke-opacity:0.1; fill:none\" points=\"178.867,549.608 2352.76,549.608 \"/>\n",
       "<polyline clip-path=\"url(#clip452)\" style=\"stroke:#000000; stroke-linecap:round; stroke-linejoin:round; stroke-width:2; stroke-opacity:0.1; fill:none\" points=\"178.867,278.06 2352.76,278.06 \"/>\n",
       "<polyline clip-path=\"url(#clip450)\" style=\"stroke:#000000; stroke-linecap:round; stroke-linejoin:round; stroke-width:4; stroke-opacity:1; fill:none\" points=\"178.867,1486.45 2352.76,1486.45 \"/>\n",
       "<polyline clip-path=\"url(#clip450)\" style=\"stroke:#000000; stroke-linecap:round; stroke-linejoin:round; stroke-width:4; stroke-opacity:1; fill:none\" points=\"445.476,1486.45 445.476,1467.55 \"/>\n",
       "<polyline clip-path=\"url(#clip450)\" style=\"stroke:#000000; stroke-linecap:round; stroke-linejoin:round; stroke-width:4; stroke-opacity:1; fill:none\" points=\"855.643,1486.45 855.643,1467.55 \"/>\n",
       "<polyline clip-path=\"url(#clip450)\" style=\"stroke:#000000; stroke-linecap:round; stroke-linejoin:round; stroke-width:4; stroke-opacity:1; fill:none\" points=\"1265.81,1486.45 1265.81,1467.55 \"/>\n",
       "<polyline clip-path=\"url(#clip450)\" style=\"stroke:#000000; stroke-linecap:round; stroke-linejoin:round; stroke-width:4; stroke-opacity:1; fill:none\" points=\"1675.98,1486.45 1675.98,1467.55 \"/>\n",
       "<polyline clip-path=\"url(#clip450)\" style=\"stroke:#000000; stroke-linecap:round; stroke-linejoin:round; stroke-width:4; stroke-opacity:1; fill:none\" points=\"2086.15,1486.45 2086.15,1467.55 \"/>\n",
       "<path clip-path=\"url(#clip450)\" d=\"M414.376 1532.02 L444.052 1532.02 L444.052 1535.95 L414.376 1535.95 L414.376 1532.02 Z\" fill=\"#000000\" fill-rule=\"nonzero\" fill-opacity=\"1\" /><path clip-path=\"url(#clip450)\" d=\"M466.992 1518.36 L455.186 1536.81 L466.992 1536.81 L466.992 1518.36 M465.765 1514.29 L471.645 1514.29 L471.645 1536.81 L476.575 1536.81 L476.575 1540.7 L471.645 1540.7 L471.645 1548.85 L466.992 1548.85 L466.992 1540.7 L451.39 1540.7 L451.39 1536.19 L465.765 1514.29 Z\" fill=\"#000000\" fill-rule=\"nonzero\" fill-opacity=\"1\" /><path clip-path=\"url(#clip450)\" d=\"M825.586 1532.02 L855.262 1532.02 L855.262 1535.95 L825.586 1535.95 L825.586 1532.02 Z\" fill=\"#000000\" fill-rule=\"nonzero\" fill-opacity=\"1\" /><path clip-path=\"url(#clip450)\" d=\"M869.382 1544.91 L885.701 1544.91 L885.701 1548.85 L863.757 1548.85 L863.757 1544.91 Q866.419 1542.16 871.002 1537.53 Q875.609 1532.88 876.789 1531.53 Q879.035 1529.01 879.914 1527.27 Q880.817 1525.51 880.817 1523.82 Q880.817 1521.07 878.873 1519.33 Q876.951 1517.6 873.849 1517.6 Q871.65 1517.6 869.197 1518.36 Q866.766 1519.13 863.988 1520.68 L863.988 1515.95 Q866.812 1514.82 869.266 1514.24 Q871.72 1513.66 873.757 1513.66 Q879.127 1513.66 882.322 1516.35 Q885.516 1519.03 885.516 1523.52 Q885.516 1525.65 884.706 1527.57 Q883.919 1529.47 881.812 1532.07 Q881.234 1532.74 878.132 1535.95 Q875.03 1539.15 869.382 1544.91 Z\" fill=\"#000000\" fill-rule=\"nonzero\" fill-opacity=\"1\" /><path clip-path=\"url(#clip450)\" d=\"M1265.81 1517.37 Q1262.2 1517.37 1260.37 1520.93 Q1258.57 1524.47 1258.57 1531.6 Q1258.57 1538.71 1260.37 1542.27 Q1262.2 1545.82 1265.81 1545.82 Q1269.45 1545.82 1271.25 1542.27 Q1273.08 1538.71 1273.08 1531.6 Q1273.08 1524.47 1271.25 1520.93 Q1269.45 1517.37 1265.81 1517.37 M1265.81 1513.66 Q1271.62 1513.66 1274.68 1518.27 Q1277.76 1522.85 1277.76 1531.6 Q1277.76 1540.33 1274.68 1544.94 Q1271.62 1549.52 1265.81 1549.52 Q1260 1549.52 1256.92 1544.94 Q1253.87 1540.33 1253.87 1531.6 Q1253.87 1522.85 1256.92 1518.27 Q1260 1513.66 1265.81 1513.66 Z\" fill=\"#000000\" fill-rule=\"nonzero\" fill-opacity=\"1\" /><path clip-path=\"url(#clip450)\" d=\"M1670.63 1544.91 L1686.95 1544.91 L1686.95 1548.85 L1665.01 1548.85 L1665.01 1544.91 Q1667.67 1542.16 1672.25 1537.53 Q1676.86 1532.88 1678.04 1531.53 Q1680.28 1529.01 1681.16 1527.27 Q1682.07 1525.51 1682.07 1523.82 Q1682.07 1521.07 1680.12 1519.33 Q1678.2 1517.6 1675.1 1517.6 Q1672.9 1517.6 1670.45 1518.36 Q1668.02 1519.13 1665.24 1520.68 L1665.24 1515.95 Q1668.06 1514.82 1670.52 1514.24 Q1672.97 1513.66 1675.01 1513.66 Q1680.38 1513.66 1683.57 1516.35 Q1686.77 1519.03 1686.77 1523.52 Q1686.77 1525.65 1685.96 1527.57 Q1685.17 1529.47 1683.06 1532.07 Q1682.48 1532.74 1679.38 1535.95 Q1676.28 1539.15 1670.63 1544.91 Z\" fill=\"#000000\" fill-rule=\"nonzero\" fill-opacity=\"1\" /><path clip-path=\"url(#clip450)\" d=\"M2089.16 1518.36 L2077.35 1536.81 L2089.16 1536.81 L2089.16 1518.36 M2087.93 1514.29 L2093.81 1514.29 L2093.81 1536.81 L2098.74 1536.81 L2098.74 1540.7 L2093.81 1540.7 L2093.81 1548.85 L2089.16 1548.85 L2089.16 1540.7 L2073.55 1540.7 L2073.55 1536.19 L2087.93 1514.29 Z\" fill=\"#000000\" fill-rule=\"nonzero\" fill-opacity=\"1\" /><polyline clip-path=\"url(#clip450)\" style=\"stroke:#000000; stroke-linecap:round; stroke-linejoin:round; stroke-width:4; stroke-opacity:1; fill:none\" points=\"178.867,1486.45 178.867,47.2441 \"/>\n",
       "<polyline clip-path=\"url(#clip450)\" style=\"stroke:#000000; stroke-linecap:round; stroke-linejoin:round; stroke-width:4; stroke-opacity:1; fill:none\" points=\"178.867,1364.25 197.764,1364.25 \"/>\n",
       "<polyline clip-path=\"url(#clip450)\" style=\"stroke:#000000; stroke-linecap:round; stroke-linejoin:round; stroke-width:4; stroke-opacity:1; fill:none\" points=\"178.867,1092.7 197.764,1092.7 \"/>\n",
       "<polyline clip-path=\"url(#clip450)\" style=\"stroke:#000000; stroke-linecap:round; stroke-linejoin:round; stroke-width:4; stroke-opacity:1; fill:none\" points=\"178.867,821.156 197.764,821.156 \"/>\n",
       "<polyline clip-path=\"url(#clip450)\" style=\"stroke:#000000; stroke-linecap:round; stroke-linejoin:round; stroke-width:4; stroke-opacity:1; fill:none\" points=\"178.867,549.608 197.764,549.608 \"/>\n",
       "<polyline clip-path=\"url(#clip450)\" style=\"stroke:#000000; stroke-linecap:round; stroke-linejoin:round; stroke-width:4; stroke-opacity:1; fill:none\" points=\"178.867,278.06 197.764,278.06 \"/>\n",
       "<path clip-path=\"url(#clip450)\" d=\"M50.9921 1364.7 L80.6679 1364.7 L80.6679 1368.64 L50.9921 1368.64 L50.9921 1364.7 Z\" fill=\"#000000\" fill-rule=\"nonzero\" fill-opacity=\"1\" /><path clip-path=\"url(#clip450)\" d=\"M94.7882 1377.6 L111.108 1377.6 L111.108 1381.53 L89.1632 1381.53 L89.1632 1377.6 Q91.8252 1374.84 96.4085 1370.21 Q101.015 1365.56 102.196 1364.22 Q104.441 1361.69 105.321 1359.96 Q106.223 1358.2 106.223 1356.51 Q106.223 1353.75 104.279 1352.02 Q102.358 1350.28 99.2558 1350.28 Q97.0567 1350.28 94.603 1351.05 Q92.1725 1351.81 89.3947 1353.36 L89.3947 1348.64 Q92.2188 1347.5 94.6724 1346.93 Q97.1261 1346.35 99.1632 1346.35 Q104.534 1346.35 107.728 1349.03 Q110.922 1351.72 110.922 1356.21 Q110.922 1358.34 110.112 1360.26 Q109.325 1362.16 107.219 1364.75 Q106.64 1365.42 103.538 1368.64 Q100.436 1371.83 94.7882 1377.6 Z\" fill=\"#000000\" fill-rule=\"nonzero\" fill-opacity=\"1\" /><path clip-path=\"url(#clip450)\" d=\"M130.922 1350.05 Q127.311 1350.05 125.482 1353.61 Q123.677 1357.16 123.677 1364.29 Q123.677 1371.39 125.482 1374.96 Q127.311 1378.5 130.922 1378.5 Q134.556 1378.5 136.362 1374.96 Q138.191 1371.39 138.191 1364.29 Q138.191 1357.16 136.362 1353.61 Q134.556 1350.05 130.922 1350.05 M130.922 1346.35 Q136.732 1346.35 139.788 1350.95 Q142.867 1355.54 142.867 1364.29 Q142.867 1373.01 139.788 1377.62 Q136.732 1382.2 130.922 1382.2 Q125.112 1382.2 122.033 1377.62 Q118.978 1373.01 118.978 1364.29 Q118.978 1355.54 122.033 1350.95 Q125.112 1346.35 130.922 1346.35 Z\" fill=\"#000000\" fill-rule=\"nonzero\" fill-opacity=\"1\" /><path clip-path=\"url(#clip450)\" d=\"M50.9921 1093.15 L80.6679 1093.15 L80.6679 1097.09 L50.9921 1097.09 L50.9921 1093.15 Z\" fill=\"#000000\" fill-rule=\"nonzero\" fill-opacity=\"1\" /><path clip-path=\"url(#clip450)\" d=\"M91.5706 1106.05 L99.2095 1106.05 L99.2095 1079.68 L90.8993 1081.35 L90.8993 1077.09 L99.1632 1075.42 L103.839 1075.42 L103.839 1106.05 L111.478 1106.05 L111.478 1109.98 L91.5706 1109.98 L91.5706 1106.05 Z\" fill=\"#000000\" fill-rule=\"nonzero\" fill-opacity=\"1\" /><path clip-path=\"url(#clip450)\" d=\"M130.922 1078.5 Q127.311 1078.5 125.482 1082.07 Q123.677 1085.61 123.677 1092.74 Q123.677 1099.84 125.482 1103.41 Q127.311 1106.95 130.922 1106.95 Q134.556 1106.95 136.362 1103.41 Q138.191 1099.84 138.191 1092.74 Q138.191 1085.61 136.362 1082.07 Q134.556 1078.5 130.922 1078.5 M130.922 1074.8 Q136.732 1074.8 139.788 1079.4 Q142.867 1083.99 142.867 1092.74 Q142.867 1101.46 139.788 1106.07 Q136.732 1110.65 130.922 1110.65 Q125.112 1110.65 122.033 1106.07 Q118.978 1101.46 118.978 1092.74 Q118.978 1083.99 122.033 1079.4 Q125.112 1074.8 130.922 1074.8 Z\" fill=\"#000000\" fill-rule=\"nonzero\" fill-opacity=\"1\" /><path clip-path=\"url(#clip450)\" d=\"M130.922 806.954 Q127.311 806.954 125.482 810.519 Q123.677 814.061 123.677 821.19 Q123.677 828.297 125.482 831.862 Q127.311 835.403 130.922 835.403 Q134.556 835.403 136.362 831.862 Q138.191 828.297 138.191 821.19 Q138.191 814.061 136.362 810.519 Q134.556 806.954 130.922 806.954 M130.922 803.251 Q136.732 803.251 139.788 807.857 Q142.867 812.44 142.867 821.19 Q142.867 829.917 139.788 834.524 Q136.732 839.107 130.922 839.107 Q125.112 839.107 122.033 834.524 Q118.978 829.917 118.978 821.19 Q118.978 812.44 122.033 807.857 Q125.112 803.251 130.922 803.251 Z\" fill=\"#000000\" fill-rule=\"nonzero\" fill-opacity=\"1\" /><path clip-path=\"url(#clip450)\" d=\"M91.5706 562.953 L99.2095 562.953 L99.2095 536.587 L90.8993 538.254 L90.8993 533.994 L99.1632 532.328 L103.839 532.328 L103.839 562.953 L111.478 562.953 L111.478 566.888 L91.5706 566.888 L91.5706 562.953 Z\" fill=\"#000000\" fill-rule=\"nonzero\" fill-opacity=\"1\" /><path clip-path=\"url(#clip450)\" d=\"M130.922 535.406 Q127.311 535.406 125.482 538.971 Q123.677 542.513 123.677 549.642 Q123.677 556.749 125.482 560.314 Q127.311 563.855 130.922 563.855 Q134.556 563.855 136.362 560.314 Q138.191 556.749 138.191 549.642 Q138.191 542.513 136.362 538.971 Q134.556 535.406 130.922 535.406 M130.922 531.703 Q136.732 531.703 139.788 536.309 Q142.867 540.892 142.867 549.642 Q142.867 558.369 139.788 562.976 Q136.732 567.559 130.922 567.559 Q125.112 567.559 122.033 562.976 Q118.978 558.369 118.978 549.642 Q118.978 540.892 122.033 536.309 Q125.112 531.703 130.922 531.703 Z\" fill=\"#000000\" fill-rule=\"nonzero\" fill-opacity=\"1\" /><path clip-path=\"url(#clip450)\" d=\"M94.7882 291.405 L111.108 291.405 L111.108 295.34 L89.1632 295.34 L89.1632 291.405 Q91.8252 288.65 96.4085 284.02 Q101.015 279.368 102.196 278.025 Q104.441 275.502 105.321 273.766 Q106.223 272.007 106.223 270.317 Q106.223 267.562 104.279 265.826 Q102.358 264.09 99.2558 264.09 Q97.0567 264.09 94.603 264.854 Q92.1725 265.618 89.3947 267.169 L89.3947 262.446 Q92.2188 261.312 94.6724 260.733 Q97.1261 260.155 99.1632 260.155 Q104.534 260.155 107.728 262.84 Q110.922 265.525 110.922 270.016 Q110.922 272.145 110.112 274.067 Q109.325 275.965 107.219 278.557 Q106.64 279.229 103.538 282.446 Q100.436 285.641 94.7882 291.405 Z\" fill=\"#000000\" fill-rule=\"nonzero\" fill-opacity=\"1\" /><path clip-path=\"url(#clip450)\" d=\"M130.922 263.858 Q127.311 263.858 125.482 267.423 Q123.677 270.965 123.677 278.095 Q123.677 285.201 125.482 288.766 Q127.311 292.307 130.922 292.307 Q134.556 292.307 136.362 288.766 Q138.191 285.201 138.191 278.095 Q138.191 270.965 136.362 267.423 Q134.556 263.858 130.922 263.858 M130.922 260.155 Q136.732 260.155 139.788 264.761 Q142.867 269.345 142.867 278.095 Q142.867 286.821 139.788 291.428 Q136.732 296.011 130.922 296.011 Q125.112 296.011 122.033 291.428 Q118.978 286.821 118.978 278.095 Q118.978 269.345 122.033 264.761 Q125.112 260.155 130.922 260.155 Z\" fill=\"#000000\" fill-rule=\"nonzero\" fill-opacity=\"1\" /><polyline clip-path=\"url(#clip452)\" style=\"stroke:#009af9; stroke-linecap:round; stroke-linejoin:round; stroke-width:4; stroke-opacity:1; fill:none\" points=\"240.392,1445.72 261.564,1431.7 385.568,1349.6 443.255,1311.41 520.576,1260.22 584.468,1217.92 643.881,1178.59 718.464,1129.21 785.366,1084.92 861.944,1034.22 919.186,996.326 992.4,947.856 1059.22,903.617 1135.27,853.267 1195.56,813.354 1270.46,763.766 1327.82,725.791 1408.7,672.25 1469.13,632.24 1537.86,586.74 1605.92,541.68 1680.8,492.105 1738,454.238 1810.18,406.453 1876.93,362.257 1945.78,316.677 2015.57,270.476 2088.44,222.234 2145.84,184.231 2276.56,97.6863 2291.23,87.9763 \"/>\n",
       "<path clip-path=\"url(#clip450)\" d=\"M251.33 198.898 L521.149 198.898 L521.149 95.2176 L251.33 95.2176  Z\" fill=\"#ffffff\" fill-rule=\"evenodd\" fill-opacity=\"1\"/>\n",
       "<polyline clip-path=\"url(#clip450)\" style=\"stroke:#000000; stroke-linecap:round; stroke-linejoin:round; stroke-width:4; stroke-opacity:1; fill:none\" points=\"251.33,198.898 521.149,198.898 521.149,95.2176 251.33,95.2176 251.33,198.898 \"/>\n",
       "<polyline clip-path=\"url(#clip450)\" style=\"stroke:#009af9; stroke-linecap:round; stroke-linejoin:round; stroke-width:4; stroke-opacity:1; fill:none\" points=\"275.484,147.058 420.41,147.058 \"/>\n",
       "<path clip-path=\"url(#clip450)\" d=\"M458.407 166.745 Q456.601 171.375 454.888 172.787 Q453.175 174.199 450.305 174.199 L446.902 174.199 L446.902 170.634 L449.402 170.634 Q451.161 170.634 452.134 169.8 Q453.106 168.967 454.286 165.865 L455.05 163.921 L444.564 138.412 L449.078 138.412 L457.18 158.689 L465.282 138.412 L469.796 138.412 L458.407 166.745 Z\" fill=\"#000000\" fill-rule=\"nonzero\" fill-opacity=\"1\" /><path clip-path=\"url(#clip450)\" d=\"M477.087 160.402 L484.726 160.402 L484.726 134.037 L476.416 135.703 L476.416 131.444 L484.68 129.778 L489.356 129.778 L489.356 160.402 L496.994 160.402 L496.994 164.338 L477.087 164.338 L477.087 160.402 Z\" fill=\"#000000\" fill-rule=\"nonzero\" fill-opacity=\"1\" /></svg>\n"
      ]
     },
     "execution_count": 33,
     "metadata": {},
     "output_type": "execute_result"
    }
   ],
   "source": [
    "#now, we can use the plot() function\n",
    "plot(f, -5, 5)  #f will be plotted over an x range of -5 to 5"
   ]
  },
  {
   "cell_type": "markdown",
   "metadata": {
    "deletable": false,
    "editable": false,
    "nbgrader": {
     "cell_type": "markdown",
     "checksum": "eddc9ac9f258b9ca32a824076139cbce",
     "grade": false,
     "grade_id": "cell-e5f55ebcb0af4820",
     "locked": true,
     "schema_version": 3,
     "solution": false,
     "task": false
    }
   },
   "source": [
    "If we wanted to change an element of the graph, we need to use the function **plot!()**\n",
    "\n",
    "The exclamation point indicates that the function will modify the existing plot, instead of replacing it.  Let's make the graph to scale with an aspect_ratio command, and label the axes.  You can also add an additional line to the plot.  Let's include the x-axis."
   ]
  },
  {
   "cell_type": "code",
   "execution_count": 36,
   "metadata": {},
   "outputs": [
    {
     "data": {
      "image/png": "[encoded data removed]",
      "image/svg+xml": [
       "<?xml version=\"1.0\" encoding=\"utf-8\"?>\n",
       "<svg xmlns=\"http://www.w3.org/2000/svg\" xmlns:xlink=\"http://www.w3.org/1999/xlink\" width=\"600\" height=\"400\" viewBox=\"0 0 2400 1600\">\n",
       "<defs>\n",
       "  <clipPath id=\"clip490\">\n",
       "    <rect x=\"0\" y=\"0\" width=\"2400\" height=\"1600\"/>\n",
       "  </clipPath>\n",
       "</defs>\n",
       "<path clip-path=\"url(#clip490)\" d=\"M0 1600 L2400 1600 L2400 8.88178e-14 L0 8.88178e-14  Z\" fill=\"#ffffff\" fill-rule=\"evenodd\" fill-opacity=\"1\"/>\n",
       "<defs>\n",
       "  <clipPath id=\"clip491\">\n",
       "    <rect x=\"480\" y=\"0\" width=\"1681\" height=\"1600\"/>\n",
       "  </clipPath>\n",
       "</defs>\n",
       "<path clip-path=\"url(#clip490)\" d=\"M242.135 1423.18 L2352.76 1423.18 L2352.76 47.2441 L242.135 47.2441  Z\" fill=\"#ffffff\" fill-rule=\"evenodd\" fill-opacity=\"1\"/>\n",
       "<defs>\n",
       "  <clipPath id=\"clip492\">\n",
       "    <rect x=\"242\" y=\"47\" width=\"2112\" height=\"1377\"/>\n",
       "  </clipPath>\n",
       "</defs>\n",
       "<polyline clip-path=\"url(#clip492)\" style=\"stroke:#000000; stroke-linecap:round; stroke-linejoin:round; stroke-width:2; stroke-opacity:0.1; fill:none\" points=\"259.003,1423.18 259.003,47.2441 \"/>\n",
       "<polyline clip-path=\"url(#clip492)\" style=\"stroke:#000000; stroke-linecap:round; stroke-linejoin:round; stroke-width:2; stroke-opacity:0.1; fill:none\" points=\"778.224,1423.18 778.224,47.2441 \"/>\n",
       "<polyline clip-path=\"url(#clip492)\" style=\"stroke:#000000; stroke-linecap:round; stroke-linejoin:round; stroke-width:2; stroke-opacity:0.1; fill:none\" points=\"1297.45,1423.18 1297.45,47.2441 \"/>\n",
       "<polyline clip-path=\"url(#clip492)\" style=\"stroke:#000000; stroke-linecap:round; stroke-linejoin:round; stroke-width:2; stroke-opacity:0.1; fill:none\" points=\"1816.67,1423.18 1816.67,47.2441 \"/>\n",
       "<polyline clip-path=\"url(#clip492)\" style=\"stroke:#000000; stroke-linecap:round; stroke-linejoin:round; stroke-width:2; stroke-opacity:0.1; fill:none\" points=\"2335.89,1423.18 2335.89,47.2441 \"/>\n",
       "<polyline clip-path=\"url(#clip492)\" style=\"stroke:#000000; stroke-linecap:round; stroke-linejoin:round; stroke-width:2; stroke-opacity:0.1; fill:none\" points=\"242.135,1306.36 2352.76,1306.36 \"/>\n",
       "<polyline clip-path=\"url(#clip492)\" style=\"stroke:#000000; stroke-linecap:round; stroke-linejoin:round; stroke-width:2; stroke-opacity:0.1; fill:none\" points=\"242.135,1046.74 2352.76,1046.74 \"/>\n",
       "<polyline clip-path=\"url(#clip492)\" style=\"stroke:#000000; stroke-linecap:round; stroke-linejoin:round; stroke-width:2; stroke-opacity:0.1; fill:none\" points=\"242.135,787.134 2352.76,787.134 \"/>\n",
       "<polyline clip-path=\"url(#clip492)\" style=\"stroke:#000000; stroke-linecap:round; stroke-linejoin:round; stroke-width:2; stroke-opacity:0.1; fill:none\" points=\"242.135,527.524 2352.76,527.524 \"/>\n",
       "<polyline clip-path=\"url(#clip492)\" style=\"stroke:#000000; stroke-linecap:round; stroke-linejoin:round; stroke-width:2; stroke-opacity:0.1; fill:none\" points=\"242.135,267.913 2352.76,267.913 \"/>\n",
       "<polyline clip-path=\"url(#clip490)\" style=\"stroke:#000000; stroke-linecap:round; stroke-linejoin:round; stroke-width:4; stroke-opacity:1; fill:none\" points=\"242.135,1423.18 2352.76,1423.18 \"/>\n",
       "<polyline clip-path=\"url(#clip490)\" style=\"stroke:#000000; stroke-linecap:round; stroke-linejoin:round; stroke-width:4; stroke-opacity:1; fill:none\" points=\"259.003,1423.18 259.003,1404.28 \"/>\n",
       "<polyline clip-path=\"url(#clip490)\" style=\"stroke:#000000; stroke-linecap:round; stroke-linejoin:round; stroke-width:4; stroke-opacity:1; fill:none\" points=\"778.224,1423.18 778.224,1404.28 \"/>\n",
       "<polyline clip-path=\"url(#clip490)\" style=\"stroke:#000000; stroke-linecap:round; stroke-linejoin:round; stroke-width:4; stroke-opacity:1; fill:none\" points=\"1297.45,1423.18 1297.45,1404.28 \"/>\n",
       "<polyline clip-path=\"url(#clip490)\" style=\"stroke:#000000; stroke-linecap:round; stroke-linejoin:round; stroke-width:4; stroke-opacity:1; fill:none\" points=\"1816.67,1423.18 1816.67,1404.28 \"/>\n",
       "<polyline clip-path=\"url(#clip490)\" style=\"stroke:#000000; stroke-linecap:round; stroke-linejoin:round; stroke-width:4; stroke-opacity:1; fill:none\" points=\"2335.89,1423.18 2335.89,1404.28 \"/>\n",
       "<path clip-path=\"url(#clip490)\" d=\"M213.066 1468.75 L242.742 1468.75 L242.742 1472.69 L213.066 1472.69 L213.066 1468.75 Z\" fill=\"#000000\" fill-rule=\"nonzero\" fill-opacity=\"1\" /><path clip-path=\"url(#clip490)\" d=\"M265.681 1455.09 L253.876 1473.54 L265.681 1473.54 L265.681 1455.09 M264.455 1451.02 L270.334 1451.02 L270.334 1473.54 L275.265 1473.54 L275.265 1477.43 L270.334 1477.43 L270.334 1485.58 L265.681 1485.58 L265.681 1477.43 L250.08 1477.43 L250.08 1472.92 L264.455 1451.02 Z\" fill=\"#000000\" fill-rule=\"nonzero\" fill-opacity=\"1\" /><path clip-path=\"url(#clip490)\" d=\"M292.996 1454.1 Q289.385 1454.1 287.556 1457.66 Q285.751 1461.2 285.751 1468.33 Q285.751 1475.44 287.556 1479.01 Q289.385 1482.55 292.996 1482.55 Q296.63 1482.55 298.436 1479.01 Q300.265 1475.44 300.265 1468.33 Q300.265 1461.2 298.436 1457.66 Q296.63 1454.1 292.996 1454.1 M292.996 1450.39 Q298.806 1450.39 301.862 1455 Q304.94 1459.58 304.94 1468.33 Q304.94 1477.06 301.862 1481.67 Q298.806 1486.25 292.996 1486.25 Q287.186 1486.25 284.107 1481.67 Q281.052 1477.06 281.052 1468.33 Q281.052 1459.58 284.107 1455 Q287.186 1450.39 292.996 1450.39 Z\" fill=\"#000000\" fill-rule=\"nonzero\" fill-opacity=\"1\" /><path clip-path=\"url(#clip490)\" d=\"M732.287 1468.75 L761.963 1468.75 L761.963 1472.69 L732.287 1472.69 L732.287 1468.75 Z\" fill=\"#000000\" fill-rule=\"nonzero\" fill-opacity=\"1\" /><path clip-path=\"url(#clip490)\" d=\"M776.083 1481.64 L792.402 1481.64 L792.402 1485.58 L770.458 1485.58 L770.458 1481.64 Q773.12 1478.89 777.703 1474.26 Q782.31 1469.61 783.49 1468.27 Q785.736 1465.74 786.615 1464.01 Q787.518 1462.25 787.518 1460.56 Q787.518 1457.8 785.574 1456.07 Q783.652 1454.33 780.551 1454.33 Q778.352 1454.33 775.898 1455.09 Q773.467 1455.86 770.69 1457.41 L770.69 1452.69 Q773.514 1451.55 775.967 1450.97 Q778.421 1450.39 780.458 1450.39 Q785.828 1450.39 789.023 1453.08 Q792.217 1455.77 792.217 1460.26 Q792.217 1462.39 791.407 1464.31 Q790.62 1466.2 788.514 1468.8 Q787.935 1469.47 784.833 1472.69 Q781.731 1475.88 776.083 1481.64 Z\" fill=\"#000000\" fill-rule=\"nonzero\" fill-opacity=\"1\" /><path clip-path=\"url(#clip490)\" d=\"M812.217 1454.1 Q808.606 1454.1 806.777 1457.66 Q804.972 1461.2 804.972 1468.33 Q804.972 1475.44 806.777 1479.01 Q808.606 1482.55 812.217 1482.55 Q815.851 1482.55 817.657 1479.01 Q819.486 1475.44 819.486 1468.33 Q819.486 1461.2 817.657 1457.66 Q815.851 1454.1 812.217 1454.1 M812.217 1450.39 Q818.027 1450.39 821.083 1455 Q824.162 1459.58 824.162 1468.33 Q824.162 1477.06 821.083 1481.67 Q818.027 1486.25 812.217 1486.25 Q806.407 1486.25 803.328 1481.67 Q800.273 1477.06 800.273 1468.33 Q800.273 1459.58 803.328 1455 Q806.407 1450.39 812.217 1450.39 Z\" fill=\"#000000\" fill-rule=\"nonzero\" fill-opacity=\"1\" /><path clip-path=\"url(#clip490)\" d=\"M1297.45 1454.1 Q1293.83 1454.1 1292.01 1457.66 Q1290.2 1461.2 1290.2 1468.33 Q1290.2 1475.44 1292.01 1479.01 Q1293.83 1482.55 1297.45 1482.55 Q1301.08 1482.55 1302.89 1479.01 Q1304.71 1475.44 1304.71 1468.33 Q1304.71 1461.2 1302.89 1457.66 Q1301.08 1454.1 1297.45 1454.1 M1297.45 1450.39 Q1303.26 1450.39 1306.31 1455 Q1309.39 1459.58 1309.39 1468.33 Q1309.39 1477.06 1306.31 1481.67 Q1303.26 1486.25 1297.45 1486.25 Q1291.64 1486.25 1288.56 1481.67 Q1285.5 1477.06 1285.5 1468.33 Q1285.5 1459.58 1288.56 1455 Q1291.64 1450.39 1297.45 1450.39 Z\" fill=\"#000000\" fill-rule=\"nonzero\" fill-opacity=\"1\" /><path clip-path=\"url(#clip490)\" d=\"M1795.44 1481.64 L1811.76 1481.64 L1811.76 1485.58 L1789.81 1485.58 L1789.81 1481.64 Q1792.48 1478.89 1797.06 1474.26 Q1801.67 1469.61 1802.85 1468.27 Q1805.09 1465.74 1805.97 1464.01 Q1806.87 1462.25 1806.87 1460.56 Q1806.87 1457.8 1804.93 1456.07 Q1803.01 1454.33 1799.91 1454.33 Q1797.71 1454.33 1795.25 1455.09 Q1792.82 1455.86 1790.05 1457.41 L1790.05 1452.69 Q1792.87 1451.55 1795.32 1450.97 Q1797.78 1450.39 1799.81 1450.39 Q1805.18 1450.39 1808.38 1453.08 Q1811.57 1455.77 1811.57 1460.26 Q1811.57 1462.39 1810.76 1464.31 Q1809.98 1466.2 1807.87 1468.8 Q1807.29 1469.47 1804.19 1472.69 Q1801.09 1475.88 1795.44 1481.64 Z\" fill=\"#000000\" fill-rule=\"nonzero\" fill-opacity=\"1\" /><path clip-path=\"url(#clip490)\" d=\"M1831.57 1454.1 Q1827.96 1454.1 1826.13 1457.66 Q1824.33 1461.2 1824.33 1468.33 Q1824.33 1475.44 1826.13 1479.01 Q1827.96 1482.55 1831.57 1482.55 Q1835.21 1482.55 1837.01 1479.01 Q1838.84 1475.44 1838.84 1468.33 Q1838.84 1461.2 1837.01 1457.66 Q1835.21 1454.1 1831.57 1454.1 M1831.57 1450.39 Q1837.38 1450.39 1840.44 1455 Q1843.52 1459.58 1843.52 1468.33 Q1843.52 1477.06 1840.44 1481.67 Q1837.38 1486.25 1831.57 1486.25 Q1825.76 1486.25 1822.68 1481.67 Q1819.63 1477.06 1819.63 1468.33 Q1819.63 1459.58 1822.68 1455 Q1825.76 1450.39 1831.57 1450.39 Z\" fill=\"#000000\" fill-rule=\"nonzero\" fill-opacity=\"1\" /><path clip-path=\"url(#clip490)\" d=\"M2324.06 1455.09 L2312.25 1473.54 L2324.06 1473.54 L2324.06 1455.09 M2322.83 1451.02 L2328.71 1451.02 L2328.71 1473.54 L2333.64 1473.54 L2333.64 1477.43 L2328.71 1477.43 L2328.71 1485.58 L2324.06 1485.58 L2324.06 1477.43 L2308.46 1477.43 L2308.46 1472.92 L2322.83 1451.02 Z\" fill=\"#000000\" fill-rule=\"nonzero\" fill-opacity=\"1\" /><path clip-path=\"url(#clip490)\" d=\"M2351.37 1454.1 Q2347.76 1454.1 2345.93 1457.66 Q2344.13 1461.2 2344.13 1468.33 Q2344.13 1475.44 2345.93 1479.01 Q2347.76 1482.55 2351.37 1482.55 Q2355.01 1482.55 2356.81 1479.01 Q2358.64 1475.44 2358.64 1468.33 Q2358.64 1461.2 2356.81 1457.66 Q2355.01 1454.1 2351.37 1454.1 M2351.37 1450.39 Q2357.18 1450.39 2360.24 1455 Q2363.32 1459.58 2363.32 1468.33 Q2363.32 1477.06 2360.24 1481.67 Q2357.18 1486.25 2351.37 1486.25 Q2345.56 1486.25 2342.48 1481.67 Q2339.43 1477.06 2339.43 1468.33 Q2339.43 1459.58 2342.48 1455 Q2345.56 1450.39 2351.37 1450.39 Z\" fill=\"#000000\" fill-rule=\"nonzero\" fill-opacity=\"1\" /><path clip-path=\"url(#clip490)\" d=\"M1314.06 1532.4 L1301.17 1549.74 L1314.73 1568.04 L1307.82 1568.04 L1297.45 1554.04 L1287.07 1568.04 L1280.16 1568.04 L1294.01 1549.39 L1281.34 1532.4 L1288.25 1532.4 L1297.7 1545.1 L1307.15 1532.4 L1314.06 1532.4 Z\" fill=\"#000000\" fill-rule=\"nonzero\" fill-opacity=\"1\" /><polyline clip-path=\"url(#clip490)\" style=\"stroke:#000000; stroke-linecap:round; stroke-linejoin:round; stroke-width:4; stroke-opacity:1; fill:none\" points=\"242.135,1423.18 242.135,47.2441 \"/>\n",
       "<polyline clip-path=\"url(#clip490)\" style=\"stroke:#000000; stroke-linecap:round; stroke-linejoin:round; stroke-width:4; stroke-opacity:1; fill:none\" points=\"242.135,1306.36 261.032,1306.36 \"/>\n",
       "<polyline clip-path=\"url(#clip490)\" style=\"stroke:#000000; stroke-linecap:round; stroke-linejoin:round; stroke-width:4; stroke-opacity:1; fill:none\" points=\"242.135,1046.74 261.032,1046.74 \"/>\n",
       "<polyline clip-path=\"url(#clip490)\" style=\"stroke:#000000; stroke-linecap:round; stroke-linejoin:round; stroke-width:4; stroke-opacity:1; fill:none\" points=\"242.135,787.134 261.032,787.134 \"/>\n",
       "<polyline clip-path=\"url(#clip490)\" style=\"stroke:#000000; stroke-linecap:round; stroke-linejoin:round; stroke-width:4; stroke-opacity:1; fill:none\" points=\"242.135,527.524 261.032,527.524 \"/>\n",
       "<polyline clip-path=\"url(#clip490)\" style=\"stroke:#000000; stroke-linecap:round; stroke-linejoin:round; stroke-width:4; stroke-opacity:1; fill:none\" points=\"242.135,267.913 261.032,267.913 \"/>\n",
       "<path clip-path=\"url(#clip490)\" d=\"M114.26 1306.81 L143.936 1306.81 L143.936 1310.74 L114.26 1310.74 L114.26 1306.81 Z\" fill=\"#000000\" fill-rule=\"nonzero\" fill-opacity=\"1\" /><path clip-path=\"url(#clip490)\" d=\"M158.056 1319.7 L174.376 1319.7 L174.376 1323.64 L152.431 1323.64 L152.431 1319.7 Q155.093 1316.95 159.677 1312.32 Q164.283 1307.66 165.464 1306.32 Q167.709 1303.8 168.589 1302.06 Q169.491 1300.3 169.491 1298.61 Q169.491 1295.86 167.547 1294.12 Q165.626 1292.39 162.524 1292.39 Q160.325 1292.39 157.871 1293.15 Q155.44 1293.91 152.663 1295.46 L152.663 1290.74 Q155.487 1289.61 157.94 1289.03 Q160.394 1288.45 162.431 1288.45 Q167.802 1288.45 170.996 1291.14 Q174.19 1293.82 174.19 1298.31 Q174.19 1300.44 173.38 1302.36 Q172.593 1304.26 170.487 1306.85 Q169.908 1307.52 166.806 1310.74 Q163.704 1313.94 158.056 1319.7 Z\" fill=\"#000000\" fill-rule=\"nonzero\" fill-opacity=\"1\" /><path clip-path=\"url(#clip490)\" d=\"M194.19 1292.15 Q190.579 1292.15 188.75 1295.72 Q186.945 1299.26 186.945 1306.39 Q186.945 1313.5 188.75 1317.06 Q190.579 1320.6 194.19 1320.6 Q197.825 1320.6 199.63 1317.06 Q201.459 1313.5 201.459 1306.39 Q201.459 1299.26 199.63 1295.72 Q197.825 1292.15 194.19 1292.15 M194.19 1288.45 Q200 1288.45 203.056 1293.06 Q206.135 1297.64 206.135 1306.39 Q206.135 1315.12 203.056 1319.72 Q200 1324.31 194.19 1324.31 Q188.38 1324.31 185.301 1319.72 Q182.246 1315.12 182.246 1306.39 Q182.246 1297.64 185.301 1293.06 Q188.38 1288.45 194.19 1288.45 Z\" fill=\"#000000\" fill-rule=\"nonzero\" fill-opacity=\"1\" /><path clip-path=\"url(#clip490)\" d=\"M114.26 1047.2 L143.936 1047.2 L143.936 1051.13 L114.26 1051.13 L114.26 1047.2 Z\" fill=\"#000000\" fill-rule=\"nonzero\" fill-opacity=\"1\" /><path clip-path=\"url(#clip490)\" d=\"M154.839 1060.09 L162.477 1060.09 L162.477 1033.72 L154.167 1035.39 L154.167 1031.13 L162.431 1029.46 L167.107 1029.46 L167.107 1060.09 L174.746 1060.09 L174.746 1064.02 L154.839 1064.02 L154.839 1060.09 Z\" fill=\"#000000\" fill-rule=\"nonzero\" fill-opacity=\"1\" /><path clip-path=\"url(#clip490)\" d=\"M194.19 1032.54 Q190.579 1032.54 188.75 1036.11 Q186.945 1039.65 186.945 1046.78 Q186.945 1053.89 188.75 1057.45 Q190.579 1060.99 194.19 1060.99 Q197.825 1060.99 199.63 1057.45 Q201.459 1053.89 201.459 1046.78 Q201.459 1039.65 199.63 1036.11 Q197.825 1032.54 194.19 1032.54 M194.19 1028.84 Q200 1028.84 203.056 1033.45 Q206.135 1038.03 206.135 1046.78 Q206.135 1055.51 203.056 1060.11 Q200 1064.7 194.19 1064.7 Q188.38 1064.7 185.301 1060.11 Q182.246 1055.51 182.246 1046.78 Q182.246 1038.03 185.301 1033.45 Q188.38 1028.84 194.19 1028.84 Z\" fill=\"#000000\" fill-rule=\"nonzero\" fill-opacity=\"1\" /><path clip-path=\"url(#clip490)\" d=\"M194.19 772.933 Q190.579 772.933 188.75 776.498 Q186.945 780.039 186.945 787.169 Q186.945 794.275 188.75 797.84 Q190.579 801.382 194.19 801.382 Q197.825 801.382 199.63 797.84 Q201.459 794.275 201.459 787.169 Q201.459 780.039 199.63 776.498 Q197.825 772.933 194.19 772.933 M194.19 769.229 Q200 769.229 203.056 773.836 Q206.135 778.419 206.135 787.169 Q206.135 795.896 203.056 800.502 Q200 805.085 194.19 805.085 Q188.38 805.085 185.301 800.502 Q182.246 795.896 182.246 787.169 Q182.246 778.419 185.301 773.836 Q188.38 769.229 194.19 769.229 Z\" fill=\"#000000\" fill-rule=\"nonzero\" fill-opacity=\"1\" /><path clip-path=\"url(#clip490)\" d=\"M154.839 540.868 L162.477 540.868 L162.477 514.503 L154.167 516.169 L154.167 511.91 L162.431 510.244 L167.107 510.244 L167.107 540.868 L174.746 540.868 L174.746 544.804 L154.839 544.804 L154.839 540.868 Z\" fill=\"#000000\" fill-rule=\"nonzero\" fill-opacity=\"1\" /><path clip-path=\"url(#clip490)\" d=\"M194.19 513.322 Q190.579 513.322 188.75 516.887 Q186.945 520.429 186.945 527.558 Q186.945 534.665 188.75 538.23 Q190.579 541.771 194.19 541.771 Q197.825 541.771 199.63 538.23 Q201.459 534.665 201.459 527.558 Q201.459 520.429 199.63 516.887 Q197.825 513.322 194.19 513.322 M194.19 509.619 Q200 509.619 203.056 514.225 Q206.135 518.808 206.135 527.558 Q206.135 536.285 203.056 540.892 Q200 545.475 194.19 545.475 Q188.38 545.475 185.301 540.892 Q182.246 536.285 182.246 527.558 Q182.246 518.808 185.301 514.225 Q188.38 509.619 194.19 509.619 Z\" fill=\"#000000\" fill-rule=\"nonzero\" fill-opacity=\"1\" /><path clip-path=\"url(#clip490)\" d=\"M158.056 281.258 L174.376 281.258 L174.376 285.193 L152.431 285.193 L152.431 281.258 Q155.093 278.503 159.677 273.874 Q164.283 269.221 165.464 267.878 Q167.709 265.355 168.589 263.619 Q169.491 261.86 169.491 260.17 Q169.491 257.415 167.547 255.679 Q165.626 253.943 162.524 253.943 Q160.325 253.943 157.871 254.707 Q155.44 255.471 152.663 257.022 L152.663 252.3 Q155.487 251.165 157.94 250.587 Q160.394 250.008 162.431 250.008 Q167.802 250.008 170.996 252.693 Q174.19 255.378 174.19 259.869 Q174.19 261.999 173.38 263.92 Q172.593 265.818 170.487 268.411 Q169.908 269.082 166.806 272.3 Q163.704 275.494 158.056 281.258 Z\" fill=\"#000000\" fill-rule=\"nonzero\" fill-opacity=\"1\" /><path clip-path=\"url(#clip490)\" d=\"M194.19 253.712 Q190.579 253.712 188.75 257.277 Q186.945 260.818 186.945 267.948 Q186.945 275.054 188.75 278.619 Q190.579 282.161 194.19 282.161 Q197.825 282.161 199.63 278.619 Q201.459 275.054 201.459 267.948 Q201.459 260.818 199.63 257.277 Q197.825 253.712 194.19 253.712 M194.19 250.008 Q200 250.008 203.056 254.614 Q206.135 259.198 206.135 267.948 Q206.135 276.675 203.056 281.281 Q200 285.864 194.19 285.864 Q188.38 285.864 185.301 281.281 Q182.246 276.675 182.246 267.948 Q182.246 259.198 185.301 254.614 Q188.38 250.008 194.19 250.008 Z\" fill=\"#000000\" fill-rule=\"nonzero\" fill-opacity=\"1\" /><path clip-path=\"url(#clip490)\" d=\"M67.3143 733.525 Q73.68 736.008 75.6216 738.363 Q77.5631 740.718 77.5631 744.665 L77.5631 749.344 L72.6615 749.344 L72.6615 745.906 Q72.6615 743.487 71.5157 742.151 Q70.3699 740.814 66.1048 739.191 L63.4312 738.14 L28.3562 752.559 L28.3562 746.352 L56.238 735.212 L28.3562 724.072 L28.3562 717.865 L67.3143 733.525 Z\" fill=\"#000000\" fill-rule=\"nonzero\" fill-opacity=\"1\" /><polyline clip-path=\"url(#clip492)\" style=\"stroke:#009af9; stroke-linecap:round; stroke-linejoin:round; stroke-width:4; stroke-opacity:1; fill:none\" points=\"1167.64,1384.24 1170.32,1370.84 1186.02,1292.35 1193.32,1255.84 1203.11,1206.9 1211.2,1166.46 1218.72,1128.86 1228.16,1081.65 1236.63,1039.3 1246.32,990.835 1253.57,954.604 1262.83,908.264 1271.29,865.97 1280.92,817.834 1288.55,779.675 1298.03,732.268 1305.3,695.961 1315.53,644.775 1323.18,606.524 1331.88,563.024 1340.5,519.944 1349.98,472.548 1357.22,436.346 1366.36,390.662 1374.81,348.409 1383.52,304.833 1392.36,260.663 1401.58,214.541 1408.85,178.209 1425.39,95.4688 1427.25,86.1857 \"/>\n",
       "<polyline clip-path=\"url(#clip492)\" style=\"stroke:#e26f46; stroke-linecap:round; stroke-linejoin:round; stroke-width:4; stroke-opacity:1; fill:none\" points=\"908.03,787.134 916.07,787.134 963.162,787.134 985.069,787.134 1014.43,787.134 1038.7,787.134 1061.26,787.134 1089.58,787.134 1114.99,787.134 1144.07,787.134 1165.81,787.134 1193.61,787.134 1218.99,787.134 1247.87,787.134 1270.77,787.134 1299.21,787.134 1321,787.134 1351.71,787.134 1374.66,787.134 1400.76,787.134 1426.61,787.134 1455.04,787.134 1476.76,787.134 1504.18,787.134 1529.53,787.134 1555.67,787.134 1582.17,787.134 1609.85,787.134 1631.65,787.134 1681.29,787.134 1686.86,787.134 \"/>\n",
       "<path clip-path=\"url(#clip490)\" d=\"M2018.91 248.629 L2282.4 248.629 L2282.4 93.1086 L2018.91 93.1086  Z\" fill=\"#ffffff\" fill-rule=\"evenodd\" fill-opacity=\"1\"/>\n",
       "<polyline clip-path=\"url(#clip490)\" style=\"stroke:#000000; stroke-linecap:round; stroke-linejoin:round; stroke-width:4; stroke-opacity:1; fill:none\" points=\"2018.91,248.629 2282.4,248.629 2282.4,93.1086 2018.91,93.1086 2018.91,248.629 \"/>\n",
       "<polyline clip-path=\"url(#clip490)\" style=\"stroke:#009af9; stroke-linecap:round; stroke-linejoin:round; stroke-width:4; stroke-opacity:1; fill:none\" points=\"2042.36,144.949 2183.07,144.949 \"/>\n",
       "<path clip-path=\"url(#clip490)\" d=\"M2220.36 164.636 Q2218.56 169.266 2216.84 170.678 Q2215.13 172.09 2212.26 172.09 L2208.86 172.09 L2208.86 168.525 L2211.36 168.525 Q2213.12 168.525 2214.09 167.692 Q2215.06 166.858 2216.24 163.756 L2217.01 161.812 L2206.52 136.303 L2211.03 136.303 L2219.14 156.581 L2227.24 136.303 L2231.75 136.303 L2220.36 164.636 Z\" fill=\"#000000\" fill-rule=\"nonzero\" fill-opacity=\"1\" /><path clip-path=\"url(#clip490)\" d=\"M2239.04 158.293 L2246.68 158.293 L2246.68 131.928 L2238.37 133.595 L2238.37 129.335 L2246.64 127.669 L2251.31 127.669 L2251.31 158.293 L2258.95 158.293 L2258.95 162.229 L2239.04 162.229 L2239.04 158.293 Z\" fill=\"#000000\" fill-rule=\"nonzero\" fill-opacity=\"1\" /><polyline clip-path=\"url(#clip490)\" style=\"stroke:#e26f46; stroke-linecap:round; stroke-linejoin:round; stroke-width:4; stroke-opacity:1; fill:none\" points=\"2042.36,196.789 2183.07,196.789 \"/>\n",
       "<path clip-path=\"url(#clip490)\" d=\"M2220.36 216.476 Q2218.56 221.106 2216.84 222.518 Q2215.13 223.93 2212.26 223.93 L2208.86 223.93 L2208.86 220.365 L2211.36 220.365 Q2213.12 220.365 2214.09 219.532 Q2215.06 218.698 2216.24 215.596 L2217.01 213.652 L2206.52 188.143 L2211.03 188.143 L2219.14 208.421 L2227.24 188.143 L2231.75 188.143 L2220.36 216.476 Z\" fill=\"#000000\" fill-rule=\"nonzero\" fill-opacity=\"1\" /><path clip-path=\"url(#clip490)\" d=\"M2242.26 210.133 L2258.58 210.133 L2258.58 214.069 L2236.64 214.069 L2236.64 210.133 Q2239.3 207.379 2243.88 202.749 Q2248.49 198.096 2249.67 196.754 Q2251.91 194.231 2252.79 192.495 Q2253.7 190.735 2253.7 189.046 Q2253.7 186.291 2251.75 184.555 Q2249.83 182.819 2246.73 182.819 Q2244.53 182.819 2242.08 183.583 Q2239.65 184.347 2236.87 185.897 L2236.87 181.175 Q2239.69 180.041 2242.15 179.462 Q2244.6 178.884 2246.64 178.884 Q2252.01 178.884 2255.2 181.569 Q2258.39 184.254 2258.39 188.745 Q2258.39 190.874 2257.58 192.796 Q2256.8 194.694 2254.69 197.286 Q2254.11 197.958 2251.01 201.175 Q2247.91 204.37 2242.26 210.133 Z\" fill=\"#000000\" fill-rule=\"nonzero\" fill-opacity=\"1\" /></svg>\n"
      ],
      "text/html": [
       "<?xml version=\"1.0\" encoding=\"utf-8\"?>\n",
       "<svg xmlns=\"http://www.w3.org/2000/svg\" xmlns:xlink=\"http://www.w3.org/1999/xlink\" width=\"600\" height=\"400\" viewBox=\"0 0 2400 1600\">\n",
       "<defs>\n",
       "  <clipPath id=\"clip540\">\n",
       "    <rect x=\"0\" y=\"0\" width=\"2400\" height=\"1600\"/>\n",
       "  </clipPath>\n",
       "</defs>\n",
       "<path clip-path=\"url(#clip540)\" d=\"M0 1600 L2400 1600 L2400 8.88178e-14 L0 8.88178e-14  Z\" fill=\"#ffffff\" fill-rule=\"evenodd\" fill-opacity=\"1\"/>\n",
       "<defs>\n",
       "  <clipPath id=\"clip541\">\n",
       "    <rect x=\"480\" y=\"0\" width=\"1681\" height=\"1600\"/>\n",
       "  </clipPath>\n",
       "</defs>\n",
       "<path clip-path=\"url(#clip540)\" d=\"M242.135 1423.18 L2352.76 1423.18 L2352.76 47.2441 L242.135 47.2441  Z\" fill=\"#ffffff\" fill-rule=\"evenodd\" fill-opacity=\"1\"/>\n",
       "<defs>\n",
       "  <clipPath id=\"clip542\">\n",
       "    <rect x=\"242\" y=\"47\" width=\"2112\" height=\"1377\"/>\n",
       "  </clipPath>\n",
       "</defs>\n",
       "<polyline clip-path=\"url(#clip542)\" style=\"stroke:#000000; stroke-linecap:round; stroke-linejoin:round; stroke-width:2; stroke-opacity:0.1; fill:none\" points=\"259.003,1423.18 259.003,47.2441 \"/>\n",
       "<polyline clip-path=\"url(#clip542)\" style=\"stroke:#000000; stroke-linecap:round; stroke-linejoin:round; stroke-width:2; stroke-opacity:0.1; fill:none\" points=\"778.224,1423.18 778.224,47.2441 \"/>\n",
       "<polyline clip-path=\"url(#clip542)\" style=\"stroke:#000000; stroke-linecap:round; stroke-linejoin:round; stroke-width:2; stroke-opacity:0.1; fill:none\" points=\"1297.45,1423.18 1297.45,47.2441 \"/>\n",
       "<polyline clip-path=\"url(#clip542)\" style=\"stroke:#000000; stroke-linecap:round; stroke-linejoin:round; stroke-width:2; stroke-opacity:0.1; fill:none\" points=\"1816.67,1423.18 1816.67,47.2441 \"/>\n",
       "<polyline clip-path=\"url(#clip542)\" style=\"stroke:#000000; stroke-linecap:round; stroke-linejoin:round; stroke-width:2; stroke-opacity:0.1; fill:none\" points=\"2335.89,1423.18 2335.89,47.2441 \"/>\n",
       "<polyline clip-path=\"url(#clip542)\" style=\"stroke:#000000; stroke-linecap:round; stroke-linejoin:round; stroke-width:2; stroke-opacity:0.1; fill:none\" points=\"242.135,1306.36 2352.76,1306.36 \"/>\n",
       "<polyline clip-path=\"url(#clip542)\" style=\"stroke:#000000; stroke-linecap:round; stroke-linejoin:round; stroke-width:2; stroke-opacity:0.1; fill:none\" points=\"242.135,1046.74 2352.76,1046.74 \"/>\n",
       "<polyline clip-path=\"url(#clip542)\" style=\"stroke:#000000; stroke-linecap:round; stroke-linejoin:round; stroke-width:2; stroke-opacity:0.1; fill:none\" points=\"242.135,787.134 2352.76,787.134 \"/>\n",
       "<polyline clip-path=\"url(#clip542)\" style=\"stroke:#000000; stroke-linecap:round; stroke-linejoin:round; stroke-width:2; stroke-opacity:0.1; fill:none\" points=\"242.135,527.524 2352.76,527.524 \"/>\n",
       "<polyline clip-path=\"url(#clip542)\" style=\"stroke:#000000; stroke-linecap:round; stroke-linejoin:round; stroke-width:2; stroke-opacity:0.1; fill:none\" points=\"242.135,267.913 2352.76,267.913 \"/>\n",
       "<polyline clip-path=\"url(#clip540)\" style=\"stroke:#000000; stroke-linecap:round; stroke-linejoin:round; stroke-width:4; stroke-opacity:1; fill:none\" points=\"242.135,1423.18 2352.76,1423.18 \"/>\n",
       "<polyline clip-path=\"url(#clip540)\" style=\"stroke:#000000; stroke-linecap:round; stroke-linejoin:round; stroke-width:4; stroke-opacity:1; fill:none\" points=\"259.003,1423.18 259.003,1404.28 \"/>\n",
       "<polyline clip-path=\"url(#clip540)\" style=\"stroke:#000000; stroke-linecap:round; stroke-linejoin:round; stroke-width:4; stroke-opacity:1; fill:none\" points=\"778.224,1423.18 778.224,1404.28 \"/>\n",
       "<polyline clip-path=\"url(#clip540)\" style=\"stroke:#000000; stroke-linecap:round; stroke-linejoin:round; stroke-width:4; stroke-opacity:1; fill:none\" points=\"1297.45,1423.18 1297.45,1404.28 \"/>\n",
       "<polyline clip-path=\"url(#clip540)\" style=\"stroke:#000000; stroke-linecap:round; stroke-linejoin:round; stroke-width:4; stroke-opacity:1; fill:none\" points=\"1816.67,1423.18 1816.67,1404.28 \"/>\n",
       "<polyline clip-path=\"url(#clip540)\" style=\"stroke:#000000; stroke-linecap:round; stroke-linejoin:round; stroke-width:4; stroke-opacity:1; fill:none\" points=\"2335.89,1423.18 2335.89,1404.28 \"/>\n",
       "<path clip-path=\"url(#clip540)\" d=\"M213.066 1468.75 L242.742 1468.75 L242.742 1472.69 L213.066 1472.69 L213.066 1468.75 Z\" fill=\"#000000\" fill-rule=\"nonzero\" fill-opacity=\"1\" /><path clip-path=\"url(#clip540)\" d=\"M265.681 1455.09 L253.876 1473.54 L265.681 1473.54 L265.681 1455.09 M264.455 1451.02 L270.334 1451.02 L270.334 1473.54 L275.265 1473.54 L275.265 1477.43 L270.334 1477.43 L270.334 1485.58 L265.681 1485.58 L265.681 1477.43 L250.08 1477.43 L250.08 1472.92 L264.455 1451.02 Z\" fill=\"#000000\" fill-rule=\"nonzero\" fill-opacity=\"1\" /><path clip-path=\"url(#clip540)\" d=\"M292.996 1454.1 Q289.385 1454.1 287.556 1457.66 Q285.751 1461.2 285.751 1468.33 Q285.751 1475.44 287.556 1479.01 Q289.385 1482.55 292.996 1482.55 Q296.63 1482.55 298.436 1479.01 Q300.265 1475.44 300.265 1468.33 Q300.265 1461.2 298.436 1457.66 Q296.63 1454.1 292.996 1454.1 M292.996 1450.39 Q298.806 1450.39 301.862 1455 Q304.94 1459.58 304.94 1468.33 Q304.94 1477.06 301.862 1481.67 Q298.806 1486.25 292.996 1486.25 Q287.186 1486.25 284.107 1481.67 Q281.052 1477.06 281.052 1468.33 Q281.052 1459.58 284.107 1455 Q287.186 1450.39 292.996 1450.39 Z\" fill=\"#000000\" fill-rule=\"nonzero\" fill-opacity=\"1\" /><path clip-path=\"url(#clip540)\" d=\"M732.287 1468.75 L761.963 1468.75 L761.963 1472.69 L732.287 1472.69 L732.287 1468.75 Z\" fill=\"#000000\" fill-rule=\"nonzero\" fill-opacity=\"1\" /><path clip-path=\"url(#clip540)\" d=\"M776.083 1481.64 L792.402 1481.64 L792.402 1485.58 L770.458 1485.58 L770.458 1481.64 Q773.12 1478.89 777.703 1474.26 Q782.31 1469.61 783.49 1468.27 Q785.736 1465.74 786.615 1464.01 Q787.518 1462.25 787.518 1460.56 Q787.518 1457.8 785.574 1456.07 Q783.652 1454.33 780.551 1454.33 Q778.352 1454.33 775.898 1455.09 Q773.467 1455.86 770.69 1457.41 L770.69 1452.69 Q773.514 1451.55 775.967 1450.97 Q778.421 1450.39 780.458 1450.39 Q785.828 1450.39 789.023 1453.08 Q792.217 1455.77 792.217 1460.26 Q792.217 1462.39 791.407 1464.31 Q790.62 1466.2 788.514 1468.8 Q787.935 1469.47 784.833 1472.69 Q781.731 1475.88 776.083 1481.64 Z\" fill=\"#000000\" fill-rule=\"nonzero\" fill-opacity=\"1\" /><path clip-path=\"url(#clip540)\" d=\"M812.217 1454.1 Q808.606 1454.1 806.777 1457.66 Q804.972 1461.2 804.972 1468.33 Q804.972 1475.44 806.777 1479.01 Q808.606 1482.55 812.217 1482.55 Q815.851 1482.55 817.657 1479.01 Q819.486 1475.44 819.486 1468.33 Q819.486 1461.2 817.657 1457.66 Q815.851 1454.1 812.217 1454.1 M812.217 1450.39 Q818.027 1450.39 821.083 1455 Q824.162 1459.58 824.162 1468.33 Q824.162 1477.06 821.083 1481.67 Q818.027 1486.25 812.217 1486.25 Q806.407 1486.25 803.328 1481.67 Q800.273 1477.06 800.273 1468.33 Q800.273 1459.58 803.328 1455 Q806.407 1450.39 812.217 1450.39 Z\" fill=\"#000000\" fill-rule=\"nonzero\" fill-opacity=\"1\" /><path clip-path=\"url(#clip540)\" d=\"M1297.45 1454.1 Q1293.83 1454.1 1292.01 1457.66 Q1290.2 1461.2 1290.2 1468.33 Q1290.2 1475.44 1292.01 1479.01 Q1293.83 1482.55 1297.45 1482.55 Q1301.08 1482.55 1302.89 1479.01 Q1304.71 1475.44 1304.71 1468.33 Q1304.71 1461.2 1302.89 1457.66 Q1301.08 1454.1 1297.45 1454.1 M1297.45 1450.39 Q1303.26 1450.39 1306.31 1455 Q1309.39 1459.58 1309.39 1468.33 Q1309.39 1477.06 1306.31 1481.67 Q1303.26 1486.25 1297.45 1486.25 Q1291.64 1486.25 1288.56 1481.67 Q1285.5 1477.06 1285.5 1468.33 Q1285.5 1459.58 1288.56 1455 Q1291.64 1450.39 1297.45 1450.39 Z\" fill=\"#000000\" fill-rule=\"nonzero\" fill-opacity=\"1\" /><path clip-path=\"url(#clip540)\" d=\"M1795.44 1481.64 L1811.76 1481.64 L1811.76 1485.58 L1789.81 1485.58 L1789.81 1481.64 Q1792.48 1478.89 1797.06 1474.26 Q1801.67 1469.61 1802.85 1468.27 Q1805.09 1465.74 1805.97 1464.01 Q1806.87 1462.25 1806.87 1460.56 Q1806.87 1457.8 1804.93 1456.07 Q1803.01 1454.33 1799.91 1454.33 Q1797.71 1454.33 1795.25 1455.09 Q1792.82 1455.86 1790.05 1457.41 L1790.05 1452.69 Q1792.87 1451.55 1795.32 1450.97 Q1797.78 1450.39 1799.81 1450.39 Q1805.18 1450.39 1808.38 1453.08 Q1811.57 1455.77 1811.57 1460.26 Q1811.57 1462.39 1810.76 1464.31 Q1809.98 1466.2 1807.87 1468.8 Q1807.29 1469.47 1804.19 1472.69 Q1801.09 1475.88 1795.44 1481.64 Z\" fill=\"#000000\" fill-rule=\"nonzero\" fill-opacity=\"1\" /><path clip-path=\"url(#clip540)\" d=\"M1831.57 1454.1 Q1827.96 1454.1 1826.13 1457.66 Q1824.33 1461.2 1824.33 1468.33 Q1824.33 1475.44 1826.13 1479.01 Q1827.96 1482.55 1831.57 1482.55 Q1835.21 1482.55 1837.01 1479.01 Q1838.84 1475.44 1838.84 1468.33 Q1838.84 1461.2 1837.01 1457.66 Q1835.21 1454.1 1831.57 1454.1 M1831.57 1450.39 Q1837.38 1450.39 1840.44 1455 Q1843.52 1459.58 1843.52 1468.33 Q1843.52 1477.06 1840.44 1481.67 Q1837.38 1486.25 1831.57 1486.25 Q1825.76 1486.25 1822.68 1481.67 Q1819.63 1477.06 1819.63 1468.33 Q1819.63 1459.58 1822.68 1455 Q1825.76 1450.39 1831.57 1450.39 Z\" fill=\"#000000\" fill-rule=\"nonzero\" fill-opacity=\"1\" /><path clip-path=\"url(#clip540)\" d=\"M2324.06 1455.09 L2312.25 1473.54 L2324.06 1473.54 L2324.06 1455.09 M2322.83 1451.02 L2328.71 1451.02 L2328.71 1473.54 L2333.64 1473.54 L2333.64 1477.43 L2328.71 1477.43 L2328.71 1485.58 L2324.06 1485.58 L2324.06 1477.43 L2308.46 1477.43 L2308.46 1472.92 L2322.83 1451.02 Z\" fill=\"#000000\" fill-rule=\"nonzero\" fill-opacity=\"1\" /><path clip-path=\"url(#clip540)\" d=\"M2351.37 1454.1 Q2347.76 1454.1 2345.93 1457.66 Q2344.13 1461.2 2344.13 1468.33 Q2344.13 1475.44 2345.93 1479.01 Q2347.76 1482.55 2351.37 1482.55 Q2355.01 1482.55 2356.81 1479.01 Q2358.64 1475.44 2358.64 1468.33 Q2358.64 1461.2 2356.81 1457.66 Q2355.01 1454.1 2351.37 1454.1 M2351.37 1450.39 Q2357.18 1450.39 2360.24 1455 Q2363.32 1459.58 2363.32 1468.33 Q2363.32 1477.06 2360.24 1481.67 Q2357.18 1486.25 2351.37 1486.25 Q2345.56 1486.25 2342.48 1481.67 Q2339.43 1477.06 2339.43 1468.33 Q2339.43 1459.58 2342.48 1455 Q2345.56 1450.39 2351.37 1450.39 Z\" fill=\"#000000\" fill-rule=\"nonzero\" fill-opacity=\"1\" /><path clip-path=\"url(#clip540)\" d=\"M1314.06 1532.4 L1301.17 1549.74 L1314.73 1568.04 L1307.82 1568.04 L1297.45 1554.04 L1287.07 1568.04 L1280.16 1568.04 L1294.01 1549.39 L1281.34 1532.4 L1288.25 1532.4 L1297.7 1545.1 L1307.15 1532.4 L1314.06 1532.4 Z\" fill=\"#000000\" fill-rule=\"nonzero\" fill-opacity=\"1\" /><polyline clip-path=\"url(#clip540)\" style=\"stroke:#000000; stroke-linecap:round; stroke-linejoin:round; stroke-width:4; stroke-opacity:1; fill:none\" points=\"242.135,1423.18 242.135,47.2441 \"/>\n",
       "<polyline clip-path=\"url(#clip540)\" style=\"stroke:#000000; stroke-linecap:round; stroke-linejoin:round; stroke-width:4; stroke-opacity:1; fill:none\" points=\"242.135,1306.36 261.032,1306.36 \"/>\n",
       "<polyline clip-path=\"url(#clip540)\" style=\"stroke:#000000; stroke-linecap:round; stroke-linejoin:round; stroke-width:4; stroke-opacity:1; fill:none\" points=\"242.135,1046.74 261.032,1046.74 \"/>\n",
       "<polyline clip-path=\"url(#clip540)\" style=\"stroke:#000000; stroke-linecap:round; stroke-linejoin:round; stroke-width:4; stroke-opacity:1; fill:none\" points=\"242.135,787.134 261.032,787.134 \"/>\n",
       "<polyline clip-path=\"url(#clip540)\" style=\"stroke:#000000; stroke-linecap:round; stroke-linejoin:round; stroke-width:4; stroke-opacity:1; fill:none\" points=\"242.135,527.524 261.032,527.524 \"/>\n",
       "<polyline clip-path=\"url(#clip540)\" style=\"stroke:#000000; stroke-linecap:round; stroke-linejoin:round; stroke-width:4; stroke-opacity:1; fill:none\" points=\"242.135,267.913 261.032,267.913 \"/>\n",
       "<path clip-path=\"url(#clip540)\" d=\"M114.26 1306.81 L143.936 1306.81 L143.936 1310.74 L114.26 1310.74 L114.26 1306.81 Z\" fill=\"#000000\" fill-rule=\"nonzero\" fill-opacity=\"1\" /><path clip-path=\"url(#clip540)\" d=\"M158.056 1319.7 L174.376 1319.7 L174.376 1323.64 L152.431 1323.64 L152.431 1319.7 Q155.093 1316.95 159.677 1312.32 Q164.283 1307.66 165.464 1306.32 Q167.709 1303.8 168.589 1302.06 Q169.491 1300.3 169.491 1298.61 Q169.491 1295.86 167.547 1294.12 Q165.626 1292.39 162.524 1292.39 Q160.325 1292.39 157.871 1293.15 Q155.44 1293.91 152.663 1295.46 L152.663 1290.74 Q155.487 1289.61 157.94 1289.03 Q160.394 1288.45 162.431 1288.45 Q167.802 1288.45 170.996 1291.14 Q174.19 1293.82 174.19 1298.31 Q174.19 1300.44 173.38 1302.36 Q172.593 1304.26 170.487 1306.85 Q169.908 1307.52 166.806 1310.74 Q163.704 1313.94 158.056 1319.7 Z\" fill=\"#000000\" fill-rule=\"nonzero\" fill-opacity=\"1\" /><path clip-path=\"url(#clip540)\" d=\"M194.19 1292.15 Q190.579 1292.15 188.75 1295.72 Q186.945 1299.26 186.945 1306.39 Q186.945 1313.5 188.75 1317.06 Q190.579 1320.6 194.19 1320.6 Q197.825 1320.6 199.63 1317.06 Q201.459 1313.5 201.459 1306.39 Q201.459 1299.26 199.63 1295.72 Q197.825 1292.15 194.19 1292.15 M194.19 1288.45 Q200 1288.45 203.056 1293.06 Q206.135 1297.64 206.135 1306.39 Q206.135 1315.12 203.056 1319.72 Q200 1324.31 194.19 1324.31 Q188.38 1324.31 185.301 1319.72 Q182.246 1315.12 182.246 1306.39 Q182.246 1297.64 185.301 1293.06 Q188.38 1288.45 194.19 1288.45 Z\" fill=\"#000000\" fill-rule=\"nonzero\" fill-opacity=\"1\" /><path clip-path=\"url(#clip540)\" d=\"M114.26 1047.2 L143.936 1047.2 L143.936 1051.13 L114.26 1051.13 L114.26 1047.2 Z\" fill=\"#000000\" fill-rule=\"nonzero\" fill-opacity=\"1\" /><path clip-path=\"url(#clip540)\" d=\"M154.839 1060.09 L162.477 1060.09 L162.477 1033.72 L154.167 1035.39 L154.167 1031.13 L162.431 1029.46 L167.107 1029.46 L167.107 1060.09 L174.746 1060.09 L174.746 1064.02 L154.839 1064.02 L154.839 1060.09 Z\" fill=\"#000000\" fill-rule=\"nonzero\" fill-opacity=\"1\" /><path clip-path=\"url(#clip540)\" d=\"M194.19 1032.54 Q190.579 1032.54 188.75 1036.11 Q186.945 1039.65 186.945 1046.78 Q186.945 1053.89 188.75 1057.45 Q190.579 1060.99 194.19 1060.99 Q197.825 1060.99 199.63 1057.45 Q201.459 1053.89 201.459 1046.78 Q201.459 1039.65 199.63 1036.11 Q197.825 1032.54 194.19 1032.54 M194.19 1028.84 Q200 1028.84 203.056 1033.45 Q206.135 1038.03 206.135 1046.78 Q206.135 1055.51 203.056 1060.11 Q200 1064.7 194.19 1064.7 Q188.38 1064.7 185.301 1060.11 Q182.246 1055.51 182.246 1046.78 Q182.246 1038.03 185.301 1033.45 Q188.38 1028.84 194.19 1028.84 Z\" fill=\"#000000\" fill-rule=\"nonzero\" fill-opacity=\"1\" /><path clip-path=\"url(#clip540)\" d=\"M194.19 772.933 Q190.579 772.933 188.75 776.498 Q186.945 780.039 186.945 787.169 Q186.945 794.275 188.75 797.84 Q190.579 801.382 194.19 801.382 Q197.825 801.382 199.63 797.84 Q201.459 794.275 201.459 787.169 Q201.459 780.039 199.63 776.498 Q197.825 772.933 194.19 772.933 M194.19 769.229 Q200 769.229 203.056 773.836 Q206.135 778.419 206.135 787.169 Q206.135 795.896 203.056 800.502 Q200 805.085 194.19 805.085 Q188.38 805.085 185.301 800.502 Q182.246 795.896 182.246 787.169 Q182.246 778.419 185.301 773.836 Q188.38 769.229 194.19 769.229 Z\" fill=\"#000000\" fill-rule=\"nonzero\" fill-opacity=\"1\" /><path clip-path=\"url(#clip540)\" d=\"M154.839 540.868 L162.477 540.868 L162.477 514.503 L154.167 516.169 L154.167 511.91 L162.431 510.244 L167.107 510.244 L167.107 540.868 L174.746 540.868 L174.746 544.804 L154.839 544.804 L154.839 540.868 Z\" fill=\"#000000\" fill-rule=\"nonzero\" fill-opacity=\"1\" /><path clip-path=\"url(#clip540)\" d=\"M194.19 513.322 Q190.579 513.322 188.75 516.887 Q186.945 520.429 186.945 527.558 Q186.945 534.665 188.75 538.23 Q190.579 541.771 194.19 541.771 Q197.825 541.771 199.63 538.23 Q201.459 534.665 201.459 527.558 Q201.459 520.429 199.63 516.887 Q197.825 513.322 194.19 513.322 M194.19 509.619 Q200 509.619 203.056 514.225 Q206.135 518.808 206.135 527.558 Q206.135 536.285 203.056 540.892 Q200 545.475 194.19 545.475 Q188.38 545.475 185.301 540.892 Q182.246 536.285 182.246 527.558 Q182.246 518.808 185.301 514.225 Q188.38 509.619 194.19 509.619 Z\" fill=\"#000000\" fill-rule=\"nonzero\" fill-opacity=\"1\" /><path clip-path=\"url(#clip540)\" d=\"M158.056 281.258 L174.376 281.258 L174.376 285.193 L152.431 285.193 L152.431 281.258 Q155.093 278.503 159.677 273.874 Q164.283 269.221 165.464 267.878 Q167.709 265.355 168.589 263.619 Q169.491 261.86 169.491 260.17 Q169.491 257.415 167.547 255.679 Q165.626 253.943 162.524 253.943 Q160.325 253.943 157.871 254.707 Q155.44 255.471 152.663 257.022 L152.663 252.3 Q155.487 251.165 157.94 250.587 Q160.394 250.008 162.431 250.008 Q167.802 250.008 170.996 252.693 Q174.19 255.378 174.19 259.869 Q174.19 261.999 173.38 263.92 Q172.593 265.818 170.487 268.411 Q169.908 269.082 166.806 272.3 Q163.704 275.494 158.056 281.258 Z\" fill=\"#000000\" fill-rule=\"nonzero\" fill-opacity=\"1\" /><path clip-path=\"url(#clip540)\" d=\"M194.19 253.712 Q190.579 253.712 188.75 257.277 Q186.945 260.818 186.945 267.948 Q186.945 275.054 188.75 278.619 Q190.579 282.161 194.19 282.161 Q197.825 282.161 199.63 278.619 Q201.459 275.054 201.459 267.948 Q201.459 260.818 199.63 257.277 Q197.825 253.712 194.19 253.712 M194.19 250.008 Q200 250.008 203.056 254.614 Q206.135 259.198 206.135 267.948 Q206.135 276.675 203.056 281.281 Q200 285.864 194.19 285.864 Q188.38 285.864 185.301 281.281 Q182.246 276.675 182.246 267.948 Q182.246 259.198 185.301 254.614 Q188.38 250.008 194.19 250.008 Z\" fill=\"#000000\" fill-rule=\"nonzero\" fill-opacity=\"1\" /><path clip-path=\"url(#clip540)\" d=\"M67.3143 733.525 Q73.68 736.008 75.6216 738.363 Q77.5631 740.718 77.5631 744.665 L77.5631 749.344 L72.6615 749.344 L72.6615 745.906 Q72.6615 743.487 71.5157 742.151 Q70.3699 740.814 66.1048 739.191 L63.4312 738.14 L28.3562 752.559 L28.3562 746.352 L56.238 735.212 L28.3562 724.072 L28.3562 717.865 L67.3143 733.525 Z\" fill=\"#000000\" fill-rule=\"nonzero\" fill-opacity=\"1\" /><polyline clip-path=\"url(#clip542)\" style=\"stroke:#009af9; stroke-linecap:round; stroke-linejoin:round; stroke-width:4; stroke-opacity:1; fill:none\" points=\"1167.64,1384.24 1170.32,1370.84 1186.02,1292.35 1193.32,1255.84 1203.11,1206.9 1211.2,1166.46 1218.72,1128.86 1228.16,1081.65 1236.63,1039.3 1246.32,990.835 1253.57,954.604 1262.83,908.264 1271.29,865.97 1280.92,817.834 1288.55,779.675 1298.03,732.268 1305.3,695.961 1315.53,644.775 1323.18,606.524 1331.88,563.024 1340.5,519.944 1349.98,472.548 1357.22,436.346 1366.36,390.662 1374.81,348.409 1383.52,304.833 1392.36,260.663 1401.58,214.541 1408.85,178.209 1425.39,95.4688 1427.25,86.1857 \"/>\n",
       "<polyline clip-path=\"url(#clip542)\" style=\"stroke:#e26f46; stroke-linecap:round; stroke-linejoin:round; stroke-width:4; stroke-opacity:1; fill:none\" points=\"908.03,787.134 916.07,787.134 963.162,787.134 985.069,787.134 1014.43,787.134 1038.7,787.134 1061.26,787.134 1089.58,787.134 1114.99,787.134 1144.07,787.134 1165.81,787.134 1193.61,787.134 1218.99,787.134 1247.87,787.134 1270.77,787.134 1299.21,787.134 1321,787.134 1351.71,787.134 1374.66,787.134 1400.76,787.134 1426.61,787.134 1455.04,787.134 1476.76,787.134 1504.18,787.134 1529.53,787.134 1555.67,787.134 1582.17,787.134 1609.85,787.134 1631.65,787.134 1681.29,787.134 1686.86,787.134 \"/>\n",
       "<path clip-path=\"url(#clip540)\" d=\"M2018.91 248.629 L2282.4 248.629 L2282.4 93.1086 L2018.91 93.1086  Z\" fill=\"#ffffff\" fill-rule=\"evenodd\" fill-opacity=\"1\"/>\n",
       "<polyline clip-path=\"url(#clip540)\" style=\"stroke:#000000; stroke-linecap:round; stroke-linejoin:round; stroke-width:4; stroke-opacity:1; fill:none\" points=\"2018.91,248.629 2282.4,248.629 2282.4,93.1086 2018.91,93.1086 2018.91,248.629 \"/>\n",
       "<polyline clip-path=\"url(#clip540)\" style=\"stroke:#009af9; stroke-linecap:round; stroke-linejoin:round; stroke-width:4; stroke-opacity:1; fill:none\" points=\"2042.36,144.949 2183.07,144.949 \"/>\n",
       "<path clip-path=\"url(#clip540)\" d=\"M2220.36 164.636 Q2218.56 169.266 2216.84 170.678 Q2215.13 172.09 2212.26 172.09 L2208.86 172.09 L2208.86 168.525 L2211.36 168.525 Q2213.12 168.525 2214.09 167.692 Q2215.06 166.858 2216.24 163.756 L2217.01 161.812 L2206.52 136.303 L2211.03 136.303 L2219.14 156.581 L2227.24 136.303 L2231.75 136.303 L2220.36 164.636 Z\" fill=\"#000000\" fill-rule=\"nonzero\" fill-opacity=\"1\" /><path clip-path=\"url(#clip540)\" d=\"M2239.04 158.293 L2246.68 158.293 L2246.68 131.928 L2238.37 133.595 L2238.37 129.335 L2246.64 127.669 L2251.31 127.669 L2251.31 158.293 L2258.95 158.293 L2258.95 162.229 L2239.04 162.229 L2239.04 158.293 Z\" fill=\"#000000\" fill-rule=\"nonzero\" fill-opacity=\"1\" /><polyline clip-path=\"url(#clip540)\" style=\"stroke:#e26f46; stroke-linecap:round; stroke-linejoin:round; stroke-width:4; stroke-opacity:1; fill:none\" points=\"2042.36,196.789 2183.07,196.789 \"/>\n",
       "<path clip-path=\"url(#clip540)\" d=\"M2220.36 216.476 Q2218.56 221.106 2216.84 222.518 Q2215.13 223.93 2212.26 223.93 L2208.86 223.93 L2208.86 220.365 L2211.36 220.365 Q2213.12 220.365 2214.09 219.532 Q2215.06 218.698 2216.24 215.596 L2217.01 213.652 L2206.52 188.143 L2211.03 188.143 L2219.14 208.421 L2227.24 188.143 L2231.75 188.143 L2220.36 216.476 Z\" fill=\"#000000\" fill-rule=\"nonzero\" fill-opacity=\"1\" /><path clip-path=\"url(#clip540)\" d=\"M2242.26 210.133 L2258.58 210.133 L2258.58 214.069 L2236.64 214.069 L2236.64 210.133 Q2239.3 207.379 2243.88 202.749 Q2248.49 198.096 2249.67 196.754 Q2251.91 194.231 2252.79 192.495 Q2253.7 190.735 2253.7 189.046 Q2253.7 186.291 2251.75 184.555 Q2249.83 182.819 2246.73 182.819 Q2244.53 182.819 2242.08 183.583 Q2239.65 184.347 2236.87 185.897 L2236.87 181.175 Q2239.69 180.041 2242.15 179.462 Q2244.6 178.884 2246.64 178.884 Q2252.01 178.884 2255.2 181.569 Q2258.39 184.254 2258.39 188.745 Q2258.39 190.874 2257.58 192.796 Q2256.8 194.694 2254.69 197.286 Q2254.11 197.958 2251.01 201.175 Q2247.91 204.37 2242.26 210.133 Z\" fill=\"#000000\" fill-rule=\"nonzero\" fill-opacity=\"1\" /></svg>\n"
      ]
     },
     "execution_count": 36,
     "metadata": {},
     "output_type": "execute_result"
    }
   ],
   "source": [
    "plot!(aspect_ratio = 1, xlabel = \"x\", ylabel = \"y\")\n",
    "g(x) = 0\n",
    "plot!(g, -15,15)"
   ]
  },
  {
   "cell_type": "markdown",
   "metadata": {
    "deletable": false,
    "editable": false,
    "nbgrader": {
     "cell_type": "markdown",
     "checksum": "eb143b476451e8c726926f11aa78a093",
     "grade": false,
     "grade_id": "cell-9f1a99a3704a6484",
     "locked": true,
     "schema_version": 3,
     "solution": false,
     "task": false
    }
   },
   "source": [
    "We can now find that y = 2x intersects y = 0 at (0,0).  \n",
    "### Problem 2. Finding the solution to a system of equations\n",
    "\n",
    "                                                    2x − y = −1\n",
    "                                                     4x + y = 4\n",
    "                                                \n",
    "                                                \n",
    "                                                \n",
    "Step 1:  Rearrange Both equations so that y is isolated on the left side:\n",
    "\n",
    "Equation 1: y1 = ____________\n",
    "Equation 2: y2 = ____________"
   ]
  },
  {
   "cell_type": "code",
   "execution_count": 43,
   "metadata": {
    "deletable": false,
    "nbgrader": {
     "cell_type": "code",
     "checksum": "96d37de74b57efeaab99eaf498bcba3b",
     "grade": false,
     "grade_id": "problem2",
     "locked": false,
     "schema_version": 3,
     "solution": true,
     "task": false
    }
   },
   "outputs": [
    {
     "data": {
      "image/png": "[encoded data removed]",
      "image/svg+xml": [
       "<?xml version=\"1.0\" encoding=\"utf-8\"?>\n",
       "<svg xmlns=\"http://www.w3.org/2000/svg\" xmlns:xlink=\"http://www.w3.org/1999/xlink\" width=\"600\" height=\"400\" viewBox=\"0 0 2400 1600\">\n",
       "<defs>\n",
       "  <clipPath id=\"clip580\">\n",
       "    <rect x=\"0\" y=\"0\" width=\"2400\" height=\"1600\"/>\n",
       "  </clipPath>\n",
       "</defs>\n",
       "<path clip-path=\"url(#clip580)\" d=\"M0 1600 L2400 1600 L2400 8.88178e-14 L0 8.88178e-14  Z\" fill=\"#ffffff\" fill-rule=\"evenodd\" fill-opacity=\"1\"/>\n",
       "<defs>\n",
       "  <clipPath id=\"clip581\">\n",
       "    <rect x=\"480\" y=\"0\" width=\"1681\" height=\"1600\"/>\n",
       "  </clipPath>\n",
       "</defs>\n",
       "<path clip-path=\"url(#clip580)\" d=\"M178.867 1486.45 L2352.76 1486.45 L2352.76 47.2441 L178.867 47.2441  Z\" fill=\"#ffffff\" fill-rule=\"evenodd\" fill-opacity=\"1\"/>\n",
       "<defs>\n",
       "  <clipPath id=\"clip582\">\n",
       "    <rect x=\"178\" y=\"47\" width=\"2175\" height=\"1440\"/>\n",
       "  </clipPath>\n",
       "</defs>\n",
       "<polyline clip-path=\"url(#clip582)\" style=\"stroke:#000000; stroke-linecap:round; stroke-linejoin:round; stroke-width:2; stroke-opacity:0.1; fill:none\" points=\"445.476,1486.45 445.476,47.2441 \"/>\n",
       "<polyline clip-path=\"url(#clip582)\" style=\"stroke:#000000; stroke-linecap:round; stroke-linejoin:round; stroke-width:2; stroke-opacity:0.1; fill:none\" points=\"855.643,1486.45 855.643,47.2441 \"/>\n",
       "<polyline clip-path=\"url(#clip582)\" style=\"stroke:#000000; stroke-linecap:round; stroke-linejoin:round; stroke-width:2; stroke-opacity:0.1; fill:none\" points=\"1265.81,1486.45 1265.81,47.2441 \"/>\n",
       "<polyline clip-path=\"url(#clip582)\" style=\"stroke:#000000; stroke-linecap:round; stroke-linejoin:round; stroke-width:2; stroke-opacity:0.1; fill:none\" points=\"1675.98,1486.45 1675.98,47.2441 \"/>\n",
       "<polyline clip-path=\"url(#clip582)\" style=\"stroke:#000000; stroke-linecap:round; stroke-linejoin:round; stroke-width:2; stroke-opacity:0.1; fill:none\" points=\"2086.15,1486.45 2086.15,47.2441 \"/>\n",
       "<polyline clip-path=\"url(#clip582)\" style=\"stroke:#000000; stroke-linecap:round; stroke-linejoin:round; stroke-width:2; stroke-opacity:0.1; fill:none\" points=\"178.867,1242.05 2352.76,1242.05 \"/>\n",
       "<polyline clip-path=\"url(#clip582)\" style=\"stroke:#000000; stroke-linecap:round; stroke-linejoin:round; stroke-width:2; stroke-opacity:0.1; fill:none\" points=\"178.867,902.62 2352.76,902.62 \"/>\n",
       "<polyline clip-path=\"url(#clip582)\" style=\"stroke:#000000; stroke-linecap:round; stroke-linejoin:round; stroke-width:2; stroke-opacity:0.1; fill:none\" points=\"178.867,563.185 2352.76,563.185 \"/>\n",
       "<polyline clip-path=\"url(#clip582)\" style=\"stroke:#000000; stroke-linecap:round; stroke-linejoin:round; stroke-width:2; stroke-opacity:0.1; fill:none\" points=\"178.867,223.75 2352.76,223.75 \"/>\n",
       "<polyline clip-path=\"url(#clip580)\" style=\"stroke:#000000; stroke-linecap:round; stroke-linejoin:round; stroke-width:4; stroke-opacity:1; fill:none\" points=\"178.867,1486.45 2352.76,1486.45 \"/>\n",
       "<polyline clip-path=\"url(#clip580)\" style=\"stroke:#000000; stroke-linecap:round; stroke-linejoin:round; stroke-width:4; stroke-opacity:1; fill:none\" points=\"445.476,1486.45 445.476,1467.55 \"/>\n",
       "<polyline clip-path=\"url(#clip580)\" style=\"stroke:#000000; stroke-linecap:round; stroke-linejoin:round; stroke-width:4; stroke-opacity:1; fill:none\" points=\"855.643,1486.45 855.643,1467.55 \"/>\n",
       "<polyline clip-path=\"url(#clip580)\" style=\"stroke:#000000; stroke-linecap:round; stroke-linejoin:round; stroke-width:4; stroke-opacity:1; fill:none\" points=\"1265.81,1486.45 1265.81,1467.55 \"/>\n",
       "<polyline clip-path=\"url(#clip580)\" style=\"stroke:#000000; stroke-linecap:round; stroke-linejoin:round; stroke-width:4; stroke-opacity:1; fill:none\" points=\"1675.98,1486.45 1675.98,1467.55 \"/>\n",
       "<polyline clip-path=\"url(#clip580)\" style=\"stroke:#000000; stroke-linecap:round; stroke-linejoin:round; stroke-width:4; stroke-opacity:1; fill:none\" points=\"2086.15,1486.45 2086.15,1467.55 \"/>\n",
       "<path clip-path=\"url(#clip580)\" d=\"M414.376 1532.02 L444.052 1532.02 L444.052 1535.95 L414.376 1535.95 L414.376 1532.02 Z\" fill=\"#000000\" fill-rule=\"nonzero\" fill-opacity=\"1\" /><path clip-path=\"url(#clip580)\" d=\"M466.992 1518.36 L455.186 1536.81 L466.992 1536.81 L466.992 1518.36 M465.765 1514.29 L471.645 1514.29 L471.645 1536.81 L476.575 1536.81 L476.575 1540.7 L471.645 1540.7 L471.645 1548.85 L466.992 1548.85 L466.992 1540.7 L451.39 1540.7 L451.39 1536.19 L465.765 1514.29 Z\" fill=\"#000000\" fill-rule=\"nonzero\" fill-opacity=\"1\" /><path clip-path=\"url(#clip580)\" d=\"M825.586 1532.02 L855.262 1532.02 L855.262 1535.95 L825.586 1535.95 L825.586 1532.02 Z\" fill=\"#000000\" fill-rule=\"nonzero\" fill-opacity=\"1\" /><path clip-path=\"url(#clip580)\" d=\"M869.382 1544.91 L885.701 1544.91 L885.701 1548.85 L863.757 1548.85 L863.757 1544.91 Q866.419 1542.16 871.002 1537.53 Q875.609 1532.88 876.789 1531.53 Q879.035 1529.01 879.914 1527.27 Q880.817 1525.51 880.817 1523.82 Q880.817 1521.07 878.873 1519.33 Q876.951 1517.6 873.849 1517.6 Q871.65 1517.6 869.197 1518.36 Q866.766 1519.13 863.988 1520.68 L863.988 1515.95 Q866.812 1514.82 869.266 1514.24 Q871.72 1513.66 873.757 1513.66 Q879.127 1513.66 882.322 1516.35 Q885.516 1519.03 885.516 1523.52 Q885.516 1525.65 884.706 1527.57 Q883.919 1529.47 881.812 1532.07 Q881.234 1532.74 878.132 1535.95 Q875.03 1539.15 869.382 1544.91 Z\" fill=\"#000000\" fill-rule=\"nonzero\" fill-opacity=\"1\" /><path clip-path=\"url(#clip580)\" d=\"M1265.81 1517.37 Q1262.2 1517.37 1260.37 1520.93 Q1258.57 1524.47 1258.57 1531.6 Q1258.57 1538.71 1260.37 1542.27 Q1262.2 1545.82 1265.81 1545.82 Q1269.45 1545.82 1271.25 1542.27 Q1273.08 1538.71 1273.08 1531.6 Q1273.08 1524.47 1271.25 1520.93 Q1269.45 1517.37 1265.81 1517.37 M1265.81 1513.66 Q1271.62 1513.66 1274.68 1518.27 Q1277.76 1522.85 1277.76 1531.6 Q1277.76 1540.33 1274.68 1544.94 Q1271.62 1549.52 1265.81 1549.52 Q1260 1549.52 1256.92 1544.94 Q1253.87 1540.33 1253.87 1531.6 Q1253.87 1522.85 1256.92 1518.27 Q1260 1513.66 1265.81 1513.66 Z\" fill=\"#000000\" fill-rule=\"nonzero\" fill-opacity=\"1\" /><path clip-path=\"url(#clip580)\" d=\"M1670.63 1544.91 L1686.95 1544.91 L1686.95 1548.85 L1665.01 1548.85 L1665.01 1544.91 Q1667.67 1542.16 1672.25 1537.53 Q1676.86 1532.88 1678.04 1531.53 Q1680.28 1529.01 1681.16 1527.27 Q1682.07 1525.51 1682.07 1523.82 Q1682.07 1521.07 1680.12 1519.33 Q1678.2 1517.6 1675.1 1517.6 Q1672.9 1517.6 1670.45 1518.36 Q1668.02 1519.13 1665.24 1520.68 L1665.24 1515.95 Q1668.06 1514.82 1670.52 1514.24 Q1672.97 1513.66 1675.01 1513.66 Q1680.38 1513.66 1683.57 1516.35 Q1686.77 1519.03 1686.77 1523.52 Q1686.77 1525.65 1685.96 1527.57 Q1685.17 1529.47 1683.06 1532.07 Q1682.48 1532.74 1679.38 1535.95 Q1676.28 1539.15 1670.63 1544.91 Z\" fill=\"#000000\" fill-rule=\"nonzero\" fill-opacity=\"1\" /><path clip-path=\"url(#clip580)\" d=\"M2089.16 1518.36 L2077.35 1536.81 L2089.16 1536.81 L2089.16 1518.36 M2087.93 1514.29 L2093.81 1514.29 L2093.81 1536.81 L2098.74 1536.81 L2098.74 1540.7 L2093.81 1540.7 L2093.81 1548.85 L2089.16 1548.85 L2089.16 1540.7 L2073.55 1540.7 L2073.55 1536.19 L2087.93 1514.29 Z\" fill=\"#000000\" fill-rule=\"nonzero\" fill-opacity=\"1\" /><polyline clip-path=\"url(#clip580)\" style=\"stroke:#000000; stroke-linecap:round; stroke-linejoin:round; stroke-width:4; stroke-opacity:1; fill:none\" points=\"178.867,1486.45 178.867,47.2441 \"/>\n",
       "<polyline clip-path=\"url(#clip580)\" style=\"stroke:#000000; stroke-linecap:round; stroke-linejoin:round; stroke-width:4; stroke-opacity:1; fill:none\" points=\"178.867,1242.05 197.764,1242.05 \"/>\n",
       "<polyline clip-path=\"url(#clip580)\" style=\"stroke:#000000; stroke-linecap:round; stroke-linejoin:round; stroke-width:4; stroke-opacity:1; fill:none\" points=\"178.867,902.62 197.764,902.62 \"/>\n",
       "<polyline clip-path=\"url(#clip580)\" style=\"stroke:#000000; stroke-linecap:round; stroke-linejoin:round; stroke-width:4; stroke-opacity:1; fill:none\" points=\"178.867,563.185 197.764,563.185 \"/>\n",
       "<polyline clip-path=\"url(#clip580)\" style=\"stroke:#000000; stroke-linecap:round; stroke-linejoin:round; stroke-width:4; stroke-opacity:1; fill:none\" points=\"178.867,223.75 197.764,223.75 \"/>\n",
       "<path clip-path=\"url(#clip580)\" d=\"M50.9921 1242.51 L80.6679 1242.51 L80.6679 1246.44 L50.9921 1246.44 L50.9921 1242.51 Z\" fill=\"#000000\" fill-rule=\"nonzero\" fill-opacity=\"1\" /><path clip-path=\"url(#clip580)\" d=\"M91.5706 1255.4 L99.2095 1255.4 L99.2095 1229.03 L90.8993 1230.7 L90.8993 1226.44 L99.1632 1224.77 L103.839 1224.77 L103.839 1255.4 L111.478 1255.4 L111.478 1259.33 L91.5706 1259.33 L91.5706 1255.4 Z\" fill=\"#000000\" fill-rule=\"nonzero\" fill-opacity=\"1\" /><path clip-path=\"url(#clip580)\" d=\"M130.922 1227.85 Q127.311 1227.85 125.482 1231.42 Q123.677 1234.96 123.677 1242.09 Q123.677 1249.2 125.482 1252.76 Q127.311 1256.3 130.922 1256.3 Q134.556 1256.3 136.362 1252.76 Q138.191 1249.2 138.191 1242.09 Q138.191 1234.96 136.362 1231.42 Q134.556 1227.85 130.922 1227.85 M130.922 1224.15 Q136.732 1224.15 139.788 1228.76 Q142.867 1233.34 142.867 1242.09 Q142.867 1250.82 139.788 1255.42 Q136.732 1260.01 130.922 1260.01 Q125.112 1260.01 122.033 1255.42 Q118.978 1250.82 118.978 1242.09 Q118.978 1233.34 122.033 1228.76 Q125.112 1224.15 130.922 1224.15 Z\" fill=\"#000000\" fill-rule=\"nonzero\" fill-opacity=\"1\" /><path clip-path=\"url(#clip580)\" d=\"M130.922 888.419 Q127.311 888.419 125.482 891.983 Q123.677 895.525 123.677 902.655 Q123.677 909.761 125.482 913.326 Q127.311 916.868 130.922 916.868 Q134.556 916.868 136.362 913.326 Q138.191 909.761 138.191 902.655 Q138.191 895.525 136.362 891.983 Q134.556 888.419 130.922 888.419 M130.922 884.715 Q136.732 884.715 139.788 889.321 Q142.867 893.905 142.867 902.655 Q142.867 911.381 139.788 915.988 Q136.732 920.571 130.922 920.571 Q125.112 920.571 122.033 915.988 Q118.978 911.381 118.978 902.655 Q118.978 893.905 122.033 889.321 Q125.112 884.715 130.922 884.715 Z\" fill=\"#000000\" fill-rule=\"nonzero\" fill-opacity=\"1\" /><path clip-path=\"url(#clip580)\" d=\"M91.5706 576.53 L99.2095 576.53 L99.2095 550.164 L90.8993 551.831 L90.8993 547.572 L99.1632 545.905 L103.839 545.905 L103.839 576.53 L111.478 576.53 L111.478 580.465 L91.5706 580.465 L91.5706 576.53 Z\" fill=\"#000000\" fill-rule=\"nonzero\" fill-opacity=\"1\" /><path clip-path=\"url(#clip580)\" d=\"M130.922 548.984 Q127.311 548.984 125.482 552.549 Q123.677 556.09 123.677 563.22 Q123.677 570.326 125.482 573.891 Q127.311 577.433 130.922 577.433 Q134.556 577.433 136.362 573.891 Q138.191 570.326 138.191 563.22 Q138.191 556.09 136.362 552.549 Q134.556 548.984 130.922 548.984 M130.922 545.28 Q136.732 545.28 139.788 549.887 Q142.867 554.47 142.867 563.22 Q142.867 571.947 139.788 576.553 Q136.732 581.136 130.922 581.136 Q125.112 581.136 122.033 576.553 Q118.978 571.947 118.978 563.22 Q118.978 554.47 122.033 549.887 Q125.112 545.28 130.922 545.28 Z\" fill=\"#000000\" fill-rule=\"nonzero\" fill-opacity=\"1\" /><path clip-path=\"url(#clip580)\" d=\"M94.7882 237.095 L111.108 237.095 L111.108 241.03 L89.1632 241.03 L89.1632 237.095 Q91.8252 234.34 96.4085 229.711 Q101.015 225.058 102.196 223.715 Q104.441 221.192 105.321 219.456 Q106.223 217.697 106.223 216.007 Q106.223 213.253 104.279 211.516 Q102.358 209.78 99.2558 209.78 Q97.0567 209.78 94.603 210.544 Q92.1725 211.308 89.3947 212.859 L89.3947 208.137 Q92.2188 207.003 94.6724 206.424 Q97.1261 205.845 99.1632 205.845 Q104.534 205.845 107.728 208.53 Q110.922 211.216 110.922 215.706 Q110.922 217.836 110.112 219.757 Q109.325 221.655 107.219 224.248 Q106.64 224.919 103.538 228.137 Q100.436 231.331 94.7882 237.095 Z\" fill=\"#000000\" fill-rule=\"nonzero\" fill-opacity=\"1\" /><path clip-path=\"url(#clip580)\" d=\"M130.922 209.549 Q127.311 209.549 125.482 213.114 Q123.677 216.655 123.677 223.785 Q123.677 230.891 125.482 234.456 Q127.311 237.998 130.922 237.998 Q134.556 237.998 136.362 234.456 Q138.191 230.891 138.191 223.785 Q138.191 216.655 136.362 213.114 Q134.556 209.549 130.922 209.549 M130.922 205.845 Q136.732 205.845 139.788 210.452 Q142.867 215.035 142.867 223.785 Q142.867 232.512 139.788 237.118 Q136.732 241.702 130.922 241.702 Q125.112 241.702 122.033 237.118 Q118.978 232.512 118.978 223.785 Q118.978 215.035 122.033 210.452 Q125.112 205.845 130.922 205.845 Z\" fill=\"#000000\" fill-rule=\"nonzero\" fill-opacity=\"1\" /><polyline clip-path=\"url(#clip582)\" style=\"stroke:#009af9; stroke-linecap:round; stroke-linejoin:round; stroke-width:4; stroke-opacity:1; fill:none\" points=\"240.392,1208.11 261.564,1201.1 385.568,1160.05 443.255,1140.96 520.576,1115.36 584.468,1094.22 643.881,1074.55 718.464,1049.86 785.366,1027.71 861.944,1002.36 919.186,983.417 992.4,959.181 1059.22,937.062 1135.27,911.887 1195.56,891.93 1270.46,867.137 1327.82,848.149 1408.7,821.379 1469.13,801.374 1537.86,778.624 1605.92,756.093 1680.8,731.306 1738,712.372 1810.18,688.48 1876.93,666.382 1945.78,643.592 2015.57,620.492 2088.44,596.37 2145.84,577.369 2276.56,534.097 2291.23,529.242 \"/>\n",
       "<polyline clip-path=\"url(#clip582)\" style=\"stroke:#e26f46; stroke-linecap:round; stroke-linejoin:round; stroke-width:4; stroke-opacity:1; fill:none\" points=\"240.392,87.9763 261.564,101.993 385.568,184.089 443.255,222.28 520.576,273.47 584.468,315.769 643.881,355.102 718.464,404.48 785.366,448.771 861.944,499.469 919.186,537.366 992.4,585.836 1059.22,630.075 1135.27,680.425 1195.56,720.338 1270.46,769.926 1327.82,807.901 1408.7,861.442 1469.13,901.452 1537.86,946.952 1605.92,992.012 1680.8,1041.59 1738,1079.45 1810.18,1127.24 1876.93,1171.43 1945.78,1217.01 2015.57,1263.22 2088.44,1311.46 2145.84,1349.46 2276.56,1436.01 2291.23,1445.72 \"/>\n",
       "<path clip-path=\"url(#clip580)\" d=\"M2010.47 250.738 L2280.29 250.738 L2280.29 95.2176 L2010.47 95.2176  Z\" fill=\"#ffffff\" fill-rule=\"evenodd\" fill-opacity=\"1\"/>\n",
       "<polyline clip-path=\"url(#clip580)\" style=\"stroke:#000000; stroke-linecap:round; stroke-linejoin:round; stroke-width:4; stroke-opacity:1; fill:none\" points=\"2010.47,250.738 2280.29,250.738 2280.29,95.2176 2010.47,95.2176 2010.47,250.738 \"/>\n",
       "<polyline clip-path=\"url(#clip580)\" style=\"stroke:#009af9; stroke-linecap:round; stroke-linejoin:round; stroke-width:4; stroke-opacity:1; fill:none\" points=\"2034.63,147.058 2179.55,147.058 \"/>\n",
       "<path clip-path=\"url(#clip580)\" d=\"M2217.55 166.745 Q2215.75 171.375 2214.03 172.787 Q2212.32 174.199 2209.45 174.199 L2206.05 174.199 L2206.05 170.634 L2208.55 170.634 Q2210.31 170.634 2211.28 169.8 Q2212.25 168.967 2213.43 165.865 L2214.19 163.921 L2203.71 138.412 L2208.22 138.412 L2216.32 158.689 L2224.43 138.412 L2228.94 138.412 L2217.55 166.745 Z\" fill=\"#000000\" fill-rule=\"nonzero\" fill-opacity=\"1\" /><path clip-path=\"url(#clip580)\" d=\"M2236.23 160.402 L2243.87 160.402 L2243.87 134.037 L2235.56 135.703 L2235.56 131.444 L2243.82 129.778 L2248.5 129.778 L2248.5 160.402 L2256.14 160.402 L2256.14 164.338 L2236.23 164.338 L2236.23 160.402 Z\" fill=\"#000000\" fill-rule=\"nonzero\" fill-opacity=\"1\" /><polyline clip-path=\"url(#clip580)\" style=\"stroke:#e26f46; stroke-linecap:round; stroke-linejoin:round; stroke-width:4; stroke-opacity:1; fill:none\" points=\"2034.63,198.898 2179.55,198.898 \"/>\n",
       "<path clip-path=\"url(#clip580)\" d=\"M2217.55 218.585 Q2215.75 223.215 2214.03 224.627 Q2212.32 226.039 2209.45 226.039 L2206.05 226.039 L2206.05 222.474 L2208.55 222.474 Q2210.31 222.474 2211.28 221.64 Q2212.25 220.807 2213.43 217.705 L2214.19 215.761 L2203.71 190.252 L2208.22 190.252 L2216.32 210.529 L2224.43 190.252 L2228.94 190.252 L2217.55 218.585 Z\" fill=\"#000000\" fill-rule=\"nonzero\" fill-opacity=\"1\" /><path clip-path=\"url(#clip580)\" d=\"M2239.45 212.242 L2255.77 212.242 L2255.77 216.178 L2233.82 216.178 L2233.82 212.242 Q2236.49 209.488 2241.07 204.858 Q2245.68 200.205 2246.86 198.863 Q2249.1 196.34 2249.98 194.604 Q2250.88 192.844 2250.88 191.155 Q2250.88 188.4 2248.94 186.664 Q2247.02 184.928 2243.92 184.928 Q2241.72 184.928 2239.26 185.692 Q2236.83 186.455 2234.06 188.006 L2234.06 183.284 Q2236.88 182.15 2239.33 181.571 Q2241.79 180.993 2243.82 180.993 Q2249.19 180.993 2252.39 183.678 Q2255.58 186.363 2255.58 190.854 Q2255.58 192.983 2254.77 194.905 Q2253.99 196.803 2251.88 199.395 Q2251.3 200.067 2248.2 203.284 Q2245.1 206.479 2239.45 212.242 Z\" fill=\"#000000\" fill-rule=\"nonzero\" fill-opacity=\"1\" /></svg>\n"
      ],
      "text/html": [
       "<?xml version=\"1.0\" encoding=\"utf-8\"?>\n",
       "<svg xmlns=\"http://www.w3.org/2000/svg\" xmlns:xlink=\"http://www.w3.org/1999/xlink\" width=\"600\" height=\"400\" viewBox=\"0 0 2400 1600\">\n",
       "<defs>\n",
       "  <clipPath id=\"clip630\">\n",
       "    <rect x=\"0\" y=\"0\" width=\"2400\" height=\"1600\"/>\n",
       "  </clipPath>\n",
       "</defs>\n",
       "<path clip-path=\"url(#clip630)\" d=\"M0 1600 L2400 1600 L2400 8.88178e-14 L0 8.88178e-14  Z\" fill=\"#ffffff\" fill-rule=\"evenodd\" fill-opacity=\"1\"/>\n",
       "<defs>\n",
       "  <clipPath id=\"clip631\">\n",
       "    <rect x=\"480\" y=\"0\" width=\"1681\" height=\"1600\"/>\n",
       "  </clipPath>\n",
       "</defs>\n",
       "<path clip-path=\"url(#clip630)\" d=\"M178.867 1486.45 L2352.76 1486.45 L2352.76 47.2441 L178.867 47.2441  Z\" fill=\"#ffffff\" fill-rule=\"evenodd\" fill-opacity=\"1\"/>\n",
       "<defs>\n",
       "  <clipPath id=\"clip632\">\n",
       "    <rect x=\"178\" y=\"47\" width=\"2175\" height=\"1440\"/>\n",
       "  </clipPath>\n",
       "</defs>\n",
       "<polyline clip-path=\"url(#clip632)\" style=\"stroke:#000000; stroke-linecap:round; stroke-linejoin:round; stroke-width:2; stroke-opacity:0.1; fill:none\" points=\"445.476,1486.45 445.476,47.2441 \"/>\n",
       "<polyline clip-path=\"url(#clip632)\" style=\"stroke:#000000; stroke-linecap:round; stroke-linejoin:round; stroke-width:2; stroke-opacity:0.1; fill:none\" points=\"855.643,1486.45 855.643,47.2441 \"/>\n",
       "<polyline clip-path=\"url(#clip632)\" style=\"stroke:#000000; stroke-linecap:round; stroke-linejoin:round; stroke-width:2; stroke-opacity:0.1; fill:none\" points=\"1265.81,1486.45 1265.81,47.2441 \"/>\n",
       "<polyline clip-path=\"url(#clip632)\" style=\"stroke:#000000; stroke-linecap:round; stroke-linejoin:round; stroke-width:2; stroke-opacity:0.1; fill:none\" points=\"1675.98,1486.45 1675.98,47.2441 \"/>\n",
       "<polyline clip-path=\"url(#clip632)\" style=\"stroke:#000000; stroke-linecap:round; stroke-linejoin:round; stroke-width:2; stroke-opacity:0.1; fill:none\" points=\"2086.15,1486.45 2086.15,47.2441 \"/>\n",
       "<polyline clip-path=\"url(#clip632)\" style=\"stroke:#000000; stroke-linecap:round; stroke-linejoin:round; stroke-width:2; stroke-opacity:0.1; fill:none\" points=\"178.867,1242.05 2352.76,1242.05 \"/>\n",
       "<polyline clip-path=\"url(#clip632)\" style=\"stroke:#000000; stroke-linecap:round; stroke-linejoin:round; stroke-width:2; stroke-opacity:0.1; fill:none\" points=\"178.867,902.62 2352.76,902.62 \"/>\n",
       "<polyline clip-path=\"url(#clip632)\" style=\"stroke:#000000; stroke-linecap:round; stroke-linejoin:round; stroke-width:2; stroke-opacity:0.1; fill:none\" points=\"178.867,563.185 2352.76,563.185 \"/>\n",
       "<polyline clip-path=\"url(#clip632)\" style=\"stroke:#000000; stroke-linecap:round; stroke-linejoin:round; stroke-width:2; stroke-opacity:0.1; fill:none\" points=\"178.867,223.75 2352.76,223.75 \"/>\n",
       "<polyline clip-path=\"url(#clip630)\" style=\"stroke:#000000; stroke-linecap:round; stroke-linejoin:round; stroke-width:4; stroke-opacity:1; fill:none\" points=\"178.867,1486.45 2352.76,1486.45 \"/>\n",
       "<polyline clip-path=\"url(#clip630)\" style=\"stroke:#000000; stroke-linecap:round; stroke-linejoin:round; stroke-width:4; stroke-opacity:1; fill:none\" points=\"445.476,1486.45 445.476,1467.55 \"/>\n",
       "<polyline clip-path=\"url(#clip630)\" style=\"stroke:#000000; stroke-linecap:round; stroke-linejoin:round; stroke-width:4; stroke-opacity:1; fill:none\" points=\"855.643,1486.45 855.643,1467.55 \"/>\n",
       "<polyline clip-path=\"url(#clip630)\" style=\"stroke:#000000; stroke-linecap:round; stroke-linejoin:round; stroke-width:4; stroke-opacity:1; fill:none\" points=\"1265.81,1486.45 1265.81,1467.55 \"/>\n",
       "<polyline clip-path=\"url(#clip630)\" style=\"stroke:#000000; stroke-linecap:round; stroke-linejoin:round; stroke-width:4; stroke-opacity:1; fill:none\" points=\"1675.98,1486.45 1675.98,1467.55 \"/>\n",
       "<polyline clip-path=\"url(#clip630)\" style=\"stroke:#000000; stroke-linecap:round; stroke-linejoin:round; stroke-width:4; stroke-opacity:1; fill:none\" points=\"2086.15,1486.45 2086.15,1467.55 \"/>\n",
       "<path clip-path=\"url(#clip630)\" d=\"M414.376 1532.02 L444.052 1532.02 L444.052 1535.95 L414.376 1535.95 L414.376 1532.02 Z\" fill=\"#000000\" fill-rule=\"nonzero\" fill-opacity=\"1\" /><path clip-path=\"url(#clip630)\" d=\"M466.992 1518.36 L455.186 1536.81 L466.992 1536.81 L466.992 1518.36 M465.765 1514.29 L471.645 1514.29 L471.645 1536.81 L476.575 1536.81 L476.575 1540.7 L471.645 1540.7 L471.645 1548.85 L466.992 1548.85 L466.992 1540.7 L451.39 1540.7 L451.39 1536.19 L465.765 1514.29 Z\" fill=\"#000000\" fill-rule=\"nonzero\" fill-opacity=\"1\" /><path clip-path=\"url(#clip630)\" d=\"M825.586 1532.02 L855.262 1532.02 L855.262 1535.95 L825.586 1535.95 L825.586 1532.02 Z\" fill=\"#000000\" fill-rule=\"nonzero\" fill-opacity=\"1\" /><path clip-path=\"url(#clip630)\" d=\"M869.382 1544.91 L885.701 1544.91 L885.701 1548.85 L863.757 1548.85 L863.757 1544.91 Q866.419 1542.16 871.002 1537.53 Q875.609 1532.88 876.789 1531.53 Q879.035 1529.01 879.914 1527.27 Q880.817 1525.51 880.817 1523.82 Q880.817 1521.07 878.873 1519.33 Q876.951 1517.6 873.849 1517.6 Q871.65 1517.6 869.197 1518.36 Q866.766 1519.13 863.988 1520.68 L863.988 1515.95 Q866.812 1514.82 869.266 1514.24 Q871.72 1513.66 873.757 1513.66 Q879.127 1513.66 882.322 1516.35 Q885.516 1519.03 885.516 1523.52 Q885.516 1525.65 884.706 1527.57 Q883.919 1529.47 881.812 1532.07 Q881.234 1532.74 878.132 1535.95 Q875.03 1539.15 869.382 1544.91 Z\" fill=\"#000000\" fill-rule=\"nonzero\" fill-opacity=\"1\" /><path clip-path=\"url(#clip630)\" d=\"M1265.81 1517.37 Q1262.2 1517.37 1260.37 1520.93 Q1258.57 1524.47 1258.57 1531.6 Q1258.57 1538.71 1260.37 1542.27 Q1262.2 1545.82 1265.81 1545.82 Q1269.45 1545.82 1271.25 1542.27 Q1273.08 1538.71 1273.08 1531.6 Q1273.08 1524.47 1271.25 1520.93 Q1269.45 1517.37 1265.81 1517.37 M1265.81 1513.66 Q1271.62 1513.66 1274.68 1518.27 Q1277.76 1522.85 1277.76 1531.6 Q1277.76 1540.33 1274.68 1544.94 Q1271.62 1549.52 1265.81 1549.52 Q1260 1549.52 1256.92 1544.94 Q1253.87 1540.33 1253.87 1531.6 Q1253.87 1522.85 1256.92 1518.27 Q1260 1513.66 1265.81 1513.66 Z\" fill=\"#000000\" fill-rule=\"nonzero\" fill-opacity=\"1\" /><path clip-path=\"url(#clip630)\" d=\"M1670.63 1544.91 L1686.95 1544.91 L1686.95 1548.85 L1665.01 1548.85 L1665.01 1544.91 Q1667.67 1542.16 1672.25 1537.53 Q1676.86 1532.88 1678.04 1531.53 Q1680.28 1529.01 1681.16 1527.27 Q1682.07 1525.51 1682.07 1523.82 Q1682.07 1521.07 1680.12 1519.33 Q1678.2 1517.6 1675.1 1517.6 Q1672.9 1517.6 1670.45 1518.36 Q1668.02 1519.13 1665.24 1520.68 L1665.24 1515.95 Q1668.06 1514.82 1670.52 1514.24 Q1672.97 1513.66 1675.01 1513.66 Q1680.38 1513.66 1683.57 1516.35 Q1686.77 1519.03 1686.77 1523.52 Q1686.77 1525.65 1685.96 1527.57 Q1685.17 1529.47 1683.06 1532.07 Q1682.48 1532.74 1679.38 1535.95 Q1676.28 1539.15 1670.63 1544.91 Z\" fill=\"#000000\" fill-rule=\"nonzero\" fill-opacity=\"1\" /><path clip-path=\"url(#clip630)\" d=\"M2089.16 1518.36 L2077.35 1536.81 L2089.16 1536.81 L2089.16 1518.36 M2087.93 1514.29 L2093.81 1514.29 L2093.81 1536.81 L2098.74 1536.81 L2098.74 1540.7 L2093.81 1540.7 L2093.81 1548.85 L2089.16 1548.85 L2089.16 1540.7 L2073.55 1540.7 L2073.55 1536.19 L2087.93 1514.29 Z\" fill=\"#000000\" fill-rule=\"nonzero\" fill-opacity=\"1\" /><polyline clip-path=\"url(#clip630)\" style=\"stroke:#000000; stroke-linecap:round; stroke-linejoin:round; stroke-width:4; stroke-opacity:1; fill:none\" points=\"178.867,1486.45 178.867,47.2441 \"/>\n",
       "<polyline clip-path=\"url(#clip630)\" style=\"stroke:#000000; stroke-linecap:round; stroke-linejoin:round; stroke-width:4; stroke-opacity:1; fill:none\" points=\"178.867,1242.05 197.764,1242.05 \"/>\n",
       "<polyline clip-path=\"url(#clip630)\" style=\"stroke:#000000; stroke-linecap:round; stroke-linejoin:round; stroke-width:4; stroke-opacity:1; fill:none\" points=\"178.867,902.62 197.764,902.62 \"/>\n",
       "<polyline clip-path=\"url(#clip630)\" style=\"stroke:#000000; stroke-linecap:round; stroke-linejoin:round; stroke-width:4; stroke-opacity:1; fill:none\" points=\"178.867,563.185 197.764,563.185 \"/>\n",
       "<polyline clip-path=\"url(#clip630)\" style=\"stroke:#000000; stroke-linecap:round; stroke-linejoin:round; stroke-width:4; stroke-opacity:1; fill:none\" points=\"178.867,223.75 197.764,223.75 \"/>\n",
       "<path clip-path=\"url(#clip630)\" d=\"M50.9921 1242.51 L80.6679 1242.51 L80.6679 1246.44 L50.9921 1246.44 L50.9921 1242.51 Z\" fill=\"#000000\" fill-rule=\"nonzero\" fill-opacity=\"1\" /><path clip-path=\"url(#clip630)\" d=\"M91.5706 1255.4 L99.2095 1255.4 L99.2095 1229.03 L90.8993 1230.7 L90.8993 1226.44 L99.1632 1224.77 L103.839 1224.77 L103.839 1255.4 L111.478 1255.4 L111.478 1259.33 L91.5706 1259.33 L91.5706 1255.4 Z\" fill=\"#000000\" fill-rule=\"nonzero\" fill-opacity=\"1\" /><path clip-path=\"url(#clip630)\" d=\"M130.922 1227.85 Q127.311 1227.85 125.482 1231.42 Q123.677 1234.96 123.677 1242.09 Q123.677 1249.2 125.482 1252.76 Q127.311 1256.3 130.922 1256.3 Q134.556 1256.3 136.362 1252.76 Q138.191 1249.2 138.191 1242.09 Q138.191 1234.96 136.362 1231.42 Q134.556 1227.85 130.922 1227.85 M130.922 1224.15 Q136.732 1224.15 139.788 1228.76 Q142.867 1233.34 142.867 1242.09 Q142.867 1250.82 139.788 1255.42 Q136.732 1260.01 130.922 1260.01 Q125.112 1260.01 122.033 1255.42 Q118.978 1250.82 118.978 1242.09 Q118.978 1233.34 122.033 1228.76 Q125.112 1224.15 130.922 1224.15 Z\" fill=\"#000000\" fill-rule=\"nonzero\" fill-opacity=\"1\" /><path clip-path=\"url(#clip630)\" d=\"M130.922 888.419 Q127.311 888.419 125.482 891.983 Q123.677 895.525 123.677 902.655 Q123.677 909.761 125.482 913.326 Q127.311 916.868 130.922 916.868 Q134.556 916.868 136.362 913.326 Q138.191 909.761 138.191 902.655 Q138.191 895.525 136.362 891.983 Q134.556 888.419 130.922 888.419 M130.922 884.715 Q136.732 884.715 139.788 889.321 Q142.867 893.905 142.867 902.655 Q142.867 911.381 139.788 915.988 Q136.732 920.571 130.922 920.571 Q125.112 920.571 122.033 915.988 Q118.978 911.381 118.978 902.655 Q118.978 893.905 122.033 889.321 Q125.112 884.715 130.922 884.715 Z\" fill=\"#000000\" fill-rule=\"nonzero\" fill-opacity=\"1\" /><path clip-path=\"url(#clip630)\" d=\"M91.5706 576.53 L99.2095 576.53 L99.2095 550.164 L90.8993 551.831 L90.8993 547.572 L99.1632 545.905 L103.839 545.905 L103.839 576.53 L111.478 576.53 L111.478 580.465 L91.5706 580.465 L91.5706 576.53 Z\" fill=\"#000000\" fill-rule=\"nonzero\" fill-opacity=\"1\" /><path clip-path=\"url(#clip630)\" d=\"M130.922 548.984 Q127.311 548.984 125.482 552.549 Q123.677 556.09 123.677 563.22 Q123.677 570.326 125.482 573.891 Q127.311 577.433 130.922 577.433 Q134.556 577.433 136.362 573.891 Q138.191 570.326 138.191 563.22 Q138.191 556.09 136.362 552.549 Q134.556 548.984 130.922 548.984 M130.922 545.28 Q136.732 545.28 139.788 549.887 Q142.867 554.47 142.867 563.22 Q142.867 571.947 139.788 576.553 Q136.732 581.136 130.922 581.136 Q125.112 581.136 122.033 576.553 Q118.978 571.947 118.978 563.22 Q118.978 554.47 122.033 549.887 Q125.112 545.28 130.922 545.28 Z\" fill=\"#000000\" fill-rule=\"nonzero\" fill-opacity=\"1\" /><path clip-path=\"url(#clip630)\" d=\"M94.7882 237.095 L111.108 237.095 L111.108 241.03 L89.1632 241.03 L89.1632 237.095 Q91.8252 234.34 96.4085 229.711 Q101.015 225.058 102.196 223.715 Q104.441 221.192 105.321 219.456 Q106.223 217.697 106.223 216.007 Q106.223 213.253 104.279 211.516 Q102.358 209.78 99.2558 209.78 Q97.0567 209.78 94.603 210.544 Q92.1725 211.308 89.3947 212.859 L89.3947 208.137 Q92.2188 207.003 94.6724 206.424 Q97.1261 205.845 99.1632 205.845 Q104.534 205.845 107.728 208.53 Q110.922 211.216 110.922 215.706 Q110.922 217.836 110.112 219.757 Q109.325 221.655 107.219 224.248 Q106.64 224.919 103.538 228.137 Q100.436 231.331 94.7882 237.095 Z\" fill=\"#000000\" fill-rule=\"nonzero\" fill-opacity=\"1\" /><path clip-path=\"url(#clip630)\" d=\"M130.922 209.549 Q127.311 209.549 125.482 213.114 Q123.677 216.655 123.677 223.785 Q123.677 230.891 125.482 234.456 Q127.311 237.998 130.922 237.998 Q134.556 237.998 136.362 234.456 Q138.191 230.891 138.191 223.785 Q138.191 216.655 136.362 213.114 Q134.556 209.549 130.922 209.549 M130.922 205.845 Q136.732 205.845 139.788 210.452 Q142.867 215.035 142.867 223.785 Q142.867 232.512 139.788 237.118 Q136.732 241.702 130.922 241.702 Q125.112 241.702 122.033 237.118 Q118.978 232.512 118.978 223.785 Q118.978 215.035 122.033 210.452 Q125.112 205.845 130.922 205.845 Z\" fill=\"#000000\" fill-rule=\"nonzero\" fill-opacity=\"1\" /><polyline clip-path=\"url(#clip632)\" style=\"stroke:#009af9; stroke-linecap:round; stroke-linejoin:round; stroke-width:4; stroke-opacity:1; fill:none\" points=\"240.392,1208.11 261.564,1201.1 385.568,1160.05 443.255,1140.96 520.576,1115.36 584.468,1094.22 643.881,1074.55 718.464,1049.86 785.366,1027.71 861.944,1002.36 919.186,983.417 992.4,959.181 1059.22,937.062 1135.27,911.887 1195.56,891.93 1270.46,867.137 1327.82,848.149 1408.7,821.379 1469.13,801.374 1537.86,778.624 1605.92,756.093 1680.8,731.306 1738,712.372 1810.18,688.48 1876.93,666.382 1945.78,643.592 2015.57,620.492 2088.44,596.37 2145.84,577.369 2276.56,534.097 2291.23,529.242 \"/>\n",
       "<polyline clip-path=\"url(#clip632)\" style=\"stroke:#e26f46; stroke-linecap:round; stroke-linejoin:round; stroke-width:4; stroke-opacity:1; fill:none\" points=\"240.392,87.9763 261.564,101.993 385.568,184.089 443.255,222.28 520.576,273.47 584.468,315.769 643.881,355.102 718.464,404.48 785.366,448.771 861.944,499.469 919.186,537.366 992.4,585.836 1059.22,630.075 1135.27,680.425 1195.56,720.338 1270.46,769.926 1327.82,807.901 1408.7,861.442 1469.13,901.452 1537.86,946.952 1605.92,992.012 1680.8,1041.59 1738,1079.45 1810.18,1127.24 1876.93,1171.43 1945.78,1217.01 2015.57,1263.22 2088.44,1311.46 2145.84,1349.46 2276.56,1436.01 2291.23,1445.72 \"/>\n",
       "<path clip-path=\"url(#clip630)\" d=\"M2010.47 250.738 L2280.29 250.738 L2280.29 95.2176 L2010.47 95.2176  Z\" fill=\"#ffffff\" fill-rule=\"evenodd\" fill-opacity=\"1\"/>\n",
       "<polyline clip-path=\"url(#clip630)\" style=\"stroke:#000000; stroke-linecap:round; stroke-linejoin:round; stroke-width:4; stroke-opacity:1; fill:none\" points=\"2010.47,250.738 2280.29,250.738 2280.29,95.2176 2010.47,95.2176 2010.47,250.738 \"/>\n",
       "<polyline clip-path=\"url(#clip630)\" style=\"stroke:#009af9; stroke-linecap:round; stroke-linejoin:round; stroke-width:4; stroke-opacity:1; fill:none\" points=\"2034.63,147.058 2179.55,147.058 \"/>\n",
       "<path clip-path=\"url(#clip630)\" d=\"M2217.55 166.745 Q2215.75 171.375 2214.03 172.787 Q2212.32 174.199 2209.45 174.199 L2206.05 174.199 L2206.05 170.634 L2208.55 170.634 Q2210.31 170.634 2211.28 169.8 Q2212.25 168.967 2213.43 165.865 L2214.19 163.921 L2203.71 138.412 L2208.22 138.412 L2216.32 158.689 L2224.43 138.412 L2228.94 138.412 L2217.55 166.745 Z\" fill=\"#000000\" fill-rule=\"nonzero\" fill-opacity=\"1\" /><path clip-path=\"url(#clip630)\" d=\"M2236.23 160.402 L2243.87 160.402 L2243.87 134.037 L2235.56 135.703 L2235.56 131.444 L2243.82 129.778 L2248.5 129.778 L2248.5 160.402 L2256.14 160.402 L2256.14 164.338 L2236.23 164.338 L2236.23 160.402 Z\" fill=\"#000000\" fill-rule=\"nonzero\" fill-opacity=\"1\" /><polyline clip-path=\"url(#clip630)\" style=\"stroke:#e26f46; stroke-linecap:round; stroke-linejoin:round; stroke-width:4; stroke-opacity:1; fill:none\" points=\"2034.63,198.898 2179.55,198.898 \"/>\n",
       "<path clip-path=\"url(#clip630)\" d=\"M2217.55 218.585 Q2215.75 223.215 2214.03 224.627 Q2212.32 226.039 2209.45 226.039 L2206.05 226.039 L2206.05 222.474 L2208.55 222.474 Q2210.31 222.474 2211.28 221.64 Q2212.25 220.807 2213.43 217.705 L2214.19 215.761 L2203.71 190.252 L2208.22 190.252 L2216.32 210.529 L2224.43 190.252 L2228.94 190.252 L2217.55 218.585 Z\" fill=\"#000000\" fill-rule=\"nonzero\" fill-opacity=\"1\" /><path clip-path=\"url(#clip630)\" d=\"M2239.45 212.242 L2255.77 212.242 L2255.77 216.178 L2233.82 216.178 L2233.82 212.242 Q2236.49 209.488 2241.07 204.858 Q2245.68 200.205 2246.86 198.863 Q2249.1 196.34 2249.98 194.604 Q2250.88 192.844 2250.88 191.155 Q2250.88 188.4 2248.94 186.664 Q2247.02 184.928 2243.92 184.928 Q2241.72 184.928 2239.26 185.692 Q2236.83 186.455 2234.06 188.006 L2234.06 183.284 Q2236.88 182.15 2239.33 181.571 Q2241.79 180.993 2243.82 180.993 Q2249.19 180.993 2252.39 183.678 Q2255.58 186.363 2255.58 190.854 Q2255.58 192.983 2254.77 194.905 Q2253.99 196.803 2251.88 199.395 Q2251.3 200.067 2248.2 203.284 Q2245.1 206.479 2239.45 212.242 Z\" fill=\"#000000\" fill-rule=\"nonzero\" fill-opacity=\"1\" /></svg>\n"
      ]
     },
     "execution_count": 43,
     "metadata": {},
     "output_type": "execute_result"
    }
   ],
   "source": [
    "#now declare both of those equations as code functions y1(x) and y2(x)\n",
    "\n",
    "# your code here\n",
    "y1(x) = 2x + 1\n",
    "y2(x) = -4x + 4\n",
    "\n",
    "#Plot them on the same graph.  This shows another way to plot multiple things at once\n",
    "plot([y1,y2], -5, 5)"
   ]
  },
  {
   "cell_type": "code",
   "execution_count": 46,
   "metadata": {
    "deletable": false,
    "editable": false,
    "nbgrader": {
     "cell_type": "code",
     "checksum": "4a295f2ea694c0a81682e697c3308eb0",
     "grade": true,
     "grade_id": "problem2test",
     "locked": true,
     "points": 2,
     "schema_version": 3,
     "solution": false,
     "task": false
    }
   },
   "outputs": [],
   "source": [
    "#Grader Cell\n",
    "@assert y1(0) == 1\n",
    "@assert y2(0) == 4"
   ]
  },
  {
   "cell_type": "markdown",
   "metadata": {
    "deletable": false,
    "editable": false,
    "nbgrader": {
     "cell_type": "markdown",
     "checksum": "fc0e17f22fa7dc8690c150ef7872c7bd",
     "grade": false,
     "grade_id": "cell-f143e1884da392e8",
     "locked": true,
     "schema_version": 3,
     "solution": false,
     "task": false
    }
   },
   "source": [
    "Now that you have plotted the system, you can find the solution as the intersection of the lines.  Pretty neat!"
   ]
  },
  {
   "cell_type": "markdown",
   "metadata": {},
   "source": [
    "### Problem 3. Creating Arrays\n",
    "### a)  Create a row vector called rowVect that contains the numbers 1 through 10"
   ]
  },
  {
   "cell_type": "code",
   "execution_count": 54,
   "metadata": {
    "deletable": false,
    "nbgrader": {
     "cell_type": "code",
     "checksum": "9c05b20ce68c78e6991afaa057377696",
     "grade": false,
     "grade_id": "problem3a",
     "locked": false,
     "schema_version": 3,
     "solution": true,
     "task": false
    }
   },
   "outputs": [
    {
     "data": {
      "text/plain": [
       "1×10 Matrix{Int64}:\n",
       " 1  2  3  4  5  6  7  8  9  10"
      ]
     },
     "execution_count": 54,
     "metadata": {},
     "output_type": "execute_result"
    }
   ],
   "source": [
    "#output should be\n",
    "#1 2 3 4 5 6 7 8 9 10\n",
    "# your code here\n",
    "rowVect = collect(1:10)'\n",
    "rowVect = [1 2 3 4 5 6 7 8 9 10]\n",
    "#throw(ErrorException())"
   ]
  },
  {
   "cell_type": "code",
   "execution_count": 56,
   "metadata": {
    "deletable": false,
    "editable": false,
    "nbgrader": {
     "cell_type": "code",
     "checksum": "f1429a3fcbfc7e92f9405471e1029fbd",
     "grade": true,
     "grade_id": "problem3a_test",
     "locked": true,
     "points": 2,
     "schema_version": 3,
     "solution": false,
     "task": false
    }
   },
   "outputs": [],
   "source": [
    "#autograder cell"
   ]
  },
  {
   "cell_type": "markdown",
   "metadata": {},
   "source": [
    "### b) Create a column vector called colVect that contains the numbers 11 through 20"
   ]
  },
  {
   "cell_type": "code",
   "execution_count": 58,
   "metadata": {
    "deletable": false,
    "nbgrader": {
     "cell_type": "code",
     "checksum": "48e886474c42891dda0a33d94b9c7f84",
     "grade": false,
     "grade_id": "problem3b",
     "locked": false,
     "schema_version": 3,
     "solution": true,
     "task": false
    }
   },
   "outputs": [
    {
     "data": {
      "text/plain": [
       "1-element Vector{UnitRange{Int64}}:\n",
       " 11:20"
      ]
     },
     "execution_count": 58,
     "metadata": {},
     "output_type": "execute_result"
    }
   ],
   "source": [
    "#output should be\n",
    "#11 \n",
    "#12\n",
    "#13\n",
    "#14\n",
    "#15\n",
    "#16\n",
    "#17\n",
    "#18\n",
    "#19\n",
    "#20\n",
    "\n",
    "# your code here\n",
    "colVect = [11:20]\n",
    "#throw(ErrorException())"
   ]
  },
  {
   "cell_type": "code",
   "execution_count": 60,
   "metadata": {
    "deletable": false,
    "editable": false,
    "nbgrader": {
     "cell_type": "code",
     "checksum": "083899120b903068df66c4131ee2dbaa",
     "grade": true,
     "grade_id": "problem3b_test",
     "locked": true,
     "points": 2,
     "schema_version": 3,
     "solution": false,
     "task": false
    }
   },
   "outputs": [],
   "source": [
    "#autograder cell"
   ]
  },
  {
   "cell_type": "markdown",
   "metadata": {},
   "source": [
    "**Note: Other ways to build vectors**\n",
    "* Range notation n:k:m will start at n and take steps of size k to reach m.  Use collect(n:k:m) to make it into a vector\n",
    "* A[:] converts a matrix A to a vector by concatenating the columns of the matrix A\n",
    "* diag() returns the diagonal elements of a matrix as a vector"
   ]
  },
  {
   "cell_type": "markdown",
   "metadata": {},
   "source": [
    "### Problem 4.\n",
    "a) Use indexing [] to return the \"panda\".  Keep in mind that Julia indexes refer to the location in a vector."
   ]
  },
  {
   "cell_type": "code",
   "execution_count": 66,
   "metadata": {
    "deletable": false,
    "nbgrader": {
     "cell_type": "code",
     "checksum": "b21d9b84410180b0ef4c062b3f058137",
     "grade": false,
     "grade_id": "problem4a",
     "locked": false,
     "schema_version": 3,
     "solution": true,
     "task": false
    }
   },
   "outputs": [
    {
     "data": {
      "text/plain": [
       "\"panda\""
      ]
     },
     "execution_count": 66,
     "metadata": {},
     "output_type": "execute_result"
    }
   ],
   "source": [
    "animalsVector = [\"lemur\", \"elephant\", \"tiger\", \"panda\", \"zebra\", \"cuttlefish\"]\n",
    "# your code here\n",
    "myPanda = animalsVector[4]\n",
    "#throw(ErrorException())"
   ]
  },
  {
   "cell_type": "code",
   "execution_count": 68,
   "metadata": {
    "deletable": false,
    "editable": false,
    "nbgrader": {
     "cell_type": "code",
     "checksum": "d01ff92ee7c9ec7f71f29b7c34452251",
     "grade": true,
     "grade_id": "problem4a_test",
     "locked": true,
     "points": 2,
     "schema_version": 3,
     "solution": false,
     "task": false
    }
   },
   "outputs": [],
   "source": [
    "#autograder cell\n",
    "@assert myPanda == \"panda\""
   ]
  },
  {
   "cell_type": "markdown",
   "metadata": {
    "tags": []
   },
   "source": [
    "b) Use indexing to return the \"lemur\". (Hint: what index number do julia vectors start from?)"
   ]
  },
  {
   "cell_type": "code",
   "execution_count": 71,
   "metadata": {
    "deletable": false,
    "nbgrader": {
     "cell_type": "code",
     "checksum": "06c6bcd4edd66c1b583cfdb286da45d8",
     "grade": false,
     "grade_id": "problem4b",
     "locked": false,
     "schema_version": 3,
     "solution": true,
     "task": false
    }
   },
   "outputs": [
    {
     "data": {
      "text/plain": [
       "\"lemur\""
      ]
     },
     "execution_count": 71,
     "metadata": {},
     "output_type": "execute_result"
    }
   ],
   "source": [
    "myLemur = animalsVector[1]\n",
    "# your code here\n",
    "#throw(ErrorException())"
   ]
  },
  {
   "cell_type": "code",
   "execution_count": 73,
   "metadata": {
    "deletable": false,
    "editable": false,
    "nbgrader": {
     "cell_type": "code",
     "checksum": "36f38c2c25d8f40e2c264bb4f6cbcc6d",
     "grade": true,
     "grade_id": "problem4b_test",
     "locked": true,
     "points": 2,
     "schema_version": 3,
     "solution": false,
     "task": false
    }
   },
   "outputs": [],
   "source": [
    "#autograder cell\n",
    "@assert myLemur == \"lemur\""
   ]
  },
  {
   "cell_type": "markdown",
   "metadata": {},
   "source": [
    "### Problem 5. Special Matrix commands\n",
    "### a) Create a matrix called onesMat of ones with 3 rows and 4 columns"
   ]
  },
  {
   "cell_type": "code",
   "execution_count": 75,
   "metadata": {
    "deletable": false,
    "nbgrader": {
     "cell_type": "code",
     "checksum": "0c7b2dbf73d5f196551567f9da49e042",
     "grade": false,
     "grade_id": "problem5a",
     "locked": false,
     "schema_version": 3,
     "solution": true,
     "task": false
    }
   },
   "outputs": [
    {
     "data": {
      "text/plain": [
       "3×4 Matrix{Float64}:\n",
       " 1.0  1.0  1.0  1.0\n",
       " 1.0  1.0  1.0  1.0\n",
       " 1.0  1.0  1.0  1.0"
      ]
     },
     "execution_count": 75,
     "metadata": {},
     "output_type": "execute_result"
    }
   ],
   "source": [
    "#Hint: see note below for a shortcut method\n",
    "# your code here\n",
    "onesMat = ones(3, 4)\n",
    "#throw(ErrorException())"
   ]
  },
  {
   "cell_type": "code",
   "execution_count": 77,
   "metadata": {
    "deletable": false,
    "editable": false,
    "nbgrader": {
     "cell_type": "code",
     "checksum": "83246f686c4bc1b8d0f2a78e266c5d90",
     "grade": true,
     "grade_id": "problem5a_test",
     "locked": true,
     "points": 2,
     "schema_version": 3,
     "solution": false,
     "task": false
    }
   },
   "outputs": [],
   "source": [
    "#autograder cell"
   ]
  },
  {
   "cell_type": "markdown",
   "metadata": {},
   "source": [
    "### b) Create a matrix A of random numbers from a standard normal distribution with dimmensions (17,8) as shown in the autograder cell."
   ]
  },
  {
   "cell_type": "code",
   "execution_count": 84,
   "metadata": {
    "deletable": false,
    "nbgrader": {
     "cell_type": "code",
     "checksum": "c6e8b02f1d1ac6094cc10cf30a893f50",
     "grade": false,
     "grade_id": "problem5b",
     "locked": false,
     "schema_version": 3,
     "solution": true,
     "task": false
    }
   },
   "outputs": [
    {
     "data": {
      "text/plain": [
       "17×8 Matrix{Float64}:\n",
       "  0.415719   1.80229    1.13064    …   0.182618  -1.93068    -0.691671\n",
       "  0.466061  -0.372482   0.251203      -0.575904  -1.74154    -1.46217\n",
       "  0.270392   1.36203   -0.06989       -1.65296   -0.97224    -1.01375\n",
       "  0.591035  -1.09486   -2.1996        -0.907153  -0.61975     1.84374\n",
       "  0.186951   0.233166   0.44191       -1.70058    0.833554   -0.101179\n",
       " -3.08422   -0.392238   0.576612   …   2.1861    -1.09252     1.15322\n",
       " -0.309334   0.241486  -0.490041       0.739984   0.607439    2.27545\n",
       " -0.793506  -0.807778   1.48741        0.126401  -0.703361    1.61917\n",
       "  0.433828  -1.59154   -0.270576       1.42936   -0.166722    0.392329\n",
       " -0.522139   1.26233    1.33605       -0.963157  -1.47821    -0.102363\n",
       " -2.18125    0.226119  -0.0562913  …  -1.67542    0.547821   -1.47668\n",
       "  0.295456   0.656756  -1.16308       -1.55901   -0.405653    0.687955\n",
       "  0.258852   0.230503   0.244449      -1.30437   -0.145267    0.779594\n",
       " -0.587554   1.32879    0.0219635      0.4775    -0.0375046   0.999476\n",
       "  0.920425   1.34327   -0.843943       0.168787   0.148424   -0.743135\n",
       "  0.870388  -1.2182    -0.0709041  …   2.23774   -0.422165    0.475181\n",
       "  0.392688   1.57198    0.461389       0.452265   0.595773    0.330499"
      ]
     },
     "execution_count": 84,
     "metadata": {},
     "output_type": "execute_result"
    }
   ],
   "source": [
    "#Hint:  see note below \n",
    "# your code here\n",
    "A = randn(17, 8)\n",
    "#throw(ErrorException())"
   ]
  },
  {
   "cell_type": "code",
   "execution_count": 86,
   "metadata": {
    "deletable": false,
    "editable": false,
    "nbgrader": {
     "cell_type": "code",
     "checksum": "f8d3ae9854036339351b26005daf383c",
     "grade": true,
     "grade_id": "problem5b_test",
     "locked": true,
     "points": 2,
     "schema_version": 3,
     "solution": false,
     "task": false
    }
   },
   "outputs": [
    {
     "data": {
      "text/plain": [
       "(17, 8)"
      ]
     },
     "execution_count": 86,
     "metadata": {},
     "output_type": "execute_result"
    }
   ],
   "source": [
    "#autograder cell\n",
    "#This is how all of your answers in the homework will be graded:\n",
    "#An autograder cell, like this one, will check certain elements of your answer against what they should be.\n",
    "#Normally, of course, the elements that are checked will be hidden. \n",
    "(nrow, ncol) = size(A) #do not change this line!"
   ]
  },
  {
   "cell_type": "markdown",
   "metadata": {},
   "source": [
    "**Note:  Other ways to build matrices**\n",
    "* use hcat and vcat to concatenate vectors together horizontally or vertically\n",
    "* use ones() or zeros(m, n) to create a m by n matrix of either ones or zeros\n",
    "* use Diagonal(M) to create a diagonal matrix from a vector M\n",
    "* Random functions\n",
    "    * rand(m, n) makes an m by n matrix of random numbers from a uniform distribution 0-1\n",
    "    * randn(m, n) m by n matrix from a standard normal distribution\n",
    "    * rand(X, m, n) m by n matrix of random numbers in an array X\n",
    "* use reshape(X, m, n) to turn a vector X into a matrix size m by n\n",
    "* use repeat(X, m ,n) to repeat matrix X m times in the row direction and n times in the column direction"
   ]
  },
  {
   "cell_type": "markdown",
   "metadata": {},
   "source": [
    "### Gee Whiz, ain't that cool!\n",
    "The below Epicycloid is a good reminder of what can be accomplished with Julia. Independently, our parametric equations for x and y are pretty simple, but when combined, they ca create something really interesting, as seen below. Play around with the values for a, b, and the upper bound of t - there are some beutiful patterns that can be achieved with the below functions.\n",
    "\n",
    "Note: See how we have to call cos.(t)? You'll see kind of syntax  later when we start talking about matrix operations, but that dot tells julia to apply the function to each vector element individually, rather than the entire vector at once. Very helpful!"
   ]
  },
  {
   "cell_type": "code",
   "execution_count": 90,
   "metadata": {},
   "outputs": [
    {
     "data": {
      "image/png": "[encoded data removed]",
      "image/svg+xml": [
       "<?xml version=\"1.0\" encoding=\"utf-8\"?>\n",
       "<svg xmlns=\"http://www.w3.org/2000/svg\" xmlns:xlink=\"http://www.w3.org/1999/xlink\" width=\"600\" height=\"400\" viewBox=\"0 0 2400 1600\">\n",
       "<defs>\n",
       "  <clipPath id=\"clip670\">\n",
       "    <rect x=\"0\" y=\"0\" width=\"2400\" height=\"1600\"/>\n",
       "  </clipPath>\n",
       "</defs>\n",
       "<path clip-path=\"url(#clip670)\" d=\"M0 1600 L2400 1600 L2400 8.88178e-14 L0 8.88178e-14  Z\" fill=\"#ffffff\" fill-rule=\"evenodd\" fill-opacity=\"1\"/>\n",
       "<defs>\n",
       "  <clipPath id=\"clip671\">\n",
       "    <rect x=\"480\" y=\"0\" width=\"1681\" height=\"1600\"/>\n",
       "  </clipPath>\n",
       "</defs>\n",
       "<path clip-path=\"url(#clip670)\" d=\"M178.867 1486.45 L2352.76 1486.45 L2352.76 47.2441 L178.867 47.2441  Z\" fill=\"#ffffff\" fill-rule=\"evenodd\" fill-opacity=\"1\"/>\n",
       "<defs>\n",
       "  <clipPath id=\"clip672\">\n",
       "    <rect x=\"178\" y=\"47\" width=\"2175\" height=\"1440\"/>\n",
       "  </clipPath>\n",
       "</defs>\n",
       "<polyline clip-path=\"url(#clip672)\" style=\"stroke:#000000; stroke-linecap:round; stroke-linejoin:round; stroke-width:2; stroke-opacity:0.1; fill:none\" points=\"398.117,1486.45 398.117,47.2441 \"/>\n",
       "<polyline clip-path=\"url(#clip672)\" style=\"stroke:#000000; stroke-linecap:round; stroke-linejoin:round; stroke-width:2; stroke-opacity:0.1; fill:none\" points=\"687.359,1486.45 687.359,47.2441 \"/>\n",
       "<polyline clip-path=\"url(#clip672)\" style=\"stroke:#000000; stroke-linecap:round; stroke-linejoin:round; stroke-width:2; stroke-opacity:0.1; fill:none\" points=\"976.6,1486.45 976.6,47.2441 \"/>\n",
       "<polyline clip-path=\"url(#clip672)\" style=\"stroke:#000000; stroke-linecap:round; stroke-linejoin:round; stroke-width:2; stroke-opacity:0.1; fill:none\" points=\"1265.84,1486.45 1265.84,47.2441 \"/>\n",
       "<polyline clip-path=\"url(#clip672)\" style=\"stroke:#000000; stroke-linecap:round; stroke-linejoin:round; stroke-width:2; stroke-opacity:0.1; fill:none\" points=\"1555.08,1486.45 1555.08,47.2441 \"/>\n",
       "<polyline clip-path=\"url(#clip672)\" style=\"stroke:#000000; stroke-linecap:round; stroke-linejoin:round; stroke-width:2; stroke-opacity:0.1; fill:none\" points=\"1844.32,1486.45 1844.32,47.2441 \"/>\n",
       "<polyline clip-path=\"url(#clip672)\" style=\"stroke:#000000; stroke-linecap:round; stroke-linejoin:round; stroke-width:2; stroke-opacity:0.1; fill:none\" points=\"2133.57,1486.45 2133.57,47.2441 \"/>\n",
       "<polyline clip-path=\"url(#clip672)\" style=\"stroke:#000000; stroke-linecap:round; stroke-linejoin:round; stroke-width:2; stroke-opacity:0.1; fill:none\" points=\"178.867,1341.31 2352.76,1341.31 \"/>\n",
       "<polyline clip-path=\"url(#clip672)\" style=\"stroke:#000000; stroke-linecap:round; stroke-linejoin:round; stroke-width:2; stroke-opacity:0.1; fill:none\" points=\"178.867,1149.82 2352.76,1149.82 \"/>\n",
       "<polyline clip-path=\"url(#clip672)\" style=\"stroke:#000000; stroke-linecap:round; stroke-linejoin:round; stroke-width:2; stroke-opacity:0.1; fill:none\" points=\"178.867,958.332 2352.76,958.332 \"/>\n",
       "<polyline clip-path=\"url(#clip672)\" style=\"stroke:#000000; stroke-linecap:round; stroke-linejoin:round; stroke-width:2; stroke-opacity:0.1; fill:none\" points=\"178.867,766.845 2352.76,766.845 \"/>\n",
       "<polyline clip-path=\"url(#clip672)\" style=\"stroke:#000000; stroke-linecap:round; stroke-linejoin:round; stroke-width:2; stroke-opacity:0.1; fill:none\" points=\"178.867,575.358 2352.76,575.358 \"/>\n",
       "<polyline clip-path=\"url(#clip672)\" style=\"stroke:#000000; stroke-linecap:round; stroke-linejoin:round; stroke-width:2; stroke-opacity:0.1; fill:none\" points=\"178.867,383.871 2352.76,383.871 \"/>\n",
       "<polyline clip-path=\"url(#clip672)\" style=\"stroke:#000000; stroke-linecap:round; stroke-linejoin:round; stroke-width:2; stroke-opacity:0.1; fill:none\" points=\"178.867,192.384 2352.76,192.384 \"/>\n",
       "<polyline clip-path=\"url(#clip670)\" style=\"stroke:#000000; stroke-linecap:round; stroke-linejoin:round; stroke-width:4; stroke-opacity:1; fill:none\" points=\"178.867,1486.45 2352.76,1486.45 \"/>\n",
       "<polyline clip-path=\"url(#clip670)\" style=\"stroke:#000000; stroke-linecap:round; stroke-linejoin:round; stroke-width:4; stroke-opacity:1; fill:none\" points=\"398.117,1486.45 398.117,1467.55 \"/>\n",
       "<polyline clip-path=\"url(#clip670)\" style=\"stroke:#000000; stroke-linecap:round; stroke-linejoin:round; stroke-width:4; stroke-opacity:1; fill:none\" points=\"687.359,1486.45 687.359,1467.55 \"/>\n",
       "<polyline clip-path=\"url(#clip670)\" style=\"stroke:#000000; stroke-linecap:round; stroke-linejoin:round; stroke-width:4; stroke-opacity:1; fill:none\" points=\"976.6,1486.45 976.6,1467.55 \"/>\n",
       "<polyline clip-path=\"url(#clip670)\" style=\"stroke:#000000; stroke-linecap:round; stroke-linejoin:round; stroke-width:4; stroke-opacity:1; fill:none\" points=\"1265.84,1486.45 1265.84,1467.55 \"/>\n",
       "<polyline clip-path=\"url(#clip670)\" style=\"stroke:#000000; stroke-linecap:round; stroke-linejoin:round; stroke-width:4; stroke-opacity:1; fill:none\" points=\"1555.08,1486.45 1555.08,1467.55 \"/>\n",
       "<polyline clip-path=\"url(#clip670)\" style=\"stroke:#000000; stroke-linecap:round; stroke-linejoin:round; stroke-width:4; stroke-opacity:1; fill:none\" points=\"1844.32,1486.45 1844.32,1467.55 \"/>\n",
       "<polyline clip-path=\"url(#clip670)\" style=\"stroke:#000000; stroke-linecap:round; stroke-linejoin:round; stroke-width:4; stroke-opacity:1; fill:none\" points=\"2133.57,1486.45 2133.57,1467.55 \"/>\n",
       "<path clip-path=\"url(#clip670)\" d=\"M352.678 1532.02 L382.354 1532.02 L382.354 1535.95 L352.678 1535.95 L352.678 1532.02 Z\" fill=\"#000000\" fill-rule=\"nonzero\" fill-opacity=\"1\" /><path clip-path=\"url(#clip670)\" d=\"M393.256 1544.91 L400.895 1544.91 L400.895 1518.55 L392.585 1520.21 L392.585 1515.95 L400.849 1514.29 L405.525 1514.29 L405.525 1544.91 L413.164 1544.91 L413.164 1548.85 L393.256 1548.85 L393.256 1544.91 Z\" fill=\"#000000\" fill-rule=\"nonzero\" fill-opacity=\"1\" /><path clip-path=\"url(#clip670)\" d=\"M422.654 1514.29 L441.011 1514.29 L441.011 1518.22 L426.937 1518.22 L426.937 1526.7 Q427.955 1526.35 428.974 1526.19 Q429.992 1526 431.011 1526 Q436.798 1526 440.177 1529.17 Q443.557 1532.34 443.557 1537.76 Q443.557 1543.34 440.085 1546.44 Q436.613 1549.52 430.293 1549.52 Q428.117 1549.52 425.849 1549.15 Q423.603 1548.78 421.196 1548.04 L421.196 1543.34 Q423.279 1544.47 425.501 1545.03 Q427.724 1545.58 430.201 1545.58 Q434.205 1545.58 436.543 1543.48 Q438.881 1541.37 438.881 1537.76 Q438.881 1534.15 436.543 1532.04 Q434.205 1529.94 430.201 1529.94 Q428.326 1529.94 426.451 1530.35 Q424.599 1530.77 422.654 1531.65 L422.654 1514.29 Z\" fill=\"#000000\" fill-rule=\"nonzero\" fill-opacity=\"1\" /><path clip-path=\"url(#clip670)\" d=\"M641.421 1532.02 L671.097 1532.02 L671.097 1535.95 L641.421 1535.95 L641.421 1532.02 Z\" fill=\"#000000\" fill-rule=\"nonzero\" fill-opacity=\"1\" /><path clip-path=\"url(#clip670)\" d=\"M682 1544.91 L689.639 1544.91 L689.639 1518.55 L681.329 1520.21 L681.329 1515.95 L689.593 1514.29 L694.268 1514.29 L694.268 1544.91 L701.907 1544.91 L701.907 1548.85 L682 1548.85 L682 1544.91 Z\" fill=\"#000000\" fill-rule=\"nonzero\" fill-opacity=\"1\" /><path clip-path=\"url(#clip670)\" d=\"M721.352 1517.37 Q717.741 1517.37 715.912 1520.93 Q714.106 1524.47 714.106 1531.6 Q714.106 1538.71 715.912 1542.27 Q717.741 1545.82 721.352 1545.82 Q724.986 1545.82 726.791 1542.27 Q728.62 1538.71 728.62 1531.6 Q728.62 1524.47 726.791 1520.93 Q724.986 1517.37 721.352 1517.37 M721.352 1513.66 Q727.162 1513.66 730.217 1518.27 Q733.296 1522.85 733.296 1531.6 Q733.296 1540.33 730.217 1544.94 Q727.162 1549.52 721.352 1549.52 Q715.541 1549.52 712.463 1544.94 Q709.407 1540.33 709.407 1531.6 Q709.407 1522.85 712.463 1518.27 Q715.541 1513.66 721.352 1513.66 Z\" fill=\"#000000\" fill-rule=\"nonzero\" fill-opacity=\"1\" /><path clip-path=\"url(#clip670)\" d=\"M946.241 1532.02 L975.917 1532.02 L975.917 1535.95 L946.241 1535.95 L946.241 1532.02 Z\" fill=\"#000000\" fill-rule=\"nonzero\" fill-opacity=\"1\" /><path clip-path=\"url(#clip670)\" d=\"M986.056 1514.29 L1004.41 1514.29 L1004.41 1518.22 L990.338 1518.22 L990.338 1526.7 Q991.357 1526.35 992.375 1526.19 Q993.394 1526 994.412 1526 Q1000.2 1526 1003.58 1529.17 Q1006.96 1532.34 1006.96 1537.76 Q1006.96 1543.34 1003.49 1546.44 Q1000.01 1549.52 993.695 1549.52 Q991.519 1549.52 989.25 1549.15 Q987.005 1548.78 984.598 1548.04 L984.598 1543.34 Q986.681 1544.47 988.903 1545.03 Q991.125 1545.58 993.602 1545.58 Q997.607 1545.58 999.945 1543.48 Q1002.28 1541.37 1002.28 1537.76 Q1002.28 1534.15 999.945 1532.04 Q997.607 1529.94 993.602 1529.94 Q991.727 1529.94 989.852 1530.35 Q988 1530.77 986.056 1531.65 L986.056 1514.29 Z\" fill=\"#000000\" fill-rule=\"nonzero\" fill-opacity=\"1\" /><path clip-path=\"url(#clip670)\" d=\"M1265.84 1517.37 Q1262.23 1517.37 1260.4 1520.93 Q1258.6 1524.47 1258.6 1531.6 Q1258.6 1538.71 1260.4 1542.27 Q1262.23 1545.82 1265.84 1545.82 Q1269.48 1545.82 1271.28 1542.27 Q1273.11 1538.71 1273.11 1531.6 Q1273.11 1524.47 1271.28 1520.93 Q1269.48 1517.37 1265.84 1517.37 M1265.84 1513.66 Q1271.65 1513.66 1274.71 1518.27 Q1277.79 1522.85 1277.79 1531.6 Q1277.79 1540.33 1274.71 1544.94 Q1271.65 1549.52 1265.84 1549.52 Q1260.03 1549.52 1256.95 1544.94 Q1253.9 1540.33 1253.9 1531.6 Q1253.9 1522.85 1256.95 1518.27 Q1260.03 1513.66 1265.84 1513.66 Z\" fill=\"#000000\" fill-rule=\"nonzero\" fill-opacity=\"1\" /><path clip-path=\"url(#clip670)\" d=\"M1545.36 1514.29 L1563.72 1514.29 L1563.72 1518.22 L1549.64 1518.22 L1549.64 1526.7 Q1550.66 1526.35 1551.68 1526.19 Q1552.7 1526 1553.72 1526 Q1559.5 1526 1562.88 1529.17 Q1566.26 1532.34 1566.26 1537.76 Q1566.26 1543.34 1562.79 1546.44 Q1559.32 1549.52 1553 1549.52 Q1550.82 1549.52 1548.56 1549.15 Q1546.31 1548.78 1543.9 1548.04 L1543.9 1543.34 Q1545.99 1544.47 1548.21 1545.03 Q1550.43 1545.58 1552.91 1545.58 Q1556.91 1545.58 1559.25 1543.48 Q1561.59 1541.37 1561.59 1537.76 Q1561.59 1534.15 1559.25 1532.04 Q1556.91 1529.94 1552.91 1529.94 Q1551.03 1529.94 1549.16 1530.35 Q1547.31 1530.77 1545.36 1531.65 L1545.36 1514.29 Z\" fill=\"#000000\" fill-rule=\"nonzero\" fill-opacity=\"1\" /><path clip-path=\"url(#clip670)\" d=\"M1819.01 1544.91 L1826.65 1544.91 L1826.65 1518.55 L1818.34 1520.21 L1818.34 1515.95 L1826.6 1514.29 L1831.28 1514.29 L1831.28 1544.91 L1838.92 1544.91 L1838.92 1548.85 L1819.01 1548.85 L1819.01 1544.91 Z\" fill=\"#000000\" fill-rule=\"nonzero\" fill-opacity=\"1\" /><path clip-path=\"url(#clip670)\" d=\"M1858.36 1517.37 Q1854.75 1517.37 1852.92 1520.93 Q1851.12 1524.47 1851.12 1531.6 Q1851.12 1538.71 1852.92 1542.27 Q1854.75 1545.82 1858.36 1545.82 Q1862 1545.82 1863.8 1542.27 Q1865.63 1538.71 1865.63 1531.6 Q1865.63 1524.47 1863.8 1520.93 Q1862 1517.37 1858.36 1517.37 M1858.36 1513.66 Q1864.17 1513.66 1867.23 1518.27 Q1870.31 1522.85 1870.31 1531.6 Q1870.31 1540.33 1867.23 1544.94 Q1864.17 1549.52 1858.36 1549.52 Q1852.55 1549.52 1849.47 1544.94 Q1846.42 1540.33 1846.42 1531.6 Q1846.42 1522.85 1849.47 1518.27 Q1852.55 1513.66 1858.36 1513.66 Z\" fill=\"#000000\" fill-rule=\"nonzero\" fill-opacity=\"1\" /><path clip-path=\"url(#clip670)\" d=\"M2108.75 1544.91 L2116.39 1544.91 L2116.39 1518.55 L2108.08 1520.21 L2108.08 1515.95 L2116.34 1514.29 L2121.02 1514.29 L2121.02 1544.91 L2128.66 1544.91 L2128.66 1548.85 L2108.75 1548.85 L2108.75 1544.91 Z\" fill=\"#000000\" fill-rule=\"nonzero\" fill-opacity=\"1\" /><path clip-path=\"url(#clip670)\" d=\"M2138.15 1514.29 L2156.51 1514.29 L2156.51 1518.22 L2142.43 1518.22 L2142.43 1526.7 Q2143.45 1526.35 2144.47 1526.19 Q2145.49 1526 2146.51 1526 Q2152.29 1526 2155.67 1529.17 Q2159.05 1532.34 2159.05 1537.76 Q2159.05 1543.34 2155.58 1546.44 Q2152.11 1549.52 2145.79 1549.52 Q2143.61 1549.52 2141.34 1549.15 Q2139.1 1548.78 2136.69 1548.04 L2136.69 1543.34 Q2138.77 1544.47 2141 1545.03 Q2143.22 1545.58 2145.7 1545.58 Q2149.7 1545.58 2152.04 1543.48 Q2154.38 1541.37 2154.38 1537.76 Q2154.38 1534.15 2152.04 1532.04 Q2149.7 1529.94 2145.7 1529.94 Q2143.82 1529.94 2141.95 1530.35 Q2140.09 1530.77 2138.15 1531.65 L2138.15 1514.29 Z\" fill=\"#000000\" fill-rule=\"nonzero\" fill-opacity=\"1\" /><polyline clip-path=\"url(#clip670)\" style=\"stroke:#000000; stroke-linecap:round; stroke-linejoin:round; stroke-width:4; stroke-opacity:1; fill:none\" points=\"178.867,1486.45 178.867,47.2441 \"/>\n",
       "<polyline clip-path=\"url(#clip670)\" style=\"stroke:#000000; stroke-linecap:round; stroke-linejoin:round; stroke-width:4; stroke-opacity:1; fill:none\" points=\"178.867,1341.31 197.764,1341.31 \"/>\n",
       "<polyline clip-path=\"url(#clip670)\" style=\"stroke:#000000; stroke-linecap:round; stroke-linejoin:round; stroke-width:4; stroke-opacity:1; fill:none\" points=\"178.867,1149.82 197.764,1149.82 \"/>\n",
       "<polyline clip-path=\"url(#clip670)\" style=\"stroke:#000000; stroke-linecap:round; stroke-linejoin:round; stroke-width:4; stroke-opacity:1; fill:none\" points=\"178.867,958.332 197.764,958.332 \"/>\n",
       "<polyline clip-path=\"url(#clip670)\" style=\"stroke:#000000; stroke-linecap:round; stroke-linejoin:round; stroke-width:4; stroke-opacity:1; fill:none\" points=\"178.867,766.845 197.764,766.845 \"/>\n",
       "<polyline clip-path=\"url(#clip670)\" style=\"stroke:#000000; stroke-linecap:round; stroke-linejoin:round; stroke-width:4; stroke-opacity:1; fill:none\" points=\"178.867,575.358 197.764,575.358 \"/>\n",
       "<polyline clip-path=\"url(#clip670)\" style=\"stroke:#000000; stroke-linecap:round; stroke-linejoin:round; stroke-width:4; stroke-opacity:1; fill:none\" points=\"178.867,383.871 197.764,383.871 \"/>\n",
       "<polyline clip-path=\"url(#clip670)\" style=\"stroke:#000000; stroke-linecap:round; stroke-linejoin:round; stroke-width:4; stroke-opacity:1; fill:none\" points=\"178.867,192.384 197.764,192.384 \"/>\n",
       "<path clip-path=\"url(#clip670)\" d=\"M51.9875 1341.76 L81.6633 1341.76 L81.6633 1345.69 L51.9875 1345.69 L51.9875 1341.76 Z\" fill=\"#000000\" fill-rule=\"nonzero\" fill-opacity=\"1\" /><path clip-path=\"url(#clip670)\" d=\"M92.566 1354.65 L100.205 1354.65 L100.205 1328.29 L91.8947 1329.95 L91.8947 1325.69 L100.159 1324.03 L104.834 1324.03 L104.834 1354.65 L112.473 1354.65 L112.473 1358.59 L92.566 1358.59 L92.566 1354.65 Z\" fill=\"#000000\" fill-rule=\"nonzero\" fill-opacity=\"1\" /><path clip-path=\"url(#clip670)\" d=\"M121.964 1324.03 L140.32 1324.03 L140.32 1327.96 L126.246 1327.96 L126.246 1336.43 Q127.265 1336.09 128.283 1335.92 Q129.302 1335.74 130.32 1335.74 Q136.107 1335.74 139.487 1338.91 Q142.867 1342.08 142.867 1347.5 Q142.867 1353.08 139.394 1356.18 Q135.922 1359.26 129.603 1359.26 Q127.427 1359.26 125.158 1358.89 Q122.913 1358.52 120.506 1357.78 L120.506 1353.08 Q122.589 1354.21 124.811 1354.77 Q127.033 1355.32 129.51 1355.32 Q133.515 1355.32 135.853 1353.22 Q138.191 1351.11 138.191 1347.5 Q138.191 1343.89 135.853 1341.78 Q133.515 1339.67 129.51 1339.67 Q127.635 1339.67 125.76 1340.09 Q123.908 1340.51 121.964 1341.39 L121.964 1324.03 Z\" fill=\"#000000\" fill-rule=\"nonzero\" fill-opacity=\"1\" /><path clip-path=\"url(#clip670)\" d=\"M50.9921 1150.27 L80.6679 1150.27 L80.6679 1154.21 L50.9921 1154.21 L50.9921 1150.27 Z\" fill=\"#000000\" fill-rule=\"nonzero\" fill-opacity=\"1\" /><path clip-path=\"url(#clip670)\" d=\"M91.5706 1163.16 L99.2095 1163.16 L99.2095 1136.8 L90.8993 1138.46 L90.8993 1134.21 L99.1632 1132.54 L103.839 1132.54 L103.839 1163.16 L111.478 1163.16 L111.478 1167.1 L91.5706 1167.1 L91.5706 1163.16 Z\" fill=\"#000000\" fill-rule=\"nonzero\" fill-opacity=\"1\" /><path clip-path=\"url(#clip670)\" d=\"M130.922 1135.62 Q127.311 1135.62 125.482 1139.18 Q123.677 1142.72 123.677 1149.85 Q123.677 1156.96 125.482 1160.52 Q127.311 1164.07 130.922 1164.07 Q134.556 1164.07 136.362 1160.52 Q138.191 1156.96 138.191 1149.85 Q138.191 1142.72 136.362 1139.18 Q134.556 1135.62 130.922 1135.62 M130.922 1131.91 Q136.732 1131.91 139.788 1136.52 Q142.867 1141.1 142.867 1149.85 Q142.867 1158.58 139.788 1163.19 Q136.732 1167.77 130.922 1167.77 Q125.112 1167.77 122.033 1163.19 Q118.978 1158.58 118.978 1149.85 Q118.978 1141.1 122.033 1136.52 Q125.112 1131.91 130.922 1131.91 Z\" fill=\"#000000\" fill-rule=\"nonzero\" fill-opacity=\"1\" /><path clip-path=\"url(#clip670)\" d=\"M82.1494 958.783 L111.825 958.783 L111.825 962.719 L82.1494 962.719 L82.1494 958.783 Z\" fill=\"#000000\" fill-rule=\"nonzero\" fill-opacity=\"1\" /><path clip-path=\"url(#clip670)\" d=\"M121.964 941.052 L140.32 941.052 L140.32 944.987 L126.246 944.987 L126.246 953.459 Q127.265 953.112 128.283 952.95 Q129.302 952.765 130.32 952.765 Q136.107 952.765 139.487 955.936 Q142.867 959.107 142.867 964.524 Q142.867 970.103 139.394 973.205 Q135.922 976.283 129.603 976.283 Q127.427 976.283 125.158 975.913 Q122.913 975.543 120.506 974.802 L120.506 970.103 Q122.589 971.237 124.811 971.793 Q127.033 972.348 129.51 972.348 Q133.515 972.348 135.853 970.242 Q138.191 968.135 138.191 964.524 Q138.191 960.913 135.853 958.807 Q133.515 956.7 129.51 956.7 Q127.635 956.7 125.76 957.117 Q123.908 957.533 121.964 958.413 L121.964 941.052 Z\" fill=\"#000000\" fill-rule=\"nonzero\" fill-opacity=\"1\" /><path clip-path=\"url(#clip670)\" d=\"M130.922 752.644 Q127.311 752.644 125.482 756.209 Q123.677 759.75 123.677 766.88 Q123.677 773.986 125.482 777.551 Q127.311 781.093 130.922 781.093 Q134.556 781.093 136.362 777.551 Q138.191 773.986 138.191 766.88 Q138.191 759.75 136.362 756.209 Q134.556 752.644 130.922 752.644 M130.922 748.94 Q136.732 748.94 139.788 753.547 Q142.867 758.13 142.867 766.88 Q142.867 775.607 139.788 780.213 Q136.732 784.796 130.922 784.796 Q125.112 784.796 122.033 780.213 Q118.978 775.607 118.978 766.88 Q118.978 758.13 122.033 753.547 Q125.112 748.94 130.922 748.94 Z\" fill=\"#000000\" fill-rule=\"nonzero\" fill-opacity=\"1\" /><path clip-path=\"url(#clip670)\" d=\"M121.964 558.078 L140.32 558.078 L140.32 562.013 L126.246 562.013 L126.246 570.485 Q127.265 570.138 128.283 569.976 Q129.302 569.791 130.32 569.791 Q136.107 569.791 139.487 572.962 Q142.867 576.134 142.867 581.55 Q142.867 587.129 139.394 590.231 Q135.922 593.309 129.603 593.309 Q127.427 593.309 125.158 592.939 Q122.913 592.569 120.506 591.828 L120.506 587.129 Q122.589 588.263 124.811 588.819 Q127.033 589.374 129.51 589.374 Q133.515 589.374 135.853 587.268 Q138.191 585.161 138.191 581.55 Q138.191 577.939 135.853 575.833 Q133.515 573.726 129.51 573.726 Q127.635 573.726 125.76 574.143 Q123.908 574.559 121.964 575.439 L121.964 558.078 Z\" fill=\"#000000\" fill-rule=\"nonzero\" fill-opacity=\"1\" /><path clip-path=\"url(#clip670)\" d=\"M91.5706 397.216 L99.2095 397.216 L99.2095 370.85 L90.8993 372.517 L90.8993 368.258 L99.1632 366.591 L103.839 366.591 L103.839 397.216 L111.478 397.216 L111.478 401.151 L91.5706 401.151 L91.5706 397.216 Z\" fill=\"#000000\" fill-rule=\"nonzero\" fill-opacity=\"1\" /><path clip-path=\"url(#clip670)\" d=\"M130.922 369.67 Q127.311 369.67 125.482 373.235 Q123.677 376.776 123.677 383.906 Q123.677 391.012 125.482 394.577 Q127.311 398.119 130.922 398.119 Q134.556 398.119 136.362 394.577 Q138.191 391.012 138.191 383.906 Q138.191 376.776 136.362 373.235 Q134.556 369.67 130.922 369.67 M130.922 365.966 Q136.732 365.966 139.788 370.573 Q142.867 375.156 142.867 383.906 Q142.867 392.633 139.788 397.239 Q136.732 401.822 130.922 401.822 Q125.112 401.822 122.033 397.239 Q118.978 392.633 118.978 383.906 Q118.978 375.156 122.033 370.573 Q125.112 365.966 130.922 365.966 Z\" fill=\"#000000\" fill-rule=\"nonzero\" fill-opacity=\"1\" /><path clip-path=\"url(#clip670)\" d=\"M92.566 205.729 L100.205 205.729 L100.205 179.363 L91.8947 181.03 L91.8947 176.771 L100.159 175.104 L104.834 175.104 L104.834 205.729 L112.473 205.729 L112.473 209.664 L92.566 209.664 L92.566 205.729 Z\" fill=\"#000000\" fill-rule=\"nonzero\" fill-opacity=\"1\" /><path clip-path=\"url(#clip670)\" d=\"M121.964 175.104 L140.32 175.104 L140.32 179.039 L126.246 179.039 L126.246 187.512 Q127.265 187.164 128.283 187.002 Q129.302 186.817 130.32 186.817 Q136.107 186.817 139.487 189.988 Q142.867 193.16 142.867 198.576 Q142.867 204.155 139.394 207.257 Q135.922 210.336 129.603 210.336 Q127.427 210.336 125.158 209.965 Q122.913 209.595 120.506 208.854 L120.506 204.155 Q122.589 205.289 124.811 205.845 Q127.033 206.4 129.51 206.4 Q133.515 206.4 135.853 204.294 Q138.191 202.187 138.191 198.576 Q138.191 194.965 135.853 192.859 Q133.515 190.752 129.51 190.752 Q127.635 190.752 125.76 191.169 Q123.908 191.586 121.964 192.465 L121.964 175.104 Z\" fill=\"#000000\" fill-rule=\"nonzero\" fill-opacity=\"1\" /><polyline clip-path=\"url(#clip672)\" style=\"stroke:#009af9; stroke-linecap:round; stroke-linejoin:round; stroke-width:4; stroke-opacity:1; fill:none\" points=\"1497.23,766.845 1499.04,766.742 1504.39,766.025 1512.98,764.103 1524.4,760.424 1538.03,754.499 1553.14,745.92 1568.86,734.371 1584.24,719.646 1598.27,701.657 1609.91,680.439 1618.1,656.157 1621.85,629.102 1620.19,599.688 1612.3,568.446 1597.46,536.012 1575.1,503.108 1544.85,470.535 1506.53,439.143 1460.15,409.815 1405.97,383.445 1344.46,360.911 1276.3,343.052 1202.4,330.647 1123.86,324.388 1041.93,324.864 958.054,332.538 873.774,347.732 790.727,370.617 710.603,401.199 635.11,439.314 565.931,484.63 504.684,536.644 452.887,594.691 411.918,657.954 382.978,725.477 367.064,796.186 364.938,868.902 377.106,942.374 403.801,1015.3 444.971,1086.34 500.276,1154.19 569.088,1217.53 650.499,1275.15 743.338,1325.9 846.187,1368.75 957.413,1402.8 1075.19,1427.31 1197.56,1441.71 1322.42,1445.63 1447.62,1438.89 1571,1421.51 1690.37,1393.71 1803.65,1355.91 1908.85,1308.73 2004.12,1252.97 2087.8,1189.59 2158.46,1119.68 2214.9,1044.47 2256.21,965.298 2281.76,883.538 2291.23,800.627 2284.6,718.008 2262.15,637.105 2224.47,559.295 2172.43,485.881 2107.15,418.063 2030,356.917 1942.54,303.375 1846.51,258.203 1743.78,221.996 1636.3,195.161 1526.07,177.914 1415.1,170.282 1305.36,172.102 1198.73,183.031 1096.98,202.558 1001.74,230.016 914.444,264.604 836.305,305.406 768.323,351.413 711.244,401.551 665.562,454.705 631.51,509.744 609.069,565.551 597.971,621.044 597.719,675.201 607.604,727.084 626.73,775.854 654.043,820.792 688.365,861.309 728.423,896.954 772.889,927.423 820.414,952.559 869.665,972.35 919.359,986.924 968.294,996.539 1015.38,1001.57 1059.67,1002.49 1100.36,999.871 1136.84,994.331 1168.68,986.542 1195.64,977.198 1217.66,966.99 1234.9,956.587 1247.67,946.619 1256.45,937.65 1261.88,930.167 1264.68,924.565 1265.71,921.13 1265.84,920.037 1266.02,921.341 1267.16,924.977 1270.17,930.759 1275.86,938.39 1284.97,947.469 1298.12,957.499 1315.77,967.911 1338.23,978.07 1365.62,987.305 1397.89,994.922 1434.76,1000.23 1475.8,1002.56 1520.37,1001.3 1567.66,995.879 1616.71,985.839 1666.41,970.812 1715.56,950.55 1762.87,924.94 1807,894.004 1846.61,857.913 1880.36,816.985 1906.99,771.682 1925.34,722.605 1934.36,670.486 1933.18,616.171 1921.09,560.609 1897.63,504.825 1862.55,449.907 1815.84,396.975 1757.77,347.158 1688.86,301.569 1609.86,261.278 1521.81,227.285 1425.93,200.499 1323.69,181.708 1216.71,171.567 1106.78,170.573 995.797,179.052 885.73,197.151 778.588,224.828 676.371,261.847 581.028,307.786 494.414,362.036 418.253,423.812 354.095,492.171 303.282,566.024 266.921,644.161 245.854,725.272 240.639,807.975 251.536,890.842 278.5,972.431 321.18,1051.31 378.922,1126.1 450.784,1195.48 535.553,1258.23 631.77,1313.27 737.759,1359.64 851.662,1396.58 971.477,1423.47 1095.1,1439.92 1220.36,1445.72 1345.09,1440.86 1467.13,1425.54 1584.41,1400.16 1694.96,1365.3 1796.99,1321.72 1888.87,1270.32 1969.21,1212.14 2036.86,1148.34 2090.93,1080.16 2130.83,1008.9 2156.24,935.874 2167.13,862.417 2163.76,789.828 2146.66,719.356 2116.61,652.167 2074.63,589.329 2021.94,531.785 1959.93,480.34 1890.12,435.644 1814.15,398.184 1733.7,368.28 1650.47,346.078 1566.16,331.559 1482.4,324.538 1400.72,324.679 1322.53,331.507 1249.1,344.424 1181.5,362.729 1120.61,385.637 1067.11,412.305 1021.44,441.851 983.827,473.383 954.287,506.02 932.613,538.913 918.41,571.27 911.103,602.374 909.964,631.599 914.14,658.423 922.681,682.444 934.571,703.381 948.766,721.081 964.219,735.519 979.922,746.795 994.93,755.125 1008.39,760.833 1019.58,764.336 1027.91,766.129 1032.94,766.767 1034.43,766.845 1032.3,766.978 1026.66,767.778 1017.79,769.835 1006.16,773.694 992.363,779.838 977.167,788.669 961.437,800.492 946.131,815.504 932.268,833.783 920.895,855.28 913.055,879.821 909.753,907.104 911.925,936.702 920.404,968.076 935.892,1000.58 958.935,1033.49 989.895,1065.99 1028.94,1097.24 1076.02,1126.34 1130.87,1152.41 1193,1174.56 1261.7,1191.97 1336.06,1203.85 1414.96,1209.54 1497.12,1208.44 1581.1,1200.11 1665.33,1184.24 1748.19,1160.68 1827.97,1129.42 1902.97,1090.65 1971.52,1044.72 2031.99,992.141 2082.88,933.597 2122.83,869.916 2150.65,802.066 2165.37,731.131 2166.25,658.296 2152.8,584.82 2124.82,512.009 2082.38,441.194 2025.85,373.698 1955.88,310.808 1873.41,253.75 1779.62,203.66 1675.96,161.558 1564.08,128.328 1445.81,104.693 1323.14,91.2043 1198.16,88.2216 1073.03,95.9087 949.928,114.227 831.009,142.934 718.364,181.589 613.974,229.56 519.667,286.037 437.084,350.047 367.641,420.474 312.505,496.083 272.568,575.546 248.431,657.466 240.392,740.409 248.441,822.933 272.265,903.617 311.253,981.089 364.516,1054.05 430.903,1121.32 509.033,1181.83 597.322,1234.66 694.02,1279.06 797.253,1314.45 905.06,1340.44 1015.43,1356.84 1126.37,1363.62 1235.92,1360.98 1342.18,1349.27 1443.41,1329.01 1538,1300.89 1624.54,1265.71 1701.82,1224.41 1768.86,1177.99 1824.95,1127.54 1869.61,1074.17 1902.63,1019.02 1924.05,963.199 1934.16,907.784 1933.49,853.792 1922.74,802.153 1902.85,753.694 1874.87,709.126 1839.98,669.024 1799.48,633.827 1754.69,603.826 1706.96,579.165 1657.62,559.842 1607.95,545.719 1559.13,536.527 1512.26,531.881 1468.26,531.295 1427.91,534.201 1391.83,539.968 1360.42,547.922 1333.9,557.371 1312.31,567.623 1295.48,578.011 1283.08,587.913 1274.62,596.769 1269.46,604.099 1266.85,609.52 1265.94,612.753 1265.84,613.634 1265.62,612.119 1264.34,608.285 1261.13,602.325 1255.16,594.548 1245.72,585.364 1232.18,575.276 1214.12,564.861 1191.22,554.755 1163.4,545.636 1130.71,538.195 1093.45,533.124 1052.07,531.086 1007.22,532.697 959.736,538.507 910.584,548.975 860.878,564.458 811.837,585.19 764.756,611.275 720.972,642.676 681.834,679.21 648.663,720.546 622.716,766.21 605.153,815.587 597.002,867.937 599.129,922.401 612.205,978.026 636.689,1033.78 672.805,1088.56 720.529,1141.27 779.581,1190.75 849.423,1235.92 929.263,1275.69 1018.07,1309.08 1114.57,1335.19 1217.3,1353.24 1324.61,1362.59 1434.71,1362.75 1545.69,1353.42 1655.58,1334.47 1762.37,1305.96 1864.06,1268.13 1958.7,1221.43 2044.46,1166.48 2119.61,1104.08 2182.64,1035.19 2232.22,960.904 2267.25,882.45 2286.94,801.141 2290.73,718.366 2278.41,635.553 2250.03,554.147 2205.99,475.574 2146.95,401.214 2073.9,332.376 1988.05,270.263 1890.9,215.956 1784.13,170.387 1669.62,134.319 1549.39,108.336 1425.53,92.8255 1300.23,87.9763 1175.65,93.7731 1053.95,109.999 937.191,136.243 827.32,171.906 726.13,216.222 635.218,268.267 555.959,326.988 489.48,391.224 436.64,459.729 398.015,531.204 373.897,604.32 364.284,677.752 368.895,750.203 387.178,820.43 418.326,887.275 461.305,949.681 514.88,1006.71 577.645,1057.59 648.062,1101.66 724.499,1138.46 805.264,1167.69 888.652,1189.21 972.978,1203.05 1056.62,1209.42 1138.04,1208.67 1215.86,1201.28 1288.82,1187.85 1355.86,1169.11 1416.11,1145.83 1468.94,1118.87 1513.9,1089.12 1550.79,1057.45 1579.63,1024.76 1600.62,991.881 1614.19,959.607 1620.92,928.645 1621.55,899.614 1616.95,873.023 1608.07,849.265 1595.93,828.611 1581.59,811.2 1566.07,797.048 1550.39,786.043 1535.49,777.959 1522.2,772.465 1511.24,769.134 1503.19,767.466 1498.46,766.902 1497.29,766.844 1499.74,766.677 1505.68,765.789 1514.82,763.594 1526.67,759.551 1540.62,753.184 1555.9,744.099 1571.63,732 1586.85,716.7 1600.54,698.133 1611.64,676.357 1619.12,651.559 1621.97,624.053 1619.27,594.274 1610.2,562.772 1594.06,530.199 1570.33,497.294 1538.66,464.867 1498.9,433.775 1451.12,404.906 1395.6,379.152 1332.86,357.386 1263.61,340.438 1188.8,329.073 1109.56,323.967 1027.18,325.687 943.118,334.673 858.935,351.221 776.281,375.473 696.853,407.405 622.356,446.824 554.466,493.367 494.785,546.502 444.809,605.536 405.887,669.626 379.187,737.795 365.665,808.947 366.04,881.891 380.771,955.361 410.041,1028.05 453.746,1098.62 511.496,1165.76 582.613,1228.19 666.139,1284.67 760.86,1334.09 865.317,1375.44 977.84,1407.85 1096.58,1430.61 1219.54,1443.18 1344.62,1445.22 1469.66,1436.59 1592.48,1417.34 1710.93,1387.73 1822.92,1348.22 1926.49,1299.46 2019.82,1242.28 2101.29,1177.65 2169.51,1106.71 2223.34,1030.71 2261.9,950.972 2284.61,868.903 2291.23,785.938 2281.76,703.52 2256.57,623.067 2216.28,545.943 2161.8,473.435 2094.32,406.724 2015.22,346.861 1926.11,294.749 1828.76,251.127 1725.04,216.554 1616.93,191.406 1506.42,175.865 1395.53,169.923 1286.2,173.386 1180.31,185.879 1079.61,206.862 985.674,235.644 899.912,271.402 823.506,313.201 757.406,360.019 702.317,410.773 658.684,464.343 626.696,519.599 606.289,575.428 597.154,630.756 598.754,684.577 610.345,735.966 631.001,784.107 659.644,828.302 695.076,867.984 736.012,902.731 781.118,932.263 829.045,956.45 878.466,975.305 928.11,988.979 976.794,997.751 1023.45,1002.02 1067.15,1002.27 1107.14,999.084 1142.83,993.096 1173.81,984.981 1199.89,975.434 1221.05,965.144 1237.47,954.774 1249.5,944.943 1257.64,936.205 1262.54,929.029 1264.97,923.792 1265.77,920.763 1265.84,920.094 1266.12,921.819 1267.53,925.851 1270.96,931.985 1277.21,939.905 1286.99,949.191 1300.91,959.332 1319.39,969.746 1342.72,979.792 1370.99,988.791 1404.09,996.049 1441.74,1000.88 1483.45,1002.62 1528.57,1000.66 1576.25,994.45 1625.49,983.551 1675.19,967.611 1724.11,946.407 1770.96,919.848 1814.38,887.983 1853.04,851.009 1885.63,809.269 1910.88,763.25 1927.64,713.577 1934.92,661.005 1931.85,606.398 1917.78,550.719 1892.27,495.009 1855.12,440.36 1806.38,387.897 1746.35,338.748 1675.58,294.021 1594.9,254.774 1505.37,221.994 1408.25,196.569 1305.05,179.267 1197.41,170.713 1087.16,171.377 976.188,181.554 866.492,201.357 760.078,230.71 658.937,269.345 565.007,316.805 480.123,372.448 405.98,435.463 344.092,504.878 295.765,579.581 262.058,658.342 243.765,739.837 241.391,822.674 255.145,905.42 284.926,986.633 330.328,1064.89 390.646,1138.81 464.889,1207.1 551.797,1268.56 649.872,1322.13 757.402,1366.89 872.501,1402.08 993.146,1427.15 1117.22,1441.73 1242.54,1445.63 1366.95,1438.9 1488.3,1421.76 1604.52,1394.66 1713.69,1358.2 1814.04,1313.16 1903.97,1260.48 1982.14,1201.22 2047.44,1136.56 2099.04,1067.73 2136.39,996.061 2159.22,922.863 2167.56,849.467 2161.71,777.164 2142.25,707.19 2110.01,640.698 2066.04,578.732 2011.6,522.213 1948.09,471.92 1877.07,428.474 1800.18,392.333 1719.12,363.787 1635.58,342.952 1551.25,329.777 1467.75,324.053 1386.59,325.416 1309.15,333.369 1236.68,347.293 1170.21,366.472 1110.59,390.109 1058.44,417.351 1014.19,447.314 978.013,479.105 949.886,511.847 929.569,544.701 916.633,576.887 910.475,607.701 910.342,636.535 915.362,662.89 924.571,686.381 936.946,706.752 951.439,723.873 967.009,737.741 982.655,748.476 997.448,756.316 1010.56,761.601 1021.28,764.763 1029.05,766.31 1033.47,766.804 1034.32,766.847 1031.56,767.054 1025.32,768.034 1015.92,770.372 1003.85,774.602 989.751,781.195 974.395,790.537 958.668,802.914 943.542,818.502 930.044,837.357 919.22,859.41 912.112,884.462 909.713,912.189 912.944,942.144 922.617,973.768 939.408,1006.4 963.831,1039.3 996.217,1071.64 1036.69,1102.57 1085.17,1131.2 1141.35,1156.64 1204.71,1178.01 1274.48,1194.49 1349.73,1205.33 1429.31,1209.85 1511.9,1207.51 1596.04,1197.86 1680.15,1180.63 1762.59,1155.7 1841.65,1123.09 1915.63,1083.03 1982.85,1035.88 2041.73,982.19 2090.78,922.672 2128.67,858.179 2154.24,789.7 2166.55,718.34 2164.92,645.299 2148.91,571.844 2118.35,499.29 2073.38,428.966 2014.42,362.193 1942.16,300.248 1857.59,244.344 1761.95,195.597 1656.71,155.006 1543.55,123.427 1424.36,101.554 1301.13,89.9037 1175.96,88.8036 1051.03,98.3814 928.51,118.562 810.552,149.068 699.228,189.424 596.495,238.965 504.15,296.85 423.796,362.081 356.809,433.518 304.306,509.909 267.132,589.91 245.832,672.116 240.65,755.09 251.523,837.391 278.084,917.604 319.672,994.369 375.349,1066.41 443.922,1132.56 523.971,1191.77 613.88,1243.15 711.875,1286 816.062,1319.75 924.47,1344.05 1035.09,1358.74 1145.92,1363.84 1255.02,1359.56 1360.52,1346.29 1460.69,1324.58 1553.95,1295.15 1638.93,1258.82 1714.46,1216.53 1779.61,1169.32 1833.7,1118.27 1876.3,1064.51 1907.26,1009.16 1926.65,953.329 1934.81,898.095 1932.29,844.454 1919.86,793.321 1898.45,745.503 1869.16,701.687 1833.19,662.426 1791.83,628.132 1746.42,599.07 1698.3,575.357 1648.81,556.969 1599.21,543.742 1550.66,535.386 1504.23,531.497 1460.83,531.573 1421.2,535.033 1385.92,541.237 1355.36,549.506 1329.72,559.147 1308.99,569.471 1292.97,579.817 1281.32,589.572 1273.49,598.19 1268.84,605.208 1266.59,610.258 1265.89,613.083 1265.84,613.54 1265.49,611.605 1263.94,607.377 1260.3,601.07 1253.76,593.011 1243.63,583.628 1229.33,573.438 1210.42,563.03 1186.66,553.05 1157.96,544.176 1124.44,537.106 1086.41,532.524 1044.36,531.088 998.984,533.405 951.126,540.009 901.791,551.343 852.112,567.741 803.322,589.417 756.726,616.45 713.667,648.778 675.49,686.19 643.508,728.33 618.964,774.7 602.997,824.661 596.608,877.45 600.63,932.192 615.699,987.917 642.232,1043.58 680.413,1098.08 730.17,1150.29 791.179,1199.1 862.855,1243.38 944.364,1282.09 1034.63,1314.26 1132.34,1338.99 1236.01,1355.54 1343.95,1363.3 1454.35,1361.8 1565.28,1350.77 1674.77,1330.12 1780.8,1299.93 1881.38,1260.49 1974.58,1212.28 2058.58,1155.95 2131.7,1092.33 2192.43,1022.4 2239.5,947.283 2271.88,868.225 2288.78,786.554 2289.73,703.667 2274.54,620.999 2243.36,539.991 2196.61,462.065 2135.01,388.59 2059.59,320.857 1971.63,260.052 1872.65,207.229 1764.37,163.291 1648.7,128.971 1527.66,104.819 1403.39,91.1882 1278.06,88.2306 1153.84,95.8952 1032.86,113.93 917.185,141.89 808.726,179.146 709.245,224.9 620.302,278.208 543.231,337.993 479.112,403.077 428.754,472.204 392.685,544.066 371.143,617.334 364.076,690.686 371.156,762.831 391.781,832.542 425.106,898.674 470.056,960.193 525.364,1016.19 589.599,1065.9 661.203,1108.72 738.53,1144.19 819.884,1172.06 903.559,1192.21 987.879,1204.72 1071.24,1209.8 1152.12,1207.83 1229.16,1199.32 1301.14,1184.9 1367.04,1165.29 1426.02,1141.3 1477.48,1113.78 1521.02,1083.62 1556.48,1051.71 1583.91,1018.93 1603.55,986.102 1615.86,954.011 1621.45,923.349 1621.09,894.716 1615.66,868.601 1606.13,845.377 1593.52,825.29 1578.89,808.459 1563.28,794.875 1547.67,784.407 1532.99,776.809 1520.07,771.731 1509.59,768.733 1502.1,767.303 1497.99,766.873 1497.46,766.84 1500.54,766.59 1507.08,765.512 1516.73,763.028 1529.01,758.606 1543.25,751.784 1558.68,742.184 1574.39,729.528 1589.42,713.651 1602.72,694.508 1613.26,672.18 1619.99,646.876 1621.92,618.932 1618.15,588.805 1607.88,557.063 1590.43,524.376 1565.31,491.495 1532.21,459.24 1491.02,428.477 1441.84,400.095 1385,374.984 1321.05,354.012 1250.74,337.999 1175.06,327.696 1095.16,323.76 1012.38,326.738 928.178,337.045 844.143,354.951 761.936,380.569 683.257,413.846 609.81,454.557 543.258,502.311 485.19,556.545 437.077,616.539 400.24,681.427 375.809,750.207 364.703,821.765 367.593,894.896 384.893,968.324 416.734,1040.73 462.962,1110.8 523.136,1177.19 596.527,1238.65 682.131,1293.96 778.688,1342.03 884.7,1381.85 998.463,1412.6 1118.1,1433.59 1241.59,1444.31 1366.82,1444.47 1491.63,1433.95 1613.83,1412.84 1731.28,1381.44 1841.92,1340.24 1943.81,1289.92 2035.15,1231.35 2114.37,1165.52 2180.12,1093.59 2231.3,1016.83 2267.08,936.572 2286.96,854.24 2290.71,771.267 2278.43,689.095 2250.51,609.133 2207.64,532.736 2150.77,461.172 2081.12,395.6 2000.13,337.048 1909.43,286.39 1810.81,244.334 1706.17,211.408 1597.48,187.953 1486.76,174.117 1376,169.86 1267.15,174.953 1162.06,188.993 1062.44,211.411 969.86,241.492 885.674,278.39 811.03,321.154 746.836,368.749 693.749,420.084 652.171,474.035 622.246,529.472 603.864,585.289 596.674,640.422 600.102,693.876 613.37,744.747 635.523,792.236 665.458,835.669 701.96,874.505 743.732,908.344 789.435,936.936 837.722,960.174 887.273,978.096 936.83,990.879 985.23,998.822 1031.43,1002.34 1074.52,1001.94 1113.79,998.209 1148.66,991.795 1178.79,983.376 1203.99,973.647 1224.3,963.295 1239.91,952.978 1251.21,943.302 1258.72,934.808 1263.13,927.952 1265.2,923.089 1265.81,920.47 1265.85,920.225 1266.27,922.369 1267.97,926.791 1271.84,933.268 1278.66,941.463 1289.14,950.939 1303.84,961.174 1323.17,971.57 1347.37,981.481 1376.5,990.222 1410.43,997.1 \"/>\n",
       "<path clip-path=\"url(#clip670)\" d=\"M251.33 198.898 L521.149 198.898 L521.149 95.2176 L251.33 95.2176  Z\" fill=\"#ffffff\" fill-rule=\"evenodd\" fill-opacity=\"1\"/>\n",
       "<polyline clip-path=\"url(#clip670)\" style=\"stroke:#000000; stroke-linecap:round; stroke-linejoin:round; stroke-width:4; stroke-opacity:1; fill:none\" points=\"251.33,198.898 521.149,198.898 521.149,95.2176 251.33,95.2176 251.33,198.898 \"/>\n",
       "<polyline clip-path=\"url(#clip670)\" style=\"stroke:#009af9; stroke-linecap:round; stroke-linejoin:round; stroke-width:4; stroke-opacity:1; fill:none\" points=\"275.484,147.058 420.41,147.058 \"/>\n",
       "<path clip-path=\"url(#clip670)\" d=\"M458.407 166.745 Q456.601 171.375 454.888 172.787 Q453.175 174.199 450.305 174.199 L446.902 174.199 L446.902 170.634 L449.402 170.634 Q451.161 170.634 452.134 169.8 Q453.106 168.967 454.286 165.865 L455.05 163.921 L444.564 138.412 L449.078 138.412 L457.18 158.689 L465.282 138.412 L469.796 138.412 L458.407 166.745 Z\" fill=\"#000000\" fill-rule=\"nonzero\" fill-opacity=\"1\" /><path clip-path=\"url(#clip670)\" d=\"M477.087 160.402 L484.726 160.402 L484.726 134.037 L476.416 135.703 L476.416 131.444 L484.68 129.778 L489.356 129.778 L489.356 160.402 L496.994 160.402 L496.994 164.338 L477.087 164.338 L477.087 160.402 Z\" fill=\"#000000\" fill-rule=\"nonzero\" fill-opacity=\"1\" /></svg>\n"
      ],
      "text/html": [
       "<?xml version=\"1.0\" encoding=\"utf-8\"?>\n",
       "<svg xmlns=\"http://www.w3.org/2000/svg\" xmlns:xlink=\"http://www.w3.org/1999/xlink\" width=\"600\" height=\"400\" viewBox=\"0 0 2400 1600\">\n",
       "<defs>\n",
       "  <clipPath id=\"clip720\">\n",
       "    <rect x=\"0\" y=\"0\" width=\"2400\" height=\"1600\"/>\n",
       "  </clipPath>\n",
       "</defs>\n",
       "<path clip-path=\"url(#clip720)\" d=\"M0 1600 L2400 1600 L2400 8.88178e-14 L0 8.88178e-14  Z\" fill=\"#ffffff\" fill-rule=\"evenodd\" fill-opacity=\"1\"/>\n",
       "<defs>\n",
       "  <clipPath id=\"clip721\">\n",
       "    <rect x=\"480\" y=\"0\" width=\"1681\" height=\"1600\"/>\n",
       "  </clipPath>\n",
       "</defs>\n",
       "<path clip-path=\"url(#clip720)\" d=\"M178.867 1486.45 L2352.76 1486.45 L2352.76 47.2441 L178.867 47.2441  Z\" fill=\"#ffffff\" fill-rule=\"evenodd\" fill-opacity=\"1\"/>\n",
       "<defs>\n",
       "  <clipPath id=\"clip722\">\n",
       "    <rect x=\"178\" y=\"47\" width=\"2175\" height=\"1440\"/>\n",
       "  </clipPath>\n",
       "</defs>\n",
       "<polyline clip-path=\"url(#clip722)\" style=\"stroke:#000000; stroke-linecap:round; stroke-linejoin:round; stroke-width:2; stroke-opacity:0.1; fill:none\" points=\"398.117,1486.45 398.117,47.2441 \"/>\n",
       "<polyline clip-path=\"url(#clip722)\" style=\"stroke:#000000; stroke-linecap:round; stroke-linejoin:round; stroke-width:2; stroke-opacity:0.1; fill:none\" points=\"687.359,1486.45 687.359,47.2441 \"/>\n",
       "<polyline clip-path=\"url(#clip722)\" style=\"stroke:#000000; stroke-linecap:round; stroke-linejoin:round; stroke-width:2; stroke-opacity:0.1; fill:none\" points=\"976.6,1486.45 976.6,47.2441 \"/>\n",
       "<polyline clip-path=\"url(#clip722)\" style=\"stroke:#000000; stroke-linecap:round; stroke-linejoin:round; stroke-width:2; stroke-opacity:0.1; fill:none\" points=\"1265.84,1486.45 1265.84,47.2441 \"/>\n",
       "<polyline clip-path=\"url(#clip722)\" style=\"stroke:#000000; stroke-linecap:round; stroke-linejoin:round; stroke-width:2; stroke-opacity:0.1; fill:none\" points=\"1555.08,1486.45 1555.08,47.2441 \"/>\n",
       "<polyline clip-path=\"url(#clip722)\" style=\"stroke:#000000; stroke-linecap:round; stroke-linejoin:round; stroke-width:2; stroke-opacity:0.1; fill:none\" points=\"1844.32,1486.45 1844.32,47.2441 \"/>\n",
       "<polyline clip-path=\"url(#clip722)\" style=\"stroke:#000000; stroke-linecap:round; stroke-linejoin:round; stroke-width:2; stroke-opacity:0.1; fill:none\" points=\"2133.57,1486.45 2133.57,47.2441 \"/>\n",
       "<polyline clip-path=\"url(#clip722)\" style=\"stroke:#000000; stroke-linecap:round; stroke-linejoin:round; stroke-width:2; stroke-opacity:0.1; fill:none\" points=\"178.867,1341.31 2352.76,1341.31 \"/>\n",
       "<polyline clip-path=\"url(#clip722)\" style=\"stroke:#000000; stroke-linecap:round; stroke-linejoin:round; stroke-width:2; stroke-opacity:0.1; fill:none\" points=\"178.867,1149.82 2352.76,1149.82 \"/>\n",
       "<polyline clip-path=\"url(#clip722)\" style=\"stroke:#000000; stroke-linecap:round; stroke-linejoin:round; stroke-width:2; stroke-opacity:0.1; fill:none\" points=\"178.867,958.332 2352.76,958.332 \"/>\n",
       "<polyline clip-path=\"url(#clip722)\" style=\"stroke:#000000; stroke-linecap:round; stroke-linejoin:round; stroke-width:2; stroke-opacity:0.1; fill:none\" points=\"178.867,766.845 2352.76,766.845 \"/>\n",
       "<polyline clip-path=\"url(#clip722)\" style=\"stroke:#000000; stroke-linecap:round; stroke-linejoin:round; stroke-width:2; stroke-opacity:0.1; fill:none\" points=\"178.867,575.358 2352.76,575.358 \"/>\n",
       "<polyline clip-path=\"url(#clip722)\" style=\"stroke:#000000; stroke-linecap:round; stroke-linejoin:round; stroke-width:2; stroke-opacity:0.1; fill:none\" points=\"178.867,383.871 2352.76,383.871 \"/>\n",
       "<polyline clip-path=\"url(#clip722)\" style=\"stroke:#000000; stroke-linecap:round; stroke-linejoin:round; stroke-width:2; stroke-opacity:0.1; fill:none\" points=\"178.867,192.384 2352.76,192.384 \"/>\n",
       "<polyline clip-path=\"url(#clip720)\" style=\"stroke:#000000; stroke-linecap:round; stroke-linejoin:round; stroke-width:4; stroke-opacity:1; fill:none\" points=\"178.867,1486.45 2352.76,1486.45 \"/>\n",
       "<polyline clip-path=\"url(#clip720)\" style=\"stroke:#000000; stroke-linecap:round; stroke-linejoin:round; stroke-width:4; stroke-opacity:1; fill:none\" points=\"398.117,1486.45 398.117,1467.55 \"/>\n",
       "<polyline clip-path=\"url(#clip720)\" style=\"stroke:#000000; stroke-linecap:round; stroke-linejoin:round; stroke-width:4; stroke-opacity:1; fill:none\" points=\"687.359,1486.45 687.359,1467.55 \"/>\n",
       "<polyline clip-path=\"url(#clip720)\" style=\"stroke:#000000; stroke-linecap:round; stroke-linejoin:round; stroke-width:4; stroke-opacity:1; fill:none\" points=\"976.6,1486.45 976.6,1467.55 \"/>\n",
       "<polyline clip-path=\"url(#clip720)\" style=\"stroke:#000000; stroke-linecap:round; stroke-linejoin:round; stroke-width:4; stroke-opacity:1; fill:none\" points=\"1265.84,1486.45 1265.84,1467.55 \"/>\n",
       "<polyline clip-path=\"url(#clip720)\" style=\"stroke:#000000; stroke-linecap:round; stroke-linejoin:round; stroke-width:4; stroke-opacity:1; fill:none\" points=\"1555.08,1486.45 1555.08,1467.55 \"/>\n",
       "<polyline clip-path=\"url(#clip720)\" style=\"stroke:#000000; stroke-linecap:round; stroke-linejoin:round; stroke-width:4; stroke-opacity:1; fill:none\" points=\"1844.32,1486.45 1844.32,1467.55 \"/>\n",
       "<polyline clip-path=\"url(#clip720)\" style=\"stroke:#000000; stroke-linecap:round; stroke-linejoin:round; stroke-width:4; stroke-opacity:1; fill:none\" points=\"2133.57,1486.45 2133.57,1467.55 \"/>\n",
       "<path clip-path=\"url(#clip720)\" d=\"M352.678 1532.02 L382.354 1532.02 L382.354 1535.95 L352.678 1535.95 L352.678 1532.02 Z\" fill=\"#000000\" fill-rule=\"nonzero\" fill-opacity=\"1\" /><path clip-path=\"url(#clip720)\" d=\"M393.256 1544.91 L400.895 1544.91 L400.895 1518.55 L392.585 1520.21 L392.585 1515.95 L400.849 1514.29 L405.525 1514.29 L405.525 1544.91 L413.164 1544.91 L413.164 1548.85 L393.256 1548.85 L393.256 1544.91 Z\" fill=\"#000000\" fill-rule=\"nonzero\" fill-opacity=\"1\" /><path clip-path=\"url(#clip720)\" d=\"M422.654 1514.29 L441.011 1514.29 L441.011 1518.22 L426.937 1518.22 L426.937 1526.7 Q427.955 1526.35 428.974 1526.19 Q429.992 1526 431.011 1526 Q436.798 1526 440.177 1529.17 Q443.557 1532.34 443.557 1537.76 Q443.557 1543.34 440.085 1546.44 Q436.613 1549.52 430.293 1549.52 Q428.117 1549.52 425.849 1549.15 Q423.603 1548.78 421.196 1548.04 L421.196 1543.34 Q423.279 1544.47 425.501 1545.03 Q427.724 1545.58 430.201 1545.58 Q434.205 1545.58 436.543 1543.48 Q438.881 1541.37 438.881 1537.76 Q438.881 1534.15 436.543 1532.04 Q434.205 1529.94 430.201 1529.94 Q428.326 1529.94 426.451 1530.35 Q424.599 1530.77 422.654 1531.65 L422.654 1514.29 Z\" fill=\"#000000\" fill-rule=\"nonzero\" fill-opacity=\"1\" /><path clip-path=\"url(#clip720)\" d=\"M641.421 1532.02 L671.097 1532.02 L671.097 1535.95 L641.421 1535.95 L641.421 1532.02 Z\" fill=\"#000000\" fill-rule=\"nonzero\" fill-opacity=\"1\" /><path clip-path=\"url(#clip720)\" d=\"M682 1544.91 L689.639 1544.91 L689.639 1518.55 L681.329 1520.21 L681.329 1515.95 L689.593 1514.29 L694.268 1514.29 L694.268 1544.91 L701.907 1544.91 L701.907 1548.85 L682 1548.85 L682 1544.91 Z\" fill=\"#000000\" fill-rule=\"nonzero\" fill-opacity=\"1\" /><path clip-path=\"url(#clip720)\" d=\"M721.352 1517.37 Q717.741 1517.37 715.912 1520.93 Q714.106 1524.47 714.106 1531.6 Q714.106 1538.71 715.912 1542.27 Q717.741 1545.82 721.352 1545.82 Q724.986 1545.82 726.791 1542.27 Q728.62 1538.71 728.62 1531.6 Q728.62 1524.47 726.791 1520.93 Q724.986 1517.37 721.352 1517.37 M721.352 1513.66 Q727.162 1513.66 730.217 1518.27 Q733.296 1522.85 733.296 1531.6 Q733.296 1540.33 730.217 1544.94 Q727.162 1549.52 721.352 1549.52 Q715.541 1549.52 712.463 1544.94 Q709.407 1540.33 709.407 1531.6 Q709.407 1522.85 712.463 1518.27 Q715.541 1513.66 721.352 1513.66 Z\" fill=\"#000000\" fill-rule=\"nonzero\" fill-opacity=\"1\" /><path clip-path=\"url(#clip720)\" d=\"M946.241 1532.02 L975.917 1532.02 L975.917 1535.95 L946.241 1535.95 L946.241 1532.02 Z\" fill=\"#000000\" fill-rule=\"nonzero\" fill-opacity=\"1\" /><path clip-path=\"url(#clip720)\" d=\"M986.056 1514.29 L1004.41 1514.29 L1004.41 1518.22 L990.338 1518.22 L990.338 1526.7 Q991.357 1526.35 992.375 1526.19 Q993.394 1526 994.412 1526 Q1000.2 1526 1003.58 1529.17 Q1006.96 1532.34 1006.96 1537.76 Q1006.96 1543.34 1003.49 1546.44 Q1000.01 1549.52 993.695 1549.52 Q991.519 1549.52 989.25 1549.15 Q987.005 1548.78 984.598 1548.04 L984.598 1543.34 Q986.681 1544.47 988.903 1545.03 Q991.125 1545.58 993.602 1545.58 Q997.607 1545.58 999.945 1543.48 Q1002.28 1541.37 1002.28 1537.76 Q1002.28 1534.15 999.945 1532.04 Q997.607 1529.94 993.602 1529.94 Q991.727 1529.94 989.852 1530.35 Q988 1530.77 986.056 1531.65 L986.056 1514.29 Z\" fill=\"#000000\" fill-rule=\"nonzero\" fill-opacity=\"1\" /><path clip-path=\"url(#clip720)\" d=\"M1265.84 1517.37 Q1262.23 1517.37 1260.4 1520.93 Q1258.6 1524.47 1258.6 1531.6 Q1258.6 1538.71 1260.4 1542.27 Q1262.23 1545.82 1265.84 1545.82 Q1269.48 1545.82 1271.28 1542.27 Q1273.11 1538.71 1273.11 1531.6 Q1273.11 1524.47 1271.28 1520.93 Q1269.48 1517.37 1265.84 1517.37 M1265.84 1513.66 Q1271.65 1513.66 1274.71 1518.27 Q1277.79 1522.85 1277.79 1531.6 Q1277.79 1540.33 1274.71 1544.94 Q1271.65 1549.52 1265.84 1549.52 Q1260.03 1549.52 1256.95 1544.94 Q1253.9 1540.33 1253.9 1531.6 Q1253.9 1522.85 1256.95 1518.27 Q1260.03 1513.66 1265.84 1513.66 Z\" fill=\"#000000\" fill-rule=\"nonzero\" fill-opacity=\"1\" /><path clip-path=\"url(#clip720)\" d=\"M1545.36 1514.29 L1563.72 1514.29 L1563.72 1518.22 L1549.64 1518.22 L1549.64 1526.7 Q1550.66 1526.35 1551.68 1526.19 Q1552.7 1526 1553.72 1526 Q1559.5 1526 1562.88 1529.17 Q1566.26 1532.34 1566.26 1537.76 Q1566.26 1543.34 1562.79 1546.44 Q1559.32 1549.52 1553 1549.52 Q1550.82 1549.52 1548.56 1549.15 Q1546.31 1548.78 1543.9 1548.04 L1543.9 1543.34 Q1545.99 1544.47 1548.21 1545.03 Q1550.43 1545.58 1552.91 1545.58 Q1556.91 1545.58 1559.25 1543.48 Q1561.59 1541.37 1561.59 1537.76 Q1561.59 1534.15 1559.25 1532.04 Q1556.91 1529.94 1552.91 1529.94 Q1551.03 1529.94 1549.16 1530.35 Q1547.31 1530.77 1545.36 1531.65 L1545.36 1514.29 Z\" fill=\"#000000\" fill-rule=\"nonzero\" fill-opacity=\"1\" /><path clip-path=\"url(#clip720)\" d=\"M1819.01 1544.91 L1826.65 1544.91 L1826.65 1518.55 L1818.34 1520.21 L1818.34 1515.95 L1826.6 1514.29 L1831.28 1514.29 L1831.28 1544.91 L1838.92 1544.91 L1838.92 1548.85 L1819.01 1548.85 L1819.01 1544.91 Z\" fill=\"#000000\" fill-rule=\"nonzero\" fill-opacity=\"1\" /><path clip-path=\"url(#clip720)\" d=\"M1858.36 1517.37 Q1854.75 1517.37 1852.92 1520.93 Q1851.12 1524.47 1851.12 1531.6 Q1851.12 1538.71 1852.92 1542.27 Q1854.75 1545.82 1858.36 1545.82 Q1862 1545.82 1863.8 1542.27 Q1865.63 1538.71 1865.63 1531.6 Q1865.63 1524.47 1863.8 1520.93 Q1862 1517.37 1858.36 1517.37 M1858.36 1513.66 Q1864.17 1513.66 1867.23 1518.27 Q1870.31 1522.85 1870.31 1531.6 Q1870.31 1540.33 1867.23 1544.94 Q1864.17 1549.52 1858.36 1549.52 Q1852.55 1549.52 1849.47 1544.94 Q1846.42 1540.33 1846.42 1531.6 Q1846.42 1522.85 1849.47 1518.27 Q1852.55 1513.66 1858.36 1513.66 Z\" fill=\"#000000\" fill-rule=\"nonzero\" fill-opacity=\"1\" /><path clip-path=\"url(#clip720)\" d=\"M2108.75 1544.91 L2116.39 1544.91 L2116.39 1518.55 L2108.08 1520.21 L2108.08 1515.95 L2116.34 1514.29 L2121.02 1514.29 L2121.02 1544.91 L2128.66 1544.91 L2128.66 1548.85 L2108.75 1548.85 L2108.75 1544.91 Z\" fill=\"#000000\" fill-rule=\"nonzero\" fill-opacity=\"1\" /><path clip-path=\"url(#clip720)\" d=\"M2138.15 1514.29 L2156.51 1514.29 L2156.51 1518.22 L2142.43 1518.22 L2142.43 1526.7 Q2143.45 1526.35 2144.47 1526.19 Q2145.49 1526 2146.51 1526 Q2152.29 1526 2155.67 1529.17 Q2159.05 1532.34 2159.05 1537.76 Q2159.05 1543.34 2155.58 1546.44 Q2152.11 1549.52 2145.79 1549.52 Q2143.61 1549.52 2141.34 1549.15 Q2139.1 1548.78 2136.69 1548.04 L2136.69 1543.34 Q2138.77 1544.47 2141 1545.03 Q2143.22 1545.58 2145.7 1545.58 Q2149.7 1545.58 2152.04 1543.48 Q2154.38 1541.37 2154.38 1537.76 Q2154.38 1534.15 2152.04 1532.04 Q2149.7 1529.94 2145.7 1529.94 Q2143.82 1529.94 2141.95 1530.35 Q2140.09 1530.77 2138.15 1531.65 L2138.15 1514.29 Z\" fill=\"#000000\" fill-rule=\"nonzero\" fill-opacity=\"1\" /><polyline clip-path=\"url(#clip720)\" style=\"stroke:#000000; stroke-linecap:round; stroke-linejoin:round; stroke-width:4; stroke-opacity:1; fill:none\" points=\"178.867,1486.45 178.867,47.2441 \"/>\n",
       "<polyline clip-path=\"url(#clip720)\" style=\"stroke:#000000; stroke-linecap:round; stroke-linejoin:round; stroke-width:4; stroke-opacity:1; fill:none\" points=\"178.867,1341.31 197.764,1341.31 \"/>\n",
       "<polyline clip-path=\"url(#clip720)\" style=\"stroke:#000000; stroke-linecap:round; stroke-linejoin:round; stroke-width:4; stroke-opacity:1; fill:none\" points=\"178.867,1149.82 197.764,1149.82 \"/>\n",
       "<polyline clip-path=\"url(#clip720)\" style=\"stroke:#000000; stroke-linecap:round; stroke-linejoin:round; stroke-width:4; stroke-opacity:1; fill:none\" points=\"178.867,958.332 197.764,958.332 \"/>\n",
       "<polyline clip-path=\"url(#clip720)\" style=\"stroke:#000000; stroke-linecap:round; stroke-linejoin:round; stroke-width:4; stroke-opacity:1; fill:none\" points=\"178.867,766.845 197.764,766.845 \"/>\n",
       "<polyline clip-path=\"url(#clip720)\" style=\"stroke:#000000; stroke-linecap:round; stroke-linejoin:round; stroke-width:4; stroke-opacity:1; fill:none\" points=\"178.867,575.358 197.764,575.358 \"/>\n",
       "<polyline clip-path=\"url(#clip720)\" style=\"stroke:#000000; stroke-linecap:round; stroke-linejoin:round; stroke-width:4; stroke-opacity:1; fill:none\" points=\"178.867,383.871 197.764,383.871 \"/>\n",
       "<polyline clip-path=\"url(#clip720)\" style=\"stroke:#000000; stroke-linecap:round; stroke-linejoin:round; stroke-width:4; stroke-opacity:1; fill:none\" points=\"178.867,192.384 197.764,192.384 \"/>\n",
       "<path clip-path=\"url(#clip720)\" d=\"M51.9875 1341.76 L81.6633 1341.76 L81.6633 1345.69 L51.9875 1345.69 L51.9875 1341.76 Z\" fill=\"#000000\" fill-rule=\"nonzero\" fill-opacity=\"1\" /><path clip-path=\"url(#clip720)\" d=\"M92.566 1354.65 L100.205 1354.65 L100.205 1328.29 L91.8947 1329.95 L91.8947 1325.69 L100.159 1324.03 L104.834 1324.03 L104.834 1354.65 L112.473 1354.65 L112.473 1358.59 L92.566 1358.59 L92.566 1354.65 Z\" fill=\"#000000\" fill-rule=\"nonzero\" fill-opacity=\"1\" /><path clip-path=\"url(#clip720)\" d=\"M121.964 1324.03 L140.32 1324.03 L140.32 1327.96 L126.246 1327.96 L126.246 1336.43 Q127.265 1336.09 128.283 1335.92 Q129.302 1335.74 130.32 1335.74 Q136.107 1335.74 139.487 1338.91 Q142.867 1342.08 142.867 1347.5 Q142.867 1353.08 139.394 1356.18 Q135.922 1359.26 129.603 1359.26 Q127.427 1359.26 125.158 1358.89 Q122.913 1358.52 120.506 1357.78 L120.506 1353.08 Q122.589 1354.21 124.811 1354.77 Q127.033 1355.32 129.51 1355.32 Q133.515 1355.32 135.853 1353.22 Q138.191 1351.11 138.191 1347.5 Q138.191 1343.89 135.853 1341.78 Q133.515 1339.67 129.51 1339.67 Q127.635 1339.67 125.76 1340.09 Q123.908 1340.51 121.964 1341.39 L121.964 1324.03 Z\" fill=\"#000000\" fill-rule=\"nonzero\" fill-opacity=\"1\" /><path clip-path=\"url(#clip720)\" d=\"M50.9921 1150.27 L80.6679 1150.27 L80.6679 1154.21 L50.9921 1154.21 L50.9921 1150.27 Z\" fill=\"#000000\" fill-rule=\"nonzero\" fill-opacity=\"1\" /><path clip-path=\"url(#clip720)\" d=\"M91.5706 1163.16 L99.2095 1163.16 L99.2095 1136.8 L90.8993 1138.46 L90.8993 1134.21 L99.1632 1132.54 L103.839 1132.54 L103.839 1163.16 L111.478 1163.16 L111.478 1167.1 L91.5706 1167.1 L91.5706 1163.16 Z\" fill=\"#000000\" fill-rule=\"nonzero\" fill-opacity=\"1\" /><path clip-path=\"url(#clip720)\" d=\"M130.922 1135.62 Q127.311 1135.62 125.482 1139.18 Q123.677 1142.72 123.677 1149.85 Q123.677 1156.96 125.482 1160.52 Q127.311 1164.07 130.922 1164.07 Q134.556 1164.07 136.362 1160.52 Q138.191 1156.96 138.191 1149.85 Q138.191 1142.72 136.362 1139.18 Q134.556 1135.62 130.922 1135.62 M130.922 1131.91 Q136.732 1131.91 139.788 1136.52 Q142.867 1141.1 142.867 1149.85 Q142.867 1158.58 139.788 1163.19 Q136.732 1167.77 130.922 1167.77 Q125.112 1167.77 122.033 1163.19 Q118.978 1158.58 118.978 1149.85 Q118.978 1141.1 122.033 1136.52 Q125.112 1131.91 130.922 1131.91 Z\" fill=\"#000000\" fill-rule=\"nonzero\" fill-opacity=\"1\" /><path clip-path=\"url(#clip720)\" d=\"M82.1494 958.783 L111.825 958.783 L111.825 962.719 L82.1494 962.719 L82.1494 958.783 Z\" fill=\"#000000\" fill-rule=\"nonzero\" fill-opacity=\"1\" /><path clip-path=\"url(#clip720)\" d=\"M121.964 941.052 L140.32 941.052 L140.32 944.987 L126.246 944.987 L126.246 953.459 Q127.265 953.112 128.283 952.95 Q129.302 952.765 130.32 952.765 Q136.107 952.765 139.487 955.936 Q142.867 959.107 142.867 964.524 Q142.867 970.103 139.394 973.205 Q135.922 976.283 129.603 976.283 Q127.427 976.283 125.158 975.913 Q122.913 975.543 120.506 974.802 L120.506 970.103 Q122.589 971.237 124.811 971.793 Q127.033 972.348 129.51 972.348 Q133.515 972.348 135.853 970.242 Q138.191 968.135 138.191 964.524 Q138.191 960.913 135.853 958.807 Q133.515 956.7 129.51 956.7 Q127.635 956.7 125.76 957.117 Q123.908 957.533 121.964 958.413 L121.964 941.052 Z\" fill=\"#000000\" fill-rule=\"nonzero\" fill-opacity=\"1\" /><path clip-path=\"url(#clip720)\" d=\"M130.922 752.644 Q127.311 752.644 125.482 756.209 Q123.677 759.75 123.677 766.88 Q123.677 773.986 125.482 777.551 Q127.311 781.093 130.922 781.093 Q134.556 781.093 136.362 777.551 Q138.191 773.986 138.191 766.88 Q138.191 759.75 136.362 756.209 Q134.556 752.644 130.922 752.644 M130.922 748.94 Q136.732 748.94 139.788 753.547 Q142.867 758.13 142.867 766.88 Q142.867 775.607 139.788 780.213 Q136.732 784.796 130.922 784.796 Q125.112 784.796 122.033 780.213 Q118.978 775.607 118.978 766.88 Q118.978 758.13 122.033 753.547 Q125.112 748.94 130.922 748.94 Z\" fill=\"#000000\" fill-rule=\"nonzero\" fill-opacity=\"1\" /><path clip-path=\"url(#clip720)\" d=\"M121.964 558.078 L140.32 558.078 L140.32 562.013 L126.246 562.013 L126.246 570.485 Q127.265 570.138 128.283 569.976 Q129.302 569.791 130.32 569.791 Q136.107 569.791 139.487 572.962 Q142.867 576.134 142.867 581.55 Q142.867 587.129 139.394 590.231 Q135.922 593.309 129.603 593.309 Q127.427 593.309 125.158 592.939 Q122.913 592.569 120.506 591.828 L120.506 587.129 Q122.589 588.263 124.811 588.819 Q127.033 589.374 129.51 589.374 Q133.515 589.374 135.853 587.268 Q138.191 585.161 138.191 581.55 Q138.191 577.939 135.853 575.833 Q133.515 573.726 129.51 573.726 Q127.635 573.726 125.76 574.143 Q123.908 574.559 121.964 575.439 L121.964 558.078 Z\" fill=\"#000000\" fill-rule=\"nonzero\" fill-opacity=\"1\" /><path clip-path=\"url(#clip720)\" d=\"M91.5706 397.216 L99.2095 397.216 L99.2095 370.85 L90.8993 372.517 L90.8993 368.258 L99.1632 366.591 L103.839 366.591 L103.839 397.216 L111.478 397.216 L111.478 401.151 L91.5706 401.151 L91.5706 397.216 Z\" fill=\"#000000\" fill-rule=\"nonzero\" fill-opacity=\"1\" /><path clip-path=\"url(#clip720)\" d=\"M130.922 369.67 Q127.311 369.67 125.482 373.235 Q123.677 376.776 123.677 383.906 Q123.677 391.012 125.482 394.577 Q127.311 398.119 130.922 398.119 Q134.556 398.119 136.362 394.577 Q138.191 391.012 138.191 383.906 Q138.191 376.776 136.362 373.235 Q134.556 369.67 130.922 369.67 M130.922 365.966 Q136.732 365.966 139.788 370.573 Q142.867 375.156 142.867 383.906 Q142.867 392.633 139.788 397.239 Q136.732 401.822 130.922 401.822 Q125.112 401.822 122.033 397.239 Q118.978 392.633 118.978 383.906 Q118.978 375.156 122.033 370.573 Q125.112 365.966 130.922 365.966 Z\" fill=\"#000000\" fill-rule=\"nonzero\" fill-opacity=\"1\" /><path clip-path=\"url(#clip720)\" d=\"M92.566 205.729 L100.205 205.729 L100.205 179.363 L91.8947 181.03 L91.8947 176.771 L100.159 175.104 L104.834 175.104 L104.834 205.729 L112.473 205.729 L112.473 209.664 L92.566 209.664 L92.566 205.729 Z\" fill=\"#000000\" fill-rule=\"nonzero\" fill-opacity=\"1\" /><path clip-path=\"url(#clip720)\" d=\"M121.964 175.104 L140.32 175.104 L140.32 179.039 L126.246 179.039 L126.246 187.512 Q127.265 187.164 128.283 187.002 Q129.302 186.817 130.32 186.817 Q136.107 186.817 139.487 189.988 Q142.867 193.16 142.867 198.576 Q142.867 204.155 139.394 207.257 Q135.922 210.336 129.603 210.336 Q127.427 210.336 125.158 209.965 Q122.913 209.595 120.506 208.854 L120.506 204.155 Q122.589 205.289 124.811 205.845 Q127.033 206.4 129.51 206.4 Q133.515 206.4 135.853 204.294 Q138.191 202.187 138.191 198.576 Q138.191 194.965 135.853 192.859 Q133.515 190.752 129.51 190.752 Q127.635 190.752 125.76 191.169 Q123.908 191.586 121.964 192.465 L121.964 175.104 Z\" fill=\"#000000\" fill-rule=\"nonzero\" fill-opacity=\"1\" /><polyline clip-path=\"url(#clip722)\" style=\"stroke:#009af9; stroke-linecap:round; stroke-linejoin:round; stroke-width:4; stroke-opacity:1; fill:none\" points=\"1497.23,766.845 1499.04,766.742 1504.39,766.025 1512.98,764.103 1524.4,760.424 1538.03,754.499 1553.14,745.92 1568.86,734.371 1584.24,719.646 1598.27,701.657 1609.91,680.439 1618.1,656.157 1621.85,629.102 1620.19,599.688 1612.3,568.446 1597.46,536.012 1575.1,503.108 1544.85,470.535 1506.53,439.143 1460.15,409.815 1405.97,383.445 1344.46,360.911 1276.3,343.052 1202.4,330.647 1123.86,324.388 1041.93,324.864 958.054,332.538 873.774,347.732 790.727,370.617 710.603,401.199 635.11,439.314 565.931,484.63 504.684,536.644 452.887,594.691 411.918,657.954 382.978,725.477 367.064,796.186 364.938,868.902 377.106,942.374 403.801,1015.3 444.971,1086.34 500.276,1154.19 569.088,1217.53 650.499,1275.15 743.338,1325.9 846.187,1368.75 957.413,1402.8 1075.19,1427.31 1197.56,1441.71 1322.42,1445.63 1447.62,1438.89 1571,1421.51 1690.37,1393.71 1803.65,1355.91 1908.85,1308.73 2004.12,1252.97 2087.8,1189.59 2158.46,1119.68 2214.9,1044.47 2256.21,965.298 2281.76,883.538 2291.23,800.627 2284.6,718.008 2262.15,637.105 2224.47,559.295 2172.43,485.881 2107.15,418.063 2030,356.917 1942.54,303.375 1846.51,258.203 1743.78,221.996 1636.3,195.161 1526.07,177.914 1415.1,170.282 1305.36,172.102 1198.73,183.031 1096.98,202.558 1001.74,230.016 914.444,264.604 836.305,305.406 768.323,351.413 711.244,401.551 665.562,454.705 631.51,509.744 609.069,565.551 597.971,621.044 597.719,675.201 607.604,727.084 626.73,775.854 654.043,820.792 688.365,861.309 728.423,896.954 772.889,927.423 820.414,952.559 869.665,972.35 919.359,986.924 968.294,996.539 1015.38,1001.57 1059.67,1002.49 1100.36,999.871 1136.84,994.331 1168.68,986.542 1195.64,977.198 1217.66,966.99 1234.9,956.587 1247.67,946.619 1256.45,937.65 1261.88,930.167 1264.68,924.565 1265.71,921.13 1265.84,920.037 1266.02,921.341 1267.16,924.977 1270.17,930.759 1275.86,938.39 1284.97,947.469 1298.12,957.499 1315.77,967.911 1338.23,978.07 1365.62,987.305 1397.89,994.922 1434.76,1000.23 1475.8,1002.56 1520.37,1001.3 1567.66,995.879 1616.71,985.839 1666.41,970.812 1715.56,950.55 1762.87,924.94 1807,894.004 1846.61,857.913 1880.36,816.985 1906.99,771.682 1925.34,722.605 1934.36,670.486 1933.18,616.171 1921.09,560.609 1897.63,504.825 1862.55,449.907 1815.84,396.975 1757.77,347.158 1688.86,301.569 1609.86,261.278 1521.81,227.285 1425.93,200.499 1323.69,181.708 1216.71,171.567 1106.78,170.573 995.797,179.052 885.73,197.151 778.588,224.828 676.371,261.847 581.028,307.786 494.414,362.036 418.253,423.812 354.095,492.171 303.282,566.024 266.921,644.161 245.854,725.272 240.639,807.975 251.536,890.842 278.5,972.431 321.18,1051.31 378.922,1126.1 450.784,1195.48 535.553,1258.23 631.77,1313.27 737.759,1359.64 851.662,1396.58 971.477,1423.47 1095.1,1439.92 1220.36,1445.72 1345.09,1440.86 1467.13,1425.54 1584.41,1400.16 1694.96,1365.3 1796.99,1321.72 1888.87,1270.32 1969.21,1212.14 2036.86,1148.34 2090.93,1080.16 2130.83,1008.9 2156.24,935.874 2167.13,862.417 2163.76,789.828 2146.66,719.356 2116.61,652.167 2074.63,589.329 2021.94,531.785 1959.93,480.34 1890.12,435.644 1814.15,398.184 1733.7,368.28 1650.47,346.078 1566.16,331.559 1482.4,324.538 1400.72,324.679 1322.53,331.507 1249.1,344.424 1181.5,362.729 1120.61,385.637 1067.11,412.305 1021.44,441.851 983.827,473.383 954.287,506.02 932.613,538.913 918.41,571.27 911.103,602.374 909.964,631.599 914.14,658.423 922.681,682.444 934.571,703.381 948.766,721.081 964.219,735.519 979.922,746.795 994.93,755.125 1008.39,760.833 1019.58,764.336 1027.91,766.129 1032.94,766.767 1034.43,766.845 1032.3,766.978 1026.66,767.778 1017.79,769.835 1006.16,773.694 992.363,779.838 977.167,788.669 961.437,800.492 946.131,815.504 932.268,833.783 920.895,855.28 913.055,879.821 909.753,907.104 911.925,936.702 920.404,968.076 935.892,1000.58 958.935,1033.49 989.895,1065.99 1028.94,1097.24 1076.02,1126.34 1130.87,1152.41 1193,1174.56 1261.7,1191.97 1336.06,1203.85 1414.96,1209.54 1497.12,1208.44 1581.1,1200.11 1665.33,1184.24 1748.19,1160.68 1827.97,1129.42 1902.97,1090.65 1971.52,1044.72 2031.99,992.141 2082.88,933.597 2122.83,869.916 2150.65,802.066 2165.37,731.131 2166.25,658.296 2152.8,584.82 2124.82,512.009 2082.38,441.194 2025.85,373.698 1955.88,310.808 1873.41,253.75 1779.62,203.66 1675.96,161.558 1564.08,128.328 1445.81,104.693 1323.14,91.2043 1198.16,88.2216 1073.03,95.9087 949.928,114.227 831.009,142.934 718.364,181.589 613.974,229.56 519.667,286.037 437.084,350.047 367.641,420.474 312.505,496.083 272.568,575.546 248.431,657.466 240.392,740.409 248.441,822.933 272.265,903.617 311.253,981.089 364.516,1054.05 430.903,1121.32 509.033,1181.83 597.322,1234.66 694.02,1279.06 797.253,1314.45 905.06,1340.44 1015.43,1356.84 1126.37,1363.62 1235.92,1360.98 1342.18,1349.27 1443.41,1329.01 1538,1300.89 1624.54,1265.71 1701.82,1224.41 1768.86,1177.99 1824.95,1127.54 1869.61,1074.17 1902.63,1019.02 1924.05,963.199 1934.16,907.784 1933.49,853.792 1922.74,802.153 1902.85,753.694 1874.87,709.126 1839.98,669.024 1799.48,633.827 1754.69,603.826 1706.96,579.165 1657.62,559.842 1607.95,545.719 1559.13,536.527 1512.26,531.881 1468.26,531.295 1427.91,534.201 1391.83,539.968 1360.42,547.922 1333.9,557.371 1312.31,567.623 1295.48,578.011 1283.08,587.913 1274.62,596.769 1269.46,604.099 1266.85,609.52 1265.94,612.753 1265.84,613.634 1265.62,612.119 1264.34,608.285 1261.13,602.325 1255.16,594.548 1245.72,585.364 1232.18,575.276 1214.12,564.861 1191.22,554.755 1163.4,545.636 1130.71,538.195 1093.45,533.124 1052.07,531.086 1007.22,532.697 959.736,538.507 910.584,548.975 860.878,564.458 811.837,585.19 764.756,611.275 720.972,642.676 681.834,679.21 648.663,720.546 622.716,766.21 605.153,815.587 597.002,867.937 599.129,922.401 612.205,978.026 636.689,1033.78 672.805,1088.56 720.529,1141.27 779.581,1190.75 849.423,1235.92 929.263,1275.69 1018.07,1309.08 1114.57,1335.19 1217.3,1353.24 1324.61,1362.59 1434.71,1362.75 1545.69,1353.42 1655.58,1334.47 1762.37,1305.96 1864.06,1268.13 1958.7,1221.43 2044.46,1166.48 2119.61,1104.08 2182.64,1035.19 2232.22,960.904 2267.25,882.45 2286.94,801.141 2290.73,718.366 2278.41,635.553 2250.03,554.147 2205.99,475.574 2146.95,401.214 2073.9,332.376 1988.05,270.263 1890.9,215.956 1784.13,170.387 1669.62,134.319 1549.39,108.336 1425.53,92.8255 1300.23,87.9763 1175.65,93.7731 1053.95,109.999 937.191,136.243 827.32,171.906 726.13,216.222 635.218,268.267 555.959,326.988 489.48,391.224 436.64,459.729 398.015,531.204 373.897,604.32 364.284,677.752 368.895,750.203 387.178,820.43 418.326,887.275 461.305,949.681 514.88,1006.71 577.645,1057.59 648.062,1101.66 724.499,1138.46 805.264,1167.69 888.652,1189.21 972.978,1203.05 1056.62,1209.42 1138.04,1208.67 1215.86,1201.28 1288.82,1187.85 1355.86,1169.11 1416.11,1145.83 1468.94,1118.87 1513.9,1089.12 1550.79,1057.45 1579.63,1024.76 1600.62,991.881 1614.19,959.607 1620.92,928.645 1621.55,899.614 1616.95,873.023 1608.07,849.265 1595.93,828.611 1581.59,811.2 1566.07,797.048 1550.39,786.043 1535.49,777.959 1522.2,772.465 1511.24,769.134 1503.19,767.466 1498.46,766.902 1497.29,766.844 1499.74,766.677 1505.68,765.789 1514.82,763.594 1526.67,759.551 1540.62,753.184 1555.9,744.099 1571.63,732 1586.85,716.7 1600.54,698.133 1611.64,676.357 1619.12,651.559 1621.97,624.053 1619.27,594.274 1610.2,562.772 1594.06,530.199 1570.33,497.294 1538.66,464.867 1498.9,433.775 1451.12,404.906 1395.6,379.152 1332.86,357.386 1263.61,340.438 1188.8,329.073 1109.56,323.967 1027.18,325.687 943.118,334.673 858.935,351.221 776.281,375.473 696.853,407.405 622.356,446.824 554.466,493.367 494.785,546.502 444.809,605.536 405.887,669.626 379.187,737.795 365.665,808.947 366.04,881.891 380.771,955.361 410.041,1028.05 453.746,1098.62 511.496,1165.76 582.613,1228.19 666.139,1284.67 760.86,1334.09 865.317,1375.44 977.84,1407.85 1096.58,1430.61 1219.54,1443.18 1344.62,1445.22 1469.66,1436.59 1592.48,1417.34 1710.93,1387.73 1822.92,1348.22 1926.49,1299.46 2019.82,1242.28 2101.29,1177.65 2169.51,1106.71 2223.34,1030.71 2261.9,950.972 2284.61,868.903 2291.23,785.938 2281.76,703.52 2256.57,623.067 2216.28,545.943 2161.8,473.435 2094.32,406.724 2015.22,346.861 1926.11,294.749 1828.76,251.127 1725.04,216.554 1616.93,191.406 1506.42,175.865 1395.53,169.923 1286.2,173.386 1180.31,185.879 1079.61,206.862 985.674,235.644 899.912,271.402 823.506,313.201 757.406,360.019 702.317,410.773 658.684,464.343 626.696,519.599 606.289,575.428 597.154,630.756 598.754,684.577 610.345,735.966 631.001,784.107 659.644,828.302 695.076,867.984 736.012,902.731 781.118,932.263 829.045,956.45 878.466,975.305 928.11,988.979 976.794,997.751 1023.45,1002.02 1067.15,1002.27 1107.14,999.084 1142.83,993.096 1173.81,984.981 1199.89,975.434 1221.05,965.144 1237.47,954.774 1249.5,944.943 1257.64,936.205 1262.54,929.029 1264.97,923.792 1265.77,920.763 1265.84,920.094 1266.12,921.819 1267.53,925.851 1270.96,931.985 1277.21,939.905 1286.99,949.191 1300.91,959.332 1319.39,969.746 1342.72,979.792 1370.99,988.791 1404.09,996.049 1441.74,1000.88 1483.45,1002.62 1528.57,1000.66 1576.25,994.45 1625.49,983.551 1675.19,967.611 1724.11,946.407 1770.96,919.848 1814.38,887.983 1853.04,851.009 1885.63,809.269 1910.88,763.25 1927.64,713.577 1934.92,661.005 1931.85,606.398 1917.78,550.719 1892.27,495.009 1855.12,440.36 1806.38,387.897 1746.35,338.748 1675.58,294.021 1594.9,254.774 1505.37,221.994 1408.25,196.569 1305.05,179.267 1197.41,170.713 1087.16,171.377 976.188,181.554 866.492,201.357 760.078,230.71 658.937,269.345 565.007,316.805 480.123,372.448 405.98,435.463 344.092,504.878 295.765,579.581 262.058,658.342 243.765,739.837 241.391,822.674 255.145,905.42 284.926,986.633 330.328,1064.89 390.646,1138.81 464.889,1207.1 551.797,1268.56 649.872,1322.13 757.402,1366.89 872.501,1402.08 993.146,1427.15 1117.22,1441.73 1242.54,1445.63 1366.95,1438.9 1488.3,1421.76 1604.52,1394.66 1713.69,1358.2 1814.04,1313.16 1903.97,1260.48 1982.14,1201.22 2047.44,1136.56 2099.04,1067.73 2136.39,996.061 2159.22,922.863 2167.56,849.467 2161.71,777.164 2142.25,707.19 2110.01,640.698 2066.04,578.732 2011.6,522.213 1948.09,471.92 1877.07,428.474 1800.18,392.333 1719.12,363.787 1635.58,342.952 1551.25,329.777 1467.75,324.053 1386.59,325.416 1309.15,333.369 1236.68,347.293 1170.21,366.472 1110.59,390.109 1058.44,417.351 1014.19,447.314 978.013,479.105 949.886,511.847 929.569,544.701 916.633,576.887 910.475,607.701 910.342,636.535 915.362,662.89 924.571,686.381 936.946,706.752 951.439,723.873 967.009,737.741 982.655,748.476 997.448,756.316 1010.56,761.601 1021.28,764.763 1029.05,766.31 1033.47,766.804 1034.32,766.847 1031.56,767.054 1025.32,768.034 1015.92,770.372 1003.85,774.602 989.751,781.195 974.395,790.537 958.668,802.914 943.542,818.502 930.044,837.357 919.22,859.41 912.112,884.462 909.713,912.189 912.944,942.144 922.617,973.768 939.408,1006.4 963.831,1039.3 996.217,1071.64 1036.69,1102.57 1085.17,1131.2 1141.35,1156.64 1204.71,1178.01 1274.48,1194.49 1349.73,1205.33 1429.31,1209.85 1511.9,1207.51 1596.04,1197.86 1680.15,1180.63 1762.59,1155.7 1841.65,1123.09 1915.63,1083.03 1982.85,1035.88 2041.73,982.19 2090.78,922.672 2128.67,858.179 2154.24,789.7 2166.55,718.34 2164.92,645.299 2148.91,571.844 2118.35,499.29 2073.38,428.966 2014.42,362.193 1942.16,300.248 1857.59,244.344 1761.95,195.597 1656.71,155.006 1543.55,123.427 1424.36,101.554 1301.13,89.9037 1175.96,88.8036 1051.03,98.3814 928.51,118.562 810.552,149.068 699.228,189.424 596.495,238.965 504.15,296.85 423.796,362.081 356.809,433.518 304.306,509.909 267.132,589.91 245.832,672.116 240.65,755.09 251.523,837.391 278.084,917.604 319.672,994.369 375.349,1066.41 443.922,1132.56 523.971,1191.77 613.88,1243.15 711.875,1286 816.062,1319.75 924.47,1344.05 1035.09,1358.74 1145.92,1363.84 1255.02,1359.56 1360.52,1346.29 1460.69,1324.58 1553.95,1295.15 1638.93,1258.82 1714.46,1216.53 1779.61,1169.32 1833.7,1118.27 1876.3,1064.51 1907.26,1009.16 1926.65,953.329 1934.81,898.095 1932.29,844.454 1919.86,793.321 1898.45,745.503 1869.16,701.687 1833.19,662.426 1791.83,628.132 1746.42,599.07 1698.3,575.357 1648.81,556.969 1599.21,543.742 1550.66,535.386 1504.23,531.497 1460.83,531.573 1421.2,535.033 1385.92,541.237 1355.36,549.506 1329.72,559.147 1308.99,569.471 1292.97,579.817 1281.32,589.572 1273.49,598.19 1268.84,605.208 1266.59,610.258 1265.89,613.083 1265.84,613.54 1265.49,611.605 1263.94,607.377 1260.3,601.07 1253.76,593.011 1243.63,583.628 1229.33,573.438 1210.42,563.03 1186.66,553.05 1157.96,544.176 1124.44,537.106 1086.41,532.524 1044.36,531.088 998.984,533.405 951.126,540.009 901.791,551.343 852.112,567.741 803.322,589.417 756.726,616.45 713.667,648.778 675.49,686.19 643.508,728.33 618.964,774.7 602.997,824.661 596.608,877.45 600.63,932.192 615.699,987.917 642.232,1043.58 680.413,1098.08 730.17,1150.29 791.179,1199.1 862.855,1243.38 944.364,1282.09 1034.63,1314.26 1132.34,1338.99 1236.01,1355.54 1343.95,1363.3 1454.35,1361.8 1565.28,1350.77 1674.77,1330.12 1780.8,1299.93 1881.38,1260.49 1974.58,1212.28 2058.58,1155.95 2131.7,1092.33 2192.43,1022.4 2239.5,947.283 2271.88,868.225 2288.78,786.554 2289.73,703.667 2274.54,620.999 2243.36,539.991 2196.61,462.065 2135.01,388.59 2059.59,320.857 1971.63,260.052 1872.65,207.229 1764.37,163.291 1648.7,128.971 1527.66,104.819 1403.39,91.1882 1278.06,88.2306 1153.84,95.8952 1032.86,113.93 917.185,141.89 808.726,179.146 709.245,224.9 620.302,278.208 543.231,337.993 479.112,403.077 428.754,472.204 392.685,544.066 371.143,617.334 364.076,690.686 371.156,762.831 391.781,832.542 425.106,898.674 470.056,960.193 525.364,1016.19 589.599,1065.9 661.203,1108.72 738.53,1144.19 819.884,1172.06 903.559,1192.21 987.879,1204.72 1071.24,1209.8 1152.12,1207.83 1229.16,1199.32 1301.14,1184.9 1367.04,1165.29 1426.02,1141.3 1477.48,1113.78 1521.02,1083.62 1556.48,1051.71 1583.91,1018.93 1603.55,986.102 1615.86,954.011 1621.45,923.349 1621.09,894.716 1615.66,868.601 1606.13,845.377 1593.52,825.29 1578.89,808.459 1563.28,794.875 1547.67,784.407 1532.99,776.809 1520.07,771.731 1509.59,768.733 1502.1,767.303 1497.99,766.873 1497.46,766.84 1500.54,766.59 1507.08,765.512 1516.73,763.028 1529.01,758.606 1543.25,751.784 1558.68,742.184 1574.39,729.528 1589.42,713.651 1602.72,694.508 1613.26,672.18 1619.99,646.876 1621.92,618.932 1618.15,588.805 1607.88,557.063 1590.43,524.376 1565.31,491.495 1532.21,459.24 1491.02,428.477 1441.84,400.095 1385,374.984 1321.05,354.012 1250.74,337.999 1175.06,327.696 1095.16,323.76 1012.38,326.738 928.178,337.045 844.143,354.951 761.936,380.569 683.257,413.846 609.81,454.557 543.258,502.311 485.19,556.545 437.077,616.539 400.24,681.427 375.809,750.207 364.703,821.765 367.593,894.896 384.893,968.324 416.734,1040.73 462.962,1110.8 523.136,1177.19 596.527,1238.65 682.131,1293.96 778.688,1342.03 884.7,1381.85 998.463,1412.6 1118.1,1433.59 1241.59,1444.31 1366.82,1444.47 1491.63,1433.95 1613.83,1412.84 1731.28,1381.44 1841.92,1340.24 1943.81,1289.92 2035.15,1231.35 2114.37,1165.52 2180.12,1093.59 2231.3,1016.83 2267.08,936.572 2286.96,854.24 2290.71,771.267 2278.43,689.095 2250.51,609.133 2207.64,532.736 2150.77,461.172 2081.12,395.6 2000.13,337.048 1909.43,286.39 1810.81,244.334 1706.17,211.408 1597.48,187.953 1486.76,174.117 1376,169.86 1267.15,174.953 1162.06,188.993 1062.44,211.411 969.86,241.492 885.674,278.39 811.03,321.154 746.836,368.749 693.749,420.084 652.171,474.035 622.246,529.472 603.864,585.289 596.674,640.422 600.102,693.876 613.37,744.747 635.523,792.236 665.458,835.669 701.96,874.505 743.732,908.344 789.435,936.936 837.722,960.174 887.273,978.096 936.83,990.879 985.23,998.822 1031.43,1002.34 1074.52,1001.94 1113.79,998.209 1148.66,991.795 1178.79,983.376 1203.99,973.647 1224.3,963.295 1239.91,952.978 1251.21,943.302 1258.72,934.808 1263.13,927.952 1265.2,923.089 1265.81,920.47 1265.85,920.225 1266.27,922.369 1267.97,926.791 1271.84,933.268 1278.66,941.463 1289.14,950.939 1303.84,961.174 1323.17,971.57 1347.37,981.481 1376.5,990.222 1410.43,997.1 \"/>\n",
       "<path clip-path=\"url(#clip720)\" d=\"M251.33 198.898 L521.149 198.898 L521.149 95.2176 L251.33 95.2176  Z\" fill=\"#ffffff\" fill-rule=\"evenodd\" fill-opacity=\"1\"/>\n",
       "<polyline clip-path=\"url(#clip720)\" style=\"stroke:#000000; stroke-linecap:round; stroke-linejoin:round; stroke-width:4; stroke-opacity:1; fill:none\" points=\"251.33,198.898 521.149,198.898 521.149,95.2176 251.33,95.2176 251.33,198.898 \"/>\n",
       "<polyline clip-path=\"url(#clip720)\" style=\"stroke:#009af9; stroke-linecap:round; stroke-linejoin:round; stroke-width:4; stroke-opacity:1; fill:none\" points=\"275.484,147.058 420.41,147.058 \"/>\n",
       "<path clip-path=\"url(#clip720)\" d=\"M458.407 166.745 Q456.601 171.375 454.888 172.787 Q453.175 174.199 450.305 174.199 L446.902 174.199 L446.902 170.634 L449.402 170.634 Q451.161 170.634 452.134 169.8 Q453.106 168.967 454.286 165.865 L455.05 163.921 L444.564 138.412 L449.078 138.412 L457.18 158.689 L465.282 138.412 L469.796 138.412 L458.407 166.745 Z\" fill=\"#000000\" fill-rule=\"nonzero\" fill-opacity=\"1\" /><path clip-path=\"url(#clip720)\" d=\"M477.087 160.402 L484.726 160.402 L484.726 134.037 L476.416 135.703 L476.416 131.444 L484.68 129.778 L489.356 129.778 L489.356 160.402 L496.994 160.402 L496.994 164.338 L477.087 164.338 L477.087 160.402 Z\" fill=\"#000000\" fill-rule=\"nonzero\" fill-opacity=\"1\" /></svg>\n"
      ]
     },
     "execution_count": 90,
     "metadata": {},
     "output_type": "execute_result"
    }
   ],
   "source": [
    "using Plots\n",
    "t = 0 : 0.1 : 100\n",
    "a = 4\n",
    "b = 7\n",
    "x = (a + b)cos.(t) - b*cos.(((a/b) + 1)t)\n",
    "y = (a + b)sin.(t) - b*sin.(((a/b) + 1)t)\n",
    "plot(x, y, aspect_ration=:equal)"
   ]
  },
  {
   "cell_type": "code",
   "execution_count": null,
   "metadata": {},
   "outputs": [],
   "source": []
  },
  {
   "cell_type": "code",
   "execution_count": null,
   "metadata": {},
   "outputs": [],
   "source": []
  },
  {
   "cell_type": "code",
   "execution_count": null,
   "metadata": {},
   "outputs": [],
   "source": []
  },
  {
   "cell_type": "code",
   "execution_count": null,
   "metadata": {},
   "outputs": [],
   "source": []
  }
 ],
 "metadata": {
  "kernelspec": {
   "display_name": "Julia 1.11.1",
   "language": "julia",
   "name": "julia-1.11"
  },
  "language_info": {
   "file_extension": ".jl",
   "mimetype": "application/julia",
   "name": "julia",
   "version": "1.11.1"
  }
 },
 "nbformat": 4,
 "nbformat_minor": 4
}
