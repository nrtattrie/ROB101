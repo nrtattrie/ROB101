{
 "cells": [
  {
   "cell_type": "markdown",
   "metadata": {
    "deletable": false,
    "editable": false,
    "nbgrader": {
     "cell_type": "markdown",
     "checksum": "8fe6641ee483e00e84ef7257970e26f0",
     "grade": false,
     "grade_id": "cell-c39f28fa9bdc794e",
     "locked": true,
     "schema_version": 3,
     "solution": false,
     "task": false
    }
   },
   "source": [
    "University of Michigan - ROB 101 Computational Linear Algebra"
   ]
  },
  {
   "cell_type": "markdown",
   "metadata": {
    "deletable": false,
    "editable": false,
    "nbgrader": {
     "cell_type": "markdown",
     "checksum": "1dd93ab07d0148470826f4093c4022e3",
     "grade": false,
     "grade_id": "cell-447f7c0cf0e86c7",
     "locked": true,
     "schema_version": 3,
     "solution": false,
     "task": false
    }
   },
   "source": [
    "# Lab 3: Vector and Matrix Multiplication\n",
    "\n",
    "#### Purpose:  Learn ways to compute a matrix multiplication with programming\n",
    "- Skills: \n",
    "    - Indexing for multiplication\n",
    "    - Converting algorithm to code\n",
    "    - Intro to creating your own functions\n",
    "- Knowledge:\n",
    "    - Learn how to use built in functions\n",
    "    - Understand how those functions work behind the scenes\n",
    "\n",
    "#### Task:  Complete the cells below as directed.\n",
    "Welcome to the third lab! We will be exploring vector and matrix multiplication in Julia more in-depth here. "
   ]
  },
  {
   "cell_type": "markdown",
   "metadata": {
    "deletable": false,
    "editable": false,
    "nbgrader": {
     "cell_type": "markdown",
     "checksum": "38337af3b1db4cb970aaf0ad9cabfd05",
     "grade": false,
     "grade_id": "cell-447f7c0cf0e86c77",
     "locked": true,
     "schema_version": 3,
     "solution": false,
     "task": false
    }
   },
   "source": [
    "### Matrix Multiplication Reminder\n",
    "$$[n\\times k~~\\text{matrix}] \\cdot [k \\times m~~\\text{matrix}] = [n \\times m~~\\text{matrix}].$$\n",
    "\n",
    "In other words:  In order for the matrix multiplication A times B to be possible, the number of columns in A must equal the number of rows in B."
   ]
  },
  {
   "cell_type": "markdown",
   "metadata": {
    "deletable": false,
    "editable": false,
    "nbgrader": {
     "cell_type": "markdown",
     "checksum": "bc54a5a60d17f3c05dfabd40fec3028e",
     "grade": false,
     "grade_id": "cell-db80a8ed2f700a69",
     "locked": true,
     "schema_version": 3,
     "solution": false,
     "task": false
    }
   },
   "source": [
    "\\begin{equation}\n",
    "   A \\cdot B:= \n",
    "\\left[\\begin{array}{cccc}  a_1^{\\rm row} \\cdot b_1^{\\rm col} & a_1^{\\rm row} \\cdot b_2^{\\rm col} & \\cdots & a_1^{\\rm row} \\cdot b_m^{\\rm col} \\\\\n",
    "a_2^{\\rm row} \\cdot b_1^{\\rm col} & a_2^{\\rm row} \\cdot b_2^{\\rm col} & \\cdots & a_2^{\\rm row} \\cdot b_m^{\\rm col} \\\\\n",
    "\\vdots & \\vdots & \\ddots & \\vdots \\\\\n",
    "a_n^{\\rm row} \\cdot b_1^{\\rm col} & a_n^{\\rm row} \\cdot b_2^{\\rm col} & \\cdots & a_n^{\\rm row} \\cdot b_m^{\\rm col}\n",
    "\\end{array}\\right].\n",
    "\\end{equation}"
   ]
  },
  {
   "cell_type": "markdown",
   "metadata": {},
   "source": [
    "#### Example 1. Resultant Size\n",
    "There are two rules to consider when multiplying matrices.\n",
    "1. The number of columns in the first matrix, and rows in the second matrix, must be equal\n",
    "2. The resultant matrix will have the same number of rows as the first matrix, and the same number of columns as the second matrix.\n",
    "Take a look:"
   ]
  },
  {
   "cell_type": "code",
   "execution_count": 1,
   "metadata": {},
   "outputs": [
    {
     "data": {
      "text/plain": [
       "(3, 5)"
      ]
     },
     "metadata": {},
     "output_type": "display_data"
    }
   ],
   "source": [
    "ex1a = [1 2 3; 4 5 6; 7 8 9]\n",
    "ex1b = [1 2 3 4 5; 6 7 8 9 10; 11 12 13 14 15]\n",
    "size(ex1a*ex1b)"
   ]
  },
  {
   "cell_type": "code",
   "execution_count": 2,
   "metadata": {},
   "outputs": [
    {
     "ename": "DimensionMismatch",
     "evalue": "DimensionMismatch: matrix A has axes (Base.OneTo(2),Base.OneTo(2)), matrix B has axes (Base.OneTo(3),Base.OneTo(2))",
     "output_type": "error",
     "traceback": [
      "DimensionMismatch: matrix A has axes (Base.OneTo(2),Base.OneTo(2)), matrix B has axes (Base.OneTo(3),Base.OneTo(2))\n",
      "\n",
      "Stacktrace:\n",
      " [1] _generic_matmatmul!(C::Matrix{Int64}, A::Matrix{Int64}, B::Matrix{Int64}, _add::LinearAlgebra.MulAddMul{true, true, Bool, Bool})\n",
      "   @ LinearAlgebra /Applications/Julia-1.11.app/Contents/Resources/julia/share/julia/stdlib/v1.11/LinearAlgebra/src/matmul.jl:883\n",
      " [2] generic_matmatmul!\n",
      "   @ /Applications/Julia-1.11.app/Contents/Resources/julia/share/julia/stdlib/v1.11/LinearAlgebra/src/matmul.jl:868 [inlined]\n",
      " [3] _mul!\n",
      "   @ /Applications/Julia-1.11.app/Contents/Resources/julia/share/julia/stdlib/v1.11/LinearAlgebra/src/matmul.jl:287 [inlined]\n",
      " [4] mul!\n",
      "   @ /Applications/Julia-1.11.app/Contents/Resources/julia/share/julia/stdlib/v1.11/LinearAlgebra/src/matmul.jl:285 [inlined]\n",
      " [5] mul!\n",
      "   @ /Applications/Julia-1.11.app/Contents/Resources/julia/share/julia/stdlib/v1.11/LinearAlgebra/src/matmul.jl:253 [inlined]\n",
      " [6] *(A::Matrix{Int64}, B::Matrix{Int64})\n",
      "   @ LinearAlgebra /Applications/Julia-1.11.app/Contents/Resources/julia/share/julia/stdlib/v1.11/LinearAlgebra/src/matmul.jl:114\n",
      " [7] top-level scope\n",
      "   @ ~/Documents!/Robotics_Curriculum/rob101/Fall 2021/Labs/jl_notebook_cell_df34fa98e69747e1a8f8a730347b8e2f_W6sZmlsZQ==.jl:3"
     ]
    }
   ],
   "source": [
    "ex2a = [1 2; 3 4]\n",
    "ex2b = [1 2; 3 4; 5 6]\n",
    "size(ex2a*ex2b)"
   ]
  },
  {
   "cell_type": "markdown",
   "metadata": {
    "deletable": false,
    "editable": false,
    "nbgrader": {
     "cell_type": "markdown",
     "checksum": "a80059ae5d9bd836d76147c9a97c772c",
     "grade": false,
     "grade_id": "cell-db80a8ed2f700a70",
     "locked": true,
     "schema_version": 3,
     "solution": false,
     "task": false
    }
   },
   "source": [
    "### Problem 1.  Resultant size\n",
    "Using your newly-acquired matrix-making skills, create two matrices that multiply together to form a matrix of the specified size.\n",
    "\n",
    "### a) Create matrix1 and matrix2 that multiply together to form matProduct1a, a 3x4 matrix (3 rows, 4 columns)"
   ]
  },
  {
   "cell_type": "code",
   "execution_count": 4,
   "metadata": {
    "tags": [
     "problem_1a"
    ]
   },
   "outputs": [
    {
     "data": {
      "text/plain": [
       "3×4 Matrix{Int64}:\n",
       " 11  14  17  20\n",
       " 23  30  37  44\n",
       " 35  46  57  68"
      ]
     },
     "metadata": {},
     "output_type": "display_data"
    }
   ],
   "source": [
    "#Use julia matrix multiplication command to compute the resultant matrix from the component matrices\n",
    "#your answer should be a 3 x 4 matrix. Return that in a variable called matProduct1a\n",
    "\n",
    "matrix1 = [1 2; 3 4; 5 6]\n",
    "matrix2 = [1 2 3 4; 5 6 7 8]\n",
    "matProduct1a = matrix1 * matrix2\n",
    "\n"
   ]
  },
  {
   "cell_type": "code",
   "execution_count": 5,
   "metadata": {
    "tags": [
     "problem_1a_answer",
     "hide"
    ]
   },
   "outputs": [
    {
     "name": "stdout",
     "output_type": "stream",
     "text": [
      "all nothings means likely correct\n"
     ]
    },
    {
     "data": {
      "text/plain": [
       "1×2 Matrix{Nothing}:\n",
       " nothing  nothing"
      ]
     },
     "metadata": {},
     "output_type": "display_data"
    }
   ],
   "source": [
    "# Autograder cell\n",
    "using LinearAlgebra\n",
    "println(\"all nothings means likely correct\")\n",
    "TF2 = @assert size(matProduct1a,1) == 3\n",
    "TF3 = @assert size(matProduct1a,2) == 4\n",
    "[TF2 TF3]\n"
   ]
  },
  {
   "cell_type": "markdown",
   "metadata": {
    "deletable": false,
    "editable": false,
    "nbgrader": {
     "cell_type": "markdown",
     "checksum": "4559875f0c70b1ee3b19d8e5458ee6b2",
     "grade": false,
     "grade_id": "cell-6befc60823bbbb04",
     "locked": true,
     "schema_version": 3,
     "solution": false,
     "task": false
    }
   },
   "source": [
    "### b) [On your own] Create matrix3 and matrix4 that multiply together to form matProduct1b, a 5x2 matrix (5 rows, 2 columns)"
   ]
  },
  {
   "cell_type": "code",
   "execution_count": 11,
   "metadata": {
    "tags": [
     "problem_1b"
    ]
   },
   "outputs": [
    {
     "data": {
      "text/plain": [
       "5×2 Matrix{Int64}:\n",
       "  6   7\n",
       " 12  14\n",
       " 18  21\n",
       " 24  28\n",
       " 30  35"
      ]
     },
     "metadata": {},
     "output_type": "display_data"
    }
   ],
   "source": [
    "#implement code below that computes answer1b by multiplying together two matrices\n",
    "#your answer should be a 5 x 2 matrix. Return that in a variable called matProduct1b\n",
    "\n",
    "matrix3 = [1; 2; 3; 4; 5]\n",
    "matrix4 = [6 7]\n",
    "matProduct1b = matrix3 * matrix4\n"
   ]
  },
  {
   "cell_type": "code",
   "execution_count": 12,
   "metadata": {
    "tags": [
     "problem_1b_answer",
     "hide"
    ]
   },
   "outputs": [
    {
     "name": "stdout",
     "output_type": "stream",
     "text": [
      "all nothings means likely correct\n"
     ]
    },
    {
     "data": {
      "text/plain": [
       "1×2 Matrix{Nothing}:\n",
       " nothing  nothing"
      ]
     },
     "metadata": {},
     "output_type": "display_data"
    }
   ],
   "source": [
    "# Autograder cell\n",
    "println(\"all nothings means likely correct\")\n",
    "TF2 = @assert size(matProduct1b,1) == 5\n",
    "TF3 = @assert size(matProduct1b,2) == 2\n",
    "[TF2 TF3]\n"
   ]
  },
  {
   "cell_type": "markdown",
   "metadata": {},
   "source": [
    "### c) Clever indexing + resultant size\n",
    "\n",
    "You have learned that the ':' operator will pull whole rows/columns from a matrix - a useful tool! If we multiply 2 matrices A and B to create\n",
    "$C=A*B$ where $A = \\begin{bmatrix} 1&2&3\\\\4&5&6\\end{bmatrix}$ and $B = \\begin{bmatrix}0&1&1&2\\\\3&5&8&13\\\\21&34&55&89\\end{bmatrix}$ Extract the first and last rows of C, and the first and last columns of C."
   ]
  },
  {
   "cell_type": "code",
   "execution_count": null,
   "metadata": {},
   "outputs": [
    {
     "data": {
      "text/plain": [
       "([69 113 182 295], [141 233 374 607], [69, 141], [295, 607])"
      ]
     },
     "metadata": {},
     "output_type": "display_data"
    }
   ],
   "source": [
    "#multiply A and B\n",
    "A = [1 2 3; 4 5 6]\n",
    "B = [0 1 1 2; 3 5 8 13; 21 34 55 89]\n",
    "C=A*B\n",
    "#put the indicated columns and rows of C below\n",
    "topRow = C[1:1, :]\n",
    "botRow = C[2:2, :]\n",
    "leftCol = C[:, 1]\n",
    "rightCol = C[:, 4]\n",
    "\n",
    "topRow, botRow, leftCol, rightCol"
   ]
  },
  {
   "cell_type": "code",
   "execution_count": 21,
   "metadata": {},
   "outputs": [
    {
     "name": "stdout",
     "output_type": "stream",
     "text": [
      "all nothings means likely correct\n"
     ]
    },
    {
     "data": {
      "text/plain": [
       "1×4 Matrix{Nothing}:\n",
       " nothing  nothing  nothing  nothing"
      ]
     },
     "metadata": {},
     "output_type": "display_data"
    }
   ],
   "source": [
    "# Autograder cell\n",
    "println(\"all nothings means likely correct\")\n",
    "TF1 = @assert sum(topRow) == 659\n",
    "TF2 = @assert sum(botRow) == 1355\n",
    "TF3 = @assert sum(leftCol) == 210\n",
    "TF4 = @assert sum(rightCol) == 902\n",
    "[TF1 TF2 TF3 TF4]\n"
   ]
  },
  {
   "cell_type": "markdown",
   "metadata": {},
   "source": [
    "### Problem 2. Rows x Columns Matrix Multiplication\n",
    "\\begin{equation}\n",
    "   A \\cdot B:=  \\left[\\begin{array}{c}\\boxed{a_{11}~~ a_{12}~~ \\cdots~~ a_{1k}}  \\\\\n",
    "\\boxed{a_{21}~~ a_{22}~~ \\cdots~~ a_{2k}} \\\\\n",
    "\\vdots \\\\\n",
    "\\boxed{a_{n1}~~ a_{n2}~~ \\cdots~~ a_{nk}}\\end{array}\\right] \\cdot \n",
    "\\left[ \\boxed{\\begin{array}{c} b_{11} \\\\ b_{21}\\\\ \\vdots \\\\ b_{k1}\\end{array} }~~~\n",
    "\\boxed{\\begin{array}{c} b_{12} \\\\ b_{22}\\\\ \\vdots \\\\ b_{k2}\\end{array} }~~~\\cdots~~~\n",
    "\\boxed{\\begin{array}{c} b_{1m} \\\\ b_{2m}\\\\ \\vdots \\\\ b_{km}\\end{array} }\\right] =\n",
    "%\n",
    "\\left[\\begin{array}{cccc}  \\sum\\limits_{i=1}^k a_{1i}b_{i1} & \\sum\\limits_{i=1}^k a_{1i}b_{i2} & \\cdots & \\sum\\limits_{i=1}^k a_{1i}b_{im} \\\\\n",
    " \\sum\\limits_{i=1}^k a_{2i}b_{i1} & \\sum\\limits_{i=1}^k a_{2i}b_{i2} & \\cdots & \\sum\\limits_{i=1}^k a_{2i}b_{im} \\\\\n",
    "\\vdots & \\vdots & \\ddots & \\vdots \\\\\n",
    " \\sum\\limits_{i=1}^k a_{ni}b_{i1} & \\sum\\limits_{i=1}^k a_{ni}b_{i2} & \\cdots & \\sum\\limits_{i=1}^k a_{ni}b_{im} \\\\\n",
    "\\end{array}\\right].\n",
    "\\end{equation}\n",
    "\n",
    "#### a) Manually calculate $F*G$ where $F = \\begin{bmatrix}4&3\\\\7&9\\end{bmatrix}$ and $G = \\begin{bmatrix}5\\\\6\\end{bmatrix}$"
   ]
  },
  {
   "cell_type": "code",
   "execution_count": 23,
   "metadata": {},
   "outputs": [
    {
     "data": {
      "text/plain": [
       "2-element Vector{Int64}:\n",
       " 38\n",
       " 89"
      ]
     },
     "metadata": {},
     "output_type": "display_data"
    }
   ],
   "source": [
    "#partion F into rows\n",
    "f1 = [4 3]\n",
    "f2 = [7 9]\n",
    "\n",
    "#partition G into columns (Hint: it is already a column vector)\n",
    "g1 = [5; 6]\n",
    "# compute the product F*G using row x column matrix multiplication for each entry of the matrix and call the answer product2a\n",
    "product2a = [f1[1]*g1[1] + f1[2]*g1[2]; f2[1]*g1[1] + f2[2]*g1[2]]\n"
   ]
  },
  {
   "cell_type": "code",
   "execution_count": 24,
   "metadata": {},
   "outputs": [
    {
     "name": "stdout",
     "output_type": "stream",
     "text": [
      "all nothings means likely correct\n"
     ]
    },
    {
     "data": {
      "text/plain": [
       "1×3 Matrix{Nothing}:\n",
       " nothing  nothing  nothing"
      ]
     },
     "metadata": {},
     "output_type": "display_data"
    }
   ],
   "source": [
    "# Autograder cell\n",
    "test1 = sum(product2a)\n",
    "println(\"all nothings means likely correct\")\n",
    "TF1 = @assert test1 == 127\n",
    "TF2 = @assert size(product2a,1) == 2\n",
    "TF3 = @assert size(product2a,2) == 1\n",
    "[TF1 TF2 TF3]\n"
   ]
  },
  {
   "cell_type": "markdown",
   "metadata": {},
   "source": [
    "#### b) Calculate $C*D$ where $C = \\begin{bmatrix}2&4&6\\\\3&5&7\\end{bmatrix}$ and $D = \\begin{bmatrix}9&10\\\\13&14\\\\18&19\\end{bmatrix}$ using a nested for loop"
   ]
  },
  {
   "cell_type": "code",
   "execution_count": null,
   "metadata": {},
   "outputs": [
    {
     "name": "stdout",
     "output_type": "stream",
     "text": [
      "C[i:i, :] = [2 4 6]\n",
      "D[:, j] = [9, 13, 18]\n",
      "C[i:i, :] * D[:, j] = [178]\n",
      "product2b = [178.0 0.0; 0.0 0.0]\n",
      "C[i:i, :] = [2 4 6]\n",
      "D[:, j] = [10, 14, 19]\n",
      "C[i:i, :] * D[:, j] = [190]\n",
      "product2b = [178.0 190.0; 0.0 0.0]\n",
      "C[i:i, :] = [3 5 7]\n",
      "D[:, j] = [9, 13, 18]\n",
      "C[i:i, :] * D[:, j] = [218]\n",
      "product2b = [178.0 190.0; 218.0 0.0]\n",
      "C[i:i, :] = [3 5 7]\n",
      "D[:, j] = [10, 14, 19]\n",
      "C[i:i, :] * D[:, j] = [233]\n",
      "product2b = [178.0 190.0; 218.0 233.0]\n",
      "product2b = [178.0 190.0; 218.0 233.0]\n"
     ]
    },
    {
     "data": {
      "text/plain": [
       "2×2 Matrix{Float64}:\n",
       " 178.0  190.0\n",
       " 218.0  233.0"
      ]
     },
     "metadata": {},
     "output_type": "display_data"
    }
   ],
   "source": [
    "C = [2 4 6; 3 5 7]\n",
    "D = [9 10; 13 14; 18 19]\n",
    "# Because C is 2 x 3 and D is 3 x 2, their product will be 2 x 2\n",
    "product2b = zeros(2,2)\n",
    "\n",
    "n = size(C,1) # 1 for rows\n",
    "m = size(D,2) # 2 for columns\n",
    "#fix the for loop indices\n",
    "for i in 1:n \n",
    "    for j in 1:m \n",
    "        #YOUR CODE HERE\n",
    "        @show C[i:i, :]\n",
    "        @show D[:, j]\n",
    "        @show C[i:i, :]*D[:, j]\n",
    "        product2b[i, j] = (C[i:i, :]*D[:, j])[1] # Multiplying C and D together makes a 1x1 matrix. The [1] indexes into that matrix.\n",
    "        @show product2b\n",
    "    end\n",
    "end\n",
    "@show product2b"
   ]
  },
  {
   "cell_type": "code",
   "execution_count": 33,
   "metadata": {
    "tags": []
   },
   "outputs": [
    {
     "name": "stdout",
     "output_type": "stream",
     "text": [
      "all nothings means likely correct\n"
     ]
    },
    {
     "data": {
      "text/plain": [
       "1×3 Matrix{Nothing}:\n",
       " nothing  nothing  nothing"
      ]
     },
     "metadata": {},
     "output_type": "display_data"
    }
   ],
   "source": [
    "# Autograder cell\n",
    "using LinearAlgebra\n",
    "test2 = sum(product2b)\n",
    "println(\"all nothings means likely correct\")\n",
    "TF1 = @assert test2 == 819\n",
    "TF2 = @assert size(product2b,1) == 2\n",
    "TF3 = @assert size(product2b,2) == 2\n",
    "[TF1 TF2 TF3]\n"
   ]
  },
  {
   "cell_type": "markdown",
   "metadata": {},
   "source": [
    "#### c) Your first function!\n",
    "You just made a nice script for matrix multiplication! But, can we can generalize the script to work for any input by turning it into a *function*. Slot your code from the previous part into the nested for loop below, and you will have made your very first function!"
   ]
  },
  {
   "cell_type": "code",
   "execution_count": 37,
   "metadata": {},
   "outputs": [
    {
     "data": {
      "text/plain": [
       "matrix_multiply (generic function with 1 method)"
      ]
     },
     "metadata": {},
     "output_type": "display_data"
    }
   ],
   "source": [
    "function matrix_multiply(A,B)\n",
    "    # We assume for now that the user (you) provides matrices of \n",
    "    # the appropriate sizes. We'll see later how to check for that\n",
    "    # and throw errors when the user messes up\n",
    "\n",
    "    n = size(C,1) # 1 for rows\n",
    "    m = size(D,2) # 2 for columns\n",
    "    temp = zeros(n,m)\n",
    "\n",
    "    #fix the for loop indices based on the last section\n",
    "    for i in 1:n \n",
    "        for j in 1:m \n",
    "            #YOUR CODE HERE\n",
    "            temp[i, j] = (C[i:i, :]*D[:, j])[1] # Multiplying C and D together makes a 1x1 matrix. The [1] indexes into that matrix.\n",
    "        end\n",
    "    end\n",
    "    return temp,n,m\n",
    "end"
   ]
  },
  {
   "cell_type": "code",
   "execution_count": 40,
   "metadata": {},
   "outputs": [
    {
     "name": "stdout",
     "output_type": "stream",
     "text": [
      "func_ans - C * D = [0.0 0.0 0.0 0.0 0.0; 0.0 0.0 0.0 0.0 0.0; 0.0 0.0 0.0 0.0 0.0]\n"
     ]
    },
    {
     "data": {
      "text/plain": [
       "3×5 Matrix{Float64}:\n",
       " 0.0  0.0  0.0  0.0  0.0\n",
       " 0.0  0.0  0.0  0.0  0.0\n",
       " 0.0  0.0  0.0  0.0  0.0"
      ]
     },
     "metadata": {},
     "output_type": "display_data"
    }
   ],
   "source": [
    "using Random\n",
    "C=rand(3,40)\n",
    "D=randn(40,5)\n",
    "func_ans, a, b = matrix_multiply(C,D)\n",
    "@show func_ans - C*D"
   ]
  },
  {
   "cell_type": "markdown",
   "metadata": {},
   "source": [
    "### Problem 3.  Matrix Row Reversal\n",
    "To practice using FOR loops, we will create a function that reverses the order of the rows of a matrix. In other words, the last row becomes the top row, the next to last row becomes the second row, etc.\n",
    "\n",
    "\n",
    "A function in programming is the same in spirit, if not always in implementation, as its mathematical namesake. A function (generally) takes something in and then (generally) spits something out. \n",
    "\n",
    "### Complete the function matrix_reverse that takes in a matrix and then reverses its order, such that the bottom right (last) element becomes the top left (first) element, and the top right element becomes the bottom left element."
   ]
  },
  {
   "cell_type": "code",
   "execution_count": null,
   "metadata": {},
   "outputs": [],
   "source": [
    "#A function, named matrix_reverse, that takes in a matrix A\n",
    "function matrix_rowReversal(A)\n",
    "    n,m = size(A)\n",
    "    temp_mat = zeros(n,m)\n",
    "    # Fix the indices on the form loop\n",
    "    for i in ??:??\n",
    "\n",
    "    end\n",
    "    return temp_mat\n",
    "end"
   ]
  },
  {
   "cell_type": "code",
   "execution_count": null,
   "metadata": {},
   "outputs": [],
   "source": [
    "#autograder cell\n",
    "println(\"all nothings means likely correct\")\n",
    "A = [1 2 3; 4 5 6; 7 8 9]\n",
    "rA = matrix_rowReversal(A)\n",
    "@show rA\n",
    "TF1 = @assert rA[2,2] == 5\n",
    "TF2 = @assert rA[1,3] == 9\n",
    "TF3 = @assert rA[1,2] == 8\n",
    "[TF1 TF2 TF3]\n"
   ]
  },
  {
   "cell_type": "markdown",
   "metadata": {
    "deletable": false,
    "editable": false,
    "nbgrader": {
     "cell_type": "markdown",
     "checksum": "04ed9c4d4099c9345c44578e6d4f3f81",
     "grade": false,
     "grade_id": "cell-11b9a0e4128b893d",
     "locked": true,
     "schema_version": 3,
     "solution": false,
     "task": false
    }
   },
   "source": [
    "### Problem 4. [On Your Own]  Matrix Row and Column Reversal\n",
    "To practice using FOR loops, we will create a function that reverses the order of the rows and columns of a matrix. \n",
    "\n",
    "\n",
    "A function in programming is the same in spirit, if not always in implementation, as its mathematical namesake. A function (generally) takes something in and then (generally) spits something out. \n",
    "\n",
    "### Complete the function matrix_reverse that takes in a matrix and then reverses its order, such that the bottom right (last) element becomes the top left (first) element, and the top right element becomes the bottom left element."
   ]
  },
  {
   "cell_type": "code",
   "execution_count": null,
   "metadata": {
    "tags": [
     "problem_2a"
    ]
   },
   "outputs": [],
   "source": [
    "#A function, named matrix_reverse, that takes in a matrix A\n",
    "function matrix_reverse(A)\n",
    "    #Your code below: remember, a FOR loop can be inside another FOR loop\n",
    "    #In that case, for each iteration of the outer FOR loop, the inner\n",
    "    #   FOR loop will iterate fully\n",
    "    n,m = size(A)\n",
    "    temp_mat = zeros(n,m)\n",
    "    #fix the for loop indices\n",
    "    for i in ??:??\n",
    "        #some code?\n",
    "        for j in ??:??\n",
    "            #some code?\n",
    "\n",
    "        end\n",
    "    end\n",
    "    return temp_mat\n",
    "end"
   ]
  },
  {
   "cell_type": "code",
   "execution_count": null,
   "metadata": {
    "tags": [
     "problem_2a_answer",
     "hide"
    ]
   },
   "outputs": [],
   "source": [
    "#autograder cell\n",
    "A = [1 2 3; 4 5 6; 7 8 9]\n",
    "rA = matrix_reverse(A)\n",
    "TF1 = @assert rA[1,1] == 9\n",
    "TF2 = @assert rA[3,3] == 1\n",
    "TF3 = @assert rA[1,3] == 7\n",
    "TF4 = @assert rA[3,1] == 3\n",
    "[TF1 TF2 TF3 TF4]\n"
   ]
  },
  {
   "cell_type": "markdown",
   "metadata": {},
   "source": [
    "<img align=\"left\" src=\"https://c.tenor.com/TSfv9OumbmsAAAAC/boueibu-yumoto-hakone.gif\"/>"
   ]
  },
  {
   "cell_type": "markdown",
   "metadata": {},
   "source": [
    "# Lorenz Attractor"
   ]
  },
  {
   "cell_type": "code",
   "execution_count": 42,
   "metadata": {},
   "outputs": [
    {
     "ename": "InterruptException",
     "evalue": "InterruptException:",
     "output_type": "error",
     "traceback": [
      "InterruptException:\n",
      "\n",
      "Stacktrace:\n",
      "  [1] #512\n",
      "    @ ~/.julia/packages/Plots/Ec1L1/src/backends/gr.jl:738 [inlined]\n",
      "  [2] iterate\n",
      "    @ ./generator.jl:48 [inlined]\n",
      "  [3] _collect(c::Vector{Float64}, itr::Base.Generator{Vector{Float64}, Plots.var\"#512#513\"{Int64, Int64, Symbol}}, ::Base.EltypeUnknown, isz::Base.HasShape{1})\n",
      "    @ Base ./array.jl:800\n",
      "  [4] collect_similar\n",
      "    @ ./array.jl:709 [inlined]\n",
      "  [5] map\n",
      "    @ ./abstractarray.jl:3371 [inlined]\n",
      "  [6] gr_get_3d_axis_angle(cvs::Vector{Float64}, nt::Int64, ft::Int64, letter::Symbol)\n",
      "    @ Plots ~/.julia/packages/Plots/Ec1L1/src/backends/gr.jl:738\n",
      "  [7] gr_label_ticks_3d(sp::Plots.Subplot{Plots.GRBackend}, letter::Symbol, ticks::Tuple{Vector{Float64}, Vector{String}})\n",
      "    @ Plots ~/.julia/packages/Plots/Ec1L1/src/backends/gr.jl:1603\n",
      "  [8] gr_draw_axis_3d(sp::Plots.Subplot{Plots.GRBackend}, letter::Symbol, vp::Plots.GRViewport{Float64})\n",
      "    @ Plots ~/.julia/packages/Plots/Ec1L1/src/backends/gr.jl:1477\n",
      "  [9] #519\n",
      "    @ ~/.julia/packages/Plots/Ec1L1/src/backends/gr.jl:1412 [inlined]\n",
      " [10] #70\n",
      "    @ ./tuple.jl:692 [inlined]\n",
      " [11] BottomRF\n",
      "    @ ./reduce.jl:86 [inlined]\n",
      " [12] afoldl\n",
      "    @ ./operators.jl:553 [inlined]\n",
      " [13] _foldl_impl\n",
      "    @ ./reduce.jl:68 [inlined]\n",
      " [14] foldl_impl\n",
      "    @ ./reduce.jl:48 [inlined]\n",
      " [15] mapfoldl_impl\n",
      "    @ ./reduce.jl:44 [inlined]\n",
      " [16] mapfoldl\n",
      "    @ ./reduce.jl:175 [inlined]\n",
      " [17] foldl\n",
      "    @ ./reduce.jl:198 [inlined]\n",
      " [18] foreach\n",
      "    @ ./tuple.jl:692 [inlined]\n",
      " [19] gr_draw_axes(sp::Plots.Subplot{Plots.GRBackend}, vp::Plots.GRViewport{Float64})\n",
      "    @ Plots ~/.julia/packages/Plots/Ec1L1/src/backends/gr.jl:1412\n",
      " [20] gr_display(sp::Plots.Subplot{Plots.GRBackend}, w::Measures.AbsoluteLength, h::Measures.AbsoluteLength, vp_canvas::Plots.GRViewport{Float64})\n",
      "    @ Plots ~/.julia/packages/Plots/Ec1L1/src/backends/gr.jl:951\n",
      " [21] (::Plots.var\"#508#509\"{Int64, Int64, Plots.GRViewport{Float64}})(sp::Plots.Subplot{Plots.GRBackend})\n",
      "    @ Plots ~/.julia/packages/Plots/Ec1L1/src/backends/gr.jl:688\n",
      " [22] foreach(f::Plots.var\"#508#509\"{Int64, Int64, Plots.GRViewport{Float64}}, itr::Vector{Plots.Subplot})\n",
      "    @ Base ./abstractarray.jl:3187\n",
      " [23] gr_display(plt::Plots.Plot{Plots.GRBackend}, dpi_factor::Float64)\n",
      "    @ Plots ~/.julia/packages/Plots/Ec1L1/src/backends/gr.jl:688\n",
      " [24] #557\n",
      "    @ ~/.julia/packages/Plots/Ec1L1/src/backends/gr.jl:2086 [inlined]\n",
      " [25] withenv(::Plots.var\"#557#558\"{Plots.Plot{Plots.GRBackend}, Float64}, ::Pair{String, String}, ::Vararg{Pair{String, String}})\n",
      "    @ Base ./env.jl:265\n",
      " [26] _show(io::IOStream, ::MIME{Symbol(\"image/png\")}, plt::Plots.Plot{Plots.GRBackend})\n",
      "    @ Plots ~/.julia/packages/Plots/Ec1L1/src/backends/gr.jl:2081\n",
      " [27] #invokelatest#2\n",
      "    @ ./essentials.jl:1055 [inlined]\n",
      " [28] invokelatest\n",
      "    @ ./essentials.jl:1052 [inlined]\n",
      " [29] show\n",
      "    @ ~/.julia/packages/Plots/Ec1L1/src/output.jl:232 [inlined]\n",
      " [30] #346\n",
      "    @ ~/.julia/packages/Plots/Ec1L1/src/output.jl:6 [inlined]\n",
      " [31] open(::Plots.var\"#346#347\"{Plots.Plot{Plots.GRBackend}}, ::String, ::Vararg{String}; kwargs::@Kwargs{})\n",
      "    @ Base ./io.jl:410\n",
      " [32] open\n",
      "    @ ./io.jl:407 [inlined]\n",
      " [33] png\n",
      "    @ ~/.julia/packages/Plots/Ec1L1/src/output.jl:6 [inlined]\n",
      " [34] frame(anim::Animation, plt::Plots.Plot{Plots.GRBackend})\n",
      "    @ Plots ~/.julia/packages/Plots/Ec1L1/src/animation.jl:26\n",
      " [35] frame(anim::Animation)\n",
      "    @ Plots ~/.julia/packages/Plots/Ec1L1/src/animation.jl:24\n",
      " [36] macro expansion\n",
      "    @ ~/.julia/packages/Plots/Ec1L1/src/animation.jl:232 [inlined]\n",
      " [37] macro expansion\n",
      "    @ ~/Documents!/Robotics_Curriculum/rob101/Fall 2021/Labs/jl_notebook_cell_df34fa98e69747e1a8f8a730347b8e2f_X45sZmlsZQ==.jl:37 [inlined]\n",
      " [38] top-level scope\n",
      "    @ ~/.julia/packages/Plots/Ec1L1/src/animation.jl:251"
     ]
    }
   ],
   "source": [
    "using Plots\n",
    "gr()\n",
    "# define the Lorenz attractor\n",
    "Base.@kwdef mutable struct Lorenz\n",
    "    dt::Float64 = 0.02\n",
    "    σ::Float64 = 10\n",
    "    ρ::Float64 = 28\n",
    "    β::Float64 = 8/3\n",
    "    x::Float64 = 1\n",
    "    y::Float64 = 1\n",
    "    z::Float64 = 1\n",
    "end\n",
    "\n",
    "function step!(l::Lorenz)\n",
    "    dx = l.σ * (l.y - l.x);         l.x += l.dt * dx\n",
    "    dy = l.x * (l.ρ - l.z) - l.y;   l.y += l.dt * dy\n",
    "    dz = l.x * l.y - l.β * l.z;     l.z += l.dt * dz\n",
    "end\n",
    "\n",
    "attractor = Lorenz()\n",
    "\n",
    "\n",
    "# initialize a 3D plot with 1 empty series\n",
    "plt = plot3d(\n",
    "    1,\n",
    "    xlim = (-30, 30),\n",
    "    ylim = (-30, 30),\n",
    "    zlim = (0, 60),\n",
    "    title = \"Lorenz Attractor\",\n",
    "    marker = 2,\n",
    ")\n",
    "\n",
    "# build an animated gif by pushing new points to the plot, saving every 10th frame\n",
    "@gif for i=1:3000\n",
    "    step!(attractor)\n",
    "    push!(plt, attractor.x, attractor.y, attractor.z)\n",
    "end every 10\n"
   ]
  },
  {
   "cell_type": "code",
   "execution_count": null,
   "metadata": {},
   "outputs": [],
   "source": []
  }
 ],
 "metadata": {
  "kernelspec": {
   "display_name": "Julia 1.11.1",
   "language": "julia",
   "name": "julia-1.11"
  },
  "language_info": {
   "file_extension": ".jl",
   "mimetype": "application/julia",
   "name": "julia",
   "version": "1.11.1"
  }
 },
 "nbformat": 4,
 "nbformat_minor": 4
}
