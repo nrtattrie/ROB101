{
 "cells": [
  {
   "cell_type": "markdown",
   "metadata": {
    "slideshow": {
     "slide_type": "notes"
    }
   },
   "source": [
    "University of Michigan - ROB 101 Computational Linear Algebra"
   ]
  },
  {
   "cell_type": "markdown",
   "metadata": {
    "slideshow": {
     "slide_type": "slide"
    }
   },
   "source": [
    "# [Bisection method](https://en.wikipedia.org/wiki/Bisection_method) \n",
    "\n",
    "The bisection method is a root-finding method that applies to any continuous functions for which one knows two values with opposite signs. \n",
    "\n",
    "The method consists of repeatedly bisecting the interval defined by these values and then selecting the subinterval in which the function changes sign, and therefore must contain a root. It is a very simple and robust method, but it is also relatively slow."
   ]
  },
  {
   "cell_type": "markdown",
   "metadata": {
    "slideshow": {
     "slide_type": "slide"
    }
   },
   "source": [
    "A few steps of the bisection method applied over the starting range $[a_1,b_1]$. The bigger red dot is the root of the function.\n",
    "\n",
    "<img src=\"https://upload.wikimedia.org/wikipedia/commons/8/8c/Bisection_method.svg\" alt=\"A sphere rotating about an axis\" width=\"400\">"
   ]
  },
  {
   "cell_type": "markdown",
   "metadata": {
    "slideshow": {
     "slide_type": "slide"
    }
   },
   "source": [
    "### Iteration tasks\n",
    "The input for the method is a continuous function $f$, an interval $[a, b]$, and the function values $f(a)$ and $f(b)$. The function values are of opposite sign (there is at least one zero crossing within the interval). Each iteration performs these steps:"
   ]
  },
  {
   "cell_type": "markdown",
   "metadata": {
    "slideshow": {
     "slide_type": "fragment"
    }
   },
   "source": [
    "1. Calculate $c$, the midpoint of the interval, $c = \\frac{a + b}{2}$.\n",
    "2. Calculate the function value at the midpoint, $f(c)$.\n",
    "3. If convergence is satisfactory (that is, $c - a$ is sufficiently small, or $\\lvert f(c) \\rvert$ is sufficiently small), return $c$ and stop iterating.\n",
    "4. Examine the sign of $f(c)$ and replace either $(a, f(a))$ or $(b, f(b))$ with $(c, f(c))$ so that there is a zero crossing within the new interval."
   ]
  },
  {
   "cell_type": "markdown",
   "metadata": {
    "slideshow": {
     "slide_type": "slide"
    }
   },
   "source": [
    "### Example 1\n",
    "\n",
    "Let's start with an easy problem that we know the answer already. Consider $f(x) = (x-1)^2 - 4$. We know $f(3) = 0$; hence $x=3$ is a *root* of $f(x)$. In this case, it is easy to pick an interval, e.g., $[0,5]$.\n"
   ]
  },
  {
   "cell_type": "code",
   "execution_count": 1,
   "metadata": {
    "scrolled": false,
    "slideshow": {
     "slide_type": "slide"
    }
   },
   "outputs": [
    {
     "name": "stdout",
     "output_type": "stream",
     "text": [
      "Converged at iteration: N = 33\n",
      "c: 2.9999999998835847\n",
      "f(c): -4.656612873077393e-10\n"
     ]
    }
   ],
   "source": [
    "function f(x) # f(x) = (x-1)^2 - 4\n",
    "    return (x-1)^2 - 4\n",
    "end\n",
    "\n",
    "a = 0; b = 5;\n",
    "delta = 1e-9; # set a convergence threshold\n",
    "# set a max iteration so we don't get stuck in the loop forever!\n",
    "MAX_ITER = 100; \n",
    "N = 1; # counter for iteration\n",
    "# let the fun begin!\n",
    "while N < MAX_ITER\n",
    "    # evaluate c and f(c) given a and b\n",
    "    c = (a + b) / 2; fc = f(c);\n",
    "    if abs(fc) < delta || abs(c-a) < delta\n",
    "        println(\"Converged at iteration: N = \", N)\n",
    "        break\n",
    "    end\n",
    "    N += 1;\n",
    "    if sign(fc) == sign(f(a)) # update the search interval\n",
    "        a = c;\n",
    "    else\n",
    "        b = c;\n",
    "    end\n",
    "end\n",
    "\n",
    "c = (a + b) / 2;\n",
    "print(\"c: \", c, \"\\n\")\n",
    "print(\"f(c): \", f(c), \"\\n\")"
   ]
  },
  {
   "cell_type": "markdown",
   "metadata": {
    "slideshow": {
     "slide_type": "slide"
    }
   },
   "source": [
    "### Example 2\n",
    "\n",
    "Now consider $f(x) = \\cos(\\exp(-0.1 x) - \\frac{\\pi}{3})$. To find a reasonable search interval we plot the function first. So we pick $[0,4]$.\n",
    "\n",
    "![bisection-example2.png](https://i.postimg.cc/Xvc472ww/bisection-example2.png)"
   ]
  },
  {
   "cell_type": "code",
   "execution_count": null,
   "metadata": {
    "slideshow": {
     "slide_type": "subslide"
    }
   },
   "outputs": [],
   "source": [
    "using Plots\n",
    "backend()\n",
    "x = LinRange(-5,5,101)\n",
    "y = cos.(exp.(0.4*x) .- π/3)\n",
    "plot(x, y, xlabel=\"x\", ylabel=\"f(x)\", label=\"f(x) = cos(exp(-0.1 x) - π/3)\")"
   ]
  },
  {
   "cell_type": "code",
   "execution_count": 2,
   "metadata": {
    "scrolled": false,
    "slideshow": {
     "slide_type": "slide"
    }
   },
   "outputs": [
    {
     "name": "stdout",
     "output_type": "stream",
     "text": [
      "Converged at iteration: N = 31\n",
      "c: 2.4060208234004676\n",
      "f(c): -7.978113112892108e-10\n"
     ]
    }
   ],
   "source": [
    "function f(x) # f(x) = cos(exp(0.4*x) - π/3)\n",
    "    return cos.(exp.(0.4*x) .- π/3)\n",
    "end\n",
    "\n",
    "a = 0; b = 5;\n",
    "delta = 1e-9; # set a convergence threshold\n",
    "# set a max iteration so we don't get stuck in the loop forever!\n",
    "MAX_ITER = 100; \n",
    "N = 1; # counter for iteration\n",
    "# let the fun begin!\n",
    "while N < MAX_ITER\n",
    "    # evaluate c and f(c) given a and b\n",
    "    c = (a + b) / 2; fc = f(c);\n",
    "    if abs(fc) < delta || abs(c-a) < delta\n",
    "        println(\"Converged at iteration: N = \", N)\n",
    "        break\n",
    "    end\n",
    "    N += 1;\n",
    "    if sign(fc) == sign(f(a)) # update the search interval\n",
    "        a = c;\n",
    "    else\n",
    "        b = c;\n",
    "    end\n",
    "end\n",
    "\n",
    "c = (a + b) / 2;\n",
    "print(\"c: \", c, \"\\n\")\n",
    "print(\"f(c): \", f(c), \"\\n\")"
   ]
  }
 ],
 "metadata": {
  "celltoolbar": "Slideshow",
  "kernelspec": {
   "display_name": "Julia 1.4.2",
   "language": "julia",
   "name": "julia-1.4"
  },
  "language_info": {
   "file_extension": ".jl",
   "mimetype": "application/julia",
   "name": "julia",
   "version": "1.4.2"
  }
 },
 "nbformat": 4,
 "nbformat_minor": 4
}
