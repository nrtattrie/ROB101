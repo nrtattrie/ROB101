{
 "cells": [
  {
   "cell_type": "markdown",
   "metadata": {
    "slideshow": {
     "slide_type": "notes"
    }
   },
   "source": [
    "University of Michigan - ROB 101 Computational Linear Algebra"
   ]
  },
  {
   "cell_type": "markdown",
   "metadata": {
    "slideshow": {
     "slide_type": "slide"
    }
   },
   "source": [
    "## Computing numerical derivatives\n",
    "\n",
    "- The input is a vector such as $x \\in \\mathbb{R}^m$. If we use the standard basis of $\\mathbb{R}^m$, we have\n",
    "    $$x = x_1 e_1 + x_2 e_2 + \\dots + x_n e_m = \\sum_{i=1}^m x_i e_i.$$\n",
    "- Then we can use a finite difference approximation to compute each column of $A = \\begin{bmatrix} a^{\\mathrm{col}}_1 & \\dots & a^{\\mathrm{col}}_m \\end{bmatrix}$ as\n",
    "    $$\\boxed{a^{\\mathrm{col}}_i = \\frac{\\partial f(x_0)}{\\partial x_i} = \\frac{f(x_0 + h e_i) - f(x_0 -h e_i)}{2h}}$$"
   ]
  },
  {
   "cell_type": "markdown",
   "metadata": {
    "slideshow": {
     "slide_type": "slide"
    }
   },
   "source": [
    "- For the general case of $f:\\mathbb{R}^m \\to \\mathbb{R}^n$, $A$ is an $n\\times m$ matrix and called the Jacobian of $f$, i.e., $$A_{n\\times m} = \\begin{bmatrix} a^{\\mathrm{col}}_1 & \\dots & a^{\\mathrm{col}}_m \\end{bmatrix} = \\frac{\\partial f(x)}{\\partial x}.$$\n",
    "- Each column of the Jacobian $a^{\\mathrm{col}}_i = \\frac{\\partial f(x)}{\\partial x_i} \\in \\mathbb{R}^n$ shows the rate of change of $f$ along $e_i$."
   ]
  },
  {
   "cell_type": "code",
   "execution_count": 1,
   "metadata": {
    "scrolled": false,
    "slideshow": {
     "slide_type": "slide"
    }
   },
   "outputs": [
    {
     "data": {
      "text/plain": [
       "Jacobian (generic function with 2 methods)"
      ]
     },
     "execution_count": 1,
     "metadata": {},
     "output_type": "execute_result"
    }
   ],
   "source": [
    "using LinearAlgebra\n",
    "\n",
    "function Jacobian(func, x0, h = 0.001) \n",
    "    # Numerical Jacobian of f:R^m -> R^n\n",
    "    m = length(x0);  # Domain dimension\n",
    "    f0 = func(x0); \n",
    "    n = length(f0); # Range dimension\n",
    "    \n",
    "    if m == 1 # f:R -> R^n\n",
    "        return (func(x0 .+ h) .- func(x0 .- h)) ./ (2*h)\n",
    "    else\n",
    "        Im = Matrix(1.0I, m, m); # Create standard basis for I_m\n",
    "        A = zeros(n,m); # Create Jacobian matrix\n",
    "        # Compute and fill in the columns of the Jacobian using central differences\n",
    "        for i = 1:m\n",
    "            ei = Im[:,i:i]\n",
    "            A[:,i] = (func(x0 + h*ei) - func(x0 - h*ei)) / (2*h);\n",
    "        end\n",
    "        return A\n",
    "    end\n",
    "end"
   ]
  },
  {
   "cell_type": "code",
   "execution_count": 2,
   "metadata": {
    "slideshow": {
     "slide_type": "slide"
    }
   },
   "outputs": [
    {
     "name": "stdout",
     "output_type": "stream",
     "text": [
      "A = Jacobian(myfunc, x0) = [3.045863266309734 -0.48070792307297605]\n",
      "df = exact_grad(x0) = [3.0458632663098375 -0.4807079230728406]\n",
      "Error = 1.704481265603469e-13\n"
     ]
    }
   ],
   "source": [
    "# Test block for the Jacobian function \n",
    "\n",
    "function f(x) # f(x) = x^T A x\n",
    "    H = [2 -1; -1 2];\n",
    "    return x' * H * x\n",
    "end\n",
    "\n",
    "function exact_grad(x) # exact gradient! use this http://www.matrixcalculus.org/\n",
    "    H = [2 -1; -1 2];\n",
    "   return (2*H*x)'\n",
    "end\n",
    "\n",
    "\n",
    "myfunc = f;\n",
    "x0 = rand(2) # initial guess, x0\n",
    "@show A = Jacobian(myfunc, x0)\n",
    "\n",
    "# We know the true gradient!\n",
    "@show df = exact_grad(x0)\n",
    "\n",
    "Error = A - df; # Error is the difference between our numerical and true gradient (from calculus)\n",
    "println(\"Error = \", norm(Error))"
   ]
  },
  {
   "cell_type": "markdown",
   "metadata": {
    "slideshow": {
     "slide_type": "slide"
    }
   },
   "source": [
    "## Example 1: $f:\\mathbb{R} \\to \\mathbb{R}$\n",
    "\n",
    "We want to compute the derivative $f(x) = \\cos(x)$ at $x = \\frac{\\pi}{6}$. Here the function $f$ maps a real scalar to a real scalar $f:\\mathbb{R} \\to \\mathbb{R}$. "
   ]
  },
  {
   "cell_type": "code",
   "execution_count": 3,
   "metadata": {
    "slideshow": {
     "slide_type": "slide"
    }
   },
   "outputs": [
    {
     "name": "stdout",
     "output_type": "stream",
     "text": [
      "A: -0.4999999166667157\n",
      "True derivative: -0.49999999999999994\n"
     ]
    }
   ],
   "source": [
    "function f1(x) # f(x) = cos(x)\n",
    "    return cos(x)\n",
    "end\n",
    "\n",
    "\n",
    "myfunc = f1;\n",
    "x0 = π/6 # initial guess, x0\n",
    "println(\"A: \", Jacobian(myfunc, x0))\n",
    "println(\"True derivative: \", -sin(x0))"
   ]
  },
  {
   "cell_type": "markdown",
   "metadata": {
    "slideshow": {
     "slide_type": "slide"
    }
   },
   "source": [
    "## Example 2: $f:\\mathbb{R} \\to \\mathbb{R}^2$\n",
    "\n",
    "We want to compute the derivative $f(x) = \\begin{bmatrix} \\cos(x) \\\\ \\sin(x) \\end{bmatrix}$ at $x = \\frac{\\pi}{6}$. Here the function $f$ maps a real scalar to a 2-vector $f:\\mathbb{R} \\to \\mathbb{R}^2$.  "
   ]
  },
  {
   "cell_type": "code",
   "execution_count": 4,
   "metadata": {
    "slideshow": {
     "slide_type": "slide"
    }
   },
   "outputs": [
    {
     "name": "stdout",
     "output_type": "stream",
     "text": [
      "A: \t\t[-0.4999999166667157, 0.8660252594468454]\n",
      "True derivative: \t[-0.49999999999999994, 0.8660254037844387]\n"
     ]
    },
    {
     "data": {
      "text/plain": [
       "(2,)"
      ]
     },
     "execution_count": 4,
     "metadata": {},
     "output_type": "execute_result"
    }
   ],
   "source": [
    "function f2(x) # f:R -> R^2\n",
    "    return [cos(x); sin(x)]\n",
    "end\n",
    "\n",
    "myfunc = f2;\n",
    "x0 = π/6 # initial guess, x0\n",
    "A = Jacobian(myfunc, x0);\n",
    "println(\"A: \\t\\t\", A)\n",
    "println(\"True derivative: \\t\", [-sin(x0); cos(x0)])\n",
    "size(A)"
   ]
  },
  {
   "cell_type": "markdown",
   "metadata": {
    "slideshow": {
     "slide_type": "slide"
    }
   },
   "source": [
    "## Example 3: $f:\\mathbb{R}^3 \\to \\mathbb{R}^3$\n",
    "\n",
    "For the function \n",
    " \\begin{equation*}\n",
    " f(x_1,x_2,x_3):= \n",
    " \\left[\n",
    "\\begin{array}{c}\n",
    "x_1 x_2 x_3  \\\\\n",
    "\\log(2+\\cos(x_1)) + x_2^{x_1} \\\\\n",
    " \\frac{x_1 x_3}{1+ x_2^2} \\\\\n",
    "\\end{array}\n",
    "\\right],\n",
    " \\end{equation*}\n",
    " compute its Jacobian at the point \n",
    " $$x_0 = \\left[\n",
    "\\begin{array}{c}\n",
    "\\pi \\\\\n",
    "1.0 \\\\\n",
    "2.0 \\\\\n",
    "\\end{array}\n",
    "\\right].$$"
   ]
  },
  {
   "cell_type": "code",
   "execution_count": 5,
   "metadata": {
    "slideshow": {
     "slide_type": "slide"
    }
   },
   "outputs": [
    {
     "data": {
      "text/plain": [
       "3×3 Array{Float64,2}:\n",
       " 2.0   6.28319  3.14159\n",
       " 0.0   3.14159  0.0\n",
       " 1.0  -3.14159  1.5708"
      ]
     },
     "execution_count": 5,
     "metadata": {},
     "output_type": "execute_result"
    }
   ],
   "source": [
    "function f3(x) \n",
    "    return [x[1]*x[2]*x[3]; log(2+cos(x[1])) + x[2]^x[1]; (x[1]*x[3] / (1+x[2]^2))]\n",
    "end\n",
    "\n",
    "myfunc = f3;\n",
    "x0 = [π; 1.0; 2.0] # initial guess, x0\n",
    "A = Jacobian(myfunc, x0)"
   ]
  },
  {
   "cell_type": "markdown",
   "metadata": {
    "slideshow": {
     "slide_type": "slide"
    }
   },
   "source": [
    "## Example 4: $f:\\mathbb{R}^3 \\to \\mathbb{R}^2$\n",
    "\n",
    "For the function \n",
    " \\begin{equation*}\n",
    " f(x_1,x_2,x_3):= \n",
    " \\left[\n",
    "\\begin{array}{c}\n",
    "x_1 x_2 x_3  \\\\\n",
    "\\log(2+\\cos(x_1)) + x_2^{x_1} \n",
    "\\end{array}\n",
    "\\right],\n",
    " \\end{equation*}\n",
    " compute its Jacobian at the point \n",
    " $$x_0 = \\left[\n",
    "\\begin{array}{c}\n",
    "\\pi \\\\\n",
    "1.0 \\\\\n",
    "2.0\n",
    "\\end{array}\n",
    "\\right].$$"
   ]
  },
  {
   "cell_type": "code",
   "execution_count": 6,
   "metadata": {
    "slideshow": {
     "slide_type": "slide"
    }
   },
   "outputs": [
    {
     "data": {
      "text/plain": [
       "2×3 Array{Float64,2}:\n",
       " 2.0  6.28319  3.14159\n",
       " 0.0  3.14159  0.0"
      ]
     },
     "execution_count": 6,
     "metadata": {},
     "output_type": "execute_result"
    }
   ],
   "source": [
    "function f4(x) \n",
    "    return [x[1]*x[2]*x[3]; log(2+cos(x[1])) + x[2]^x[1]]\n",
    "end\n",
    "\n",
    "myfunc = f4;\n",
    "x0 = [π; 1.0; 2.0] # initial guess, x0\n",
    "A = Jacobian(myfunc, x0)"
   ]
  }
 ],
 "metadata": {
  "celltoolbar": "Slideshow",
  "kernelspec": {
   "display_name": "Julia 1.4.2",
   "language": "julia",
   "name": "julia-1.4"
  },
  "language_info": {
   "file_extension": ".jl",
   "mimetype": "application/julia",
   "name": "julia",
   "version": "1.4.2"
  }
 },
 "nbformat": 4,
 "nbformat_minor": 4
}
