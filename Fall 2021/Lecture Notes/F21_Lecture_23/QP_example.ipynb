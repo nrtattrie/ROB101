{
 "cells": [
  {
   "cell_type": "markdown",
   "metadata": {
    "slideshow": {
     "slide_type": "notes"
    }
   },
   "source": [
    "University of Michigan - ROB 101 Computational Linear Algebra"
   ]
  },
  {
   "cell_type": "markdown",
   "metadata": {
    "slideshow": {
     "slide_type": "slide"
    }
   },
   "source": [
    "# QP Example in Julia using QSQP Package"
   ]
  },
  {
   "cell_type": "code",
   "execution_count": 3,
   "metadata": {
    "slideshow": {
     "slide_type": "notes"
    }
   },
   "outputs": [
    {
     "name": "stderr",
     "output_type": "stream",
     "text": [
      "\u001b[32m\u001b[1m   Resolving\u001b[22m\u001b[39m package versions...\n",
      "\u001b[32m\u001b[1m  No Changes\u001b[22m\u001b[39m to `C:\\Users\\maanigj\\.julia\\environments\\v1.6\\Project.toml`\n",
      "\u001b[32m\u001b[1m  No Changes\u001b[22m\u001b[39m to `C:\\Users\\maanigj\\.julia\\environments\\v1.6\\Manifest.toml`\n"
     ]
    }
   ],
   "source": [
    "] add OSQP"
   ]
  },
  {
   "cell_type": "code",
   "execution_count": 4,
   "metadata": {},
   "outputs": [
    {
     "name": "stderr",
     "output_type": "stream",
     "text": [
      "\u001b[32m\u001b[1m   Resolving\u001b[22m\u001b[39m package versions...\n",
      "\u001b[32m\u001b[1m  No Changes\u001b[22m\u001b[39m to `C:\\Users\\maanigj\\.julia\\environments\\v1.6\\Project.toml`\n",
      "\u001b[32m\u001b[1m  No Changes\u001b[22m\u001b[39m to `C:\\Users\\maanigj\\.julia\\environments\\v1.6\\Manifest.toml`\n"
     ]
    }
   ],
   "source": [
    "import Pkg; Pkg.add(\"Compat\")"
   ]
  },
  {
   "cell_type": "markdown",
   "metadata": {
    "slideshow": {
     "slide_type": "slide"
    }
   },
   "source": [
    "\\begin{split}\\begin{array}{ll}\n",
    "  \\mbox{minimize} & \\frac{1}{2} x^\\top \\begin{bmatrix}4 & 1\\\\ 1 & 2 \\end{bmatrix} x + \\begin{bmatrix}1 \\\\ 1\\end{bmatrix}^\\top x \\\\\n",
    "  \\mbox{subject to} & \\begin{bmatrix}1 \\\\ 0 \\\\ 0\\end{bmatrix} \\leq \\begin{bmatrix} 1 & 1\\\\ 1 & 0\\\\ 0 & 1\\end{bmatrix} x \\leq  \\begin{bmatrix}1 \\\\ 0.7 \\\\ 0.7\\end{bmatrix}\n",
    "\\end{array}\\end{split}"
   ]
  },
  {
   "cell_type": "code",
   "execution_count": 5,
   "metadata": {
    "slideshow": {
     "slide_type": "notes"
    }
   },
   "outputs": [
    {
     "name": "stdout",
     "output_type": "stream",
     "text": [
      "-----------------------------------------------------------------\n",
      "           OSQP v0.6.2  -  Operator Splitting QP Solver\n",
      "              (c) Bartolomeo Stellato,  Goran Banjac\n",
      "        University of Oxford  -  Stanford University 2021\n",
      "-----------------------------------------------------------------\n",
      "problem:  variables n = 2, constraints m = 3\n",
      "          nnz(P) + nnz(A) = 7\n",
      "settings: linear system solver = qdldl,\n",
      "          eps_abs = 1.0e-003, eps_rel = 1.0e-003,\n",
      "          eps_prim_inf = 1.0e-004, eps_dual_inf = 1.0e-004,\n",
      "          rho = 1.00e-001 (adaptive),\n",
      "          sigma = 1.00e-006, alpha = 1.60, max_iter = 4000\n",
      "          check_termination: on (interval 25),\n",
      "          scaling: on, scaled_termination: off\n",
      "          warm start: on, polish: off, time_limit: off\n",
      "\n",
      "iter  objective    pri res    dua res    rho        time\n",
      "   1 -7.8808e-003  1.01e+000  2.00e+002  1.00e-001  8.12e-005s\n",
      "  25  1.8797e+000  1.60e-003  9.48e-004  1.00e-001  8.96e-005s\n",
      "\n",
      "status:               solved\n",
      "number of iterations: 25\n",
      "optimal objective:    1.8797\n",
      "run time:             9.30e-005s\n",
      "optimal rho estimate: 2.14e-001\n",
      "\n"
     ]
    },
    {
     "data": {
      "text/plain": [
       "OSQP.Results([0.30137570387082474, 0.6983956863817343], [-2.9046271565608808, -1.3859012727587406e-18, 0.20551196179547895], OSQP.Info(25, :Solved, 1, 0, 1.8796620463400857, 0.0016043136182657125, 0.0009481181311084053, 5.75e-5, 3.55e-5, 0.0, 0.0, 9.300000000000001e-5, 0, 0.0), [NaN, NaN, NaN], [NaN, NaN])"
      ]
     },
     "execution_count": 5,
     "metadata": {},
     "output_type": "execute_result"
    }
   ],
   "source": [
    "using OSQP\n",
    "using Compat.SparseArrays\n",
    "\n",
    "# Define problem data\n",
    "P = sparse([4. 1.; 1. 2.])\n",
    "q = [1.; 1.]\n",
    "A = sparse([1. 1.; 1. 0.; 0. 1.])\n",
    "l = [1.; 0.; 0.]\n",
    "u = [1.; 0.7; 0.7]\n",
    "\n",
    "# Crate OSQP object\n",
    "prob = OSQP.Model()\n",
    "\n",
    "# Setup workspace and change alpha parameter\n",
    "OSQP.setup!(prob; P=P, q=q, A=A, l=l, u=u)\n",
    "\n",
    "# Solve problem\n",
    "results = OSQP.solve!(prob)"
   ]
  },
  {
   "cell_type": "markdown",
   "metadata": {
    "slideshow": {
     "slide_type": "slide"
    }
   },
   "source": [
    "\\begin{split}\\begin{array}{ll}\n",
    "  \\mbox{minimize} & \\frac{1}{2} x^\\top \\begin{bmatrix}4 & 1\\\\ 1 & 2 \\end{bmatrix} x + \\begin{bmatrix}1 \\\\ 1\\end{bmatrix}^\\top x \\\\\n",
    "  \\mbox{subject to} & \\begin{bmatrix}1 \\\\ 0 \\\\ 0\\end{bmatrix} \\leq \\begin{bmatrix} 1 & 1\\\\ 1 & 0\\\\ 0 & 1\\end{bmatrix} x \\leq  \\begin{bmatrix}1 \\\\ 0.7 \\\\ 0.7\\end{bmatrix}\n",
    "\\end{array}\\end{split}"
   ]
  },
  {
   "cell_type": "code",
   "execution_count": 6,
   "metadata": {
    "slideshow": {
     "slide_type": "notes"
    }
   },
   "outputs": [
    {
     "name": "stdout",
     "output_type": "stream",
     "text": [
      "-----------------------------------------------------------------\n",
      "           OSQP v0.6.2  -  Operator Splitting QP Solver\n",
      "              (c) Bartolomeo Stellato,  Goran Banjac\n",
      "        University of Oxford  -  Stanford University 2021\n",
      "-----------------------------------------------------------------\n",
      "problem:  variables n = 2, constraints m = 4\n",
      "          nnz(P) + nnz(A) = 8\n",
      "settings: linear system solver = qdldl,\n",
      "          eps_abs = 1.0e-003, eps_rel = 1.0e-003,\n",
      "          eps_prim_inf = 1.0e-004, eps_dual_inf = 1.0e-004,\n",
      "          rho = 1.00e-001 (adaptive),\n",
      "          sigma = 1.00e-006, alpha = 1.60, max_iter = 4000\n",
      "          check_termination: on (interval 25),\n",
      "          scaling: on, scaled_termination: off\n",
      "          warm start: on, polish: off, time_limit: off\n",
      "\n",
      "iter  objective    pri res    dua res    rho        time\n",
      "   1 -4.4887e+000  7.69e-016  1.29e+000  1.00e-001  3.49e-005s\n",
      "  25 -5.0000e+000  1.54e-015  9.07e-012  1.00e-001  4.55e-005s\n",
      "\n",
      "status:               solved\n",
      "number of iterations: 25\n",
      "optimal objective:    -5.0000\n",
      "run time:             5.03e-005s\n",
      "optimal rho estimate: 8.68e-004\n",
      "\n"
     ]
    },
    {
     "data": {
      "text/plain": [
       "OSQP.Results([1.9999999999964584, 0.9999999999954644], [0.0, 0.0, 0.0, 0.0], OSQP.Info(25, :Solved, 1, 0, -5.0, 1.5383701491068509e-15, 9.071188245002304e-12, 2.88e-5, 2.15e-5, 0.0, 0.0, 5.03e-5, 0, 0.0), [NaN, NaN, NaN, NaN], [NaN, NaN])"
      ]
     },
     "execution_count": 6,
     "metadata": {},
     "output_type": "execute_result"
    }
   ],
   "source": [
    "# Define problem data\n",
    "P = sparse([2. 0.; 0. 2.])\n",
    "q = [-4.; -2.]\n",
    "A = sparse([1. 2.; 3. 3.; 1. 0.; 0. 1.])\n",
    "l = [0.; 0.; 0.; 0.]\n",
    "u = [12.; 25.; 7.; 5.]\n",
    "\n",
    "# Crate OSQP object\n",
    "prob = OSQP.Model()\n",
    "\n",
    "# Setup workspace and change alpha parameter\n",
    "OSQP.setup!(prob; P=P, q=q, A=A, l=l, u=u)\n",
    "\n",
    "# Solve problem\n",
    "results = OSQP.solve!(prob)"
   ]
  }
 ],
 "metadata": {
  "celltoolbar": "Slideshow",
  "kernelspec": {
   "display_name": "Julia 1.6.3",
   "language": "julia",
   "name": "julia-1.6"
  },
  "language_info": {
   "file_extension": ".jl",
   "mimetype": "application/julia",
   "name": "julia",
   "version": "1.6.3"
  }
 },
 "nbformat": 4,
 "nbformat_minor": 4
}
