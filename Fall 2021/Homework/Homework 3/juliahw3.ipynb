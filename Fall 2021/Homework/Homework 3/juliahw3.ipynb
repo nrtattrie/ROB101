{
 "cells": [
  {
   "cell_type": "markdown",
   "metadata": {
    "deletable": false,
    "editable": false,
    "nbgrader": {
     "cell_type": "markdown",
     "checksum": "8fe6641ee483e00e84ef7257970e26f0",
     "grade": false,
     "grade_id": "cell-c39f28fa9bdc794e",
     "locked": true,
     "schema_version": 3,
     "solution": false,
     "task": false
    }
   },
   "source": [
    "University of Michigan - ROB 101 Computational Linear Algebra"
   ]
  },
  {
   "cell_type": "markdown",
   "metadata": {
    "deletable": false,
    "editable": false,
    "nbgrader": {
     "cell_type": "markdown",
     "checksum": "9c602457f9b114eabf564937c6b7fd7f",
     "grade": false,
     "grade_id": "cell-447f7c0cf0e86c7",
     "locked": true,
     "schema_version": 3,
     "solution": false,
     "task": false
    }
   },
   "source": [
    "# Homework 3: Vector and Matrix Multiplication (12 points)\n",
    "### Due: 9/26 at 9 PM Eastern\n",
    "\n",
    "#### Purpose:  Learn ways to compute a matrix multiplication with programming\n",
    "- Skills: \n",
    "    - Indexing for multiplication\n",
    "    - Converting algorithm to code\n",
    "    - Lower-Upper factorization without permutations\n",
    "- Knowledge:\n",
    "    - Learn how to use built in functions\n",
    "    - Understand how those functions work behind the scenes\n",
    "\n",
    "#### Task:  Complete the cells below as directed."
   ]
  },
  {
   "cell_type": "markdown",
   "metadata": {
    "deletable": false,
    "editable": false,
    "nbgrader": {
     "cell_type": "markdown",
     "checksum": "a2e15dc9ab61e02865c742127ddc51e5",
     "grade": false,
     "grade_id": "cell-447f7c0cf0e86c77",
     "locked": true,
     "schema_version": 3,
     "solution": false,
     "task": false
    }
   },
   "source": [
    "### The Result of a Matrix Multiplication:\n",
    "$$[n\\times k~~\\text{matrix}] \\cdot [k \\times m~~\\text{matrix}] = [n \\times m~~\\text{matrix}].$$\n",
    "\n",
    "In other words:  In order for the matrix multiplication A times B to be possible, the number of columns in A must equal the number of rows in B."
   ]
  },
  {
   "cell_type": "markdown",
   "metadata": {
    "deletable": false,
    "editable": false,
    "nbgrader": {
     "cell_type": "markdown",
     "checksum": "144d8d8f467772ebf0036156eab6adf0",
     "grade": false,
     "grade_id": "cell-db80a8ed2f700a69",
     "locked": true,
     "schema_version": 3,
     "solution": false,
     "task": false
    }
   },
   "source": [
    "\\begin{equation}\n",
    "   A \\cdot B:= \n",
    "\\left[\\begin{array}{cccc}  a_1^{\\rm row} \\cdot b_1^{\\rm col} & a_1^{\\rm row} \\cdot b_2^{\\rm col} & \\cdots & a_1^{\\rm row} \\cdot b_m^{\\rm col} \\\\\n",
    "a_2^{\\rm row} \\cdot b_1^{\\rm col} & a_2^{\\rm row} \\cdot b_2^{\\rm col} & \\cdots & a_2^{\\rm row} \\cdot b_m^{\\rm col} \\\\\n",
    "\\vdots & \\vdots & \\ddots & \\vdots \\\\\n",
    "a_n^{\\rm row} \\cdot b_1^{\\rm col} & a_n^{\\rm row} \\cdot b_2^{\\rm col} & \\cdots & a_n^{\\rm row} \\cdot b_m^{\\rm col}\n",
    "\\end{array}\\right].\n",
    "\\end{equation}\n",
    "\n",
    "### Problem 1.  Rows x Columns (1 + 1 + 1)\n",
    "Partition the following matrices, then compute the multiplication product using the formula above.\n",
    "\n",
    "### a) $A*B$ where $A = \\begin{bmatrix} 3&7&4\\\\1&4&3\\end{bmatrix}$ and $B = \\begin{bmatrix}8&3&9&1\\\\2&4&0&8\\\\0&7&1&2\\end{bmatrix}$\n",
    "(1 point)"
   ]
  },
  {
   "cell_type": "code",
   "execution_count": 1,
   "metadata": {
    "deletable": false,
    "nbgrader": {
     "cell_type": "code",
     "checksum": "2eacea2b19606a47e8f223ae404ff7f7",
     "grade": false,
     "grade_id": "1a",
     "locked": false,
     "schema_version": 3,
     "solution": true,
     "task": false
    },
    "tags": [
     "problem_1a"
    ]
   },
   "outputs": [
    {
     "data": {
      "text/plain": [
       "2×4 Matrix{Int64}:\n",
       " 38  65  31  67\n",
       " 16  40  12  39"
      ]
     },
     "metadata": {},
     "output_type": "display_data"
    }
   ],
   "source": [
    "#declare your partitions first\n",
    "#leave the values as integers or the check below will return a false answer, even if you are right.\n",
    "a1row = [3 7 4]\n",
    "a2row = [1 4 3]\n",
    "b1col = [8; 2; 0]\n",
    "b2col = [3; 4; 7]\n",
    "b3col = [9; 0; 1]\n",
    "b4col = [1; 8; 2]\n",
    "\n",
    "#implement code below that forms the matrix A*B by computing each of its individual\n",
    "#entires via the rows of A times the columns of B \n",
    "\n",
    "#your answer should be a 2 x 4 matrix. Return that in a variable called answer1a\n",
    "\n",
    "answer1a = [a1row * b1col a1row * b2col a1row * b3col a1row * b4col; a2row * b1col a2row * b2col a2row * b3col a2row * b4col]\n",
    "# your code here\n"
   ]
  },
  {
   "cell_type": "code",
   "execution_count": 2,
   "metadata": {},
   "outputs": [
    {
     "name": "stdout",
     "output_type": "stream",
     "text": [
      "all nothings means likely correct\n"
     ]
    },
    {
     "data": {
      "text/plain": [
       "1×2 Matrix{Nothing}:\n",
       " nothing  nothing"
      ]
     },
     "metadata": {},
     "output_type": "display_data"
    }
   ],
   "source": [
    "# One of our indirect tests to help you out! \n",
    "println(\"all nothings means likely correct\")\n",
    "T1 = @assert (308 == sum(answer1a))\n",
    "T2 = @assert (answer1a[1,1] == 38)\n",
    "[T1 T2]"
   ]
  },
  {
   "cell_type": "code",
   "execution_count": 3,
   "metadata": {
    "deletable": false,
    "editable": false,
    "nbgrader": {
     "cell_type": "code",
     "checksum": "238f254042dea9c5fde09e181a030cbc",
     "grade": true,
     "grade_id": "1aTest",
     "locked": true,
     "points": 1,
     "schema_version": 3,
     "solution": false,
     "task": false
    },
    "tags": [
     "problem_1a_answer",
     "hide"
    ]
   },
   "outputs": [],
   "source": [
    "#autograder cell"
   ]
  },
  {
   "cell_type": "markdown",
   "metadata": {
    "deletable": false,
    "editable": false,
    "nbgrader": {
     "cell_type": "markdown",
     "checksum": "d49e134d1457ec9a064951a77f519c2c",
     "grade": false,
     "grade_id": "cell-6befc60823bbbb04",
     "locked": true,
     "schema_version": 3,
     "solution": false,
     "task": false
    }
   },
   "source": [
    "### b) $C*D$ where $C = \\begin{bmatrix} 7&6&8&7&4\\\\1&8&2&4&3\\\\6&9&8&1&4\\end{bmatrix}$ and $D = \\begin{bmatrix}8&3\\\\0&4\\\\7&2\\\\3&8\\\\9&2\\end{bmatrix}$\n",
    "(1 point)"
   ]
  },
  {
   "cell_type": "code",
   "execution_count": 4,
   "metadata": {
    "deletable": false,
    "nbgrader": {
     "cell_type": "code",
     "checksum": "6c04b2c3579d94ca676b8db56bf2052c",
     "grade": false,
     "grade_id": "1b",
     "locked": false,
     "schema_version": 3,
     "solution": true,
     "task": false
    },
    "tags": [
     "problem_1b"
    ]
   },
   "outputs": [
    {
     "data": {
      "text/plain": [
       "3×2 Matrix{Int64}:\n",
       " 169  125\n",
       "  61   77\n",
       " 143   86"
      ]
     },
     "metadata": {},
     "output_type": "display_data"
    }
   ],
   "source": [
    "#Partition C \n",
    "c1row = [7 6 8 7 4]\n",
    "c2row = [1 8 2 4 3]\n",
    "c3row = [6 9 8 1 4]\n",
    "\n",
    "#Partition D\n",
    "d1col = [8; 0; 7; 3; 9]\n",
    "d2col = [3; 4; 2; 8; 2]\n",
    "\n",
    "#Compute the matric product and return answer in a variable called answer1b\n",
    "\n",
    "answer1b = [c1row * d1col c1row * d2col; c2row * d1col c2row *d2col; c3row * d1col c3row * d2col]\n"
   ]
  },
  {
   "cell_type": "code",
   "execution_count": 5,
   "metadata": {},
   "outputs": [
    {
     "name": "stdout",
     "output_type": "stream",
     "text": [
      "all nothings means likely correct\n"
     ]
    },
    {
     "data": {
      "text/plain": [
       "1×2 Matrix{Nothing}:\n",
       " nothing  nothing"
      ]
     },
     "metadata": {},
     "output_type": "display_data"
    }
   ],
   "source": [
    "println(\"all nothings means likely correct\")\n",
    "T1 = @assert (661 == sum(answer1b))\n",
    "T2 = @assert (answer1b[1,1] == 169)\n",
    "[T1 T2]"
   ]
  },
  {
   "cell_type": "code",
   "execution_count": 6,
   "metadata": {
    "deletable": false,
    "editable": false,
    "nbgrader": {
     "cell_type": "code",
     "checksum": "a956b013756e96ac754b6f4c784bd1be",
     "grade": true,
     "grade_id": "1bTest",
     "locked": true,
     "points": 1,
     "schema_version": 3,
     "solution": false,
     "task": false
    },
    "tags": [
     "problem_1b_answer",
     "hide"
    ]
   },
   "outputs": [],
   "source": [
    "#autograder cell"
   ]
  },
  {
   "cell_type": "markdown",
   "metadata": {},
   "source": [
    "### c) Resultant Size Review (1 point)\n",
    "\n",
    "Access the elements in the 4 corners of the matrix product of C * D using indexing and store them in the variables upperLeft, upperRight, bottomLeft, and bottomRight. We'll work one of them for you."
   ]
  },
  {
   "cell_type": "code",
   "execution_count": 8,
   "metadata": {
    "deletable": false,
    "nbgrader": {
     "cell_type": "code",
     "checksum": "8d03fe1dfb9f6cf2995a9de5bd09d9a0",
     "grade": false,
     "grade_id": "1c",
     "locked": false,
     "schema_version": 3,
     "solution": true,
     "task": false
    }
   },
   "outputs": [
    {
     "data": {
      "text/plain": [
       "143"
      ]
     },
     "metadata": {},
     "output_type": "display_data"
    }
   ],
   "source": [
    "C = [c1row; c2row; c3row]\n",
    "D = [8 3; 0 4; 7 2; 3 8; 9 2]\n",
    "matProduct = C * D\n",
    "\n",
    "#Your answers here\n",
    "\n",
    "upperLeft = matProduct[1, 1]\n",
    "upperRight = matProduct[1, 2]\n",
    "bottomRight = matProduct[3, 2]\n",
    "bottomLeft = matProduct[3,1]\n",
    "\n",
    "# your code here"
   ]
  },
  {
   "cell_type": "code",
   "execution_count": 9,
   "metadata": {
    "deletable": false,
    "editable": false,
    "nbgrader": {
     "cell_type": "code",
     "checksum": "d43bf74a4780706b61bc1682390a6271",
     "grade": true,
     "grade_id": "1cTest",
     "locked": true,
     "points": 1,
     "schema_version": 3,
     "solution": false,
     "task": false
    }
   },
   "outputs": [],
   "source": [
    "#autograder cell"
   ]
  },
  {
   "cell_type": "markdown",
   "metadata": {
    "deletable": false,
    "editable": false,
    "nbgrader": {
     "cell_type": "markdown",
     "checksum": "e160b244008c93e69a325c7e056edbdb",
     "grade": false,
     "grade_id": "cell-11b9a0e4128b893d",
     "locked": true,
     "schema_version": 3,
     "solution": false,
     "task": false
    }
   },
   "source": [
    "$$A\\cdot B = \\sum_{i=1}^{k} a_i^{\\rm col} \\cdot b_i^{\\rm row},  $$\n",
    "where $k$ is the number of columns in $A$, which must match the number of rows in $B$\n",
    "### Problem 2.  Summing over Columns and Rows (1 + 2)\n",
    "Partition the following matrices, then compute the matrix by our second method of matrix multiplication that uses the summation over columns times rows.\n",
    "\n",
    "### a.  $F*G$ where $F = \\begin{bmatrix}5&1&3\\\\8&2&0\\\\1&7&6\\\\8&2&1\\end{bmatrix}$ and $G = \\begin{bmatrix}2&4\\\\8&1\\\\7&0\\end{bmatrix}$\n",
    "(1 point)"
   ]
  },
  {
   "cell_type": "code",
   "execution_count": 10,
   "metadata": {
    "deletable": false,
    "nbgrader": {
     "cell_type": "code",
     "checksum": "211de2723da7e6402e6d06624275fb05",
     "grade": false,
     "grade_id": "2a",
     "locked": false,
     "schema_version": 3,
     "solution": true,
     "task": false
    },
    "tags": [
     "problem_2a"
    ]
   },
   "outputs": [
    {
     "data": {
      "text/plain": [
       "4×2 Matrix{Int64}:\n",
       "  39  21\n",
       "  32  34\n",
       " 100  11\n",
       "  39  34"
      ]
     },
     "metadata": {},
     "output_type": "display_data"
    }
   ],
   "source": [
    "#partition F into columns\n",
    "f1col = [5; 8; 1; 8]\n",
    "f2col = [1; 2; 7; 2]\n",
    "f3col = [3; 0; 6; 1]\n",
    "\n",
    "#partition G into rows\n",
    "g1row = [2 4]\n",
    "g2row = [8 1]\n",
    "g3row = [7 0]\n",
    "\n",
    "#compute the product by adding up the products of the columns of F times the rows of G.  \n",
    "#Return your answer as answer2a\n",
    "\n",
    "# While you can use a for loop here, we not expecting you to do that. \n",
    "# Simply adding up three terms is fine!\n",
    "\n",
    "\n",
    "answer2a = f1col * g1row + f2col * g2row + f3col * g3row\n",
    "\n"
   ]
  },
  {
   "cell_type": "code",
   "execution_count": 11,
   "metadata": {},
   "outputs": [
    {
     "name": "stdout",
     "output_type": "stream",
     "text": [
      "all nothings means likely correct\n"
     ]
    },
    {
     "data": {
      "text/plain": [
       "1×2 Matrix{Nothing}:\n",
       " nothing  nothing"
      ]
     },
     "metadata": {},
     "output_type": "display_data"
    }
   ],
   "source": [
    "# One of our indirect tests to help you out! \n",
    "println(\"all nothings means likely correct\")\n",
    "T1 = @assert (310 == sum(answer2a))\n",
    "T2 = @assert (39 == answer2a[1,1])\n",
    "[T1 T2]"
   ]
  },
  {
   "cell_type": "code",
   "execution_count": 12,
   "metadata": {
    "deletable": false,
    "editable": false,
    "nbgrader": {
     "cell_type": "code",
     "checksum": "86748497750eeeab287ea87c68d789c4",
     "grade": true,
     "grade_id": "2aTest",
     "locked": true,
     "points": 1,
     "schema_version": 3,
     "solution": false,
     "task": false
    },
    "tags": [
     "problem_2a_answer",
     "hide"
    ]
   },
   "outputs": [],
   "source": [
    "#autograder cell"
   ]
  },
  {
   "cell_type": "markdown",
   "metadata": {
    "deletable": false,
    "editable": false,
    "nbgrader": {
     "cell_type": "markdown",
     "checksum": "ebfdb29257f43db7d6cb35049edc479a",
     "grade": false,
     "grade_id": "cell-47141b240dc7d123",
     "locked": true,
     "schema_version": 3,
     "solution": false,
     "task": false
    }
   },
   "source": [
    "### b.  Using the same matrices, F and G, construct a FOR loop to compute the matrix multiplication $F*G$ (2 points)\n",
    "Remember this formula, and how it works:$$A\\cdot B = \\sum_{i=1}^{k} a_i^{\\rm col} \\cdot b_i^{\\rm row},  $$\n",
    "where $k$ is the number of columns in $A$, which must match the number of rows in $B$\n",
    "\n",
    "Hint: How many times do we have to multiply a column times a row?  What happens to all of the individual column times row matrices at the end?  Keep track of the sum in the for loop so that you don't have to manually sum at the end."
   ]
  },
  {
   "cell_type": "code",
   "execution_count": 15,
   "metadata": {
    "deletable": false,
    "nbgrader": {
     "cell_type": "code",
     "checksum": "b6eec80aa8ad89368a76580d9c7cb721",
     "grade": false,
     "grade_id": "2b",
     "locked": false,
     "schema_version": 3,
     "solution": true,
     "task": false
    },
    "tags": [
     "problem_2b"
    ]
   },
   "outputs": [
    {
     "data": {
      "text/plain": [
       "4×2 Matrix{Float64}:\n",
       "  39.0  21.0\n",
       "  32.0  34.0\n",
       " 100.0  11.0\n",
       "  39.0  34.0"
      ]
     },
     "metadata": {},
     "output_type": "display_data"
    }
   ],
   "source": [
    "F = [5 1 3; 8 2 0; 1 7 6; 8 2 1]\n",
    "G = [2 4; 8 1; 7 0]\n",
    "\n",
    "#Declare a matrix of zeros the size of the matrix product\n",
    "currentSum = zeros(4,2)\n",
    "#fill in the number of columns of F (or Rows of G)\n",
    "n = 3\n",
    "\n",
    "#the for loop\n",
    "for i in 1:n\n",
    "    #use indexing, and the iterator variable(i) to pick out the column and row,\n",
    "    #then mulitply them together, and update the currentsum\n",
    "    #Be careful when selecting a row vector! \n",
    "    currentSum += F[:, i] * G[i:i, :]\n",
    "    \n",
    "end\n",
    "\n",
    "answer2b = currentSum"
   ]
  },
  {
   "cell_type": "code",
   "execution_count": 16,
   "metadata": {
    "deletable": false,
    "editable": false,
    "nbgrader": {
     "cell_type": "code",
     "checksum": "68e735bf977509042d9d391b705b2d46",
     "grade": true,
     "grade_id": "2bTest",
     "locked": true,
     "points": 2,
     "schema_version": 3,
     "solution": false,
     "task": false
    },
    "tags": [
     "problem_2b_answer",
     "hide"
    ]
   },
   "outputs": [
    {
     "name": "stdout",
     "output_type": "stream",
     "text": [
      "answer2b == answer2a = true\n"
     ]
    },
    {
     "data": {
      "text/plain": [
       "true"
      ]
     },
     "metadata": {},
     "output_type": "display_data"
    }
   ],
   "source": [
    "#autograder cell\n",
    "#You should get the same answer that you got in problem 2a\n",
    "@show answer2b == answer2a"
   ]
  },
  {
   "cell_type": "markdown",
   "metadata": {
    "deletable": false,
    "editable": false,
    "nbgrader": {
     "cell_type": "markdown",
     "checksum": "c10292806398169912371c37fd9dae94",
     "grade": false,
     "grade_id": "cell-4bb3aa2426e7452d",
     "locked": true,
     "schema_version": 3,
     "solution": false,
     "task": false
    }
   },
   "source": [
    "### The Trick:  Matrix Multiplication is Already Built into Julia\n",
    "#### You can simply use the * operator to multiply compatible matrices\n",
    "What?  I did all that for nothing!  No.  By completing the algorithms above, you have followed along the steps that Julia is taking internally. You now understand the inner workings of the computer!\n",
    "\n",
    "Note: You still need to implement problems 1 and 2 as directed, otherwise you will receive no points on the assignment.\n",
    "\n",
    "### Problem 3.  Compute $X*Y$ where $X = \\begin{bmatrix}8&5&2&1\\\\6&1&3&2\\end{bmatrix}$ and $Y = \\begin{bmatrix}4&4&3\\\\7&6&5\\\\0&1&3\\\\9&8&2\\end{bmatrix}$ (1 point)"
   ]
  },
  {
   "cell_type": "code",
   "execution_count": 17,
   "metadata": {
    "deletable": false,
    "nbgrader": {
     "cell_type": "code",
     "checksum": "3b35d237b0dfd26d7fdf2990409b2ab7",
     "grade": false,
     "grade_id": "3",
     "locked": false,
     "schema_version": 3,
     "solution": true,
     "task": false
    },
    "tags": [
     "problem_3"
    ]
   },
   "outputs": [
    {
     "data": {
      "text/plain": [
       "2×3 Matrix{Int64}:\n",
       " 76  72  57\n",
       " 49  49  36"
      ]
     },
     "metadata": {},
     "output_type": "display_data"
    }
   ],
   "source": [
    "#Return your answer as answer3\n",
    "X = [8 5 2 1; 6 1 3 2]\n",
    "Y = [4 4 3; 7 6 5; 0 1 3; 9 8 2]\n",
    "answer3 = X * Y\n"
   ]
  },
  {
   "cell_type": "code",
   "execution_count": 18,
   "metadata": {},
   "outputs": [
    {
     "name": "stdout",
     "output_type": "stream",
     "text": [
      "all nothings means likely correct\n"
     ]
    },
    {
     "data": {
      "text/plain": [
       "1×2 Matrix{Nothing}:\n",
       " nothing  nothing"
      ]
     },
     "metadata": {},
     "output_type": "display_data"
    }
   ],
   "source": [
    "# One of our indirect tests to help you out! \n",
    "println(\"all nothings means likely correct\")\n",
    "T1 = @assert (339 == sum(answer3))\n",
    "T2 = @assert (76 == answer3[1,1])\n",
    "[T1 T2]"
   ]
  },
  {
   "cell_type": "code",
   "execution_count": 19,
   "metadata": {
    "deletable": false,
    "editable": false,
    "nbgrader": {
     "cell_type": "code",
     "checksum": "78bae57f11ec52f25e8a5c4a2f05ac52",
     "grade": true,
     "grade_id": "3test",
     "locked": true,
     "points": 1,
     "schema_version": 3,
     "solution": false,
     "task": false
    },
    "tags": [
     "problem_3_answer",
     "hide"
    ]
   },
   "outputs": [],
   "source": [
    "#autograder cell"
   ]
  },
  {
   "cell_type": "markdown",
   "metadata": {},
   "source": [
    "### Problem 4: Zero the rows and columns of a matrix, as taught in lecture (1 point)"
   ]
  },
  {
   "cell_type": "markdown",
   "metadata": {},
   "source": [
    "#### Example"
   ]
  },
  {
   "cell_type": "code",
   "execution_count": 20,
   "metadata": {},
   "outputs": [
    {
     "data": {
      "text/plain": [
       "4×7 Matrix{Float64}:\n",
       " -0.415151    2.83404    0.737731  …  -1.07738    -1.10624   -1.2748\n",
       " -0.0687448  -0.464602  -0.140971      0.977113   -1.03056    1.00969\n",
       " -0.186166   -0.410705  -0.814948      0.672405   -1.62843    0.167308\n",
       "  1.73483     1.19289   -0.149247      0.0818541   0.384629   0.788431"
      ]
     },
     "metadata": {},
     "output_type": "display_data"
    }
   ],
   "source": [
    "# Run me don't change me\n",
    "using Random\n",
    "using LinearAlgebra\n",
    "Random.seed!(09162021)\n",
    "A=randn(4,7)"
   ]
  },
  {
   "cell_type": "code",
   "execution_count": 21,
   "metadata": {},
   "outputs": [
    {
     "data": {
      "text/plain": [
       "4×7 Matrix{Float64}:\n",
       " 0.0   0.0        0.0        0.0        0.0       0.0        0.0\n",
       " 0.0  -0.933891  -0.263131   1.06439    1.15552  -0.847381   1.22078\n",
       " 0.0  -1.68157   -1.14577    0.693582   1.15554  -1.13236    0.738965\n",
       " 0.0  13.0358     2.93358   -2.19934   -4.4203   -4.2381    -4.53868"
      ]
     },
     "metadata": {},
     "output_type": "display_data"
    }
   ],
   "source": [
    "# Run me don't change me\n",
    "# Note that something of the size e-16 is numerically equal to zero!!\n",
    "pivot = A[1,1]\n",
    "C1=A[:,1]/pivot\n",
    "R1=A[1:1,:]\n",
    "Temp=A-C1*R1"
   ]
  },
  {
   "cell_type": "markdown",
   "metadata": {},
   "source": [
    "#### Your challenge is now to zero the second row and second column of Temp. Call your answer Temp."
   ]
  },
  {
   "cell_type": "code",
   "execution_count": 22,
   "metadata": {
    "deletable": false,
    "nbgrader": {
     "cell_type": "code",
     "checksum": "f35fe5ca657a25e58583a489757dd339",
     "grade": false,
     "grade_id": "4",
     "locked": false,
     "schema_version": 3,
     "solution": true,
     "task": false
    }
   },
   "outputs": [
    {
     "data": {
      "text/plain": [
       "4×7 Matrix{Float64}:\n",
       " 0.0  0.0   0.0        0.0       0.0       0.0        0.0\n",
       " 0.0  0.0   0.0        0.0       0.0       0.0        0.0\n",
       " 0.0  0.0  -0.671971  -1.22297  -0.9251    0.393441  -1.45919\n",
       " 0.0  0.0  -0.739358  12.658    11.709   -16.0663    12.5017"
      ]
     },
     "metadata": {},
     "output_type": "display_data"
    }
   ],
   "source": [
    "# Define pivot, C2, R2 and then compute Temp\n",
    "pivot = Temp[2,2]\n",
    "C2= Temp[:,2]/pivot\n",
    "R2= Temp[2:2,:]\n",
    "Temp = Temp - C2*R2\n"
   ]
  },
  {
   "cell_type": "code",
   "execution_count": null,
   "metadata": {},
   "outputs": [
    {
     "name": "stdout",
     "output_type": "stream",
     "text": [
      "all nothings means likely correct\n"
     ]
    },
    {
     "data": {
      "text/plain": [
       "1×2 Matrix{Nothing}:\n",
       " nothing  nothing"
      ]
     },
     "metadata": {},
     "output_type": "display_data"
    }
   ],
   "source": [
    "# One of our indirect tests to help you out! \n",
    "println(\"all nothings means likely correct\")\n",
    "#T1 = @assert (isapprox(-2.9182429724073566, sum(Temp), atol = 1E-9)) #I think this is an issue with the random number generator again\n",
    "T2 = @assert (isapprox(Temp[2,2], 0, atol = 1E-9))\n",
    "[T1 T2]"
   ]
  },
  {
   "cell_type": "code",
   "execution_count": 25,
   "metadata": {
    "deletable": false,
    "editable": false,
    "nbgrader": {
     "cell_type": "code",
     "checksum": "b2f41ca9a3c7a43ef152fe3b0b19f000",
     "grade": true,
     "grade_id": "4test",
     "locked": true,
     "points": 1,
     "schema_version": 3,
     "solution": false,
     "task": false
    }
   },
   "outputs": [],
   "source": [
    "#autograder cell\n"
   ]
  },
  {
   "cell_type": "markdown",
   "metadata": {
    "deletable": false,
    "editable": false,
    "nbgrader": {
     "cell_type": "markdown",
     "checksum": "06e0694a193797b7b512eb46b72e5d53",
     "grade": false,
     "grade_id": "cell-5197de8c288eabf0",
     "locked": true,
     "schema_version": 3,
     "solution": false,
     "task": false
    }
   },
   "source": [
    "<img src=\"https://i.postimg.cc/TY79tX04/LUfactorization-No-Permutations.png\" width=\"700\">\n",
    "\n",
    "\n",
    "### Problem 5. LU Factorization Step by Step (1 point)\n",
    "Follow Algorithm 1 (above), taken from chapter 5 of the course booklet, step by step in Julia, to perform an LU Factorization on Matrix M. Name the lower triangular matrix L and the upper triangular matrix U.\n",
    "$$ M = \\begin{bmatrix}6&5&4\\\\12&19&14\\\\24&35&32\\end{bmatrix}$$\n",
    "We are going to do it step by step, just as if you were writing it out as a HW Drill Problem solution. Then, in the next problem, we'll program it up as an honest to goodness algorithm!"
   ]
  },
  {
   "cell_type": "code",
   "execution_count": 29,
   "metadata": {
    "deletable": false,
    "nbgrader": {
     "cell_type": "code",
     "checksum": "327ef45f54fe7180802d553827027ed6",
     "grade": false,
     "grade_id": "5",
     "locked": false,
     "schema_version": 3,
     "solution": true,
     "task": false
    }
   },
   "outputs": [
    {
     "name": "stdout",
     "output_type": "stream",
     "text": [
      "temp = [0.0 0.0 0.0; 0.0 9.0 6.0; 0.0 15.0 16.0]\n",
      "temp = [0.0 0.0 0.0; 0.0 0.0 0.0; 0.0 0.0 6.0]\n",
      "temp = [0.0 0.0 0.0; 0.0 0.0 0.0; 0.0 0.0 0.0]\n",
      "L = [1.0 0.0 0.0; 2.0 1.0 0.0; 4.0 1.6666666666666667 1.0]\n",
      "U = [6.0 5.0 4.0; 0.0 9.0 6.0; 0.0 0.0 6.0]\n"
     ]
    },
    {
     "data": {
      "text/plain": [
       "3×3 Matrix{Float64}:\n",
       " 6.0  5.0  4.0\n",
       " 0.0  9.0  6.0\n",
       " 0.0  0.0  6.0"
      ]
     },
     "metadata": {},
     "output_type": "display_data"
    }
   ],
   "source": [
    "L = [0.0 0.0 0.0; 0.0 0.0 0.0; 0.0 0.0 0.0]\n",
    "U = [0.0 0.0 0.0; 0.0 0.0 0.0; 0.0 0.0 0.0]\n",
    "# Do all of your work in this cell\n",
    "# here, we will NOT test that the pivot is non-zero and just hope for the best!\n",
    "M = [6 5 4; 12 19 14; 24 35 32]\n",
    "temp=copy(M)\n",
    "n,m = size(M)\n",
    "k=1\n",
    "C=temp[:,k]\n",
    "pivot=C[k]\n",
    "C=C/pivot  # Let's hope we do not divide by zero! Yikes!!! \n",
    "L[:,1] = C\n",
    "R=temp[k,:]' # recall, we have to do the transpose in Julia to get a row vector or we use R=temp[k:k,:]\n",
    "U[1:1, :] = R\n",
    "\n",
    "temp = temp-C*R\n",
    "@show temp\n",
    "# Run this code now and make sure that temp has a zero first column and a zero first row\n",
    "\n",
    "# Now its your turn\n",
    "k=2 #now k will be 2, and we will repeat the steps again for the second column and row\n",
    "#you will need to repeat this process n times, where n is the number of rows/columns in M\n",
    "\n",
    "#student code here\n",
    "C=temp[:,k]\n",
    "pivot=C[k]\n",
    "C=C/pivot  # Let's hope we do not divide by zero! Yikes!!! \n",
    "L[:,2] = C\n",
    "R=temp[k,:]' # recall, we have to do the transpose in Julia to get a row vector or we use R=temp[k:k,:]\n",
    "U[2:2,:] = R\n",
    "temp = temp-C*R\n",
    "@show temp\n",
    "\n",
    "k=3 #now k will be 2, and we will repeat the steps again for the second column and row\n",
    "#you will need to repeat this process n times, where n is the number of rows/columns in M\n",
    "\n",
    "#student code here\n",
    "C=temp[:,k]\n",
    "pivot=C[k]\n",
    "C=C/pivot  # Let's hope we do not divide by zero! Yikes!!! \n",
    "L[:,3] = C\n",
    "R=temp[k,:]' # recall, we have to do the transpose in Julia to get a row vector or we use R=temp[k:k,:]\n",
    "U[3:3,:] = R\n",
    "temp = temp-C*R\n",
    "@show temp\n",
    "\n",
    "\n",
    "#Now return L and U\n",
    "@show L\n",
    "@show U"
   ]
  },
  {
   "cell_type": "code",
   "execution_count": 30,
   "metadata": {},
   "outputs": [
    {
     "name": "stdout",
     "output_type": "stream",
     "text": [
      "all nothings means likely correct\n"
     ]
    },
    {
     "data": {
      "text/plain": [
       "1×2 Matrix{Nothing}:\n",
       " nothing  nothing"
      ]
     },
     "metadata": {},
     "output_type": "display_data"
    }
   ],
   "source": [
    "# One of our indirect tests to help you out! \n",
    "println(\"all nothings means likely correct\")\n",
    "T1 = @assert isapprox(abs(sum(L)), 10.666666666666666, atol = 1E-9)\n",
    "T2 = @assert isapprox(abs(sum(U)), 36, atol = 1E-9)\n",
    "\n",
    "[T1 T2]"
   ]
  },
  {
   "cell_type": "code",
   "execution_count": 31,
   "metadata": {
    "deletable": false,
    "editable": false,
    "nbgrader": {
     "cell_type": "code",
     "checksum": "e9be7f31119c1ad03dd6e7b9f51791e9",
     "grade": true,
     "grade_id": "5test",
     "locked": true,
     "points": 1,
     "schema_version": 3,
     "solution": false,
     "task": false
    }
   },
   "outputs": [],
   "source": [
    "#autograder cell"
   ]
  },
  {
   "cell_type": "markdown",
   "metadata": {
    "deletable": false,
    "editable": false,
    "nbgrader": {
     "cell_type": "markdown",
     "checksum": "64c806a9a993530082afc72972e61fbe",
     "grade": false,
     "grade_id": "cell-ce0c0c1435b23465",
     "locked": true,
     "schema_version": 3,
     "solution": false,
     "task": false
    }
   },
   "source": [
    "### Problem 6. LU Factorization in Code (2 points)\n",
    "\n",
    "<img src=\"https://i.postimg.cc/TY79tX04/LUfactorization-No-Permutations.png\" width=\"700\">\n",
    "\n",
    "\n",
    "Implement Algorithm 1(above), taken from chapter 5 of the course booklet, in code to perform an LU Factorization on Matrix M.\n",
    "$$ M = \\begin{bmatrix}6&5&4\\\\12&19&14\\\\24&35&32\\end{bmatrix}$$\n",
    "\n",
    "Remark: When you first implement the algorithm using a for loop, don't worry about checking that the pivot \n",
    "is non-zero. Add that at the very end. "
   ]
  },
  {
   "cell_type": "code",
   "execution_count": 33,
   "metadata": {
    "deletable": false,
    "nbgrader": {
     "cell_type": "code",
     "checksum": "fb538c5b96828d8519791b1d2dc3e55a",
     "grade": false,
     "grade_id": "6",
     "locked": false,
     "schema_version": 3,
     "solution": true,
     "task": false
    },
    "tags": [
     "problem_5"
    ]
   },
   "outputs": [
    {
     "name": "stdout",
     "output_type": "stream",
     "text": [
      "Matrix requires row permutations\n",
      "Step where algorithm failed is k= 1\n"
     ]
    }
   ],
   "source": [
    "#declare M\n",
    "M = [6 5 4; 12 19 14; 24 35 32]\n",
    "#initialization\n",
    "n,m = size(M)\n",
    "temp = copy(M)\n",
    "L = Array{Float64,2}(undef, n, 0)  #~~~\\# L=[] Empty matrix\\\\\n",
    "U = Array{Float64,2}(undef, 0, n)  #~~~\\# R=[] Empty matrix\\\\\n",
    "flag = 1\n",
    "#end initialization\n",
    "\n",
    "#Your turn! Translate the rest of the algorithm to code here(use a for loop and an if statement)\n",
    "# your code here\n",
    "for k in 1:n\n",
    "    C=Temp[:,k]\n",
    "    pivot = C[k]\n",
    "    R = Temp[k,:]'\n",
    "    if !isapprox(pivot, 0.0, atol = 1E-8)\n",
    "        C = C/pivot\n",
    "        Temp = Temp - C*R\n",
    "        L = [L C]\n",
    "        U = [U; R]\n",
    "    else \n",
    "        Flag = 0\n",
    "        println(\"Matrix requires row permutations\")\n",
    "        println(\"Step where algorithm failed is k= $k\")\n",
    "        break\n",
    "    end\n",
    "end\n"
   ]
  },
  {
   "cell_type": "code",
   "execution_count": 34,
   "metadata": {},
   "outputs": [
    {
     "name": "stdout",
     "output_type": "stream",
     "text": [
      "all nothings means likely correct\n"
     ]
    },
    {
     "ename": "AssertionError",
     "evalue": "AssertionError: isapprox(abs(sum(L)), 10.666666666666666, atol = 1.0e-9)",
     "output_type": "error",
     "traceback": [
      "AssertionError: isapprox(abs(sum(L)), 10.666666666666666, atol = 1.0e-9)\n",
      "\n",
      "Stacktrace:\n",
      " [1] top-level scope\n",
      "   @ ~/Documents/GitHub/ROB101/Fall 2021/Homework/Homework 3/jl_notebook_cell_df34fa98e69747e1a8f8a730347b8e2f_X54sZmlsZQ==.jl:3"
     ]
    }
   ],
   "source": [
    "# One of our indirect tests to help you out! \n",
    "println(\"all nothings means likely correct\")\n",
    "T1 = @assert isapprox(abs(sum(L)), 10.666666666666666, atol = 1E-9)\n",
    "T2 = @assert isapprox(abs(sum(U)), 36, atol = 1E-9)\n",
    "\n",
    "[T1 T2]"
   ]
  },
  {
   "cell_type": "code",
   "execution_count": null,
   "metadata": {
    "deletable": false,
    "editable": false,
    "nbgrader": {
     "cell_type": "code",
     "checksum": "a503a76194ec9389a4e6770c48e8029b",
     "grade": true,
     "grade_id": "6test",
     "locked": true,
     "points": 2,
     "schema_version": 3,
     "solution": false,
     "task": false
    },
    "tags": [
     "problem_5_answer",
     "hide"
    ]
   },
   "outputs": [],
   "source": [
    "#autograder cell"
   ]
  },
  {
   "cell_type": "markdown",
   "metadata": {
    "deletable": false,
    "editable": false,
    "nbgrader": {
     "cell_type": "markdown",
     "checksum": "325ce981a9f3f1d4f136af1eaacb3e96",
     "grade": false,
     "grade_id": "cell-e302cba6d04119ca",
     "locked": true,
     "schema_version": 3,
     "solution": false,
     "task": false
    }
   },
   "source": [
    "#### Congratulations! You just translated an algorithm to code.  This is a key skill for a computer or data scientist.\n",
    "\n",
    "The good news:  Julia has a built in function that will do the LU factorization for you.  Actually, there are two functions. If we use the LinearAlgebra package, we can find the L and U factors by simply typing:\n",
    "<br> <br>   (L, U) = lu(M, Val(false))\n",
    "\n",
    "<br> You can also use factorize(M), but it is not reccomended because this multiple-dispatch-function may return a different type of factorization than an LU. \n",
    "\n",
    "Note:  You still need to complete the algorithm above to get points.  It is important that you understand how the algorithm can be done both by hand and by Julia.  Computers exist to make your life easier, but in order for them to do that, you have to understand how they work, and how to use them."
   ]
  },
  {
   "cell_type": "code",
   "execution_count": 35,
   "metadata": {},
   "outputs": [
    {
     "data": {
      "text/plain": [
       "LU{Float64, Matrix{Float64}, Vector{Int64}}\n",
       "L factor:\n",
       "3×3 Matrix{Float64}:\n",
       " 1.0  0.0      0.0\n",
       " 2.0  1.0      0.0\n",
       " 4.0  1.66667  1.0\n",
       "U factor:\n",
       "3×3 Matrix{Float64}:\n",
       " 6.0  5.0  4.0\n",
       " 0.0  9.0  6.0\n",
       " 0.0  0.0  6.0"
      ]
     },
     "metadata": {},
     "output_type": "display_data"
    }
   ],
   "source": [
    "using LinearAlgebra\n",
    "#LU decomposition without permutations ~Val(false)~\n",
    "(lower, upper) = lu(M, Val(false))"
   ]
  },
  {
   "cell_type": "code",
   "execution_count": 36,
   "metadata": {},
   "outputs": [
    {
     "data": {
      "text/plain": [
       "true"
      ]
     },
     "metadata": {},
     "output_type": "display_data"
    }
   ],
   "source": [
    "#Check that the factorization is correct\n",
    "lower*upper == M"
   ]
  },
  {
   "cell_type": "markdown",
   "metadata": {
    "deletable": false,
    "editable": false,
    "nbgrader": {
     "cell_type": "markdown",
     "checksum": "8edc655f9272b1a2468d32a27c7cdf1e",
     "grade": false,
     "grade_id": "cell-6f97cf517f7225e0",
     "locked": true,
     "schema_version": 3,
     "solution": false,
     "task": false
    }
   },
   "source": [
    "Note: If you leave off the Val(false) argument, lu() will use permutations, and then $L * U \\ne M$\n",
    "\n",
    "\n",
    "For a more in depth explanation about julia's factorization, visit:\n",
    "https://julia.quantecon.org/tools_and_techniques/numerical_linear_algebra.html"
   ]
  },
  {
   "cell_type": "markdown",
   "metadata": {
    "deletable": false,
    "editable": false,
    "nbgrader": {
     "cell_type": "markdown",
     "checksum": "9706e5ca7bc7bd43713a79855e60fd46",
     "grade": false,
     "grade_id": "cell-e008d451016b1674",
     "locked": true,
     "schema_version": 3,
     "solution": false,
     "task": false
    }
   },
   "source": [
    "### Problem 7.  Copy your algorithm from problem 5 into the cell below and run your LU Factorization on a 100 x 100 random matrix (1 point)\n"
   ]
  },
  {
   "cell_type": "code",
   "execution_count": null,
   "metadata": {
    "deletable": false,
    "nbgrader": {
     "cell_type": "code",
     "checksum": "7e6016c2e597bcf09fade99c2b04b11e",
     "grade": false,
     "grade_id": "7",
     "locked": false,
     "schema_version": 3,
     "solution": true,
     "task": false
    },
    "tags": [
     "problem_6"
    ]
   },
   "outputs": [],
   "source": [
    "N=100\n",
    "M=rand(N,N)\n",
    "#copy your algorithm below to return L and U factors of M, a 100 by 100 matrix\n",
    "# your code here\n",
    "throw(ErrorException())"
   ]
  },
  {
   "cell_type": "code",
   "execution_count": null,
   "metadata": {
    "deletable": false,
    "editable": false,
    "nbgrader": {
     "cell_type": "code",
     "checksum": "5da94d01d902f00026b8f17a41022360",
     "grade": true,
     "grade_id": "7test",
     "locked": true,
     "points": 1,
     "schema_version": 3,
     "solution": false,
     "task": false
    },
    "tags": [
     "problem_6_selfcheck"
    ]
   },
   "outputs": [],
   "source": [
    "# One of our indirect tests to help you out! \n",
    "# Check your answers\n",
    "\n",
    "println(\"all nothings means likely correct\")\n",
    "# Check your answer\n",
    "T1 = @assert isapprox(M, L*U, atol = 1E-9)\n",
    "\n",
    "# We have not covered norms of matrices and vectors yet in lecture, but\n",
    "# but you can think of it as a genralized notion of ``length''. \n",
    "# Hence, the norm will be small when all of the entries of the matrix are small\n",
    "# A 100 x 100 matrix has 10,000 entries...a bit much to inspect one by one! \n",
    "T2 = @assert isapprox(norm(M-L*U), 0, atol = 1E-9) \n",
    "\n",
    "[T1 T2]"
   ]
  },
  {
   "cell_type": "code",
   "execution_count": null,
   "metadata": {},
   "outputs": [],
   "source": []
  }
 ],
 "metadata": {
  "kernelspec": {
   "display_name": "Julia 1.11.1",
   "language": "julia",
   "name": "julia-1.11"
  },
  "language_info": {
   "file_extension": ".jl",
   "mimetype": "application/julia",
   "name": "julia",
   "version": "1.11.1"
  }
 },
 "nbformat": 4,
 "nbformat_minor": 4
}
