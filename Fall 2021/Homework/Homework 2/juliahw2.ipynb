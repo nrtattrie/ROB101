{
 "cells": [
  {
   "cell_type": "markdown",
   "metadata": {
    "deletable": false,
    "editable": false,
    "nbgrader": {
     "cell_type": "markdown",
     "checksum": "b0a00d52f24f858cfc42fa818cd86ed1",
     "grade": false,
     "grade_id": "cell-08867b481bd596ec",
     "locked": true,
     "schema_version": 3,
     "solution": false,
     "task": false
    }
   },
   "source": [
    "University of Michigan - ROB 101 Computational Linear Algebra"
   ]
  },
  {
   "cell_type": "markdown",
   "metadata": {
    "deletable": false,
    "editable": false,
    "nbgrader": {
     "cell_type": "markdown",
     "checksum": "54195e2c13d9ca879dee84a1503ff3ac",
     "grade": false,
     "grade_id": "cell-a44f049c0da7cd2c",
     "locked": true,
     "schema_version": 3,
     "solution": false,
     "task": false
    }
   },
   "source": [
    "# Homework 2: Vectors, Matrices and Linear Systems\n",
    "### Due:  9/17 at 9 PM eastern\n",
    "\n",
    "#### Purpose:  Become comfortable using vectors and matrices in code \n",
    "- Skills: \n",
    "    - Declaring vectors and matrices\n",
    "    - Indexing into vectors/matrices\n",
    "    - Writing systems of linear equations in matrix form\n",
    "- Knowledge:\n",
    "    - Matrix manipulation (central to linear algebra)\n",
    "\n",
    "#### Task: For this assignment, fill in the code blocks as directed to achieve the desired output."
   ]
  },
  {
   "cell_type": "markdown",
   "metadata": {
    "deletable": false,
    "editable": false,
    "nbgrader": {
     "cell_type": "markdown",
     "checksum": "a7a5608440be6c97320a21149ea7244c",
     "grade": false,
     "grade_id": "cell-d374bbccfd0f1567",
     "locked": true,
     "schema_version": 3,
     "solution": false,
     "task": false
    }
   },
   "source": [
    "### Problem 1.  Indexing (1+1+1 points)\n",
    "### a) return the biggest number in the matrix bigNumbers with indexing"
   ]
  },
  {
   "cell_type": "code",
   "execution_count": null,
   "metadata": {
    "deletable": false,
    "nbgrader": {
     "cell_type": "code",
     "checksum": "b91f7a93c2ef0c3571d0282ff634c7b5",
     "grade": false,
     "grade_id": "4a",
     "locked": false,
     "schema_version": 3,
     "solution": true,
     "task": false
    }
   },
   "outputs": [
    {
     "name": "stdout",
     "output_type": "stream",
     "text": [
      "Biggest: 43635\n"
     ]
    }
   ],
   "source": [
    "bigNumbers = [1 34 6 56 7 234 6 5; 3 43635 2 35 6 234 6 23; 235 56 2 46 56 3 234 6; 87 23 8 23 9 47 0 8]\n",
    "\n",
    "#store the biggest number in a variable called biggestNum\n",
    "# your code here\n",
    "biggestNum = bigNumbers[1, 1]\n",
    "for i in 1:4\n",
    "    for j in 1:8\n",
    "        if bigNumbers[i, j] > biggestNum\n",
    "            biggestNum = bigNumbers[i, j]\n",
    "        end\n",
    "    end\n",
    "end\n",
    "#return the biggest number \n",
    "println(\"Biggest: \", biggestNum)"
   ]
  },
  {
   "cell_type": "code",
   "execution_count": 3,
   "metadata": {
    "deletable": false,
    "editable": false,
    "nbgrader": {
     "cell_type": "code",
     "checksum": "179b0d112188cb8dc2ccfd4c632ce61e",
     "grade": true,
     "grade_id": "4aTest",
     "locked": true,
     "points": 1,
     "schema_version": 3,
     "solution": false,
     "task": false
    }
   },
   "outputs": [],
   "source": [
    "#autograder cell\n",
    "#this cell will not output anything but make sure to run it so your answer is checked"
   ]
  },
  {
   "cell_type": "markdown",
   "metadata": {
    "deletable": false,
    "editable": false,
    "nbgrader": {
     "cell_type": "markdown",
     "checksum": "b8c9fcc180e7f858b4d3230753734f75",
     "grade": false,
     "grade_id": "cell-55d6d9a6ea34b13a",
     "locked": true,
     "schema_version": 3,
     "solution": false,
     "task": false
    }
   },
   "source": [
    "### b) return the column containing the biggest number as a column vector called bigColumn\n",
    "\n",
    "Hint:  In indexing, the colon : operator in place of a row or column indicates that all the rows/columns will be selected"
   ]
  },
  {
   "cell_type": "code",
   "execution_count": null,
   "metadata": {
    "deletable": false,
    "nbgrader": {
     "cell_type": "code",
     "checksum": "7c64934027dfb72a9c757e95200a4085",
     "grade": false,
     "grade_id": "4b",
     "locked": false,
     "schema_version": 3,
     "solution": true,
     "task": false
    }
   },
   "outputs": [
    {
     "name": "stdout",
     "output_type": "stream",
     "text": [
      "Biggest: 2\n"
     ]
    }
   ],
   "source": [
    "#Use indexing to return bigColumn\n"
   ]
  },
  {
   "cell_type": "code",
   "execution_count": 5,
   "metadata": {
    "deletable": false,
    "editable": false,
    "nbgrader": {
     "cell_type": "code",
     "checksum": "71864e19c907d5b840daed210012e743",
     "grade": true,
     "grade_id": "4bTest",
     "locked": true,
     "points": 1,
     "schema_version": 3,
     "solution": false,
     "task": false
    }
   },
   "outputs": [],
   "source": [
    "#autograder cell"
   ]
  },
  {
   "cell_type": "markdown",
   "metadata": {
    "deletable": false,
    "editable": false,
    "nbgrader": {
     "cell_type": "markdown",
     "checksum": "8b0bb7a6e865aec7270af43cddb525fa",
     "grade": false,
     "grade_id": "cell-91426e447e0d88ca",
     "locked": true,
     "schema_version": 3,
     "solution": false,
     "task": false
    }
   },
   "source": [
    "### c) return the row containing the biggest number as a row vector\n",
    "\n",
    "Hint:  You will probably need to transpose this vector.  Julia will automatically return a column vector, even though you are selecting a row, so you will need to transpose to convert it to a row vector with a single quote( ' ) after the vector statement.\n"
   ]
  },
  {
   "cell_type": "code",
   "execution_count": 6,
   "metadata": {
    "deletable": false,
    "editable": false,
    "nbgrader": {
     "cell_type": "code",
     "checksum": "5a00e312bd8323615d184c4310dcb318",
     "grade": false,
     "grade_id": "cell-d7d87f2ab53a0e47",
     "locked": true,
     "schema_version": 3,
     "solution": false,
     "task": false
    }
   },
   "outputs": [
    {
     "name": "stdout",
     "output_type": "stream",
     "text": [
      "Z = [1, 2, 3, 4] = [1, 2, 3, 4]\n",
      "Z' = [1 2 3 4]\n"
     ]
    },
    {
     "data": {
      "text/plain": [
       "1×4 adjoint(::Vector{Int64}) with eltype Int64:\n",
       " 1  2  3  4"
      ]
     },
     "metadata": {},
     "output_type": "display_data"
    }
   ],
   "source": [
    "#Example of transposing\n",
    "# run me don't change me, just an example of transposing\n",
    "@show Z = [1, 2, 3, 4]  #Z is a column vector\n",
    "@show Z'\n",
    "#Z' is a row vector"
   ]
  },
  {
   "cell_type": "code",
   "execution_count": 7,
   "metadata": {
    "deletable": false,
    "nbgrader": {
     "cell_type": "code",
     "checksum": "009a22d1aabdc4ee086a91efffd3bf10",
     "grade": false,
     "grade_id": "4c",
     "locked": false,
     "schema_version": 3,
     "solution": true,
     "task": false
    }
   },
   "outputs": [
    {
     "name": "stdout",
     "output_type": "stream",
     "text": [
      "(bigNumbers[bigRow, :])' = [3 43635 2 35 6 234 6 23]\n"
     ]
    },
    {
     "data": {
      "text/plain": [
       "1×8 adjoint(::Vector{Int64}) with eltype Int64:\n",
       " 3  43635  2  35  6  234  6  23"
      ]
     },
     "metadata": {},
     "output_type": "display_data"
    }
   ],
   "source": [
    "#Return the row as bigRow\n",
    "# bigRow = ??\n",
    "# your code here\n",
    "bigRow = 1\n",
    "biggestNum = bigNumbers[1, 1]\n",
    "\n",
    "# your code here\n",
    "for i in 1:4\n",
    "    for j in 1:8\n",
    "        if bigNumbers[i, j] > biggestNum\n",
    "            biggestNum = bigNumbers[i, j]\n",
    "            bigRow = i\n",
    "        end\n",
    "    end\n",
    "end\n",
    "@show bigNumbers[bigRow, :]'"
   ]
  },
  {
   "cell_type": "code",
   "execution_count": 8,
   "metadata": {
    "deletable": false,
    "editable": false,
    "nbgrader": {
     "cell_type": "code",
     "checksum": "c0dafd5a98e7effdd92a4989dad2075a",
     "grade": true,
     "grade_id": "4cTest",
     "locked": true,
     "points": 1,
     "schema_version": 3,
     "solution": false,
     "task": false
    }
   },
   "outputs": [],
   "source": [
    "#autograder cell"
   ]
  },
  {
   "cell_type": "markdown",
   "metadata": {
    "deletable": false,
    "editable": false,
    "nbgrader": {
     "cell_type": "markdown",
     "checksum": "487676b02a04ab31ea044a6f65b2882c",
     "grade": false,
     "grade_id": "cell-faf2c70ae8e33530",
     "locked": true,
     "schema_version": 3,
     "solution": false,
     "task": false
    }
   },
   "source": [
    "#### Elements of an Array vs Scalars\n",
    "In Julia, there is a difference in type between a 1x1 matrix and a number.  Silly and annoying, but easy to fix.  By using indexing, we can take the number out of the matrix.  We simply use matrix[1]\n",
    "\n",
    "### Problem 2. (1 point) \n",
    "Extract the number from the 1x1 matrix, and put it in a variable called numberInside"
   ]
  },
  {
   "cell_type": "code",
   "execution_count": 9,
   "metadata": {
    "deletable": false,
    "nbgrader": {
     "cell_type": "code",
     "checksum": "6350dc69ee7123e487dae52fb329ccc6",
     "grade": false,
     "grade_id": "5",
     "locked": false,
     "schema_version": 3,
     "solution": true,
     "task": false
    }
   },
   "outputs": [
    {
     "name": "stdout",
     "output_type": "stream",
     "text": [
      "numberInside = 7.01\n"
     ]
    },
    {
     "data": {
      "text/plain": [
       "7.01"
      ]
     },
     "metadata": {},
     "output_type": "display_data"
    }
   ],
   "source": [
    "tinyMatrix = [7.01]\n",
    "#output the number inside tinyMatrix into a variable of type Float64 called numberInside\n",
    "numberInside = tinyMatrix[1]\n",
    "# your code here\n",
    "@show numberInside"
   ]
  },
  {
   "cell_type": "code",
   "execution_count": 10,
   "metadata": {
    "deletable": false,
    "editable": false,
    "nbgrader": {
     "cell_type": "code",
     "checksum": "f675e22899a2f39fb076cb70e4bd1c41",
     "grade": true,
     "grade_id": "5test",
     "locked": true,
     "points": 1,
     "schema_version": 3,
     "solution": false,
     "task": false
    }
   },
   "outputs": [],
   "source": [
    "#autograder cell\n",
    "@assert numberInside == 7.01"
   ]
  },
  {
   "cell_type": "markdown",
   "metadata": {
    "deletable": false,
    "editable": false,
    "nbgrader": {
     "cell_type": "markdown",
     "checksum": "bc85da0de642ded26a91ffa8baea9758",
     "grade": false,
     "grade_id": "cell-579bb04e22065e46",
     "locked": true,
     "schema_version": 3,
     "solution": false,
     "task": false
    }
   },
   "source": [
    "### Problem 3. (1+1 points)\n",
    "This 3 by 3 System of linear equations is from Problem 3 of the written homework.\n",
    "\n",
    "$$ 4x_1  = 8 $$\n",
    "$$  2x_1 - 10x_2 = -2 $$\n",
    "$$ x_1 + 2x_2 - x_3 = 4 $$\n",
    "\n",
    "### a) Create matrices A and b so that Ax = b represents this 3 by 3 system.  $x = \\left[x1; x2; x3\\right]$"
   ]
  },
  {
   "cell_type": "code",
   "execution_count": 13,
   "metadata": {
    "deletable": false,
    "nbgrader": {
     "cell_type": "code",
     "checksum": "30322ac95bdbd542109a8ef4cd5d1d0c",
     "grade": false,
     "grade_id": "6a",
     "locked": false,
     "schema_version": 3,
     "solution": true,
     "task": false
    }
   },
   "outputs": [
    {
     "name": "stdout",
     "output_type": "stream",
     "text": [
      "A = [4 0 0; 2 -10 0; 1 2 -1]\n",
      "b = [8, -2, 4]\n"
     ]
    },
    {
     "data": {
      "text/plain": [
       "3-element Vector{Int64}:\n",
       "  8\n",
       " -2\n",
       "  4"
      ]
     },
     "metadata": {},
     "output_type": "display_data"
    }
   ],
   "source": [
    "#Declare A and b\n",
    "A = [4 0 0; 2 -10 0; 1 2 -1]\n",
    "b = [8; -2; 4]\n",
    "# your code here\n",
    "@show A\n",
    "@show b"
   ]
  },
  {
   "cell_type": "code",
   "execution_count": 14,
   "metadata": {
    "deletable": false,
    "editable": false,
    "nbgrader": {
     "cell_type": "code",
     "checksum": "f4ce85664411397c3d717fe4a687d264",
     "grade": true,
     "grade_id": "6aTest",
     "locked": true,
     "points": 1,
     "schema_version": 3,
     "solution": false,
     "task": false
    }
   },
   "outputs": [],
   "source": [
    "#autograder cell"
   ]
  },
  {
   "cell_type": "markdown",
   "metadata": {
    "deletable": false,
    "editable": false,
    "nbgrader": {
     "cell_type": "markdown",
     "checksum": "5f395f39e5acdc9a9720d07efba9ea58",
     "grade": false,
     "grade_id": "cell-190b4c94d5028af8",
     "locked": true,
     "schema_version": 3,
     "solution": false,
     "task": false
    }
   },
   "source": [
    "Now that you found the matrices that define this system, the algorithm below shows how we can use forward substitution in code to solve for the x vector.  \n",
    "### b) Display the vector x in the output window with whatever method you prefer"
   ]
  },
  {
   "cell_type": "code",
   "execution_count": 15,
   "metadata": {
    "deletable": false,
    "nbgrader": {
     "cell_type": "code",
     "checksum": "d53408e58578e54e0822029498ad52c8",
     "grade": true,
     "grade_id": "cell-6841f35a7a410414",
     "locked": false,
     "points": 1,
     "schema_version": 3,
     "solution": true,
     "task": false
    }
   },
   "outputs": [
    {
     "name": "stdout",
     "output_type": "stream",
     "text": [
      "x = [2.0, 0.6, -0.8]\n"
     ]
    },
    {
     "data": {
      "text/plain": [
       "3-element Vector{Float64}:\n",
       "  2.0\n",
       "  0.6\n",
       " -0.8"
      ]
     },
     "metadata": {},
     "output_type": "display_data"
    }
   ],
   "source": [
    "x = [0.0; 0.0; 0.0] #Initialize an empty x vector\n",
    "\n",
    "#This method does not scale to large problems, but it is super clear\n",
    "x[1]=b[1]/A[1,1]\n",
    "x[2]=(b[2]-A[2,1]*x[1])/A[2,2]\n",
    "x[3]=(b[3]-A[3,1]*x[1]-A[3,2]*x[2])/A[3,3]\n",
    ";\n",
    "#add a line here that will display the vector x\n",
    "# your code here\n",
    "@show x"
   ]
  },
  {
   "cell_type": "markdown",
   "metadata": {
    "deletable": false,
    "editable": false,
    "nbgrader": {
     "cell_type": "markdown",
     "checksum": "81293604f80dac144a6014cbfe3350b5",
     "grade": false,
     "grade_id": "cell-27cb2516a5d65931",
     "locked": true,
     "schema_version": 3,
     "solution": false,
     "task": false
    }
   },
   "source": [
    "### Problem 4. (3 points)\n",
    "**Now, modify the algorithm above to work for a 5 by 5 system.**\n",
    "\n",
    "$$ 4x_1  = 8 $$\n",
    "$$  2x_1 - 10x_2 = -2 $$\n",
    "$$ x_1 + 2x_2 - x_3 = 4 $$\n",
    "$$ 4x_1 - x_2 - 3x_3 + x_4 = 7 $$\n",
    "$$ -2x_1 + 7x_2 + x_3 - 2x_4 - 6x_5 = 12 $$\n"
   ]
  },
  {
   "cell_type": "code",
   "execution_count": 17,
   "metadata": {
    "deletable": false,
    "nbgrader": {
     "cell_type": "code",
     "checksum": "0dc3f4a152b685c253eaf06de6fb79cb",
     "grade": false,
     "grade_id": "7a",
     "locked": false,
     "schema_version": 3,
     "solution": true,
     "task": false
    }
   },
   "outputs": [
    {
     "data": {
      "text/plain": [
       "5-element Vector{Int64}:\n",
       "  8\n",
       " -2\n",
       "  4\n",
       "  7\n",
       " 12"
      ]
     },
     "metadata": {},
     "output_type": "display_data"
    }
   ],
   "source": [
    "#first, declare your A and b\n",
    "A = [4 0 0 0 0; 2 -1 0 0 0; 1 2 -1 0 0; 4 -1 -3 1 0; -2 7 1 -2 -6]\n",
    "b = [8; -2; 4; 7; 12]\n",
    "# your code here"
   ]
  },
  {
   "cell_type": "code",
   "execution_count": 18,
   "metadata": {
    "deletable": false,
    "editable": false,
    "nbgrader": {
     "cell_type": "code",
     "checksum": "32803d04f32d8a0a3c177496ec55bcc6",
     "grade": true,
     "grade_id": "7aTest",
     "locked": true,
     "points": 1,
     "schema_version": 3,
     "solution": false,
     "task": false
    }
   },
   "outputs": [],
   "source": [
    "#autograder cell"
   ]
  },
  {
   "cell_type": "code",
   "execution_count": 19,
   "metadata": {
    "deletable": false,
    "nbgrader": {
     "cell_type": "code",
     "checksum": "9a30b6a5069fa62fd73fdebc79ad6eaf",
     "grade": false,
     "grade_id": "cell-99064965fc2bda65",
     "locked": false,
     "schema_version": 3,
     "solution": true,
     "task": false
    }
   },
   "outputs": [
    {
     "data": {
      "text/plain": [
       "-5.666666666666667"
      ]
     },
     "metadata": {},
     "output_type": "display_data"
    }
   ],
   "source": [
    "x = Vector{Float64}(undef, 5)  #this time, x will be a vector of 5 entries(this is another way to start a vector)\n",
    "\n",
    "#now, modify the algorithm to work on this 5 by 5 system by adding two more equations.\n",
    "x[1]=b[1]/A[1,1]\n",
    "x[2]=(b[2]-A[2,1]*x[1])/A[2,2]\n",
    "x[3]=(b[3]-A[3,1]*x[1]-A[3,2]*x[2])/A[3,3]\n",
    "#add your two equations below as x[4] and x[5]\n",
    "# your code here\n",
    "x[4]=(b[4]-A[4,1]*x[1]-A[4,2]*x[2]-A[4,3]*x[3])/A[4,4]\n",
    "x[5]=(b[5]-A[5,1]*x[1]-A[5,2]*x[2]-A[5,3]*x[3]-A[5,4]*x[4])/A[5,5]"
   ]
  },
  {
   "cell_type": "code",
   "execution_count": 20,
   "metadata": {
    "deletable": false,
    "editable": false,
    "nbgrader": {
     "cell_type": "code",
     "checksum": "e008426b5a0a2c1626bcc9b111704a1a",
     "grade": true,
     "grade_id": "cell-1baf8eae874023ec",
     "locked": true,
     "points": 2,
     "schema_version": 3,
     "solution": false,
     "task": false
    }
   },
   "outputs": [],
   "source": [
    "#autograder cell"
   ]
  },
  {
   "cell_type": "markdown",
   "metadata": {
    "deletable": false,
    "editable": false,
    "nbgrader": {
     "cell_type": "markdown",
     "checksum": "1ceec4af110ed7fcf675bbff8565f703",
     "grade": false,
     "grade_id": "cell-5e68a9dbc0bb00c1",
     "locked": true,
     "schema_version": 3,
     "solution": false,
     "task": false
    }
   },
   "source": [
    "**That was super tedious, right? If not, then we failed. You were supposed to go, what are they thinking, there must be a better way to go about this!! Yes, there is.** \n",
    "\n",
    "### A Better Algorithm!\n",
    "\n",
    "But first, let's generate some data to set you up for success. Run the next cell. There is nothing to report. "
   ]
  },
  {
   "cell_type": "code",
   "execution_count": 21,
   "metadata": {
    "deletable": false,
    "editable": false,
    "nbgrader": {
     "cell_type": "code",
     "checksum": "4aec2414a4c40d8e09b0cad6344e7deb",
     "grade": false,
     "grade_id": "cell-ed2d6b212af83a7d",
     "locked": true,
     "schema_version": 3,
     "solution": false,
     "task": false
    }
   },
   "outputs": [
    {
     "data": {
      "text/plain": [
       "3×1 adjoint(::Matrix{Float64}) with eltype Float64:\n",
       "  15.0\n",
       "  13.6\n",
       " -21.2"
      ]
     },
     "metadata": {},
     "output_type": "display_data"
    }
   ],
   "source": [
    "# Execute this line to define A, b and x before you move on \n",
    "x = [0.0; 0.0; 0.0] #Initialize an empty x vector\n",
    "A=[4.0 2.1 1.0; -7.03 1.0/3.0 π; 2.7 -18.1 -11.11]\n",
    "b=[15.0 13.6 -21.2]'"
   ]
  },
  {
   "cell_type": "markdown",
   "metadata": {
    "deletable": false,
    "editable": false,
    "nbgrader": {
     "cell_type": "markdown",
     "checksum": "021482208220dbeedda2573e3eec4641",
     "grade": false,
     "grade_id": "cell-45ee0ee9759ed99b",
     "locked": true,
     "schema_version": 3,
     "solution": false,
     "task": false
    }
   },
   "source": [
    "**The problem with the \"steps\" in the previous cell is that each line of calculation is different from the others. That makes it hard to \"automate\", which is what programming is all about right? We humans set up the program and we let the computer automtically grind through the computations?**\n",
    "\n",
    "Let's focus on the very first line of the forward substitution method\n",
    "$$ x[1]=b[1]/A[1,1] $$\n",
    "\n",
    "Suppose that we set x to be a zero column vector with three elements \n",
    "$$ x=[0.0;0.0;0.0] $$ \n",
    "\n",
    "You know that $ A[1,:]'$ is the first ROW of the A matrix\n",
    "\n",
    "What will be the result of \n",
    "$ A[1,:] '*x $ ?\n",
    "\n",
    "Because x is the zero vector we get zero. We weren't trying to fool you, just making you admit the obvious.\n",
    "\n",
    "Hence if we could write something like\n",
    "$$ x[1]=(b[1] -  A[1,:]' *x )/A[1,1] $$\n",
    "we woudl get the same result as\n",
    "$$ x[1]=b[1]/A[1,1] $$\n",
    "which is the first step of forward substitution. Let's note that we have updated the value of $ x[1] $, while $ x[2] $ and $ x[3] $ remain zero. Why is this important? \n",
    "\n",
    "Well, ask yourself, what will be the result of the multiplication  of the Second row of A times x?\n",
    "$$ A[2,:] '*x $$   \n",
    "                                                \n",
    "once again, knowing that $ x[2]=0 $ and $ x[3]=0 $ ?\n",
    "\n",
    "Because only $x[1]$ is potentially non-zero, we have $A[2,1]*x[1]$\n",
    "\n",
    "Hence if we could write something like\n",
    "$$x[2]=(b[2] -  A[2,:]' *x )/A[2,2]$$\n",
    "we would get the same result as\n",
    "$$x[2]=(b[2]-A[2,1]*x[1])/A[2,2]$$\n",
    "\n",
    "Hopefully you see the pattern, if we could write something like \n",
    "$$x[3]=(b[3] -  A[3,:]' *x )/A[3,3]$$\n",
    "we'd get the same result as \n",
    "$$x[3]=(b[3]-A[3,1]*x[1]-A[3,2]*x[2])/A[3,3]$$\n",
    "\n",
    "Now, all of our lines of code look the same. Therefore, we can automate them! \n",
    "\n",
    "There is one catch, which maybe you already noted: in Julia a row vector times a column vector (of the same lengths) gives a 1x1 matrix, which is not the same thing as a scalar (that is, a number). So, we have to extract out (or slice out) that number via: \n",
    "$$ (A[k,:])' * x)[1]$$\n",
    "\n",
    "You may need to go back to the top and look at Problem 5 and tinyMatrix.\n",
    "\n",
    "In the next cell, you can run the two sets of equations and verify that we get the same answers. "
   ]
  },
  {
   "cell_type": "code",
   "execution_count": 22,
   "metadata": {
    "deletable": false,
    "editable": false,
    "nbgrader": {
     "cell_type": "code",
     "checksum": "abf873d48613389cadbfecf9e019e662",
     "grade": false,
     "grade_id": "cell-1520d7aa47428cff",
     "locked": true,
     "schema_version": 3,
     "solution": false,
     "task": false
    }
   },
   "outputs": [
    {
     "name": "stdout",
     "output_type": "stream",
     "text": [
      "x = [3.75, 119.8875, -192.49673717371743]\n",
      "xx = [3.75, 119.8875, -192.49673717371743]\n"
     ]
    },
    {
     "data": {
      "text/plain": [
       "3-element Vector{Float64}:\n",
       "    3.75\n",
       "  119.8875\n",
       " -192.49673717371743"
      ]
     },
     "metadata": {},
     "output_type": "display_data"
    }
   ],
   "source": [
    "# New way where there is a pattern\n",
    "x=[0.0;0.0;0.0]\n",
    "x[1]=(b[1]-(A[1,:]' *x)[1])/A[1,1]\n",
    "x[2]=(b[2]-(A[2,:]' *x)[1])/A[2,2]\n",
    "x[3]=(b[3]-(A[3,:]' *x)[1])/A[3,3]\n",
    "@show x\n",
    "# Old way where each line is different\n",
    "xx=[0.0;0.0;0.0]\n",
    "xx[1]=b[1]/A[1,1]\n",
    "xx[2]=(b[2]-A[2,1]*xx[1])/A[2,2]\n",
    "xx[3]=(b[3]-A[3,1]*xx[1]-A[3,2]*xx[2])/A[3,3]\n",
    "@show xx"
   ]
  },
  {
   "cell_type": "markdown",
   "metadata": {
    "deletable": false,
    "editable": false,
    "nbgrader": {
     "cell_type": "markdown",
     "checksum": "524b4c44f2036c3743fab6977e735abb",
     "grade": false,
     "grade_id": "cell-e5f8beaf0a3fc448",
     "locked": true,
     "schema_version": 3,
     "solution": false,
     "task": false
    }
   },
   "source": [
    "We're almost at a crucial point of having our first real program. **Almost!** \n",
    "\n",
    "We'll let you grind a bit more! Ouch! "
   ]
  },
  {
   "cell_type": "markdown",
   "metadata": {
    "deletable": false,
    "editable": false,
    "nbgrader": {
     "cell_type": "markdown",
     "checksum": "fe98e718b19f2f0bb2cbe8498606c97a",
     "grade": false,
     "grade_id": "cell-bd568625f770a7eb",
     "locked": true,
     "schema_version": 3,
     "solution": false,
     "task": false
    }
   },
   "source": [
    "### Problem 5. (1 point) \n",
    "For a system of equations Ax = b that is bigger, for example, 10x10, it would make more sense to have some sort of repeating code, than to type 10 equations. We've seen that our magic common equation has the form\n",
    "\n",
    "$$x[k]=(b[k]-(A[k,:]' * x)[1])/A[k,k]$$ \n",
    "\n",
    "For this problem, we will give you a large A and b. You assume that Ax = b, and that x is a column vector with 10 entries. We'll have you MANUALLY repeat a step 10 times! (Hey, it's better than typing 10 equations!)"
   ]
  },
  {
   "cell_type": "code",
   "execution_count": 23,
   "metadata": {
    "deletable": false,
    "editable": false,
    "nbgrader": {
     "cell_type": "code",
     "checksum": "de941da3082b57032ddc2ff9df9b19ea",
     "grade": false,
     "grade_id": "cell-58b12d46e7a3a8fc",
     "locked": true,
     "schema_version": 3,
     "solution": false,
     "task": false
    }
   },
   "outputs": [
    {
     "name": "stdout",
     "output_type": "stream",
     "text": [
      "size(x) = (10, 1)\n"
     ]
    },
    {
     "data": {
      "text/plain": [
       "10×10 Matrix{Float64}:\n",
       " 0.579862   0.0       0.0        0.0       …  0.0       0.0       0.0\n",
       " 0.411294   0.536369  0.0        0.0          0.0       0.0       0.0\n",
       " 0.972136   0.711389  0.966197   0.0          0.0       0.0       0.0\n",
       " 0.0149088  0.103929  0.666558   0.91097      0.0       0.0       0.0\n",
       " 0.520355   0.806704  0.333859   0.973653     0.0       0.0       0.0\n",
       " 0.639562   0.870539  0.802199   0.76066   …  0.0       0.0       0.0\n",
       " 0.839622   0.962715  0.156458   0.488912     0.0       0.0       0.0\n",
       " 0.967143   0.15118   0.380799   0.362643     0.813512  0.0       0.0\n",
       " 0.789764   0.715355  0.0687591  0.708738     0.994935  0.566878  0.0\n",
       " 0.696041   0.939548  0.861725   0.656694     0.77916   0.607905  0.67765"
      ]
     },
     "metadata": {},
     "output_type": "display_data"
    }
   ],
   "source": [
    "#Run this cell to generate matrices A and b, and initialize x to be the correct size.  DO NOT MODIFY IT!\n",
    "#Once it is done running, you should see a 10x10 lower triangular matrix as the output\n",
    "\n",
    "using Random\n",
    "Random.seed!(1234)\n",
    "N=10; A=rand(N,N); #Builds a 10 x 10 matrix filled with randon elements, except, we fixed the \n",
    "# \"seed\" so that all of you will generate the same matrix\n",
    "\n",
    "# Make A lower triangular with one for loop and indexing\n",
    "# For now, pretend that you have not seen the command \"for\" and its friend \"end\"\n",
    "for k=1:N\n",
    "    A[k,k+1:N]=0.0* A[k,k+1:N]; #Not important to understand this line at this TIME!\n",
    "end \n",
    "b=rand(N,1); # a random column vector of size 10 x 1. Not bad.\n",
    "x=0*b; # Sets x to zero and has the same size as b\n",
    "@show size(x)\n",
    "A"
   ]
  },
  {
   "cell_type": "markdown",
   "metadata": {
    "deletable": false,
    "editable": false,
    "nbgrader": {
     "cell_type": "markdown",
     "checksum": "ccb7a9572021175e89a79c16c663f4d9",
     "grade": false,
     "grade_id": "cell-53c7b684a70f8f9c",
     "locked": true,
     "schema_version": 3,
     "solution": false,
     "task": false
    }
   },
   "source": [
    "Now, to find all the values of x, we can define an equation that looks like our  algorithm above, \n",
    "$$ x[k]=(b[k]-(A[k,:]' *x)[1])/A[k,k]  $$  \n",
    "and run it 10 times."
   ]
  },
  {
   "cell_type": "code",
   "execution_count": 24,
   "metadata": {
    "deletable": false,
    "editable": false,
    "nbgrader": {
     "cell_type": "code",
     "checksum": "6ab8cbf984169f92a76dff2ad44002cb",
     "grade": false,
     "grade_id": "cell-fd449ea46859c8d4",
     "locked": true,
     "schema_version": 3,
     "solution": false,
     "task": false
    }
   },
   "outputs": [
    {
     "data": {
      "text/plain": [
       "0"
      ]
     },
     "metadata": {},
     "output_type": "display_data"
    }
   ],
   "source": [
    "#first we need to start a counter variable to count the times that we have run the loop and so that we can index into the\n",
    "# x vector\n",
    "k = 0"
   ]
  },
  {
   "cell_type": "code",
   "execution_count": 34,
   "metadata": {
    "deletable": false,
    "editable": false,
    "nbgrader": {
     "cell_type": "code",
     "checksum": "df9ca0f0f4eaf297956e7248f915d017",
     "grade": false,
     "grade_id": "cell-158d1d9ee5f0b483",
     "locked": true,
     "schema_version": 3,
     "solution": false,
     "task": false
    }
   },
   "outputs": [
    {
     "name": "stdout",
     "output_type": "stream",
     "text": [
      "10\n",
      "2.8352630459174724\n"
     ]
    }
   ],
   "source": [
    "#you will need to run this block of code for EVERY ROW of the matrix A (10 times).  \n",
    "#Each output will correspond to an entry in the x vector.  Enter them in the block below for grading.\n",
    "k = k + 1\n",
    "x[k] = (b[k]-((A[k , :]') *x)[1])/A[k,k]\n",
    "println(k)\n",
    "println(x[k])\n",
    "\n",
    "#hint: If you get a BoundsError, re-run the cell above to reset k to zero. \n",
    "#you will also need to re-run the initialization cell"
   ]
  },
  {
   "cell_type": "code",
   "execution_count": 35,
   "metadata": {},
   "outputs": [],
   "source": [
    "#Enter your results here as x1 through x10:\n",
    "x1 = 0.14389643078051334\n",
    "x2 = 0.8699464053244844\n",
    "x3 = 0.08474825885481517\n",
    "x4 = 0.4115390578275809\n",
    "x5 = -2.8306691942374544\n",
    "x6 = 2.244642297318369\n",
    "x7 = -0.09193033809617783\n",
    "x8 = 0.5010235678535913\n",
    "x9 = -4.971866009002308\n",
    "x10 = 2.8352630459174724\n",
    ";"
   ]
  },
  {
   "cell_type": "code",
   "execution_count": 36,
   "metadata": {
    "deletable": false,
    "editable": false,
    "nbgrader": {
     "cell_type": "code",
     "checksum": "c8c8db741932c888dcfba080aee83674",
     "grade": true,
     "grade_id": "8Test",
     "locked": true,
     "points": 1,
     "schema_version": 3,
     "solution": false,
     "task": false
    }
   },
   "outputs": [],
   "source": [
    "#autograder cell"
   ]
  },
  {
   "cell_type": "markdown",
   "metadata": {
    "deletable": false,
    "editable": false,
    "nbgrader": {
     "cell_type": "markdown",
     "checksum": "38478b5eafacb401a5cf062396693058",
     "grade": false,
     "grade_id": "cell-49043136c73932e7",
     "locked": true,
     "schema_version": 3,
     "solution": false,
     "task": false
    }
   },
   "source": [
    "#### Using the inv() function of the Linear Algebra package.  \n",
    "This function takes in the matrix A and the vector b, and returns the solution vector x.  No, this is not cheating, it is checking your work!  The cell below should return the same vector as your solution to the cell above."
   ]
  },
  {
   "cell_type": "code",
   "execution_count": 37,
   "metadata": {
    "deletable": false,
    "editable": false,
    "nbgrader": {
     "cell_type": "code",
     "checksum": "eb2a1e2b787909c2a7cecdb248c547c5",
     "grade": false,
     "grade_id": "cell-7c84bf11929126a5",
     "locked": true,
     "schema_version": 3,
     "solution": false,
     "task": false
    }
   },
   "outputs": [
    {
     "data": {
      "text/plain": [
       "10×1 Matrix{Float64}:\n",
       "  0.14389643078051334\n",
       "  0.8699464053244844\n",
       "  0.08474825885481518\n",
       "  0.41153905782758093\n",
       " -2.830669194237455\n",
       "  2.2446422973183693\n",
       " -0.09193033809617739\n",
       "  0.5010235678535905\n",
       " -4.971866009002308\n",
       "  2.835263045917472"
      ]
     },
     "metadata": {},
     "output_type": "display_data"
    }
   ],
   "source": [
    "#Your results should match this\n",
    "using LinearAlgebra\n",
    "inv(A)*b"
   ]
  },
  {
   "cell_type": "markdown",
   "metadata": {
    "deletable": false,
    "editable": false,
    "nbgrader": {
     "cell_type": "markdown",
     "checksum": "fa1a7bfd0e26f17cb671fe48813a4f43",
     "grade": false,
     "grade_id": "cell-99a64cbccc510797",
     "locked": true,
     "schema_version": 3,
     "solution": false,
     "task": false
    }
   },
   "source": [
    "#### What if, instead of running that cell over and over manually, we used a control flow operator to do it for us?  For loops are perfect for running a certain number of times, and they even keep track of the counter variable for us.\n",
    "\n",
    "### Problem 6. (3 points)\n",
    "Find the solution to a 100 by 100 system! "
   ]
  },
  {
   "cell_type": "code",
   "execution_count": 38,
   "metadata": {
    "deletable": false,
    "editable": false,
    "nbgrader": {
     "cell_type": "code",
     "checksum": "4421cb2eba94505d268606fbdb2284bc",
     "grade": false,
     "grade_id": "cell-1c1ee03aefbec0b3",
     "locked": true,
     "schema_version": 3,
     "solution": false,
     "task": false
    }
   },
   "outputs": [],
   "source": [
    "# This generates the matrices A and b for a 100x100 system.  DO NOT MODIFY THIS CELL!\n",
    "\n",
    "Random.seed!(4321)\n",
    "N=100; A=rand(N,N);\n",
    "# Make A lower triangular with one for loop and indexing\n",
    "\n",
    "# This time, pay attention to \"for\" and its friend \"end\". Everything in between is repeated for k=1 all the way \n",
    "# up to k=N. How convenient is that? (Yes, we know, when we first learned this we were bowled over too!)\n",
    "\n",
    "for k=1:N  \n",
    "    A[k,k+1:N]=0.0* A[k,k+1:N]; #Not important to understand this line at this TIME!\n",
    "end \n",
    "b=rand(N,1);\n",
    "x=0*b;  #makes an x vector the same size as the b vector, but full of zeros\n"
   ]
  },
  {
   "cell_type": "code",
   "execution_count": 39,
   "metadata": {
    "deletable": false,
    "nbgrader": {
     "cell_type": "code",
     "checksum": "15e1150546f63a87a022c60d2734b24d",
     "grade": false,
     "grade_id": "9",
     "locked": false,
     "schema_version": 3,
     "solution": true,
     "task": false
    }
   },
   "outputs": [
    {
     "name": "stdout",
     "output_type": "stream",
     "text": [
      "[2.4008493528980432, 1.5029748079688743, -0.748628422459897, -1.1810509849044308, -16.12376549117034, 16.773177992369895, 3.3410996533177673, 20.52138853523724, -9.47564068515963, 8.464537717292304]"
     ]
    }
   ],
   "source": [
    "for k=1:N\n",
    "    #fill in a line that calculates x[k]  Hint:  Look at the cell you repeated earlier\n",
    "    # your code here\n",
    "    x[k]=(b[k]-(A[k,:]' *x)[1])/A[k,k]\n",
    "end\n",
    "print(x[1:10, 1]) #show the first 10 entries of x"
   ]
  },
  {
   "cell_type": "markdown",
   "metadata": {
    "deletable": false,
    "editable": false,
    "nbgrader": {
     "cell_type": "markdown",
     "checksum": "b5f5beeff927172910f8a0e5b056ccba",
     "grade": false,
     "grade_id": "cell-a6fdb63832bd5597",
     "locked": true,
     "schema_version": 3,
     "solution": false,
     "task": false
    }
   },
   "source": [
    "#### Check your work with the inv() function."
   ]
  },
  {
   "cell_type": "code",
   "execution_count": 40,
   "metadata": {
    "deletable": false,
    "editable": false,
    "nbgrader": {
     "cell_type": "code",
     "checksum": "223669699e8c3d6e5c8b3a64f96c284a",
     "grade": true,
     "grade_id": "9test",
     "locked": true,
     "points": 3,
     "schema_version": 3,
     "solution": false,
     "task": false
    }
   },
   "outputs": [
    {
     "name": "stdout",
     "output_type": "stream",
     "text": [
      "[2.4008493528980432, 1.5029748079688743, -0.748628422459897, -1.1810509849044308, -16.12376549117034, 16.773177992369895, 3.3410996533177673, 20.52138853523724, -9.47564068515963, 8.464537717292304]"
     ]
    }
   ],
   "source": [
    "#the inv() function\n",
    "ansComp = inv(A)*b\n",
    "print(x[1:10, 1])\n",
    "@assert isapprox(x, ansComp) #this function will tell us if the computer got the same values with inv() as we did with the algorithm\n",
    "#if it returns \"true\" then your algorithm worked! \n",
    "#Otherwise, try again, and make sure to re-run the cell that builds the matrices to get a fresh start."
   ]
  },
  {
   "cell_type": "markdown",
   "metadata": {},
   "source": [
    "Cheatsheets for Julia Vector and Matrix syntax\n",
    "* https://cheatsheets.quantecon.org/julia-cheatsheet.html#vectors-and-matrices\n",
    "* https://www.softcover.io/read/7b8eb7d0/juliabook/basics\n",
    "\n",
    "Documentation for the LinearAlgebra Package\n",
    "* https://docs.julialang.org/en/v1/stdlib/LinearAlgebra/"
   ]
  }
 ],
 "metadata": {
  "kernelspec": {
   "display_name": "Julia 1.11.1",
   "language": "julia",
   "name": "julia-1.11"
  },
  "language_info": {
   "file_extension": ".jl",
   "mimetype": "application/julia",
   "name": "julia",
   "version": "1.11.1"
  }
 },
 "nbformat": 4,
 "nbformat_minor": 4
}
