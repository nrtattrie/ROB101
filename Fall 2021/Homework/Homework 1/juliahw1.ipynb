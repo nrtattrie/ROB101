{
 "cells": [
  {
   "cell_type": "markdown",
   "metadata": {
    "deletable": false,
    "editable": false,
    "nbgrader": {
     "cell_type": "markdown",
     "checksum": "4554be877cea7f725f659779dc6160b7",
     "grade": false,
     "grade_id": "cell-121ff518c8a69ab1",
     "locked": true,
     "schema_version": 3,
     "solution": false,
     "task": false
    }
   },
   "source": [
    "University of Michigan - ROB 101 Computational Linear Algebra"
   ]
  },
  {
   "cell_type": "markdown",
   "metadata": {
    "deletable": false,
    "editable": false,
    "nbgrader": {
     "cell_type": "markdown",
     "checksum": "7aae1c640c508c1e900fc8476e28323c",
     "grade": false,
     "grade_id": "cell-42df9f51415be180",
     "locked": true,
     "schema_version": 3,
     "solution": false,
     "task": false
    }
   },
   "source": [
    "# Homework 1: How to use Julia as a Calculator\n",
    "### Due: 9/10 at 9 pm Eastern Time\n",
    "\n",
    "#### Pupose:  Use Julia Programming to solve mathematical problems\n",
    "- Skills:\n",
    "    - Writing and reading code\n",
    "    - Simplifying tasks with computer programs\n",
    "- Knowledge to be gained:\n",
    "    - Basic math commands\n",
    "    - Types of variables in Julia\n",
    "    - Declaring and plotting functions\n",
    "    \n",
    "#### Task:\n",
    "Welcome to your first jupyter notebook assignment!  To complete this assignment, fill in your code as instructed.  \n",
    "\n",
    "Anywhere you see a \"throw(ErrorException())\", delete that line, and replace it with your own code.  Once you submit your assignment, it will be auto-graded using the the code you added.  These auto-grader cells will sometimes be visible to you, as a way for you to check your code before submitting the assignment.  \n",
    "\n",
    "Sometimes, you will have to complete tasks which don't have the \"throw(ErrorException())\".  In that case, follow the instructions in the cell, and email your teachers if you have questions.  Some cells do not have any tasks for you, but are either there for you to play with, or necessary structures for some of the programming.  \n",
    "\n",
    "\n",
    "## Julia can be even more powerful than a graphing calculator if you know how to use it!\n",
    "\n",
    "\n",
    "The Basics:\n",
    "Arithmetic Operations!"
   ]
  },
  {
   "cell_type": "code",
   "execution_count": 1,
   "metadata": {},
   "outputs": [
    {
     "data": {
      "text/plain": [
       "11.620000000000001"
      ]
     },
     "metadata": {},
     "output_type": "display_data"
    }
   ],
   "source": [
    "#in a code cell, julia will compute and return operations you do inside it\n",
    "4+7.62\n",
    "#here is some basic addition"
   ]
  },
  {
   "cell_type": "code",
   "execution_count": 2,
   "metadata": {},
   "outputs": [
    {
     "data": {
      "text/plain": [
       "0.666666666666667"
      ]
     },
     "metadata": {},
     "output_type": "display_data"
    }
   ],
   "source": [
    "#this works the same way for addition(+), subtraction(-), multiplication(*), division(/) and exponentials(^)\n",
    "\n",
    "4+2/3-1*4\n",
    "\n",
    "#Julia also has a backwards division operator (\\) to divide the left by the right\n",
    "#and a (%) modulo operator, which returns the remainder from a division operation"
   ]
  },
  {
   "cell_type": "markdown",
   "metadata": {
    "deletable": false,
    "editable": false,
    "nbgrader": {
     "cell_type": "markdown",
     "checksum": "faa88db86b64e1b2492ea51ee756ad49",
     "grade": false,
     "grade_id": "cell-47de29a639e5f315",
     "locked": true,
     "schema_version": 3,
     "solution": false,
     "task": false
    }
   },
   "source": [
    "**Notice: Julia will do arithmetic operations in an order that follows PEMDAS**\n",
    "1. Parenthesis\n",
    "2. Exponentials (right to left)\n",
    "3. Multiplication and Division (left to right)\n",
    "4. Addition and Subrtraction(left to right)\n",
    "\n",
    "Order of operations is extremely important, and can cause errors in your code so PAY ATTENTION!\n",
    "\n",
    "### Problem 1.  Place two sets of parentheses in the below expression to make x equal to 50"
   ]
  },
  {
   "cell_type": "code",
   "execution_count": null,
   "metadata": {},
   "outputs": [],
   "source": [
    "#place your parenthesis here\n",
    "x = 4+ 5/2+3 + 2^2 +1\n"
   ]
  },
  {
   "cell_type": "code",
   "execution_count": null,
   "metadata": {
    "deletable": false,
    "editable": false,
    "nbgrader": {
     "cell_type": "code",
     "checksum": "ac535e87eb0456666f7215ee498707c1",
     "grade": true,
     "grade_id": "problem1test",
     "locked": true,
     "points": 2,
     "schema_version": 3,
     "solution": false,
     "task": false
    }
   },
   "outputs": [],
   "source": [
    "#This is an autograder cell\n",
    "@assert x == 50"
   ]
  },
  {
   "cell_type": "markdown",
   "metadata": {
    "deletable": false,
    "editable": false,
    "nbgrader": {
     "cell_type": "markdown",
     "checksum": "848876c67a4fa7b26eb5617b67dd0a44",
     "grade": false,
     "grade_id": "cell-e700f01bf29416a2",
     "locked": true,
     "schema_version": 3,
     "solution": false,
     "task": false
    }
   },
   "source": [
    "**Julia also has many built in functions:**\n",
    "\n",
    "- round() #rounds to nearest integer\n",
    "- ceil() #rounds up\n",
    "- floor() #rounds down\n",
    "- trunc() #chops off anything beyond decimal point\n",
    "- abs() #absolute value\n",
    "- sin(), cos(), tan()  and asin(), acos(), atan()  #many more trigonometric functions\n",
    "- sqrt() #square root\n",
    "- exp()  #natural exponential e^x\n",
    "- log() #natural logarithm\n",
    "\n",
    "and so many more: https://docs.julialang.org/en/v1/manual/mathematical-operations/\n",
    "\n",
    "Note: These operations will only work on numbers! In each cell, hit shift return"
   ]
  },
  {
   "cell_type": "code",
   "execution_count": null,
   "metadata": {
    "deletable": false,
    "editable": false,
    "nbgrader": {
     "cell_type": "code",
     "checksum": "7b92ebf94659f47d1fed4b767662badd",
     "grade": false,
     "grade_id": "cell-c956c50b93815794",
     "locked": true,
     "schema_version": 3,
     "solution": false,
     "task": false
    }
   },
   "outputs": [],
   "source": [
    "sin(pi)  #It assumes radians and not degrees"
   ]
  },
  {
   "cell_type": "code",
   "execution_count": null,
   "metadata": {
    "deletable": false,
    "editable": false,
    "nbgrader": {
     "cell_type": "code",
     "checksum": "2c41ded914a9b5baa8601c9e784441b9",
     "grade": false,
     "grade_id": "cell-202ddea9fa3b84e7",
     "locked": true,
     "schema_version": 3,
     "solution": false,
     "task": false
    }
   },
   "outputs": [],
   "source": [
    "sqrt(144)  #yep, the usual square root of a number"
   ]
  },
  {
   "cell_type": "code",
   "execution_count": null,
   "metadata": {
    "deletable": false,
    "editable": false,
    "nbgrader": {
     "cell_type": "code",
     "checksum": "fc0e6aef485da6318b27167cc054929d",
     "grade": false,
     "grade_id": "cell-fe6b0151ea814f70",
     "locked": true,
     "schema_version": 3,
     "solution": false,
     "task": false
    }
   },
   "outputs": [],
   "source": [
    "abs(\"hello\")  #be prepared for an error!"
   ]
  },
  {
   "cell_type": "markdown",
   "metadata": {
    "deletable": false,
    "editable": false,
    "nbgrader": {
     "cell_type": "markdown",
     "checksum": "99a5699ac0c47b54498a981c534d3b35",
     "grade": false,
     "grade_id": "cell-339b058b2acfbcad",
     "locked": true,
     "schema_version": 3,
     "solution": false,
     "task": false
    }
   },
   "source": [
    "Note: This doesn't work because \"hello\" is the wrong type of data.\n",
    "\n",
    "**Every piece of data in Julia has a \"Type\"**\n",
    "\n",
    "What is a data type? I think you would be comfortable saying that numbers are different from letters. So, they should be treated differently when you work with them. Similary, a single letter is different than a sentence. \n",
    "\n",
    "So far, so good? \n",
    "\n",
    "Here is where programming languages are different than calculators: you may not have to think about numbers such as 1, 2, 3, 4, .... differently than 0.7, sqrt(2), pi, but Julia does have to handle them differently. \n",
    "\n",
    "Why? Just to make your life miserable? Not really. \n",
    "\n",
    "Computers have a limited amount of memory (zeros and ones) available to represent a number. If the computer knows that the number does not require a decimal point (as in -7, 0, 1, 45, etc,) then it can store it very compactly and hence store enormously large numbers of the non-decimal TYPE. If the number requires a decimal to express it properly (such as pi, sqrt(2), 0.6) then Julia will store it in a different format. In Julia, formats are determined by TYPES.\n",
    "\n",
    "We will mostly use 4 of these TYPES:\n",
    "- Int64:  Integers (numbers without decimal points in them)\n",
    "- Float64: Floating point numbers (numbers that require decimal points)\n",
    "- Char:  Any character you can type on a keyboard, or fancy characters like 复, 制, ¤, Ð, or ϐ (declared inside ' ')\n",
    "- String: A bunch of characters in a line.  (This could be a word, or a sentence, or even a number that is in \" \")\n",
    "\n",
    "You don't usually have to worry about types because Julia will automatically choose a type that works best.  But, should you get a MethodError like the one above, check which type you are using.\n",
    "\n",
    "If you want to know more about types in Julia: https://docs.julialang.org/en/v1/manual/types/"
   ]
  },
  {
   "cell_type": "markdown",
   "metadata": {
    "deletable": false,
    "editable": false,
    "nbgrader": {
     "cell_type": "markdown",
     "checksum": "fcc7852cf0889b68894276add6776a52",
     "grade": false,
     "grade_id": "cell-84ec179c1fa584c3",
     "locked": true,
     "schema_version": 3,
     "solution": false,
     "task": false
    }
   },
   "source": [
    "**Solving and graphing your own functions**\n",
    "\n",
    "Julia can also help solve any equation that you input.  There are two main ways to declare a function in Julia.\n",
    "\n",
    "Let's practice with the basic linear function:  \n",
    "                                                y = 2x \n",
    "\n",
    "The first one is the most simple:"
   ]
  },
  {
   "cell_type": "code",
   "execution_count": null,
   "metadata": {},
   "outputs": [],
   "source": [
    "f(x) = 2x\n",
    "\n",
    "#now that we have it declared, we can plug in values of x\n",
    "f(3)"
   ]
  },
  {
   "cell_type": "markdown",
   "metadata": {
    "deletable": false,
    "editable": false,
    "nbgrader": {
     "cell_type": "markdown",
     "checksum": "522b33b103c8a60c9f0464e68f6161ea",
     "grade": false,
     "grade_id": "cell-554847fe6f346f7d",
     "locked": true,
     "schema_version": 3,
     "solution": false,
     "task": false
    }
   },
   "source": [
    "Now, we want to plot this function, to see where it's solutions are."
   ]
  },
  {
   "cell_type": "code",
   "execution_count": null,
   "metadata": {
    "deletable": false,
    "editable": false,
    "nbgrader": {
     "cell_type": "code",
     "checksum": "7cc9b2edf24e24fbe16c03d30498c3ca",
     "grade": false,
     "grade_id": "cell-dd48daa9716b336c",
     "locked": true,
     "schema_version": 3,
     "solution": false,
     "task": false
    }
   },
   "outputs": [],
   "source": [
    "#These lines give Julia the ability to plot functions.  This may take a while, but it is necessary.\n",
    "# When you see [*], that means Julia is working hard to do what you told it. Your commands may take just a few \n",
    "# lines, but Julia is probably dealing with multiple megabytes of files and code, all of which is hidden from us. \n",
    "using Plots\n",
    "gr()"
   ]
  },
  {
   "cell_type": "code",
   "execution_count": null,
   "metadata": {},
   "outputs": [],
   "source": [
    "#now, we can use the plot() function\n",
    "plot(f, -5, 5)  #f will be plotted over an x range of -5 to 5"
   ]
  },
  {
   "cell_type": "markdown",
   "metadata": {
    "deletable": false,
    "editable": false,
    "nbgrader": {
     "cell_type": "markdown",
     "checksum": "eddc9ac9f258b9ca32a824076139cbce",
     "grade": false,
     "grade_id": "cell-e5f55ebcb0af4820",
     "locked": true,
     "schema_version": 3,
     "solution": false,
     "task": false
    }
   },
   "source": [
    "If we wanted to change an element of the graph, we need to use the function **plot!()**\n",
    "\n",
    "The exclamation point indicates that the function will modify the existing plot, instead of replacing it.  Let's make the graph to scale with an aspect_ratio command, and label the axes.  You can also add an additional line to the plot.  Let's include the x-axis."
   ]
  },
  {
   "cell_type": "code",
   "execution_count": null,
   "metadata": {},
   "outputs": [],
   "source": [
    "plot!(aspect_ratio = 1, xlabel = \"x\", ylabel = \"y\")\n",
    "g(x) = 0\n",
    "plot!(g, -15,15)"
   ]
  },
  {
   "cell_type": "markdown",
   "metadata": {
    "deletable": false,
    "editable": false,
    "nbgrader": {
     "cell_type": "markdown",
     "checksum": "88aedb46efb07b9aea84def714ced15e",
     "grade": false,
     "grade_id": "cell-9f1a99a3704a6484",
     "locked": true,
     "schema_version": 3,
     "solution": false,
     "task": false
    }
   },
   "source": [
    "We can now find that y = 2x intersects y = 0 at (0,0).  \n",
    "### Problem 2. Practice with one of the systems in your HW1 Assignment\n",
    "\n",
    "                                                    x − 2y = −2\n",
    "                                                     x + y = 4\n",
    "                                                \n",
    "                                                \n",
    "                                                \n",
    "Step 1:  Rearrange Both equations so that y is isolated on the left side:\n",
    "\n",
    "Equation 1: y1 = ____________\n",
    "Equation 2: y2 = ____________"
   ]
  },
  {
   "cell_type": "code",
   "execution_count": null,
   "metadata": {
    "deletable": false,
    "nbgrader": {
     "cell_type": "code",
     "checksum": "96d37de74b57efeaab99eaf498bcba3b",
     "grade": false,
     "grade_id": "problem2",
     "locked": false,
     "schema_version": 3,
     "solution": true,
     "task": false
    }
   },
   "outputs": [],
   "source": [
    "#now declare both of those equations as code functions y1(x) and y2(x)\n",
    "\n",
    "# your code here\n",
    "throw(ErrorException())\n",
    "\n",
    "#Plot them on the same graph.  This shows another way to plot multiple things at once\n",
    "plot([y1,y2], -5, 5)"
   ]
  },
  {
   "cell_type": "code",
   "execution_count": null,
   "metadata": {
    "deletable": false,
    "editable": false,
    "nbgrader": {
     "cell_type": "code",
     "checksum": "4a295f2ea694c0a81682e697c3308eb0",
     "grade": true,
     "grade_id": "problem2test",
     "locked": true,
     "points": 2,
     "schema_version": 3,
     "solution": false,
     "task": false
    }
   },
   "outputs": [],
   "source": [
    "#Grader Cell\n",
    "@assert y1(0) == 1\n",
    "@assert y2(0) == 4"
   ]
  },
  {
   "cell_type": "markdown",
   "metadata": {
    "deletable": false,
    "editable": false,
    "nbgrader": {
     "cell_type": "markdown",
     "checksum": "fc0e17f22fa7dc8690c150ef7872c7bd",
     "grade": false,
     "grade_id": "cell-f143e1884da392e8",
     "locked": true,
     "schema_version": 3,
     "solution": false,
     "task": false
    }
   },
   "source": [
    "Now that you have plotted the system, you can find the solution as the intersection of the lines.  Pretty neat!"
   ]
  },
  {
   "cell_type": "markdown",
   "metadata": {},
   "source": [
    "### Problem 3. Creating Arrays\n",
    "### Create a row vector called rowVect that contains the numbers 1 through 10 using the collect function, see the example code below"
   ]
  },
  {
   "cell_type": "code",
   "execution_count": null,
   "metadata": {},
   "outputs": [],
   "source": [
    "# Run me, don't change me \n",
    "#output should be\n",
    "#1 2 3 4 5 6 7 8 9 10\n",
    "# Example Code. \n",
    "rowVect = collect(1:10)'\n"
   ]
  },
  {
   "cell_type": "code",
   "execution_count": null,
   "metadata": {
    "deletable": false,
    "editable": false,
    "nbgrader": {
     "cell_type": "code",
     "checksum": "7a9cf44b3b792ac278b3276058c04484",
     "grade": true,
     "grade_id": "cell-2d4d8dec7be601ab",
     "locked": true,
     "points": 0,
     "schema_version": 3,
     "solution": false,
     "task": false
    }
   },
   "outputs": [],
   "source": [
    "#autograder cell\n",
    "#Just checking if you ran the code cell! "
   ]
  },
  {
   "cell_type": "markdown",
   "metadata": {},
   "source": [
    "### a) Create a column vector called colVect that contains the numbers 11 through 20"
   ]
  },
  {
   "cell_type": "code",
   "execution_count": null,
   "metadata": {
    "deletable": false,
    "nbgrader": {
     "cell_type": "code",
     "checksum": "0368b645d7c629f014c3649e133a3c15",
     "grade": false,
     "grade_id": "cell-d374a9606cd3edc8",
     "locked": false,
     "schema_version": 3,
     "solution": true,
     "task": false
    }
   },
   "outputs": [],
   "source": [
    "#output should be\n",
    "#11 \n",
    "#12\n",
    "#13\n",
    "#14\n",
    "#15\n",
    "#16\n",
    "#17\n",
    "#18\n",
    "#19\n",
    "#20\n",
    "\n",
    "# colVect = ??\n",
    "# your code here\n",
    "throw(ErrorException())"
   ]
  },
  {
   "cell_type": "code",
   "execution_count": null,
   "metadata": {
    "deletable": false,
    "editable": false,
    "nbgrader": {
     "cell_type": "code",
     "checksum": "69656a7ab3b0888b6c926fd906d62f52",
     "grade": true,
     "grade_id": "cell-7df9c508380d7636",
     "locked": true,
     "points": 2,
     "schema_version": 3,
     "solution": false,
     "task": false
    }
   },
   "outputs": [],
   "source": [
    "#autograder cell"
   ]
  },
  {
   "cell_type": "markdown",
   "metadata": {},
   "source": [
    "**Note: Other ways to build vectors**\n",
    "* Range notation n:k:m will start at n and take steps of size k to reach m.  Use collect(n:k:m) to make it into a vector\n",
    "* A[:] converts a matrix A to a vector\n",
    "* diag() returns the diagonal elements of a matrix as a vector"
   ]
  },
  {
   "cell_type": "markdown",
   "metadata": {},
   "source": [
    "### Problem 4.\n",
    "Using Indexing. we can extract cvalues from vectors by indexing variables, let's see how!\n"
   ]
  },
  {
   "cell_type": "code",
   "execution_count": null,
   "metadata": {},
   "outputs": [],
   "source": [
    "# What is the value of the 5th member of the colVect vector we just created, can you verify with this code?\n",
    "@show value = colVect[5]"
   ]
  },
  {
   "cell_type": "markdown",
   "metadata": {},
   "source": [
    "\n",
    "### a) Use indexing [] to return the \"panda\".  Keep in mind that Julia indexes refer to the location in a vector."
   ]
  },
  {
   "cell_type": "code",
   "execution_count": null,
   "metadata": {
    "deletable": false,
    "nbgrader": {
     "cell_type": "code",
     "checksum": "d1548d2685663adef2f902cb80e780a2",
     "grade": false,
     "grade_id": "cell-0be31681aba733b4",
     "locked": false,
     "schema_version": 3,
     "solution": true,
     "task": false
    }
   },
   "outputs": [],
   "source": [
    "animalsVector = [\"lemur\", \"elephant\", \"tiger\", \"panda\", \"zebra\", \"cuttlefish\"]\n",
    "# myPanda = ??\n",
    "# your code here\n",
    "throw(ErrorException())"
   ]
  },
  {
   "cell_type": "code",
   "execution_count": null,
   "metadata": {
    "deletable": false,
    "editable": false,
    "nbgrader": {
     "cell_type": "code",
     "checksum": "35cf7551430be7a508d7973145430e33",
     "grade": true,
     "grade_id": "cell-51e5657dac47588e",
     "locked": true,
     "points": 2,
     "schema_version": 3,
     "solution": false,
     "task": false
    }
   },
   "outputs": [],
   "source": [
    "#autograder cell\n",
    "@assert myPanda == \"panda\""
   ]
  },
  {
   "cell_type": "markdown",
   "metadata": {},
   "source": [
    "### Problem 5. Special Matrix commands\n",
    "\n",
    "Let's start with an example code. Let's create a matrix of zeros with 2 rows and 3 columns"
   ]
  },
  {
   "cell_type": "code",
   "execution_count": null,
   "metadata": {},
   "outputs": [],
   "source": [
    "Example_zeroMat = zeros(2,3)"
   ]
  },
  {
   "cell_type": "markdown",
   "metadata": {},
   "source": [
    "### a) Zeros: Create a matrix called zeroMat of zeros with 4 rows and 7 columns"
   ]
  },
  {
   "cell_type": "code",
   "execution_count": null,
   "metadata": {
    "deletable": false,
    "nbgrader": {
     "cell_type": "code",
     "checksum": "e2bec7bbb2a863c62a1452212f3c05ea",
     "grade": false,
     "grade_id": "cell-9ca6613d99726a6b",
     "locked": false,
     "schema_version": 3,
     "solution": true,
     "task": false
    }
   },
   "outputs": [],
   "source": [
    "# your code here \n",
    "# zeroMat = ??\n",
    "# your code here\n",
    "throw(ErrorException())"
   ]
  },
  {
   "cell_type": "code",
   "execution_count": null,
   "metadata": {
    "deletable": false,
    "editable": false,
    "nbgrader": {
     "cell_type": "code",
     "checksum": "70555c2d244ff3f0e392b938b7c4495f",
     "grade": true,
     "grade_id": "cell-d124ce482005f752",
     "locked": true,
     "points": 2,
     "schema_version": 3,
     "solution": false,
     "task": false
    }
   },
   "outputs": [],
   "source": [
    "#autograder cell\n",
    "# Just checking if you succesfully ran the code! "
   ]
  },
  {
   "cell_type": "markdown",
   "metadata": {},
   "source": [
    "### Learning from the special matrix command zeros can you create a matrix of random numbers?\n",
    "Hint: Use the statement ```randn``` (equivalent of zeros but for creating matrices of random numbers) \n",
    "For example see the code in the fourth cell after this, it creates a 1x1 Matrix of a random number!\n",
    "\n",
    "### b) Create a matrix A of random numbers from a standard normal distribution(randn) with dimensions (17,8) "
   ]
  },
  {
   "cell_type": "code",
   "execution_count": null,
   "metadata": {
    "deletable": false,
    "nbgrader": {
     "cell_type": "code",
     "checksum": "0bb141c31587e997a8d46333cececd3b",
     "grade": false,
     "grade_id": "cell-7aef9ce25edc0260",
     "locked": false,
     "schema_version": 3,
     "solution": true,
     "task": false
    }
   },
   "outputs": [],
   "source": [
    "# A = randn(?,?)\n",
    "# your code here\n",
    "throw(ErrorException())"
   ]
  },
  {
   "cell_type": "code",
   "execution_count": null,
   "metadata": {
    "deletable": false,
    "editable": false,
    "nbgrader": {
     "cell_type": "code",
     "checksum": "3b836e0f177387a5d638f5cee805bd0a",
     "grade": true,
     "grade_id": "cell-8cd8412de17d5b8f",
     "locked": true,
     "points": 2,
     "schema_version": 3,
     "solution": false,
     "task": false
    }
   },
   "outputs": [],
   "source": [
    "#autograder cell"
   ]
  },
  {
   "cell_type": "markdown",
   "metadata": {},
   "source": [
    "### A note about random seeds\n",
    "\n",
    "Random numbers, in Julia, are not truly \"random\". They are instead generated from a seed. In future homeworks, we will set the random seed manually, so that we are able to automatically grade your code output, even when the code inputs are ostensibly random. This property is also good for you - it would be difficult, to say the least, to diagnose issues in output if your input changes every time you run the cell! Here is a demonstration: the following cell, that generates a random number based on a seed, will generate the random number <code>-0.5560268761463861</code>"
   ]
  },
  {
   "cell_type": "code",
   "execution_count": null,
   "metadata": {},
   "outputs": [],
   "source": [
    "using Random \n",
    "Random.seed!(42)\n",
    "random_num = randn(1,1)"
   ]
  },
  {
   "cell_type": "markdown",
   "metadata": {},
   "source": [
    "Whoah! As can be seen, the random number generated is exactly the same. CAUTION: IT IS CRUCIAL TO ALWAYS MAKE SURE CELLS CONTAINING RANDOM SEEDS IN HOMEWORKS ARE RUN BEFORE RUNNING CELLS THAT GENERATE RANDOM NUMBERS. Humans may be smart, but autograders are dumb: we know that you generated a random number that we did not predict, but the autograder just sees an unexpected output, and assumes that your code was incorrect."
   ]
  },
  {
   "cell_type": "markdown",
   "metadata": {},
   "source": [
    "**Note:  Other ways to build matrices**\n",
    "* use hcat and vcat to concatenate vectors together horizontally or vertically\n",
    "* use ones() or zeros(m, n) to create a m by n matrix of either ones or zeros\n",
    "* use Diagonal(M) to create a diagonal matrix from a vector M\n",
    "* Random functions\n",
    "    * rand(m, n) makes an m by n matrix of random numbers from a uniform distribution 0-1\n",
    "    * randn(m, n) m by n matrix from a standard normal distribution\n",
    "    * rand(X, m, n) m by n matrix of random numbers in an array X\n",
    "* use reshape(X, m, n) to turn a vector X into a matrix size m by n\n",
    "* use repeat(X, m ,n) to repeat matrix X m times in the row direction and n times in the column direction"
   ]
  }
 ],
 "metadata": {
  "kernelspec": {
   "display_name": "Julia 1.11.1",
   "language": "julia",
   "name": "julia-1.11"
  },
  "language_info": {
   "file_extension": ".jl",
   "mimetype": "application/julia",
   "name": "julia",
   "version": "1.11.1"
  }
 },
 "nbformat": 4,
 "nbformat_minor": 4
}
