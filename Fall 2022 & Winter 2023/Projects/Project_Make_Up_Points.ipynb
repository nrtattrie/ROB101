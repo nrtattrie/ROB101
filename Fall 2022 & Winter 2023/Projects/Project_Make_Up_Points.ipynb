{
 "cells": [
  {
   "cell_type": "markdown",
   "id": "8210feec",
   "metadata": {
    "deletable": false,
    "editable": false,
    "nbgrader": {
     "cell_type": "markdown",
     "checksum": "bec3cb02e84117cd7c0440199ceb85af",
     "grade": false,
     "grade_id": "cell-b0226589c3f2415e",
     "locked": true,
     "schema_version": 3,
     "solution": false,
     "task": false
    }
   },
   "source": [
    "#### University of Michigan - ROB 101 Computational Linear Algebra\n",
    "\n",
    "# Project Make-up Points (4)\n",
    "\n",
    "## Due date is posted on Canvas. No late submissions accepted. \n",
    "\n",
    "## The autograder rules. There is no contesting scores on this optional means of making up points.\n",
    "\n",
    "### Worth up to four (4) points. These points will be added to your project scores, with a cap set at perfect. For example, if you earn 58 of 60 points for the three projects, and you earn 3 points on this exercise, your total project score will be a perfect 60 points. If you earn 47 points on the three projects and earn 4 points here, you will score a 51 for your total project points. \n",
    "\n",
    "### There are no friendly checks. You need to check your own work as you go. We give you a required name for each of the functions you must write, but you must create everything else, including the return statements. \n",
    "\n",
    "### This assignment is to be completed on your own. You may not ask for help during office hours. You may post on Piazza about it, but no instructors, GSI or IAs will respond. Please do not post code on Piazza, only questions and responses. Posts containing code will be deleted. "
   ]
  },
  {
   "cell_type": "code",
   "execution_count": null,
   "id": "979dff6c",
   "metadata": {
    "deletable": false,
    "editable": false,
    "nbgrader": {
     "cell_type": "code",
     "checksum": "5bca8ce483fc153c9581f622ce771b76",
     "grade": false,
     "grade_id": "cell-e4350ee7fce6b9e8",
     "locked": true,
     "schema_version": 3,
     "solution": false,
     "task": false
    }
   },
   "outputs": [],
   "source": [
    "using LinearAlgebra\n",
    "using Random"
   ]
  },
  {
   "cell_type": "markdown",
   "id": "7bbf29cc",
   "metadata": {
    "deletable": false,
    "editable": false,
    "nbgrader": {
     "cell_type": "markdown",
     "checksum": "0067997cc2193faa49edb224d0c69d69",
     "grade": false,
     "grade_id": "cell-e0cac6bfb6dabdcf",
     "locked": true,
     "schema_version": 3,
     "solution": false,
     "task": false
    }
   },
   "source": [
    "# Problem 1 (1 point)\n",
    "\n",
    "## Build a function that returns ```true``` if matrices A and B are compatible for multiplication and ```false``` otherwise. We give you the name of the function and nothing more: TestABcompatible(A, B)\n",
    "\n",
    "### How would you check your own work? That is a key skill. Here is one idea. Write some code that looks at the output of your function and then does something based on that output:\n",
    "\n",
    "if TestABcompatible(A, B) == true\n",
    "\n",
    "    println(\"A and B are compatible\")\n",
    "    C = A*B # should work\n",
    "    \n",
    "elseif TestABcompatible(A, B) == false\n",
    "\n",
    "    println(\"A and B are incompatible\")\n",
    "    C = A*B # should generate an error\n",
    "    \n",
    "else \n",
    "\n",
    "    println(\"Ooooppps. We should never reach here because our output should be T or F!\")\n",
    "    \n",
    "end\n",
    "\n",
    "#### As another example, if I were writing a solver for a set of linear equations Ax = b, I might test the function by evaluating ||A*x_answer - b||, for example, to be sure it is tiny.\n",
    "\n",
    "#### We advise you to devise test cases for your functions and verify their correctness.\n"
   ]
  },
  {
   "cell_type": "code",
   "execution_count": null,
   "id": "ee777408",
   "metadata": {
    "deletable": false,
    "nbgrader": {
     "cell_type": "code",
     "checksum": "fb4ed8ba28b61334dbd3b02341fa5534",
     "grade": false,
     "grade_id": "cell-2bb2eaf4bc4b73a0",
     "locked": false,
     "schema_version": 3,
     "solution": true,
     "task": false
    }
   },
   "outputs": [],
   "source": [
    "# Build your function here\n",
    "# Be sure and test it\n",
    "\n",
    "# function TestABcompatible(A, B)\n",
    "\n",
    "\n",
    "# end\n",
    "\n",
    "# your code here\n",
    "throw(ErrorException())\n",
    "\n"
   ]
  },
  {
   "cell_type": "code",
   "execution_count": null,
   "id": "187401e0",
   "metadata": {},
   "outputs": [],
   "source": [
    "# It is suggested that you test your function here\n"
   ]
  },
  {
   "cell_type": "code",
   "execution_count": null,
   "id": "ca4ee90e",
   "metadata": {
    "deletable": false,
    "editable": false,
    "nbgrader": {
     "cell_type": "code",
     "checksum": "06b52c50c47143ed55542b28eb637f18",
     "grade": true,
     "grade_id": "cell-297b391e763e3b39",
     "locked": true,
     "points": 1,
     "schema_version": 3,
     "solution": false,
     "task": false
    }
   },
   "outputs": [],
   "source": [
    "#autograder cell"
   ]
  },
  {
   "cell_type": "markdown",
   "id": "06174c9d",
   "metadata": {
    "deletable": false,
    "editable": false,
    "nbgrader": {
     "cell_type": "markdown",
     "checksum": "7a18d61e88d5b0a3453649a1df87484a",
     "grade": false,
     "grade_id": "cell-478c1daaf9fc774b",
     "locked": true,
     "schema_version": 3,
     "solution": false,
     "task": false
    }
   },
   "source": [
    "# Problem 2 (1 point)\n",
    "\n",
    "## Build a function that takes in a matrix A and returns a basis for its column span. Call your function colSpan(A) and return a matrix whose columns are a basis for the column span. The basis vectors do not have to be orthogonal or orthonormal, but they do need to form a basis."
   ]
  },
  {
   "cell_type": "code",
   "execution_count": null,
   "id": "ed502a44",
   "metadata": {
    "deletable": false,
    "nbgrader": {
     "cell_type": "code",
     "checksum": "6c5f03895f6e0de157fddf8c9daf8835",
     "grade": false,
     "grade_id": "cell-b810b16ed94176d1",
     "locked": false,
     "schema_version": 3,
     "solution": true,
     "task": false
    }
   },
   "outputs": [],
   "source": [
    "# Build your function here\n",
    "# Be sure and test it\n",
    "\n",
    "\n",
    "# function colSpan(A)\n",
    "\n",
    "# end\n",
    "\n",
    "\n",
    "# your code here\n",
    "throw(ErrorException())"
   ]
  },
  {
   "cell_type": "code",
   "execution_count": null,
   "id": "06babe19",
   "metadata": {},
   "outputs": [],
   "source": [
    "# It is suggested that you test your function here"
   ]
  },
  {
   "cell_type": "code",
   "execution_count": null,
   "id": "93e1ae66",
   "metadata": {
    "deletable": false,
    "editable": false,
    "nbgrader": {
     "cell_type": "code",
     "checksum": "a2263086cc98689727a155429f16669e",
     "grade": true,
     "grade_id": "cell-ed166333a27bf988",
     "locked": true,
     "points": 1,
     "schema_version": 3,
     "solution": false,
     "task": false
    }
   },
   "outputs": [],
   "source": [
    "#autograder cell"
   ]
  },
  {
   "cell_type": "markdown",
   "id": "8bbee36f",
   "metadata": {
    "deletable": false,
    "editable": false,
    "nbgrader": {
     "cell_type": "markdown",
     "checksum": "d9a6c4baead388920fd91d0bf8888485",
     "grade": false,
     "grade_id": "cell-3603f9d820cdf529",
     "locked": true,
     "schema_version": 3,
     "solution": false,
     "task": false
    }
   },
   "source": [
    "# Problem 3 (1 + 1)\n",
    "\n",
    "## Consider Ax = b, where A is n x m, and b is n x 1. Design a function that will return \n",
    "    - an exact solution whenever an exact solution exists (whether unique or not)\n",
    "    - 0.0 (the number zero) when an exact solution does not exist \n",
    "    - and if you want two (2) points instead of one (1): in the case that there exist more than one exact solution, your function must return an exact solution that is NOT the minimum norm solution. Yes! That's correct. Your answer solves an underdetermined set of equations, but your answer is not the minimum norm solution we used in ROB 101. \n",
    "    \n",
    "### The autograder will NOT assume n = m.\n",
    "\n",
    "### Name your function myFunkySolver(A,b) and have it return x as defined above. The same function name will be used by the autograder to first check for one point, and then to test the last condition for a second point."
   ]
  },
  {
   "cell_type": "code",
   "execution_count": null,
   "id": "20a7096d",
   "metadata": {
    "deletable": false,
    "nbgrader": {
     "cell_type": "code",
     "checksum": "a4e79dcfab0a66aa6b29f5e009ec6844",
     "grade": false,
     "grade_id": "cell-8d98c918b863dffa",
     "locked": false,
     "schema_version": 3,
     "solution": true,
     "task": false
    }
   },
   "outputs": [],
   "source": [
    "# Build your function here\n",
    "# Be sure and test it\n",
    "\n",
    "# function myFunkySolver(A,b)\n",
    "\n",
    "\n",
    "# end\n",
    "\n",
    "# your code here\n",
    "throw(ErrorException())"
   ]
  },
  {
   "cell_type": "code",
   "execution_count": null,
   "id": "204f293d",
   "metadata": {},
   "outputs": [],
   "source": [
    "# It is suggested that you test your function here"
   ]
  },
  {
   "cell_type": "markdown",
   "id": "420c2eb8",
   "metadata": {
    "deletable": false,
    "editable": false,
    "nbgrader": {
     "cell_type": "markdown",
     "checksum": "3e845be8fec093072851869f829692cd",
     "grade": false,
     "grade_id": "cell-48e7fc77fc681335",
     "locked": true,
     "schema_version": 3,
     "solution": false,
     "task": false
    }
   },
   "source": [
    "## This autograder cell is checking that your function returns\n",
    "    - an exact solution to Ax = b whenever an exact solution exists, INCLUDING CASES where there are multiple solutions\n",
    "    - 0.0 (the number zero) when an exact solution does not exist \n",
    "    \n",
    "## This autograder cell is NOT checking that when multiple solutions exist, you are returing a solution that is distinct from the minimum norm solution. That will be done in a separate cell.    "
   ]
  },
  {
   "cell_type": "code",
   "execution_count": null,
   "id": "fcc13f7b",
   "metadata": {
    "deletable": false,
    "editable": false,
    "nbgrader": {
     "cell_type": "code",
     "checksum": "77797c0945220643e6741ccff78aa09a",
     "grade": true,
     "grade_id": "cell-4f5344a6221962e2",
     "locked": true,
     "points": 1,
     "schema_version": 3,
     "solution": false,
     "task": false
    }
   },
   "outputs": [],
   "source": [
    "#autograder cell"
   ]
  },
  {
   "cell_type": "markdown",
   "id": "caa4549f",
   "metadata": {
    "deletable": false,
    "editable": false,
    "nbgrader": {
     "cell_type": "markdown",
     "checksum": "842404d19ab99e4490f9bdfde53c123b",
     "grade": false,
     "grade_id": "cell-258c588fe6ffe186",
     "locked": true,
     "schema_version": 3,
     "solution": false,
     "task": false
    }
   },
   "source": [
    "## This autograder cell is checking: in the case that there exist more than one exact solution to Ax = b, your function is returning an exact solution that is NOT the minimum norm solution. Yes! That's correct. Your answer solves an underdetermined set of equations, but your answer is not the minimum norm solution we used in ROB 101. "
   ]
  },
  {
   "cell_type": "code",
   "execution_count": null,
   "id": "f00ec126",
   "metadata": {
    "deletable": false,
    "editable": false,
    "nbgrader": {
     "cell_type": "code",
     "checksum": "4fd7cd109091e8a1835a4c72796bba48",
     "grade": true,
     "grade_id": "cell-20e53550d49384c4",
     "locked": true,
     "points": 1,
     "schema_version": 3,
     "solution": false,
     "task": false
    }
   },
   "outputs": [],
   "source": [
    "#autograder cell"
   ]
  }
 ],
 "metadata": {
  "kernelspec": {
   "display_name": "Julia 1.8.2",
   "language": "julia",
   "name": "julia-1.8"
  },
  "language_info": {
   "file_extension": ".jl",
   "mimetype": "application/julia",
   "name": "julia",
   "version": "1.8.2"
  }
 },
 "nbformat": 4,
 "nbformat_minor": 5
}
