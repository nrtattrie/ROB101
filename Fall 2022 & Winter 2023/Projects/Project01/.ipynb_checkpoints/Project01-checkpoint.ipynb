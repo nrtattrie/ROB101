{
 "cells": [
  {
   "cell_type": "markdown",
   "metadata": {
    "nbgrader": {
     "grade": false,
     "grade_id": "cell-f966b2e1a5f75971",
     "locked": true,
     "schema_version": 3,
     "solution": false,
     "task": false
    }
   },
   "source": [
    "### University of Michigan - ROB 101 Computational Linear Algebra \n",
    "\n",
    "# Project 1: Robotic Mapping with LIDAR Data\n",
    "\n",
    "##  Welcome to the world of Linear Transformations. \n",
    "In this project we will help you to experience how powerful matrix algebra is in handling large (HUGE) quantities of data. \n",
    "\n",
    "\n",
    "## Honor code: \n",
    "* You can ask general questions on Piazza\n",
    "* If your notebook is hung up for some reason, you can definitely let us know on Piazza. \n",
    "* You can ask specific questions only in a breakout room during office hours\n",
    "* Do not post any code, answers, or images on Piazza. \n",
    "* Do not work with other human beings with the exception of an IA, GSI, or professor of the course. \n",
    "* By submitting this project, you are attesting that it represents your own work and not the work of anyone else, with the exception of any assistance provided in office hours by an IA, GSI, or professor of ROB 101. "
   ]
  },
  {
   "cell_type": "code",
   "execution_count": null,
   "metadata": {},
   "outputs": [],
   "source": [
    "using Plots"
   ]
  },
  {
   "cell_type": "markdown",
   "metadata": {
    "nbgrader": {
     "grade": false,
     "locked": true,
     "solution": false
    }
   },
   "source": [
    "## Please read carefullly: \n",
    "\n",
    "## Due date is posted on Canvas. Projects are accepted late with a 15% per day penalty, pro-rated hourly. If you are 30 hours late, your penalty is (30/24)*15%. \n",
    "\n",
    "## We use an autograder to check your work. If you invent new notation (such as, new variable names) for yourself, you will mess up the autograder and receive no points.\n",
    "\n",
    "## If you change the name of this file, it will not be graded by the autograder\n",
    "\n",
    "## Hit save periodically while working in this notebook. You can submit multiple times because we only grade the last submission. \n",
    "\n",
    "## If we have to do manual grading because of you not using the suggested variable names for your answers, there will be a penalty of 50% for the first mistake, 75% for the second mistake, and 100% for all mistakes after that. \n",
    "\n",
    "## In future projects, there will be NO MANUAL re-grading done at all. Our experience is that 95% of the class will have no problem with this. "
   ]
  },
  {
   "cell_type": "markdown",
   "metadata": {
    "nbgrader": {
     "grade": false,
     "grade_id": "cell-dab85f2e2794f7f2",
     "locked": true,
     "schema_version": 3,
     "solution": false,
     "task": false
    }
   },
   "source": [
    "## Task 0 (0 Points) \n",
    "\n",
    "This task is a warm up on vector and matrix operations. We've covered all of this material in the Labs and juliahws, so you can skip it if you wish. Nothing before Task 1 is graded. \n",
    "\n",
    "* Let A be an n x m matrix\n",
    "* size(A,1) returns n, number of rows of A\n",
    "* size(A,2) returns m, number of columns of A\n",
    "* size(A) alone returns n, m, a 2-tuple with number of rows first and number of columns second\n",
    "* length(A) returns n*m, the number of elements in A\n",
    "\n",
    "* Let v be an n-vector, which we call a column vector in lecture, or a 1 by n matrix, which we call a row vector in lecture\n",
    "* length(v) returns n, the number of elements in v.\n",
    "* While you can apply the size command to a vector, it is usually an error to do so. It is much preferred to use the length command\n",
    "\n",
    "### Important: it is very rare that you need the number of elements in a matrix. You almost always want either the number of rows AND the number of columns, or, only the number of rows OR columns"
   ]
  },
  {
   "cell_type": "code",
   "execution_count": null,
   "metadata": {
    "nbgrader": {
     "grade": false,
     "locked": true,
     "solution": false
    }
   },
   "outputs": [],
   "source": [
    "# Run me. I create some data to play with\n",
    "using Random\n",
    "Random.seed!(101)\n",
    "A = randn(3,4)\n",
    "B = randn(4,10)\n",
    "v3 = [1;2;3.0]\n",
    "v4 = [1;2;3;4.0];"
   ]
  },
  {
   "cell_type": "code",
   "execution_count": null,
   "metadata": {},
   "outputs": [],
   "source": [
    "# number of rows and columns in a matrix\n",
    "# \n",
    "# uncomment the next line and complete the command to give the number of rows and columns of the matrix A\n",
    "# nRows, nCols = ???\n",
    "\n",
    "\n",
    "# quick check\n",
    "if [nRows nCols] == [3 4]\n",
    "    println(\"Looks good\")\n",
    "elseif [nRows nCols] == [4 3]\n",
    "    println(\"That would be [nCols nRows]. Try again.\")\n",
    "else\n",
    "    println(\"No idea what went wrong. Try again, based on the above clues!\")\n",
    "end"
   ]
  },
  {
   "cell_type": "code",
   "execution_count": null,
   "metadata": {},
   "outputs": [],
   "source": [
    "# if you ONLY want the number of columns in a matrix and do not need the rows\n",
    "# \n",
    "# uncomment the next line and complete the command to provide ONLY the number of \n",
    "# columns in the matrix B\n",
    "#\n",
    "# nColsB = ??\n",
    "\n",
    "# quick check\n",
    "if nColsB == 10\n",
    "    println(\"Looks good. You are on a roll.\")\n",
    "elseif nColsB == 40\n",
    "    println(\"Looks like you used the length command, which is incorrect. Please review size vs length commands in the Lab Manual. \")\n",
    "elseif nColsB == 3\n",
    "    println(\"Incorect. You have confused rows with columns.\")\n",
    "else\n",
    "    println(\"Source of error is unknown to us, but try again.\")\n",
    "end\n",
    "\n",
    "if @isdefined(nRowsB)\n",
    "    println(\"You must have used nRowsB, nColsB = size(B). We wanted you to use nColsB=size(B,2)\")\n",
    "end\n"
   ]
  },
  {
   "cell_type": "code",
   "execution_count": null,
   "metadata": {},
   "outputs": [],
   "source": [
    "# Add a size compatible vector to EACH of the columns of a matrix\n",
    "#\n",
    "# We illustrate three methods add v3 to each of the columns of A\n",
    "\n",
    "C = copy(A)\n",
    "\n",
    "# method 1, brute force\n",
    "C[:,1] = C[:, 1] + v3\n",
    "C[:,2] = C[:, 2] + v3\n",
    "C[:,3] = C[:, 3] + v3\n",
    "C[:,4] = C[:, 4] + v3\n",
    "\n",
    "display(A)\n",
    "display(C)\n",
    "display(C-A);"
   ]
  },
  {
   "cell_type": "code",
   "execution_count": null,
   "metadata": {},
   "outputs": [],
   "source": [
    "C = copy(A)\n",
    "\n",
    "# method 2, a for loop\n",
    "for i = 1:size(C,2)\n",
    "    C[:,i] = C[:,i] + v3 # C[:,i] takes all the rows of C and the i-th column\n",
    "end\n",
    "\n",
    "display(A)\n",
    "display(C)\n",
    "display(C-A);"
   ]
  },
  {
   "cell_type": "code",
   "execution_count": null,
   "metadata": {},
   "outputs": [],
   "source": [
    "C = copy(A)\n",
    "\n",
    "# method 3, Julia magic using the .operation (dot operation, also called \n",
    "# broadcasting in programming)\n",
    "\n",
    "C = C .+ v3 # if you remove the dot before the plus sign, you will generate an error\n",
    "\n",
    "display(A)\n",
    "display(C)\n",
    "display(C-A);"
   ]
  },
  {
   "cell_type": "code",
   "execution_count": null,
   "metadata": {},
   "outputs": [],
   "source": [
    "# Use your favorite method to add v4 to each column of the matrix B. \n",
    "# Store the result in matrix C\n",
    "\n",
    "C = copy(B)\n",
    "# C = ??\n",
    "\n",
    "# Our checks assume you put the result in matrix C\n",
    "E = C - B; test = true\n",
    "for i = 1:length(v4)\n",
    "    for j = 1:size(E,2)\n",
    "        test = test & isapprox(E[i,j], i, atol = 1e-2)\n",
    "    end\n",
    "end\n",
    "\n",
    "if test == true\n",
    "    println(\"Good Work\")\n",
    "else\n",
    "    println(\"Try again. You will need to do this in Project 1\")\n",
    "end\n",
    "        "
   ]
  },
  {
   "cell_type": "code",
   "execution_count": null,
   "metadata": {},
   "outputs": [],
   "source": [
    "# Multiply a size compatible matrix into the columns of a second matrix\n",
    "#\n",
    "# We illustrate two distinct methods to multiply each column of the matrix B \n",
    "# by the matrix A and store the results in a matrix C of the correct size\n",
    "\n",
    "\n",
    "# method 1, for loop\n",
    "\n",
    "nRowsA = size(A,1)\n",
    "nColsB = size(B,2)\n",
    " \n",
    "C = zeros(nRowsA, nColsB) # a matrix of zeros of the correct size\n",
    "\n",
    "for k = 1:size(B,2)\n",
    "    v = B[:,k] # extract the k-th column of B\n",
    "    Av = A * v # do the multiplication of A times the k-th column of B\n",
    "    C[:,k] = Av # assign the result to the k-th column of C\n",
    "end\n",
    "\n",
    "\n",
    "# method 1-a, a small variation on the above\n",
    "D = zeros(nRowsA, nColsB) # a matrix of zeros of the correct size\n",
    "\n",
    "for k = 1:size(B,2)\n",
    "    D[:,k] = A * B[:,k] # Do it all in one step\n",
    "end\n",
    "\n",
    "# method 1-b, a small variation on the above\n",
    "\n",
    "E = Array{Float64}(undef, nRowsA, nColsB) # a blank matrix of the correct size. '\n",
    "                                          # It is blank due to the use of undef \n",
    "\n",
    "for k = 1:size(B,2)\n",
    "    E[:,k] = A * B[:,k] # Do it all in one step\n",
    "end\n",
    "\n",
    "# Are they the same\n",
    "display(C-D)\n",
    "display(C-E);"
   ]
  },
  {
   "cell_type": "code",
   "execution_count": null,
   "metadata": {},
   "outputs": [],
   "source": [
    "# method 2 to multiply each column of the matrix B by the matrix A and store the results \n",
    "# in a matrix C of the correct size\n",
    "\n",
    "C = A*B # Yep, it's that simple\n"
   ]
  },
  {
   "cell_type": "code",
   "execution_count": null,
   "metadata": {},
   "outputs": [],
   "source": [
    "# Use your favorite method to multiply each column of the matrix N by the matrix by the matrix M\n",
    "# and store the results in a matrix call myProd\n",
    "\n",
    "using Random\n",
    "Random.seed!(101)\n",
    "M = randn(11,11)\n",
    "N = randn(11,11)\n",
    "\n",
    "# myProd = ??\n",
    "\n",
    "# Our check of your work\n",
    "using LinearAlgebra\n",
    "\n",
    "if isapprox(norm(myProd), 43.9059, atol = 1e-2)\n",
    "    println(\"Good work. You are ready to take on the Project.\")\n",
    "elseif isapprox(norm(myProd), 35.5951, atol = 1e-2)\n",
    "    println(\"You got it backwards. \")\n",
    "    println(\"You multiplied each column of M by the matrix N. Try again.\")\n",
    "else\n",
    "    println(\"You may want to reach out to us on Piazza for help.\")\n",
    "end"
   ]
  },
  {
   "cell_type": "markdown",
   "metadata": {
    "nbgrader": {
     "grade": false,
     "grade_id": "cell-70eb7a703c34feab",
     "locked": true,
     "schema_version": 3,
     "solution": false,
     "task": false
    }
   },
   "source": [
    "## Task 1 (10 Points)\n",
    "\n",
    "In this task, you will plot simple shapes and apply different transformations. The goal is to learn a matrix version of what mathematicians call \"affine transformations\". You will learn a special way to write coordinates that roboticists use on a regular basis: *homogeneous coordinates*."
   ]
  },
  {
   "cell_type": "code",
   "execution_count": null,
   "metadata": {
    "nbgrader": {
     "grade": false,
     "grade_id": "cell-cfa230e93983e75f",
     "locked": true,
     "schema_version": 3,
     "solution": false,
     "task": false
    }
   },
   "outputs": [],
   "source": [
    "# Run me, do not change me! I am creating a few utility \n",
    "# plotting functions to use throughout this project\n",
    "\n",
    "\n",
    "#=\n",
    "    This function generates a 2D Plot\n",
    "    Mandatory parameters are\n",
    "                        xdata -> x coordinates\n",
    "                        ydata -> y coordinates\n",
    "                        color -> plot color\n",
    "=#\n",
    "function plot_2D(xdata::Vector{Float64}, ydata::Vector{Float64}, color; \n",
    "                 new=true, aspect_ratio=:equal, \n",
    "                 xlims = (-2,2), ylims = (-2,2), grid=true,\n",
    "                 framestyle=:origin, legend=false, linewidth=3)\n",
    "    fxn = new ? plot : plot! \n",
    "    fxn(xdata, ydata, seriescolor=color, aspect_ratio=aspect_ratio, xlims=xlims,\n",
    "        ylims=ylims, grid=grid, framestyle=framestyle, legend=legend, \n",
    "        linewidth=linewidth)\n",
    "end\n",
    "\n",
    "\n",
    "#=\n",
    "    This function generates a 2D Point Cloud Plot\n",
    "    Mandatory parameters are\n",
    "                        xdata -> x coordinates\n",
    "                        ydata -> y coordinates\n",
    "                        color -> pointcloud color\n",
    "=#\n",
    "function plot_2D_pointcloud(xdata::Vector{Float64}, ydata::Vector{Float64}, color; \n",
    "                new=true, seriestype=:scatter, markersize = 0.8, \n",
    "                markerstrokewidth = 0, dpi = 150, legend = false,\n",
    "                markercolor  = cgrad(:rainbow, rev = true))\n",
    "    fxn = new ? plot : plot!\n",
    "    fxn(xdata, ydata, seriestype=seriestype, markersize=markersize, \n",
    "        markerstrokewidth=markerstrokewidth, dpi=dpi, \n",
    "        markercolor=markercolor, marker_z=color, legend=legend)\n",
    "end\n",
    "\n",
    "\n",
    "#=\n",
    "    This function generates a 3D Point Cloud Plot\n",
    "    Mandatory parameters are\n",
    "                        xdata -> x coordinates\n",
    "                        ydata -> y coordinates\n",
    "                        zdata -> z coordinates\n",
    "                        limits -> tuple of coordinate limits\n",
    "                        color -> pointcloud color\n",
    "=#\n",
    "function plot_3D_pointcloud(xdata::Vector{Float64}, ydata::Vector{Float64}, zdata::Vector{Float64}, \n",
    "           limits, color::Vector{Float64};\n",
    "            seriestype=:scatter3d, markersize=0.1, camera=(0,90), dpi=1080,\n",
    "            markercolor=cgrad(:rainbow, rev=true), background_color=:black, \n",
    "            foreground_color=:black, legend=false, aspect_ratio=1, new=false)\n",
    "    fxn = new ? plot : plot!\n",
    "    fxn(xdata, ydata, zdata, xlims=limits[1], ylims=limits[2], zlims=limits[3], \n",
    "    seriestype=seriestype, markersize=markersize, camera=camera, dpi=dpi,\n",
    "    markercolor=markercolor, marker_z=color, background_color=background_color,\n",
    "    foreground_color=foreground_color, legend=legend, aspect_ratio=aspect_ratio,\n",
    "    markerstrokewidth=0.001) \n",
    "end\n",
    "\n",
    "\n",
    "#=\n",
    "    This function plots the robot in 2D as a quiver\n",
    "    Mandatory parameters are\n",
    "                        xpos -> x coordinate of robot\n",
    "                        ypos -> y coordinate of robot \n",
    "                        limits -> tuple of coordinate limits\n",
    "                        gradient -> robot orientation (u,v)\n",
    "=#\n",
    "function plot_2D_robot(xpos::Vector{Float64}, ypos::Vector{Float64}, limits, gradient;\n",
    "        seriestype=:quiver, projection=\"3d\", arrow=(10,10), camera=(0,90), dpi=1080,\n",
    "        background_color=:black, foreground_color=:black, legend=false, aspect_ratio=1, \n",
    "        seriescolor=:white, new=false)\n",
    "    fxn = new ? plot : plot!\n",
    "    fxn(xpos, ypos, seriescolor=seriescolor, seriestype=seriestype, projection=projection, \n",
    "        gradient=gradient, arrow=arrow, xlims=limits[1], ylims=limits[2], zlims=limits[3], \n",
    "        camera=camera, dpi=dpi, background_color=background_color, \n",
    "        foreground_color=foreground_color, legend=legend, aspect_ratio=aspect_ratio)\n",
    "end\n",
    "\n",
    "\n",
    "#=\n",
    "    This function generates a 3D Point Cloud Plot\n",
    "    Mandatory parameters are\n",
    "                        xpos -> x coordinate of robot\n",
    "                        ypos -> y coordinate of robot\n",
    "                        zpos -> z coordinate of robot\n",
    "=#\n",
    "function plot_3D_robot(xpos::Vector{Float64}, ypos::Vector{Float64}, zpos::Vector{Float64}; \n",
    "                    markersize=4, seriestype=:scatter3d, seriescolor=:white, new=false)\n",
    "    fxn = new ? plot : plot!\n",
    "    fxn(xpos, ypos, zpos, seriescolor=seriescolor, markersize=markersize, seriestype=seriestype)\n",
    "end\n",
    "    "
   ]
  },
  {
   "cell_type": "code",
   "execution_count": null,
   "metadata": {
    "nbgrader": {
     "grade": false,
     "grade_id": "cell-5573d241787c3842",
     "locked": true,
     "schema_version": 3,
     "solution": false,
     "task": false
    }
   },
   "outputs": [],
   "source": [
    "# Run me, do not change me! I am creating a set of points to form a \n",
    "# square when plotted\n",
    "using Plots\n",
    "gr()\n",
    "# default(fmt = :png)\n",
    "\n",
    "#= Define points to form a square, note there are five points, because \n",
    "   we need to come back to the first point to complete the square for \n",
    "   plotting (connecting lines) =#\n",
    "\n",
    "# [x1 y1; x2 y2; ...; x5 y5]' \n",
    "points = [0. 0.; 0. 1.;1. 1.; 1. 0.; 0. 0.]';\n",
    "\n",
    "# After the transpose, the array points looks like this\n",
    "# [x1 x2 ... x5; \n",
    "#  y1 y2 ... y5]\n",
    "\n",
    "# x coordinates extracted from the array\n",
    "x = points[1,:]\n",
    "\n",
    "# y coordinates extracted from the array\n",
    "y = points[2,:]\n",
    "\n",
    "# plotting the array of points in the same plot as a coordinate frame  \n",
    "plot_2D(x, y, :green)"
   ]
  },
  {
   "cell_type": "markdown",
   "metadata": {
    "nbgrader": {
     "grade": false,
     "grade_id": "cell-051e3787fd73de18",
     "locked": true,
     "schema_version": 3,
     "solution": false,
     "task": false
    }
   },
   "source": [
    "##### ### Here are three very important operations on points: \n",
    "\n",
    "a) translation, which means $\\begin{bmatrix} x' \\\\ y' \\end{bmatrix}=\\begin{bmatrix} x \\\\ y \\end{bmatrix} + \\begin{bmatrix} t_x \\\\ t_y \\end{bmatrix}$, where $t_x$ and $t_y$ are given constants. Here, x' is a new x point. It is not a transpose. The same goes for y'.\n",
    "\n",
    "b) rotating an object by a given angle, which will will turn out to look like this \n",
    "$\\begin{bmatrix} x'\\\\y'\\end{bmatrix} = \\begin{bmatrix}\\cos{\\theta}&-\\sin{\\theta} \\\\ \\sin{\\theta}&\\cos{\\theta}\\end{bmatrix} \\cdot \\begin{bmatrix}x\\\\y\\\\ \\end{bmatrix}$\n",
    "where $\\theta$ is the angle by which we wish to rotate a set of points in the counterclockwise direction, and finally\n",
    "\n",
    "c) scaling the x and y coordinates of a set of points to stretch an object or contract it, potentially by diffrent amounts in the x and y directions. Scaling looks like this\n",
    "$\\begin{bmatrix} x'\\\\y' \\end{bmatrix} = \\begin{bmatrix}S_x&0\\\\0&S_y\\\\ \\end{bmatrix} \\cdot \\begin{bmatrix}x\\\\y\\\\ \\end{bmatrix}$\n",
    "\n",
    "We will tackle these operations one by one in what follows. The first thing we notice is that rotation and scaling involve matrix-vector multiplication, while translation involves adding two vectors. Even though addition seems simpler than multiplication, in what you may pereceive as a perverse use of mathematics, we are going to show you how to turn translation into matrix multiplication! The fruit of our labor will be a uniform way in which to write down these three operations and that will simplify our manipulation of the roughly 185 MB of LiDAR data.\n",
    "\n"
   ]
  },
  {
   "cell_type": "markdown",
   "metadata": {
    "nbgrader": {
     "grade": false,
     "grade_id": "cell-da9eb000320ac413",
     "locked": true,
     "schema_version": 3,
     "solution": false,
     "task": false
    }
   },
   "source": [
    "### Part A: The first operation we will perform on our square is to translate it. The corresponding mathematical operation is called \"translation\" (2 points)\n",
    "\n",
    "We will translate each point by -0.5 in x and -0.5 in y so as to center our square around the origin. \n",
    "\n",
    "**Your task:** Apply a translation $\\begin{bmatrix} x \\\\ y \\end{bmatrix} \\mapsto \\begin{bmatrix} x \\\\ y \\end{bmatrix} + \\begin{bmatrix} t_x \\\\ t_y \\end{bmatrix}$ to the points that form the square using vector addition. We will then work toward using matrix multiplication. Here $\\begin{bmatrix} t_x \\\\ t_y \\end{bmatrix} = \\begin{bmatrix} -0.5 \\\\ -0.5 \\end{bmatrix}$. Store the translated points in an array called points2. "
   ]
  },
  {
   "cell_type": "code",
   "execution_count": null,
   "metadata": {
    "nbgrader": {
     "grade": false,
     "grade_id": "cell-5310d729e0818dae",
     "locked": false,
     "schema_version": 3,
     "solution": true,
     "task": false
    }
   },
   "outputs": [],
   "source": [
    "# Define the translation vector t\n",
    "t = [-0.5; -0.5]\n",
    "\n",
    "# Recall that the points vector is organized like this, with each column\n",
    "# of points containing an a x-y pair of coordinates that define corners \n",
    "# of the square plotted above.\n",
    "#\n",
    "# points = [x1 x2 ... x5; \n",
    "#           y1 y2 ... y5]\n",
    "\n",
    "# Make a copy of the original points and call it points2\n",
    "points2 = copy(points)\n",
    "\n",
    "# Your job: Use your favorite method modify the values of points2 \n",
    "# so that the x-y values stored in it are indeed translated by the vector t. \n",
    "\n",
    "# YOUR CODE HERE\n",
    "\n",
    "x2 = points2[1,:];\n",
    "y2 = points2[2,:];\n",
    " \n",
    "plot_2D(x2, y2, :steelblue, new=false)"
   ]
  },
  {
   "cell_type": "code",
   "execution_count": null,
   "metadata": {},
   "outputs": [],
   "source": [
    "println(\"If you do not pass the test, you can go back and fix your work!\")\n",
    "\n",
    "# friendly check\n",
    "# if the value of is_it_correct_checkN is \"Yes\", then your answer \n",
    "# may be correct. However, if the value of is_it_correct_checkN is \"No\", \n",
    "# then your answer is defintely wrong\n",
    "\n",
    "is_it_correct_check1 = ((points2 - points) == hcat([t for i=1:size(points2,2)]...)) ? \"Yes\" : \"No\"\n",
    "\n",
    "@show is_it_correct_check1;  "
   ]
  },
  {
   "cell_type": "markdown",
   "metadata": {
    "nbgrader": {
     "grade": false,
     "locked": true,
     "solution": false
    }
   },
   "source": [
    "### Part B: Translation as matrix multiplication in homogeneous coordinates (1 point)\n",
    "\n",
    "Our goal here is to show how the operation of translation can be written as a matrix-vector multiplication. Roboticists want to do this so that the three operations, translation, rotation, and scaling can be written in exactly the same format. This extra bit of work makes manipulating huge files of LiDAR data much easier.\n",
    "\n",
    "We pose the question: how can we use matrix multiplication to achieve a translation? The answer is, we need to use a trick that's called homogeneous coordinates. This is a simple operation on our data because we just need to append a 1 to each point [x;y]. That is, we convert $\\begin{bmatrix} x \\\\ y \\end{bmatrix}$ to homogeneous coordinates by $$\\begin{bmatrix} x \\\\ y \\\\ 1 \\end{bmatrix} .$$\n",
    "The inverse operation, taking a vector of homoegeneous coordinates and dropping the 1, produces the original vector [x;y]. This seems almost too simple to bother mentioning, but we do it anyway!\n",
    "\n",
    "We claim that we can perform vector translation by multiplying a vector in homogemeous coordinates by the matrix $$ T = \\begin{bmatrix} 1 & 0 & t_x \\\\ 0 & 1 & t_y \\\\ 0 & 0 & 1 \\end{bmatrix}.$$\n",
    "\n",
    "Let's see if this actually works $$ \\begin{bmatrix} 1 & 0 & t_x \\\\ 0 & 1 & t_y \\\\ 0 & 0 & 1 \\end{bmatrix} * \\begin{bmatrix} x \\\\ y \\\\ 1 \\end{bmatrix} =  \\begin{bmatrix} 1 \\\\ 0 \\\\ 0 \\end{bmatrix} *  x +  \\begin{bmatrix} 0 \\\\ 1 \\\\ 0 \\end{bmatrix} * y +  \\begin{bmatrix} t_x \\\\ t_y \\\\ 1 \\end{bmatrix} * 1 = \\begin{bmatrix} x + t_x \\\\ y + t_y \\\\ 1 \\end{bmatrix},$$\n",
    "where we have used our columns times row method of matrix multiplication (you can re-do youself with the classical method to matrix times vector multiplication to get the same result). And when we drop the 1 to put our transformed vector back in the ordinary Cartesian coordinates we have\n",
    "$$ \\begin{bmatrix} x + t_x \\\\ y + t_y \\end{bmatrix},$$\n",
    "ta da! It's Ok if you're not blown away by this operation. We like to build toward a crescendo! \n",
    "\n",
    "<!-- ## Is this statement needed here?\n",
    "In general a 2D affine transformation takes the following form $$H_{3\\times 3} = \\begin{bmatrix} A_{2\\times 2} & t_{2\\times 1} \\\\ 0_{3\\times 1} & 1 \\end{bmatrix}.$$\n",
    "If $A$ is a rotation matrix, then $H$ will be a *rigid body transformation*. -->"
   ]
  },
  {
   "cell_type": "markdown",
   "metadata": {
    "nbgrader": {
     "grade": false,
     "grade_id": "cell-abb5f0a16e3fa027",
     "locked": true,
     "schema_version": 3,
     "solution": false,
     "task": false
    }
   },
   "source": [
    "**A task that we will do for you:** Implement the translation of the square using homogeneous coordinates and the above translation matrix. Pay attention here because there is code that you will want to copy and modify just a little bit when you perform rotation and scaling in homogeneous coordinates!"
   ]
  },
  {
   "cell_type": "code",
   "execution_count": null,
   "metadata": {
    "nbgrader": {
     "grade": false,
     "grade_id": "cell-7d81730915007a4a",
     "locked": false,
     "schema_version": 3,
     "solution": true,
     "task": false
    }
   },
   "outputs": [],
   "source": [
    "# Define the translation matrix T\n",
    "T = [1 0 -0.5;0 1 -0.5; 0 0 1];\n",
    "\n",
    "# Make a copy of the original points\n",
    "points3 = copy(points);\n",
    "\n",
    "# Append 1 to each point to make homogeneous coordinates\n",
    "points3 = [points3; ones(1,5)];\n",
    "\n",
    "# Apply the translation to each of the points that form our square by\n",
    "# multiplying each column of points3 by the matrix T and storing the result\n",
    "# back in points3\n",
    "points3 = T * points3 \n",
    "\n",
    "#= Remark: We could have used a for loop as shown in Task 0\n",
    "\n",
    "\n",
    "for i in 1:size(points3,2)           # Multiplies each column of  \n",
    "    points3[:,i] = T * points3[:,i]; # points3 by the tranform T\n",
    "end \n",
    "\n",
    "However, points3 = T * points3 does the same thing because\n",
    "T * points3 = [ T*points3[:,1]  T*points3[:,2] ... T*points3[:,end] ]\n",
    "\n",
    "\n",
    "The `vectorized` operation ends up being 2x faster and uses 7x less memory!\n",
    " \n",
    "You are free to use whichever method you prefer as you proceed with\n",
    "this project.\n",
    "=#   \n",
    "\n",
    "# Extract x and y coordinates and throw away the number 1 at the end of the vector\n",
    "\n",
    "x3 = points3[1,:];\n",
    "y3 = points3[2,:];\n",
    " \n",
    "plot_2D(x3, y3, :black, new=false, linewidth=5)"
   ]
  },
  {
   "cell_type": "markdown",
   "metadata": {},
   "source": [
    "### Part C: Rotation in Homogenous Coordinates (2 points)\n",
    "\n",
    "We now use the 2D rotation matrix in homogeneous coordinates:\n",
    "\n",
    "$\\begin{bmatrix} x'\\\\y'\\\\1 \\end{bmatrix} = \\begin{bmatrix}\\cos{\\theta}&-\\sin{\\theta}&0\\\\\\sin{\\theta}&\\cos{\\theta}&0\\\\0&0&1\\\\ \\end{bmatrix} \\cdot \\begin{bmatrix}x\\\\y\\\\1\\\\ \\end{bmatrix}$\n",
    "\n",
    "**Your task:** Rotate our square in the x-y plane by 45 degrees ($\\pi/4$). Build the transformation matrix to transform the square.     "
   ]
  },
  {
   "cell_type": "code",
   "execution_count": null,
   "metadata": {
    "nbgrader": {
     "grade": false,
     "grade_id": "cell-0638aa55383df2d8",
     "locked": false,
     "schema_version": 3,
     "solution": true,
     "task": false
    }
   },
   "outputs": [],
   "source": [
    "# Finish this portion of the the code to do the matrix multiplication \n",
    "# that does the Transformation. Modify the EXISTING points3 array to contain the \n",
    "# result of the transformation, like we did before! \n",
    "# Do NOT create a fresh points3 vector.\n",
    "#\n",
    "# Call your transformation matrix T\n",
    "\n",
    "# Hint: Do not re-initialize with the original green sqaure; \n",
    "# instead, directly modify the points3 array (black square)\n",
    "# Note: Make sure you have right square (comparing with the black \n",
    "# square in the pdf) \n",
    "\n",
    "# Warning: Do not leave the cos and sin terms out of your transformation matrix\n",
    "\n",
    "# We repeat: the autograder assumes transformation matrix is called T\n",
    "\n",
    "# YOUR CODE HERE\n",
    "\n",
    "# Extract x and y coordinates and throw away the number 1 at the end\n",
    "x3 = points3[1,:]\n",
    "y3 = points3[2,:]\n",
    "\n",
    "\n",
    "plot_2D(x3, y3, :red, new=false, linewidth=5)\n"
   ]
  },
  {
   "cell_type": "code",
   "execution_count": null,
   "metadata": {},
   "outputs": [],
   "source": [
    "# Friendly check\n",
    "using LinearAlgebra\n",
    "is_it_correct_check1 = abs(T[1,1]-cos(pi/4)) < 1e-4 ? \"Yes\" : \"No\"\n",
    "is_it_correct_check2 = abs(1-det(T[1:2,1:2])) < 1e-4 ? \"Yes\" : \"No\"\n",
    "is_it_correct_check3 = abs(points3[1,2]+0.707107 ) < 1e-4 ? \"Yes\" : \"No\"\n",
    "\n",
    "@show is_it_correct_check1;  # Transformation\n",
    "@show is_it_correct_check2;  # Transformation\n",
    "if (is_it_correct_check1 == \"No\")||(is_it_correct_check2 == \"No\")\n",
    "    println(\"You failed at least one test on the transformation matrix, T. Two common mistakes are:\")\n",
    "    println(\"   a) You did not call your transformation T\")\n",
    "    println(\"   b) You failed to use the appropriate trig functions in your transformation\")\n",
    "end\n",
    "@show is_it_correct_check3; # Points vector\n",
    "if is_it_correct_check3 == \"No\"\n",
    "    println(\"If you failed the transformation check, then that is probably why you failed this test.\")\n",
    "    println(\"If you passed the transformation check, then did you use the correct points vector. Double check, please!? \")\n",
    "    println(\"If you passed the transformation check, and you used the correct points vector, \n",
    "        then did you place the transformed points back into points3? \")\n",
    "end"
   ]
  },
  {
   "cell_type": "markdown",
   "metadata": {
    "nbgrader": {
     "grade": false,
     "locked": true,
     "solution": false
    }
   },
   "source": [
    "### Part D: Scaling (2 points)\n",
    "\n",
    "Next, we're going to scale the square, which means that we \"stretch\" its sides like a rubber band. Mathematicians sometimes call such transformations *non-rigid*. The scale transformation matrix in 2D is given as:\n",
    "\n",
    "$\\begin{bmatrix} x'\\\\y'\\\\1 \\end{bmatrix} = \\begin{bmatrix}S_x&0&0\\\\0&S_y&0\\\\0&0&1\\\\ \\end{bmatrix} \\cdot \\begin{bmatrix}x\\\\y\\\\1\\\\ \\end{bmatrix}$\n",
    "\n",
    "\n",
    "**Your task:** Scale the rotated square using $S_x = 1.5$ and $S_y = 0.5$"
   ]
  },
  {
   "cell_type": "code",
   "execution_count": null,
   "metadata": {
    "nbgrader": {
     "grade": false,
     "grade_id": "cell-d0ba62689c2e1a8b",
     "locked": false,
     "schema_version": 3,
     "solution": true,
     "task": false
    }
   },
   "outputs": [],
   "source": [
    "# Finish this portion of the the code to do the matrix multiplication \n",
    "# that implements the scaling Tranformation. In particular, modify the \n",
    "# points3 array to contain the result of the transformation, like \n",
    "# we did before!\n",
    "#\n",
    "# Note: Make sure you have the right square (comparing with the red square \n",
    "# in the pdf). So your points3 array is correct and ready to be modified!  \n",
    "\n",
    "# YOUR CODE HERE\n",
    "\n",
    "# Extract x and y coordinates and throw away the last one\n",
    "x3 = points3[1,:]\n",
    "y3 = points3[2,:]\n",
    "\n",
    "println(\"You do not need a friendly check cell because you can\")\n",
    "println(\"compare your plot to the one in the PDF of the project.\")\n",
    " \n",
    "plot_2D(x3, y3, :blue, new=false, linewidth=5)"
   ]
  },
  {
   "cell_type": "markdown",
   "metadata": {
    "nbgrader": {
     "grade": false,
     "grade_id": "cell-192b57c262051a46",
     "locked": true,
     "schema_version": 3,
     "solution": false,
     "task": false
    }
   },
   "source": [
    "### Part E: Putting it all together: Affine Transformations (3 points)\n",
    "\n",
    "\n",
    "All the transformations we have done so far (translation, rotation, and scaling), and even combinations of them, are called Affine Transformations.\n",
    "\n",
    "When we work with big data sets and we need to apply a sequence of translations, rotations, and scalings to a set of points, you can imagine that keeping track of everything during the transformation processes could become cumbersome over time. \n",
    "\n",
    "The saving feature of using the abstract notion of an Affine Transformation is that we can build a complicated transformation by multiplying together the individual transformations considered one at a time. For example, let's suppose we want to translate a set of points by [-0.5;-0.5], then rotate the translated object counterclockwise by 45 degrees, and then finally scale the translated and rotated object! That's a lot of transformations! Yes, but we can write the overall transformation as simply as this\n",
    "\n",
    "\n",
    "$$T = \\begin{bmatrix}1.5&0&0\\\\0&0.5&0\\\\0&0&1\\\\ \\end{bmatrix} \\cdot \\begin{bmatrix}\\cos(\\pi/4)&-\\sin(\\pi/4)&0\\\\\\sin(\\pi/4)&\\cos(\\pi/4)&0\\\\0&0&1\\\\ \\end{bmatrix} \\cdot \\begin{bmatrix}1&0&-0.5\\\\0&1&-0.5\\\\0&0&1\\\\ \\end{bmatrix}$$\n",
    "\n",
    "What have we done? We prepared the overall homogeneous transformation by multiplying three individual homogeneous transformations, which we can then apply all at once to our point [x;y], once we express it in homogeneous coordinates as [x;y;1]\n",
    "\n",
    "Is your mind blown yet?\n",
    "\n",
    "#### Your task is to implent the above sequence of transformations on the original square. \n",
    "\n",
    "In the next cell, build the transformation matrix T and then apply it to our vector \"points\". Whatever you do, do not multiply out the above matrices by hand and then enter one matrix. Write T as the product of three homegeneous matrices and let Julia do the matrix multiplication for you."
   ]
  },
  {
   "cell_type": "code",
   "execution_count": null,
   "metadata": {
    "nbgrader": {
     "grade": false,
     "grade_id": "cell-439044a0f41abebf",
     "locked": false,
     "schema_version": 3,
     "solution": true,
     "task": false
    }
   },
   "outputs": [],
   "source": [
    "# We start you out by making a copy of the original points and appending \n",
    "# a 1 to each point. # For later use, note the very efficient manner \n",
    "# in which we add a row of 1's to the array points.\n",
    "\n",
    "points4 = [copy(points); ones(1,5)]\n",
    "\n",
    "# Finish this portion of the the code to do the matrix multiplication \n",
    "# that does the Tranformation. In particular, modify the points4 array \n",
    "# to contain the result of the affine transformation\n",
    "\n",
    "# We'll be checking T and points4. Do not make up your own notation.\n",
    "# T is two points and points4 is 1 point\n",
    "\n",
    "## T = ??\n",
    "## points4 = ??\n",
    "\n",
    "# Extract x and y coordinates and throw away the last one\n",
    "x4 = points4[1,:]\n",
    "y4 = points4[2,:]\n",
    " \n",
    "println(\"You can check your work via this plot. If it's not the same blue diamond you saw before, go back and double check your work.\")\n",
    "plot_2D(x, y, :green)\n",
    "plot_2D(x4, y4, :blue, new=false, linewidth=5)"
   ]
  },
  {
   "cell_type": "markdown",
   "metadata": {
    "nbgrader": {
     "grade": false,
     "locked": true,
     "solution": false
    }
   },
   "source": [
    "# Task 2 (2 Points)\n",
    "\n",
    "In this task, we will work with 2D point clouds. This is our final step before moving onto the 3D point clouds collected with Cassie Blue. Are you getting anxious? \n",
    "\n",
    "A point cloud is simply a collection of points in space (3D and more) or a plane (2D). So for a 2D point cloud, the first two rows of the data contain the x and y coordinates of our point respectively. And the third row contains additional information about our point, which for the case of a LiDAR sensor is the Intensity, and for a camera is the RGB values (red, green, blue color information). \n",
    "\n",
    "For your 2D pointcloud, think of it as a camera image. The pointcloud is thus in a plane and the color data is given in simplified rgb encoding with values between (0, 1). Think about it as a rainbow, where red has value 0 and blue has value 1. \n",
    "\n",
    "We provide you a distorted image, which makes it very hard to read the text. We want to apply an affine transformation to correct the point cloud to make it readable. Let's first read the contents of the file \"question_image.csv\" into an array (use the function *readdlm*), and plot the points in a scatter plot. This part is provided. To read in the data, you must unzip the data file so there's a folder called data in the same directory as this notebook. Otherwise, Julia will be unable to access the data."
   ]
  },
  {
   "cell_type": "code",
   "execution_count": null,
   "metadata": {
    "nbgrader": {
     "grade": false,
     "grade_id": "cell-f3829b00272c8073",
     "locked": true,
     "schema_version": 3,
     "solution": false,
     "task": false
    }
   },
   "outputs": [],
   "source": [
    "using DelimitedFiles\n",
    "using Plots\n",
    "default(fmt = :png)\n",
    "\n",
    "# IMPORTANT NOTE: the data is uploaded as a zip file\n",
    "# you must unzip the folder to access the data\n",
    "pointcloud = readdlm(\"data/question_image.csv\",',')\n",
    "\n",
    "# The x and y coordinates for the first 2 rows of the data \n",
    "# can be extracted from the array separately\n",
    "point_data = pointcloud[1:2,:]\n",
    "\n",
    "# The color data of the pointcloud forms the last row, and \n",
    "# can be saved separately\n",
    "println(\"Look at the size of the data you are manipulating! Yes, this is more interesting than the square.\")\n",
    "println(\" \")\n",
    "println(\"The vector pointcloud[3,:] has $(length(pointcloud[3,:])) elements. Oh my gosh!\")\n",
    "color_data = pointcloud[3,:]"
   ]
  },
  {
   "cell_type": "code",
   "execution_count": null,
   "metadata": {
    "nbgrader": {
     "grade": false,
     "grade_id": "cell-0e08ceda4225c9b3",
     "locked": true,
     "schema_version": 3,
     "solution": false,
     "task": false
    }
   },
   "outputs": [],
   "source": [
    "# Plot the 2D point cloud data with color values! \n",
    "plot_2D_pointcloud(point_data[1,:], point_data[2,:], color_data)"
   ]
  },
  {
   "cell_type": "markdown",
   "metadata": {
    "nbgrader": {
     "grade": false,
     "grade_id": "cell-bf842c7cd6bebb7b",
     "locked": true,
     "schema_version": 3,
     "solution": false,
     "task": false
    }
   },
   "source": [
    "Luckily, the homogeneous transformation for correcting the image is known to be\n",
    "\n",
    "$$ T = \\begin{bmatrix}-0.09239&0.038268&300\\\\-0.38268&-0.923879&165\\\\0&0&1\\\\ \\end{bmatrix}$$\n",
    "      \n",
    "**Your task:** Apply $T$ to the distorted point cloud and plot the corrected image."
   ]
  },
  {
   "cell_type": "code",
   "execution_count": null,
   "metadata": {
    "nbgrader": {
     "grade": false,
     "grade_id": "cell-8512d0ed53cd4f01",
     "locked": false,
     "schema_version": 3,
     "solution": true,
     "task": false
    }
   },
   "outputs": [],
   "source": [
    "X = [copy(point_data); ones(1,size(point_data,2))]; # Create homogeneous \n",
    "                                                    # points\n",
    "\n",
    "#= This part of the code should accomplish the following:\n",
    "1. Build the Transformation matrix and store it in variable T\n",
    "2. Apply the Transformation T to all the points to get what we call \n",
    "   a transformed pointcloud. \n",
    "   You can either use the `vectorized operation` or you can loop over \n",
    "   all the points (i.e. iterate from index 1 to number of \n",
    "   columns in X) and multiply the Transformation.\n",
    "3. Save your results directly in the X array, don't change the names, \n",
    "   our plots depend on it! \n",
    "4. Carefully copy the numbers in T. You can double click on the markdown cell\n",
    "   and use your mouse to do the copying. One digit off can cause you to fail a\n",
    "   test  =#\n",
    "\n",
    "# T = ??\n",
    "# X = ??\n"
   ]
  },
  {
   "cell_type": "code",
   "execution_count": null,
   "metadata": {},
   "outputs": [],
   "source": [
    "# friendly check\n",
    "# if the value of is_it_correct_checkN is \"Yes\", then your answer may be correct. \n",
    "# If the value of is_it_correct_checkN is \"No\", then your answer is wrong\n",
    "\n",
    "is_it_correct_checkTa = isapprox(sum(T) - sum(abs.(T)), -2.797897999999975, atol = 1e-6 )\n",
    "is_it_correct_checkTb = isapprox(sum(T) + sum(abs.(T)), 932.076536, atol = 1e-6 ) \n",
    "\n",
    "if is_it_correct_checkTa & is_it_correct_checkTb\n",
    "    println(\"The transformation T is likely correct.\")\n",
    "    println(\" \")\n",
    "else\n",
    "    println(\"At least one entry of the transformation matrix T is incorrect. Double check each decimal point!\")\n",
    "    println(\"If you double click the markdown box, you can even copy the entries of T.\")\n",
    "    println(\" \")\n",
    "end\n",
    "\n",
    "# Now we check your data in X. Errors in X could arise from T being incorrect\n",
    "# or from an incorrect application of the transformation T to the data in X\n",
    "# or from you storing your data in a variable other than X, which will cause lots of problems\n",
    "\n",
    "is_it_correct_check1 = abs((X[3, :] - ones(size(X, 2)))[1]) < 1e-4 ? \"Yes\" : \"No\"\n",
    "is_it_correct_check2 = abs(sum(X[2, :]) - -54512.825647621416) < 1e-4 ? \"Yes\" : \"No\"\n",
    "is_it_correct_check3 = abs(sum(X[:,1]) - 164.00782569999998) < 1e-4 ? \"Yes\" : \"No\"\n",
    "is_it_correct_check4 = abs(sum(X[:, 5]) - 152.0378589000001) < 1e-4 ? \"Yes\" : \"No\"\n",
    "is_it_correct_check5 = abs(sum(X) - -181258.1626895815)< 1e-4 ? \"Yes\" : \"No\"\n",
    "\n",
    "\n",
    "@show is_it_correct_check1;\n",
    "@show is_it_correct_check2;\n",
    "@show is_it_correct_check3;\n",
    "@show is_it_correct_check4;\n",
    "@show is_it_correct_check5;\n"
   ]
  },
  {
   "cell_type": "code",
   "execution_count": null,
   "metadata": {
    "nbgrader": {
     "grade": true,
     "grade_id": "cell-2d6a9fde3e77789c",
     "locked": true,
     "points": 2,
     "schema_version": 3,
     "solution": false,
     "task": false
    }
   },
   "outputs": [],
   "source": [
    "#autograder cell\n",
    "test_x = [-2.003666599999974 -16.003373200000055 -15.004140000000007 -14.008733599999971 -13.004088200000012; 165.01149229999996 164.06631959999987 163.98384749999994 163.9937632999999 164.0419471000001; 1.0 1.0 1.0 1.0 1.0];\n",
    "@assert isapprox(X[:,1:5], test_x, atol = 0.001)"
   ]
  },
  {
   "cell_type": "code",
   "execution_count": null,
   "metadata": {},
   "outputs": [],
   "source": [
    "# Only run this cell if you passed the Friendly Check as it can \n",
    "# take a while to generate the plot if many of you are \n",
    "# working at the same time\n",
    "plot_2D_pointcloud(X[1,:], X[2,:], color_data)"
   ]
  },
  {
   "cell_type": "markdown",
   "metadata": {},
   "source": [
    "# Task 3 (8 Points)\n",
    "\n",
    "As a motivator, at the end of this Task you will able to generate a plot like this one. Can you identify the location on the Universtity of Michigan's North Campus? \n",
    "\n",
    "\n",
    "\n",
    "<img src=\"https://i.postimg.cc/qBFQ1ZZF/Task3.png\" alt=\"Go Blue\" width=\"900\">\n",
    "\n"
   ]
  },
  {
   "cell_type": "markdown",
   "metadata": {},
   "source": [
    "Now that we have seen the power of matrix transformations in 2D, let's move on to the more challenging case of 3D. We won't have you worry about the plotting in this case either as the plotting code is given to you. \n",
    "\n",
    "Your first task is to plot the raw point cloud data obtained from Cassie's LiDAR over a period of 1 second. Running Cassie's LiDAR at 10 Hz, we have collected 10 different scans of LiDAR data over the one second interval and combined them into one big file. You will see how huge the file is while working on this problem, and appreciate what it means to do math at scale!\n",
    "\n",
    "The collected data is in the frame of the LiDAR, which moves with the robot. You can see the PDF file for how the data is organized. To simplify the data management for you (because data management is not a focus of ROB 101) we have built a data_parser function that organises the information from a slew of csv files into different meaningful arrays. The function ```data_parser``` will parse each second of your data set into five different arrays that you will need for this problem. \n",
    "\n",
    "The input to the ```data_parser``` is the time interval id number of the data set, with $id \\in \\{ 9, 10, \\cdots, 13\\}$ which gives the identity of a data set (the corresponding time). It must be passed as an argument to the function and the data returned should be saved in the same order that it is produced by the parser. See the first cell in Part A for more details. \n",
    "\n",
    "The different arrays that will contain the data are given as:\n",
    "\n",
    "- pointcloud_data: This has the xyz coordinates of the point cloud\n",
    "\n",
    "- Intensity_data: The LIDAR Intensity data is saved in the array called Intensity_data\n",
    "\n",
    "- R: Rotation Matrix \n",
    "\n",
    "- t: Translation vector\n",
    "\n",
    "- pose: Gives the true position (xyz, column 1) and orientation (column 2) of the robot\n",
    "\n",
    "We will see an example call to this function very soon in Part A!\n"
   ]
  },
  {
   "cell_type": "code",
   "execution_count": null,
   "metadata": {
    "nbgrader": {
     "grade": false,
     "grade_id": "cell-c5b8f23fd3c394f9",
     "locked": true,
     "schema_version": 3,
     "solution": false,
     "task": false
    }
   },
   "outputs": [],
   "source": [
    "# Run me, you cannot change me.\n",
    "\n",
    "# read me to learn how to organize code that works at scale \n",
    "# and to find a helpful example of how to call data_parser()\n",
    "\n",
    "using LinearAlgebra\n",
    "using DelimitedFiles\n",
    "using Plots\n",
    "default(fmt = :png)\n",
    "\n",
    "# This is the data parser and helper functions block. Run as is.\n",
    "# You will learn how to build functions in lab4\n",
    "\n",
    "function data_parser(id)\n",
    "    # load point cloud from file\n",
    "    points = readdlm(string(\"data/cassie_data/Frame_\",\n",
    "             string(id),\"/pointcloud.csv\"),',');\n",
    "    pointcloud_data = points[1:3,:]; # xyz\n",
    "    Intensity_data = points[4,:]; # intensity\n",
    "    \n",
    "    # load the different transformation from the file, connect \n",
    "    # with the information learned in Task 1 \n",
    "    Transformations = readdlm(string(\"data/cassie_data/Frame_\",\n",
    "            string(id),\"/Transformations.csv\"),',');\n",
    "    R = Transformations[:,1:3]; # rotation\n",
    "    t = Transformations[:,4]; # translation\n",
    "    \n",
    "    # Also get the position of the the robot from another file \n",
    "    pose = readdlm(string(\"data/cassie_data/Frame_\",string(id),\n",
    "            \"/Position.csv\"),',');\n",
    "    return (pointcloud_data, Intensity_data, R, t, pose)\n",
    "end\n",
    "\n",
    "# Example call to the function, the data for interval id 10 of the \n",
    "# video is being parsed \n",
    "(pointcloud_data,Intensity_data,R,T,position) = data_parser(10)\n",
    "\n",
    "# The next function will apply a homogeneous transformation to a matrix of points\n",
    "\n",
    "#= note that this is the exact same process you were using in Tasks 1 and 2,\n",
    "where we appended ones to the data, apply the homogeneous transformation and then\n",
    "remove the ones after applying the transformation. This is how one organizes code\n",
    "to work at scale: you build functions! =#\n",
    "\n",
    "function affine_transform(points, H)\n",
    "    # Make a copy of the original points and append 1 to each point, \n",
    "    # (Homogenizing)\n",
    "    transformed_p = [copy(points); ones(1,size(points,2))];\n",
    "    \n",
    "    # Transform 3D points, looping over all points and multiplying \n",
    "    # the Transformation matrix, exactly like Task 1!\n",
    "    transformed_p = H * transformed_p\n",
    "    \n",
    "    # Remember to return the de-homogenized array, i.e.,\n",
    "    # transformed_points should have same size as input points     \n",
    "    return transformed_p[1:3,:];\n",
    "end\n",
    "\n",
    "#= A function to get robot heading at its position, this is more \n",
    "   of a hack that we use to get the arrow \n",
    "   of our position estimate when plotting, you are definitely \n",
    "   not expected to understand it. =#\n",
    "\n",
    "function robot_arrow(pose)\n",
    "    position = pose[:,1]; # position\n",
    "    (roll,pitch,yaw) = pose[:,2]; # orientation\n",
    "    \n",
    "    # extract rotation axis! \n",
    "    u = [1*cos(yaw-pi/2)]\n",
    "    v = [1*sin(yaw-pi/2)]\n",
    "    return (position, u, v)\n",
    "end\n",
    "\n",
    "# Define the viewing window size for setting x and y axis limits, \n",
    "# and other plotting parameters\n",
    "window_size = 15\n",
    "min_x = -window_size\n",
    "min_y = -window_size\n",
    "max_y = window_size\n",
    "min_z = 0\n",
    "max_z = 2*window_size\n",
    "max_x = window_size;\n",
    "limits = ((min_x, max_x), (min_y, max_y), (min_z, max_z));"
   ]
  },
  {
   "cell_type": "markdown",
   "metadata": {
    "nbgrader": {
     "grade": false,
     "locked": true,
     "solution": false
    }
   },
   "source": [
    "### Part A (4 points)\n",
    "Here we are showing you how the data is parsed and saved into arrays. You need to pay attention, even though you are not required to modify any of the code. \n",
    "\n",
    "The next cell reads the raw point cloud in the last data collection instant, which is at time 13 seconds (id = 13). This must be passed as the interval id to our function ```data_parser```. As discussed before, the function gives us point cloud data, intensity data, the rotation matrix R, and the translation vector t to build an affine transformation, and finally an estimate of the robot's pose, that is, its position and orientation. "
   ]
  },
  {
   "cell_type": "code",
   "execution_count": null,
   "metadata": {},
   "outputs": [],
   "source": [
    "# Run me, do not change me\n",
    "# Example call to the function, to get the data at time = 13 seconds \n",
    "# of data collection\n",
    "\n",
    "# set the id number\n",
    "id = 13\n",
    "\n",
    "# parse the data and save it into different arrays\n",
    "(point_data, intensity_data, R, t, pose) = data_parser(id)\n",
    "\n",
    "# Lets see the size of the pointcloud and appreciate the challenge \n",
    "# of the problem at hand\n",
    "\n",
    "# Can you say, six hundred ninety six thousand and four hundred ninety six columns? And \n",
    "# that is just for one second of data collected by Cassie. Now you see\n",
    "# why Robotics needs math done at scale! \n",
    "size(point_data) "
   ]
  },
  {
   "cell_type": "markdown",
   "metadata": {
    "nbgrader": {
     "grade": false,
     "grade_id": "cell-e1c615c8f6911f61",
     "locked": true,
     "schema_version": 3,
     "solution": false,
     "task": false
    }
   },
   "source": [
    "### As mentioned earlier, the LiDAR data is collected in the frame of the LiDAR while the robot is moving. Hence, each frame of LiDAR data is taken from a different position and orientation of the robot. This is analogous to you walking and taking PHOTOS (not video) and then you trying to overlay the photos to create a single image. What would you expect to see? A mess? \n",
    "\n",
    "### To underline the importance of keeping track of the position and orientation of Cassie while she is moving, we are going to overlay multiple LiDAR scans without first transforming them to a common coordinate system (which we call a world frame). \n",
    "\n",
    "## We are deliberately going to make a mess of things. You will see multiple images of something, like you are seeing double or triple! The following plot takes some time to generate."
   ]
  },
  {
   "cell_type": "code",
   "execution_count": null,
   "metadata": {
    "nbgrader": {
     "grade": false,
     "grade_id": "cell-80e04f627f8c0381",
     "locked": true,
     "schema_version": 3,
     "solution": false,
     "task": false
    }
   },
   "outputs": [],
   "source": [
    "# Run me and be patient. To speed things up, we are skipping \n",
    "# half the data here\n",
    "\n",
    "start_index = 9\n",
    "end_index  = 13\n",
    "\n",
    "plot()\n",
    "for id = start_index:2:end_index \n",
    "    # save the data into different arrays\n",
    "    (point_data, intensity_data, R, t, pose) = data_parser(id) \n",
    "    plot_3D_pointcloud(point_data[1,:], point_data[2,:], point_data[3,:], limits, intensity_data) \n",
    "end\n",
    "\n",
    "display(plot!())"
   ]
  },
  {
   "cell_type": "markdown",
   "metadata": {
    "nbgrader": {
     "grade": false,
     "grade_id": "cell-8d8a98430e4db66f",
     "locked": true,
     "schema_version": 3,
     "solution": false,
     "task": false
    }
   },
   "source": [
    "We have multiple LiDAR images of something, but what that something might be is hard to say. \n",
    "\n",
    "To unravel this mystery, we're going to step back and process just one packet of LiDAR data before we engage with all of them again. \n",
    "\n",
    "### As a first step, let's be able to plot where our robot is in the world frame! "
   ]
  },
  {
   "cell_type": "code",
   "execution_count": null,
   "metadata": {
    "nbgrader": {
     "grade": false,
     "grade_id": "cell-3df64b750b619bd0",
     "locked": true,
     "schema_version": 3,
     "solution": false,
     "task": false
    }
   },
   "outputs": [],
   "source": [
    "# Run me, don't change me\n",
    "# This is a function that builds an \"arrow\" for indicating our \n",
    "# robot's position and orientation within a plot. \n",
    "(point_data, intensity_data, R, t, pose) = data_parser(end_index) \n",
    "(pos, u, v) = robot_arrow(pose);"
   ]
  },
  {
   "cell_type": "code",
   "execution_count": null,
   "metadata": {
    "nbgrader": {
     "grade": false,
     "grade_id": "cell-aa87226a3b34c6fa",
     "locked": true,
     "schema_version": 3,
     "solution": false,
     "task": false
    }
   },
   "outputs": [],
   "source": [
    "# Run me, don't change me\n",
    "# Finally, lets plot our robot's pose as a white arrow. Subsequently, \n",
    "# on the same plot, we will show the point cloud\n",
    "\n",
    "plot()  \n",
    "plot_2D_robot(pos[1,:], pos[2,:], limits, (u,v))"
   ]
  },
  {
   "cell_type": "markdown",
   "metadata": {
    "nbgrader": {
     "grade": false,
     "grade_id": "cell-6d160ba950aced3c",
     "locked": true,
     "schema_version": 3,
     "solution": false,
     "task": false
    }
   },
   "source": [
    "### The white arrow indicates the position and orientation of the robot. Now that we know the pose of Cassie, let's also plot the raw point cloud, in the same plot, and see if the rings of the point cloud are consistent with Cassie's pose (i.e., position and orientation)."
   ]
  },
  {
   "cell_type": "code",
   "execution_count": null,
   "metadata": {
    "nbgrader": {
     "grade": false,
     "locked": true,
     "solution": false
    }
   },
   "outputs": [],
   "source": [
    "# Run me, don't change me.\n",
    "#\n",
    "# Let's now plot the point cloud data. Run this cell as it is \n",
    "# to see a plot of the raw pointcloud\n",
    "# It takes a few seconds to plot, wait for it!\n",
    "\n",
    "\n",
    "id = end_index # = 13\n",
    "\n",
    "# save the data into different arrays\n",
    "(point_data, intensity_data, R, t, pose) = data_parser(id)\n",
    "\n",
    "plot_3D_pointcloud(point_data[1,:], point_data[2,:], point_data[3,:], limits, intensity_data) \n",
    "display(plot!())"
   ]
  },
  {
   "cell_type": "markdown",
   "metadata": {
    "nbgrader": {
     "grade": false,
     "grade_id": "cell-86659138fc3c2f8a",
     "locked": true,
     "schema_version": 3,
     "solution": false,
     "task": false
    }
   },
   "source": [
    "Take a close look at the plot you have just generated. As explained in the PDF, the LiDAR is mounted on top of the robot and, **the concentric circles you see in the LiDAR points should be centered about the robot.** What we see, instead, is that the data is translated and rotated with respect to the robot. We need to fix that by applying a homogeneous transformation to the point cloud data."
   ]
  },
  {
   "cell_type": "markdown",
   "metadata": {
    "nbgrader": {
     "grade": false,
     "grade_id": "cell-d36c012f25c45c74",
     "locked": true,
     "schema_version": 3,
     "solution": false,
     "task": false
    }
   },
   "source": [
    "#### Transform\n",
    "\n",
    "Time to correct our blunder now! Transform the point cloud into the world frame and plot it with the position arrow as we did before and compare the two plots. You will have to build an affine transformation matrix from the rotation matrix, R,  and translation vector, t, that are given to you.\n",
    "We know that an affine transformation can be represented as: \n",
    "\\begin{bmatrix}R_{3 \\times 3}& t_{3 \\times 1} \\\\ 0_{1 \\times 3} &1\\\\ \\end{bmatrix}\n",
    "where\n",
    "- $R_{3 \\times 3}$ is a 3 x 3 rotation matrix\n",
    "- $t_{3 \\times 1}$ is a 3 x 1 translation vector\n",
    "- $0_{1 \\times 3}$ is a 1 x 3 row vector of zeros\n",
    "- and 1 is the number one.\n",
    "\n",
    "Transform your point cloud and plot the position like we did before. \n",
    "Do you see concentric circles of LiDAR originating from our position estimate?!"
   ]
  },
  {
   "cell_type": "code",
   "execution_count": null,
   "metadata": {
    "nbgrader": {
     "grade": false,
     "grade_id": "cell-a11892dfd9fa6f6a",
     "locked": false,
     "schema_version": 3,
     "solution": true,
     "task": false
    }
   },
   "outputs": [],
   "source": [
    "# Build the transformation from the rotation matrix and translation \n",
    "# vector in our code, and save the result as a matrix called H. \n",
    "\n",
    "# Note, H and not T so that the transformation matrix is not confused with earlier work\n",
    "\n",
    "# H = ??\n"
   ]
  },
  {
   "cell_type": "markdown",
   "metadata": {},
   "source": [
    "**Before we go any further and use the transformation that you have built, let's check if you got it right!** Please run the following **friendly checks** and then the autograder cell. If you fail the tests in lines 5 through 8, then go back and see if you can fix your transformation matrix!"
   ]
  },
  {
   "cell_type": "code",
   "execution_count": null,
   "metadata": {},
   "outputs": [],
   "source": [
    "# friendly check\n",
    "# if the value of is_it_correct_checkN is \"Yes\", then your answer may be correct. \n",
    "# If the value of is_it_correct_checkN is \"No\", then your answer is wrong\n",
    "\n",
    "is_it_correct_check1 = isapprox(H[:,1],[0.223755642141881,-0.968392974489662,-0.110220050665654,0.0], atol = 1e-3) ? \"Yes\" : \"No\"\n",
    "is_it_correct_check2 = isapprox(H[:,4],[2.52669466213533,-0.957786861851155,1.4354495810566,1.0], atol = 1e-3) ? \"Yes\" : \"No\"\n",
    "\n",
    "\n",
    "@show is_it_correct_check1; \n",
    "@show is_it_correct_check2;"
   ]
  },
  {
   "cell_type": "code",
   "execution_count": null,
   "metadata": {
    "nbgrader": {
     "grade": false,
     "grade_id": "cell-08668afff3700ab5",
     "locked": true,
     "schema_version": 3,
     "solution": false,
     "task": false
    },
    "scrolled": true
   },
   "outputs": [],
   "source": [
    "# Run me, don't change me.\n",
    "#\n",
    "# We are using the transformation matrix that you have just built \n",
    "# and verified. \n",
    "\n",
    "# Let's finally transform and plot our data by \n",
    "# calling the predefined function generalised from Task 1\n",
    "transformed_points = affine_transform(point_data, H)\n",
    "\n",
    "# Visualize\n",
    "plot() \n",
    "plot_3D_pointcloud(transformed_points[1,:], transformed_points[2,:], \n",
    "                    transformed_points[3,:], limits, intensity_data)\n",
    "\n",
    "display(\"Can you now see that the LiDAR rings are more centered about the robot?\")\n",
    "display(\"Patience! The plot is being generated.\")\n",
    "# Add robot pose to the plot \n",
    "plot_2D_robot(pos[1,:], pos[2,:], limits, (u,v))\n",
    "display(plot!())\n",
    "println(\"Can you now see that the LiDAR rings are more centered about the robot?\")\n",
    "println(\"It should now look like the robot is facing the data it just collected.\")\n",
    "println(\"Previously, it may have looked like the robot took some data and then moved.\")\n"
   ]
  },
  {
   "cell_type": "markdown",
   "metadata": {
    "nbgrader": {
     "grade": false,
     "locked": true,
     "solution": false
    }
   },
   "source": [
    "#### Part B (4 points)\n",
    "\n",
    "#### BUILDING A MAP and fusing different LiDAR scans!\n",
    "\n",
    "We now understand how to go from a sensor frame to a world frame. Let us start to build a map by fusing data over multiple time periods. As you will notice from the figure you just made for one second of data, LiDAR scans collected over 1 second are not enough to give us full scene understanding and we therefore need to fuse multiple scans together for a more vivid picture. As much as we would like to give you the full data set and have this be as impressive as the Cassie video, due to time constraints, we are going to have you work with only five seconds (time = 9 to 13 seconds) instead of three minutes of data.\n",
    "\n",
    "However, one takeaway from this problem should be that the robot is continuously moving and we need to compensate for its motion with an approriate transformation matrix that converts the LiDAR data in the sensor frame to LiDAR data in the world frame. The transformation has to be continuously estimated in real-time on the robot. That part of the problem you can learn about in ROB 330, ROB 501 and ROB 530. There is an entire research area that focuses on calculating the best approximate transformations from the moving LiDAR to the fixed world frame. \n",
    "\n",
    "Are you convinced yet that we cannot possibly do all of this by hand? In fact to get a computer to execute this as fast as we needed it to go, we had a team of grad students work tirelessly for months and months, and then at the end of it all, we had 50 almost all freshmen (Go Pilot Class ROB-101!), take that data and visualize and manipulate it, to see for themselves that our algorithm indeed works! \n"
   ]
  },
  {
   "cell_type": "code",
   "execution_count": null,
   "metadata": {
    "nbgrader": {
     "grade": false,
     "grade_id": "cell-1d7ffd177c477b9b",
     "locked": false,
     "schema_version": 3,
     "solution": true,
     "task": false
    }
   },
   "outputs": [],
   "source": [
    "# Part B\n",
    "start_index = 9\n",
    "end_index  = 13\n",
    "\n",
    "# Iterate over all the clouds over the time intervasl from 9 to 13,\n",
    "# apply the transformation and plot in the same plot\n",
    "# The code will take a while to run, so patience grasshopper!\n",
    "\n",
    "final_points = [];\n",
    "final_intensity = [];\n",
    "for id = start_index : end_index \n",
    "    transformed_points = [];\n",
    "    \n",
    "    #= Your solution should accomplish the following:\n",
    "    1. Parse the data for the ith time interval id using the \n",
    "        data_parser function save it in the arrays with the SAME NAME \n",
    "        like we did before\n",
    "    2. Build the Transformation matrix for time interval, using the R, t data\n",
    "    3. Finally transform your pointcloud and save the result in an \n",
    "        array called transformed_points =#\n",
    "    \n",
    "    # YOUR CODE HERE\n",
    "    \n",
    "    if(id==start_index)\n",
    "        final_points = copy(transformed_points)\n",
    "        final_intensity = intensity_data'\n",
    "    else\n",
    "        final_points = [final_points transformed_points]\n",
    "        final_intensity = [final_intensity intensity_data']\n",
    "        println(\"Percent remaining is $(100*(end_index-id)/(end_index-start_index)).\")\n",
    "    end\n",
    "    \n",
    "end\n",
    "@show final_points[:,1:5]"
   ]
  },
  {
   "cell_type": "code",
   "execution_count": null,
   "metadata": {
    "nbgrader": {
     "grade": true,
     "grade_id": "cell-d2485213e9e72f07",
     "locked": true,
     "points": "4",
     "schema_version": 3,
     "solution": false,
     "task": false
    }
   },
   "outputs": [],
   "source": [
    "# autograder cell\n",
    "final_points_test = [2.5354971032966303 7.711682136186845 7.789319078070248 3.0725850069159506 3.798942312378186; 1.9722961774140295 14.224287690542685 11.201209438092262 3.3278194805935355 4.187717472596723; 0.5592545760157881 0.8686608431526084 0.7348563412413707 0.5921945000673925 0.60665999134444];\n",
    "@assert isapprox(final_points_test, final_points[:,1:5], atol = 0.0001)"
   ]
  },
  {
   "cell_type": "code",
   "execution_count": null,
   "metadata": {
    "nbgrader": {
     "grade": false,
     "grade_id": "cell-27841d80b4d3c18d",
     "locked": true,
     "schema_version": 3,
     "solution": false,
     "task": false
    },
    "scrolled": true
   },
   "outputs": [],
   "source": [
    "# Again, this will take a while to plot! \n",
    "plot()\n",
    "# Update the plot \n",
    "plot_3D_pointcloud(final_points[1,:], final_points[2,:], final_points[3,:], limits, final_intensity')\n",
    "display(plot!())"
   ]
  },
  {
   "cell_type": "markdown",
   "metadata": {
    "nbgrader": {
     "grade": false,
     "locked": true,
     "solution": false
    }
   },
   "source": [
    "### Lets Make a Video\n",
    "\n",
    "Amazing, so now you have built a map of the staircase in our video!\n",
    "\n",
    "The next step is to iterate over all the frames and make a gif so that we can see the map being built in real time. Just copy your code from the previous question inside the loop iterating over all frames to build the gif. And this time also, we will add the position of the robot in the animation, seen as the white dot.\n",
    "\n",
    "#### Completing the gif is worth zero points. There are no points to lose, but a lot of satisfaction to gain!"
   ]
  },
  {
   "cell_type": "code",
   "execution_count": null,
   "metadata": {
    "nbgrader": {
     "grade": true,
     "grade_id": "cell-b3898a9011a7319f",
     "locked": false,
     "points": 1,
     "schema_version": 3,
     "solution": true,
     "task": false
    }
   },
   "outputs": [],
   "source": [
    "start_index = 9\n",
    "end_index  = 13\n",
    "Plots.plot()\n",
    "# Build an animation!\n",
    "\n",
    "anim = @animate for id = start_index:end_index \n",
    "    transformed_points = [];\n",
    "    # COPY YOUR CODE BELOW\n",
    "    \n",
    "    # YOUR CODE HERE\n",
    "    \n",
    "    plot_3D_pointcloud(transformed_points[1,:], transformed_points[2,:], transformed_points[3,:], \n",
    "            limits, intensity_data)\n",
    "    \n",
    "    # A Hack for plotting the position\n",
    "    if(id!=start_index)\n",
    "        # Plot your previous position with a black dot everytime except the first\n",
    "        (point_data, intensity_data, R, t, prev_pose) = data_parser(id-1); \n",
    "        plot_3D_robot([prev_pose[1,1]],[prev_pose[2,1]],[prev_pose[3,1]], seriescolor=:black)\n",
    "    end\n",
    "     \n",
    "    plot_3D_robot([pose[1,1]],[pose[2,1]],[pose[3,1]],seriescolor=:white)\n",
    "    println(\"Percent done is $(100*(1+id-start_index)/(1+end_index-start_index)) %\")\n",
    "\n",
    "    prev_pose = copy(pose);\n",
    "end\n",
    "println(\"making the gif!!\")\n",
    "println(\"The white dot is Cassie moving within the map, while everything\")\n",
    "println(\"else in the map stays fixed, such as the stairs (if you did your work correctly)!\")\n",
    "gif(anim, \"stairs_walking_five_seconds_zoomed_thirty.gif\", fps = 1)"
   ]
  },
  {
   "cell_type": "markdown",
   "metadata": {
    "nbgrader": {
     "grade": false,
     "grade_id": "cell-6a7c7bb95552f14f",
     "locked": true,
     "schema_version": 3,
     "solution": false,
     "task": false
    }
   },
   "source": [
    "#### Did you get it right? That is a burning question, we know! Do not reach out on Piazza to ask if your answer is correct. Do not post any code on Piazza. Do not work with other human beings with the exception of an IA, GSI, or professor. \n",
    "\n",
    "# In this project, we gave you so many friendly checks along the way that you should have most of the points by now. If you miss the final points, don't sweat it. This is not HS. Perfection is not a goal. Learning is a goal and we have allowed you to check your work and learn a ton all the way to this point. \n",
    "\n",
    "# You have to learn to trust in yourself and to accept that you will make mistakes and you will learn from them."
   ]
  },
  {
   "cell_type": "code",
   "execution_count": null,
   "metadata": {},
   "outputs": [],
   "source": []
  }
 ],
 "metadata": {
  "@webio": {
   "lastCommId": null,
   "lastKernelId": null
  },
  "celltoolbar": "Create Assignment",
  "kernelspec": {
   "display_name": "Julia 1.8.2",
   "language": "julia",
   "name": "julia-1.8"
  },
  "language_info": {
   "file_extension": ".jl",
   "mimetype": "application/julia",
   "name": "julia",
   "version": "1.8.2"
  }
 },
 "nbformat": 4,
 "nbformat_minor": 4
}
