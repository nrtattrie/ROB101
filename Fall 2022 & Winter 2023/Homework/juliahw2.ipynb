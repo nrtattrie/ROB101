{
 "cells": [
  {
   "cell_type": "markdown",
   "metadata": {
    "nbgrader": {
     "grade": false,
     "grade_id": "cell-08867b481bd596ec",
     "locked": true,
     "schema_version": 3,
     "solution": false,
     "task": false
    }
   },
   "source": [
    "University of Michigan - ROB 101 Computational Linear Algebra"
   ]
  },
  {
   "cell_type": "markdown",
   "metadata": {
    "nbgrader": {
     "grade": false,
     "grade_id": "cell-a44f049c0da7cd2c",
     "locked": true,
     "schema_version": 3,
     "solution": false,
     "task": false
    }
   },
   "source": [
    "# Homework 2: Vectors, Matrices and Linear Systems\n",
    "\n",
    "## See our Canvas Page for the Due Date and Time!\n",
    "\n",
    "### Under the View dropdown menu, select ```toggle line numbers```\n",
    "\n",
    "#### Purpose:  Become comfortable using vectors and matrices in code \n",
    "- Skills: \n",
    "    - Declaring vectors and matrices\n",
    "    - Indexing into vectors/matrices\n",
    "    - Writing systems of linear equations in matrix form\n",
    "- Knowledge:\n",
    "    - Matrix manipulation (central to linear algebra)\n",
    "    \n",
    "## Warning: you must complete your work within this jupyter notebook. If you copy it to a separate notebook and try to submit that, it simply will not work and we will NOT be able to grade your HW. You will not receive credit for submitting notebooks that you create yourself. \n",
    "\n",
    "## Remember, we allow you to drop your two lowest juliahw sets and two lowest drill problem sets. Becaue of this policy, NO LATE HW is accepted.     \n",
    "\n",
    "# Task: For this assignment, fill in the code blocks as directed to achieve the desired output."
   ]
  },
  {
   "cell_type": "markdown",
   "metadata": {
    "nbgrader": {
     "grade": false,
     "grade_id": "cell-d374bbccfd0f1567",
     "locked": true,
     "schema_version": 3,
     "solution": false,
     "task": false
    }
   },
   "source": [
    "# Problem 1.  Indexing (1+1+1 points)\n",
    "### a) use `indexing` to return the biggest number in the matrix bigNumbers"
   ]
  },
  {
   "cell_type": "code",
   "execution_count": null,
   "metadata": {
    "nbgrader": {
     "grade": false,
     "grade_id": "1a",
     "locked": false,
     "schema_version": 3,
     "solution": true,
     "task": false
    },
    "scrolled": true
   },
   "outputs": [],
   "source": [
    "bigNumbers = [1 34 6 56 7 234 6 5; \n",
    "             3 43635 2 35 6 234 6 23; \n",
    "             235 56 2 46 56 3 234 6; \n",
    "             87 23 8 23 9 47 0 8]\n",
    "\n",
    "#store the row and column indices of the biggest number in iRow and jCol\n",
    "# iRow = ??\n",
    "# jCol = ??\n",
    "#store the biggest number in a variable called biggestNum\n",
    "# biggestNum = ??\n",
    "\n",
    "#return the biggest number \n",
    "println(\"Biggest: \", biggestNum)"
   ]
  },
  {
   "cell_type": "code",
   "execution_count": null,
   "metadata": {},
   "outputs": [],
   "source": [
    "# friendly check\n",
    "# if the value of is_it_correct_checkN is \"Yes\", then your answer may be correct. \n",
    "# If the value of is_it_correct_checkN is \"No\", then your answer is wrong\n",
    "\n",
    "is_it_correct_check1 = (biggestNum == 43635) ? \"Yes\" : \"No\"\n",
    "\n",
    "@show is_it_correct_check1;\n",
    "println(\" \")\n",
    "println(\"The autograder cell will also check the variables iRow and jCol.\")\n",
    "println(\"Make sure you use those variable names. Otherwise you will lose points.\")"
   ]
  },
  {
   "cell_type": "code",
   "execution_count": null,
   "metadata": {
    "nbgrader": {
     "grade": true,
     "grade_id": "1aTest",
     "locked": true,
     "points": 1,
     "schema_version": 3,
     "solution": false,
     "task": false
    }
   },
   "outputs": [],
   "source": [
    "#autograder cell"
   ]
  },
  {
   "cell_type": "markdown",
   "metadata": {
    "nbgrader": {
     "grade": false,
     "grade_id": "cell-55d6d9a6ea34b13a",
     "locked": true,
     "schema_version": 3,
     "solution": false,
     "task": false
    }
   },
   "source": [
    "### b) return the column containing the biggest number as a column vector called bigColumn\n",
    "\n",
    "Hint:  In indexing, the colon : operator in place of a row or column indicates that all the rows/columns will be selected"
   ]
  },
  {
   "cell_type": "code",
   "execution_count": null,
   "metadata": {
    "nbgrader": {
     "grade": false,
     "grade_id": "1b",
     "locked": false,
     "schema_version": 3,
     "solution": true,
     "task": false
    }
   },
   "outputs": [],
   "source": [
    "#Use indexing to return bigColumn\n",
    "# bigColumn = ??"
   ]
  },
  {
   "cell_type": "code",
   "execution_count": null,
   "metadata": {},
   "outputs": [],
   "source": [
    "# friendly check\n",
    "using LinearAlgebra\n",
    "#\n",
    "if abs(norm(bigColumn) - 43635) < 0.1\n",
    "    println(\"Test 1 looks pretty good\")\n",
    "else\n",
    "    println(\"Answer does not seem to be correct! Try again.\")\n",
    "end\n",
    "ind = [1 3]\n",
    "if sum(abs.(bigColumn[ind])) == 90\n",
    "    println(\"Test 2 looks pretty good\")\n",
    "else\n",
    "    println(\"Answer does not seem to be correct! Try again.\")\n",
    "end"
   ]
  },
  {
   "cell_type": "markdown",
   "metadata": {
    "nbgrader": {
     "grade": false,
     "grade_id": "cell-91426e447e0d88ca",
     "locked": true,
     "schema_version": 3,
     "solution": false,
     "task": false
    }
   },
   "source": [
    "### c) return the row containing the biggest number as a row vector\n",
    "\n",
    "**Hint:** Read the LAB manual for why extracting a row of a matrix is a bit tricky in Julia\n"
   ]
  },
  {
   "cell_type": "code",
   "execution_count": null,
   "metadata": {
    "nbgrader": {
     "grade": false,
     "grade_id": "1c",
     "locked": false,
     "schema_version": 3,
     "solution": true,
     "task": false
    }
   },
   "outputs": [],
   "source": [
    "#Return the row as bigRow\n",
    "# bigRow = ??"
   ]
  },
  {
   "cell_type": "code",
   "execution_count": null,
   "metadata": {},
   "outputs": [],
   "source": [
    "# Friendly check\n",
    "if size(bigRow) == (1, 8)\n",
    "    println(\"OK, you got it right\")\n",
    "elseif size(bigRow') == (1,8)\n",
    "    println(\"Oops, you created a column vector. See the lab manual for what you did wrong\")\n",
    "else\n",
    "    println(\"Your answer is wrong and we have no idea why! Please see us in office hours.\")\n",
    "end"
   ]
  },
  {
   "cell_type": "code",
   "execution_count": null,
   "metadata": {},
   "outputs": [],
   "source": [
    "# friendly check\n",
    "# if the value of is_it_correct_checkN is \"Yes\", then your answer may be correct. \n",
    "# If the value of is_it_correct_checkN is \"No\", then your answer is wrong\n",
    "\n",
    "is_it_correct_check1 = (sum(bigRow) == 43944) ? \"Yes\" : \"No\"\n",
    "is_it_correct_check2 = (bigRow[1]+bigRow[end] == 26) ? \"Yes\" : \"No\"\n",
    "is_it_correct_check3 = (max(bigRow...) == max(bigNumbers...)) ? \"Yes\" : \"No\"\n",
    "\n",
    "@show is_it_correct_check1;\n",
    "@show is_it_correct_check2;\n",
    "@show is_it_correct_check3;"
   ]
  },
  {
   "cell_type": "markdown",
   "metadata": {
    "nbgrader": {
     "grade": false,
     "grade_id": "cell-faf2c70ae8e33530",
     "locked": true,
     "schema_version": 3,
     "solution": false,
     "task": false
    }
   },
   "source": [
    "#### Elements of an Array vs Scalars\n",
    "In Julia, there is a difference in ```TYPE``` between a 1x1 matrix and a number.  Silly and annoying, but easy to fix.  By using indexing, we can take the number out of the matrix.  We simply use matrix[1]\n",
    "\n",
    "# Problem 2. (1 point) \n",
    "Extract the number from the 1x1 matrix, and put it in a variable called numberInside"
   ]
  },
  {
   "cell_type": "code",
   "execution_count": null,
   "metadata": {
    "nbgrader": {
     "grade": false,
     "grade_id": "2",
     "locked": false,
     "schema_version": 3,
     "solution": true,
     "task": false
    }
   },
   "outputs": [],
   "source": [
    "tinyMatrix = [7.01]\n",
    "#output the number inside tinyMatrix into a variable of type Float64 called numberInside\n",
    "# numberInside = ??"
   ]
  },
  {
   "cell_type": "code",
   "execution_count": null,
   "metadata": {},
   "outputs": [],
   "source": [
    "# friendly check\n",
    "# if the value of is_it_correct_checkN is \"Yes\", then your answer may be correct. \n",
    "# If the value of is_it_correct_checkN is \"No\", then your answer is wrong\n",
    "\n",
    "is_it_correct_check1 = (numberInside == 7.01) ? \"Yes\" : \"No\"\n",
    "\n",
    "@show is_it_correct_check1;"
   ]
  },
  {
   "cell_type": "code",
   "execution_count": null,
   "metadata": {
    "nbgrader": {
     "grade": true,
     "grade_id": "2test",
     "locked": true,
     "points": 1,
     "schema_version": 3,
     "solution": false,
     "task": false
    }
   },
   "outputs": [],
   "source": [
    "#autograder cell\n",
    "@assert numberInside == 7.01"
   ]
  },
  {
   "cell_type": "markdown",
   "metadata": {
    "nbgrader": {
     "grade": false,
     "grade_id": "cell-579bb04e22065e46",
     "locked": true,
     "schema_version": 3,
     "solution": false,
     "task": false
    }
   },
   "source": [
    "# Problem 3. (1+1 points)\n",
    "This 3 by 3 system of linear equations is from Problem 3 of the written homework.\n",
    "\n",
    "$$ \\begin{aligned} 4x_1  &= 8 \\\\\n",
    "2x_1 - 10x_2 &= -2  \\\\\n",
    " x_1 + 2x_2 - x_3 &= 4 \n",
    " \\end{aligned} $$\n",
    "\n",
    "### a) Create matrices A and b so that Ax = b represents this 3 by 3 system, where $$x = \\begin{bmatrix} x_1 \\\\ x_2 \\\\ x_3 \\end{bmatrix}.$$ Recall that a \"missing\" coefficient is to be replaced by a zero."
   ]
  },
  {
   "cell_type": "code",
   "execution_count": null,
   "metadata": {
    "nbgrader": {
     "grade": false,
     "grade_id": "3a",
     "locked": false,
     "schema_version": 3,
     "solution": true,
     "task": false
    }
   },
   "outputs": [],
   "source": [
    "#Declare A and b\n",
    "# A = ??\n",
    "# b = ??"
   ]
  },
  {
   "cell_type": "code",
   "execution_count": null,
   "metadata": {
    "nbgrader": {
     "grade": false,
     "grade_id": "cell-1ea2503ff99fb4ba",
     "locked": true,
     "schema_version": 3,
     "solution": false,
     "task": false
    }
   },
   "outputs": [],
   "source": [
    "# friendly check\n",
    "# if the value of is_it_correct_checkN is \"Yes\", then your answer may be correct. \n",
    "# If the value of is_it_correct_checkN is \"No\", then your answer is wrong\n",
    "\n",
    "\n",
    "using LinearAlgebra # In case you have not run the prior cell with this command\n",
    "\n",
    "is_it_correct_check1 = (norm(A) == 11.224972160321824) ? \"Yes\" : \"No\"\n",
    "is_it_correct_check2 = (norm(A*b) == 48.16637831516918) ? \"Yes\" : \"No\"\n",
    "is_it_correct_check3 = (norm(A\\b) == 2.23606797749979) ? \"Yes\" : \"No\"\n",
    "\n",
    "@show is_it_correct_check1;\n",
    "@show is_it_correct_check2;\n",
    "@show is_it_correct_check3;"
   ]
  },
  {
   "cell_type": "markdown",
   "metadata": {
    "nbgrader": {
     "grade": false,
     "grade_id": "cell-190b4c94d5028af8",
     "locked": true,
     "schema_version": 3,
     "solution": false,
     "task": false
    }
   },
   "source": [
    "Now that you found the matrices that define this system, the algorithm below shows how we can use forward substitution in code to solve for the x vector.  \n",
    "### b) Display the vector x in the output window with whatever method you prefer"
   ]
  },
  {
   "cell_type": "code",
   "execution_count": null,
   "metadata": {
    "nbgrader": {
     "grade": false,
     "grade_id": "cell-9be60782ee05f17e",
     "locked": false,
     "schema_version": 3,
     "solution": true,
     "task": false
    }
   },
   "outputs": [],
   "source": [
    "x = [0.0; 0.0; 0.0] #Initialize a zero column vector x \n",
    "\n",
    "#This method does not scale to large problems, but it is super clear\n",
    "x[1]=b[1]/A[1,1]\n",
    "x[2]=(b[2]-A[2,1]*x[1])/A[2,2]\n",
    "x[3]=(b[3]-A[3,1]*x[1]-A[3,2]*x[2])/A[3,3]\n",
    ";\n",
    "#add a line here that will assign the vector x to myAns \n",
    "# The output of the cell should then be this\n",
    "#= \n",
    "3-element Vector{Float64}:\n",
    "  2.0\n",
    "  0.6\n",
    " -0.8\n",
    "=#\n",
    "\n",
    "# myAns = ??"
   ]
  },
  {
   "cell_type": "markdown",
   "metadata": {
    "nbgrader": {
     "grade": false,
     "grade_id": "cell-27cb2516a5d65931",
     "locked": true,
     "schema_version": 3,
     "solution": false,
     "task": false
    }
   },
   "source": [
    "# Problem 4. (3 points)\n",
    "**Now, modify the code above to work for the 5 by 5 system given below**\n",
    "\n",
    "\n",
    "$$ \\begin{aligned}\n",
    "4x_1  &= 8\\\\\n",
    "2x_1 - 10x_2 &= -2 \\\\\n",
    "x_1 + 2x_2 - x_3 &= 4 \\\\\n",
    "4x_1 - x_2 - 3x_3 + x_4 &= 7 \\\\\n",
    "-2x_1 + 7x_2 + x_3 - 2x_4 - 6x_5 &= 12 \n",
    "\\end{aligned} $$\n"
   ]
  },
  {
   "cell_type": "code",
   "execution_count": null,
   "metadata": {
    "nbgrader": {
     "grade": false,
     "grade_id": "4a",
     "locked": false,
     "schema_version": 3,
     "solution": true,
     "task": false
    }
   },
   "outputs": [],
   "source": [
    "#first, declare your A and b, replacing missing coefficients with zeros\n",
    "# A = ??\n",
    "# b = ??"
   ]
  },
  {
   "cell_type": "code",
   "execution_count": null,
   "metadata": {},
   "outputs": [],
   "source": [
    "# friendly check\n",
    "# if the value of is_it_correct_checkN is \"Yes\", then your answer may be correct. \n",
    "# If the value of is_it_correct_checkN is \"No\", then your answer is wrong\n",
    "\n",
    "is_it_correct_check1 = (norm(A) == 15.716233645501712) ? \"Yes\" : \"No\"\n",
    "is_it_correct_check2 = (norm(A*b) == 125.31959144523253) ? \"Yes\" : \"No\"\n",
    "is_it_correct_check3 = (norm(A\\b) == 3.7684361625362732) ? \"Yes\" : \"No\"\n",
    "\n",
    "@show is_it_correct_check1;\n",
    "@show is_it_correct_check2;\n",
    "@show is_it_correct_check3;"
   ]
  },
  {
   "cell_type": "code",
   "execution_count": null,
   "metadata": {
    "nbgrader": {
     "grade": false,
     "grade_id": "cell-99064965fc2bda65",
     "locked": false,
     "schema_version": 3,
     "solution": true,
     "task": false
    }
   },
   "outputs": [],
   "source": [
    "x = Vector{Float64}(undef, 5)  #this time, x will be a vector of 5 entries(this is another way to start a vector)\n",
    "\n",
    "#now, modify the algorithm to work on this 5 by 5 system by adding two more equations.\n",
    "x[1]=b[1]/A[1,1]\n",
    "x[2]=(b[2]-A[2,1]*x[1])/A[2,2]\n",
    "x[3]=(b[3]-A[3,1]*x[1]-A[3,2]*x[2])/A[3,3]\n",
    "#add your two equations below as x[4]= and x[5]=\n",
    "\n",
    "x"
   ]
  },
  {
   "cell_type": "code",
   "execution_count": null,
   "metadata": {},
   "outputs": [],
   "source": [
    "# friendly check\n",
    "# if the value of is_it_correct_checkN is \"Yes\", then your answer may be correct. \n",
    "# If the value of is_it_correct_checkN is \"No\", then your answer is wrong\n",
    "\n",
    "is_it_correct_check1 = (A*x == b) ? \"Yes\" : \"No\""
   ]
  },
  {
   "cell_type": "markdown",
   "metadata": {
    "nbgrader": {
     "grade": false,
     "grade_id": "cell-5e68a9dbc0bb00c1",
     "locked": true,
     "schema_version": 3,
     "solution": false,
     "task": false
    }
   },
   "source": [
    "## That was super tedious, right? If not, then we failed. You were supposed to go, what are they thinking, there must be a better way to go about this!! And yes, there is.\n",
    "\n",
    "### The better was is called the Forward Substitution Algorithm!\n",
    "\n",
    "But first, let's generate some data to set you up for success. Run the next cell. There is nothing to report. "
   ]
  },
  {
   "cell_type": "code",
   "execution_count": null,
   "metadata": {
    "nbgrader": {
     "grade": false,
     "grade_id": "cell-ed2d6b212af83a7d",
     "locked": true,
     "schema_version": 3,
     "solution": false,
     "task": false
    }
   },
   "outputs": [],
   "source": [
    "# Execute this line to define A, b and x before you move on \n",
    "x = [0.0; 0.0; 0.0] #Initialize an x vector to all zeros\n",
    "A=[4.0 2.1 1.0; -7.03 1.0/3.0 π; 2.7 -18.1 -11.11]\n",
    "b=[15.0 13.6 -21.2]'"
   ]
  },
  {
   "cell_type": "markdown",
   "metadata": {
    "nbgrader": {
     "grade": false,
     "grade_id": "cell-45ee0ee9759ed99b",
     "locked": true,
     "schema_version": 3,
     "solution": false,
     "task": false
    }
   },
   "source": [
    "**The problem with the \"steps\" in the previous cell is that each line of calculation is different from the others. That makes it hard to \"automate\", which is what programming is all about right? We humans set up the program and we let the computer automatically grind through the computations**\n",
    "\n",
    "Let's focus on the very first line of the forward substitution method\n",
    "$$ x[1]=b[1]/A[1,1] $$\n",
    "\n",
    "Suppose that we set x to be a zero column vector with three elements \n",
    "$$ x=[0.0;0.0;0.0] $$ \n",
    "\n",
    "You know that $ A[1:1,:]$ is the first ROW of the A matrix\n",
    "\n",
    "What will be the result of \n",
    "$ A[1:1,:] *x $ ?\n",
    "\n",
    "Because x is the zero vector we get zero. We weren't trying to fool you, just making you admit the obvious.\n",
    "\n",
    "Hence if we could write something like\n",
    "$$ x[1]=(b[1] -  A[1:1,:] *x )/A[1,1] $$\n",
    "we would get the same result as\n",
    "$$ x[1]=b[1]/A[1,1] $$\n",
    "which is the first step of forward substitution. Let's note that we have updated the value of $ x[1] $, while $ x[2] $ and $ x[3] $ remain zero. Why is this important? \n",
    "\n",
    "Well, ask yourself, what will be the result of the multiplication of the Second row of A times x?\n",
    "$$ A[2:2,:]*x $$   \n",
    "                                                \n",
    "once again, knowing that $ x[2]=0 $ and $ x[3]=0 $ ?\n",
    "\n",
    "Because only $x[1]$ is potentially non-zero, we have $A[2,1]*x[1]$\n",
    "\n",
    "Hence if we could write something like\n",
    "$$x[2]=(b[2] -  A[2:2,:]*x )/A[2,2]$$\n",
    "we would get the same result as\n",
    "$$x[2]=(b[2]-A[2,1]*x[1])/A[2,2]$$\n",
    "\n",
    "Hopefully you see the pattern, if we could write something like \n",
    "$$x[3]=(b[3] -  A[3:3,:]*x )/A[3,3]$$\n",
    "we'd get the same result as \n",
    "$$x[3]=(b[3]-A[3,1]*x[1]-A[3,2]*x[2])/A[3,3]$$\n",
    "\n",
    "Now, all of our lines of code look the same. Therefore, we can automate them! \n",
    "\n",
    "There is one catch, which maybe you already noted: in Julia a row vector times a column vector (of the same length) gives a 1x1 matrix, which is not the same thing as a scalar (that is, a number). So, we have to extract out (or slice out) that number via: \n",
    "$$ (A[k:k,:]) * x)[1]$$\n",
    "\n",
    "You may need to go back to the top and look at Problem 5 and tinyMatrix.\n",
    "\n",
    "In the next cell, you can run the two sets of equations and verify that we get the same answers. "
   ]
  },
  {
   "cell_type": "code",
   "execution_count": null,
   "metadata": {
    "nbgrader": {
     "grade": false,
     "grade_id": "cell-a85da24a61d3fb1a",
     "locked": true,
     "schema_version": 3,
     "solution": false,
     "task": false
    }
   },
   "outputs": [],
   "source": [
    "# New way where there is a pattern\n",
    "x=[0.0;0.0;0.0]\n",
    "x[1]=(b[1]-(A[1:1,:]*x)[1])/A[1,1]\n",
    "x[2]=(b[2]-(A[2:2,:]*x)[1])/A[2,2]\n",
    "x[3]=(b[3]-(A[3:3,:]*x)[1])/A[3,3]\n",
    "display(\"I am x\")\n",
    "display(x)\n",
    "# Old way where each line is different\n",
    "xx=[0.0;0.0;0.0]\n",
    "xx[1]=b[1]/A[1,1]\n",
    "xx[2]=(b[2]-A[2,1]*xx[1])/A[2,2]\n",
    "xx[3]=(b[3]-A[3,1]*xx[1]-A[3,2]*xx[2])/A[3,3]\n",
    "display(\"I am xx\")\n",
    "display(xx)\n",
    "display(\"We are equal\")\n",
    "[x xx]"
   ]
  },
  {
   "cell_type": "markdown",
   "metadata": {
    "nbgrader": {
     "grade": false,
     "grade_id": "cell-e5f8beaf0a3fc448",
     "locked": true,
     "schema_version": 3,
     "solution": false,
     "task": false
    }
   },
   "source": [
    "We're almost at a crucial point of having our first real program. **Almost!** \n",
    "\n",
    "We'll let you grind a bit more! Ouch! "
   ]
  },
  {
   "cell_type": "markdown",
   "metadata": {
    "nbgrader": {
     "grade": false,
     "grade_id": "cell-bd568625f770a7eb",
     "locked": true,
     "schema_version": 3,
     "solution": false,
     "task": false
    }
   },
   "source": [
    "# Problem 5. (1 point) \n",
    "For a system of equations Ax = b that is bigger, for example, 10x10, it would make more sense to have some sort of repeating code, than to type 10 equations. We've seen that our magic common equation has the form\n",
    "\n",
    "$$x[k]=(b[k]-(A[k:k,:] * x)[1])/A[k,k]$$ \n",
    "\n",
    "For this problem, we will give you a large A and b. You assume that Ax = b, and that x is a column vector with 10 entries. We'll have you MANUALLY repeat a step 10 times by running the same cell ten times! (Hey, it's better than typing 10 equations!)"
   ]
  },
  {
   "cell_type": "code",
   "execution_count": null,
   "metadata": {
    "nbgrader": {
     "grade": false,
     "grade_id": "cell-58b12d46e7a3a8fc",
     "locked": true,
     "schema_version": 3,
     "solution": false,
     "task": false
    }
   },
   "outputs": [],
   "source": [
    "#Run this cell to generate matrices A and b, and initialize x to be the correct size. \n",
    "#Once it is done running, you should see a 10x10 lower triangular matrix as the output\n",
    "\n",
    "using Random\n",
    "Random.seed!(1234)\n",
    "N=10; A=rand(N,N); #Builds a 10 x 10 matrix filled with randon elements, except, we fixed the \n",
    "# \"seed\" so that all of you will generate the same matrix\n",
    "\n",
    "# Make A lower triangular with one for loop and indexing\n",
    "# For now, pretend that you have not seen the command \"for\" and its friend \"end\"\n",
    "for k=1:N\n",
    "    A[k,k+1:N]=0.0*A[k,k+1:N]; #Not important to understand this line at this TIME!\n",
    "end \n",
    "b=rand(N,1); # a random column vector of size 10 x 1. Not bad.\n",
    "println(\" Are you intimidated by my size? Don't be.\")\n",
    "println(\"Later you will handle much bigger matrices than me.\")\n",
    "A"
   ]
  },
  {
   "cell_type": "markdown",
   "metadata": {
    "nbgrader": {
     "grade": false,
     "grade_id": "cell-53c7b684a70f8f9c",
     "locked": true,
     "schema_version": 3,
     "solution": false,
     "task": false
    }
   },
   "source": [
    "Now, to find all the values of x, we can define an equation that looks like our  algorithm above, \n",
    "### $$ x[k]=(b[k]-(A[k:k,:]*x)[1])/A[k,k]  $$  \n",
    "and run it 10 times."
   ]
  },
  {
   "cell_type": "code",
   "execution_count": null,
   "metadata": {
    "nbgrader": {
     "grade": false,
     "grade_id": "cell-fd449ea46859c8d4",
     "locked": true,
     "schema_version": 3,
     "solution": false,
     "task": false
    }
   },
   "outputs": [],
   "source": [
    "#first we need to start a counter variable to count the times that we have run the \n",
    "# loop and so that we can index into the vector x\n",
    "#\n",
    "x=0*b; # Sets x to zero and has the same size as b\n",
    "@show length(x)\n",
    "k = 0"
   ]
  },
  {
   "cell_type": "code",
   "execution_count": null,
   "metadata": {
    "nbgrader": {
     "grade": false,
     "grade_id": "cell-158d1d9ee5f0b483",
     "locked": true,
     "schema_version": 3,
     "solution": false,
     "task": false
    }
   },
   "outputs": [],
   "source": [
    "#you will need to run this block of code for EVERY ROW of the matrix A (hence, 10 times).  \n",
    "#Each output will correspond to an entry in the x vector.  Enter them in the block \n",
    "#below for grading.\n",
    "k = k + 1\n",
    "x[k] = (b[k]-((A[k:k, :])*x)[1])/A[k,k]\n",
    "println(\"k = $k\")\n",
    "println(x[k])\n",
    "if k == 10\n",
    "    println(\"Stop! Ten times is enough for this system. You are done being an organic FOR LOOP\") \n",
    "    println(\"Could you imagine doing those calculations by hand?\")\n",
    "else\n",
    "    println(\"Record your answer two cells below and then run me again.\")\n",
    "end\n",
    "\n",
    "#hint: If you get a BoundsError, re-run the cell above this one to reset k to zero. \n",
    "# x to the zero vector"
   ]
  },
  {
   "cell_type": "code",
   "execution_count": null,
   "metadata": {},
   "outputs": [],
   "source": [
    "temp=(A\\b)[10]\n",
    "println(\"Friendly check: When you get to x10, you should have x10 = $temp\")"
   ]
  },
  {
   "cell_type": "code",
   "execution_count": null,
   "metadata": {
    "nbgrader": {
     "grade": false,
     "grade_id": "cell-aea2a57811a6d4f0",
     "locked": false,
     "schema_version": 3,
     "solution": true,
     "task": false
    }
   },
   "outputs": [],
   "source": [
    "#Enter your results here as x1 through x10:\n",
    "# Uncomment and enter your answers\n",
    "# x1 = \n",
    "# x2 = \n",
    "# x3 =\n",
    "# x4 =  \n",
    "# x5 = \n",
    "# x6 = \n",
    "# x7 = \n",
    "# x8 = \n",
    "# x9 = \n",
    "# x10 =   # See above frinedly \n",
    "#\n",
    "#\n",
    "xVect = [x1; x2; x3; x4; x5; x6; x7; x8; x9; x10]"
   ]
  },
  {
   "cell_type": "markdown",
   "metadata": {
    "nbgrader": {
     "grade": false,
     "grade_id": "cell-49043136c73932e7",
     "locked": true,
     "schema_version": 3,
     "solution": false,
     "task": false
    }
   },
   "source": [
    "## Checking your work when solving systems of linear equations:\n",
    "\n",
    " ### Method 1 Ax = b if, and only if, Ax - b = 0, where 0 is the zero vector\n"
   ]
  },
  {
   "cell_type": "code",
   "execution_count": null,
   "metadata": {},
   "outputs": [],
   "source": [
    "# Should give a 10 x 1 vector of numbers that are nearly zero\n",
    "println(\"This number and numbers like it are numerically zero \", 1.1368683772161603e-13)\n",
    "A*xVect - b"
   ]
  },
  {
   "cell_type": "markdown",
   "metadata": {},
   "source": [
    " ### Method 2 Using the inv() function of the Linear Algebra package.  \n",
    "This function takes in the matrix A and the vector b, and returns the solution vector x.  In ROB 101 we discourage use of the matrix inverse function because it is numerically inefficient to compute it. However, for small problems, it can be used to check your work!  The cell below should return the same vector as your solution to x1 through x10."
   ]
  },
  {
   "cell_type": "code",
   "execution_count": null,
   "metadata": {
    "nbgrader": {
     "grade": false,
     "grade_id": "cell-7c84bf11929126a5",
     "locked": true,
     "schema_version": 3,
     "solution": false,
     "task": false
    }
   },
   "outputs": [],
   "source": [
    "#Your results should match this\n",
    "using LinearAlgebra\n",
    "inv(A)*b"
   ]
  },
  {
   "cell_type": "markdown",
   "metadata": {
    "nbgrader": {
     "grade": false,
     "grade_id": "cell-99a64cbccc510797",
     "locked": true,
     "schema_version": 3,
     "solution": false,
     "task": false
    }
   },
   "source": [
    "#### What if, instead of running that cell over and over manually, we used a control flow operator to do it for us?  ```For loops``` are perfect for running a certain number of times, and they even keep track of the counter variable for us.\n",
    "\n",
    "# Problem 6. (3 points)\n",
    "Find the solution to a 100 by 100 system! "
   ]
  },
  {
   "cell_type": "code",
   "execution_count": null,
   "metadata": {
    "nbgrader": {
     "grade": false,
     "grade_id": "cell-1c1ee03aefbec0b3",
     "locked": true,
     "schema_version": 3,
     "solution": false,
     "task": false
    }
   },
   "outputs": [],
   "source": [
    "# This defines the matrices A and b for a 100x100 system. \n",
    "#\n",
    "Random.seed!(4321)\n",
    "N=100; A=rand(N,N)+I;\n",
    "\n",
    "# Next, we make A lower triangular with one for loop and indexing\n",
    "\n",
    "#= This time, pay attention to \"for\" and its friend \"end\". Everything in \n",
    "between is repeated for k=1 all the way up to k=N. How convenient is that? \n",
    "(Yes, we know, when we first learned this we were bowled over too!) =#\n",
    "\n",
    "for k=1:N  \n",
    "    A[k,k+1:N]=0.0 * A[k,k+1:N]; #Not important to understand this line \n",
    "                                 #at this point in the course!\n",
    "end \n",
    "b=rand(N,1);"
   ]
  },
  {
   "cell_type": "code",
   "execution_count": null,
   "metadata": {},
   "outputs": [],
   "source": [
    "x=0.0*b;\n",
    "for k=1:N\n",
    "    #fill in a line that calculates x[k]  \n",
    "    #Hint:  Look at the cell you repeated earlier\n",
    "    \n",
    "end\n",
    "x[1:10] #show the first 10 entries of x\n",
    "# Uncomment the next line if you want to see move of x\n",
    "#x "
   ]
  },
  {
   "cell_type": "markdown",
   "metadata": {
    "nbgrader": {
     "grade": false,
     "grade_id": "cell-a6fdb63832bd5597",
     "locked": true,
     "schema_version": 3,
     "solution": false,
     "task": false
    }
   },
   "source": [
    "#### Check your work with the inv() function."
   ]
  },
  {
   "cell_type": "code",
   "execution_count": null,
   "metadata": {},
   "outputs": [],
   "source": [
    "#the inv() function\n",
    "#\n",
    "#= The inverse function will tell us if we get the same values with inv() \n",
    "as we did with the algorithm. If it returns \"true\" then your algorithm worked! \n",
    "Otherwise, try again, and make sure to re-run the cell that builds the matrices \n",
    "to get a fresh start. =#\n",
    "# \n",
    "\n",
    "ansComp = inv(A)*b\n",
    "display(ansComp[1:10]) #show the first 10 entries of the correct answer\n",
    "if isapprox(x, ansComp, atol = 1e-5); println(\"Got it right\"); else println(\"Nope. Got it wrong\"); end"
   ]
  },
  {
   "cell_type": "code",
   "execution_count": null,
   "metadata": {},
   "outputs": [],
   "source": [
    "x"
   ]
  },
  {
   "cell_type": "markdown",
   "metadata": {},
   "source": [
    "Cheatsheets for Julia Vector and Matrix syntax\n",
    "* https://cheatsheets.quantecon.org/julia-cheatsheet.html#vectors-and-matrices\n",
    "* https://www.softcover.io/read/7b8eb7d0/juliabook/basics\n",
    "\n",
    "Documentation for the LinearAlgebra Package\n",
    "* https://docs.julialang.org/en/v1/stdlib/LinearAlgebra/"
   ]
  },
  {
   "cell_type": "markdown",
   "metadata": {},
   "source": [
    "\n",
    "# If you find yourself struggling with Julia, reach out to us via Piazza. We have excellent IAs who have created a Julia tutoring session"
   ]
  },
  {
   "cell_type": "code",
   "execution_count": null,
   "metadata": {},
   "outputs": [],
   "source": []
  }
 ],
 "metadata": {
  "celltoolbar": "Create Assignment",
  "kernelspec": {
   "display_name": "Julia 1.8.2",
   "language": "julia",
   "name": "julia-1.8"
  },
  "language_info": {
   "file_extension": ".jl",
   "mimetype": "application/julia",
   "name": "julia",
   "version": "1.8.2"
  }
 },
 "nbformat": 4,
 "nbformat_minor": 4
}
