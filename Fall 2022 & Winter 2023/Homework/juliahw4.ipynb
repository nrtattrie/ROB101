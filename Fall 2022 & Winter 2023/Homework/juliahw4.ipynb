{
 "cells": [
  {
   "cell_type": "markdown",
   "metadata": {
    "nbgrader": {
     "grade": false,
     "grade_id": "cell-e60edb8e1aaec6e2",
     "locked": true,
     "schema_version": 3,
     "solution": false,
     "task": false
    }
   },
   "source": [
    "University of Michigan - ROB 101 Computational Linear Algebra"
   ]
  },
  {
   "cell_type": "markdown",
   "metadata": {
    "nbgrader": {
     "grade": false,
     "grade_id": "cell-012f9792ee40654d",
     "locked": true,
     "schema_version": 3,
     "solution": false,
     "task": false
    }
   },
   "source": [
    "# Homework 4: Building Your Own Functions for Solving Equations \n",
    "\n",
    "### See our Canvas Page for the Due Date and Time!\n",
    "\n",
    "### Pro-Tips (1) Hit save regularly (control s on a Window's machine) while working on this notebook; (2) We only grade your last submission. It does not hurt to hit the submit button multiple times while working on this notebook. If you forget to submit your work, we will not be able to grade it. \n",
    "\n",
    "#### Purpose:\n",
    "   Up to now, we have been writing \"scripts\", that is, a series of commands that allow us to accomplish a goal. Scripts are a great tool and a super quick way to prototype ideas. We are now going to move on to writing \"functions\", which allow us to call our operations in a much easier manner. \n",
    "\n",
    "   Another thing we'll do is some error checking. Once you have hidden your code behind a function, someone else might try to use it in a manner that will throw bugs or much worse, produce erroneous results without throwing a bug and hence without warning the user. The funny part is, that \"user\" is often us! We build a function and then we forget exactly all of the special requirements on the data that the function uses to produce an answer! \n",
    "- Skills:\n",
    "     - Writing functions\n",
    "     - Using functions\n",
    "     - Building in error checks\n",
    "- Knowledge:\n",
    "    - Learn to read error messages for detail\n",
    "    - Confidence built in writing functions\n",
    "   \n",
    "#### Task:  \n",
    "Read and execute the examples provided, then fill in code as directed to build your own functions, and then use them.\n",
    "\n",
    "### Example: Forward Substitution"
   ]
  },
  {
   "cell_type": "code",
   "execution_count": null,
   "metadata": {
    "nbgrader": {
     "grade": false,
     "grade_id": "cell-93ca00f9dfdf88be",
     "locked": true,
     "schema_version": 3,
     "solution": false,
     "task": false
    }
   },
   "outputs": [],
   "source": [
    "#computes the solution x to a system Lx = b where L is a lower triangular matrix and b is a column vector\n",
    "#note the structure we have used: we begin by declaring \"function\" and we end by declaring \"end\". On \n",
    "# the line before \"end\", we specify that value or values we are going to \"return\".\n",
    "# Everything in between is operating on the data passed to the function.\n",
    "\n",
    "function forwardsub(L, b)\n",
    "    # START of our computations\n",
    "    n = length(b)\n",
    "    x = Vector{Float64}(undef, n); #initialize an x vector of the correct size\n",
    "    x[1] = b[1]/L[1,1] #find the first entry of x\n",
    "    for i = 2:n #find every entry from the 2nd to the end\n",
    "        x[i]=(b[i]- (L[i,1:i-1])'*x[1:i-1] )/L[i,i] \n",
    "        #notice that we used the transpose operator to get the row of L\n",
    "    end\n",
    "    # END of our computations.  \n",
    "    @assert !any(isinf.(x)) # Checking that x does not contain infinity\n",
    "    return x\n",
    "end\n",
    "#Everything between the function header and this last \"end\" statement\n",
    "#is essentailly the same as a script. It's that easy to build a function!"
   ]
  },
  {
   "cell_type": "code",
   "execution_count": null,
   "metadata": {
    "scrolled": true
   },
   "outputs": [],
   "source": [
    "#Here is an example where the function works!\n",
    "L = [1 0 0 ; 2 1 0; 4 5 1]\n",
    "b = [1; 8; 32]\n",
    "forwardsub(L, b)"
   ]
  },
  {
   "cell_type": "code",
   "execution_count": null,
   "metadata": {
    "scrolled": true
   },
   "outputs": [],
   "source": [
    "#Here is one way that we can break our function:\n",
    "L = [1 0 0 ; 2 1 0; 8 5 0]\n",
    "b = [3; 2; 3]\n",
    "forwardsub(L, b)\n",
    "\n",
    "# To better understand the error messages below, please review Chapter 0.5.4 in the Lab Manual.\n",
    "# The first error message of the form In[cell number]:16 will be pointing you\n",
    "# to line mumber 16 of function forwardsub(L, b) where an error occured\n",
    "\n",
    "# The second error message of the form In[cell number]:4 will be pointing you to the line in \n",
    "# this cell where the error occurred...confirming that something went wrong in forwardsub\n",
    "\n",
    "# The reason we have not filled in values for [cell number] as they point to the  \n",
    "# number of a cell, and if you run that cell many times, it keeps changing, so we\n",
    "# cannot predict the number you will see. \n",
    "\n",
    "# See Chapter 0.5.4 in the Lab Manual."
   ]
  },
  {
   "cell_type": "markdown",
   "metadata": {},
   "source": [
    "## Problem 1\n",
    "\n",
    "\n",
    "### a) Run the cell above, then choose the best explanation for why the error occurred (1 point)\n",
    "\n",
    "**Hint:** It may help to display the matrix L and walk through the steps of the function\n",
    "\n",
    "### Provide your answer by uncommenting one of the following lines.\n",
    "\n",
    "To \"uncomment\" a line, just delete the # character in the front of the line.  This will change that line from a comment to actual, executable code.\n"
   ]
  },
  {
   "cell_type": "code",
   "execution_count": null,
   "metadata": {},
   "outputs": [],
   "source": [
    "# DO NOT CHANGE the variable name or you will fail the autograder, which is looking at Ans1\n",
    "\n",
    "# Ans1 = 1 #The for loop ran too many times, causing the code to explode\n",
    "# Ans1 = 2 #The matrix L has a zero on the diagonal, leading to a divide by zero,\n",
    "           #and our code did not check for that\n",
    "# Ans1 = 3 #The assertion command is detecting the error, and if it were not there,\n",
    "           # the function would work just fine! \n"
   ]
  },
  {
   "cell_type": "code",
   "execution_count": null,
   "metadata": {},
   "outputs": [],
   "source": [
    "#Here is another way that it could break:\n",
    "L = [5 0 0 ; 1 4 0; 7 3 2]\n",
    "b = [3; 2; 3; 4]\n",
    "forwardsub(L, b)"
   ]
  },
  {
   "cell_type": "markdown",
   "metadata": {},
   "source": [
    "### b) Run the cell above and explain why the error occurred (1 point)\n",
    "Hint: Write the system of equations in regular (non-matrix) notation. We will do the first equation for you:\n",
    "\n",
    "$$5x_1 + 0x_2 + 0x_3 = 3$$ \n",
    "\n",
    "### Provide your answer by uncommenting one of the following lines.\n",
    "\n",
    "To \"uncomment\" a line, just delete the # character in the front of the line.  This will change that line from a comment to actual, executable code.\n"
   ]
  },
  {
   "cell_type": "code",
   "execution_count": null,
   "metadata": {},
   "outputs": [],
   "source": [
    "# DO NOT CHANGE the variable name or you will fail the autograder, which is looking at Ans2\n",
    "\n",
    "# Ans2 = 1 #The for loop ran an incorrect number of times, \n",
    "           #because b and L are not size compatible\n",
    "# Ans2 = 2 #The for loop ran too few times, because length(b) is less than\n",
    "           #the number of columns of L\n",
    "# Ans2 = 3 #The matrix L has too many zeros above its diagonal \n"
   ]
  },
  {
   "cell_type": "code",
   "execution_count": null,
   "metadata": {
    "scrolled": true
   },
   "outputs": [],
   "source": [
    "#The above cases produced errors, so we knew to look for a problem in the data. \n",
    "#This example will not produce an error, but it also doesn't produce the solution we expect\n",
    "using Random \n",
    "Random.seed!(4321) \n",
    "L=rand(3,3) \n",
    "b=rand(3,1) \n",
    "xSol=forwardsub(L, b)\n",
    "println(\"Oops!\")\n",
    "solutionError=L*xSol-b # should be a vector of ALL ZEROS if xSol solves Lx = b"
   ]
  },
  {
   "cell_type": "markdown",
   "metadata": {},
   "source": [
    "### c) Run the cell above and explain why x does not satisfy Lx = b (1 point)\n",
    "Hint:  You may want to add additional print statements in order to see the matrices you are using.\n",
    "\n",
    "\n",
    "### Provide your answer by uncommenting one of the following lines.\n",
    "\n",
    "To \"uncomment\" a line, just delete the # character in the front of the line.  This will change that line from a comment to actual, executable code."
   ]
  },
  {
   "cell_type": "code",
   "execution_count": null,
   "metadata": {},
   "outputs": [],
   "source": [
    "# DO NOT CHANGE the variable name or you will fail the autograder, which is looking at Ans3\n",
    "\n",
    "# Ans3 = 1 #The function forwardsub(L, b) has a faulty return statement\n",
    "# Ans3 = 2 #The function forwardsub(L, b) assumes L is lower triangular, but it is square\n",
    "# Ans3 = 3 #The function forwardsub(L, b) assumes L and b have compatible sizes, but they do not\n"
   ]
  },
  {
   "cell_type": "markdown",
   "metadata": {
    "nbgrader": {
     "grade": false,
     "grade_id": "cell-1dadc10ba3ded3d0",
     "locked": true,
     "schema_version": 3,
     "solution": false,
     "task": false
    }
   },
   "source": [
    "### Error Checking:  An example\n",
    "Above, you experienced three possible ways that the function forwardsub(L, b) can fail.  Let's build a few error checks into the function so that we can tell what is going wrong.  Follow along with the comments in the code below to see how we can do these checks.\n",
    "\n",
    "Now, if you go back and run the erroneous cells from above, the function will print out a more helpful error."
   ]
  },
  {
   "cell_type": "code",
   "execution_count": null,
   "metadata": {
    "nbgrader": {
     "grade": false,
     "grade_id": "cell-a57c518fa9b53c8e",
     "locked": true,
     "schema_version": 3,
     "solution": false,
     "task": false
    }
   },
   "outputs": [],
   "source": [
    "#I copied the forwardsub function from above\n",
    "function forwardsub(L, b)\n",
    "    # Now before we start our computations, let's make sure that there will be no trivial errors\n",
    "    n = length(b)\n",
    "    \n",
    "    #first, let's check that our inputs are the right size\n",
    "    (rows, cols) = size(L)\n",
    "    if rows != cols\n",
    "        println(\"L is not a square\")\n",
    "        return 0\n",
    "    end\n",
    "    if rows != n\n",
    "        println(\"L and b are not size compatible\")\n",
    "        return 0\n",
    "    end\n",
    "    #if we got to here, that means we have a matrix and vector of compatible sizes\n",
    "    \n",
    "    #now, let's check that L is actually lower triangular, eg: every element above the diagonal is zero\n",
    "    #also check to make sure that there are no zeros on the diagonal\n",
    "    for i in 1:n\n",
    "        for j in 1:n\n",
    "            if j > i\n",
    "                if L[i, j] != 0\n",
    "                    println(\"L is not lower triangular\")\n",
    "                    return 0\n",
    "                end\n",
    "            elseif j == i\n",
    "                if L[i, j] == 0\n",
    "                    println(\"There is a zero on the diagonal\")\n",
    "                    return 0\n",
    "                end\n",
    "            end\n",
    "        end\n",
    "    end\n",
    "                    \n",
    "    \n",
    "    # We are ready now ready to do the forward substitution, because we found the arguments \n",
    "    # L and b passed to the function to be acceptable \n",
    "    \n",
    "    x = Vector{Float64}(undef, n); #initialize an x vector of the correct size\n",
    "    x[1] = b[1]/L[1,1] #find the first entry of x\n",
    "    for i = 2:n #find every entry from the 2nd to the end\n",
    "        x[i, 1] = (b[i]- (L[i,1:i-1])' *x[1:i-1] )./L[i,i] \n",
    "        #notice that we used a transpose(') operator to get the row of L\n",
    "    end\n",
    "    # END of our computations. Everything between the function header and END\n",
    "    # is essentailly the same as a script. It's that easy to build a function!\n",
    "    return x\n",
    "end"
   ]
  },
  {
   "cell_type": "markdown",
   "metadata": {},
   "source": [
    "## Use your improved forwardsub function with error checking! Go back to the previous cells that produced errors. Check that the error message supports your answer to the associated question about what caused the error! Too easy to get all the points, right? "
   ]
  },
  {
   "cell_type": "markdown",
   "metadata": {
    "nbgrader": {
     "grade": false,
     "grade_id": "cell-999927b7bf625eaf",
     "locked": true,
     "schema_version": 3,
     "solution": false,
     "task": false
    }
   },
   "source": [
    "### Problem 2.  Write a function for back substitution (2 points)\n",
    "Use the function given to you in Problem 1, and Chapters 3.5 and 3.6 of the ROB 101 Textbook to help you construct your answer.  Think about doing forward substitution, but backwards.  \n",
    "\n",
    "**Hint:**  In order to make a for loop that goes backwards, you can use either\n",
    "\n",
    "**for i in reverse(iSmaller:iBigger)**\n",
    "\n",
    "#### or\n",
    "\n",
    "**for i in iBigger:-1:iSmaller**  (where the second parameter(-1) is the step size \n",
    "                                   and causes the loop to go backward)\n",
    "\n",
    "#### or \n",
    "\n",
    "\n",
    "**for i = iBigger:-1:iSmaller**  (where the second parameter(-1) is the step size\n",
    "                                  and causes the loop to go backward)\n",
    "\n",
    "### Hint: The lab manual has several examples of running for loops **BACKWARD**. See those before asking for help on Piazza.\n"
   ]
  },
  {
   "cell_type": "code",
   "execution_count": null,
   "metadata": {
    "nbgrader": {
     "grade": false,
     "grade_id": "2ans",
     "locked": false,
     "schema_version": 3,
     "solution": true,
     "task": false
    },
    "tags": [
     "hide_soln"
    ]
   },
   "outputs": [],
   "source": [
    "#computes the solution x to a system Ux = b where U is a lower triangular matrix and b is a column vector\n",
    "function backwardsub(U, b)\n",
    "    n = length(b)\n",
    "    x = Vector{Float64}(undef, n) #initialize an x vector of the correct size\n",
    "    # We compute x[n] for you to emphasize that you need to compute x[n-1], ...., x[1]\n",
    "    # in that order\n",
    "    x[n] = b[n]/U[n,n]\n",
    "    #fill in the rest of the function here.  You should think about what the forward substitution algorithm looked like\n",
    "    # YOUR CODE HERE\n",
    "    \n",
    "    \n",
    "    \n",
    "end\n",
    "    "
   ]
  },
  {
   "cell_type": "code",
   "execution_count": null,
   "metadata": {},
   "outputs": [],
   "source": [
    "# Run this to test your code\n",
    "U = [4 5 6; 0 2 3; 0 0 1 ]\n",
    "b = [32; 13; 3]\n",
    "x = backwardsub(U, b)\n",
    "# Your answer should be [1, 2, 3]\n",
    "# Not getting what you expect?  \n",
    "# Check out the Lab Manual for relevant examples before saying you are stuck!"
   ]
  },
  {
   "cell_type": "markdown",
   "metadata": {},
   "source": [
    "# If your function is not producing an answer, here are some steps to help with debugging it\n",
    "\n",
    "* Open up a new cell in which to work. You can hit the plus sign (+) in the top banner to create a cell.\n",
    "* Start with a very simple U and b, such as U = [1.0 1.0; 0 1] and b = [2.0; 3.0]\n",
    "* With this U and b, you know what has to be computed before entering the ```for loop``` and in the first=only step of the ```for loop```\n",
    "* Make liberal use of display( ) and @show to see if you are computing what you \"think\" you are computing!\n",
    "* Look at the error messages. Recall for example that ```In[47]:7``` tells you the error is in Cell 47, line number 7\n",
    "* x[(i+1):n] selects all values of the vector x from index (i+1) all the way to index n\n",
    "* Similarly, U[i,(i+1):n] selects the i-th row of U, and all of the columns from index (i+1) to n\n",
    "* If you get  U = [1.0 1.0; 0 1] and b = [2.0; 3.0] to work and still fail the unit test below, reach out for help on Piazza. You have made a good attempt at the problem. Make sure line numbering is turned on and post your code along with the output of the unit test, such as any error messages\n",
    "* If you fail to get  U = [1.0 1.0; 0 1] and b = [2.0; 3.0] to work after 30 minutes of effort, reach out for help on Piazza. We'll reduce your frustration. Make sure line numbering is turned on and post you code along with the output of your test on U = [1.0 1.0; 0 1] and b = [2.0; 3.0], including error messages. \n",
    "* Remember, you are anonymous to your fellow students on Piazza. \n",
    " "
   ]
  },
  {
   "cell_type": "code",
   "execution_count": null,
   "metadata": {
    "nbgrader": {
     "grade": true,
     "grade_id": "2test",
     "locked": true,
     "points": 2,
     "schema_version": 3,
     "solution": false,
     "task": false
    },
    "tags": [
     "unit_test"
    ]
   },
   "outputs": [],
   "source": [
    "#Unit test:  Your answer should be [1, 2, 3]\n",
    "#Not getting what you expect?  Follow the above debugging steps\n",
    "U = [4 5 6; 0 2 3; 0 0 1 ]\n",
    "b = [32; 13; 3]\n",
    "answer2a = backwardsub(U, b)"
   ]
  },
  {
   "cell_type": "markdown",
   "metadata": {
    "nbgrader": {
     "grade": false,
     "grade_id": "cell-bc5e4970e9827764",
     "locked": true,
     "schema_version": 3,
     "solution": false,
     "task": false
    }
   },
   "source": [
    "### Problem 3.  Add Error testing, like the example from Problem 1, to your function for backwardsub (4 points)\n",
    "Copy your code from problem 2, and make sure that you are checking for these errors:\n",
    "* Check that the matrix U is a square and is compatible with the size of b\n",
    "* Check that the matrix U is upper triangular\n",
    "* Check that there are no zeros on the diagonal of U\n",
    "\n",
    "**If you hit an error, print a relevant error message and return 0 when you exit the function**"
   ]
  },
  {
   "cell_type": "code",
   "execution_count": null,
   "metadata": {
    "nbgrader": {
     "grade": false,
     "grade_id": "3ans",
     "locked": false,
     "schema_version": 3,
     "solution": true,
     "task": false
    },
    "tags": [
     "hide_soln"
    ]
   },
   "outputs": [],
   "source": [
    "#copy your code from above, and add error checks\n",
    "#Hint:  Look at the error checking example for the forwardsub function\n",
    "\n",
    "\n",
    "function backwardsub(U, b)\n",
    "    # YOUR CODE HERE\n",
    "    \n",
    "end\n"
   ]
  },
  {
   "cell_type": "markdown",
   "metadata": {},
   "source": [
    "### Build your own friendly tests! We will provide one, just to check if your code is working"
   ]
  },
  {
   "cell_type": "code",
   "execution_count": null,
   "metadata": {},
   "outputs": [],
   "source": [
    "# Use this cell to create several square matrices U and column vectors b that should cause problems for your function.\n",
    "using LinearAlgebra\n",
    "U1 = [1 2 3; 0 4 5; 0 0 6]\n",
    "b1 = [14; 23; 18]\n",
    "x = backwardsub(U1, b1)\n",
    "if norm(x - inv(U1)*b1) < 1e-3\n",
    "    println(\"Bravo, you got this one correct. In the following autograded cells,\")\n",
    "    println(\"we will provide erroneous inputs to your function and see if you detect the errors.\")\n",
    "    println(\"The errors involve size compatibility of U and b, zeros on diagonal U, and U not upper triangular. \")\n",
    "    println(\"When you detect an error, be sure and return 0 or you will fail the autograder.\")\n",
    "else\n",
    "    println(\"Keep trying. Read below\")\n",
    "end\n",
    "\n",
    "\n",
    "# It is highly suggested that you deliberately provide faulty U and b that create errors and check for them youself.\n",
    "# This is standard coding practice. Yes, it amounts to building your own friendly tests.\n",
    "\n",
    "# U2 =\n",
    "# b2 =\n",
    "# x = backwardsub(U2, b2)\n",
    "\n",
    "# U3 =\n",
    "# b3 =\n",
    "# x = backwardsub(U3, b3)\n",
    "\n",
    "# U4 =\n",
    "# b4 =\n",
    "# x = backwardsub(U4, b4)"
   ]
  },
  {
   "cell_type": "code",
   "execution_count": null,
   "metadata": {
    "nbgrader": {
     "grade": true,
     "grade_id": "3test1",
     "locked": true,
     "points": 1,
     "schema_version": 3,
     "solution": false,
     "task": false
    },
    "tags": [
     "autograde_3a"
    ]
   },
   "outputs": [],
   "source": [
    "#The function should work here.  There should not be any error message\n",
    "U1 = [1 2 3; 0 4 5; 0 0 6]\n",
    "b1 = [14; 23; 18]\n",
    "x=backwardsub(U1, b1)"
   ]
  },
  {
   "cell_type": "code",
   "execution_count": null,
   "metadata": {
    "nbgrader": {
     "grade": true,
     "grade_id": "3test2",
     "locked": true,
     "points": 1,
     "schema_version": 3,
     "solution": false,
     "task": false
    },
    "tags": [
     "autograde_3b"
    ]
   },
   "outputs": [],
   "source": [
    "#You should have an error message about a zero on a diagonal\n",
    "U2 = [6 8 1 ; 0 0 3; 0 0 4]\n",
    "b2 = [3; 2; 3]\n",
    "backwardsub(U2, b2)"
   ]
  },
  {
   "cell_type": "code",
   "execution_count": null,
   "metadata": {
    "nbgrader": {
     "grade": true,
     "grade_id": "3test3",
     "locked": true,
     "points": 1,
     "schema_version": 3,
     "solution": false,
     "task": false
    },
    "tags": [
     "autograde_3c"
    ]
   },
   "outputs": [],
   "source": [
    "#You should have an error message that U is not upper triangular\n",
    "U3 = [2 8 1 9; 3 0 3 9; 0 0 4 2; 0 0 0 1]\n",
    "b3 = [3; 2; 3; 1]\n",
    "backwardsub(U3, b3)"
   ]
  },
  {
   "cell_type": "code",
   "execution_count": null,
   "metadata": {
    "nbgrader": {
     "grade": true,
     "grade_id": "3test4",
     "locked": true,
     "points": 1,
     "schema_version": 3,
     "solution": false,
     "task": false
    },
    "tags": [
     "autograde_3d"
    ]
   },
   "outputs": [],
   "source": [
    "#These matrices are not size compatible, your error should reflect that\n",
    "U4 = [5 4 1; 6 7 2; -7 2 1]\n",
    "b4 = [5; 1; 2; 6]\n",
    "backwardsub(U4, b4)"
   ]
  },
  {
   "cell_type": "markdown",
   "metadata": {
    "nbgrader": {
     "grade": false,
     "grade_id": "cell-033d958784d856c5",
     "locked": true,
     "schema_version": 3,
     "solution": false,
     "task": false
    }
   },
   "source": [
    "##### Problem 4.  LU decomposition with Permutations (1+2)\n",
    "Julia has a built-in LU Factorization function. Below is an example of how to access the properties of the lu() function. \n",
    "\n",
    "### Chapter 5  in our textbook goes over Julia's native LU command; look in the Table of Contents for \"Using the LU Command Native to Julia\". It's hard to be more explicit than that!\n",
    "\n",
    "\n",
    "### Pay attention to the warning given two cells down."
   ]
  },
  {
   "cell_type": "code",
   "execution_count": null,
   "metadata": {
    "nbgrader": {
     "grade": false,
     "grade_id": "cell-511ed2625b2054d5",
     "locked": true,
     "schema_version": 3,
     "solution": false,
     "task": false
    }
   },
   "outputs": [],
   "source": [
    "using LinearAlgebra\n",
    "M = [0 4 2; 10 2 1; 1 1 1 ]\n",
    "# F is a variable that holds all the data from the factorization. It contains all three matrices, L,U, and P\n",
    "F = lu(M)\n",
    "L =  F.L #lower triangular factor\n",
    "@show L\n",
    "U =  F.U #upper triangular factor\n",
    "@show U\n",
    "P = F.P #Permutation matrix\n",
    "@show P\n",
    "##properties of the factorization and a check that we know how to use it!\n",
    "Check = P*M-L*U\n",
    "#this should be a matrix of zeros if PM = LU"
   ]
  },
  {
   "cell_type": "code",
   "execution_count": null,
   "metadata": {},
   "outputs": [],
   "source": [
    "# WARNING!\n",
    "# Warning: If you try to use Julia's native LU function like this\n",
    "L, U, P = lu(M)\n",
    "# Then L and U are correct\n",
    "display(L)\n",
    "display(U)\n",
    "display(P)\n",
    "# but P is not a permutation matrix. It is instead the list of permutation indices\n",
    "# that we typically call lowercase p. Just because you call it uppercase P \n",
    "# does not make it a permutation matrix. This is explained in our textbook in Chapter 5; \n",
    "# look in the Table of Contents for \"Using the LU Command Native to Julia\"\n",
    "# If you need P from the native LU command, you must use F=LU(M), P=F.P\n",
    "F=lu(M)\n",
    "F.P"
   ]
  },
  {
   "cell_type": "code",
   "execution_count": null,
   "metadata": {},
   "outputs": [],
   "source": [
    "# Note that P is the row permuation of the identity matrix specified by lower case p, the list of indices\n",
    "# Said another way, if you swap the rows of the identity matrix according to lower case p, \n",
    "# you get P, the permutation matrix\n",
    "#\n",
    "Id = zeros(3,3) + I\n",
    "L, U, p = lu(M) \n",
    "display(p) # p is a list of indices\n",
    "myP = Id[p,:] # compare to the P computed in the previous cell"
   ]
  },
  {
   "cell_type": "markdown",
   "metadata": {
    "nbgrader": {
     "grade": false,
     "grade_id": "cell-fae5af96d05b0446",
     "locked": true,
     "schema_version": 3,
     "solution": false,
     "task": false
    }
   },
   "source": [
    "### a) Return the lower triangular matrix of the LU decomposition of matrix G using Julia's built-in `lu` function (1 point)\n",
    "$$ G = \\begin{bmatrix}6&7&2&9\\\\1&-3&-5&6\\\\-8&2&-3&-4\\\\0&0&2&1\\end{bmatrix} $$"
   ]
  },
  {
   "cell_type": "code",
   "execution_count": null,
   "metadata": {
    "nbgrader": {
     "grade": false,
     "grade_id": "4a",
     "locked": false,
     "schema_version": 3,
     "solution": true,
     "task": false
    },
    "tags": [
     "autograder_answer",
     "solution_hidden"
    ]
   },
   "outputs": [],
   "source": [
    "# We give you G\n",
    "G = [6 7 2 9; 1 -3 -5 6; -8 2 -3 -4; 0 0 2 1]\n",
    "\n",
    "# Return your answer as a variable named answer4a\n",
    "# replace the line below with your code\n",
    "\n",
    "# answer4a = ??\n"
   ]
  },
  {
   "cell_type": "code",
   "execution_count": null,
   "metadata": {},
   "outputs": [],
   "source": [
    "# friendly check\n",
    "# if the value of is_it_correct_checkN is \"Yes\", then your answer may be correct. \n",
    "# If the value of is_it_correct_checkN is \"No\", then your answer is wrong\n",
    "\n",
    "is_it_correct_check1 = isapprox(sum(answer4a[[5,9,10,13,14,15]]), 0.0, atol=1e-5) ? \"Yes\" : \"No\" \n",
    "\n",
    "@show is_it_correct_check1; "
   ]
  },
  {
   "cell_type": "markdown",
   "metadata": {
    "nbgrader": {
     "grade": false,
     "grade_id": "cell-d89e3bad3dcaca3d",
     "locked": true,
     "schema_version": 3,
     "solution": false,
     "task": false
    }
   },
   "source": [
    "### b) Return the Permutation matrix and the Upper triangular matrix of matrix C using Julia's built-in `lu` function (2 points)\n",
    "$$ C = \\begin{bmatrix}6&-2&8&-7&1\\\\-2&0&3&5&9\\\\9&-4&5&-1&0\\\\-8&2&-2&3&1\\\\6&0&-5&1&9\\end{bmatrix}$$"
   ]
  },
  {
   "cell_type": "code",
   "execution_count": null,
   "metadata": {
    "nbgrader": {
     "grade": false,
     "grade_id": "4b",
     "locked": false,
     "schema_version": 3,
     "solution": true,
     "task": false
    },
    "tags": [
     "autograded_answer",
     "hide_solution"
    ]
   },
   "outputs": [],
   "source": [
    "#return the permutation matrix as perm4b and the upper triangular matrix as upper4b\n",
    "# We give you the matrix C\n",
    "C = [6 -2 8 -7 1; -2 0 3 5 9; 9 -4 5 -1 0; -8 2 -2 3 1; 6 0 -5 1 9]\n",
    "\n",
    "# perm4b = ??\n",
    "# upper4b = ??\n"
   ]
  },
  {
   "cell_type": "markdown",
   "metadata": {
    "nbgrader": {
     "grade": false,
     "grade_id": "cell-74c434fcb8819248",
     "locked": true,
     "schema_version": 3,
     "solution": false,
     "task": false
    }
   },
   "source": [
    "### Problem 5.  Use LU decompostition and forward/back substitution to solve the system of equations for x (3 points)\n",
    "$$\\begin{bmatrix}8&-18&-16&2 &0& -8& 18& 8& 12 &-20\\\\ -36& 41& 142 &21& -20 &6 -111& -106& -24& 190\\\\\n",
    "    36 &-117 &-13& 38 &-25 &-60 &63& -31& 79 &9\\\\ 32& -104& 32& 44& 26& -114 &-82& 52& 92& -130\\\\\n",
    "    24& -78& -10 &26& -46 &-30 &36 &-10& 70& -15\\\\ 12 &-19 &-70 &-43 &-48 &142& 190 &-7 &38 &64\\\\\n",
    "    16& -52& -40& 26& -136& 80& 126& 1& 69 &39\\\\ 20 &-9 &-63 &-66& 190& -129& 49& -10& -129& -199\\\\\n",
    "    -28& 51 &41 &-4 &-3 &22 &119 &-261 &-143 &383\\\\ 36 &-61 &-123 &10 &-88 &-55 &1 &113 &95 &-173\\end{bmatrix} x = \\begin{bmatrix}-1\\\\2\\\\-2\\\\8\\\\-9\\\\-7\\\\-7\\\\-2\\\\-1\\\\-5\\end{bmatrix} $$\n",
    "\n",
    "Hint: For a system $Ax = b$, if the LU decompositon without permutations is performed on A, then \n",
    "$$Ax=b \\iff LUx = b \\iff Ux = y \\text{ and } Ly = b.$$  See Chapter 5.5 of the ROB 101 course booklet for an example.\n",
    "\n",
    "Use Julia's `lu` function as well as the `forwardsub` and `backwardsub` functions created above."
   ]
  },
  {
   "cell_type": "code",
   "execution_count": null,
   "metadata": {
    "nbgrader": {
     "grade": false,
     "grade_id": "cell-8eb335eac3652b1f",
     "locked": true,
     "schema_version": 3,
     "solution": false,
     "task": false
    },
    "tags": [
     "problem_4",
     "read-only"
    ]
   },
   "outputs": [],
   "source": [
    "#Solve the problem with julia's lu() function and your forward and back substitution functions \n",
    "#Matrices A and b are declared for you\n",
    "A = [8.0 -18 -16 2 0 -8 18 8 12 -20; -36 41 142 21 -20 6 -111 -106 -24 190;\n",
    "    36 -117 -13 38 -25 -60 63 -31 79 9; 32 -104 32 44 26 -114 -82 52 92 -130;\n",
    "    24 -78 -10 26 -46 -30 36 -10 70 -15; 12 -19 -70 -43 -48 142 190 -7 38 64;\n",
    "    16 -52 -40 26 -136 80 126 1 69 39; 20 -9 -63 -66 190 -129 49 -10 -129 -199;\n",
    "    -28 51 41 -4 -3 22 119 -261 -143 383; 36 -61 -123 10 -88 -55 1 113 95 -173]\n",
    "b = [-1.0;2; -2; 8; -9; -7; -7; -2; -1; -5]"
   ]
  },
  {
   "cell_type": "code",
   "execution_count": null,
   "metadata": {
    "nbgrader": {
     "grade": false,
     "grade_id": "5ans",
     "locked": false,
     "schema_version": 3,
     "solution": true,
     "task": false
    },
    "tags": [
     "problem_4",
     "soln_hidden"
    ]
   },
   "outputs": [],
   "source": [
    "using LinearAlgebra\n",
    "#Remember to use lu(A, Val(false)) in order to prevent permutations\n",
    "\n",
    "# x = ?? \n"
   ]
  },
  {
   "cell_type": "code",
   "execution_count": null,
   "metadata": {},
   "outputs": [],
   "source": [
    "# One of our indirect tests to help you out!  \n",
    "v1=[-0.50936302283917\n",
    "  0.7992792005313114\n",
    " -0.14705788249353227\n",
    "  0.07644300681251395\n",
    "  0.03343075231221523\n",
    "  0.1747387269949792\n",
    " -0.14613415921044132\n",
    " -0.11184129889439307\n",
    " -0.08544233011672514\n",
    " -0.03764595800164613]\n",
    "v2=[ -0.3731842826329415\n",
    " -0.14705788249353227\n",
    "  0.8922581971538276\n",
    "  0.05600588849308857\n",
    "  0.02449300549924842\n",
    "  0.1280221444390252\n",
    " -0.10706503795493587\n",
    " -0.08194040993395578\n",
    " -0.06259923324109233\n",
    " -0.027581271511556208] \n",
    "\n",
    "# friendly check\n",
    "# if the value of is_it_correct_checkN is \"Yes\", then your answer may be correct. \n",
    "# If the value of is_it_correct_checkN is \"No\", then your answer is wrong\n",
    "\n",
    "# The dot product operator in the tests below can be typed using \\cdot + tab\n",
    "# a ⋅ b is functionally identical to dot(a, b) in Julia\n",
    "\n",
    "is_it_correct_check1 = isapprox(0, v1 ⋅ x, atol=1e-8) ? \"Yes\" : \"No\" \n",
    "is_it_correct_check2 = isapprox(0, v2 ⋅ x, atol=1e-8) ? \"Yes\" : \"No\" \n",
    "\n",
    "@show is_it_correct_check1; \n",
    "@show is_it_correct_check2; "
   ]
  },
  {
   "attachments": {
    "image-2.png": {
     "image/png": "[encoded data removed]"
    }
   },
   "cell_type": "markdown",
   "metadata": {},
   "source": [
    "## For the final point, solve Ax = b for the same A and b using LU with Permutations\n",
    "\n",
    "![image-2.png](attachment:image-2.png)\n",
    "\n",
    "\n",
    "### Make sure your solution provides x and y that satisfy L * y = P * b and  U * x = y\n",
    "\n"
   ]
  },
  {
   "cell_type": "code",
   "execution_count": null,
   "metadata": {
    "nbgrader": {
     "grade": false,
     "grade_id": "cell-f928d50ae578b062",
     "locked": false,
     "schema_version": 3,
     "solution": true,
     "task": false
    }
   },
   "outputs": [],
   "source": [
    "# Solve for y and x; see the above big green box\n",
    "F = lu(A); # this does LU with permutations\n",
    "\n",
    "# Be sure that you define x and y and the autograder will check their values\n",
    "# y = ??\n",
    "# x = ??\n",
    "\n",
    "[x y]"
   ]
  },
  {
   "cell_type": "code",
   "execution_count": null,
   "metadata": {},
   "outputs": [],
   "source": [
    "# If you are clever, you will check your answers yourself here\n",
    "\n",
    "# Insert the appropriate multiplications and see if you are correct!\n",
    "# For example L*y - P*b should be very small numbers\n"
   ]
  },
  {
   "cell_type": "markdown",
   "metadata": {},
   "source": [
    "# If you find yourself struggling with Julia, reach out to us via Piazza. We have excellent IAs who have created a Julia tutoring session"
   ]
  },
  {
   "cell_type": "code",
   "execution_count": null,
   "metadata": {},
   "outputs": [],
   "source": []
  }
 ],
 "metadata": {
  "celltoolbar": "Create Assignment",
  "kernelspec": {
   "display_name": "Julia 1.8.2",
   "language": "julia",
   "name": "julia-1.8"
  },
  "language_info": {
   "file_extension": ".jl",
   "mimetype": "application/julia",
   "name": "julia",
   "version": "1.8.2"
  }
 },
 "nbformat": 4,
 "nbformat_minor": 4
}
