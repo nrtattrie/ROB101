{
 "cells": [
  {
   "cell_type": "markdown",
   "metadata": {
    "nbgrader": {
     "grade": false,
     "grade_id": "cell-c39f28fa9bdc794e",
     "locked": true,
     "schema_version": 3,
     "solution": false,
     "task": false
    }
   },
   "source": [
    "University of Michigan - ROB 101 Computational Linear Algebra"
   ]
  },
  {
   "cell_type": "markdown",
   "metadata": {
    "nbgrader": {
     "grade": false,
     "grade_id": "cell-447f7c0cf0e86c7",
     "locked": true,
     "schema_version": 3,
     "solution": false,
     "task": false
    }
   },
   "source": [
    "# Homework 3: Vector and Matrix Multiplication (12 points)\n",
    "\n",
    "### Due date: See Canvas\n",
    "\n",
    "#### Purpose:  Learn ways to compute a matrix multiplication with programming and the LU Factorization without row permutations\n",
    "- Skills: \n",
    "    - Indexing for multiplication\n",
    "    - Converting algorithm to code\n",
    "    - Lower-Upper factorization without permutations\n",
    "- Knowledge:\n",
    "    - Learn how to use built in functions\n",
    "    - Understand how those functions work behind the scenes\n",
    "\n",
    "#### Task:  Complete the cells below as directed."
   ]
  },
  {
   "cell_type": "markdown",
   "metadata": {
    "nbgrader": {
     "grade": false,
     "grade_id": "cell-447f7c0cf0e86c77",
     "locked": true,
     "schema_version": 3,
     "solution": false,
     "task": false
    }
   },
   "source": [
    "### The Result of a Matrix Multiplication:\n",
    "$$[n\\times k~~\\text{matrix}] \\cdot [k \\times m~~\\text{matrix}] = [n \\times m~~\\text{matrix}].$$\n",
    "\n",
    "In other words:  In order for the matrix multiplication A times B to be possible, the number of columns in A must equal the number of rows in B."
   ]
  },
  {
   "cell_type": "markdown",
   "metadata": {
    "nbgrader": {
     "grade": false,
     "grade_id": "cell-db80a8ed2f700a69",
     "locked": true,
     "schema_version": 3,
     "solution": false,
     "task": false
    }
   },
   "source": [
    "\\begin{equation}\n",
    "   A \\cdot B:= \n",
    "\\left[\\begin{array}{cccc}  a_1^{\\rm row} \\cdot b_1^{\\rm col} & a_1^{\\rm row} \\cdot b_2^{\\rm col} & \\cdots & a_1^{\\rm row} \\cdot b_m^{\\rm col} \\\\\n",
    "a_2^{\\rm row} \\cdot b_1^{\\rm col} & a_2^{\\rm row} \\cdot b_2^{\\rm col} & \\cdots & a_2^{\\rm row} \\cdot b_m^{\\rm col} \\\\\n",
    "\\vdots & \\vdots & \\ddots & \\vdots \\\\\n",
    "a_n^{\\rm row} \\cdot b_1^{\\rm col} & a_n^{\\rm row} \\cdot b_2^{\\rm col} & \\cdots & a_n^{\\rm row} \\cdot b_m^{\\rm col}\n",
    "\\end{array}\\right].\n",
    "\\end{equation}\n",
    "\n",
    "### Problem 1.  Rows x Columns (1 + 1 + 1)\n",
    "Partition the following matrices, then compute the multiplication product using the formula above.\n",
    "\n",
    "### a) $A*B$ where $A = \\begin{bmatrix} 3&7&4\\\\1&4&3\\end{bmatrix}$ and $B = \\begin{bmatrix}8&3&9&1\\\\2&4&0&8\\\\0&7&1&2\\end{bmatrix}$\n",
    "(1 point)"
   ]
  },
  {
   "cell_type": "code",
   "execution_count": null,
   "metadata": {
    "nbgrader": {
     "grade": false,
     "grade_id": "1a",
     "locked": false,
     "schema_version": 3,
     "solution": true,
     "task": false
    },
    "tags": [
     "problem_1a"
    ]
   },
   "outputs": [],
   "source": [
    "#declare your partitions first\n",
    "\n",
    "\n",
    "a1row = \n",
    "a2row = \n",
    "\n",
    "b1col = \n",
    "b2col = \n",
    "b3col = \n",
    "b4col =\n",
    "\n",
    "#implement code below that forms the matrix A*B by computing each of its individual\n",
    "#entires via the rows of A times the columns of B \n",
    "\n",
    "#your answer should be a 2 x 4 matrix. Return that in a variable called answer1a\n",
    "\n",
    "#answer1a = ??\n"
   ]
  },
  {
   "cell_type": "code",
   "execution_count": null,
   "metadata": {},
   "outputs": [],
   "source": [
    "# friendly check\n",
    "# if the value of is_it_correct_checkN is \"Yes\", then your answer may be correct. \n",
    "# If the value of is_it_correct_checkN is \"No\", then your answer is wrong\n",
    "\n",
    "is_it_correct_check1 = (isapprox(308, sum(answer1a), atol = 1E-6)) ? \"Yes\" : \"No\" \n",
    "is_it_correct_check2 = (isapprox(answer1a[1,1], 38, atol = 1E-6)) ? \"Yes\" : \"No\"\n",
    "\n",
    "@show is_it_correct_check1;  \n",
    "@show is_it_correct_check2;"
   ]
  },
  {
   "cell_type": "markdown",
   "metadata": {
    "nbgrader": {
     "grade": false,
     "grade_id": "cell-6befc60823bbbb04",
     "locked": true,
     "schema_version": 3,
     "solution": false,
     "task": false
    }
   },
   "source": [
    "### b) $C*D$ where $C = \\begin{bmatrix} 7&6&8&7&4\\\\1&8&2&4&3\\\\6&9&8&1&4\\end{bmatrix}$ and $D = \\begin{bmatrix}8&3\\\\0&4\\\\7&2\\\\3&8\\\\9&2\\end{bmatrix}$\n",
    "(1 point)"
   ]
  },
  {
   "cell_type": "code",
   "execution_count": null,
   "metadata": {
    "nbgrader": {
     "grade": false,
     "grade_id": "1b",
     "locked": false,
     "schema_version": 3,
     "solution": true,
     "task": false
    },
    "tags": [
     "problem_1b"
    ]
   },
   "outputs": [],
   "source": [
    "# This time, we'll give you C and D\n",
    "#\n",
    "C = [7 6 8 7 4;\n",
    "     1 8 2 4 3;\n",
    "     6 9 8 1 4]\n",
    "#\n",
    "D = [8 3; 0 4; 7 2; 3 8; 9 2]\n",
    "\n",
    "# On your own, partition C into rows using this notation\n",
    "\n",
    "\n",
    "#c1row = \n",
    "#c2row = \n",
    "#c3row =\n",
    "\n",
    "# and partition D into columns\n",
    "\n",
    "#d1col = \n",
    "#d2col = \n",
    "\n",
    "\n",
    "#Compute the matrix product and return the answer in a variable called answer1b\n",
    "#Once you have defined the rows and columns, you can enter the appropriate products\n",
    "#directly in the matrix \n",
    "\n",
    "# answer1b = \n"
   ]
  },
  {
   "cell_type": "code",
   "execution_count": null,
   "metadata": {},
   "outputs": [],
   "source": [
    "# friendly check\n",
    "# if the value of is_it_correct_checkN is \"Yes\", then your answer may be correct. \n",
    "# If the value of is_it_correct_checkN is \"No\", then your answer is wrong\n",
    "\n",
    "is_it_correct_check1 = (isapprox(661, sum(answer1b), atol = 1E-6)) ? \"Yes\" : \"No\" \n",
    "is_it_correct_check2 = (isapprox(answer1b[1,1], 169, atol = 1E-6)) ? \"Yes\" : \"No\"\n",
    "\n",
    "@show is_it_correct_check1;  \n",
    "@show is_it_correct_check2;"
   ]
  },
  {
   "cell_type": "markdown",
   "metadata": {},
   "source": [
    "### c) Resultant Size Review (1 point)\n",
    "\n",
    "Access the elements in the 4 corners of the matrix product of C * D using indexing and store them in the variables upperLeft, upperRight, bottomLeft, and bottomRight. We'll work one of them for you."
   ]
  },
  {
   "cell_type": "code",
   "execution_count": null,
   "metadata": {
    "nbgrader": {
     "grade": false,
     "grade_id": "1c",
     "locked": false,
     "schema_version": 3,
     "solution": true,
     "task": false
    }
   },
   "outputs": [],
   "source": [
    "matProduct = C * D\n",
    "\n",
    "# Your answers here. We do one for you to show the pattern\n",
    "\n",
    "# upperLeft =\n",
    "# upperRight =\n",
    "# bottomRight =\n",
    "bottomLeft = matProduct[3,1]"
   ]
  },
  {
   "cell_type": "code",
   "execution_count": null,
   "metadata": {
    "nbgrader": {
     "grade": true,
     "grade_id": "1cTest",
     "locked": true,
     "points": 1,
     "schema_version": 3,
     "solution": false,
     "task": false
    }
   },
   "outputs": [],
   "source": [
    "# friendly check\n",
    "# if the value of is_it_correct_checkN is \"Yes\", then your answer may be correct. \n",
    "# If the value of is_it_correct_checkN is \"No\", then your answer is wrong\n",
    "\n",
    "is_it_correct_check1 = (isapprox(523, upperLeft+upperRight+bottomRight+bottomLeft, atol = 1E-6)) ? \"Yes\" : \"No\" \n",
    "\n",
    "@show is_it_correct_check1;"
   ]
  },
  {
   "cell_type": "markdown",
   "metadata": {
    "nbgrader": {
     "grade": false,
     "grade_id": "cell-11b9a0e4128b893d",
     "locked": true,
     "schema_version": 3,
     "solution": false,
     "task": false
    }
   },
   "source": [
    "$$A\\cdot B = \\sum_{i=1}^{k} a_i^{\\rm col} \\cdot b_i^{\\rm row},  $$\n",
    "where $k$ is the number of columns in $A$, which must match the number of rows in $B$\n",
    "### Problem 2.  Summing over Columns and Rows (1 + 2)\n",
    "Partition the following matrices, then compute the matrix by our second method of matrix multiplication that uses the summation over columns times rows.\n",
    "\n",
    "### a.  $F*G$ where $F = \\begin{bmatrix}5&1&3\\\\8&2&0\\\\1&7&6\\\\8&2&1\\end{bmatrix}$ and $G = \\begin{bmatrix}2&4\\\\8&1\\\\7&0\\end{bmatrix}$\n",
    "(1 point)"
   ]
  },
  {
   "cell_type": "code",
   "execution_count": null,
   "metadata": {
    "nbgrader": {
     "grade": false,
     "grade_id": "2a",
     "locked": false,
     "schema_version": 3,
     "solution": true,
     "task": false
    },
    "tags": [
     "problem_2a"
    ]
   },
   "outputs": [],
   "source": [
    "# Here are F and G\n",
    "F = [5 1 3; 8 2 0; 1 7 6; 8 2 1]\n",
    "\n",
    "G = [2 4; 8 1; 7 0]\n",
    "\n",
    "#partition F into columns\n",
    "\n",
    "\n",
    "\n",
    "#partition G into rows\n",
    "\n",
    "\n",
    "#compute the product by adding up the products of the columns of F times the rows of G.  \n",
    "#Return your answer as answer2a\n",
    "\n",
    "# While you can use a for loop here, we not expecting you to do that. \n",
    "# Simplying adding up three terms is fine!\n",
    "\n",
    "\n",
    "#answer2a =\n"
   ]
  },
  {
   "cell_type": "code",
   "execution_count": null,
   "metadata": {},
   "outputs": [],
   "source": [
    "# friendly check\n",
    "# if the value of is_it_correct_checkN is \"Yes\", then your answer may be correct. \n",
    "# If the value of is_it_correct_checkN is \"No\", then your answer is wrong\n",
    "\n",
    "is_it_correct_check1 = (isapprox(310, sum(answer2a), atol = 1E-6)) ? \"Yes\" : \"No\" \n",
    "is_it_correct_check2 = (isapprox(39, answer2a[1,1], atol = 1E-6)) ? \"Yes\" : \"No\"\n",
    "\n",
    "@show is_it_correct_check1;  \n",
    "@show is_it_correct_check2;"
   ]
  },
  {
   "cell_type": "markdown",
   "metadata": {
    "nbgrader": {
     "grade": false,
     "grade_id": "cell-47141b240dc7d123",
     "locked": true,
     "schema_version": 3,
     "solution": false,
     "task": false
    }
   },
   "source": [
    "### b.  Using the same matrices, F and G, construct a FOR loop to compute the matrix multiplication $F*G$ (2 points)\n",
    "Remember this formula, and how it works:$$A\\cdot B = \\sum_{i=1}^{k} a_i^{\\rm col} \\cdot b_i^{\\rm row},  $$\n",
    "where $k$ is the number of columns in $A$, which must match the number of rows in $B$\n",
    "\n",
    "Hint: How many times do we have to multiply a column times a row?  What happens to all of the individual column times row matrices at the end?  Keep track of the sum in the for loop so that you don't have to manually sum at the end."
   ]
  },
  {
   "cell_type": "code",
   "execution_count": null,
   "metadata": {
    "nbgrader": {
     "grade": false,
     "grade_id": "2b",
     "locked": false,
     "schema_version": 3,
     "solution": true,
     "task": false
    },
    "tags": [
     "problem_2b"
    ]
   },
   "outputs": [],
   "source": [
    "F = [5 1 3; 8 2 0; 1 7 6; 8 2 1]\n",
    "G = [2 4; 8 1; 7 0]\n",
    "\n",
    "#Declare a matrix of zeros the size of the matrix product\n",
    "currentSum = zeros(4,2)\n",
    "#fill in the number of columns of F (or rows of G)\n",
    "n = 3\n",
    "\n",
    "#complete the for loop\n",
    "for i = 1:n\n",
    "    #use indexing, and the iterator variable(i) to pick out the\n",
    "    # i-th column and i-th row;\n",
    "    #then mulitply them together, and update the matrix currentsum\n",
    "    #\n",
    "    #Be careful when selecting a row vector! \n",
    "    #Your solution here:\n",
    "    \n",
    "    \n",
    "end\n",
    "\n",
    "answer2b = currentSum"
   ]
  },
  {
   "cell_type": "code",
   "execution_count": null,
   "metadata": {
    "nbgrader": {
     "grade": true,
     "grade_id": "2bTest",
     "locked": true,
     "points": 2,
     "schema_version": 3,
     "solution": false,
     "task": false
    },
    "tags": [
     "problem_2b_answer",
     "hide"
    ]
   },
   "outputs": [],
   "source": [
    "#autograder cell\n",
    "#You should get the same answer that you got in problem 2a\n",
    "@show answer2b == answer2a"
   ]
  },
  {
   "cell_type": "markdown",
   "metadata": {
    "nbgrader": {
     "grade": false,
     "grade_id": "cell-4bb3aa2426e7452d",
     "locked": true,
     "schema_version": 3,
     "solution": false,
     "task": false
    }
   },
   "source": [
    "### The Trick:  Matrix Multiplication is Already Built into Julia\n",
    "#### You can simply use the * operator to multiply compatible matrices\n",
    "What?  I did all that for nothing!  No.  By completing the algorithms above, you have followed along the steps that Julia is taking internally. You now understand the inner workings of the computer!\n",
    "\n",
    "Note: You still need to implement problems 1 and 2 as directed, otherwise you will receive no points on the assignment.\n",
    "\n",
    "### Problem 3.  Compute $X*Y$ where $X = \\begin{bmatrix}8&5&2&1\\\\6&1&3&2\\end{bmatrix}$ and $Y = \\begin{bmatrix}4&4&3\\\\7&6&5\\\\0&1&3\\\\9&8&2\\end{bmatrix}$ (1 point)"
   ]
  },
  {
   "cell_type": "code",
   "execution_count": null,
   "metadata": {
    "nbgrader": {
     "grade": false,
     "grade_id": "3",
     "locked": false,
     "schema_version": 3,
     "solution": true,
     "task": false
    },
    "tags": [
     "problem_3"
    ]
   },
   "outputs": [],
   "source": [
    "#Return your answer as answer3\n",
    "\n",
    "#answer3 =\n"
   ]
  },
  {
   "cell_type": "code",
   "execution_count": null,
   "metadata": {},
   "outputs": [],
   "source": [
    "# friendly check\n",
    "# if the value of is_it_correct_checkN is \"Yes\", then your answer may be correct. \n",
    "# If the value of is_it_correct_checkN is \"No\", then your answer is wrong\n",
    "\n",
    "is_it_correct_check1 = (isapprox(339, sum(answer3), atol = 1E-6)) ? \"Yes\" : \"No\" \n",
    "is_it_correct_check2 = (isapprox(76, answer3[1,1], atol = 1E-6)) ? \"Yes\" : \"No\"\n",
    "\n",
    "@show is_it_correct_check1;  \n",
    "@show is_it_correct_check2;"
   ]
  },
  {
   "cell_type": "markdown",
   "metadata": {},
   "source": [
    "### Problem 4: Zero the rows and columns of a matrix, as taught in lecture (1 point)"
   ]
  },
  {
   "cell_type": "markdown",
   "metadata": {},
   "source": [
    "#### Example"
   ]
  },
  {
   "cell_type": "code",
   "execution_count": null,
   "metadata": {
    "nbgrader": {
     "grade": false,
     "locked": true,
     "solution": false
    }
   },
   "outputs": [],
   "source": [
    "# Run me don't change me\n",
    "using Random\n",
    "Random.seed!(09162021)\n",
    "A=randn(4,7)"
   ]
  },
  {
   "cell_type": "code",
   "execution_count": null,
   "metadata": {
    "nbgrader": {
     "grade": false,
     "locked": true,
     "solution": false
    }
   },
   "outputs": [],
   "source": [
    "# Run me don't change me\n",
    "# Note that something of the size e-16 is numerically equal to zero!!\n",
    "Temp = copy(A)\n",
    "pivot1 = Temp[1,1]\n",
    "C1=Temp[:,1]/pivot1 # Note that C1 has been normalized\n",
    "R1=Temp[1:1,:]\n",
    "Temp=Temp-C1*R1"
   ]
  },
  {
   "cell_type": "markdown",
   "metadata": {},
   "source": [
    "#### Your challenge is now to zero the second row and second column of Temp. Call your answer once again, Temp. We also want some intermediate information as indicated below."
   ]
  },
  {
   "cell_type": "code",
   "execution_count": null,
   "metadata": {
    "nbgrader": {
     "grade": false,
     "grade_id": "4",
     "locked": false,
     "schema_version": 3,
     "solution": true,
     "task": false
    }
   },
   "outputs": [],
   "source": [
    "# Define pivot2, C2, R2 and then compute Temp without a 2 (i.e., do not use Temp2)\n",
    "# Include the normalization by pivot2 when you define C2\n",
    "#pivot2 =\n",
    "#C2=   \n",
    "#R2=\n",
    "#Temp = \n",
    "# The autograder is looking for the above variables. \n",
    "# Hint: Use the pattern established in the previous cell! \n",
    "\n",
    "\n"
   ]
  },
  {
   "cell_type": "code",
   "execution_count": null,
   "metadata": {},
   "outputs": [],
   "source": [
    "# friendly check\n",
    "# if the value of is_it_correct_checkN is \"Yes\", then your answer may be correct. \n",
    "# If the value of is_it_correct_checkN is \"No\", then your answer is wrong\n",
    "\n",
    "is_it_correct_check1 = (isapprox(16.17727112535045, sum(Temp), atol = 1E-6)) ? \"Yes\" : \"No\" \n",
    "is_it_correct_check2 = (isapprox(Temp[2,2], 0, atol = 1E-6)) ? \"Yes\" : \"No\"\n",
    "is_it_correct_check3 = (isapprox(C2', [-0.0  1.0  1.80061  -13.9586], atol = 1E-4)) ? \"Yes\" : \"No\"\n",
    "\n",
    "@show is_it_correct_check1;  \n",
    "@show is_it_correct_check2;\n",
    "@show is_it_correct_check3; # If you fail this check, make sure you included the normalization when defining C2"
   ]
  },
  {
   "cell_type": "markdown",
   "metadata": {
    "nbgrader": {
     "grade": false,
     "grade_id": "cell-5197de8c288eabf0",
     "locked": true,
     "schema_version": 3,
     "solution": false,
     "task": false
    }
   },
   "source": [
    "<img src=\"https://i.postimg.cc/TY79tX04/LUfactorization-No-Permutations.png\" width=\"700\">\n",
    "\n",
    "\n",
    "### Problem 5. LU Factorization Step by Step (1 point)\n",
    "Follow Algorithm 1 (above), taken from Chapter 5 of the course booklet, step by step in Julia, to perform an LU Factorization on Matrix M. Name the lower triangular matrix L and the upper triangular matrix U.\n",
    "$$ M = \\begin{bmatrix}6&5&4\\\\12&19&14\\\\24&35&32\\end{bmatrix}$$\n",
    "We are going to do it step by step, just as if you were writing it out as a HW Drill Problem solution. Then, in the next problem, we'll program it up as an honest to goodness algorithm!"
   ]
  },
  {
   "cell_type": "code",
   "execution_count": null,
   "metadata": {
    "nbgrader": {
     "grade": false,
     "grade_id": "5",
     "locked": false,
     "schema_version": 3,
     "solution": true,
     "task": false
    }
   },
   "outputs": [],
   "source": [
    "# Do all of your work in this cell\n",
    "# here, we will NOT test that the pivot is non-zero; we will just hope for the best!\n",
    "#\n",
    "# Note that we are using lowercase temp instead of uppercase Temp \n",
    "#\n",
    "M = [6 5 4; 12 19 14; 24 35 32]\n",
    "temp=copy(M)\n",
    "n,m = size(M)\n",
    "k=1 # a counter, just as we would use in a for loop\n",
    "#\n",
    "# Note also that we are not labeling variables as pivot1, C1, R1, pivot2, C2, R2, etc.\n",
    "# Rather, we will use the same variable name at each step so that we can \n",
    "# update them easily in a for loop later on\n",
    "#\n",
    "C=temp[:,k]\n",
    "pivot=C[k]\n",
    "C=C/pivot  # Let's hope we do not divide by zero! Yikes!!! \n",
    "R=temp[k:k,:] # recall, we either have to use temp[k,:]' with a transpose in Julia to \n",
    "              # get a row vector or we use R=temp[k:k,:]\n",
    "temp = temp-C*R\n",
    "display(temp)\n",
    "L = C # initialize L and U\n",
    "U = R\n",
    "# Run this code now and make sure that temp has a zero first column and a zero first row\n",
    "\n",
    "# Now its your turn\n",
    "k=2 # the next value of k will be 2, and we will repeat the steps again for the second column and row\n",
    "# you will need to repeat this process n times, where n is the number of rows/columns in M\n",
    "# Continue calling the variables pivot, C, R, temp, L, and U  without adding numbers to the variables\n",
    "\n",
    "# Here is how you append or concatenate vector to matrices to build up L by columns and U by rows; \n",
    "# see Lab Manual Chapter 2.2.2\n",
    "#\n",
    "# L=[L C] # uncomment me AFTER you define new C and R vectors at step 2.\n",
    "# U = [U;R] # same for me! \n",
    "# You will need both of us in step 3 as well\n",
    "\n",
    "# your code here\n",
    "\n",
    "\n",
    "\n",
    "\n",
    "# We are checking your final vectors for C and R (yes, Step k =3)\n",
    "\n",
    "#Be sure that you have computed L and U such that M = L*U\n",
    "println(\"This is how you check LU Factorization. M - LU = ??\")\n",
    "M - L*U # should be zero"
   ]
  },
  {
   "cell_type": "code",
   "execution_count": null,
   "metadata": {},
   "outputs": [],
   "source": [
    "# friendly check\n",
    "# if the value of is_it_correct_checkN is \"Yes\", then your answer may be correct. \n",
    "# If the value of is_it_correct_checkN is \"No\", then your answer is wrong\n",
    "\n",
    "is_it_correct_check1 = (isapprox(abs(sum(L)), 10.666666666666666, atol = 1E-6)) ? \"Yes\" : \"No\" \n",
    "is_it_correct_check2 = (isapprox(abs(sum(U)), 36, atol = 1E-6)) ? \"Yes\" : \"No\"\n",
    "is_it_correct_check3 = (isapprox(sum(C)-sum(R), -5, atol = 1E-6)) ? \"Yes\" : \"No\"\n",
    "\n",
    "@show is_it_correct_check1;  \n",
    "@show is_it_correct_check2;\n",
    "@show is_it_correct_check3;"
   ]
  },
  {
   "cell_type": "markdown",
   "metadata": {
    "nbgrader": {
     "grade": false,
     "grade_id": "cell-ce0c0c1435b23465",
     "locked": true,
     "schema_version": 3,
     "solution": false,
     "task": false
    }
   },
   "source": [
    "### Problem 6. LU Factorization in Code (2 points)\n",
    "\n",
    "<img src=\"https://i.postimg.cc/TY79tX04/LUfactorization-No-Permutations.png\" width=\"700\">\n",
    "\n",
    "\n",
    "Implement Algorithm 1 (above, taken from Chapter 5 of the course textbook) in code to perform an LU Factorization on Matrix M.\n",
    "\n",
    "$$ M = \\begin{bmatrix}6&5&4\\\\12&19&14\\\\24&35&32\\end{bmatrix}$$\n",
    "\n",
    "Remark: When you first implement the algorithm using a for loop, don't worry about checking that the pivot \n",
    "is non-zero. Add that at the very end. "
   ]
  },
  {
   "cell_type": "code",
   "execution_count": null,
   "metadata": {
    "nbgrader": {
     "grade": false,
     "grade_id": "6",
     "locked": false,
     "schema_version": 3,
     "solution": true,
     "task": false
    },
    "tags": [
     "problem_5"
    ]
   },
   "outputs": [],
   "source": [
    "# declare M\n",
    "M = [6 5 4; 12 19 14; 24 35 32]\n",
    "\n",
    "# begin initialization\n",
    "n,m = size(M)\n",
    "Temp = copy(M)\n",
    "L = Array{Float64,2}(undef, n, 0)  #~~~\\# L=[] Empty matrix\\\\\n",
    "U = Array{Float64,2}(undef, 0, n)  #~~~\\# R=[] Empty matrix\\\\\n",
    "Flag = 1\n",
    "# end initialization\n",
    "\n",
    "# Your turn! Translate the rest of the algorithm to code here (use a for loop and an if statement).\n",
    "# Also, use the notation C and R as in the algorithm. We will autograde their values at the last step.\n",
    "\n",
    "# Your code here:\n",
    "\n",
    "\n",
    "\n",
    "return L,U\n",
    "# This is your REAL test. Did the factorization work?\n",
    "M-L*U # Should yield a matrix of zeros"
   ]
  },
  {
   "cell_type": "code",
   "execution_count": null,
   "metadata": {},
   "outputs": [],
   "source": [
    "# friendly check\n",
    "# if the value of is_it_correct_checkN is \"Yes\", then your answer may be correct. \n",
    "# If the value of is_it_correct_checkN is \"No\", then your answer is wrong\n",
    "\n",
    "is_it_correct_check1 = (isapprox(abs(sum(L)), 10.6666666666666, atol = 1E-6)) ? \"Yes\" : \"No\" \n",
    "is_it_correct_check2 = (isapprox(abs(sum(U)), 36, atol = 1E-6)) ? \"Yes\" : \"No\"\n",
    "\n",
    "@show is_it_correct_check1;  \n",
    "@show is_it_correct_check2;"
   ]
  },
  {
   "cell_type": "markdown",
   "metadata": {
    "nbgrader": {
     "grade": false,
     "grade_id": "cell-e302cba6d04119ca",
     "locked": true,
     "schema_version": 3,
     "solution": false,
     "task": false
    }
   },
   "source": [
    "#### Congratulations! You just translated an algorithm to code.  This is a key skill for a computer or data scientist.\n",
    "\n",
    "The good news:  Julia has a built in function that will do the LU factorization for you.  Actually, there are two functions. If we use the LinearAlgebra package, we can find the L and U factors by simply typing:\n",
    "<br> <br>   (L, U) = lu(M, Val(false))\n",
    "\n",
    "<br> You can also use factorize(M), but it is not reccomended because this multiple-dispatch-function may return a different type of factorization than an LU. \n",
    "\n",
    "Note:  You still need to complete the algorithm above to get points.  It is important that you understand how the algorithm can be done both by hand and by Julia.  Computers exist to make your life easier, but in order for them to do that, you have to understand how they work, and how to use them."
   ]
  },
  {
   "cell_type": "code",
   "execution_count": null,
   "metadata": {},
   "outputs": [],
   "source": [
    "using LinearAlgebra\n",
    "#LU decomposition without permutations ~Val(false)~\n",
    "(lower, upper) = lu(M, Val(false))"
   ]
  },
  {
   "cell_type": "code",
   "execution_count": null,
   "metadata": {},
   "outputs": [],
   "source": [
    "#Check that the factorization is correct\n",
    "lower*upper == M"
   ]
  },
  {
   "cell_type": "markdown",
   "metadata": {
    "nbgrader": {
     "grade": false,
     "grade_id": "cell-6f97cf517f7225e0",
     "locked": true,
     "schema_version": 3,
     "solution": false,
     "task": false
    }
   },
   "source": [
    "Note: If you leave off the Val(false) argument, lu() will use permutations, and then $L * U \\ne M$\n",
    "\n",
    "\n",
    "For a more in depth explanation about julia's factorization, visit:\n",
    "https://julia.quantecon.org/tools_and_techniques/numerical_linear_algebra.html"
   ]
  },
  {
   "cell_type": "markdown",
   "metadata": {
    "nbgrader": {
     "grade": false,
     "grade_id": "cell-e008d451016b1674",
     "locked": true,
     "schema_version": 3,
     "solution": false,
     "task": false
    }
   },
   "source": [
    "###### Problem 7.  Copy your algorithm from Problem 6 into the cell below and run your LU Factorization on a 100 x 100 random matrix (1 point)\n",
    "\n",
    "### Important: You need to include the initialization steps as well\n"
   ]
  },
  {
   "cell_type": "code",
   "execution_count": null,
   "metadata": {
    "nbgrader": {
     "grade": false,
     "grade_id": "7",
     "locked": false,
     "schema_version": 3,
     "solution": true,
     "task": false
    },
    "tags": [
     "problem_6"
    ]
   },
   "outputs": [],
   "source": [
    "N=100\n",
    "Random.seed!(09162021)\n",
    "M=randn(N,N)\n",
    "# copy your algorithm below to return L and U factors of M, a 100 by 100 matrix\n",
    "# We will check the final values of C and R\n",
    "\n",
    "# Your code here:\n",
    "\n"
   ]
  },
  {
   "cell_type": "code",
   "execution_count": null,
   "metadata": {},
   "outputs": [],
   "source": [
    "# friendly check\n",
    "# if the value of is_it_correct_checkN is \"Yes\", then your answer may be correct. \n",
    "# If the value of is_it_correct_checkN is \"No\", then your answer is wrong\n",
    "\n",
    "is_it_correct_check1 = (isapprox(M, L*U, atol = 1E-6)) ? \"Yes\" : \"No\" \n",
    "@show is_it_correct_check1;  "
   ]
  }
 ],
 "metadata": {
  "celltoolbar": "Create Assignment",
  "kernelspec": {
   "display_name": "Julia 1.8.2",
   "language": "julia",
   "name": "julia-1.8"
  },
  "language_info": {
   "file_extension": ".jl",
   "mimetype": "application/julia",
   "name": "julia",
   "version": "1.8.2"
  }
 },
 "nbformat": 4,
 "nbformat_minor": 4
}
