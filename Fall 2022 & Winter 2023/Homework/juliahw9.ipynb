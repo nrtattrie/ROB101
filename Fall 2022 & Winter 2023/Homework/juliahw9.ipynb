{
 "cells": [
  {
   "cell_type": "markdown",
   "metadata": {
    "nbgrader": {
     "grade": false,
     "grade_id": "cell-3ad5bce4a2ae8319",
     "locked": true,
     "schema_version": 3,
     "solution": false,
     "task": false
    }
   },
   "source": [
    "University of Michigan - ROB 101 Computational Linear Algebra"
   ]
  },
  {
   "cell_type": "markdown",
   "metadata": {
    "nbgrader": {
     "grade": false,
     "grade_id": "cell-3c9d2b5410cd109a",
     "locked": true,
     "schema_version": 3,
     "solution": false,
     "task": false
    }
   },
   "source": [
    "# Homework 9.  Optimization\n",
    "### See our Canvas Page for the Due Date and Time!\n",
    "\n",
    "#### Purpose: Learn how to optimize functions using Julia.\n",
    "- Skills\n",
    "    - Computing a Gradient of a function\n",
    "    - Computing the Hessian of a function\n",
    "    - Finding local minima and maxima of functions\n",
    "- Knowledge\n",
    "    - Using the Symbolics.jl package to do symbolic math for you. All those messy derivatives\n",
    "      in Calculus that a person learns to due by hand, a computer can also do, \n",
    "      and without mistakes. \n",
    "    - Understand the significance of minima and maxima in different contexts\n",
    " \n",
    "    \n",
    "#### Task:\n",
    "Complete and run the cells below as directed.\n",
    "\n",
    "### Problem 1:  Calculate the gradient of g(x, y, z) at (-1, -1.1, 1) using symmetric differences.\n",
    "Use a step-size h of 0.001.  Your answer should be a 3d vector.\n",
    "## $$ g(x, y, z) = xye^z - 14yz +sin(x)cos(y) -e^{tan(z/y)}$$\n",
    "\n",
    "An example of how to use symmetric difference method to find the gradient at point (-1.0, -1.1, 1.0) in the x-direction is as follows: $$ \\frac{\\partial g(x, y, z)} {\\partial x} = \\frac {g(x+h, y, z) - g(x-h, y, z)}{2h} $$\n",
    "You will need to find the gradient in all three directions (x, y, and z)."
   ]
  },
  {
   "cell_type": "code",
   "execution_count": null,
   "metadata": {},
   "outputs": [],
   "source": [
    "using LinearAlgebra"
   ]
  },
  {
   "cell_type": "code",
   "execution_count": null,
   "metadata": {
    "nbgrader": {
     "grade": false,
     "grade_id": "cell-420c4c26f3135112",
     "locked": false,
     "schema_version": 3,
     "solution": true,
     "task": false
    }
   },
   "outputs": [],
   "source": [
    "#g is declared for you.  Use step size h, and starting point (x0, y0, z0)\n",
    "g(x, y, z) = x*y*exp(z) - 14y*z + sin(x)*cos(y) - exp((tan(z/y)))\n",
    "h = 0.001\n",
    "(x0, y0, z0) = (-1, -1.1, 1)\n",
    "\n",
    "#first, calculate dg/dx \n",
    "# dgdx = ??\n",
    "\n",
    "#calculate dg/dy \n",
    "# dgdy = ??\n",
    "\n",
    "#calculate dg/dz\n",
    "# dgdz = ??\n",
    "\n",
    "#Create the gradient vector, and save it as gradVect\n",
    "# gradVect = ??\n",
    "\n",
    "# A check you can perform on your own\n",
    "# norm(gradVect) #should equal approximately 25.594"
   ]
  },
  {
   "cell_type": "markdown",
   "metadata": {
    "nbgrader": {
     "grade": false,
     "grade_id": "cell-c2896e437fc51254",
     "locked": true,
     "schema_version": 3,
     "solution": false,
     "task": false
    }
   },
   "source": [
    "### Problem 2:  Solving for the gradient analytically with Symbolics.jl\n",
    "**The Trick:** We will be using a super-cool Julia Package called Symbolics.jl which provides a lot of symbolic math functions. The functions we are particularly interested in are the ones for  differentiation.\n",
    "\n",
    "These functions can calculate analytical forms for math expressions that would frighten most humans! But not you, a denizen of ROB 101. You know that Julia is your friend when you are in need! [Truth in advertising: MATLAB and Python do symbolic math too!]\n",
    "\n",
    "#### Can you imagine how helpful these packages can be for doing calculus at scale for real engineering problems? Or, even for checking your answers in Vector Calculus, MATH 215? We use tools like this for computing models of robots. \n",
    "\n",
    "\n"
   ]
  },
  {
   "cell_type": "code",
   "execution_count": null,
   "metadata": {
    "nbgrader": {
     "grade": false,
     "grade_id": "cell-817729b7a62d0ed3",
     "locked": true,
     "schema_version": 3,
     "solution": false,
     "task": false
    }
   },
   "outputs": [],
   "source": [
    "# load the Symbolics.jl package\n",
    "using Symbolics\n",
    "\n",
    "# declare your variables\n",
    "@variables x y z\n",
    "\n",
    "# Conjure a gnarly expression\n",
    "f = exp(x*y*z)+sin(x/y)\n",
    "\n",
    "# Finds the partial derivative with respect to z\n",
    "# you can do the same with x and y. See below\n",
    "df_dz = Symbolics.derivative(f, z) "
   ]
  },
  {
   "cell_type": "markdown",
   "metadata": {
    "nbgrader": {
     "grade": false,
     "grade_id": "cell-91cad2601b647040",
     "locked": true,
     "schema_version": 3,
     "solution": false,
     "task": false
    }
   },
   "source": [
    "#### Symbolics.derivative(f, x)  will return an expression representing the gradient of expression $f$ in the x direction. You can replace $x$ with any of the variables $y$ or $z$ to get gradients in their directions.\n",
    "\n",
    "$$ f = xye^z - 14yz + sin(x)cos(x) - e^{tan(\\frac{z}{y})}$$\n",
    "\n",
    "\n",
    "Using Symbolics, find expressions for df/dx, df/dy, and df/dz. **Use the inidcated naming conventions.**"
   ]
  },
  {
   "cell_type": "code",
   "execution_count": null,
   "metadata": {
    "nbgrader": {
     "grade": false,
     "grade_id": "cell-a61ef91dc1600417",
     "locked": false,
     "schema_version": 3,
     "solution": true,
     "task": false
    }
   },
   "outputs": [],
   "source": [
    "# Use Symbolics to find an expression for df/dx.\n",
    "# Store your expression in variable df_dx\n",
    "# f is declared here for you\n",
    "\n",
    "f = x*y*exp(z) - 14y*z + sin(x)*cos(y) - exp((tan(z/y)))\n",
    "\n",
    "# df_dx = ??"
   ]
  },
  {
   "cell_type": "code",
   "execution_count": null,
   "metadata": {
    "nbgrader": {
     "grade": false,
     "grade_id": "cell-1fde668edf8c7f52",
     "locked": false,
     "schema_version": 3,
     "solution": true,
     "task": false
    }
   },
   "outputs": [],
   "source": [
    "#use Symbolics to find an expression for df/dy\n",
    "# Store your expression in variable df_dy\n",
    "\n",
    "# df_dy = ??"
   ]
  },
  {
   "cell_type": "code",
   "execution_count": null,
   "metadata": {
    "nbgrader": {
     "grade": false,
     "grade_id": "cell-1171f72d3b289d08",
     "locked": false,
     "schema_version": 3,
     "solution": true,
     "task": false
    }
   },
   "outputs": [],
   "source": [
    "# Use Symbolics to find an expression for df/dz\n",
    "# Store your expression in variable df_dz\n",
    "\n",
    "# df_dz = ??"
   ]
  },
  {
   "cell_type": "markdown",
   "metadata": {},
   "source": [
    "## Evaluating the formulas at specific points to create real numbers or real arrays (vectors or matrices)"
   ]
  },
  {
   "cell_type": "code",
   "execution_count": null,
   "metadata": {
    "nbgrader": {
     "grade": false,
     "grade_id": "cell-2d41354943e39295",
     "locked": true,
     "schema_version": 3,
     "solution": false,
     "task": false
    }
   },
   "outputs": [],
   "source": [
    "# We can now evaluate our symbolic expressions for the derivatives\n",
    "# of f at real-numbered values.\n",
    "#\n",
    "# We supply a dictionary to the substitute function, where the dictionary \n",
    "# maps the variables x,y,z to real values. The substitute function in turn \n",
    "# evaluates our derivative expressions at those values.\n",
    "\n",
    "# We illustrate each step of the process\n",
    "\n",
    "D = [df_dx df_dy df_dz]\n",
    "println(\"Symbolic Expression\")\n",
    "display(D)\n",
    "#\n",
    "println(\"Evaluate the symbolic expression at specific values\")\n",
    "∂f = substitute.(D, (Dict(x=>-1, y=>-1.1, z=>1),)) # note the dot \".\" after substitute\n",
    "@show typeof(∂f)\n",
    "display(∂f)\n",
    "# Here is the expected answer for ∂f, once values are substituted\n",
    "#\n",
    "# [-2.74503  -16.862  19.0569]\n",
    "#\n",
    "#\n",
    "println(\"We convert ∂f from a row vector of TYPE Num to a row vector of TYPE Float64\")\n",
    "∂f = map(x -> Float64(x.val), ∂f)\n",
    "display(∂f)\n",
    "# Some rounding occurs. Don't sweat it."
   ]
  },
  {
   "cell_type": "code",
   "execution_count": null,
   "metadata": {
    "nbgrader": {
     "grade": false,
     "grade_id": "cell-c3ba963c5b9a50f2",
     "locked": false,
     "schema_version": 3,
     "solution": true,
     "task": false
    }
   },
   "outputs": [],
   "source": [
    "# Using the Symbolics.derivative, substitute, and type conversion functions, illustrated\n",
    "# above, write a function that takes in a symbolic expression F and \n",
    "# real values xval, yval, zval and returns a real-valued row vector \n",
    "# that contains derivatives of F with respect to x,y,z\n",
    "\n",
    "# Call your function Grad(F, xval, yval, zval)\n",
    "\n",
    "# Note that we have already defined symbolic variables x, y, z\n",
    "# so you can use them in your function, just like in the \n",
    "# examples above\n",
    "\n",
    "\n",
    "function Grad(F, xval, yval, zval) \n",
    "    # YOUR CODE HERE\n",
    "    # Df should be a row vector of real numbers. \n",
    "    return Df\n",
    "end\n"
   ]
  },
  {
   "cell_type": "code",
   "execution_count": null,
   "metadata": {},
   "outputs": [],
   "source": [
    "# Friendly check: are you returning a real vector or something else?\n",
    "gradcheck = Grad(f, 0.1, -1.1, -0.3)\n",
    "display(gradcheck)\n",
    "\n",
    "if typeof(gradcheck) == Matrix{Num}\n",
    "    println(\"You forgot to include Df = map(x -> Float64(x.val), Df) in your Grad function\")\n",
    "elseif typeof(gradcheck) == Matrix{Float64}\n",
    "    println(\"Looks like a real vector or matrix. Bravo!\")\n",
    "else\n",
    "    printlin(\"Unsure what the error is, but you need to fix it before proceeding!\")\n",
    "end"
   ]
  },
  {
   "cell_type": "code",
   "execution_count": null,
   "metadata": {},
   "outputs": [],
   "source": [
    "# friendly check\n",
    "# if the value of is_it_correct_checkN is \"Yes\", then your answer may be correct. \n",
    "# If the value of is_it_correct_checkN is \"No\", then your answer is wrong \n",
    "\n",
    "gradcheck = Grad(f, 0.1, -1.1, -0.3)\n",
    "display(gradcheck)\n",
    "\n",
    "is_it_correct_check1 = isapprox(gradcheck, [-0.3635700125774831 4.009449409253971 16.615060520261437], atol=1e-4) ? \"Yes\" : \"No\"  \n",
    "\n",
    "@show is_it_correct_check1;"
   ]
  },
  {
   "cell_type": "code",
   "execution_count": null,
   "metadata": {
    "nbgrader": {
     "grade": true,
     "grade_id": "cell-16019977add57efe",
     "locked": true,
     "points": 3,
     "schema_version": 3,
     "solution": false,
     "task": false
    }
   },
   "outputs": [],
   "source": [
    "#autograder cell\n",
    "#\n",
    "grad_at_1 = Grad(f, -1, -1.1, 1)\n",
    "\n",
    "@assert(isapprox(gradVect, grad_at_1, atol = 1E-4))"
   ]
  },
  {
   "cell_type": "markdown",
   "metadata": {
    "nbgrader": {
     "grade": false,
     "grade_id": "cell-67c31e69f2dc1518",
     "locked": true,
     "schema_version": 3,
     "solution": false,
     "task": false
    }
   },
   "source": [
    "### Example:  The Hessian\n",
    "A reminder that the Hessian is the Jacobian of the transpose of the gradient of a function $f$: is that a mouthful or what? Why do we care? Extrema of a function (that is, max, min, and something else called a saddle point) \"live\" in the zero set of $ \\nabla f(x)$. Hence, if $x^\\ast$ is a local minimun of $f$, it satisfies $\\nabla f(x^\\ast)=0$, which means it is a root of $\\nabla f(x)=0$. We can therefore apply Newton-Raphson to the gradient function in order to find its roots, and hence find local minima, for example. \n",
    "\n",
    "$$\\begin{equation}\n",
    "    \\label{eq:Hessian}\n",
    "    \\nabla^2 f(x) := \\frac{\\partial}{\\partial x} \\left[ \\nabla f(x) \\right]^\\top\n",
    "\\end{equation}$$\n",
    "Where $\\nabla^2 f(x) $ is the Hessian of $f$ at point $x$.\n",
    "\n",
    "The following function uses a symmetric differences approximation to compute the Hessian of f at x0."
   ]
  },
  {
   "cell_type": "code",
   "execution_count": null,
   "metadata": {
    "nbgrader": {
     "grade": false,
     "grade_id": "cell-13883fef66cc8507",
     "locked": true,
     "schema_version": 3,
     "solution": false,
     "task": false
    }
   },
   "outputs": [],
   "source": [
    "# run me, don't change me. I will compute gradients and Hessians for you. \n",
    "# I am a workhorse of a function!\n",
    "#\n",
    "function gradHess(f,x0) \n",
    "    n=size(x0,1)\n",
    "    H=zeros(n,n)\n",
    "    grad1=zeros(1,n)\n",
    "    Id=diagm(0=>fill(1., size(H,1))) # Another way to make an identity matrix\n",
    "    delta=0.01\n",
    "    h=delta\n",
    "    for i=1:n\n",
    "        grad1[i]=(f(x0+ h*Id[:,i]) -f(x0 -  h*Id[:,i]))[1]/(2*h)\n",
    "        for j=1:n\n",
    "            H[i,j]=(f(x0+ h*Id[:,i] + delta*Id[:,j])-  f(x0+  h*Id[:,i]-delta*Id[:,j]) - f(x0-  h*Id[:,i] + delta*Id[:,j])+ f(x0- h*Id[:,i]-delta*Id[:,j]))[1]/(4*h*delta)\n",
    "        end\n",
    "    end\n",
    "    return  grad1, H\n",
    "end"
   ]
  },
  {
   "cell_type": "code",
   "execution_count": null,
   "metadata": {
    "nbgrader": {
     "grade": false,
     "grade_id": "cell-4b22a267eb3564be",
     "locked": true,
     "schema_version": 3,
     "solution": false,
     "task": false
    }
   },
   "outputs": [],
   "source": [
    "# run me, don't change me. I am creating a super complicated function to show you\n",
    "# how efficiently gradHess can compute the gradient and the Hessian. I wish you luck\n",
    "# doing this by hand! Go for it, make my day!  \n",
    "#\n",
    "#f and x0 are declared to be random matrices/vectors of size 20 \n",
    "using LinearAlgebra\n",
    "using Random\n",
    "Random.seed!(4321);\n",
    "n=20;\n",
    "A2=rand(n,n);\n",
    "A4=rand(n,n);\n",
    "f2(x)= x'*A2*x + x'*x*x'*A4*x;\n",
    "x0=rand(n,1)\n",
    "\n",
    "#Here is in example using the function gradHess  \n",
    "(gradN, Hess) =gradHess(f2, x0)\n",
    "display( gradN )\n",
    "Hess"
   ]
  },
  {
   "cell_type": "markdown",
   "metadata": {},
   "source": [
    "### Problem 3:  Use `gradHess` to minimize a function g(x), where $x\\in \\mathbb{R}^{20}$\n",
    "Please re-read Section 11.6 in our textbook. A few key points are summarized here, but for the full context, please see the book! We have $g:\\mathbb{R}^n \\to \\mathbb{R}$. \n",
    "\n",
    "We seek\n",
    "\n",
    "$$x^\\ast = {\\rm arg~min}_{x\\in \\mathbb{R}^n} g(x) $$\n",
    "\n",
    "We know that $x^\\ast$ is a root of $\\nabla g(x)$. Because the gradient is a row vector, we take its transpose and turn it into a column vector so that\n",
    "$$ \\nabla g^\\top: \\mathbb{R}^n \\to \\mathbb{R}^n.$$\n",
    "\n",
    "We know how to find roots of vector-valued functions: we must apply Newton-Raphson to the function. To do that, we need the Jacobian of $\\nabla g^\\top(x)$, which is the Hessian. Yes, $\\nabla^2g(x):= \\frac{\\partial }{\\partial x }\\nabla g^\\top(x).$\n",
    "\n",
    "Lucky you, we have provided free of charge the awesome function:\n",
    "\n",
    "**(grad, Hess) = gradHess(g, x0)**\n",
    "\n",
    "which computes both the gradient and the Hessian. You'll have to transpose the gradient yourself! We think you can handle it. Your mission therefore, is to implement the algorithm below on a gnarly function $g:\\mathbb{R}^n \\to \\mathbb{R}$ and find its minimum to a tolerance of ${\\rm tol}=10^{-6}$!\n",
    "### Newton-Raphson applied to the transpose of the gradient so that a local minimum can be found: You must put this in some kind of loop(For or While), just as you did in HW for the Bisection Algorithm. \n",
    "### In a loop, solve the top equation for $\\Delta x_{k} $ and then use it to update the second equation.\n",
    "\n",
    "### $$\n",
    "\\nabla^2 g(x_k)~ \\Delta x_{k} = - \\left[\\nabla g(x_k) \\right]^\\top\n",
    "$$ \n",
    "### $$\n",
    "~~~~~~~~~~~x_{k+1}= x_k + \\Delta x_{k}\n",
    "$$\n",
    "### Exit the loop when $||\\nabla g(x_k)^\\top|| < {\\rm tol} $. g(x) and an initial xk for k=0 are declared for you.  You may find that Chapter 12.5 of the textbook is helpful here.\n",
    "\n",
    "### Remark: While the equation $$\\nabla^2 g(x_k)~ \\Delta x_{k} = - \\left[\\nabla g(x_k) \\right]^\\top\n",
    "$$ may look intimidating, it is just another linear equation $Ax = b$ where $A \\leftrightarrow \\nabla^2 g(x_k)$, a square matrix, $x \\leftrightarrow \\Delta x_{k}$, a column vector of unknowns,  and $b \\leftrightarrow  - \\left[\\nabla g(x_k) \\right]^\\top$ is a column vector in the right hand side of the equation. \n",
    "\n",
    "### Hence, computing $\\Delta x_{k}$ is cake for you by now. "
   ]
  },
  {
   "cell_type": "code",
   "execution_count": null,
   "metadata": {
    "nbgrader": {
     "grade": false,
     "grade_id": "cell-710cd9286f1793f0",
     "locked": true,
     "schema_version": 3,
     "solution": false,
     "task": false
    }
   },
   "outputs": [],
   "source": [
    "# run me, don't change me.\n",
    "# this cell declares g(x), a function that depends on 20 variables, and xk for k=0, \n",
    "# which you are to use as your starting point\n",
    "n=20 \n",
    "Random.seed!(4321); \n",
    "A2=rand(n,n) \n",
    "A4=rand(n,n) \n",
    "g(x)= -x'*A2'*A2*x + x'*x*x'*A4'*A4*x\n",
    "k=0\n",
    "xk=100*rand(n,1)-200*rand(n,1)"
   ]
  },
  {
   "attachments": {
    "image-2.png": {
     "image/png": "[encoded data removed]"
    },
    "image-3.png": {
     "image/png": "[encoded data removed]"
    },
    "image.png": {
     "image/png": "[encoded data removed]"
    }
   },
   "cell_type": "markdown",
   "metadata": {},
   "source": [
    "# Below we show how to write a ``safe`` While Loop, meaning one that will terminate in a finite number of loops. You just need to include a counter that sets an upper bound on the number of loops. In the beginning, be cautious and set kmax = 100 or something fairly small. Once things seems to be working, then you can up kmax to 1e5.\n",
    "\n",
    "\n",
    "# If you turn in a notebook with a While Loop that does not terminate, we cannot grade the notebook. This is not a typo. We did not mean that we cannot grade that cell. The autograder will time out on the notebook and will not return a grade for any of the cells.\n",
    "\n",
    "\n",
    "## If you see an [*] in a cell number for a long time, that means you have entered an infinite loop. It does not mean that Julia is just running slow! Instead, it means that you messed up. Don't worry, it happens to all of us. However, \n",
    "\n",
    "![image.png](attachment:image.png)\n",
    "\n",
    "## you must manually terminate the cell by stopping your kernel. One way to do that is to hit the big black square next to the Run button\n",
    "\n",
    "![image-2.png](attachment:image-2.png)\n",
    "\n",
    "## Next, you will probably need to restart your kernel\n",
    "\n",
    "![image-3.png](attachment:image-3.png)\n"
   ]
  },
  {
   "cell_type": "code",
   "execution_count": null,
   "metadata": {},
   "outputs": [],
   "source": [
    "# Example of how to make sure a while loop does not run forever\n",
    "\n",
    "k=0; kmax = 1e2\n",
    "tol = 1e-6 # in case it got changed by a student\n",
    "myConvergenceCondition = 10\n",
    "while (myConvergenceCondition > tol) && (k<kmax)\n",
    "    myConvergenceCondition = myConvergenceCondition/1.1\n",
    "    k=k+1\n",
    "end\n",
    "if (k>=kmax)&&(myConvergenceCondition > tol)\n",
    "    println(\"The While Loop terminated prematurely with k = $k = kmax and myConvergenceCondition = $myConvergenceCondition \")\n",
    "else\n",
    "    println(\"The While Loop terminated with k = $k < kmax = $kmax and myConvergenceCondition = $myConvergenceCondition \")\n",
    "end\n"
   ]
  },
  {
   "cell_type": "code",
   "execution_count": null,
   "metadata": {
    "nbgrader": {
     "grade": false,
     "grade_id": "cell-1366d570762336ce",
     "locked": false,
     "schema_version": 3,
     "solution": true,
     "task": false
    }
   },
   "outputs": [],
   "source": [
    "#Use this cell to find the minimum\n",
    "#Save the value of the minimizer, x*, in a variable called x_star\n",
    "#Save the minimum value of g in a variable called g_min\n",
    "#Use the gradHess function that we provided to calculate the Hessian\n",
    "#Don't forget the transpose on grad_g.\n",
    "#\n",
    "tol = 1e-6 # reminder \n",
    "\n",
    "# YOUR CODE HERE\n",
    "\n",
    "@show g_min =  g(xk)[1]\n",
    "xk"
   ]
  },
  {
   "cell_type": "markdown",
   "metadata": {},
   "source": [
    "## Optional Read: How to test the code you wrote to solve the above problem\n",
    "\n",
    "### Build a function where you know the minimum value and where the minimum occurs\n",
    "\n",
    "### For example, myTestFun(x) = (x[1]-4.0)^2 + (x[2]-3.0)^4 + 1.0\n",
    "\n",
    "### The minimum value of 1.0 is achieved for x = [4.0; 3.0]\n",
    "\n",
    "### What's your call: are you going to roll the dice or check your work? "
   ]
  },
  {
   "cell_type": "code",
   "execution_count": null,
   "metadata": {},
   "outputs": [],
   "source": [
    "myTestFun(x) = (x[1]-4.0)^2 + (x[2]-3.0)^4 + 1.0\n",
    "\n",
    "# While you are not obliged to check your code in ROB 101, as a professional engineer, \n",
    "# you will be expected to check it and to answer for any errors.\n",
    "\n",
    "# If you check your code, do NOT forget to choose an\n",
    "# an inititial value for xk\n",
    "\n",
    "# YOUR CODE HERE"
   ]
  },
  {
   "cell_type": "markdown",
   "metadata": {},
   "source": [
    "## Surprise, that's it! We want you to save some energy for Project 3. "
   ]
  }
 ],
 "metadata": {
  "@webio": {
   "lastCommId": null,
   "lastKernelId": null
  },
  "celltoolbar": "Create Assignment",
  "kernelspec": {
   "display_name": "Julia 1.8.2",
   "language": "julia",
   "name": "julia-1.8"
  },
  "language_info": {
   "file_extension": ".jl",
   "mimetype": "application/julia",
   "name": "julia",
   "version": "1.8.2"
  }
 },
 "nbformat": 4,
 "nbformat_minor": 4
}
