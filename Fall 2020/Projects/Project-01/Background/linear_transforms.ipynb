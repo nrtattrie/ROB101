{
 "cells": [
  {
   "cell_type": "markdown",
   "metadata": {
    "slideshow": {
     "slide_type": "slide"
    }
   },
   "source": [
    "### University of Michigan - ROB 101 Computational Linear Algebra - Fall 2020\n",
    "\n",
    "## Project 1: Robotic Mapping with LIDAR Data\n",
    "\n",
    "### Linear Transformation"
   ]
  },
  {
   "cell_type": "markdown",
   "metadata": {
    "slideshow": {
     "slide_type": "slide"
    }
   },
   "source": [
    "### Learning Objectives\n",
    "- Seeing matrices as linear transformations and their properties.\n",
    "- Examples of linear transforms."
   ]
  },
  {
   "cell_type": "markdown",
   "metadata": {
    "slideshow": {
     "slide_type": "slide"
    }
   },
   "source": [
    "### Outcomes\n",
    "- Verifying if a transformation is linear.\n",
    "- Using matrices as linear transformation."
   ]
  },
  {
   "cell_type": "markdown",
   "metadata": {
    "slideshow": {
     "slide_type": "slide"
    }
   },
   "source": [
    "### Linear Transformation \n",
    "\n",
    "We can think of a matrix as a linear transformation. Because when a matrix such as $T$ acts on a vector such as $a$, it satisfies two properties required for a transformation to be linear. These properties are:\n",
    "\n",
    "1. For any vctors $a$ and $b$, we have $T(a + b) = T(a) + T(b)$.\n",
    "\n",
    "2. For any scalar $c$, $T(c a) = cT(a)$.\n",
    "\n",
    "Let's verify these properties using Julia."
   ]
  },
  {
   "cell_type": "code",
   "execution_count": 1,
   "metadata": {
    "slideshow": {
     "slide_type": "slide"
    }
   },
   "outputs": [
    {
     "data": {
      "text/plain": [
       "2-element Array{Int64,1}:\n",
       " 5\n",
       " 5"
      ]
     },
     "execution_count": 1,
     "metadata": {},
     "output_type": "execute_result"
    }
   ],
   "source": [
    "T = [1 2; -1 3]\n",
    "a = [-1; 1]\n",
    "b = [2; 1]\n",
    "c = 2\n",
    "\n",
    "x1 = T * (a + b)"
   ]
  },
  {
   "cell_type": "code",
   "execution_count": 2,
   "metadata": {
    "slideshow": {
     "slide_type": "fragment"
    }
   },
   "outputs": [
    {
     "data": {
      "text/plain": [
       "2-element Array{Int64,1}:\n",
       " 5\n",
       " 5"
      ]
     },
     "execution_count": 2,
     "metadata": {},
     "output_type": "execute_result"
    }
   ],
   "source": [
    "x2 = T * a + T * b "
   ]
  },
  {
   "cell_type": "code",
   "execution_count": 3,
   "metadata": {
    "slideshow": {
     "slide_type": "fragment"
    }
   },
   "outputs": [
    {
     "data": {
      "text/plain": [
       "true"
      ]
     },
     "execution_count": 3,
     "metadata": {},
     "output_type": "execute_result"
    }
   ],
   "source": [
    "x1 == x2"
   ]
  },
  {
   "cell_type": "code",
   "execution_count": 4,
   "metadata": {
    "slideshow": {
     "slide_type": "slide"
    }
   },
   "outputs": [
    {
     "data": {
      "text/plain": [
       "2-element Array{Int64,1}:\n",
       " 2\n",
       " 8"
      ]
     },
     "execution_count": 4,
     "metadata": {},
     "output_type": "execute_result"
    }
   ],
   "source": [
    "y1 = T * (c * a)"
   ]
  },
  {
   "cell_type": "code",
   "execution_count": 5,
   "metadata": {
    "slideshow": {
     "slide_type": "fragment"
    }
   },
   "outputs": [
    {
     "data": {
      "text/plain": [
       "2-element Array{Int64,1}:\n",
       " 2\n",
       " 8"
      ]
     },
     "execution_count": 5,
     "metadata": {},
     "output_type": "execute_result"
    }
   ],
   "source": [
    "y2 = c * T * a "
   ]
  },
  {
   "cell_type": "code",
   "execution_count": 6,
   "metadata": {
    "slideshow": {
     "slide_type": "fragment"
    }
   },
   "outputs": [
    {
     "data": {
      "text/plain": [
       "true"
      ]
     },
     "execution_count": 6,
     "metadata": {},
     "output_type": "execute_result"
    }
   ],
   "source": [
    "y1 == y2"
   ]
  },
  {
   "cell_type": "markdown",
   "metadata": {
    "slideshow": {
     "slide_type": "slide"
    }
   },
   "source": [
    "Now it is fair to ask that what are some of interesting linear transformations? \n",
    "The following examples of linear transforms are frequently used in mathematics and engineering:\n",
    "* Scaling\n",
    "* Reflection \n",
    "* Projection\n",
    "* Shear\n",
    "* Rotation\n",
    "\n",
    "Notice that a linear transformation maps the zero vector to itself. In other words, the *orgin* remains fixed. In this sense, a *translation* map is not a linear map. Why? Let's see if it satifies two properties of the linear transformation."
   ]
  },
  {
   "cell_type": "markdown",
   "metadata": {
    "slideshow": {
     "slide_type": "slide"
    }
   },
   "source": [
    "A translation map using a vector $t$ takes this form $a \\mapsto a + t$. Therefore, we can write $T(a) = a + t$. Notice that this transformation is not a matrix!"
   ]
  },
  {
   "cell_type": "markdown",
   "metadata": {
    "slideshow": {
     "slide_type": "fragment"
    }
   },
   "source": [
    "1. $T(a + b) = a + b + t \\neq a + b + 2t = T(a) + T(b)$. So a translation fails to satisfy the first property and, therefore, is not a linear map.\n",
    "\n",
    "2. $T(ca) = ca + t \\neq ca + ct = cT(a)$. It also fails to satisfy the second property. "
   ]
  },
  {
   "cell_type": "markdown",
   "metadata": {
    "slideshow": {
     "slide_type": "fragment"
    }
   },
   "source": [
    "**Quiz:** The *indentity matrix* is a *square matrix* with $1$ on its *diagonal entries* and $0$ on all *off-diagonal entris*. Prove that the identity matrix (transformation) is a linear map.\n",
    "\n",
    "Now let's play with linear maps in Julia for a bit."
   ]
  },
  {
   "cell_type": "markdown",
   "metadata": {
    "slideshow": {
     "slide_type": "slide"
    }
   },
   "source": [
    "### Scaling"
   ]
  },
  {
   "cell_type": "code",
   "execution_count": null,
   "metadata": {
    "slideshow": {
     "slide_type": "fragment"
    }
   },
   "outputs": [],
   "source": [
    "using Plots\n",
    "plotly() # Set the backend to Plotly\n",
    "\n",
    "# Scaling\n",
    "s = 2\n",
    "A = [s 0; 0 s] # this is a 2D scaling map\n",
    "\n",
    "# the origin\n",
    "x0 = 0;\n",
    "y0 = 0;\n",
    "\n",
    "# a 2D vector\n",
    "v = [1; 1]\n",
    "\n",
    "# plot v (will be in blue)\n",
    "quiver([x0],[y0],quiver=(v[1,:],v[2,:]), title = \"Scaling\", lw = 2)\n",
    "\n",
    "# apply A\n",
    "u = A * v\n",
    "\n",
    "# plot u (will be in red)\n",
    "quiver!([x0],[y0],quiver=(u[1,:],u[2,:]), lw = 2)"
   ]
  },
  {
   "cell_type": "markdown",
   "metadata": {
    "slideshow": {
     "slide_type": "slide"
    }
   },
   "source": [
    "<img src=\"https://github.com/kjbiener/introToJulia/blob/master/scaling.png?raw=true\" alt=\"scaling\" width=\"300\">"
   ]
  },
  {
   "cell_type": "markdown",
   "metadata": {
    "slideshow": {
     "slide_type": "fragment"
    }
   },
   "source": [
    "Let's have a closer look into what just happened! For scaling we defined $A = \\begin{bmatrix} s & 0 \\\\ 0 & s \\end{bmatrix}$ and $v = \\begin{bmatrix} 1 \\\\ 1 \\end{bmatrix}$. Then we computed $u$ via the action of $A$ on $v$; that is\n",
    "\\begin{align*}\n",
    "    u = A v = \\begin{bmatrix} s & 0 \\\\ 0 & s \\end{bmatrix} \\begin{bmatrix} 1 \\\\ 1 \\end{bmatrix} = \\begin{bmatrix} s \\cdot 1 + 0 \\cdot 1 \\\\ 0 \\cdot 1 + s \\cdot 1 \\end{bmatrix} = \\begin{bmatrix} s \\\\ s \\end{bmatrix}.\n",
    "\\end{align*}\n",
    "With $s=2$, we get $u = \\begin{bmatrix} 2 \\\\ 2 \\end{bmatrix}$."
   ]
  },
  {
   "cell_type": "markdown",
   "metadata": {
    "slideshow": {
     "slide_type": "slide"
    }
   },
   "source": [
    "Recall that to multiply a matrix by a vector we use\n",
    "\\begin{align*}\n",
    "    Av = \\begin{bmatrix} a_{11} & a_{12} \\\\ a_{21} & a_{22} \\end{bmatrix} \\begin{bmatrix} v_1 \\\\ v_2 \\end{bmatrix} = \\begin{bmatrix} a_{11} \\cdot v_1 + a_{12} \\cdot v_2 \\\\ a_{21} \\cdot v_1 + a_{22} \\cdot v_2 \\end{bmatrix} = \\begin{bmatrix} a_{11} \\\\ a_{21} \\end{bmatrix} v_1 + \\begin{bmatrix} a_{12} \\\\ a_{22} \\end{bmatrix} v_2.\n",
    "\\end{align*}\n",
    "\n",
    "In other words, the application of a $m \\times n$ matrix on a $n \\times 1$ vector (called $n$-vector) results in the weighted sum of the matrix columns. The weights from the vector entries have the corresponding index with the matrix columns."
   ]
  },
  {
   "cell_type": "markdown",
   "metadata": {
    "slideshow": {
     "slide_type": "slide"
    }
   },
   "source": [
    "### Rotation"
   ]
  },
  {
   "cell_type": "code",
   "execution_count": null,
   "metadata": {
    "slideshow": {
     "slide_type": "fragment"
    }
   },
   "outputs": [],
   "source": [
    "# 2D Rotation\n",
    "θ = π/4 # 45 degree rotation\n",
    "R = [cos(θ) -sin(θ); sin(θ) cos(θ)] # this is a 2D rotation map\n",
    "\n",
    "# a 2D vector\n",
    "v = [1; 0]\n",
    "\n",
    "# apply R\n",
    "u = R * v\n",
    "\n",
    "# plot\n",
    "quiver([x0],[y0],quiver=(v[1,:],v[2,:]), title = \"Rotation\", lw = 2)\n",
    "quiver!([x0],[y0],quiver=(u[1,:],u[2,:]), lw = 2)"
   ]
  },
  {
   "cell_type": "markdown",
   "metadata": {
    "slideshow": {
     "slide_type": "slide"
    }
   },
   "source": [
    "<img src=\"https://github.com/kjbiener/introToJulia/blob/master/rotation_2d.png?raw=true\" alt=\"Rotation\" width=\"300\">"
   ]
  },
  {
   "cell_type": "markdown",
   "metadata": {
    "slideshow": {
     "slide_type": "fragment"
    }
   },
   "source": [
    "Similarly for the rotation example we have\n",
    "\\begin{align*}\n",
    "    R v = \\begin{bmatrix} \\cos(\\theta) & -\\sin(\\theta) \\\\ \\sin(\\theta) & \\cos(\\theta) \\end{bmatrix} \\begin{bmatrix} v_1 \\\\ v_2 \\end{bmatrix} = \\begin{bmatrix} \\cos(\\theta) \\cdot v_1 - \\sin(\\theta) \\cdot v_2 \\\\ \\sin(\\theta) \\cdot v_1 + \\cos(\\theta) \\cdot v_2 \\end{bmatrix} = \\begin{bmatrix} \\cos(\\theta) \\\\ \\sin(\\theta) \\end{bmatrix} v_1 + \\begin{bmatrix} -\\sin(\\theta) \\\\ \\cos(\\theta) \\end{bmatrix} v_2.\n",
    "\\end{align*}\n"
   ]
  },
  {
   "cell_type": "markdown",
   "metadata": {
    "slideshow": {
     "slide_type": "slide"
    }
   },
   "source": [
    "With $\\theta = \\frac{\\pi}{4}$ and $v = \\begin{bmatrix} 1 \\\\ 0 \\end{bmatrix}$, we have\n",
    "\\begin{align*}\n",
    "    u = \\begin{bmatrix} \\cos(\\frac{\\pi}{4}) & -\\sin(\\frac{\\pi}{4}) \\\\ \\sin(\\frac{\\pi}{4}) & \\cos(\\frac{\\pi}{4}) \\end{bmatrix} \\begin{bmatrix} 1 \\\\ 0 \\end{bmatrix} = \\begin{bmatrix} 0.7071 \\cdot 1 - 0.7071 \\cdot 0 \\\\ 0.7071 \\cdot 1 + 0.7071 \\cdot 0 \\end{bmatrix} = \\begin{bmatrix} 0.7071 \\\\ 0.7071 \\end{bmatrix} 1 + \\begin{bmatrix} -0.7071 \\\\ 0.7071 \\end{bmatrix} 0 = \\begin{bmatrix} 0.7071 \\\\ 0.7071 \\end{bmatrix}.\n",
    "\\end{align*}"
   ]
  },
  {
   "cell_type": "markdown",
   "metadata": {
    "slideshow": {
     "slide_type": "notes"
    }
   },
   "source": [
    "There are some more interesting examples here. See if you can code an exmple for each of them in Julia.\n",
    "http://people.math.harvard.edu/~knill/teaching/math19b_2011/handouts/lecture08.pdf"
   ]
  },
  {
   "cell_type": "markdown",
   "metadata": {
    "slideshow": {
     "slide_type": "slide"
    }
   },
   "source": [
    "### Next\n",
    "\n",
    "Rotation"
   ]
  }
 ],
 "metadata": {
  "celltoolbar": "Slideshow",
  "kernelspec": {
   "display_name": "Julia 1.4.2",
   "language": "julia",
   "name": "julia-1.4"
  },
  "language_info": {
   "file_extension": ".jl",
   "mimetype": "application/julia",
   "name": "julia",
   "version": "1.4.2"
  }
 },
 "nbformat": 4,
 "nbformat_minor": 4
}
