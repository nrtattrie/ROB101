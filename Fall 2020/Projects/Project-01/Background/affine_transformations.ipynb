{
 "cells": [
  {
   "cell_type": "markdown",
   "metadata": {
    "slideshow": {
     "slide_type": "slide"
    }
   },
   "source": [
    "### University of Michigan - ROB 101 Computational Linear Algebra - Fall 2020\n",
    "\n",
    "## Project 1: Robotic Mapping with LIDAR Data\n",
    "\n",
    "### Affine Transformation"
   ]
  },
  {
   "cell_type": "markdown",
   "metadata": {
    "slideshow": {
     "slide_type": "slide"
    }
   },
   "source": [
    "### Learning Objectives\n",
    "- Affine transformations.\n",
    "- Difference between linear and affine transformations."
   ]
  },
  {
   "cell_type": "markdown",
   "metadata": {
    "slideshow": {
     "slide_type": "slide"
    }
   },
   "source": [
    "### Outcomes\n",
    "- Affine transformation of a vector.\n",
    "- Rigid body transformation."
   ]
  },
  {
   "cell_type": "markdown",
   "metadata": {
    "slideshow": {
     "slide_type": "slide"
    }
   },
   "source": [
    "### [Affine Transformation](https://en.wikipedia.org/wiki/Affine_transformation) \n",
    "\n",
    "So far, we have learned about linear transformations. We also learned that translation is not a linear transformation. We now look into another important class of transformations called *affine transformations*."
   ]
  },
  {
   "cell_type": "markdown",
   "metadata": {
    "slideshow": {
     "slide_type": "fragment"
    }
   },
   "source": [
    "An affine transformation in simple words is a combination of a linear transformation and translation."
   ]
  },
  {
   "cell_type": "markdown",
   "metadata": {
    "slideshow": {
     "slide_type": "slide"
    }
   },
   "source": [
    "- Suppose $A$ is linear transformation and $t$ is a vector. Then the affine transformation of a vector (or point) is $y = A x + t$. "
   ]
  },
  {
   "cell_type": "markdown",
   "metadata": {
    "slideshow": {
     "slide_type": "fragment"
    }
   },
   "source": [
    "- A particular affine transformation that combines rotation and translation is called a *rigid body transformation*. As the name implies, objects that go through a rigid body transformation remain *rigid*. This means, for example, no scaling, shear, or deformation and the distance between every pair of points remain the same. "
   ]
  },
  {
   "cell_type": "markdown",
   "metadata": {
    "slideshow": {
     "slide_type": "slide"
    }
   },
   "source": [
    "**Example:** To understand the concept of a rigid body transformation better, we will code an example. We will build a pyramid first. Then we will rotate and translate it in the 3D Cartesian coordinate frame. If we consider a pyramid as a combination of five points connected with lines, we get the following shape.\n",
    "\n",
    "![pyramid.png](https://i.postimg.cc/90XS6GqJ/pyramid.png)"
   ]
  },
  {
   "cell_type": "code",
   "execution_count": 4,
   "metadata": {
    "slideshow": {
     "slide_type": "slide"
    }
   },
   "outputs": [],
   "source": [
    "using Plots\n",
    "plotly()\n",
    "\n",
    "x = [0 0 1 1 0 0.5];\n",
    "y = [0 1 1 0 1 0.5];\n",
    "z = [0 0 0 0 0 1];\n",
    "E = vcat(x, y, z);\n",
    "\n",
    "# plot points\n",
    "p = plot(E[1,:], E[2,:], E[3,:], seriestype = :scatter, title = \"A pyramid\", legend = false, axis_ratio=:equal)\n",
    "\n",
    "# add lines\n",
    "for i = 1:size(E,2)\n",
    "    for j = i+1:size(E,2)\n",
    "        plot!(p, E[1,[i, j]], E[2,[i, j]], E[3,[i, j]], color=\"blue\", lw = 1)\n",
    "    end\n",
    "end\n",
    "display(p)"
   ]
  },
  {
   "cell_type": "markdown",
   "metadata": {
    "slideshow": {
     "slide_type": "slide"
    }
   },
   "source": [
    "Next, we apply the following transformation to all five points and visualize the results. \n",
    "\\begin{equation*}\n",
    "    R = \\begin{bmatrix} 1 & 0 & 0 \\\\ 0 & \\cos(\\alpha) & -\\sin(\\alpha) \\\\ 0 & \\sin(\\alpha) & \\cos(\\alpha) \\end{bmatrix}, \\quad t = \\begin{bmatrix} 0.5 \\\\ 0.75 \\\\ 1 \\end{bmatrix}. \n",
    "\\end{equation*}\n",
    "\n",
    "We set $\\alpha = \\frac{\\pi}{4}$. As expected we have rotated the pyramid by $\\frac{\\pi}{4}$ about $x$ axis and translated it by $t$.\n",
    "\n",
    "\n",
    "\n",
    "![pyramid-transformed.png](https://i.postimg.cc/tgHr0hKW/pyramid-transformed.png)"
   ]
  },
  {
   "cell_type": "code",
   "execution_count": 5,
   "metadata": {
    "slideshow": {
     "slide_type": "slide"
    }
   },
   "outputs": [],
   "source": [
    "α = π/4\n",
    "R = [1 0 0; 0 cos(α) -sin(α); 0 sin(α) cos(α)]\n",
    "t = [0.5; 0.75; 1]\n",
    "\n",
    "# a quick and dirty trick! apply the transformation to all points at once.\n",
    "E2 = R * E + repeat(t, outer = [1, size(E,2)])\n",
    "\n",
    "# plot points\n",
    "p = plot(E[1,:], E[2,:], E[3,:], seriestype = :scatter, title = \"A pyramid\", legend = false, axis_ratio=:equal)\n",
    "\n",
    "# add lines\n",
    "for i = 1:size(E,2)\n",
    "    for j = i+1:size(E,2)\n",
    "        plot!(p, E[1,[i, j]], E[2,[i, j]], E[3,[i, j]], color=\"blue\", lw = 1)\n",
    "    end\n",
    "end\n",
    "\n",
    "\n",
    "# plot transformed pyramid\n",
    "plot!(p, E2[1,:], E2[2,:], E2[3,:], seriestype = :scatter, title = \"Transformed pyramid\", legend = false, axis_ratio=:equal)\n",
    "\n",
    "# add lines\n",
    "for i = 1:size(E2,2)\n",
    "    for j = i+1:size(E2,2)\n",
    "        plot!(p, E2[1,[i, j]], E2[2,[i, j]], E2[3,[i, j]], color=\"red\", lw = 1)\n",
    "    end\n",
    "end\n",
    "display(p)"
   ]
  },
  {
   "cell_type": "markdown",
   "metadata": {
    "slideshow": {
     "slide_type": "slide"
    }
   },
   "source": [
    "Now you are ready to tackle **Project 1**. You will build a point cloud map collected using Cassie Blue on UMich North Campus. Good luck!\n",
    "\n",
    "[![InEKF LiDAR Mapping](https://i.imgur.com/BwtIepo.jpg)](https://www.youtube.com/watch?v=pNyXsZ5zVZk)"
   ]
  }
 ],
 "metadata": {
  "celltoolbar": "Slideshow",
  "kernelspec": {
   "display_name": "Julia 1.4.2",
   "language": "julia",
   "name": "julia-1.4"
  },
  "language_info": {
   "file_extension": ".jl",
   "mimetype": "application/julia",
   "name": "julia",
   "version": "1.4.2"
  }
 },
 "nbformat": 4,
 "nbformat_minor": 4
}
