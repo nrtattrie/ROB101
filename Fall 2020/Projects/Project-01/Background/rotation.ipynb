{
 "cells": [
  {
   "cell_type": "markdown",
   "metadata": {
    "slideshow": {
     "slide_type": "slide"
    }
   },
   "source": [
    "### University of Michigan - ROB 101 Computational Linear Algebra - Fall 2020\n",
    "\n",
    "## Project 1: Robotic Mapping with LIDAR Data\n",
    "\n",
    "### Rotation"
   ]
  },
  {
   "cell_type": "markdown",
   "metadata": {
    "slideshow": {
     "slide_type": "slide"
    }
   },
   "source": [
    "### Learning Objectives\n",
    "- 2D and 3D rotation matrices as linear transformations.\n",
    "- Righ-hand rule to rotate about an axis."
   ]
  },
  {
   "cell_type": "markdown",
   "metadata": {
    "slideshow": {
     "slide_type": "slide"
    }
   },
   "source": [
    "### Outcomes\n",
    "- Understanding the relationship between rotation matrices and coordinate frames.\n",
    "- A common 2D and 3D rotation convention."
   ]
  },
  {
   "cell_type": "markdown",
   "metadata": {
    "slideshow": {
     "slide_type": "slide"
    }
   },
   "source": [
    "### [Rotation](https://en.wikipedia.org/wiki/Rotation) \n",
    "\n",
    "Now that we know about linear transformation and their matrix representation, in this note, we will look into an essential class of transformation called rotation. "
   ]
  },
  {
   "cell_type": "markdown",
   "metadata": {
    "slideshow": {
     "slide_type": "fragment"
    }
   },
   "source": [
    "A rotation is a circular movement of an object around a center (or point) of rotation. A three-dimensional object can always be rotated about an infinite number of imaginary lines called rotation axis.\n",
    "\n",
    "![A sphere rotating about an axis](https://upload.wikimedia.org/wikipedia/commons/0/02/Rotating_Sphere.gif)"
   ]
  },
  {
   "cell_type": "markdown",
   "metadata": {
    "slideshow": {
     "slide_type": "slide"
    }
   },
   "source": [
    "First, let's derive the 2D rotation matrix using what we have learned so far and some basic trigonometry. Consider the unit vectors of the 2D plane\n",
    "\\begin{equation*}\n",
    "    e_1 = \\begin{bmatrix} 1 \\\\ 0 \\end{bmatrix}, \\quad e_2 = \\begin{bmatrix} 0 \\\\ 1 \\end{bmatrix},\n",
    "\\end{equation*}\n",
    "\n",
    "<img src=\"https://github.com/kjbiener/introToJulia/blob/master/2d_univec.png?raw=true\" alt=\"2D unit vectors\" width=\"450\">"
   ]
  },
  {
   "cell_type": "code",
   "execution_count": null,
   "metadata": {
    "slideshow": {
     "slide_type": "subslide"
    }
   },
   "outputs": [],
   "source": [
    "using Plots\n",
    "plotly() # Set the backend to Plotly\n",
    "\n",
    "e1 = [1; 0];\n",
    "e2 = [0; 1];\n",
    "E = hcat(e1, e2);\n",
    "\n",
    "quiver([0,0],[0,0],quiver=(E[1,:], E[2,:]), lw = 2, axis_ratio=:equal, xtickfontsize=14, ytickfontsize=14)"
   ]
  },
  {
   "cell_type": "markdown",
   "metadata": {
    "slideshow": {
     "slide_type": "slide"
    }
   },
   "source": [
    "We rotate $e_1$ and $e_2$ by an arbotrary angle $\\theta$. Note that $e_1$ and $e_2$ remain perpendicular. The results are two new unit vectors, $e'_1$ and $e'_2$, shown in red.\n",
    "\n",
    "<img src=\"https://github.com/kjbiener/introToJulia/blob/master/rotated_2d_univec.png?raw=true\" alt=\"Rotated 2D unit vectors\" width=\"450\">\n",
    "\n",
    "**Problem:** We wish to find the mapping $(e_1, e_2) \\mapsto (e'_1,e'_2)$ and a matrix representation of it."
   ]
  },
  {
   "cell_type": "code",
   "execution_count": 21,
   "metadata": {
    "slideshow": {
     "slide_type": "subslide"
    }
   },
   "outputs": [],
   "source": [
    "# using Plots\n",
    "# plotly() # Set the backend to Plotly\n",
    "\n",
    "θ = π/4 # 45 degree rotation\n",
    "R = [cos(θ) -sin(θ); sin(θ) cos(θ)] # this is a 2D rotation map\n",
    "\n",
    "e1 = [1; 0];\n",
    "e2 = [0; 1];\n",
    "E = hcat(e1, e2);\n",
    "\n",
    "V = R * E;\n",
    "\n",
    "quiver([0,0],[0,0],quiver=(E[1,:], E[2,:]), lw = 2, axis_ratio=:equal, xtickfontsize=14, ytickfontsize=14)\n",
    "quiver!([0,0],[0,0],quiver=(V[1,:], V[2,:]), lw = 2, axis_ratio=:equal, xtickfontsize=14, ytickfontsize=14)"
   ]
  },
  {
   "cell_type": "markdown",
   "metadata": {
    "slideshow": {
     "slide_type": "slide"
    }
   },
   "source": [
    "**Problem:** We wish to find the mapping $(e_1, e_2) \\mapsto (e'_1,e'_2)$ and a matrix representation of it.\n",
    "\n",
    "<img src=\"https://upload.wikimedia.org/wikipedia/commons/9/9f/Rotation_of_coordinates.svg\" alt=\"Rotated 2D unit vectors\" width=\"350\">"
   ]
  },
  {
   "cell_type": "markdown",
   "metadata": {
    "slideshow": {
     "slide_type": "slide"
    }
   },
   "source": [
    "We recognize that $e'_1$ and $e'_2$ vectors in the blue coordinates can be expressed as \n",
    "\\begin{equation*}\n",
    "    e'_1 = \\begin{bmatrix} \\cos(\\theta) \\\\ \\sin(\\theta) \\end{bmatrix}, \\quad e'_2 = \\begin{bmatrix} -\\sin(\\theta) \\\\ \\cos(\\theta) \\end{bmatrix}.\n",
    "\\end{equation*}\n",
    "\n",
    "We learn that any vector (or point) in the red coordinates can be expressed as a linear combinations of $e'_1$ and $e'_2$. This is analogous to using $e_1$ and $e_2$ as *basis* for the blue *coordinate frame*. "
   ]
  },
  {
   "cell_type": "markdown",
   "metadata": {
    "slideshow": {
     "slide_type": "fragment"
    }
   },
   "source": [
    "**Remark:** This way of finding the solution by using a linear combinations of different *dimensions (here each unit vector as a basis)* is a fundamental property of linear maps and is called [*superposition*](https://en.wikipedia.org/wiki/Superposition_principle)."
   ]
  },
  {
   "cell_type": "markdown",
   "metadata": {
    "slideshow": {
     "slide_type": "slide"
    }
   },
   "source": [
    "In other words, let $v = \\begin{bmatrix} v_1 \\\\ v_2 \\end{bmatrix} = v_1 e'_1 + v_2 e'_2$ and $v' = \\begin{bmatrix} v'_1 \\\\ v'_2 \\end{bmatrix} = v'_1 e_1 + v'_2 e_2 = v_1 e'_1 + v_2 e'_2$. \n",
    "\n",
    "We learn that\n",
    "\\begin{align*}\n",
    "    v'_1 = v_1 \\cos(\\theta) - v_2 \\sin(\\theta), \\\\\n",
    "    v'_2 = v_1 \\sin(\\theta) + v_2 \\cos(\\theta).\n",
    "\\end{align*}"
   ]
  },
  {
   "cell_type": "markdown",
   "metadata": {
    "slideshow": {
     "slide_type": "slide"
    }
   },
   "source": [
    "We are now one step away from deriving the 2D rotation matrix. We proceed as follows.\n",
    "\n",
    "\\begin{align*}\n",
    "    v' = \\begin{bmatrix} v'_1 \\\\ v'_2 \\end{bmatrix} = \\begin{bmatrix} v_1 \\cos(\\theta) - v_2 \\sin(\\theta) \\\\ v_1 \\sin(\\theta) + v_2 \\cos(\\theta) \\end{bmatrix} = \\begin{bmatrix} \\cos(\\theta) & -\\sin(\\theta) \\\\ \\sin(\\theta) & \\cos(\\theta) \\end{bmatrix} \\begin{bmatrix} v_1 \\\\ v_2 \\end{bmatrix},\n",
    "\\end{align*}\n",
    "thue, we proved that\n",
    "\\begin{equation*}\n",
    "    \\boxed{v' = R v},\n",
    "\\end{equation*}\n",
    "where we define\n",
    "\\begin{equation*}\n",
    "    \\boxed{R := \\begin{bmatrix} \\cos(\\theta) & -\\sin(\\theta) \\\\ \\sin(\\theta) & \\cos(\\theta) \\end{bmatrix}}.\n",
    "\\end{equation*}"
   ]
  },
  {
   "cell_type": "markdown",
   "metadata": {
    "slideshow": {
     "slide_type": "slide"
    }
   },
   "source": [
    "### [Right-hand rule](https://en.wikipedia.org/wiki/Right-hand_rule)\n",
    "\n",
    "We use the righ-hand rule to rotate about an axis. \n",
    "<img src=\"https://upload.wikimedia.org/wikipedia/commons/thumb/3/34/Right-hand_grip_rule.svg/340px-Right-hand_grip_rule.svg.png\" alt=\"Right-hand grip rule\" width=\"200\">\n",
    "\n",
    "<img src=\"https://github.com/kjbiener/introToJulia/blob/master/Cartesian_coordinate_system_handedness.png?raw=true\" alt=\"Cartesian coordinate system handedness\" width=\"200\">"
   ]
  },
  {
   "cell_type": "markdown",
   "metadata": {
    "slideshow": {
     "slide_type": "slide"
    }
   },
   "source": [
    "<img src=\"https://upload.wikimedia.org/wikipedia/commons/c/c1/Yaw_Axis_Corrected.svg\" alt=\"RPY\" width=\"400\">\n",
    "\n",
    "<img src=\"https://upload.wikimedia.org/wikipedia/commons/7/7d/Roll_pitch_yaw_mnemonic.svg\" alt=\"Euler angles\" width=\"350\">"
   ]
  },
  {
   "cell_type": "markdown",
   "metadata": {
    "slideshow": {
     "slide_type": "slide"
    }
   },
   "source": [
    "**Quiz:** Prove that the 3D rotation about $z$ axis in $\\mathbb{R}^3$ is indeed (notice its similarity with the 2D rotation matrix)\n",
    "\n",
    "\\begin{equation*}\n",
    "    R_z = \\begin{bmatrix} \\cos(\\gamma) & -\\sin(\\gamma) & 0 \\\\ \\sin(\\gamma) & \\cos(\\gamma) & 0 \\\\ 0 & 0 & 1 \\end{bmatrix}.\n",
    "\\end{equation*}"
   ]
  },
  {
   "cell_type": "markdown",
   "metadata": {
    "slideshow": {
     "slide_type": "slide"
    }
   },
   "source": [
    "**Answer:** \n",
    "\n",
    "In the 3D space, we can define the unit vectors along $x$,$y$, and $z$ axes, respectively, as\n",
    "\\begin{equation*}\n",
    "    e_1 = \\begin{bmatrix} 1 \\\\ 0 \\\\ 0 \\end{bmatrix}, \\quad e_2 = \\begin{bmatrix} 0 \\\\ 1 \\\\ 0 \\end{bmatrix}, \\quad e_2 = \\begin{bmatrix} 0 \\\\ 0 \\\\ 1 \\end{bmatrix}.\n",
    "\\end{equation*}\n",
    "\n",
    "Similar to the 2D case, we recognize that after a $\\gamma$ (the angle) rotation about $z$ axis we have $e'_1$, $e'_2$, and $e'_3$ vectors can be expressed as \n",
    "\\begin{equation*}\n",
    "    e'_1 = \\begin{bmatrix} \\cos(\\gamma) \\\\ \\sin(\\gamma) \\\\ 0 \\end{bmatrix}, \\quad e'_2 = \\begin{bmatrix} -\\sin(\\gamma) \\\\ \\cos(\\gamma) \\\\ 0 \\end{bmatrix}, \\quad e'_3 = \\begin{bmatrix} 0 \\\\ 0 \\\\ 1 \\end{bmatrix}.\n",
    "\\end{equation*}\n",
    "\n"
   ]
  },
  {
   "cell_type": "markdown",
   "metadata": {
    "slideshow": {
     "slide_type": "slide"
    }
   },
   "source": [
    "We note that $e'_3 = e_3$ since it is the *axis of rotation*. Let $v = \\begin{bmatrix} v_1 \\\\ v_2 \\\\ v_3 \\end{bmatrix} = v_1 e'_1 + v_2 e'_2$ be a vector in the rotated basis, then its equivalent in the standard basis is $v' = \\begin{bmatrix} v'_1 \\\\ v'_2 \\\\ v'_3 \\end{bmatrix} = v'_1 e_1 + v'_2 e_2 + v'_3 e_3 = v_1 e'_1 + v_2 e'_2 + v_3 e'_3$. This equality leads to\n",
    "\\begin{equation*}\n",
    "    \\boxed{\\begin{bmatrix} v'_1 \\\\ v'_2 \\\\ v'_3 \\end{bmatrix} = \\begin{bmatrix} \\cos(\\gamma) & -\\sin(\\gamma) & 0 \\\\ \\sin(\\gamma) & \\cos(\\gamma) & 0 \\\\ 0 & 0 & 1 \\end{bmatrix} \\begin{bmatrix} v_1 \\\\ v_2 \\\\ v_3 \\end{bmatrix}}.\n",
    "\\end{equation*}\n",
    "\\begin{equation*}\n",
    "    \\boxed{R_z := \\begin{bmatrix} \\cos(\\gamma) & -\\sin(\\gamma) & 0 \\\\ \\sin(\\gamma) & \\cos(\\gamma) & 0 \\\\ 0 & 0 & 1 \\end{bmatrix}}.\n",
    "\\end{equation*}"
   ]
  },
  {
   "cell_type": "markdown",
   "metadata": {
    "slideshow": {
     "slide_type": "slide"
    }
   },
   "source": [
    "**Quiz:** Derive 3D rotation matrices about $y$ and $x$ axes in $\\mathbb{R^3}$.\n",
    "\\begin{equation*}\n",
    "    R_y = \\begin{bmatrix} \\cos(\\beta) & 0 & \\sin(\\beta) \\\\ 0 & 1 & 0 \\\\ -\\sin(\\beta) & 0 & \\cos(\\beta) \\end{bmatrix},\n",
    "\\end{equation*}\n",
    "\\begin{equation*}\n",
    "    R_x = \\begin{bmatrix} 1 & 0 & 0 \\\\ 0 & \\cos(\\alpha) & -\\sin(\\alpha) \\\\ 0 & \\sin(\\alpha) & \\cos(\\alpha) \\end{bmatrix}.\n",
    "\\end{equation*}"
   ]
  },
  {
   "cell_type": "markdown",
   "metadata": {
    "slideshow": {
     "slide_type": "slide"
    }
   },
   "source": [
    "### Next\n",
    "\n",
    "Affine transformation"
   ]
  }
 ],
 "metadata": {
  "celltoolbar": "Slideshow",
  "kernelspec": {
   "display_name": "Julia 1.4.2",
   "language": "julia",
   "name": "julia-1.4"
  },
  "language_info": {
   "file_extension": ".jl",
   "mimetype": "application/julia",
   "name": "julia",
   "version": "1.4.2"
  }
 },
 "nbformat": 4,
 "nbformat_minor": 4
}
