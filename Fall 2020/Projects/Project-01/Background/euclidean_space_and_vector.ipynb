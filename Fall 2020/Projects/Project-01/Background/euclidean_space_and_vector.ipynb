{
 "cells": [
  {
   "cell_type": "markdown",
   "metadata": {
    "slideshow": {
     "slide_type": "slide"
    }
   },
   "source": [
    "### University of Michigan - ROB 101 Computational Linear Algebra - Fall 2020\n",
    "\n",
    "## Project 1: Robotic Mapping with LIDAR Data\n",
    "\n",
    "### Euclidean Space and Vector"
   ]
  },
  {
   "cell_type": "markdown",
   "metadata": {
    "slideshow": {
     "slide_type": "slide"
    }
   },
   "source": [
    "### Learning Objectives\n",
    "- Euclidean space and Cartesian coordinate system.\n",
    "- Euclidean vector."
   ]
  },
  {
   "cell_type": "markdown",
   "metadata": {
    "slideshow": {
     "slide_type": "slide"
    }
   },
   "source": [
    "### Outcomes\n",
    "- Understanding 1D, 2D, and 3D Euclidean spaces;\n",
    "- Cartesian coordinate system with $O$ as its origin;\n",
    "- How to represent a vector in $\\mathbb{R}^3$."
   ]
  },
  {
   "cell_type": "markdown",
   "metadata": {
    "slideshow": {
     "slide_type": "slide"
    }
   },
   "source": [
    "### [Euclidean Space](https://en.wikipedia.org/wiki/Euclidean_space)\n",
    "\n",
    "Euclidean space is the fundamental space of classical geometry. Ancient Greek geometers introduced Euclidean space for modeling the physical universe."
   ]
  },
  {
   "cell_type": "markdown",
   "metadata": {
    "slideshow": {
     "slide_type": "fragment"
    }
   },
   "source": [
    "<img src=\"https://upload.wikimedia.org/wikipedia/commons/thumb/6/69/Coord_system_CA_0.svg/500px-Coord_system_CA_0.svg.png\" alt=\"Euc Space\" width=\"350\">"
   ]
  },
  {
   "cell_type": "markdown",
   "metadata": {
    "slideshow": {
     "slide_type": "slide"
    }
   },
   "source": [
    "### [Real Line $\\mathbb{R}$](https://en.wikipedia.org/wiki/Real_line)\n",
    "\n",
    "The real line, or real number line is the line whose points are the real numbers. That is, the real line is the set $\\mathbb{R}$ of all real numbers, viewed as the Euclidean space of dimension one. "
   ]
  },
  {
   "cell_type": "markdown",
   "metadata": {
    "slideshow": {
     "slide_type": "fragment"
    }
   },
   "source": [
    "<img src=\"https://upload.wikimedia.org/wikipedia/commons/thumb/d/d7/Real_number_line.svg/764px-Real_number_line.svg.png\" alt=\"Real Numbers\" width=\"450\">"
   ]
  },
  {
   "cell_type": "code",
   "execution_count": 1,
   "metadata": {
    "slideshow": {
     "slide_type": "slide"
    }
   },
   "outputs": [
    {
     "data": {
      "text/plain": [
       "-2"
      ]
     },
     "execution_count": 1,
     "metadata": {},
     "output_type": "execute_result"
    }
   ],
   "source": [
    "a = -2"
   ]
  },
  {
   "cell_type": "code",
   "execution_count": 2,
   "metadata": {
    "slideshow": {
     "slide_type": "fragment"
    }
   },
   "outputs": [
    {
     "data": {
      "text/plain": [
       "1.4142135623730951"
      ]
     },
     "execution_count": 2,
     "metadata": {},
     "output_type": "execute_result"
    }
   ],
   "source": [
    "b = sqrt(2)"
   ]
  },
  {
   "cell_type": "code",
   "execution_count": 3,
   "metadata": {
    "slideshow": {
     "slide_type": "fragment"
    }
   },
   "outputs": [
    {
     "data": {
      "text/plain": [
       "π = 3.1415926535897..."
      ]
     },
     "execution_count": 3,
     "metadata": {},
     "output_type": "execute_result"
    }
   ],
   "source": [
    "c = MathConstants.pi"
   ]
  },
  {
   "cell_type": "code",
   "execution_count": 4,
   "metadata": {
    "slideshow": {
     "slide_type": "fragment"
    }
   },
   "outputs": [
    {
     "data": {
      "text/plain": [
       "ℯ = 2.7182818284590..."
      ]
     },
     "execution_count": 4,
     "metadata": {},
     "output_type": "execute_result"
    }
   ],
   "source": [
    "d = MathConstants.e"
   ]
  },
  {
   "cell_type": "markdown",
   "metadata": {
    "slideshow": {
     "slide_type": "slide"
    }
   },
   "source": [
    "### [Two-Dimensional Euclidean Space $\\mathbb{R}^2$](https://en.wikipedia.org/wiki/Two-dimensional_space)\n",
    "\n",
    "The set $\\mathbb{R}^2$ of pairs of real numbers is a two-dimensional (2D) Euclidean space. We called this set the 2D plane and mathematically describe it as \n",
    "$$ \\mathbb{R}^2 = \\{(x,y) | x,y \\in \\mathbb{R} \\}.$$"
   ]
  },
  {
   "cell_type": "markdown",
   "metadata": {
    "slideshow": {
     "slide_type": "fragment"
    }
   },
   "source": [
    "<img src=\"https://upload.wikimedia.org/wikipedia/commons/thumb/0/0e/Cartesian-coordinate-system.svg/500px-Cartesian-coordinate-system.svg.png\" alt=\"2D Cartesian coordinate system\" width=\"350\">"
   ]
  },
  {
   "cell_type": "code",
   "execution_count": 5,
   "metadata": {
    "slideshow": {
     "slide_type": "slide"
    }
   },
   "outputs": [
    {
     "data": {
      "text/plain": [
       "2-element Array{Int64,1}:\n",
       " 2\n",
       " 3"
      ]
     },
     "execution_count": 5,
     "metadata": {},
     "output_type": "execute_result"
    }
   ],
   "source": [
    "a = [2; 3] # a is a 2D point with coordinates 2 along the x axis and 3 along the y axis "
   ]
  },
  {
   "cell_type": "code",
   "execution_count": 6,
   "metadata": {
    "slideshow": {
     "slide_type": "fragment"
    }
   },
   "outputs": [
    {
     "data": {
      "text/plain": [
       "2-element Array{Int64,1}:\n",
       " -3\n",
       "  1"
      ]
     },
     "execution_count": 6,
     "metadata": {},
     "output_type": "execute_result"
    }
   ],
   "source": [
    "b = [-3, 1] # b is a 2D point with coordinates -3 along the x axis and 1 along the y axis"
   ]
  },
  {
   "cell_type": "code",
   "execution_count": 7,
   "metadata": {
    "slideshow": {
     "slide_type": "fragment"
    }
   },
   "outputs": [
    {
     "data": {
      "text/plain": [
       "2-element Array{Int64,1}:\n",
       " 0\n",
       " 0"
      ]
     },
     "execution_count": 7,
     "metadata": {},
     "output_type": "execute_result"
    }
   ],
   "source": [
    "o = [0, 0] # we call this point the origin"
   ]
  },
  {
   "cell_type": "code",
   "execution_count": 8,
   "metadata": {
    "slideshow": {
     "slide_type": "fragment"
    }
   },
   "outputs": [
    {
     "data": {
      "text/plain": [
       "(2,)"
      ]
     },
     "execution_count": 8,
     "metadata": {},
     "output_type": "execute_result"
    }
   ],
   "source": [
    "size(a)"
   ]
  },
  {
   "cell_type": "code",
   "execution_count": 9,
   "metadata": {
    "slideshow": {
     "slide_type": "fragment"
    }
   },
   "outputs": [
    {
     "data": {
      "text/plain": [
       "(2,)"
      ]
     },
     "execution_count": 9,
     "metadata": {},
     "output_type": "execute_result"
    }
   ],
   "source": [
    "size(b)"
   ]
  },
  {
   "cell_type": "markdown",
   "metadata": {
    "slideshow": {
     "slide_type": "slide"
    }
   },
   "source": [
    "### [Three-Dimensional Euclidean Space $\\mathbb{R}^3$](https://en.wikipedia.org/wiki/Three-dimensional_space)\n",
    "\n",
    "The set $\\mathbb{R}^3$ of pairs of real numbers is a three-dimensional (3D) Euclidean space. Mathematically, we describe it as \n",
    "$$ \\mathbb{R}^3 = \\{(x,y,z) | x,y,z \\in \\mathbb{R} \\}.$$\n",
    "The 3D Euclidean space serves as a spatial model of the physical universe in which all known matter exists. We use the following orthogonal coordinate system with $O$ as its origin."
   ]
  },
  {
   "cell_type": "markdown",
   "metadata": {
    "slideshow": {
     "slide_type": "fragment"
    }
   },
   "source": [
    "<img src=\"https://upload.wikimedia.org/wikipedia/commons/thumb/8/83/Coord_planes_color.svg/600px-Coord_planes_color.svg.png\" alt=\"3D Cartesian coordinate system\" width=\"350\">"
   ]
  },
  {
   "cell_type": "code",
   "execution_count": 10,
   "metadata": {
    "slideshow": {
     "slide_type": "slide"
    }
   },
   "outputs": [
    {
     "data": {
      "text/plain": [
       "3-element Array{Int64,1}:\n",
       "  2\n",
       "  3\n",
       " -1"
      ]
     },
     "execution_count": 10,
     "metadata": {},
     "output_type": "execute_result"
    }
   ],
   "source": [
    "a = [2; 3; -1] # a is a 3D point with coordinates 2 along the x axis, 3 along the y axis, and -1 along the z axis respectively. "
   ]
  },
  {
   "cell_type": "code",
   "execution_count": 11,
   "metadata": {
    "slideshow": {
     "slide_type": "fragment"
    }
   },
   "outputs": [
    {
     "data": {
      "text/plain": [
       "3-element Array{Int64,1}:\n",
       " -3\n",
       "  1\n",
       "  6"
      ]
     },
     "execution_count": 11,
     "metadata": {},
     "output_type": "execute_result"
    }
   ],
   "source": [
    "b = [-3, 1, 6] # b is a 2D point with coordinates -3 along the x axis, 1 along the y axis, and 6 along the z axis respectively."
   ]
  },
  {
   "cell_type": "code",
   "execution_count": 12,
   "metadata": {
    "slideshow": {
     "slide_type": "fragment"
    }
   },
   "outputs": [
    {
     "data": {
      "text/plain": [
       "3-element Array{Int64,1}:\n",
       " 0\n",
       " 0\n",
       " 0"
      ]
     },
     "execution_count": 12,
     "metadata": {},
     "output_type": "execute_result"
    }
   ],
   "source": [
    "o = [0, 0, 0] # we call this point the origin"
   ]
  },
  {
   "cell_type": "code",
   "execution_count": 13,
   "metadata": {
    "slideshow": {
     "slide_type": "fragment"
    }
   },
   "outputs": [
    {
     "name": "stdout",
     "output_type": "stream",
     "text": [
      "size (dimension) of point a:  (3,)\n"
     ]
    }
   ],
   "source": [
    "println(\"size (dimension) of point a:  \", size(a))"
   ]
  },
  {
   "cell_type": "markdown",
   "metadata": {
    "slideshow": {
     "slide_type": "slide"
    }
   },
   "source": [
    "### [Euclidean Vector](https://en.wikipedia.org/wiki/Euclidean_vector)\n",
    "\n",
    "A Euclidean vector or simply a vector is a geometric object that has magnitude (or length) and direction. A vector pointing from $A$ to $B$ is shown in the following figure. $A$ is called the initial point and $B$ is called a terminal point. A vector is what is needed to \"carry\" the point $A$ to the point $B$; the Latin word vector means \"carrier\"."
   ]
  },
  {
   "cell_type": "markdown",
   "metadata": {
    "slideshow": {
     "slide_type": "fragment"
    }
   },
   "source": [
    "<img src=\"https://upload.wikimedia.org/wikipedia/commons/thumb/9/95/Vector_from_A_to_B.svg/440px-Vector_from_A_to_B.svg.png\" alt=\"Vector_from_A_to_B\" width=\"250\">"
   ]
  },
  {
   "cell_type": "markdown",
   "metadata": {
    "slideshow": {
     "slide_type": "slide"
    }
   },
   "source": [
    "Next figure shows a vector in the Cartesian plane, showing the position of a point $A$ with coordinates $(2, 3)$."
   ]
  },
  {
   "cell_type": "markdown",
   "metadata": {
    "slideshow": {
     "slide_type": "fragment"
    }
   },
   "source": [
    "<img src=\"https://upload.wikimedia.org/wikipedia/commons/thumb/5/5d/Position_vector.svg/440px-Position_vector.svg.png\" alt=\"Position_vector\" width=\"300\">"
   ]
  },
  {
   "cell_type": "markdown",
   "metadata": {
    "slideshow": {
     "slide_type": "slide"
    }
   },
   "source": [
    "- A common way of representing a vector in $\\mathbb{R}^3$ follows the convention shown in the following figure. \n",
    "- We can define unit vectors (vectors with length $1$) as $i = (1,0,0)$, $j = (1,0,0)$, and $k = (1,0,0)$. There are the directions along $x$, $y$, and $z$ axes, respectively.\n",
    "- If a vector such as $a$ has *components* $a_x$, $a_y$, and $a_z$, then we write $a = a_x i + a_y j + a_z k = (a_x,a_y,a_z)$. It is also common to use bracket instead of paretheses for an array such as $a = [a_x,a_y,a_z]$. Both notations are valid. \n",
    "<img src=\"https://upload.wikimedia.org/wikipedia/commons/thumb/f/fd/3D_Vector.svg/600px-3D_Vector.svg.png\" alt=\"3D_Vector\" width=\"350\">"
   ]
  },
  {
   "cell_type": "markdown",
   "metadata": {
    "slideshow": {
     "slide_type": "slide"
    }
   },
   "source": [
    "### Next\n",
    "\n",
    "Linear transformation"
   ]
  }
 ],
 "metadata": {
  "celltoolbar": "Slideshow",
  "kernelspec": {
   "display_name": "Julia 1.4.2",
   "language": "julia",
   "name": "julia-1.4"
  },
  "language_info": {
   "file_extension": ".jl",
   "mimetype": "application/julia",
   "name": "julia",
   "version": "1.4.2"
  }
 },
 "nbformat": 4,
 "nbformat_minor": 4
}
