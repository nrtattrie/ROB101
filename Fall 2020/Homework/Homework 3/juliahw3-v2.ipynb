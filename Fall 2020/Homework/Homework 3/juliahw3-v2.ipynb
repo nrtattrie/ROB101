{
 "cells": [
  {
   "cell_type": "markdown",
   "metadata": {
    "deletable": false,
    "editable": false,
    "nbgrader": {
     "cell_type": "markdown",
     "checksum": "8fe6641ee483e00e84ef7257970e26f0",
     "grade": false,
     "grade_id": "cell-c39f28fa9bdc794e",
     "locked": true,
     "schema_version": 3,
     "solution": false,
     "task": false
    }
   },
   "source": [
    "University of Michigan - ROB 101 Computational Linear Algebra"
   ]
  },
  {
   "cell_type": "markdown",
   "metadata": {
    "deletable": false,
    "editable": false,
    "nbgrader": {
     "cell_type": "markdown",
     "checksum": "b755946e702c967513581a0a6434298d",
     "grade": false,
     "grade_id": "cell-447f7c0cf0e86c7",
     "locked": true,
     "schema_version": 3,
     "solution": false,
     "task": false
    }
   },
   "source": [
    "# Homework 3: Vector and Matrix Multiplication\n",
    "### Due: 9/26 at 9 PM Eastern\n",
    "\n",
    "#### Purpose:  Learn ways to compute a matrix multiplication with programming\n",
    "- Skills: \n",
    "    - Indexing for multiplication\n",
    "    - Converting algorithm to code\n",
    "    - Lower-Upper factorization without permutations\n",
    "- Knowledge:\n",
    "    - Learn how to use built in functions\n",
    "    - Understand how those functions work behind the scenes\n",
    "\n",
    "#### Task:  Complete the cells below as directed."
   ]
  },
  {
   "cell_type": "markdown",
   "metadata": {
    "deletable": false,
    "editable": false,
    "nbgrader": {
     "cell_type": "markdown",
     "checksum": "a2e15dc9ab61e02865c742127ddc51e5",
     "grade": false,
     "grade_id": "cell-447f7c0cf0e86c77",
     "locked": true,
     "schema_version": 3,
     "solution": false,
     "task": false
    }
   },
   "source": [
    "### The Result of a Matrix Multiplication:\n",
    "$$[n\\times k~~\\text{matrix}] \\cdot [k \\times m~~\\text{matrix}] = [n \\times m~~\\text{matrix}].$$\n",
    "\n",
    "In other words:  In order for the matrix multiplication A times B to be possible, the number of columns in A must equal the number of rows in B."
   ]
  },
  {
   "cell_type": "markdown",
   "metadata": {
    "deletable": false,
    "editable": false,
    "nbgrader": {
     "cell_type": "markdown",
     "checksum": "fc5b384f2700efb491ff9c899c114b86",
     "grade": false,
     "grade_id": "cell-db80a8ed2f700a69",
     "locked": true,
     "schema_version": 3,
     "solution": false,
     "task": false
    }
   },
   "source": [
    "\\begin{equation}\n",
    "   A \\cdot B:= \n",
    "\\left[\\begin{array}{cccc}  a_1^{\\rm row} \\cdot b_1^{\\rm col} & a_1^{\\rm row} \\cdot b_2^{\\rm col} & \\cdots & a_1^{\\rm row} \\cdot b_m^{\\rm col} \\\\\n",
    "a_2^{\\rm row} \\cdot b_1^{\\rm col} & a_2^{\\rm row} \\cdot b_2^{\\rm col} & \\cdots & a_2^{\\rm row} \\cdot b_m^{\\rm col} \\\\\n",
    "\\vdots & \\vdots & \\ddots & \\vdots \\\\\n",
    "a_n^{\\rm row} \\cdot b_1^{\\rm col} & a_n^{\\rm row} \\cdot b_2^{\\rm col} & \\cdots & a_n^{\\rm row} \\cdot b_m^{\\rm col}\n",
    "\\end{array}\\right].\n",
    "\\end{equation}\n",
    "\n",
    "### Problem 1.  Rows x Columns\n",
    "Partition the following matrices, then compute the multiplication product using the formula above.\n",
    "\n",
    "### a) $A*B$ where $A = \\begin{bmatrix} 3&7&4\\\\1&4&3\\end{bmatrix}$ and $B = \\begin{bmatrix}8&3&9&1\\\\2&4&0&8\\\\0&7&1&2\\end{bmatrix}$"
   ]
  },
  {
   "cell_type": "code",
   "execution_count": null,
   "metadata": {
    "deletable": false,
    "nbgrader": {
     "cell_type": "code",
     "checksum": "82c5ab3ebbc1e0d33797744149b52e35",
     "grade": false,
     "grade_id": "1a",
     "locked": false,
     "schema_version": 3,
     "solution": true,
     "task": false
    },
    "tags": [
     "problem_1a"
    ]
   },
   "outputs": [],
   "source": [
    "#declare your partitions first\n",
    "#leave the values as integers or the check below will return a false answer, even if you are right.\n",
    "a1row = \n",
    "a2row = \n",
    "b1col = \n",
    "b2col = \n",
    "b3col = \n",
    "b4col =\n",
    "\n",
    "#implement code below that computes the product using your partitioned matrices\n",
    "#your answer should be a 2 x 4 matrix. Return that in a variable called answer1a\n",
    "# your code here\n",
    "throw(ErrorException())"
   ]
  },
  {
   "cell_type": "code",
   "execution_count": null,
   "metadata": {
    "deletable": false,
    "editable": false,
    "nbgrader": {
     "cell_type": "code",
     "checksum": "238f254042dea9c5fde09e181a030cbc",
     "grade": true,
     "grade_id": "1aTest",
     "locked": true,
     "points": 1,
     "schema_version": 3,
     "solution": false,
     "task": false
    },
    "tags": [
     "problem_1a_answer",
     "hide"
    ]
   },
   "outputs": [],
   "source": [
    "#autograder cell"
   ]
  },
  {
   "cell_type": "markdown",
   "metadata": {
    "deletable": false,
    "editable": false,
    "nbgrader": {
     "cell_type": "markdown",
     "checksum": "419ed8a7e4ffdbf68b3c9651f7294aed",
     "grade": false,
     "grade_id": "cell-6befc60823bbbb04",
     "locked": true,
     "schema_version": 3,
     "solution": false,
     "task": false
    }
   },
   "source": [
    "### b) $C*D$ where $C = \\begin{bmatrix} 7&6&8&7&4\\\\1&8&2&4&3\\\\6&9&8&1&4\\end{bmatrix}$ and $D = \\begin{bmatrix}8&3\\\\0&4\\\\7&2\\\\3&8\\\\9&2\\end{bmatrix}$"
   ]
  },
  {
   "cell_type": "code",
   "execution_count": null,
   "metadata": {
    "deletable": false,
    "nbgrader": {
     "cell_type": "code",
     "checksum": "d7353626d0f57ce66d36037d5a18c75f",
     "grade": false,
     "grade_id": "1b",
     "locked": false,
     "schema_version": 3,
     "solution": true,
     "task": false
    },
    "tags": [
     "problem_1b"
    ]
   },
   "outputs": [],
   "source": [
    "#Partition C \n",
    "\n",
    "\n",
    "\n",
    "#Partition D\n",
    "\n",
    "\n",
    "\n",
    "\n",
    "\n",
    "#Compute product and return answer in a variable called answer1b\n",
    "# your code here\n",
    "throw(ErrorException())"
   ]
  },
  {
   "cell_type": "code",
   "execution_count": null,
   "metadata": {
    "deletable": false,
    "editable": false,
    "nbgrader": {
     "cell_type": "code",
     "checksum": "a956b013756e96ac754b6f4c784bd1be",
     "grade": true,
     "grade_id": "1bTest",
     "locked": true,
     "points": 1,
     "schema_version": 3,
     "solution": false,
     "task": false
    },
    "tags": [
     "problem_1b_answer",
     "hide"
    ]
   },
   "outputs": [],
   "source": [
    "#autograder cell"
   ]
  },
  {
   "cell_type": "markdown",
   "metadata": {
    "deletable": false,
    "editable": false,
    "nbgrader": {
     "cell_type": "markdown",
     "checksum": "1c5fa1bb261642493efea7c296095bc1",
     "grade": false,
     "grade_id": "cell-11b9a0e4128b893d",
     "locked": true,
     "schema_version": 3,
     "solution": false,
     "task": false
    }
   },
   "source": [
    "$$A\\cdot B = \\sum_{i=1}^{k} a_i^{\\rm col} \\cdot b_i^{\\rm row},  $$\n",
    "### Problem 2.  Summing over Columns and Rows\n",
    "Partition the following matrices, then compute the product of matrix multiplication by summing over rows and columns.\n",
    "\n",
    "### a.  $F*G$ where $F = \\begin{bmatrix}5&1&3\\\\8&2&0\\\\1&7&6\\\\8&2&1\\end{bmatrix}$ and $G = \\begin{bmatrix}2&4\\\\8&1\\\\7&0\\end{bmatrix}$"
   ]
  },
  {
   "cell_type": "code",
   "execution_count": null,
   "metadata": {
    "deletable": false,
    "nbgrader": {
     "cell_type": "code",
     "checksum": "4724734a4b65e1632ce6bceaf5a859a3",
     "grade": false,
     "grade_id": "2a",
     "locked": false,
     "schema_version": 3,
     "solution": true,
     "task": false
    },
    "tags": [
     "problem_2a"
    ]
   },
   "outputs": [],
   "source": [
    "#partition F into columns\n",
    "\n",
    "\n",
    "\n",
    "#partition G into rows\n",
    "\n",
    "\n",
    "\n",
    "#compute the product by summing the products of the columns times rows.  Return your answer as answer2a\n",
    "# your code here\n",
    "throw(ErrorException())"
   ]
  },
  {
   "cell_type": "code",
   "execution_count": null,
   "metadata": {
    "deletable": false,
    "editable": false,
    "nbgrader": {
     "cell_type": "code",
     "checksum": "86748497750eeeab287ea87c68d789c4",
     "grade": true,
     "grade_id": "2aTest",
     "locked": true,
     "points": 1,
     "schema_version": 3,
     "solution": false,
     "task": false
    },
    "tags": [
     "problem_2a_answer",
     "hide"
    ]
   },
   "outputs": [],
   "source": [
    "#autograder cell"
   ]
  },
  {
   "cell_type": "markdown",
   "metadata": {
    "deletable": false,
    "editable": false,
    "nbgrader": {
     "cell_type": "markdown",
     "checksum": "5d381585a9e55b31f60fff089377ca54",
     "grade": false,
     "grade_id": "cell-47141b240dc7d123",
     "locked": true,
     "schema_version": 3,
     "solution": false,
     "task": false
    }
   },
   "source": [
    "### b.  Using the same matrices, F and G, construct a FOR loop to compute the matrix multiplication $F*G$ like how we did above.\n",
    "Remember this formula, and how it works:$$A\\cdot B = \\sum_{i=1}^{k} a_i^{\\rm col} \\cdot b_i^{\\rm row},  $$\n",
    "\n",
    "Hint: How many times do we have to multiply a column times a row?  What happens to all of the individual column times row matrices at the end?  Keep track of the sum in the for loop so that you don't have to manually sum at the end."
   ]
  },
  {
   "cell_type": "code",
   "execution_count": null,
   "metadata": {
    "deletable": false,
    "nbgrader": {
     "cell_type": "code",
     "checksum": "b5eff3882b84deed0498f7ea726645b6",
     "grade": false,
     "grade_id": "2b",
     "locked": false,
     "schema_version": 3,
     "solution": true,
     "task": false
    },
    "tags": [
     "problem_2b"
    ]
   },
   "outputs": [],
   "source": [
    "#Declare matrices F and G:\n",
    "F = \n",
    "G = \n",
    "#Declare a matrix of zeros the size of the multiplication product\n",
    "currentSum = \n",
    "#fill in the number of columns of F (or Rows of G)\n",
    "n =\n",
    "\n",
    "#the for loop\n",
    "for i in 1:n\n",
    "    #use indexing, and the iterator variable(i) to pick out the column and row,\n",
    "    #then mulitply them together, and update the currentsum\n",
    "    #In order to extract a row vector, remember to use the transpose operator (')\n",
    "    \n",
    "# your code here\n",
    "throw(ErrorException())\n",
    "    \n",
    "end\n",
    "\n",
    "answer2b = currentSum"
   ]
  },
  {
   "cell_type": "code",
   "execution_count": null,
   "metadata": {
    "deletable": false,
    "editable": false,
    "nbgrader": {
     "cell_type": "code",
     "checksum": "e439aae9d7d908fb151e8771d4304cbf",
     "grade": true,
     "grade_id": "2bTest",
     "locked": true,
     "points": 2,
     "schema_version": 3,
     "solution": false,
     "task": false
    },
    "tags": [
     "problem_2b_answer",
     "hide"
    ]
   },
   "outputs": [],
   "source": [
    "#autograder cell\n",
    "#You should get the same answer that you got in problem 2a\n",
    "answer2b == answer2a"
   ]
  },
  {
   "cell_type": "markdown",
   "metadata": {
    "deletable": false,
    "editable": false,
    "nbgrader": {
     "cell_type": "markdown",
     "checksum": "a92a12583621399ed4c2708b643f1b1c",
     "grade": false,
     "grade_id": "cell-4bb3aa2426e7452d",
     "locked": true,
     "schema_version": 3,
     "solution": false,
     "task": false
    }
   },
   "source": [
    "### The Trick:  Matrix Multiplication is Already Built into Julia\n",
    "#### You can simply use the * operator to multiply compatible matrices\n",
    "What?  I did all that for nothing!  No.  By completing the algorithms above, you have followed along the steps that Julia is taking internally. You now understand the inner workings of the computer!\n",
    "\n",
    "Note: You still need to implement problems 1 and 2 as directed, otherwise you will receive no points on the assignment.\n",
    "\n",
    "### Problem 3.  Compute $X*Y$ where $X = \\begin{bmatrix}8&5&2&1\\\\6&1&3&2\\end{bmatrix}$ and $Y = \\begin{bmatrix}4&4&3\\\\7&6&5\\\\0&1&3\\\\9&8&2\\end{bmatrix}$"
   ]
  },
  {
   "cell_type": "code",
   "execution_count": null,
   "metadata": {
    "deletable": false,
    "nbgrader": {
     "cell_type": "code",
     "checksum": "cd22b1e81a3559bd1a9a6215644d2cda",
     "grade": false,
     "grade_id": "3",
     "locked": false,
     "schema_version": 3,
     "solution": true,
     "task": false
    },
    "tags": [
     "problem_3"
    ]
   },
   "outputs": [],
   "source": [
    "#Return your answer as answer3\n",
    "\n",
    "# your code here\n",
    "throw(ErrorException())"
   ]
  },
  {
   "cell_type": "code",
   "execution_count": null,
   "metadata": {
    "deletable": false,
    "editable": false,
    "nbgrader": {
     "cell_type": "code",
     "checksum": "78bae57f11ec52f25e8a5c4a2f05ac52",
     "grade": true,
     "grade_id": "3test",
     "locked": true,
     "points": 1,
     "schema_version": 3,
     "solution": false,
     "task": false
    },
    "tags": [
     "problem_3_answer",
     "hide"
    ]
   },
   "outputs": [],
   "source": [
    "#autograder cell"
   ]
  },
  {
   "cell_type": "markdown",
   "metadata": {
    "deletable": false,
    "editable": false,
    "nbgrader": {
     "cell_type": "markdown",
     "checksum": "050dcfd10a3ac1e9a367a0814b938b57",
     "grade": false,
     "grade_id": "cell-5197de8c288eabf0",
     "locked": true,
     "schema_version": 3,
     "solution": false,
     "task": false
    }
   },
   "source": [
    "<img src=\"https://i.postimg.cc/Y0HQcjMM/lu-final.jpg\" width=\"700\">\n",
    "\n",
    "\n",
    "### Problem 4. LU Factorization Step by Step\n",
    "Follow Algorithm 1 (above), taken from chapter 5 of the course booklet, step by step in Julia, to perform an LU Factorization on Matrix M.\n",
    "$$ M = \\begin{bmatrix}6&5&4\\\\12&19&14\\\\24&35&32\\end{bmatrix}$$\n",
    "We are going to do it step by step, just as if you were writing it out as a HW Drill Problem solution. Then, in the next problem, we'll program it up as an honest to goodness algorithm!"
   ]
  },
  {
   "cell_type": "code",
   "execution_count": null,
   "metadata": {
    "deletable": false,
    "nbgrader": {
     "cell_type": "code",
     "checksum": "82c326a1012e580d9d0120a99b66305b",
     "grade": false,
     "grade_id": "4",
     "locked": false,
     "schema_version": 3,
     "solution": true,
     "task": false
    }
   },
   "outputs": [],
   "source": [
    "# Do all of your work in this cell\n",
    "# here, we will NOT test that the pivot is non-zero and just hope for the best!\n",
    "M = [6 5 4; 12 19 14; 24 35 32]\n",
    "temp=copy(M)\n",
    "n,m = size(M)\n",
    "k=1\n",
    "C=temp[:,k]\n",
    "pivot=C[k]\n",
    "C=C/pivot  # Let's hope we do not divide by zero! Yikes!!! \n",
    "R=temp[k,:]' # recall, we have to do the transpose in Julia to get a row vector or we use R=temp[k:k,:]\n",
    "temp = temp-C*R\n",
    "@show temp\n",
    "# Run this code now and make sure that temp has a zero first column and a zero first row\n",
    "\n",
    "# Now its your turn\n",
    "k=2 #now k will be 2, and we will repeat the steps again for the second column and row\n",
    "#you will need to repeat this process n times, where n is the number of rows/columns in M\n",
    "# your code here\n",
    "throw(ErrorException())\n",
    "\n",
    "\n",
    "#Now return L and U"
   ]
  },
  {
   "cell_type": "code",
   "execution_count": null,
   "metadata": {
    "deletable": false,
    "editable": false,
    "nbgrader": {
     "cell_type": "code",
     "checksum": "9d4015076d5796c5f51fdb41d79eb2fa",
     "grade": true,
     "grade_id": "4test",
     "locked": true,
     "points": 1,
     "schema_version": 3,
     "solution": false,
     "task": false
    }
   },
   "outputs": [],
   "source": [
    "#autograder cell"
   ]
  },
  {
   "cell_type": "markdown",
   "metadata": {
    "deletable": false,
    "editable": false,
    "nbgrader": {
     "cell_type": "markdown",
     "checksum": "6bb84605cd974f1de2c5b1a83b3889ce",
     "grade": false,
     "grade_id": "cell-ce0c0c1435b23465",
     "locked": true,
     "schema_version": 3,
     "solution": false,
     "task": false
    }
   },
   "source": [
    "<img src=\"https://i.postimg.cc/Y0HQcjMM/lu-final.jpg\" width=\"700\">\n",
    "\n",
    "\n",
    "### Problem 5. LU Factorization in Code\n",
    "Implement Algorithm 1(above), taken from chapter 5 of the course booklet, in code to perform an LU Factorization on Matrix M.\n",
    "$$ M = \\begin{bmatrix}6&5&4\\\\12&19&14\\\\24&35&32\\end{bmatrix}$$\n",
    "\n",
    "Remark: When you first implement the algorithm using a for loop, don't worry about checking that the pivot \n",
    "is non-zero. Add that at the very end. \n",
    "\n",
    "Next week, we'll show you how to turn your script into a real function so that you can call\n",
    " L, U = mylu(M)"
   ]
  },
  {
   "cell_type": "code",
   "execution_count": null,
   "metadata": {
    "deletable": false,
    "nbgrader": {
     "cell_type": "code",
     "checksum": "64d9925a58d6c8752b1bf5e306698c28",
     "grade": false,
     "grade_id": "5",
     "locked": false,
     "schema_version": 3,
     "solution": true,
     "task": false
    },
    "tags": [
     "problem_5"
    ]
   },
   "outputs": [],
   "source": [
    "#declare M\n",
    "M = [6 5 4; 12 19 14; 24 35 32]\n",
    "#initialization\n",
    "n,m = size(M)\n",
    "temp = copy(M)\n",
    "L = Array{Float64,2}(undef, n, 0)  #~~~\\# L=[] Empty matrix\\\\\n",
    "U = Array{Float64,2}(undef, 0, n)  #~~~\\# R=[] Empty matrix\\\\\n",
    "flag = 1\n",
    "#end initialization\n",
    "\n",
    "#Your turn! Translate the rest of the algorithm to code here(use a for loop and an if statement)\n",
    "# your code here\n",
    "throw(ErrorException())\n",
    "\n",
    "\n",
    "\n",
    "\n"
   ]
  },
  {
   "cell_type": "code",
   "execution_count": null,
   "metadata": {
    "deletable": false,
    "editable": false,
    "nbgrader": {
     "cell_type": "code",
     "checksum": "c54ad40add499371903290720d4ff83b",
     "grade": true,
     "grade_id": "5test",
     "locked": true,
     "points": 2,
     "schema_version": 3,
     "solution": false,
     "task": false
    },
    "tags": [
     "problem_5_answer",
     "hide"
    ]
   },
   "outputs": [],
   "source": [
    "#autograder cell"
   ]
  },
  {
   "cell_type": "markdown",
   "metadata": {
    "deletable": false,
    "editable": false,
    "nbgrader": {
     "cell_type": "markdown",
     "checksum": "325ce981a9f3f1d4f136af1eaacb3e96",
     "grade": false,
     "grade_id": "cell-e302cba6d04119ca",
     "locked": true,
     "schema_version": 3,
     "solution": false,
     "task": false
    }
   },
   "source": [
    "#### Congratulations! You just translated an algorithm to code.  This is a key skill for a computer or data scientist.\n",
    "\n",
    "The good news:  Julia has a built in function that will do the LU factorization for you.  Actually, there are two functions. If we use the LinearAlgebra package, we can find the L and U factors by simply typing:\n",
    "<br> <br>   (L, U) = lu(M, Val(false))\n",
    "\n",
    "<br> You can also use factorize(M), but it is not reccomended because this multiple-dispatch-function may return a different type of factorization than an LU. \n",
    "\n",
    "Note:  You still need to complete the algorithm above to get points.  It is important that you understand how the algorithm can be done both by hand and by Julia.  Computers exist to make your life easier, but in order for them to do that, you have to understand how they work, and how to use them."
   ]
  },
  {
   "cell_type": "code",
   "execution_count": null,
   "metadata": {},
   "outputs": [],
   "source": [
    "using LinearAlgebra\n",
    "#LU decomposition without permutations ~Val(false)~\n",
    "(lower, upper) = lu(M, Val(false))"
   ]
  },
  {
   "cell_type": "code",
   "execution_count": null,
   "metadata": {},
   "outputs": [],
   "source": [
    "#Check that the factorization is correct\n",
    "lower*upper == M"
   ]
  },
  {
   "cell_type": "markdown",
   "metadata": {
    "deletable": false,
    "editable": false,
    "nbgrader": {
     "cell_type": "markdown",
     "checksum": "8edc655f9272b1a2468d32a27c7cdf1e",
     "grade": false,
     "grade_id": "cell-6f97cf517f7225e0",
     "locked": true,
     "schema_version": 3,
     "solution": false,
     "task": false
    }
   },
   "source": [
    "Note: If you leave off the Val(false) argument, lu() will use permutations, and then $L * U \\ne M$\n",
    "\n",
    "\n",
    "For a more in depth explanation about julia's factorization, visit:\n",
    "https://julia.quantecon.org/tools_and_techniques/numerical_linear_algebra.html"
   ]
  },
  {
   "cell_type": "markdown",
   "metadata": {
    "deletable": false,
    "editable": false,
    "nbgrader": {
     "cell_type": "markdown",
     "checksum": "cfd3b7b8bfd374a0c9549059a1727553",
     "grade": false,
     "grade_id": "cell-e008d451016b1674",
     "locked": true,
     "schema_version": 3,
     "solution": false,
     "task": false
    }
   },
   "source": [
    "### Problem 6.  Copy your algorithm from problem 5 into the cell below and run your LU Factorization on a 100 x 100 random matrix\n"
   ]
  },
  {
   "cell_type": "code",
   "execution_count": null,
   "metadata": {
    "deletable": false,
    "nbgrader": {
     "cell_type": "code",
     "checksum": "c3993f83b544e5f7e93d65274188d882",
     "grade": false,
     "grade_id": "6",
     "locked": false,
     "schema_version": 3,
     "solution": true,
     "task": false
    },
    "tags": [
     "problem_6"
    ]
   },
   "outputs": [],
   "source": [
    "using Random\n",
    "N=100\n",
    "M=rand(N,N)\n",
    "#copy your algorithm below to return L and U factors of M, a 100 by 100 matrix\n",
    "# your code here\n",
    "throw(ErrorException())"
   ]
  },
  {
   "cell_type": "code",
   "execution_count": null,
   "metadata": {
    "deletable": false,
    "editable": false,
    "nbgrader": {
     "cell_type": "code",
     "checksum": "e3b17d19753156a2178eaae71f477239",
     "grade": true,
     "grade_id": "6test",
     "locked": true,
     "points": 1,
     "schema_version": 3,
     "solution": false,
     "task": false
    },
    "tags": [
     "problem_6_selfcheck"
    ]
   },
   "outputs": [],
   "source": [
    "#autograder cell\n",
    "# Check your answer\n",
    "@assert isapprox(M, L*U, atol = 1E-4)\n",
    "norm(M-L*U) # We have not covered norms of matrices and vectors yet in lecture, but\n",
    "            # but you can think of it as a genralized notion of ``length''. \n",
    "            # Hence, the norm will be small when all of the entries of the matrix are small\n",
    "            # A 100 x 100 matrix has 10,000 entries...a bit much to inspect one by one! "
   ]
  }
 ],
 "metadata": {
  "kernelspec": {
   "display_name": "Julia 1.5.0",
   "language": "julia",
   "name": "julia-1.5"
  },
  "language_info": {
   "file_extension": ".jl",
   "mimetype": "application/julia",
   "name": "julia",
   "version": "1.5.0"
  }
 },
 "nbformat": 4,
 "nbformat_minor": 4
}
