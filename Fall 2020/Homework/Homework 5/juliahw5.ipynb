{
 "cells": [
  {
   "cell_type": "markdown",
   "metadata": {
    "deletable": false,
    "editable": false,
    "nbgrader": {
     "cell_type": "markdown",
     "checksum": "bd4749f54f4b2d33ba77027da1df5d92",
     "grade": false,
     "grade_id": "cell-7054c6b15f9afef8",
     "locked": true,
     "schema_version": 3,
     "solution": false,
     "task": false
    }
   },
   "source": [
    "Unversity of Michigan ROB 101 - Computational Linear Algebra"
   ]
  },
  {
   "cell_type": "markdown",
   "metadata": {
    "deletable": false,
    "editable": false,
    "nbgrader": {
     "cell_type": "markdown",
     "checksum": "90029bcbdf4ec3483f714c75b8b27988",
     "grade": false,
     "grade_id": "cell-5c0f05cdc0d91a63",
     "locked": true,
     "schema_version": 3,
     "solution": false,
     "task": false
    }
   },
   "source": [
    "# Homework 5.  Linear independence, Least Squares and Regression\n",
    "### Due: 10/15 at 9 PM Eastern\n",
    "\n",
    "#### Purpose:  Learn to use Julia to compute linear independence and regression models\n",
    "- Skills: \n",
    "    - More practice writing functions\n",
    "    - Fitting lines and curves to data\n",
    "- Knowledge:\n",
    "    - Understand Regression models\n",
    "    - Building confidence with complex functions\n",
    "    \n",
    "#### Task:\n",
    "Complete cells in the notebook as instructed."
   ]
  },
  {
   "cell_type": "markdown",
   "metadata": {
    "deletable": false,
    "editable": false,
    "nbgrader": {
     "cell_type": "markdown",
     "checksum": "b1f1e1d657aae96e842d29546d958d3e",
     "grade": false,
     "grade_id": "cell-150aa480f359b08b",
     "locked": true,
     "schema_version": 3,
     "solution": false,
     "task": false
    }
   },
   "source": [
    "## Using an LU factorization to determine whether a matrix has independent columns.\n",
    "<img src = \"https://i.postimg.cc/DyKPg9KX/Pro-Tip-Linear-Independence.png\" width = 700>\n",
    "\n",
    "### Example: $$A = \\begin{bmatrix} 1&0&2\\\\2&-2&6\\\\3&4&2\\\\1&5&-3\\end{bmatrix} $$"
   ]
  },
  {
   "cell_type": "code",
   "execution_count": null,
   "metadata": {
    "deletable": false,
    "editable": false,
    "nbgrader": {
     "cell_type": "code",
     "checksum": "1956dcdc28ec0afabb905ecc07d1cf1c",
     "grade": false,
     "grade_id": "cell-c3c1012211d35808",
     "locked": true,
     "schema_version": 3,
     "solution": false,
     "task": false
    }
   },
   "outputs": [],
   "source": [
    "#Example:\n",
    "using LinearAlgebra\n",
    "#declaring the A matrix:\n",
    "A = [1 0 2; 2 -2 6; 3 4 2; 1 5 -3] \n",
    "#Using Julia's LU Factorization with Row Permuation\n",
    "(L, U, P) = lu(A'*A,check=false) # <---check = false avoids Julia doing something we do not need!\n",
    "@show diag(U) #Show diag(U) in the Output\n",
    "U"
   ]
  },
  {
   "cell_type": "markdown",
   "metadata": {
    "deletable": false,
    "editable": false,
    "nbgrader": {
     "cell_type": "markdown",
     "checksum": "62035721dee1b44e994d39d7559a1c8c",
     "grade": false,
     "grade_id": "cell-8cb875c216ef8fd7",
     "locked": true,
     "schema_version": 3,
     "solution": false,
     "task": false
    }
   },
   "source": [
    "Notice that the last entry of diag(U) is very close to zero but not exactly zero. This is often due to roundoff error. Treating U[3,3] as being identically zero, find $$x=\\begin{bmatrix}x_1\\\\x_2\\\\x_3  \\end{bmatrix} \\neq 0_{3 \\times 1}$$\n",
    "such that $A x = 0$. You will want to compute $x$ by hand! Yes, that is surprising in a jupyter notebook. Consult your \n",
    "textbook for how to determine $x$. It is not provided here. \n",
    "\n",
    "\n"
   ]
  },
  {
   "cell_type": "code",
   "execution_count": null,
   "metadata": {
    "deletable": false,
    "nbgrader": {
     "cell_type": "code",
     "checksum": "701e9ce89a9575b4b89e347c75b760e4",
     "grade": false,
     "grade_id": "cell-0507e04648baba9f",
     "locked": false,
     "schema_version": 3,
     "solution": true,
     "task": false
    }
   },
   "outputs": [],
   "source": [
    "# Given A \n",
    "A = [1 0 2; 2 -2 6; 3 4 2; 1 5 -3] \n",
    "#Use the LU factorization from above to calculate x\n",
    "# Place your x-vector here (declare like x = )\n",
    "# your code here\n",
    "throw(ErrorException())"
   ]
  },
  {
   "cell_type": "code",
   "execution_count": null,
   "metadata": {
    "deletable": false,
    "editable": false,
    "nbgrader": {
     "cell_type": "code",
     "checksum": "3cc4e3cef9b3cfe8d7b7dfd18d53da93",
     "grade": true,
     "grade_id": "cell-4d02da8bef32e9fa",
     "locked": true,
     "points": 1,
     "schema_version": 3,
     "solution": false,
     "task": false
    }
   },
   "outputs": [],
   "source": [
    "#autograder cell\n",
    "@assert(x != [0,0,0])\n",
    "@assert(isapprox(A*x, [0, 0, 0, 0], atol = 1E-4))"
   ]
  },
  {
   "cell_type": "code",
   "execution_count": null,
   "metadata": {
    "deletable": false,
    "editable": false,
    "nbgrader": {
     "cell_type": "code",
     "checksum": "1b48d1b6821aaa288da2c1d4f04457ee",
     "grade": false,
     "grade_id": "cell-88119b26d7a2bec0",
     "locked": true,
     "schema_version": 3,
     "solution": false,
     "task": false
    }
   },
   "outputs": [],
   "source": [
    "#Example\n",
    "using Random\n",
    "Random.seed!(20201002);  #it's a date!\n",
    "A=randn(50,40); A1=A[:,1:15]; A2=A[:,2:35];A3=randn(50,5)\n",
    "A=[A1 A2 A3] # building a matrix with dependent columns\n",
    "#Using Julia's LU Factorization with Row Permuation\n",
    "(L, U, P) = lu(A'*A,check=false) # <---check = false avoids Julia doing something we do not need!\n",
    "diag(U) #Show diag(U) in the Output"
   ]
  },
  {
   "cell_type": "markdown",
   "metadata": {
    "deletable": false,
    "editable": false,
    "nbgrader": {
     "cell_type": "markdown",
     "checksum": "424d6520f17e8586782eb1ff531548da",
     "grade": false,
     "grade_id": "cell-9f2ddaefebe47086",
     "locked": true,
     "schema_version": 3,
     "solution": false,
     "task": false
    }
   },
   "source": [
    "Notice that diag(U) is too big to see all of its entries! How can we check whether it has any zero elements? "
   ]
  },
  {
   "cell_type": "code",
   "execution_count": null,
   "metadata": {
    "deletable": false,
    "editable": false,
    "nbgrader": {
     "cell_type": "code",
     "checksum": "88c162f8298771d8d99302811256d668",
     "grade": false,
     "grade_id": "cell-9abc20c9609985e6",
     "locked": true,
     "schema_version": 3,
     "solution": false,
     "task": false
    }
   },
   "outputs": [],
   "source": [
    "# Run me and use me later\n",
    "temp=[-6 11 -2 -1e-12 2e-3 pi]\n",
    "@show minimum(temp) # finds minimum value of the vector temp\n",
    "@show abs_temp=abs.(temp) \n",
    "# note the . following abs. It means to apply the absolute value\n",
    "# to each entry of temp\n",
    "@show minimum(abs_temp)\n",
    "#\n",
    "# pay extra attention here\n",
    "diagU=diag(U) # diagonal of U\n",
    "min_value=minimum(abs.(diagU)) "
   ]
  },
  {
   "cell_type": "markdown",
   "metadata": {
    "deletable": false,
    "editable": false,
    "nbgrader": {
     "cell_type": "markdown",
     "checksum": "59b8fb95dbb70c5f711621b299acc0b7",
     "grade": false,
     "grade_id": "cell-674b13e76e5add51",
     "locked": true,
     "schema_version": 3,
     "solution": false,
     "task": false
    }
   },
   "source": [
    "### Problem 1. Build a function that returns *true* if the columns of A are Independent and *false* if they are Dependent\n",
    "Use the example above to help you.  Remember, in real computations, zero is rarely identically the zero number. You have to set a threshold! How small should zero be? How can you return ``true`` vs ``false`` based on the size of a value? Hint, look through your code in juliahw3. Yes, we do expect you to keep track of what you learn. This is part of making the transition from High School to College. "
   ]
  },
  {
   "cell_type": "code",
   "execution_count": null,
   "metadata": {
    "deletable": false,
    "nbgrader": {
     "cell_type": "code",
     "checksum": "dadccfdf7300ec42a9198eee2f20436e",
     "grade": false,
     "grade_id": "1",
     "locked": false,
     "schema_version": 3,
     "solution": true,
     "task": false
    }
   },
   "outputs": [],
   "source": [
    "function is_independent(A)\n",
    "    #if the columns of A are independent, return true\n",
    "    #if they are dependent, return false\n",
    "    \n",
    "    # your code here\n",
    "    throw(ErrorException())\n",
    "end"
   ]
  },
  {
   "cell_type": "code",
   "execution_count": null,
   "metadata": {
    "deletable": false,
    "editable": false,
    "nbgrader": {
     "cell_type": "code",
     "checksum": "f1bb7ab294173f9849576f209244ce93",
     "grade": true,
     "grade_id": "1aTest",
     "locked": true,
     "points": 1,
     "schema_version": 3,
     "solution": false,
     "task": false
    }
   },
   "outputs": [],
   "source": [
    "A = [1 0 2; 2 -2 6; 3 4 2; 1 5 -3] \n",
    "is_independent(A)"
   ]
  },
  {
   "cell_type": "code",
   "execution_count": null,
   "metadata": {
    "deletable": false,
    "editable": false,
    "nbgrader": {
     "cell_type": "code",
     "checksum": "fa9790b2f509c5a090c8313d4a904e83",
     "grade": true,
     "grade_id": "1bTest",
     "locked": true,
     "points": 1,
     "schema_version": 3,
     "solution": false,
     "task": false
    }
   },
   "outputs": [],
   "source": [
    "aInd = [7   2   1   2   9;1   1   6   8   2;1   10   5   10   7;8   6   8   2   3;8   4   5   5   10]\n",
    "is_independent(aInd)"
   ]
  },
  {
   "cell_type": "markdown",
   "metadata": {
    "deletable": false,
    "editable": false,
    "nbgrader": {
     "cell_type": "markdown",
     "checksum": "a19d9d7446f30f8412be1fe4f0258b36",
     "grade": false,
     "grade_id": "cell-d861d3693cfd928d",
     "locked": true,
     "schema_version": 3,
     "solution": false,
     "task": false
    }
   },
   "source": [
    "### Problem 2.  Existence and Uniqueness of Solutions.\n",
    "<img src = \"https://i.postimg.cc/3wHhJJMw/Semi-Pro-Tip-Number-Linearly-Independent-Vectors.png\" width = 600>\n",
    "\n",
    "\n",
    "### a) Consider the system of linear equations give below,\n",
    "$$\\begin{equation}\n",
    "\\label{eq:LinearCombinationViaLU}\n",
    "\\underbrace{\\left[\\begin{array}{rrr}\n",
    " 1 & -2 &  1 \\\\\n",
    " 2 &  0 & 0 \\\\\n",
    " 3 &  -3 &  1 \\\\\n",
    " 4 &  1 &  0 \\\\\n",
    " 5 &  -4 &  1\n",
    " \\end{array}\\right]}_{A} \\underbrace{\\left[\\begin{array}{c}\n",
    "x_1\\\\ x_2\\\\x_3 \\end{array}\\right]}_{x} =  \\underbrace{\\left[\\begin{array}{r}\n",
    "9\\\\ 4\\\\ 16 \\\\5 \\\\ 23 \\end{array}\\right]}_{b}.\n",
    "\\end{equation}$$\n",
    "### Based on the method described above, perform the relevant LU Factorizations associated with the matrices $A$ and $[A ~~b]$, respectively. Store the diagonals of the two upper triangular matrices in ``diagU`` and ``diagUe``. \n",
    "\n",
    "## Warning: The autograder is looking for their diagonals and not $U$ or $U_e$! \n"
   ]
  },
  {
   "cell_type": "code",
   "execution_count": null,
   "metadata": {
    "deletable": false,
    "nbgrader": {
     "cell_type": "code",
     "checksum": "1a322f090cc2d27618677718c8cffd31",
     "grade": false,
     "grade_id": "2a",
     "locked": false,
     "schema_version": 3,
     "solution": true,
     "task": false
    }
   },
   "outputs": [],
   "source": [
    "# a) part 1\n",
    "A = [1 -2 1; 2 0 0; 3 -3 1; 4 1 0; 5 -4 1]\n",
    "b = [9; 4; 16; 5; 23]\n",
    "# Perform relevant LU Factorizations associated with the matrices A and [A b] respectively.\n",
    "# Store the diagonals of the two upper triangular matrices in variables called:\n",
    "#              diagU and diagUe\n",
    "# your code here\n",
    "throw(ErrorException())"
   ]
  },
  {
   "cell_type": "code",
   "execution_count": null,
   "metadata": {
    "deletable": false,
    "editable": false,
    "nbgrader": {
     "cell_type": "code",
     "checksum": "86748497750eeeab287ea87c68d789c4",
     "grade": true,
     "grade_id": "2aTest",
     "locked": true,
     "points": 1,
     "schema_version": 3,
     "solution": false,
     "task": false
    }
   },
   "outputs": [],
   "source": [
    "#autograder cell"
   ]
  },
  {
   "cell_type": "markdown",
   "metadata": {
    "deletable": false,
    "editable": false,
    "nbgrader": {
     "cell_type": "markdown",
     "checksum": "b321c81ceda403701353846dc643a746",
     "grade": false,
     "grade_id": "cell-e5428f32a9400d5d",
     "locked": true,
     "schema_version": 3,
     "solution": false,
     "task": false
    }
   },
   "source": [
    "### b) Based on your analysis of the diagonals, state whether  $Ax = b$ has a solution, or if it cannot be determined by only looking at the diagonals. \n",
    "### Provide your answer by uncommenting one of the following lines.\n",
    "\n",
    "To \"uncomment\" a line, just delete the # character in the front of the line.  This will change that line from a comment to actual, executable code."
   ]
  },
  {
   "cell_type": "code",
   "execution_count": null,
   "metadata": {},
   "outputs": [],
   "source": [
    "# Ans=false\n",
    "# Ans=true\n",
    "# Ans=Array{Int}(undef, (1, 1)) "
   ]
  },
  {
   "cell_type": "code",
   "execution_count": null,
   "metadata": {
    "deletable": false,
    "editable": false,
    "nbgrader": {
     "cell_type": "code",
     "checksum": "977e144d6219b74f8a96f0a96ea48c86",
     "grade": true,
     "grade_id": "cell-c7c00d831328e560",
     "locked": true,
     "points": 1,
     "schema_version": 3,
     "solution": false,
     "task": false
    }
   },
   "outputs": [],
   "source": [
    "#autograder cell"
   ]
  },
  {
   "cell_type": "markdown",
   "metadata": {
    "deletable": false,
    "editable": false,
    "nbgrader": {
     "cell_type": "markdown",
     "checksum": "865ce149b40bfb1487bb3fc55e35ec06",
     "grade": false,
     "grade_id": "cell-bcd1da30aa213321",
     "locked": true,
     "schema_version": 3,
     "solution": false,
     "task": false
    }
   },
   "source": [
    "### Problem 3.  The Norm of a Vector\n",
    "<img src = \"https://i.postimg.cc/ZnngJ7zk/normDef.jpg\" width = 700>\n",
    "\n",
    "### a)  Calculate the Norm of vector v1 $$v1 = \\begin{bmatrix}-1\\\\4\\\\7\\\\3\\\\6\\\\2\\end{bmatrix}$$\n",
    "\n",
    "Hint:  Use the definition above, taken from the ROB 101 booklet."
   ]
  },
  {
   "cell_type": "code",
   "execution_count": null,
   "metadata": {
    "deletable": false,
    "nbgrader": {
     "cell_type": "code",
     "checksum": "1763064494ca78effdd67228736dd62b",
     "grade": false,
     "grade_id": "3a",
     "locked": false,
     "schema_version": 3,
     "solution": true,
     "task": false
    }
   },
   "outputs": [],
   "source": [
    "#vector v1 is declared for you\n",
    "v1 = [-1; 4; 7; 3; 6; 2]\n",
    "#store the norm into a variable called normv1\n",
    "# your code here\n",
    "throw(ErrorException())"
   ]
  },
  {
   "cell_type": "code",
   "execution_count": null,
   "metadata": {
    "deletable": false,
    "editable": false,
    "nbgrader": {
     "cell_type": "code",
     "checksum": "e0f9b37215df3f1477ac4327951a5fec",
     "grade": true,
     "grade_id": "3aTest",
     "locked": true,
     "points": 1,
     "schema_version": 3,
     "solution": false,
     "task": false
    }
   },
   "outputs": [],
   "source": [
    "#autograder cell"
   ]
  },
  {
   "cell_type": "markdown",
   "metadata": {
    "deletable": false,
    "editable": false,
    "nbgrader": {
     "cell_type": "markdown",
     "checksum": "b386e902fed9f72766ea153e340873e8",
     "grade": false,
     "grade_id": "cell-7f7004e1bdc2513b",
     "locked": true,
     "schema_version": 3,
     "solution": false,
     "task": false
    }
   },
   "source": [
    "### b.  Given a vector of an unknown length, write a function that calculates the norm of the vector\n"
   ]
  },
  {
   "cell_type": "code",
   "execution_count": null,
   "metadata": {
    "deletable": false,
    "nbgrader": {
     "cell_type": "code",
     "checksum": "d6a081203d5756a812d67c63795f1d15",
     "grade": false,
     "grade_id": "3b",
     "locked": false,
     "schema_version": 3,
     "solution": true,
     "task": false
    }
   },
   "outputs": [],
   "source": [
    "#Fill in the necessary elements of the function\n",
    "function my_norm(v)\n",
    "    #initializing a sum variable to be zero\n",
    "    sumSquares = 0\n",
    "    #write a For loop that adds up the squares of all the elements of v\n",
    "    # your code here\n",
    "    throw(ErrorException())\n",
    "    #Now take the root of the sum of all the squares, and return the value from the function\n",
    "    # your code here\n",
    "    throw(ErrorException())\n",
    "end"
   ]
  },
  {
   "cell_type": "code",
   "execution_count": null,
   "metadata": {
    "deletable": false,
    "editable": false,
    "nbgrader": {
     "cell_type": "code",
     "checksum": "e7fcf853623b6078b48909666b56c705",
     "grade": true,
     "grade_id": "3bTest",
     "locked": true,
     "points": 1,
     "schema_version": 3,
     "solution": false,
     "task": false
    }
   },
   "outputs": [],
   "source": [
    "#check that your function returns the same value as you got earlier for normv1\n",
    "my_norm(v1) == normv1"
   ]
  },
  {
   "cell_type": "markdown",
   "metadata": {
    "deletable": false,
    "editable": false,
    "nbgrader": {
     "cell_type": "markdown",
     "checksum": "086228dda36abe6e678ebd0f02c1f588",
     "grade": false,
     "grade_id": "cell-c3c30c2d1d633ed0",
     "locked": true,
     "schema_version": 3,
     "solution": false,
     "task": false
    }
   },
   "source": [
    "**The secret:  Julia has a Built-in Norm function in the linear algebra package, called norm().  You can use it the exact same way as your my-norm() function.**\n",
    "\n",
    "Note:  You still must complete the function my_norm() as indicated to receive points.  This is not because we want you to do unnecessary busy work, it is because we think it is important that you understand what Julia is doing behind the scenes when you use an included function."
   ]
  },
  {
   "cell_type": "markdown",
   "metadata": {
    "deletable": false,
    "editable": false,
    "nbgrader": {
     "cell_type": "markdown",
     "checksum": "bd8708a37010f6742e3b4b7d54eaf749",
     "grade": false,
     "grade_id": "cell-6a97d10fc9b75dc3",
     "locked": true,
     "schema_version": 3,
     "solution": false,
     "task": false
    }
   },
   "source": [
    "### Problem 4. Least Squares Solutions to linear equations\n",
    "<img src = \"https://i.postimg.cc/7hMvLBKm/LSQ.jpg\" width = 700>\n",
    "\n",
    "### a)  Find a least squares solution to $Ax = b$, given\n",
    "$$\\begin{equation}\n",
    "\\label{eq:LeastSquareSolExample}\n",
    "\\underbrace{\\left[\\begin{array}{rrr}\n",
    " 1.0 & 1.0 \\\\\n",
    " 2.0 & 1.0 \\\\\n",
    " 4.0 & 1.0 \\\\\n",
    " 5.0 & 1.0 \\\\\n",
    " 7.0  & 1.0\n",
    " \\end{array}\\right]}_{A} \\underbrace{\\left[\\begin{array}{c}\n",
    "x_1 \\\\ x_2  \\end{array}\\right]}_{x} =  \\underbrace{\\left[\\begin{array}{r}\n",
    "4 \\\\  8 \\\\ 10 \\\\ 12 \\\\ 18 \\end{array}\\right]}_{b},\n",
    "\\end{equation}$$\n",
    "A reminder about LU with permutations for solving $Ax = b$:\n",
    "<img src= \"https://i.postimg.cc/D0NFCzXc/LU-P.jpg\" width = 700>"
   ]
  },
  {
   "cell_type": "code",
   "execution_count": null,
   "metadata": {},
   "outputs": [],
   "source": [
    "#Declare A and b\n",
    "A = [1 1; 2 1 ; 2 1; 5 1; 7 1]\n",
    "b = [4 8 10 12 18]'"
   ]
  },
  {
   "cell_type": "code",
   "execution_count": null,
   "metadata": {},
   "outputs": [],
   "source": [
    "#Compute A' * A and store in a variable aTransA\n",
    "aTransA = A'*A"
   ]
  },
  {
   "cell_type": "code",
   "execution_count": null,
   "metadata": {},
   "outputs": [],
   "source": [
    "#Compute A' * b and store in a variable aTransB\n",
    "aTransB = A'*b"
   ]
  },
  {
   "cell_type": "code",
   "execution_count": null,
   "metadata": {
    "deletable": false,
    "editable": false,
    "nbgrader": {
     "cell_type": "code",
     "checksum": "c3929c1bc67846c7438fd469bc6c45c0",
     "grade": false,
     "grade_id": "cell-510eb0028f09181c",
     "locked": true,
     "schema_version": 3,
     "solution": false,
     "task": false
    }
   },
   "outputs": [],
   "source": [
    "# Run me, don't change me. I am providing some nice functions for you.\n",
    "##Forward and Back substitution functions from HW04\n",
    "\n",
    "#This is a back substitution function.  It solves for x in an equation Ux = b, where U is upper triangular.\n",
    "# The function assumes the diagonal elements are non-zero. You can change that if you wish!\n",
    "function backwardsub(U, b)\n",
    "    n = length(b)\n",
    "    x = Vector{Float64}(undef, n) \n",
    "    x[n] = b[n]/U[n,n]\n",
    "    for i in n-1:-1:1\n",
    "        x[i]=(b[i]- (U[i,(i+1):n])' *x[(i+1):n] )./U[i,i]\n",
    "    end\n",
    "    return x\n",
    "end\n",
    "#This is a forward substitution function. It solves for x in an equation Lx = b, where L is lower triangular.\n",
    "# The function assumes the diagonal elements are non-zero. You can change that if you wish!\n",
    "function forwardsub(L, b)\n",
    "    n = length(b)\n",
    "    x = Vector{Float64}(undef, n); \n",
    "    x[1] = b[1]/L[1,1] \n",
    "    for i = 2:n \n",
    "        x[i]=(b[i]- (L[i,1:i-1])' *x[1:i-1] )./L[i,i] \n",
    "    end\n",
    "    return x\n",
    "end"
   ]
  },
  {
   "cell_type": "code",
   "execution_count": null,
   "metadata": {
    "deletable": false,
    "nbgrader": {
     "cell_type": "code",
     "checksum": "6a1c7fa6789ae4e67560067a05eec64c",
     "grade": false,
     "grade_id": "4a",
     "locked": false,
     "schema_version": 3,
     "solution": true,
     "task": false
    }
   },
   "outputs": [],
   "source": [
    "#Compute x by solving    aTransA * x = aTransB\n",
    "#store x in a variable called xStar\n",
    "\n",
    "#use an LU factorization with permutations, and the forwardsub() and backwardsub() functions provided\n",
    "# your code here\n",
    "throw(ErrorException())\n",
    "\n",
    "#Hint:  Make sure you are solving A' * A x = A' b"
   ]
  },
  {
   "cell_type": "code",
   "execution_count": null,
   "metadata": {
    "deletable": false,
    "editable": false,
    "nbgrader": {
     "cell_type": "code",
     "checksum": "538f83480902c7012ab1e4144fbb198d",
     "grade": true,
     "grade_id": "4aTest",
     "locked": true,
     "points": 1,
     "schema_version": 3,
     "solution": false,
     "task": false
    }
   },
   "outputs": [],
   "source": [
    "#autograder cell"
   ]
  },
  {
   "cell_type": "markdown",
   "metadata": {
    "deletable": false,
    "editable": false,
    "nbgrader": {
     "cell_type": "markdown",
     "checksum": "749d5a31029628c36e834dc0d3fa121e",
     "grade": false,
     "grade_id": "cell-1c6af7195d4a69fd",
     "locked": true,
     "schema_version": 3,
     "solution": false,
     "task": false
    }
   },
   "source": [
    "### b.  Compute the error and determine if we found an exact solution\n",
    "Remember, e* = Ax* - b"
   ]
  },
  {
   "cell_type": "code",
   "execution_count": null,
   "metadata": {},
   "outputs": [],
   "source": [
    "#Compute e* \n",
    "eStar = A*xStar-b"
   ]
  },
  {
   "cell_type": "code",
   "execution_count": null,
   "metadata": {},
   "outputs": [],
   "source": [
    "#Compute ||e*|| \n",
    "normE = norm(xStar)"
   ]
  },
  {
   "cell_type": "code",
   "execution_count": null,
   "metadata": {},
   "outputs": [],
   "source": [
    "#Compute ||e*||^2 \n",
    "normEsquared = normE^2"
   ]
  },
  {
   "cell_type": "markdown",
   "metadata": {
    "deletable": false,
    "nbgrader": {
     "cell_type": "markdown",
     "checksum": "41a2db25eea6afd2e78f703f5e709c99",
     "grade": true,
     "grade_id": "4c",
     "locked": false,
     "points": 1,
     "schema_version": 3,
     "solution": true,
     "task": false
    }
   },
   "source": [
    "### c.  Does this system have an exact solution?  Explain why or why not.\n",
    "\n",
    "YOUR ANSWER HERE"
   ]
  },
  {
   "cell_type": "markdown",
   "metadata": {
    "deletable": false,
    "editable": false,
    "nbgrader": {
     "cell_type": "markdown",
     "checksum": "c1096a60c30cf76ea0510739de83a504",
     "grade": false,
     "grade_id": "cell-75cd0955c7f561e6",
     "locked": true,
     "schema_version": 3,
     "solution": false,
     "task": false
    }
   },
   "source": [
    "### Problem 5.  Linear fitting with Least Squares\n",
    "Recall that a linear regression can be written as the linear equations:\n",
    "$$y_i = m x_i +b = \\begin{bmatrix} x_i & 1 \\end{bmatrix} \\begin{bmatrix} m \\\\ b \\end{bmatrix},  ~~1 \\le i \\le N,$$ \n",
    "Where N is the number of data points.\n",
    "\n",
    "In Matrix Form:\n",
    "$$\\begin{equation}\n",
    "    \\label{eq:FirstRegressionModel02}\n",
    "\\underbrace{\\begin{bmatrix} y_1 \\\\ y_2 \\\\ \\vdots \\\\y_N \\end{bmatrix}}_{Y} = \\underbrace{\\left[\\begin{array}{cc}\n",
    "    x_1 & 1 \\\\\n",
    "    x_2  & 1 \\\\\n",
    "    \\vdots & 1 \\\\\n",
    "    x_N & 1\n",
    "\\end{array}  \\right]}_{\\Phi} \\cdot  \\underbrace{\\begin{bmatrix} m \\\\ b \\end{bmatrix}}_{\\alpha},\n",
    "\\end{equation}$$\n",
    "Where $Y$ is the vector of $y$-data, $\\Phi$ is called the regressor matrix and $\\alpha$ is the vector of unknown coefficients that parameterize the  model."
   ]
  },
  {
   "cell_type": "code",
   "execution_count": null,
   "metadata": {
    "deletable": false,
    "editable": false,
    "nbgrader": {
     "cell_type": "code",
     "checksum": "b0c1ebd2b7a9727171e1eb4cae39f451",
     "grade": false,
     "grade_id": "cell-10bd277727ae3ce8",
     "locked": true,
     "schema_version": 3,
     "solution": false,
     "task": false
    }
   },
   "outputs": [],
   "source": [
    "#This cell generates the data\n",
    "using Random\n",
    "Random.seed!(1234)\n",
    "noise = randn(300, 1)\n",
    "xvals = collect(0:.1:29.9)\n",
    "yvals = 1/2*xvals + noise\n",
    "using Plots\n",
    "scatter(xvals, yvals)"
   ]
  },
  {
   "cell_type": "markdown",
   "metadata": {
    "deletable": false,
    "editable": false,
    "nbgrader": {
     "cell_type": "markdown",
     "checksum": "378706cf9ddede9bb8155ba9812c0167",
     "grade": false,
     "grade_id": "cell-c4ef99ed8d5bec04",
     "locked": true,
     "schema_version": 3,
     "solution": false,
     "task": false
    }
   },
   "source": [
    "### a)  Create the Y and $\\Phi$ Matrices for the data.\n",
    "Look back at the problem 5 cell for help identifying which data goes in which matrix."
   ]
  },
  {
   "cell_type": "code",
   "execution_count": null,
   "metadata": {},
   "outputs": [],
   "source": [
    "#Declare Y and Phi below\n",
    "Y = yvals\n",
    "Phi = [xvals ones(300,1)]"
   ]
  },
  {
   "cell_type": "markdown",
   "metadata": {
    "deletable": false,
    "editable": false,
    "nbgrader": {
     "cell_type": "markdown",
     "checksum": "04b0b142ea00cfd701367e3a1ec56d0e",
     "grade": false,
     "grade_id": "cell-c05c7d3c38a21cdd",
     "locked": true,
     "schema_version": 3,
     "solution": false,
     "task": false
    }
   },
   "source": [
    "### b) Find the least squares solution to $Y =  \\Phi  \\alpha $  \n",
    "Hint:  Follow the steps you followed in Problem 4 to use the LU factorization, except we have $\\Phi$ instead of $A$, $\\alpha$ instead of $x$, and $Y$ instead of $b$"
   ]
  },
  {
   "cell_type": "code",
   "execution_count": null,
   "metadata": {
    "deletable": false,
    "nbgrader": {
     "cell_type": "code",
     "checksum": "8e9083e70555473e456fae78824c94fa",
     "grade": false,
     "grade_id": "5b",
     "locked": false,
     "schema_version": 3,
     "solution": true,
     "task": false
    }
   },
   "outputs": [],
   "source": [
    "#compute alpha* and return it in a variable called alphaStar\n",
    "# your code here\n",
    "throw(ErrorException())"
   ]
  },
  {
   "cell_type": "code",
   "execution_count": null,
   "metadata": {
    "deletable": false,
    "editable": false,
    "nbgrader": {
     "cell_type": "code",
     "checksum": "420840e476df8d8668c1b543ca9f201d",
     "grade": true,
     "grade_id": "5bTest",
     "locked": true,
     "points": 1,
     "schema_version": 3,
     "solution": false,
     "task": false
    }
   },
   "outputs": [],
   "source": [
    "#autograder cell"
   ]
  },
  {
   "cell_type": "markdown",
   "metadata": {
    "deletable": false,
    "editable": false,
    "nbgrader": {
     "cell_type": "markdown",
     "checksum": "9bc0109a16fe30a183ea7fad344a13ac",
     "grade": false,
     "grade_id": "cell-f0ad88b44f040fbf",
     "locked": true,
     "schema_version": 3,
     "solution": false,
     "task": false
    }
   },
   "source": [
    "### c)  Plot the least squares solution on the same plot as the scatter.  \n",
    "Reminder: $\\alpha = \\begin{bmatrix} m \\\\ b \\end{bmatrix}$ and $Y = mx + b$"
   ]
  },
  {
   "cell_type": "code",
   "execution_count": null,
   "metadata": {
    "deletable": false,
    "nbgrader": {
     "cell_type": "code",
     "checksum": "1c982649bdbfd13731200be1be0238f6",
     "grade": true,
     "grade_id": "5c",
     "locked": false,
     "points": 1,
     "schema_version": 3,
     "solution": true,
     "task": false
    }
   },
   "outputs": [],
   "source": [
    "#Plot the regression solution on the same plot.  Hint: Use plot!()\n",
    "# your code here\n",
    "throw(ErrorException())\n",
    "\n",
    "#hint:  if you are getting a MethodError: no method matching +(::Array{Float64,1}, ::Float64),\n",
    "#check that you are not trying to add a scalar to an array. "
   ]
  },
  {
   "cell_type": "markdown",
   "metadata": {
    "deletable": false,
    "editable": false,
    "nbgrader": {
     "cell_type": "markdown",
     "checksum": "bc2c17ab85b96ad7f65f5c1d078cef3e",
     "grade": false,
     "grade_id": "cell-1b7f7edcb554d72d",
     "locked": true,
     "schema_version": 3,
     "solution": false,
     "task": false
    }
   },
   "source": [
    "### d)  Compute the total squared error\n",
    "$$E_{tot} = \\sum_{i=1}^{5} (e_i)^2 = e^\\top e = ||e||^2= ||Y-\\Phi \\alpha ||^2.$$\n",
    "Use this equation to give an objective measure of how accurate your linear fit was."
   ]
  },
  {
   "cell_type": "code",
   "execution_count": null,
   "metadata": {
    "deletable": false,
    "nbgrader": {
     "cell_type": "code",
     "checksum": "3e37497fe765e6c05847671abc33b82a",
     "grade": false,
     "grade_id": "5d",
     "locked": false,
     "schema_version": 3,
     "solution": true,
     "task": false
    }
   },
   "outputs": [],
   "source": [
    "#Use whatever method you would like, but store the value in a variable totSquareError\n",
    "# your code here\n",
    "throw(ErrorException())"
   ]
  },
  {
   "cell_type": "code",
   "execution_count": null,
   "metadata": {
    "deletable": false,
    "editable": false,
    "nbgrader": {
     "cell_type": "code",
     "checksum": "82407d750230df4dbfb60976129a7421",
     "grade": true,
     "grade_id": "5dTest",
     "locked": true,
     "points": 1,
     "schema_version": 3,
     "solution": false,
     "task": false
    }
   },
   "outputs": [],
   "source": [
    "#autograder cell"
   ]
  },
  {
   "cell_type": "markdown",
   "metadata": {
    "deletable": false,
    "editable": false,
    "nbgrader": {
     "cell_type": "markdown",
     "checksum": "3b7731f60aa0a315a2151a8482a4fdea",
     "grade": false,
     "grade_id": "cell-b2d86f595f843656",
     "locked": true,
     "schema_version": 3,
     "solution": false,
     "task": false
    }
   },
   "source": [
    "### Problem 6.  Quadratic Fitting\n",
    "You can also fit a regression to a non-linear set of data.  It is still a \"linear regression\" even if the data itself is not a linear pattern.\n",
    "\n",
    "Writing out the quadratic regression equation $y_i = c_0 + c_1 x_i + c_2 x_i^2$ $,i=1,\\cdots,N$ in matrix form yields\n",
    "\n",
    "$$\\underbrace{\\left[ \\begin{array}{c} y_1 \\\\ y_2 \\\\ \\vdots \\\\ y_N \\end{array} \\right]}_{Y} =\n",
    " \\underbrace{\\left[ \\begin{array}{ccc} 1 & x_1 & (x_1)^2 \\\\ 1 & x_2 & (x_2)^2 \\\\ \\vdots & \\vdots \\\\ 1 & x_N & (x_N)^2 \\end{array} \\right]}_{\\Phi}\n",
    " \\underbrace{\\left[ \\begin{array}{c} c_0 \\\\ c_1 \\\\ c_2 \\end{array} \\right] }_{\\alpha},\n",
    "$$"
   ]
  },
  {
   "cell_type": "code",
   "execution_count": null,
   "metadata": {
    "deletable": false,
    "editable": false,
    "nbgrader": {
     "cell_type": "code",
     "checksum": "a9972df1e2050e45d94bc88ee4fd9762",
     "grade": false,
     "grade_id": "cell-bc538c625dd23ce5",
     "locked": true,
     "schema_version": 3,
     "solution": false,
     "task": false
    }
   },
   "outputs": [],
   "source": [
    "#This cell generates the data\n",
    "using Distributions\n",
    "using Plots\n",
    "Random.seed!(56789)\n",
    "f(x) = 3*x+2*x.^2 \n",
    "N=300\n",
    "x=rand(Uniform(-2,2),300,1)\n",
    "x=sort(x,dims = 1)\n",
    "noise=rand(Uniform(-0.5,0.5),300,1)\n",
    "ydata=f(x) + noise\n",
    "scatter(x,ydata)"
   ]
  },
  {
   "cell_type": "markdown",
   "metadata": {
    "deletable": false,
    "editable": false,
    "nbgrader": {
     "cell_type": "markdown",
     "checksum": "d1c364b830d352ad4618951891e47eb4",
     "grade": false,
     "grade_id": "cell-fcce3e11667b8e86",
     "locked": true,
     "schema_version": 3,
     "solution": false,
     "task": false
    }
   },
   "source": [
    "### a)  Create the $Y$ and $\\Phi$ Matrices "
   ]
  },
  {
   "cell_type": "code",
   "execution_count": null,
   "metadata": {},
   "outputs": [],
   "source": [
    "#Declare your matrices below\n",
    "phi = [ones(N,1) x x.^2]\n",
    "Y = ydata"
   ]
  },
  {
   "cell_type": "markdown",
   "metadata": {
    "deletable": false,
    "editable": false,
    "nbgrader": {
     "cell_type": "markdown",
     "checksum": "4dac5f50316d13a1988e9c88910b3389",
     "grade": false,
     "grade_id": "cell-7f7721e911822263",
     "locked": true,
     "schema_version": 3,
     "solution": false,
     "task": false
    }
   },
   "source": [
    "### b) Find the least squares solution to $Y =  \\Phi  \\alpha $ "
   ]
  },
  {
   "cell_type": "code",
   "execution_count": null,
   "metadata": {
    "deletable": false,
    "nbgrader": {
     "cell_type": "code",
     "checksum": "78b6e1294896a350e17c2ee49c107bba",
     "grade": false,
     "grade_id": "6b",
     "locked": false,
     "schema_version": 3,
     "solution": true,
     "task": false
    }
   },
   "outputs": [],
   "source": [
    "#compute alpha* and return it in a variable called alphaStar\n",
    "# your code here\n",
    "throw(ErrorException())"
   ]
  },
  {
   "cell_type": "code",
   "execution_count": null,
   "metadata": {
    "deletable": false,
    "editable": false,
    "nbgrader": {
     "cell_type": "code",
     "checksum": "1c86d6f69fd956ce06ba0d763ef02047",
     "grade": true,
     "grade_id": "6bTest",
     "locked": true,
     "points": 1,
     "schema_version": 3,
     "solution": false,
     "task": false
    }
   },
   "outputs": [],
   "source": [
    "#autograder cell"
   ]
  },
  {
   "cell_type": "markdown",
   "metadata": {
    "deletable": false,
    "editable": false,
    "nbgrader": {
     "cell_type": "markdown",
     "checksum": "5a3d4b3fecba610eef785526daf2b157",
     "grade": false,
     "grade_id": "cell-35307a6d5ee01fe9",
     "locked": true,
     "schema_version": 3,
     "solution": false,
     "task": false
    }
   },
   "source": [
    "### c)  Plot the least squares regression on the same plot as the scatter\n",
    "Remember: $ \\alpha = \\left[ \\begin{array}{c} c_0 \\\\ c_1 \\\\ c_2 \\end{array} \\right]$, and the fit is $y_i = c_0 + c_1 x_i + c_2 x_i^2$"
   ]
  },
  {
   "cell_type": "code",
   "execution_count": null,
   "metadata": {
    "deletable": false,
    "nbgrader": {
     "cell_type": "code",
     "checksum": "04a943f1951266f54db9e717b9b93d57",
     "grade": true,
     "grade_id": "6c",
     "locked": false,
     "points": 1,
     "schema_version": 3,
     "solution": true,
     "task": false
    }
   },
   "outputs": [],
   "source": [
    "#Declare y_fit and plot it on the same graph with plot!()\n",
    "# your code here\n",
    "throw(ErrorException())"
   ]
  },
  {
   "cell_type": "markdown",
   "metadata": {
    "deletable": false,
    "editable": false,
    "nbgrader": {
     "cell_type": "markdown",
     "checksum": "26a5dd3aec651ba8b26a887c5f8e242f",
     "grade": false,
     "grade_id": "cell-42028cf793620999",
     "locked": true,
     "schema_version": 3,
     "solution": false,
     "task": false
    }
   },
   "source": [
    "### d)  Compute the total squared error"
   ]
  },
  {
   "cell_type": "code",
   "execution_count": null,
   "metadata": {
    "deletable": false,
    "nbgrader": {
     "cell_type": "code",
     "checksum": "ccc0ceabbcdcc9b29f7ae3d9baad901d",
     "grade": false,
     "grade_id": "6d",
     "locked": false,
     "schema_version": 3,
     "solution": true,
     "task": false
    }
   },
   "outputs": [],
   "source": [
    "#Use whatever method you would like, but store the value in a variable totSquareError\n",
    "# your code here\n",
    "throw(ErrorException())"
   ]
  },
  {
   "cell_type": "code",
   "execution_count": null,
   "metadata": {
    "deletable": false,
    "editable": false,
    "nbgrader": {
     "cell_type": "code",
     "checksum": "32d28e90f2cdee31102a59b88f9dca97",
     "grade": true,
     "grade_id": "6dTest",
     "locked": true,
     "points": 1,
     "schema_version": 3,
     "solution": false,
     "task": false
    }
   },
   "outputs": [],
   "source": [
    "#autograder cell"
   ]
  }
 ],
 "metadata": {
  "@webio": {
   "lastCommId": null,
   "lastKernelId": null
  },
  "kernelspec": {
   "display_name": "Julia 1.5.0",
   "language": "julia",
   "name": "julia-1.5"
  },
  "language_info": {
   "file_extension": ".jl",
   "mimetype": "application/julia",
   "name": "julia",
   "version": "1.5.0"
  }
 },
 "nbformat": 4,
 "nbformat_minor": 4
}
