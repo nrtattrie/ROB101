{
 "cells": [
  {
   "cell_type": "markdown",
   "metadata": {
    "deletable": false,
    "editable": false,
    "nbgrader": {
     "cell_type": "markdown",
     "checksum": "01e0faadb47909bea689b41702f569b8",
     "grade": false,
     "grade_id": "cell-9c00a9a6f842d629",
     "locked": true,
     "schema_version": 3,
     "solution": false,
     "task": false
    }
   },
   "source": [
    "University of Michigan - ROB 101 Computational Linear Algebra"
   ]
  },
  {
   "cell_type": "markdown",
   "metadata": {
    "deletable": false,
    "editable": false,
    "nbgrader": {
     "cell_type": "markdown",
     "checksum": "37330f002d0767d4b146b444da1cb541",
     "grade": false,
     "grade_id": "cell-30883c1785aa86a6",
     "locked": true,
     "schema_version": 3,
     "solution": false,
     "task": false
    }
   },
   "source": [
    "# Homework 8.  Solutions of Non-Linear Equations\n",
    "### Due: 11/5 at 9 PM Eastern\n",
    "\n",
    "#### Purpose: Find roots of functions using several methods!\n",
    "- Skills\n",
    "    - Using algorithms to iteratively construct approximate solutions\n",
    "    - Passing functions to functions\n",
    "    - Learn to use the Bisection and Newton's methods for root-finding\n",
    "    - Using the Jacobian and Gradient in the Newton-Raphson Algorithm\n",
    "- Knowledge\n",
    "    - Creating functions that work on vector form equations\n",
    "    - Use linear approximations to find roots of functions\n",
    "    \n",
    "#### Task:\n",
    "Complete and run the cells below as directed."
   ]
  },
  {
   "cell_type": "markdown",
   "metadata": {
    "deletable": false,
    "editable": false,
    "nbgrader": {
     "cell_type": "markdown",
     "checksum": "1c98d5a9dc1a2c6860682c1574e028e8",
     "grade": false,
     "grade_id": "cell-d6fcd58691944470",
     "locked": true,
     "schema_version": 3,
     "solution": false,
     "task": false
    }
   },
   "source": [
    "### Problem 1.  Bisection for root finding\n",
    "### a)  Translate the pseudocode below into code, and use it to find the root of f(x)\n",
    " $$ f(x) = .2x^5 - 4(x-5)^3 + .7(x+2) -100 $$"
   ]
  },
  {
   "cell_type": "code",
   "execution_count": null,
   "metadata": {
    "deletable": false,
    "editable": false,
    "nbgrader": {
     "cell_type": "code",
     "checksum": "466b2b713d4bacb4fba5e366a711ca14",
     "grade": false,
     "grade_id": "cell-523a3d73a26704c4",
     "locked": true,
     "schema_version": 3,
     "solution": false,
     "task": false
    }
   },
   "outputs": [],
   "source": [
    "#f(x) is defined and plotted for you\n",
    "f(x) = .2x.^5 - .4(x-5).^3 + .7(x +2) - 100\n",
    "z(x) = 0\n",
    "using Plots; \n",
    "gr();\n",
    "p = plot(f, -5, 5)\n",
    "plot!(z, -5, 5)"
   ]
  },
  {
   "cell_type": "markdown",
   "metadata": {
    "deletable": false,
    "editable": false,
    "nbgrader": {
     "cell_type": "markdown",
     "checksum": "d2f9314a57380383d5f99758faf5fe23",
     "grade": false,
     "grade_id": "cell-62ccb65e2c9db3b2",
     "locked": true,
     "schema_version": 3,
     "solution": false,
     "task": false
    }
   },
   "source": [
    "<img src = \"https://i.postimg.cc/zB5TLDrQ/bisect-Pseudo.jpg\" width = 700>"
   ]
  },
  {
   "cell_type": "code",
   "execution_count": null,
   "metadata": {
    "deletable": false,
    "nbgrader": {
     "cell_type": "code",
     "checksum": "f71134381562732910518b18e5e02197",
     "grade": false,
     "grade_id": "1a",
     "locked": false,
     "schema_version": 3,
     "solution": true,
     "task": false
    }
   },
   "outputs": [],
   "source": [
    "#Look at the graph, then choose an a and b range estimate for the first intercept\n",
    "a = \n",
    "b =\n",
    "#flag is an indicator that we have found a root, xRoot is the root\n",
    "flag = 0\n",
    "xRoot = undef\n",
    "#start a loop, compute c, and then update a or b accordingly.  \n",
    "#If you find a zero (or approximate zero), mark the flag as false, store the root into xRoot, and exit the loop\n",
    "\n",
    "# your code here\n",
    "throw(ErrorException())\n",
    "\n",
    "#print out xRoot\n",
    "xRoot"
   ]
  },
  {
   "cell_type": "code",
   "execution_count": null,
   "metadata": {
    "deletable": false,
    "editable": false,
    "nbgrader": {
     "cell_type": "code",
     "checksum": "238f254042dea9c5fde09e181a030cbc",
     "grade": true,
     "grade_id": "1aTest",
     "locked": true,
     "points": 1,
     "schema_version": 3,
     "solution": false,
     "task": false
    }
   },
   "outputs": [],
   "source": [
    "#autograder cell"
   ]
  },
  {
   "cell_type": "markdown",
   "metadata": {
    "deletable": false,
    "editable": false,
    "nbgrader": {
     "cell_type": "markdown",
     "checksum": "d6bee7bb5dbdcd0c8bf6e13a7af6015d",
     "grade": false,
     "grade_id": "cell-ec76c12aa32073d8",
     "locked": true,
     "schema_version": 3,
     "solution": false,
     "task": false
    }
   },
   "source": [
    "### b)  Create a bisection function from your code above.\n",
    "Your function should take in a function, the range values a and b, and a tolerance."
   ]
  },
  {
   "cell_type": "code",
   "execution_count": null,
   "metadata": {
    "deletable": false,
    "nbgrader": {
     "cell_type": "code",
     "checksum": "45d4f5182e916e2c881949590c61819c",
     "grade": false,
     "grade_id": "1b",
     "locked": false,
     "schema_version": 3,
     "solution": true,
     "task": false
    }
   },
   "outputs": [],
   "source": [
    "function my_bisect(f, a, b, tol)\n",
    "    flag = 0\n",
    "    xRoot = undef\n",
    "    #error checks: done for you\n",
    "    if !(a < b)\n",
    "        println(\"a is not strictly less than b\")\n",
    "        Flag=0\n",
    "    end\n",
    "    if !( f(a)*f(b) < 0)\n",
    "        println(\"Fails test provided by the Intermediate Value Theorem\")\n",
    "        Flag=0\n",
    "    end\n",
    "    if tol < 1e-15\n",
    "        println(\"tolerance is too tight\")\n",
    "        Flag=0\n",
    "    end\n",
    "    \n",
    "    #Add code here from 1a.  Also keep track of iterations this time\n",
    "    k = 0  #use k to track iterations\n",
    "    \n",
    "    # your code here\n",
    "    throw(ErrorException())\n",
    "    \n",
    "    println(\"iterated $k times\")\n",
    "    return xRoot\n",
    "end"
   ]
  },
  {
   "cell_type": "code",
   "execution_count": null,
   "metadata": {
    "deletable": false,
    "editable": false,
    "nbgrader": {
     "cell_type": "code",
     "checksum": "d578594230a7661e890341e215ddaab9",
     "grade": true,
     "grade_id": "1bTest",
     "locked": true,
     "points": 1,
     "schema_version": 3,
     "solution": false,
     "task": false
    }
   },
   "outputs": [],
   "source": [
    "#Test with the same point as part a\n",
    "xRoot1 = my_bisect(f, -4, -3, 1E-5)"
   ]
  },
  {
   "cell_type": "markdown",
   "metadata": {
    "deletable": false,
    "editable": false,
    "nbgrader": {
     "cell_type": "markdown",
     "checksum": "c06bc4e6f4c41fe430ceaedf4f204e54",
     "grade": false,
     "grade_id": "cell-f9178d70a17754cc",
     "locked": true,
     "schema_version": 3,
     "solution": false,
     "task": false
    }
   },
   "source": [
    "### c)  Use your function to find the other two roots"
   ]
  },
  {
   "cell_type": "code",
   "execution_count": null,
   "metadata": {
    "deletable": false,
    "nbgrader": {
     "cell_type": "code",
     "checksum": "a3668f8912b29521fd2e82d5dbc44be5",
     "grade": false,
     "grade_id": "1c",
     "locked": false,
     "schema_version": 3,
     "solution": true,
     "task": false
    }
   },
   "outputs": [],
   "source": [
    "#output your answers as xRoot2 and xRoot3, in ascending order\n",
    "# your code here\n",
    "throw(ErrorException())"
   ]
  },
  {
   "cell_type": "code",
   "execution_count": null,
   "metadata": {
    "deletable": false,
    "editable": false,
    "nbgrader": {
     "cell_type": "code",
     "checksum": "231364b7b0a27761c56d0502d23ac2f5",
     "grade": true,
     "grade_id": "1cTest",
     "locked": true,
     "points": 0,
     "schema_version": 3,
     "solution": false,
     "task": false
    }
   },
   "outputs": [],
   "source": [
    "#autograder cell"
   ]
  },
  {
   "cell_type": "markdown",
   "metadata": {
    "deletable": false,
    "editable": false,
    "nbgrader": {
     "cell_type": "markdown",
     "checksum": "9868619c477fe8f1f1df8c4a39799a42",
     "grade": false,
     "grade_id": "cell-fafcb0b5385c470f",
     "locked": true,
     "schema_version": 3,
     "solution": false,
     "task": false
    }
   },
   "source": [
    "### Problem 2: Modified Bisection \n",
    "\n",
    "The bisection algorithm is super simple and quite reliable. It sequenctially divides the bracketing region $[a~~ b]$ by half by defining $c=(a+b)/2$, and only uses the function values at $f(a)$ and $f(c)$ to determine which of the two ends of the bracket is to be updated. Newton's algorithm, on the other hand, uses additional information: the \"slope\" of the function at $c$,  to update the our next estimate of the root: $$x_{k+1} = x_{k}-h \\frac{df(x_k)}{dx}$$ \n",
    "\n",
    "What we will do now is modify the Bisection Algorithm so that it too uses slope information. "
   ]
  },
  {
   "cell_type": "code",
   "execution_count": null,
   "metadata": {
    "deletable": false,
    "editable": false,
    "nbgrader": {
     "cell_type": "code",
     "checksum": "0beaed5a0f8ea37335151b0fb23b9bbc",
     "grade": false,
     "grade_id": "cell-6e277a43e1f5a359",
     "locked": true,
     "schema_version": 3,
     "solution": false,
     "task": false
    }
   },
   "outputs": [],
   "source": [
    "#Making an image to include in the pedagogy, run this cell to see how the algorithm works\n",
    "using Plots\n",
    "temp(x)=x^3 +x - 1\n",
    "xline(x)=0\n",
    "a=-2;b=2\n",
    "pedagog=plot(temp,a,b, linewidht=2, legend=false)\n",
    "plot!(xline, a, b, linewidth=3, color=:black)\n",
    "m=(temp(b)-temp(a))/(b-a)\n",
    "c=a-temp(a)/m\n",
    "line(x)=temp(a) + m*(x-a)\n",
    "xlabel!(\"x\")\n",
    "ylabel!(\"f(x)\")\n",
    "plot!(line,a,b, linewidth=3, color=:red)\n",
    "scatter!([c],[0],markersize=6,color=:blue)\n",
    "scatter!([a; b],[temp(a); temp(b)],markersize=4,color=:black, series_annotations = text.([\"f(a)\" ;\"f(b)\"], :bottom) )\n",
    "display(pedagog)"
   ]
  },
  {
   "cell_type": "markdown",
   "metadata": {
    "deletable": false,
    "editable": false,
    "nbgrader": {
     "cell_type": "markdown",
     "checksum": "ec57138bd5a102417dd8f8edba549f10",
     "grade": false,
     "grade_id": "cell-c9f46f19a3cd703a",
     "locked": true,
     "schema_version": 3,
     "solution": false,
     "task": false
    }
   },
   "source": [
    "A picture of how the algorthm works is shown above.  The blue line is a function f(x). What we do is connect the point $[a, f(a)]$ with the point $[b, f(b)]$ with a straight line(red). The line is then defined by\n",
    "$$ y(x)= f(a) + m (x-a), $$\n",
    "where the slope is $m = \\frac{f(b)-f(a)}{b-a}$.\n",
    "We then solve for the interesction of the line with the $x$-axis, to find $c$, so that $c=a - f(a)/m$. The decision on whether to update $a$ or $b$ is still made based on whether $f(a)$ and $f(c)$ are of the same or different signs.  If they are of opposite signs, then we reset $b = c$.  If they are of the same signs, we reset $a = c$.\n",
    "\n",
    "### a)  Write the modified bisection function.\n",
    "Your function should take in a function, a and b values to represent the range, and a tolerance."
   ]
  },
  {
   "cell_type": "code",
   "execution_count": null,
   "metadata": {
    "deletable": false,
    "nbgrader": {
     "cell_type": "code",
     "checksum": "f2eeefa8c67e1d46a928071f66657478",
     "grade": false,
     "grade_id": "2a",
     "locked": false,
     "schema_version": 3,
     "solution": true,
     "task": false
    }
   },
   "outputs": [],
   "source": [
    "function mod_bisect(f, a, b, tol)  \n",
    "    #you can reuse your code from the regular bisection algorithm, just be sure to change the computation of c\n",
    "    \n",
    "    # your code here\n",
    "    throw(ErrorException())\n",
    "end"
   ]
  },
  {
   "cell_type": "code",
   "execution_count": null,
   "metadata": {
    "deletable": false,
    "editable": false,
    "nbgrader": {
     "cell_type": "code",
     "checksum": "b8e7c5583c47ccf9a2dca14e83ad8d0a",
     "grade": true,
     "grade_id": "2aTest",
     "locked": true,
     "points": 1,
     "schema_version": 3,
     "solution": false,
     "task": false
    }
   },
   "outputs": [],
   "source": [
    "@show xRootb1 = mod_bisect(f, -4, -3, 1E-9)\n",
    "@show xRootb2 = mod_bisect(f, -2, 0, 1E-9)\n",
    "@show xRootb3 = mod_bisect(f, 2, 4, 1E-9)"
   ]
  },
  {
   "cell_type": "markdown",
   "metadata": {
    "deletable": false,
    "nbgrader": {
     "cell_type": "markdown",
     "checksum": "861ad5a76c24919c37a85f4957a653f7",
     "grade": true,
     "grade_id": "2b",
     "locked": false,
     "points": 1,
     "schema_version": 3,
     "solution": true,
     "task": false
    }
   },
   "source": [
    "### b)  Compare your results from running the regular and modified algorithms on f(x)\n",
    "Did you get the same answer?  Did it take the same number of iterations?  If not, which method was faster?\n",
    "\n",
    "YOUR ANSWER HERE"
   ]
  },
  {
   "cell_type": "markdown",
   "metadata": {
    "deletable": false,
    "editable": false,
    "nbgrader": {
     "cell_type": "markdown",
     "checksum": "e539d990e1689eb4505de88e2debe483",
     "grade": false,
     "grade_id": "cell-e0738f80c639334f",
     "locked": true,
     "schema_version": 3,
     "solution": false,
     "task": false
    }
   },
   "source": [
    "### Problem 3: Newton's Algorithm\n",
    "<img src= \"https://i.postimg.cc/CLqz782R/newton-Method.jpg\" width = 700>\n",
    "\n",
    "### a)  Write Newton's Algorithm into a function.\n",
    "Your Function should take in:\n",
    "- a function to work on\n",
    "- an estimate of the solution\n",
    "- an h value \n",
    "- a character that indicates symmetric, forward or backward ('s', 'f', or 'b')\n",
    "- a tolerance\n",
    "\n",
    "A reminder on Forward, Backward and Symmetric Difference:\n",
    "<img src = \"https://i.postimg.cc/RZkWn1QC/fwd-bwd-sym-dif.jpg\" width = 700>"
   ]
  },
  {
   "cell_type": "code",
   "execution_count": null,
   "metadata": {
    "deletable": false,
    "nbgrader": {
     "cell_type": "code",
     "checksum": "e514fc9eda1237774e0e046a62b5de15",
     "grade": false,
     "grade_id": "3a",
     "locked": false,
     "schema_version": 3,
     "solution": true,
     "task": false
    }
   },
   "outputs": [],
   "source": [
    "#Build the function in this cell\n",
    "function newtons_algorithm(f, x0, h, diffType, tol)\n",
    "    flag = 0;  # to keep track of if we are close enough\n",
    "    k = 0; #keeps track of iterations\n",
    "    x = x0;\n",
    "    while (flag == 0) & (k<1E4)\n",
    "        #first, compute df depending on which type of difference was indicated\n",
    "        # your code here\n",
    "        throw(ErrorException())\n",
    "        \n",
    "        @show x = x - f(x)/df\n",
    "        \n",
    "        #now, check to see if f(x) is close enough to zero, based on the tolerance value input\n",
    "        #if so, change the flag value to a nonzero value\n",
    "        # your code here\n",
    "        throw(ErrorException())\n",
    "        \n",
    "        k += 1\n",
    "    end\n",
    "    print(\"Iterated $k times\")\n",
    "    return x\n",
    "end"
   ]
  },
  {
   "cell_type": "code",
   "execution_count": null,
   "metadata": {
    "deletable": false,
    "editable": false,
    "nbgrader": {
     "cell_type": "code",
     "checksum": "4a351ce96bbfd233d4ab73aca09ad358",
     "grade": false,
     "grade_id": "cell-b93de67ed63d5b91",
     "locked": true,
     "schema_version": 3,
     "solution": false,
     "task": false
    }
   },
   "outputs": [],
   "source": [
    "#A reminder of what function you are working on (so you don't have to scroll up)\n",
    "f(x) = .2x.^5 - .4(x-5).^3 + .7(x +2) - 100\n",
    "p"
   ]
  },
  {
   "cell_type": "code",
   "execution_count": null,
   "metadata": {
    "deletable": false,
    "editable": false,
    "nbgrader": {
     "cell_type": "code",
     "checksum": "aa4f08f0f60e0ae447e4588c37887ea3",
     "grade": true,
     "grade_id": "3aTest",
     "locked": true,
     "points": 1,
     "schema_version": 3,
     "solution": false,
     "task": false
    }
   },
   "outputs": [],
   "source": [
    "#This should prodoce the same answer for the first root as your bisection algorithms\n",
    "ans3a = newtons_algorithm(f, -3.8, 1E-3,'s',1E-9)"
   ]
  },
  {
   "cell_type": "markdown",
   "metadata": {
    "deletable": false,
    "nbgrader": {
     "cell_type": "markdown",
     "checksum": "ff89c223ff9908c23351029469060888",
     "grade": true,
     "grade_id": "3b",
     "locked": false,
     "points": 1,
     "schema_version": 3,
     "solution": true,
     "task": false
    }
   },
   "source": [
    "### b) Compare the results of using forward, backward and symmetric differences in Newton's Method\n",
    "Use the code block below to experiment.  Which method is the fastest for finding roots of f(x)?  Do any of the methods fail?  Explain why.\n",
    "\n",
    "YOUR ANSWER HERE\n"
   ]
  },
  {
   "cell_type": "code",
   "execution_count": null,
   "metadata": {},
   "outputs": [],
   "source": [
    "#use this cell to test 's' 'b' and 'f' difference methods on Newton's method\n",
    "#use @show to display output of multiple lines(not just the last)\n"
   ]
  },
  {
   "cell_type": "markdown",
   "metadata": {
    "deletable": false,
    "nbgrader": {
     "cell_type": "markdown",
     "checksum": "ae3b764a16dc35c52b833a2e2a7c1481",
     "grade": true,
     "grade_id": "3c",
     "locked": false,
     "points": 1,
     "schema_version": 3,
     "solution": true,
     "task": false
    }
   },
   "source": [
    "### c) Out of all the methods used so far to solve for roots of f(x), which one was the best?\n",
    "Take into account speed(number of iterations),  accuracy, and if any methods caused an error.\n",
    "Explain your reasoning.\n",
    "\n",
    "YOUR ANSWER HERE\n"
   ]
  },
  {
   "cell_type": "markdown",
   "metadata": {
    "deletable": false,
    "editable": false,
    "nbgrader": {
     "cell_type": "markdown",
     "checksum": "dd7bbdc85dd9bc6d22076d3682a409ec",
     "grade": false,
     "grade_id": "cell-cbf64bc5fe35771d",
     "locked": true,
     "schema_version": 3,
     "solution": false,
     "task": false
    }
   },
   "source": [
    "### Problem 4: The Jacobian of a function\n",
    "The Jacobian of a function f(x) is computed as follows:\n",
    "$$\\mathbf J = \\begin{bmatrix}\n",
    "    \\dfrac{\\partial \\mathbf{f}}{\\partial x_1} & \\cdots & \\dfrac{\\partial \\mathbf{f}}{\\partial x_n} \\end{bmatrix}\n",
    "= \\begin{bmatrix}\n",
    "    \\dfrac{\\partial f_1}{\\partial x_1} & \\cdots & \\dfrac{\\partial f_1}{\\partial x_n}\\\\\n",
    "    \\vdots & \\ddots & \\vdots\\\\\n",
    "    \\dfrac{\\partial f_m}{\\partial x_1} & \\cdots & \\dfrac{\\partial f_m}{\\partial x_n} \\end{bmatrix}$$\n",
    "    \n",
    "#### Below is an example from your booklet of how the Jacobian is calculated with the symmetric difference method"
   ]
  },
  {
   "cell_type": "code",
   "execution_count": null,
   "metadata": {
    "deletable": false,
    "editable": false,
    "nbgrader": {
     "cell_type": "code",
     "checksum": "bbf8478f6e14e4c6a0ab74d46c3ca837",
     "grade": false,
     "grade_id": "cell-f7b3a644533c6586",
     "locked": true,
     "schema_version": 3,
     "solution": false,
     "task": false
    }
   },
   "outputs": [],
   "source": [
    "F(x1,x2,x3)=[x1.*x2.*x3; log.(2+cos.(x1)) .+ x2.^x1; x1.*x3/(1 .+ x2.^2)]\n",
    "h=0.01\n",
    "x0=[pi;1.0;2.0]\n",
    "dfdx1 =(F(x0[1]+h,x0[2],x0[3])-F(x0[1]-h,x0[2],x0[3]))/(2*h)\n",
    "dfdx2 =(F(x0[1],x0[2]+h,x0[3])-F(x0[1],x0[2]-h,x0[3]))/(2*h)\n",
    "dfdx3 =(F(x0[1],x0[2],x0[3]+h)-F(x0[1],x0[2],x0[3]-h))/(2*h)\n",
    "dfdx_Ans=[dfdx1 dfdx2 dfdx3]"
   ]
  },
  {
   "cell_type": "markdown",
   "metadata": {
    "deletable": false,
    "editable": false,
    "nbgrader": {
     "cell_type": "markdown",
     "checksum": "75260dc0770d11129210b502c0bc315d",
     "grade": false,
     "grade_id": "cell-a3a3eb7498a01c98",
     "locked": true,
     "schema_version": 3,
     "solution": false,
     "task": false
    }
   },
   "source": [
    "### a)  Rewrite the function F in vector form\n",
    "Convert F(x1, x2, x3) into the form Fvect(x)  where x is a vector $\\left[x1, x2, x3\\right]$\n",
    "\n",
    "Hint:  to access x1, you would need to index into x with $x[1]$"
   ]
  },
  {
   "cell_type": "code",
   "execution_count": null,
   "metadata": {
    "deletable": false,
    "nbgrader": {
     "cell_type": "code",
     "checksum": "edc5d73a737bcaba79f091a3cff084f7",
     "grade": false,
     "grade_id": "4a",
     "locked": false,
     "schema_version": 3,
     "solution": true,
     "task": false
    }
   },
   "outputs": [],
   "source": [
    "#rewrite function F from above in vector form.  Call it Fvect\n",
    "# your code here\n",
    "throw(ErrorException())"
   ]
  },
  {
   "cell_type": "code",
   "execution_count": null,
   "metadata": {
    "deletable": false,
    "editable": false,
    "nbgrader": {
     "cell_type": "code",
     "checksum": "b450be39cb8b6c873b52eeaf8b180c38",
     "grade": true,
     "grade_id": "4atest",
     "locked": true,
     "points": 1,
     "schema_version": 3,
     "solution": false,
     "task": false
    }
   },
   "outputs": [],
   "source": [
    "#autograder cell\n",
    "using Random\n",
    "Random.seed!(142)\n",
    "x = 10*randn(3)\n",
    "x1 = x[1]; x2 = x[2]; x3 = x[3];\n",
    "@show regF = F(x1, x2, x3)\n",
    "@show vectF = Fvect(x)"
   ]
  },
  {
   "cell_type": "markdown",
   "metadata": {
    "deletable": false,
    "editable": false,
    "nbgrader": {
     "cell_type": "markdown",
     "checksum": "41c9575a6935c3f59e49b25186ef465d",
     "grade": false,
     "grade_id": "cell-3bd604580327e2a1",
     "locked": true,
     "schema_version": 3,
     "solution": false,
     "task": false
    }
   },
   "source": [
    "### b)  Write a function that can compute the Jacobian for a square function of n terms\n",
    "Your function should take in:\n",
    "- a function of n-terms (written in vector form)\n",
    "- an h value\n",
    "- a point on the surface to take the Jacobian at\n",
    "\n",
    "And should return:\n",
    "- a n by n Jacobian matrix\n",
    "\n",
    "Hint: The example above calulates every column of dfdx by hand.  Think about how you can automate that with this For loop."
   ]
  },
  {
   "cell_type": "code",
   "execution_count": null,
   "metadata": {
    "deletable": false,
    "nbgrader": {
     "cell_type": "code",
     "checksum": "4a670b02670c871d5ba836cd5fd3dec1",
     "grade": false,
     "grade_id": "4b",
     "locked": false,
     "schema_version": 3,
     "solution": true,
     "task": false
    }
   },
   "outputs": [],
   "source": [
    "function my_jacobian(F, h, x0)\n",
    "    #assume that x0 and F are size compatible\n",
    "    n = length(x0)\n",
    "    dfdx = Array{Float64}(undef, n, n)  #blank array of the correct size\n",
    "    for i in 1:n\n",
    "        #compute and store each column of dfdx.  \n",
    "        # your code here\n",
    "        throw(ErrorException())\n",
    "        \n",
    "    end\n",
    "    return dfdx\n",
    "end"
   ]
  },
  {
   "cell_type": "code",
   "execution_count": null,
   "metadata": {
    "deletable": false,
    "editable": false,
    "nbgrader": {
     "cell_type": "code",
     "checksum": "ccdcc0dd21840c848e1876efc58966a1",
     "grade": true,
     "grade_id": "4btest",
     "locked": true,
     "points": 1,
     "schema_version": 3,
     "solution": false,
     "task": false
    }
   },
   "outputs": [],
   "source": [
    "ans4b = my_jacobian(Fvect, 0.01, [pi;1.0;2.0])\n",
    "#check that your output from this cell is the same as from the example cell"
   ]
  },
  {
   "cell_type": "markdown",
   "metadata": {
    "deletable": false,
    "editable": false,
    "nbgrader": {
     "cell_type": "markdown",
     "checksum": "818ff4d77093f7ca2151561fd6891270",
     "grade": false,
     "grade_id": "cell-da7b189699a47ff0",
     "locked": true,
     "schema_version": 3,
     "solution": false,
     "task": false
    }
   },
   "source": [
    "### c)  Use your Jacobian function to find the Jacobian of g(a, b, c, d, x, y, z)\n",
    "\n",
    " $$ g(a, b, c, d, x, y, z) =  \\begin{array}\\ a^2 - 6bz + cx^3 +a - d\\\\ abc + xd^2\\\\ a^3 - 2b + c\\\\ ab^2 - ba^2\\\\ b^3 + 4c + xad + 2y\\\\a^4\\\\ dc^2 - 3a -b\\end{array}$$\n",
    " \n",
    " \n",
    "Compute the Jacobian matrix when **a = 1, b = pi, c = -2, d = 0.8, x = -pi, y = -0.9, z = 4**"
   ]
  },
  {
   "cell_type": "code",
   "execution_count": null,
   "metadata": {
    "deletable": false,
    "nbgrader": {
     "cell_type": "code",
     "checksum": "80da601e8c4e5537bbafd283b33b68b4",
     "grade": false,
     "grade_id": "4c",
     "locked": false,
     "schema_version": 3,
     "solution": true,
     "task": false
    }
   },
   "outputs": [],
   "source": [
    "#first, you must declare your function g() in vector form\n",
    "#enclose the entire thing in square braces[] and separate rows with semicolons ;\n",
    "# your code here\n",
    "throw(ErrorException())"
   ]
  },
  {
   "cell_type": "code",
   "execution_count": null,
   "metadata": {
    "deletable": false,
    "editable": false,
    "nbgrader": {
     "cell_type": "code",
     "checksum": "618f1c9ec062376b62de069f72387478",
     "grade": true,
     "grade_id": "4cTest",
     "locked": true,
     "points": 1,
     "schema_version": 3,
     "solution": false,
     "task": false
    }
   },
   "outputs": [],
   "source": [
    "#make sure that sol4c is the same as ans4c.  If it isn't, double check your declaration of g\n",
    "@show sol4c = g([1; 2; 3; 4; 5; 6; 7])\n",
    "ans4c = [289; 86; 0; 2; 52; 1; 31]"
   ]
  },
  {
   "cell_type": "code",
   "execution_count": null,
   "metadata": {
    "deletable": false,
    "nbgrader": {
     "cell_type": "code",
     "checksum": "ad66c2db60859b032b5a2722c58ed97c",
     "grade": false,
     "grade_id": "4d",
     "locked": false,
     "schema_version": 3,
     "solution": true,
     "task": false
    }
   },
   "outputs": [],
   "source": [
    "#now take the Jacobian for the designated point\n",
    "#Use a step size of 1E-3\n",
    "#declare your v0 first\n",
    "\n",
    "#store your answer in a variable ans4d\n",
    "# your code here\n",
    "throw(ErrorException())"
   ]
  },
  {
   "cell_type": "code",
   "execution_count": null,
   "metadata": {
    "deletable": false,
    "editable": false,
    "nbgrader": {
     "cell_type": "code",
     "checksum": "a470e6d4f3e57c2640dfd8139dbd586f",
     "grade": true,
     "grade_id": "4dTest",
     "locked": true,
     "points": 1,
     "schema_version": 3,
     "solution": false,
     "task": false
    }
   },
   "outputs": [],
   "source": [
    "#autograder cell"
   ]
  },
  {
   "cell_type": "markdown",
   "metadata": {
    "deletable": false,
    "editable": false,
    "nbgrader": {
     "cell_type": "markdown",
     "checksum": "14d2f109125cc8042ea3b96df2e76a8d",
     "grade": false,
     "grade_id": "cell-b24230b3963c2c24",
     "locked": true,
     "schema_version": 3,
     "solution": false,
     "task": false
    }
   },
   "source": [
    "### Problem 5: Newton-Raphson Algorithm with the Jacobian\n",
    "Essentially, the Newton-Raphson method is a vector version of Newton's Algorithm.\n",
    "<img src = \"https://i.postimg.cc/pV39RjVR/newton-raphson-2.png\" width = 700>\n",
    "\n",
    "### a)  Build a Newton-Raphson function\n",
    "Your function should take in:\n",
    "- a function\n",
    "- an estimate of the root/solution\n",
    "- a step size\n",
    "- a tolerance\n",
    "\n",
    "You may use either an LU or QR factorization to solve for 10.48. Both are built into the Linear Algebra package.  Forward and back substitution functions are provided."
   ]
  },
  {
   "cell_type": "code",
   "execution_count": null,
   "metadata": {
    "deletable": false,
    "nbgrader": {
     "cell_type": "code",
     "checksum": "365e3f13dc4a0feb935f94b99151cb1f",
     "grade": true,
     "grade_id": "5a",
     "locked": false,
     "points": 2,
     "schema_version": 3,
     "solution": true,
     "task": false
    }
   },
   "outputs": [],
   "source": [
    "using LinearAlgebra\n",
    "function newton_raphson(F, x0, h, tol)\n",
    "    #fill in the function!  Return the root from your function\n",
    "    #be sure to also keep track of the iterations it took for the root to converge\n",
    "    #Hint:  Look to earlier functions for strucuring help\n",
    "    # your code here\n",
    "    throw(ErrorException())\n",
    "    \n",
    "end\n"
   ]
  },
  {
   "cell_type": "code",
   "execution_count": null,
   "metadata": {
    "deletable": false,
    "editable": false,
    "nbgrader": {
     "cell_type": "code",
     "checksum": "ea1da08faf2faa579e540dbd45182641",
     "grade": false,
     "grade_id": "cell-ef5b78312f7c01e8",
     "locked": true,
     "schema_version": 3,
     "solution": false,
     "task": false
    }
   },
   "outputs": [],
   "source": [
    "##Forward and Back substitution functions from HW04\n",
    "\n",
    "#This is a back substitution function.  It solves for x in an equation Ux = b, where U is upper triangular.\n",
    "function backwardsub(U, b)\n",
    "    n = length(b)\n",
    "    x = Vector{Float64}(undef, n) \n",
    "    x[n] = b[n]/U[n,n]\n",
    "    for i in n-1:-1:1\n",
    "        x[i]=(b[i]- (U[i,(i+1):n])' *x[(i+1):n] )./U[i,i]\n",
    "    end\n",
    "    return x\n",
    "end\n",
    "#This is a forward substitution function\n",
    "function forwardsub(L, b)\n",
    "    n = length(b)\n",
    "    x = Vector{Float64}(undef, n); \n",
    "    x[1] = b[1]/L[1,1] \n",
    "    for i = 2:n \n",
    "        x[i]=(b[i]- (L[i,1:i-1])' *x[1:i-1] )./L[i,i] \n",
    "    end\n",
    "    return x\n",
    "end"
   ]
  },
  {
   "cell_type": "markdown",
   "metadata": {
    "deletable": false,
    "editable": false,
    "nbgrader": {
     "cell_type": "markdown",
     "checksum": "9224022bed59fb0d29ae80362af561b4",
     "grade": false,
     "grade_id": "cell-b1539ed2cc6b370a",
     "locked": true,
     "schema_version": 3,
     "solution": false,
     "task": false
    }
   },
   "source": [
    "### b)  Run your function on r(x).  Choose an appropriate xZero so that you don't get \"NaN\" values\n",
    "With Regular Newton's method, you could look at a graph to make your estimate.  However, when faced with a vector valued function or a function beyond 3 dimensions, visualization with plots is difficult or impossible.  You must choose your estimates without the visual aid.\n",
    "\n",
    "Hint:  You can either guess and check here, or you can estimate a root to r(x) by hand with algebra."
   ]
  },
  {
   "cell_type": "code",
   "execution_count": null,
   "metadata": {
    "deletable": false,
    "editable": false,
    "nbgrader": {
     "cell_type": "code",
     "checksum": "688b797f6cf2ffe30d9dfd8a3dd00415",
     "grade": false,
     "grade_id": "cell-25aed2753332f994",
     "locked": true,
     "schema_version": 3,
     "solution": false,
     "task": false
    }
   },
   "outputs": [],
   "source": [
    "#r is declared for you\n",
    "r(x) = [x[1].^3 + 4*x[2].^2 - 3; 3*x[2] - x[1].^2 + 2]"
   ]
  },
  {
   "cell_type": "code",
   "execution_count": null,
   "metadata": {
    "deletable": false,
    "nbgrader": {
     "cell_type": "code",
     "checksum": "610df9816b5610319070d9be9e7c583f",
     "grade": false,
     "grade_id": "5b",
     "locked": false,
     "schema_version": 3,
     "solution": true,
     "task": false
    }
   },
   "outputs": [],
   "source": [
    "#first choose your estimate of the root, then solve\n",
    "#return your answer as ans5b\n",
    "# your code here\n",
    "throw(ErrorException())"
   ]
  },
  {
   "cell_type": "code",
   "execution_count": null,
   "metadata": {
    "deletable": false,
    "editable": false,
    "nbgrader": {
     "cell_type": "code",
     "checksum": "420840e476df8d8668c1b543ca9f201d",
     "grade": true,
     "grade_id": "5bTest",
     "locked": true,
     "points": 1,
     "schema_version": 3,
     "solution": false,
     "task": false
    }
   },
   "outputs": [],
   "source": [
    "#autograder cell"
   ]
  },
  {
   "cell_type": "markdown",
   "metadata": {
    "deletable": false,
    "nbgrader": {
     "cell_type": "markdown",
     "checksum": "fa95f01d02c7dbb82c36170e5587c1f7",
     "grade": true,
     "grade_id": "5c",
     "locked": false,
     "points": 1,
     "schema_version": 3,
     "solution": true,
     "task": false
    }
   },
   "source": [
    "### c)  Run Newton-Raphson on this example problem from your textbook.  Then, try changing the tolerance and the starting point.  \n",
    "$$F(x)=\\left[\\begin{array}{c}\n",
    "   x_1 + 2 x_2 - x_1 (x_1 + 4 x_2) - x_2 (4 x_1 + 10 x_2) + 3  \\\\\n",
    " 3 x_1 + 4 x_2 - x_1 (x_1 + 4 x_2) - x_2 (4 x_1 + 10 x_2) + 4  \\\\\n",
    "                                0.5 \\cos(x_1) + x_3 -\\left( \\sin(x_3) \\right)^7  \\\\\n",
    "                              -  2(x_2)^2  \\sin(x_1) + (x_4)^3\n",
    "\\end{array} \\right]\n",
    "$$\n",
    "\n",
    "### Which parameter changes the results the most?  Is there a definite range of starting points where the function will no longer work?\n",
    "\n",
    "YOUR ANSWER HERE"
   ]
  },
  {
   "cell_type": "code",
   "execution_count": null,
   "metadata": {
    "deletable": false,
    "editable": false,
    "nbgrader": {
     "cell_type": "code",
     "checksum": "b80225ca54e1e9840c42989633ae9555",
     "grade": false,
     "grade_id": "cell-c63d7d458c2e9ad5",
     "locked": true,
     "schema_version": 3,
     "solution": false,
     "task": false
    }
   },
   "outputs": [],
   "source": [
    "#the function is declared for you!  phew\n",
    "fTest(x) = [(x[1] + 2x[2] - x[1].*(x[1]+4x[2]) - x[2].*(4x[1]+10x[2]) +3);\n",
    "(3x[1] + 4x[2] - x[1].*(x[1]+4x[2]) - x[2].*(4x[1]+10x[2]) +4);\n",
    "(0.5cos.(x[1]) + x[3] - (sin.(x[3])).^7);\n",
    "(-2(x[2].^2).*sin.(x[1]) + x[4].^3)]"
   ]
  },
  {
   "cell_type": "code",
   "execution_count": null,
   "metadata": {},
   "outputs": [],
   "source": [
    "# This should produce the same results as example 10.7 in your booklet\n",
    "nearX = [-2, 3, pi, -1]\n",
    "myTol = 1E-1\n",
    "bookletEx = newton_raphson(fTest, nearX, 0.1, myTol)"
   ]
  },
  {
   "cell_type": "code",
   "execution_count": null,
   "metadata": {},
   "outputs": [],
   "source": [
    "isapprox(bookletEx, [-2.259624611404514; 1.7596246114045138; 0.31811067878211197; -1.6883545563354412])"
   ]
  }
 ],
 "metadata": {
  "@webio": {
   "lastCommId": null,
   "lastKernelId": null
  },
  "kernelspec": {
   "display_name": "Julia 1.5.0",
   "language": "julia",
   "name": "julia-1.5"
  },
  "language_info": {
   "file_extension": ".jl",
   "mimetype": "application/julia",
   "name": "julia",
   "version": "1.5.0"
  }
 },
 "nbformat": 4,
 "nbformat_minor": 4
}
