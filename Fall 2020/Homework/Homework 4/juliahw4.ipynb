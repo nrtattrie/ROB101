{
 "cells": [
  {
   "cell_type": "markdown",
   "metadata": {
    "deletable": false,
    "editable": false,
    "nbgrader": {
     "cell_type": "markdown",
     "checksum": "37f18c8c3c4dee65fee2212b38037c69",
     "grade": false,
     "grade_id": "cell-e60edb8e1aaec6e2",
     "locked": true,
     "schema_version": 3,
     "solution": false,
     "task": false
    }
   },
   "source": [
    "University of Michigan - ROB 101 Computational Linear Algebra"
   ]
  },
  {
   "cell_type": "markdown",
   "metadata": {
    "deletable": false,
    "editable": false,
    "nbgrader": {
     "cell_type": "markdown",
     "checksum": "dca3bd795582e44238554759332c1c06",
     "grade": false,
     "grade_id": "cell-012f9792ee40654d",
     "locked": true,
     "schema_version": 3,
     "solution": false,
     "task": false
    }
   },
   "source": [
    "# Homework 4: Building Your Own Functions for Solving Equations\n",
    "### Due: 10/08 at 9 PM Eastern\n",
    "\n",
    "#### Purpose:\n",
    "   Up to now, we have been wrting \"scripts\", that is, a series of commands that allow us to accomplish a goal. Scripts are are great tool and a super quick way to prototype ideas. We are now going to move on to writing \"functions\", which allow us to call our operations in a much easier manner. \n",
    "\n",
    "   Another thing we'll do is some error checking. Once you have hidden your code behind a function, someone else might try to use it in a manner that will throw bugs or much worse, produce erroneous results without throwing a bug and hence without warning the user. The funny part is, that \"user\" is often us! We build a function and then we forget exactly all of the special requirements on the data that the function uses to produce an answer! \n",
    "- Skills:\n",
    "     - Writing functions\n",
    "     - Using functions\n",
    "     - Building in error checks\n",
    "- Knowledge:\n",
    "    - Learn to read error messages for detail\n",
    "    - Confidence built in writing functions\n",
    "   \n",
    "#### Task:  \n",
    "Read and execute the examples provided, then fill in code as directed to build your own functions, and then use them.\n",
    "\n",
    "### Example: Forward Substitution"
   ]
  },
  {
   "cell_type": "code",
   "execution_count": null,
   "metadata": {
    "deletable": false,
    "editable": false,
    "nbgrader": {
     "cell_type": "code",
     "checksum": "dcfe540a65a00573df303e5f53653853",
     "grade": false,
     "grade_id": "cell-93ca00f9dfdf88be",
     "locked": true,
     "schema_version": 3,
     "solution": false,
     "task": false
    }
   },
   "outputs": [],
   "source": [
    "#computes the solution x to a system Lx = b where L is a lower triangular matrix and b is a column vector\n",
    "#note the structure we have used: we being by declaring \"function\" and we end by declaring \"end\". On \n",
    "# the line before \"end\", we specify that value or values we are going to \"return\".\n",
    "# Everything in between is operating on the data passed to the function.\n",
    "\n",
    "function forwardsub(L, b)\n",
    "    # START of our computations\n",
    "    n = length(b)\n",
    "    x = Vector{Float64}(undef, n); #initialize an x vector of the correct size\n",
    "    x[1] = b[1]/L[1,1] #find the first entry of x\n",
    "    for i = 2:n #find every entry from the 2nd to the end\n",
    "        x[i]=(b[i]- (L[i,1:i-1])' *x[1:i-1] )./L[i,i] \n",
    "        #notice that we used a transpose operator to get the row of L\n",
    "    end\n",
    "    # END of our computations. \n",
    "    return x\n",
    "end\n",
    "#Everything between the function header and this last \"end\" statement\n",
    "#is essentailly the same as a script. It's that easy to build a function!"
   ]
  },
  {
   "cell_type": "code",
   "execution_count": null,
   "metadata": {},
   "outputs": [],
   "source": [
    "#Here is an example where the function works!\n",
    "L = [1 0 0 ; 2 3 0; 4 5 6]\n",
    "b = [1; 8; 32]\n",
    "forwardsub(L, b)"
   ]
  },
  {
   "cell_type": "markdown",
   "metadata": {
    "deletable": false,
    "editable": false,
    "nbgrader": {
     "cell_type": "markdown",
     "checksum": "39756ba0b20eb0a4ed97c8748cdd0a5e",
     "grade": false,
     "grade_id": "cell-d94a5812884e06f7",
     "locked": true,
     "schema_version": 3,
     "solution": false,
     "task": false
    }
   },
   "source": [
    "### Problem 1.  Errors in the function\n"
   ]
  },
  {
   "cell_type": "code",
   "execution_count": null,
   "metadata": {},
   "outputs": [],
   "source": [
    "#Here is one way that we can break our function:\n",
    "L = [6 0 0 ; 2 1 0; 8 5 0]\n",
    "b = [3; 2; 3]\n",
    "forwardsub(L, b)"
   ]
  },
  {
   "cell_type": "markdown",
   "metadata": {
    "deletable": false,
    "nbgrader": {
     "cell_type": "markdown",
     "checksum": "4280bd8c30ac410040c55143bbf1f371",
     "grade": true,
     "grade_id": "1a",
     "locked": false,
     "points": 1,
     "schema_version": 3,
     "solution": true,
     "task": false
    }
   },
   "source": [
    "### a) Run the cell above, then explain, in a sentence, why the error occurred\n",
    "Hint: It may help to write out the matrix L, then walk through the steps of the function\n",
    "\n",
    "\n",
    "YOUR ANSWER HERE"
   ]
  },
  {
   "cell_type": "code",
   "execution_count": null,
   "metadata": {},
   "outputs": [],
   "source": [
    "#Here is another way that it could break:\n",
    "L = [5 0 0 ; 1 4 0; 7 3 2]\n",
    "b = [3; 2; 3; 4]\n",
    "forwardsub(L, b)"
   ]
  },
  {
   "cell_type": "markdown",
   "metadata": {
    "deletable": false,
    "nbgrader": {
     "cell_type": "markdown",
     "checksum": "0745aa1ae4027e40b367c96317693d28",
     "grade": true,
     "grade_id": "1b",
     "locked": false,
     "points": 1,
     "schema_version": 3,
     "solution": true,
     "task": false
    }
   },
   "source": [
    "### b) Run the cell above and explain why the error occurred\n",
    "Hint: Write the system in regular(non-matrix) notation.  We have done the first equation for you:\n",
    "\n",
    "$$5x_1 + 0x_2 + 0x_3 = 3$$ \n",
    "\n",
    "YOUR ANSWER HERE"
   ]
  },
  {
   "cell_type": "code",
   "execution_count": null,
   "metadata": {},
   "outputs": [],
   "source": [
    "#The above cases produced errors, so we knew to look for a problem in the data. \n",
    "#This example will not produce an error, but it also doesn't produce the solution we expect\n",
    "using Random \n",
    "Random.seed!(4321) \n",
    "L=rand(3,3) \n",
    "b=rand(3,1) \n",
    "x=forwardsub(L, b)\n",
    "println(\"Oops!\")\n",
    "solutionError=L*x-b "
   ]
  },
  {
   "cell_type": "markdown",
   "metadata": {
    "deletable": false,
    "nbgrader": {
     "cell_type": "markdown",
     "checksum": "13e31dea966bdde7b5f90f723777262f",
     "grade": true,
     "grade_id": "1c",
     "locked": false,
     "points": 1,
     "schema_version": 3,
     "solution": true,
     "task": false
    }
   },
   "source": [
    "### c) Run the cell above and explain why x does not satisfy Lx = b\n",
    "Hint:  You may want to add additional print statements in order to see the matrices you are using.\n",
    "\n",
    "YOUR ANSWER HERE"
   ]
  },
  {
   "cell_type": "markdown",
   "metadata": {
    "deletable": false,
    "editable": false,
    "nbgrader": {
     "cell_type": "markdown",
     "checksum": "ceff83ae66279fe7f453e93df8c55a69",
     "grade": false,
     "grade_id": "cell-1dadc10ba3ded3d0",
     "locked": true,
     "schema_version": 3,
     "solution": false,
     "task": false
    }
   },
   "source": [
    "### Error Checking:  An example\n",
    "Above, you experienced three possible ways that this function can fail.  Let's build a few error checks into the function so that we can tell what is going wrong.  Follow along with the comments in the code below to see how we can do these checks.\n",
    "\n",
    "Now, if you go back and run the erroneous cells from above, the function will print out a more helpful error."
   ]
  },
  {
   "cell_type": "code",
   "execution_count": null,
   "metadata": {
    "deletable": false,
    "editable": false,
    "nbgrader": {
     "cell_type": "code",
     "checksum": "c303aa0765ba025ae0925fef03e635b4",
     "grade": false,
     "grade_id": "cell-a57c518fa9b53c8e",
     "locked": true,
     "schema_version": 3,
     "solution": false,
     "task": false
    }
   },
   "outputs": [],
   "source": [
    "#I copied the forwardsub function from above\n",
    "function forwardsub(L, b)\n",
    "    # Now before we start our computations, let's make sure that there will be no errors\n",
    "    n = length(b)\n",
    "    \n",
    "    #first, let's check that our inputs are the right size\n",
    "    (rows, cols) = size(L)\n",
    "    if rows != cols\n",
    "        print(\"L is not a square\")\n",
    "        return 0\n",
    "    end\n",
    "    if rows != n\n",
    "        print(\"L and b are not size compatible\")\n",
    "        return 0\n",
    "    end\n",
    "    #if we got to here, that means we have a matrix and vector of compatible sizes\n",
    "    \n",
    "    #now, let's check that L is actually lower triangular, eg: every element above the diagonal is zero\n",
    "    #also check to make sure that there are no zeros on the diagonal\n",
    "    for i in 1:n\n",
    "        for j in 1:n\n",
    "            if j > i\n",
    "                if L[i, j] != 0\n",
    "                    print(\"L is not lower triangular\")\n",
    "                    return 0\n",
    "                end\n",
    "            elseif j == i\n",
    "                if L[i, j] == 0\n",
    "                    print(\"There is a zero on the diagonal\")\n",
    "                    return 0\n",
    "                end\n",
    "            end\n",
    "        end\n",
    "    end\n",
    "                    \n",
    "    \n",
    "    #Now we can actually do the forward substitution, now that we found the arguments to be acceptable\n",
    "    \n",
    "    x = Vector{Float64}(undef, n); #initialize an x vector of the correct size\n",
    "    x[1] = b[1]/L[1,1] #find the first entry of x\n",
    "    for i = 2:n #find every entry from the 2nd to the end\n",
    "        x[i, 1] = (b[i]- (L[i,1:i-1])' *x[1:i-1] )./L[i,i] \n",
    "        #notice that we used a transpose(') operator to get the row of L\n",
    "    end\n",
    "    # END of our computations. Everything between START and END\n",
    "    # is essentailly the same as a script. It's that easy to build a function!\n",
    "    return x\n",
    "end"
   ]
  },
  {
   "cell_type": "markdown",
   "metadata": {
    "deletable": false,
    "editable": false,
    "nbgrader": {
     "cell_type": "markdown",
     "checksum": "8a20292a248861ef1118af387359214e",
     "grade": false,
     "grade_id": "cell-999927b7bf625eaf",
     "locked": true,
     "schema_version": 3,
     "solution": false,
     "task": false
    }
   },
   "source": [
    "### Problem 2.  Write a function for back substitution.\n",
    "Use the function given to you in problem 1, and section 3.5 of the ROB 101 booklet to help you construct your answer.  Think about just doing forward substitution, but backwards.  \n",
    "\n",
    "Hint:  In order to make a for loop that goes backwards, you can either use\n",
    "\n",
    "**for i in reverse(1:n)**\n",
    "\n",
    "or\n",
    "\n",
    "**for i in n:-1:1**  (where the second parameter(-1) is the step size)"
   ]
  },
  {
   "cell_type": "code",
   "execution_count": null,
   "metadata": {
    "deletable": false,
    "nbgrader": {
     "cell_type": "code",
     "checksum": "a6e28342709f304b9e72dc2d81dfee55",
     "grade": false,
     "grade_id": "2ans",
     "locked": false,
     "schema_version": 3,
     "solution": true,
     "task": false
    },
    "tags": [
     "hide_soln"
    ]
   },
   "outputs": [],
   "source": [
    "#computes the solution x to a system Ux = b where U is a lower triangular matrix and b is a column vector\n",
    "function backwardsub(U, b)\n",
    "    n = length(b)\n",
    "    x = Vector{Float64}(undef, n) #initialize an x vector of the correct size\n",
    "    \n",
    "    #fill in the rest of the function here.  You should think about what the forward substitution algorithm looked like\n",
    "# your code here\n",
    "throw(ErrorException())\n",
    "    \n",
    "    \n",
    "end\n",
    "    "
   ]
  },
  {
   "cell_type": "code",
   "execution_count": null,
   "metadata": {
    "deletable": false,
    "editable": false,
    "nbgrader": {
     "cell_type": "code",
     "checksum": "de65c225c431f76f9aee604725aa2b35",
     "grade": true,
     "grade_id": "2test",
     "locked": true,
     "points": 2,
     "schema_version": 3,
     "solution": false,
     "task": false
    },
    "tags": [
     "unit_test"
    ]
   },
   "outputs": [],
   "source": [
    "#Unit test:  Your answer should be [1, 2, 3] --a column vector\n",
    "#Not getting what you expect?  Check to see if you are using the correct variables (L vs U)\n",
    "U = [4 5 6; 0 2 3; 0 0 1 ]\n",
    "b = [32; 13; 3]\n",
    "answer2a = backwardsub(U, b)"
   ]
  },
  {
   "cell_type": "markdown",
   "metadata": {
    "deletable": false,
    "editable": false,
    "nbgrader": {
     "cell_type": "markdown",
     "checksum": "b22bab90a4dd8383cff0b9a7a9050aa3",
     "grade": false,
     "grade_id": "cell-bc5e4970e9827764",
     "locked": true,
     "schema_version": 3,
     "solution": false,
     "task": false
    }
   },
   "source": [
    "### Problem 3.  Add Error testing, like the example from Problem 1, to your function for backwardsub\n",
    "Copy your code from problem 2, and make sure that you are checking for these errors:\n",
    "* Check that the matrix U is a square and is compatible with the size of b\n",
    "* Check that the matrix U is upper triangular\n",
    "* Check that there are no zeros on the diagonal of U\n",
    "\n",
    "**If you hit an error, print a relevant error message and return 0 to exit the function**"
   ]
  },
  {
   "cell_type": "code",
   "execution_count": null,
   "metadata": {
    "deletable": false,
    "nbgrader": {
     "cell_type": "code",
     "checksum": "d0b201240908bc539287ed64e34257c9",
     "grade": false,
     "grade_id": "3ans",
     "locked": false,
     "schema_version": 3,
     "solution": true,
     "task": false
    },
    "tags": [
     "hide_soln"
    ]
   },
   "outputs": [],
   "source": [
    "#copy your code from above, and add error checks\n",
    "#Hint:  Look at the error checking example for the forwardsub function\n",
    "\n",
    "# your code here\n",
    "throw(ErrorException())"
   ]
  },
  {
   "cell_type": "code",
   "execution_count": null,
   "metadata": {
    "deletable": false,
    "editable": false,
    "nbgrader": {
     "cell_type": "code",
     "checksum": "5825196ab8cea4f6ccddb8e132e9bab5",
     "grade": true,
     "grade_id": "3test1",
     "locked": true,
     "points": 1,
     "schema_version": 3,
     "solution": false,
     "task": false
    },
    "tags": [
     "autograde_3a"
    ]
   },
   "outputs": [],
   "source": [
    "#The function should work here.  There should not be any error message\n",
    "U1 = [1 2 3; 0 4 5; 0 0 6]\n",
    "b1 = [14; 23; 18]\n",
    "backwardsub(U1, b1)"
   ]
  },
  {
   "cell_type": "code",
   "execution_count": null,
   "metadata": {
    "deletable": false,
    "editable": false,
    "nbgrader": {
     "cell_type": "code",
     "checksum": "9bf48c7696a71c6b9efd0f465292999a",
     "grade": true,
     "grade_id": "3test2",
     "locked": true,
     "points": 1,
     "schema_version": 3,
     "solution": false,
     "task": false
    },
    "tags": [
     "autograde_3b"
    ]
   },
   "outputs": [],
   "source": [
    "#You should have an error message about a zero on a diagonal\n",
    "U2 = [6 8 1 ; 0 0 3; 0 0 4]\n",
    "b2 = [3; 2; 3]\n",
    "backwardsub(U2, b2)"
   ]
  },
  {
   "cell_type": "code",
   "execution_count": null,
   "metadata": {
    "deletable": false,
    "editable": false,
    "nbgrader": {
     "cell_type": "code",
     "checksum": "ab857f341c2161472f8148c3af613e23",
     "grade": true,
     "grade_id": "3test3",
     "locked": true,
     "points": 1,
     "schema_version": 3,
     "solution": false,
     "task": false
    },
    "tags": [
     "autograde_3c"
    ]
   },
   "outputs": [],
   "source": [
    "#You should have an error message that U is not upper triangular\n",
    "U3 = [2 8 1 9; 3 0 3 9; 0 0 4 2; 0 0 0 1]\n",
    "b3 = [3; 2; 3; 1]\n",
    "backwardsub(U3, b3)"
   ]
  },
  {
   "cell_type": "code",
   "execution_count": null,
   "metadata": {
    "deletable": false,
    "editable": false,
    "nbgrader": {
     "cell_type": "code",
     "checksum": "10f22edbfe85e146823afd453eee2156",
     "grade": true,
     "grade_id": "3test4",
     "locked": true,
     "points": 1,
     "schema_version": 3,
     "solution": false,
     "task": false
    },
    "tags": [
     "autograde_3d"
    ]
   },
   "outputs": [],
   "source": [
    "#These matrices are not size compatible, your error should reflect that\n",
    "U4 = [5 4 1; 6 7 2; -7 2 1]\n",
    "b4 = [5; 1; 2; 6]\n",
    "backwardsub(U4, b4)"
   ]
  },
  {
   "cell_type": "markdown",
   "metadata": {
    "deletable": false,
    "editable": false,
    "nbgrader": {
     "cell_type": "markdown",
     "checksum": "460c5177d8b656d3ad7e1615780129fe",
     "grade": false,
     "grade_id": "cell-033d958784d856c5",
     "locked": true,
     "schema_version": 3,
     "solution": false,
     "task": false
    }
   },
   "source": [
    "### Problem 4.  LU decomposition with Permutations\n",
    "Julia has a built-in LU Factorization function. Below is an example of how to access the properties of the lu() function.  "
   ]
  },
  {
   "cell_type": "code",
   "execution_count": null,
   "metadata": {
    "deletable": false,
    "editable": false,
    "nbgrader": {
     "cell_type": "code",
     "checksum": "fb8252354b8b72831759d53b19d17e7c",
     "grade": false,
     "grade_id": "cell-511ed2625b2054d5",
     "locked": true,
     "schema_version": 3,
     "solution": false,
     "task": false
    }
   },
   "outputs": [],
   "source": [
    "using LinearAlgebra\n",
    "M = [0 4 2; 10 2 1; 1 1 1 ]\n",
    "# F is a variable that holds all the data from the factorization. It contains all three matrices, L,U, and P\n",
    "F = lu(M)\n",
    "L =  F.L #lower triangular factor\n",
    "@show L\n",
    "U =  F.U #upper triangular factor\n",
    "@show U\n",
    "P = F.P #Permutation matrix\n",
    "@show P\n",
    "##properties of the factorization and a check that we know how to use it!\n",
    "Check = P*M-L*U\n",
    "#this should be a matrix of zeros if PM = LU"
   ]
  },
  {
   "cell_type": "markdown",
   "metadata": {
    "deletable": false,
    "editable": false,
    "nbgrader": {
     "cell_type": "markdown",
     "checksum": "81ebfac5c7f3c57fc0d1d5aa6403a6cd",
     "grade": false,
     "grade_id": "cell-fae5af96d05b0446",
     "locked": true,
     "schema_version": 3,
     "solution": false,
     "task": false
    }
   },
   "source": [
    "### a) Return the Lower triangular matrix of the LU decomposition of matrix G\n",
    "$$ G = \\begin{bmatrix}6&7&2&9\\\\1&-3&-5&6\\\\-8&2&-3&-4\\\\0&0&2&1\\end{bmatrix} $$"
   ]
  },
  {
   "cell_type": "code",
   "execution_count": null,
   "metadata": {
    "deletable": false,
    "nbgrader": {
     "cell_type": "code",
     "checksum": "4bd4f34c76a5811db736020e417a2b9d",
     "grade": false,
     "grade_id": "4a",
     "locked": false,
     "schema_version": 3,
     "solution": true,
     "task": false
    },
    "tags": [
     "autograder_answer",
     "solution_hidden"
    ]
   },
   "outputs": [],
   "source": [
    "#Return your answer as a variable named answer4a\n",
    "#replace the lines below with your code\n",
    "\n",
    "# your code here\n",
    "throw(ErrorException())"
   ]
  },
  {
   "cell_type": "code",
   "execution_count": null,
   "metadata": {
    "deletable": false,
    "editable": false,
    "nbgrader": {
     "cell_type": "code",
     "checksum": "538f83480902c7012ab1e4144fbb198d",
     "grade": true,
     "grade_id": "4aTest",
     "locked": true,
     "points": 1,
     "schema_version": 3,
     "solution": false,
     "task": false
    }
   },
   "outputs": [],
   "source": [
    "#autograder cell"
   ]
  },
  {
   "cell_type": "markdown",
   "metadata": {
    "deletable": false,
    "editable": false,
    "nbgrader": {
     "cell_type": "markdown",
     "checksum": "a9358fa5d9383971867f1cd1aafdd60a",
     "grade": false,
     "grade_id": "cell-d89e3bad3dcaca3d",
     "locked": true,
     "schema_version": 3,
     "solution": false,
     "task": false
    }
   },
   "source": [
    "### b) Return the Permutation matrix and the Upper triangular matrix of matrix C\n",
    "$$ C = \\begin{bmatrix}6&-2&8&-7&1\\\\-2&0&3&5&9\\\\9&-4&5&-1&0\\\\-8&2&-2&3&1\\\\6&0&-5&1&9\\end{bmatrix}$$"
   ]
  },
  {
   "cell_type": "code",
   "execution_count": null,
   "metadata": {
    "deletable": false,
    "nbgrader": {
     "cell_type": "code",
     "checksum": "28627489d45f9442c54b7da120706e5f",
     "grade": false,
     "grade_id": "4b",
     "locked": false,
     "schema_version": 3,
     "solution": true,
     "task": false
    },
    "tags": [
     "autograded_answer",
     "hide_solution"
    ]
   },
   "outputs": [],
   "source": [
    "#return the permutation matrix as perm4b and the upper triangular matrix as upper4b\n",
    "\n",
    "# your code here\n",
    "throw(ErrorException())"
   ]
  },
  {
   "cell_type": "code",
   "execution_count": null,
   "metadata": {
    "deletable": false,
    "editable": false,
    "nbgrader": {
     "cell_type": "code",
     "checksum": "d4c31c90c42a746904ad5968080eb680",
     "grade": true,
     "grade_id": "4bTest",
     "locked": true,
     "points": 2,
     "schema_version": 3,
     "solution": false,
     "task": false
    }
   },
   "outputs": [],
   "source": [
    "#autograder cell"
   ]
  },
  {
   "cell_type": "markdown",
   "metadata": {
    "deletable": false,
    "editable": false,
    "nbgrader": {
     "cell_type": "markdown",
     "checksum": "0773773ae090b86657e938bd925ad163",
     "grade": false,
     "grade_id": "cell-74c434fcb8819248",
     "locked": true,
     "schema_version": 3,
     "solution": false,
     "task": false
    }
   },
   "source": [
    "### Problem 5.  Use LU decompostition and forward/back substitution to solve the system of equations for x.\n",
    "$$\\begin{bmatrix}8&-18&-16&2 &0& -8& 18& 8& 12 &-20\\\\ -36& 41& 142 &21& -20 &6 -111& -106& -24& 190\\\\\n",
    "    36 &-117 &-13& 38 &-25 &-60 &63& -31& 79 &9\\\\ 32& -104& 32& 44& 26& -114 &-82& 52& 92& -130\\\\\n",
    "    24& -78& -10 &26& -46 &-30 &36 &-10& 70& -15\\\\ 12 &-19 &-70 &-43 &-48 &142& 190 &-7 &38 &64\\\\\n",
    "    16& -52& -40& 26& -136& 80& 126& 1& 69 &39\\\\ 20 &-9 &-63 &-66& 190& -129& 49& -10& -129& -199\\\\\n",
    "    -28& 51 &41 &-4 &-3 &22 &119 &-261 &-143 &383\\\\ 36 &-61 &-123 &10 &-88 &-55 &1 &113 &95 &-173\\end{bmatrix} x = \\begin{bmatrix}-1\\\\2\\\\-2\\\\8\\\\-9\\\\-7\\\\-7\\\\-2\\\\-1\\\\-5\\end{bmatrix} $$\n",
    "\n",
    "Hint: For a system $Ax = b$, if the LU decompositon without permutations is performed on A, then $LUx = b$, $Ux = y$, and $Ly = b$.  See page 49 of the ROB 101 course booklet for an example."
   ]
  },
  {
   "cell_type": "code",
   "execution_count": null,
   "metadata": {
    "deletable": false,
    "editable": false,
    "nbgrader": {
     "cell_type": "code",
     "checksum": "889c4c392593bed6e9e3c3d9993ee4b0",
     "grade": false,
     "grade_id": "cell-8eb335eac3652b1f",
     "locked": true,
     "schema_version": 3,
     "solution": false,
     "task": false
    },
    "tags": [
     "problem_4",
     "read-only"
    ]
   },
   "outputs": [],
   "source": [
    "#Solve the problem with julia's lu() function and your forward and back substitution functions \n",
    "#Matrices A and b are declared for you\n",
    "A = [8 -18 -16 2 0 -8 18 8 12 -20; -36 41 142 21 -20 6 -111 -106 -24 190;\n",
    "    36 -117 -13 38 -25 -60 63 -31 79 9; 32 -104 32 44 26 -114 -82 52 92 -130;\n",
    "    24 -78 -10 26 -46 -30 36 -10 70 -15; 12 -19 -70 -43 -48 142 190 -7 38 64;\n",
    "    16 -52 -40 26 -136 80 126 1 69 39; 20 -9 -63 -66 190 -129 49 -10 -129 -199;\n",
    "    -28 51 41 -4 -3 22 119 -261 -143 383; 36 -61 -123 10 -88 -55 1 113 95 -173]\n",
    "b = [-1;2; -2; 8; -9; -7; -7; -2; -1; -5]"
   ]
  },
  {
   "cell_type": "code",
   "execution_count": null,
   "metadata": {
    "deletable": false,
    "nbgrader": {
     "cell_type": "code",
     "checksum": "b8c7f118f55673aab611a348d8727cf7",
     "grade": false,
     "grade_id": "5ans",
     "locked": false,
     "schema_version": 3,
     "solution": true,
     "task": false
    },
    "tags": [
     "problem_4",
     "soln_hidden"
    ]
   },
   "outputs": [],
   "source": [
    "using LinearAlgebra\n",
    "#Remember to use lu(M, Val(false)) in order to prevent permutations\n",
    "\n",
    "# your code here\n",
    "throw(ErrorException())"
   ]
  },
  {
   "cell_type": "code",
   "execution_count": null,
   "metadata": {
    "deletable": false,
    "editable": false,
    "nbgrader": {
     "cell_type": "code",
     "checksum": "d556460d60b575974837ccbd7cae04ed",
     "grade": true,
     "grade_id": "5test",
     "locked": true,
     "points": 3,
     "schema_version": 3,
     "solution": false,
     "task": false
    },
    "tags": [
     "problem_4_autograder"
    ]
   },
   "outputs": [],
   "source": [
    "#autograder cell"
   ]
  }
 ],
 "metadata": {
  "kernelspec": {
   "display_name": "Julia 1.5.0",
   "language": "julia",
   "name": "julia-1.5"
  },
  "language_info": {
   "file_extension": ".jl",
   "mimetype": "application/julia",
   "name": "julia",
   "version": "1.5.0"
  }
 },
 "nbformat": 4,
 "nbformat_minor": 4
}
