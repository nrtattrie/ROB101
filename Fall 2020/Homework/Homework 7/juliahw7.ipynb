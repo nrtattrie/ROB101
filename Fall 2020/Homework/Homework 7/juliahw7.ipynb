{
 "cells": [
  {
   "cell_type": "markdown",
   "metadata": {
    "deletable": false,
    "editable": false,
    "nbgrader": {
     "cell_type": "markdown",
     "checksum": "f0984e1cdc771567a91170dc466b1d1d",
     "grade": false,
     "grade_id": "cell-0c24621f2dfd945b",
     "locked": true,
     "schema_version": 3,
     "solution": false,
     "task": false
    }
   },
   "source": [
    "University of Michigan - ROB 101 Computational Linear Algebra"
   ]
  },
  {
   "cell_type": "markdown",
   "metadata": {
    "deletable": false,
    "editable": false,
    "nbgrader": {
     "cell_type": "markdown",
     "checksum": "9f6952d7f8f4305005eb2973fa61a44b",
     "grade": false,
     "grade_id": "cell-405a6f286d426cc5",
     "locked": true,
     "schema_version": 3,
     "solution": false,
     "task": false
    }
   },
   "source": [
    "# Homework 7: Vector Space, Subspaces and Operations\n",
    "### Due 10/29 at 9 PM Eastern\n",
    "\n",
    "#### Purpose: Use the Grahm-Schmidt process to build towards QR factorization.  Use QR factorization to create regression fits.\n",
    "- Skills\n",
    "    - Function building:  using functions within other functions\n",
    "    - 3d surface fitting\n",
    "    - Building orthogonal and orthonormal bases\n",
    "- Knowledge\n",
    "    - Growing undertanding of linear regression\n",
    "    - Building confidence with plotting large amounts of data\n",
    "    - Gearing up for project 2"
   ]
  },
  {
   "cell_type": "markdown",
   "metadata": {
    "deletable": false,
    "editable": false,
    "nbgrader": {
     "cell_type": "markdown",
     "checksum": "8a146edb0d49f0f1cf4c95c09df7bc7d",
     "grade": false,
     "grade_id": "cell-405a6f286d426cc5i",
     "locked": true,
     "schema_version": 3,
     "solution": false,
     "task": false
    }
   },
   "source": [
    "### Problem 1. Building Towards QR factorization\n",
    "<img src = \"https://i.postimg.cc/MT0yxYcF/Grahm-schmidt.jpg\" width= \"800\">\n",
    "\n",
    "### a) Use the Grahm-Schmidt Process to find the orthonormal basis of the linearly independent vectors\n",
    "Above is the Grahm-Scmidt Process algorithm taken from the ROB 101 booklet.\n",
    "$$u1 = \\begin{bmatrix}-1\\\\1\\\\-1\\\\1\\end{bmatrix}, u2 = \\begin{bmatrix}-1\\\\3\\\\-1\\\\3\\end{bmatrix} u3 = \\begin{bmatrix}1\\\\3\\\\5\\\\7\\end{bmatrix}$$"
   ]
  },
  {
   "cell_type": "code",
   "execution_count": null,
   "metadata": {},
   "outputs": [],
   "source": [
    "#Step 1: declare u1, u2 and u3\n",
    "u1 = \n",
    "u2 = \n",
    "u3 = "
   ]
  },
  {
   "cell_type": "code",
   "execution_count": null,
   "metadata": {
    "deletable": false,
    "nbgrader": {
     "cell_type": "code",
     "checksum": "94bd5f7fc335915053c83c0ebf623125",
     "grade": false,
     "grade_id": "1a",
     "locked": false,
     "schema_version": 3,
     "solution": true,
     "task": false
    }
   },
   "outputs": [],
   "source": [
    "#Step 2: Find and declare three vectors, v1, v2, and v3 that form an orthogonal basis\n",
    "using LinearAlgebra \n",
    "#dot(A, B) takes the dot product \n",
    "\n",
    "# your code here\n",
    "throw(ErrorException())"
   ]
  },
  {
   "cell_type": "code",
   "execution_count": null,
   "metadata": {
    "deletable": false,
    "editable": false,
    "nbgrader": {
     "cell_type": "code",
     "checksum": "28617446e53fd63124b83742c5432f56",
     "grade": true,
     "grade_id": "1aTest",
     "locked": true,
     "points": 1,
     "schema_version": 3,
     "solution": false,
     "task": false
    }
   },
   "outputs": [],
   "source": [
    "#autograder cell\n",
    "vBasis = [v1 v2 v3]"
   ]
  },
  {
   "cell_type": "markdown",
   "metadata": {
    "deletable": false,
    "editable": false,
    "nbgrader": {
     "cell_type": "markdown",
     "checksum": "86cd8d49d9703eaeb7f96cb082cf1037",
     "grade": false,
     "grade_id": "cell-bc10943886497366",
     "locked": true,
     "schema_version": 3,
     "solution": false,
     "task": false
    }
   },
   "source": [
    "### b)  Normalize your vectors v1, v2 and v3 to form an orthonormal basis\n",
    "Use the norm() function of the Linear Algebra package to return the magnitude, ||v|| , of the vector.  Since normalizing is so easy in code, we will generally do it right off the bat."
   ]
  },
  {
   "cell_type": "code",
   "execution_count": null,
   "metadata": {
    "deletable": false,
    "nbgrader": {
     "cell_type": "code",
     "checksum": "4ae9d46b51a796c7902f634b50715fa3",
     "grade": false,
     "grade_id": "1b",
     "locked": false,
     "schema_version": 3,
     "solution": true,
     "task": false
    }
   },
   "outputs": [],
   "source": [
    "#Normalize v1, v2 and v3 and save in v1norm, v2norm and v3norm\n",
    "v1norm = v1/norm(v1)\n",
    "#You do the rest\n",
    "# your code here\n",
    "throw(ErrorException())"
   ]
  },
  {
   "cell_type": "code",
   "execution_count": null,
   "metadata": {
    "deletable": false,
    "editable": false,
    "nbgrader": {
     "cell_type": "code",
     "checksum": "d14d51c572d05f006c20a62b07d034a7",
     "grade": true,
     "grade_id": "1bTest",
     "locked": true,
     "points": 1,
     "schema_version": 3,
     "solution": false,
     "task": false
    }
   },
   "outputs": [],
   "source": [
    "#autograder cell\n",
    "vNormBasis = [v1norm v2norm v3norm]"
   ]
  },
  {
   "cell_type": "markdown",
   "metadata": {
    "deletable": false,
    "editable": false,
    "nbgrader": {
     "cell_type": "markdown",
     "checksum": "4cc22cee714152b1d38c70f6b9dea559",
     "grade": false,
     "grade_id": "cell-eef5f03aca03d680",
     "locked": true,
     "schema_version": 3,
     "solution": false,
     "task": false
    }
   },
   "source": [
    "###  Because normalizing is so easy in code, we usually integrate it directly into the Gram-Schmidt Process to produce orthornormal vectors as we go. Check this out!"
   ]
  },
  {
   "cell_type": "code",
   "execution_count": null,
   "metadata": {
    "deletable": false,
    "editable": false,
    "nbgrader": {
     "cell_type": "code",
     "checksum": "b290dd5af75e922bb6b83364758327ee",
     "grade": false,
     "grade_id": "cell-4840f540fa16eb4d",
     "locked": true,
     "schema_version": 3,
     "solution": false,
     "task": false
    }
   },
   "outputs": [],
   "source": [
    "using LinearAlgebra \n",
    "#dot(A, B) takes the dot product \n",
    "\n",
    "v1 = u1\n",
    "v1=v1/norm(v1)\n",
    "\n",
    "v2 = u2 - (dot(u2,v1)/dot(v1, v1))*v1\n",
    "# Thinking ahead: could you compute v2 with a for loop of length 1?\n",
    "v2=v2/norm(v2)\n",
    "\n",
    "v3 = u3 - (dot(u3,v1)/dot(v1, v1))*v1 - (dot(u3,v2)/dot(v2, v2))*v2\n",
    "# Thinking ahead: could you compute v3 with a for loop of length 2? How long is the summation in (9.13) at the top of \n",
    "# the notebook?\n",
    "v3=v3/norm(v3)\n",
    "# Thinking ahead: what would the computation of v4 look like? And then v99? Yeah, a for loop would be good! \n",
    "#The summation in (9.13) is screaming \"I am a for loop!\"\n",
    "println(\"Sweet!\")\n",
    "V= [v1 v2 v3]"
   ]
  },
  {
   "cell_type": "markdown",
   "metadata": {
    "deletable": false,
    "editable": false,
    "nbgrader": {
     "cell_type": "markdown",
     "checksum": "2b5a857b80053bd8c7996ec71b6dc264",
     "grade": false,
     "grade_id": "cell-bbf9eefae6ee7d61",
     "locked": true,
     "schema_version": 3,
     "solution": false,
     "task": false
    }
   },
   "source": [
    "### Problem 2.  Build a Grahm-Schmidt function that produces an orthonormal basis\n",
    "Hint: Check out the General step shown in the Grahm-Schmidt algorithm taken from the ROB 101 booklet.  Think about how you can use code to repeat that step in order to find the orthogonal basis.  Remember to normalize as we did above!\n",
    "\n",
    "For simplicity, your function will take the vectors stacked as the columns of a matrix U and output the orthonormal vectors as the columns of a matrix V, just as we did above."
   ]
  },
  {
   "cell_type": "code",
   "execution_count": null,
   "metadata": {
    "deletable": false,
    "nbgrader": {
     "cell_type": "code",
     "checksum": "cf4d7222b7b831ec87db7e377b516f50",
     "grade": false,
     "grade_id": "2a",
     "locked": false,
     "schema_version": 3,
     "solution": true,
     "task": false
    }
   },
   "outputs": [],
   "source": [
    "#Build your function here!\n",
    "function grahm_schmidt(U)\n",
    "    # We assume the columns of U are linearly independent\n",
    "    # because, with this assumption, norm(vk) will never be zero\n",
    "    #start a blank matrix V which will hold all of the output vectors\n",
    "    (rows, cols) = size(U)\n",
    "    V = Array{Float64,2}(undef, rows, cols)\n",
    "    #start a for loop that runs the number of times that there are columns in U\n",
    "    for k in 1:cols\n",
    "        #insert the general step here.  You will need another for loop to evaluate the summation\n",
    "        # your code here\n",
    "        throw(ErrorException())\n",
    "    end\n",
    "    return V\n",
    "end     "
   ]
  },
  {
   "cell_type": "code",
   "execution_count": null,
   "metadata": {
    "deletable": false,
    "editable": false,
    "nbgrader": {
     "cell_type": "code",
     "checksum": "f31f003237644e79b54827491e8ce3c6",
     "grade": true,
     "grade_id": "2aTest1",
     "locked": true,
     "points": 1,
     "schema_version": 3,
     "solution": false,
     "task": false
    }
   },
   "outputs": [],
   "source": [
    "#test\n",
    "U = [-1 -1 1; 1 3 3 ; -1 -1 5; 1 3 7]\n",
    "a2Test1 = grahm_schmidt(U)\n",
    "#should be the same answer that you got for v1norm, v2norm, and v3norm in Problem 1 "
   ]
  },
  {
   "cell_type": "code",
   "execution_count": null,
   "metadata": {
    "deletable": false,
    "editable": false,
    "nbgrader": {
     "cell_type": "code",
     "checksum": "e4cbe730c5095205c3e8db53cd465af1",
     "grade": true,
     "grade_id": "2aTest2",
     "locked": true,
     "points": 1,
     "schema_version": 3,
     "solution": false,
     "task": false
    }
   },
   "outputs": [],
   "source": [
    "#test 2\n",
    "using Random\n",
    "Random.seed!(1999)\n",
    "Ubig = rand(100, 27)\n",
    "sol2a = grahm_schmidt(Ubig)"
   ]
  },
  {
   "cell_type": "markdown",
   "metadata": {
    "deletable": false,
    "editable": false,
    "nbgrader": {
     "cell_type": "markdown",
     "checksum": "5f92806b67800480c697bdb1b434f728",
     "grade": false,
     "grade_id": "cell-51a642b2ef32eeb9",
     "locked": true,
     "schema_version": 3,
     "solution": false,
     "task": false
    }
   },
   "source": [
    "### Problem 3.  Dependent Vectors\n",
    "In Problem 2, we assumed that the given vectors were linearly independent. This will not always be the case.  Walk through the Grahm Schmidt process for vectors d1, d2 and d3, and identify where the process goes wrong.  Look back at Problem 1 part (a) for an example of how to walk through Grahm-Schmidt.\n",
    "$$ d1 =  \\begin{bmatrix}1\\\\0\\end{bmatrix} , d2 = \\begin{bmatrix}0\\\\1\\end{bmatrix} , d3 = \\begin{bmatrix}2\\\\7\\end{bmatrix} $$"
   ]
  },
  {
   "cell_type": "code",
   "execution_count": null,
   "metadata": {},
   "outputs": [],
   "source": [
    "#Declare your d vectors\n",
    "d1 =\n",
    "d2 = \n",
    "d3 = "
   ]
  },
  {
   "cell_type": "code",
   "execution_count": null,
   "metadata": {},
   "outputs": [],
   "source": [
    "#Construct your orthogonal basis\n",
    "#DO NOT NORMALIZE HERE!!\n",
    "v_1 = \n",
    "v_2 =\n",
    "v_3 = "
   ]
  },
  {
   "cell_type": "code",
   "execution_count": null,
   "metadata": {},
   "outputs": [],
   "source": [
    "#Normalize here\n",
    "vnorm1=\n",
    "vnorm2=\n",
    "vnorm3="
   ]
  },
  {
   "cell_type": "markdown",
   "metadata": {
    "deletable": false,
    "nbgrader": {
     "cell_type": "markdown",
     "checksum": "7d4a208468c82692e1805007e067fed0",
     "grade": true,
     "grade_id": "3a",
     "locked": false,
     "points": 1,
     "schema_version": 3,
     "solution": true,
     "task": false
    }
   },
   "source": [
    "### a) Where did we run into an error? \n",
    "Write a sentence explaining what happened, and how we can fix it so that we can still create a basis from these vectors.\n",
    "YOUR ANSWER HERE"
   ]
  },
  {
   "cell_type": "markdown",
   "metadata": {
    "deletable": false,
    "editable": false,
    "nbgrader": {
     "cell_type": "markdown",
     "checksum": "bb1926b8c0feecfac367aa9efb5cb6d1",
     "grade": false,
     "grade_id": "cell-23c7a32348749904",
     "locked": true,
     "schema_version": 3,
     "solution": false,
     "task": false
    }
   },
   "source": [
    "In this way, we can use the Grahm-Schmidt process to tell us if a set of vectors is linearly independent.  Essentially, we walk through the steps of GS on each vector until we get to one where $ \\Vert v_k \\Vert \\approx 0 $.  If this is the case, then we know that $$u_k \\in \\operatorname{span}\\{u_1, ... , u_{k-1}\\} = \\operatorname{span}\\{v_1, ... , v_{k-1}\\}$$ To say it a different way, $u_k$ caused the set $\\{u_1, ... , u_{k}\\}$ to be linearly dependent. Hence, we should throw it away when peforming the Gram-Schmidt process and move on to the next vector, $u_{k+1}$ and see if the set from  $\\{u_1, ... , u_{k-1}, u_{k+1}\\}$ is linearly independent. \n",
    "\n",
    "Make sense? When we encounter a dependent vector, we throw it away and move onto the next vector until we exhaust our set of vectors.\n",
    "\n",
    "### b.  Skip the dependent vector and form an orthonormal basis from the d vectors above"
   ]
  },
  {
   "cell_type": "code",
   "execution_count": null,
   "metadata": {
    "deletable": false,
    "nbgrader": {
     "cell_type": "code",
     "checksum": "b7b0da5ee8ff165c56b3d80143cb3a1d",
     "grade": false,
     "grade_id": "3b",
     "locked": false,
     "schema_version": 3,
     "solution": true,
     "task": false
    }
   },
   "outputs": [],
   "source": [
    "#Remove the dependent vector, and use the other two to create the orthonormal basis\n",
    "#Output the orthonormal basis in a matrix called normBasisMatrix\n",
    "\n",
    "# your code here\n",
    "throw(ErrorException())"
   ]
  },
  {
   "cell_type": "code",
   "execution_count": null,
   "metadata": {
    "deletable": false,
    "editable": false,
    "nbgrader": {
     "cell_type": "code",
     "checksum": "572587a02db33691eda2a39c394060be",
     "grade": true,
     "grade_id": "3bTest",
     "locked": true,
     "points": 1,
     "schema_version": 3,
     "solution": false,
     "task": false
    }
   },
   "outputs": [],
   "source": [
    "#autograder cell"
   ]
  },
  {
   "cell_type": "markdown",
   "metadata": {
    "deletable": false,
    "editable": false,
    "nbgrader": {
     "cell_type": "markdown",
     "checksum": "aa01c4693dea04d7cbda7f10de8ac68e",
     "grade": false,
     "grade_id": "cell-9818f7cf13cb6b1d",
     "locked": true,
     "schema_version": 3,
     "solution": false,
     "task": false
    }
   },
   "source": [
    "### We can also do this in a For loop, on larger sets of vectors.  Our goal below is to remove vectors that we \"do not want\", just as you will need to do with the \"linearly dependent vectors\" that Gram-Schmidt finds problematic! "
   ]
  },
  {
   "cell_type": "code",
   "execution_count": null,
   "metadata": {},
   "outputs": [],
   "source": [
    "#Example where we are removing a certain \"bad\" vector\n",
    "v1=[1; 1 ;1.0]; V=rand(3,10);V[:,1]=v1;;V[:,5]=v1;V[:,10]=v1\n",
    "# Goal: remove all vectors that are equal to v1\n",
    "(nrows, ncols) = size(V)\n",
    "U = Array{Float64,2}(undef, nrows, 0) # no columns, yikes! U is now exists as an emptry array\n",
    "for k = 1:ncols\n",
    "    vk=V[:,k] #check each column vector in V\n",
    "    test=norm(v1-vk) #check to see how much different the vector is from v1\n",
    "    if test > 1e-8 #if it is different (difference is not = 0)\n",
    "        U=[U vk] #add it to the vector U\n",
    "    end\n",
    "end\n",
    "println(\"Did we remove all of the columns that we did not like? \")\n",
    "U #this does not show any columns [1;1;1], so it removed what we wanted to remove"
   ]
  },
  {
   "cell_type": "markdown",
   "metadata": {
    "deletable": false,
    "editable": false,
    "nbgrader": {
     "cell_type": "markdown",
     "checksum": "322292ae2483e9933934f0d62a62e443",
     "grade": false,
     "grade_id": "cell-00eb6d7e3e13c60a",
     "locked": true,
     "schema_version": 3,
     "solution": false,
     "task": false
    }
   },
   "source": [
    "### Problem 4. Create a version of Gram-Schmidt that produces orthonormal vectors and eliminates linearly dependent vectors. \n",
    "Hint: Use the code from your first grahm_schmidt function, but make sure to check that you are not dividing by zero before you add another vector to the orthonormal basis."
   ]
  },
  {
   "cell_type": "code",
   "execution_count": null,
   "metadata": {
    "deletable": false,
    "nbgrader": {
     "cell_type": "code",
     "checksum": "1a1c95e39a3deb9eb123560ae7dfc156",
     "grade": false,
     "grade_id": "4a",
     "locked": false,
     "schema_version": 3,
     "solution": true,
     "task": false
    }
   },
   "outputs": [],
   "source": [
    "#Build this new function so that it removes the dependent vectors along the way.\n",
    "function grahm_schmidt_deps(U)\n",
    "    (rows, cols) = size(U)\n",
    "    #start a blank matrix V which will hold the orthonormal basis of vectors\n",
    "    V = Array{Float64,2}(undef, rows, 0)\n",
    "    #start a for loop that runs the number of times that there are columns in A\n",
    "    for k in 1:cols\n",
    "        #perform grahm-schmidt, check that the column is linearly independent, then if it is, add to orthonormal basis\n",
    "   \n",
    "        # your code here\n",
    "        throw(ErrorException())\n",
    "        \n",
    "    end\n",
    "    return V\n",
    "end     "
   ]
  },
  {
   "cell_type": "code",
   "execution_count": null,
   "metadata": {
    "deletable": false,
    "editable": false,
    "nbgrader": {
     "cell_type": "code",
     "checksum": "b564d6712821817231c2c3384fc867e6",
     "grade": true,
     "grade_id": "4aTest",
     "locked": true,
     "points": 1,
     "schema_version": 3,
     "solution": false,
     "task": false
    }
   },
   "outputs": [],
   "source": [
    "aTest = [0 2 4; 2 0 14]\n",
    "aAns = grahm_schmidt_deps(aTest)"
   ]
  },
  {
   "cell_type": "markdown",
   "metadata": {
    "deletable": false,
    "editable": false,
    "nbgrader": {
     "cell_type": "markdown",
     "checksum": "f2262ad8183d3f633c4a339997f6a8f3",
     "grade": false,
     "grade_id": "cell-9715a4feb6db5df5",
     "locked": true,
     "schema_version": 3,
     "solution": false,
     "task": false
    }
   },
   "source": [
    "## QR factorization from the grahm-schmidt process\n",
    "<img src = \"https://i.postimg.cc/hGLpSYG9/QR.jpg\" width = \"800\" >\n",
    "\n",
    "Now that we can make an orthonormal basis from a set of linearly independent vectors, or a matrix with independent columns, we can compute the QR factorization.  We already have the Q factor!  This section taken from the ROB 101 booklet explains how to find R.\n",
    "\n",
    "### Problem 5.  QR\n",
    "### a) Using your function for the Grahm-Schmidt process, write a function that returns the QR factorization of a matrix with independent columns\n",
    "Your function should return both the Q and R factors\n",
    "\n",
    "Hint:  If you use your grahm_schmidt_deps function, the error checks for dependent vectors will be built into your QR function."
   ]
  },
  {
   "cell_type": "code",
   "execution_count": null,
   "metadata": {
    "deletable": false,
    "nbgrader": {
     "cell_type": "code",
     "checksum": "7a60761700ad8fddcf86fb03640ec5e4",
     "grade": false,
     "grade_id": "5a",
     "locked": false,
     "schema_version": 3,
     "solution": true,
     "task": false
    }
   },
   "outputs": [],
   "source": [
    "function qr_fact(A)\n",
    "    #Calculate and declare Q and R\n",
    "    # your code here\n",
    "    throw(ErrorException())\n",
    "    return Q, R\n",
    "end"
   ]
  },
  {
   "cell_type": "code",
   "execution_count": null,
   "metadata": {
    "deletable": false,
    "editable": false,
    "nbgrader": {
     "cell_type": "code",
     "checksum": "2b950c81fc4abefd176debea1821940c",
     "grade": true,
     "grade_id": "5aTest",
     "locked": true,
     "points": 1,
     "schema_version": 3,
     "solution": false,
     "task": false
    }
   },
   "outputs": [],
   "source": [
    "Q, R = qr_fact([-1 -1 1; 1 3 3 ; -1 -1 5; 1 3 7])"
   ]
  },
  {
   "cell_type": "code",
   "execution_count": null,
   "metadata": {
    "deletable": false,
    "editable": false,
    "nbgrader": {
     "cell_type": "code",
     "checksum": "54de5f774b37ba5850905777ff8c74f8",
     "grade": false,
     "grade_id": "cell-052f0c62c61c05e1",
     "locked": true,
     "schema_version": 3,
     "solution": false,
     "task": false
    }
   },
   "outputs": [],
   "source": [
    "##Forward and Back substitution functions from HW04\n",
    "\n",
    "#This is a back substitution function.  It solves for x in an equation Ux = b, where U is upper triangular.\n",
    "function backwardsub(U, b)\n",
    "    n = length(b)\n",
    "    x = Vector{Float64}(undef, n) \n",
    "    x[n] = b[n]/U[n,n]\n",
    "    for i in n-1:-1:1\n",
    "        x[i]=(b[i]- (U[i,(i+1):n])' *x[(i+1):n] )./U[i,i]\n",
    "    end\n",
    "    return x\n",
    "end\n",
    "#This is a forward substitution function\n",
    "function forwardsub(L, b)\n",
    "    n = length(b)\n",
    "    x = Vector{Float64}(undef, n); \n",
    "    x[1] = b[1]/L[1,1] \n",
    "    for i = 2:n \n",
    "        x[i]=(b[i]- (L[i,1:i-1])' *x[1:i-1] )./L[i,i] \n",
    "    end\n",
    "    return x\n",
    "end"
   ]
  },
  {
   "cell_type": "markdown",
   "metadata": {
    "deletable": false,
    "editable": false,
    "nbgrader": {
     "cell_type": "markdown",
     "checksum": "9babe4b944cf8e1e4132e18dbd50e10b",
     "grade": false,
     "grade_id": "cell-ffdc19f74dbe9048",
     "locked": true,
     "schema_version": 3,
     "solution": false,
     "task": false
    }
   },
   "source": [
    "### b) Use QR factorization to solve $Ax = b$  for a large (50x50) system of equations\n",
    "<img src =  \"https://i.postimg.cc/QtBJTh8B/QR-solving.jpg\" width = 800>\n",
    "\n",
    "Use the steps provided in the ROB 101 booklet, and your functions to solve.  A and b are declared for you."
   ]
  },
  {
   "cell_type": "code",
   "execution_count": null,
   "metadata": {
    "deletable": false,
    "editable": false,
    "nbgrader": {
     "cell_type": "code",
     "checksum": "b9cee6bebab565e606070397d5e36a19",
     "grade": false,
     "grade_id": "cell-4c2ab6623ccb6c7d",
     "locked": true,
     "schema_version": 3,
     "solution": false,
     "task": false
    }
   },
   "outputs": [],
   "source": [
    "#Run this to declare A and b\n",
    "A = 10*rand(50, 50);\n",
    "b = 10*rand(50,1);"
   ]
  },
  {
   "cell_type": "code",
   "execution_count": null,
   "metadata": {},
   "outputs": [],
   "source": [
    "#First check that the determinant of A is nonzero\n",
    "det(A) != 0"
   ]
  },
  {
   "cell_type": "code",
   "execution_count": null,
   "metadata": {},
   "outputs": [],
   "source": [
    "#Then, factor A into Q and R\n",
    "Q, R = "
   ]
  },
  {
   "cell_type": "code",
   "execution_count": null,
   "metadata": {},
   "outputs": [],
   "source": [
    "#Now compute b-bar \n",
    "b_bar ="
   ]
  },
  {
   "cell_type": "code",
   "execution_count": null,
   "metadata": {
    "deletable": false,
    "nbgrader": {
     "cell_type": "code",
     "checksum": "2304e55e4d79017bd3aef1507df680c9",
     "grade": false,
     "grade_id": "5b",
     "locked": false,
     "schema_version": 3,
     "solution": true,
     "task": false
    }
   },
   "outputs": [],
   "source": [
    "#Solve Rx = b-bar for x.  Store x in a variable x_QR\n",
    "#hint: use the provided backwardsub() function\n",
    "# your code here\n",
    "throw(ErrorException())"
   ]
  },
  {
   "cell_type": "code",
   "execution_count": null,
   "metadata": {
    "deletable": false,
    "editable": false,
    "nbgrader": {
     "cell_type": "code",
     "checksum": "420840e476df8d8668c1b543ca9f201d",
     "grade": true,
     "grade_id": "5bTest",
     "locked": true,
     "points": 1,
     "schema_version": 3,
     "solution": false,
     "task": false
    }
   },
   "outputs": [],
   "source": [
    "#autograder cell"
   ]
  },
  {
   "cell_type": "markdown",
   "metadata": {
    "deletable": false,
    "editable": false,
    "nbgrader": {
     "cell_type": "markdown",
     "checksum": "4a349063db5ed6d2e548a1ecb18b9886",
     "grade": false,
     "grade_id": "cell-f19f9f0736112c4b",
     "locked": true,
     "schema_version": 3,
     "solution": false,
     "task": false
    }
   },
   "source": [
    "### c) Check your answer against an LU factorization method\n",
    "Use the forwardsub() and backwardsub() functions provided."
   ]
  },
  {
   "cell_type": "code",
   "execution_count": null,
   "metadata": {
    "deletable": false,
    "nbgrader": {
     "cell_type": "code",
     "checksum": "b02c7ac7e40c60e99ad58b51d86b610f",
     "grade": false,
     "grade_id": "5c",
     "locked": false,
     "schema_version": 3,
     "solution": true,
     "task": false
    }
   },
   "outputs": [],
   "source": [
    "#Solve for x using LU and store your answer in a variable x_LU\n",
    "# your code here\n",
    "throw(ErrorException())"
   ]
  },
  {
   "cell_type": "code",
   "execution_count": null,
   "metadata": {
    "deletable": false,
    "editable": false,
    "nbgrader": {
     "cell_type": "code",
     "checksum": "17bc481ddf0cf28c8b0ffd78775150ea",
     "grade": true,
     "grade_id": "5cTest",
     "locked": true,
     "points": 1,
     "schema_version": 3,
     "solution": false,
     "task": false
    }
   },
   "outputs": [],
   "source": [
    "#Check to ensure that your anwers are approximately equivalent\n",
    "@assert isapprox(x_QR, x_LU)"
   ]
  },
  {
   "cell_type": "markdown",
   "metadata": {
    "deletable": false,
    "editable": false,
    "nbgrader": {
     "cell_type": "markdown",
     "checksum": "8b6a92155d231fba30c1e253042a6cfd",
     "grade": false,
     "grade_id": "cell-e2d622eb6b91462b",
     "locked": true,
     "schema_version": 3,
     "solution": false,
     "task": false
    }
   },
   "source": [
    "### Problem 6.  Solve a surface regression with QR"
   ]
  },
  {
   "cell_type": "code",
   "execution_count": null,
   "metadata": {
    "deletable": false,
    "editable": false,
    "nbgrader": {
     "cell_type": "code",
     "checksum": "9a2983faf91138f4b610dc25842b8b78",
     "grade": false,
     "grade_id": "cell-e04a3c57b87befee",
     "locked": true,
     "schema_version": 3,
     "solution": false,
     "task": false
    }
   },
   "outputs": [],
   "source": [
    "#this cell generates the data\n",
    "using Random\n",
    "using Distributions\n",
    "using LinearAlgebra\n",
    "using Plots\n",
    "#getting the data ready\n",
    "z(x, y)=0.1*sin.(pi.*x./2) .- 0.1*cos.(pi.*y./3)\n",
    "x = rand(Uniform(-10, 10), 100, 1)\n",
    "y = rand(Uniform(-10, 10), 100, 1)\n",
    "X = sort(x, dims = 1)\n",
    "Y = sort(y, dims = 1)\n",
    "noise = rand(Uniform(-.1, .1), 100, 1)\n",
    "zdata = z(X, Y) + noise\n",
    "p = scatter(X, Y, zdata)"
   ]
  },
  {
   "cell_type": "markdown",
   "metadata": {
    "deletable": false,
    "editable": false,
    "nbgrader": {
     "cell_type": "markdown",
     "checksum": "f4658b025694d09344ae35cacc5d1469",
     "grade": false,
     "grade_id": "cell-543b461dde2146e5",
     "locked": true,
     "schema_version": 3,
     "solution": false,
     "task": false
    }
   },
   "source": [
    "**To Create the Regression model:**\n",
    "1. Create a Phi($\\phi$) matrix that contains all possible terms/combinations of x and y\n",
    "2. Solve $zdata = \\phi * \\alpha$  for alpha using a QR factorization\n",
    "3. The surface regression will be $zFit = \\phi * \\alpha$"
   ]
  },
  {
   "cell_type": "code",
   "execution_count": null,
   "metadata": {
    "deletable": false,
    "editable": false,
    "nbgrader": {
     "cell_type": "code",
     "checksum": "bbfd237ef831b32a8247db8b61fca7be",
     "grade": false,
     "grade_id": "cell-2f75c66ebb3841ce",
     "locked": true,
     "schema_version": 3,
     "solution": false,
     "task": false
    }
   },
   "outputs": [],
   "source": [
    "#Creating a Phi matrix(done for you)\n",
    "phi=[ones(100,1) X Y X.^2 Y.^2 X.*Y X.^3 Y.^3 (X).*(Y.^2) (Y).*(X.^2)];"
   ]
  },
  {
   "cell_type": "markdown",
   "metadata": {
    "deletable": false,
    "editable": false,
    "nbgrader": {
     "cell_type": "markdown",
     "checksum": "4bd77a23644120efad0d966a3e996fcd",
     "grade": false,
     "grade_id": "cell-4e98621bc3fefbb2",
     "locked": true,
     "schema_version": 3,
     "solution": false,
     "task": false
    }
   },
   "source": [
    "**A reminder**\n",
    "<img src =  \"https://i.postimg.cc/QtBJTh8B/QR-solving.jpg\" width = 600>"
   ]
  },
  {
   "cell_type": "code",
   "execution_count": null,
   "metadata": {
    "deletable": false,
    "nbgrader": {
     "cell_type": "code",
     "checksum": "816567650c4059a43918dc37bddf58c2",
     "grade": false,
     "grade_id": "6a",
     "locked": false,
     "schema_version": 3,
     "solution": true,
     "task": false
    }
   },
   "outputs": [],
   "source": [
    "#Solve zdata = phi*alpha for alpha using your qr_fact function\n",
    "#also remember to use the provided back substitution function\n",
    "#store your answer for alpha in a vector called alphaStar\n",
    "# your code here\n",
    "throw(ErrorException())"
   ]
  },
  {
   "cell_type": "code",
   "execution_count": null,
   "metadata": {
    "deletable": false,
    "editable": false,
    "nbgrader": {
     "cell_type": "code",
     "checksum": "f4ce85664411397c3d717fe4a687d264",
     "grade": true,
     "grade_id": "6aTest",
     "locked": true,
     "points": 1,
     "schema_version": 3,
     "solution": false,
     "task": false
    }
   },
   "outputs": [],
   "source": [
    "#autograder cell"
   ]
  },
  {
   "cell_type": "markdown",
   "metadata": {
    "deletable": false,
    "editable": false,
    "nbgrader": {
     "cell_type": "markdown",
     "checksum": "82562331cb387426a21f73d60e3089f8",
     "grade": false,
     "grade_id": "cell-cc461fe98ee3dc77",
     "locked": true,
     "schema_version": 3,
     "solution": false,
     "task": false
    }
   },
   "source": [
    "### b) Fit a surface to the data:\n",
    "1. Every entry of the alphaStar array represents a term in the equation\n",
    "2. Corresponding columns of phi contain the coefficients for the terms of alphaStar\n",
    "\n",
    "Your Task:  Fill in the FOR loop so that zFit gets updated as you add terms.  Each time the for loop runs, all 100 values in zFit should be updated to include the most recent multiplication of a term in alphaStar by a column in phi.  As the loop proceeds, subsequent multiplications should be added to the previous sum."
   ]
  },
  {
   "cell_type": "code",
   "execution_count": null,
   "metadata": {
    "deletable": false,
    "nbgrader": {
     "cell_type": "code",
     "checksum": "ed0d327ff129478b17b3a94565f5fd1c",
     "grade": true,
     "grade_id": "6b",
     "locked": false,
     "points": 1,
     "schema_version": 3,
     "solution": true,
     "task": false
    }
   },
   "outputs": [],
   "source": [
    "#declare zFit\n",
    "zFit = zeros(100)\n",
    "for i in 1:10\n",
    "    #Multiply the i-th term of alphaStar by the i-th column of phi, then add your result to zFit\n",
    "    # your code here\n",
    "    throw(ErrorException())\n",
    "end\n",
    "\n",
    "plot!(X[:,1], Y[:,1], zFit, linetype = :surface)\n",
    "xlims!(-10,10)\n",
    "ylims!(-10, 10)\n",
    "zlims!(-1, 1)"
   ]
  },
  {
   "cell_type": "markdown",
   "metadata": {
    "deletable": false,
    "editable": false,
    "nbgrader": {
     "cell_type": "markdown",
     "checksum": "4909bfdbbe52c35827a365684057c93b",
     "grade": false,
     "grade_id": "cell-3104b7730e8863f5",
     "locked": true,
     "schema_version": 3,
     "solution": false,
     "task": false
    }
   },
   "source": [
    "### Problem 7.  Checking for existence and uniqueness of solutions to $Ax = b$ \n",
    "\n",
    "**Grahm-Schmidt for determining existence of solutions.**\n",
    "\n",
    "We know that a solution to $Ax = b$ exists if $b \\in \\operatorname {span} \\{A_{col}\\} $\n",
    "We also know that $b \\in \\operatorname {span} \\{A_{col}\\} $ **ONLY IF** $ \\operatorname{grahm-schmidt}(A) = \\operatorname {grahm-schmidt}([A, b]) $ , meaning that b is **linearly dependent** on the columns of A.\n",
    "\n",
    "### a) Use your grahm-schmidt function to check for existence of solutions\n",
    "The return statement is completed for you, so you just need to compute gsa and gsab."
   ]
  },
  {
   "cell_type": "code",
   "execution_count": null,
   "metadata": {
    "deletable": false,
    "nbgrader": {
     "cell_type": "code",
     "checksum": "f76c4d6eb757a39616d4411b09a3fa3b",
     "grade": false,
     "grade_id": "7a",
     "locked": false,
     "schema_version": 3,
     "solution": true,
     "task": false
    }
   },
   "outputs": [],
   "source": [
    "#use your grahm_schmidt function inside this function\n",
    "#Assume that A and b are size compatible\n",
    "function sol_exist(A, b)\n",
    "    #fill in the rest of the function\n",
    "    # your code here\n",
    "    throw(ErrorException())\n",
    "    \n",
    "    return isapprox(gsa, gsab[:,1:end-1])\n",
    "end"
   ]
  },
  {
   "cell_type": "code",
   "execution_count": null,
   "metadata": {
    "deletable": false,
    "editable": false,
    "nbgrader": {
     "cell_type": "code",
     "checksum": "94ef4a9841428ac92ba510db3a291412",
     "grade": true,
     "grade_id": "7aTest",
     "locked": true,
     "points": 1,
     "schema_version": 3,
     "solution": false,
     "task": false
    }
   },
   "outputs": [],
   "source": [
    "#test it!\n",
    "A = [1 4 6; 2 3 3; 4 5 6]\n",
    "b = [1; 5; 4]\n",
    "sol_exist(A, b)"
   ]
  },
  {
   "cell_type": "markdown",
   "metadata": {
    "deletable": false,
    "editable": false,
    "nbgrader": {
     "cell_type": "markdown",
     "checksum": "feb527d37440db77c11dab9d5e6418c5",
     "grade": false,
     "grade_id": "cell-d7a52012735f4d5f",
     "locked": true,
     "schema_version": 3,
     "solution": false,
     "task": false
    }
   },
   "source": [
    "**Null Space Computation for determining Uniqueness:**\n",
    "\n",
    "If $Ax = b$ has a solution, it is unique only if the null space of matrix A equals the zero vector.\n",
    "\n",
    "In julia, this looks like a Nx0 array, where N is the number of columns of A."
   ]
  },
  {
   "cell_type": "code",
   "execution_count": null,
   "metadata": {},
   "outputs": [],
   "source": [
    "#An example of using the null() function to calculate null space\n",
    "mat = [1 2 3; 4 5 6; 7 8 9]\n",
    "nullspace(mat)\n",
    "#null space was not the zero vector, therefore a system where A = mat would not have a unique solution\n",
    "#You could have also discovered this because the determinant of mat is zero, so any x vector would be a solution"
   ]
  },
  {
   "cell_type": "code",
   "execution_count": null,
   "metadata": {},
   "outputs": [],
   "source": [
    "#In this example, there is a unique solution\n",
    "mat2 = [1 2 3; 0 4 5; 0 0 6]\n",
    "nullspace(mat2)\n",
    "#notice how the output is a 3x0 Array. This is how Julia stores the 0 vector"
   ]
  },
  {
   "cell_type": "markdown",
   "metadata": {
    "deletable": false,
    "editable": false,
    "nbgrader": {
     "cell_type": "markdown",
     "checksum": "cd0c108e2f2e2afe9c64af2561a36ba8",
     "grade": false,
     "grade_id": "cell-d7f0f497403f1acf",
     "locked": true,
     "schema_version": 3,
     "solution": false,
     "task": false
    }
   },
   "source": [
    "### b)  Use grahm-schmidt and null space to determine if the 100x90 system below has a unique solution\n",
    "The system is in the form $Jx = g$ , where J and g are declared for you below.\n",
    "\n",
    "Hint:  Use your sol_exist function "
   ]
  },
  {
   "cell_type": "code",
   "execution_count": null,
   "metadata": {
    "deletable": false,
    "editable": false,
    "nbgrader": {
     "cell_type": "code",
     "checksum": "1a371f32028bb67141e824d5357e00a7",
     "grade": false,
     "grade_id": "cell-a6e4725d2b87b9cd",
     "locked": true,
     "schema_version": 3,
     "solution": false,
     "task": false
    }
   },
   "outputs": [],
   "source": [
    "#This cell generates the data\n",
    "using Random\n",
    "Random.seed!(187)\n",
    "J = 10*randn(100, 90);\n",
    "g = 10*randn(100, 1);"
   ]
  },
  {
   "cell_type": "code",
   "execution_count": null,
   "metadata": {
    "deletable": false,
    "nbgrader": {
     "cell_type": "code",
     "checksum": "f8603e92427ee55fdf63956a92da08bd",
     "grade": false,
     "grade_id": "7b",
     "locked": false,
     "schema_version": 3,
     "solution": true,
     "task": false
    }
   },
   "outputs": [],
   "source": [
    "#Return either true or false.  You must perform 2 checks\n",
    "function is_sol_unique(J, g)\n",
    "    #check to see if the solution exists, then if it exists, check if it is unique\n",
    "    #if both conditions are met, return true.  If not, return false\n",
    "    \n",
    "    # your code here\n",
    "    throw(ErrorException())\n",
    "    \n",
    "end"
   ]
  },
  {
   "cell_type": "code",
   "execution_count": null,
   "metadata": {
    "deletable": false,
    "editable": false,
    "nbgrader": {
     "cell_type": "code",
     "checksum": "2ae5aba8f89fb3d726c73ebec26ea79e",
     "grade": true,
     "grade_id": "7bTest",
     "locked": true,
     "points": 1,
     "schema_version": 3,
     "solution": false,
     "task": false
    }
   },
   "outputs": [],
   "source": [
    "is_sol_unique(J, g)  #should ouput true"
   ]
  },
  {
   "cell_type": "markdown",
   "metadata": {
    "deletable": false,
    "nbgrader": {
     "cell_type": "markdown",
     "checksum": "f1fbd1494a3b5e34f7f169922da8624b",
     "grade": true,
     "grade_id": "8",
     "locked": false,
     "points": 1,
     "schema_version": 3,
     "solution": true,
     "task": false
    }
   },
   "source": [
    "### Problem 8. True or False: $x\\in null(A) \\iff x$ is orthogonal to each of the columns of $A^\\top$\n",
    "Explain your answer.  \n",
    "\n",
    "Before answering,  either work out the answer analytically (i.e., prove or disprove the statement) OR play around with examples in Julia.  \n",
    "YOUR ANSWER HERE"
   ]
  },
  {
   "cell_type": "code",
   "execution_count": null,
   "metadata": {},
   "outputs": [],
   "source": [
    "#Here is a space for code experimentation:\n"
   ]
  }
 ],
 "metadata": {
  "kernelspec": {
   "display_name": "Julia 1.5.0",
   "language": "julia",
   "name": "julia-1.5"
  },
  "language_info": {
   "file_extension": ".jl",
   "mimetype": "application/julia",
   "name": "julia",
   "version": "1.5.0"
  }
 },
 "nbformat": 4,
 "nbformat_minor": 4
}
