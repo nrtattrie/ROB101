{
 "cells": [
  {
   "cell_type": "code",
   "execution_count": 2,
   "metadata": {},
   "outputs": [
    {
     "data": {
      "text/plain": [
       "Plots.GRBackend()"
      ]
     },
     "execution_count": 2,
     "metadata": {},
     "output_type": "execute_result"
    }
   ],
   "source": [
    "# Initialize my notebook\n",
    "using LinearAlgebra\n",
    "using Random\n",
    "using Plots\n",
    "gr()"
   ]
  },
  {
   "cell_type": "markdown",
   "metadata": {},
   "source": [
    "# SVD (Singular Value Decomposition) \n",
    "\n",
    "\n"
   ]
  },
  {
   "cell_type": "markdown",
   "metadata": {},
   "source": [
    " ## **Definition** An $n \\times m$ matrix $\\Sigma$ is a **Rectangular Diagonal Matrix** if $$ \\Sigma_{ij} = 0~~\\text{for}~~ i \\ne j.$$\n",
    "\n",
    "Alternative and equivalent way to define Rectangular Diagonal is \n",
    "1. (tall matrix) $n > m$:   $\\Sigma = \\left[ \\begin{array}{c} \\Sigma_{d} \\\\ 0 \\end{array} \\right]$, where $\\Sigma_{d}$ is an $m \\times m$ diagonal matrix.\n",
    "\n",
    ".\n",
    "\n",
    "2. (wide matrix) $n < m$: $\\Sigma = \\left[ \\begin{array}{cc} \\Sigma_{d} & 0 \\end{array} \\right]$,  where $\\Sigma_{d}$ is an $n \\times n$ diagonal matrix.\n",
    "\n",
    "\n",
    ".\n",
    "The **diagonal** of $\\Sigma$ is defined to be the diagonal of $ \\Sigma_{d}$."
   ]
  },
  {
   "cell_type": "code",
   "execution_count": 3,
   "metadata": {},
   "outputs": [
    {
     "data": {
      "text/plain": [
       "2×4 Array{Int64,2}:\n",
       " 2  0  0  0\n",
       " 0  1  0  0"
      ]
     },
     "execution_count": 3,
     "metadata": {},
     "output_type": "execute_result"
    }
   ],
   "source": [
    "Σ = [2 0 0 0;0 1 0 0]"
   ]
  },
  {
   "cell_type": "code",
   "execution_count": 4,
   "metadata": {},
   "outputs": [
    {
     "data": {
      "text/plain": [
       "2-element Array{Int64,1}:\n",
       " 2\n",
       " 1"
      ]
     },
     "execution_count": 4,
     "metadata": {},
     "output_type": "execute_result"
    }
   ],
   "source": [
    "diag(Σ)"
   ]
  },
  {
   "cell_type": "code",
   "execution_count": 5,
   "metadata": {},
   "outputs": [
    {
     "data": {
      "text/plain": [
       "4×2 Array{Int64,2}:\n",
       " 4  0\n",
       " 0  3\n",
       " 0  0\n",
       " 0  0"
      ]
     },
     "execution_count": 5,
     "metadata": {},
     "output_type": "execute_result"
    }
   ],
   "source": [
    "Σ=[4 0; 0 3; 0 0; 0 0]"
   ]
  },
  {
   "cell_type": "code",
   "execution_count": 6,
   "metadata": {},
   "outputs": [
    {
     "data": {
      "text/plain": [
       "2-element Array{Int64,1}:\n",
       " 4\n",
       " 3"
      ]
     },
     "execution_count": 6,
     "metadata": {},
     "output_type": "execute_result"
    }
   ],
   "source": [
    "diag(Σ)"
   ]
  },
  {
   "cell_type": "markdown",
   "metadata": {},
   "source": [
    "# Theorem SVD  \n",
    "## (The best way to count the number of linearly independent vectors in a set)\n",
    "\n",
    "### Every $n \\times m$ real matrix A can be factored as $$A = U \\cdot \\Sigma \\cdot V^\\top,$$ \n",
    "\n",
    "### where $U$ is an $n \\times n$ orthogonal matrix, $V$ is an $m \\times m$ orthogonal matrix, $\\Sigma$ is an $n \\times m$ rectangular diagonal matrix, and the diagonal of $\\Sigma$, $$\\operatorname{diag}(\\Sigma) = \\left[ \\sigma_1, \\sigma_2, \\dotsb , \\sigma_p \\right],$$ \n",
    "\n",
    "### satisfies $ \\sigma_1 \\ge \\sigma_2 \\ge \\dotsb  \\ge \\sigma_p \\ge 0$, for $p:={\\min}(n,m)$.\n",
    "\n"
   ]
  },
  {
   "cell_type": "code",
   "execution_count": 7,
   "metadata": {},
   "outputs": [],
   "source": [
    "# ? svd"
   ]
  },
  {
   "cell_type": "code",
   "execution_count": 8,
   "metadata": {},
   "outputs": [
    {
     "name": "stdout",
     "output_type": "stream",
     "text": [
      "F.S contains the singular values as a vector = diag(Σ)\n"
     ]
    },
    {
     "data": {
      "text/plain": [
       "3-element Array{Float64,1}:\n",
       " 1.7558653208745147\n",
       " 0.8753885277133551\n",
       " 0.47693365441604857"
      ]
     },
     "execution_count": 8,
     "metadata": {},
     "output_type": "execute_result"
    }
   ],
   "source": [
    "A=rand(4,3)\n",
    "F=svd(A)\n",
    "U=F.U  # gives U\n",
    "V=F.V  # gives V\n",
    "println(\"F.S contains the singular values as a vector = diag(Σ)\")\n",
    "Sigma=F.S"
   ]
  },
  {
   "cell_type": "code",
   "execution_count": null,
   "metadata": {},
   "outputs": [],
   "source": [
    "# A = U*Σ*V'  ==> Σ=U'*A*V\n",
    "@show diag(U'*A*V)\n",
    "U'*A*V"
   ]
  },
  {
   "cell_type": "markdown",
   "metadata": {},
   "source": [
    "### Recall: The **rank** of an $n \\times m$ matrix $A$ is the dimension of its column span and the **nullity** of $A$ is the dimension of its null space. \n",
    "\n",
    "## Let $r$ be the number of non-zero singular values of $A$. Then\n",
    "\n",
    "\n",
    "### **Fact:** ${\\rm rank}(A):=\\dim {\\rm col span}(A) = r$.\n",
    "\n",
    "    \n",
    "### **Fact:** ${\\rm nullity}(A):=\\dim {\\rm null}(A) = m-r$."
   ]
  },
  {
   "cell_type": "code",
   "execution_count": 9,
   "metadata": {},
   "outputs": [
    {
     "data": {
      "text/plain": [
       "4-element Array{Float64,1}:\n",
       " 3.0412479470028875\n",
       " 1.5162174063624476\n",
       " 0.826073321288093\n",
       " 4.860637698250026e-16"
      ]
     },
     "execution_count": 9,
     "metadata": {},
     "output_type": "execute_result"
    }
   ],
   "source": [
    "B=[A A A] # should have same number of linearly independent columns as A itslef!\n",
    "F=svd(B)\n",
    "F.S"
   ]
  },
  {
   "cell_type": "code",
   "execution_count": null,
   "metadata": {},
   "outputs": [],
   "source": []
  },
  {
   "cell_type": "markdown",
   "metadata": {},
   "source": [
    "## The smallest singular value of a matrix measures the distance of the matrix to one  of lower rank! "
   ]
  },
  {
   "cell_type": "code",
   "execution_count": null,
   "metadata": {},
   "outputs": [],
   "source": []
  },
  {
   "cell_type": "markdown",
   "metadata": {},
   "source": [
    "So far, we have only defined the norm of a vector. However, it is also useful to measure the ``length'' of matrices. \n",
    "\n",
    "## Def. (Induced Matrix Norm)\n",
    "Given an $n \\times m$ real matrix  $A$, **the matrix norm induced by the Euclidean vector norm** is given by:\n",
    "$$||A|| :=\\max_{x^\\top x = 1} ||Ax|| = \\sqrt{ \\lambda_{\\rm max}(A^\\top A) }$$\n",
    "where $\\lambda_{\\rm max}(A^\\top A)$ denotes the largest eigenvalue of the matrix $A^\\top A$. \n",
    "\n",
    "**Fact:** Matrices of the form $A^\\top A$ have real non-negative  e-values. Therefore, the square root exists."
   ]
  },
  {
   "cell_type": "code",
   "execution_count": null,
   "metadata": {},
   "outputs": [],
   "source": [
    "? norm"
   ]
  },
  {
   "cell_type": "code",
   "execution_count": 12,
   "metadata": {},
   "outputs": [
    {
     "name": "stdout",
     "output_type": "stream",
     "text": [
      "opnorm(A) = 1.7558653208745145\n"
     ]
    },
    {
     "data": {
      "text/plain": [
       "1.7558653208745127"
      ]
     },
     "execution_count": 12,
     "metadata": {},
     "output_type": "execute_result"
    }
   ],
   "source": [
    "@show opnorm(A)\n",
    "E=eigen(A'*A)\n",
    "maximum(sqrt.(E.values))"
   ]
  },
  {
   "cell_type": "code",
   "execution_count": 16,
   "metadata": {},
   "outputs": [
    {
     "name": "stdout",
     "output_type": "stream",
     "text": [
      "F.S contains the singular values as a vector = diag(Σ)\n"
     ]
    },
    {
     "data": {
      "text/plain": [
       "6-element Array{Float64,1}:\n",
       " 2.9832172574858347\n",
       " 0.7231399660124446\n",
       " 0.4610637156416218\n",
       " 4.68331322422463e-16\n",
       " 4.8339925367820616e-17\n",
       " 1.133327499343918e-17"
      ]
     },
     "execution_count": 16,
     "metadata": {},
     "output_type": "execute_result"
    }
   ],
   "source": [
    "D=rand(4,3)\n",
    "A=[D D;D D]\n",
    "F=svd(A)\n",
    "U=F.U  # gives U\n",
    "V=F.V  # gives V\n",
    "println(\"F.S contains the singular values as a vector = diag(Σ)\")\n",
    "S=F.S\n"
   ]
  },
  {
   "cell_type": "code",
   "execution_count": 22,
   "metadata": {},
   "outputs": [
    {
     "name": "stdout",
     "output_type": "stream",
     "text": [
      "The induced norm (aka, operator norm) measures the distance of a matrix from one of lower rank\n"
     ]
    },
    {
     "data": {
      "text/plain": [
       "0.4610637156416215"
      ]
     },
     "execution_count": 22,
     "metadata": {},
     "output_type": "execute_result"
    }
   ],
   "source": [
    "println(\"The induced norm (aka, operator norm) measures the distance of a matrix from one of lower rank\")\n",
    "E=S[3]*U[:,3]*V[:,3]'\n",
    "normE=opnorm(E)"
   ]
  },
  {
   "cell_type": "code",
   "execution_count": 23,
   "metadata": {},
   "outputs": [
    {
     "name": "stdout",
     "output_type": "stream",
     "text": [
      "We perturb A by the matrix E, which we just showed has ||E||=0.4610637156416215\n"
     ]
    },
    {
     "data": {
      "text/plain": [
       "6-element Array{Float64,1}:\n",
       " 2.9832172574858347\n",
       " 0.7231399660124446\n",
       " 4.700418615533903e-16\n",
       " 2.061310067405148e-16\n",
       " 1.7251789606735454e-17\n",
       " 2.8944701367496275e-31"
      ]
     },
     "execution_count": 23,
     "metadata": {},
     "output_type": "execute_result"
    }
   ],
   "source": [
    "println(\"We perturb A by the matrix E, which we just showed has ||E||=$normE\")\n",
    "B=A-E\n",
    "Fb=svd(B)\n",
    "Sb=Fb.S"
   ]
  },
  {
   "cell_type": "code",
   "execution_count": null,
   "metadata": {},
   "outputs": [],
   "source": []
  }
 ],
 "metadata": {
  "@webio": {
   "lastCommId": null,
   "lastKernelId": null
  },
  "kernelspec": {
   "display_name": "Julia 1.5.0",
   "language": "julia",
   "name": "julia-1.5"
  },
  "language_info": {
   "file_extension": ".jl",
   "mimetype": "application/julia",
   "name": "julia",
   "version": "1.5.2"
  }
 },
 "nbformat": 4,
 "nbformat_minor": 4
}
