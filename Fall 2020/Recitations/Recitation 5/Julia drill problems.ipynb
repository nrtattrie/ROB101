{
 "cells": [
  {
   "cell_type": "code",
   "execution_count": null,
   "metadata": {},
   "outputs": [],
   "source": [
    "using Random\n",
    "using LinearAlgebra"
   ]
  },
  {
   "cell_type": "markdown",
   "metadata": {},
   "source": [
    "## Check Linear independence \n",
    "\n",
    "For Columns of A, where\n",
    "\\begin{equation}\n",
    "A = \\left[\n",
    "\\begin{array}{ccc}\n",
    "-4.0 & 4.5 & 3.3 \\\\\n",
    "-1.3 & -3.5 & 1.0 \\\\\n",
    "2.4 & 4.9 & -4.2 \\\\\n",
    "-3.8 & 1.6 & -2.0 \\\\\n",
    "\\end{array}\n",
    "\\right]\n",
    "\\end{equation}\n"
   ]
  },
  {
   "cell_type": "code",
   "execution_count": null,
   "metadata": {
    "scrolled": true
   },
   "outputs": [],
   "source": [
    "# magic trick, will always give the array in the drill problem! \n",
    "Random.seed!(1234)\n",
    "A = rand(-5:0.1:5,4,3)"
   ]
  },
  {
   "cell_type": "markdown",
   "metadata": {},
   "source": [
    "Bigger Problem, \n",
    "\\begin{equation}\n",
    "A = \\left[\n",
    "\\begin{array}{cccccccccc}\n",
    "2.4 & 4.1 & 0.9 & -0.5 & -0.9 & -2.2 & -4.6 & 3.0 & 0.1 & -4.0 \\\\\n",
    "-0.6 & 4.0 & -4.6 & -4.5 & -3.0 & 1.1 & 4.7 & -3.2 & 4.1 & -3.6 \\\\\n",
    "-2.1 & 1.7 & -5.0 & 2.4 & 1.7 & 0.8 & 4.1 & -4.3 & -3.7 & -4.7 \\\\\n",
    "1.9 & -0.8 & -4.9 & 4.3 & -5.0 & 4.3 & 1.1 & 0.1 & 1.0 & 1.7 \\\\\n",
    "0.6 & 4.0 & -3.8 & -0.2 & -3.5 & -2.6 & 3.9 & 5.0 & 2.7 & 1.0 \\\\\n",
    "3.2 & 4.6 & 1.5 & 4.6 & 4.3 & 1.0 & -3.2 & -0.3 & -2.8 & -0.3 \\\\\n",
    "\\end{array}\n",
    "\\right]\n",
    "\\end{equation}"
   ]
  },
  {
   "cell_type": "code",
   "execution_count": null,
   "metadata": {},
   "outputs": [],
   "source": [
    "A = rand(-5:0.1:5,6,10)"
   ]
  },
  {
   "cell_type": "markdown",
   "metadata": {},
   "source": [
    "## Solutions of Ax=b\n",
    "\n",
    "Using the Semi-Pro-tip, examine if the given system of equation written as $Ax = b$ has a solution\n",
    "\n",
    "$$A =\n",
    "\\left[\n",
    "\\begin{array}{ccc}\n",
    "-2.4 & -2.1 & -2.6 \\\\\n",
    "-0.8 & 2.9 & -1.2 \\\\\n",
    "1.5 & 1.0 & 1.5 \\\\\n",
    "-2.3 & 2.0 & -0.4 \\\\\n",
    "2.7 & 0.6 & -1.3 \\\\\n",
    "\\end{array}\n",
    "\\right],\n",
    "\\text{ and } b=\\left[\n",
    "\\begin{array}{c}\n",
    "7 \\\\\n",
    "6 \\\\\n",
    "9 \\\\\n",
    "9 \\\\\n",
    "9 \\\\\n",
    "\\end{array}\n",
    "\\right]$$\n"
   ]
  },
  {
   "cell_type": "code",
   "execution_count": null,
   "metadata": {},
   "outputs": [],
   "source": [
    "Random.seed!(1234)\n",
    "A = rand(-3:0.1:3,5,3)"
   ]
  },
  {
   "cell_type": "code",
   "execution_count": null,
   "metadata": {
    "scrolled": true
   },
   "outputs": [],
   "source": [
    "b = rand(0:10,5,1)"
   ]
  },
  {
   "cell_type": "markdown",
   "metadata": {},
   "source": [
    "Similarly for:\n",
    "$$\n",
    "A =\n",
    "\\left[\n",
    "\\begin{array}{ccccccc}\n",
    "-4.0 & 1.6 & -2.1 & -0.8 & -3.8 & 4.6 & -2.2 \\\\\n",
    "-1.3 & 3.3 & 1.9 & 4.0 & 1.5 & -0.9 & 1.1 \\\\\n",
    "2.4 & 1.0 & 0.6 & 4.6 & -0.5 & -3.0 & 0.8 \\\\\n",
    "-3.8 & -4.2 & 3.2 & 0.9 & -4.5 & 1.7 & 4.3 \\\\\n",
    "4.5 & -2.0 & 4.1 & -4.6 & 2.4 & -5.0 & -2.6 \\\\\n",
    "-3.5 & 2.4 & 4.0 & -5.0 & 4.3 & -3.5 & 1.0 \\\\\n",
    "4.9 & -0.6 & 1.7 & -4.9 & -0.2 & 4.3 & -4.6 \\\\\n",
    "\\end{array}\n",
    "\\right]\n",
    ",\\text{ and } \n",
    "b = \n",
    "\\left[\n",
    "\\begin{array}{c}\n",
    "10\\\\\n",
    " 10\\\\\n",
    "  7\\\\\n",
    "  9\\\\\n",
    "  2\\\\\n",
    "  8\\\\\n",
    "  2\\\\\n",
    "\\end{array}\n",
    "\\right]\n",
    "$$\n"
   ]
  },
  {
   "cell_type": "code",
   "execution_count": null,
   "metadata": {},
   "outputs": [],
   "source": [
    "Random.seed!(1234)\n",
    "A = rand(-5:0.1:5,7,7)"
   ]
  },
  {
   "cell_type": "code",
   "execution_count": null,
   "metadata": {},
   "outputs": [],
   "source": [
    "b = rand(1:10,7,1)"
   ]
  }
 ],
 "metadata": {
  "kernelspec": {
   "display_name": "Julia 1.5.1",
   "language": "julia",
   "name": "julia-1.5"
  },
  "language_info": {
   "file_extension": ".jl",
   "mimetype": "application/julia",
   "name": "julia",
   "version": "1.5.1"
  }
 },
 "nbformat": 4,
 "nbformat_minor": 4
}
