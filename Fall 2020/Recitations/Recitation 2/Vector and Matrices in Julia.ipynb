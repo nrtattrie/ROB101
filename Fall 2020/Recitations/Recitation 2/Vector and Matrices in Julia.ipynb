{
 "cells": [
  {
   "cell_type": "markdown",
   "metadata": {},
   "source": [
    "# Vectors and Matrices in Julia\n",
    "\n",
    "We have seen the power using matrices and vectors in our computation, when working on our drill problems in class for solving a big system of linear equations. \n",
    "\n",
    "The purpose of this notebook is to go over these concepts in Julia. \n",
    "\n",
    "Note: Vectors and Matrices in Julia are called **Arrays**, and that is what we will call through the rest of this notebook "
   ]
  },
  {
   "cell_type": "markdown",
   "metadata": {},
   "source": [
    "# Arrays\n",
    "\n",
    "An array is a collection of objects (usually numerical) stored sequentially in memory and arranged as a grid.\n",
    "\n",
    "It is used to store a collection of data, but it is often more useful to think of an array as a collection of variables of the SAME TYPE. "
   ]
  },
  {
   "cell_type": "markdown",
   "metadata": {},
   "source": [
    "## Vectors\n",
    "\n",
    "From our understanding of Math we know that Vectors are one dimensional Matrices, i.e. they can have either just a row (Row Vectors or a column (Column Vector). \n",
    "\n",
    "Julia understands vectors the same way. \n",
    "\n",
    "So Vectors in Julia are just *Type Aliases* (another word or an alias for a type (Array))  of one dimensional Arrays. \n"
   ]
  },
  {
   "cell_type": "code",
   "execution_count": null,
   "metadata": {
    "scrolled": true
   },
   "outputs": [],
   "source": [
    "array = Vector{Int64}"
   ]
  },
  {
   "cell_type": "code",
   "execution_count": null,
   "metadata": {
    "scrolled": true
   },
   "outputs": [],
   "source": [
    "a = Vector{Int64}(undef,10)"
   ]
  },
  {
   "cell_type": "code",
   "execution_count": null,
   "metadata": {},
   "outputs": [],
   "source": [
    "b = Vector{String}(undef,5)"
   ]
  },
  {
   "cell_type": "markdown",
   "metadata": {},
   "source": [
    "Look harder than MATLAB, no? Having to write sizes , specifying type and Initializing! \n",
    "\n",
    "We promising Julia was Simpler, and it is! \n",
    "\n",
    "Other, and infact the most commonly (and you only need to know these) used methods initializing an array as:"
   ]
  },
  {
   "cell_type": "code",
   "execution_count": null,
   "metadata": {
    "scrolled": true
   },
   "outputs": [],
   "source": [
    "# Return a vector in Julia, vectors are in general, column vectors\n",
    "a = [1,2,3,4,5]"
   ]
  },
  {
   "cell_type": "markdown",
   "metadata": {},
   "source": [
    "The default vectors in Julia are column vector, row vectors exist obviously but for Julia, the type alias Vector only applies to one dimensional column vectors. \n",
    "\n",
    "To separate these columns we can either use the ```,``` or the ```;``` operators. "
   ]
  },
  {
   "cell_type": "code",
   "execution_count": null,
   "metadata": {
    "scrolled": true
   },
   "outputs": [],
   "source": [
    "# Another way to get a vector in Julia, \n",
    "b = [1;2;3;4;5]\n",
    "size(b)"
   ]
  },
  {
   "cell_type": "markdown",
   "metadata": {},
   "source": [
    "Now what if we really did want a row vector. Well, you can do that in Julia, It's just not called a vector. In that you cant initialize using the vector keyword like we did before, but you're not going to be doing that anyway.\n",
    "\n",
    "So how do we get a row 'vector' (Array). We remove the ```,``` from in there, and voila. "
   ]
  },
  {
   "cell_type": "code",
   "execution_count": null,
   "metadata": {
    "scrolled": false
   },
   "outputs": [],
   "source": [
    "c = [1 2 3 4 5]\n"
   ]
  },
  {
   "cell_type": "markdown",
   "metadata": {},
   "source": [
    "Let's compare these now"
   ]
  },
  {
   "cell_type": "code",
   "execution_count": null,
   "metadata": {},
   "outputs": [],
   "source": [
    "a == b"
   ]
  },
  {
   "cell_type": "code",
   "execution_count": null,
   "metadata": {},
   "outputs": [],
   "source": [
    "a == c"
   ]
  },
  {
   "cell_type": "markdown",
   "metadata": {},
   "source": [
    "Which is expected because even though the elements in the two are exactly the same. The type is different! "
   ]
  },
  {
   "cell_type": "markdown",
   "metadata": {},
   "source": [
    "# Matrices\n",
    "\n",
    "Matrices in Julia invariably translate to Arrays! No ambiguity, infact as we say for all Julia cares, Vectors are Arrays too. \n",
    "We've already learned how to initantiate vector (Arrays of one dimension). Now let's learn how to instantiate Matrices (Arrays of any dimension)"
   ]
  },
  {
   "cell_type": "code",
   "execution_count": null,
   "metadata": {
    "scrolled": true
   },
   "outputs": [],
   "source": [
    "Matrix = [1 2 3;4 5 6]"
   ]
  },
  {
   "cell_type": "code",
   "execution_count": null,
   "metadata": {},
   "outputs": [],
   "source": [
    "# careful not to use \",\" between your row elemnets, which maybe an instinct for people that use MATLAB\n",
    "Array = [1,2,3;4,5,6]"
   ]
  },
  {
   "cell_type": "markdown",
   "metadata": {},
   "source": [
    "Remember that we said, it is often more useful to think of an array as a collection of variables of the SAME TYPE.\n",
    "\n",
    "Lucky for us, we don't have to worry about types in Julia, this will be counterintutive to people that know C or Python! "
   ]
  },
  {
   "cell_type": "code",
   "execution_count": null,
   "metadata": {
    "scrolled": true
   },
   "outputs": [],
   "source": [
    "A = [1 2 \"Hello\"; 3 4 \"Geeks\"] "
   ]
  },
  {
   "cell_type": "markdown",
   "metadata": {},
   "source": [
    "Let us now look at some common operations that we could want to carry out on our Arrays"
   ]
  },
  {
   "cell_type": "code",
   "execution_count": null,
   "metadata": {
    "scrolled": true
   },
   "outputs": [],
   "source": [
    "@show size(A)\n",
    "\n",
    "@show size(A, 1)\n",
    "\n",
    "@show size(A, 2)\n",
    "\n",
    "@show length(A)\n",
    "\n",
    "@show ndims(A);"
   ]
  },
  {
   "cell_type": "markdown",
   "metadata": {},
   "source": [
    "### *Alert, Optional Content*:\n",
    "\n",
    "\n",
    "Usually in programming, we have to specify the Array size and type to be able use it anywhere in our. While Julia let's us get away with and has the compiler figure it out. Sometimes it can be in our benefit to specify sizes, like giving a cheat sheet to our compiler that helps it erserce the appropriate amount of space beforehand and speeing up our code. This will however only be significant when the data you are storing is huge and also has a fixed type and dimension.\n",
    "\n",
    "Which explains why don't want you to worry about it, but in general to understand code you might find online or in reading Julia documentation, this methods of specifying Arrays can be useful. \n",
    "\n",
    "So to create an empty array of with ```N``` dimensions, Type ```T``` and size ```dims```, we write initiate it using ```Array{T,N}(undef,dims)```"
   ]
  },
  {
   "cell_type": "code",
   "execution_count": null,
   "metadata": {},
   "outputs": [],
   "source": [
    "# An empty vector \n",
    "Empty_Vector = Array{Number, 1}(undef,(2))"
   ]
  },
  {
   "cell_type": "code",
   "execution_count": null,
   "metadata": {},
   "outputs": [],
   "source": [
    "# An empty 2 dimensional Array or Matrix \n",
    "Empty_Matrix = Array{Number, 2}(undef,(2,2))"
   ]
  },
  {
   "cell_type": "markdown",
   "metadata": {},
   "source": [
    "An Array of two dimensions, has the type alias Matrix. "
   ]
  },
  {
   "cell_type": "code",
   "execution_count": null,
   "metadata": {
    "scrolled": true
   },
   "outputs": [],
   "source": [
    "B = Matrix{Int}"
   ]
  },
  {
   "cell_type": "code",
   "execution_count": null,
   "metadata": {
    "scrolled": true
   },
   "outputs": [],
   "source": [
    "C = Matrix{Int}(undef,2,3)"
   ]
  },
  {
   "cell_type": "markdown",
   "metadata": {},
   "source": [
    "Can we have a higher dimension of an Array. Think a collection of points in 3D. (x,y,z)"
   ]
  },
  {
   "cell_type": "code",
   "execution_count": null,
   "metadata": {},
   "outputs": [],
   "source": [
    "A = Array{Number,3}(undef, (2, 2, 2))"
   ]
  },
  {
   "cell_type": "markdown",
   "metadata": {},
   "source": [
    "Now, we will focus on Just Matrices, So 2 Dimensional Arrays are enough for us for now! \n",
    "\n",
    "### Functions that can be used to initialize Arrays\n",
    "\n",
    "There are several functions that can be used to create Arrays for us with special features. Lets have a look"
   ]
  },
  {
   "cell_type": "code",
   "execution_count": null,
   "metadata": {},
   "outputs": [],
   "source": [
    "zeros(2,2)"
   ]
  },
  {
   "cell_type": "code",
   "execution_count": null,
   "metadata": {},
   "outputs": [],
   "source": [
    "ones(3,3)"
   ]
  },
  {
   "cell_type": "code",
   "execution_count": null,
   "metadata": {},
   "outputs": [],
   "source": [
    "rand(1,2)"
   ]
  },
  {
   "cell_type": "code",
   "execution_count": null,
   "metadata": {},
   "outputs": [],
   "source": [
    "randn(1,2)"
   ]
  },
  {
   "cell_type": "code",
   "execution_count": null,
   "metadata": {
    "scrolled": true
   },
   "outputs": [],
   "source": [
    "a_matrix = Diagonal(a);\n",
    "@show a_matrix;"
   ]
  },
  {
   "cell_type": "markdown",
   "metadata": {},
   "source": [
    "## Indexing and slicing\n",
    "\n",
    "When working with our Arrays we need to constantly manipulate them, one way or another, the way to do access these elments is aclled indexing an array. \n",
    "\n",
    "When getting a range of elements from an array we need to slicing, specifying ranges using ```:``` operator.\n",
    "\n",
    "Let's see some examples:\n"
   ]
  },
  {
   "cell_type": "code",
   "execution_count": null,
   "metadata": {},
   "outputs": [],
   "source": [
    "New_Array = [1 2 3 4;5 6 7 8]"
   ]
  },
  {
   "cell_type": "code",
   "execution_count": null,
   "metadata": {},
   "outputs": [],
   "source": [
    "@show New_Array[1,1]\n",
    "\n",
    "@show New_Array[1,2]\n",
    "\n",
    "@show New_Array[3,3]"
   ]
  },
  {
   "cell_type": "code",
   "execution_count": null,
   "metadata": {},
   "outputs": [],
   "source": [
    "@show New_Array[1,:]\n",
    "\n",
    "@show New_Array[1:2,3]\n",
    "\n",
    "@show New_Array[1:2,:];"
   ]
  },
  {
   "cell_type": "markdown",
   "metadata": {},
   "source": [
    "Some other operations that can used to index these Arrays meaningfully are:\n"
   ]
  },
  {
   "cell_type": "code",
   "execution_count": null,
   "metadata": {},
   "outputs": [],
   "source": [
    "maximum(New_Array)"
   ]
  },
  {
   "cell_type": "code",
   "execution_count": null,
   "metadata": {},
   "outputs": [],
   "source": [
    "minimum(New_Array)"
   ]
  },
  {
   "cell_type": "markdown",
   "metadata": {},
   "source": [
    "# Solving the system of equations from our Drill Problems!"
   ]
  },
  {
   "cell_type": "markdown",
   "metadata": {},
   "source": [
    "# Forward Substitution\n",
    "\n",
    "$\\begin{align*}\n",
    "        2x_1 &= 4\\\\\n",
    "        8x_1 + 3x_2 &= 28\\\\\n",
    "        2x_1 + 3x_2 + x_3 &= 22\\\\\n",
    "       2x_1 + 2x_2 + 3x_3 + 2x_4 &= 46\n",
    "    \\end{align*}$"
   ]
  },
  {
   "cell_type": "code",
   "execution_count": null,
   "metadata": {},
   "outputs": [],
   "source": [
    "x = zeros(4);\n",
    "A = [];\n",
    "b = [];\n",
    "\n"
   ]
  },
  {
   "cell_type": "markdown",
   "metadata": {},
   "source": [
    "# Backward Substitution\n",
    "\n",
    "$\\begin{align*}\n",
    "        2x_1 + 2x_2 + 3x_3 + 4x_4 &= 20\\\\\n",
    "        5x_2 + 6x_3 + 7x_4 &= 34\\\\\n",
    "       8x_3 + 9x_4 &= 25\\\\\n",
    "       10x_4 &= 10\n",
    "    \\end{align*}$"
   ]
  },
  {
   "cell_type": "code",
   "execution_count": null,
   "metadata": {},
   "outputs": [],
   "source": [
    "x = zeros(4);\n",
    "A = [];\n",
    "b = [];\n",
    "\n"
   ]
  }
 ],
 "metadata": {
  "kernelspec": {
   "display_name": "Julia 1.5.1",
   "language": "julia",
   "name": "julia-1.5"
  },
  "language_info": {
   "file_extension": ".jl",
   "mimetype": "application/julia",
   "name": "julia",
   "version": "1.5.1"
  }
 },
 "nbformat": 4,
 "nbformat_minor": 4
}
