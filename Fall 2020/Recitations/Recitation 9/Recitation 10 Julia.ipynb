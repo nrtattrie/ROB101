{
 "cells": [
  {
   "cell_type": "markdown",
   "metadata": {},
   "source": [
    "# Regression: Review\n",
    "\n",
    "### Regression is usually referred to the problem of finding a model fit from a given set of measurements. \n",
    "\n",
    "#### We get solution for this problem by posing it as a overdetermined system of equations, and solve for the least squares solution. The least square in this formulation means the square of the norm of our residual (error in predicted and measured values)"
   ]
  },
  {
   "cell_type": "markdown",
   "metadata": {},
   "source": [
    "In the project we have used the recommended QR factorisation pipeline for solving a least squares problem. The formulation of the problem in this case looks like:"
   ]
  },
  {
   "cell_type": "markdown",
   "metadata": {},
   "source": [
    "[![QR-Axb-pipeline.png](https://i.postimg.cc/dtHdnyrV/QR-Axb-pipeline.png)](https://postimg.cc/kBSBgDT0)"
   ]
  },
  {
   "cell_type": "markdown",
   "metadata": {},
   "source": [
    "### Relation to Regression"
   ]
  },
  {
   "cell_type": "markdown",
   "metadata": {},
   "source": [
    "### Examples From Class\n",
    "\n",
    "Let's suppose that we wish to fit a linear model  $\\hat{y}=mx+b$ to the data"
   ]
  },
  {
   "cell_type": "markdown",
   "metadata": {},
   "source": [
    "Let $$x = \\left[\\begin{array}{cc}\n",
    "    x_1\\\\\n",
    "    x_2 \\\\\n",
    "    \\vdots\\\\\n",
    "    x_N \n",
    "\\end{array}  \\right]\n",
    "$$ be a vector of data points that we want to fit in a line \n",
    "$$y_i = m x_i +b = \\begin{bmatrix} x_i & 1 \\end{bmatrix} \\begin{bmatrix} m \\\\ b \\end{bmatrix},  ~~1 \\le i \\le N,$$ \n",
    "\\begin{equation}\n",
    "    \\label{eq:FirstRegressionModel02}\n",
    "\\underbrace{\\begin{bmatrix} y_1 \\\\ y_2 \\\\ \\vdots \\\\y_N \\end{bmatrix}}_{Y} = \\underbrace{\\left[\\begin{array}{cc}\n",
    "    x_1 & 1 \\\\\n",
    "    x_2  & 1 \\\\\n",
    "    \\vdots & 1 \\\\\n",
    "    x_N & 1\n",
    "\\end{array}  \\right]}_{\\Phi} \\cdot  \\underbrace{\\begin{bmatrix} m \\\\ b \\end{bmatrix}}_{\\alpha},\n",
    "\\end{equation}\n",
    "\n",
    "We formulate the problem as a regression problem as:\n",
    "\n",
    "where $Y$ is the vector of $y$-data, $\\Phi$ is called the **regressor matrix** and $\\alpha$ is the vector of **unknown coefficients** that parameterize the  model.\n",
    "\n",
    "The error that we are trying to minimize is $||Y-\\Phi \\alpha ||^2$. From our least squares formulation, we can write a solution $\\alpha^*$ as:\n",
    "\n",
    " \n",
    "  $$\\begin{equation}\n",
    "    \\label{eq:ThmLeastSqaredErrorSolution2}\n",
    "  \\alpha^\\ast = \\text{argmin}_{\\alpha} ||Y-\\Phi \\alpha ||^2 \\iff \\left( \\Phi^\\top \\Phi \\right) \\alpha^\\ast = \\Phi^\\top Y.\n",
    "\\end{equation}$$\n",
    "\n",
    "Comparing with equation 9.15 above, we can calculate a least squres solution $\\alpha^*$\n",
    "\n",
    "\n"
   ]
  },
  {
   "cell_type": "markdown",
   "metadata": {},
   "source": [
    "Let's use this formulation to fit a line to the following data points:\n",
    "\n",
    "| i   | | $x_i$ | | $y_i$ |\n",
    "| :-: | | :---: | | :---: |\n",
    "|<img width=20/>||<img width=50/>||<img width=50/>|\n",
    "| 1   | | 1     | | 4     |\n",
    "| 2   | | 2     | | 8     |\n",
    "| 3   | | 4     | | 10    |\n",
    "| 4   | | 5     | | 12    |\n",
    "| 5   | | 7     | | 18    |\n"
   ]
  },
  {
   "cell_type": "code",
   "execution_count": null,
   "metadata": {},
   "outputs": [],
   "source": [
    "using Plots\n",
    "gr()\n",
    "\n",
    "# Given data\n",
    "X=[1  2  4  5  7]'\n",
    "Y=[4  8  10  12  18]'"
   ]
  },
  {
   "cell_type": "code",
   "execution_count": null,
   "metadata": {},
   "outputs": [],
   "source": [
    "# Run me, don't change me. I will create a back substitution function that you can apply\n",
    "# to systems of linear equations with an upper triangular \"A\" matrix, that we denote by U\n",
    "\n",
    "\"\"\"\n",
    "backwardsub(U, b)\n",
    "\n",
    "It solves for x in an equation Ux = b, where U is upper triangular.\n",
    "\"\"\"\n",
    "function backwardsub(U, b)\n",
    "    \n",
    "    # Assert no entries in the diagonal of U\n",
    "    # are 0 (or very close to 0)\n",
    "    @assert minimum(abs.(diag(U))) > 1e-6\n",
    "    \n",
    "    n = length(b)\n",
    "    x = Vector{Float64}(undef, n)\n",
    "\n",
    "    x[n] = b[n] / U[n,n]\n",
    "    for i in n-1:-1:1\n",
    "        x[i]=(b[i] - (U[i,(i+1):n])' * x[(i+1):n]) ./ U[i,i]\n",
    "    end\n",
    "    \n",
    "    return x    \n",
    "end"
   ]
  },
  {
   "cell_type": "markdown",
   "metadata": {},
   "source": [
    "# Linear Regression\n",
    "\n",
    "The given set of measurements look like they could be fit into a line. The basis is that case the simple linear basis: $\\begin{bmatrix} x_i & 1 \\end{bmatrix}$. \n",
    "\n",
    "This is called Linear Regression. \n",
    "\n"
   ]
  },
  {
   "cell_type": "code",
   "execution_count": null,
   "metadata": {},
   "outputs": [],
   "source": [
    "### Solution Code Here \n",
    "\n"
   ]
  },
  {
   "cell_type": "markdown",
   "metadata": {},
   "source": [
    "# Monomial Regression\n",
    "\n",
    "Linear fit cannot describe more complex curves, in which case we want to use monomial basis instead, that give us the curves from the square, cube etc. terms. Let us see an example for this, that we took in class. "
   ]
  },
  {
   "cell_type": "markdown",
   "metadata": {},
   "source": [
    "| i   | | $x_i$ | | $y_i$ |\n",
    "| :-: | | :---: | | :---: |\n",
    "|<img width=20/>||<img width=50/>||<img width=50/>|\n",
    "|1 | |0|  | 1.0|\n",
    "|2 | |0.25|    |  1.0|\n",
    "|3 | |0.5| |1.5 |\n",
    "|4 | |0.75| | 2.0| \n",
    "|5 | | 1.0| |3.0 |\n",
    "| 6 || 1.25| |4.25|\n",
    "|7| |1.5 | |5.5|\n",
    "|8| |1.75 |  | 7.0 |\n",
    "|9| | 2.0|   | 10.0 |\n"
   ]
  },
  {
   "cell_type": "code",
   "execution_count": null,
   "metadata": {},
   "outputs": [],
   "source": [
    "dataSet2=[\n",
    "3 1 0.0 1.0\n",
    "4 2 0.25 1.0\n",
    "5 3 0.5 1.5\n",
    "6 4 0.75 2.0\n",
    "7 5 1.0 3.0\n",
    "8 6 1.25 4.25\n",
    "9 7 1.5 5.5\n",
    "10 8 1.75 7.0\n",
    "11 9 2.0 10.0];\n"
   ]
  },
  {
   "cell_type": "code",
   "execution_count": null,
   "metadata": {},
   "outputs": [],
   "source": [
    "### Solution code here"
   ]
  },
  {
   "cell_type": "markdown",
   "metadata": {},
   "source": [
    "### Extra examples"
   ]
  },
  {
   "cell_type": "code",
   "execution_count": null,
   "metadata": {},
   "outputs": [],
   "source": [
    "using Random\n",
    "\n",
    "Random.seed!(14);\n",
    "x_actual = -pi/2:0.1:4*pi;\n",
    "y_actual = x_actual.*sin.(-x_actual).+cos.(x_actual).*exp.(-x_actual);\n",
    "\n",
    "N = Int(length(x_actual)/2);\n",
    "\n",
    "idx = Int.(unique(floor.(rand(N) * length(x_actual))) .+ 1) # random indices\n",
    "N   = length(idx);\n",
    "\n",
    "x_measured = x_actual[idx]; # Training input\n",
    "\n",
    "# Noise from a scaled normal distribution\n",
    "y_measured = y_actual[idx] + 0.1 * randn(N)\n",
    "\n",
    "new_idx = sortperm(x_measured);\n",
    "y_measured = y_measured[new_idx];\n",
    "x_measured = x_measured[new_idx];\n",
    "\n",
    "scatter(x_measured,y_measured)"
   ]
  },
  {
   "cell_type": "markdown",
   "metadata": {},
   "source": [
    "## Radial Basis Functions\n",
    "\n",
    "$$f(x; x_c, s) = exp(\\frac{-\\|x-x_c\\|^2}{2s^2})$$\n",
    "\n",
    "The equation above is the formula for a generic Radial Basis Function (RBF). $x$ and $x_c$  are vectors in $\\mathbb{R}^n$.\n",
    "\n",
    "$x_c$ gives the center and $s$ gives the width of the bell curve. "
   ]
  },
  {
   "cell_type": "code",
   "execution_count": null,
   "metadata": {
    "scrolled": true
   },
   "outputs": [],
   "source": [
    "using Interact\n",
    "using LinearAlgebra\n",
    "\n",
    "@manipulate for x1 = -5:0.1:5, xc = -5:0.1:5, s = 0.1:0.1:2\n",
    "\n",
    "# The radial basis function\n",
    "rbf(x1, xc, s) = exp.(-norm(x1-xc)^2 / (2*s^2))\n",
    "\n",
    "x = collect(-5:0.1:5) .+ xc\n",
    "y = [rbf(val, xc, s) for val in x]\n",
    "    \n",
    "plot(x, y, \n",
    "    title=\"Radial Basis Function\", xlims=(-10,10))\n",
    "plot!([x1], [rbf(x1, xc, s)], marker=:orange, markersize=5, legend=:outertopright, size=(800,500))\n",
    "end"
   ]
  },
  {
   "cell_type": "markdown",
   "metadata": {},
   "source": [
    "For the current problem, it looks like we will need 5 bell curves. We can for this case handpick our centers, and a width and try to find the coefficients, $a_0, a_1, a_2, a_3, a_4, a_5$. the prediction is this case will be given as:\n",
    "\n",
    "$$\\hat{y} = a_1 + a_2 f(x; x_{c_1}, s) + a_3 f(x; x_{c_2}, s) + ... + a_{5} f(x; x_{5}, s)$$\n"
   ]
  },
  {
   "cell_type": "code",
   "execution_count": null,
   "metadata": {
    "nbgrader": {
     "grade": false,
     "grade_id": "cell-bc86909fd8bea46c",
     "locked": true,
     "schema_version": 3,
     "solution": false,
     "task": false
    },
    "scrolled": true
   },
   "outputs": [],
   "source": [
    "# Run me, don't change me. I will create a function\n",
    "# will be helpful in assembling our Φ matrix assuming\n",
    "# our model is a linear combination of RBFs\n",
    "\n",
    "\"\"\"\n",
    "function calc_phi_row(x, centers, s)\n",
    "\n",
    "Returns a single row in the Φ matrix\n",
    "\n",
    "Inputs:\n",
    "    xᵢ      - the measurment xᵢ\n",
    "    centers - a Mx1 vector holding the centers of the determined RBFs\n",
    "    s       - the shared kernel width (RBF width)\n",
    "\"\"\"\n",
    "function calc_phi_row(xᵢ, centers, s)\n",
    "   \n",
    "    phi_row_size = length(centers) + 1\n",
    "    phi_row = Array{Float64, 1}(undef, phi_row_size)\n",
    "    phi_row[1] = 1\n",
    "    \n",
    "    for i in 2:phi_row_size\n",
    "        phi_row[i] = rbf(xᵢ, centers[i-1], s)\n",
    "    end\n",
    "    \n",
    "    return phi_row\n",
    "end"
   ]
  },
  {
   "cell_type": "code",
   "execution_count": null,
   "metadata": {
    "ExecuteTime": {
     "end_time": "2020-08-27T02:28:35.882000-04:00",
     "start_time": "2020-08-27T06:28:35.871Z"
    },
    "nbgrader": {
     "grade": false,
     "grade_id": "cell-53391b02b70e2da3",
     "locked": true,
     "schema_version": 3,
     "solution": false,
     "task": false
    }
   },
   "outputs": [],
   "source": [
    "# Run me, don't change me. I will create a function\n",
    "# that returns the regressor matrix Φ based on our\n",
    "# model using RBFs as basis functions\n",
    "\n",
    "\"\"\"\n",
    "function regressor_matrix()\n",
    "\n",
    "Returns the regressor matrix Φ\n",
    "\n",
    "Inputs:\n",
    "    X       - a Nx1 vector holding the X value of all the measurements\n",
    "    centers - a Mx1 vector holding the centers of the determined RBFs\n",
    "    s       - the shared kernel width (RBF width)\n",
    "\"\"\"\n",
    "function regressor_matrix(X, centers, s)\n",
    "    \n",
    "    N = length(X)\n",
    "    M = length(centers)\n",
    "    phi = Array{Float64, 2}(undef, N, M+1)\n",
    "    \n",
    "    for i in 1:N\n",
    "        phi[i, :] = calc_phi_row(X[i], centers, s)'\n",
    "    end\n",
    "    \n",
    "    return phi\n",
    "end"
   ]
  },
  {
   "cell_type": "code",
   "execution_count": null,
   "metadata": {},
   "outputs": [],
   "source": [
    "x_centers = [5, 18, 30, 41, 53];\n",
    "\n",
    "x_c = x_measured[x_centers];\n",
    "\n",
    "scatter(x_measured,y_measured);\n",
    "scatter!(x_c, y_measured[x_centers])"
   ]
  },
  {
   "cell_type": "code",
   "execution_count": null,
   "metadata": {},
   "outputs": [],
   "source": [
    "rbf(x1, xc, s) = exp.(-norm(x1-xc)^2 / (2*s^2))\n",
    "\n",
    "### Begin Solution \n"
   ]
  },
  {
   "cell_type": "code",
   "execution_count": null,
   "metadata": {},
   "outputs": [],
   "source": []
  },
  {
   "cell_type": "code",
   "execution_count": null,
   "metadata": {},
   "outputs": [],
   "source": []
  }
 ],
 "metadata": {
  "@webio": {
   "lastCommId": null,
   "lastKernelId": null
  },
  "kernelspec": {
   "display_name": "Julia 1.5.1",
   "language": "julia",
   "name": "julia-1.5"
  },
  "language_info": {
   "file_extension": ".jl",
   "mimetype": "application/julia",
   "name": "julia",
   "version": "1.5.1"
  }
 },
 "nbformat": 4,
 "nbformat_minor": 4
}
