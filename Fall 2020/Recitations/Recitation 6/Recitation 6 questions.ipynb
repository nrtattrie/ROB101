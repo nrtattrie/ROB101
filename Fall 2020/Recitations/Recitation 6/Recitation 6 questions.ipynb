{
 "cells": [
  {
   "cell_type": "markdown",
   "metadata": {},
   "source": [
    "# Existence and Uniqueness of Solution\n",
    "\n",
    "## Existence \n",
    "\n",
    "The system of equation $Ax = b$ has a solution if:\n",
    "\n",
    "$b$ is a linear combination of the columns of $A$\n",
    "\n",
    "### Checking for Linear combination using the Semi-Pro-tip\n",
    "\n",
    "Thus, b appended as a column of A should have the same number of Linearly Independent Columns. \n",
    "\n",
    "Mathematically written as:\n",
    "\n",
    "Define $A_{\\rm e} :=\\left[A~~ b \\right]$ by appending $b$ to the columns of $A$. Then we do the corresponding LU Factorizations\n",
    "- $P \\cdot \\left(A^\\top A \\right) = L \\cdot U$\n",
    "- $P_{\\rm e} \\cdot \\left(A_{\\rm e}^\\top A_{\\rm e}  \\right) = L_{\\rm e}  \\cdot U_{\\rm e} $.\n",
    "\n",
    "**Fact**: $Ax=b$ has a solution if, and only if, $U$ and $U_{\\rm e}$ have the same number of linearly independent columns.\n",
    "\n",
    "We check the number of independent columns in $U$ and $U_{\\rm e}$ using our Semi-Pro-tip\n",
    "\n",
    "Using this definition, lets find if the following system of equations have a solution:\n"
   ]
  },
  {
   "cell_type": "code",
   "execution_count": null,
   "metadata": {},
   "outputs": [],
   "source": [
    "using LinearAlgebra\n",
    "using Plots\n",
    "using Random"
   ]
  },
  {
   "cell_type": "markdown",
   "metadata": {},
   "source": [
    "Consider the Following system of equations:\n",
    "\n",
    "$$ \\begin{align*} 3x_1 + x_2 & = -6\\\\\n",
    "-x_1 - 4x_2 +2x_3 & = 8\\\\\n",
    "x_1 -x_2 + 4x_3 &= -6\\\\\n",
    "3x_1 - 4x_2 +2x_3 &= -2\n",
    "\\end{align*}$$\n",
    "\n",
    "\n",
    "Writeing this down as Ax = b,\n",
    "we get \n",
    "\n",
    "$$A = \n",
    "\\left[\n",
    "\\begin{array}{ccc}\n",
    "3 & 1 & 0 \\\\\n",
    "-1 & -4 & 2 \\\\\n",
    "1 & -1 & 4 \\\\\n",
    "3 & -4 & 2 \\\\\n",
    "\\end{array}\n",
    "\\right]\n",
    "\\text{ and } b = \n",
    "\\left[\n",
    "\\begin{array}{c}\n",
    "-6 \\\\\n",
    "8 \\\\\n",
    "-6 \\\\\n",
    "-2 \\\\\n",
    "\\end{array}\n",
    "\\right]\n",
    "$$\n",
    "\n",
    "\n",
    "Let us check if a solution exists!"
   ]
  },
  {
   "cell_type": "code",
   "execution_count": null,
   "metadata": {},
   "outputs": [],
   "source": [
    "Random.seed!(10)\n",
    "A = rand(-5:5,4,3)"
   ]
  },
  {
   "cell_type": "code",
   "execution_count": null,
   "metadata": {},
   "outputs": [],
   "source": [
    "b = rand(-10:10,4,1)"
   ]
  },
  {
   "cell_type": "code",
   "execution_count": null,
   "metadata": {},
   "outputs": [],
   "source": [
    "A_e = [A b];\n",
    "lu_A = lu(A'*A);\n",
    "lu_A_e = lu(A_e'*A_e);\n",
    "display(diag(lu_A.U));\n",
    "display(diag(lu_A_e.U));"
   ]
  },
  {
   "cell_type": "markdown",
   "metadata": {},
   "source": [
    "Using our Semi Pro-tip, we note that:\n",
    "\n",
    "Number of linearly Independent Columns in $U$ = \n",
    "\n",
    "Number of linearly Independent Columns in $U_e$ = \n",
    "\n",
    "**Comments on Existence:**"
   ]
  },
  {
   "cell_type": "markdown",
   "metadata": {},
   "source": [
    "Lets look at another example:\n",
    "\n",
    "$$ A = \n",
    "\\left[\n",
    "\\begin{array}{ccccc}\n",
    "3 & -4 & 4 & -1 & 2 \\\\\n",
    "-1 & -1 & 2 & -5 & 0 \\\\\n",
    "1 & -4 & -3 & -4 & -5 \\\\\n",
    "3 & 0 & 4 & -4 & -4 \\\\\n",
    "1 & 2 & -3 & 0 & -1 \\\\\n",
    "\\end{array}\n",
    "\\right]\n",
    "\\text{ and } b = \n",
    "\\left[\n",
    "\\begin{array}{c}\n",
    "6 \\\\\n",
    "1 \\\\\n",
    "9 \\\\\n",
    "6 \\\\\n",
    "9 \\\\\n",
    "\\end{array}\n",
    "\\right]\n",
    "$$\n"
   ]
  },
  {
   "cell_type": "code",
   "execution_count": null,
   "metadata": {},
   "outputs": [],
   "source": [
    "Random.seed!(10)\n",
    "A = rand(-5:5,5,5);\n",
    "b = rand(0:10,5,1);"
   ]
  },
  {
   "cell_type": "code",
   "execution_count": null,
   "metadata": {},
   "outputs": [],
   "source": [
    "A_e = [A b];\n",
    "lu_A = lu(A'*A);\n",
    "lu_A_e = lu(A_e'*A_e);\n",
    "display(diag(lu_A.U));\n",
    "display(diag(lu_A_e.U));"
   ]
  },
  {
   "cell_type": "markdown",
   "metadata": {},
   "source": [
    "Using our Semi Pro-tip, we note that:\n",
    "\n",
    "Number of linearly Independent Columns in $U$ = \n",
    "\n",
    "Number of linearly Independent Columns in $U_e$ = \n",
    "\n",
    "**Comments on Existence:**"
   ]
  },
  {
   "cell_type": "markdown",
   "metadata": {},
   "source": [
    "## Lets extend this to a bigger matrix and see if it scales:"
   ]
  },
  {
   "cell_type": "code",
   "execution_count": null,
   "metadata": {},
   "outputs": [],
   "source": [
    "Random.seed!(10)\n",
    "A = rand(-5:5,50,30);\n",
    "b = rand(-10:10,50,1);"
   ]
  },
  {
   "cell_type": "code",
   "execution_count": null,
   "metadata": {},
   "outputs": [],
   "source": [
    "A_e = [A b];\n",
    "lu_A = lu(A'*A);\n",
    "lu_A_e = lu(A_e'*A_e);\n",
    "display(diag(lu_A.U));\n",
    "display(diag(lu_A_e.U));"
   ]
  },
  {
   "cell_type": "markdown",
   "metadata": {},
   "source": [
    "### Its a little hard to see! \n",
    "\n",
    "We however only care about finding values close to 0 in our decomposition. \n",
    "\n",
    "Maybe we can just look at that? "
   ]
  },
  {
   "cell_type": "code",
   "execution_count": null,
   "metadata": {},
   "outputs": [],
   "source": []
  },
  {
   "cell_type": "markdown",
   "metadata": {},
   "source": [
    "Using our Semi Pro-tip, we note that:\n",
    "\n",
    "Number of linearly Independent Columns in $U$ = \n",
    "\n",
    "Number of linearly Independent Columns in $U_e$ = \n",
    "\n",
    "**Comments on Existence:**"
   ]
  },
  {
   "cell_type": "markdown",
   "metadata": {},
   "source": [
    "## Uniqueness of Solution\n",
    "\n",
    "The system of equation Ax = b has a unique solution if:\n",
    "\n",
    "$b$ is a linear combination of the columns of $A$, and, the columns of $A$ are linearly independent. \n",
    "\n",
    "We already know how to check for the first part using the methods for existence \n",
    "\n",
    "The second part of the statement can checked using the Pro-tip!\n",
    "\n",
    "### Pro-tip\n",
    "\n",
    "If the columns of A are linearly independent, the following are True:\n",
    "\n",
    "- $\\det(A^\\top \\cdot A) \\neq 0$ or A is invertible. \n",
    "- For any LU Factorization $P \\cdot (A^\\top \\cdot A) = L \\cdot U$  of $A^\\top A$, the $m \\times m$ upper triangular matrix $U$ has no zeros on its diagonal.\n",
    "\n",
    "Using this definition, find if the above Julia example has a unique solution:\n",
    "\n",
    "$$ A = \n",
    "\\left[\n",
    "\\begin{array}{cccccc}\n",
    "3 & -4 & 4 & -1 & 2 & 1 \\\\\n",
    "-1 & -1 & 2 & -5 & 0 & -4 \\\\\n",
    "1 & -4 & -3 & -4 & -5 & 4 \\\\\n",
    "3 & 0 & 4 & -4 & -4 & 1 \\\\\n",
    "1 & 2 & -3 & 0 & -1 & 4 \\\\\n",
    "\\end{array}\n",
    "\\right]\n",
    "\\text{ and } b = \n",
    "\\left[\n",
    "\\begin{array}{c}\n",
    "10 \\\\\n",
    "4 \\\\\n",
    "6 \\\\\n",
    "3 \\\\\n",
    "1 \\\\\n",
    "\\end{array}\n",
    "\\right]\n",
    "$$\n"
   ]
  },
  {
   "cell_type": "code",
   "execution_count": null,
   "metadata": {},
   "outputs": [],
   "source": [
    "Random.seed!(10)\n",
    "A = rand(-5:5,5,5);\n",
    "b = rand(0:10,5,1);"
   ]
  },
  {
   "cell_type": "code",
   "execution_count": null,
   "metadata": {},
   "outputs": [],
   "source": [
    "A_e = [A b];\n",
    "lu_A = lu(A'*A);\n",
    "lu_A_e = lu(A_e'*A_e);\n",
    "display(diag(lu_A.U));\n",
    "display(diag(lu_A_e.U));"
   ]
  },
  {
   "cell_type": "markdown",
   "metadata": {},
   "source": [
    "**Comments on Existence**:\n",
    "\n",
    "**Comments on Uniqueness**:"
   ]
  },
  {
   "cell_type": "code",
   "execution_count": null,
   "metadata": {},
   "outputs": [],
   "source": [
    "Random.seed!(10)\n",
    "A = rand(-5:5,5,6);\n",
    "b = rand(0:10,5,1);"
   ]
  },
  {
   "cell_type": "code",
   "execution_count": null,
   "metadata": {
    "scrolled": true
   },
   "outputs": [],
   "source": [
    "A_e = [A b];\n",
    "lu_A = lu(A'*A);\n",
    "lu_A_e = lu(A_e'*A_e);\n",
    "display(diag(lu_A.U));\n",
    "display(diag(lu_A_e.U));"
   ]
  },
  {
   "cell_type": "code",
   "execution_count": null,
   "metadata": {},
   "outputs": [],
   "source": [
    "display(round.(lu_A_e.U;digits = 2))"
   ]
  },
  {
   "cell_type": "markdown",
   "metadata": {},
   "source": [
    "**Comments on Existence**:\n",
    "\n",
    "**Comments on Uniqueness**:"
   ]
  },
  {
   "cell_type": "markdown",
   "metadata": {},
   "source": [
    "# Least Squares\n",
    "\n",
    "Consider the following system of equations:\n",
    "\n",
    "$$\n",
    "A = \n",
    "\\left[\n",
    "\\begin{array}{ccc}\n",
    "3 & 1 & 0 \\\\\n",
    "-1 & -4 & 2 \\\\\n",
    "1 & -1 & 4 \\\\\n",
    "3 & -4 & 2 \\\\\n",
    "\\end{array}\n",
    "\\right]\n",
    "\\text{, } \n",
    "x = \\left[\\begin{array}{c}\n",
    "x_1 \\\\\n",
    "x_2 \\\\\n",
    "x_3 \\\\\n",
    "\\end{array}\\right]\n",
    "\\text{ and } b = \n",
    "\\left[\n",
    "\\begin{array}{c}\n",
    "2 \\\\\n",
    "9 \\\\\n",
    "2 \\\\\n",
    "4 \\\\\n",
    "\\end{array}\n",
    "\\right]\n",
    "$$\n"
   ]
  },
  {
   "cell_type": "code",
   "execution_count": null,
   "metadata": {},
   "outputs": [],
   "source": [
    "Random.seed!(10)\n",
    "A = rand(-5:5,4,3);\n",
    "b = rand(0:10,4,1);"
   ]
  },
  {
   "cell_type": "code",
   "execution_count": null,
   "metadata": {},
   "outputs": [],
   "source": [
    "A_e = [A b];\n",
    "lu_A = lu(A'*A);\n",
    "lu_A_e = lu(A_e'*A_e);\n",
    "display(diag(lu_A.U));\n",
    "display(diag(lu_A_e.U));"
   ]
  },
  {
   "cell_type": "markdown",
   "metadata": {},
   "source": [
    "**Comments on Existence**:"
   ]
  },
  {
   "cell_type": "markdown",
   "metadata": {},
   "source": [
    "### Thus there is no exact solution to given system of equations:\n",
    "\n",
    "How can we see that numerically?\n",
    "\n",
    "Lets find an approximate solution using the given decomposition!"
   ]
  },
  {
   "cell_type": "code",
   "execution_count": null,
   "metadata": {},
   "outputs": [],
   "source": [
    "function backwardsub(U, b)\n",
    "    n = length(b)\n",
    "    x = Vector{Float64}(undef, n) \n",
    "    x[n] = b[n]/U[n,n]\n",
    "    for i in n-1:-1:1\n",
    "        x[i]=(b[i]- (U[i,(i+1):n])' *x[(i+1):n] )./U[i,i]\n",
    "    end\n",
    "    return x\n",
    "end\n",
    "#This is a forward substitution function\n",
    "function forwardsub(L, b)\n",
    "    n = length(b)\n",
    "    x = Vector{Float64}(undef, n); \n",
    "    x[1] = b[1]/L[1,1] \n",
    "    for i = 2:n \n",
    "        x[i]=(b[i]- (L[i,1:i-1])' *x[1:i-1] )./L[i,i] \n",
    "    end\n",
    "    return x\n",
    "end"
   ]
  },
  {
   "cell_type": "code",
   "execution_count": null,
   "metadata": {},
   "outputs": [],
   "source": []
  },
  {
   "cell_type": "markdown",
   "metadata": {},
   "source": [
    "Thus, we have found a solution for the system. \n",
    "\n",
    "Let's compare the values of Ax and b "
   ]
  },
  {
   "cell_type": "code",
   "execution_count": null,
   "metadata": {},
   "outputs": [],
   "source": []
  },
  {
   "cell_type": "code",
   "execution_count": null,
   "metadata": {},
   "outputs": [],
   "source": []
  },
  {
   "cell_type": "markdown",
   "metadata": {},
   "source": [
    "## We seem to have made a mistake! \n",
    "\n",
    "We did not have a no idea if the transpose of A had linearly independent columns when we multiplied by it on both sides! "
   ]
  },
  {
   "cell_type": "code",
   "execution_count": null,
   "metadata": {},
   "outputs": [],
   "source": []
  },
  {
   "cell_type": "markdown",
   "metadata": {},
   "source": [
    "## This is not the right way to solve this problem then? \n",
    "\n",
    "Let see how we would quantify this error using the norm:\n",
    "\n",
    "Let first define an error vector given as e* = Ax* - b"
   ]
  },
  {
   "cell_type": "code",
   "execution_count": null,
   "metadata": {},
   "outputs": [],
   "source": []
  },
  {
   "cell_type": "code",
   "execution_count": null,
   "metadata": {},
   "outputs": [],
   "source": []
  },
  {
   "cell_type": "markdown",
   "metadata": {},
   "source": [
    "### Thus, the reported solution for the value of x was an approximate solution that gave us the least possible error for the given problem. \n",
    "\n",
    "Proof of how we can say that this is the least square error for this problem can be found in the textbook, and is an optional read! "
   ]
  },
  {
   "cell_type": "markdown",
   "metadata": {},
   "source": [
    "# Linear Regression\n",
    "\n",
    "Extending the power of finding these least square solutions to find the best fit for a number of points is called Regression!\n",
    "\n",
    "Let $$x = \\left[\\begin{array}{cc}\n",
    "    x_1\\\\\n",
    "    x_2 \\\\\n",
    "    \\vdots\\\\\n",
    "    x_N \n",
    "\\end{array}  \\right]\n",
    "$$ be a vector of data points that we want to fit in a line \n",
    "$$y_i = m x_i +b = \\begin{bmatrix} x_i & 1 \\end{bmatrix} \\begin{bmatrix} m \\\\ b \\end{bmatrix},  ~~1 \\le i \\le N,$$ \n",
    "\\begin{equation}\n",
    "    \\label{eq:FirstRegressionModel02}\n",
    "\\underbrace{\\begin{bmatrix} y_1 \\\\ y_2 \\\\ \\vdots \\\\y_N \\end{bmatrix}}_{Y} = \\underbrace{\\left[\\begin{array}{cc}\n",
    "    x_1 & 1 \\\\\n",
    "    x_2  & 1 \\\\\n",
    "    \\vdots & 1 \\\\\n",
    "    x_N & 1\n",
    "\\end{array}  \\right]}_{\\Phi} \\cdot  \\underbrace{\\begin{bmatrix} m \\\\ b \\end{bmatrix}}_{\\alpha},\n",
    "\\end{equation}\n",
    "\n",
    "We formulate the problem as a regression problem as:\n",
    "\n",
    "where $Y$ is the vector of $y$-data, $\\Phi$ is called the **regressor matrix** and $\\alpha$ is the vector of **unknown coefficients** that parameterize the  model.\n",
    "\n",
    "\n",
    "Let's use this formulation to fit a line to the following data points:"
   ]
  },
  {
   "cell_type": "code",
   "execution_count": null,
   "metadata": {},
   "outputs": [],
   "source": [
    "X = [1 2 4 5 7]';\n",
    "Y = [4 8 10 12 18]';\n",
    "\n",
    "scatter(X,Y)"
   ]
  },
  {
   "cell_type": "code",
   "execution_count": null,
   "metadata": {},
   "outputs": [],
   "source": []
  },
  {
   "cell_type": "code",
   "execution_count": null,
   "metadata": {},
   "outputs": [],
   "source": []
  },
  {
   "cell_type": "markdown",
   "metadata": {},
   "source": [
    "## Polynomial fitting \n",
    "\n",
    "Lets try and approximate a sine wave! "
   ]
  },
  {
   "cell_type": "code",
   "execution_count": null,
   "metadata": {},
   "outputs": [],
   "source": [
    "X = -pi:pi;\n",
    "Y = sin.(X);\n",
    "\n",
    "scatter(X,Y)"
   ]
  },
  {
   "cell_type": "code",
   "execution_count": null,
   "metadata": {},
   "outputs": [],
   "source": []
  },
  {
   "cell_type": "code",
   "execution_count": null,
   "metadata": {},
   "outputs": [],
   "source": []
  },
  {
   "cell_type": "code",
   "execution_count": null,
   "metadata": {},
   "outputs": [],
   "source": []
  },
  {
   "cell_type": "markdown",
   "metadata": {},
   "source": [
    "## Extra Practice\n",
    "\n",
    "\n",
    "Solving Ax = b for LU using permutations\n",
    "\n",
    "\n"
   ]
  }
 ],
 "metadata": {
  "kernelspec": {
   "display_name": "Julia 1.5.1",
   "language": "julia",
   "name": "julia-1.5"
  },
  "language_info": {
   "file_extension": ".jl",
   "mimetype": "application/julia",
   "name": "julia",
   "version": "1.5.1"
  }
 },
 "nbformat": 4,
 "nbformat_minor": 4
}
