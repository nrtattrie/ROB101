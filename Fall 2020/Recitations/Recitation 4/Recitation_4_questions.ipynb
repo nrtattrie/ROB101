{
 "cells": [
  {
   "cell_type": "markdown",
   "metadata": {},
   "source": [
    "# Functions in Julia\n",
    "\n",
    "Now that we know basic operations in assigning variables, arrays and manipulating them. We also know control flow statements If and For in Julia. The next step is to learn about writing Functions and making Plots!"
   ]
  },
  {
   "cell_type": "markdown",
   "metadata": {},
   "source": [
    "## Functions\n",
    "\n",
    "Functions in any programming language are specialized blocks of code that perform an operation on it is *arguments* and can *return* a value computed in a returned variable"
   ]
  },
  {
   "cell_type": "code",
   "execution_count": null,
   "metadata": {},
   "outputs": [],
   "source": [
    "function calculate_sum(x, y)\n",
    "    sum = x + y\n",
    "    return sum\n",
    "end"
   ]
  },
  {
   "cell_type": "markdown",
   "metadata": {},
   "source": [
    "Here x,y are the arguments to the function. These can be though of as the input to the function that can be used in the computation \n",
    "\n",
    "The value of the computation is then saved in the 'sum' variable and returned as the output of the function using the ```return``` statement"
   ]
  },
  {
   "cell_type": "markdown",
   "metadata": {},
   "source": [
    "# Function call\n",
    "\n",
    "Calling a function means running that block of code we just described with he given arguments. The syntax of calling a function can be interpreted from the cells below:\n"
   ]
  },
  {
   "cell_type": "code",
   "execution_count": null,
   "metadata": {},
   "outputs": [],
   "source": [
    "# $function_name(arguments)\n",
    "calculate_sum(2,3)"
   ]
  },
  {
   "cell_type": "code",
   "execution_count": null,
   "metadata": {
    "scrolled": true
   },
   "outputs": [],
   "source": [
    "save_sum = calculate_sum(2.3,5.677)"
   ]
  },
  {
   "cell_type": "markdown",
   "metadata": {},
   "source": [
    "# Methods\n",
    "\n",
    "The functions we have written so far do not constrain the input argument types. \n",
    "In other words, x could be a Matrix and y could be a String, and the function would still run (but it would give us an error!)"
   ]
  },
  {
   "cell_type": "code",
   "execution_count": null,
   "metadata": {},
   "outputs": [],
   "source": [
    "calculate_sum(1,\"tribhi\")"
   ]
  },
  {
   "cell_type": "markdown",
   "metadata": {},
   "source": [
    "Thus, a better definition would be ensure that x and y are indeed numbers.\n",
    "\n",
    "This can be done in a if statement, but Julia has another way of specifying types of arguments that allows us to do more than you would with the if statement, that will go into. \n"
   ]
  },
  {
   "cell_type": "code",
   "execution_count": null,
   "metadata": {},
   "outputs": [],
   "source": [
    "function if_defined_calculated_sum(x,y)\n",
    "    if(typeof(x)<:Number && typeof(y)<:Number)\n",
    "        return x+y\n",
    "    else\n",
    "        println(\"Error in types\");\n",
    "        return\n",
    "    end\n",
    "end\n"
   ]
  },
  {
   "cell_type": "code",
   "execution_count": null,
   "metadata": {},
   "outputs": [],
   "source": [
    "if_defined_calculated_sum(1,\"tribhi\")"
   ]
  },
  {
   "cell_type": "code",
   "execution_count": null,
   "metadata": {},
   "outputs": [],
   "source": [
    "if_defined_calculated_sum(2,3)"
   ]
  },
  {
   "cell_type": "markdown",
   "metadata": {},
   "source": [
    "## Mutiple Dispatch \n",
    "\n",
    "#### What if we wanted to define a function that could change its behavior based on the data given to it \n",
    "\n",
    "We call this **multiple dispatch** in Julia\n"
   ]
  },
  {
   "cell_type": "code",
   "execution_count": null,
   "metadata": {},
   "outputs": [],
   "source": [
    "function generic_sum(x::String,y::String)\n",
    "    return x*y\n",
    "end"
   ]
  },
  {
   "cell_type": "code",
   "execution_count": null,
   "metadata": {},
   "outputs": [],
   "source": [
    "function generic_sum(x::Number,y::Number)\n",
    "    return x+y\n",
    "end"
   ]
  },
  {
   "cell_type": "code",
   "execution_count": null,
   "metadata": {},
   "outputs": [],
   "source": [
    "methods(generic_sum)"
   ]
  },
  {
   "cell_type": "code",
   "execution_count": null,
   "metadata": {},
   "outputs": [],
   "source": [
    "generic_sum(\"Hello \",\"world!\")"
   ]
  },
  {
   "cell_type": "code",
   "execution_count": null,
   "metadata": {},
   "outputs": [],
   "source": [
    "generic_sum(2,3)"
   ]
  },
  {
   "cell_type": "code",
   "execution_count": null,
   "metadata": {},
   "outputs": [],
   "source": [
    "generic_sum(1,\"tribhi\")"
   ]
  },
  {
   "cell_type": "markdown",
   "metadata": {},
   "source": [
    "## Method Errors\n",
    "\n",
    "When the arguments passed to the function in the call statement do not match any of the function definitions, Julia returns with a method error, like we just saw. \n",
    "\n",
    "This is represented using !Matched in the argument list in the error\n",
    "\n",
    "Julia checks it against both function definition types, one requires both integers and fails the second argument.\n",
    "\n",
    "The other that expects both strings, fails the matching the type with first argument"
   ]
  },
  {
   "cell_type": "markdown",
   "metadata": {},
   "source": [
    "# Returning Mutiple values\n",
    "\n",
    "The function can also return multiple values, as an ordered list, called Tuples! \n",
    "\n",
    "Tuple is an ordered list, just like they are in Math, only in Julia, they cannot be modified after a value has been defined. \n",
    "They are represented as ```(a,b,c)``` and so on. Lets see some examples:\n"
   ]
  },
  {
   "cell_type": "code",
   "execution_count": null,
   "metadata": {},
   "outputs": [],
   "source": [
    "function sum_diff(x::Number,y::Number)\n",
    "    return x+y,x-y\n",
    "end\n"
   ]
  },
  {
   "cell_type": "code",
   "execution_count": null,
   "metadata": {},
   "outputs": [],
   "source": [
    "@show sum_diff(2,3)\n",
    "@show typeof(sum_diff(2,3))"
   ]
  },
  {
   "cell_type": "code",
   "execution_count": null,
   "metadata": {},
   "outputs": [],
   "source": [
    "# Assigning Tuple Values to variables\n",
    "\n",
    "(a,b) = sum_diff(2,3)\n",
    "@show a\n",
    "@show b"
   ]
  },
  {
   "cell_type": "markdown",
   "metadata": {},
   "source": [
    "We can index tuple members exactly like arrays using the []"
   ]
  },
  {
   "cell_type": "code",
   "execution_count": null,
   "metadata": {},
   "outputs": [],
   "source": [
    "c = sum_diff(2,3)[1]\n",
    "@show c\n",
    "@show c==a"
   ]
  },
  {
   "cell_type": "markdown",
   "metadata": {},
   "source": [
    "### Compressed format of defining functions "
   ]
  },
  {
   "cell_type": "code",
   "execution_count": null,
   "metadata": {},
   "outputs": [],
   "source": [
    "func(x,y) = x+y"
   ]
  },
  {
   "cell_type": "code",
   "execution_count": null,
   "metadata": {},
   "outputs": [],
   "source": [
    "func(2,3)"
   ]
  },
  {
   "cell_type": "markdown",
   "metadata": {},
   "source": [
    "## Scope of variables used in functions\n",
    "\n",
    "The variables defined in a function have by default a local scope. They are only valid inside the function and not recognised outside of it. Let us see an example of what we mean by that:"
   ]
  },
  {
   "cell_type": "code",
   "execution_count": 5,
   "metadata": {},
   "outputs": [
    {
     "data": {
      "text/plain": [
       "\"Outside the function\""
      ]
     },
     "metadata": {},
     "output_type": "display_data"
    },
    {
     "name": "stdout",
     "output_type": "stream",
     "text": [
      "x = 20\n"
     ]
    },
    {
     "data": {
      "text/plain": [
       "20"
      ]
     },
     "execution_count": 5,
     "metadata": {},
     "output_type": "execute_result"
    }
   ],
   "source": [
    "display(\"Outside the function\");\n",
    "x = 20\n",
    "@show x"
   ]
  },
  {
   "cell_type": "code",
   "execution_count": 7,
   "metadata": {},
   "outputs": [
    {
     "data": {
      "text/plain": [
       "\"inside the function x is \""
      ]
     },
     "metadata": {},
     "output_type": "display_data"
    },
    {
     "data": {
      "text/plain": [
       "10"
      ]
     },
     "metadata": {},
     "output_type": "display_data"
    },
    {
     "data": {
      "text/plain": [
       "\"Outside the function x is\""
      ]
     },
     "metadata": {},
     "output_type": "display_data"
    },
    {
     "data": {
      "text/plain": [
       "20"
      ]
     },
     "metadata": {},
     "output_type": "display_data"
    }
   ],
   "source": [
    "function f(x)\n",
    "    display(\"inside the function x is \");\n",
    "    display(x)\n",
    "end\n",
    "f(10)\n",
    "display(\"Outside the function x is\")\n",
    "display(x)"
   ]
  },
  {
   "cell_type": "markdown",
   "metadata": {},
   "source": [
    "## Coding Practice \n",
    "\n",
    "Lets us now get into to solving some common coding questions that will us get comfortable with Julia. \n"
   ]
  },
  {
   "cell_type": "markdown",
   "metadata": {},
   "source": [
    "## Palindrome \n",
    "\n",
    "Write a function to determine whether an integer is a palindrome. An integer is a palindrome when it reads the same backward as forward.\n",
    "\n",
    "#### Example:\n",
    "Input: palindrome(121)\n",
    "\n",
    "Output: true"
   ]
  },
  {
   "cell_type": "code",
   "execution_count": null,
   "metadata": {},
   "outputs": [],
   "source": [
    "# Write a function to reverse a number\n",
    "function reverse_num(x::Integer)\n",
    "    # your code here\n",
    "end\n",
    "reverse_num(202)"
   ]
  },
  {
   "cell_type": "code",
   "execution_count": null,
   "metadata": {},
   "outputs": [],
   "source": [
    "function palindrome(x::Integer)\n",
    "   # your code here\n",
    "end"
   ]
  },
  {
   "cell_type": "code",
   "execution_count": null,
   "metadata": {},
   "outputs": [],
   "source": [
    "palindrome(1210)"
   ]
  },
  {
   "cell_type": "markdown",
   "metadata": {},
   "source": [
    "## Question\n",
    "Can you show me in Julia that computing inv(A) is equivalent to solving A x = e_i, for i from 1 to n?\n",
    "\n",
    "\n",
    "So we want to show that solving for x from the given equation gives us ith column of inv(A) matrix! "
   ]
  },
  {
   "cell_type": "code",
   "execution_count": null,
   "metadata": {},
   "outputs": [],
   "source": [
    "A = [2 4 5;1 3 3;2 5 6]\n",
    "det(A)"
   ]
  },
  {
   "cell_type": "code",
   "execution_count": null,
   "metadata": {},
   "outputs": [],
   "source": [
    "using LinearAlgebra"
   ]
  },
  {
   "cell_type": "code",
   "execution_count": null,
   "metadata": {},
   "outputs": [],
   "source": [
    "A_inv = inv(A)"
   ]
  },
  {
   "cell_type": "code",
   "execution_count": null,
   "metadata": {},
   "outputs": [],
   "source": [
    "e_1 = [1.0,0,0];\n",
    "e_2 = [0,1.0,0];\n",
    "e_3 = [0,0,1.0];\n"
   ]
  },
  {
   "cell_type": "code",
   "execution_count": null,
   "metadata": {},
   "outputs": [],
   "source": [
    "l, u, p = lu(A)\n",
    "l*u"
   ]
  },
  {
   "cell_type": "markdown",
   "metadata": {},
   "source": [
    "## Write down Functions for Forward and Backward Substitution\n",
    "\n",
    "We will write the code from Julia Homework 2 into a function. This is not a general forward substitution like we are required to solev for ourselves in Julia homework 4\n",
    "\n",
    "This one should just a 3x3 matrix A, and a 3x1 matrix b and return an x (3x1) such that Ax = b"
   ]
  },
  {
   "cell_type": "code",
   "execution_count": null,
   "metadata": {},
   "outputs": [],
   "source": [
    "function forward_sub(A::Array{Float64,2},b::Array{Float64,1})\n",
    "    if(size(A)!=(3,3) || length(b)!= 3 )\n",
    "        println(\"Incorrect input dimensions\");\n",
    "        return;\n",
    "    end\n",
    "    x = [0.0; 0.0; 0.0] #Initialize an empty x vector\n",
    "\n",
    "    #This method does not scale to large problems, but it is super clear\n",
    "    x[1]=b[1]/A[1,1]\n",
    "    x[2]=(b[2]-A[2,1]*x[1])/A[2,2]\n",
    "    x[3]=(b[3]-A[3,1]*x[1]-A[3,2]*x[2])/A[3,3]\n",
    "    return x\n",
    "end\n"
   ]
  },
  {
   "cell_type": "code",
   "execution_count": null,
   "metadata": {},
   "outputs": [],
   "source": [
    "function backward_sub(A::Array{Float64,2},b::Array{Float64,1})\n",
    "    if(size(A)!=(3,3) || length(b)!= 3 )\n",
    "        println(\"Incorrect input dimensions\");\n",
    "        return;\n",
    "    end\n",
    "    x = [0.0; 0.0; 0.0] #Initialize an empty x vector\n",
    "\n",
    "    #This method does not scale to large problems, but it is super clear\n",
    "    x[3]=b[3]/A[3,3]\n",
    "    x[2]=(b[2]-A[2,3]*x[3])/A[2,2]\n",
    "    x[1]=(b[1]-A[1,2]*x[2]-A[1,3]*x[3])/A[1,1]\n",
    "    return x\n",
    "end\n"
   ]
  },
  {
   "cell_type": "markdown",
   "metadata": {},
   "source": [
    "Now, Solve for A*x = e_i for i = 1:3. And build a my_A_inv matrix"
   ]
  },
  {
   "cell_type": "code",
   "execution_count": null,
   "metadata": {},
   "outputs": [],
   "source": [
    "# Solve for x_1 with b = e_1\n",
    "\n",
    "# Define y_1 = U*x_1\n",
    "\n",
    "\n"
   ]
  },
  {
   "cell_type": "code",
   "execution_count": null,
   "metadata": {},
   "outputs": [],
   "source": [
    "# Similarly solve for x_2, x_3\n",
    "\n"
   ]
  },
  {
   "cell_type": "code",
   "execution_count": null,
   "metadata": {},
   "outputs": [],
   "source": []
  }
 ],
 "metadata": {
  "kernelspec": {
   "display_name": "Julia 1.5.1",
   "language": "julia",
   "name": "julia-1.5"
  },
  "language_info": {
   "file_extension": ".jl",
   "mimetype": "application/julia",
   "name": "julia",
   "version": "1.5.1"
  }
 },
 "nbformat": 4,
 "nbformat_minor": 4
}
