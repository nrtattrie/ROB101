{
 "cells": [
  {
   "cell_type": "markdown",
   "metadata": {},
   "source": [
    "# Functions in Julia\n",
    "\n",
    "Now that we know basic operations in assigning variables, arrays and manipulating them. We also know control flow statements If and For in Julia. The next step is to learn about writing Functions!"
   ]
  },
  {
   "cell_type": "markdown",
   "metadata": {},
   "source": [
    "## Functions\n",
    "\n",
    "Functions in any programming language are specialized blocks of code that perform an operation on it is *arguments* and can *return* a value computed in a returned variable"
   ]
  },
  {
   "cell_type": "code",
   "execution_count": 8,
   "metadata": {},
   "outputs": [
    {
     "data": {
      "text/plain": [
       "calculate_sum (generic function with 1 method)"
      ]
     },
     "execution_count": 8,
     "metadata": {},
     "output_type": "execute_result"
    }
   ],
   "source": [
    "function calculate_sum(x, y)\n",
    "    sum = x + y\n",
    "    return sum\n",
    "end"
   ]
  },
  {
   "cell_type": "markdown",
   "metadata": {},
   "source": [
    "Here x,y are the arguments to the function. These can be though of as the input to the function that can be used in the computation \n",
    "\n",
    "The value of the computation is then saved in the 'sum' variable and returned as the output of the function using the ```return``` statement"
   ]
  },
  {
   "cell_type": "markdown",
   "metadata": {},
   "source": [
    "# Function call\n",
    "\n",
    "Calling a function means running that block of code we just described with he given arguments. The syntax of calling a function can be interpreted from the cells below:\n"
   ]
  },
  {
   "cell_type": "code",
   "execution_count": 9,
   "metadata": {},
   "outputs": [
    {
     "data": {
      "text/plain": [
       "5"
      ]
     },
     "execution_count": 9,
     "metadata": {},
     "output_type": "execute_result"
    }
   ],
   "source": [
    "# $function_name(arguments)\n",
    "calculate_sum(2,3)"
   ]
  },
  {
   "cell_type": "code",
   "execution_count": 10,
   "metadata": {
    "scrolled": true
   },
   "outputs": [
    {
     "data": {
      "text/plain": [
       "7.976999999999999"
      ]
     },
     "execution_count": 10,
     "metadata": {},
     "output_type": "execute_result"
    }
   ],
   "source": [
    "save_sum = calculate_sum(2.3,5.677)"
   ]
  },
  {
   "cell_type": "markdown",
   "metadata": {},
   "source": [
    "# Methods\n",
    "\n",
    "The functions we have written so far do not constrain the input argument types. \n",
    "In other words, x could be a Matrix and y could be a String, and the function would still run (but it would give us an error!)"
   ]
  },
  {
   "cell_type": "code",
   "execution_count": 11,
   "metadata": {},
   "outputs": [
    {
     "ename": "LoadError",
     "evalue": "MethodError: no method matching +(::Int64, ::String)\nClosest candidates are:\n  +(::Any, ::Any, !Matched::Any, !Matched::Any...) at operators.jl:538\n  +(::T, !Matched::T) where T<:Union{Int128, Int16, Int32, Int64, Int8, UInt128, UInt16, UInt32, UInt64, UInt8} at int.jl:86\n  +(::Integer, !Matched::Integer) at int.jl:918\n  ...",
     "output_type": "error",
     "traceback": [
      "MethodError: no method matching +(::Int64, ::String)\nClosest candidates are:\n  +(::Any, ::Any, !Matched::Any, !Matched::Any...) at operators.jl:538\n  +(::T, !Matched::T) where T<:Union{Int128, Int16, Int32, Int64, Int8, UInt128, UInt16, UInt32, UInt64, UInt8} at int.jl:86\n  +(::Integer, !Matched::Integer) at int.jl:918\n  ...",
      "",
      "Stacktrace:",
      " [1] calculate_sum(::Int64, ::String) at .\\In[8]:2",
      " [2] top-level scope at In[11]:1",
      " [3] include_string(::Function, ::Module, ::String, ::String) at .\\loading.jl:1091"
     ]
    }
   ],
   "source": [
    "calculate_sum(1,\"tribhi\")"
   ]
  },
  {
   "cell_type": "markdown",
   "metadata": {},
   "source": [
    "Thus, a better definition would be ensure that x and y are indeed numbers.\n",
    "\n",
    "This can be done in a if statement, but Julia has another way of specifying types of arguments that allows us to do more than you would with the if statement, that will go into. \n"
   ]
  },
  {
   "cell_type": "code",
   "execution_count": 12,
   "metadata": {},
   "outputs": [
    {
     "data": {
      "text/plain": [
       "if_defined_calculated_sum (generic function with 1 method)"
      ]
     },
     "execution_count": 12,
     "metadata": {},
     "output_type": "execute_result"
    }
   ],
   "source": [
    "function if_defined_calculated_sum(x,y)\n",
    "    if(typeof(x)<:Number && typeof(y)<:Number)\n",
    "        return x+y\n",
    "    else\n",
    "        println(\"Error in types\");\n",
    "        return\n",
    "    end\n",
    "end\n"
   ]
  },
  {
   "cell_type": "code",
   "execution_count": 13,
   "metadata": {},
   "outputs": [
    {
     "name": "stdout",
     "output_type": "stream",
     "text": [
      "Error in types\n"
     ]
    }
   ],
   "source": [
    "if_defined_calculated_sum(1,\"tribhi\")"
   ]
  },
  {
   "cell_type": "code",
   "execution_count": 15,
   "metadata": {
    "scrolled": true
   },
   "outputs": [
    {
     "data": {
      "text/plain": [
       "5"
      ]
     },
     "execution_count": 15,
     "metadata": {},
     "output_type": "execute_result"
    }
   ],
   "source": [
    "if_defined_calculated_sum(2,3)"
   ]
  },
  {
   "cell_type": "code",
   "execution_count": 16,
   "metadata": {},
   "outputs": [
    {
     "name": "stdout",
     "output_type": "stream",
     "text": [
      "Error in types\n"
     ]
    }
   ],
   "source": [
    "if_defined_calculated_sum([1,2],[3,4])"
   ]
  },
  {
   "cell_type": "markdown",
   "metadata": {},
   "source": [
    "## Mutiple Dispatch \n",
    "\n",
    "#### What if we wanted to define a function that could change its behavior based on the data given to it \n",
    "\n",
    "We call this **multiple dispatch** in Julia\n"
   ]
  },
  {
   "cell_type": "code",
   "execution_count": 17,
   "metadata": {},
   "outputs": [
    {
     "data": {
      "text/plain": [
       "generic_sum (generic function with 1 method)"
      ]
     },
     "execution_count": 17,
     "metadata": {},
     "output_type": "execute_result"
    }
   ],
   "source": [
    "function generic_sum(x::String,y::String)\n",
    "    return x*y\n",
    "end"
   ]
  },
  {
   "cell_type": "code",
   "execution_count": 18,
   "metadata": {},
   "outputs": [
    {
     "data": {
      "text/plain": [
       "generic_sum (generic function with 2 methods)"
      ]
     },
     "execution_count": 18,
     "metadata": {},
     "output_type": "execute_result"
    }
   ],
   "source": [
    "function generic_sum(x::Number,y::Number)\n",
    "    return x+y\n",
    "end"
   ]
  },
  {
   "cell_type": "code",
   "execution_count": 19,
   "metadata": {},
   "outputs": [
    {
     "data": {
      "text/html": [
       "# 2 methods for generic function <b>generic_sum</b>:<ul><li> generic_sum(x::<b>String</b>, y::<b>String</b>) in Main at In[17]:1</li> <li> generic_sum(x::<b>Number</b>, y::<b>Number</b>) in Main at In[18]:1</li> </ul>"
      ],
      "text/plain": [
       "# 2 methods for generic function \"generic_sum\":\n",
       "[1] generic_sum(x::String, y::String) in Main at In[17]:1\n",
       "[2] generic_sum(x::Number, y::Number) in Main at In[18]:1"
      ]
     },
     "execution_count": 19,
     "metadata": {},
     "output_type": "execute_result"
    }
   ],
   "source": [
    "methods(generic_sum)"
   ]
  },
  {
   "cell_type": "code",
   "execution_count": 20,
   "metadata": {},
   "outputs": [
    {
     "data": {
      "text/plain": [
       "\"Hello world!\""
      ]
     },
     "execution_count": 20,
     "metadata": {},
     "output_type": "execute_result"
    }
   ],
   "source": [
    "generic_sum(\"Hello \",\"world!\")"
   ]
  },
  {
   "cell_type": "code",
   "execution_count": 21,
   "metadata": {},
   "outputs": [
    {
     "data": {
      "text/plain": [
       "5"
      ]
     },
     "execution_count": 21,
     "metadata": {},
     "output_type": "execute_result"
    }
   ],
   "source": [
    "generic_sum(2,3)"
   ]
  },
  {
   "cell_type": "code",
   "execution_count": 22,
   "metadata": {},
   "outputs": [
    {
     "ename": "LoadError",
     "evalue": "MethodError: no method matching generic_sum(::Int64, ::String)\nClosest candidates are:\n  generic_sum(!Matched::String, ::String) at In[17]:1\n  generic_sum(::Number, !Matched::Number) at In[18]:1",
     "output_type": "error",
     "traceback": [
      "MethodError: no method matching generic_sum(::Int64, ::String)\nClosest candidates are:\n  generic_sum(!Matched::String, ::String) at In[17]:1\n  generic_sum(::Number, !Matched::Number) at In[18]:1",
      "",
      "Stacktrace:",
      " [1] top-level scope at In[22]:1",
      " [2] include_string(::Function, ::Module, ::String, ::String) at .\\loading.jl:1091"
     ]
    }
   ],
   "source": [
    "generic_sum(1,\"tribhi\")"
   ]
  },
  {
   "cell_type": "markdown",
   "metadata": {},
   "source": [
    "## Method Errors\n",
    "\n",
    "When the arguments passed to the function in the call statement do not match any of the function definitions, Julia returns with a method error, like we just saw. \n",
    "\n",
    "This is represented using !Matched in the argument list in the error\n",
    "\n",
    "Julia checks it against both function definition types, one requires both integers and fails the second argument.\n",
    "\n",
    "The other that expects both strings, fails the matching the type with first argument"
   ]
  },
  {
   "cell_type": "markdown",
   "metadata": {},
   "source": [
    "# Returning Mutiple values\n",
    "\n",
    "The function can also return multiple values, as an ordered list, called Tuples! \n",
    "\n",
    "Tuple is an ordered list, just like they are in Math, only in Julia, they cannot be modified after a value has been defined. \n",
    "They are represented as ```(a,b,c)``` and so on. Lets see some examples:\n"
   ]
  },
  {
   "cell_type": "code",
   "execution_count": 23,
   "metadata": {},
   "outputs": [
    {
     "data": {
      "text/plain": [
       "sum_diff (generic function with 1 method)"
      ]
     },
     "execution_count": 23,
     "metadata": {},
     "output_type": "execute_result"
    }
   ],
   "source": [
    "function sum_diff(x::Number,y::Number)\n",
    "    return x+y,x-y\n",
    "end\n"
   ]
  },
  {
   "cell_type": "code",
   "execution_count": 24,
   "metadata": {},
   "outputs": [
    {
     "name": "stdout",
     "output_type": "stream",
     "text": [
      "sum_diff(2, 3) = (5, -1)\n",
      "typeof(sum_diff(2, 3)) = Tuple{Int64,Int64}\n"
     ]
    },
    {
     "data": {
      "text/plain": [
       "Tuple{Int64,Int64}"
      ]
     },
     "execution_count": 24,
     "metadata": {},
     "output_type": "execute_result"
    }
   ],
   "source": [
    "@show sum_diff(2,3)\n",
    "@show typeof(sum_diff(2,3))"
   ]
  },
  {
   "cell_type": "code",
   "execution_count": 25,
   "metadata": {},
   "outputs": [
    {
     "name": "stdout",
     "output_type": "stream",
     "text": [
      "a = 5\n",
      "b = -1\n"
     ]
    },
    {
     "data": {
      "text/plain": [
       "-1"
      ]
     },
     "execution_count": 25,
     "metadata": {},
     "output_type": "execute_result"
    }
   ],
   "source": [
    "# Assigning Tuple Values to variables\n",
    "\n",
    "(a,b) = sum_diff(2,3)\n",
    "@show a\n",
    "@show b"
   ]
  },
  {
   "cell_type": "markdown",
   "metadata": {},
   "source": [
    "We can index tuple members exactly like arrays using the []"
   ]
  },
  {
   "cell_type": "code",
   "execution_count": 26,
   "metadata": {},
   "outputs": [
    {
     "name": "stdout",
     "output_type": "stream",
     "text": [
      "c = 5\n",
      "c == a = true\n"
     ]
    },
    {
     "data": {
      "text/plain": [
       "true"
      ]
     },
     "execution_count": 26,
     "metadata": {},
     "output_type": "execute_result"
    }
   ],
   "source": [
    "c = sum_diff(2,3)[1]\n",
    "@show c\n",
    "@show c==a"
   ]
  },
  {
   "cell_type": "markdown",
   "metadata": {},
   "source": [
    "### Compressed format of defining functions "
   ]
  },
  {
   "cell_type": "code",
   "execution_count": 27,
   "metadata": {},
   "outputs": [
    {
     "data": {
      "text/plain": [
       "func (generic function with 1 method)"
      ]
     },
     "execution_count": 27,
     "metadata": {},
     "output_type": "execute_result"
    }
   ],
   "source": [
    "func(x,y) = x+y"
   ]
  },
  {
   "cell_type": "code",
   "execution_count": 28,
   "metadata": {},
   "outputs": [
    {
     "data": {
      "text/plain": [
       "5"
      ]
     },
     "execution_count": 28,
     "metadata": {},
     "output_type": "execute_result"
    }
   ],
   "source": [
    "func(2,3)"
   ]
  },
  {
   "cell_type": "markdown",
   "metadata": {},
   "source": [
    "## Scope of variables used in functions\n",
    "\n",
    "The variables defined in a function have by default a local scope. They are only valid inside the function and not recognised outside of it. Let us see an example of what we mean by that:"
   ]
  },
  {
   "cell_type": "code",
   "execution_count": 29,
   "metadata": {},
   "outputs": [
    {
     "data": {
      "text/plain": [
       "\"Outside the function\""
      ]
     },
     "metadata": {},
     "output_type": "display_data"
    },
    {
     "name": "stdout",
     "output_type": "stream",
     "text": [
      "x = 20\n"
     ]
    },
    {
     "data": {
      "text/plain": [
       "20"
      ]
     },
     "execution_count": 29,
     "metadata": {},
     "output_type": "execute_result"
    }
   ],
   "source": [
    "display(\"Outside the function\");\n",
    "x = 20\n",
    "@show x"
   ]
  },
  {
   "cell_type": "code",
   "execution_count": 31,
   "metadata": {},
   "outputs": [
    {
     "data": {
      "text/plain": [
       "\"inside the function x is \""
      ]
     },
     "metadata": {},
     "output_type": "display_data"
    },
    {
     "data": {
      "text/plain": [
       "50"
      ]
     },
     "metadata": {},
     "output_type": "display_data"
    },
    {
     "data": {
      "text/plain": [
       "\"Outside the function x is\""
      ]
     },
     "metadata": {},
     "output_type": "display_data"
    },
    {
     "data": {
      "text/plain": [
       "20"
      ]
     },
     "metadata": {},
     "output_type": "display_data"
    }
   ],
   "source": [
    "\n",
    "function f(x)\n",
    "    x = 50;\n",
    "    display(\"inside the function x is \");\n",
    "    display(x)\n",
    "end\n",
    "f(10)\n",
    "display(\"Outside the function x is\")\n",
    "display(x)"
   ]
  },
  {
   "cell_type": "code",
   "execution_count": 32,
   "metadata": {},
   "outputs": [
    {
     "name": "stdout",
     "output_type": "stream",
     "text": [
      "i = 1\n",
      "i = 2\n",
      "i = 3\n"
     ]
    },
    {
     "ename": "LoadError",
     "evalue": "UndefVarError: i not defined",
     "output_type": "error",
     "traceback": [
      "UndefVarError: i not defined",
      "",
      "Stacktrace:",
      " [1] top-level scope at show.jl:641",
      " [2] include_string(::Function, ::Module, ::String, ::String) at .\\loading.jl:1091"
     ]
    }
   ],
   "source": [
    "for i = 1:3\n",
    "    @show i\n",
    "end\n",
    "# i ceases to exist after this block of code (identified using the end statement)\n",
    "@show i"
   ]
  },
  {
   "cell_type": "markdown",
   "metadata": {},
   "source": [
    "## Coding Practice \n",
    "\n",
    "Lets us now get into to solving some common coding questions that will us get comfortable with Julia. \n"
   ]
  },
  {
   "cell_type": "markdown",
   "metadata": {},
   "source": [
    "## Palindrome \n",
    "\n",
    "Write a function to determine whether an integer is a palindrome. An integer is a palindrome when it reads the same backward as forward.\n",
    "\n",
    "#### Example:\n",
    "Input: palindrome(121)\n",
    "\n",
    "Output: true"
   ]
  },
  {
   "cell_type": "code",
   "execution_count": 35,
   "metadata": {},
   "outputs": [
    {
     "data": {
      "text/plain": [
       "321"
      ]
     },
     "execution_count": 35,
     "metadata": {},
     "output_type": "execute_result"
    }
   ],
   "source": [
    "# Write a function to reverse a number\n",
    "function reverse_num(x::Integer)\n",
    "    rev = 0;\n",
    "    while(x!=0)\n",
    "        remainder = x%10;\n",
    "        rev = rev*10+remainder;\n",
    "        x = Int(floor(x/10));\n",
    "    end\n",
    "    return rev\n",
    "end\n",
    "reverse_num(123)"
   ]
  },
  {
   "cell_type": "code",
   "execution_count": 36,
   "metadata": {},
   "outputs": [
    {
     "data": {
      "text/plain": [
       "palindrome (generic function with 1 method)"
      ]
     },
     "execution_count": 36,
     "metadata": {},
     "output_type": "execute_result"
    }
   ],
   "source": [
    "function palindrome(x::Integer)\n",
    "    if(x == reverse_num(x))\n",
    "        return true;\n",
    "    else\n",
    "        return false;\n",
    "    end\n",
    "end"
   ]
  },
  {
   "cell_type": "code",
   "execution_count": 38,
   "metadata": {},
   "outputs": [
    {
     "data": {
      "text/plain": [
       "true"
      ]
     },
     "execution_count": 38,
     "metadata": {},
     "output_type": "execute_result"
    }
   ],
   "source": [
    "palindrome(121)"
   ]
  },
  {
   "cell_type": "markdown",
   "metadata": {},
   "source": [
    "## Question\n",
    "Can you show me in Julia that computing inv(A) is equivalent to solving A x = e_i, for i from 1 to n?\n",
    "\n",
    "\n",
    "So we want to show that solving for x from the given equation gives us ith column of inv(A) matrix! "
   ]
  },
  {
   "cell_type": "code",
   "execution_count": 41,
   "metadata": {},
   "outputs": [
    {
     "data": {
      "text/plain": [
       "1.0"
      ]
     },
     "execution_count": 41,
     "metadata": {},
     "output_type": "execute_result"
    }
   ],
   "source": [
    "A = [2 4 5;1 3 3;2 5 6]\n",
    "det(A)"
   ]
  },
  {
   "cell_type": "code",
   "execution_count": 40,
   "metadata": {},
   "outputs": [],
   "source": [
    "using LinearAlgebra"
   ]
  },
  {
   "cell_type": "code",
   "execution_count": 42,
   "metadata": {},
   "outputs": [
    {
     "data": {
      "text/plain": [
       "3×3 Array{Float64,2}:\n",
       "  3.0   1.0  -3.0\n",
       "  0.0   2.0  -1.0\n",
       " -1.0  -2.0   2.0"
      ]
     },
     "execution_count": 42,
     "metadata": {},
     "output_type": "execute_result"
    }
   ],
   "source": [
    "A_inv = inv(A)"
   ]
  },
  {
   "cell_type": "code",
   "execution_count": 43,
   "metadata": {},
   "outputs": [],
   "source": [
    "e_1 = [1.0,0,0];\n",
    "e_2 = [0,1.0,0];\n",
    "e_3 = [0,0,1.0];\n"
   ]
  },
  {
   "cell_type": "code",
   "execution_count": 44,
   "metadata": {},
   "outputs": [
    {
     "data": {
      "text/plain": [
       "3×3 Array{Float64,2}:\n",
       " 2.0  4.0  5.0\n",
       " 1.0  3.0  3.0\n",
       " 2.0  5.0  6.0"
      ]
     },
     "execution_count": 44,
     "metadata": {},
     "output_type": "execute_result"
    }
   ],
   "source": [
    "l, u, p = lu(A)\n",
    "l*u"
   ]
  },
  {
   "cell_type": "markdown",
   "metadata": {},
   "source": [
    "## Write down Functions for Forward and Backward Substitution\n",
    "\n",
    "We will write the code from Julia Homework 2 into a function. This is not a general forward substitution like we are required to solev for ourselves in Julia homework 4\n",
    "\n",
    "This one should just a 3x3 matrix A, and a 3x1 matrix b and return an x (3x1) such that Ax = b"
   ]
  },
  {
   "cell_type": "code",
   "execution_count": 45,
   "metadata": {},
   "outputs": [
    {
     "data": {
      "text/plain": [
       "forward_sub (generic function with 1 method)"
      ]
     },
     "execution_count": 45,
     "metadata": {},
     "output_type": "execute_result"
    }
   ],
   "source": [
    "function forward_sub(A::Array{Float64,2},b::Array{Float64,1})\n",
    "    if(size(A)!=(3,3) || length(b)!= 3 )\n",
    "        println(\"Incorrect input dimensions\");\n",
    "        return;\n",
    "    end\n",
    "    x = [0.0; 0.0; 0.0] #Initialize an empty x vector\n",
    "\n",
    "    #This method does not scale to large problems, but it is super clear\n",
    "    x[1]=b[1]/A[1,1]\n",
    "    x[2]=(b[2]-A[2,1]*x[1])/A[2,2]\n",
    "    x[3]=(b[3]-A[3,1]*x[1]-A[3,2]*x[2])/A[3,3]\n",
    "    return x\n",
    "end\n"
   ]
  },
  {
   "cell_type": "code",
   "execution_count": 46,
   "metadata": {},
   "outputs": [
    {
     "data": {
      "text/plain": [
       "backward_sub (generic function with 1 method)"
      ]
     },
     "execution_count": 46,
     "metadata": {},
     "output_type": "execute_result"
    }
   ],
   "source": [
    "function backward_sub(A::Array{Float64,2},b::Array{Float64,1})\n",
    "    if(size(A)!=(3,3) || length(b)!= 3 )\n",
    "        println(\"Incorrect input dimensions\");\n",
    "        return;\n",
    "    end\n",
    "    x = [0.0; 0.0; 0.0] #Initialize an empty x vector\n",
    "\n",
    "    #This method does not scale to large problems, but it is super clear\n",
    "    x[3]=b[3]/A[3,3]\n",
    "    x[2]=(b[2]-A[2,3]*x[3])/A[2,2]\n",
    "    x[1]=(b[1]-A[1,2]*x[2]-A[1,3]*x[3])/A[1,1]\n",
    "    return x\n",
    "end\n"
   ]
  },
  {
   "cell_type": "markdown",
   "metadata": {},
   "source": [
    "Now, Solve for A*x = e_i for i = 1:3. And build a my_A_inv matrix"
   ]
  },
  {
   "cell_type": "code",
   "execution_count": 47,
   "metadata": {},
   "outputs": [
    {
     "name": "stdout",
     "output_type": "stream",
     "text": [
      "l * u * x_1 == e_1 = true\n"
     ]
    },
    {
     "data": {
      "text/plain": [
       "true"
      ]
     },
     "execution_count": 47,
     "metadata": {},
     "output_type": "execute_result"
    }
   ],
   "source": [
    "# Solve for x_1 with b = e_1\n",
    "\n",
    "# Define y_1 = U*x_1\n",
    "# l*y_1 = e_1, l is lower triangular, so we do forwards_sub\n",
    "\n",
    "y_1 = forward_sub(l,e_1);\n",
    "\n",
    "# Second equation, u*x_1 = y_1\n",
    "\n",
    "x_1 = backward_sub(u,y_1);\n",
    "\n",
    "@show l*u*x_1 == e_1\n",
    "\n"
   ]
  },
  {
   "cell_type": "code",
   "execution_count": 50,
   "metadata": {},
   "outputs": [
    {
     "name": "stdout",
     "output_type": "stream",
     "text": [
      "isapprox(my_inv_A, A_inv; atol = 0.1) = true\n"
     ]
    },
    {
     "data": {
      "text/plain": [
       "true"
      ]
     },
     "execution_count": 50,
     "metadata": {},
     "output_type": "execute_result"
    }
   ],
   "source": [
    "# Similarly solve for x_2, x_3\n",
    "\n",
    "y_2 = forward_sub(l,e_2);\n",
    "\n",
    "# Second equation, u*x_1 = y_1\n",
    "\n",
    "x_2 = backward_sub(u,y_2);\n",
    "\n",
    "y_3 = forward_sub(l,e_3);\n",
    "\n",
    "# Second equation, u*x_1 = y_1\n",
    "\n",
    "x_3 = backward_sub(u,y_3);\n",
    "\n",
    "my_inv_A = [x_1 x_2 x_3];\n",
    "@show isapprox(my_inv_A, A_inv; atol= 0.1)"
   ]
  },
  {
   "cell_type": "code",
   "execution_count": null,
   "metadata": {},
   "outputs": [],
   "source": []
  }
 ],
 "metadata": {
  "kernelspec": {
   "display_name": "Julia 1.5.1",
   "language": "julia",
   "name": "julia-1.5"
  },
  "language_info": {
   "file_extension": ".jl",
   "mimetype": "application/julia",
   "name": "julia",
   "version": "1.5.1"
  }
 },
 "nbformat": 4,
 "nbformat_minor": 4
}
