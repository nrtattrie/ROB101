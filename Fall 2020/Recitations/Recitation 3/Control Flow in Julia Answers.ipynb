{
 "cells": [
  {
   "cell_type": "markdown",
   "metadata": {},
   "source": [
    "# Control Flow in Julia\n",
    "\n",
    "Now that we are comfortable using Julia for declaring and manipulating variabels and Arrays, the next logical step is to learn to control the flow of these manipulations. \n",
    "\n",
    "Control Statements used in Julia are:\n",
    "\n",
    "- for loops\n",
    "- while loops\n",
    "- if-else construct\n",
    "- do while\n"
   ]
  },
  {
   "cell_type": "markdown",
   "metadata": {},
   "source": [
    "# For Loops\n",
    "\n",
    "Used when we want to repeat a process, or a segment of code.  \n",
    "\n",
    "The basic syntax is illustrated in the next cell.\n"
   ]
  },
  {
   "cell_type": "code",
   "execution_count": 1,
   "metadata": {},
   "outputs": [
    {
     "name": "stdout",
     "output_type": "stream",
     "text": [
      "i = 1\n",
      "i = 2\n",
      "i = 3\n",
      "i = 4\n",
      "i = 5\n",
      "i = 6\n",
      "i = 7\n",
      "i = 8\n",
      "i = 9\n",
      "i = 10\n"
     ]
    }
   ],
   "source": [
    "# Use the keyword 'for' followed by the condition\n",
    "\n",
    "# i is called an iterator, that keeps track of the number of times the code has run\n",
    "\n",
    "#v For this problem we are simply printing the value of the iterator \n",
    "\n",
    "for i = 1:10\n",
    "    @show i\n",
    "end\n"
   ]
  },
  {
   "cell_type": "code",
   "execution_count": 2,
   "metadata": {},
   "outputs": [
    {
     "name": "stdout",
     "output_type": "stream",
     "text": [
      "i * j = 2\n",
      "i * j = 3\n",
      "i * j = 4\n",
      "i * j = 4\n",
      "i * j = 6\n",
      "i * j = 8\n",
      "i * j = 6\n",
      "i * j = 9\n",
      "i * j = 12\n",
      "i * j = 8\n",
      "i * j = 12\n",
      "i * j = 16\n"
     ]
    }
   ],
   "source": [
    "# combine two loops \n",
    "\n",
    "for i = 1:4\n",
    "    for j = 2:4\n",
    "        @show i*j\n",
    "    end\n",
    "end"
   ]
  },
  {
   "cell_type": "code",
   "execution_count": 3,
   "metadata": {
    "scrolled": true
   },
   "outputs": [
    {
     "name": "stdout",
     "output_type": "stream",
     "text": [
      "i * j = 2\n",
      "i * j = 3\n",
      "i * j = 4\n",
      "i * j = 4\n",
      "i * j = 6\n",
      "i * j = 8\n",
      "i * j = 6\n",
      "i * j = 9\n",
      "i * j = 12\n",
      "i * j = 8\n",
      "i * j = 12\n",
      "i * j = 16\n"
     ]
    }
   ],
   "source": [
    "for i = 1:4,j = 2:4\n",
    "    @show i*j\n",
    "end"
   ]
  },
  {
   "cell_type": "markdown",
   "metadata": {},
   "source": [
    "# Different ways to specify a range\n",
    "\n",
    "The iterator in the loop is specified as a range of valid numbers. There are different ways of building ranges in julia. \n"
   ]
  },
  {
   "cell_type": "code",
   "execution_count": 5,
   "metadata": {
    "scrolled": true
   },
   "outputs": [
    {
     "name": "stdout",
     "output_type": "stream",
     "text": [
      "i = 1\n",
      "i = 4\n",
      "i = 7\n",
      "i = 10\n"
     ]
    }
   ],
   "source": [
    "for i = 1:3:10\n",
    "    @show i\n",
    "end"
   ]
  },
  {
   "cell_type": "code",
   "execution_count": 13,
   "metadata": {},
   "outputs": [
    {
     "name": "stdout",
     "output_type": "stream",
     "text": [
      "search: \u001b[0m\u001b[1mL\u001b[22m\u001b[0m\u001b[1mi\u001b[22m\u001b[0m\u001b[1mn\u001b[22m\u001b[0m\u001b[1mR\u001b[22m\u001b[0m\u001b[1ma\u001b[22m\u001b[0m\u001b[1mn\u001b[22m\u001b[0m\u001b[1mg\u001b[22m\u001b[0m\u001b[1me\u001b[22m\n",
      "\n"
     ]
    },
    {
     "data": {
      "text/latex": [
       "\\begin{verbatim}\n",
       "LinRange{T}\n",
       "\\end{verbatim}\n",
       "A range with \\texttt{len} linearly spaced elements between its \\texttt{start} and \\texttt{stop}. The size of the spacing is controlled by \\texttt{len}, which must be an \\texttt{Int}.\n",
       "\n",
       "\\section{Examples}\n",
       "\\begin{verbatim}\n",
       "julia> LinRange(1.5, 5.5, 9)\n",
       "9-element LinRange{Float64}:\n",
       " 1.5,2.0,2.5,3.0,3.5,4.0,4.5,5.0,5.5\n",
       "\\end{verbatim}\n",
       "Compared to using \\href{@ref}{\\texttt{range}}, directly constructing a \\texttt{LinRange} should have less overhead but won't try to correct for floating point errors:\n",
       "\n",
       "\\begin{verbatim}\n",
       "julia> collect(range(-0.1, 0.3, length=5))\n",
       "5-element Array{Float64,1}:\n",
       " -0.1\n",
       "  0.0\n",
       "  0.1\n",
       "  0.2\n",
       "  0.3\n",
       "\n",
       "julia> collect(LinRange(-0.1, 0.3, 5))\n",
       "5-element Array{Float64,1}:\n",
       " -0.1\n",
       " -1.3877787807814457e-17\n",
       "  0.09999999999999999\n",
       "  0.19999999999999998\n",
       "  0.3\n",
       "\\end{verbatim}\n"
      ],
      "text/markdown": [
       "```\n",
       "LinRange{T}\n",
       "```\n",
       "\n",
       "A range with `len` linearly spaced elements between its `start` and `stop`. The size of the spacing is controlled by `len`, which must be an `Int`.\n",
       "\n",
       "# Examples\n",
       "\n",
       "```jldoctest\n",
       "julia> LinRange(1.5, 5.5, 9)\n",
       "9-element LinRange{Float64}:\n",
       " 1.5,2.0,2.5,3.0,3.5,4.0,4.5,5.0,5.5\n",
       "```\n",
       "\n",
       "Compared to using [`range`](@ref), directly constructing a `LinRange` should have less overhead but won't try to correct for floating point errors:\n",
       "\n",
       "```julia\n",
       "julia> collect(range(-0.1, 0.3, length=5))\n",
       "5-element Array{Float64,1}:\n",
       " -0.1\n",
       "  0.0\n",
       "  0.1\n",
       "  0.2\n",
       "  0.3\n",
       "\n",
       "julia> collect(LinRange(-0.1, 0.3, 5))\n",
       "5-element Array{Float64,1}:\n",
       " -0.1\n",
       " -1.3877787807814457e-17\n",
       "  0.09999999999999999\n",
       "  0.19999999999999998\n",
       "  0.3\n",
       "```\n"
      ],
      "text/plain": [
       "\u001b[36m  LinRange{T}\u001b[39m\n",
       "\n",
       "  A range with \u001b[36mlen\u001b[39m linearly spaced elements between its \u001b[36mstart\u001b[39m and \u001b[36mstop\u001b[39m. The\n",
       "  size of the spacing is controlled by \u001b[36mlen\u001b[39m, which must be an \u001b[36mInt\u001b[39m.\n",
       "\n",
       "\u001b[1m  Examples\u001b[22m\n",
       "\u001b[1m  ≡≡≡≡≡≡≡≡≡≡\u001b[22m\n",
       "\n",
       "\u001b[36m  julia> LinRange(1.5, 5.5, 9)\u001b[39m\n",
       "\u001b[36m  9-element LinRange{Float64}:\u001b[39m\n",
       "\u001b[36m   1.5,2.0,2.5,3.0,3.5,4.0,4.5,5.0,5.5\u001b[39m\n",
       "\n",
       "  Compared to using \u001b[36mrange\u001b[39m, directly constructing a \u001b[36mLinRange\u001b[39m should have less\n",
       "  overhead but won't try to correct for floating point errors:\n",
       "\n",
       "\u001b[36m  julia> collect(range(-0.1, 0.3, length=5))\u001b[39m\n",
       "\u001b[36m  5-element Array{Float64,1}:\u001b[39m\n",
       "\u001b[36m   -0.1\u001b[39m\n",
       "\u001b[36m    0.0\u001b[39m\n",
       "\u001b[36m    0.1\u001b[39m\n",
       "\u001b[36m    0.2\u001b[39m\n",
       "\u001b[36m    0.3\u001b[39m\n",
       "\u001b[36m  \u001b[39m\n",
       "\u001b[36m  julia> collect(LinRange(-0.1, 0.3, 5))\u001b[39m\n",
       "\u001b[36m  5-element Array{Float64,1}:\u001b[39m\n",
       "\u001b[36m   -0.1\u001b[39m\n",
       "\u001b[36m   -1.3877787807814457e-17\u001b[39m\n",
       "\u001b[36m    0.09999999999999999\u001b[39m\n",
       "\u001b[36m    0.19999999999999998\u001b[39m\n",
       "\u001b[36m    0.3\u001b[39m"
      ]
     },
     "execution_count": 13,
     "metadata": {},
     "output_type": "execute_result"
    }
   ],
   "source": [
    "? LinRange"
   ]
  },
  {
   "cell_type": "code",
   "execution_count": 7,
   "metadata": {},
   "outputs": [
    {
     "data": {
      "text/plain": [
       "1:10"
      ]
     },
     "execution_count": 7,
     "metadata": {},
     "output_type": "execute_result"
    }
   ],
   "source": [
    "a = UnitRange(1,10)"
   ]
  },
  {
   "cell_type": "code",
   "execution_count": 9,
   "metadata": {},
   "outputs": [
    {
     "name": "stdout",
     "output_type": "stream",
     "text": [
      "a.start = 1\n",
      "a.stop = 10\n"
     ]
    }
   ],
   "source": [
    "@show a.start\n",
    "@show a.stop;"
   ]
  },
  {
   "cell_type": "code",
   "execution_count": 10,
   "metadata": {},
   "outputs": [
    {
     "data": {
      "text/plain": [
       "1:10"
      ]
     },
     "execution_count": 10,
     "metadata": {},
     "output_type": "execute_result"
    }
   ],
   "source": [
    "a1 = 1:10"
   ]
  },
  {
   "cell_type": "code",
   "execution_count": 11,
   "metadata": {},
   "outputs": [
    {
     "data": {
      "text/plain": [
       "true"
      ]
     },
     "execution_count": 11,
     "metadata": {},
     "output_type": "execute_result"
    }
   ],
   "source": [
    "a == a1"
   ]
  },
  {
   "cell_type": "code",
   "execution_count": 12,
   "metadata": {},
   "outputs": [
    {
     "name": "stdout",
     "output_type": "stream",
     "text": [
      "typeof(a) = UnitRange{Int64}\n",
      "typeof(a1) = UnitRange{Int64}\n"
     ]
    }
   ],
   "source": [
    "@show typeof(a)\n",
    "@show typeof(a1);"
   ]
  },
  {
   "cell_type": "code",
   "execution_count": 14,
   "metadata": {},
   "outputs": [
    {
     "data": {
      "text/plain": [
       "6-element LinRange{Float64}:\n",
       " 1.0,2.8,4.6,6.4,8.2,10.0"
      ]
     },
     "execution_count": 14,
     "metadata": {},
     "output_type": "execute_result"
    }
   ],
   "source": [
    "b = LinRange(1,10,6)"
   ]
  },
  {
   "cell_type": "code",
   "execution_count": 15,
   "metadata": {},
   "outputs": [
    {
     "name": "stdout",
     "output_type": "stream",
     "text": [
      "b.start = 1.0\n",
      "b.stop = 10.0\n",
      "b.len = 6\n"
     ]
    }
   ],
   "source": [
    "@show b.start\n",
    "@show b.stop\n",
    "@show b.len;"
   ]
  },
  {
   "cell_type": "markdown",
   "metadata": {},
   "source": [
    "# Loops in arrays \n",
    "\n",
    "We've accessed Arrays using slices, which we now can call ranges. "
   ]
  },
  {
   "cell_type": "code",
   "execution_count": 16,
   "metadata": {},
   "outputs": [
    {
     "data": {
      "text/plain": [
       "1×15 Array{Int64,2}:\n",
       " 1  2  3  4  5  6  7  8  9  10  11  12  13  14  15"
      ]
     },
     "execution_count": 16,
     "metadata": {},
     "output_type": "execute_result"
    }
   ],
   "source": [
    "MyArray = [1 2 3 4 5 6 7 8 9 10 11 12 13 14 15]"
   ]
  },
  {
   "cell_type": "code",
   "execution_count": 17,
   "metadata": {},
   "outputs": [
    {
     "data": {
      "text/plain": [
       "10-element Array{Int64,1}:\n",
       "  1\n",
       "  2\n",
       "  3\n",
       "  4\n",
       "  5\n",
       "  6\n",
       "  7\n",
       "  8\n",
       "  9\n",
       " 10"
      ]
     },
     "execution_count": 17,
     "metadata": {},
     "output_type": "execute_result"
    }
   ],
   "source": [
    "MyArray[1:10]"
   ]
  },
  {
   "cell_type": "code",
   "execution_count": 18,
   "metadata": {},
   "outputs": [
    {
     "data": {
      "text/plain": [
       "10-element Array{Int64,1}:\n",
       "  1\n",
       "  2\n",
       "  3\n",
       "  4\n",
       "  5\n",
       "  6\n",
       "  7\n",
       "  8\n",
       "  9\n",
       " 10"
      ]
     },
     "execution_count": 18,
     "metadata": {},
     "output_type": "execute_result"
    }
   ],
   "source": [
    "MyArray[a]"
   ]
  },
  {
   "cell_type": "code",
   "execution_count": 19,
   "metadata": {},
   "outputs": [
    {
     "data": {
      "text/plain": [
       "4"
      ]
     },
     "execution_count": 19,
     "metadata": {},
     "output_type": "execute_result"
    }
   ],
   "source": [
    "# Ranges are also arrays\n",
    "a[4]"
   ]
  },
  {
   "cell_type": "code",
   "execution_count": 20,
   "metadata": {},
   "outputs": [
    {
     "data": {
      "text/plain": [
       "10-element Array{Int64,1}:\n",
       "  1\n",
       "  2\n",
       "  3\n",
       "  4\n",
       "  5\n",
       "  6\n",
       "  7\n",
       "  8\n",
       "  9\n",
       " 10"
      ]
     },
     "execution_count": 20,
     "metadata": {},
     "output_type": "execute_result"
    }
   ],
   "source": [
    "collect(1:10)"
   ]
  },
  {
   "cell_type": "code",
   "execution_count": 22,
   "metadata": {},
   "outputs": [
    {
     "data": {
      "text/plain": [
       "5-element Array{Float64,1}:\n",
       "  0.8414709848078965\n",
       "  0.9092974268256817\n",
       "  0.1411200080598672\n",
       " -0.7568024953079282\n",
       " -0.9589242746631385"
      ]
     },
     "execution_count": 22,
     "metadata": {},
     "output_type": "execute_result"
    }
   ],
   "source": [
    "comp = [sin(i) for i in 1:5]"
   ]
  },
  {
   "cell_type": "markdown",
   "metadata": {},
   "source": [
    "# If-Else Condition \n",
    "\n",
    "When you want to run a part of your code based on a condition"
   ]
  },
  {
   "cell_type": "code",
   "execution_count": 23,
   "metadata": {},
   "outputs": [
    {
     "name": "stdout",
     "output_type": "stream",
     "text": [
      "a = 1:10\n"
     ]
    },
    {
     "data": {
      "text/plain": [
       "1:10"
      ]
     },
     "execution_count": 23,
     "metadata": {},
     "output_type": "execute_result"
    }
   ],
   "source": [
    "if (a[4] == 4)\n",
    "    @show a;\n",
    "end"
   ]
  },
  {
   "cell_type": "code",
   "execution_count": 27,
   "metadata": {},
   "outputs": [
    {
     "name": "stdout",
     "output_type": "stream",
     "text": [
      "x is less than y\n"
     ]
    }
   ],
   "source": [
    "x = 10;\n",
    "y = 4;\n",
    "if(!(x<y))\n",
    "    println(\"x is less than y\");\n",
    "else\n",
    "    println(\"x is greater than or equal to y\")\n",
    "end"
   ]
  },
  {
   "cell_type": "code",
   "execution_count": 26,
   "metadata": {},
   "outputs": [
    {
     "data": {
      "text/plain": [
       "false"
      ]
     },
     "execution_count": 26,
     "metadata": {},
     "output_type": "execute_result"
    }
   ],
   "source": [
    "x<y"
   ]
  },
  {
   "cell_type": "markdown",
   "metadata": {},
   "source": [
    "# Logical Operator\n",
    "\n",
    "When you want to specify condition, you have to work with Logical variables, Boolean (true and false)\n",
    "\n",
    "Special oprators that can manipulate them are called Logical Operators\n",
    "\n",
    "The most commonly used logical operators are Not ```!```, And ```&&```, Or ```||```\n",
    "\n"
   ]
  },
  {
   "cell_type": "markdown",
   "metadata": {},
   "source": [
    "Not operator is unary logical operator, i.e. it only applies to a single variable. \n",
    "It function is negate a logical expression. So true becomes false and false becomes true. "
   ]
  },
  {
   "cell_type": "code",
   "execution_count": 28,
   "metadata": {},
   "outputs": [
    {
     "name": "stdout",
     "output_type": "stream",
     "text": [
      "!true = false\n",
      "!false = true\n",
      "!(2 == 2) = false\n"
     ]
    }
   ],
   "source": [
    "@show !true\n",
    "@show !false\n",
    "@show !(2==2);"
   ]
  },
  {
   "cell_type": "markdown",
   "metadata": {},
   "source": [
    "The And && operator is used in expression when we need two or more evaluating conditions to be met (or be true) simultanously. Any condition that is not met is a deal-breaker and the expression evaluates to false."
   ]
  },
  {
   "cell_type": "code",
   "execution_count": 29,
   "metadata": {},
   "outputs": [
    {
     "name": "stdout",
     "output_type": "stream",
     "text": [
      "true && false = false\n",
      "false && true = false\n",
      "true && true = true\n",
      "false && false = false\n"
     ]
    }
   ],
   "source": [
    "@show true&&false\n",
    "@show false&&true\n",
    "@show true&&true\n",
    "@show false&&false;"
   ]
  },
  {
   "cell_type": "markdown",
   "metadata": {},
   "source": [
    "We can have multiple expressions in this format"
   ]
  },
  {
   "cell_type": "code",
   "execution_count": 30,
   "metadata": {},
   "outputs": [
    {
     "name": "stdout",
     "output_type": "stream",
     "text": [
      "true && (true && false) = false\n",
      "true && (true && true) = true\n",
      "2 == 2 && 1 <= 1 = true\n",
      "2 >= 2.0 && (-1.0 < 0 && -1.0 < -1) = false\n",
      "2 <= 0 && true = false\n"
     ]
    }
   ],
   "source": [
    "@show true&&true&&false\n",
    "@show true&&true&&true\n",
    "@show (2==2)&&(1<=1)\n",
    "@show (2>=2.0)&&(-1.0<0)&&(-1.0<-1)\n",
    "@show (2<=0)&&true;\n"
   ]
  },
  {
   "cell_type": "markdown",
   "metadata": {},
   "source": [
    "Finally, The Or || operator is used in cases when even one satifactory condition is accceptable. If we want either of the conditions specified to be true, we use Or to evaluate the final expression to a true"
   ]
  },
  {
   "cell_type": "code",
   "execution_count": 31,
   "metadata": {},
   "outputs": [
    {
     "name": "stdout",
     "output_type": "stream",
     "text": [
      "true || false = true\n",
      "false || true = true\n",
      "true || true = true\n",
      "false || false = false\n"
     ]
    }
   ],
   "source": [
    "@show true||false\n",
    "@show false||true\n",
    "@show true||true\n",
    "@show false||false;"
   ]
  },
  {
   "cell_type": "markdown",
   "metadata": {},
   "source": [
    "We could chain multiple expressions this way. We would get a true value if either or the expression evaluates to true. Let's see! "
   ]
  },
  {
   "cell_type": "code",
   "execution_count": 32,
   "metadata": {},
   "outputs": [
    {
     "name": "stdout",
     "output_type": "stream",
     "text": [
      "2 == 2 || (1 < 0 || -1 < 0) = true\n",
      "2.0 < 3 || false = true\n"
     ]
    }
   ],
   "source": [
    "@show (2==2)||(1<0)||(-1<0)\n",
    "@show (2.0<3) || false;"
   ]
  },
  {
   "cell_type": "markdown",
   "metadata": {},
   "source": [
    "# Most common way of combining the two flows!"
   ]
  },
  {
   "cell_type": "markdown",
   "metadata": {},
   "source": [
    "# Break in a loop\n",
    "\n",
    "Using the keyword ```break``` will stop the loop at the whatever statement it is encountered. \n",
    "\n",
    "An opposite of that is continue, but we will not discuss that one today. "
   ]
  },
  {
   "cell_type": "code",
   "execution_count": 2,
   "metadata": {},
   "outputs": [
    {
     "data": {
      "text/plain": [
       "\"Not a prime number\""
      ]
     },
     "metadata": {},
     "output_type": "display_data"
    }
   ],
   "source": [
    "# You want special action, on some values in a loop\n",
    "\n",
    "# Program to check if 19 is prime \n",
    "\n",
    "number = 25;\n",
    "\n",
    "for i = 2:number-1\n",
    "    if(number%i == 0)\n",
    "        display(\"Not a prime number\");\n",
    "        break;\n",
    "    end  \n",
    "    # Was not in the recording, but I did say we were missing another if! SO I put that here!\n",
    "    if(i==number-1)\n",
    "    display(\"Prime Number\")\n",
    "    end\n",
    "end\n",
    "        \n",
    "\n",
    "# code here"
   ]
  },
  {
   "cell_type": "markdown",
   "metadata": {},
   "source": [
    "# Matrix Multiplication  using loops\n",
    "\n",
    "$A=\\left[\\begin{array}{rrr}  2 & -4 & 2  \\\\\n",
    " 3 & 4 & 8  \\end{array}\\right] B =  \\left[\\begin{array}{rr} 2 & -5 \\\\\n",
    "6 & -3  \\\\ 3 & 2\\end{array}\\right] $"
   ]
  },
  {
   "cell_type": "code",
   "execution_count": 35,
   "metadata": {},
   "outputs": [],
   "source": [
    "A = [2 -4 2;3 4 8];\n",
    "B = [2 -5;6 -3;3 2];"
   ]
  },
  {
   "cell_type": "code",
   "execution_count": 37,
   "metadata": {},
   "outputs": [
    {
     "data": {
      "text/plain": [
       "2×2 Array{Float64,2}:\n",
       " -14.0    6.0\n",
       "  54.0  -11.0"
      ]
     },
     "execution_count": 37,
     "metadata": {},
     "output_type": "execute_result"
    }
   ],
   "source": [
    "# Standard multiplication\n",
    "\n",
    "# Iterate over all the indices of C\n",
    "\n",
    "C = Array{Float64,2}(undef, 2, 2);\n",
    "\n",
    "for i = 1:2, j=1:2\n",
    "    C[i,j] = A[i,:]'*B[:,j];\n",
    "end\n",
    "C"
   ]
  },
  {
   "cell_type": "code",
   "execution_count": 42,
   "metadata": {},
   "outputs": [
    {
     "data": {
      "text/plain": [
       "2×2 Array{Float64,2}:\n",
       " -14.0    6.0\n",
       "  54.0  -11.0"
      ]
     },
     "execution_count": 42,
     "metadata": {},
     "output_type": "execute_result"
    }
   ],
   "source": [
    "# Column wise multiplication\n",
    "\n",
    "# Run the loop k times\n",
    "\n",
    "C = zeros(2,2);\n",
    "\n",
    "for i = 1:size(A,2)\n",
    "    C = C + A[:,i]*B[i,:]';\n",
    "end\n",
    "\n",
    "C# code here"
   ]
  },
  {
   "cell_type": "markdown",
   "metadata": {},
   "source": [
    "# Solving system of equations using LU decomposition \n"
   ]
  },
  {
   "cell_type": "code",
   "execution_count": 43,
   "metadata": {},
   "outputs": [
    {
     "data": {
      "text/plain": [
       "3×3 Array{Float64,2}:\n",
       " 0.0   0.0   0.0\n",
       " 0.0  -5.0   3.0\n",
       " 0.0  -5.0  -5.0"
      ]
     },
     "metadata": {},
     "output_type": "display_data"
    },
    {
     "data": {
      "text/plain": [
       "3×1 Array{Float64,2}:\n",
       " 1.0\n",
       " 1.0\n",
       " 3.0"
      ]
     },
     "metadata": {},
     "output_type": "display_data"
    },
    {
     "data": {
      "text/plain": [
       "1×3 Array{Float64,2}:\n",
       " 1.0  2.0  1.0"
      ]
     },
     "metadata": {},
     "output_type": "display_data"
    }
   ],
   "source": [
    "M = [1 2 1;1 -3 4;3 1 -2];\n",
    "temp=copy(M)\n",
    "n,m = size(M)\n",
    "k=1\n",
    "L = Array{Float64,2}(undef, n, 0);\n",
    "U = Array{Float64,2}(undef, 0,n);\n",
    "C=temp[:,k]\n",
    "pivot=C[k]\n",
    "C=C/pivot  \n",
    "R=temp[k,:]' \n",
    "L = [L C]\n",
    "U = [U;R]\n",
    "temp = temp-C*R\n",
    "display(temp)\n",
    "display(L)\n",
    "display(U);"
   ]
  },
  {
   "cell_type": "code",
   "execution_count": 44,
   "metadata": {},
   "outputs": [
    {
     "data": {
      "text/plain": [
       "3×3 Array{Float64,2}:\n",
       " 0.0  0.0   0.0\n",
       " 0.0  0.0   0.0\n",
       " 0.0  0.0  -8.0"
      ]
     },
     "metadata": {},
     "output_type": "display_data"
    },
    {
     "data": {
      "text/plain": [
       "3×2 Array{Float64,2}:\n",
       " 1.0  -0.0\n",
       " 1.0   1.0\n",
       " 3.0   1.0"
      ]
     },
     "metadata": {},
     "output_type": "display_data"
    },
    {
     "data": {
      "text/plain": [
       "2×3 Array{Float64,2}:\n",
       " 1.0   2.0  1.0\n",
       " 0.0  -5.0  3.0"
      ]
     },
     "metadata": {},
     "output_type": "display_data"
    }
   ],
   "source": [
    "k=2\n",
    "C=temp[:,k]\n",
    "pivot=C[k]\n",
    "C=C/pivot  \n",
    "R=temp[k,:]' \n",
    "temp = temp-C*R\n",
    "L = [L C]\n",
    "U = [U;R]\n",
    "display(temp)\n",
    "display(L)\n",
    "display(U);"
   ]
  },
  {
   "cell_type": "code",
   "execution_count": 45,
   "metadata": {},
   "outputs": [
    {
     "data": {
      "text/plain": [
       "3×3 Array{Float64,2}:\n",
       " 0.0  0.0  0.0\n",
       " 0.0  0.0  0.0\n",
       " 0.0  0.0  0.0"
      ]
     },
     "metadata": {},
     "output_type": "display_data"
    },
    {
     "data": {
      "text/plain": [
       "3×3 Array{Float64,2}:\n",
       " 1.0  -0.0  -0.0\n",
       " 1.0   1.0  -0.0\n",
       " 3.0   1.0   1.0"
      ]
     },
     "metadata": {},
     "output_type": "display_data"
    },
    {
     "data": {
      "text/plain": [
       "3×3 Array{Float64,2}:\n",
       " 1.0   2.0   1.0\n",
       " 0.0  -5.0   3.0\n",
       " 0.0   0.0  -8.0"
      ]
     },
     "metadata": {},
     "output_type": "display_data"
    }
   ],
   "source": [
    "k=3\n",
    "C=temp[:,k]\n",
    "pivot=C[k]\n",
    "C=C/pivot  \n",
    "R=temp[k,:]' \n",
    "L = [L C]\n",
    "U = [U;R]\n",
    "temp = temp-C*R\n",
    "display(temp)\n",
    "display(L)\n",
    "display(U);"
   ]
  },
  {
   "cell_type": "code",
   "execution_count": 46,
   "metadata": {},
   "outputs": [
    {
     "data": {
      "text/plain": [
       "true"
      ]
     },
     "execution_count": 46,
     "metadata": {},
     "output_type": "execute_result"
    }
   ],
   "source": [
    "M == L*U"
   ]
  },
  {
   "cell_type": "markdown",
   "metadata": {},
   "source": [
    "# Looping to find LU Decomposition"
   ]
  },
  {
   "cell_type": "code",
   "execution_count": 47,
   "metadata": {},
   "outputs": [
    {
     "data": {
      "text/plain": [
       "\"final answer is:\""
      ]
     },
     "metadata": {},
     "output_type": "display_data"
    },
    {
     "data": {
      "text/plain": [
       "3×3 Array{Float64,2}:\n",
       " 0.0  0.0  0.0\n",
       " 0.0  0.0  0.0\n",
       " 0.0  0.0  0.0"
      ]
     },
     "metadata": {},
     "output_type": "display_data"
    },
    {
     "data": {
      "text/plain": [
       "3×3 Array{Float64,2}:\n",
       " 1.0  -0.0  -0.0\n",
       " 1.0   1.0  -0.0\n",
       " 3.0   1.0   1.0"
      ]
     },
     "metadata": {},
     "output_type": "display_data"
    },
    {
     "data": {
      "text/plain": [
       "3×3 Array{Float64,2}:\n",
       " 1.0   2.0   1.0\n",
       " 0.0  -5.0   3.0\n",
       " 0.0   0.0  -8.0"
      ]
     },
     "metadata": {},
     "output_type": "display_data"
    }
   ],
   "source": [
    "M = [1 2 1;1 -3 4;3 1 -2];\n",
    "n,m = size(M)\n",
    "temp = copy(M)\n",
    "L = Array{Float64,2}(undef, n, 0)  \n",
    "U = Array{Float64,2}(undef, 0, n)  \n",
    "\n",
    "# code here\n",
    "\n",
    "for k = 1:n\n",
    "    C=temp[:,k]\n",
    "    pivot=C[k]\n",
    "    C=C/pivot  \n",
    "    R=temp[k,:]' \n",
    "    L = [L C]\n",
    "    U = [U;R]\n",
    "    temp = temp-C*R\n",
    "end\n",
    "\n",
    "display(\"final answer is:\")\n",
    "display(temp)\n",
    "display(L)\n",
    "display(U)"
   ]
  },
  {
   "cell_type": "code",
   "execution_count": 48,
   "metadata": {},
   "outputs": [
    {
     "data": {
      "text/plain": [
       "true"
      ]
     },
     "execution_count": 48,
     "metadata": {},
     "output_type": "execute_result"
    }
   ],
   "source": [
    "M == L*U"
   ]
  },
  {
   "cell_type": "code",
   "execution_count": null,
   "metadata": {},
   "outputs": [],
   "source": []
  }
 ],
 "metadata": {
  "kernelspec": {
   "display_name": "Julia 1.5.1",
   "language": "julia",
   "name": "julia-1.5"
  },
  "language_info": {
   "file_extension": ".jl",
   "mimetype": "application/julia",
   "name": "julia",
   "version": "1.5.1"
  }
 },
 "nbformat": 4,
 "nbformat_minor": 4
}
