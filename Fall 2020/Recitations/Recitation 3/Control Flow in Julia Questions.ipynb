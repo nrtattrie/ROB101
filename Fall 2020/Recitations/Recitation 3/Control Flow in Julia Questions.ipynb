{
 "cells": [
  {
   "cell_type": "markdown",
   "metadata": {},
   "source": [
    "# Control Flow in Julia\n",
    "\n",
    "Now that we are comfortable using Julia for declaring and manipulating variabels and Arrays, the next logical step is to learn to control the flow of these manipulations. \n",
    "\n",
    "Control Statements used in Julia are:\n",
    "\n",
    "- for loops\n",
    "- while loops\n",
    "- if-else construct\n",
    "- do while\n"
   ]
  },
  {
   "cell_type": "markdown",
   "metadata": {},
   "source": [
    "# For Loops\n",
    "\n",
    "Used when we want to repeat a process, or a segment of code.  \n",
    "\n",
    "The basic syntax is illustrated in the next cell.\n"
   ]
  },
  {
   "cell_type": "code",
   "execution_count": null,
   "metadata": {},
   "outputs": [],
   "source": [
    "# Use the keyword 'for' followed by the condition\n",
    "\n",
    "# i is called an iterator, that keeps track of the number of times the code has run\n",
    "\n",
    "#v For this problem we are simply printing the value of the iterator \n",
    "\n",
    "for i = 1:10\n",
    "    @show i\n",
    "end\n"
   ]
  },
  {
   "cell_type": "code",
   "execution_count": null,
   "metadata": {},
   "outputs": [],
   "source": [
    "# combine two loops \n",
    "\n",
    "for i = 1:4\n",
    "    for j = 2:4\n",
    "        @show i*j\n",
    "    end\n",
    "end"
   ]
  },
  {
   "cell_type": "code",
   "execution_count": null,
   "metadata": {
    "scrolled": true
   },
   "outputs": [],
   "source": [
    "for i = 1:4,j = 2:4\n",
    "    @show i*j\n",
    "end"
   ]
  },
  {
   "cell_type": "markdown",
   "metadata": {},
   "source": [
    "# Different ways to specify a range\n",
    "\n",
    "The iterator in the loop is specified as a range of valid numbers. There are different ways of building ranges in julia. \n"
   ]
  },
  {
   "cell_type": "code",
   "execution_count": null,
   "metadata": {},
   "outputs": [],
   "source": [
    "for i = 1:3:10\n",
    "    @show i\n",
    "end"
   ]
  },
  {
   "cell_type": "code",
   "execution_count": null,
   "metadata": {},
   "outputs": [],
   "source": [
    "a = UnitRange(1,10)"
   ]
  },
  {
   "cell_type": "code",
   "execution_count": null,
   "metadata": {},
   "outputs": [],
   "source": [
    "@show a.start\n",
    "@show a.stop;"
   ]
  },
  {
   "cell_type": "code",
   "execution_count": null,
   "metadata": {},
   "outputs": [],
   "source": [
    "a1 = 1:10"
   ]
  },
  {
   "cell_type": "code",
   "execution_count": null,
   "metadata": {},
   "outputs": [],
   "source": [
    "a == a1"
   ]
  },
  {
   "cell_type": "code",
   "execution_count": null,
   "metadata": {},
   "outputs": [],
   "source": [
    "@show typeof(a)\n",
    "@show typeof(a1);"
   ]
  },
  {
   "cell_type": "code",
   "execution_count": null,
   "metadata": {},
   "outputs": [],
   "source": [
    "b = LinRange(1,10,6)"
   ]
  },
  {
   "cell_type": "code",
   "execution_count": null,
   "metadata": {},
   "outputs": [],
   "source": [
    "@show b.start\n",
    "@show b.stop\n",
    "@show b.len;"
   ]
  },
  {
   "cell_type": "markdown",
   "metadata": {},
   "source": [
    "# Loops in arrays \n",
    "\n",
    "We've accessed Arrays using slices, which we now can call ranges. "
   ]
  },
  {
   "cell_type": "code",
   "execution_count": null,
   "metadata": {},
   "outputs": [],
   "source": [
    "MyArray = [1 2 3 4 5 6 7 8 9 10 11 12 13 14 15]"
   ]
  },
  {
   "cell_type": "code",
   "execution_count": null,
   "metadata": {},
   "outputs": [],
   "source": [
    "MyArray[1:10]"
   ]
  },
  {
   "cell_type": "code",
   "execution_count": null,
   "metadata": {},
   "outputs": [],
   "source": [
    "MyArray[a]"
   ]
  },
  {
   "cell_type": "code",
   "execution_count": null,
   "metadata": {},
   "outputs": [],
   "source": [
    "# Ranges are also arrays\n",
    "a[4]"
   ]
  },
  {
   "cell_type": "code",
   "execution_count": null,
   "metadata": {},
   "outputs": [],
   "source": [
    "collect(1:10)"
   ]
  },
  {
   "cell_type": "code",
   "execution_count": null,
   "metadata": {},
   "outputs": [],
   "source": [
    "comp = [i+0.1 for i in 1:5]"
   ]
  },
  {
   "cell_type": "markdown",
   "metadata": {},
   "source": [
    "# If-Else Condition \n",
    "\n",
    "When you want to run a part of your code based on a condition"
   ]
  },
  {
   "cell_type": "code",
   "execution_count": null,
   "metadata": {},
   "outputs": [],
   "source": [
    "if (a[4] == 4)\n",
    "    @show a;\n",
    "end"
   ]
  },
  {
   "cell_type": "code",
   "execution_count": null,
   "metadata": {},
   "outputs": [],
   "source": [
    "x = 10;\n",
    "y = 4;\n",
    "if(x<y)\n",
    "    println(\"x is less than y\");\n",
    "else\n",
    "    println(\"x is greater than or equal to y\")\n",
    "end"
   ]
  },
  {
   "cell_type": "markdown",
   "metadata": {},
   "source": [
    "# Logical Operator\n",
    "\n",
    "When you want to specify condition, you have to work with Logical variables, Boolean (true and false)\n",
    "\n",
    "Special oprators that can manipulate them are called Logical Operators\n",
    "\n",
    "The most commonly used logical operators are Not ```!```, And ```&&```, Or ```||```\n",
    "\n"
   ]
  },
  {
   "cell_type": "markdown",
   "metadata": {},
   "source": [
    "Not operator is unary logical operator, i.e. it only applies to a single variable. \n",
    "It function is negate a logical expression. So true becomes false and false becomes true. "
   ]
  },
  {
   "cell_type": "code",
   "execution_count": null,
   "metadata": {},
   "outputs": [],
   "source": [
    "@show !true\n",
    "@show !false\n",
    "@show !(2==2);"
   ]
  },
  {
   "cell_type": "markdown",
   "metadata": {},
   "source": [
    "The And && operator is used in expression when we need two or more evaluating conditions to be met (or be true) simultanously. Any condition that is not met is a deal-breaker and the expression evaluates to false."
   ]
  },
  {
   "cell_type": "code",
   "execution_count": null,
   "metadata": {},
   "outputs": [],
   "source": [
    "@show true&&false\n",
    "@show false&&true\n",
    "@show true&&true\n",
    "@show false&&false;"
   ]
  },
  {
   "cell_type": "markdown",
   "metadata": {},
   "source": [
    "We can have multiple expressions in this format"
   ]
  },
  {
   "cell_type": "code",
   "execution_count": null,
   "metadata": {},
   "outputs": [],
   "source": [
    "@show true&&true&&false\n",
    "@show true&&true&&true\n",
    "@show (2==2)&&(1<=1)\n",
    "@show (2>=2.0)&&(-1.0<0)&&(-1.0<-1)\n",
    "@show (2>=0)&&true;\n"
   ]
  },
  {
   "cell_type": "markdown",
   "metadata": {},
   "source": [
    "Finally, The Or || operator is used in cases when even one satifactory condition is accceptable. If we want either of the conditions specified to be true, we use Or to evaluate the final expression to a true"
   ]
  },
  {
   "cell_type": "code",
   "execution_count": null,
   "metadata": {},
   "outputs": [],
   "source": [
    "@show true||false\n",
    "@show false||true\n",
    "@show true||true\n",
    "@show false||false;"
   ]
  },
  {
   "cell_type": "markdown",
   "metadata": {},
   "source": [
    "We could chain multiple expressions this way. We would get a true value if either or the expression evaluates to true. Let's see! "
   ]
  },
  {
   "cell_type": "code",
   "execution_count": null,
   "metadata": {},
   "outputs": [],
   "source": [
    "@show (2==2)||(1<0)||(-1<0)\n",
    "@show (2.0<3) || false;"
   ]
  },
  {
   "cell_type": "markdown",
   "metadata": {},
   "source": [
    "# Most common way of combining the two flows!"
   ]
  },
  {
   "cell_type": "markdown",
   "metadata": {},
   "source": [
    "# Break in a loop\n",
    "\n",
    "Using the keyword ```break``` will stop the loop at the whatever statement it is encountered. \n",
    "\n",
    "An opposite of that is continue, but we will not discuss that one today. "
   ]
  },
  {
   "cell_type": "code",
   "execution_count": null,
   "metadata": {},
   "outputs": [],
   "source": [
    "# You want special action, on some values in a loop\n",
    "\n",
    "# Program to check if 19 is prime \n",
    "\n",
    "number = 19;\n",
    "\n",
    "# code here"
   ]
  },
  {
   "cell_type": "markdown",
   "metadata": {},
   "source": [
    "# Matrix Multiplication  using loops\n",
    "\n",
    "$A=\\left[\\begin{array}{rrr}  2 & -4 & 2  \\\\\n",
    " 3 & 4 & 8  \\end{array}\\right] B =  \\left[\\begin{array}{rr} 2 & -5 \\\\\n",
    "6 & -3  \\\\ 3 & 2\\end{array}\\right] $"
   ]
  },
  {
   "cell_type": "code",
   "execution_count": null,
   "metadata": {},
   "outputs": [],
   "source": [
    "A = [2 -4 2;3 4 8];\n",
    "B = [2 -5;6 -3;3 2];"
   ]
  },
  {
   "cell_type": "code",
   "execution_count": null,
   "metadata": {},
   "outputs": [],
   "source": [
    "# Standard multiplication\n",
    "\n",
    "# Iterate over all the indices of C\n",
    "\n",
    "C = Array{Float64,2}(undef, 2, 2);\n",
    "\n",
    "# code here\n"
   ]
  },
  {
   "cell_type": "code",
   "execution_count": null,
   "metadata": {},
   "outputs": [],
   "source": [
    "# Column wise multiplication\n",
    "\n",
    "# Run the loop k times\n",
    "\n",
    "C = zeros(2,2);\n",
    "\n",
    "# code here"
   ]
  },
  {
   "cell_type": "markdown",
   "metadata": {},
   "source": [
    "# Solving system of equations using LU decomposition \n"
   ]
  },
  {
   "cell_type": "code",
   "execution_count": null,
   "metadata": {},
   "outputs": [],
   "source": [
    "M = [1 2 1;1 -3 4;3 1 -2];\n",
    "temp=copy(M)\n",
    "n,m = size(M)\n",
    "k=1\n",
    "L = Array{Float64,2}(undef, n, 0);\n",
    "U = Array{Float64,2}(undef, 0,n);\n",
    "C=temp[:,k]\n",
    "pivot=C[k]\n",
    "C=C/pivot  \n",
    "R=temp[k,:]' \n",
    "L = [L C]\n",
    "U = [U;R]\n",
    "temp = temp-C*R\n",
    "display(temp)\n",
    "display(L)\n",
    "display(U);"
   ]
  },
  {
   "cell_type": "code",
   "execution_count": null,
   "metadata": {},
   "outputs": [],
   "source": [
    "k=2\n",
    "C=temp[:,k]\n",
    "pivot=C[k]\n",
    "C=C/pivot  \n",
    "R=temp[k,:]' \n",
    "temp = temp-C*R\n",
    "L = [L C]\n",
    "U = [U;R]\n",
    "display(temp)\n",
    "display(L)\n",
    "display(U);"
   ]
  },
  {
   "cell_type": "code",
   "execution_count": null,
   "metadata": {},
   "outputs": [],
   "source": [
    "k=3\n",
    "C=temp[:,k]\n",
    "pivot=C[k]\n",
    "C=C/pivot  \n",
    "R=temp[k,:]' \n",
    "L = [L C]\n",
    "U = [U;R]\n",
    "temp = temp-C*R\n",
    "display(temp)\n",
    "display(L)\n",
    "display(U);"
   ]
  },
  {
   "cell_type": "code",
   "execution_count": null,
   "metadata": {},
   "outputs": [],
   "source": [
    "M == L*U"
   ]
  },
  {
   "cell_type": "markdown",
   "metadata": {},
   "source": [
    "# Looping to find LU Decomposition"
   ]
  },
  {
   "cell_type": "code",
   "execution_count": null,
   "metadata": {},
   "outputs": [],
   "source": [
    "M = [1 2 1;1 -3 4;3 1 -2];\n",
    "n,m = size(M)\n",
    "temp = copy(M)\n",
    "L = Array{Float64,2}(undef, n, 0)  \n",
    "U = Array{Float64,2}(undef, 0, n)  \n",
    "\n",
    "# code here\n",
    "\n",
    "display(\"final answer is:\")\n",
    "display(L)\n",
    "display(U)"
   ]
  },
  {
   "cell_type": "code",
   "execution_count": null,
   "metadata": {},
   "outputs": [],
   "source": []
  },
  {
   "cell_type": "code",
   "execution_count": null,
   "metadata": {},
   "outputs": [],
   "source": []
  }
 ],
 "metadata": {
  "kernelspec": {
   "display_name": "JuliaPro_v1.4.2-1 1.4.2",
   "language": "julia",
   "name": "juliapro_v1.4.2-1-1.4"
  },
  "language_info": {
   "file_extension": ".jl",
   "mimetype": "application/julia",
   "name": "julia",
   "version": "1.4.2"
  }
 },
 "nbformat": 4,
 "nbformat_minor": 4
}
